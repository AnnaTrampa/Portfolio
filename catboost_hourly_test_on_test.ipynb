{
  "cells": [
    {
      "cell_type": "code",
      "source": [
        "!pip install catboost"
      ],
      "metadata": {
        "colab": {
          "base_uri": "https://localhost:8080/"
        },
        "id": "kgjGABkg8e7g",
        "outputId": "50d9c917-1209-4022-c68e-5a10d4b4a0dd"
      },
      "execution_count": 1,
      "outputs": [
        {
          "output_type": "stream",
          "name": "stdout",
          "text": [
            "Collecting catboost\n",
            "  Downloading catboost-1.2.2-cp310-cp310-manylinux2014_x86_64.whl (98.7 MB)\n",
            "\u001b[2K     \u001b[90m━━━━━━━━━━━━━━━━━━━━━━━━━━━━━━━━━━━━━━━━\u001b[0m \u001b[32m98.7/98.7 MB\u001b[0m \u001b[31m10.8 MB/s\u001b[0m eta \u001b[36m0:00:00\u001b[0m\n",
            "\u001b[?25hRequirement already satisfied: graphviz in /usr/local/lib/python3.10/dist-packages (from catboost) (0.20.1)\n",
            "Requirement already satisfied: matplotlib in /usr/local/lib/python3.10/dist-packages (from catboost) (3.7.1)\n",
            "Requirement already satisfied: numpy>=1.16.0 in /usr/local/lib/python3.10/dist-packages (from catboost) (1.23.5)\n",
            "Requirement already satisfied: pandas>=0.24 in /usr/local/lib/python3.10/dist-packages (from catboost) (1.5.3)\n",
            "Requirement already satisfied: scipy in /usr/local/lib/python3.10/dist-packages (from catboost) (1.11.3)\n",
            "Requirement already satisfied: plotly in /usr/local/lib/python3.10/dist-packages (from catboost) (5.15.0)\n",
            "Requirement already satisfied: six in /usr/local/lib/python3.10/dist-packages (from catboost) (1.16.0)\n",
            "Requirement already satisfied: python-dateutil>=2.8.1 in /usr/local/lib/python3.10/dist-packages (from pandas>=0.24->catboost) (2.8.2)\n",
            "Requirement already satisfied: pytz>=2020.1 in /usr/local/lib/python3.10/dist-packages (from pandas>=0.24->catboost) (2023.3.post1)\n",
            "Requirement already satisfied: contourpy>=1.0.1 in /usr/local/lib/python3.10/dist-packages (from matplotlib->catboost) (1.1.1)\n",
            "Requirement already satisfied: cycler>=0.10 in /usr/local/lib/python3.10/dist-packages (from matplotlib->catboost) (0.12.1)\n",
            "Requirement already satisfied: fonttools>=4.22.0 in /usr/local/lib/python3.10/dist-packages (from matplotlib->catboost) (4.43.1)\n",
            "Requirement already satisfied: kiwisolver>=1.0.1 in /usr/local/lib/python3.10/dist-packages (from matplotlib->catboost) (1.4.5)\n",
            "Requirement already satisfied: packaging>=20.0 in /usr/local/lib/python3.10/dist-packages (from matplotlib->catboost) (23.2)\n",
            "Requirement already satisfied: pillow>=6.2.0 in /usr/local/lib/python3.10/dist-packages (from matplotlib->catboost) (9.4.0)\n",
            "Requirement already satisfied: pyparsing>=2.3.1 in /usr/local/lib/python3.10/dist-packages (from matplotlib->catboost) (3.1.1)\n",
            "Requirement already satisfied: tenacity>=6.2.0 in /usr/local/lib/python3.10/dist-packages (from plotly->catboost) (8.2.3)\n",
            "Installing collected packages: catboost\n",
            "Successfully installed catboost-1.2.2\n"
          ]
        }
      ]
    },
    {
      "cell_type": "code",
      "execution_count": 2,
      "metadata": {
        "id": "l49ARg__8Rhm"
      },
      "outputs": [],
      "source": [
        "# Импортируем библиотеки\n",
        "import pandas as pd\n",
        "import numpy as np\n",
        "import matplotlib.pyplot as plt\n",
        "import seaborn as sns\n",
        "\n",
        "from statsmodels.tsa.seasonal import seasonal_decompose\n",
        "\n",
        "from sklearn.model_selection import train_test_split, TimeSeriesSplit\n",
        "from sklearn.metrics import mean_absolute_error\n",
        "from sklearn.preprocessing import OneHotEncoder, StandardScaler\n",
        "\n",
        "from catboost import CatBoostRegressor, Pool\n",
        "\n",
        "\n",
        "import warnings; warnings.filterwarnings('ignore')"
      ]
    },
    {
      "cell_type": "code",
      "source": [
        "from google.colab import drive\n",
        "drive.mount('/content/drive')"
      ],
      "metadata": {
        "colab": {
          "base_uri": "https://localhost:8080/"
        },
        "id": "3dSsLixN9DZd",
        "outputId": "36b3656e-0af2-43a7-f989-01b346484c52"
      },
      "execution_count": 3,
      "outputs": [
        {
          "output_type": "stream",
          "name": "stdout",
          "text": [
            "Mounted at /content/drive\n"
          ]
        }
      ]
    },
    {
      "cell_type": "code",
      "execution_count": 5,
      "metadata": {
        "id": "mF_kjC4M8Rhp"
      },
      "outputs": [],
      "source": [
        "# Открываем файл\n",
        "try:\n",
        "    train_df = pd.read_csv('train_dataset.csv')\n",
        "except:\n",
        "    train_df = pd.read_csv('/content/drive/MyDrive/GglowByte_Hackaton/train_dataset.csv')\n",
        "\n",
        "try:\n",
        "    test_df = pd.read_csv('test_dataset.csv')\n",
        "except:\n",
        "    test_df = pd.read_csv('/content/drive/MyDrive/GglowByte_Hackaton/test_dataset.csv')"
      ]
    },
    {
      "cell_type": "code",
      "source": [
        "train_df['date'] = pd.to_datetime(train_df['date']).dt.normalize()\n",
        "df = pd.concat([train_df, test_df])[['date', 'time', 'target', 'temp_pred', 'weather_pred', 'temp']]"
      ],
      "metadata": {
        "id": "Fo2JD1RB9txP"
      },
      "execution_count": 6,
      "outputs": []
    },
    {
      "cell_type": "code",
      "execution_count": 7,
      "metadata": {
        "colab": {
          "base_uri": "https://localhost:8080/"
        },
        "id": "nMJ19RRE8Rhq",
        "outputId": "d80b94c9-cdaa-491d-98d2-872328e0b62d"
      },
      "outputs": [
        {
          "output_type": "execute_result",
          "data": {
            "text/plain": [
              "(40152, 6)"
            ]
          },
          "metadata": {},
          "execution_count": 7
        }
      ],
      "source": [
        "df.shape"
      ]
    },
    {
      "cell_type": "code",
      "execution_count": 8,
      "metadata": {
        "id": "GMGpsmdZ8Rhq"
      },
      "outputs": [],
      "source": [
        "#add features of day-of-week, day-of-month, week, month, season\n",
        "df['date'] = pd.to_datetime(df['date']).dt.normalize()\n",
        "df['dow'] = df['date'].dt.dayofweek\n",
        "df['day'] = df['date'].dt.day\n",
        "df['week'] = df['date'].dt.isocalendar().week.astype('int32')\n",
        "df['month'] = df['date'].dt.month\n",
        "df['season'] = df['date'].dt.quarter\n",
        "df['year'] = df['date'].dt.year"
      ]
    },
    {
      "cell_type": "code",
      "execution_count": 9,
      "metadata": {
        "colab": {
          "base_uri": "https://localhost:8080/",
          "height": 342
        },
        "id": "s8_4-Y868Rhq",
        "outputId": "151f718f-7cd9-4e56-bbd6-51e1499f3721"
      },
      "outputs": [
        {
          "output_type": "execute_result",
          "data": {
            "text/plain": [
              "        date  time   target  temp_pred weather_pred  temp  dow  day  week  \\\n",
              "0 2019-01-01     0  481.510        2.0  пасм, ветер   2.9    1    1     1   \n",
              "1 2019-01-01     1  462.872        2.0  пасм, ветер   2.9    1    1     1   \n",
              "2 2019-01-01     2  449.718        2.0  пасм, ветер   2.9    1    1     1   \n",
              "3 2019-01-01     3  430.908        2.0  пасм, ветер   4.3    1    1     1   \n",
              "4 2019-01-01     4  415.163        2.0  пасм, ветер   4.3    1    1     1   \n",
              "\n",
              "   month  ...  target_lag_12  target_lag_13  target_lag_14  target_lag_15  \\\n",
              "0      1  ...            NaN            NaN            NaN            NaN   \n",
              "1      1  ...            NaN            NaN            NaN            NaN   \n",
              "2      1  ...            NaN            NaN            NaN            NaN   \n",
              "3      1  ...            NaN            NaN            NaN            NaN   \n",
              "4      1  ...            NaN            NaN            NaN            NaN   \n",
              "\n",
              "   target_lag_16  target_lag_17  target_lag_18  target_lag_19  target_lag_20  \\\n",
              "0            NaN            NaN            NaN            NaN            NaN   \n",
              "1            NaN            NaN            NaN            NaN            NaN   \n",
              "2            NaN            NaN            NaN            NaN            NaN   \n",
              "3            NaN            NaN            NaN            NaN            NaN   \n",
              "4            NaN            NaN            NaN            NaN            NaN   \n",
              "\n",
              "   target_lag_21  \n",
              "0            NaN  \n",
              "1            NaN  \n",
              "2            NaN  \n",
              "3            NaN  \n",
              "4            NaN  \n",
              "\n",
              "[5 rows x 33 columns]"
            ],
            "text/html": [
              "\n",
              "  <div id=\"df-13daf157-c8a4-4fb2-ab50-b288e4c144af\" class=\"colab-df-container\">\n",
              "    <div>\n",
              "<style scoped>\n",
              "    .dataframe tbody tr th:only-of-type {\n",
              "        vertical-align: middle;\n",
              "    }\n",
              "\n",
              "    .dataframe tbody tr th {\n",
              "        vertical-align: top;\n",
              "    }\n",
              "\n",
              "    .dataframe thead th {\n",
              "        text-align: right;\n",
              "    }\n",
              "</style>\n",
              "<table border=\"1\" class=\"dataframe\">\n",
              "  <thead>\n",
              "    <tr style=\"text-align: right;\">\n",
              "      <th></th>\n",
              "      <th>date</th>\n",
              "      <th>time</th>\n",
              "      <th>target</th>\n",
              "      <th>temp_pred</th>\n",
              "      <th>weather_pred</th>\n",
              "      <th>temp</th>\n",
              "      <th>dow</th>\n",
              "      <th>day</th>\n",
              "      <th>week</th>\n",
              "      <th>month</th>\n",
              "      <th>...</th>\n",
              "      <th>target_lag_12</th>\n",
              "      <th>target_lag_13</th>\n",
              "      <th>target_lag_14</th>\n",
              "      <th>target_lag_15</th>\n",
              "      <th>target_lag_16</th>\n",
              "      <th>target_lag_17</th>\n",
              "      <th>target_lag_18</th>\n",
              "      <th>target_lag_19</th>\n",
              "      <th>target_lag_20</th>\n",
              "      <th>target_lag_21</th>\n",
              "    </tr>\n",
              "  </thead>\n",
              "  <tbody>\n",
              "    <tr>\n",
              "      <th>0</th>\n",
              "      <td>2019-01-01</td>\n",
              "      <td>0</td>\n",
              "      <td>481.510</td>\n",
              "      <td>2.0</td>\n",
              "      <td>пасм, ветер</td>\n",
              "      <td>2.9</td>\n",
              "      <td>1</td>\n",
              "      <td>1</td>\n",
              "      <td>1</td>\n",
              "      <td>1</td>\n",
              "      <td>...</td>\n",
              "      <td>NaN</td>\n",
              "      <td>NaN</td>\n",
              "      <td>NaN</td>\n",
              "      <td>NaN</td>\n",
              "      <td>NaN</td>\n",
              "      <td>NaN</td>\n",
              "      <td>NaN</td>\n",
              "      <td>NaN</td>\n",
              "      <td>NaN</td>\n",
              "      <td>NaN</td>\n",
              "    </tr>\n",
              "    <tr>\n",
              "      <th>1</th>\n",
              "      <td>2019-01-01</td>\n",
              "      <td>1</td>\n",
              "      <td>462.872</td>\n",
              "      <td>2.0</td>\n",
              "      <td>пасм, ветер</td>\n",
              "      <td>2.9</td>\n",
              "      <td>1</td>\n",
              "      <td>1</td>\n",
              "      <td>1</td>\n",
              "      <td>1</td>\n",
              "      <td>...</td>\n",
              "      <td>NaN</td>\n",
              "      <td>NaN</td>\n",
              "      <td>NaN</td>\n",
              "      <td>NaN</td>\n",
              "      <td>NaN</td>\n",
              "      <td>NaN</td>\n",
              "      <td>NaN</td>\n",
              "      <td>NaN</td>\n",
              "      <td>NaN</td>\n",
              "      <td>NaN</td>\n",
              "    </tr>\n",
              "    <tr>\n",
              "      <th>2</th>\n",
              "      <td>2019-01-01</td>\n",
              "      <td>2</td>\n",
              "      <td>449.718</td>\n",
              "      <td>2.0</td>\n",
              "      <td>пасм, ветер</td>\n",
              "      <td>2.9</td>\n",
              "      <td>1</td>\n",
              "      <td>1</td>\n",
              "      <td>1</td>\n",
              "      <td>1</td>\n",
              "      <td>...</td>\n",
              "      <td>NaN</td>\n",
              "      <td>NaN</td>\n",
              "      <td>NaN</td>\n",
              "      <td>NaN</td>\n",
              "      <td>NaN</td>\n",
              "      <td>NaN</td>\n",
              "      <td>NaN</td>\n",
              "      <td>NaN</td>\n",
              "      <td>NaN</td>\n",
              "      <td>NaN</td>\n",
              "    </tr>\n",
              "    <tr>\n",
              "      <th>3</th>\n",
              "      <td>2019-01-01</td>\n",
              "      <td>3</td>\n",
              "      <td>430.908</td>\n",
              "      <td>2.0</td>\n",
              "      <td>пасм, ветер</td>\n",
              "      <td>4.3</td>\n",
              "      <td>1</td>\n",
              "      <td>1</td>\n",
              "      <td>1</td>\n",
              "      <td>1</td>\n",
              "      <td>...</td>\n",
              "      <td>NaN</td>\n",
              "      <td>NaN</td>\n",
              "      <td>NaN</td>\n",
              "      <td>NaN</td>\n",
              "      <td>NaN</td>\n",
              "      <td>NaN</td>\n",
              "      <td>NaN</td>\n",
              "      <td>NaN</td>\n",
              "      <td>NaN</td>\n",
              "      <td>NaN</td>\n",
              "    </tr>\n",
              "    <tr>\n",
              "      <th>4</th>\n",
              "      <td>2019-01-01</td>\n",
              "      <td>4</td>\n",
              "      <td>415.163</td>\n",
              "      <td>2.0</td>\n",
              "      <td>пасм, ветер</td>\n",
              "      <td>4.3</td>\n",
              "      <td>1</td>\n",
              "      <td>1</td>\n",
              "      <td>1</td>\n",
              "      <td>1</td>\n",
              "      <td>...</td>\n",
              "      <td>NaN</td>\n",
              "      <td>NaN</td>\n",
              "      <td>NaN</td>\n",
              "      <td>NaN</td>\n",
              "      <td>NaN</td>\n",
              "      <td>NaN</td>\n",
              "      <td>NaN</td>\n",
              "      <td>NaN</td>\n",
              "      <td>NaN</td>\n",
              "      <td>NaN</td>\n",
              "    </tr>\n",
              "  </tbody>\n",
              "</table>\n",
              "<p>5 rows × 33 columns</p>\n",
              "</div>\n",
              "    <div class=\"colab-df-buttons\">\n",
              "\n",
              "  <div class=\"colab-df-container\">\n",
              "    <button class=\"colab-df-convert\" onclick=\"convertToInteractive('df-13daf157-c8a4-4fb2-ab50-b288e4c144af')\"\n",
              "            title=\"Convert this dataframe to an interactive table.\"\n",
              "            style=\"display:none;\">\n",
              "\n",
              "  <svg xmlns=\"http://www.w3.org/2000/svg\" height=\"24px\" viewBox=\"0 -960 960 960\">\n",
              "    <path d=\"M120-120v-720h720v720H120Zm60-500h600v-160H180v160Zm220 220h160v-160H400v160Zm0 220h160v-160H400v160ZM180-400h160v-160H180v160Zm440 0h160v-160H620v160ZM180-180h160v-160H180v160Zm440 0h160v-160H620v160Z\"/>\n",
              "  </svg>\n",
              "    </button>\n",
              "\n",
              "  <style>\n",
              "    .colab-df-container {\n",
              "      display:flex;\n",
              "      gap: 12px;\n",
              "    }\n",
              "\n",
              "    .colab-df-convert {\n",
              "      background-color: #E8F0FE;\n",
              "      border: none;\n",
              "      border-radius: 50%;\n",
              "      cursor: pointer;\n",
              "      display: none;\n",
              "      fill: #1967D2;\n",
              "      height: 32px;\n",
              "      padding: 0 0 0 0;\n",
              "      width: 32px;\n",
              "    }\n",
              "\n",
              "    .colab-df-convert:hover {\n",
              "      background-color: #E2EBFA;\n",
              "      box-shadow: 0px 1px 2px rgba(60, 64, 67, 0.3), 0px 1px 3px 1px rgba(60, 64, 67, 0.15);\n",
              "      fill: #174EA6;\n",
              "    }\n",
              "\n",
              "    .colab-df-buttons div {\n",
              "      margin-bottom: 4px;\n",
              "    }\n",
              "\n",
              "    [theme=dark] .colab-df-convert {\n",
              "      background-color: #3B4455;\n",
              "      fill: #D2E3FC;\n",
              "    }\n",
              "\n",
              "    [theme=dark] .colab-df-convert:hover {\n",
              "      background-color: #434B5C;\n",
              "      box-shadow: 0px 1px 3px 1px rgba(0, 0, 0, 0.15);\n",
              "      filter: drop-shadow(0px 1px 2px rgba(0, 0, 0, 0.3));\n",
              "      fill: #FFFFFF;\n",
              "    }\n",
              "  </style>\n",
              "\n",
              "    <script>\n",
              "      const buttonEl =\n",
              "        document.querySelector('#df-13daf157-c8a4-4fb2-ab50-b288e4c144af button.colab-df-convert');\n",
              "      buttonEl.style.display =\n",
              "        google.colab.kernel.accessAllowed ? 'block' : 'none';\n",
              "\n",
              "      async function convertToInteractive(key) {\n",
              "        const element = document.querySelector('#df-13daf157-c8a4-4fb2-ab50-b288e4c144af');\n",
              "        const dataTable =\n",
              "          await google.colab.kernel.invokeFunction('convertToInteractive',\n",
              "                                                    [key], {});\n",
              "        if (!dataTable) return;\n",
              "\n",
              "        const docLinkHtml = 'Like what you see? Visit the ' +\n",
              "          '<a target=\"_blank\" href=https://colab.research.google.com/notebooks/data_table.ipynb>data table notebook</a>'\n",
              "          + ' to learn more about interactive tables.';\n",
              "        element.innerHTML = '';\n",
              "        dataTable['output_type'] = 'display_data';\n",
              "        await google.colab.output.renderOutput(dataTable, element);\n",
              "        const docLink = document.createElement('div');\n",
              "        docLink.innerHTML = docLinkHtml;\n",
              "        element.appendChild(docLink);\n",
              "      }\n",
              "    </script>\n",
              "  </div>\n",
              "\n",
              "\n",
              "<div id=\"df-4bf40818-6a36-4b8f-bcf9-e6273d712fbc\">\n",
              "  <button class=\"colab-df-quickchart\" onclick=\"quickchart('df-4bf40818-6a36-4b8f-bcf9-e6273d712fbc')\"\n",
              "            title=\"Suggest charts.\"\n",
              "            style=\"display:none;\">\n",
              "\n",
              "<svg xmlns=\"http://www.w3.org/2000/svg\" height=\"24px\"viewBox=\"0 0 24 24\"\n",
              "     width=\"24px\">\n",
              "    <g>\n",
              "        <path d=\"M19 3H5c-1.1 0-2 .9-2 2v14c0 1.1.9 2 2 2h14c1.1 0 2-.9 2-2V5c0-1.1-.9-2-2-2zM9 17H7v-7h2v7zm4 0h-2V7h2v10zm4 0h-2v-4h2v4z\"/>\n",
              "    </g>\n",
              "</svg>\n",
              "  </button>\n",
              "\n",
              "<style>\n",
              "  .colab-df-quickchart {\n",
              "      --bg-color: #E8F0FE;\n",
              "      --fill-color: #1967D2;\n",
              "      --hover-bg-color: #E2EBFA;\n",
              "      --hover-fill-color: #174EA6;\n",
              "      --disabled-fill-color: #AAA;\n",
              "      --disabled-bg-color: #DDD;\n",
              "  }\n",
              "\n",
              "  [theme=dark] .colab-df-quickchart {\n",
              "      --bg-color: #3B4455;\n",
              "      --fill-color: #D2E3FC;\n",
              "      --hover-bg-color: #434B5C;\n",
              "      --hover-fill-color: #FFFFFF;\n",
              "      --disabled-bg-color: #3B4455;\n",
              "      --disabled-fill-color: #666;\n",
              "  }\n",
              "\n",
              "  .colab-df-quickchart {\n",
              "    background-color: var(--bg-color);\n",
              "    border: none;\n",
              "    border-radius: 50%;\n",
              "    cursor: pointer;\n",
              "    display: none;\n",
              "    fill: var(--fill-color);\n",
              "    height: 32px;\n",
              "    padding: 0;\n",
              "    width: 32px;\n",
              "  }\n",
              "\n",
              "  .colab-df-quickchart:hover {\n",
              "    background-color: var(--hover-bg-color);\n",
              "    box-shadow: 0 1px 2px rgba(60, 64, 67, 0.3), 0 1px 3px 1px rgba(60, 64, 67, 0.15);\n",
              "    fill: var(--button-hover-fill-color);\n",
              "  }\n",
              "\n",
              "  .colab-df-quickchart-complete:disabled,\n",
              "  .colab-df-quickchart-complete:disabled:hover {\n",
              "    background-color: var(--disabled-bg-color);\n",
              "    fill: var(--disabled-fill-color);\n",
              "    box-shadow: none;\n",
              "  }\n",
              "\n",
              "  .colab-df-spinner {\n",
              "    border: 2px solid var(--fill-color);\n",
              "    border-color: transparent;\n",
              "    border-bottom-color: var(--fill-color);\n",
              "    animation:\n",
              "      spin 1s steps(1) infinite;\n",
              "  }\n",
              "\n",
              "  @keyframes spin {\n",
              "    0% {\n",
              "      border-color: transparent;\n",
              "      border-bottom-color: var(--fill-color);\n",
              "      border-left-color: var(--fill-color);\n",
              "    }\n",
              "    20% {\n",
              "      border-color: transparent;\n",
              "      border-left-color: var(--fill-color);\n",
              "      border-top-color: var(--fill-color);\n",
              "    }\n",
              "    30% {\n",
              "      border-color: transparent;\n",
              "      border-left-color: var(--fill-color);\n",
              "      border-top-color: var(--fill-color);\n",
              "      border-right-color: var(--fill-color);\n",
              "    }\n",
              "    40% {\n",
              "      border-color: transparent;\n",
              "      border-right-color: var(--fill-color);\n",
              "      border-top-color: var(--fill-color);\n",
              "    }\n",
              "    60% {\n",
              "      border-color: transparent;\n",
              "      border-right-color: var(--fill-color);\n",
              "    }\n",
              "    80% {\n",
              "      border-color: transparent;\n",
              "      border-right-color: var(--fill-color);\n",
              "      border-bottom-color: var(--fill-color);\n",
              "    }\n",
              "    90% {\n",
              "      border-color: transparent;\n",
              "      border-bottom-color: var(--fill-color);\n",
              "    }\n",
              "  }\n",
              "</style>\n",
              "\n",
              "  <script>\n",
              "    async function quickchart(key) {\n",
              "      const quickchartButtonEl =\n",
              "        document.querySelector('#' + key + ' button');\n",
              "      quickchartButtonEl.disabled = true;  // To prevent multiple clicks.\n",
              "      quickchartButtonEl.classList.add('colab-df-spinner');\n",
              "      try {\n",
              "        const charts = await google.colab.kernel.invokeFunction(\n",
              "            'suggestCharts', [key], {});\n",
              "      } catch (error) {\n",
              "        console.error('Error during call to suggestCharts:', error);\n",
              "      }\n",
              "      quickchartButtonEl.classList.remove('colab-df-spinner');\n",
              "      quickchartButtonEl.classList.add('colab-df-quickchart-complete');\n",
              "    }\n",
              "    (() => {\n",
              "      let quickchartButtonEl =\n",
              "        document.querySelector('#df-4bf40818-6a36-4b8f-bcf9-e6273d712fbc button');\n",
              "      quickchartButtonEl.style.display =\n",
              "        google.colab.kernel.accessAllowed ? 'block' : 'none';\n",
              "    })();\n",
              "  </script>\n",
              "</div>\n",
              "    </div>\n",
              "  </div>\n"
            ]
          },
          "metadata": {},
          "execution_count": 9
        }
      ],
      "source": [
        "#add lag columns\n",
        "shifted = df.copy()\n",
        "\n",
        "for i in range(24, (24*21+1), 24):\n",
        "    shifted[f'target_lag_{int(i/24)}'] = shifted['target'].shift(i)\n",
        "shifted.head()"
      ]
    },
    {
      "cell_type": "code",
      "execution_count": 10,
      "metadata": {
        "colab": {
          "base_uri": "https://localhost:8080/",
          "height": 342
        },
        "id": "7GvDPHOt8Rhr",
        "outputId": "853402ac-aa87-4a10-c04a-1df9a3b7a043"
      },
      "outputs": [
        {
          "output_type": "execute_result",
          "data": {
            "text/plain": [
              "        date  time   target  temp_pred weather_pred  temp  dow  day  week  \\\n",
              "0 2019-01-01     0  481.510        2.0  пасм, ветер   2.9    1    1     1   \n",
              "1 2019-01-01     1  462.872        2.0  пасм, ветер   2.9    1    1     1   \n",
              "2 2019-01-01     2  449.718        2.0  пасм, ветер   2.9    1    1     1   \n",
              "3 2019-01-01     3  430.908        2.0  пасм, ветер   4.3    1    1     1   \n",
              "4 2019-01-01     4  415.163        2.0  пасм, ветер   4.3    1    1     1   \n",
              "\n",
              "   month  ...  target_lag_17  target_lag_18  target_lag_19  target_lag_20  \\\n",
              "0      1  ...            NaN            NaN            NaN            NaN   \n",
              "1      1  ...            NaN            NaN            NaN            NaN   \n",
              "2      1  ...            NaN            NaN            NaN            NaN   \n",
              "3      1  ...            NaN            NaN            NaN            NaN   \n",
              "4      1  ...            NaN            NaN            NaN            NaN   \n",
              "\n",
              "   target_lag_21  temp_lag_1  temp_lag_2  temp_lag_3  temp_lag_4  diff_temp  \n",
              "0            NaN         NaN         NaN         NaN         NaN        NaN  \n",
              "1            NaN         NaN         NaN         NaN         NaN        NaN  \n",
              "2            NaN         NaN         NaN         NaN         NaN        NaN  \n",
              "3            NaN         NaN         NaN         NaN         NaN        NaN  \n",
              "4            NaN         NaN         NaN         NaN         NaN        NaN  \n",
              "\n",
              "[5 rows x 38 columns]"
            ],
            "text/html": [
              "\n",
              "  <div id=\"df-03e590c0-bae3-4b6b-99a2-52863850de08\" class=\"colab-df-container\">\n",
              "    <div>\n",
              "<style scoped>\n",
              "    .dataframe tbody tr th:only-of-type {\n",
              "        vertical-align: middle;\n",
              "    }\n",
              "\n",
              "    .dataframe tbody tr th {\n",
              "        vertical-align: top;\n",
              "    }\n",
              "\n",
              "    .dataframe thead th {\n",
              "        text-align: right;\n",
              "    }\n",
              "</style>\n",
              "<table border=\"1\" class=\"dataframe\">\n",
              "  <thead>\n",
              "    <tr style=\"text-align: right;\">\n",
              "      <th></th>\n",
              "      <th>date</th>\n",
              "      <th>time</th>\n",
              "      <th>target</th>\n",
              "      <th>temp_pred</th>\n",
              "      <th>weather_pred</th>\n",
              "      <th>temp</th>\n",
              "      <th>dow</th>\n",
              "      <th>day</th>\n",
              "      <th>week</th>\n",
              "      <th>month</th>\n",
              "      <th>...</th>\n",
              "      <th>target_lag_17</th>\n",
              "      <th>target_lag_18</th>\n",
              "      <th>target_lag_19</th>\n",
              "      <th>target_lag_20</th>\n",
              "      <th>target_lag_21</th>\n",
              "      <th>temp_lag_1</th>\n",
              "      <th>temp_lag_2</th>\n",
              "      <th>temp_lag_3</th>\n",
              "      <th>temp_lag_4</th>\n",
              "      <th>diff_temp</th>\n",
              "    </tr>\n",
              "  </thead>\n",
              "  <tbody>\n",
              "    <tr>\n",
              "      <th>0</th>\n",
              "      <td>2019-01-01</td>\n",
              "      <td>0</td>\n",
              "      <td>481.510</td>\n",
              "      <td>2.0</td>\n",
              "      <td>пасм, ветер</td>\n",
              "      <td>2.9</td>\n",
              "      <td>1</td>\n",
              "      <td>1</td>\n",
              "      <td>1</td>\n",
              "      <td>1</td>\n",
              "      <td>...</td>\n",
              "      <td>NaN</td>\n",
              "      <td>NaN</td>\n",
              "      <td>NaN</td>\n",
              "      <td>NaN</td>\n",
              "      <td>NaN</td>\n",
              "      <td>NaN</td>\n",
              "      <td>NaN</td>\n",
              "      <td>NaN</td>\n",
              "      <td>NaN</td>\n",
              "      <td>NaN</td>\n",
              "    </tr>\n",
              "    <tr>\n",
              "      <th>1</th>\n",
              "      <td>2019-01-01</td>\n",
              "      <td>1</td>\n",
              "      <td>462.872</td>\n",
              "      <td>2.0</td>\n",
              "      <td>пасм, ветер</td>\n",
              "      <td>2.9</td>\n",
              "      <td>1</td>\n",
              "      <td>1</td>\n",
              "      <td>1</td>\n",
              "      <td>1</td>\n",
              "      <td>...</td>\n",
              "      <td>NaN</td>\n",
              "      <td>NaN</td>\n",
              "      <td>NaN</td>\n",
              "      <td>NaN</td>\n",
              "      <td>NaN</td>\n",
              "      <td>NaN</td>\n",
              "      <td>NaN</td>\n",
              "      <td>NaN</td>\n",
              "      <td>NaN</td>\n",
              "      <td>NaN</td>\n",
              "    </tr>\n",
              "    <tr>\n",
              "      <th>2</th>\n",
              "      <td>2019-01-01</td>\n",
              "      <td>2</td>\n",
              "      <td>449.718</td>\n",
              "      <td>2.0</td>\n",
              "      <td>пасм, ветер</td>\n",
              "      <td>2.9</td>\n",
              "      <td>1</td>\n",
              "      <td>1</td>\n",
              "      <td>1</td>\n",
              "      <td>1</td>\n",
              "      <td>...</td>\n",
              "      <td>NaN</td>\n",
              "      <td>NaN</td>\n",
              "      <td>NaN</td>\n",
              "      <td>NaN</td>\n",
              "      <td>NaN</td>\n",
              "      <td>NaN</td>\n",
              "      <td>NaN</td>\n",
              "      <td>NaN</td>\n",
              "      <td>NaN</td>\n",
              "      <td>NaN</td>\n",
              "    </tr>\n",
              "    <tr>\n",
              "      <th>3</th>\n",
              "      <td>2019-01-01</td>\n",
              "      <td>3</td>\n",
              "      <td>430.908</td>\n",
              "      <td>2.0</td>\n",
              "      <td>пасм, ветер</td>\n",
              "      <td>4.3</td>\n",
              "      <td>1</td>\n",
              "      <td>1</td>\n",
              "      <td>1</td>\n",
              "      <td>1</td>\n",
              "      <td>...</td>\n",
              "      <td>NaN</td>\n",
              "      <td>NaN</td>\n",
              "      <td>NaN</td>\n",
              "      <td>NaN</td>\n",
              "      <td>NaN</td>\n",
              "      <td>NaN</td>\n",
              "      <td>NaN</td>\n",
              "      <td>NaN</td>\n",
              "      <td>NaN</td>\n",
              "      <td>NaN</td>\n",
              "    </tr>\n",
              "    <tr>\n",
              "      <th>4</th>\n",
              "      <td>2019-01-01</td>\n",
              "      <td>4</td>\n",
              "      <td>415.163</td>\n",
              "      <td>2.0</td>\n",
              "      <td>пасм, ветер</td>\n",
              "      <td>4.3</td>\n",
              "      <td>1</td>\n",
              "      <td>1</td>\n",
              "      <td>1</td>\n",
              "      <td>1</td>\n",
              "      <td>...</td>\n",
              "      <td>NaN</td>\n",
              "      <td>NaN</td>\n",
              "      <td>NaN</td>\n",
              "      <td>NaN</td>\n",
              "      <td>NaN</td>\n",
              "      <td>NaN</td>\n",
              "      <td>NaN</td>\n",
              "      <td>NaN</td>\n",
              "      <td>NaN</td>\n",
              "      <td>NaN</td>\n",
              "    </tr>\n",
              "  </tbody>\n",
              "</table>\n",
              "<p>5 rows × 38 columns</p>\n",
              "</div>\n",
              "    <div class=\"colab-df-buttons\">\n",
              "\n",
              "  <div class=\"colab-df-container\">\n",
              "    <button class=\"colab-df-convert\" onclick=\"convertToInteractive('df-03e590c0-bae3-4b6b-99a2-52863850de08')\"\n",
              "            title=\"Convert this dataframe to an interactive table.\"\n",
              "            style=\"display:none;\">\n",
              "\n",
              "  <svg xmlns=\"http://www.w3.org/2000/svg\" height=\"24px\" viewBox=\"0 -960 960 960\">\n",
              "    <path d=\"M120-120v-720h720v720H120Zm60-500h600v-160H180v160Zm220 220h160v-160H400v160Zm0 220h160v-160H400v160ZM180-400h160v-160H180v160Zm440 0h160v-160H620v160ZM180-180h160v-160H180v160Zm440 0h160v-160H620v160Z\"/>\n",
              "  </svg>\n",
              "    </button>\n",
              "\n",
              "  <style>\n",
              "    .colab-df-container {\n",
              "      display:flex;\n",
              "      gap: 12px;\n",
              "    }\n",
              "\n",
              "    .colab-df-convert {\n",
              "      background-color: #E8F0FE;\n",
              "      border: none;\n",
              "      border-radius: 50%;\n",
              "      cursor: pointer;\n",
              "      display: none;\n",
              "      fill: #1967D2;\n",
              "      height: 32px;\n",
              "      padding: 0 0 0 0;\n",
              "      width: 32px;\n",
              "    }\n",
              "\n",
              "    .colab-df-convert:hover {\n",
              "      background-color: #E2EBFA;\n",
              "      box-shadow: 0px 1px 2px rgba(60, 64, 67, 0.3), 0px 1px 3px 1px rgba(60, 64, 67, 0.15);\n",
              "      fill: #174EA6;\n",
              "    }\n",
              "\n",
              "    .colab-df-buttons div {\n",
              "      margin-bottom: 4px;\n",
              "    }\n",
              "\n",
              "    [theme=dark] .colab-df-convert {\n",
              "      background-color: #3B4455;\n",
              "      fill: #D2E3FC;\n",
              "    }\n",
              "\n",
              "    [theme=dark] .colab-df-convert:hover {\n",
              "      background-color: #434B5C;\n",
              "      box-shadow: 0px 1px 3px 1px rgba(0, 0, 0, 0.15);\n",
              "      filter: drop-shadow(0px 1px 2px rgba(0, 0, 0, 0.3));\n",
              "      fill: #FFFFFF;\n",
              "    }\n",
              "  </style>\n",
              "\n",
              "    <script>\n",
              "      const buttonEl =\n",
              "        document.querySelector('#df-03e590c0-bae3-4b6b-99a2-52863850de08 button.colab-df-convert');\n",
              "      buttonEl.style.display =\n",
              "        google.colab.kernel.accessAllowed ? 'block' : 'none';\n",
              "\n",
              "      async function convertToInteractive(key) {\n",
              "        const element = document.querySelector('#df-03e590c0-bae3-4b6b-99a2-52863850de08');\n",
              "        const dataTable =\n",
              "          await google.colab.kernel.invokeFunction('convertToInteractive',\n",
              "                                                    [key], {});\n",
              "        if (!dataTable) return;\n",
              "\n",
              "        const docLinkHtml = 'Like what you see? Visit the ' +\n",
              "          '<a target=\"_blank\" href=https://colab.research.google.com/notebooks/data_table.ipynb>data table notebook</a>'\n",
              "          + ' to learn more about interactive tables.';\n",
              "        element.innerHTML = '';\n",
              "        dataTable['output_type'] = 'display_data';\n",
              "        await google.colab.output.renderOutput(dataTable, element);\n",
              "        const docLink = document.createElement('div');\n",
              "        docLink.innerHTML = docLinkHtml;\n",
              "        element.appendChild(docLink);\n",
              "      }\n",
              "    </script>\n",
              "  </div>\n",
              "\n",
              "\n",
              "<div id=\"df-391e5f6c-45f5-4be3-b41a-555be0ab2812\">\n",
              "  <button class=\"colab-df-quickchart\" onclick=\"quickchart('df-391e5f6c-45f5-4be3-b41a-555be0ab2812')\"\n",
              "            title=\"Suggest charts.\"\n",
              "            style=\"display:none;\">\n",
              "\n",
              "<svg xmlns=\"http://www.w3.org/2000/svg\" height=\"24px\"viewBox=\"0 0 24 24\"\n",
              "     width=\"24px\">\n",
              "    <g>\n",
              "        <path d=\"M19 3H5c-1.1 0-2 .9-2 2v14c0 1.1.9 2 2 2h14c1.1 0 2-.9 2-2V5c0-1.1-.9-2-2-2zM9 17H7v-7h2v7zm4 0h-2V7h2v10zm4 0h-2v-4h2v4z\"/>\n",
              "    </g>\n",
              "</svg>\n",
              "  </button>\n",
              "\n",
              "<style>\n",
              "  .colab-df-quickchart {\n",
              "      --bg-color: #E8F0FE;\n",
              "      --fill-color: #1967D2;\n",
              "      --hover-bg-color: #E2EBFA;\n",
              "      --hover-fill-color: #174EA6;\n",
              "      --disabled-fill-color: #AAA;\n",
              "      --disabled-bg-color: #DDD;\n",
              "  }\n",
              "\n",
              "  [theme=dark] .colab-df-quickchart {\n",
              "      --bg-color: #3B4455;\n",
              "      --fill-color: #D2E3FC;\n",
              "      --hover-bg-color: #434B5C;\n",
              "      --hover-fill-color: #FFFFFF;\n",
              "      --disabled-bg-color: #3B4455;\n",
              "      --disabled-fill-color: #666;\n",
              "  }\n",
              "\n",
              "  .colab-df-quickchart {\n",
              "    background-color: var(--bg-color);\n",
              "    border: none;\n",
              "    border-radius: 50%;\n",
              "    cursor: pointer;\n",
              "    display: none;\n",
              "    fill: var(--fill-color);\n",
              "    height: 32px;\n",
              "    padding: 0;\n",
              "    width: 32px;\n",
              "  }\n",
              "\n",
              "  .colab-df-quickchart:hover {\n",
              "    background-color: var(--hover-bg-color);\n",
              "    box-shadow: 0 1px 2px rgba(60, 64, 67, 0.3), 0 1px 3px 1px rgba(60, 64, 67, 0.15);\n",
              "    fill: var(--button-hover-fill-color);\n",
              "  }\n",
              "\n",
              "  .colab-df-quickchart-complete:disabled,\n",
              "  .colab-df-quickchart-complete:disabled:hover {\n",
              "    background-color: var(--disabled-bg-color);\n",
              "    fill: var(--disabled-fill-color);\n",
              "    box-shadow: none;\n",
              "  }\n",
              "\n",
              "  .colab-df-spinner {\n",
              "    border: 2px solid var(--fill-color);\n",
              "    border-color: transparent;\n",
              "    border-bottom-color: var(--fill-color);\n",
              "    animation:\n",
              "      spin 1s steps(1) infinite;\n",
              "  }\n",
              "\n",
              "  @keyframes spin {\n",
              "    0% {\n",
              "      border-color: transparent;\n",
              "      border-bottom-color: var(--fill-color);\n",
              "      border-left-color: var(--fill-color);\n",
              "    }\n",
              "    20% {\n",
              "      border-color: transparent;\n",
              "      border-left-color: var(--fill-color);\n",
              "      border-top-color: var(--fill-color);\n",
              "    }\n",
              "    30% {\n",
              "      border-color: transparent;\n",
              "      border-left-color: var(--fill-color);\n",
              "      border-top-color: var(--fill-color);\n",
              "      border-right-color: var(--fill-color);\n",
              "    }\n",
              "    40% {\n",
              "      border-color: transparent;\n",
              "      border-right-color: var(--fill-color);\n",
              "      border-top-color: var(--fill-color);\n",
              "    }\n",
              "    60% {\n",
              "      border-color: transparent;\n",
              "      border-right-color: var(--fill-color);\n",
              "    }\n",
              "    80% {\n",
              "      border-color: transparent;\n",
              "      border-right-color: var(--fill-color);\n",
              "      border-bottom-color: var(--fill-color);\n",
              "    }\n",
              "    90% {\n",
              "      border-color: transparent;\n",
              "      border-bottom-color: var(--fill-color);\n",
              "    }\n",
              "  }\n",
              "</style>\n",
              "\n",
              "  <script>\n",
              "    async function quickchart(key) {\n",
              "      const quickchartButtonEl =\n",
              "        document.querySelector('#' + key + ' button');\n",
              "      quickchartButtonEl.disabled = true;  // To prevent multiple clicks.\n",
              "      quickchartButtonEl.classList.add('colab-df-spinner');\n",
              "      try {\n",
              "        const charts = await google.colab.kernel.invokeFunction(\n",
              "            'suggestCharts', [key], {});\n",
              "      } catch (error) {\n",
              "        console.error('Error during call to suggestCharts:', error);\n",
              "      }\n",
              "      quickchartButtonEl.classList.remove('colab-df-spinner');\n",
              "      quickchartButtonEl.classList.add('colab-df-quickchart-complete');\n",
              "    }\n",
              "    (() => {\n",
              "      let quickchartButtonEl =\n",
              "        document.querySelector('#df-391e5f6c-45f5-4be3-b41a-555be0ab2812 button');\n",
              "      quickchartButtonEl.style.display =\n",
              "        google.colab.kernel.accessAllowed ? 'block' : 'none';\n",
              "    })();\n",
              "  </script>\n",
              "</div>\n",
              "    </div>\n",
              "  </div>\n"
            ]
          },
          "metadata": {},
          "execution_count": 10
        }
      ],
      "source": [
        "#add lag columns for temp\n",
        "for i in range(24, (24*4+1), 24):\n",
        "    shifted[f'temp_lag_{int(i/24)}'] = shifted['temp'].shift(i)\n",
        "\n",
        "shifted['diff_temp'] = shifted['temp_pred'] - shifted['temp_lag_1']\n",
        "shifted.head()"
      ]
    },
    {
      "cell_type": "code",
      "execution_count": 11,
      "metadata": {
        "colab": {
          "base_uri": "https://localhost:8080/"
        },
        "id": "Y5Xot6R98Rhr",
        "outputId": "f238f7f6-1cde-495c-8892-5f77f7a37771"
      },
      "outputs": [
        {
          "output_type": "execute_result",
          "data": {
            "text/plain": [
              "(39536, 38)"
            ]
          },
          "metadata": {},
          "execution_count": 11
        }
      ],
      "source": [
        "#delete nans where there's no lag data (start of period)\n",
        "shifted['na_sum'] = shifted.isna().sum(axis=1)\n",
        "shifted = shifted[shifted['na_sum'] == 0]\n",
        "shifted = shifted.drop('na_sum', axis=1)\n",
        "shifted.shape"
      ]
    },
    {
      "cell_type": "code",
      "execution_count": 12,
      "metadata": {
        "id": "DSJnNAGn8Rhs"
      },
      "outputs": [],
      "source": [
        "bad_weathers = {'пасм': 'overcast', 'дожд': 'rain', 'снег': 'snow', 'ливень': 'heavy_rain', 'гроз': 'thunder', 'шторм': 'storm'}\n",
        "for weather_type in bad_weathers.keys():\n",
        "    shifted[bad_weathers[weather_type]] = np.where(shifted['weather_pred'].str.contains(weather_type), 1, 0)\n",
        "\n",
        "shifted['cloudy'] = np.where((shifted['weather_pred'].str.contains(' обл')) | (shifted['weather_pred'].str.startswith('обл')), 1, 0)"
      ]
    },
    {
      "cell_type": "code",
      "execution_count": 14,
      "metadata": {
        "id": "itUhta3_8Rhs"
      },
      "outputs": [],
      "source": [
        "try:\n",
        "    daylight = pd.read_csv('light_day.csv')\n",
        "except:\n",
        "    daylight = pd.read_csv('/content/drive/MyDrive/GglowByte_Hackaton/light_day.csv')"
      ]
    },
    {
      "cell_type": "code",
      "execution_count": 15,
      "metadata": {
        "colab": {
          "base_uri": "https://localhost:8080/"
        },
        "id": "wOHTLDxH8Rht",
        "outputId": "821e1ad5-fdb4-4610-cfc7-54852977b8b1"
      },
      "outputs": [
        {
          "output_type": "execute_result",
          "data": {
            "text/plain": [
              "day          int64\n",
              "month        int64\n",
              "sunrise    float64\n",
              "sunset     float64\n",
              "dtype: object"
            ]
          },
          "metadata": {},
          "execution_count": 15
        }
      ],
      "source": [
        "daylight = daylight.rename(columns={'Дата': 'date', 'Восход': 'sunrise', 'Заход': 'sunset'})\n",
        "daylight = daylight[['date', 'sunrise', 'sunset']]\n",
        "daylight['date'] = pd.to_datetime(daylight['date']).dt.normalize()\n",
        "daylight['day'] = daylight['date'].dt.day\n",
        "daylight['month'] = daylight['date'].dt.month\n",
        "daylight['sunrise'] = daylight['sunrise'].str.replace(':', '.').str.lstrip('0').astype('float')\n",
        "daylight['sunset'] = daylight['sunset'].str.replace(':', '.').str.lstrip('0').astype('float')\n",
        "daylight = daylight[['day', 'month', 'sunrise', 'sunset']]\n",
        "daylight.dtypes\n"
      ]
    },
    {
      "cell_type": "code",
      "execution_count": 16,
      "metadata": {
        "colab": {
          "base_uri": "https://localhost:8080/"
        },
        "id": "GpTPiYmn8Rht",
        "outputId": "52febcfb-ec39-4817-c82a-bfeb19bdc9e9"
      },
      "outputs": [
        {
          "output_type": "execute_result",
          "data": {
            "text/plain": [
              "(39536, 47)"
            ]
          },
          "metadata": {},
          "execution_count": 16
        }
      ],
      "source": [
        "with_daylight = shifted.merge(daylight, on=['month', 'day'], how='left')\n",
        "with_daylight.shape"
      ]
    },
    {
      "cell_type": "code",
      "execution_count": 17,
      "metadata": {
        "colab": {
          "base_uri": "https://localhost:8080/",
          "height": 235
        },
        "id": "5-F9OTHG8Rht",
        "outputId": "15a2da2f-c26f-49b7-e788-195e28b9b5eb"
      },
      "outputs": [
        {
          "output_type": "execute_result",
          "data": {
            "text/plain": [
              "            date  time   target  temp_pred      weather_pred  temp  dow  day  \\\n",
              "4891  2019-08-13    19  454.083       17.0      п/обл, ветер  16.3    1   13   \n",
              "20791 2021-06-06    15  428.519       21.0             п/обл  21.6    6    6   \n",
              "6952  2019-11-07    16  572.652        6.0      обл с проясн   6.7    3    7   \n",
              "4537  2019-07-30     1  341.007       18.0  обл., возм.дождь  20.2    1   30   \n",
              "7768  2019-12-11    16  620.604        0.0             п/обл  -0.2    2   11   \n",
              "\n",
              "       week  month  ...  overcast  rain  snow  heavy_rain  thunder  storm  \\\n",
              "4891     33      8  ...         0     0     0           0        0      0   \n",
              "20791    22      6  ...         0     0     0           0        0      0   \n",
              "6952     45     11  ...         0     0     0           0        0      0   \n",
              "4537     31      7  ...         0     1     0           0        0      0   \n",
              "7768     50     12  ...         0     0     0           0        0      0   \n",
              "\n",
              "       cloudy  sunrise  sunset  light  \n",
              "4891        0     5.07   20.17      1  \n",
              "20791       0     4.04   21.08      1  \n",
              "6952        1     7.50   16.51      1  \n",
              "4537        1     4.42   20.45      0  \n",
              "7768        0     8.49   16.11      1  \n",
              "\n",
              "[5 rows x 48 columns]"
            ],
            "text/html": [
              "\n",
              "  <div id=\"df-4f1282d3-e2f2-4302-a0cc-f59c8594e151\" class=\"colab-df-container\">\n",
              "    <div>\n",
              "<style scoped>\n",
              "    .dataframe tbody tr th:only-of-type {\n",
              "        vertical-align: middle;\n",
              "    }\n",
              "\n",
              "    .dataframe tbody tr th {\n",
              "        vertical-align: top;\n",
              "    }\n",
              "\n",
              "    .dataframe thead th {\n",
              "        text-align: right;\n",
              "    }\n",
              "</style>\n",
              "<table border=\"1\" class=\"dataframe\">\n",
              "  <thead>\n",
              "    <tr style=\"text-align: right;\">\n",
              "      <th></th>\n",
              "      <th>date</th>\n",
              "      <th>time</th>\n",
              "      <th>target</th>\n",
              "      <th>temp_pred</th>\n",
              "      <th>weather_pred</th>\n",
              "      <th>temp</th>\n",
              "      <th>dow</th>\n",
              "      <th>day</th>\n",
              "      <th>week</th>\n",
              "      <th>month</th>\n",
              "      <th>...</th>\n",
              "      <th>overcast</th>\n",
              "      <th>rain</th>\n",
              "      <th>snow</th>\n",
              "      <th>heavy_rain</th>\n",
              "      <th>thunder</th>\n",
              "      <th>storm</th>\n",
              "      <th>cloudy</th>\n",
              "      <th>sunrise</th>\n",
              "      <th>sunset</th>\n",
              "      <th>light</th>\n",
              "    </tr>\n",
              "  </thead>\n",
              "  <tbody>\n",
              "    <tr>\n",
              "      <th>4891</th>\n",
              "      <td>2019-08-13</td>\n",
              "      <td>19</td>\n",
              "      <td>454.083</td>\n",
              "      <td>17.0</td>\n",
              "      <td>п/обл, ветер</td>\n",
              "      <td>16.3</td>\n",
              "      <td>1</td>\n",
              "      <td>13</td>\n",
              "      <td>33</td>\n",
              "      <td>8</td>\n",
              "      <td>...</td>\n",
              "      <td>0</td>\n",
              "      <td>0</td>\n",
              "      <td>0</td>\n",
              "      <td>0</td>\n",
              "      <td>0</td>\n",
              "      <td>0</td>\n",
              "      <td>0</td>\n",
              "      <td>5.07</td>\n",
              "      <td>20.17</td>\n",
              "      <td>1</td>\n",
              "    </tr>\n",
              "    <tr>\n",
              "      <th>20791</th>\n",
              "      <td>2021-06-06</td>\n",
              "      <td>15</td>\n",
              "      <td>428.519</td>\n",
              "      <td>21.0</td>\n",
              "      <td>п/обл</td>\n",
              "      <td>21.6</td>\n",
              "      <td>6</td>\n",
              "      <td>6</td>\n",
              "      <td>22</td>\n",
              "      <td>6</td>\n",
              "      <td>...</td>\n",
              "      <td>0</td>\n",
              "      <td>0</td>\n",
              "      <td>0</td>\n",
              "      <td>0</td>\n",
              "      <td>0</td>\n",
              "      <td>0</td>\n",
              "      <td>0</td>\n",
              "      <td>4.04</td>\n",
              "      <td>21.08</td>\n",
              "      <td>1</td>\n",
              "    </tr>\n",
              "    <tr>\n",
              "      <th>6952</th>\n",
              "      <td>2019-11-07</td>\n",
              "      <td>16</td>\n",
              "      <td>572.652</td>\n",
              "      <td>6.0</td>\n",
              "      <td>обл с проясн</td>\n",
              "      <td>6.7</td>\n",
              "      <td>3</td>\n",
              "      <td>7</td>\n",
              "      <td>45</td>\n",
              "      <td>11</td>\n",
              "      <td>...</td>\n",
              "      <td>0</td>\n",
              "      <td>0</td>\n",
              "      <td>0</td>\n",
              "      <td>0</td>\n",
              "      <td>0</td>\n",
              "      <td>0</td>\n",
              "      <td>1</td>\n",
              "      <td>7.50</td>\n",
              "      <td>16.51</td>\n",
              "      <td>1</td>\n",
              "    </tr>\n",
              "    <tr>\n",
              "      <th>4537</th>\n",
              "      <td>2019-07-30</td>\n",
              "      <td>1</td>\n",
              "      <td>341.007</td>\n",
              "      <td>18.0</td>\n",
              "      <td>обл., возм.дождь</td>\n",
              "      <td>20.2</td>\n",
              "      <td>1</td>\n",
              "      <td>30</td>\n",
              "      <td>31</td>\n",
              "      <td>7</td>\n",
              "      <td>...</td>\n",
              "      <td>0</td>\n",
              "      <td>1</td>\n",
              "      <td>0</td>\n",
              "      <td>0</td>\n",
              "      <td>0</td>\n",
              "      <td>0</td>\n",
              "      <td>1</td>\n",
              "      <td>4.42</td>\n",
              "      <td>20.45</td>\n",
              "      <td>0</td>\n",
              "    </tr>\n",
              "    <tr>\n",
              "      <th>7768</th>\n",
              "      <td>2019-12-11</td>\n",
              "      <td>16</td>\n",
              "      <td>620.604</td>\n",
              "      <td>0.0</td>\n",
              "      <td>п/обл</td>\n",
              "      <td>-0.2</td>\n",
              "      <td>2</td>\n",
              "      <td>11</td>\n",
              "      <td>50</td>\n",
              "      <td>12</td>\n",
              "      <td>...</td>\n",
              "      <td>0</td>\n",
              "      <td>0</td>\n",
              "      <td>0</td>\n",
              "      <td>0</td>\n",
              "      <td>0</td>\n",
              "      <td>0</td>\n",
              "      <td>0</td>\n",
              "      <td>8.49</td>\n",
              "      <td>16.11</td>\n",
              "      <td>1</td>\n",
              "    </tr>\n",
              "  </tbody>\n",
              "</table>\n",
              "<p>5 rows × 48 columns</p>\n",
              "</div>\n",
              "    <div class=\"colab-df-buttons\">\n",
              "\n",
              "  <div class=\"colab-df-container\">\n",
              "    <button class=\"colab-df-convert\" onclick=\"convertToInteractive('df-4f1282d3-e2f2-4302-a0cc-f59c8594e151')\"\n",
              "            title=\"Convert this dataframe to an interactive table.\"\n",
              "            style=\"display:none;\">\n",
              "\n",
              "  <svg xmlns=\"http://www.w3.org/2000/svg\" height=\"24px\" viewBox=\"0 -960 960 960\">\n",
              "    <path d=\"M120-120v-720h720v720H120Zm60-500h600v-160H180v160Zm220 220h160v-160H400v160Zm0 220h160v-160H400v160ZM180-400h160v-160H180v160Zm440 0h160v-160H620v160ZM180-180h160v-160H180v160Zm440 0h160v-160H620v160Z\"/>\n",
              "  </svg>\n",
              "    </button>\n",
              "\n",
              "  <style>\n",
              "    .colab-df-container {\n",
              "      display:flex;\n",
              "      gap: 12px;\n",
              "    }\n",
              "\n",
              "    .colab-df-convert {\n",
              "      background-color: #E8F0FE;\n",
              "      border: none;\n",
              "      border-radius: 50%;\n",
              "      cursor: pointer;\n",
              "      display: none;\n",
              "      fill: #1967D2;\n",
              "      height: 32px;\n",
              "      padding: 0 0 0 0;\n",
              "      width: 32px;\n",
              "    }\n",
              "\n",
              "    .colab-df-convert:hover {\n",
              "      background-color: #E2EBFA;\n",
              "      box-shadow: 0px 1px 2px rgba(60, 64, 67, 0.3), 0px 1px 3px 1px rgba(60, 64, 67, 0.15);\n",
              "      fill: #174EA6;\n",
              "    }\n",
              "\n",
              "    .colab-df-buttons div {\n",
              "      margin-bottom: 4px;\n",
              "    }\n",
              "\n",
              "    [theme=dark] .colab-df-convert {\n",
              "      background-color: #3B4455;\n",
              "      fill: #D2E3FC;\n",
              "    }\n",
              "\n",
              "    [theme=dark] .colab-df-convert:hover {\n",
              "      background-color: #434B5C;\n",
              "      box-shadow: 0px 1px 3px 1px rgba(0, 0, 0, 0.15);\n",
              "      filter: drop-shadow(0px 1px 2px rgba(0, 0, 0, 0.3));\n",
              "      fill: #FFFFFF;\n",
              "    }\n",
              "  </style>\n",
              "\n",
              "    <script>\n",
              "      const buttonEl =\n",
              "        document.querySelector('#df-4f1282d3-e2f2-4302-a0cc-f59c8594e151 button.colab-df-convert');\n",
              "      buttonEl.style.display =\n",
              "        google.colab.kernel.accessAllowed ? 'block' : 'none';\n",
              "\n",
              "      async function convertToInteractive(key) {\n",
              "        const element = document.querySelector('#df-4f1282d3-e2f2-4302-a0cc-f59c8594e151');\n",
              "        const dataTable =\n",
              "          await google.colab.kernel.invokeFunction('convertToInteractive',\n",
              "                                                    [key], {});\n",
              "        if (!dataTable) return;\n",
              "\n",
              "        const docLinkHtml = 'Like what you see? Visit the ' +\n",
              "          '<a target=\"_blank\" href=https://colab.research.google.com/notebooks/data_table.ipynb>data table notebook</a>'\n",
              "          + ' to learn more about interactive tables.';\n",
              "        element.innerHTML = '';\n",
              "        dataTable['output_type'] = 'display_data';\n",
              "        await google.colab.output.renderOutput(dataTable, element);\n",
              "        const docLink = document.createElement('div');\n",
              "        docLink.innerHTML = docLinkHtml;\n",
              "        element.appendChild(docLink);\n",
              "      }\n",
              "    </script>\n",
              "  </div>\n",
              "\n",
              "\n",
              "<div id=\"df-1f5b0cc1-3c15-49f8-b39f-11215d8c85e5\">\n",
              "  <button class=\"colab-df-quickchart\" onclick=\"quickchart('df-1f5b0cc1-3c15-49f8-b39f-11215d8c85e5')\"\n",
              "            title=\"Suggest charts.\"\n",
              "            style=\"display:none;\">\n",
              "\n",
              "<svg xmlns=\"http://www.w3.org/2000/svg\" height=\"24px\"viewBox=\"0 0 24 24\"\n",
              "     width=\"24px\">\n",
              "    <g>\n",
              "        <path d=\"M19 3H5c-1.1 0-2 .9-2 2v14c0 1.1.9 2 2 2h14c1.1 0 2-.9 2-2V5c0-1.1-.9-2-2-2zM9 17H7v-7h2v7zm4 0h-2V7h2v10zm4 0h-2v-4h2v4z\"/>\n",
              "    </g>\n",
              "</svg>\n",
              "  </button>\n",
              "\n",
              "<style>\n",
              "  .colab-df-quickchart {\n",
              "      --bg-color: #E8F0FE;\n",
              "      --fill-color: #1967D2;\n",
              "      --hover-bg-color: #E2EBFA;\n",
              "      --hover-fill-color: #174EA6;\n",
              "      --disabled-fill-color: #AAA;\n",
              "      --disabled-bg-color: #DDD;\n",
              "  }\n",
              "\n",
              "  [theme=dark] .colab-df-quickchart {\n",
              "      --bg-color: #3B4455;\n",
              "      --fill-color: #D2E3FC;\n",
              "      --hover-bg-color: #434B5C;\n",
              "      --hover-fill-color: #FFFFFF;\n",
              "      --disabled-bg-color: #3B4455;\n",
              "      --disabled-fill-color: #666;\n",
              "  }\n",
              "\n",
              "  .colab-df-quickchart {\n",
              "    background-color: var(--bg-color);\n",
              "    border: none;\n",
              "    border-radius: 50%;\n",
              "    cursor: pointer;\n",
              "    display: none;\n",
              "    fill: var(--fill-color);\n",
              "    height: 32px;\n",
              "    padding: 0;\n",
              "    width: 32px;\n",
              "  }\n",
              "\n",
              "  .colab-df-quickchart:hover {\n",
              "    background-color: var(--hover-bg-color);\n",
              "    box-shadow: 0 1px 2px rgba(60, 64, 67, 0.3), 0 1px 3px 1px rgba(60, 64, 67, 0.15);\n",
              "    fill: var(--button-hover-fill-color);\n",
              "  }\n",
              "\n",
              "  .colab-df-quickchart-complete:disabled,\n",
              "  .colab-df-quickchart-complete:disabled:hover {\n",
              "    background-color: var(--disabled-bg-color);\n",
              "    fill: var(--disabled-fill-color);\n",
              "    box-shadow: none;\n",
              "  }\n",
              "\n",
              "  .colab-df-spinner {\n",
              "    border: 2px solid var(--fill-color);\n",
              "    border-color: transparent;\n",
              "    border-bottom-color: var(--fill-color);\n",
              "    animation:\n",
              "      spin 1s steps(1) infinite;\n",
              "  }\n",
              "\n",
              "  @keyframes spin {\n",
              "    0% {\n",
              "      border-color: transparent;\n",
              "      border-bottom-color: var(--fill-color);\n",
              "      border-left-color: var(--fill-color);\n",
              "    }\n",
              "    20% {\n",
              "      border-color: transparent;\n",
              "      border-left-color: var(--fill-color);\n",
              "      border-top-color: var(--fill-color);\n",
              "    }\n",
              "    30% {\n",
              "      border-color: transparent;\n",
              "      border-left-color: var(--fill-color);\n",
              "      border-top-color: var(--fill-color);\n",
              "      border-right-color: var(--fill-color);\n",
              "    }\n",
              "    40% {\n",
              "      border-color: transparent;\n",
              "      border-right-color: var(--fill-color);\n",
              "      border-top-color: var(--fill-color);\n",
              "    }\n",
              "    60% {\n",
              "      border-color: transparent;\n",
              "      border-right-color: var(--fill-color);\n",
              "    }\n",
              "    80% {\n",
              "      border-color: transparent;\n",
              "      border-right-color: var(--fill-color);\n",
              "      border-bottom-color: var(--fill-color);\n",
              "    }\n",
              "    90% {\n",
              "      border-color: transparent;\n",
              "      border-bottom-color: var(--fill-color);\n",
              "    }\n",
              "  }\n",
              "</style>\n",
              "\n",
              "  <script>\n",
              "    async function quickchart(key) {\n",
              "      const quickchartButtonEl =\n",
              "        document.querySelector('#' + key + ' button');\n",
              "      quickchartButtonEl.disabled = true;  // To prevent multiple clicks.\n",
              "      quickchartButtonEl.classList.add('colab-df-spinner');\n",
              "      try {\n",
              "        const charts = await google.colab.kernel.invokeFunction(\n",
              "            'suggestCharts', [key], {});\n",
              "      } catch (error) {\n",
              "        console.error('Error during call to suggestCharts:', error);\n",
              "      }\n",
              "      quickchartButtonEl.classList.remove('colab-df-spinner');\n",
              "      quickchartButtonEl.classList.add('colab-df-quickchart-complete');\n",
              "    }\n",
              "    (() => {\n",
              "      let quickchartButtonEl =\n",
              "        document.querySelector('#df-1f5b0cc1-3c15-49f8-b39f-11215d8c85e5 button');\n",
              "      quickchartButtonEl.style.display =\n",
              "        google.colab.kernel.accessAllowed ? 'block' : 'none';\n",
              "    })();\n",
              "  </script>\n",
              "</div>\n",
              "    </div>\n",
              "  </div>\n"
            ]
          },
          "metadata": {},
          "execution_count": 17
        }
      ],
      "source": [
        "with_daylight['light'] = np.where((with_daylight['time'] >= with_daylight['sunrise']) &\n",
        "                                  (with_daylight['time'] <= with_daylight['sunset']), 1, 0)\n",
        "with_daylight.sample(5)"
      ]
    },
    {
      "cell_type": "code",
      "execution_count": 18,
      "metadata": {
        "colab": {
          "base_uri": "https://localhost:8080/",
          "height": 235
        },
        "id": "-_74wZpC8Rhu",
        "outputId": "8a765536-175b-48db-db89-bfdf3fa58352"
      },
      "outputs": [
        {
          "output_type": "execute_result",
          "data": {
            "text/plain": [
              "            date  time   target  temp_pred   weather_pred  temp  dow  day  \\\n",
              "2625  2019-05-11     9  408.961       14.0          п/обл  13.6    5   11   \n",
              "16147 2020-11-24    19  617.589        6.0  проясн, 40% ?   5.9    1   24   \n",
              "14960 2020-10-06     8  404.583       13.0  обл с пр, 24%  11.4    1    6   \n",
              "3466  2019-06-15    10  417.479       23.0          п/обл  23.1    5   15   \n",
              "36916 2023-04-12    20  518.529        7.0           ясно  11.1    2   12   \n",
              "\n",
              "       week  month  ...  rain  snow  heavy_rain  thunder  storm  cloudy  \\\n",
              "2625     19      5  ...     0     0           0        0      0       0   \n",
              "16147    48     11  ...     0     0           0        0      0       0   \n",
              "14960    41     10  ...     0     0           0        0      0       1   \n",
              "3466     24      6  ...     0     0           0        0      0       0   \n",
              "36916    15      4  ...     0     0           0        0      0       0   \n",
              "\n",
              "       sunrise  sunset  light  dark_weather  \n",
              "2625      4.41   20.29      1             0  \n",
              "16147     8.23   16.24      0             0  \n",
              "14960     6.47   18.04      1             1  \n",
              "3466      4.00   21.16      1             0  \n",
              "36916     5.45   19.33      0             0  \n",
              "\n",
              "[5 rows x 49 columns]"
            ],
            "text/html": [
              "\n",
              "  <div id=\"df-82df2897-db02-4c85-9aae-5b7ae0d3d853\" class=\"colab-df-container\">\n",
              "    <div>\n",
              "<style scoped>\n",
              "    .dataframe tbody tr th:only-of-type {\n",
              "        vertical-align: middle;\n",
              "    }\n",
              "\n",
              "    .dataframe tbody tr th {\n",
              "        vertical-align: top;\n",
              "    }\n",
              "\n",
              "    .dataframe thead th {\n",
              "        text-align: right;\n",
              "    }\n",
              "</style>\n",
              "<table border=\"1\" class=\"dataframe\">\n",
              "  <thead>\n",
              "    <tr style=\"text-align: right;\">\n",
              "      <th></th>\n",
              "      <th>date</th>\n",
              "      <th>time</th>\n",
              "      <th>target</th>\n",
              "      <th>temp_pred</th>\n",
              "      <th>weather_pred</th>\n",
              "      <th>temp</th>\n",
              "      <th>dow</th>\n",
              "      <th>day</th>\n",
              "      <th>week</th>\n",
              "      <th>month</th>\n",
              "      <th>...</th>\n",
              "      <th>rain</th>\n",
              "      <th>snow</th>\n",
              "      <th>heavy_rain</th>\n",
              "      <th>thunder</th>\n",
              "      <th>storm</th>\n",
              "      <th>cloudy</th>\n",
              "      <th>sunrise</th>\n",
              "      <th>sunset</th>\n",
              "      <th>light</th>\n",
              "      <th>dark_weather</th>\n",
              "    </tr>\n",
              "  </thead>\n",
              "  <tbody>\n",
              "    <tr>\n",
              "      <th>2625</th>\n",
              "      <td>2019-05-11</td>\n",
              "      <td>9</td>\n",
              "      <td>408.961</td>\n",
              "      <td>14.0</td>\n",
              "      <td>п/обл</td>\n",
              "      <td>13.6</td>\n",
              "      <td>5</td>\n",
              "      <td>11</td>\n",
              "      <td>19</td>\n",
              "      <td>5</td>\n",
              "      <td>...</td>\n",
              "      <td>0</td>\n",
              "      <td>0</td>\n",
              "      <td>0</td>\n",
              "      <td>0</td>\n",
              "      <td>0</td>\n",
              "      <td>0</td>\n",
              "      <td>4.41</td>\n",
              "      <td>20.29</td>\n",
              "      <td>1</td>\n",
              "      <td>0</td>\n",
              "    </tr>\n",
              "    <tr>\n",
              "      <th>16147</th>\n",
              "      <td>2020-11-24</td>\n",
              "      <td>19</td>\n",
              "      <td>617.589</td>\n",
              "      <td>6.0</td>\n",
              "      <td>проясн, 40% ?</td>\n",
              "      <td>5.9</td>\n",
              "      <td>1</td>\n",
              "      <td>24</td>\n",
              "      <td>48</td>\n",
              "      <td>11</td>\n",
              "      <td>...</td>\n",
              "      <td>0</td>\n",
              "      <td>0</td>\n",
              "      <td>0</td>\n",
              "      <td>0</td>\n",
              "      <td>0</td>\n",
              "      <td>0</td>\n",
              "      <td>8.23</td>\n",
              "      <td>16.24</td>\n",
              "      <td>0</td>\n",
              "      <td>0</td>\n",
              "    </tr>\n",
              "    <tr>\n",
              "      <th>14960</th>\n",
              "      <td>2020-10-06</td>\n",
              "      <td>8</td>\n",
              "      <td>404.583</td>\n",
              "      <td>13.0</td>\n",
              "      <td>обл с пр, 24%</td>\n",
              "      <td>11.4</td>\n",
              "      <td>1</td>\n",
              "      <td>6</td>\n",
              "      <td>41</td>\n",
              "      <td>10</td>\n",
              "      <td>...</td>\n",
              "      <td>0</td>\n",
              "      <td>0</td>\n",
              "      <td>0</td>\n",
              "      <td>0</td>\n",
              "      <td>0</td>\n",
              "      <td>1</td>\n",
              "      <td>6.47</td>\n",
              "      <td>18.04</td>\n",
              "      <td>1</td>\n",
              "      <td>1</td>\n",
              "    </tr>\n",
              "    <tr>\n",
              "      <th>3466</th>\n",
              "      <td>2019-06-15</td>\n",
              "      <td>10</td>\n",
              "      <td>417.479</td>\n",
              "      <td>23.0</td>\n",
              "      <td>п/обл</td>\n",
              "      <td>23.1</td>\n",
              "      <td>5</td>\n",
              "      <td>15</td>\n",
              "      <td>24</td>\n",
              "      <td>6</td>\n",
              "      <td>...</td>\n",
              "      <td>0</td>\n",
              "      <td>0</td>\n",
              "      <td>0</td>\n",
              "      <td>0</td>\n",
              "      <td>0</td>\n",
              "      <td>0</td>\n",
              "      <td>4.00</td>\n",
              "      <td>21.16</td>\n",
              "      <td>1</td>\n",
              "      <td>0</td>\n",
              "    </tr>\n",
              "    <tr>\n",
              "      <th>36916</th>\n",
              "      <td>2023-04-12</td>\n",
              "      <td>20</td>\n",
              "      <td>518.529</td>\n",
              "      <td>7.0</td>\n",
              "      <td>ясно</td>\n",
              "      <td>11.1</td>\n",
              "      <td>2</td>\n",
              "      <td>12</td>\n",
              "      <td>15</td>\n",
              "      <td>4</td>\n",
              "      <td>...</td>\n",
              "      <td>0</td>\n",
              "      <td>0</td>\n",
              "      <td>0</td>\n",
              "      <td>0</td>\n",
              "      <td>0</td>\n",
              "      <td>0</td>\n",
              "      <td>5.45</td>\n",
              "      <td>19.33</td>\n",
              "      <td>0</td>\n",
              "      <td>0</td>\n",
              "    </tr>\n",
              "  </tbody>\n",
              "</table>\n",
              "<p>5 rows × 49 columns</p>\n",
              "</div>\n",
              "    <div class=\"colab-df-buttons\">\n",
              "\n",
              "  <div class=\"colab-df-container\">\n",
              "    <button class=\"colab-df-convert\" onclick=\"convertToInteractive('df-82df2897-db02-4c85-9aae-5b7ae0d3d853')\"\n",
              "            title=\"Convert this dataframe to an interactive table.\"\n",
              "            style=\"display:none;\">\n",
              "\n",
              "  <svg xmlns=\"http://www.w3.org/2000/svg\" height=\"24px\" viewBox=\"0 -960 960 960\">\n",
              "    <path d=\"M120-120v-720h720v720H120Zm60-500h600v-160H180v160Zm220 220h160v-160H400v160Zm0 220h160v-160H400v160ZM180-400h160v-160H180v160Zm440 0h160v-160H620v160ZM180-180h160v-160H180v160Zm440 0h160v-160H620v160Z\"/>\n",
              "  </svg>\n",
              "    </button>\n",
              "\n",
              "  <style>\n",
              "    .colab-df-container {\n",
              "      display:flex;\n",
              "      gap: 12px;\n",
              "    }\n",
              "\n",
              "    .colab-df-convert {\n",
              "      background-color: #E8F0FE;\n",
              "      border: none;\n",
              "      border-radius: 50%;\n",
              "      cursor: pointer;\n",
              "      display: none;\n",
              "      fill: #1967D2;\n",
              "      height: 32px;\n",
              "      padding: 0 0 0 0;\n",
              "      width: 32px;\n",
              "    }\n",
              "\n",
              "    .colab-df-convert:hover {\n",
              "      background-color: #E2EBFA;\n",
              "      box-shadow: 0px 1px 2px rgba(60, 64, 67, 0.3), 0px 1px 3px 1px rgba(60, 64, 67, 0.15);\n",
              "      fill: #174EA6;\n",
              "    }\n",
              "\n",
              "    .colab-df-buttons div {\n",
              "      margin-bottom: 4px;\n",
              "    }\n",
              "\n",
              "    [theme=dark] .colab-df-convert {\n",
              "      background-color: #3B4455;\n",
              "      fill: #D2E3FC;\n",
              "    }\n",
              "\n",
              "    [theme=dark] .colab-df-convert:hover {\n",
              "      background-color: #434B5C;\n",
              "      box-shadow: 0px 1px 3px 1px rgba(0, 0, 0, 0.15);\n",
              "      filter: drop-shadow(0px 1px 2px rgba(0, 0, 0, 0.3));\n",
              "      fill: #FFFFFF;\n",
              "    }\n",
              "  </style>\n",
              "\n",
              "    <script>\n",
              "      const buttonEl =\n",
              "        document.querySelector('#df-82df2897-db02-4c85-9aae-5b7ae0d3d853 button.colab-df-convert');\n",
              "      buttonEl.style.display =\n",
              "        google.colab.kernel.accessAllowed ? 'block' : 'none';\n",
              "\n",
              "      async function convertToInteractive(key) {\n",
              "        const element = document.querySelector('#df-82df2897-db02-4c85-9aae-5b7ae0d3d853');\n",
              "        const dataTable =\n",
              "          await google.colab.kernel.invokeFunction('convertToInteractive',\n",
              "                                                    [key], {});\n",
              "        if (!dataTable) return;\n",
              "\n",
              "        const docLinkHtml = 'Like what you see? Visit the ' +\n",
              "          '<a target=\"_blank\" href=https://colab.research.google.com/notebooks/data_table.ipynb>data table notebook</a>'\n",
              "          + ' to learn more about interactive tables.';\n",
              "        element.innerHTML = '';\n",
              "        dataTable['output_type'] = 'display_data';\n",
              "        await google.colab.output.renderOutput(dataTable, element);\n",
              "        const docLink = document.createElement('div');\n",
              "        docLink.innerHTML = docLinkHtml;\n",
              "        element.appendChild(docLink);\n",
              "      }\n",
              "    </script>\n",
              "  </div>\n",
              "\n",
              "\n",
              "<div id=\"df-72a2fdf9-833c-44bc-b6c0-fcf205c0e197\">\n",
              "  <button class=\"colab-df-quickchart\" onclick=\"quickchart('df-72a2fdf9-833c-44bc-b6c0-fcf205c0e197')\"\n",
              "            title=\"Suggest charts.\"\n",
              "            style=\"display:none;\">\n",
              "\n",
              "<svg xmlns=\"http://www.w3.org/2000/svg\" height=\"24px\"viewBox=\"0 0 24 24\"\n",
              "     width=\"24px\">\n",
              "    <g>\n",
              "        <path d=\"M19 3H5c-1.1 0-2 .9-2 2v14c0 1.1.9 2 2 2h14c1.1 0 2-.9 2-2V5c0-1.1-.9-2-2-2zM9 17H7v-7h2v7zm4 0h-2V7h2v10zm4 0h-2v-4h2v4z\"/>\n",
              "    </g>\n",
              "</svg>\n",
              "  </button>\n",
              "\n",
              "<style>\n",
              "  .colab-df-quickchart {\n",
              "      --bg-color: #E8F0FE;\n",
              "      --fill-color: #1967D2;\n",
              "      --hover-bg-color: #E2EBFA;\n",
              "      --hover-fill-color: #174EA6;\n",
              "      --disabled-fill-color: #AAA;\n",
              "      --disabled-bg-color: #DDD;\n",
              "  }\n",
              "\n",
              "  [theme=dark] .colab-df-quickchart {\n",
              "      --bg-color: #3B4455;\n",
              "      --fill-color: #D2E3FC;\n",
              "      --hover-bg-color: #434B5C;\n",
              "      --hover-fill-color: #FFFFFF;\n",
              "      --disabled-bg-color: #3B4455;\n",
              "      --disabled-fill-color: #666;\n",
              "  }\n",
              "\n",
              "  .colab-df-quickchart {\n",
              "    background-color: var(--bg-color);\n",
              "    border: none;\n",
              "    border-radius: 50%;\n",
              "    cursor: pointer;\n",
              "    display: none;\n",
              "    fill: var(--fill-color);\n",
              "    height: 32px;\n",
              "    padding: 0;\n",
              "    width: 32px;\n",
              "  }\n",
              "\n",
              "  .colab-df-quickchart:hover {\n",
              "    background-color: var(--hover-bg-color);\n",
              "    box-shadow: 0 1px 2px rgba(60, 64, 67, 0.3), 0 1px 3px 1px rgba(60, 64, 67, 0.15);\n",
              "    fill: var(--button-hover-fill-color);\n",
              "  }\n",
              "\n",
              "  .colab-df-quickchart-complete:disabled,\n",
              "  .colab-df-quickchart-complete:disabled:hover {\n",
              "    background-color: var(--disabled-bg-color);\n",
              "    fill: var(--disabled-fill-color);\n",
              "    box-shadow: none;\n",
              "  }\n",
              "\n",
              "  .colab-df-spinner {\n",
              "    border: 2px solid var(--fill-color);\n",
              "    border-color: transparent;\n",
              "    border-bottom-color: var(--fill-color);\n",
              "    animation:\n",
              "      spin 1s steps(1) infinite;\n",
              "  }\n",
              "\n",
              "  @keyframes spin {\n",
              "    0% {\n",
              "      border-color: transparent;\n",
              "      border-bottom-color: var(--fill-color);\n",
              "      border-left-color: var(--fill-color);\n",
              "    }\n",
              "    20% {\n",
              "      border-color: transparent;\n",
              "      border-left-color: var(--fill-color);\n",
              "      border-top-color: var(--fill-color);\n",
              "    }\n",
              "    30% {\n",
              "      border-color: transparent;\n",
              "      border-left-color: var(--fill-color);\n",
              "      border-top-color: var(--fill-color);\n",
              "      border-right-color: var(--fill-color);\n",
              "    }\n",
              "    40% {\n",
              "      border-color: transparent;\n",
              "      border-right-color: var(--fill-color);\n",
              "      border-top-color: var(--fill-color);\n",
              "    }\n",
              "    60% {\n",
              "      border-color: transparent;\n",
              "      border-right-color: var(--fill-color);\n",
              "    }\n",
              "    80% {\n",
              "      border-color: transparent;\n",
              "      border-right-color: var(--fill-color);\n",
              "      border-bottom-color: var(--fill-color);\n",
              "    }\n",
              "    90% {\n",
              "      border-color: transparent;\n",
              "      border-bottom-color: var(--fill-color);\n",
              "    }\n",
              "  }\n",
              "</style>\n",
              "\n",
              "  <script>\n",
              "    async function quickchart(key) {\n",
              "      const quickchartButtonEl =\n",
              "        document.querySelector('#' + key + ' button');\n",
              "      quickchartButtonEl.disabled = true;  // To prevent multiple clicks.\n",
              "      quickchartButtonEl.classList.add('colab-df-spinner');\n",
              "      try {\n",
              "        const charts = await google.colab.kernel.invokeFunction(\n",
              "            'suggestCharts', [key], {});\n",
              "      } catch (error) {\n",
              "        console.error('Error during call to suggestCharts:', error);\n",
              "      }\n",
              "      quickchartButtonEl.classList.remove('colab-df-spinner');\n",
              "      quickchartButtonEl.classList.add('colab-df-quickchart-complete');\n",
              "    }\n",
              "    (() => {\n",
              "      let quickchartButtonEl =\n",
              "        document.querySelector('#df-72a2fdf9-833c-44bc-b6c0-fcf205c0e197 button');\n",
              "      quickchartButtonEl.style.display =\n",
              "        google.colab.kernel.accessAllowed ? 'block' : 'none';\n",
              "    })();\n",
              "  </script>\n",
              "</div>\n",
              "    </div>\n",
              "  </div>\n"
            ]
          },
          "metadata": {},
          "execution_count": 18
        }
      ],
      "source": [
        "with_daylight['dark_weather'] = np.where((with_daylight['light'] == 1) &\n",
        "                                  (with_daylight[['rain', 'heavy_rain', 'thunder', 'storm', 'snow', 'overcast', 'cloudy']].any(axis='columns') == 1), 1, 0)\n",
        "with_daylight.sample(5)"
      ]
    },
    {
      "cell_type": "code",
      "execution_count": 19,
      "metadata": {
        "colab": {
          "base_uri": "https://localhost:8080/",
          "height": 342
        },
        "id": "XPCaIGYQ8Rhu",
        "outputId": "c4f34261-4f85-4f6a-a76f-9823f4675037"
      },
      "outputs": [
        {
          "output_type": "execute_result",
          "data": {
            "text/plain": [
              "        date  time   target  temp_pred weather_pred  temp  dow  day  week  \\\n",
              "0 2019-01-22     0  546.601       -2.0     пасмурно  -3.7    1   22     4   \n",
              "1 2019-01-22     1  508.166       -2.0     пасмурно  -3.7    1   22     4   \n",
              "2 2019-01-22     2  485.543       -2.0     пасмурно  -3.7    1   22     4   \n",
              "3 2019-01-22     3  473.236       -3.0     пасмурно  -3.9    1   22     4   \n",
              "4 2019-01-22     4  467.938       -3.0     пасмурно  -3.9    1   22     4   \n",
              "\n",
              "   month  ...      ma_3      mm_3        ma_4     mm_4       ma_5      mm_5  \\\n",
              "0      1  ...  535.0200  535.0200  538.435333  536.856  535.55575  535.0200   \n",
              "1      1  ...  500.0425  500.0425  503.611333  502.079  500.30550  500.0425   \n",
              "2      1  ...  476.3255  476.3255  478.891000  478.040  476.13875  476.3255   \n",
              "3      1  ...  464.3360  464.3360  465.919333  464.489  463.36125  464.3360   \n",
              "4      1  ...  457.1320  457.1320  458.579333  457.621  456.47775  457.1320   \n",
              "\n",
              "       ma_6     mm_6        ma_7      mm_7  \n",
              "0  534.9548  533.184  536.452667  535.0200  \n",
              "1  499.3870  498.006  499.823667  500.0065  \n",
              "2  474.9476  474.611  475.832833  476.3255  \n",
              "3  462.9282  464.183  463.779333  464.3360  \n",
              "4  456.0934  456.643  457.105000  457.1320  \n",
              "\n",
              "[5 rows x 61 columns]"
            ],
            "text/html": [
              "\n",
              "  <div id=\"df-feff9c93-f66c-46b7-bced-ec57cc16cb32\" class=\"colab-df-container\">\n",
              "    <div>\n",
              "<style scoped>\n",
              "    .dataframe tbody tr th:only-of-type {\n",
              "        vertical-align: middle;\n",
              "    }\n",
              "\n",
              "    .dataframe tbody tr th {\n",
              "        vertical-align: top;\n",
              "    }\n",
              "\n",
              "    .dataframe thead th {\n",
              "        text-align: right;\n",
              "    }\n",
              "</style>\n",
              "<table border=\"1\" class=\"dataframe\">\n",
              "  <thead>\n",
              "    <tr style=\"text-align: right;\">\n",
              "      <th></th>\n",
              "      <th>date</th>\n",
              "      <th>time</th>\n",
              "      <th>target</th>\n",
              "      <th>temp_pred</th>\n",
              "      <th>weather_pred</th>\n",
              "      <th>temp</th>\n",
              "      <th>dow</th>\n",
              "      <th>day</th>\n",
              "      <th>week</th>\n",
              "      <th>month</th>\n",
              "      <th>...</th>\n",
              "      <th>ma_3</th>\n",
              "      <th>mm_3</th>\n",
              "      <th>ma_4</th>\n",
              "      <th>mm_4</th>\n",
              "      <th>ma_5</th>\n",
              "      <th>mm_5</th>\n",
              "      <th>ma_6</th>\n",
              "      <th>mm_6</th>\n",
              "      <th>ma_7</th>\n",
              "      <th>mm_7</th>\n",
              "    </tr>\n",
              "  </thead>\n",
              "  <tbody>\n",
              "    <tr>\n",
              "      <th>0</th>\n",
              "      <td>2019-01-22</td>\n",
              "      <td>0</td>\n",
              "      <td>546.601</td>\n",
              "      <td>-2.0</td>\n",
              "      <td>пасмурно</td>\n",
              "      <td>-3.7</td>\n",
              "      <td>1</td>\n",
              "      <td>22</td>\n",
              "      <td>4</td>\n",
              "      <td>1</td>\n",
              "      <td>...</td>\n",
              "      <td>535.0200</td>\n",
              "      <td>535.0200</td>\n",
              "      <td>538.435333</td>\n",
              "      <td>536.856</td>\n",
              "      <td>535.55575</td>\n",
              "      <td>535.0200</td>\n",
              "      <td>534.9548</td>\n",
              "      <td>533.184</td>\n",
              "      <td>536.452667</td>\n",
              "      <td>535.0200</td>\n",
              "    </tr>\n",
              "    <tr>\n",
              "      <th>1</th>\n",
              "      <td>2019-01-22</td>\n",
              "      <td>1</td>\n",
              "      <td>508.166</td>\n",
              "      <td>-2.0</td>\n",
              "      <td>пасмурно</td>\n",
              "      <td>-3.7</td>\n",
              "      <td>1</td>\n",
              "      <td>22</td>\n",
              "      <td>4</td>\n",
              "      <td>1</td>\n",
              "      <td>...</td>\n",
              "      <td>500.0425</td>\n",
              "      <td>500.0425</td>\n",
              "      <td>503.611333</td>\n",
              "      <td>502.079</td>\n",
              "      <td>500.30550</td>\n",
              "      <td>500.0425</td>\n",
              "      <td>499.3870</td>\n",
              "      <td>498.006</td>\n",
              "      <td>499.823667</td>\n",
              "      <td>500.0065</td>\n",
              "    </tr>\n",
              "    <tr>\n",
              "      <th>2</th>\n",
              "      <td>2019-01-22</td>\n",
              "      <td>2</td>\n",
              "      <td>485.543</td>\n",
              "      <td>-2.0</td>\n",
              "      <td>пасмурно</td>\n",
              "      <td>-3.7</td>\n",
              "      <td>1</td>\n",
              "      <td>22</td>\n",
              "      <td>4</td>\n",
              "      <td>1</td>\n",
              "      <td>...</td>\n",
              "      <td>476.3255</td>\n",
              "      <td>476.3255</td>\n",
              "      <td>478.891000</td>\n",
              "      <td>478.040</td>\n",
              "      <td>476.13875</td>\n",
              "      <td>476.3255</td>\n",
              "      <td>474.9476</td>\n",
              "      <td>474.611</td>\n",
              "      <td>475.832833</td>\n",
              "      <td>476.3255</td>\n",
              "    </tr>\n",
              "    <tr>\n",
              "      <th>3</th>\n",
              "      <td>2019-01-22</td>\n",
              "      <td>3</td>\n",
              "      <td>473.236</td>\n",
              "      <td>-3.0</td>\n",
              "      <td>пасмурно</td>\n",
              "      <td>-3.9</td>\n",
              "      <td>1</td>\n",
              "      <td>22</td>\n",
              "      <td>4</td>\n",
              "      <td>1</td>\n",
              "      <td>...</td>\n",
              "      <td>464.3360</td>\n",
              "      <td>464.3360</td>\n",
              "      <td>465.919333</td>\n",
              "      <td>464.489</td>\n",
              "      <td>463.36125</td>\n",
              "      <td>464.3360</td>\n",
              "      <td>462.9282</td>\n",
              "      <td>464.183</td>\n",
              "      <td>463.779333</td>\n",
              "      <td>464.3360</td>\n",
              "    </tr>\n",
              "    <tr>\n",
              "      <th>4</th>\n",
              "      <td>2019-01-22</td>\n",
              "      <td>4</td>\n",
              "      <td>467.938</td>\n",
              "      <td>-3.0</td>\n",
              "      <td>пасмурно</td>\n",
              "      <td>-3.9</td>\n",
              "      <td>1</td>\n",
              "      <td>22</td>\n",
              "      <td>4</td>\n",
              "      <td>1</td>\n",
              "      <td>...</td>\n",
              "      <td>457.1320</td>\n",
              "      <td>457.1320</td>\n",
              "      <td>458.579333</td>\n",
              "      <td>457.621</td>\n",
              "      <td>456.47775</td>\n",
              "      <td>457.1320</td>\n",
              "      <td>456.0934</td>\n",
              "      <td>456.643</td>\n",
              "      <td>457.105000</td>\n",
              "      <td>457.1320</td>\n",
              "    </tr>\n",
              "  </tbody>\n",
              "</table>\n",
              "<p>5 rows × 61 columns</p>\n",
              "</div>\n",
              "    <div class=\"colab-df-buttons\">\n",
              "\n",
              "  <div class=\"colab-df-container\">\n",
              "    <button class=\"colab-df-convert\" onclick=\"convertToInteractive('df-feff9c93-f66c-46b7-bced-ec57cc16cb32')\"\n",
              "            title=\"Convert this dataframe to an interactive table.\"\n",
              "            style=\"display:none;\">\n",
              "\n",
              "  <svg xmlns=\"http://www.w3.org/2000/svg\" height=\"24px\" viewBox=\"0 -960 960 960\">\n",
              "    <path d=\"M120-120v-720h720v720H120Zm60-500h600v-160H180v160Zm220 220h160v-160H400v160Zm0 220h160v-160H400v160ZM180-400h160v-160H180v160Zm440 0h160v-160H620v160ZM180-180h160v-160H180v160Zm440 0h160v-160H620v160Z\"/>\n",
              "  </svg>\n",
              "    </button>\n",
              "\n",
              "  <style>\n",
              "    .colab-df-container {\n",
              "      display:flex;\n",
              "      gap: 12px;\n",
              "    }\n",
              "\n",
              "    .colab-df-convert {\n",
              "      background-color: #E8F0FE;\n",
              "      border: none;\n",
              "      border-radius: 50%;\n",
              "      cursor: pointer;\n",
              "      display: none;\n",
              "      fill: #1967D2;\n",
              "      height: 32px;\n",
              "      padding: 0 0 0 0;\n",
              "      width: 32px;\n",
              "    }\n",
              "\n",
              "    .colab-df-convert:hover {\n",
              "      background-color: #E2EBFA;\n",
              "      box-shadow: 0px 1px 2px rgba(60, 64, 67, 0.3), 0px 1px 3px 1px rgba(60, 64, 67, 0.15);\n",
              "      fill: #174EA6;\n",
              "    }\n",
              "\n",
              "    .colab-df-buttons div {\n",
              "      margin-bottom: 4px;\n",
              "    }\n",
              "\n",
              "    [theme=dark] .colab-df-convert {\n",
              "      background-color: #3B4455;\n",
              "      fill: #D2E3FC;\n",
              "    }\n",
              "\n",
              "    [theme=dark] .colab-df-convert:hover {\n",
              "      background-color: #434B5C;\n",
              "      box-shadow: 0px 1px 3px 1px rgba(0, 0, 0, 0.15);\n",
              "      filter: drop-shadow(0px 1px 2px rgba(0, 0, 0, 0.3));\n",
              "      fill: #FFFFFF;\n",
              "    }\n",
              "  </style>\n",
              "\n",
              "    <script>\n",
              "      const buttonEl =\n",
              "        document.querySelector('#df-feff9c93-f66c-46b7-bced-ec57cc16cb32 button.colab-df-convert');\n",
              "      buttonEl.style.display =\n",
              "        google.colab.kernel.accessAllowed ? 'block' : 'none';\n",
              "\n",
              "      async function convertToInteractive(key) {\n",
              "        const element = document.querySelector('#df-feff9c93-f66c-46b7-bced-ec57cc16cb32');\n",
              "        const dataTable =\n",
              "          await google.colab.kernel.invokeFunction('convertToInteractive',\n",
              "                                                    [key], {});\n",
              "        if (!dataTable) return;\n",
              "\n",
              "        const docLinkHtml = 'Like what you see? Visit the ' +\n",
              "          '<a target=\"_blank\" href=https://colab.research.google.com/notebooks/data_table.ipynb>data table notebook</a>'\n",
              "          + ' to learn more about interactive tables.';\n",
              "        element.innerHTML = '';\n",
              "        dataTable['output_type'] = 'display_data';\n",
              "        await google.colab.output.renderOutput(dataTable, element);\n",
              "        const docLink = document.createElement('div');\n",
              "        docLink.innerHTML = docLinkHtml;\n",
              "        element.appendChild(docLink);\n",
              "      }\n",
              "    </script>\n",
              "  </div>\n",
              "\n",
              "\n",
              "<div id=\"df-2044bd0a-9673-4ff3-8f6a-fb5dbdb2a50a\">\n",
              "  <button class=\"colab-df-quickchart\" onclick=\"quickchart('df-2044bd0a-9673-4ff3-8f6a-fb5dbdb2a50a')\"\n",
              "            title=\"Suggest charts.\"\n",
              "            style=\"display:none;\">\n",
              "\n",
              "<svg xmlns=\"http://www.w3.org/2000/svg\" height=\"24px\"viewBox=\"0 0 24 24\"\n",
              "     width=\"24px\">\n",
              "    <g>\n",
              "        <path d=\"M19 3H5c-1.1 0-2 .9-2 2v14c0 1.1.9 2 2 2h14c1.1 0 2-.9 2-2V5c0-1.1-.9-2-2-2zM9 17H7v-7h2v7zm4 0h-2V7h2v10zm4 0h-2v-4h2v4z\"/>\n",
              "    </g>\n",
              "</svg>\n",
              "  </button>\n",
              "\n",
              "<style>\n",
              "  .colab-df-quickchart {\n",
              "      --bg-color: #E8F0FE;\n",
              "      --fill-color: #1967D2;\n",
              "      --hover-bg-color: #E2EBFA;\n",
              "      --hover-fill-color: #174EA6;\n",
              "      --disabled-fill-color: #AAA;\n",
              "      --disabled-bg-color: #DDD;\n",
              "  }\n",
              "\n",
              "  [theme=dark] .colab-df-quickchart {\n",
              "      --bg-color: #3B4455;\n",
              "      --fill-color: #D2E3FC;\n",
              "      --hover-bg-color: #434B5C;\n",
              "      --hover-fill-color: #FFFFFF;\n",
              "      --disabled-bg-color: #3B4455;\n",
              "      --disabled-fill-color: #666;\n",
              "  }\n",
              "\n",
              "  .colab-df-quickchart {\n",
              "    background-color: var(--bg-color);\n",
              "    border: none;\n",
              "    border-radius: 50%;\n",
              "    cursor: pointer;\n",
              "    display: none;\n",
              "    fill: var(--fill-color);\n",
              "    height: 32px;\n",
              "    padding: 0;\n",
              "    width: 32px;\n",
              "  }\n",
              "\n",
              "  .colab-df-quickchart:hover {\n",
              "    background-color: var(--hover-bg-color);\n",
              "    box-shadow: 0 1px 2px rgba(60, 64, 67, 0.3), 0 1px 3px 1px rgba(60, 64, 67, 0.15);\n",
              "    fill: var(--button-hover-fill-color);\n",
              "  }\n",
              "\n",
              "  .colab-df-quickchart-complete:disabled,\n",
              "  .colab-df-quickchart-complete:disabled:hover {\n",
              "    background-color: var(--disabled-bg-color);\n",
              "    fill: var(--disabled-fill-color);\n",
              "    box-shadow: none;\n",
              "  }\n",
              "\n",
              "  .colab-df-spinner {\n",
              "    border: 2px solid var(--fill-color);\n",
              "    border-color: transparent;\n",
              "    border-bottom-color: var(--fill-color);\n",
              "    animation:\n",
              "      spin 1s steps(1) infinite;\n",
              "  }\n",
              "\n",
              "  @keyframes spin {\n",
              "    0% {\n",
              "      border-color: transparent;\n",
              "      border-bottom-color: var(--fill-color);\n",
              "      border-left-color: var(--fill-color);\n",
              "    }\n",
              "    20% {\n",
              "      border-color: transparent;\n",
              "      border-left-color: var(--fill-color);\n",
              "      border-top-color: var(--fill-color);\n",
              "    }\n",
              "    30% {\n",
              "      border-color: transparent;\n",
              "      border-left-color: var(--fill-color);\n",
              "      border-top-color: var(--fill-color);\n",
              "      border-right-color: var(--fill-color);\n",
              "    }\n",
              "    40% {\n",
              "      border-color: transparent;\n",
              "      border-right-color: var(--fill-color);\n",
              "      border-top-color: var(--fill-color);\n",
              "    }\n",
              "    60% {\n",
              "      border-color: transparent;\n",
              "      border-right-color: var(--fill-color);\n",
              "    }\n",
              "    80% {\n",
              "      border-color: transparent;\n",
              "      border-right-color: var(--fill-color);\n",
              "      border-bottom-color: var(--fill-color);\n",
              "    }\n",
              "    90% {\n",
              "      border-color: transparent;\n",
              "      border-bottom-color: var(--fill-color);\n",
              "    }\n",
              "  }\n",
              "</style>\n",
              "\n",
              "  <script>\n",
              "    async function quickchart(key) {\n",
              "      const quickchartButtonEl =\n",
              "        document.querySelector('#' + key + ' button');\n",
              "      quickchartButtonEl.disabled = true;  // To prevent multiple clicks.\n",
              "      quickchartButtonEl.classList.add('colab-df-spinner');\n",
              "      try {\n",
              "        const charts = await google.colab.kernel.invokeFunction(\n",
              "            'suggestCharts', [key], {});\n",
              "      } catch (error) {\n",
              "        console.error('Error during call to suggestCharts:', error);\n",
              "      }\n",
              "      quickchartButtonEl.classList.remove('colab-df-spinner');\n",
              "      quickchartButtonEl.classList.add('colab-df-quickchart-complete');\n",
              "    }\n",
              "    (() => {\n",
              "      let quickchartButtonEl =\n",
              "        document.querySelector('#df-2044bd0a-9673-4ff3-8f6a-fb5dbdb2a50a button');\n",
              "      quickchartButtonEl.style.display =\n",
              "        google.colab.kernel.accessAllowed ? 'block' : 'none';\n",
              "    })();\n",
              "  </script>\n",
              "</div>\n",
              "    </div>\n",
              "  </div>\n"
            ]
          },
          "metadata": {},
          "execution_count": 19
        }
      ],
      "source": [
        "with_ma = with_daylight.copy()\n",
        "\n",
        "for i in range(2, 8):\n",
        "    with_ma[f'ma_{int(i)}'] = with_ma[[f'target_lag_{j}' for j in range(1, i)]].mean(axis=1)\n",
        "    with_ma[f'mm_{int(i)}'] = with_ma[[f'target_lag_{j}' for j in range(1, i)]].median(axis=1)\n",
        "\n",
        "with_ma.head()"
      ]
    },
    {
      "cell_type": "code",
      "execution_count": 20,
      "metadata": {
        "id": "ph3mc5qr8Rhu"
      },
      "outputs": [],
      "source": [
        "# mark days-off\n",
        "\n",
        "try:\n",
        "    c19 = pd.read_csv('calendar2019.csv')\n",
        "except:\n",
        "    c19 = pd.read_csv('/content/drive/MyDrive/GglowByte_Hackaton/calendar2019.csv')\n",
        "\n",
        "try:\n",
        "    c20 = pd.read_csv('calendar2020.csv')\n",
        "except:\n",
        "    c20 = pd.read_csv('/content/drive/MyDrive/GglowByte_Hackaton/calendar2020.csv')\n",
        "\n",
        "try:\n",
        "    c21 = pd.read_csv('calendar2021.csv')\n",
        "except:\n",
        "    c21 = pd.read_csv('/content/drive/MyDrive/GglowByte_Hackaton/calendar2021.csv')\n",
        "\n",
        "try:\n",
        "    c22 = pd.read_csv('calendar2022.csv')\n",
        "except:\n",
        "    c22 = pd.read_csv('/content/drive/MyDrive/GglowByte_Hackaton/calendar2022.csv')\n",
        "\n",
        "try:\n",
        "    c23 = pd.read_csv('calendar2023.csv')\n",
        "except:\n",
        "    c23 = pd.read_csv('/content/drive/MyDrive/GglowByte_Hackaton/calendar2023.csv')"
      ]
    },
    {
      "cell_type": "code",
      "source": [
        "def get_daysoff(df, year):\n",
        "    months = {'Январь': '01', 'Февраль': '02', 'Март': '03', 'Апрель': '04', 'Май': '05', 'Июнь': '06',\n",
        "       'Июль': '07', 'Август': '08', 'Сентябрь': '09', 'Октябрь': '10', 'Ноябрь': '11', 'Декабрь': '12'}\n",
        "\n",
        "    yearly_daysoff = []\n",
        "    for month in months:\n",
        "        daysoff = [day for day in df[month].item().split(',') if '*' not in day]\n",
        "        daysoff = [day if len(day) > 1 else '0'+day for day in daysoff]\n",
        "        daysoff = [(year + '-' + months[month] + '-' + day) for day in daysoff]\n",
        "        yearly_daysoff.extend(daysoff)\n",
        "\n",
        "    return yearly_daysoff\n"
      ],
      "metadata": {
        "id": "U5vNx8lsA_uu"
      },
      "execution_count": 21,
      "outputs": []
    },
    {
      "cell_type": "code",
      "source": [
        "all_daysoff = []\n",
        "years = {'2019': c19, '2020': c20, '2021': c21, '2022': c22, '2023': c23}\n",
        "for year in years:\n",
        "    all_daysoff.extend(get_daysoff(df=years[year], year=year))"
      ],
      "metadata": {
        "id": "A-m03ttyBAFq"
      },
      "execution_count": 22,
      "outputs": []
    },
    {
      "cell_type": "code",
      "execution_count": 23,
      "metadata": {
        "id": "wpkO8jf08Rhu"
      },
      "outputs": [],
      "source": [
        "with_ma['dayoff'] = np.where(shifted['date'].astype('str').isin(all_daysoff), 1, 0)"
      ]
    },
    {
      "cell_type": "code",
      "execution_count": 24,
      "metadata": {
        "colab": {
          "base_uri": "https://localhost:8080/",
          "height": 322
        },
        "id": "CaWQJ8B88Rhu",
        "outputId": "903d159a-b05b-4451-9039-0699177932b9"
      },
      "outputs": [
        {
          "output_type": "execute_result",
          "data": {
            "text/plain": [
              "        date  time   target  temp_pred weather_pred  temp  dow  day  week  \\\n",
              "0 2019-01-22     0  546.601       -2.0     пасмурно  -3.7    1   22     4   \n",
              "1 2019-01-22     1  508.166       -2.0     пасмурно  -3.7    1   22     4   \n",
              "2 2019-01-22     2  485.543       -2.0     пасмурно  -3.7    1   22     4   \n",
              "3 2019-01-22     3  473.236       -3.0     пасмурно  -3.9    1   22     4   \n",
              "4 2019-01-22     4  467.938       -3.0     пасмурно  -3.9    1   22     4   \n",
              "\n",
              "   month  ...     mm_4       ma_5      mm_5      ma_6     mm_6        ma_7  \\\n",
              "0      1  ...  536.856  535.55575  535.0200  534.9548  533.184  536.452667   \n",
              "1      1  ...  502.079  500.30550  500.0425  499.3870  498.006  499.823667   \n",
              "2      1  ...  478.040  476.13875  476.3255  474.9476  474.611  475.832833   \n",
              "3      1  ...  464.489  463.36125  464.3360  462.9282  464.183  463.779333   \n",
              "4      1  ...  457.621  456.47775  457.1320  456.0934  456.643  457.105000   \n",
              "\n",
              "       mm_7  dayoff  cos_time  sin_time  \n",
              "0  535.0200       0  1.000000  0.000000  \n",
              "1  500.0065       0  0.965926  0.258819  \n",
              "2  476.3255       0  0.866025  0.500000  \n",
              "3  464.3360       0  0.707107  0.707107  \n",
              "4  457.1320       0  0.500000  0.866025  \n",
              "\n",
              "[5 rows x 64 columns]"
            ],
            "text/html": [
              "\n",
              "  <div id=\"df-ce559c86-f107-4783-b0a2-ff092daeaabb\" class=\"colab-df-container\">\n",
              "    <div>\n",
              "<style scoped>\n",
              "    .dataframe tbody tr th:only-of-type {\n",
              "        vertical-align: middle;\n",
              "    }\n",
              "\n",
              "    .dataframe tbody tr th {\n",
              "        vertical-align: top;\n",
              "    }\n",
              "\n",
              "    .dataframe thead th {\n",
              "        text-align: right;\n",
              "    }\n",
              "</style>\n",
              "<table border=\"1\" class=\"dataframe\">\n",
              "  <thead>\n",
              "    <tr style=\"text-align: right;\">\n",
              "      <th></th>\n",
              "      <th>date</th>\n",
              "      <th>time</th>\n",
              "      <th>target</th>\n",
              "      <th>temp_pred</th>\n",
              "      <th>weather_pred</th>\n",
              "      <th>temp</th>\n",
              "      <th>dow</th>\n",
              "      <th>day</th>\n",
              "      <th>week</th>\n",
              "      <th>month</th>\n",
              "      <th>...</th>\n",
              "      <th>mm_4</th>\n",
              "      <th>ma_5</th>\n",
              "      <th>mm_5</th>\n",
              "      <th>ma_6</th>\n",
              "      <th>mm_6</th>\n",
              "      <th>ma_7</th>\n",
              "      <th>mm_7</th>\n",
              "      <th>dayoff</th>\n",
              "      <th>cos_time</th>\n",
              "      <th>sin_time</th>\n",
              "    </tr>\n",
              "  </thead>\n",
              "  <tbody>\n",
              "    <tr>\n",
              "      <th>0</th>\n",
              "      <td>2019-01-22</td>\n",
              "      <td>0</td>\n",
              "      <td>546.601</td>\n",
              "      <td>-2.0</td>\n",
              "      <td>пасмурно</td>\n",
              "      <td>-3.7</td>\n",
              "      <td>1</td>\n",
              "      <td>22</td>\n",
              "      <td>4</td>\n",
              "      <td>1</td>\n",
              "      <td>...</td>\n",
              "      <td>536.856</td>\n",
              "      <td>535.55575</td>\n",
              "      <td>535.0200</td>\n",
              "      <td>534.9548</td>\n",
              "      <td>533.184</td>\n",
              "      <td>536.452667</td>\n",
              "      <td>535.0200</td>\n",
              "      <td>0</td>\n",
              "      <td>1.000000</td>\n",
              "      <td>0.000000</td>\n",
              "    </tr>\n",
              "    <tr>\n",
              "      <th>1</th>\n",
              "      <td>2019-01-22</td>\n",
              "      <td>1</td>\n",
              "      <td>508.166</td>\n",
              "      <td>-2.0</td>\n",
              "      <td>пасмурно</td>\n",
              "      <td>-3.7</td>\n",
              "      <td>1</td>\n",
              "      <td>22</td>\n",
              "      <td>4</td>\n",
              "      <td>1</td>\n",
              "      <td>...</td>\n",
              "      <td>502.079</td>\n",
              "      <td>500.30550</td>\n",
              "      <td>500.0425</td>\n",
              "      <td>499.3870</td>\n",
              "      <td>498.006</td>\n",
              "      <td>499.823667</td>\n",
              "      <td>500.0065</td>\n",
              "      <td>0</td>\n",
              "      <td>0.965926</td>\n",
              "      <td>0.258819</td>\n",
              "    </tr>\n",
              "    <tr>\n",
              "      <th>2</th>\n",
              "      <td>2019-01-22</td>\n",
              "      <td>2</td>\n",
              "      <td>485.543</td>\n",
              "      <td>-2.0</td>\n",
              "      <td>пасмурно</td>\n",
              "      <td>-3.7</td>\n",
              "      <td>1</td>\n",
              "      <td>22</td>\n",
              "      <td>4</td>\n",
              "      <td>1</td>\n",
              "      <td>...</td>\n",
              "      <td>478.040</td>\n",
              "      <td>476.13875</td>\n",
              "      <td>476.3255</td>\n",
              "      <td>474.9476</td>\n",
              "      <td>474.611</td>\n",
              "      <td>475.832833</td>\n",
              "      <td>476.3255</td>\n",
              "      <td>0</td>\n",
              "      <td>0.866025</td>\n",
              "      <td>0.500000</td>\n",
              "    </tr>\n",
              "    <tr>\n",
              "      <th>3</th>\n",
              "      <td>2019-01-22</td>\n",
              "      <td>3</td>\n",
              "      <td>473.236</td>\n",
              "      <td>-3.0</td>\n",
              "      <td>пасмурно</td>\n",
              "      <td>-3.9</td>\n",
              "      <td>1</td>\n",
              "      <td>22</td>\n",
              "      <td>4</td>\n",
              "      <td>1</td>\n",
              "      <td>...</td>\n",
              "      <td>464.489</td>\n",
              "      <td>463.36125</td>\n",
              "      <td>464.3360</td>\n",
              "      <td>462.9282</td>\n",
              "      <td>464.183</td>\n",
              "      <td>463.779333</td>\n",
              "      <td>464.3360</td>\n",
              "      <td>0</td>\n",
              "      <td>0.707107</td>\n",
              "      <td>0.707107</td>\n",
              "    </tr>\n",
              "    <tr>\n",
              "      <th>4</th>\n",
              "      <td>2019-01-22</td>\n",
              "      <td>4</td>\n",
              "      <td>467.938</td>\n",
              "      <td>-3.0</td>\n",
              "      <td>пасмурно</td>\n",
              "      <td>-3.9</td>\n",
              "      <td>1</td>\n",
              "      <td>22</td>\n",
              "      <td>4</td>\n",
              "      <td>1</td>\n",
              "      <td>...</td>\n",
              "      <td>457.621</td>\n",
              "      <td>456.47775</td>\n",
              "      <td>457.1320</td>\n",
              "      <td>456.0934</td>\n",
              "      <td>456.643</td>\n",
              "      <td>457.105000</td>\n",
              "      <td>457.1320</td>\n",
              "      <td>0</td>\n",
              "      <td>0.500000</td>\n",
              "      <td>0.866025</td>\n",
              "    </tr>\n",
              "  </tbody>\n",
              "</table>\n",
              "<p>5 rows × 64 columns</p>\n",
              "</div>\n",
              "    <div class=\"colab-df-buttons\">\n",
              "\n",
              "  <div class=\"colab-df-container\">\n",
              "    <button class=\"colab-df-convert\" onclick=\"convertToInteractive('df-ce559c86-f107-4783-b0a2-ff092daeaabb')\"\n",
              "            title=\"Convert this dataframe to an interactive table.\"\n",
              "            style=\"display:none;\">\n",
              "\n",
              "  <svg xmlns=\"http://www.w3.org/2000/svg\" height=\"24px\" viewBox=\"0 -960 960 960\">\n",
              "    <path d=\"M120-120v-720h720v720H120Zm60-500h600v-160H180v160Zm220 220h160v-160H400v160Zm0 220h160v-160H400v160ZM180-400h160v-160H180v160Zm440 0h160v-160H620v160ZM180-180h160v-160H180v160Zm440 0h160v-160H620v160Z\"/>\n",
              "  </svg>\n",
              "    </button>\n",
              "\n",
              "  <style>\n",
              "    .colab-df-container {\n",
              "      display:flex;\n",
              "      gap: 12px;\n",
              "    }\n",
              "\n",
              "    .colab-df-convert {\n",
              "      background-color: #E8F0FE;\n",
              "      border: none;\n",
              "      border-radius: 50%;\n",
              "      cursor: pointer;\n",
              "      display: none;\n",
              "      fill: #1967D2;\n",
              "      height: 32px;\n",
              "      padding: 0 0 0 0;\n",
              "      width: 32px;\n",
              "    }\n",
              "\n",
              "    .colab-df-convert:hover {\n",
              "      background-color: #E2EBFA;\n",
              "      box-shadow: 0px 1px 2px rgba(60, 64, 67, 0.3), 0px 1px 3px 1px rgba(60, 64, 67, 0.15);\n",
              "      fill: #174EA6;\n",
              "    }\n",
              "\n",
              "    .colab-df-buttons div {\n",
              "      margin-bottom: 4px;\n",
              "    }\n",
              "\n",
              "    [theme=dark] .colab-df-convert {\n",
              "      background-color: #3B4455;\n",
              "      fill: #D2E3FC;\n",
              "    }\n",
              "\n",
              "    [theme=dark] .colab-df-convert:hover {\n",
              "      background-color: #434B5C;\n",
              "      box-shadow: 0px 1px 3px 1px rgba(0, 0, 0, 0.15);\n",
              "      filter: drop-shadow(0px 1px 2px rgba(0, 0, 0, 0.3));\n",
              "      fill: #FFFFFF;\n",
              "    }\n",
              "  </style>\n",
              "\n",
              "    <script>\n",
              "      const buttonEl =\n",
              "        document.querySelector('#df-ce559c86-f107-4783-b0a2-ff092daeaabb button.colab-df-convert');\n",
              "      buttonEl.style.display =\n",
              "        google.colab.kernel.accessAllowed ? 'block' : 'none';\n",
              "\n",
              "      async function convertToInteractive(key) {\n",
              "        const element = document.querySelector('#df-ce559c86-f107-4783-b0a2-ff092daeaabb');\n",
              "        const dataTable =\n",
              "          await google.colab.kernel.invokeFunction('convertToInteractive',\n",
              "                                                    [key], {});\n",
              "        if (!dataTable) return;\n",
              "\n",
              "        const docLinkHtml = 'Like what you see? Visit the ' +\n",
              "          '<a target=\"_blank\" href=https://colab.research.google.com/notebooks/data_table.ipynb>data table notebook</a>'\n",
              "          + ' to learn more about interactive tables.';\n",
              "        element.innerHTML = '';\n",
              "        dataTable['output_type'] = 'display_data';\n",
              "        await google.colab.output.renderOutput(dataTable, element);\n",
              "        const docLink = document.createElement('div');\n",
              "        docLink.innerHTML = docLinkHtml;\n",
              "        element.appendChild(docLink);\n",
              "      }\n",
              "    </script>\n",
              "  </div>\n",
              "\n",
              "\n",
              "<div id=\"df-5be1ccb7-26cb-46cd-b6fd-bba37cf99aa9\">\n",
              "  <button class=\"colab-df-quickchart\" onclick=\"quickchart('df-5be1ccb7-26cb-46cd-b6fd-bba37cf99aa9')\"\n",
              "            title=\"Suggest charts.\"\n",
              "            style=\"display:none;\">\n",
              "\n",
              "<svg xmlns=\"http://www.w3.org/2000/svg\" height=\"24px\"viewBox=\"0 0 24 24\"\n",
              "     width=\"24px\">\n",
              "    <g>\n",
              "        <path d=\"M19 3H5c-1.1 0-2 .9-2 2v14c0 1.1.9 2 2 2h14c1.1 0 2-.9 2-2V5c0-1.1-.9-2-2-2zM9 17H7v-7h2v7zm4 0h-2V7h2v10zm4 0h-2v-4h2v4z\"/>\n",
              "    </g>\n",
              "</svg>\n",
              "  </button>\n",
              "\n",
              "<style>\n",
              "  .colab-df-quickchart {\n",
              "      --bg-color: #E8F0FE;\n",
              "      --fill-color: #1967D2;\n",
              "      --hover-bg-color: #E2EBFA;\n",
              "      --hover-fill-color: #174EA6;\n",
              "      --disabled-fill-color: #AAA;\n",
              "      --disabled-bg-color: #DDD;\n",
              "  }\n",
              "\n",
              "  [theme=dark] .colab-df-quickchart {\n",
              "      --bg-color: #3B4455;\n",
              "      --fill-color: #D2E3FC;\n",
              "      --hover-bg-color: #434B5C;\n",
              "      --hover-fill-color: #FFFFFF;\n",
              "      --disabled-bg-color: #3B4455;\n",
              "      --disabled-fill-color: #666;\n",
              "  }\n",
              "\n",
              "  .colab-df-quickchart {\n",
              "    background-color: var(--bg-color);\n",
              "    border: none;\n",
              "    border-radius: 50%;\n",
              "    cursor: pointer;\n",
              "    display: none;\n",
              "    fill: var(--fill-color);\n",
              "    height: 32px;\n",
              "    padding: 0;\n",
              "    width: 32px;\n",
              "  }\n",
              "\n",
              "  .colab-df-quickchart:hover {\n",
              "    background-color: var(--hover-bg-color);\n",
              "    box-shadow: 0 1px 2px rgba(60, 64, 67, 0.3), 0 1px 3px 1px rgba(60, 64, 67, 0.15);\n",
              "    fill: var(--button-hover-fill-color);\n",
              "  }\n",
              "\n",
              "  .colab-df-quickchart-complete:disabled,\n",
              "  .colab-df-quickchart-complete:disabled:hover {\n",
              "    background-color: var(--disabled-bg-color);\n",
              "    fill: var(--disabled-fill-color);\n",
              "    box-shadow: none;\n",
              "  }\n",
              "\n",
              "  .colab-df-spinner {\n",
              "    border: 2px solid var(--fill-color);\n",
              "    border-color: transparent;\n",
              "    border-bottom-color: var(--fill-color);\n",
              "    animation:\n",
              "      spin 1s steps(1) infinite;\n",
              "  }\n",
              "\n",
              "  @keyframes spin {\n",
              "    0% {\n",
              "      border-color: transparent;\n",
              "      border-bottom-color: var(--fill-color);\n",
              "      border-left-color: var(--fill-color);\n",
              "    }\n",
              "    20% {\n",
              "      border-color: transparent;\n",
              "      border-left-color: var(--fill-color);\n",
              "      border-top-color: var(--fill-color);\n",
              "    }\n",
              "    30% {\n",
              "      border-color: transparent;\n",
              "      border-left-color: var(--fill-color);\n",
              "      border-top-color: var(--fill-color);\n",
              "      border-right-color: var(--fill-color);\n",
              "    }\n",
              "    40% {\n",
              "      border-color: transparent;\n",
              "      border-right-color: var(--fill-color);\n",
              "      border-top-color: var(--fill-color);\n",
              "    }\n",
              "    60% {\n",
              "      border-color: transparent;\n",
              "      border-right-color: var(--fill-color);\n",
              "    }\n",
              "    80% {\n",
              "      border-color: transparent;\n",
              "      border-right-color: var(--fill-color);\n",
              "      border-bottom-color: var(--fill-color);\n",
              "    }\n",
              "    90% {\n",
              "      border-color: transparent;\n",
              "      border-bottom-color: var(--fill-color);\n",
              "    }\n",
              "  }\n",
              "</style>\n",
              "\n",
              "  <script>\n",
              "    async function quickchart(key) {\n",
              "      const quickchartButtonEl =\n",
              "        document.querySelector('#' + key + ' button');\n",
              "      quickchartButtonEl.disabled = true;  // To prevent multiple clicks.\n",
              "      quickchartButtonEl.classList.add('colab-df-spinner');\n",
              "      try {\n",
              "        const charts = await google.colab.kernel.invokeFunction(\n",
              "            'suggestCharts', [key], {});\n",
              "      } catch (error) {\n",
              "        console.error('Error during call to suggestCharts:', error);\n",
              "      }\n",
              "      quickchartButtonEl.classList.remove('colab-df-spinner');\n",
              "      quickchartButtonEl.classList.add('colab-df-quickchart-complete');\n",
              "    }\n",
              "    (() => {\n",
              "      let quickchartButtonEl =\n",
              "        document.querySelector('#df-5be1ccb7-26cb-46cd-b6fd-bba37cf99aa9 button');\n",
              "      quickchartButtonEl.style.display =\n",
              "        google.colab.kernel.accessAllowed ? 'block' : 'none';\n",
              "    })();\n",
              "  </script>\n",
              "</div>\n",
              "    </div>\n",
              "  </div>\n"
            ]
          },
          "metadata": {},
          "execution_count": 24
        }
      ],
      "source": [
        "#transform time\n",
        "def cos_sin_categorise(data, cos_column_name, sin_column_name, column_to_categorise):\n",
        "    \"\"\"\n",
        "    Применяет cos-sin тригонометрическую категоризацию\n",
        "\n",
        "    :param data: DataFrame содержащий данные\n",
        "    :param cos_column_name: Название будущей колонки с cos\n",
        "    :param sin_column_name: Название будущей колонки с sin\n",
        "    :param column_to_categorise: Назване колонки, которое хотим категоризовать\n",
        "    \"\"\"\n",
        "    data[cos_column_name] = np.cos((2*np.pi *data[column_to_categorise])/data[column_to_categorise].nunique())\n",
        "    data[sin_column_name] = np.sin((2*np.pi *data[column_to_categorise])/data[column_to_categorise].nunique())\n",
        "\n",
        "cos_sin_categorise(data=with_ma, cos_column_name='cos_time', sin_column_name='sin_time', column_to_categorise='time')\n",
        "with_ma.head()"
      ]
    },
    {
      "cell_type": "code",
      "source": [
        "end_train = train_df['date'].max()\n",
        "start_test = test_df['date'].min()\n",
        "end_test = test_df['date'].max()\n",
        "train = with_ma[with_ma['date'] <= end_train]\n",
        "test = with_ma[(with_ma['date'] >= start_test) & (with_ma['date'] <= end_test)]"
      ],
      "metadata": {
        "id": "WP_-6zuhDwez"
      },
      "execution_count": 27,
      "outputs": []
    },
    {
      "cell_type": "code",
      "source": [
        "# Посмотрим, где начинается и  заканчиваеся временнной ряд\n",
        "print(train['date'].min())\n",
        "print(train['date'].max())"
      ],
      "metadata": {
        "colab": {
          "base_uri": "https://localhost:8080/"
        },
        "id": "JbC9f505HsOM",
        "outputId": "be954031-2a1f-4e66-9ea2-954c3d4e181b"
      },
      "execution_count": 28,
      "outputs": [
        {
          "output_type": "stream",
          "name": "stdout",
          "text": [
            "2019-01-22 00:00:00\n",
            "2023-03-31 00:00:00\n"
          ]
        }
      ]
    },
    {
      "cell_type": "code",
      "source": [
        "# Посмотрим, где начинается и  заканчиваеся временнной ряд\n",
        "print(test['date'].min())\n",
        "print(test['date'].max())"
      ],
      "metadata": {
        "colab": {
          "base_uri": "https://localhost:8080/"
        },
        "id": "2IK8cSw0IOHX",
        "outputId": "589e2d52-16da-4a22-da76-46219b9bc799"
      },
      "execution_count": 29,
      "outputs": [
        {
          "output_type": "stream",
          "name": "stdout",
          "text": [
            "2023-04-01 00:00:00\n",
            "2023-07-31 00:00:00\n"
          ]
        }
      ]
    },
    {
      "cell_type": "code",
      "source": [
        "cols_to_drop=['date', 'target', 'weather_pred', 'sunrise', 'sunset', 'temp', 'time',\n",
        "                                                     'overcast', 'cloudy', 'rain', 'heavy_rain', 'snow', 'thunder', 'storm', 'light',\n",
        "                                                     'ma_2', 'ma_3', 'ma_4', 'ma_5', 'ma_7',\n",
        "                                                     'mm_2', 'mm_3', 'mm_4', 'mm_5', 'mm_6', 'mm_7',\n",
        "                                                     'temp_lag_1', 'temp_lag_2', 'temp_lag_4', 'diff_temp']"
      ],
      "metadata": {
        "id": "AAxmjE0SJWZ_"
      },
      "execution_count": 30,
      "outputs": []
    },
    {
      "cell_type": "code",
      "source": [
        "# Выделим признаки и целевой признак\n",
        "features_train = train.drop(cols_to_drop, axis=1)\n",
        "target_train = train['target']\n",
        "\n",
        "features_test = test.drop(cols_to_drop, axis=1)\n",
        "target_test = test['target']"
      ],
      "metadata": {
        "id": "MJKt6karJg3k"
      },
      "execution_count": 31,
      "outputs": []
    },
    {
      "cell_type": "code",
      "source": [
        "# Обучим CatBoostRegressor с гиперпараметрами по умолчанию\n",
        "cb = CatBoostRegressor(eval_metric= 'MAE', random_seed = 12345, verbose = False)\n",
        "\n",
        "tscv = TimeSeriesSplit(12)\n",
        "\n",
        "grid = {'learning_rate': [0.01, 0.03, 0.05, 0.07, 0.1],\n",
        "        'depth': [2, 4, 6, 8, 10],\n",
        "        'iterations': [1000, 1500, 2000]}\n",
        "\n",
        "gs = cb.grid_search(grid, features_train, target_train, cv=tscv, plot = True, verbose = False)"
      ],
      "metadata": {
        "colab": {
          "base_uri": "https://localhost:8080/",
          "height": 1000,
          "referenced_widgets": [
            "2561a887112847cb9cb1bdfd79fca132"
          ]
        },
        "id": "q-LB3dagKtRU",
        "outputId": "f8abe339-6166-4ef6-f813-f8cc886d62eb"
      },
      "execution_count": 32,
      "outputs": [
        {
          "output_type": "display_data",
          "data": {
            "text/plain": [
              "MetricVisualizer(layout=Layout(align_self='stretch', height='500px'))"
            ],
            "application/vnd.jupyter.widget-view+json": {
              "version_major": 2,
              "version_minor": 0,
              "model_id": "2561a887112847cb9cb1bdfd79fca132"
            }
          },
          "metadata": {}
        },
        {
          "output_type": "stream",
          "name": "stdout",
          "text": [
            "\n",
            "bestTest = 12.6408162\n",
            "bestIteration = 999\n",
            "\n",
            "\n",
            "bestTest = 10.36840713\n",
            "bestIteration = 999\n",
            "\n",
            "\n",
            "bestTest = 9.67905649\n",
            "bestIteration = 999\n",
            "\n",
            "\n",
            "bestTest = 9.461289053\n",
            "bestIteration = 978\n",
            "\n",
            "\n",
            "bestTest = 9.229082494\n",
            "bestIteration = 982\n",
            "\n",
            "\n",
            "bestTest = 11.69217087\n",
            "bestIteration = 1499\n",
            "\n",
            "\n",
            "bestTest = 9.724010089\n",
            "bestIteration = 1499\n",
            "\n",
            "\n",
            "bestTest = 9.280712715\n",
            "bestIteration = 1499\n",
            "\n",
            "\n",
            "bestTest = 9.192999737\n",
            "bestIteration = 1498\n",
            "\n",
            "\n",
            "bestTest = 9.07746891\n",
            "bestIteration = 1498\n",
            "\n",
            "\n",
            "bestTest = 11.11475172\n",
            "bestIteration = 1997\n",
            "\n",
            "\n",
            "bestTest = 9.35264293\n",
            "bestIteration = 1999\n",
            "\n",
            "\n",
            "bestTest = 9.086979478\n",
            "bestIteration = 1998\n",
            "\n",
            "\n",
            "bestTest = 9.028073093\n",
            "bestIteration = 1999\n",
            "\n",
            "\n",
            "bestTest = 9.028329751\n",
            "bestIteration = 1839\n",
            "\n",
            "\n",
            "bestTest = 11.09906319\n",
            "bestIteration = 999\n",
            "\n",
            "\n",
            "bestTest = 9.298646069\n",
            "bestIteration = 999\n",
            "\n",
            "\n",
            "bestTest = 8.938919209\n",
            "bestIteration = 999\n",
            "\n",
            "\n",
            "bestTest = 8.925248443\n",
            "bestIteration = 999\n",
            "\n",
            "\n",
            "bestTest = 8.740288691\n",
            "bestIteration = 932\n",
            "\n",
            "\n",
            "bestTest = 10.30868253\n",
            "bestIteration = 1499\n",
            "\n",
            "\n",
            "bestTest = 9.008294114\n",
            "bestIteration = 1491\n",
            "\n",
            "\n",
            "bestTest = 8.808959022\n",
            "bestIteration = 1414\n",
            "\n",
            "\n",
            "bestTest = 8.845708693\n",
            "bestIteration = 1407\n",
            "\n",
            "\n",
            "bestTest = 8.730228492\n",
            "bestIteration = 1108\n",
            "\n",
            "\n",
            "bestTest = 9.800831558\n",
            "bestIteration = 1999\n",
            "\n",
            "\n",
            "bestTest = 8.844527445\n",
            "bestIteration = 1992\n",
            "\n",
            "\n",
            "bestTest = 8.774347032\n",
            "bestIteration = 1999\n",
            "\n",
            "\n",
            "bestTest = 8.81597158\n",
            "bestIteration = 1809\n",
            "\n",
            "\n",
            "bestTest = 8.730228492\n",
            "bestIteration = 1108\n",
            "\n",
            "\n",
            "bestTest = 10.53332929\n",
            "bestIteration = 998\n",
            "\n",
            "\n",
            "bestTest = 8.931504717\n",
            "bestIteration = 999\n",
            "\n",
            "\n",
            "bestTest = 8.820430808\n",
            "bestIteration = 991\n",
            "\n",
            "\n",
            "bestTest = 8.766173465\n",
            "bestIteration = 799\n",
            "\n",
            "\n",
            "bestTest = 9.072100813\n",
            "bestIteration = 565\n",
            "\n",
            "\n",
            "bestTest = 9.695788748\n",
            "bestIteration = 1499\n",
            "\n",
            "\n",
            "bestTest = 8.732827033\n",
            "bestIteration = 1499\n",
            "\n",
            "\n",
            "bestTest = 8.782531368\n",
            "bestIteration = 1111\n",
            "\n",
            "\n",
            "bestTest = 8.766173465\n",
            "bestIteration = 799\n",
            "\n",
            "\n",
            "bestTest = 9.072100813\n",
            "bestIteration = 565\n",
            "\n",
            "\n",
            "bestTest = 9.295558493\n",
            "bestIteration = 1999\n",
            "\n",
            "\n",
            "bestTest = 8.696680297\n",
            "bestIteration = 1786\n",
            "\n",
            "\n",
            "bestTest = 8.782531368\n",
            "bestIteration = 1111\n",
            "\n",
            "\n",
            "bestTest = 8.766173465\n",
            "bestIteration = 799\n",
            "\n",
            "\n",
            "bestTest = 9.072100813\n",
            "bestIteration = 565\n",
            "\n",
            "\n",
            "bestTest = 10.33757397\n",
            "bestIteration = 998\n",
            "\n",
            "\n",
            "bestTest = 9.336647004\n",
            "bestIteration = 999\n",
            "\n",
            "\n",
            "bestTest = 9.209313453\n",
            "bestIteration = 993\n",
            "\n",
            "\n",
            "bestTest = 9.23388411\n",
            "bestIteration = 822\n",
            "\n",
            "\n",
            "bestTest = 9.351386311\n",
            "bestIteration = 787\n",
            "\n",
            "\n",
            "bestTest = 9.670844217\n",
            "bestIteration = 1499\n",
            "\n",
            "\n",
            "bestTest = 9.223106201\n",
            "bestIteration = 1486\n",
            "\n",
            "\n",
            "bestTest = 9.198151147\n",
            "bestIteration = 1247\n",
            "\n",
            "\n",
            "bestTest = 9.23388411\n",
            "bestIteration = 822\n",
            "\n",
            "\n",
            "bestTest = 9.351386311\n",
            "bestIteration = 787\n",
            "\n",
            "\n",
            "bestTest = 9.359456759\n",
            "bestIteration = 1999\n",
            "\n",
            "\n",
            "bestTest = 9.202233092\n",
            "bestIteration = 1892\n",
            "\n",
            "\n",
            "bestTest = 9.198151147\n",
            "bestIteration = 1247\n",
            "\n",
            "\n",
            "bestTest = 9.23388411\n",
            "bestIteration = 822\n",
            "\n",
            "\n",
            "bestTest = 9.351386311\n",
            "bestIteration = 787\n",
            "\n",
            "\n",
            "bestTest = 12.15899473\n",
            "bestIteration = 999\n",
            "\n",
            "\n",
            "bestTest = 13.39044742\n",
            "bestIteration = 988\n",
            "\n",
            "\n",
            "bestTest = 15.00221189\n",
            "bestIteration = 998\n",
            "\n",
            "\n",
            "bestTest = 17.34032746\n",
            "bestIteration = 983\n",
            "\n",
            "\n",
            "bestTest = 19.12909481\n",
            "bestIteration = 956\n",
            "\n",
            "\n",
            "bestTest = 11.65789315\n",
            "bestIteration = 1499\n",
            "\n",
            "\n",
            "bestTest = 13.23743471\n",
            "bestIteration = 1498\n",
            "\n",
            "\n",
            "bestTest = 14.92610726\n",
            "bestIteration = 1499\n",
            "\n",
            "\n",
            "bestTest = 17.23811403\n",
            "bestIteration = 1499\n",
            "\n",
            "\n",
            "bestTest = 19.09359287\n",
            "bestIteration = 1279\n",
            "\n",
            "\n",
            "bestTest = 11.42849309\n",
            "bestIteration = 1999\n",
            "\n",
            "\n",
            "bestTest = 13.16137227\n",
            "bestIteration = 1998\n",
            "\n",
            "\n",
            "bestTest = 14.89834434\n",
            "bestIteration = 1775\n",
            "\n",
            "\n",
            "bestTest = 17.21745527\n",
            "bestIteration = 1835\n",
            "\n",
            "\n",
            "bestTest = 19.08394955\n",
            "bestIteration = 1993\n",
            "\n",
            "Training on fold [0/12]\n",
            "\n",
            "bestTest = 12.60747351\n",
            "bestIteration = 1994\n",
            "\n",
            "Training on fold [1/12]\n",
            "\n",
            "bestTest = 42.42258278\n",
            "bestIteration = 1998\n",
            "\n",
            "Training on fold [2/12]\n",
            "\n",
            "bestTest = 13.73739499\n",
            "bestIteration = 1801\n",
            "\n",
            "Training on fold [3/12]\n",
            "\n",
            "bestTest = 14.23191498\n",
            "bestIteration = 1999\n",
            "\n",
            "Training on fold [4/12]\n",
            "\n",
            "bestTest = 10.17318513\n",
            "bestIteration = 1995\n",
            "\n",
            "Training on fold [5/12]\n",
            "\n",
            "bestTest = 15.71420293\n",
            "bestIteration = 1956\n",
            "\n",
            "Training on fold [6/12]\n",
            "\n",
            "bestTest = 12.64369141\n",
            "bestIteration = 239\n",
            "\n",
            "Training on fold [7/12]\n",
            "\n",
            "bestTest = 10.95454414\n",
            "bestIteration = 1963\n",
            "\n",
            "Training on fold [8/12]\n",
            "\n",
            "bestTest = 10.36673361\n",
            "bestIteration = 1990\n",
            "\n",
            "Training on fold [9/12]\n",
            "\n",
            "bestTest = 9.24433068\n",
            "bestIteration = 1984\n",
            "\n",
            "Training on fold [10/12]\n",
            "\n",
            "bestTest = 8.096662195\n",
            "bestIteration = 1918\n",
            "\n",
            "Training on fold [11/12]\n",
            "\n",
            "bestTest = 9.719146816\n",
            "bestIteration = 1998\n",
            "\n"
          ]
        }
      ]
    },
    {
      "cell_type": "code",
      "source": [
        "cb.get_best_score()"
      ],
      "metadata": {
        "colab": {
          "base_uri": "https://localhost:8080/"
        },
        "id": "CJAS9B7pL8XZ",
        "outputId": "cf1a9cad-8ce2-4d35-e833-3877fc2be118"
      },
      "execution_count": 33,
      "outputs": [
        {
          "output_type": "execute_result",
          "data": {
            "text/plain": [
              "{'learn': {'MAE': 5.653578496163932, 'RMSE': 7.638192839407117}}"
            ]
          },
          "metadata": {},
          "execution_count": 33
        }
      ]
    },
    {
      "cell_type": "code",
      "source": [
        "cb.get_all_params()"
      ],
      "metadata": {
        "colab": {
          "base_uri": "https://localhost:8080/"
        },
        "id": "6X_kpzcKL94a",
        "outputId": "8f04126b-8573-4b0b-cc45-f1d6e380be52"
      },
      "execution_count": 34,
      "outputs": [
        {
          "output_type": "execute_result",
          "data": {
            "text/plain": [
              "{'nan_mode': 'Min',\n",
              " 'eval_metric': 'MAE',\n",
              " 'iterations': 2000,\n",
              " 'sampling_frequency': 'PerTree',\n",
              " 'leaf_estimation_method': 'Newton',\n",
              " 'random_score_type': 'NormalWithModelSizeDecrease',\n",
              " 'grow_policy': 'SymmetricTree',\n",
              " 'penalties_coefficient': 1,\n",
              " 'boosting_type': 'Plain',\n",
              " 'model_shrink_mode': 'Constant',\n",
              " 'feature_border_type': 'GreedyLogSum',\n",
              " 'bayesian_matrix_reg': 0.10000000149011612,\n",
              " 'eval_fraction': 0,\n",
              " 'force_unit_auto_pair_weights': False,\n",
              " 'l2_leaf_reg': 3,\n",
              " 'random_strength': 1,\n",
              " 'rsm': 1,\n",
              " 'boost_from_average': True,\n",
              " 'model_size_reg': 0.5,\n",
              " 'pool_metainfo_options': {'tags': {}},\n",
              " 'subsample': 0.800000011920929,\n",
              " 'use_best_model': False,\n",
              " 'random_seed': 12345,\n",
              " 'depth': 6,\n",
              " 'posterior_sampling': False,\n",
              " 'border_count': 254,\n",
              " 'classes_count': 0,\n",
              " 'auto_class_weights': 'None',\n",
              " 'sparse_features_conflict_fraction': 0,\n",
              " 'leaf_estimation_backtracking': 'AnyImprovement',\n",
              " 'best_model_min_trees': 1,\n",
              " 'model_shrink_rate': 0,\n",
              " 'min_data_in_leaf': 1,\n",
              " 'loss_function': 'RMSE',\n",
              " 'learning_rate': 0.029999999329447743,\n",
              " 'score_function': 'Cosine',\n",
              " 'task_type': 'CPU',\n",
              " 'leaf_estimation_iterations': 1,\n",
              " 'bootstrap_type': 'MVS',\n",
              " 'max_leaves': 64}"
            ]
          },
          "metadata": {},
          "execution_count": 34
        }
      ]
    },
    {
      "cell_type": "code",
      "source": [
        "# Посмотрим на важность признаков для CatBoostRegressor\n",
        "\n",
        "cb_feat_imp = cb.get_feature_importance(prettified=True)\n",
        "\n",
        "plt.subplots(figsize=(10, 10))\n",
        "ax = sns.barplot(x=cb_feat_imp['Importances'], y=cb_feat_imp['Feature Id'])\n",
        "ax.set_title('Важность признаков для CatBoostRegressor')\n",
        "ax.set_yticklabels(cb_feat_imp['Feature Id'])\n",
        "ax.set_xlabel('Feature importances')\n",
        "ax.set_ylabel('Features')\n",
        "plt.show()"
      ],
      "metadata": {
        "colab": {
          "base_uri": "https://localhost:8080/",
          "height": 872
        },
        "id": "zus27XKTMIcp",
        "outputId": "8320ec54-85b8-4cd1-9799-0595a5b6ae4d"
      },
      "execution_count": 36,
      "outputs": [
        {
          "output_type": "display_data",
          "data": {
            "text/plain": [
              "<Figure size 1000x1000 with 1 Axes>"
            ],
            "image/png": "[encoded data removed]"
          },
          "metadata": {}
        }
      ]
    },
    {
      "cell_type": "code",
      "source": [
        "# Протестируем лучшую модель\n",
        "\n",
        "preds = cb.predict(features_test)\n",
        "preds = pd.DataFrame({'y_pred': preds, 'date': test['date']})\n",
        "preds_grouped = preds.groupby('date')['y_pred'].sum()\n",
        "y_test = pd.DataFrame({'y_test': target_test, 'date': test['date']})\n",
        "y_test_grouped = y_test.groupby('date')['y_test'].sum()\n",
        "test_mae = mean_absolute_error(y_test_grouped, preds_grouped)\n",
        "test_mae"
      ],
      "metadata": {
        "colab": {
          "base_uri": "https://localhost:8080/"
        },
        "id": "Y9FQ837nLyrX",
        "outputId": "59b4abd2-b3db-4620-83e5-55417e3f0cba"
      },
      "execution_count": 38,
      "outputs": [
        {
          "output_type": "execute_result",
          "data": {
            "text/plain": [
              "127.0971873241459"
            ]
          },
          "metadata": {},
          "execution_count": 38
        }
      ]
    },
    {
      "cell_type": "code",
      "source": [
        "plot_df = pd.DataFrame({'date': test['date'].unique(), 'y_true': y_test_grouped, 'y_pred': preds_grouped})\n",
        "\n",
        "fig, ax = plt.subplots(figsize=(12, 3))\n",
        "g = sns.lineplot(data=plot_df)\n",
        "plt.title('График таргета и предсказаний на тестовой выборке')\n",
        "plt.show()"
      ],
      "metadata": {
        "colab": {
          "base_uri": "https://localhost:8080/",
          "height": 333
        },
        "id": "vNQ-mddzNMyY",
        "outputId": "224ee22e-5ecd-4c0a-c50a-09628cfb8ed1"
      },
      "execution_count": 40,
      "outputs": [
        {
          "output_type": "display_data",
          "data": {
            "text/plain": [
              "<Figure size 1200x300 with 1 Axes>"
            ],
            "image/png": "[encoded data removed]"
          },
          "metadata": {}
        }
      ]
    }
  ],
  "metadata": {
    "kernelspec": {
      "display_name": "ds",
      "language": "python",
      "name": "python3"
    },
    "language_info": {
      "codemirror_mode": {
        "name": "ipython",
        "version": 3
      },
      "file_extension": ".py",
      "mimetype": "text/x-python",
      "name": "python",
      "nbconvert_exporter": "python",
      "pygments_lexer": "ipython3",
      "version": "3.11.5"
    },
    "colab": {
      "provenance": []
    },
    "widgets": {
      "application/vnd.jupyter.widget-state+json": {
        "2561a887112847cb9cb1bdfd79fca132": {
          "model_module": "catboost-widget",
          "model_name": "CatboostWidgetModel",
          "model_module_version": "^1.0.0",
          "state": {
            "_dom_classes": [],
            "_model_module": "catboost-widget",
            "_model_module_version": "^1.0.0",
            "_model_name": "CatboostWidgetModel",
            "_view_count": null,
            "_view_module": "catboost-widget",
            "_view_module_version": "^1.0.0",
            "_view_name": "CatboostWidgetView",
            "data": {
              "catboost_info": {
                "path": "catboost_info",
                "name": "catboost_info",
                "content": {
                  "passed_iterations": 74,
                  "total_iterations": 75,
                  "data": {
                    "iterations": [
                      {
                        "parameters": [
                          {
                            "depth": 2,
                            "learning_rate": 0.01,
                            "iterations": 1000
                          }
                        ],
                        "learn": [
                          12.49641125,
                          16.74627626
                        ],
                        "iteration": 0,
                        "passed_time": 3.430948676,
                        "remaining_time": 253.890202,
                        "test": [
                          12.6408162,
                          17.2663415
                        ]
                      },
                      {
                        "parameters": [
                          {
                            "depth": 2,
                            "learning_rate": 0.03,
                            "iterations": 1000
                          }
                        ],
                        "learn": [
                          10.13391729,
                          13.5923786
                        ],
                        "iteration": 1,
                        "passed_time": 7.404188751,
                        "remaining_time": 270.2528894,
                        "test": [
                          10.36840713,
                          13.69237811
                        ]
                      },
                      {
                        "parameters": [
                          {
                            "depth": 2,
                            "learning_rate": 0.05,
                            "iterations": 1000
                          }
                        ],
                        "learn": [
                          9.31057259,
                          12.57486908
                        ],
                        "iteration": 2,
                        "passed_time": 12.31613273,
                        "remaining_time": 295.5871855,
                        "test": [
                          9.67905649,
                          12.73290567
                        ]
                      },
                      {
                        "parameters": [
                          {
                            "depth": 2,
                            "learning_rate": 0.07,
                            "iterations": 1000
                          }
                        ],
                        "learn": [
                          8.922994682,
                          12.07613566
                        ],
                        "iteration": 3,
                        "passed_time": 15.73834848,
                        "remaining_time": 279.3556855,
                        "test": [
                          9.461289053,
                          12.47655383
                        ]
                      },
                      {
                        "parameters": [
                          {
                            "depth": 2,
                            "learning_rate": 0.1,
                            "iterations": 1000
                          }
                        ],
                        "learn": [
                          8.463413681,
                          11.48110695
                        ],
                        "iteration": 4,
                        "passed_time": 19.18369594,
                        "remaining_time": 268.5717431,
                        "test": [
                          9.229082494,
                          12.18321649
                        ]
                      },
                      {
                        "parameters": [
                          {
                            "depth": 2,
                            "learning_rate": 0.01,
                            "iterations": 1500
                          }
                        ],
                        "learn": [
                          11.45172957,
                          15.29801326
                        ],
                        "iteration": 5,
                        "passed_time": 25.41114226,
                        "remaining_time": 292.228136,
                        "test": [
                          11.69217087,
                          15.66459582
                        ]
                      },
                      {
                        "parameters": [
                          {
                            "depth": 2,
                            "learning_rate": 0.03,
                            "iterations": 1500
                          }
                        ],
                        "learn": [
                          9.372468681,
                          12.62880919
                        ],
                        "iteration": 6,
                        "passed_time": 30.49479231,
                        "remaining_time": 296.2351253,
                        "test": [
                          9.724010089,
                          12.82418393
                        ]
                      },
                      {
                        "parameters": [
                          {
                            "depth": 2,
                            "learning_rate": 0.05,
                            "iterations": 1500
                          }
                        ],
                        "learn": [
                          8.733233449,
                          11.84773102
                        ],
                        "iteration": 7,
                        "passed_time": 36.80688814,
                        "remaining_time": 308.2576882,
                        "test": [
                          9.280712715,
                          12.23577064
                        ]
                      },
                      {
                        "parameters": [
                          {
                            "depth": 2,
                            "learning_rate": 0.07,
                            "iterations": 1500
                          }
                        ],
                        "learn": [
                          8.405065683,
                          11.40428548
                        ],
                        "iteration": 8,
                        "passed_time": 41.99593142,
                        "remaining_time": 307.9701638,
                        "test": [
                          9.192999737,
                          12.17849489
                        ]
                      },
                      {
                        "parameters": [
                          {
                            "depth": 2,
                            "learning_rate": 0.1,
                            "iterations": 1500
                          }
                        ],
                        "learn": [
                          7.970998709,
                          10.82118418
                        ],
                        "iteration": 9,
                        "passed_time": 48.14130915,
                        "remaining_time": 312.9185095,
                        "test": [
                          9.07746891,
                          12.0032853
                        ]
                      },
                      {
                        "parameters": [
                          {
                            "depth": 2,
                            "learning_rate": 0.01,
                            "iterations": 2000
                          }
                        ],
                        "learn": [
                          10.86649506,
                          14.49122602
                        ],
                        "iteration": 10,
                        "passed_time": 55.04698009,
                        "remaining_time": 320.2733387,
                        "test": [
                          11.11475172,
                          14.68059688
                        ]
                      },
                      {
                        "parameters": [
                          {
                            "depth": 2,
                            "learning_rate": 0.03,
                            "iterations": 2000
                          }
                        ],
                        "learn": [
                          8.940079973,
                          12.06713542
                        ],
                        "iteration": 11,
                        "passed_time": 63.02892334,
                        "remaining_time": 330.9018475,
                        "test": [
                          9.35264293,
                          12.36613759
                        ]
                      },
                      {
                        "parameters": [
                          {
                            "depth": 2,
                            "learning_rate": 0.05,
                            "iterations": 2000
                          }
                        ],
                        "learn": [
                          8.369876935,
                          11.37383635
                        ],
                        "iteration": 12,
                        "passed_time": 69.83034548,
                        "remaining_time": 333.0370323,
                        "test": [
                          9.086979478,
                          12.02325156
                        ]
                      },
                      {
                        "parameters": [
                          {
                            "depth": 2,
                            "learning_rate": 0.07,
                            "iterations": 2000
                          }
                        ],
                        "learn": [
                          8.042555388,
                          10.93178958
                        ],
                        "iteration": 13,
                        "passed_time": 77.9945779,
                        "remaining_time": 339.833518,
                        "test": [
                          9.028073093,
                          12.00951096
                        ]
                      },
                      {
                        "parameters": [
                          {
                            "depth": 2,
                            "learning_rate": 0.1,
                            "iterations": 2000
                          }
                        ],
                        "learn": [
                          7.637665422,
                          10.37339599
                        ],
                        "iteration": 14,
                        "passed_time": 85.43630277,
                        "remaining_time": 341.7452111,
                        "test": [
                          9.028329751,
                          11.94243488
                        ]
                      },
                      {
                        "parameters": [
                          {
                            "depth": 4,
                            "learning_rate": 0.01,
                            "iterations": 1000
                          }
                        ],
                        "learn": [
                          10.49836857,
                          14.0905791
                        ],
                        "iteration": 15,
                        "passed_time": 91.09349807,
                        "remaining_time": 335.9072741,
                        "test": [
                          11.09906319,
                          14.67710914
                        ]
                      },
                      {
                        "parameters": [
                          {
                            "depth": 4,
                            "learning_rate": 0.03,
                            "iterations": 1000
                          }
                        ],
                        "learn": [
                          8.062321046,
                          10.91926148
                        ],
                        "iteration": 16,
                        "passed_time": 96.14214735,
                        "remaining_time": 328.0143851,
                        "test": [
                          9.298646069,
                          12.20014241
                        ]
                      },
                      {
                        "parameters": [
                          {
                            "depth": 4,
                            "learning_rate": 0.05,
                            "iterations": 1000
                          }
                        ],
                        "learn": [
                          7.302644129,
                          9.86325999
                        ],
                        "iteration": 17,
                        "passed_time": 102.4973382,
                        "remaining_time": 324.5749043,
                        "test": [
                          8.938919209,
                          11.76348358
                        ]
                      },
                      {
                        "parameters": [
                          {
                            "depth": 4,
                            "learning_rate": 0.07,
                            "iterations": 1000
                          }
                        ],
                        "learn": [
                          6.908531813,
                          9.291282714
                        ],
                        "iteration": 18,
                        "passed_time": 107.6429296,
                        "remaining_time": 317.2633714,
                        "test": [
                          8.925248443,
                          11.76574915
                        ]
                      },
                      {
                        "parameters": [
                          {
                            "depth": 4,
                            "learning_rate": 0.1,
                            "iterations": 1000
                          }
                        ],
                        "learn": [
                          6.347086307,
                          8.514214254
                        ],
                        "iteration": 19,
                        "passed_time": 114.0360509,
                        "remaining_time": 313.5991401,
                        "test": [
                          8.740288691,
                          11.55928789
                        ]
                      },
                      {
                        "parameters": [
                          {
                            "depth": 4,
                            "learning_rate": 0.01,
                            "iterations": 1500
                          }
                        ],
                        "learn": [
                          9.441831583,
                          12.70730029
                        ],
                        "iteration": 20,
                        "passed_time": 121.5366826,
                        "remaining_time": 312.5228982,
                        "test": [
                          10.30868253,
                          13.4848704
                        ]
                      },
                      {
                        "parameters": [
                          {
                            "depth": 4,
                            "learning_rate": 0.03,
                            "iterations": 1500
                          }
                        ],
                        "learn": [
                          7.388411657,
                          10.00839582
                        ],
                        "iteration": 21,
                        "passed_time": 130.5658416,
                        "remaining_time": 314.544982,
                        "test": [
                          9.008294114,
                          11.84168686
                        ]
                      },
                      {
                        "parameters": [
                          {
                            "depth": 4,
                            "learning_rate": 0.05,
                            "iterations": 1500
                          }
                        ],
                        "learn": [
                          6.664509983,
                          8.966076708
                        ],
                        "iteration": 22,
                        "passed_time": 139.5477066,
                        "remaining_time": 315.4991628,
                        "test": [
                          8.808959022,
                          11.617177
                        ]
                      },
                      {
                        "parameters": [
                          {
                            "depth": 4,
                            "learning_rate": 0.07,
                            "iterations": 1500
                          }
                        ],
                        "learn": [
                          6.251501029,
                          8.383714262
                        ],
                        "iteration": 23,
                        "passed_time": 147.2204922,
                        "remaining_time": 312.8435459,
                        "test": [
                          8.845708693,
                          11.67321902
                        ]
                      },
                      {
                        "parameters": [
                          {
                            "depth": 4,
                            "learning_rate": 0.1,
                            "iterations": 1500
                          }
                        ],
                        "learn": [
                          5.680258401,
                          7.586034479
                        ],
                        "iteration": 24,
                        "passed_time": 156.1402277,
                        "remaining_time": 312.2804554,
                        "test": [
                          8.730228492,
                          11.54135425
                        ]
                      },
                      {
                        "parameters": [
                          {
                            "depth": 4,
                            "learning_rate": 0.01,
                            "iterations": 2000
                          }
                        ],
                        "learn": [
                          8.764819822,
                          11.84959597
                        ],
                        "iteration": 25,
                        "passed_time": 167.4463854,
                        "remaining_time": 315.572034,
                        "test": [
                          9.800831558,
                          12.82195704
                        ]
                      },
                      {
                        "parameters": [
                          {
                            "depth": 4,
                            "learning_rate": 0.03,
                            "iterations": 2000
                          }
                        ],
                        "learn": [
                          6.959487263,
                          9.408011638
                        ],
                        "iteration": 26,
                        "passed_time": 178.9274593,
                        "remaining_time": 318.093261,
                        "test": [
                          8.844527445,
                          11.6428541
                        ]
                      },
                      {
                        "parameters": [
                          {
                            "depth": 4,
                            "learning_rate": 0.05,
                            "iterations": 2000
                          }
                        ],
                        "learn": [
                          6.215881284,
                          8.352839295
                        ],
                        "iteration": 27,
                        "passed_time": 190.4670041,
                        "remaining_time": 319.7124711,
                        "test": [
                          8.774347032,
                          11.55525618
                        ]
                      },
                      {
                        "parameters": [
                          {
                            "depth": 4,
                            "learning_rate": 0.07,
                            "iterations": 2000
                          }
                        ],
                        "learn": [
                          5.782869304,
                          7.738105008
                        ],
                        "iteration": 28,
                        "passed_time": 201.9676656,
                        "remaining_time": 320.362504,
                        "test": [
                          8.81597158,
                          11.64009245
                        ]
                      },
                      {
                        "parameters": [
                          {
                            "depth": 4,
                            "learning_rate": 0.1,
                            "iterations": 2000
                          }
                        ],
                        "learn": [
                          5.198577214,
                          6.933168537
                        ],
                        "iteration": 29,
                        "passed_time": 212.3975541,
                        "remaining_time": 318.5963311,
                        "test": [
                          8.730228492,
                          11.54135425
                        ]
                      },
                      {
                        "parameters": [
                          {
                            "depth": 6,
                            "learning_rate": 0.01,
                            "iterations": 1000
                          }
                        ],
                        "learn": [
                          9.399906502,
                          12.61866572
                        ],
                        "iteration": 30,
                        "passed_time": 221.8009888,
                        "remaining_time": 314.8143067,
                        "test": [
                          10.53332929,
                          13.98929902
                        ]
                      },
                      {
                        "parameters": [
                          {
                            "depth": 6,
                            "learning_rate": 0.03,
                            "iterations": 1000
                          }
                        ],
                        "learn": [
                          6.846792578,
                          9.224569432
                        ],
                        "iteration": 31,
                        "passed_time": 231.4299862,
                        "remaining_time": 310.9840439,
                        "test": [
                          8.931504717,
                          11.94753343
                        ]
                      },
                      {
                        "parameters": [
                          {
                            "depth": 6,
                            "learning_rate": 0.05,
                            "iterations": 1000
                          }
                        ],
                        "learn": [
                          5.991031578,
                          8.021548802
                        ],
                        "iteration": 32,
                        "passed_time": 241.6007947,
                        "remaining_time": 307.4919205,
                        "test": [
                          8.820430808,
                          11.81633095
                        ]
                      },
                      {
                        "parameters": [
                          {
                            "depth": 6,
                            "learning_rate": 0.07,
                            "iterations": 1000
                          }
                        ],
                        "learn": [
                          5.42147999,
                          7.218139547
                        ],
                        "iteration": 33,
                        "passed_time": 254.3720589,
                        "remaining_time": 306.7427769,
                        "test": [
                          8.766173465,
                          11.77165498
                        ]
                      },
                      {
                        "parameters": [
                          {
                            "depth": 6,
                            "learning_rate": 0.1,
                            "iterations": 1000
                          }
                        ],
                        "learn": [
                          4.809663895,
                          6.372327432
                        ],
                        "iteration": 34,
                        "passed_time": 266.6940317,
                        "remaining_time": 304.7931791,
                        "test": [
                          9.072100813,
                          12.13360045
                        ]
                      },
                      {
                        "parameters": [
                          {
                            "depth": 6,
                            "learning_rate": 0.01,
                            "iterations": 1500
                          }
                        ],
                        "learn": [
                          8.249958693,
                          11.14813567
                        ],
                        "iteration": 35,
                        "passed_time": 280.3069774,
                        "remaining_time": 303.6658921,
                        "test": [
                          9.695788748,
                          12.91110205
                        ]
                      },
                      {
                        "parameters": [
                          {
                            "depth": 6,
                            "learning_rate": 0.03,
                            "iterations": 1500
                          }
                        ],
                        "learn": [
                          6.070854632,
                          8.16437632
                        ],
                        "iteration": 36,
                        "passed_time": 296.2635888,
                        "remaining_time": 304.2707128,
                        "test": [
                          8.732827033,
                          11.70968108
                        ]
                      },
                      {
                        "parameters": [
                          {
                            "depth": 6,
                            "learning_rate": 0.05,
                            "iterations": 1500
                          }
                        ],
                        "learn": [
                          5.244667264,
                          6.993892288
                        ],
                        "iteration": 37,
                        "passed_time": 311.4359615,
                        "remaining_time": 303.2402783,
                        "test": [
                          8.782531368,
                          11.77320282
                        ]
                      },
                      {
                        "parameters": [
                          {
                            "depth": 6,
                            "learning_rate": 0.07,
                            "iterations": 1500
                          }
                        ],
                        "learn": [
                          4.638420971,
                          6.162001832
                        ],
                        "iteration": 38,
                        "passed_time": 325.5023848,
                        "remaining_time": 300.4637398,
                        "test": [
                          8.766173465,
                          11.77165498
                        ]
                      },
                      {
                        "parameters": [
                          {
                            "depth": 6,
                            "learning_rate": 0.1,
                            "iterations": 1500
                          }
                        ],
                        "learn": [
                          4.033597907,
                          5.332220331
                        ],
                        "iteration": 39,
                        "passed_time": 341.1726885,
                        "remaining_time": 298.5261024,
                        "test": [
                          9.072100813,
                          12.13360045
                        ]
                      },
                      {
                        "parameters": [
                          {
                            "depth": 6,
                            "learning_rate": 0.01,
                            "iterations": 2000
                          }
                        ],
                        "learn": [
                          7.552337048,
                          10.22901232
                        ],
                        "iteration": 40,
                        "passed_time": 359.6873005,
                        "remaining_time": 298.2772736,
                        "test": [
                          9.295558493,
                          12.42426034
                        ]
                      },
                      {
                        "parameters": [
                          {
                            "depth": 6,
                            "learning_rate": 0.03,
                            "iterations": 2000
                          }
                        ],
                        "learn": [
                          5.541297208,
                          7.431139189
                        ],
                        "iteration": 41,
                        "passed_time": 382.9459795,
                        "remaining_time": 300.8861268,
                        "test": [
                          8.696680297,
                          11.66755908
                        ]
                      },
                      {
                        "parameters": [
                          {
                            "depth": 6,
                            "learning_rate": 0.05,
                            "iterations": 2000
                          }
                        ],
                        "learn": [
                          4.683088464,
                          6.219221652
                        ],
                        "iteration": 42,
                        "passed_time": 403.3805138,
                        "remaining_time": 300.1901498,
                        "test": [
                          8.782531368,
                          11.77320282
                        ]
                      },
                      {
                        "parameters": [
                          {
                            "depth": 6,
                            "learning_rate": 0.07,
                            "iterations": 2000
                          }
                        ],
                        "learn": [
                          4.100284371,
                          5.438085275
                        ],
                        "iteration": 43,
                        "passed_time": 424.5258358,
                        "remaining_time": 299.097748,
                        "test": [
                          8.766173465,
                          11.77165498
                        ]
                      },
                      {
                        "parameters": [
                          {
                            "depth": 6,
                            "learning_rate": 0.1,
                            "iterations": 2000
                          }
                        ],
                        "learn": [
                          3.491245871,
                          4.611064667
                        ],
                        "iteration": 44,
                        "passed_time": 446.4583258,
                        "remaining_time": 297.6388839,
                        "test": [
                          9.072100813,
                          12.13360045
                        ]
                      },
                      {
                        "parameters": [
                          {
                            "depth": 8,
                            "learning_rate": 0.01,
                            "iterations": 1000
                          }
                        ],
                        "learn": [
                          8.482761354,
                          11.40241554
                        ],
                        "iteration": 45,
                        "passed_time": 470.33337,
                        "remaining_time": 296.5145159,
                        "test": [
                          10.33757397,
                          13.91875161
                        ]
                      },
                      {
                        "parameters": [
                          {
                            "depth": 8,
                            "learning_rate": 0.03,
                            "iterations": 1000
                          }
                        ],
                        "learn": [
                          5.730411679,
                          7.647836149
                        ],
                        "iteration": 46,
                        "passed_time": 489.9555483,
                        "remaining_time": 291.8884118,
                        "test": [
                          9.336647004,
                          12.54012427
                        ]
                      },
                      {
                        "parameters": [
                          {
                            "depth": 8,
                            "learning_rate": 0.05,
                            "iterations": 1000
                          }
                        ],
                        "learn": [
                          4.755745441,
                          6.300395095
                        ],
                        "iteration": 47,
                        "passed_time": 511.9057787,
                        "remaining_time": 287.9470005,
                        "test": [
                          9.209313453,
                          12.57399886
                        ]
                      },
                      {
                        "parameters": [
                          {
                            "depth": 8,
                            "learning_rate": 0.07,
                            "iterations": 1000
                          }
                        ],
                        "learn": [
                          4.133983733,
                          5.443935187
                        ],
                        "iteration": 48,
                        "passed_time": 533.0894199,
                        "remaining_time": 282.8637738,
                        "test": [
                          9.23388411,
                          12.55931054
                        ]
                      },
                      {
                        "parameters": [
                          {
                            "depth": 8,
                            "learning_rate": 0.1,
                            "iterations": 1000
                          }
                        ],
                        "learn": [
                          3.501912322,
                          4.609751979
                        ],
                        "iteration": 49,
                        "passed_time": 555.0373951,
                        "remaining_time": 277.5186976,
                        "test": [
                          9.351386311,
                          12.80422815
                        ]
                      },
                      {
                        "parameters": [
                          {
                            "depth": 8,
                            "learning_rate": 0.01,
                            "iterations": 1500
                          }
                        ],
                        "learn": [
                          7.244367187,
                          9.761271623
                        ],
                        "iteration": 50,
                        "passed_time": 587.1187142,
                        "remaining_time": 276.2911596,
                        "test": [
                          9.670844217,
                          13.08674227
                        ]
                      },
                      {
                        "parameters": [
                          {
                            "depth": 8,
                            "learning_rate": 0.03,
                            "iterations": 1500
                          }
                        ],
                        "learn": [
                          4.85406644,
                          6.459210781
                        ],
                        "iteration": 51,
                        "passed_time": 619.1985802,
                        "remaining_time": 273.8762951,
                        "test": [
                          9.223106201,
                          12.35387658
                        ]
                      },
                      {
                        "parameters": [
                          {
                            "depth": 8,
                            "learning_rate": 0.05,
                            "iterations": 1500
                          }
                        ],
                        "learn": [
                          3.902445764,
                          5.150040969
                        ],
                        "iteration": 52,
                        "passed_time": 652.2333732,
                        "remaining_time": 270.7383813,
                        "test": [
                          9.198151147,
                          12.55667003
                        ]
                      },
                      {
                        "parameters": [
                          {
                            "depth": 8,
                            "learning_rate": 0.07,
                            "iterations": 1500
                          }
                        ],
                        "learn": [
                          3.285787505,
                          4.322997503
                        ],
                        "iteration": 53,
                        "passed_time": 681.9886579,
                        "remaining_time": 265.2178114,
                        "test": [
                          9.23388411,
                          12.55931054
                        ]
                      },
                      {
                        "parameters": [
                          {
                            "depth": 8,
                            "learning_rate": 0.1,
                            "iterations": 1500
                          }
                        ],
                        "learn": [
                          2.675516492,
                          3.533603517
                        ],
                        "iteration": 54,
                        "passed_time": 712.3483429,
                        "remaining_time": 259.0357611,
                        "test": [
                          9.351386311,
                          12.79883956
                        ]
                      },
                      {
                        "parameters": [
                          {
                            "depth": 8,
                            "learning_rate": 0.01,
                            "iterations": 2000
                          }
                        ],
                        "learn": [
                          6.504883531,
                          8.743589372
                        ],
                        "iteration": 55,
                        "passed_time": 758.7853181,
                        "remaining_time": 257.4450186,
                        "test": [
                          9.359456759,
                          12.67941871
                        ]
                      },
                      {
                        "parameters": [
                          {
                            "depth": 8,
                            "learning_rate": 0.03,
                            "iterations": 2000
                          }
                        ],
                        "learn": [
                          4.266925429,
                          5.656583448
                        ],
                        "iteration": 56,
                        "passed_time": 801.3384917,
                        "remaining_time": 253.0542605,
                        "test": [
                          9.202233092,
                          12.31466783
                        ]
                      },
                      {
                        "parameters": [
                          {
                            "depth": 8,
                            "learning_rate": 0.05,
                            "iterations": 2000
                          }
                        ],
                        "learn": [
                          3.318085322,
                          4.384205653
                        ],
                        "iteration": 57,
                        "passed_time": 847.5763684,
                        "remaining_time": 248.4275563,
                        "test": [
                          9.198151147,
                          12.55667003
                        ]
                      },
                      {
                        "parameters": [
                          {
                            "depth": 8,
                            "learning_rate": 0.07,
                            "iterations": 2000
                          }
                        ],
                        "learn": [
                          2.724776657,
                          3.587496397
                        ],
                        "iteration": 58,
                        "passed_time": 893.2195217,
                        "remaining_time": 242.2290228,
                        "test": [
                          9.23388411,
                          12.55931054
                        ]
                      },
                      {
                        "parameters": [
                          {
                            "depth": 8,
                            "learning_rate": 0.1,
                            "iterations": 2000
                          }
                        ],
                        "learn": [
                          2.146383874,
                          2.836961527
                        ],
                        "iteration": 59,
                        "passed_time": 935.4738423,
                        "remaining_time": 233.8684606,
                        "test": [
                          9.351386311,
                          12.79883956
                        ]
                      },
                      {
                        "parameters": [
                          {
                            "depth": 10,
                            "learning_rate": 0.01,
                            "iterations": 1000
                          }
                        ],
                        "learn": [
                          7.618354075,
                          10.25541975
                        ],
                        "iteration": 60,
                        "passed_time": 995.1525153,
                        "remaining_time": 228.3956593,
                        "test": [
                          12.15899473,
                          16.66047383
                        ]
                      },
                      {
                        "parameters": [
                          {
                            "depth": 10,
                            "learning_rate": 0.03,
                            "iterations": 1000
                          }
                        ],
                        "learn": [
                          4.714358056,
                          6.267154143
                        ],
                        "iteration": 61,
                        "passed_time": 1055.174541,
                        "remaining_time": 221.2462746,
                        "test": [
                          13.39044742,
                          17.99433292
                        ]
                      },
                      {
                        "parameters": [
                          {
                            "depth": 10,
                            "learning_rate": 0.05,
                            "iterations": 1000
                          }
                        ],
                        "learn": [
                          3.654842837,
                          4.798290187
                        ],
                        "iteration": 62,
                        "passed_time": 1114.885465,
                        "remaining_time": 212.3591361,
                        "test": [
                          15.00221189,
                          19.77039811
                        ]
                      },
                      {
                        "parameters": [
                          {
                            "depth": 10,
                            "learning_rate": 0.07,
                            "iterations": 1000
                          }
                        ],
                        "learn": [
                          3.017617732,
                          3.972313475
                        ],
                        "iteration": 63,
                        "passed_time": 1173.384218,
                        "remaining_time": 201.6754125,
                        "test": [
                          17.34032746,
                          22.36490209
                        ]
                      },
                      {
                        "parameters": [
                          {
                            "depth": 10,
                            "learning_rate": 0.1,
                            "iterations": 1000
                          }
                        ],
                        "learn": [
                          2.345498992,
                          3.096391536
                        ],
                        "iteration": 64,
                        "passed_time": 1233.036768,
                        "remaining_time": 189.6979643,
                        "test": [
                          19.12909481,
                          24.41900454
                        ]
                      },
                      {
                        "parameters": [
                          {
                            "depth": 10,
                            "learning_rate": 0.01,
                            "iterations": 1500
                          }
                        ],
                        "learn": [
                          6.329236788,
                          8.508190168
                        ],
                        "iteration": 65,
                        "passed_time": 1321.020715,
                        "remaining_time": 180.1391884,
                        "test": [
                          11.65789315,
                          16.05786347
                        ]
                      },
                      {
                        "parameters": [
                          {
                            "depth": 10,
                            "learning_rate": 0.03,
                            "iterations": 1500
                          }
                        ],
                        "learn": [
                          3.750367119,
                          4.967526518
                        ],
                        "iteration": 66,
                        "passed_time": 1409.994713,
                        "remaining_time": 168.3575777,
                        "test": [
                          13.23743471,
                          17.81286093
                        ]
                      },
                      {
                        "parameters": [
                          {
                            "depth": 10,
                            "learning_rate": 0.05,
                            "iterations": 1500
                          }
                        ],
                        "learn": [
                          2.747162903,
                          3.610110622
                        ],
                        "iteration": 67,
                        "passed_time": 1499.124613,
                        "remaining_time": 154.3216513,
                        "test": [
                          14.92610726,
                          19.70717489
                        ]
                      },
                      {
                        "parameters": [
                          {
                            "depth": 10,
                            "learning_rate": 0.07,
                            "iterations": 1500
                          }
                        ],
                        "learn": [
                          2.160296476,
                          2.848184054
                        ],
                        "iteration": 68,
                        "passed_time": 1587.819128,
                        "remaining_time": 138.0712285,
                        "test": [
                          17.23811403,
                          22.30903874
                        ]
                      },
                      {
                        "parameters": [
                          {
                            "depth": 10,
                            "learning_rate": 0.1,
                            "iterations": 1500
                          }
                        ],
                        "learn": [
                          1.602146136,
                          2.117977133
                        ],
                        "iteration": 69,
                        "passed_time": 1676.369334,
                        "remaining_time": 119.7406667,
                        "test": [
                          19.09359287,
                          24.4012929
                        ]
                      },
                      {
                        "parameters": [
                          {
                            "depth": 10,
                            "learning_rate": 0.01,
                            "iterations": 2000
                          }
                        ],
                        "learn": [
                          5.545059321,
                          7.429282832
                        ],
                        "iteration": 70,
                        "passed_time": 1794.680577,
                        "remaining_time": 101.1087649,
                        "test": [
                          11.42849309,
                          15.73119545
                        ]
                      },
                      {
                        "parameters": [
                          {
                            "depth": 10,
                            "learning_rate": 0.03,
                            "iterations": 2000
                          }
                        ],
                        "learn": [
                          3.108676442,
                          4.116799212
                        ],
                        "iteration": 71,
                        "passed_time": 1912.677438,
                        "remaining_time": 79.69489323,
                        "test": [
                          13.16137227,
                          17.74604857
                        ]
                      },
                      {
                        "parameters": [
                          {
                            "depth": 10,
                            "learning_rate": 0.05,
                            "iterations": 2000
                          }
                        ],
                        "learn": [
                          2.164255061,
                          2.847321412
                        ],
                        "iteration": 72,
                        "passed_time": 2030.83668,
                        "remaining_time": 55.63936109,
                        "test": [
                          14.89834434,
                          19.68016728
                        ]
                      },
                      {
                        "parameters": [
                          {
                            "depth": 10,
                            "learning_rate": 0.07,
                            "iterations": 2000
                          }
                        ],
                        "learn": [
                          1.635978948,
                          2.161779555
                        ],
                        "iteration": 73,
                        "passed_time": 2149.294168,
                        "remaining_time": 29.04451579,
                        "test": [
                          17.21745527,
                          22.30562067
                        ]
                      },
                      {
                        "parameters": [
                          {
                            "depth": 10,
                            "learning_rate": 0.1,
                            "iterations": 2000
                          }
                        ],
                        "learn": [
                          1.161054597,
                          1.536085272
                        ],
                        "iteration": 74,
                        "passed_time": 2268.492271,
                        "remaining_time": 0,
                        "test": [
                          19.08394955,
                          24.4012929
                        ]
                      }
                    ],
                    "meta": {
                      "test_sets": [
                        "test"
                      ],
                      "test_metrics": [
                        {
                          "best_value": "Min",
                          "name": "MAE"
                        },
                        {
                          "best_value": "Min",
                          "name": "RMSE"
                        }
                      ],
                      "learn_metrics": [
                        {
                          "best_value": "Min",
                          "name": "MAE"
                        },
                        {
                          "best_value": "Min",
                          "name": "RMSE"
                        }
                      ],
                      "launch_mode": "Train",
                      "parameters": "parameters",
                      "iteration_count": 75,
                      "learn_sets": [
                        "learn"
                      ],
                      "name": "experiment"
                    }
                  }
                }
              }
            },
            "layout": "IPY_MODEL_b68198851891439b81ba34d5cb8f4c33"
          }
        }
      }
    }
  },
  "nbformat": 4,
  "nbformat_minor": 0
}