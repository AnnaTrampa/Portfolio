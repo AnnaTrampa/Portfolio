{
  "cells": [
    {
      "cell_type": "markdown",
      "metadata": {
        "id": "Ejmzg0qhnYON"
      },
      "source": [
        "<h1>Содержание<span class=\"tocSkip\"></span></h1>\n",
        "<div class=\"toc\"><ul class=\"toc-item\"><li><span><a href=\"#Цели-и-ход-исследования\" data-toc-modified-id=\"Цели-и-ход-исследования-1\"><span class=\"toc-item-num\">1&nbsp;&nbsp;</span>Цели и ход исследования</a></span></li><li><span><a href=\"#Подготовка\" data-toc-modified-id=\"Подготовка-2\"><span class=\"toc-item-num\">2&nbsp;&nbsp;</span>Подготовка</a></span></li><li><span><a href=\"#Анализ\" data-toc-modified-id=\"Анализ-3\"><span class=\"toc-item-num\">3&nbsp;&nbsp;</span>Анализ</a></span></li><li><span><a href=\"#Обучение\" data-toc-modified-id=\"Обучение-4\"><span class=\"toc-item-num\">4&nbsp;&nbsp;</span>Обучение</a></span><ul class=\"toc-item\"><li><span><a href=\"#Подготовка-признаков\" data-toc-modified-id=\"Подготовка-признаков-4.1\"><span class=\"toc-item-num\">4.1&nbsp;&nbsp;</span>Подготовка признаков</a></span></li><li><span><a href=\"#Линейные-модели\" data-toc-modified-id=\"Линейные-модели-4.2\"><span class=\"toc-item-num\">4.2&nbsp;&nbsp;</span>Линейные модели</a></span></li><li><span><a href=\"#CatBoostRegressor\" data-toc-modified-id=\"CatBoostRegressor-4.3\"><span class=\"toc-item-num\">4.3&nbsp;&nbsp;</span>CatBoostRegressor</a></span></li><li><span><a href=\"#LGBMRegressor\" data-toc-modified-id=\"LGBMRegressor-4.4\"><span class=\"toc-item-num\">4.4&nbsp;&nbsp;</span>LGBMRegressor</a></span></li><li><span><a href=\"#Результаты\" data-toc-modified-id=\"Результаты-4.5\"><span class=\"toc-item-num\">4.5&nbsp;&nbsp;</span>Результаты</a></span></li></ul></li><li><span><a href=\"#Тестирование\" data-toc-modified-id=\"Тестирование-5\"><span class=\"toc-item-num\">5&nbsp;&nbsp;</span>Тестирование</a></span></li><li><span><a href=\"#Общий-вывод\" data-toc-modified-id=\"Общий-вывод-6\"><span class=\"toc-item-num\">6&nbsp;&nbsp;</span>Общий вывод</a></span></li><li><span><a href=\"#Чек-лист-проверки\" data-toc-modified-id=\"Чек-лист-проверки-7\"><span class=\"toc-item-num\">7&nbsp;&nbsp;</span>Чек-лист проверки</a></span></li></ul></div>"
      ]
    },
    {
      "cell_type": "markdown",
      "metadata": {
        "id": "jV-Y_qQcnYOQ"
      },
      "source": [
        "#  Прогнозирование потребления электроэнергии\n",
        "\n",
        "\n",
        "\n",
        "\n",
        "\n"
      ]
    },
    {
      "cell_type": "markdown",
      "metadata": {
        "id": "v92vfZyjnYOT"
      },
      "source": [
        "## Цели и ход исследования"
      ]
    },
    {
      "cell_type": "markdown",
      "metadata": {
        "id": "RjC2UGjgnYOV"
      },
      "source": [
        "В данном исследовании мы проанализируем исторические данные о потреблении электроэнергии.\n",
        "\n",
        "**Цель исследования**:\n",
        "Построить модель, которая прогнозирует потребление на следующий день.\n",
        "\n",
        "**Ход исследования**:\n",
        "- Подготовка данных\n",
        "- Анализ данных\n",
        "- Обучение моделей\n",
        "- Тестирование модели"
      ]
    },
    {
      "cell_type": "markdown",
      "metadata": {
        "id": "0ETurXwPnYOW"
      },
      "source": [
        "## Подготовка"
      ]
    },
    {
      "cell_type": "code",
      "execution_count": null,
      "metadata": {
        "colab": {
          "base_uri": "https://localhost:8080/"
        },
        "id": "z03-Fn3-nYOZ",
        "outputId": "599a4286-c31b-4eb6-819d-2647aa8a244c"
      },
      "outputs": [
        {
          "output_type": "stream",
          "name": "stdout",
          "text": [
            "Collecting optuna\n",
            "  Downloading optuna-3.4.0-py3-none-any.whl (409 kB)\n",
            "\u001b[2K     \u001b[90m━━━━━━━━━━━━━━━━━━━━━━━━━━━━━━━━━━━━━━━━\u001b[0m \u001b[32m409.6/409.6 kB\u001b[0m \u001b[31m7.0 MB/s\u001b[0m eta \u001b[36m0:00:00\u001b[0m\n",
            "\u001b[?25hCollecting alembic>=1.5.0 (from optuna)\n",
            "  Downloading alembic-1.12.0-py3-none-any.whl (226 kB)\n",
            "\u001b[2K     \u001b[90m━━━━━━━━━━━━━━━━━━━━━━━━━━━━━━━━━━━━━━━━\u001b[0m \u001b[32m226.0/226.0 kB\u001b[0m \u001b[31m11.5 MB/s\u001b[0m eta \u001b[36m0:00:00\u001b[0m\n",
            "\u001b[?25hCollecting colorlog (from optuna)\n",
            "  Downloading colorlog-6.7.0-py2.py3-none-any.whl (11 kB)\n",
            "Requirement already satisfied: numpy in /usr/local/lib/python3.10/dist-packages (from optuna) (1.23.5)\n",
            "Requirement already satisfied: packaging>=20.0 in /usr/local/lib/python3.10/dist-packages (from optuna) (23.2)\n",
            "Requirement already satisfied: sqlalchemy>=1.3.0 in /usr/local/lib/python3.10/dist-packages (from optuna) (2.0.22)\n",
            "Requirement already satisfied: tqdm in /usr/local/lib/python3.10/dist-packages (from optuna) (4.66.1)\n",
            "Requirement already satisfied: PyYAML in /usr/local/lib/python3.10/dist-packages (from optuna) (6.0.1)\n",
            "Collecting Mako (from alembic>=1.5.0->optuna)\n",
            "  Downloading Mako-1.2.4-py3-none-any.whl (78 kB)\n",
            "\u001b[2K     \u001b[90m━━━━━━━━━━━━━━━━━━━━━━━━━━━━━━━━━━━━━━━━\u001b[0m \u001b[32m78.7/78.7 kB\u001b[0m \u001b[31m7.2 MB/s\u001b[0m eta \u001b[36m0:00:00\u001b[0m\n",
            "\u001b[?25hRequirement already satisfied: typing-extensions>=4 in /usr/local/lib/python3.10/dist-packages (from alembic>=1.5.0->optuna) (4.5.0)\n",
            "Requirement already satisfied: greenlet!=0.4.17 in /usr/local/lib/python3.10/dist-packages (from sqlalchemy>=1.3.0->optuna) (3.0.0)\n",
            "Requirement already satisfied: MarkupSafe>=0.9.2 in /usr/local/lib/python3.10/dist-packages (from Mako->alembic>=1.5.0->optuna) (2.1.3)\n",
            "Installing collected packages: Mako, colorlog, alembic, optuna\n",
            "Successfully installed Mako-1.2.4 alembic-1.12.0 colorlog-6.7.0 optuna-3.4.0\n",
            "Collecting catboost\n",
            "  Downloading catboost-1.2.2-cp310-cp310-manylinux2014_x86_64.whl (98.7 MB)\n",
            "\u001b[2K     \u001b[90m━━━━━━━━━━━━━━━━━━━━━━━━━━━━━━━━━━━━━━━━\u001b[0m \u001b[32m98.7/98.7 MB\u001b[0m \u001b[31m7.9 MB/s\u001b[0m eta \u001b[36m0:00:00\u001b[0m\n",
            "\u001b[?25hRequirement already satisfied: graphviz in /usr/local/lib/python3.10/dist-packages (from catboost) (0.20.1)\n",
            "Requirement already satisfied: matplotlib in /usr/local/lib/python3.10/dist-packages (from catboost) (3.7.1)\n",
            "Requirement already satisfied: numpy>=1.16.0 in /usr/local/lib/python3.10/dist-packages (from catboost) (1.23.5)\n",
            "Requirement already satisfied: pandas>=0.24 in /usr/local/lib/python3.10/dist-packages (from catboost) (1.5.3)\n",
            "Requirement already satisfied: scipy in /usr/local/lib/python3.10/dist-packages (from catboost) (1.11.3)\n",
            "Requirement already satisfied: plotly in /usr/local/lib/python3.10/dist-packages (from catboost) (5.15.0)\n",
            "Requirement already satisfied: six in /usr/local/lib/python3.10/dist-packages (from catboost) (1.16.0)\n",
            "Requirement already satisfied: python-dateutil>=2.8.1 in /usr/local/lib/python3.10/dist-packages (from pandas>=0.24->catboost) (2.8.2)\n",
            "Requirement already satisfied: pytz>=2020.1 in /usr/local/lib/python3.10/dist-packages (from pandas>=0.24->catboost) (2023.3.post1)\n",
            "Requirement already satisfied: contourpy>=1.0.1 in /usr/local/lib/python3.10/dist-packages (from matplotlib->catboost) (1.1.1)\n",
            "Requirement already satisfied: cycler>=0.10 in /usr/local/lib/python3.10/dist-packages (from matplotlib->catboost) (0.12.1)\n",
            "Requirement already satisfied: fonttools>=4.22.0 in /usr/local/lib/python3.10/dist-packages (from matplotlib->catboost) (4.43.1)\n",
            "Requirement already satisfied: kiwisolver>=1.0.1 in /usr/local/lib/python3.10/dist-packages (from matplotlib->catboost) (1.4.5)\n",
            "Requirement already satisfied: packaging>=20.0 in /usr/local/lib/python3.10/dist-packages (from matplotlib->catboost) (23.2)\n",
            "Requirement already satisfied: pillow>=6.2.0 in /usr/local/lib/python3.10/dist-packages (from matplotlib->catboost) (9.4.0)\n",
            "Requirement already satisfied: pyparsing>=2.3.1 in /usr/local/lib/python3.10/dist-packages (from matplotlib->catboost) (3.1.1)\n",
            "Requirement already satisfied: tenacity>=6.2.0 in /usr/local/lib/python3.10/dist-packages (from plotly->catboost) (8.2.3)\n",
            "Installing collected packages: catboost\n",
            "Successfully installed catboost-1.2.2\n"
          ]
        }
      ],
      "source": [
        "!pip install optuna\n",
        "!pip install catboost"
      ]
    },
    {
      "cell_type": "code",
      "execution_count": null,
      "metadata": {
        "id": "1wle0AqTnYOf"
      },
      "outputs": [],
      "source": [
        "# Импортируем библиотеки\n",
        "import pandas as pd\n",
        "import numpy as np\n",
        "import scipy as sp\n",
        "import matplotlib.pyplot as plt\n",
        "import seaborn as sns\n",
        "\n",
        "from statsmodels.tsa.seasonal import seasonal_decompose\n",
        "\n",
        "from sklearn.model_selection import train_test_split, TimeSeriesSplit, cross_val_score, GridSearchCV, cross_val_predict, cross_validate\n",
        "from sklearn.linear_model import LinearRegression, ElasticNet\n",
        "from sklearn.metrics import mean_absolute_error\n",
        "from sklearn.dummy import DummyRegressor\n",
        "from sklearn.preprocessing import OneHotEncoder, StandardScaler\n",
        "from sklearn.compose import ColumnTransformer\n",
        "from sklearn.pipeline import Pipeline\n",
        "from sklearn.inspection import permutation_importance\n",
        "\n",
        "import optuna\n",
        "\n",
        "import lightgbm as lgb\n",
        "\n",
        "from catboost import CatBoostRegressor, Pool\n",
        "\n",
        "from pymystem3 import Mystem\n",
        "\n",
        "import re\n",
        "\n",
        "import warnings; warnings.filterwarnings('ignore')"
      ]
    },
    {
      "cell_type": "code",
      "execution_count": null,
      "metadata": {
        "colab": {
          "base_uri": "https://localhost:8080/"
        },
        "id": "Xl6VnWhjrWkT",
        "outputId": "fc6a73f4-a021-4168-8169-b85e4a8c928a"
      },
      "outputs": [
        {
          "output_type": "stream",
          "name": "stdout",
          "text": [
            "Mounted at /content/drive\n"
          ]
        }
      ],
      "source": [
        "from google.colab import drive\n",
        "drive.mount('/content/drive')"
      ]
    },
    {
      "cell_type": "code",
      "execution_count": null,
      "metadata": {
        "id": "Hh3BUBBpnYOi"
      },
      "outputs": [],
      "source": [
        "# Открываем файл\n",
        "try:\n",
        "    df = pd.read_csv('train_dataset.csv', index_col=[0], parse_dates=[0])\n",
        "except:\n",
        "    df = pd.read_csv('/content/drive/MyDrive/train_dataset.csv', index_col=[0], parse_dates=[0])\n",
        "\n",
        "try:\n",
        "    df_test = pd.read_csv('test_dataset.csv', index_col=[0], parse_dates=[0])\n",
        "except:\n",
        "    df_test = pd.read_csv('/content/drive/MyDrive/test_dataset.csv', index_col=[0], parse_dates=[0])"
      ]
    },
    {
      "cell_type": "code",
      "execution_count": null,
      "metadata": {
        "colab": {
          "base_uri": "https://localhost:8080/"
        },
        "id": "oQq-nHopnYOq",
        "outputId": "94fc2d54-7510-489c-e72b-01e9753217af",
        "scrolled": true
      },
      "outputs": [
        {
          "name": "stdout",
          "output_type": "stream",
          "text": [
            "<class 'pandas.core.frame.DataFrame'>\n",
            "DatetimeIndex: 37224 entries, 2019-01-01 to 2023-03-31\n",
            "Data columns (total 6 columns):\n",
            " #   Column        Non-Null Count  Dtype  \n",
            "---  ------        --------------  -----  \n",
            " 0   time          37224 non-null  int64  \n",
            " 1   target        37224 non-null  float64\n",
            " 2   temp          37224 non-null  float64\n",
            " 3   temp_pred     37136 non-null  float64\n",
            " 4   weather_pred  37136 non-null  object \n",
            " 5   weather_fact  37223 non-null  object \n",
            "dtypes: float64(3), int64(1), object(2)\n",
            "memory usage: 2.0+ MB\n"
          ]
        }
      ],
      "source": [
        "# Изучим информацию\n",
        "df.info()"
      ]
    },
    {
      "cell_type": "code",
      "source": [
        "df_test.info()"
      ],
      "metadata": {
        "colab": {
          "base_uri": "https://localhost:8080/"
        },
        "id": "WzRlhs1MMHJG",
        "outputId": "518b5c42-64d4-4062-986e-650e76042588"
      },
      "execution_count": null,
      "outputs": [
        {
          "output_type": "stream",
          "name": "stdout",
          "text": [
            "<class 'pandas.core.frame.DataFrame'>\n",
            "DatetimeIndex: 2928 entries, 2023-04-01 to 2023-07-31\n",
            "Data columns (total 6 columns):\n",
            " #   Column        Non-Null Count  Dtype  \n",
            "---  ------        --------------  -----  \n",
            " 0   time          2928 non-null   int64  \n",
            " 1   target        2928 non-null   float64\n",
            " 2   temp          2928 non-null   float64\n",
            " 3   temp_pred     2904 non-null   float64\n",
            " 4   weather_pred  2904 non-null   object \n",
            " 5   weather_fact  2928 non-null   object \n",
            "dtypes: float64(3), int64(1), object(2)\n",
            "memory usage: 160.1+ KB\n"
          ]
        }
      ]
    },
    {
      "cell_type": "code",
      "execution_count": null,
      "metadata": {
        "colab": {
          "base_uri": "https://localhost:8080/",
          "height": 238
        },
        "id": "0TfW0eLFnYOr",
        "outputId": "eb574934-5128-4555-cd17-67c53fc48afc",
        "scrolled": false
      },
      "outputs": [
        {
          "data": {
            "text/html": [
              "\n",
              "  <div id=\"df-e799584b-74f7-4eb8-9323-14066df34f7e\" class=\"colab-df-container\">\n",
              "    <div>\n",
              "<style scoped>\n",
              "    .dataframe tbody tr th:only-of-type {\n",
              "        vertical-align: middle;\n",
              "    }\n",
              "\n",
              "    .dataframe tbody tr th {\n",
              "        vertical-align: top;\n",
              "    }\n",
              "\n",
              "    .dataframe thead th {\n",
              "        text-align: right;\n",
              "    }\n",
              "</style>\n",
              "<table border=\"1\" class=\"dataframe\">\n",
              "  <thead>\n",
              "    <tr style=\"text-align: right;\">\n",
              "      <th></th>\n",
              "      <th>time</th>\n",
              "      <th>target</th>\n",
              "      <th>temp</th>\n",
              "      <th>temp_pred</th>\n",
              "      <th>weather_pred</th>\n",
              "      <th>weather_fact</th>\n",
              "    </tr>\n",
              "    <tr>\n",
              "      <th>date</th>\n",
              "      <th></th>\n",
              "      <th></th>\n",
              "      <th></th>\n",
              "      <th></th>\n",
              "      <th></th>\n",
              "      <th></th>\n",
              "    </tr>\n",
              "  </thead>\n",
              "  <tbody>\n",
              "    <tr>\n",
              "      <th>2019-01-01</th>\n",
              "      <td>0</td>\n",
              "      <td>481.510</td>\n",
              "      <td>2.9</td>\n",
              "      <td>2.0</td>\n",
              "      <td>пасм, ветер</td>\n",
              "      <td>ветер</td>\n",
              "    </tr>\n",
              "    <tr>\n",
              "      <th>2019-01-01</th>\n",
              "      <td>1</td>\n",
              "      <td>462.872</td>\n",
              "      <td>2.9</td>\n",
              "      <td>2.0</td>\n",
              "      <td>пасм, ветер</td>\n",
              "      <td>ветер</td>\n",
              "    </tr>\n",
              "    <tr>\n",
              "      <th>2019-01-01</th>\n",
              "      <td>2</td>\n",
              "      <td>449.718</td>\n",
              "      <td>2.9</td>\n",
              "      <td>2.0</td>\n",
              "      <td>пасм, ветер</td>\n",
              "      <td>ветер</td>\n",
              "    </tr>\n",
              "    <tr>\n",
              "      <th>2019-01-01</th>\n",
              "      <td>3</td>\n",
              "      <td>430.908</td>\n",
              "      <td>4.3</td>\n",
              "      <td>2.0</td>\n",
              "      <td>пасм, ветер</td>\n",
              "      <td>ветер, пасм</td>\n",
              "    </tr>\n",
              "    <tr>\n",
              "      <th>2019-01-01</th>\n",
              "      <td>4</td>\n",
              "      <td>415.163</td>\n",
              "      <td>4.3</td>\n",
              "      <td>2.0</td>\n",
              "      <td>пасм, ветер</td>\n",
              "      <td>ветер, пасм</td>\n",
              "    </tr>\n",
              "  </tbody>\n",
              "</table>\n",
              "</div>\n",
              "    <div class=\"colab-df-buttons\">\n",
              "\n",
              "  <div class=\"colab-df-container\">\n",
              "    <button class=\"colab-df-convert\" onclick=\"convertToInteractive('df-e799584b-74f7-4eb8-9323-14066df34f7e')\"\n",
              "            title=\"Convert this dataframe to an interactive table.\"\n",
              "            style=\"display:none;\">\n",
              "\n",
              "  <svg xmlns=\"http://www.w3.org/2000/svg\" height=\"24px\" viewBox=\"0 -960 960 960\">\n",
              "    <path d=\"M120-120v-720h720v720H120Zm60-500h600v-160H180v160Zm220 220h160v-160H400v160Zm0 220h160v-160H400v160ZM180-400h160v-160H180v160Zm440 0h160v-160H620v160ZM180-180h160v-160H180v160Zm440 0h160v-160H620v160Z\"/>\n",
              "  </svg>\n",
              "    </button>\n",
              "\n",
              "  <style>\n",
              "    .colab-df-container {\n",
              "      display:flex;\n",
              "      gap: 12px;\n",
              "    }\n",
              "\n",
              "    .colab-df-convert {\n",
              "      background-color: #E8F0FE;\n",
              "      border: none;\n",
              "      border-radius: 50%;\n",
              "      cursor: pointer;\n",
              "      display: none;\n",
              "      fill: #1967D2;\n",
              "      height: 32px;\n",
              "      padding: 0 0 0 0;\n",
              "      width: 32px;\n",
              "    }\n",
              "\n",
              "    .colab-df-convert:hover {\n",
              "      background-color: #E2EBFA;\n",
              "      box-shadow: 0px 1px 2px rgba(60, 64, 67, 0.3), 0px 1px 3px 1px rgba(60, 64, 67, 0.15);\n",
              "      fill: #174EA6;\n",
              "    }\n",
              "\n",
              "    .colab-df-buttons div {\n",
              "      margin-bottom: 4px;\n",
              "    }\n",
              "\n",
              "    [theme=dark] .colab-df-convert {\n",
              "      background-color: #3B4455;\n",
              "      fill: #D2E3FC;\n",
              "    }\n",
              "\n",
              "    [theme=dark] .colab-df-convert:hover {\n",
              "      background-color: #434B5C;\n",
              "      box-shadow: 0px 1px 3px 1px rgba(0, 0, 0, 0.15);\n",
              "      filter: drop-shadow(0px 1px 2px rgba(0, 0, 0, 0.3));\n",
              "      fill: #FFFFFF;\n",
              "    }\n",
              "  </style>\n",
              "\n",
              "    <script>\n",
              "      const buttonEl =\n",
              "        document.querySelector('#df-e799584b-74f7-4eb8-9323-14066df34f7e button.colab-df-convert');\n",
              "      buttonEl.style.display =\n",
              "        google.colab.kernel.accessAllowed ? 'block' : 'none';\n",
              "\n",
              "      async function convertToInteractive(key) {\n",
              "        const element = document.querySelector('#df-e799584b-74f7-4eb8-9323-14066df34f7e');\n",
              "        const dataTable =\n",
              "          await google.colab.kernel.invokeFunction('convertToInteractive',\n",
              "                                                    [key], {});\n",
              "        if (!dataTable) return;\n",
              "\n",
              "        const docLinkHtml = 'Like what you see? Visit the ' +\n",
              "          '<a target=\"_blank\" href=https://colab.research.google.com/notebooks/data_table.ipynb>data table notebook</a>'\n",
              "          + ' to learn more about interactive tables.';\n",
              "        element.innerHTML = '';\n",
              "        dataTable['output_type'] = 'display_data';\n",
              "        await google.colab.output.renderOutput(dataTable, element);\n",
              "        const docLink = document.createElement('div');\n",
              "        docLink.innerHTML = docLinkHtml;\n",
              "        element.appendChild(docLink);\n",
              "      }\n",
              "    </script>\n",
              "  </div>\n",
              "\n",
              "\n",
              "<div id=\"df-965242b6-9735-403f-a3d1-0098713052bf\">\n",
              "  <button class=\"colab-df-quickchart\" onclick=\"quickchart('df-965242b6-9735-403f-a3d1-0098713052bf')\"\n",
              "            title=\"Suggest charts.\"\n",
              "            style=\"display:none;\">\n",
              "\n",
              "<svg xmlns=\"http://www.w3.org/2000/svg\" height=\"24px\"viewBox=\"0 0 24 24\"\n",
              "     width=\"24px\">\n",
              "    <g>\n",
              "        <path d=\"M19 3H5c-1.1 0-2 .9-2 2v14c0 1.1.9 2 2 2h14c1.1 0 2-.9 2-2V5c0-1.1-.9-2-2-2zM9 17H7v-7h2v7zm4 0h-2V7h2v10zm4 0h-2v-4h2v4z\"/>\n",
              "    </g>\n",
              "</svg>\n",
              "  </button>\n",
              "\n",
              "<style>\n",
              "  .colab-df-quickchart {\n",
              "      --bg-color: #E8F0FE;\n",
              "      --fill-color: #1967D2;\n",
              "      --hover-bg-color: #E2EBFA;\n",
              "      --hover-fill-color: #174EA6;\n",
              "      --disabled-fill-color: #AAA;\n",
              "      --disabled-bg-color: #DDD;\n",
              "  }\n",
              "\n",
              "  [theme=dark] .colab-df-quickchart {\n",
              "      --bg-color: #3B4455;\n",
              "      --fill-color: #D2E3FC;\n",
              "      --hover-bg-color: #434B5C;\n",
              "      --hover-fill-color: #FFFFFF;\n",
              "      --disabled-bg-color: #3B4455;\n",
              "      --disabled-fill-color: #666;\n",
              "  }\n",
              "\n",
              "  .colab-df-quickchart {\n",
              "    background-color: var(--bg-color);\n",
              "    border: none;\n",
              "    border-radius: 50%;\n",
              "    cursor: pointer;\n",
              "    display: none;\n",
              "    fill: var(--fill-color);\n",
              "    height: 32px;\n",
              "    padding: 0;\n",
              "    width: 32px;\n",
              "  }\n",
              "\n",
              "  .colab-df-quickchart:hover {\n",
              "    background-color: var(--hover-bg-color);\n",
              "    box-shadow: 0 1px 2px rgba(60, 64, 67, 0.3), 0 1px 3px 1px rgba(60, 64, 67, 0.15);\n",
              "    fill: var(--button-hover-fill-color);\n",
              "  }\n",
              "\n",
              "  .colab-df-quickchart-complete:disabled,\n",
              "  .colab-df-quickchart-complete:disabled:hover {\n",
              "    background-color: var(--disabled-bg-color);\n",
              "    fill: var(--disabled-fill-color);\n",
              "    box-shadow: none;\n",
              "  }\n",
              "\n",
              "  .colab-df-spinner {\n",
              "    border: 2px solid var(--fill-color);\n",
              "    border-color: transparent;\n",
              "    border-bottom-color: var(--fill-color);\n",
              "    animation:\n",
              "      spin 1s steps(1) infinite;\n",
              "  }\n",
              "\n",
              "  @keyframes spin {\n",
              "    0% {\n",
              "      border-color: transparent;\n",
              "      border-bottom-color: var(--fill-color);\n",
              "      border-left-color: var(--fill-color);\n",
              "    }\n",
              "    20% {\n",
              "      border-color: transparent;\n",
              "      border-left-color: var(--fill-color);\n",
              "      border-top-color: var(--fill-color);\n",
              "    }\n",
              "    30% {\n",
              "      border-color: transparent;\n",
              "      border-left-color: var(--fill-color);\n",
              "      border-top-color: var(--fill-color);\n",
              "      border-right-color: var(--fill-color);\n",
              "    }\n",
              "    40% {\n",
              "      border-color: transparent;\n",
              "      border-right-color: var(--fill-color);\n",
              "      border-top-color: var(--fill-color);\n",
              "    }\n",
              "    60% {\n",
              "      border-color: transparent;\n",
              "      border-right-color: var(--fill-color);\n",
              "    }\n",
              "    80% {\n",
              "      border-color: transparent;\n",
              "      border-right-color: var(--fill-color);\n",
              "      border-bottom-color: var(--fill-color);\n",
              "    }\n",
              "    90% {\n",
              "      border-color: transparent;\n",
              "      border-bottom-color: var(--fill-color);\n",
              "    }\n",
              "  }\n",
              "</style>\n",
              "\n",
              "  <script>\n",
              "    async function quickchart(key) {\n",
              "      const quickchartButtonEl =\n",
              "        document.querySelector('#' + key + ' button');\n",
              "      quickchartButtonEl.disabled = true;  // To prevent multiple clicks.\n",
              "      quickchartButtonEl.classList.add('colab-df-spinner');\n",
              "      try {\n",
              "        const charts = await google.colab.kernel.invokeFunction(\n",
              "            'suggestCharts', [key], {});\n",
              "      } catch (error) {\n",
              "        console.error('Error during call to suggestCharts:', error);\n",
              "      }\n",
              "      quickchartButtonEl.classList.remove('colab-df-spinner');\n",
              "      quickchartButtonEl.classList.add('colab-df-quickchart-complete');\n",
              "    }\n",
              "    (() => {\n",
              "      let quickchartButtonEl =\n",
              "        document.querySelector('#df-965242b6-9735-403f-a3d1-0098713052bf button');\n",
              "      quickchartButtonEl.style.display =\n",
              "        google.colab.kernel.accessAllowed ? 'block' : 'none';\n",
              "    })();\n",
              "  </script>\n",
              "</div>\n",
              "    </div>\n",
              "  </div>\n"
            ],
            "text/plain": [
              "            time   target  temp  temp_pred weather_pred weather_fact\n",
              "date                                                                \n",
              "2019-01-01     0  481.510   2.9        2.0  пасм, ветер        ветер\n",
              "2019-01-01     1  462.872   2.9        2.0  пасм, ветер        ветер\n",
              "2019-01-01     2  449.718   2.9        2.0  пасм, ветер        ветер\n",
              "2019-01-01     3  430.908   4.3        2.0  пасм, ветер  ветер, пасм\n",
              "2019-01-01     4  415.163   4.3        2.0  пасм, ветер  ветер, пасм"
            ]
          },
          "execution_count": 134,
          "metadata": {},
          "output_type": "execute_result"
        }
      ],
      "source": [
        "df.head()"
      ]
    },
    {
      "cell_type": "code",
      "execution_count": null,
      "metadata": {
        "colab": {
          "base_uri": "https://localhost:8080/"
        },
        "id": "J334RLYPnYOs",
        "outputId": "36844409-da7b-4a82-bd88-c9a13dd7ebc1"
      },
      "outputs": [
        {
          "data": {
            "text/plain": [
              "True"
            ]
          },
          "execution_count": 135,
          "metadata": {},
          "output_type": "execute_result"
        }
      ],
      "source": [
        "# Проверим расположены ли даты и время в хронологическом ли порядке\n",
        "df.index.is_monotonic"
      ]
    },
    {
      "cell_type": "code",
      "execution_count": null,
      "metadata": {
        "id": "S6qKN9kknYOu"
      },
      "outputs": [],
      "source": [
        "# Ресемплируем данные по одному часу\n",
        "df_resapmle = df.drop(['time', 'temp', 'temp_pred', 'weather_pred', 'weather_fact'], axis=1)\n",
        "df_resapmle =df_resapmle.resample('1D').sum()"
      ]
    },
    {
      "cell_type": "code",
      "source": [
        "df_test_resapmle = df_test.drop(['time', 'temp', 'temp_pred', 'weather_pred', 'weather_fact'], axis=1)\n",
        "df_test_resapmle =df_test_resapmle.resample('1D').sum()"
      ],
      "metadata": {
        "id": "bguKmu8BL26Q"
      },
      "execution_count": null,
      "outputs": []
    },
    {
      "cell_type": "code",
      "execution_count": null,
      "metadata": {
        "colab": {
          "base_uri": "https://localhost:8080/",
          "height": 238
        },
        "id": "aWB84ak10cwe",
        "outputId": "b5fc7a1d-b45b-4239-b462-3d82dde41e5b"
      },
      "outputs": [
        {
          "data": {
            "text/html": [
              "\n",
              "  <div id=\"df-3455592f-8634-4672-977c-5eaf031377b4\" class=\"colab-df-container\">\n",
              "    <div>\n",
              "<style scoped>\n",
              "    .dataframe tbody tr th:only-of-type {\n",
              "        vertical-align: middle;\n",
              "    }\n",
              "\n",
              "    .dataframe tbody tr th {\n",
              "        vertical-align: top;\n",
              "    }\n",
              "\n",
              "    .dataframe thead th {\n",
              "        text-align: right;\n",
              "    }\n",
              "</style>\n",
              "<table border=\"1\" class=\"dataframe\">\n",
              "  <thead>\n",
              "    <tr style=\"text-align: right;\">\n",
              "      <th></th>\n",
              "      <th>target</th>\n",
              "    </tr>\n",
              "    <tr>\n",
              "      <th>date</th>\n",
              "      <th></th>\n",
              "    </tr>\n",
              "  </thead>\n",
              "  <tbody>\n",
              "    <tr>\n",
              "      <th>2019-01-01</th>\n",
              "      <td>11126.866</td>\n",
              "    </tr>\n",
              "    <tr>\n",
              "      <th>2019-01-02</th>\n",
              "      <td>11547.210</td>\n",
              "    </tr>\n",
              "    <tr>\n",
              "      <th>2019-01-03</th>\n",
              "      <td>12235.564</td>\n",
              "    </tr>\n",
              "    <tr>\n",
              "      <th>2019-01-04</th>\n",
              "      <td>12763.044</td>\n",
              "    </tr>\n",
              "    <tr>\n",
              "      <th>2019-01-05</th>\n",
              "      <td>12735.145</td>\n",
              "    </tr>\n",
              "  </tbody>\n",
              "</table>\n",
              "</div>\n",
              "    <div class=\"colab-df-buttons\">\n",
              "\n",
              "  <div class=\"colab-df-container\">\n",
              "    <button class=\"colab-df-convert\" onclick=\"convertToInteractive('df-3455592f-8634-4672-977c-5eaf031377b4')\"\n",
              "            title=\"Convert this dataframe to an interactive table.\"\n",
              "            style=\"display:none;\">\n",
              "\n",
              "  <svg xmlns=\"http://www.w3.org/2000/svg\" height=\"24px\" viewBox=\"0 -960 960 960\">\n",
              "    <path d=\"M120-120v-720h720v720H120Zm60-500h600v-160H180v160Zm220 220h160v-160H400v160Zm0 220h160v-160H400v160ZM180-400h160v-160H180v160Zm440 0h160v-160H620v160ZM180-180h160v-160H180v160Zm440 0h160v-160H620v160Z\"/>\n",
              "  </svg>\n",
              "    </button>\n",
              "\n",
              "  <style>\n",
              "    .colab-df-container {\n",
              "      display:flex;\n",
              "      gap: 12px;\n",
              "    }\n",
              "\n",
              "    .colab-df-convert {\n",
              "      background-color: #E8F0FE;\n",
              "      border: none;\n",
              "      border-radius: 50%;\n",
              "      cursor: pointer;\n",
              "      display: none;\n",
              "      fill: #1967D2;\n",
              "      height: 32px;\n",
              "      padding: 0 0 0 0;\n",
              "      width: 32px;\n",
              "    }\n",
              "\n",
              "    .colab-df-convert:hover {\n",
              "      background-color: #E2EBFA;\n",
              "      box-shadow: 0px 1px 2px rgba(60, 64, 67, 0.3), 0px 1px 3px 1px rgba(60, 64, 67, 0.15);\n",
              "      fill: #174EA6;\n",
              "    }\n",
              "\n",
              "    .colab-df-buttons div {\n",
              "      margin-bottom: 4px;\n",
              "    }\n",
              "\n",
              "    [theme=dark] .colab-df-convert {\n",
              "      background-color: #3B4455;\n",
              "      fill: #D2E3FC;\n",
              "    }\n",
              "\n",
              "    [theme=dark] .colab-df-convert:hover {\n",
              "      background-color: #434B5C;\n",
              "      box-shadow: 0px 1px 3px 1px rgba(0, 0, 0, 0.15);\n",
              "      filter: drop-shadow(0px 1px 2px rgba(0, 0, 0, 0.3));\n",
              "      fill: #FFFFFF;\n",
              "    }\n",
              "  </style>\n",
              "\n",
              "    <script>\n",
              "      const buttonEl =\n",
              "        document.querySelector('#df-3455592f-8634-4672-977c-5eaf031377b4 button.colab-df-convert');\n",
              "      buttonEl.style.display =\n",
              "        google.colab.kernel.accessAllowed ? 'block' : 'none';\n",
              "\n",
              "      async function convertToInteractive(key) {\n",
              "        const element = document.querySelector('#df-3455592f-8634-4672-977c-5eaf031377b4');\n",
              "        const dataTable =\n",
              "          await google.colab.kernel.invokeFunction('convertToInteractive',\n",
              "                                                    [key], {});\n",
              "        if (!dataTable) return;\n",
              "\n",
              "        const docLinkHtml = 'Like what you see? Visit the ' +\n",
              "          '<a target=\"_blank\" href=https://colab.research.google.com/notebooks/data_table.ipynb>data table notebook</a>'\n",
              "          + ' to learn more about interactive tables.';\n",
              "        element.innerHTML = '';\n",
              "        dataTable['output_type'] = 'display_data';\n",
              "        await google.colab.output.renderOutput(dataTable, element);\n",
              "        const docLink = document.createElement('div');\n",
              "        docLink.innerHTML = docLinkHtml;\n",
              "        element.appendChild(docLink);\n",
              "      }\n",
              "    </script>\n",
              "  </div>\n",
              "\n",
              "\n",
              "<div id=\"df-174a37da-c8a0-409d-bda0-a6683dc7517c\">\n",
              "  <button class=\"colab-df-quickchart\" onclick=\"quickchart('df-174a37da-c8a0-409d-bda0-a6683dc7517c')\"\n",
              "            title=\"Suggest charts.\"\n",
              "            style=\"display:none;\">\n",
              "\n",
              "<svg xmlns=\"http://www.w3.org/2000/svg\" height=\"24px\"viewBox=\"0 0 24 24\"\n",
              "     width=\"24px\">\n",
              "    <g>\n",
              "        <path d=\"M19 3H5c-1.1 0-2 .9-2 2v14c0 1.1.9 2 2 2h14c1.1 0 2-.9 2-2V5c0-1.1-.9-2-2-2zM9 17H7v-7h2v7zm4 0h-2V7h2v10zm4 0h-2v-4h2v4z\"/>\n",
              "    </g>\n",
              "</svg>\n",
              "  </button>\n",
              "\n",
              "<style>\n",
              "  .colab-df-quickchart {\n",
              "      --bg-color: #E8F0FE;\n",
              "      --fill-color: #1967D2;\n",
              "      --hover-bg-color: #E2EBFA;\n",
              "      --hover-fill-color: #174EA6;\n",
              "      --disabled-fill-color: #AAA;\n",
              "      --disabled-bg-color: #DDD;\n",
              "  }\n",
              "\n",
              "  [theme=dark] .colab-df-quickchart {\n",
              "      --bg-color: #3B4455;\n",
              "      --fill-color: #D2E3FC;\n",
              "      --hover-bg-color: #434B5C;\n",
              "      --hover-fill-color: #FFFFFF;\n",
              "      --disabled-bg-color: #3B4455;\n",
              "      --disabled-fill-color: #666;\n",
              "  }\n",
              "\n",
              "  .colab-df-quickchart {\n",
              "    background-color: var(--bg-color);\n",
              "    border: none;\n",
              "    border-radius: 50%;\n",
              "    cursor: pointer;\n",
              "    display: none;\n",
              "    fill: var(--fill-color);\n",
              "    height: 32px;\n",
              "    padding: 0;\n",
              "    width: 32px;\n",
              "  }\n",
              "\n",
              "  .colab-df-quickchart:hover {\n",
              "    background-color: var(--hover-bg-color);\n",
              "    box-shadow: 0 1px 2px rgba(60, 64, 67, 0.3), 0 1px 3px 1px rgba(60, 64, 67, 0.15);\n",
              "    fill: var(--button-hover-fill-color);\n",
              "  }\n",
              "\n",
              "  .colab-df-quickchart-complete:disabled,\n",
              "  .colab-df-quickchart-complete:disabled:hover {\n",
              "    background-color: var(--disabled-bg-color);\n",
              "    fill: var(--disabled-fill-color);\n",
              "    box-shadow: none;\n",
              "  }\n",
              "\n",
              "  .colab-df-spinner {\n",
              "    border: 2px solid var(--fill-color);\n",
              "    border-color: transparent;\n",
              "    border-bottom-color: var(--fill-color);\n",
              "    animation:\n",
              "      spin 1s steps(1) infinite;\n",
              "  }\n",
              "\n",
              "  @keyframes spin {\n",
              "    0% {\n",
              "      border-color: transparent;\n",
              "      border-bottom-color: var(--fill-color);\n",
              "      border-left-color: var(--fill-color);\n",
              "    }\n",
              "    20% {\n",
              "      border-color: transparent;\n",
              "      border-left-color: var(--fill-color);\n",
              "      border-top-color: var(--fill-color);\n",
              "    }\n",
              "    30% {\n",
              "      border-color: transparent;\n",
              "      border-left-color: var(--fill-color);\n",
              "      border-top-color: var(--fill-color);\n",
              "      border-right-color: var(--fill-color);\n",
              "    }\n",
              "    40% {\n",
              "      border-color: transparent;\n",
              "      border-right-color: var(--fill-color);\n",
              "      border-top-color: var(--fill-color);\n",
              "    }\n",
              "    60% {\n",
              "      border-color: transparent;\n",
              "      border-right-color: var(--fill-color);\n",
              "    }\n",
              "    80% {\n",
              "      border-color: transparent;\n",
              "      border-right-color: var(--fill-color);\n",
              "      border-bottom-color: var(--fill-color);\n",
              "    }\n",
              "    90% {\n",
              "      border-color: transparent;\n",
              "      border-bottom-color: var(--fill-color);\n",
              "    }\n",
              "  }\n",
              "</style>\n",
              "\n",
              "  <script>\n",
              "    async function quickchart(key) {\n",
              "      const quickchartButtonEl =\n",
              "        document.querySelector('#' + key + ' button');\n",
              "      quickchartButtonEl.disabled = true;  // To prevent multiple clicks.\n",
              "      quickchartButtonEl.classList.add('colab-df-spinner');\n",
              "      try {\n",
              "        const charts = await google.colab.kernel.invokeFunction(\n",
              "            'suggestCharts', [key], {});\n",
              "      } catch (error) {\n",
              "        console.error('Error during call to suggestCharts:', error);\n",
              "      }\n",
              "      quickchartButtonEl.classList.remove('colab-df-spinner');\n",
              "      quickchartButtonEl.classList.add('colab-df-quickchart-complete');\n",
              "    }\n",
              "    (() => {\n",
              "      let quickchartButtonEl =\n",
              "        document.querySelector('#df-174a37da-c8a0-409d-bda0-a6683dc7517c button');\n",
              "      quickchartButtonEl.style.display =\n",
              "        google.colab.kernel.accessAllowed ? 'block' : 'none';\n",
              "    })();\n",
              "  </script>\n",
              "</div>\n",
              "    </div>\n",
              "  </div>\n"
            ],
            "text/plain": [
              "               target\n",
              "date                 \n",
              "2019-01-01  11126.866\n",
              "2019-01-02  11547.210\n",
              "2019-01-03  12235.564\n",
              "2019-01-04  12763.044\n",
              "2019-01-05  12735.145"
            ]
          },
          "execution_count": 137,
          "metadata": {},
          "output_type": "execute_result"
        }
      ],
      "source": [
        "df_resapmle.head()"
      ]
    },
    {
      "cell_type": "code",
      "execution_count": null,
      "metadata": {
        "id": "YqXkreVI1oAN"
      },
      "outputs": [],
      "source": [
        "df_temp = df[['temp', 'temp_pred']].resample('1D').mean()\n",
        "df_test_temp = df_test[['temp', 'temp_pred']].resample('1D').mean()"
      ]
    },
    {
      "cell_type": "code",
      "execution_count": null,
      "metadata": {
        "colab": {
          "base_uri": "https://localhost:8080/",
          "height": 238
        },
        "id": "1l3DMBVm2Qfh",
        "outputId": "4611dad6-d08d-44f9-a589-3f8a028185b7"
      },
      "outputs": [
        {
          "data": {
            "text/html": [
              "\n",
              "  <div id=\"df-1c76c389-2780-4a31-b6ef-889c3a34d575\" class=\"colab-df-container\">\n",
              "    <div>\n",
              "<style scoped>\n",
              "    .dataframe tbody tr th:only-of-type {\n",
              "        vertical-align: middle;\n",
              "    }\n",
              "\n",
              "    .dataframe tbody tr th {\n",
              "        vertical-align: top;\n",
              "    }\n",
              "\n",
              "    .dataframe thead th {\n",
              "        text-align: right;\n",
              "    }\n",
              "</style>\n",
              "<table border=\"1\" class=\"dataframe\">\n",
              "  <thead>\n",
              "    <tr style=\"text-align: right;\">\n",
              "      <th></th>\n",
              "      <th>temp</th>\n",
              "      <th>temp_pred</th>\n",
              "    </tr>\n",
              "    <tr>\n",
              "      <th>date</th>\n",
              "      <th></th>\n",
              "      <th></th>\n",
              "    </tr>\n",
              "  </thead>\n",
              "  <tbody>\n",
              "    <tr>\n",
              "      <th>2019-01-01</th>\n",
              "      <td>4.8750</td>\n",
              "      <td>4.375</td>\n",
              "    </tr>\n",
              "    <tr>\n",
              "      <th>2019-01-02</th>\n",
              "      <td>1.3500</td>\n",
              "      <td>1.500</td>\n",
              "    </tr>\n",
              "    <tr>\n",
              "      <th>2019-01-03</th>\n",
              "      <td>-1.1625</td>\n",
              "      <td>-1.375</td>\n",
              "    </tr>\n",
              "    <tr>\n",
              "      <th>2019-01-04</th>\n",
              "      <td>-1.5000</td>\n",
              "      <td>-0.125</td>\n",
              "    </tr>\n",
              "    <tr>\n",
              "      <th>2019-01-05</th>\n",
              "      <td>0.9375</td>\n",
              "      <td>1.500</td>\n",
              "    </tr>\n",
              "  </tbody>\n",
              "</table>\n",
              "</div>\n",
              "    <div class=\"colab-df-buttons\">\n",
              "\n",
              "  <div class=\"colab-df-container\">\n",
              "    <button class=\"colab-df-convert\" onclick=\"convertToInteractive('df-1c76c389-2780-4a31-b6ef-889c3a34d575')\"\n",
              "            title=\"Convert this dataframe to an interactive table.\"\n",
              "            style=\"display:none;\">\n",
              "\n",
              "  <svg xmlns=\"http://www.w3.org/2000/svg\" height=\"24px\" viewBox=\"0 -960 960 960\">\n",
              "    <path d=\"M120-120v-720h720v720H120Zm60-500h600v-160H180v160Zm220 220h160v-160H400v160Zm0 220h160v-160H400v160ZM180-400h160v-160H180v160Zm440 0h160v-160H620v160ZM180-180h160v-160H180v160Zm440 0h160v-160H620v160Z\"/>\n",
              "  </svg>\n",
              "    </button>\n",
              "\n",
              "  <style>\n",
              "    .colab-df-container {\n",
              "      display:flex;\n",
              "      gap: 12px;\n",
              "    }\n",
              "\n",
              "    .colab-df-convert {\n",
              "      background-color: #E8F0FE;\n",
              "      border: none;\n",
              "      border-radius: 50%;\n",
              "      cursor: pointer;\n",
              "      display: none;\n",
              "      fill: #1967D2;\n",
              "      height: 32px;\n",
              "      padding: 0 0 0 0;\n",
              "      width: 32px;\n",
              "    }\n",
              "\n",
              "    .colab-df-convert:hover {\n",
              "      background-color: #E2EBFA;\n",
              "      box-shadow: 0px 1px 2px rgba(60, 64, 67, 0.3), 0px 1px 3px 1px rgba(60, 64, 67, 0.15);\n",
              "      fill: #174EA6;\n",
              "    }\n",
              "\n",
              "    .colab-df-buttons div {\n",
              "      margin-bottom: 4px;\n",
              "    }\n",
              "\n",
              "    [theme=dark] .colab-df-convert {\n",
              "      background-color: #3B4455;\n",
              "      fill: #D2E3FC;\n",
              "    }\n",
              "\n",
              "    [theme=dark] .colab-df-convert:hover {\n",
              "      background-color: #434B5C;\n",
              "      box-shadow: 0px 1px 3px 1px rgba(0, 0, 0, 0.15);\n",
              "      filter: drop-shadow(0px 1px 2px rgba(0, 0, 0, 0.3));\n",
              "      fill: #FFFFFF;\n",
              "    }\n",
              "  </style>\n",
              "\n",
              "    <script>\n",
              "      const buttonEl =\n",
              "        document.querySelector('#df-1c76c389-2780-4a31-b6ef-889c3a34d575 button.colab-df-convert');\n",
              "      buttonEl.style.display =\n",
              "        google.colab.kernel.accessAllowed ? 'block' : 'none';\n",
              "\n",
              "      async function convertToInteractive(key) {\n",
              "        const element = document.querySelector('#df-1c76c389-2780-4a31-b6ef-889c3a34d575');\n",
              "        const dataTable =\n",
              "          await google.colab.kernel.invokeFunction('convertToInteractive',\n",
              "                                                    [key], {});\n",
              "        if (!dataTable) return;\n",
              "\n",
              "        const docLinkHtml = 'Like what you see? Visit the ' +\n",
              "          '<a target=\"_blank\" href=https://colab.research.google.com/notebooks/data_table.ipynb>data table notebook</a>'\n",
              "          + ' to learn more about interactive tables.';\n",
              "        element.innerHTML = '';\n",
              "        dataTable['output_type'] = 'display_data';\n",
              "        await google.colab.output.renderOutput(dataTable, element);\n",
              "        const docLink = document.createElement('div');\n",
              "        docLink.innerHTML = docLinkHtml;\n",
              "        element.appendChild(docLink);\n",
              "      }\n",
              "    </script>\n",
              "  </div>\n",
              "\n",
              "\n",
              "<div id=\"df-0618e6c9-9e77-4875-a936-557b35cf75e4\">\n",
              "  <button class=\"colab-df-quickchart\" onclick=\"quickchart('df-0618e6c9-9e77-4875-a936-557b35cf75e4')\"\n",
              "            title=\"Suggest charts.\"\n",
              "            style=\"display:none;\">\n",
              "\n",
              "<svg xmlns=\"http://www.w3.org/2000/svg\" height=\"24px\"viewBox=\"0 0 24 24\"\n",
              "     width=\"24px\">\n",
              "    <g>\n",
              "        <path d=\"M19 3H5c-1.1 0-2 .9-2 2v14c0 1.1.9 2 2 2h14c1.1 0 2-.9 2-2V5c0-1.1-.9-2-2-2zM9 17H7v-7h2v7zm4 0h-2V7h2v10zm4 0h-2v-4h2v4z\"/>\n",
              "    </g>\n",
              "</svg>\n",
              "  </button>\n",
              "\n",
              "<style>\n",
              "  .colab-df-quickchart {\n",
              "      --bg-color: #E8F0FE;\n",
              "      --fill-color: #1967D2;\n",
              "      --hover-bg-color: #E2EBFA;\n",
              "      --hover-fill-color: #174EA6;\n",
              "      --disabled-fill-color: #AAA;\n",
              "      --disabled-bg-color: #DDD;\n",
              "  }\n",
              "\n",
              "  [theme=dark] .colab-df-quickchart {\n",
              "      --bg-color: #3B4455;\n",
              "      --fill-color: #D2E3FC;\n",
              "      --hover-bg-color: #434B5C;\n",
              "      --hover-fill-color: #FFFFFF;\n",
              "      --disabled-bg-color: #3B4455;\n",
              "      --disabled-fill-color: #666;\n",
              "  }\n",
              "\n",
              "  .colab-df-quickchart {\n",
              "    background-color: var(--bg-color);\n",
              "    border: none;\n",
              "    border-radius: 50%;\n",
              "    cursor: pointer;\n",
              "    display: none;\n",
              "    fill: var(--fill-color);\n",
              "    height: 32px;\n",
              "    padding: 0;\n",
              "    width: 32px;\n",
              "  }\n",
              "\n",
              "  .colab-df-quickchart:hover {\n",
              "    background-color: var(--hover-bg-color);\n",
              "    box-shadow: 0 1px 2px rgba(60, 64, 67, 0.3), 0 1px 3px 1px rgba(60, 64, 67, 0.15);\n",
              "    fill: var(--button-hover-fill-color);\n",
              "  }\n",
              "\n",
              "  .colab-df-quickchart-complete:disabled,\n",
              "  .colab-df-quickchart-complete:disabled:hover {\n",
              "    background-color: var(--disabled-bg-color);\n",
              "    fill: var(--disabled-fill-color);\n",
              "    box-shadow: none;\n",
              "  }\n",
              "\n",
              "  .colab-df-spinner {\n",
              "    border: 2px solid var(--fill-color);\n",
              "    border-color: transparent;\n",
              "    border-bottom-color: var(--fill-color);\n",
              "    animation:\n",
              "      spin 1s steps(1) infinite;\n",
              "  }\n",
              "\n",
              "  @keyframes spin {\n",
              "    0% {\n",
              "      border-color: transparent;\n",
              "      border-bottom-color: var(--fill-color);\n",
              "      border-left-color: var(--fill-color);\n",
              "    }\n",
              "    20% {\n",
              "      border-color: transparent;\n",
              "      border-left-color: var(--fill-color);\n",
              "      border-top-color: var(--fill-color);\n",
              "    }\n",
              "    30% {\n",
              "      border-color: transparent;\n",
              "      border-left-color: var(--fill-color);\n",
              "      border-top-color: var(--fill-color);\n",
              "      border-right-color: var(--fill-color);\n",
              "    }\n",
              "    40% {\n",
              "      border-color: transparent;\n",
              "      border-right-color: var(--fill-color);\n",
              "      border-top-color: var(--fill-color);\n",
              "    }\n",
              "    60% {\n",
              "      border-color: transparent;\n",
              "      border-right-color: var(--fill-color);\n",
              "    }\n",
              "    80% {\n",
              "      border-color: transparent;\n",
              "      border-right-color: var(--fill-color);\n",
              "      border-bottom-color: var(--fill-color);\n",
              "    }\n",
              "    90% {\n",
              "      border-color: transparent;\n",
              "      border-bottom-color: var(--fill-color);\n",
              "    }\n",
              "  }\n",
              "</style>\n",
              "\n",
              "  <script>\n",
              "    async function quickchart(key) {\n",
              "      const quickchartButtonEl =\n",
              "        document.querySelector('#' + key + ' button');\n",
              "      quickchartButtonEl.disabled = true;  // To prevent multiple clicks.\n",
              "      quickchartButtonEl.classList.add('colab-df-spinner');\n",
              "      try {\n",
              "        const charts = await google.colab.kernel.invokeFunction(\n",
              "            'suggestCharts', [key], {});\n",
              "      } catch (error) {\n",
              "        console.error('Error during call to suggestCharts:', error);\n",
              "      }\n",
              "      quickchartButtonEl.classList.remove('colab-df-spinner');\n",
              "      quickchartButtonEl.classList.add('colab-df-quickchart-complete');\n",
              "    }\n",
              "    (() => {\n",
              "      let quickchartButtonEl =\n",
              "        document.querySelector('#df-0618e6c9-9e77-4875-a936-557b35cf75e4 button');\n",
              "      quickchartButtonEl.style.display =\n",
              "        google.colab.kernel.accessAllowed ? 'block' : 'none';\n",
              "    })();\n",
              "  </script>\n",
              "</div>\n",
              "    </div>\n",
              "  </div>\n"
            ],
            "text/plain": [
              "              temp  temp_pred\n",
              "date                         \n",
              "2019-01-01  4.8750      4.375\n",
              "2019-01-02  1.3500      1.500\n",
              "2019-01-03 -1.1625     -1.375\n",
              "2019-01-04 -1.5000     -0.125\n",
              "2019-01-05  0.9375      1.500"
            ]
          },
          "execution_count": 139,
          "metadata": {},
          "output_type": "execute_result"
        }
      ],
      "source": [
        "df_temp.head()"
      ]
    },
    {
      "cell_type": "code",
      "execution_count": null,
      "metadata": {
        "id": "lcL8aa6X2eG3"
      },
      "outputs": [],
      "source": [
        "df_weather = df[['weather_pred', 'weather_fact']].\\\n",
        "reset_index().\\\n",
        "groupby('date').\\\n",
        "agg(pd.Series.mode)"
      ]
    },
    {
      "cell_type": "code",
      "execution_count": null,
      "metadata": {
        "colab": {
          "base_uri": "https://localhost:8080/",
          "height": 238
        },
        "id": "798FtGGB8mTW",
        "outputId": "e3a37653-42b5-4428-8614-863f8723e664"
      },
      "outputs": [
        {
          "data": {
            "text/html": [
              "\n",
              "  <div id=\"df-32ca2a4e-7c51-4401-8d50-db588cfd1be8\" class=\"colab-df-container\">\n",
              "    <div>\n",
              "<style scoped>\n",
              "    .dataframe tbody tr th:only-of-type {\n",
              "        vertical-align: middle;\n",
              "    }\n",
              "\n",
              "    .dataframe tbody tr th {\n",
              "        vertical-align: top;\n",
              "    }\n",
              "\n",
              "    .dataframe thead th {\n",
              "        text-align: right;\n",
              "    }\n",
              "</style>\n",
              "<table border=\"1\" class=\"dataframe\">\n",
              "  <thead>\n",
              "    <tr style=\"text-align: right;\">\n",
              "      <th></th>\n",
              "      <th>weather_pred</th>\n",
              "      <th>weather_fact</th>\n",
              "    </tr>\n",
              "    <tr>\n",
              "      <th>date</th>\n",
              "      <th></th>\n",
              "      <th></th>\n",
              "    </tr>\n",
              "  </thead>\n",
              "  <tbody>\n",
              "    <tr>\n",
              "      <th>2019-01-01</th>\n",
              "      <td>пасм, 80% дождь</td>\n",
              "      <td>ветер, пасм,дождь</td>\n",
              "    </tr>\n",
              "    <tr>\n",
              "      <th>2019-01-02</th>\n",
              "      <td>пасм, ветер, снег</td>\n",
              "      <td>пасм, ветер, снег, метель</td>\n",
              "    </tr>\n",
              "    <tr>\n",
              "      <th>2019-01-03</th>\n",
              "      <td>пасм, 24% дождь</td>\n",
              "      <td>ясно, ветер</td>\n",
              "    </tr>\n",
              "    <tr>\n",
              "      <th>2019-01-04</th>\n",
              "      <td>пасм, 16% дождь</td>\n",
              "      <td>пасм, ветер</td>\n",
              "    </tr>\n",
              "    <tr>\n",
              "      <th>2019-01-05</th>\n",
              "      <td>[пасм, 74% дождь,, снег, прояснения?]</td>\n",
              "      <td>пасмурно</td>\n",
              "    </tr>\n",
              "  </tbody>\n",
              "</table>\n",
              "</div>\n",
              "    <div class=\"colab-df-buttons\">\n",
              "\n",
              "  <div class=\"colab-df-container\">\n",
              "    <button class=\"colab-df-convert\" onclick=\"convertToInteractive('df-32ca2a4e-7c51-4401-8d50-db588cfd1be8')\"\n",
              "            title=\"Convert this dataframe to an interactive table.\"\n",
              "            style=\"display:none;\">\n",
              "\n",
              "  <svg xmlns=\"http://www.w3.org/2000/svg\" height=\"24px\" viewBox=\"0 -960 960 960\">\n",
              "    <path d=\"M120-120v-720h720v720H120Zm60-500h600v-160H180v160Zm220 220h160v-160H400v160Zm0 220h160v-160H400v160ZM180-400h160v-160H180v160Zm440 0h160v-160H620v160ZM180-180h160v-160H180v160Zm440 0h160v-160H620v160Z\"/>\n",
              "  </svg>\n",
              "    </button>\n",
              "\n",
              "  <style>\n",
              "    .colab-df-container {\n",
              "      display:flex;\n",
              "      gap: 12px;\n",
              "    }\n",
              "\n",
              "    .colab-df-convert {\n",
              "      background-color: #E8F0FE;\n",
              "      border: none;\n",
              "      border-radius: 50%;\n",
              "      cursor: pointer;\n",
              "      display: none;\n",
              "      fill: #1967D2;\n",
              "      height: 32px;\n",
              "      padding: 0 0 0 0;\n",
              "      width: 32px;\n",
              "    }\n",
              "\n",
              "    .colab-df-convert:hover {\n",
              "      background-color: #E2EBFA;\n",
              "      box-shadow: 0px 1px 2px rgba(60, 64, 67, 0.3), 0px 1px 3px 1px rgba(60, 64, 67, 0.15);\n",
              "      fill: #174EA6;\n",
              "    }\n",
              "\n",
              "    .colab-df-buttons div {\n",
              "      margin-bottom: 4px;\n",
              "    }\n",
              "\n",
              "    [theme=dark] .colab-df-convert {\n",
              "      background-color: #3B4455;\n",
              "      fill: #D2E3FC;\n",
              "    }\n",
              "\n",
              "    [theme=dark] .colab-df-convert:hover {\n",
              "      background-color: #434B5C;\n",
              "      box-shadow: 0px 1px 3px 1px rgba(0, 0, 0, 0.15);\n",
              "      filter: drop-shadow(0px 1px 2px rgba(0, 0, 0, 0.3));\n",
              "      fill: #FFFFFF;\n",
              "    }\n",
              "  </style>\n",
              "\n",
              "    <script>\n",
              "      const buttonEl =\n",
              "        document.querySelector('#df-32ca2a4e-7c51-4401-8d50-db588cfd1be8 button.colab-df-convert');\n",
              "      buttonEl.style.display =\n",
              "        google.colab.kernel.accessAllowed ? 'block' : 'none';\n",
              "\n",
              "      async function convertToInteractive(key) {\n",
              "        const element = document.querySelector('#df-32ca2a4e-7c51-4401-8d50-db588cfd1be8');\n",
              "        const dataTable =\n",
              "          await google.colab.kernel.invokeFunction('convertToInteractive',\n",
              "                                                    [key], {});\n",
              "        if (!dataTable) return;\n",
              "\n",
              "        const docLinkHtml = 'Like what you see? Visit the ' +\n",
              "          '<a target=\"_blank\" href=https://colab.research.google.com/notebooks/data_table.ipynb>data table notebook</a>'\n",
              "          + ' to learn more about interactive tables.';\n",
              "        element.innerHTML = '';\n",
              "        dataTable['output_type'] = 'display_data';\n",
              "        await google.colab.output.renderOutput(dataTable, element);\n",
              "        const docLink = document.createElement('div');\n",
              "        docLink.innerHTML = docLinkHtml;\n",
              "        element.appendChild(docLink);\n",
              "      }\n",
              "    </script>\n",
              "  </div>\n",
              "\n",
              "\n",
              "<div id=\"df-489d536f-8dd4-434a-bf0b-82e121e194f3\">\n",
              "  <button class=\"colab-df-quickchart\" onclick=\"quickchart('df-489d536f-8dd4-434a-bf0b-82e121e194f3')\"\n",
              "            title=\"Suggest charts.\"\n",
              "            style=\"display:none;\">\n",
              "\n",
              "<svg xmlns=\"http://www.w3.org/2000/svg\" height=\"24px\"viewBox=\"0 0 24 24\"\n",
              "     width=\"24px\">\n",
              "    <g>\n",
              "        <path d=\"M19 3H5c-1.1 0-2 .9-2 2v14c0 1.1.9 2 2 2h14c1.1 0 2-.9 2-2V5c0-1.1-.9-2-2-2zM9 17H7v-7h2v7zm4 0h-2V7h2v10zm4 0h-2v-4h2v4z\"/>\n",
              "    </g>\n",
              "</svg>\n",
              "  </button>\n",
              "\n",
              "<style>\n",
              "  .colab-df-quickchart {\n",
              "      --bg-color: #E8F0FE;\n",
              "      --fill-color: #1967D2;\n",
              "      --hover-bg-color: #E2EBFA;\n",
              "      --hover-fill-color: #174EA6;\n",
              "      --disabled-fill-color: #AAA;\n",
              "      --disabled-bg-color: #DDD;\n",
              "  }\n",
              "\n",
              "  [theme=dark] .colab-df-quickchart {\n",
              "      --bg-color: #3B4455;\n",
              "      --fill-color: #D2E3FC;\n",
              "      --hover-bg-color: #434B5C;\n",
              "      --hover-fill-color: #FFFFFF;\n",
              "      --disabled-bg-color: #3B4455;\n",
              "      --disabled-fill-color: #666;\n",
              "  }\n",
              "\n",
              "  .colab-df-quickchart {\n",
              "    background-color: var(--bg-color);\n",
              "    border: none;\n",
              "    border-radius: 50%;\n",
              "    cursor: pointer;\n",
              "    display: none;\n",
              "    fill: var(--fill-color);\n",
              "    height: 32px;\n",
              "    padding: 0;\n",
              "    width: 32px;\n",
              "  }\n",
              "\n",
              "  .colab-df-quickchart:hover {\n",
              "    background-color: var(--hover-bg-color);\n",
              "    box-shadow: 0 1px 2px rgba(60, 64, 67, 0.3), 0 1px 3px 1px rgba(60, 64, 67, 0.15);\n",
              "    fill: var(--button-hover-fill-color);\n",
              "  }\n",
              "\n",
              "  .colab-df-quickchart-complete:disabled,\n",
              "  .colab-df-quickchart-complete:disabled:hover {\n",
              "    background-color: var(--disabled-bg-color);\n",
              "    fill: var(--disabled-fill-color);\n",
              "    box-shadow: none;\n",
              "  }\n",
              "\n",
              "  .colab-df-spinner {\n",
              "    border: 2px solid var(--fill-color);\n",
              "    border-color: transparent;\n",
              "    border-bottom-color: var(--fill-color);\n",
              "    animation:\n",
              "      spin 1s steps(1) infinite;\n",
              "  }\n",
              "\n",
              "  @keyframes spin {\n",
              "    0% {\n",
              "      border-color: transparent;\n",
              "      border-bottom-color: var(--fill-color);\n",
              "      border-left-color: var(--fill-color);\n",
              "    }\n",
              "    20% {\n",
              "      border-color: transparent;\n",
              "      border-left-color: var(--fill-color);\n",
              "      border-top-color: var(--fill-color);\n",
              "    }\n",
              "    30% {\n",
              "      border-color: transparent;\n",
              "      border-left-color: var(--fill-color);\n",
              "      border-top-color: var(--fill-color);\n",
              "      border-right-color: var(--fill-color);\n",
              "    }\n",
              "    40% {\n",
              "      border-color: transparent;\n",
              "      border-right-color: var(--fill-color);\n",
              "      border-top-color: var(--fill-color);\n",
              "    }\n",
              "    60% {\n",
              "      border-color: transparent;\n",
              "      border-right-color: var(--fill-color);\n",
              "    }\n",
              "    80% {\n",
              "      border-color: transparent;\n",
              "      border-right-color: var(--fill-color);\n",
              "      border-bottom-color: var(--fill-color);\n",
              "    }\n",
              "    90% {\n",
              "      border-color: transparent;\n",
              "      border-bottom-color: var(--fill-color);\n",
              "    }\n",
              "  }\n",
              "</style>\n",
              "\n",
              "  <script>\n",
              "    async function quickchart(key) {\n",
              "      const quickchartButtonEl =\n",
              "        document.querySelector('#' + key + ' button');\n",
              "      quickchartButtonEl.disabled = true;  // To prevent multiple clicks.\n",
              "      quickchartButtonEl.classList.add('colab-df-spinner');\n",
              "      try {\n",
              "        const charts = await google.colab.kernel.invokeFunction(\n",
              "            'suggestCharts', [key], {});\n",
              "      } catch (error) {\n",
              "        console.error('Error during call to suggestCharts:', error);\n",
              "      }\n",
              "      quickchartButtonEl.classList.remove('colab-df-spinner');\n",
              "      quickchartButtonEl.classList.add('colab-df-quickchart-complete');\n",
              "    }\n",
              "    (() => {\n",
              "      let quickchartButtonEl =\n",
              "        document.querySelector('#df-489d536f-8dd4-434a-bf0b-82e121e194f3 button');\n",
              "      quickchartButtonEl.style.display =\n",
              "        google.colab.kernel.accessAllowed ? 'block' : 'none';\n",
              "    })();\n",
              "  </script>\n",
              "</div>\n",
              "    </div>\n",
              "  </div>\n"
            ],
            "text/plain": [
              "                                     weather_pred               weather_fact\n",
              "date                                                                        \n",
              "2019-01-01                        пасм, 80% дождь          ветер, пасм,дождь\n",
              "2019-01-02                      пасм, ветер, снег  пасм, ветер, снег, метель\n",
              "2019-01-03                        пасм, 24% дождь                ясно, ветер\n",
              "2019-01-04                        пасм, 16% дождь                пасм, ветер\n",
              "2019-01-05  [пасм, 74% дождь,, снег, прояснения?]                   пасмурно"
            ]
          },
          "execution_count": 141,
          "metadata": {},
          "output_type": "execute_result"
        }
      ],
      "source": [
        "df_weather.head()"
      ]
    },
    {
      "cell_type": "code",
      "execution_count": null,
      "metadata": {
        "id": "-1OyWppiQuJG"
      },
      "outputs": [],
      "source": [
        "# напишем функцию для лемматизации текстов и очищения их от лишних знаков и пробелов\n",
        "\n",
        "def lemmatize(text):\n",
        "    m = Mystem()\n",
        "    lemm_list = m.lemmatize(text)\n",
        "    lemm_text = \"\".join(lemm_list)\n",
        "    result = \" \".join(re.sub(r'[^а-яА-ЯёЁ ]', ' ', text).split())\n",
        "    return result"
      ]
    },
    {
      "cell_type": "code",
      "execution_count": null,
      "metadata": {
        "id": "MF--vJcXXJxf"
      },
      "outputs": [],
      "source": [
        "# применим функцию к текстам\n",
        "#weather_pred_lemmatized = df['weather_pred'].apply(lemmatize)\n",
        "#weather_fact_lemmatized = df['weather_fact'].apply(lemmatize)"
      ]
    },
    {
      "cell_type": "code",
      "execution_count": null,
      "metadata": {
        "id": "OvbJnGBcXjXy"
      },
      "outputs": [],
      "source": [
        "#df_weather['weather_pred'] = weather_pred_lemmatized\n",
        "#df_weather['weather_fact'] = weather_fact_lemmatized"
      ]
    },
    {
      "cell_type": "code",
      "execution_count": null,
      "metadata": {
        "id": "kPym6BpEbNAp"
      },
      "outputs": [],
      "source": [
        "df_weather.head()"
      ]
    },
    {
      "cell_type": "code",
      "execution_count": null,
      "metadata": {
        "id": "FLi8W8cqbSua"
      },
      "outputs": [],
      "source": [
        "df_weather.unique()"
      ]
    },
    {
      "cell_type": "code",
      "execution_count": null,
      "metadata": {
        "id": "ov0B4CAi9mhC"
      },
      "outputs": [],
      "source": [
        "df = df_resapmle.join(df_temp)\n",
        "df_test = df_test_resapmle.join(df_test_temp)"
      ]
    },
    {
      "cell_type": "code",
      "execution_count": null,
      "metadata": {
        "colab": {
          "base_uri": "https://localhost:8080/"
        },
        "id": "Wi_J_CzmPESr",
        "outputId": "7daea275-0b8a-4b02-e41a-f2eb6b9297d0"
      },
      "outputs": [
        {
          "name": "stdout",
          "output_type": "stream",
          "text": [
            "<class 'pandas.core.frame.DataFrame'>\n",
            "DatetimeIndex: 1551 entries, 2019-01-01 to 2023-03-31\n",
            "Freq: D\n",
            "Data columns (total 3 columns):\n",
            " #   Column     Non-Null Count  Dtype  \n",
            "---  ------     --------------  -----  \n",
            " 0   target     1551 non-null   float64\n",
            " 1   temp       1551 non-null   float64\n",
            " 2   temp_pred  1551 non-null   float64\n",
            "dtypes: float64(3)\n",
            "memory usage: 80.8 KB\n"
          ]
        }
      ],
      "source": [
        "df.info()"
      ]
    },
    {
      "cell_type": "code",
      "execution_count": null,
      "metadata": {
        "colab": {
          "base_uri": "https://localhost:8080/",
          "height": 238
        },
        "id": "lO_8z5EUnYOw",
        "outputId": "6f463b4b-2d8c-4834-98a8-392bc2d276e3",
        "scrolled": false
      },
      "outputs": [
        {
          "data": {
            "text/html": [
              "\n",
              "  <div id=\"df-0098d187-ebff-434f-b59f-ec96bbc344bd\" class=\"colab-df-container\">\n",
              "    <div>\n",
              "<style scoped>\n",
              "    .dataframe tbody tr th:only-of-type {\n",
              "        vertical-align: middle;\n",
              "    }\n",
              "\n",
              "    .dataframe tbody tr th {\n",
              "        vertical-align: top;\n",
              "    }\n",
              "\n",
              "    .dataframe thead th {\n",
              "        text-align: right;\n",
              "    }\n",
              "</style>\n",
              "<table border=\"1\" class=\"dataframe\">\n",
              "  <thead>\n",
              "    <tr style=\"text-align: right;\">\n",
              "      <th></th>\n",
              "      <th>target</th>\n",
              "      <th>temp</th>\n",
              "      <th>temp_pred</th>\n",
              "    </tr>\n",
              "    <tr>\n",
              "      <th>date</th>\n",
              "      <th></th>\n",
              "      <th></th>\n",
              "      <th></th>\n",
              "    </tr>\n",
              "  </thead>\n",
              "  <tbody>\n",
              "    <tr>\n",
              "      <th>2019-01-01</th>\n",
              "      <td>11126.866</td>\n",
              "      <td>4.8750</td>\n",
              "      <td>4.375</td>\n",
              "    </tr>\n",
              "    <tr>\n",
              "      <th>2019-01-02</th>\n",
              "      <td>11547.210</td>\n",
              "      <td>1.3500</td>\n",
              "      <td>1.500</td>\n",
              "    </tr>\n",
              "    <tr>\n",
              "      <th>2019-01-03</th>\n",
              "      <td>12235.564</td>\n",
              "      <td>-1.1625</td>\n",
              "      <td>-1.375</td>\n",
              "    </tr>\n",
              "    <tr>\n",
              "      <th>2019-01-04</th>\n",
              "      <td>12763.044</td>\n",
              "      <td>-1.5000</td>\n",
              "      <td>-0.125</td>\n",
              "    </tr>\n",
              "    <tr>\n",
              "      <th>2019-01-05</th>\n",
              "      <td>12735.145</td>\n",
              "      <td>0.9375</td>\n",
              "      <td>1.500</td>\n",
              "    </tr>\n",
              "  </tbody>\n",
              "</table>\n",
              "</div>\n",
              "    <div class=\"colab-df-buttons\">\n",
              "\n",
              "  <div class=\"colab-df-container\">\n",
              "    <button class=\"colab-df-convert\" onclick=\"convertToInteractive('df-0098d187-ebff-434f-b59f-ec96bbc344bd')\"\n",
              "            title=\"Convert this dataframe to an interactive table.\"\n",
              "            style=\"display:none;\">\n",
              "\n",
              "  <svg xmlns=\"http://www.w3.org/2000/svg\" height=\"24px\" viewBox=\"0 -960 960 960\">\n",
              "    <path d=\"M120-120v-720h720v720H120Zm60-500h600v-160H180v160Zm220 220h160v-160H400v160Zm0 220h160v-160H400v160ZM180-400h160v-160H180v160Zm440 0h160v-160H620v160ZM180-180h160v-160H180v160Zm440 0h160v-160H620v160Z\"/>\n",
              "  </svg>\n",
              "    </button>\n",
              "\n",
              "  <style>\n",
              "    .colab-df-container {\n",
              "      display:flex;\n",
              "      gap: 12px;\n",
              "    }\n",
              "\n",
              "    .colab-df-convert {\n",
              "      background-color: #E8F0FE;\n",
              "      border: none;\n",
              "      border-radius: 50%;\n",
              "      cursor: pointer;\n",
              "      display: none;\n",
              "      fill: #1967D2;\n",
              "      height: 32px;\n",
              "      padding: 0 0 0 0;\n",
              "      width: 32px;\n",
              "    }\n",
              "\n",
              "    .colab-df-convert:hover {\n",
              "      background-color: #E2EBFA;\n",
              "      box-shadow: 0px 1px 2px rgba(60, 64, 67, 0.3), 0px 1px 3px 1px rgba(60, 64, 67, 0.15);\n",
              "      fill: #174EA6;\n",
              "    }\n",
              "\n",
              "    .colab-df-buttons div {\n",
              "      margin-bottom: 4px;\n",
              "    }\n",
              "\n",
              "    [theme=dark] .colab-df-convert {\n",
              "      background-color: #3B4455;\n",
              "      fill: #D2E3FC;\n",
              "    }\n",
              "\n",
              "    [theme=dark] .colab-df-convert:hover {\n",
              "      background-color: #434B5C;\n",
              "      box-shadow: 0px 1px 3px 1px rgba(0, 0, 0, 0.15);\n",
              "      filter: drop-shadow(0px 1px 2px rgba(0, 0, 0, 0.3));\n",
              "      fill: #FFFFFF;\n",
              "    }\n",
              "  </style>\n",
              "\n",
              "    <script>\n",
              "      const buttonEl =\n",
              "        document.querySelector('#df-0098d187-ebff-434f-b59f-ec96bbc344bd button.colab-df-convert');\n",
              "      buttonEl.style.display =\n",
              "        google.colab.kernel.accessAllowed ? 'block' : 'none';\n",
              "\n",
              "      async function convertToInteractive(key) {\n",
              "        const element = document.querySelector('#df-0098d187-ebff-434f-b59f-ec96bbc344bd');\n",
              "        const dataTable =\n",
              "          await google.colab.kernel.invokeFunction('convertToInteractive',\n",
              "                                                    [key], {});\n",
              "        if (!dataTable) return;\n",
              "\n",
              "        const docLinkHtml = 'Like what you see? Visit the ' +\n",
              "          '<a target=\"_blank\" href=https://colab.research.google.com/notebooks/data_table.ipynb>data table notebook</a>'\n",
              "          + ' to learn more about interactive tables.';\n",
              "        element.innerHTML = '';\n",
              "        dataTable['output_type'] = 'display_data';\n",
              "        await google.colab.output.renderOutput(dataTable, element);\n",
              "        const docLink = document.createElement('div');\n",
              "        docLink.innerHTML = docLinkHtml;\n",
              "        element.appendChild(docLink);\n",
              "      }\n",
              "    </script>\n",
              "  </div>\n",
              "\n",
              "\n",
              "<div id=\"df-b290b05a-371d-49e9-ab12-2003dc37052e\">\n",
              "  <button class=\"colab-df-quickchart\" onclick=\"quickchart('df-b290b05a-371d-49e9-ab12-2003dc37052e')\"\n",
              "            title=\"Suggest charts.\"\n",
              "            style=\"display:none;\">\n",
              "\n",
              "<svg xmlns=\"http://www.w3.org/2000/svg\" height=\"24px\"viewBox=\"0 0 24 24\"\n",
              "     width=\"24px\">\n",
              "    <g>\n",
              "        <path d=\"M19 3H5c-1.1 0-2 .9-2 2v14c0 1.1.9 2 2 2h14c1.1 0 2-.9 2-2V5c0-1.1-.9-2-2-2zM9 17H7v-7h2v7zm4 0h-2V7h2v10zm4 0h-2v-4h2v4z\"/>\n",
              "    </g>\n",
              "</svg>\n",
              "  </button>\n",
              "\n",
              "<style>\n",
              "  .colab-df-quickchart {\n",
              "      --bg-color: #E8F0FE;\n",
              "      --fill-color: #1967D2;\n",
              "      --hover-bg-color: #E2EBFA;\n",
              "      --hover-fill-color: #174EA6;\n",
              "      --disabled-fill-color: #AAA;\n",
              "      --disabled-bg-color: #DDD;\n",
              "  }\n",
              "\n",
              "  [theme=dark] .colab-df-quickchart {\n",
              "      --bg-color: #3B4455;\n",
              "      --fill-color: #D2E3FC;\n",
              "      --hover-bg-color: #434B5C;\n",
              "      --hover-fill-color: #FFFFFF;\n",
              "      --disabled-bg-color: #3B4455;\n",
              "      --disabled-fill-color: #666;\n",
              "  }\n",
              "\n",
              "  .colab-df-quickchart {\n",
              "    background-color: var(--bg-color);\n",
              "    border: none;\n",
              "    border-radius: 50%;\n",
              "    cursor: pointer;\n",
              "    display: none;\n",
              "    fill: var(--fill-color);\n",
              "    height: 32px;\n",
              "    padding: 0;\n",
              "    width: 32px;\n",
              "  }\n",
              "\n",
              "  .colab-df-quickchart:hover {\n",
              "    background-color: var(--hover-bg-color);\n",
              "    box-shadow: 0 1px 2px rgba(60, 64, 67, 0.3), 0 1px 3px 1px rgba(60, 64, 67, 0.15);\n",
              "    fill: var(--button-hover-fill-color);\n",
              "  }\n",
              "\n",
              "  .colab-df-quickchart-complete:disabled,\n",
              "  .colab-df-quickchart-complete:disabled:hover {\n",
              "    background-color: var(--disabled-bg-color);\n",
              "    fill: var(--disabled-fill-color);\n",
              "    box-shadow: none;\n",
              "  }\n",
              "\n",
              "  .colab-df-spinner {\n",
              "    border: 2px solid var(--fill-color);\n",
              "    border-color: transparent;\n",
              "    border-bottom-color: var(--fill-color);\n",
              "    animation:\n",
              "      spin 1s steps(1) infinite;\n",
              "  }\n",
              "\n",
              "  @keyframes spin {\n",
              "    0% {\n",
              "      border-color: transparent;\n",
              "      border-bottom-color: var(--fill-color);\n",
              "      border-left-color: var(--fill-color);\n",
              "    }\n",
              "    20% {\n",
              "      border-color: transparent;\n",
              "      border-left-color: var(--fill-color);\n",
              "      border-top-color: var(--fill-color);\n",
              "    }\n",
              "    30% {\n",
              "      border-color: transparent;\n",
              "      border-left-color: var(--fill-color);\n",
              "      border-top-color: var(--fill-color);\n",
              "      border-right-color: var(--fill-color);\n",
              "    }\n",
              "    40% {\n",
              "      border-color: transparent;\n",
              "      border-right-color: var(--fill-color);\n",
              "      border-top-color: var(--fill-color);\n",
              "    }\n",
              "    60% {\n",
              "      border-color: transparent;\n",
              "      border-right-color: var(--fill-color);\n",
              "    }\n",
              "    80% {\n",
              "      border-color: transparent;\n",
              "      border-right-color: var(--fill-color);\n",
              "      border-bottom-color: var(--fill-color);\n",
              "    }\n",
              "    90% {\n",
              "      border-color: transparent;\n",
              "      border-bottom-color: var(--fill-color);\n",
              "    }\n",
              "  }\n",
              "</style>\n",
              "\n",
              "  <script>\n",
              "    async function quickchart(key) {\n",
              "      const quickchartButtonEl =\n",
              "        document.querySelector('#' + key + ' button');\n",
              "      quickchartButtonEl.disabled = true;  // To prevent multiple clicks.\n",
              "      quickchartButtonEl.classList.add('colab-df-spinner');\n",
              "      try {\n",
              "        const charts = await google.colab.kernel.invokeFunction(\n",
              "            'suggestCharts', [key], {});\n",
              "      } catch (error) {\n",
              "        console.error('Error during call to suggestCharts:', error);\n",
              "      }\n",
              "      quickchartButtonEl.classList.remove('colab-df-spinner');\n",
              "      quickchartButtonEl.classList.add('colab-df-quickchart-complete');\n",
              "    }\n",
              "    (() => {\n",
              "      let quickchartButtonEl =\n",
              "        document.querySelector('#df-b290b05a-371d-49e9-ab12-2003dc37052e button');\n",
              "      quickchartButtonEl.style.display =\n",
              "        google.colab.kernel.accessAllowed ? 'block' : 'none';\n",
              "    })();\n",
              "  </script>\n",
              "</div>\n",
              "    </div>\n",
              "  </div>\n"
            ],
            "text/plain": [
              "               target    temp  temp_pred\n",
              "date                                    \n",
              "2019-01-01  11126.866  4.8750      4.375\n",
              "2019-01-02  11547.210  1.3500      1.500\n",
              "2019-01-03  12235.564 -1.1625     -1.375\n",
              "2019-01-04  12763.044 -1.5000     -0.125\n",
              "2019-01-05  12735.145  0.9375      1.500"
            ]
          },
          "execution_count": 147,
          "metadata": {},
          "output_type": "execute_result"
        }
      ],
      "source": [
        "df.head()"
      ]
    },
    {
      "cell_type": "code",
      "source": [
        "df_test.info()"
      ],
      "metadata": {
        "colab": {
          "base_uri": "https://localhost:8080/"
        },
        "id": "p6tCzh9qW2Lp",
        "outputId": "56658137-5c64-4480-ee3b-d9fddf4e28be"
      },
      "execution_count": null,
      "outputs": [
        {
          "output_type": "stream",
          "name": "stdout",
          "text": [
            "<class 'pandas.core.frame.DataFrame'>\n",
            "DatetimeIndex: 122 entries, 2023-04-01 to 2023-07-31\n",
            "Freq: D\n",
            "Data columns (total 3 columns):\n",
            " #   Column     Non-Null Count  Dtype  \n",
            "---  ------     --------------  -----  \n",
            " 0   target     122 non-null    float64\n",
            " 1   temp       122 non-null    float64\n",
            " 2   temp_pred  122 non-null    float64\n",
            "dtypes: float64(3)\n",
            "memory usage: 7.9 KB\n"
          ]
        }
      ]
    },
    {
      "cell_type": "code",
      "execution_count": null,
      "metadata": {
        "colab": {
          "base_uri": "https://localhost:8080/"
        },
        "id": "ZZbPlIHfnYOx",
        "outputId": "d7ac3e67-fdee-40a1-c513-49483c839e4b"
      },
      "outputs": [
        {
          "data": {
            "text/plain": [
              "target          0\n",
              "temp            0\n",
              "temp_pred       0\n",
              "weather_pred    0\n",
              "weather_fact    0\n",
              "dtype: int64"
            ]
          },
          "execution_count": 77,
          "metadata": {},
          "output_type": "execute_result"
        }
      ],
      "source": [
        "# Проверим на наличие пропусков\n",
        "df.isna().sum()"
      ]
    },
    {
      "cell_type": "markdown",
      "metadata": {
        "id": "gumuZFnwnYOz"
      },
      "source": [
        "## Анализ"
      ]
    },
    {
      "cell_type": "code",
      "execution_count": null,
      "metadata": {
        "colab": {
          "base_uri": "https://localhost:8080/"
        },
        "id": "inx4vMrcnYO0",
        "outputId": "819b8c7b-bff2-4cff-b15a-b5143d5515f4"
      },
      "outputs": [
        {
          "data": {
            "text/plain": [
              "Timestamp('2019-01-01 00:00:00', freq='D')"
            ]
          },
          "execution_count": 78,
          "metadata": {},
          "output_type": "execute_result"
        }
      ],
      "source": [
        "# Посмотрим, где начинается временнной ряд\n",
        "df.index.min()"
      ]
    },
    {
      "cell_type": "code",
      "execution_count": null,
      "metadata": {
        "colab": {
          "base_uri": "https://localhost:8080/"
        },
        "id": "KcXE5HdxnYO1",
        "outputId": "fd8f9751-c10e-4b32-e139-e32dec8ec1c7"
      },
      "outputs": [
        {
          "data": {
            "text/plain": [
              "Timestamp('2023-03-31 00:00:00', freq='D')"
            ]
          },
          "execution_count": 79,
          "metadata": {},
          "output_type": "execute_result"
        }
      ],
      "source": [
        "# и где заканчивается\n",
        "df.index.max()"
      ]
    },
    {
      "cell_type": "code",
      "execution_count": null,
      "metadata": {
        "colab": {
          "base_uri": "https://localhost:8080/",
          "height": 510
        },
        "id": "S_1eJueOnYO2",
        "outputId": "e54700cc-45c9-4d7d-cf93-5cfe413ba28e",
        "scrolled": false
      },
      "outputs": [
        {
          "data": {
            "image/png": "[encoded data removed]",
            "text/plain": [
              "<Figure size 1800x800 with 1 Axes>"
            ]
          },
          "metadata": {},
          "output_type": "display_data"
        }
      ],
      "source": [
        "from numpy.lib.function_base import delete\n",
        "# Построим график заказов, скользящего среднего и стандартного отклонения\n",
        "df_a = df.copy()\n",
        "df_a['rolling_mean'] = df_a['target'].rolling(10).mean()\n",
        "df_a['std'] = df_a['target'].rolling(10).std()\n",
        "df_a[['target','rolling_mean', 'std']].plot(figsize = (18,8),\n",
        "                                            title = 'График потребления, скользящего среднего и стандартного отклонения');\n",
        "del df_a"
      ]
    },
    {
      "cell_type": "markdown",
      "metadata": {
        "id": "HIPoDydtBJLB"
      },
      "source": [
        "**Перед нами нестационарный временной ряд, среднее значение и стандартное отклонение которого со временем меняются.**"
      ]
    },
    {
      "cell_type": "code",
      "execution_count": null,
      "metadata": {
        "id": "nebBxlm8nYO6"
      },
      "outputs": [],
      "source": [
        "# Разложим временной ряд тренд, сезонность и остаток\n",
        "decomposed = seasonal_decompose(df['target'])"
      ]
    },
    {
      "cell_type": "code",
      "execution_count": null,
      "metadata": {
        "colab": {
          "base_uri": "https://localhost:8080/",
          "height": 1000
        },
        "id": "dRtRmozCnYO6",
        "outputId": "2a62472b-beee-4cd5-a933-41b09b8d8c2a"
      },
      "outputs": [
        {
          "data": {
            "image/png": "[encoded data removed]",
            "text/plain": [
              "<Figure size 1000x1200 with 3 Axes>"
            ]
          },
          "metadata": {},
          "output_type": "display_data"
        }
      ],
      "source": [
        "# Построим графики трех компонентов\n",
        "\n",
        "plt.figure(figsize=(10, 12))\n",
        "\n",
        "plt.subplot(311)\n",
        "decomposed.trend.plot(ax=plt.gca())\n",
        "plt.title('Тренд')\n",
        "\n",
        "plt.subplot(312)\n",
        "decomposed.seasonal.plot(ax=plt.gca())\n",
        "plt.title('Сезонность')\n",
        "\n",
        "plt.subplot(313)\n",
        "decomposed.resid.plot(ax=plt.gca())\n",
        "plt.title('Остаток')\n",
        "\n",
        "plt.tight_layout()"
      ]
    },
    {
      "cell_type": "code",
      "execution_count": null,
      "metadata": {
        "colab": {
          "base_uri": "https://localhost:8080/",
          "height": 354
        },
        "id": "sGP8HwxrnYO7",
        "outputId": "99b93023-c0b8-4da0-e76a-18fb25df71eb"
      },
      "outputs": [
        {
          "data": {
            "image/png": "[encoded data removed]",
            "text/plain": [
              "<Figure size 2500x700 with 1 Axes>"
            ]
          },
          "metadata": {},
          "output_type": "display_data"
        }
      ],
      "source": [
        "# Исследуем сезонность на периоде в одину неделю с понедельника по воскресенье\n",
        "decomposed.seasonal['2019-09-02 00:00:00':'2019-09-08 00:00:00'].plot(figsize = (25,7),\n",
        "                                                                      title = 'График сезонности');"
      ]
    },
    {
      "cell_type": "code",
      "execution_count": null,
      "metadata": {
        "id": "85TQZKssGVHg"
      },
      "outputs": [],
      "source": [
        "del decomposed"
      ]
    },
    {
      "cell_type": "markdown",
      "metadata": {
        "id": "WxgkFO1onYO-"
      },
      "source": [
        "## Обучение"
      ]
    },
    {
      "cell_type": "markdown",
      "metadata": {
        "id": "NjxzQWM0nYO_"
      },
      "source": [
        "### Подготовка признаков"
      ]
    },
    {
      "cell_type": "code",
      "execution_count": null,
      "metadata": {
        "id": "Z1Bzkd1pnYO_"
      },
      "outputs": [],
      "source": [
        "# Создадим признаки\n",
        "\n",
        "df_train = df.copy()\n",
        "df_train['day'] = df_train.index.dayofyear\n",
        "df_train['dayofweek'] = df_train.index.dayofweek\n",
        "df_train['month'] = df_train.index.month\n",
        "df_train['quarter'] = df_train.index.quarter\n",
        "df_train['lag_1'] = df_train['target'].shift(1)\n",
        "df_train['lag_7'] = df_train['target'].shift(7)\n",
        "df_train['lag_14'] = df_train['target'].shift(14)\n",
        "\n"
      ]
    },
    {
      "cell_type": "code",
      "source": [
        "df_test = df_test.copy()\n",
        "df_test['day'] = df_test.index.dayofyear\n",
        "df_test['dayofweek'] = df_test.index.dayofweek\n",
        "df_test['month'] = df_test.index.month\n",
        "df_test['quarter'] = df_test.index.quarter\n",
        "df_test['lag_1'] = df_test['target'].shift(1)\n",
        "df_test['lag_7'] = df_test['target'].shift(7)\n",
        "df_test['lag_14'] = df_test['target'].shift(14)\n",
        "\n"
      ],
      "metadata": {
        "id": "FRXAlHBk3BSj"
      },
      "execution_count": null,
      "outputs": []
    },
    {
      "cell_type": "code",
      "execution_count": null,
      "metadata": {
        "colab": {
          "base_uri": "https://localhost:8080/"
        },
        "id": "NDBNIQXLnYPP",
        "outputId": "6b8be274-7fee-43c4-988b-bb80f39cc78a",
        "scrolled": true
      },
      "outputs": [
        {
          "name": "stdout",
          "output_type": "stream",
          "text": [
            "<class 'pandas.core.frame.DataFrame'>\n",
            "DatetimeIndex: 1551 entries, 2019-01-01 to 2023-03-31\n",
            "Freq: D\n",
            "Data columns (total 13 columns):\n",
            " #   Column            Non-Null Count  Dtype  \n",
            "---  ------            --------------  -----  \n",
            " 0   target            1551 non-null   float64\n",
            " 1   temp              1551 non-null   float64\n",
            " 2   temp_pred         1551 non-null   float64\n",
            " 3   day               1551 non-null   int64  \n",
            " 4   dayofweek         1551 non-null   int64  \n",
            " 5   month             1551 non-null   int64  \n",
            " 6   quarter           1551 non-null   int64  \n",
            " 7   lag_1             1550 non-null   float64\n",
            " 8   lag_7             1544 non-null   float64\n",
            " 9   lag_14            1537 non-null   float64\n",
            " 10  lag_365           1186 non-null   float64\n",
            " 11  rolling_mean_30   1521 non-null   float64\n",
            " 12  rolling_mean_365  1186 non-null   float64\n",
            "dtypes: float64(9), int64(4)\n",
            "memory usage: 201.9 KB\n"
          ]
        }
      ],
      "source": [
        "df_train.info()"
      ]
    },
    {
      "cell_type": "code",
      "execution_count": null,
      "metadata": {
        "colab": {
          "base_uri": "https://localhost:8080/",
          "height": 237
        },
        "id": "EG4_oLFCnYPQ",
        "outputId": "827aee9c-39df-4c82-fdda-027e8f40bfe3"
      },
      "outputs": [
        {
          "output_type": "execute_result",
          "data": {
            "text/plain": [
              "               target    temp  temp_pred  day  dayofweek  month  quarter  \\\n",
              "date                                                                       \n",
              "2019-01-01  11126.866  4.8750      4.375    1          1      1        1   \n",
              "2019-01-02  11547.210  1.3500      1.500    2          2      1        1   \n",
              "2019-01-03  12235.564 -1.1625     -1.375    3          3      1        1   \n",
              "2019-01-04  12763.044 -1.5000     -0.125    4          4      1        1   \n",
              "2019-01-05  12735.145  0.9375      1.500    5          5      1        1   \n",
              "\n",
              "                lag_1  lag_7  lag_14  \n",
              "date                                  \n",
              "2019-01-01        NaN    NaN     NaN  \n",
              "2019-01-02  11126.866    NaN     NaN  \n",
              "2019-01-03  11547.210    NaN     NaN  \n",
              "2019-01-04  12235.564    NaN     NaN  \n",
              "2019-01-05  12763.044    NaN     NaN  "
            ],
            "text/html": [
              "\n",
              "  <div id=\"df-62ddcbc5-559b-4f92-889c-19eb7864880c\" class=\"colab-df-container\">\n",
              "    <div>\n",
              "<style scoped>\n",
              "    .dataframe tbody tr th:only-of-type {\n",
              "        vertical-align: middle;\n",
              "    }\n",
              "\n",
              "    .dataframe tbody tr th {\n",
              "        vertical-align: top;\n",
              "    }\n",
              "\n",
              "    .dataframe thead th {\n",
              "        text-align: right;\n",
              "    }\n",
              "</style>\n",
              "<table border=\"1\" class=\"dataframe\">\n",
              "  <thead>\n",
              "    <tr style=\"text-align: right;\">\n",
              "      <th></th>\n",
              "      <th>target</th>\n",
              "      <th>temp</th>\n",
              "      <th>temp_pred</th>\n",
              "      <th>day</th>\n",
              "      <th>dayofweek</th>\n",
              "      <th>month</th>\n",
              "      <th>quarter</th>\n",
              "      <th>lag_1</th>\n",
              "      <th>lag_7</th>\n",
              "      <th>lag_14</th>\n",
              "    </tr>\n",
              "    <tr>\n",
              "      <th>date</th>\n",
              "      <th></th>\n",
              "      <th></th>\n",
              "      <th></th>\n",
              "      <th></th>\n",
              "      <th></th>\n",
              "      <th></th>\n",
              "      <th></th>\n",
              "      <th></th>\n",
              "      <th></th>\n",
              "      <th></th>\n",
              "    </tr>\n",
              "  </thead>\n",
              "  <tbody>\n",
              "    <tr>\n",
              "      <th>2019-01-01</th>\n",
              "      <td>11126.866</td>\n",
              "      <td>4.8750</td>\n",
              "      <td>4.375</td>\n",
              "      <td>1</td>\n",
              "      <td>1</td>\n",
              "      <td>1</td>\n",
              "      <td>1</td>\n",
              "      <td>NaN</td>\n",
              "      <td>NaN</td>\n",
              "      <td>NaN</td>\n",
              "    </tr>\n",
              "    <tr>\n",
              "      <th>2019-01-02</th>\n",
              "      <td>11547.210</td>\n",
              "      <td>1.3500</td>\n",
              "      <td>1.500</td>\n",
              "      <td>2</td>\n",
              "      <td>2</td>\n",
              "      <td>1</td>\n",
              "      <td>1</td>\n",
              "      <td>11126.866</td>\n",
              "      <td>NaN</td>\n",
              "      <td>NaN</td>\n",
              "    </tr>\n",
              "    <tr>\n",
              "      <th>2019-01-03</th>\n",
              "      <td>12235.564</td>\n",
              "      <td>-1.1625</td>\n",
              "      <td>-1.375</td>\n",
              "      <td>3</td>\n",
              "      <td>3</td>\n",
              "      <td>1</td>\n",
              "      <td>1</td>\n",
              "      <td>11547.210</td>\n",
              "      <td>NaN</td>\n",
              "      <td>NaN</td>\n",
              "    </tr>\n",
              "    <tr>\n",
              "      <th>2019-01-04</th>\n",
              "      <td>12763.044</td>\n",
              "      <td>-1.5000</td>\n",
              "      <td>-0.125</td>\n",
              "      <td>4</td>\n",
              "      <td>4</td>\n",
              "      <td>1</td>\n",
              "      <td>1</td>\n",
              "      <td>12235.564</td>\n",
              "      <td>NaN</td>\n",
              "      <td>NaN</td>\n",
              "    </tr>\n",
              "    <tr>\n",
              "      <th>2019-01-05</th>\n",
              "      <td>12735.145</td>\n",
              "      <td>0.9375</td>\n",
              "      <td>1.500</td>\n",
              "      <td>5</td>\n",
              "      <td>5</td>\n",
              "      <td>1</td>\n",
              "      <td>1</td>\n",
              "      <td>12763.044</td>\n",
              "      <td>NaN</td>\n",
              "      <td>NaN</td>\n",
              "    </tr>\n",
              "  </tbody>\n",
              "</table>\n",
              "</div>\n",
              "    <div class=\"colab-df-buttons\">\n",
              "\n",
              "  <div class=\"colab-df-container\">\n",
              "    <button class=\"colab-df-convert\" onclick=\"convertToInteractive('df-62ddcbc5-559b-4f92-889c-19eb7864880c')\"\n",
              "            title=\"Convert this dataframe to an interactive table.\"\n",
              "            style=\"display:none;\">\n",
              "\n",
              "  <svg xmlns=\"http://www.w3.org/2000/svg\" height=\"24px\" viewBox=\"0 -960 960 960\">\n",
              "    <path d=\"M120-120v-720h720v720H120Zm60-500h600v-160H180v160Zm220 220h160v-160H400v160Zm0 220h160v-160H400v160ZM180-400h160v-160H180v160Zm440 0h160v-160H620v160ZM180-180h160v-160H180v160Zm440 0h160v-160H620v160Z\"/>\n",
              "  </svg>\n",
              "    </button>\n",
              "\n",
              "  <style>\n",
              "    .colab-df-container {\n",
              "      display:flex;\n",
              "      gap: 12px;\n",
              "    }\n",
              "\n",
              "    .colab-df-convert {\n",
              "      background-color: #E8F0FE;\n",
              "      border: none;\n",
              "      border-radius: 50%;\n",
              "      cursor: pointer;\n",
              "      display: none;\n",
              "      fill: #1967D2;\n",
              "      height: 32px;\n",
              "      padding: 0 0 0 0;\n",
              "      width: 32px;\n",
              "    }\n",
              "\n",
              "    .colab-df-convert:hover {\n",
              "      background-color: #E2EBFA;\n",
              "      box-shadow: 0px 1px 2px rgba(60, 64, 67, 0.3), 0px 1px 3px 1px rgba(60, 64, 67, 0.15);\n",
              "      fill: #174EA6;\n",
              "    }\n",
              "\n",
              "    .colab-df-buttons div {\n",
              "      margin-bottom: 4px;\n",
              "    }\n",
              "\n",
              "    [theme=dark] .colab-df-convert {\n",
              "      background-color: #3B4455;\n",
              "      fill: #D2E3FC;\n",
              "    }\n",
              "\n",
              "    [theme=dark] .colab-df-convert:hover {\n",
              "      background-color: #434B5C;\n",
              "      box-shadow: 0px 1px 3px 1px rgba(0, 0, 0, 0.15);\n",
              "      filter: drop-shadow(0px 1px 2px rgba(0, 0, 0, 0.3));\n",
              "      fill: #FFFFFF;\n",
              "    }\n",
              "  </style>\n",
              "\n",
              "    <script>\n",
              "      const buttonEl =\n",
              "        document.querySelector('#df-62ddcbc5-559b-4f92-889c-19eb7864880c button.colab-df-convert');\n",
              "      buttonEl.style.display =\n",
              "        google.colab.kernel.accessAllowed ? 'block' : 'none';\n",
              "\n",
              "      async function convertToInteractive(key) {\n",
              "        const element = document.querySelector('#df-62ddcbc5-559b-4f92-889c-19eb7864880c');\n",
              "        const dataTable =\n",
              "          await google.colab.kernel.invokeFunction('convertToInteractive',\n",
              "                                                    [key], {});\n",
              "        if (!dataTable) return;\n",
              "\n",
              "        const docLinkHtml = 'Like what you see? Visit the ' +\n",
              "          '<a target=\"_blank\" href=https://colab.research.google.com/notebooks/data_table.ipynb>data table notebook</a>'\n",
              "          + ' to learn more about interactive tables.';\n",
              "        element.innerHTML = '';\n",
              "        dataTable['output_type'] = 'display_data';\n",
              "        await google.colab.output.renderOutput(dataTable, element);\n",
              "        const docLink = document.createElement('div');\n",
              "        docLink.innerHTML = docLinkHtml;\n",
              "        element.appendChild(docLink);\n",
              "      }\n",
              "    </script>\n",
              "  </div>\n",
              "\n",
              "\n",
              "<div id=\"df-a02fc269-fd6e-429e-8df6-7b49534563a7\">\n",
              "  <button class=\"colab-df-quickchart\" onclick=\"quickchart('df-a02fc269-fd6e-429e-8df6-7b49534563a7')\"\n",
              "            title=\"Suggest charts.\"\n",
              "            style=\"display:none;\">\n",
              "\n",
              "<svg xmlns=\"http://www.w3.org/2000/svg\" height=\"24px\"viewBox=\"0 0 24 24\"\n",
              "     width=\"24px\">\n",
              "    <g>\n",
              "        <path d=\"M19 3H5c-1.1 0-2 .9-2 2v14c0 1.1.9 2 2 2h14c1.1 0 2-.9 2-2V5c0-1.1-.9-2-2-2zM9 17H7v-7h2v7zm4 0h-2V7h2v10zm4 0h-2v-4h2v4z\"/>\n",
              "    </g>\n",
              "</svg>\n",
              "  </button>\n",
              "\n",
              "<style>\n",
              "  .colab-df-quickchart {\n",
              "      --bg-color: #E8F0FE;\n",
              "      --fill-color: #1967D2;\n",
              "      --hover-bg-color: #E2EBFA;\n",
              "      --hover-fill-color: #174EA6;\n",
              "      --disabled-fill-color: #AAA;\n",
              "      --disabled-bg-color: #DDD;\n",
              "  }\n",
              "\n",
              "  [theme=dark] .colab-df-quickchart {\n",
              "      --bg-color: #3B4455;\n",
              "      --fill-color: #D2E3FC;\n",
              "      --hover-bg-color: #434B5C;\n",
              "      --hover-fill-color: #FFFFFF;\n",
              "      --disabled-bg-color: #3B4455;\n",
              "      --disabled-fill-color: #666;\n",
              "  }\n",
              "\n",
              "  .colab-df-quickchart {\n",
              "    background-color: var(--bg-color);\n",
              "    border: none;\n",
              "    border-radius: 50%;\n",
              "    cursor: pointer;\n",
              "    display: none;\n",
              "    fill: var(--fill-color);\n",
              "    height: 32px;\n",
              "    padding: 0;\n",
              "    width: 32px;\n",
              "  }\n",
              "\n",
              "  .colab-df-quickchart:hover {\n",
              "    background-color: var(--hover-bg-color);\n",
              "    box-shadow: 0 1px 2px rgba(60, 64, 67, 0.3), 0 1px 3px 1px rgba(60, 64, 67, 0.15);\n",
              "    fill: var(--button-hover-fill-color);\n",
              "  }\n",
              "\n",
              "  .colab-df-quickchart-complete:disabled,\n",
              "  .colab-df-quickchart-complete:disabled:hover {\n",
              "    background-color: var(--disabled-bg-color);\n",
              "    fill: var(--disabled-fill-color);\n",
              "    box-shadow: none;\n",
              "  }\n",
              "\n",
              "  .colab-df-spinner {\n",
              "    border: 2px solid var(--fill-color);\n",
              "    border-color: transparent;\n",
              "    border-bottom-color: var(--fill-color);\n",
              "    animation:\n",
              "      spin 1s steps(1) infinite;\n",
              "  }\n",
              "\n",
              "  @keyframes spin {\n",
              "    0% {\n",
              "      border-color: transparent;\n",
              "      border-bottom-color: var(--fill-color);\n",
              "      border-left-color: var(--fill-color);\n",
              "    }\n",
              "    20% {\n",
              "      border-color: transparent;\n",
              "      border-left-color: var(--fill-color);\n",
              "      border-top-color: var(--fill-color);\n",
              "    }\n",
              "    30% {\n",
              "      border-color: transparent;\n",
              "      border-left-color: var(--fill-color);\n",
              "      border-top-color: var(--fill-color);\n",
              "      border-right-color: var(--fill-color);\n",
              "    }\n",
              "    40% {\n",
              "      border-color: transparent;\n",
              "      border-right-color: var(--fill-color);\n",
              "      border-top-color: var(--fill-color);\n",
              "    }\n",
              "    60% {\n",
              "      border-color: transparent;\n",
              "      border-right-color: var(--fill-color);\n",
              "    }\n",
              "    80% {\n",
              "      border-color: transparent;\n",
              "      border-right-color: var(--fill-color);\n",
              "      border-bottom-color: var(--fill-color);\n",
              "    }\n",
              "    90% {\n",
              "      border-color: transparent;\n",
              "      border-bottom-color: var(--fill-color);\n",
              "    }\n",
              "  }\n",
              "</style>\n",
              "\n",
              "  <script>\n",
              "    async function quickchart(key) {\n",
              "      const quickchartButtonEl =\n",
              "        document.querySelector('#' + key + ' button');\n",
              "      quickchartButtonEl.disabled = true;  // To prevent multiple clicks.\n",
              "      quickchartButtonEl.classList.add('colab-df-spinner');\n",
              "      try {\n",
              "        const charts = await google.colab.kernel.invokeFunction(\n",
              "            'suggestCharts', [key], {});\n",
              "      } catch (error) {\n",
              "        console.error('Error during call to suggestCharts:', error);\n",
              "      }\n",
              "      quickchartButtonEl.classList.remove('colab-df-spinner');\n",
              "      quickchartButtonEl.classList.add('colab-df-quickchart-complete');\n",
              "    }\n",
              "    (() => {\n",
              "      let quickchartButtonEl =\n",
              "        document.querySelector('#df-a02fc269-fd6e-429e-8df6-7b49534563a7 button');\n",
              "      quickchartButtonEl.style.display =\n",
              "        google.colab.kernel.accessAllowed ? 'block' : 'none';\n",
              "    })();\n",
              "  </script>\n",
              "</div>\n",
              "    </div>\n",
              "  </div>\n"
            ]
          },
          "metadata": {},
          "execution_count": 99
        }
      ],
      "source": [
        "df_train.head()"
      ]
    },
    {
      "cell_type": "code",
      "execution_count": null,
      "metadata": {
        "id": "X4EaRuhOnYPR"
      },
      "outputs": [],
      "source": [
        "df_train = df_train.dropna()\n",
        "df_test = df_test.dropna()"
      ]
    },
    {
      "cell_type": "code",
      "execution_count": null,
      "metadata": {
        "colab": {
          "base_uri": "https://localhost:8080/"
        },
        "id": "tGsgipfOnYPS",
        "outputId": "f27d6e6a-aed0-4909-90bf-2297ed59a454",
        "scrolled": true
      },
      "outputs": [
        {
          "output_type": "execute_result",
          "data": {
            "text/plain": [
              "(1537, 10)"
            ]
          },
          "metadata": {},
          "execution_count": 101
        }
      ],
      "source": [
        "df_train.shape"
      ]
    },
    {
      "cell_type": "code",
      "source": [
        "df_test.shape"
      ],
      "metadata": {
        "colab": {
          "base_uri": "https://localhost:8080/"
        },
        "id": "igKOeQEyLXxi",
        "outputId": "fb2e0682-a671-4dd7-c426-ed2b26d8b8f3"
      },
      "execution_count": null,
      "outputs": [
        {
          "output_type": "execute_result",
          "data": {
            "text/plain": [
              "(108, 10)"
            ]
          },
          "metadata": {},
          "execution_count": 102
        }
      ]
    },
    {
      "cell_type": "code",
      "execution_count": null,
      "metadata": {
        "id": "soA7QfcTnYPV"
      },
      "outputs": [],
      "source": [
        "# Выделим признаки и целевой признак\n",
        "features_train = df_train.drop(['target', 'temp'], axis = 1)\n",
        "target_train =  df_train['target']\n",
        "\n",
        "features_test = df_test.drop(['target', 'temp'], axis = 1)\n",
        "target_test =  df_test['target']"
      ]
    },
    {
      "cell_type": "code",
      "execution_count": null,
      "metadata": {
        "id": "ObAgovOJLM5b"
      },
      "outputs": [],
      "source": [
        "# Сохраним категориальные признаки в одну переменную\n",
        "#cat_features = ['weather_pred','weather_fact']"
      ]
    },
    {
      "cell_type": "code",
      "execution_count": null,
      "metadata": {
        "id": "_YaoK9_LTYMl"
      },
      "outputs": [],
      "source": [
        "# Закодируем категориальные признаки с помощью OneHotEncoder\n",
        "# и масштабируем числовые признаки с помощью StandardScaler, поместим оба действия в ColumnTransformer\n",
        "#encoder = OneHotEncoder(drop='first', handle_unknown='error', sparse=False)"
      ]
    },
    {
      "cell_type": "markdown",
      "metadata": {
        "id": "1ybwhMoqnYPX"
      },
      "source": [
        "### Линейные модели"
      ]
    },
    {
      "cell_type": "code",
      "execution_count": null,
      "metadata": {
        "colab": {
          "base_uri": "https://localhost:8080/",
          "height": 134
        },
        "id": "qjVxSyLbnYPg",
        "outputId": "7cbd5a18-3fd6-4054-eaa1-f66ca4d29651"
      },
      "outputs": [
        {
          "output_type": "stream",
          "name": "stdout",
          "text": [
            "Fitting 12 folds for each of 100 candidates, totalling 1200 fits\n"
          ]
        },
        {
          "output_type": "execute_result",
          "data": {
            "text/plain": [
              "GridSearchCV(cv=TimeSeriesSplit(gap=0, max_train_size=None, n_splits=12, test_size=None),\n",
              "             estimator=ElasticNet(), n_jobs=-1,\n",
              "             param_grid={'alpha': array([0.1, 0.2, 0.3, 0.4, 0.5, 0.6, 0.7, 0.8, 0.9, 1. ]),\n",
              "                         'l1_ratio': array([0.1, 0.2, 0.3, 0.4, 0.5, 0.6, 0.7, 0.8, 0.9, 1. ])},\n",
              "             scoring='neg_mean_absolute_error', verbose=True)"
            ],
            "text/html": [
              "<style>#sk-container-id-7 {color: black;background-color: white;}#sk-container-id-7 pre{padding: 0;}#sk-container-id-7 div.sk-toggleable {background-color: white;}#sk-container-id-7 label.sk-toggleable__label {cursor: pointer;display: block;width: 100%;margin-bottom: 0;padding: 0.3em;box-sizing: border-box;text-align: center;}#sk-container-id-7 label.sk-toggleable__label-arrow:before {content: \"▸\";float: left;margin-right: 0.25em;color: #696969;}#sk-container-id-7 label.sk-toggleable__label-arrow:hover:before {color: black;}#sk-container-id-7 div.sk-estimator:hover label.sk-toggleable__label-arrow:before {color: black;}#sk-container-id-7 div.sk-toggleable__content {max-height: 0;max-width: 0;overflow: hidden;text-align: left;background-color: #f0f8ff;}#sk-container-id-7 div.sk-toggleable__content pre {margin: 0.2em;color: black;border-radius: 0.25em;background-color: #f0f8ff;}#sk-container-id-7 input.sk-toggleable__control:checked~div.sk-toggleable__content {max-height: 200px;max-width: 100%;overflow: auto;}#sk-container-id-7 input.sk-toggleable__control:checked~label.sk-toggleable__label-arrow:before {content: \"▾\";}#sk-container-id-7 div.sk-estimator input.sk-toggleable__control:checked~label.sk-toggleable__label {background-color: #d4ebff;}#sk-container-id-7 div.sk-label input.sk-toggleable__control:checked~label.sk-toggleable__label {background-color: #d4ebff;}#sk-container-id-7 input.sk-hidden--visually {border: 0;clip: rect(1px 1px 1px 1px);clip: rect(1px, 1px, 1px, 1px);height: 1px;margin: -1px;overflow: hidden;padding: 0;position: absolute;width: 1px;}#sk-container-id-7 div.sk-estimator {font-family: monospace;background-color: #f0f8ff;border: 1px dotted black;border-radius: 0.25em;box-sizing: border-box;margin-bottom: 0.5em;}#sk-container-id-7 div.sk-estimator:hover {background-color: #d4ebff;}#sk-container-id-7 div.sk-parallel-item::after {content: \"\";width: 100%;border-bottom: 1px solid gray;flex-grow: 1;}#sk-container-id-7 div.sk-label:hover label.sk-toggleable__label {background-color: #d4ebff;}#sk-container-id-7 div.sk-serial::before {content: \"\";position: absolute;border-left: 1px solid gray;box-sizing: border-box;top: 0;bottom: 0;left: 50%;z-index: 0;}#sk-container-id-7 div.sk-serial {display: flex;flex-direction: column;align-items: center;background-color: white;padding-right: 0.2em;padding-left: 0.2em;position: relative;}#sk-container-id-7 div.sk-item {position: relative;z-index: 1;}#sk-container-id-7 div.sk-parallel {display: flex;align-items: stretch;justify-content: center;background-color: white;position: relative;}#sk-container-id-7 div.sk-item::before, #sk-container-id-7 div.sk-parallel-item::before {content: \"\";position: absolute;border-left: 1px solid gray;box-sizing: border-box;top: 0;bottom: 0;left: 50%;z-index: -1;}#sk-container-id-7 div.sk-parallel-item {display: flex;flex-direction: column;z-index: 1;position: relative;background-color: white;}#sk-container-id-7 div.sk-parallel-item:first-child::after {align-self: flex-end;width: 50%;}#sk-container-id-7 div.sk-parallel-item:last-child::after {align-self: flex-start;width: 50%;}#sk-container-id-7 div.sk-parallel-item:only-child::after {width: 0;}#sk-container-id-7 div.sk-dashed-wrapped {border: 1px dashed gray;margin: 0 0.4em 0.5em 0.4em;box-sizing: border-box;padding-bottom: 0.4em;background-color: white;}#sk-container-id-7 div.sk-label label {font-family: monospace;font-weight: bold;display: inline-block;line-height: 1.2em;}#sk-container-id-7 div.sk-label-container {text-align: center;}#sk-container-id-7 div.sk-container {/* jupyter's `normalize.less` sets `[hidden] { display: none; }` but bootstrap.min.css set `[hidden] { display: none !important; }` so we also need the `!important` here to be able to override the default hidden behavior on the sphinx rendered scikit-learn.org. See: https://github.com/scikit-learn/scikit-learn/issues/21755 */display: inline-block !important;position: relative;}#sk-container-id-7 div.sk-text-repr-fallback {display: none;}</style><div id=\"sk-container-id-7\" class=\"sk-top-container\"><div class=\"sk-text-repr-fallback\"><pre>GridSearchCV(cv=TimeSeriesSplit(gap=0, max_train_size=None, n_splits=12, test_size=None),\n",
              "             estimator=ElasticNet(), n_jobs=-1,\n",
              "             param_grid={&#x27;alpha&#x27;: array([0.1, 0.2, 0.3, 0.4, 0.5, 0.6, 0.7, 0.8, 0.9, 1. ]),\n",
              "                         &#x27;l1_ratio&#x27;: array([0.1, 0.2, 0.3, 0.4, 0.5, 0.6, 0.7, 0.8, 0.9, 1. ])},\n",
              "             scoring=&#x27;neg_mean_absolute_error&#x27;, verbose=True)</pre><b>In a Jupyter environment, please rerun this cell to show the HTML representation or trust the notebook. <br />On GitHub, the HTML representation is unable to render, please try loading this page with nbviewer.org.</b></div><div class=\"sk-container\" hidden><div class=\"sk-item sk-dashed-wrapped\"><div class=\"sk-label-container\"><div class=\"sk-label sk-toggleable\"><input class=\"sk-toggleable__control sk-hidden--visually\" id=\"sk-estimator-id-19\" type=\"checkbox\" ><label for=\"sk-estimator-id-19\" class=\"sk-toggleable__label sk-toggleable__label-arrow\">GridSearchCV</label><div class=\"sk-toggleable__content\"><pre>GridSearchCV(cv=TimeSeriesSplit(gap=0, max_train_size=None, n_splits=12, test_size=None),\n",
              "             estimator=ElasticNet(), n_jobs=-1,\n",
              "             param_grid={&#x27;alpha&#x27;: array([0.1, 0.2, 0.3, 0.4, 0.5, 0.6, 0.7, 0.8, 0.9, 1. ]),\n",
              "                         &#x27;l1_ratio&#x27;: array([0.1, 0.2, 0.3, 0.4, 0.5, 0.6, 0.7, 0.8, 0.9, 1. ])},\n",
              "             scoring=&#x27;neg_mean_absolute_error&#x27;, verbose=True)</pre></div></div></div><div class=\"sk-parallel\"><div class=\"sk-parallel-item\"><div class=\"sk-item\"><div class=\"sk-label-container\"><div class=\"sk-label sk-toggleable\"><input class=\"sk-toggleable__control sk-hidden--visually\" id=\"sk-estimator-id-20\" type=\"checkbox\" ><label for=\"sk-estimator-id-20\" class=\"sk-toggleable__label sk-toggleable__label-arrow\">estimator: ElasticNet</label><div class=\"sk-toggleable__content\"><pre>ElasticNet()</pre></div></div></div><div class=\"sk-serial\"><div class=\"sk-item\"><div class=\"sk-estimator sk-toggleable\"><input class=\"sk-toggleable__control sk-hidden--visually\" id=\"sk-estimator-id-21\" type=\"checkbox\" ><label for=\"sk-estimator-id-21\" class=\"sk-toggleable__label sk-toggleable__label-arrow\">ElasticNet</label><div class=\"sk-toggleable__content\"><pre>ElasticNet()</pre></div></div></div></div></div></div></div></div></div></div>"
            ]
          },
          "metadata": {},
          "execution_count": 32
        }
      ],
      "source": [
        "# Обучим модель ElasticNet, проверим качество модели на кросс-валидации с помощью cross_val_score\n",
        "elastic = ElasticNet()\n",
        "\n",
        "tscv = TimeSeriesSplit(n_splits=12)\n",
        "\n",
        "param_grid = {'alpha':  np.linspace(0.1, 1.0, 10),\n",
        "              'l1_ratio': np.linspace(0.1, 1.0, 10)}\n",
        "\n",
        "el = GridSearchCV(elastic,\n",
        "                  cv=tscv,\n",
        "                  param_grid = param_grid,\n",
        "                  scoring = 'neg_mean_absolute_error',\n",
        "                  n_jobs = -1,\n",
        "                  verbose = True)\n",
        "\n",
        "el.fit(features_train, target_train)"
      ]
    },
    {
      "cell_type": "code",
      "execution_count": null,
      "metadata": {
        "colab": {
          "base_uri": "https://localhost:8080/"
        },
        "id": "CVrjaQbJnYPj",
        "outputId": "a12479e5-741f-482a-e60a-73b7d7f243c0",
        "scrolled": true
      },
      "outputs": [
        {
          "output_type": "execute_result",
          "data": {
            "text/plain": [
              "{'alpha': 0.7000000000000001, 'l1_ratio': 0.4}"
            ]
          },
          "metadata": {},
          "execution_count": 33
        }
      ],
      "source": [
        "el.best_params_"
      ]
    },
    {
      "cell_type": "code",
      "execution_count": null,
      "metadata": {
        "colab": {
          "base_uri": "https://localhost:8080/"
        },
        "id": "iZRrY-UcnYPl",
        "outputId": "19baffc2-4f86-4d69-fa3b-b33e99c1e4ee",
        "scrolled": true
      },
      "outputs": [
        {
          "output_type": "execute_result",
          "data": {
            "text/plain": [
              "247.7112486891524"
            ]
          },
          "metadata": {},
          "execution_count": 34
        }
      ],
      "source": [
        "np.abs(el.best_score_)"
      ]
    },
    {
      "cell_type": "markdown",
      "metadata": {
        "id": "Mb7-bztHnYPm"
      },
      "source": [
        "### CatBoostRegressor"
      ]
    },
    {
      "cell_type": "code",
      "execution_count": null,
      "metadata": {
        "colab": {
          "base_uri": "https://localhost:8080/",
          "height": 1000,
          "referenced_widgets": [
            "11a4ab4dcce947ea9a8e098d69e13a14"
          ]
        },
        "id": "8qKykGA0nYPm",
        "scrolled": true,
        "outputId": "e40d2f11-9c19-4388-9edd-3ae3f1004fad"
      },
      "outputs": [
        {
          "output_type": "display_data",
          "data": {
            "text/plain": [
              "MetricVisualizer(layout=Layout(align_self='stretch', height='500px'))"
            ],
            "application/vnd.jupyter.widget-view+json": {
              "version_major": 2,
              "version_minor": 0,
              "model_id": "11a4ab4dcce947ea9a8e098d69e13a14"
            }
          },
          "metadata": {}
        },
        {
          "output_type": "stream",
          "name": "stdout",
          "text": [
            "\n",
            "bestTest = 218.7362109\n",
            "bestIteration = 999\n",
            "\n",
            "\n",
            "bestTest = 172.5337764\n",
            "bestIteration = 999\n",
            "\n",
            "\n",
            "bestTest = 161.0694848\n",
            "bestIteration = 999\n",
            "\n",
            "\n",
            "bestTest = 156.9710964\n",
            "bestIteration = 998\n",
            "\n",
            "\n",
            "bestTest = 158.5040398\n",
            "bestIteration = 990\n",
            "\n",
            "\n",
            "bestTest = 200.8968852\n",
            "bestIteration = 1499\n",
            "\n",
            "\n",
            "bestTest = 159.6391873\n",
            "bestIteration = 1499\n",
            "\n",
            "\n",
            "bestTest = 154.7797865\n",
            "bestIteration = 1499\n",
            "\n",
            "\n",
            "bestTest = 154.2719248\n",
            "bestIteration = 1369\n",
            "\n",
            "\n",
            "bestTest = 157.8764588\n",
            "bestIteration = 1498\n",
            "\n",
            "\n",
            "bestTest = 187.5856983\n",
            "bestIteration = 1998\n",
            "\n",
            "\n",
            "bestTest = 155.3362942\n",
            "bestIteration = 1998\n",
            "\n",
            "\n",
            "bestTest = 152.7231314\n",
            "bestIteration = 1978\n",
            "\n",
            "\n",
            "bestTest = 153.8473259\n",
            "bestIteration = 1870\n",
            "\n",
            "\n",
            "bestTest = 157.8764588\n",
            "bestIteration = 1498\n",
            "\n",
            "\n",
            "bestTest = 203.091166\n",
            "bestIteration = 999\n",
            "\n",
            "\n",
            "bestTest = 170.0860599\n",
            "bestIteration = 997\n",
            "\n",
            "\n",
            "bestTest = 162.5312423\n",
            "bestIteration = 999\n",
            "\n",
            "\n",
            "bestTest = 161.1436596\n",
            "bestIteration = 985\n",
            "\n",
            "\n",
            "bestTest = 161.941566\n",
            "bestIteration = 641\n",
            "\n",
            "\n",
            "bestTest = 182.2487979\n",
            "bestIteration = 1499\n",
            "\n",
            "\n",
            "bestTest = 162.3549297\n",
            "bestIteration = 1499\n",
            "\n",
            "\n",
            "bestTest = 159.7481719\n",
            "bestIteration = 1456\n",
            "\n",
            "\n",
            "bestTest = 160.3597707\n",
            "bestIteration = 1361\n",
            "\n",
            "\n",
            "bestTest = 161.6276639\n",
            "bestIteration = 1069\n",
            "\n",
            "\n",
            "bestTest = 170.5718474\n",
            "bestIteration = 1999\n",
            "\n",
            "\n",
            "bestTest = 159.2162784\n",
            "bestIteration = 1999\n",
            "\n",
            "\n",
            "bestTest = 159.6526608\n",
            "bestIteration = 1545\n",
            "\n",
            "\n",
            "bestTest = 160.2765156\n",
            "bestIteration = 1638\n",
            "\n",
            "\n",
            "bestTest = 161.6276639\n",
            "bestIteration = 1069\n",
            "\n",
            "\n",
            "bestTest = 220.9358659\n",
            "bestIteration = 999\n",
            "\n",
            "\n",
            "bestTest = 185.5232982\n",
            "bestIteration = 999\n",
            "\n",
            "\n",
            "bestTest = 170.1523246\n",
            "bestIteration = 998\n",
            "\n",
            "\n",
            "bestTest = 176.9616533\n",
            "bestIteration = 985\n",
            "\n",
            "\n",
            "bestTest = 175.3942977\n",
            "bestIteration = 765\n",
            "\n",
            "\n",
            "bestTest = 201.1046077\n",
            "bestIteration = 1499\n",
            "\n",
            "\n",
            "bestTest = 179.0385391\n",
            "bestIteration = 1488\n",
            "\n",
            "\n",
            "bestTest = 169.4442487\n",
            "bestIteration = 1268\n",
            "\n",
            "\n",
            "bestTest = 176.1344176\n",
            "bestIteration = 1489\n",
            "\n",
            "\n",
            "bestTest = 175.3942977\n",
            "bestIteration = 765\n",
            "\n",
            "\n",
            "bestTest = 191.5255479\n",
            "bestIteration = 1999\n",
            "\n",
            "\n",
            "bestTest = 177.7081168\n",
            "bestIteration = 1957\n",
            "\n",
            "\n",
            "bestTest = 169.4307033\n",
            "bestIteration = 1678\n",
            "\n",
            "\n",
            "bestTest = 176.0725249\n",
            "bestIteration = 1631\n",
            "\n",
            "\n",
            "bestTest = 175.3942977\n",
            "bestIteration = 765\n",
            "\n",
            "\n",
            "bestTest = 258.6385976\n",
            "bestIteration = 998\n",
            "\n",
            "\n",
            "bestTest = 226.3146488\n",
            "bestIteration = 999\n",
            "\n",
            "\n",
            "bestTest = 219.5239281\n",
            "bestIteration = 989\n",
            "\n",
            "\n",
            "bestTest = 229.6082464\n",
            "bestIteration = 938\n",
            "\n",
            "\n",
            "bestTest = 247.5618518\n",
            "bestIteration = 510\n",
            "\n",
            "\n",
            "bestTest = 239.6067807\n",
            "bestIteration = 1499\n",
            "\n",
            "\n",
            "bestTest = 223.0029712\n",
            "bestIteration = 1499\n",
            "\n",
            "\n",
            "bestTest = 218.6591461\n",
            "bestIteration = 1471\n",
            "\n",
            "\n",
            "bestTest = 229.3867654\n",
            "bestIteration = 1230\n",
            "\n",
            "\n",
            "bestTest = 247.5618518\n",
            "bestIteration = 510\n",
            "\n",
            "\n",
            "bestTest = 230.8568824\n",
            "bestIteration = 1999\n",
            "\n",
            "\n",
            "bestTest = 221.8486866\n",
            "bestIteration = 1989\n",
            "\n",
            "\n",
            "bestTest = 218.4199605\n",
            "bestIteration = 1944\n",
            "\n",
            "\n",
            "bestTest = 229.3867654\n",
            "bestIteration = 1230\n",
            "\n",
            "\n",
            "bestTest = 247.5618518\n",
            "bestIteration = 510\n",
            "\n",
            "\n",
            "bestTest = 318.6107141\n",
            "bestIteration = 999\n",
            "\n",
            "\n",
            "bestTest = 277.1734221\n",
            "bestIteration = 999\n",
            "\n",
            "\n",
            "bestTest = 264.5861346\n",
            "bestIteration = 995\n",
            "\n",
            "\n",
            "bestTest = 261.8918761\n",
            "bestIteration = 999\n",
            "\n",
            "\n",
            "bestTest = 269.8883395\n",
            "bestIteration = 987\n",
            "\n",
            "\n",
            "bestTest = 298.1286147\n",
            "bestIteration = 1499\n",
            "\n",
            "\n",
            "bestTest = 272.4875254\n",
            "bestIteration = 1499\n",
            "\n",
            "\n",
            "bestTest = 263.6441128\n",
            "bestIteration = 1496\n",
            "\n",
            "\n",
            "bestTest = 261.4926342\n",
            "bestIteration = 1405\n",
            "\n",
            "\n",
            "bestTest = 269.7022931\n",
            "bestIteration = 1456\n",
            "\n",
            "\n",
            "bestTest = 289.8889934\n",
            "bestIteration = 1998\n",
            "\n",
            "\n",
            "bestTest = 271.4402691\n",
            "bestIteration = 1999\n",
            "\n",
            "\n",
            "bestTest = 263.4346928\n",
            "bestIteration = 1985\n",
            "\n",
            "\n",
            "bestTest = 261.4926342\n",
            "bestIteration = 1405\n",
            "\n",
            "\n",
            "bestTest = 269.6665268\n",
            "bestIteration = 1645\n",
            "\n",
            "Training on fold [0/12]\n",
            "\n",
            "bestTest = 201.5868955\n",
            "bestIteration = 55\n",
            "\n",
            "Training on fold [1/12]\n",
            "\n",
            "bestTest = 1714.232536\n",
            "bestIteration = 1249\n",
            "\n",
            "Training on fold [2/12]\n",
            "\n",
            "bestTest = 208.9311607\n",
            "bestIteration = 655\n",
            "\n",
            "Training on fold [3/12]\n",
            "\n",
            "bestTest = 270.9538566\n",
            "bestIteration = 1829\n",
            "\n",
            "Training on fold [4/12]\n",
            "\n",
            "bestTest = 174.3444254\n",
            "bestIteration = 1951\n",
            "\n",
            "Training on fold [5/12]\n",
            "\n",
            "bestTest = 350.0906181\n",
            "bestIteration = 1690\n",
            "\n",
            "Training on fold [6/12]\n",
            "\n",
            "bestTest = 233.6005331\n",
            "bestIteration = 1986\n",
            "\n",
            "Training on fold [7/12]\n",
            "\n",
            "bestTest = 220.4221901\n",
            "bestIteration = 1998\n",
            "\n",
            "Training on fold [8/12]\n",
            "\n",
            "bestTest = 247.8066146\n",
            "bestIteration = 1259\n",
            "\n",
            "Training on fold [9/12]\n",
            "\n",
            "bestTest = 166.7810706\n",
            "bestIteration = 1918\n",
            "\n",
            "Training on fold [10/12]\n",
            "\n",
            "bestTest = 163.2651247\n",
            "bestIteration = 1993\n",
            "\n",
            "Training on fold [11/12]\n",
            "\n",
            "bestTest = 179.3243248\n",
            "bestIteration = 1898\n",
            "\n"
          ]
        }
      ],
      "source": [
        "# Обучим CatBoostRegressor с гиперпараметрами по умолчанию\n",
        "cb = CatBoostRegressor(eval_metric= 'MAE', random_seed = 12345, verbose = False)\n",
        "\n",
        "tscv = TimeSeriesSplit(12)\n",
        "\n",
        "grid = {'learning_rate': [0.01, 0.03, 0.05, 0.07, 0.1],\n",
        "        'depth': [2, 4, 6, 8, 10],\n",
        "        'iterations': [1000, 1500, 2000]}\n",
        "\n",
        "gs = cb.grid_search(grid, features_train, target_train, cv=tscv, plot = True, verbose = False)"
      ]
    },
    {
      "cell_type": "code",
      "execution_count": null,
      "metadata": {
        "id": "Z7TdQi3VnYPo",
        "outputId": "f8e5a58b-219c-4ecb-c544-670398a7f582",
        "colab": {
          "base_uri": "https://localhost:8080/"
        }
      },
      "outputs": [
        {
          "output_type": "execute_result",
          "data": {
            "text/plain": [
              "{'learn': {'MAE': 115.50327036952186, 'RMSE': 154.0104307055389}}"
            ]
          },
          "metadata": {},
          "execution_count": 113
        }
      ],
      "source": [
        "cb.get_best_score()"
      ]
    },
    {
      "cell_type": "code",
      "execution_count": null,
      "metadata": {
        "id": "R_R6_le2nYPp",
        "outputId": "71a5659d-5636-4acc-9e71-d5f6379515dd",
        "colab": {
          "base_uri": "https://localhost:8080/"
        }
      },
      "outputs": [
        {
          "output_type": "execute_result",
          "data": {
            "text/plain": [
              "{'nan_mode': 'Min',\n",
              " 'eval_metric': 'MAE',\n",
              " 'iterations': 2000,\n",
              " 'sampling_frequency': 'PerTree',\n",
              " 'leaf_estimation_method': 'Newton',\n",
              " 'random_score_type': 'NormalWithModelSizeDecrease',\n",
              " 'grow_policy': 'SymmetricTree',\n",
              " 'penalties_coefficient': 1,\n",
              " 'boosting_type': 'Plain',\n",
              " 'model_shrink_mode': 'Constant',\n",
              " 'feature_border_type': 'GreedyLogSum',\n",
              " 'bayesian_matrix_reg': 0.10000000149011612,\n",
              " 'eval_fraction': 0,\n",
              " 'force_unit_auto_pair_weights': False,\n",
              " 'l2_leaf_reg': 3,\n",
              " 'random_strength': 1,\n",
              " 'rsm': 1,\n",
              " 'boost_from_average': True,\n",
              " 'model_size_reg': 0.5,\n",
              " 'pool_metainfo_options': {'tags': {}},\n",
              " 'subsample': 0.800000011920929,\n",
              " 'use_best_model': False,\n",
              " 'random_seed': 12345,\n",
              " 'depth': 2,\n",
              " 'posterior_sampling': False,\n",
              " 'border_count': 254,\n",
              " 'classes_count': 0,\n",
              " 'auto_class_weights': 'None',\n",
              " 'sparse_features_conflict_fraction': 0,\n",
              " 'leaf_estimation_backtracking': 'AnyImprovement',\n",
              " 'best_model_min_trees': 1,\n",
              " 'model_shrink_rate': 0,\n",
              " 'min_data_in_leaf': 1,\n",
              " 'loss_function': 'RMSE',\n",
              " 'learning_rate': 0.05000000074505806,\n",
              " 'score_function': 'Cosine',\n",
              " 'task_type': 'CPU',\n",
              " 'leaf_estimation_iterations': 1,\n",
              " 'bootstrap_type': 'MVS',\n",
              " 'max_leaves': 4}"
            ]
          },
          "metadata": {},
          "execution_count": 114
        }
      ],
      "source": [
        "cb.get_all_params()"
      ]
    },
    {
      "cell_type": "code",
      "source": [
        "# Посмотрим на важность признаков для CatBoostClassifier\n",
        "\n",
        "cb_feat_imp = cb.get_feature_importance(prettified=True)\n",
        "\n",
        "plt.subplots(figsize=(5, 5))\n",
        "ax = sns.barplot(x=cb_feat_imp['Importances'], y=cb_feat_imp['Feature Id'])\n",
        "ax.set_title('Важность признаков для CatBoostClassifier')\n",
        "ax.set_yticklabels(cb_feat_imp['Feature Id'])\n",
        "ax.set_xlabel('Feature importances')\n",
        "ax.set_ylabel('Features')\n",
        "plt.show()"
      ],
      "metadata": {
        "colab": {
          "base_uri": "https://localhost:8080/",
          "height": 487
        },
        "id": "509BYxySoWtb",
        "outputId": "38e70217-a79b-47fc-ef2e-a2a4bf757245"
      },
      "execution_count": null,
      "outputs": [
        {
          "output_type": "display_data",
          "data": {
            "text/plain": [
              "<Figure size 500x500 with 1 Axes>"
            ],
            "image/png": "[encoded data removed]"
          },
          "metadata": {}
        }
      ]
    },
    {
      "cell_type": "code",
      "execution_count": null,
      "metadata": {
        "id": "qFmYv6q9nYQJ"
      },
      "outputs": [],
      "source": [
        "# Протестируем лучшую модель\n",
        "predictions_test = cb.predict(features_test)\n",
        "test_result = mean_absolute_error(target_test, predictions_test)"
      ]
    },
    {
      "cell_type": "code",
      "source": [
        "test_result"
      ],
      "metadata": {
        "colab": {
          "base_uri": "https://localhost:8080/"
        },
        "id": "f_4ya_weOGXN",
        "outputId": "a2b5b821-a025-411e-a865-42c03ff2f9c0"
      },
      "execution_count": null,
      "outputs": [
        {
          "output_type": "execute_result",
          "data": {
            "text/plain": [
              "143.03818360314804"
            ]
          },
          "metadata": {},
          "execution_count": 117
        }
      ]
    },
    {
      "cell_type": "code",
      "execution_count": null,
      "metadata": {
        "id": "jGfHNortnYQW"
      },
      "outputs": [],
      "source": []
    }
  ],
  "metadata": {
    "ExecuteTimeLog": [
      {
        "duration": 47,
        "start_time": "2023-03-13T11:01:53.845Z"
      },
      {
        "duration": 9587,
        "start_time": "2023-03-13T11:02:06.141Z"
      },
      {
        "duration": 157,
        "start_time": "2023-03-13T11:02:15.730Z"
      },
      {
        "duration": 11,
        "start_time": "2023-03-13T11:02:15.889Z"
      },
      {
        "duration": 126,
        "start_time": "2023-03-13T11:02:15.901Z"
      },
      {
        "duration": 11,
        "start_time": "2023-03-13T11:02:57.045Z"
      },
      {
        "duration": 11,
        "start_time": "2023-03-13T11:04:14.908Z"
      },
      {
        "duration": 10,
        "start_time": "2023-03-13T11:04:23.676Z"
      },
      {
        "duration": 4,
        "start_time": "2023-03-13T11:07:02.347Z"
      },
      {
        "duration": 7,
        "start_time": "2023-03-13T11:08:20.488Z"
      },
      {
        "duration": 8,
        "start_time": "2023-03-13T11:08:35.406Z"
      },
      {
        "duration": 289,
        "start_time": "2023-03-13T11:11:04.293Z"
      },
      {
        "duration": 413,
        "start_time": "2023-03-13T11:12:37.003Z"
      },
      {
        "duration": 341,
        "start_time": "2023-03-13T11:12:48.319Z"
      },
      {
        "duration": 110,
        "start_time": "2023-03-13T11:18:08.413Z"
      },
      {
        "duration": 12,
        "start_time": "2023-03-13T11:18:13.571Z"
      },
      {
        "duration": 228,
        "start_time": "2023-03-13T11:18:14.130Z"
      },
      {
        "duration": 24,
        "start_time": "2023-03-13T11:19:27.764Z"
      },
      {
        "duration": 44,
        "start_time": "2023-03-13T11:19:32.610Z"
      },
      {
        "duration": 11,
        "start_time": "2023-03-13T11:19:33.189Z"
      },
      {
        "duration": 7,
        "start_time": "2023-03-13T11:19:33.976Z"
      },
      {
        "duration": 4,
        "start_time": "2023-03-13T11:19:34.570Z"
      },
      {
        "duration": 8,
        "start_time": "2023-03-13T11:19:35.152Z"
      },
      {
        "duration": 8,
        "start_time": "2023-03-13T11:19:35.802Z"
      },
      {
        "duration": 325,
        "start_time": "2023-03-13T11:19:37.759Z"
      },
      {
        "duration": 20,
        "start_time": "2023-03-13T11:19:55.640Z"
      },
      {
        "duration": 6,
        "start_time": "2023-03-13T11:20:39.651Z"
      },
      {
        "duration": 351,
        "start_time": "2023-03-13T11:22:07.239Z"
      },
      {
        "duration": 1835,
        "start_time": "2023-03-13T11:22:40.094Z"
      },
      {
        "duration": 51,
        "start_time": "2023-03-13T11:22:41.931Z"
      },
      {
        "duration": 15,
        "start_time": "2023-03-13T11:22:41.983Z"
      },
      {
        "duration": 10,
        "start_time": "2023-03-13T11:22:42.000Z"
      },
      {
        "duration": 13,
        "start_time": "2023-03-13T11:22:42.012Z"
      },
      {
        "duration": 15,
        "start_time": "2023-03-13T11:22:42.026Z"
      },
      {
        "duration": 7,
        "start_time": "2023-03-13T11:22:42.043Z"
      },
      {
        "duration": 21,
        "start_time": "2023-03-13T11:22:42.052Z"
      },
      {
        "duration": 518,
        "start_time": "2023-03-13T11:22:42.075Z"
      },
      {
        "duration": 0,
        "start_time": "2023-03-13T11:22:42.594Z"
      },
      {
        "duration": 0,
        "start_time": "2023-03-13T11:22:42.596Z"
      },
      {
        "duration": 296,
        "start_time": "2023-03-13T11:23:56.301Z"
      },
      {
        "duration": 310,
        "start_time": "2023-03-13T11:24:11.697Z"
      },
      {
        "duration": 330,
        "start_time": "2023-03-13T11:24:25.248Z"
      },
      {
        "duration": 15,
        "start_time": "2023-03-13T11:24:40.023Z"
      },
      {
        "duration": 688,
        "start_time": "2023-03-13T11:25:11.374Z"
      },
      {
        "duration": 588,
        "start_time": "2023-03-13T11:25:35.314Z"
      },
      {
        "duration": 336,
        "start_time": "2023-03-13T11:25:47.502Z"
      },
      {
        "duration": 22,
        "start_time": "2023-03-13T11:26:33.588Z"
      },
      {
        "duration": 784,
        "start_time": "2023-03-13T11:26:34.530Z"
      },
      {
        "duration": 713,
        "start_time": "2023-03-13T11:27:01.213Z"
      },
      {
        "duration": 753,
        "start_time": "2023-03-13T11:27:15.591Z"
      },
      {
        "duration": 915,
        "start_time": "2023-03-13T11:27:22.513Z"
      },
      {
        "duration": 8,
        "start_time": "2023-03-13T11:33:15.848Z"
      },
      {
        "duration": 8,
        "start_time": "2023-03-13T11:33:30.550Z"
      },
      {
        "duration": 7,
        "start_time": "2023-03-13T11:33:40.318Z"
      },
      {
        "duration": 7,
        "start_time": "2023-03-13T11:33:47.202Z"
      },
      {
        "duration": 5,
        "start_time": "2023-03-13T11:34:10.997Z"
      },
      {
        "duration": 5,
        "start_time": "2023-03-13T11:34:25.174Z"
      },
      {
        "duration": 6,
        "start_time": "2023-03-13T11:34:27.430Z"
      },
      {
        "duration": 5,
        "start_time": "2023-03-13T11:34:37.670Z"
      },
      {
        "duration": 6,
        "start_time": "2023-03-13T11:34:38.300Z"
      },
      {
        "duration": 206,
        "start_time": "2023-03-13T11:36:25.911Z"
      },
      {
        "duration": 146,
        "start_time": "2023-03-13T11:37:51.050Z"
      },
      {
        "duration": 210,
        "start_time": "2023-03-13T11:41:40.608Z"
      },
      {
        "duration": 201,
        "start_time": "2023-03-13T11:43:22.598Z"
      },
      {
        "duration": 269,
        "start_time": "2023-03-13T11:44:03.994Z"
      },
      {
        "duration": 198,
        "start_time": "2023-03-13T11:44:14.031Z"
      },
      {
        "duration": 90,
        "start_time": "2023-03-13T11:47:15.030Z"
      },
      {
        "duration": 380,
        "start_time": "2023-03-13T11:47:26.995Z"
      },
      {
        "duration": 555,
        "start_time": "2023-03-13T11:48:40.738Z"
      },
      {
        "duration": 10,
        "start_time": "2023-03-13T11:49:14.281Z"
      },
      {
        "duration": 832,
        "start_time": "2023-03-13T11:49:19.241Z"
      },
      {
        "duration": 202,
        "start_time": "2023-03-13T11:58:22.600Z"
      },
      {
        "duration": 209,
        "start_time": "2023-03-13T11:58:27.901Z"
      },
      {
        "duration": 15,
        "start_time": "2023-03-13T12:04:49.377Z"
      },
      {
        "duration": 14,
        "start_time": "2023-03-13T12:04:58.542Z"
      },
      {
        "duration": 14,
        "start_time": "2023-03-13T12:05:46.181Z"
      },
      {
        "duration": 13,
        "start_time": "2023-03-13T12:06:32.599Z"
      },
      {
        "duration": 171,
        "start_time": "2023-03-13T12:09:17.473Z"
      },
      {
        "duration": 1641,
        "start_time": "2023-03-13T12:12:03.600Z"
      },
      {
        "duration": 1169,
        "start_time": "2023-03-13T12:12:52.877Z"
      },
      {
        "duration": 375,
        "start_time": "2023-03-13T12:15:35.984Z"
      },
      {
        "duration": 506,
        "start_time": "2023-03-13T12:15:52.145Z"
      },
      {
        "duration": 408,
        "start_time": "2023-03-13T12:18:14.745Z"
      },
      {
        "duration": 2123,
        "start_time": "2023-03-13T12:20:38.003Z"
      },
      {
        "duration": 49,
        "start_time": "2023-03-13T12:20:40.128Z"
      },
      {
        "duration": 11,
        "start_time": "2023-03-13T12:20:40.179Z"
      },
      {
        "duration": 10,
        "start_time": "2023-03-13T12:20:40.192Z"
      },
      {
        "duration": 17,
        "start_time": "2023-03-13T12:20:40.204Z"
      },
      {
        "duration": 13,
        "start_time": "2023-03-13T12:20:40.222Z"
      },
      {
        "duration": 8,
        "start_time": "2023-03-13T12:20:40.236Z"
      },
      {
        "duration": 7,
        "start_time": "2023-03-13T12:20:40.245Z"
      },
      {
        "duration": 7,
        "start_time": "2023-03-13T12:20:40.254Z"
      },
      {
        "duration": 4,
        "start_time": "2023-03-13T12:20:40.264Z"
      },
      {
        "duration": 500,
        "start_time": "2023-03-13T12:20:40.269Z"
      },
      {
        "duration": 564,
        "start_time": "2023-03-13T12:20:40.772Z"
      },
      {
        "duration": 300,
        "start_time": "2023-03-13T12:20:41.337Z"
      },
      {
        "duration": 0,
        "start_time": "2023-03-13T12:20:41.639Z"
      },
      {
        "duration": 0,
        "start_time": "2023-03-13T12:20:41.640Z"
      },
      {
        "duration": 10,
        "start_time": "2023-03-13T12:21:52.719Z"
      },
      {
        "duration": 8,
        "start_time": "2023-03-13T12:22:04.066Z"
      },
      {
        "duration": 10,
        "start_time": "2023-03-13T12:22:17.377Z"
      },
      {
        "duration": 4,
        "start_time": "2023-03-13T12:23:41.981Z"
      },
      {
        "duration": 49,
        "start_time": "2023-03-13T12:23:42.386Z"
      },
      {
        "duration": 12,
        "start_time": "2023-03-13T12:23:42.938Z"
      },
      {
        "duration": 11,
        "start_time": "2023-03-13T12:23:43.516Z"
      },
      {
        "duration": 6,
        "start_time": "2023-03-13T12:23:44.108Z"
      },
      {
        "duration": 12,
        "start_time": "2023-03-13T12:23:44.843Z"
      },
      {
        "duration": 13,
        "start_time": "2023-03-13T12:23:45.322Z"
      },
      {
        "duration": 6,
        "start_time": "2023-03-13T12:23:45.874Z"
      },
      {
        "duration": 4,
        "start_time": "2023-03-13T12:23:47.394Z"
      },
      {
        "duration": 4,
        "start_time": "2023-03-13T12:23:47.905Z"
      },
      {
        "duration": 471,
        "start_time": "2023-03-13T12:23:48.509Z"
      },
      {
        "duration": 369,
        "start_time": "2023-03-13T12:23:53.010Z"
      },
      {
        "duration": 388,
        "start_time": "2023-03-13T12:24:37.253Z"
      },
      {
        "duration": 5,
        "start_time": "2023-03-13T12:25:07.949Z"
      },
      {
        "duration": 55,
        "start_time": "2023-03-13T12:25:08.313Z"
      },
      {
        "duration": 10,
        "start_time": "2023-03-13T12:25:08.794Z"
      },
      {
        "duration": 7,
        "start_time": "2023-03-13T12:25:09.498Z"
      },
      {
        "duration": 4,
        "start_time": "2023-03-13T12:25:10.097Z"
      },
      {
        "duration": 7,
        "start_time": "2023-03-13T12:25:10.643Z"
      },
      {
        "duration": 7,
        "start_time": "2023-03-13T12:25:11.298Z"
      },
      {
        "duration": 6,
        "start_time": "2023-03-13T12:25:11.897Z"
      },
      {
        "duration": 5,
        "start_time": "2023-03-13T12:25:13.141Z"
      },
      {
        "duration": 4,
        "start_time": "2023-03-13T12:25:13.764Z"
      },
      {
        "duration": 410,
        "start_time": "2023-03-13T12:25:14.594Z"
      },
      {
        "duration": 569,
        "start_time": "2023-03-13T12:25:19.803Z"
      },
      {
        "duration": 1816,
        "start_time": "2023-03-13T12:26:14.710Z"
      },
      {
        "duration": 50,
        "start_time": "2023-03-13T12:26:16.529Z"
      },
      {
        "duration": 12,
        "start_time": "2023-03-13T12:26:16.581Z"
      },
      {
        "duration": 11,
        "start_time": "2023-03-13T12:26:16.595Z"
      },
      {
        "duration": 6,
        "start_time": "2023-03-13T12:26:16.608Z"
      },
      {
        "duration": 20,
        "start_time": "2023-03-13T12:26:16.617Z"
      },
      {
        "duration": 10,
        "start_time": "2023-03-13T12:26:16.640Z"
      },
      {
        "duration": 10,
        "start_time": "2023-03-13T12:26:16.652Z"
      },
      {
        "duration": 6,
        "start_time": "2023-03-13T12:26:16.665Z"
      },
      {
        "duration": 6,
        "start_time": "2023-03-13T12:26:16.675Z"
      },
      {
        "duration": 490,
        "start_time": "2023-03-13T12:26:16.683Z"
      },
      {
        "duration": 887,
        "start_time": "2023-03-13T12:26:17.176Z"
      },
      {
        "duration": 62,
        "start_time": "2023-03-13T12:26:18.064Z"
      },
      {
        "duration": 1403,
        "start_time": "2023-03-13T12:26:18.128Z"
      },
      {
        "duration": 221,
        "start_time": "2023-03-13T12:26:19.534Z"
      },
      {
        "duration": 124,
        "start_time": "2023-03-13T12:43:29.170Z"
      },
      {
        "duration": 19,
        "start_time": "2023-03-13T12:43:34.107Z"
      },
      {
        "duration": 10,
        "start_time": "2023-03-13T12:43:35.046Z"
      },
      {
        "duration": 11,
        "start_time": "2023-03-13T12:43:50.779Z"
      },
      {
        "duration": 10,
        "start_time": "2023-03-13T12:44:08.995Z"
      },
      {
        "duration": 10,
        "start_time": "2023-03-13T12:44:09.852Z"
      },
      {
        "duration": 4,
        "start_time": "2023-03-13T12:44:20.013Z"
      },
      {
        "duration": 4,
        "start_time": "2023-03-13T12:44:31.161Z"
      },
      {
        "duration": 4,
        "start_time": "2023-03-13T12:46:25.172Z"
      },
      {
        "duration": 5,
        "start_time": "2023-03-13T12:49:27.389Z"
      },
      {
        "duration": 11,
        "start_time": "2023-03-13T12:55:07.336Z"
      },
      {
        "duration": 1818,
        "start_time": "2023-03-13T12:55:37.912Z"
      },
      {
        "duration": 49,
        "start_time": "2023-03-13T12:55:39.732Z"
      },
      {
        "duration": 12,
        "start_time": "2023-03-13T12:55:39.783Z"
      },
      {
        "duration": 11,
        "start_time": "2023-03-13T12:55:39.798Z"
      },
      {
        "duration": 5,
        "start_time": "2023-03-13T12:55:39.811Z"
      },
      {
        "duration": 15,
        "start_time": "2023-03-13T12:55:39.818Z"
      },
      {
        "duration": 8,
        "start_time": "2023-03-13T12:55:39.835Z"
      },
      {
        "duration": 10,
        "start_time": "2023-03-13T12:55:39.844Z"
      },
      {
        "duration": 14,
        "start_time": "2023-03-13T12:55:39.856Z"
      },
      {
        "duration": 4,
        "start_time": "2023-03-13T12:55:39.873Z"
      },
      {
        "duration": 418,
        "start_time": "2023-03-13T12:55:39.878Z"
      },
      {
        "duration": 404,
        "start_time": "2023-03-13T12:55:40.297Z"
      },
      {
        "duration": 7,
        "start_time": "2023-03-13T12:55:40.703Z"
      },
      {
        "duration": 904,
        "start_time": "2023-03-13T12:55:40.723Z"
      },
      {
        "duration": 214,
        "start_time": "2023-03-13T12:55:41.628Z"
      },
      {
        "duration": 17,
        "start_time": "2023-03-13T12:55:41.844Z"
      },
      {
        "duration": 14,
        "start_time": "2023-03-13T12:55:41.863Z"
      },
      {
        "duration": 8,
        "start_time": "2023-03-13T12:55:41.879Z"
      },
      {
        "duration": 36,
        "start_time": "2023-03-13T12:55:41.889Z"
      },
      {
        "duration": 13,
        "start_time": "2023-03-13T12:55:41.927Z"
      },
      {
        "duration": 9,
        "start_time": "2023-03-13T12:55:41.942Z"
      },
      {
        "duration": 7,
        "start_time": "2023-03-13T12:55:41.953Z"
      },
      {
        "duration": 363,
        "start_time": "2023-03-13T12:55:41.962Z"
      },
      {
        "duration": 340,
        "start_time": "2023-03-13T12:57:23.285Z"
      },
      {
        "duration": 4,
        "start_time": "2023-03-13T12:57:24.277Z"
      },
      {
        "duration": 138,
        "start_time": "2023-03-13T13:00:27.552Z"
      },
      {
        "duration": 10,
        "start_time": "2023-03-13T13:00:28.199Z"
      },
      {
        "duration": 2461,
        "start_time": "2023-03-13T13:01:44.281Z"
      },
      {
        "duration": 4,
        "start_time": "2023-03-13T13:01:46.824Z"
      },
      {
        "duration": 4,
        "start_time": "2023-03-13T13:01:49.305Z"
      },
      {
        "duration": 4044,
        "start_time": "2023-03-13T13:03:15.666Z"
      },
      {
        "duration": 4011,
        "start_time": "2023-03-13T13:14:28.090Z"
      },
      {
        "duration": 3730,
        "start_time": "2023-03-13T13:14:36.837Z"
      },
      {
        "duration": 3877,
        "start_time": "2023-03-13T13:14:50.285Z"
      },
      {
        "duration": 11,
        "start_time": "2023-03-13T13:17:57.885Z"
      },
      {
        "duration": 3769,
        "start_time": "2023-03-13T13:18:03.751Z"
      },
      {
        "duration": 4,
        "start_time": "2023-03-13T13:18:16.614Z"
      },
      {
        "duration": 1233436,
        "start_time": "2023-03-13T13:18:21.654Z"
      },
      {
        "duration": 2776,
        "start_time": "2023-03-13T13:39:32.564Z"
      },
      {
        "duration": 2418,
        "start_time": "2023-03-13T13:40:14.216Z"
      },
      {
        "duration": 4,
        "start_time": "2023-03-13T13:40:22.238Z"
      },
      {
        "duration": 4,
        "start_time": "2023-03-13T13:40:23.854Z"
      },
      {
        "duration": 117023,
        "start_time": "2023-03-13T13:44:20.301Z"
      },
      {
        "duration": 4,
        "start_time": "2023-03-13T13:46:54.668Z"
      },
      {
        "duration": 6,
        "start_time": "2023-03-13T13:47:30.195Z"
      },
      {
        "duration": 4,
        "start_time": "2023-03-13T13:47:33.628Z"
      },
      {
        "duration": 3816,
        "start_time": "2023-03-13T13:47:50.096Z"
      },
      {
        "duration": 3,
        "start_time": "2023-03-13T13:47:53.914Z"
      },
      {
        "duration": 4,
        "start_time": "2023-03-13T13:48:24.790Z"
      },
      {
        "duration": 4,
        "start_time": "2023-03-13T13:48:43.546Z"
      },
      {
        "duration": 2997059,
        "start_time": "2023-03-13T13:48:49.673Z"
      },
      {
        "duration": 4,
        "start_time": "2023-03-13T14:49:16.369Z"
      },
      {
        "duration": 57,
        "start_time": "2023-03-13T14:49:17.705Z"
      },
      {
        "duration": 12,
        "start_time": "2023-03-13T14:49:18.341Z"
      },
      {
        "duration": 7,
        "start_time": "2023-03-13T14:49:19.209Z"
      },
      {
        "duration": 5,
        "start_time": "2023-03-13T14:49:20.095Z"
      },
      {
        "duration": 7,
        "start_time": "2023-03-13T14:49:20.868Z"
      },
      {
        "duration": 9,
        "start_time": "2023-03-13T14:49:21.603Z"
      },
      {
        "duration": 6,
        "start_time": "2023-03-13T14:49:22.373Z"
      },
      {
        "duration": 4,
        "start_time": "2023-03-13T14:49:25.605Z"
      },
      {
        "duration": 5,
        "start_time": "2023-03-13T14:49:26.646Z"
      },
      {
        "duration": 408,
        "start_time": "2023-03-13T14:49:29.145Z"
      },
      {
        "duration": 389,
        "start_time": "2023-03-13T14:49:34.906Z"
      },
      {
        "duration": 9,
        "start_time": "2023-03-13T14:49:37.949Z"
      },
      {
        "duration": 921,
        "start_time": "2023-03-13T14:49:39.095Z"
      },
      {
        "duration": 359,
        "start_time": "2023-03-13T14:49:45.793Z"
      },
      {
        "duration": 24,
        "start_time": "2023-03-13T14:49:52.646Z"
      },
      {
        "duration": 16,
        "start_time": "2023-03-13T14:50:02.345Z"
      },
      {
        "duration": 18,
        "start_time": "2023-03-13T14:50:27.357Z"
      },
      {
        "duration": 14,
        "start_time": "2023-03-13T14:52:26.119Z"
      },
      {
        "duration": 4,
        "start_time": "2023-03-13T14:52:27.263Z"
      },
      {
        "duration": 5,
        "start_time": "2023-03-13T14:52:28.345Z"
      },
      {
        "duration": 7,
        "start_time": "2023-03-13T14:52:30.228Z"
      },
      {
        "duration": 7,
        "start_time": "2023-03-13T14:52:31.243Z"
      },
      {
        "duration": 656,
        "start_time": "2023-03-13T14:52:32.376Z"
      },
      {
        "duration": 66,
        "start_time": "2023-03-13T14:52:33.160Z"
      },
      {
        "duration": 161350,
        "start_time": "2023-03-13T14:52:34.104Z"
      },
      {
        "duration": 9,
        "start_time": "2023-03-13T14:55:15.524Z"
      },
      {
        "duration": 18,
        "start_time": "2023-03-13T14:55:15.534Z"
      },
      {
        "duration": 73,
        "start_time": "2023-03-13T14:58:24.435Z"
      },
      {
        "duration": 4227,
        "start_time": "2023-03-13T14:58:48.593Z"
      },
      {
        "duration": 9,
        "start_time": "2023-03-13T14:58:52.821Z"
      },
      {
        "duration": 5,
        "start_time": "2023-03-13T14:58:52.832Z"
      },
      {
        "duration": 1313591,
        "start_time": "2023-03-13T15:01:11.874Z"
      },
      {
        "duration": 1012322,
        "start_time": "2023-03-13T15:26:11.546Z"
      },
      {
        "duration": 4,
        "start_time": "2023-03-13T18:52:02.708Z"
      },
      {
        "duration": 4,
        "start_time": "2023-03-13T18:52:04.504Z"
      },
      {
        "duration": 566,
        "start_time": "2023-03-13T18:54:17.896Z"
      },
      {
        "duration": 6,
        "start_time": "2023-03-13T18:54:19.911Z"
      },
      {
        "duration": 5,
        "start_time": "2023-03-13T18:54:25.446Z"
      },
      {
        "duration": 27,
        "start_time": "2023-03-13T18:55:18.211Z"
      },
      {
        "duration": 545641,
        "start_time": "2023-03-13T18:55:46.222Z"
      },
      {
        "duration": 0,
        "start_time": "2023-03-13T19:04:51.866Z"
      },
      {
        "duration": 0,
        "start_time": "2023-03-13T19:04:51.867Z"
      },
      {
        "duration": 7,
        "start_time": "2023-03-13T19:05:08.791Z"
      },
      {
        "duration": 1479960,
        "start_time": "2023-03-13T19:05:17.377Z"
      },
      {
        "duration": 5,
        "start_time": "2023-03-13T19:29:57.339Z"
      },
      {
        "duration": 4,
        "start_time": "2023-03-13T19:29:57.346Z"
      },
      {
        "duration": 62,
        "start_time": "2023-03-13T19:45:02.089Z"
      },
      {
        "duration": 78,
        "start_time": "2023-03-14T06:21:09.348Z"
      },
      {
        "duration": 69,
        "start_time": "2023-03-14T06:21:18.051Z"
      },
      {
        "duration": 66,
        "start_time": "2023-03-14T06:29:33.841Z"
      },
      {
        "duration": 42,
        "start_time": "2023-03-14T06:32:40.449Z"
      },
      {
        "duration": 94,
        "start_time": "2023-03-14T07:41:39.626Z"
      },
      {
        "duration": 93,
        "start_time": "2023-03-14T07:42:01.017Z"
      },
      {
        "duration": 4712,
        "start_time": "2023-03-14T07:44:58.721Z"
      },
      {
        "duration": 88,
        "start_time": "2023-03-14T07:45:03.435Z"
      },
      {
        "duration": 0,
        "start_time": "2023-03-14T07:45:03.526Z"
      },
      {
        "duration": 0,
        "start_time": "2023-03-14T07:45:03.527Z"
      },
      {
        "duration": 0,
        "start_time": "2023-03-14T07:45:03.528Z"
      },
      {
        "duration": 0,
        "start_time": "2023-03-14T07:45:03.528Z"
      },
      {
        "duration": 0,
        "start_time": "2023-03-14T07:45:03.529Z"
      },
      {
        "duration": 0,
        "start_time": "2023-03-14T07:45:03.531Z"
      },
      {
        "duration": 0,
        "start_time": "2023-03-14T07:45:03.532Z"
      },
      {
        "duration": 0,
        "start_time": "2023-03-14T07:45:03.533Z"
      },
      {
        "duration": 0,
        "start_time": "2023-03-14T07:45:03.534Z"
      },
      {
        "duration": 0,
        "start_time": "2023-03-14T07:45:03.535Z"
      },
      {
        "duration": 0,
        "start_time": "2023-03-14T07:45:03.536Z"
      },
      {
        "duration": 0,
        "start_time": "2023-03-14T07:45:03.538Z"
      },
      {
        "duration": 0,
        "start_time": "2023-03-14T07:45:03.538Z"
      },
      {
        "duration": 0,
        "start_time": "2023-03-14T07:45:03.539Z"
      },
      {
        "duration": 0,
        "start_time": "2023-03-14T07:45:03.540Z"
      },
      {
        "duration": 0,
        "start_time": "2023-03-14T07:45:03.542Z"
      },
      {
        "duration": 0,
        "start_time": "2023-03-14T07:45:03.543Z"
      },
      {
        "duration": 0,
        "start_time": "2023-03-14T07:45:03.544Z"
      },
      {
        "duration": 0,
        "start_time": "2023-03-14T07:45:03.545Z"
      },
      {
        "duration": 0,
        "start_time": "2023-03-14T07:45:03.546Z"
      },
      {
        "duration": 0,
        "start_time": "2023-03-14T07:45:03.547Z"
      },
      {
        "duration": 0,
        "start_time": "2023-03-14T07:45:03.548Z"
      },
      {
        "duration": 0,
        "start_time": "2023-03-14T07:45:03.549Z"
      },
      {
        "duration": 0,
        "start_time": "2023-03-14T07:45:03.549Z"
      },
      {
        "duration": 0,
        "start_time": "2023-03-14T07:45:03.551Z"
      },
      {
        "duration": 0,
        "start_time": "2023-03-14T07:45:03.551Z"
      },
      {
        "duration": 0,
        "start_time": "2023-03-14T07:45:03.552Z"
      },
      {
        "duration": 0,
        "start_time": "2023-03-14T07:45:03.553Z"
      },
      {
        "duration": 0,
        "start_time": "2023-03-14T07:45:03.554Z"
      },
      {
        "duration": 0,
        "start_time": "2023-03-14T07:45:03.555Z"
      },
      {
        "duration": 0,
        "start_time": "2023-03-14T07:45:03.556Z"
      },
      {
        "duration": 0,
        "start_time": "2023-03-14T07:45:03.557Z"
      },
      {
        "duration": 0,
        "start_time": "2023-03-14T07:45:03.557Z"
      },
      {
        "duration": 0,
        "start_time": "2023-03-14T07:45:03.558Z"
      },
      {
        "duration": 0,
        "start_time": "2023-03-14T07:45:03.559Z"
      },
      {
        "duration": 0,
        "start_time": "2023-03-14T07:45:03.560Z"
      },
      {
        "duration": 0,
        "start_time": "2023-03-14T07:45:03.561Z"
      },
      {
        "duration": 0,
        "start_time": "2023-03-14T07:45:03.562Z"
      },
      {
        "duration": 0,
        "start_time": "2023-03-14T07:45:03.563Z"
      },
      {
        "duration": 0,
        "start_time": "2023-03-14T07:45:03.564Z"
      },
      {
        "duration": 0,
        "start_time": "2023-03-14T07:45:03.565Z"
      },
      {
        "duration": 0,
        "start_time": "2023-03-14T07:45:03.566Z"
      },
      {
        "duration": 0,
        "start_time": "2023-03-14T07:45:03.566Z"
      },
      {
        "duration": 0,
        "start_time": "2023-03-14T07:45:03.567Z"
      },
      {
        "duration": 0,
        "start_time": "2023-03-14T07:45:03.568Z"
      },
      {
        "duration": 0,
        "start_time": "2023-03-14T07:45:03.569Z"
      },
      {
        "duration": 0,
        "start_time": "2023-03-14T07:45:03.570Z"
      },
      {
        "duration": 0,
        "start_time": "2023-03-14T07:45:03.570Z"
      },
      {
        "duration": 0,
        "start_time": "2023-03-14T07:45:03.571Z"
      },
      {
        "duration": 2159,
        "start_time": "2023-03-14T07:45:59.911Z"
      },
      {
        "duration": 2614,
        "start_time": "2023-03-14T07:46:02.072Z"
      },
      {
        "duration": 192,
        "start_time": "2023-03-14T07:46:04.688Z"
      },
      {
        "duration": 10,
        "start_time": "2023-03-14T07:46:04.882Z"
      },
      {
        "duration": 10,
        "start_time": "2023-03-14T07:46:04.894Z"
      },
      {
        "duration": 3,
        "start_time": "2023-03-14T07:46:04.908Z"
      },
      {
        "duration": 8,
        "start_time": "2023-03-14T07:46:04.913Z"
      },
      {
        "duration": 6,
        "start_time": "2023-03-14T07:46:04.922Z"
      },
      {
        "duration": 8,
        "start_time": "2023-03-14T07:46:04.929Z"
      },
      {
        "duration": 4,
        "start_time": "2023-03-14T07:46:04.954Z"
      },
      {
        "duration": 4,
        "start_time": "2023-03-14T07:46:04.960Z"
      },
      {
        "duration": 439,
        "start_time": "2023-03-14T07:46:04.966Z"
      },
      {
        "duration": 356,
        "start_time": "2023-03-14T07:46:05.407Z"
      },
      {
        "duration": 10,
        "start_time": "2023-03-14T07:46:05.764Z"
      },
      {
        "duration": 927,
        "start_time": "2023-03-14T07:46:05.775Z"
      },
      {
        "duration": 235,
        "start_time": "2023-03-14T07:46:06.704Z"
      },
      {
        "duration": 142,
        "start_time": "2023-03-14T07:46:06.940Z"
      },
      {
        "duration": 0,
        "start_time": "2023-03-14T07:46:07.084Z"
      },
      {
        "duration": 0,
        "start_time": "2023-03-14T07:46:07.086Z"
      },
      {
        "duration": 0,
        "start_time": "2023-03-14T07:46:07.087Z"
      },
      {
        "duration": 0,
        "start_time": "2023-03-14T07:46:07.088Z"
      },
      {
        "duration": 0,
        "start_time": "2023-03-14T07:46:07.089Z"
      },
      {
        "duration": 0,
        "start_time": "2023-03-14T07:46:07.090Z"
      },
      {
        "duration": 0,
        "start_time": "2023-03-14T07:46:07.091Z"
      },
      {
        "duration": 0,
        "start_time": "2023-03-14T07:46:07.092Z"
      },
      {
        "duration": 0,
        "start_time": "2023-03-14T07:46:07.093Z"
      },
      {
        "duration": 0,
        "start_time": "2023-03-14T07:46:07.095Z"
      },
      {
        "duration": 0,
        "start_time": "2023-03-14T07:46:07.096Z"
      },
      {
        "duration": 0,
        "start_time": "2023-03-14T07:46:07.097Z"
      },
      {
        "duration": 0,
        "start_time": "2023-03-14T07:46:07.097Z"
      },
      {
        "duration": 0,
        "start_time": "2023-03-14T07:46:07.098Z"
      },
      {
        "duration": 0,
        "start_time": "2023-03-14T07:46:07.099Z"
      },
      {
        "duration": 0,
        "start_time": "2023-03-14T07:46:07.100Z"
      },
      {
        "duration": 0,
        "start_time": "2023-03-14T07:46:07.101Z"
      },
      {
        "duration": 0,
        "start_time": "2023-03-14T07:46:07.102Z"
      },
      {
        "duration": 0,
        "start_time": "2023-03-14T07:46:07.103Z"
      },
      {
        "duration": 0,
        "start_time": "2023-03-14T07:46:07.104Z"
      },
      {
        "duration": 0,
        "start_time": "2023-03-14T07:46:07.105Z"
      },
      {
        "duration": 0,
        "start_time": "2023-03-14T07:46:07.106Z"
      },
      {
        "duration": 0,
        "start_time": "2023-03-14T07:46:07.107Z"
      },
      {
        "duration": 0,
        "start_time": "2023-03-14T07:46:07.108Z"
      },
      {
        "duration": 0,
        "start_time": "2023-03-14T07:46:07.109Z"
      },
      {
        "duration": 0,
        "start_time": "2023-03-14T07:46:07.110Z"
      },
      {
        "duration": 0,
        "start_time": "2023-03-14T07:46:07.111Z"
      },
      {
        "duration": 0,
        "start_time": "2023-03-14T07:46:07.155Z"
      },
      {
        "duration": 0,
        "start_time": "2023-03-14T07:46:07.156Z"
      },
      {
        "duration": 0,
        "start_time": "2023-03-14T07:46:07.157Z"
      },
      {
        "duration": 0,
        "start_time": "2023-03-14T07:46:07.158Z"
      },
      {
        "duration": 0,
        "start_time": "2023-03-14T07:46:07.159Z"
      },
      {
        "duration": 0,
        "start_time": "2023-03-14T07:46:07.160Z"
      },
      {
        "duration": 0,
        "start_time": "2023-03-14T07:46:07.161Z"
      },
      {
        "duration": 8,
        "start_time": "2023-03-14T07:47:18.503Z"
      },
      {
        "duration": 10,
        "start_time": "2023-03-14T07:47:47.004Z"
      },
      {
        "duration": 9,
        "start_time": "2023-03-14T07:47:47.495Z"
      },
      {
        "duration": 7,
        "start_time": "2023-03-14T07:47:48.149Z"
      },
      {
        "duration": 4,
        "start_time": "2023-03-14T07:47:48.768Z"
      },
      {
        "duration": 4,
        "start_time": "2023-03-14T07:47:49.397Z"
      },
      {
        "duration": 4,
        "start_time": "2023-03-14T07:47:50.069Z"
      },
      {
        "duration": 5,
        "start_time": "2023-03-14T07:47:50.536Z"
      },
      {
        "duration": 56,
        "start_time": "2023-03-14T07:47:51.917Z"
      },
      {
        "duration": 4,
        "start_time": "2023-03-14T07:47:57.965Z"
      },
      {
        "duration": 38,
        "start_time": "2023-03-14T07:48:12.105Z"
      },
      {
        "duration": 4,
        "start_time": "2023-03-14T07:48:15.122Z"
      },
      {
        "duration": 38,
        "start_time": "2023-03-14T07:50:18.275Z"
      },
      {
        "duration": 4,
        "start_time": "2023-03-14T07:50:24.631Z"
      },
      {
        "duration": 37927,
        "start_time": "2023-03-14T07:50:26.036Z"
      },
      {
        "duration": 92,
        "start_time": "2023-03-14T07:51:03.965Z"
      },
      {
        "duration": 4,
        "start_time": "2023-03-14T07:51:04.059Z"
      },
      {
        "duration": 1678,
        "start_time": "2023-03-14T07:51:55.113Z"
      },
      {
        "duration": 4,
        "start_time": "2023-03-14T07:51:56.793Z"
      },
      {
        "duration": 5,
        "start_time": "2023-03-14T07:51:56.798Z"
      },
      {
        "duration": 5,
        "start_time": "2023-03-14T07:52:14.798Z"
      },
      {
        "duration": 3,
        "start_time": "2023-03-14T07:52:16.908Z"
      },
      {
        "duration": 4,
        "start_time": "2023-03-14T07:52:17.173Z"
      },
      {
        "duration": 234069,
        "start_time": "2023-03-14T07:52:33.109Z"
      },
      {
        "duration": 3,
        "start_time": "2023-03-14T07:56:27.180Z"
      },
      {
        "duration": 5,
        "start_time": "2023-03-14T07:56:27.184Z"
      },
      {
        "duration": 4,
        "start_time": "2023-03-14T07:59:43.733Z"
      },
      {
        "duration": 4,
        "start_time": "2023-03-14T07:59:44.626Z"
      },
      {
        "duration": 16526,
        "start_time": "2023-03-14T08:16:25.518Z"
      },
      {
        "duration": 14,
        "start_time": "2023-03-14T08:16:42.046Z"
      },
      {
        "duration": 4,
        "start_time": "2023-03-14T08:16:42.694Z"
      },
      {
        "duration": 10,
        "start_time": "2023-03-14T08:20:38.143Z"
      },
      {
        "duration": 18792,
        "start_time": "2023-03-14T08:20:52.722Z"
      },
      {
        "duration": 4,
        "start_time": "2023-03-14T08:21:11.516Z"
      },
      {
        "duration": 4,
        "start_time": "2023-03-14T08:21:11.521Z"
      },
      {
        "duration": 10114,
        "start_time": "2023-03-14T08:24:57.343Z"
      },
      {
        "duration": 4,
        "start_time": "2023-03-14T08:25:07.459Z"
      },
      {
        "duration": 5,
        "start_time": "2023-03-14T08:25:07.465Z"
      },
      {
        "duration": 7646,
        "start_time": "2023-03-14T08:25:30.020Z"
      },
      {
        "duration": 89,
        "start_time": "2023-03-14T08:25:37.667Z"
      },
      {
        "duration": 4,
        "start_time": "2023-03-14T08:25:37.758Z"
      },
      {
        "duration": 6,
        "start_time": "2023-03-14T08:25:37.763Z"
      },
      {
        "duration": 4,
        "start_time": "2023-03-14T08:27:08.240Z"
      },
      {
        "duration": 7,
        "start_time": "2023-03-14T08:27:09.395Z"
      },
      {
        "duration": 122,
        "start_time": "2023-03-14T08:27:10.103Z"
      },
      {
        "duration": 9,
        "start_time": "2023-03-14T08:27:54.725Z"
      },
      {
        "duration": 10,
        "start_time": "2023-03-14T08:28:03.610Z"
      },
      {
        "duration": 133,
        "start_time": "2023-03-14T08:28:36.902Z"
      },
      {
        "duration": 13,
        "start_time": "2023-03-14T08:28:45.064Z"
      },
      {
        "duration": 39,
        "start_time": "2023-03-14T08:29:43.262Z"
      },
      {
        "duration": 3,
        "start_time": "2023-03-14T08:29:48.392Z"
      },
      {
        "duration": 45,
        "start_time": "2023-03-14T08:29:59.223Z"
      },
      {
        "duration": 1363,
        "start_time": "2023-03-14T08:31:12.793Z"
      },
      {
        "duration": 286,
        "start_time": "2023-03-14T08:31:25.296Z"
      },
      {
        "duration": 82,
        "start_time": "2023-03-14T08:32:07.072Z"
      },
      {
        "duration": 313,
        "start_time": "2023-03-14T08:32:24.749Z"
      },
      {
        "duration": 16,
        "start_time": "2023-03-14T08:35:36.144Z"
      },
      {
        "duration": 331,
        "start_time": "2023-03-14T08:36:04.536Z"
      },
      {
        "duration": 349,
        "start_time": "2023-03-14T08:36:41.131Z"
      },
      {
        "duration": 3,
        "start_time": "2023-03-14T08:37:50.482Z"
      },
      {
        "duration": 555,
        "start_time": "2023-03-14T08:40:07.712Z"
      },
      {
        "duration": 11,
        "start_time": "2023-03-14T08:40:27.123Z"
      },
      {
        "duration": 27,
        "start_time": "2023-03-14T08:41:54.451Z"
      },
      {
        "duration": 22,
        "start_time": "2023-03-14T08:42:09.627Z"
      },
      {
        "duration": 9,
        "start_time": "2023-03-14T08:42:10.499Z"
      },
      {
        "duration": 265,
        "start_time": "2023-03-14T08:42:39.407Z"
      },
      {
        "duration": 451,
        "start_time": "2023-03-14T08:45:07.507Z"
      },
      {
        "duration": 8,
        "start_time": "2023-03-14T08:45:08.528Z"
      },
      {
        "duration": 394,
        "start_time": "2023-03-14T08:47:47.343Z"
      },
      {
        "duration": 14,
        "start_time": "2023-03-14T08:50:13.214Z"
      },
      {
        "duration": 6,
        "start_time": "2023-03-14T08:50:34.058Z"
      },
      {
        "duration": 356,
        "start_time": "2023-03-14T08:51:59.204Z"
      },
      {
        "duration": 318,
        "start_time": "2023-03-14T08:52:13.268Z"
      },
      {
        "duration": 13,
        "start_time": "2023-03-14T08:53:22.915Z"
      },
      {
        "duration": 365,
        "start_time": "2023-03-14T08:54:22.903Z"
      },
      {
        "duration": 13,
        "start_time": "2023-03-14T08:54:29.482Z"
      },
      {
        "duration": 13,
        "start_time": "2023-03-14T08:55:00.133Z"
      },
      {
        "duration": 12,
        "start_time": "2023-03-14T08:55:25.921Z"
      },
      {
        "duration": 175,
        "start_time": "2023-03-14T08:55:34.126Z"
      },
      {
        "duration": 13,
        "start_time": "2023-03-14T08:56:29.601Z"
      },
      {
        "duration": 15,
        "start_time": "2023-03-14T08:56:44.628Z"
      },
      {
        "duration": 15,
        "start_time": "2023-03-14T08:58:01.751Z"
      },
      {
        "duration": 22,
        "start_time": "2023-03-14T08:59:25.495Z"
      },
      {
        "duration": 226,
        "start_time": "2023-03-14T08:59:58.971Z"
      },
      {
        "duration": 195,
        "start_time": "2023-03-14T09:01:51.210Z"
      },
      {
        "duration": 213,
        "start_time": "2023-03-14T09:02:23.272Z"
      },
      {
        "duration": 330,
        "start_time": "2023-03-14T09:02:40.637Z"
      },
      {
        "duration": 196,
        "start_time": "2023-03-14T09:03:22.733Z"
      },
      {
        "duration": 176,
        "start_time": "2023-03-14T09:04:35.639Z"
      },
      {
        "duration": 11,
        "start_time": "2023-03-14T09:04:48.080Z"
      },
      {
        "duration": 13,
        "start_time": "2023-03-14T09:05:08.792Z"
      },
      {
        "duration": 13,
        "start_time": "2023-03-14T09:05:28.472Z"
      },
      {
        "duration": 15,
        "start_time": "2023-03-14T09:05:39.775Z"
      },
      {
        "duration": 12,
        "start_time": "2023-03-14T09:05:57.501Z"
      },
      {
        "duration": 23,
        "start_time": "2023-03-14T09:06:03.759Z"
      },
      {
        "duration": 14,
        "start_time": "2023-03-14T09:06:34.215Z"
      },
      {
        "duration": 1699,
        "start_time": "2023-03-14T09:06:55.174Z"
      },
      {
        "duration": 13,
        "start_time": "2023-03-14T09:07:29.842Z"
      },
      {
        "duration": 6,
        "start_time": "2023-03-14T09:07:40.236Z"
      },
      {
        "duration": 261,
        "start_time": "2023-03-14T09:08:56.319Z"
      },
      {
        "duration": 333,
        "start_time": "2023-03-14T09:09:06.523Z"
      },
      {
        "duration": 412,
        "start_time": "2023-03-14T09:09:16.083Z"
      },
      {
        "duration": 1341,
        "start_time": "2023-03-14T09:09:28.984Z"
      },
      {
        "duration": 1377,
        "start_time": "2023-03-14T09:09:47.168Z"
      },
      {
        "duration": 288,
        "start_time": "2023-03-14T09:10:15.773Z"
      },
      {
        "duration": 1891,
        "start_time": "2023-03-14T09:10:19.219Z"
      },
      {
        "duration": 13,
        "start_time": "2023-03-14T09:10:39.919Z"
      },
      {
        "duration": 11,
        "start_time": "2023-03-14T09:11:12.304Z"
      },
      {
        "duration": 16,
        "start_time": "2023-03-14T09:11:49.377Z"
      },
      {
        "duration": 274,
        "start_time": "2023-03-14T09:12:30.667Z"
      },
      {
        "duration": 266,
        "start_time": "2023-03-14T09:13:09.186Z"
      },
      {
        "duration": 264,
        "start_time": "2023-03-14T09:13:33.802Z"
      },
      {
        "duration": 308,
        "start_time": "2023-03-14T09:13:51.111Z"
      },
      {
        "duration": 299,
        "start_time": "2023-03-14T09:16:07.250Z"
      },
      {
        "duration": 287,
        "start_time": "2023-03-14T09:17:55.801Z"
      },
      {
        "duration": 302,
        "start_time": "2023-03-14T09:18:39.453Z"
      },
      {
        "duration": 98,
        "start_time": "2023-03-14T09:32:33.021Z"
      },
      {
        "duration": 276,
        "start_time": "2023-03-14T09:35:23.992Z"
      },
      {
        "duration": 285,
        "start_time": "2023-03-14T09:35:29.397Z"
      },
      {
        "duration": 310,
        "start_time": "2023-03-14T09:36:06.910Z"
      },
      {
        "duration": 465,
        "start_time": "2023-03-14T09:36:29.846Z"
      },
      {
        "duration": 81,
        "start_time": "2023-03-14T09:37:00.091Z"
      },
      {
        "duration": 435,
        "start_time": "2023-03-14T09:37:05.344Z"
      },
      {
        "duration": 307,
        "start_time": "2023-03-14T09:37:33.607Z"
      },
      {
        "duration": 279,
        "start_time": "2023-03-14T09:37:39.128Z"
      },
      {
        "duration": 279,
        "start_time": "2023-03-14T09:38:27.810Z"
      },
      {
        "duration": 4,
        "start_time": "2023-03-14T09:39:53.186Z"
      },
      {
        "duration": 4,
        "start_time": "2023-03-14T09:39:53.874Z"
      },
      {
        "duration": 4,
        "start_time": "2023-03-14T09:39:56.469Z"
      },
      {
        "duration": 3,
        "start_time": "2023-03-14T09:39:57.176Z"
      },
      {
        "duration": 4,
        "start_time": "2023-03-14T09:39:57.936Z"
      },
      {
        "duration": 3,
        "start_time": "2023-03-14T09:39:59.232Z"
      },
      {
        "duration": 283,
        "start_time": "2023-03-14T09:44:45.558Z"
      }
    ],
    "colab": {
      "provenance": []
    },
    "kernelspec": {
      "display_name": "Python 3 (ipykernel)",
      "language": "python",
      "name": "python3"
    },
    "language_info": {
      "codemirror_mode": {
        "name": "ipython",
        "version": 3
      },
      "file_extension": ".py",
      "mimetype": "text/x-python",
      "name": "python",
      "nbconvert_exporter": "python",
      "pygments_lexer": "ipython3",
      "version": "3.9.5"
    },
    "toc": {
      "base_numbering": 1,
      "nav_menu": {},
      "number_sections": true,
      "sideBar": true,
      "skip_h1_title": true,
      "title_cell": "Содержание",
      "title_sidebar": "Contents",
      "toc_cell": true,
      "toc_position": {
        "height": "423px",
        "left": "104px",
        "top": "111.125px",
        "width": "165px"
      },
      "toc_section_display": true,
      "toc_window_display": true
    },
    "widgets": {
      "application/vnd.jupyter.widget-state+json": {
        "11a4ab4dcce947ea9a8e098d69e13a14": {
          "model_module": "catboost-widget",
          "model_name": "CatboostWidgetModel",
          "model_module_version": "^1.0.0",
          "state": {
            "_dom_classes": [],
            "_model_module": "catboost-widget",
            "_model_module_version": "^1.0.0",
            "_model_name": "CatboostWidgetModel",
            "_view_count": null,
            "_view_module": "catboost-widget",
            "_view_module_version": "^1.0.0",
            "_view_name": "CatboostWidgetView",
            "data": {
              "catboost_info": {
                "path": "catboost_info",
                "name": "catboost_info",
                "content": {
                  "passed_iterations": 74,
                  "total_iterations": 75,
                  "data": {
                    "iterations": [
                      {
                        "parameters": [
                          {
                            "depth": 2,
                            "learning_rate": 0.01,
                            "iterations": 1000
                          }
                        ],
                        "learn": [
                          211.1026572,
                          277.1930522
                        ],
                        "iteration": 0,
                        "passed_time": 0.4939461422,
                        "remaining_time": 36.55201453,
                        "test": [
                          218.7362109,
                          276.0791938
                        ]
                      },
                      {
                        "parameters": [
                          {
                            "depth": 2,
                            "learning_rate": 0.03,
                            "iterations": 1000
                          }
                        ],
                        "learn": [
                          160.9312185,
                          212.3273749
                        ],
                        "iteration": 1,
                        "passed_time": 1.119264464,
                        "remaining_time": 40.85315294,
                        "test": [
                          172.5337764,
                          221.4934895
                        ]
                      },
                      {
                        "parameters": [
                          {
                            "depth": 2,
                            "learning_rate": 0.05,
                            "iterations": 1000
                          }
                        ],
                        "learn": [
                          143.2396476,
                          189.4887163
                        ],
                        "iteration": 2,
                        "passed_time": 1.888688116,
                        "remaining_time": 45.32851478,
                        "test": [
                          161.0694848,
                          210.1824607
                        ]
                      },
                      {
                        "parameters": [
                          {
                            "depth": 2,
                            "learning_rate": 0.07,
                            "iterations": 1000
                          }
                        ],
                        "learn": [
                          133.2819931,
                          176.1508441
                        ],
                        "iteration": 3,
                        "passed_time": 2.677602059,
                        "remaining_time": 47.52743655,
                        "test": [
                          156.9710964,
                          203.0869305
                        ]
                      },
                      {
                        "parameters": [
                          {
                            "depth": 2,
                            "learning_rate": 0.1,
                            "iterations": 1000
                          }
                        ],
                        "learn": [
                          120.3208597,
                          161.3474639
                        ],
                        "iteration": 4,
                        "passed_time": 3.568057864,
                        "remaining_time": 49.9528101,
                        "test": [
                          158.5040398,
                          206.810894
                        ]
                      },
                      {
                        "parameters": [
                          {
                            "depth": 2,
                            "learning_rate": 0.01,
                            "iterations": 1500
                          }
                        ],
                        "learn": [
                          188.3050429,
                          247.4854182
                        ],
                        "iteration": 5,
                        "passed_time": 4.748422939,
                        "remaining_time": 54.6068638,
                        "test": [
                          200.8968852,
                          252.293739
                        ]
                      },
                      {
                        "parameters": [
                          {
                            "depth": 2,
                            "learning_rate": 0.03,
                            "iterations": 1500
                          }
                        ],
                        "learn": [
                          144.0671883,
                          191.53059
                        ],
                        "iteration": 6,
                        "passed_time": 5.882642538,
                        "remaining_time": 57.14567037,
                        "test": [
                          159.6391873,
                          209.0496942
                        ]
                      },
                      {
                        "parameters": [
                          {
                            "depth": 2,
                            "learning_rate": 0.05,
                            "iterations": 1500
                          }
                        ],
                        "learn": [
                          128.7142819,
                          170.9995574
                        ],
                        "iteration": 7,
                        "passed_time": 6.659854388,
                        "remaining_time": 55.7762805,
                        "test": [
                          154.7797865,
                          203.8140376
                        ]
                      },
                      {
                        "parameters": [
                          {
                            "depth": 2,
                            "learning_rate": 0.07,
                            "iterations": 1500
                          }
                        ],
                        "learn": [
                          120.1917287,
                          159.6346168
                        ],
                        "iteration": 8,
                        "passed_time": 7.434333741,
                        "remaining_time": 54.51844743,
                        "test": [
                          154.2719248,
                          201.3934854
                        ]
                      },
                      {
                        "parameters": [
                          {
                            "depth": 2,
                            "learning_rate": 0.1,
                            "iterations": 1500
                          }
                        ],
                        "learn": [
                          108.2500768,
                          145.3247449
                        ],
                        "iteration": 9,
                        "passed_time": 8.206653618,
                        "remaining_time": 53.34324852,
                        "test": [
                          157.8764588,
                          206.810894
                        ]
                      },
                      {
                        "parameters": [
                          {
                            "depth": 2,
                            "learning_rate": 0.01,
                            "iterations": 2000
                          }
                        ],
                        "learn": [
                          173.8608992,
                          229.9595284
                        ],
                        "iteration": 10,
                        "passed_time": 9.215531284,
                        "remaining_time": 53.61763656,
                        "test": [
                          187.5856983,
                          237.0542845
                        ]
                      },
                      {
                        "parameters": [
                          {
                            "depth": 2,
                            "learning_rate": 0.03,
                            "iterations": 2000
                          }
                        ],
                        "learn": [
                          133.6915025,
                          178.3655614
                        ],
                        "iteration": 11,
                        "passed_time": 10.26968777,
                        "remaining_time": 53.9158608,
                        "test": [
                          155.3362942,
                          204.8016192
                        ]
                      },
                      {
                        "parameters": [
                          {
                            "depth": 2,
                            "learning_rate": 0.05,
                            "iterations": 2000
                          }
                        ],
                        "learn": [
                          119.6153339,
                          159.2867178
                        ],
                        "iteration": 12,
                        "passed_time": 11.29764293,
                        "remaining_time": 53.88106629,
                        "test": [
                          152.7231314,
                          201.4646008
                        ]
                      },
                      {
                        "parameters": [
                          {
                            "depth": 2,
                            "learning_rate": 0.07,
                            "iterations": 2000
                          }
                        ],
                        "learn": [
                          111.4581971,
                          148.4087113
                        ],
                        "iteration": 13,
                        "passed_time": 12.29633889,
                        "remaining_time": 53.57690517,
                        "test": [
                          153.8473259,
                          201.1962853
                        ]
                      },
                      {
                        "parameters": [
                          {
                            "depth": 2,
                            "learning_rate": 0.1,
                            "iterations": 2000
                          }
                        ],
                        "learn": [
                          99.81361024,
                          133.7136104
                        ],
                        "iteration": 14,
                        "passed_time": 13.32281862,
                        "remaining_time": 53.29127447,
                        "test": [
                          157.8764588,
                          206.810894
                        ]
                      },
                      {
                        "parameters": [
                          {
                            "depth": 4,
                            "learning_rate": 0.01,
                            "iterations": 1000
                          }
                        ],
                        "learn": [
                          190.2384158,
                          249.1977229
                        ],
                        "iteration": 15,
                        "passed_time": 14.22810444,
                        "remaining_time": 52.46613511,
                        "test": [
                          203.091166,
                          263.4333687
                        ]
                      },
                      {
                        "parameters": [
                          {
                            "depth": 4,
                            "learning_rate": 0.03,
                            "iterations": 1000
                          }
                        ],
                        "learn": [
                          124.9300066,
                          164.4957657
                        ],
                        "iteration": 16,
                        "passed_time": 15.12856649,
                        "remaining_time": 51.6151092,
                        "test": [
                          170.0860599,
                          221.3740702
                        ]
                      },
                      {
                        "parameters": [
                          {
                            "depth": 4,
                            "learning_rate": 0.05,
                            "iterations": 1000
                          }
                        ],
                        "learn": [
                          104.1282502,
                          136.1585931
                        ],
                        "iteration": 17,
                        "passed_time": 16.25359429,
                        "remaining_time": 51.46971526,
                        "test": [
                          162.5312423,
                          214.4360239
                        ]
                      },
                      {
                        "parameters": [
                          {
                            "depth": 4,
                            "learning_rate": 0.07,
                            "iterations": 1000
                          }
                        ],
                        "learn": [
                          91.15410393,
                          118.351792
                        ],
                        "iteration": 18,
                        "passed_time": 17.73703103,
                        "remaining_time": 52.27756516,
                        "test": [
                          161.1436596,
                          213.675906
                        ]
                      },
                      {
                        "parameters": [
                          {
                            "depth": 4,
                            "learning_rate": 0.1,
                            "iterations": 1000
                          }
                        ],
                        "learn": [
                          74.73840961,
                          97.72372604
                        ],
                        "iteration": 19,
                        "passed_time": 19.24754477,
                        "remaining_time": 52.93074811,
                        "test": [
                          161.941566,
                          221.4243692
                        ]
                      },
                      {
                        "parameters": [
                          {
                            "depth": 4,
                            "learning_rate": 0.01,
                            "iterations": 1500
                          }
                        ],
                        "learn": [
                          159.6248213,
                          210.1665195
                        ],
                        "iteration": 20,
                        "passed_time": 21.1842675,
                        "remaining_time": 54.47383071,
                        "test": [
                          182.2487979,
                          239.0086751
                        ]
                      },
                      {
                        "parameters": [
                          {
                            "depth": 4,
                            "learning_rate": 0.03,
                            "iterations": 1500
                          }
                        ],
                        "learn": [
                          105.7164202,
                          138.8203377
                        ],
                        "iteration": 21,
                        "passed_time": 22.57799314,
                        "remaining_time": 54.39243802,
                        "test": [
                          162.3549297,
                          212.064158
                        ]
                      },
                      {
                        "parameters": [
                          {
                            "depth": 4,
                            "learning_rate": 0.05,
                            "iterations": 1500
                          }
                        ],
                        "learn": [
                          85.81567037,
                          112.0031567
                        ],
                        "iteration": 22,
                        "passed_time": 23.93769789,
                        "remaining_time": 54.12001262,
                        "test": [
                          159.7481719,
                          211.7676825
                        ]
                      },
                      {
                        "parameters": [
                          {
                            "depth": 4,
                            "learning_rate": 0.07,
                            "iterations": 1500
                          }
                        ],
                        "learn": [
                          72.18352267,
                          93.7511504
                        ],
                        "iteration": 23,
                        "passed_time": 25.28640485,
                        "remaining_time": 53.73361031,
                        "test": [
                          160.3597707,
                          213.2809011
                        ]
                      },
                      {
                        "parameters": [
                          {
                            "depth": 4,
                            "learning_rate": 0.1,
                            "iterations": 1500
                          }
                        ],
                        "learn": [
                          56.1015802,
                          73.60496888
                        ],
                        "iteration": 24,
                        "passed_time": 26.6744979,
                        "remaining_time": 53.34899581,
                        "test": [
                          161.6276639,
                          220.8492852
                        ]
                      },
                      {
                        "parameters": [
                          {
                            "depth": 4,
                            "learning_rate": 0.01,
                            "iterations": 2000
                          }
                        ],
                        "learn": [
                          142.0205439,
                          187.5924302
                        ],
                        "iteration": 25,
                        "passed_time": 28.47622599,
                        "remaining_time": 53.6667336,
                        "test": [
                          170.5718474,
                          223.8418592
                        ]
                      },
                      {
                        "parameters": [
                          {
                            "depth": 4,
                            "learning_rate": 0.03,
                            "iterations": 2000
                          }
                        ],
                        "learn": [
                          93.36433149,
                          122.0654878
                        ],
                        "iteration": 26,
                        "passed_time": 30.33615414,
                        "remaining_time": 53.9309407,
                        "test": [
                          159.2162784,
                          208.1491248
                        ]
                      },
                      {
                        "parameters": [
                          {
                            "depth": 4,
                            "learning_rate": 0.05,
                            "iterations": 2000
                          }
                        ],
                        "learn": [
                          73.30381737,
                          95.20236461
                        ],
                        "iteration": 27,
                        "passed_time": 33.19286579,
                        "remaining_time": 55.71659615,
                        "test": [
                          159.6526608,
                          211.7159189
                        ]
                      },
                      {
                        "parameters": [
                          {
                            "depth": 4,
                            "learning_rate": 0.07,
                            "iterations": 2000
                          }
                        ],
                        "learn": [
                          59.43841163,
                          77.21042621
                        ],
                        "iteration": 28,
                        "passed_time": 36.07695239,
                        "remaining_time": 57.22551069,
                        "test": [
                          160.2765156,
                          213.2809011
                        ]
                      },
                      {
                        "parameters": [
                          {
                            "depth": 4,
                            "learning_rate": 0.1,
                            "iterations": 2000
                          }
                        ],
                        "learn": [
                          44.27149419,
                          58.25854933
                        ],
                        "iteration": 29,
                        "passed_time": 37.88183407,
                        "remaining_time": 56.8227511,
                        "test": [
                          161.6276639,
                          220.8492852
                        ]
                      },
                      {
                        "parameters": [
                          {
                            "depth": 6,
                            "learning_rate": 0.01,
                            "iterations": 1000
                          }
                        ],
                        "learn": [
                          173.660327,
                          227.3927243
                        ],
                        "iteration": 30,
                        "passed_time": 39.69247038,
                        "remaining_time": 56.33769989,
                        "test": [
                          220.9358659,
                          309.9990189
                        ]
                      },
                      {
                        "parameters": [
                          {
                            "depth": 6,
                            "learning_rate": 0.03,
                            "iterations": 1000
                          }
                        ],
                        "learn": [
                          100.2949909,
                          131.2169701
                        ],
                        "iteration": 31,
                        "passed_time": 41.52733797,
                        "remaining_time": 55.8023604,
                        "test": [
                          185.5232982,
                          262.3799628
                        ]
                      },
                      {
                        "parameters": [
                          {
                            "depth": 6,
                            "learning_rate": 0.05,
                            "iterations": 1000
                          }
                        ],
                        "learn": [
                          73.38504116,
                          96.21911414
                        ],
                        "iteration": 32,
                        "passed_time": 43.36359616,
                        "remaining_time": 55.19003147,
                        "test": [
                          170.1523246,
                          234.7903612
                        ]
                      },
                      {
                        "parameters": [
                          {
                            "depth": 6,
                            "learning_rate": 0.07,
                            "iterations": 1000
                          }
                        ],
                        "learn": [
                          57.84548429,
                          75.99726288
                        ],
                        "iteration": 33,
                        "passed_time": 45.22592943,
                        "remaining_time": 54.5371502,
                        "test": [
                          176.9616533,
                          247.5406334
                        ]
                      },
                      {
                        "parameters": [
                          {
                            "depth": 6,
                            "learning_rate": 0.1,
                            "iterations": 1000
                          }
                        ],
                        "learn": [
                          42.80771929,
                          56.11329125
                        ],
                        "iteration": 34,
                        "passed_time": 47.86977889,
                        "remaining_time": 54.70831873,
                        "test": [
                          175.3942977,
                          252.0009054
                        ]
                      },
                      {
                        "parameters": [
                          {
                            "depth": 6,
                            "learning_rate": 0.01,
                            "iterations": 1500
                          }
                        ],
                        "learn": [
                          141.3956448,
                          186.3344565
                        ],
                        "iteration": 35,
                        "passed_time": 52.49716725,
                        "remaining_time": 56.87193119,
                        "test": [
                          201.1046077,
                          285.4573726
                        ]
                      },
                      {
                        "parameters": [
                          {
                            "depth": 6,
                            "learning_rate": 0.03,
                            "iterations": 1500
                          }
                        ],
                        "learn": [
                          77.83001779,
                          101.3874852
                        ],
                        "iteration": 36,
                        "passed_time": 55.25180089,
                        "remaining_time": 56.74509281,
                        "test": [
                          179.0385391,
                          253.5790673
                        ]
                      },
                      {
                        "parameters": [
                          {
                            "depth": 6,
                            "learning_rate": 0.05,
                            "iterations": 1500
                          }
                        ],
                        "learn": [
                          53.76535024,
                          70.14079455
                        ],
                        "iteration": 37,
                        "passed_time": 58.00764072,
                        "remaining_time": 56.48112386,
                        "test": [
                          169.4442487,
                          233.7959969
                        ]
                      },
                      {
                        "parameters": [
                          {
                            "depth": 6,
                            "learning_rate": 0.07,
                            "iterations": 1500
                          }
                        ],
                        "learn": [
                          39.48377921,
                          51.54204044
                        ],
                        "iteration": 38,
                        "passed_time": 62.42081371,
                        "remaining_time": 57.61921265,
                        "test": [
                          176.1344176,
                          247.0614053
                        ]
                      },
                      {
                        "parameters": [
                          {
                            "depth": 6,
                            "learning_rate": 0.1,
                            "iterations": 1500
                          }
                        ],
                        "learn": [
                          26.09970391,
                          34.35913518
                        ],
                        "iteration": 39,
                        "passed_time": 66.42547017,
                        "remaining_time": 58.1222864,
                        "test": [
                          175.3942977,
                          252.0009054
                        ]
                      },
                      {
                        "parameters": [
                          {
                            "depth": 6,
                            "learning_rate": 0.01,
                            "iterations": 2000
                          }
                        ],
                        "learn": [
                          121.8796929,
                          160.2636065
                        ],
                        "iteration": 40,
                        "passed_time": 70.06626546,
                        "remaining_time": 58.10373233,
                        "test": [
                          191.5255479,
                          272.9956905
                        ]
                      },
                      {
                        "parameters": [
                          {
                            "depth": 6,
                            "learning_rate": 0.03,
                            "iterations": 2000
                          }
                        ],
                        "learn": [
                          63.47287504,
                          82.13529666
                        ],
                        "iteration": 41,
                        "passed_time": 73.72213363,
                        "remaining_time": 57.92453357,
                        "test": [
                          177.7081168,
                          251.3157636
                        ]
                      },
                      {
                        "parameters": [
                          {
                            "depth": 6,
                            "learning_rate": 0.05,
                            "iterations": 2000
                          }
                        ],
                        "learn": [
                          40.93519427,
                          53.40273682
                        ],
                        "iteration": 42,
                        "passed_time": 78.52976197,
                        "remaining_time": 58.44075309,
                        "test": [
                          169.4307033,
                          233.1139226
                        ]
                      },
                      {
                        "parameters": [
                          {
                            "depth": 6,
                            "learning_rate": 0.07,
                            "iterations": 2000
                          }
                        ],
                        "learn": [
                          28.07170451,
                          36.71433185
                        ],
                        "iteration": 43,
                        "passed_time": 83.09169417,
                        "remaining_time": 58.54187544,
                        "test": [
                          176.0725249,
                          247.0614053
                        ]
                      },
                      {
                        "parameters": [
                          {
                            "depth": 6,
                            "learning_rate": 0.1,
                            "iterations": 2000
                          }
                        ],
                        "learn": [
                          16.81682346,
                          22.13252576
                        ],
                        "iteration": 44,
                        "passed_time": 86.79278376,
                        "remaining_time": 57.86185584,
                        "test": [
                          175.3942977,
                          252.0009054
                        ]
                      },
                      {
                        "parameters": [
                          {
                            "depth": 8,
                            "learning_rate": 0.01,
                            "iterations": 1000
                          }
                        ],
                        "learn": [
                          168.9324355,
                          220.8320952
                        ],
                        "iteration": 45,
                        "passed_time": 93.16890385,
                        "remaining_time": 58.73691764,
                        "test": [
                          258.6385976,
                          393.0525618
                        ]
                      },
                      {
                        "parameters": [
                          {
                            "depth": 8,
                            "learning_rate": 0.03,
                            "iterations": 1000
                          }
                        ],
                        "learn": [
                          80.22719432,
                          105.490343
                        ],
                        "iteration": 46,
                        "passed_time": 100.3859913,
                        "remaining_time": 59.80442035,
                        "test": [
                          226.3146488,
                          342.1771755
                        ]
                      },
                      {
                        "parameters": [
                          {
                            "depth": 8,
                            "learning_rate": 0.05,
                            "iterations": 1000
                          }
                        ],
                        "learn": [
                          53.84447138,
                          70.23314079
                        ],
                        "iteration": 47,
                        "passed_time": 105.2858638,
                        "remaining_time": 59.22329838,
                        "test": [
                          219.5239281,
                          335.6245653
                        ]
                      },
                      {
                        "parameters": [
                          {
                            "depth": 8,
                            "learning_rate": 0.07,
                            "iterations": 1000
                          }
                        ],
                        "learn": [
                          38.59422288,
                          49.86910143
                        ],
                        "iteration": 48,
                        "passed_time": 111.1603227,
                        "remaining_time": 58.98302835,
                        "test": [
                          229.6082464,
                          355.0182993
                        ]
                      },
                      {
                        "parameters": [
                          {
                            "depth": 8,
                            "learning_rate": 0.1,
                            "iterations": 1000
                          }
                        ],
                        "learn": [
                          23.15287791,
                          30.12889049
                        ],
                        "iteration": 49,
                        "passed_time": 117.2505943,
                        "remaining_time": 58.62529714,
                        "test": [
                          247.5618518,
                          405.2087849
                        ]
                      },
                      {
                        "parameters": [
                          {
                            "depth": 8,
                            "learning_rate": 0.01,
                            "iterations": 1500
                          }
                        ],
                        "learn": [
                          131.889751,
                          172.8238876
                        ],
                        "iteration": 50,
                        "passed_time": 126.8945003,
                        "remaining_time": 59.71505895,
                        "test": [
                          239.6067807,
                          365.958938
                        ]
                      },
                      {
                        "parameters": [
                          {
                            "depth": 8,
                            "learning_rate": 0.03,
                            "iterations": 1500
                          }
                        ],
                        "learn": [
                          57.01052276,
                          74.83775936
                        ],
                        "iteration": 51,
                        "passed_time": 134.7907944,
                        "remaining_time": 59.61900522,
                        "test": [
                          223.0029712,
                          334.9975352
                        ]
                      },
                      {
                        "parameters": [
                          {
                            "depth": 8,
                            "learning_rate": 0.05,
                            "iterations": 1500
                          }
                        ],
                        "learn": [
                          33.34457871,
                          43.29626987
                        ],
                        "iteration": 52,
                        "passed_time": 143.8226954,
                        "remaining_time": 59.69998678,
                        "test": [
                          218.6591461,
                          333.195195
                        ]
                      },
                      {
                        "parameters": [
                          {
                            "depth": 8,
                            "learning_rate": 0.07,
                            "iterations": 1500
                          }
                        ],
                        "learn": [
                          20.89863552,
                          26.89752695
                        ],
                        "iteration": 53,
                        "passed_time": 150.9595808,
                        "remaining_time": 58.70650363,
                        "test": [
                          229.3867654,
                          354.0667672
                        ]
                      },
                      {
                        "parameters": [
                          {
                            "depth": 8,
                            "learning_rate": 0.1,
                            "iterations": 1500
                          }
                        ],
                        "learn": [
                          11.13558819,
                          14.59140868
                        ],
                        "iteration": 54,
                        "passed_time": 160.0569144,
                        "remaining_time": 58.20251433,
                        "test": [
                          247.5618518,
                          405.2012089
                        ]
                      },
                      {
                        "parameters": [
                          {
                            "depth": 8,
                            "learning_rate": 0.01,
                            "iterations": 2000
                          }
                        ],
                        "learn": [
                          108.2257434,
                          141.2753733
                        ],
                        "iteration": 55,
                        "passed_time": 170.5917208,
                        "remaining_time": 57.87933384,
                        "test": [
                          230.8568824,
                          351.8037974
                        ]
                      },
                      {
                        "parameters": [
                          {
                            "depth": 8,
                            "learning_rate": 0.03,
                            "iterations": 2000
                          }
                        ],
                        "learn": [
                          42.82508706,
                          56.22201975
                        ],
                        "iteration": 56,
                        "passed_time": 180.7949354,
                        "remaining_time": 57.0931375,
                        "test": [
                          221.8486866,
                          332.6140116
                        ]
                      },
                      {
                        "parameters": [
                          {
                            "depth": 8,
                            "learning_rate": 0.05,
                            "iterations": 2000
                          }
                        ],
                        "learn": [
                          21.66025681,
                          28.40612844
                        ],
                        "iteration": 57,
                        "passed_time": 192.2728304,
                        "remaining_time": 56.3558296,
                        "test": [
                          218.4199605,
                          332.4527492
                        ]
                      },
                      {
                        "parameters": [
                          {
                            "depth": 8,
                            "learning_rate": 0.07,
                            "iterations": 2000
                          }
                        ],
                        "learn": [
                          12.10873397,
                          15.6442438
                        ],
                        "iteration": 58,
                        "passed_time": 203.7329237,
                        "remaining_time": 55.24960642,
                        "test": [
                          229.3867654,
                          354.0667672
                        ]
                      },
                      {
                        "parameters": [
                          {
                            "depth": 8,
                            "learning_rate": 0.1,
                            "iterations": 2000
                          }
                        ],
                        "learn": [
                          5.518505029,
                          7.301166215
                        ],
                        "iteration": 59,
                        "passed_time": 214.3631973,
                        "remaining_time": 53.59079933,
                        "test": [
                          247.5618518,
                          405.2012089
                        ]
                      },
                      {
                        "parameters": [
                          {
                            "depth": 10,
                            "learning_rate": 0.01,
                            "iterations": 1000
                          }
                        ],
                        "learn": [
                          162.2714798,
                          212.4609689
                        ],
                        "iteration": 60,
                        "passed_time": 230.9907745,
                        "remaining_time": 53.01427612,
                        "test": [
                          318.6107141,
                          528.9301838
                        ]
                      },
                      {
                        "parameters": [
                          {
                            "depth": 10,
                            "learning_rate": 0.03,
                            "iterations": 1000
                          }
                        ],
                        "learn": [
                          67.13856201,
                          87.6546824
                        ],
                        "iteration": 61,
                        "passed_time": 248.1171476,
                        "remaining_time": 52.02456321,
                        "test": [
                          277.1734221,
                          461.7119129
                        ]
                      },
                      {
                        "parameters": [
                          {
                            "depth": 10,
                            "learning_rate": 0.05,
                            "iterations": 1000
                          }
                        ],
                        "learn": [
                          37.79448858,
                          49.74570972
                        ],
                        "iteration": 62,
                        "passed_time": 265.1893495,
                        "remaining_time": 50.51225704,
                        "test": [
                          264.5861346,
                          442.7123126
                        ]
                      },
                      {
                        "parameters": [
                          {
                            "depth": 10,
                            "learning_rate": 0.07,
                            "iterations": 1000
                          }
                        ],
                        "learn": [
                          23.8026627,
                          31.02605379
                        ],
                        "iteration": 63,
                        "passed_time": 282.1549817,
                        "remaining_time": 48.49538748,
                        "test": [
                          261.8918761,
                          422.3018667
                        ]
                      },
                      {
                        "parameters": [
                          {
                            "depth": 10,
                            "learning_rate": 0.1,
                            "iterations": 1000
                          }
                        ],
                        "learn": [
                          11.55467529,
                          14.96394275
                        ],
                        "iteration": 64,
                        "passed_time": 302.3086261,
                        "remaining_time": 46.50901941,
                        "test": [
                          269.8883395,
                          434.4795438
                        ]
                      },
                      {
                        "parameters": [
                          {
                            "depth": 10,
                            "learning_rate": 0.01,
                            "iterations": 1500
                          }
                        ],
                        "learn": [
                          120.4467374,
                          156.6885987
                        ],
                        "iteration": 65,
                        "passed_time": 326.3178119,
                        "remaining_time": 44.49788344,
                        "test": [
                          298.1286147,
                          499.9309401
                        ]
                      },
                      {
                        "parameters": [
                          {
                            "depth": 10,
                            "learning_rate": 0.03,
                            "iterations": 1500
                          }
                        ],
                        "learn": [
                          42.37561424,
                          55.31806764
                        ],
                        "iteration": 66,
                        "passed_time": 352.4691544,
                        "remaining_time": 42.08586919,
                        "test": [
                          272.4875254,
                          454.5590217
                        ]
                      },
                      {
                        "parameters": [
                          {
                            "depth": 10,
                            "learning_rate": 0.05,
                            "iterations": 1500
                          }
                        ],
                        "learn": [
                          19.27867752,
                          25.33519819
                        ],
                        "iteration": 67,
                        "passed_time": 378.956652,
                        "remaining_time": 39.01024359,
                        "test": [
                          263.6441128,
                          440.9804811
                        ]
                      },
                      {
                        "parameters": [
                          {
                            "depth": 10,
                            "learning_rate": 0.07,
                            "iterations": 1500
                          }
                        ],
                        "learn": [
                          10.26764326,
                          13.30650288
                        ],
                        "iteration": 68,
                        "passed_time": 405.5636012,
                        "remaining_time": 35.26640011,
                        "test": [
                          261.4926342,
                          421.7536719
                        ]
                      },
                      {
                        "parameters": [
                          {
                            "depth": 10,
                            "learning_rate": 0.1,
                            "iterations": 1500
                          }
                        ],
                        "learn": [
                          3.744402764,
                          4.915811232
                        ],
                        "iteration": 69,
                        "passed_time": 430.5375437,
                        "remaining_time": 30.75268169,
                        "test": [
                          269.7022931,
                          434.188463
                        ]
                      },
                      {
                        "parameters": [
                          {
                            "depth": 10,
                            "learning_rate": 0.01,
                            "iterations": 2000
                          }
                        ],
                        "learn": [
                          95.65021028,
                          124.5086898
                        ],
                        "iteration": 70,
                        "passed_time": 465.1984608,
                        "remaining_time": 26.20836399,
                        "test": [
                          289.8889934,
                          485.818693
                        ]
                      },
                      {
                        "parameters": [
                          {
                            "depth": 10,
                            "learning_rate": 0.03,
                            "iterations": 2000
                          }
                        ],
                        "learn": [
                          28.22378007,
                          36.7809229
                        ],
                        "iteration": 71,
                        "passed_time": 501.3554824,
                        "remaining_time": 20.88981177,
                        "test": [
                          271.4402691,
                          452.4588082
                        ]
                      },
                      {
                        "parameters": [
                          {
                            "depth": 10,
                            "learning_rate": 0.05,
                            "iterations": 2000
                          }
                        ],
                        "learn": [
                          10.3566168,
                          13.61720178
                        ],
                        "iteration": 72,
                        "passed_time": 537.3013311,
                        "remaining_time": 14.72058441,
                        "test": [
                          263.4346928,
                          440.3897813
                        ]
                      },
                      {
                        "parameters": [
                          {
                            "depth": 10,
                            "learning_rate": 0.07,
                            "iterations": 2000
                          }
                        ],
                        "learn": [
                          4.738804476,
                          6.149906313
                        ],
                        "iteration": 73,
                        "passed_time": 571.4618327,
                        "remaining_time": 7.722457198,
                        "test": [
                          261.4926342,
                          421.6467609
                        ]
                      },
                      {
                        "parameters": [
                          {
                            "depth": 10,
                            "learning_rate": 0.1,
                            "iterations": 2000
                          }
                        ],
                        "learn": [
                          1.262728483,
                          1.647022083
                        ],
                        "iteration": 74,
                        "passed_time": 606.0801293,
                        "remaining_time": 0,
                        "test": [
                          269.6665268,
                          434.1689073
                        ]
                      }
                    ],
                    "meta": {
                      "test_sets": [
                        "test"
                      ],
                      "test_metrics": [
                        {
                          "best_value": "Min",
                          "name": "MAE"
                        },
                        {
                          "best_value": "Min",
                          "name": "RMSE"
                        }
                      ],
                      "learn_metrics": [
                        {
                          "best_value": "Min",
                          "name": "MAE"
                        },
                        {
                          "best_value": "Min",
                          "name": "RMSE"
                        }
                      ],
                      "launch_mode": "Train",
                      "parameters": "parameters",
                      "iteration_count": 75,
                      "learn_sets": [
                        "learn"
                      ],
                      "name": "experiment"
                    }
                  }
                }
              }
            },
            "layout": "IPY_MODEL_b1bf059d46b846d3b46bc224eb1a05fb"
          }
        }
      }
    }
  },
  "nbformat": 4,
  "nbformat_minor": 0
}