{
 "cells": [
  {
   "cell_type": "markdown",
   "metadata": {
    "toc": true
   },
   "source": [
    "<h1>Содержание<span class=\"tocSkip\"></span></h1>\n",
    "<div class=\"toc\"><ul class=\"toc-item\"><li><span><a href=\"#Цели-и-ход-проекта\" data-toc-modified-id=\"Цели-и-ход-проекта-1\"><span class=\"toc-item-num\">1&nbsp;&nbsp;</span>Цели и ход проекта</a></span></li><li><span><a href=\"#Подготовка\" data-toc-modified-id=\"Подготовка-2\"><span class=\"toc-item-num\">2&nbsp;&nbsp;</span>Подготовка</a></span><ul class=\"toc-item\"><li><span><a href=\"#Загрузка-и-подготовка-данных.\" data-toc-modified-id=\"Загрузка-и-подготовка-данных.-2.1\"><span class=\"toc-item-num\">2.1&nbsp;&nbsp;</span>Загрузка и подготовка данных.</a></span></li><li><span><a href=\"#Подготовка-данных\" data-toc-modified-id=\"Подготовка-данных-2.2\"><span class=\"toc-item-num\">2.2&nbsp;&nbsp;</span>Подготовка данных</a></span></li></ul></li><li><span><a href=\"#Обучение\" data-toc-modified-id=\"Обучение-3\"><span class=\"toc-item-num\">3&nbsp;&nbsp;</span>Обучение</a></span><ul class=\"toc-item\"><li><span><a href=\"#Логистическая-регрессия\" data-toc-modified-id=\"Логистическая-регрессия-3.1\"><span class=\"toc-item-num\">3.1&nbsp;&nbsp;</span>Логистическая регрессия</a></span></li><li><span><a href=\"#LinearSVC\" data-toc-modified-id=\"LinearSVC-3.2\"><span class=\"toc-item-num\">3.2&nbsp;&nbsp;</span>LinearSVC</a></span></li><li><span><a href=\"#CatBoostClassifier\" data-toc-modified-id=\"CatBoostClassifier-3.3\"><span class=\"toc-item-num\">3.3&nbsp;&nbsp;</span>CatBoostClassifier</a></span></li></ul></li><li><span><a href=\"#Выводы\" data-toc-modified-id=\"Выводы-4\"><span class=\"toc-item-num\">4&nbsp;&nbsp;</span>Выводы</a></span></li><li><span><a href=\"#Чек-лист-проверки\" data-toc-modified-id=\"Чек-лист-проверки-5\"><span class=\"toc-item-num\">5&nbsp;&nbsp;</span>Чек-лист проверки</a></span></li></ul></div>"
   ]
  },
  {
   "cell_type": "markdown",
   "metadata": {},
   "source": [
    "# Классификация комментариев"
   ]
  },
  {
   "cell_type": "markdown",
   "metadata": {},
   "source": [
    "## Цели и ход проекта"
   ]
  },
  {
   "cell_type": "markdown",
   "metadata": {},
   "source": [
    "Интернет-магазин запускает новый сервис. Теперь пользователи могут редактировать и дополнять описания товаров, как в вики-сообществах. То есть клиенты предлагают свои правки и комментируют изменения других. Магазину нужен инструмент, который будет искать токсичные комментарии и отправлять их на модерацию.\n",
    "\n",
    "В данном проекте мы подготовим набор текстовых данных с разметкой о токсичности правок для обучения модели классификации.\n",
    "\n",
    "**Цель проекта**\n",
    "\n",
    "Обучить модель классифицировать комментарии на позитивные и негативные.\n",
    "\n",
    "**Ход поекта**\n",
    "\n",
    "1. Загрузка и подготовка данных.\n",
    "2. Обучение разные модели.\n",
    "3. Выводы."
   ]
  },
  {
   "cell_type": "markdown",
   "metadata": {},
   "source": [
    "## Подготовка"
   ]
  },
  {
   "cell_type": "markdown",
   "metadata": {},
   "source": [
    "### Загрузка и подготовка данных."
   ]
  },
  {
   "cell_type": "code",
   "execution_count": 46,
   "metadata": {},
   "outputs": [],
   "source": [
    "# импортируем библиотеки\n",
    "import numpy as np\n",
    "import pandas as pd\n",
    "\n",
    "import nltk\n",
    "from nltk.corpus import stopwords as nltk_stopwords\n",
    "\n",
    "import spacy\n",
    "\n",
    "import re\n",
    "\n",
    "from sklearn.feature_extraction.text import TfidfVectorizer\n",
    "from sklearn.pipeline import Pipeline\n",
    "from sklearn.linear_model import LogisticRegression\n",
    "from sklearn.svm import LinearSVC\n",
    "from sklearn.model_selection import train_test_split, cross_val_score\n",
    "from sklearn.metrics import f1_score\n",
    "from sklearn.dummy import DummyClassifier\n",
    "\n",
    "from catboost import CatBoostClassifier, Pool, cv"
   ]
  },
  {
   "cell_type": "code",
   "execution_count": 3,
   "metadata": {},
   "outputs": [
    {
     "name": "stdout",
     "output_type": "stream",
     "text": [
      "Requirement already satisfied: spacy in /opt/conda/lib/python3.9/site-packages (3.2.0)\n",
      "Requirement already satisfied: langcodes<4.0.0,>=3.2.0 in /opt/conda/lib/python3.9/site-packages (from spacy) (3.3.0)\n",
      "Requirement already satisfied: tqdm<5.0.0,>=4.38.0 in /opt/conda/lib/python3.9/site-packages (from spacy) (4.61.2)\n",
      "Requirement already satisfied: spacy-loggers<2.0.0,>=1.0.0 in /opt/conda/lib/python3.9/site-packages (from spacy) (1.0.3)\n",
      "Requirement already satisfied: thinc<8.1.0,>=8.0.12 in /opt/conda/lib/python3.9/site-packages (from spacy) (8.0.17)\n",
      "Requirement already satisfied: jinja2 in /opt/conda/lib/python3.9/site-packages (from spacy) (3.0.1)\n",
      "Requirement already satisfied: srsly<3.0.0,>=2.4.1 in /opt/conda/lib/python3.9/site-packages (from spacy) (2.4.4)\n",
      "Requirement already satisfied: cymem<2.1.0,>=2.0.2 in /opt/conda/lib/python3.9/site-packages (from spacy) (2.0.6)\n",
      "Requirement already satisfied: setuptools in /opt/conda/lib/python3.9/site-packages (from spacy) (49.6.0.post20210108)\n",
      "Requirement already satisfied: packaging>=20.0 in /opt/conda/lib/python3.9/site-packages (from spacy) (21.3)\n",
      "Requirement already satisfied: numpy>=1.15.0 in /opt/conda/lib/python3.9/site-packages (from spacy) (1.21.1)\n",
      "Requirement already satisfied: blis<0.8.0,>=0.4.0 in /opt/conda/lib/python3.9/site-packages (from spacy) (0.7.8)\n",
      "Requirement already satisfied: wasabi<1.1.0,>=0.8.1 in /opt/conda/lib/python3.9/site-packages (from spacy) (0.10.1)\n",
      "Requirement already satisfied: preshed<3.1.0,>=3.0.2 in /opt/conda/lib/python3.9/site-packages (from spacy) (3.0.7)\n",
      "Requirement already satisfied: spacy-legacy<3.1.0,>=3.0.8 in /opt/conda/lib/python3.9/site-packages (from spacy) (3.0.10)\n",
      "Requirement already satisfied: typer<0.5.0,>=0.3.0 in /opt/conda/lib/python3.9/site-packages (from spacy) (0.4.2)\n",
      "Requirement already satisfied: pydantic!=1.8,!=1.8.1,<1.9.0,>=1.7.4 in /opt/conda/lib/python3.9/site-packages (from spacy) (1.8.2)\n",
      "Requirement already satisfied: pathy>=0.3.5 in /opt/conda/lib/python3.9/site-packages (from spacy) (0.6.2)\n",
      "Requirement already satisfied: catalogue<2.1.0,>=2.0.6 in /opt/conda/lib/python3.9/site-packages (from spacy) (2.0.8)\n",
      "Requirement already satisfied: murmurhash<1.1.0,>=0.28.0 in /opt/conda/lib/python3.9/site-packages (from spacy) (1.0.8)\n",
      "Requirement already satisfied: requests<3.0.0,>=2.13.0 in /opt/conda/lib/python3.9/site-packages (from spacy) (2.25.1)\n",
      "Requirement already satisfied: pyparsing!=3.0.5,>=2.0.2 in /opt/conda/lib/python3.9/site-packages (from packaging>=20.0->spacy) (2.4.7)\n",
      "Requirement already satisfied: smart-open<6.0.0,>=5.2.1 in /opt/conda/lib/python3.9/site-packages (from pathy>=0.3.5->spacy) (5.2.1)\n",
      "Requirement already satisfied: typing-extensions>=3.7.4.3 in /opt/conda/lib/python3.9/site-packages (from pydantic!=1.8,!=1.8.1,<1.9.0,>=1.7.4->spacy) (4.3.0)\n",
      "Requirement already satisfied: urllib3<1.27,>=1.21.1 in /opt/conda/lib/python3.9/site-packages (from requests<3.0.0,>=2.13.0->spacy) (1.26.6)\n",
      "Requirement already satisfied: chardet<5,>=3.0.2 in /opt/conda/lib/python3.9/site-packages (from requests<3.0.0,>=2.13.0->spacy) (4.0.0)\n",
      "Requirement already satisfied: certifi>=2017.4.17 in /opt/conda/lib/python3.9/site-packages (from requests<3.0.0,>=2.13.0->spacy) (2022.6.15)\n",
      "Requirement already satisfied: idna<3,>=2.5 in /opt/conda/lib/python3.9/site-packages (from requests<3.0.0,>=2.13.0->spacy) (2.10)\n",
      "Requirement already satisfied: click<9.0.0,>=7.1.1 in /opt/conda/lib/python3.9/site-packages (from typer<0.5.0,>=0.3.0->spacy) (8.1.3)\n",
      "Requirement already satisfied: MarkupSafe>=2.0 in /opt/conda/lib/python3.9/site-packages (from jinja2->spacy) (2.1.1)\n",
      "\u001b[38;5;3m⚠ As of spaCy v3.0, shortcuts like 'en' are deprecated. Please use the\n",
      "full pipeline package name 'en_core_web_sm' instead.\u001b[0m\n",
      "Collecting en-core-web-sm==3.2.0\n",
      "  Downloading https://github.com/explosion/spacy-models/releases/download/en_core_web_sm-3.2.0/en_core_web_sm-3.2.0-py3-none-any.whl (13.9 MB)\n",
      "\u001b[K     |████████████████████████████████| 13.9 MB 1.2 MB/s eta 0:00:01\n",
      "\u001b[?25hRequirement already satisfied: spacy<3.3.0,>=3.2.0 in /opt/conda/lib/python3.9/site-packages (from en-core-web-sm==3.2.0) (3.2.0)\n",
      "Requirement already satisfied: wasabi<1.1.0,>=0.8.1 in /opt/conda/lib/python3.9/site-packages (from spacy<3.3.0,>=3.2.0->en-core-web-sm==3.2.0) (0.10.1)\n",
      "Requirement already satisfied: srsly<3.0.0,>=2.4.1 in /opt/conda/lib/python3.9/site-packages (from spacy<3.3.0,>=3.2.0->en-core-web-sm==3.2.0) (2.4.4)\n",
      "Requirement already satisfied: thinc<8.1.0,>=8.0.12 in /opt/conda/lib/python3.9/site-packages (from spacy<3.3.0,>=3.2.0->en-core-web-sm==3.2.0) (8.0.17)\n",
      "Requirement already satisfied: spacy-legacy<3.1.0,>=3.0.8 in /opt/conda/lib/python3.9/site-packages (from spacy<3.3.0,>=3.2.0->en-core-web-sm==3.2.0) (3.0.10)\n",
      "Requirement already satisfied: numpy>=1.15.0 in /opt/conda/lib/python3.9/site-packages (from spacy<3.3.0,>=3.2.0->en-core-web-sm==3.2.0) (1.21.1)\n",
      "Requirement already satisfied: jinja2 in /opt/conda/lib/python3.9/site-packages (from spacy<3.3.0,>=3.2.0->en-core-web-sm==3.2.0) (3.0.1)\n",
      "Requirement already satisfied: packaging>=20.0 in /opt/conda/lib/python3.9/site-packages (from spacy<3.3.0,>=3.2.0->en-core-web-sm==3.2.0) (21.3)\n",
      "Requirement already satisfied: setuptools in /opt/conda/lib/python3.9/site-packages (from spacy<3.3.0,>=3.2.0->en-core-web-sm==3.2.0) (49.6.0.post20210108)\n",
      "Requirement already satisfied: spacy-loggers<2.0.0,>=1.0.0 in /opt/conda/lib/python3.9/site-packages (from spacy<3.3.0,>=3.2.0->en-core-web-sm==3.2.0) (1.0.3)\n",
      "Requirement already satisfied: cymem<2.1.0,>=2.0.2 in /opt/conda/lib/python3.9/site-packages (from spacy<3.3.0,>=3.2.0->en-core-web-sm==3.2.0) (2.0.6)\n",
      "Requirement already satisfied: murmurhash<1.1.0,>=0.28.0 in /opt/conda/lib/python3.9/site-packages (from spacy<3.3.0,>=3.2.0->en-core-web-sm==3.2.0) (1.0.8)\n",
      "Requirement already satisfied: tqdm<5.0.0,>=4.38.0 in /opt/conda/lib/python3.9/site-packages (from spacy<3.3.0,>=3.2.0->en-core-web-sm==3.2.0) (4.61.2)\n",
      "Requirement already satisfied: blis<0.8.0,>=0.4.0 in /opt/conda/lib/python3.9/site-packages (from spacy<3.3.0,>=3.2.0->en-core-web-sm==3.2.0) (0.7.8)\n",
      "Requirement already satisfied: catalogue<2.1.0,>=2.0.6 in /opt/conda/lib/python3.9/site-packages (from spacy<3.3.0,>=3.2.0->en-core-web-sm==3.2.0) (2.0.8)\n",
      "Requirement already satisfied: preshed<3.1.0,>=3.0.2 in /opt/conda/lib/python3.9/site-packages (from spacy<3.3.0,>=3.2.0->en-core-web-sm==3.2.0) (3.0.7)\n",
      "Requirement already satisfied: pydantic!=1.8,!=1.8.1,<1.9.0,>=1.7.4 in /opt/conda/lib/python3.9/site-packages (from spacy<3.3.0,>=3.2.0->en-core-web-sm==3.2.0) (1.8.2)\n",
      "Requirement already satisfied: pathy>=0.3.5 in /opt/conda/lib/python3.9/site-packages (from spacy<3.3.0,>=3.2.0->en-core-web-sm==3.2.0) (0.6.2)\n",
      "Requirement already satisfied: requests<3.0.0,>=2.13.0 in /opt/conda/lib/python3.9/site-packages (from spacy<3.3.0,>=3.2.0->en-core-web-sm==3.2.0) (2.25.1)\n",
      "Requirement already satisfied: langcodes<4.0.0,>=3.2.0 in /opt/conda/lib/python3.9/site-packages (from spacy<3.3.0,>=3.2.0->en-core-web-sm==3.2.0) (3.3.0)\n",
      "Requirement already satisfied: typer<0.5.0,>=0.3.0 in /opt/conda/lib/python3.9/site-packages (from spacy<3.3.0,>=3.2.0->en-core-web-sm==3.2.0) (0.4.2)\n",
      "Requirement already satisfied: pyparsing!=3.0.5,>=2.0.2 in /opt/conda/lib/python3.9/site-packages (from packaging>=20.0->spacy<3.3.0,>=3.2.0->en-core-web-sm==3.2.0) (2.4.7)\n",
      "Requirement already satisfied: smart-open<6.0.0,>=5.2.1 in /opt/conda/lib/python3.9/site-packages (from pathy>=0.3.5->spacy<3.3.0,>=3.2.0->en-core-web-sm==3.2.0) (5.2.1)\n",
      "Requirement already satisfied: typing-extensions>=3.7.4.3 in /opt/conda/lib/python3.9/site-packages (from pydantic!=1.8,!=1.8.1,<1.9.0,>=1.7.4->spacy<3.3.0,>=3.2.0->en-core-web-sm==3.2.0) (4.3.0)\n",
      "Requirement already satisfied: idna<3,>=2.5 in /opt/conda/lib/python3.9/site-packages (from requests<3.0.0,>=2.13.0->spacy<3.3.0,>=3.2.0->en-core-web-sm==3.2.0) (2.10)\n",
      "Requirement already satisfied: chardet<5,>=3.0.2 in /opt/conda/lib/python3.9/site-packages (from requests<3.0.0,>=2.13.0->spacy<3.3.0,>=3.2.0->en-core-web-sm==3.2.0) (4.0.0)\n",
      "Requirement already satisfied: urllib3<1.27,>=1.21.1 in /opt/conda/lib/python3.9/site-packages (from requests<3.0.0,>=2.13.0->spacy<3.3.0,>=3.2.0->en-core-web-sm==3.2.0) (1.26.6)\n",
      "Requirement already satisfied: certifi>=2017.4.17 in /opt/conda/lib/python3.9/site-packages (from requests<3.0.0,>=2.13.0->spacy<3.3.0,>=3.2.0->en-core-web-sm==3.2.0) (2022.6.15)\n",
      "Requirement already satisfied: click<9.0.0,>=7.1.1 in /opt/conda/lib/python3.9/site-packages (from typer<0.5.0,>=0.3.0->spacy<3.3.0,>=3.2.0->en-core-web-sm==3.2.0) (8.1.3)\n",
      "Requirement already satisfied: MarkupSafe>=2.0 in /opt/conda/lib/python3.9/site-packages (from jinja2->spacy<3.3.0,>=3.2.0->en-core-web-sm==3.2.0) (2.1.1)\n",
      "\u001b[38;5;2m✔ Download and installation successful\u001b[0m\n",
      "You can now load the package via spacy.load('en_core_web_sm')\n"
     ]
    }
   ],
   "source": [
    "import sys\n",
    "!{sys.executable} -m pip install spacy\n",
    "!{sys.executable} -m spacy download en\n",
    "\n",
    "!pip install -q optuna\n",
    "import optuna"
   ]
  },
  {
   "cell_type": "code",
   "execution_count": 4,
   "metadata": {},
   "outputs": [],
   "source": [
    "# открываем файл\n",
    "try:\n",
    "    df = pd.read_csv('/datasets/toxic_comments.csv')\n",
    "except:\n",
    "    df = pd.read_csv('https://code.s3.yandex.net/datasets/toxic_comments.csv')"
   ]
  },
  {
   "cell_type": "code",
   "execution_count": 5,
   "metadata": {},
   "outputs": [
    {
     "name": "stdout",
     "output_type": "stream",
     "text": [
      "<class 'pandas.core.frame.DataFrame'>\n",
      "RangeIndex: 159292 entries, 0 to 159291\n",
      "Data columns (total 3 columns):\n",
      " #   Column      Non-Null Count   Dtype \n",
      "---  ------      --------------   ----- \n",
      " 0   Unnamed: 0  159292 non-null  int64 \n",
      " 1   text        159292 non-null  object\n",
      " 2   toxic       159292 non-null  int64 \n",
      "dtypes: int64(2), object(1)\n",
      "memory usage: 3.6+ MB\n"
     ]
    }
   ],
   "source": [
    "# изучаем информацию\n",
    "df.info()"
   ]
  },
  {
   "cell_type": "code",
   "execution_count": 6,
   "metadata": {},
   "outputs": [
    {
     "data": {
      "text/html": [
       "<div>\n",
       "<style scoped>\n",
       "    .dataframe tbody tr th:only-of-type {\n",
       "        vertical-align: middle;\n",
       "    }\n",
       "\n",
       "    .dataframe tbody tr th {\n",
       "        vertical-align: top;\n",
       "    }\n",
       "\n",
       "    .dataframe thead th {\n",
       "        text-align: right;\n",
       "    }\n",
       "</style>\n",
       "<table border=\"1\" class=\"dataframe\">\n",
       "  <thead>\n",
       "    <tr style=\"text-align: right;\">\n",
       "      <th></th>\n",
       "      <th>Unnamed: 0</th>\n",
       "      <th>text</th>\n",
       "      <th>toxic</th>\n",
       "    </tr>\n",
       "  </thead>\n",
       "  <tbody>\n",
       "    <tr>\n",
       "      <th>0</th>\n",
       "      <td>0</td>\n",
       "      <td>Explanation\\nWhy the edits made under my usern...</td>\n",
       "      <td>0</td>\n",
       "    </tr>\n",
       "    <tr>\n",
       "      <th>1</th>\n",
       "      <td>1</td>\n",
       "      <td>D'aww! He matches this background colour I'm s...</td>\n",
       "      <td>0</td>\n",
       "    </tr>\n",
       "    <tr>\n",
       "      <th>2</th>\n",
       "      <td>2</td>\n",
       "      <td>Hey man, I'm really not trying to edit war. It...</td>\n",
       "      <td>0</td>\n",
       "    </tr>\n",
       "    <tr>\n",
       "      <th>3</th>\n",
       "      <td>3</td>\n",
       "      <td>\"\\nMore\\nI can't make any real suggestions on ...</td>\n",
       "      <td>0</td>\n",
       "    </tr>\n",
       "    <tr>\n",
       "      <th>4</th>\n",
       "      <td>4</td>\n",
       "      <td>You, sir, are my hero. Any chance you remember...</td>\n",
       "      <td>0</td>\n",
       "    </tr>\n",
       "  </tbody>\n",
       "</table>\n",
       "</div>"
      ],
      "text/plain": [
       "   Unnamed: 0                                               text  toxic\n",
       "0           0  Explanation\\nWhy the edits made under my usern...      0\n",
       "1           1  D'aww! He matches this background colour I'm s...      0\n",
       "2           2  Hey man, I'm really not trying to edit war. It...      0\n",
       "3           3  \"\\nMore\\nI can't make any real suggestions on ...      0\n",
       "4           4  You, sir, are my hero. Any chance you remember...      0"
      ]
     },
     "execution_count": 6,
     "metadata": {},
     "output_type": "execute_result"
    }
   ],
   "source": [
    "df.head()"
   ]
  },
  {
   "cell_type": "code",
   "execution_count": 7,
   "metadata": {},
   "outputs": [
    {
     "data": {
      "text/plain": [
       "Unnamed: 0    0\n",
       "text          0\n",
       "toxic         0\n",
       "dtype: int64"
      ]
     },
     "execution_count": 7,
     "metadata": {},
     "output_type": "execute_result"
    }
   ],
   "source": [
    "# проверяем наличие пропусков\n",
    "df.isna().sum()"
   ]
  },
  {
   "cell_type": "code",
   "execution_count": 8,
   "metadata": {},
   "outputs": [
    {
     "data": {
      "text/plain": [
       "0"
      ]
     },
     "execution_count": 8,
     "metadata": {},
     "output_type": "execute_result"
    }
   ],
   "source": [
    "# и дубликатов\n",
    "df.duplicated().sum()"
   ]
  },
  {
   "cell_type": "code",
   "execution_count": 9,
   "metadata": {},
   "outputs": [
    {
     "data": {
      "text/plain": [
       "0    143106\n",
       "1     16186\n",
       "Name: toxic, dtype: int64"
      ]
     },
     "execution_count": 9,
     "metadata": {},
     "output_type": "execute_result"
    }
   ],
   "source": [
    "# изучаем баланс классов в целевом признаке\n",
    "df['toxic'].value_counts()"
   ]
  },
  {
   "cell_type": "code",
   "execution_count": 10,
   "metadata": {},
   "outputs": [
    {
     "data": {
      "text/plain": [
       "0    0.898388\n",
       "1    0.101612\n",
       "Name: toxic, dtype: float64"
      ]
     },
     "execution_count": 10,
     "metadata": {},
     "output_type": "execute_result"
    }
   ],
   "source": [
    "df['toxic'].value_counts(normalize = True)"
   ]
  },
  {
   "cell_type": "markdown",
   "metadata": {},
   "source": [
    "В датасете **159292** строк и два столбца `text` и целевой признак `toxic`.\n",
    "\n",
    "Пропусков и дубликатов в данных нет.\n",
    "\n",
    "Наблюдается дисбаланс классов в целевом признаке. Нулевой класс состаляет почти 90% от общего числа значений."
   ]
  },
  {
   "cell_type": "markdown",
   "metadata": {},
   "source": [
    "### Подготовка данных"
   ]
  },
  {
   "cell_type": "code",
   "execution_count": 11,
   "metadata": {},
   "outputs": [],
   "source": [
    "# напишем функию для лемматизации текстов и очищения их от лишних знаков и пробелов\n",
    "\n",
    "nlp = spacy.load('en_core_web_sm', disable=['parser', 'ner'])\n",
    "\n",
    "def lemmatize_text(text):\n",
    "    lemm_text = ' '.join([token.lemma_ for token in nlp(text.lower())]) \n",
    "    clear_text = ' '.join(re.sub(r'[^a-zA-Z]', ' ', lemm_text).split())\n",
    "    return clear_text"
   ]
  },
  {
   "cell_type": "code",
   "execution_count": 12,
   "metadata": {},
   "outputs": [],
   "source": [
    "# применим функцию к текстам\n",
    "\n",
    "lemmatized = df['text'].apply(lemmatize_text)"
   ]
  },
  {
   "cell_type": "code",
   "execution_count": 13,
   "metadata": {},
   "outputs": [],
   "source": [
    "df['lemm_text'] = lemmatized\n",
    "df_lemm = df[['lemm_text', 'toxic']]"
   ]
  },
  {
   "cell_type": "code",
   "execution_count": 14,
   "metadata": {
    "scrolled": true
   },
   "outputs": [
    {
     "data": {
      "text/html": [
       "<div>\n",
       "<style scoped>\n",
       "    .dataframe tbody tr th:only-of-type {\n",
       "        vertical-align: middle;\n",
       "    }\n",
       "\n",
       "    .dataframe tbody tr th {\n",
       "        vertical-align: top;\n",
       "    }\n",
       "\n",
       "    .dataframe thead th {\n",
       "        text-align: right;\n",
       "    }\n",
       "</style>\n",
       "<table border=\"1\" class=\"dataframe\">\n",
       "  <thead>\n",
       "    <tr style=\"text-align: right;\">\n",
       "      <th></th>\n",
       "      <th>lemm_text</th>\n",
       "      <th>toxic</th>\n",
       "    </tr>\n",
       "  </thead>\n",
       "  <tbody>\n",
       "    <tr>\n",
       "      <th>0</th>\n",
       "      <td>explanation why the edit make under my usernam...</td>\n",
       "      <td>0</td>\n",
       "    </tr>\n",
       "    <tr>\n",
       "      <th>1</th>\n",
       "      <td>d aww he match this background colour I be see...</td>\n",
       "      <td>0</td>\n",
       "    </tr>\n",
       "    <tr>\n",
       "      <th>2</th>\n",
       "      <td>hey man I be really not try to edit war it be ...</td>\n",
       "      <td>0</td>\n",
       "    </tr>\n",
       "    <tr>\n",
       "      <th>3</th>\n",
       "      <td>more I can not make any real suggestion on imp...</td>\n",
       "      <td>0</td>\n",
       "    </tr>\n",
       "    <tr>\n",
       "      <th>4</th>\n",
       "      <td>you sir be my hero any chance you remember wha...</td>\n",
       "      <td>0</td>\n",
       "    </tr>\n",
       "  </tbody>\n",
       "</table>\n",
       "</div>"
      ],
      "text/plain": [
       "                                           lemm_text  toxic\n",
       "0  explanation why the edit make under my usernam...      0\n",
       "1  d aww he match this background colour I be see...      0\n",
       "2  hey man I be really not try to edit war it be ...      0\n",
       "3  more I can not make any real suggestion on imp...      0\n",
       "4  you sir be my hero any chance you remember wha...      0"
      ]
     },
     "execution_count": 14,
     "metadata": {},
     "output_type": "execute_result"
    }
   ],
   "source": [
    "df_lemm.head()"
   ]
  },
  {
   "cell_type": "code",
   "execution_count": 29,
   "metadata": {},
   "outputs": [],
   "source": [
    "# разделим датасет на выборки\n",
    "features, features_test, target, target_test = train_test_split(\n",
    "df_lemm.drop('toxic', axis=1), df_lemm['toxic'], test_size=0.2, random_state=12346)"
   ]
  },
  {
   "cell_type": "code",
   "execution_count": 30,
   "metadata": {},
   "outputs": [
    {
     "name": "stderr",
     "output_type": "stream",
     "text": [
      "[nltk_data] Downloading package stopwords to /home/jovyan/nltk_data...\n",
      "[nltk_data]   Package stopwords is already up-to-date!\n"
     ]
    }
   ],
   "source": [
    "# загрузим стоп-слова\n",
    "\n",
    "nltk.download('stopwords')\n",
    "stopwords = set(nltk_stopwords.words('english'))"
   ]
  },
  {
   "cell_type": "code",
   "execution_count": 31,
   "metadata": {},
   "outputs": [],
   "source": [
    "tf = TfidfVectorizer(stop_words=stopwords)"
   ]
  },
  {
   "cell_type": "markdown",
   "metadata": {},
   "source": [
    "## Обучение"
   ]
  },
  {
   "cell_type": "markdown",
   "metadata": {},
   "source": [
    "### Логистическая регрессия"
   ]
  },
  {
   "cell_type": "code",
   "execution_count": 32,
   "metadata": {},
   "outputs": [
    {
     "name": "stderr",
     "output_type": "stream",
     "text": [
      "\u001b[32m[I 2023-03-27 08:49:56,850]\u001b[0m A new study created in memory with name: no-name-f9b6c403-22f4-40b2-9042-9e7bbadccb95\u001b[0m\n",
      "/opt/conda/lib/python3.9/site-packages/optuna/progress_bar.py:56: ExperimentalWarning: Progress bar is experimental (supported from v1.2.0). The interface can change in the future.\n",
      "  self._init_valid()\n"
     ]
    },
    {
     "data": {
      "application/vnd.jupyter.widget-view+json": {
       "model_id": "fa1e590dbf224cd9a73a64d2c8144906",
       "version_major": 2,
       "version_minor": 0
      },
      "text/plain": [
       "  0%|          | 0/5 [00:00<?, ?it/s]"
      ]
     },
     "metadata": {},
     "output_type": "display_data"
    },
    {
     "name": "stdout",
     "output_type": "stream",
     "text": [
      "\u001b[32m[I 2023-03-27 08:54:55,019]\u001b[0m Trial 0 finished with value: 0.751355892710969 and parameters: {'max_iter': 500, 'C': 1.0}. Best is trial 0 with value: 0.751355892710969.\u001b[0m\n",
      "\u001b[32m[I 2023-03-27 09:00:14,851]\u001b[0m Trial 1 finished with value: 0.751355892710969 and parameters: {'max_iter': 1500, 'C': 1.0}. Best is trial 0 with value: 0.751355892710969.\u001b[0m\n",
      "\u001b[32m[I 2023-03-27 09:01:16,460]\u001b[0m Trial 2 finished with value: 0.6803455970916541 and parameters: {'max_iter': 500, 'C': 0.01}. Best is trial 0 with value: 0.751355892710969.\u001b[0m\n",
      "\u001b[32m[I 2023-03-27 09:06:35,303]\u001b[0m Trial 3 finished with value: 0.751355892710969 and parameters: {'max_iter': 1000, 'C': 1.0}. Best is trial 0 with value: 0.751355892710969.\u001b[0m\n",
      "\u001b[32m[I 2023-03-27 09:07:37,226]\u001b[0m Trial 4 finished with value: 0.6803455970916541 and parameters: {'max_iter': 1000, 'C': 0.01}. Best is trial 0 with value: 0.751355892710969.\u001b[0m\n"
     ]
    }
   ],
   "source": [
    "# Инициализируем модель логистической регрессии, \n",
    "# настроим гиперпараметры с помощью optuna \n",
    "# и проверим качество модели на кросс-валидации с помощью cross_val_score\n",
    "\n",
    "def objective(trial):\n",
    "    max_iter = trial.suggest_int('max_iter', 500, 1500, 500)\n",
    "    C = trial.suggest_categorical('C', [0.01, 0.1, 1.0, 10.0])\n",
    "    \n",
    "    model = LogisticRegression(max_iter=max_iter,\n",
    "                               C=C,\n",
    "                               class_weight = 'balanced',\n",
    "                               random_state=12345)\n",
    "    \n",
    "    tf = TfidfVectorizer(stop_words=stopwords)\n",
    "    \n",
    "    pipeline = Pipeline(steps=[('tf', tf), ('model', model)])\n",
    "    \n",
    "    sc = cross_val_score(pipeline, \n",
    "                         features['lemm_text'], \n",
    "                         target, \n",
    "                         n_jobs = -1, \n",
    "                         cv = 5, \n",
    "                         scoring = 'f1')\n",
    "    return sc.mean()\n",
    "\n",
    "study = optuna.create_study(direction ='maximize')\n",
    "study.optimize(objective, n_trials = 5, show_progress_bar = True)\n",
    "\n",
    "best_max_iter = study.best_trial.params.get('max_iter')\n",
    "best_C = study.best_trial.params.get('C')\n",
    "lr_best_score = study.best_value\n",
    "\n",
    "lr = LogisticRegression(max_iter=best_max_iter,\n",
    "                        C=best_C,\n",
    "                        class_weight = 'balanced',\n",
    "                        random_state=12345)"
   ]
  },
  {
   "cell_type": "code",
   "execution_count": 36,
   "metadata": {},
   "outputs": [
    {
     "data": {
      "text/plain": [
       "500"
      ]
     },
     "execution_count": 36,
     "metadata": {},
     "output_type": "execute_result"
    }
   ],
   "source": [
    "best_max_iter"
   ]
  },
  {
   "cell_type": "code",
   "execution_count": 37,
   "metadata": {},
   "outputs": [
    {
     "data": {
      "text/plain": [
       "1.0"
      ]
     },
     "execution_count": 37,
     "metadata": {},
     "output_type": "execute_result"
    }
   ],
   "source": [
    "best_C "
   ]
  },
  {
   "cell_type": "code",
   "execution_count": 38,
   "metadata": {},
   "outputs": [
    {
     "data": {
      "text/plain": [
       "0.751355892710969"
      ]
     },
     "execution_count": 38,
     "metadata": {},
     "output_type": "execute_result"
    }
   ],
   "source": [
    "lr_best_score"
   ]
  },
  {
   "cell_type": "markdown",
   "metadata": {},
   "source": [
    "### LinearSVC"
   ]
  },
  {
   "cell_type": "code",
   "execution_count": 33,
   "metadata": {},
   "outputs": [
    {
     "name": "stderr",
     "output_type": "stream",
     "text": [
      "\u001b[32m[I 2023-03-27 09:10:48,041]\u001b[0m A new study created in memory with name: no-name-7a5096c3-c4d1-41d1-86bb-ecdde8c4f979\u001b[0m\n",
      "/opt/conda/lib/python3.9/site-packages/optuna/progress_bar.py:56: ExperimentalWarning: Progress bar is experimental (supported from v1.2.0). The interface can change in the future.\n",
      "  self._init_valid()\n"
     ]
    },
    {
     "data": {
      "application/vnd.jupyter.widget-view+json": {
       "model_id": "5a23b5231879403996bbc70eef24870a",
       "version_major": 2,
       "version_minor": 0
      },
      "text/plain": [
       "  0%|          | 0/3 [00:00<?, ?it/s]"
      ]
     },
     "metadata": {},
     "output_type": "display_data"
    },
    {
     "name": "stdout",
     "output_type": "stream",
     "text": [
      "\u001b[32m[I 2023-03-27 09:11:18,512]\u001b[0m Trial 0 finished with value: 0.7152514682977832 and parameters: {'C': 0.01}. Best is trial 0 with value: 0.7152514682977832.\u001b[0m\n",
      "\u001b[32m[I 2023-03-27 09:12:32,256]\u001b[0m Trial 1 finished with value: 0.7584681648695567 and parameters: {'C': 1.0}. Best is trial 1 with value: 0.7584681648695567.\u001b[0m\n",
      "\u001b[32m[I 2023-03-27 09:13:02,587]\u001b[0m Trial 2 finished with value: 0.7152514682977832 and parameters: {'C': 0.01}. Best is trial 1 with value: 0.7584681648695567.\u001b[0m\n"
     ]
    }
   ],
   "source": [
    "# Инициализируем модель LinearSVC, \n",
    "# настроим гиперпараметры с помощью optuna \n",
    "# и проверим качество модели на кросс-валидации с помощью cross_val_score\n",
    "\n",
    "def objective(trial):\n",
    "    C = trial.suggest_categorical('C', [0.01, 0.1, 1.0, 10.0])\n",
    "    \n",
    "    model = LinearSVC(C=C,\n",
    "                      penalty='l1',\n",
    "                      dual=False,\n",
    "                      max_iter=1000,\n",
    "                      class_weight = 'balanced',\n",
    "                      random_state = 12345)\n",
    "    \n",
    "    tf = TfidfVectorizer(stop_words=stopwords)\n",
    "    \n",
    "    pipeline = Pipeline(steps=[('tf', tf), ('model', model)])\n",
    "    \n",
    "    sc = cross_val_score(pipeline, \n",
    "                         features['lemm_text'], \n",
    "                         target, \n",
    "                         n_jobs = -1, \n",
    "                         cv = 5, \n",
    "                         scoring = 'f1')\n",
    "    return sc.mean()\n",
    "\n",
    "study = optuna.create_study(direction ='maximize')\n",
    "study.optimize(objective, n_trials = 3, show_progress_bar = True)\n",
    "\n",
    "best_C = study.best_trial.params.get('C')\n",
    "\n",
    "lsvc_best_score = study.best_value\n",
    "\n",
    "lsvc = LinearSVC(C=best_C,\n",
    "                 penalty='l1',\n",
    "                 max_iter=1000,\n",
    "                 dual=False,\n",
    "                 class_weight='balanced',\n",
    "                 random_state=12345)"
   ]
  },
  {
   "cell_type": "code",
   "execution_count": 39,
   "metadata": {},
   "outputs": [
    {
     "data": {
      "text/plain": [
       "1.0"
      ]
     },
     "execution_count": 39,
     "metadata": {},
     "output_type": "execute_result"
    }
   ],
   "source": [
    "best_C"
   ]
  },
  {
   "cell_type": "code",
   "execution_count": 40,
   "metadata": {},
   "outputs": [
    {
     "data": {
      "text/plain": [
       "0.7584681648695567"
      ]
     },
     "execution_count": 40,
     "metadata": {},
     "output_type": "execute_result"
    }
   ],
   "source": [
    "lsvc_best_score"
   ]
  },
  {
   "cell_type": "markdown",
   "metadata": {},
   "source": [
    "### CatBoostClassifier"
   ]
  },
  {
   "cell_type": "code",
   "execution_count": 53,
   "metadata": {
    "collapsed": true
   },
   "outputs": [
    {
     "name": "stdout",
     "output_type": "stream",
     "text": [
      "Training on fold [0/2]\n",
      "0:\tlearn: 0.6847673\ttest: 0.7105334\tbest: 0.7105334 (0)\ttotal: 363ms\tremaining: 6m 2s\n",
      "1:\tlearn: 0.6843497\ttest: 0.7100242\tbest: 0.7105334 (0)\ttotal: 730ms\tremaining: 6m 4s\n",
      "2:\tlearn: 0.6959534\ttest: 0.7189091\tbest: 0.7189091 (2)\ttotal: 1.11s\tremaining: 6m 8s\n",
      "3:\tlearn: 0.6959534\ttest: 0.7189091\tbest: 0.7189091 (2)\ttotal: 1.49s\tremaining: 6m 10s\n",
      "4:\tlearn: 0.6959534\ttest: 0.7189091\tbest: 0.7189091 (2)\ttotal: 1.86s\tremaining: 6m 10s\n",
      "5:\tlearn: 0.6960635\ttest: 0.7188471\tbest: 0.7189091 (2)\ttotal: 2.23s\tremaining: 6m 10s\n",
      "6:\tlearn: 0.6959317\ttest: 0.7185339\tbest: 0.7189091 (2)\ttotal: 2.65s\tremaining: 6m 15s\n",
      "7:\tlearn: 0.6862573\ttest: 0.7115367\tbest: 0.7189091 (2)\ttotal: 3.05s\tremaining: 6m 18s\n",
      "8:\tlearn: 0.6873299\ttest: 0.7138269\tbest: 0.7189091 (2)\ttotal: 3.44s\tremaining: 6m 19s\n",
      "9:\tlearn: 0.6894312\ttest: 0.7141964\tbest: 0.7189091 (2)\ttotal: 3.83s\tremaining: 6m 18s\n",
      "10:\tlearn: 0.6859577\ttest: 0.7100730\tbest: 0.7189091 (2)\ttotal: 4.27s\tremaining: 6m 24s\n",
      "11:\tlearn: 0.6859577\ttest: 0.7101894\tbest: 0.7189091 (2)\ttotal: 4.66s\tremaining: 6m 23s\n",
      "12:\tlearn: 0.6860744\ttest: 0.7103057\tbest: 0.7189091 (2)\ttotal: 5.04s\tremaining: 6m 22s\n",
      "13:\tlearn: 0.6863076\ttest: 0.7105904\tbest: 0.7189091 (2)\ttotal: 5.41s\tremaining: 6m 20s\n",
      "14:\tlearn: 0.6865963\ttest: 0.7108227\tbest: 0.7189091 (2)\ttotal: 5.84s\tremaining: 6m 23s\n",
      "15:\tlearn: 0.6865963\ttest: 0.7109389\tbest: 0.7189091 (2)\ttotal: 6.25s\tremaining: 6m 24s\n",
      "16:\tlearn: 0.6876440\ttest: 0.7108510\tbest: 0.7189091 (2)\ttotal: 6.66s\tremaining: 6m 25s\n",
      "17:\tlearn: 0.6907144\ttest: 0.7148343\tbest: 0.7189091 (2)\ttotal: 7.08s\tremaining: 6m 26s\n",
      "18:\tlearn: 0.6911004\ttest: 0.7156373\tbest: 0.7189091 (2)\ttotal: 7.5s\tremaining: 6m 27s\n",
      "19:\tlearn: 0.6922403\ttest: 0.7159040\tbest: 0.7189091 (2)\ttotal: 7.93s\tremaining: 6m 28s\n",
      "20:\tlearn: 0.6894965\ttest: 0.7128339\tbest: 0.7189091 (2)\ttotal: 8.33s\tremaining: 6m 28s\n",
      "21:\tlearn: 0.6899602\ttest: 0.7131170\tbest: 0.7189091 (2)\ttotal: 8.73s\tremaining: 6m 28s\n",
      "22:\tlearn: 0.6906488\ttest: 0.7143242\tbest: 0.7189091 (2)\ttotal: 9.14s\tremaining: 6m 28s\n",
      "23:\tlearn: 0.6918050\ttest: 0.7150678\tbest: 0.7189091 (2)\ttotal: 9.55s\tremaining: 6m 28s\n",
      "24:\tlearn: 0.6923213\ttest: 0.7164500\tbest: 0.7189091 (2)\ttotal: 9.97s\tremaining: 6m 28s\n",
      "25:\tlearn: 0.6931898\ttest: 0.7173699\tbest: 0.7189091 (2)\ttotal: 10.4s\tremaining: 6m 28s\n",
      "26:\tlearn: 0.6939351\ttest: 0.7187835\tbest: 0.7189091 (2)\ttotal: 10.8s\tremaining: 6m 28s\n",
      "27:\tlearn: 0.6950779\ttest: 0.7211212\tbest: 0.7211212 (27)\ttotal: 11.2s\tremaining: 6m 29s\n",
      "28:\tlearn: 0.6958740\ttest: 0.7218903\tbest: 0.7218903 (28)\ttotal: 11.6s\tremaining: 6m 29s\n",
      "29:\tlearn: 0.6953077\ttest: 0.7212998\tbest: 0.7218903 (28)\ttotal: 12s\tremaining: 6m 29s\n",
      "30:\tlearn: 0.6952465\ttest: 0.7216771\tbest: 0.7218903 (28)\ttotal: 12.5s\tremaining: 6m 29s\n",
      "31:\tlearn: 0.6960500\ttest: 0.7234687\tbest: 0.7234687 (31)\ttotal: 12.9s\tremaining: 6m 30s\n",
      "32:\tlearn: 0.6971268\ttest: 0.7238925\tbest: 0.7238925 (32)\ttotal: 13.4s\tremaining: 6m 31s\n",
      "33:\tlearn: 0.6975845\ttest: 0.7241686\tbest: 0.7241686 (33)\ttotal: 13.8s\tremaining: 6m 31s\n",
      "34:\tlearn: 0.6988417\ttest: 0.7247201\tbest: 0.7247201 (34)\ttotal: 14.3s\tremaining: 6m 32s\n",
      "35:\tlearn: 0.6994651\ttest: 0.7249956\tbest: 0.7249956 (35)\ttotal: 14.7s\tremaining: 6m 33s\n",
      "36:\tlearn: 0.7008322\ttest: 0.7257878\tbest: 0.7257878 (36)\ttotal: 15.1s\tremaining: 6m 33s\n",
      "37:\tlearn: 0.7006749\ttest: 0.7264335\tbest: 0.7264335 (37)\ttotal: 15.5s\tremaining: 6m 32s\n",
      "38:\tlearn: 0.7018220\ttest: 0.7263046\tbest: 0.7264335 (37)\ttotal: 16s\tremaining: 6m 33s\n",
      "39:\tlearn: 0.7005560\ttest: 0.7240855\tbest: 0.7264335 (37)\ttotal: 16.4s\tremaining: 6m 33s\n",
      "40:\tlearn: 0.7014610\ttest: 0.7262191\tbest: 0.7264335 (37)\ttotal: 16.8s\tremaining: 6m 33s\n",
      "41:\tlearn: 0.7011819\ttest: 0.7253395\tbest: 0.7264335 (37)\ttotal: 17.3s\tremaining: 6m 33s\n",
      "42:\tlearn: 0.7014109\ttest: 0.7254534\tbest: 0.7264335 (37)\ttotal: 17.7s\tremaining: 6m 33s\n",
      "43:\tlearn: 0.7024742\ttest: 0.7266238\tbest: 0.7266238 (43)\ttotal: 18.1s\tremaining: 6m 32s\n",
      "44:\tlearn: 0.7028074\ttest: 0.7271268\tbest: 0.7271268 (44)\ttotal: 18.5s\tremaining: 6m 33s\n",
      "45:\tlearn: 0.7031923\ttest: 0.7275481\tbest: 0.7275481 (45)\ttotal: 19s\tremaining: 6m 33s\n",
      "46:\tlearn: 0.7034822\ttest: 0.7279366\tbest: 0.7279366 (46)\ttotal: 19.4s\tremaining: 6m 34s\n",
      "47:\tlearn: 0.7046732\ttest: 0.7292149\tbest: 0.7292149 (47)\ttotal: 20s\tremaining: 6m 36s\n",
      "48:\tlearn: 0.7056243\ttest: 0.7303760\tbest: 0.7303760 (48)\ttotal: 20.4s\tremaining: 6m 36s\n",
      "49:\tlearn: 0.7059753\ttest: 0.7306017\tbest: 0.7306017 (49)\ttotal: 20.8s\tremaining: 6m 36s\n",
      "50:\tlearn: 0.7069449\ttest: 0.7311006\tbest: 0.7311006 (50)\ttotal: 21.3s\tremaining: 6m 36s\n",
      "51:\tlearn: 0.7073769\ttest: 0.7316943\tbest: 0.7316943 (51)\ttotal: 21.7s\tremaining: 6m 36s\n",
      "52:\tlearn: 0.7079026\ttest: 0.7320018\tbest: 0.7320018 (52)\ttotal: 22.1s\tremaining: 6m 35s\n",
      "53:\tlearn: 0.7088475\ttest: 0.7325468\tbest: 0.7325468 (53)\ttotal: 22.6s\tremaining: 6m 35s\n",
      "54:\tlearn: 0.7085924\ttest: 0.7323394\tbest: 0.7325468 (53)\ttotal: 23s\tremaining: 6m 35s\n",
      "55:\tlearn: 0.7091355\ttest: 0.7329016\tbest: 0.7329016 (55)\ttotal: 23.4s\tremaining: 6m 35s\n",
      "56:\tlearn: 0.7092596\ttest: 0.7333511\tbest: 0.7333511 (56)\ttotal: 23.9s\tremaining: 6m 35s\n",
      "57:\tlearn: 0.7092372\ttest: 0.7344553\tbest: 0.7344553 (57)\ttotal: 24.4s\tremaining: 6m 35s\n",
      "58:\tlearn: 0.7090734\ttest: 0.7338295\tbest: 0.7344553 (57)\ttotal: 24.8s\tremaining: 6m 34s\n",
      "59:\tlearn: 0.7102526\ttest: 0.7346903\tbest: 0.7346903 (59)\ttotal: 25.2s\tremaining: 6m 35s\n",
      "60:\tlearn: 0.7106413\ttest: 0.7346433\tbest: 0.7346903 (59)\ttotal: 25.7s\tremaining: 6m 34s\n",
      "61:\tlearn: 0.7109675\ttest: 0.7350911\tbest: 0.7350911 (61)\ttotal: 26.1s\tremaining: 6m 34s\n",
      "62:\tlearn: 0.7114680\ttest: 0.7348673\tbest: 0.7350911 (61)\ttotal: 26.5s\tremaining: 6m 34s\n",
      "63:\tlearn: 0.7112547\ttest: 0.7349323\tbest: 0.7350911 (61)\ttotal: 26.9s\tremaining: 6m 33s\n",
      "64:\tlearn: 0.7115804\ttest: 0.7356505\tbest: 0.7356505 (64)\ttotal: 27.4s\tremaining: 6m 33s\n",
      "65:\tlearn: 0.7119679\ttest: 0.7360976\tbest: 0.7360976 (65)\ttotal: 27.8s\tremaining: 6m 33s\n",
      "66:\tlearn: 0.7125654\ttest: 0.7357155\tbest: 0.7360976 (65)\ttotal: 28.2s\tremaining: 6m 32s\n",
      "67:\tlearn: 0.7130647\ttest: 0.7369444\tbest: 0.7369444 (67)\ttotal: 28.7s\tremaining: 6m 32s\n",
      "68:\tlearn: 0.7136756\ttest: 0.7365910\tbest: 0.7369444 (67)\ttotal: 29.1s\tremaining: 6m 32s\n",
      "69:\tlearn: 0.7134136\ttest: 0.7360976\tbest: 0.7369444 (67)\ttotal: 29.5s\tremaining: 6m 31s\n",
      "70:\tlearn: 0.7140741\ttest: 0.7369909\tbest: 0.7369909 (70)\ttotal: 30s\tremaining: 6m 31s\n",
      "71:\tlearn: 0.7145985\ttest: 0.7372619\tbest: 0.7372619 (71)\ttotal: 30.4s\tremaining: 6m 31s\n",
      "72:\tlearn: 0.7158116\ttest: 0.7371499\tbest: 0.7372619 (71)\ttotal: 30.8s\tremaining: 6m 30s\n",
      "73:\tlearn: 0.7163735\ttest: 0.7374203\tbest: 0.7374203 (73)\ttotal: 31.2s\tremaining: 6m 30s\n",
      "74:\tlearn: 0.7165981\ttest: 0.7379793\tbest: 0.7379793 (74)\ttotal: 31.6s\tremaining: 6m 30s\n",
      "75:\tlearn: 0.7171726\ttest: 0.7381100\tbest: 0.7381100 (75)\ttotal: 32.1s\tremaining: 6m 30s\n",
      "76:\tlearn: 0.7156028\ttest: 0.7381418\tbest: 0.7381418 (76)\ttotal: 32.6s\tremaining: 6m 30s\n",
      "77:\tlearn: 0.7163707\ttest: 0.7387051\tbest: 0.7387051 (77)\ttotal: 33s\tremaining: 6m 30s\n",
      "78:\tlearn: 0.7173856\ttest: 0.7393584\tbest: 0.7393584 (78)\ttotal: 33.5s\tremaining: 6m 30s\n",
      "79:\tlearn: 0.7173856\ttest: 0.7398526\tbest: 0.7398526 (79)\ttotal: 33.9s\tremaining: 6m 30s\n",
      "80:\tlearn: 0.7179487\ttest: 0.7402148\tbest: 0.7402148 (80)\ttotal: 34.4s\tremaining: 6m 30s\n",
      "81:\tlearn: 0.7184125\ttest: 0.7410168\tbest: 0.7410168 (81)\ttotal: 34.8s\tremaining: 6m 29s\n",
      "82:\tlearn: 0.7189256\ttest: 0.7414634\tbest: 0.7414634 (82)\ttotal: 35.2s\tremaining: 6m 29s\n",
      "83:\tlearn: 0.7194384\ttest: 0.7421328\tbest: 0.7421328 (83)\ttotal: 35.6s\tremaining: 6m 28s\n",
      "84:\tlearn: 0.7187143\ttest: 0.7416408\tbest: 0.7421328 (83)\ttotal: 36.1s\tremaining: 6m 28s\n",
      "85:\tlearn: 0.7193891\ttest: 0.7415093\tbest: 0.7421328 (83)\ttotal: 36.4s\tremaining: 6m 27s\n",
      "86:\tlearn: 0.7197542\ttest: 0.7417266\tbest: 0.7421328 (83)\ttotal: 36.8s\tremaining: 6m 26s\n",
      "87:\tlearn: 0.7196770\ttest: 0.7419298\tbest: 0.7421328 (83)\ttotal: 37.2s\tremaining: 6m 25s\n",
      "88:\tlearn: 0.7196770\ttest: 0.7423101\tbest: 0.7423101 (88)\ttotal: 37.6s\tremaining: 6m 25s\n",
      "89:\tlearn: 0.7199157\ttest: 0.7418582\tbest: 0.7423101 (88)\ttotal: 38s\tremaining: 6m 24s\n",
      "90:\tlearn: 0.7195777\ttest: 0.7418007\tbest: 0.7423101 (88)\ttotal: 38.4s\tremaining: 6m 23s\n",
      "91:\tlearn: 0.7195702\ttest: 0.7411032\tbest: 0.7423101 (88)\ttotal: 38.8s\tremaining: 6m 22s\n",
      "92:\tlearn: 0.7200070\ttest: 0.7413532\tbest: 0.7423101 (88)\ttotal: 39.1s\tremaining: 6m 21s\n",
      "93:\tlearn: 0.7200845\ttest: 0.7412612\tbest: 0.7423101 (88)\ttotal: 39.5s\tremaining: 6m 20s\n",
      "94:\tlearn: 0.7205844\ttest: 0.7422021\tbest: 0.7423101 (88)\ttotal: 39.9s\tremaining: 6m 20s\n",
      "95:\tlearn: 0.7209077\ttest: 0.7426693\tbest: 0.7426693 (95)\ttotal: 40.3s\tremaining: 6m 19s\n",
      "96:\tlearn: 0.7218415\ttest: 0.7432072\tbest: 0.7432072 (96)\ttotal: 40.7s\tremaining: 6m 19s\n",
      "97:\tlearn: 0.7223100\ttest: 0.7444169\tbest: 0.7444169 (97)\ttotal: 41.2s\tremaining: 6m 18s\n",
      "98:\tlearn: 0.7224221\ttest: 0.7450182\tbest: 0.7450182 (98)\ttotal: 41.6s\tremaining: 6m 18s\n",
      "99:\tlearn: 0.7225931\ttest: 0.7440582\tbest: 0.7450182 (98)\ttotal: 41.9s\tremaining: 6m 17s\n",
      "100:\tlearn: 0.7222564\ttest: 0.7439219\tbest: 0.7450182 (98)\ttotal: 42.3s\tremaining: 6m 16s\n",
      "101:\tlearn: 0.7228027\ttest: 0.7442355\tbest: 0.7450182 (98)\ttotal: 42.8s\tremaining: 6m 16s\n",
      "102:\tlearn: 0.7230270\ttest: 0.7448582\tbest: 0.7450182 (98)\ttotal: 43.1s\tremaining: 6m 15s\n",
      "103:\tlearn: 0.7232362\ttest: 0.7453031\tbest: 0.7453031 (103)\ttotal: 43.5s\tremaining: 6m 15s\n",
      "104:\tlearn: 0.7234117\ttest: 0.7452370\tbest: 0.7453031 (103)\ttotal: 44s\tremaining: 6m 14s\n",
      "105:\tlearn: 0.7235872\ttest: 0.7453515\tbest: 0.7453515 (105)\ttotal: 44.4s\tremaining: 6m 14s\n",
      "106:\tlearn: 0.7236507\ttest: 0.7449730\tbest: 0.7453515 (105)\ttotal: 44.8s\tremaining: 6m 13s\n",
      "107:\tlearn: 0.7239716\ttest: 0.7456397\tbest: 0.7456397 (107)\ttotal: 45.2s\tremaining: 6m 13s\n",
      "108:\tlearn: 0.7243073\ttest: 0.7455527\tbest: 0.7456397 (107)\ttotal: 45.6s\tremaining: 6m 12s\n",
      "109:\tlearn: 0.7244191\ttest: 0.7452646\tbest: 0.7456397 (107)\ttotal: 46s\tremaining: 6m 12s\n",
      "110:\tlearn: 0.7245945\ttest: 0.7455768\tbest: 0.7456397 (107)\ttotal: 46.4s\tremaining: 6m 11s\n",
      "111:\tlearn: 0.7248487\ttest: 0.7455527\tbest: 0.7456397 (107)\ttotal: 46.8s\tremaining: 6m 11s\n",
      "112:\tlearn: 0.7246860\ttest: 0.7454803\tbest: 0.7456397 (107)\ttotal: 47.2s\tremaining: 6m 10s\n",
      "113:\tlearn: 0.7253249\ttest: 0.7455464\tbest: 0.7456397 (107)\ttotal: 47.6s\tremaining: 6m 10s\n",
      "114:\tlearn: 0.7258362\ttest: 0.7451015\tbest: 0.7456397 (107)\ttotal: 48s\tremaining: 6m 9s\n",
      "115:\tlearn: 0.7257569\ttest: 0.7457477\tbest: 0.7457477 (115)\ttotal: 48.4s\tremaining: 6m 8s\n",
      "116:\tlearn: 0.7258362\ttest: 0.7458138\tbest: 0.7458138 (116)\ttotal: 48.8s\tremaining: 6m 8s\n",
      "117:\tlearn: 0.7264590\ttest: 0.7451919\tbest: 0.7458138 (116)\ttotal: 49.2s\tremaining: 6m 8s\n",
      "118:\tlearn: 0.7264432\ttest: 0.7455705\tbest: 0.7458138 (116)\ttotal: 49.7s\tremaining: 6m 7s\n",
      "119:\tlearn: 0.7262521\ttest: 0.7458828\tbest: 0.7458828 (119)\ttotal: 50.1s\tremaining: 6m 7s\n",
      "120:\tlearn: 0.7267625\ttest: 0.7457267\tbest: 0.7458828 (119)\ttotal: 50.5s\tremaining: 6m 6s\n",
      "121:\tlearn: 0.7274321\ttest: 0.7459938\tbest: 0.7459938 (121)\ttotal: 50.8s\tremaining: 6m 5s\n",
      "122:\tlearn: 0.7274481\ttest: 0.7459488\tbest: 0.7459938 (121)\ttotal: 51.2s\tremaining: 6m 5s\n",
      "123:\tlearn: 0.7273683\ttest: 0.7465250\tbest: 0.7465250 (123)\ttotal: 51.6s\tremaining: 6m 4s\n",
      "124:\tlearn: 0.7271772\ttest: 0.7461947\tbest: 0.7465250 (123)\ttotal: 52.1s\tremaining: 6m 4s\n",
      "125:\tlearn: 0.7273524\ttest: 0.7464614\tbest: 0.7465250 (123)\ttotal: 52.5s\tremaining: 6m 4s\n",
      "126:\tlearn: 0.7274798\ttest: 0.7465063\tbest: 0.7465250 (123)\ttotal: 52.9s\tremaining: 6m 3s\n",
      "127:\tlearn: 0.7277024\ttest: 0.7470838\tbest: 0.7470838 (127)\ttotal: 53.3s\tremaining: 6m 3s\n",
      "128:\tlearn: 0.7281638\ttest: 0.7474373\tbest: 0.7474373 (128)\ttotal: 53.8s\tremaining: 6m 2s\n",
      "129:\tlearn: 0.7285927\ttest: 0.7474819\tbest: 0.7474819 (129)\ttotal: 54.2s\tremaining: 6m 2s\n",
      "130:\tlearn: 0.7287201\ttest: 0.7474158\tbest: 0.7474819 (129)\ttotal: 54.6s\tremaining: 6m 1s\n",
      "131:\tlearn: 0.7288951\ttest: 0.7474819\tbest: 0.7474819 (129)\ttotal: 54.9s\tremaining: 6m 1s\n",
      "132:\tlearn: 0.7290227\ttest: 0.7477032\tbest: 0.7477032 (132)\ttotal: 55.3s\tremaining: 6m\n",
      "133:\tlearn: 0.7289278\ttest: 0.7474819\tbest: 0.7477032 (132)\ttotal: 55.7s\tremaining: 6m\n",
      "134:\tlearn: 0.7291339\ttest: 0.7474819\tbest: 0.7477032 (132)\ttotal: 56.1s\tremaining: 5m 59s\n",
      "135:\tlearn: 0.7294365\ttest: 0.7475033\tbest: 0.7477032 (132)\ttotal: 56.5s\tremaining: 5m 59s\n",
      "136:\tlearn: 0.7291977\ttest: 0.7475479\tbest: 0.7477032 (132)\ttotal: 56.9s\tremaining: 5m 58s\n",
      "137:\tlearn: 0.7295785\ttest: 0.7476817\tbest: 0.7477032 (132)\ttotal: 57.3s\tremaining: 5m 57s\n",
      "138:\tlearn: 0.7299449\ttest: 0.7477923\tbest: 0.7477923 (138)\ttotal: 57.7s\tremaining: 5m 57s\n",
      "139:\tlearn: 0.7300394\ttest: 0.7479474\tbest: 0.7479474 (139)\ttotal: 58.1s\tremaining: 5m 56s\n",
      "140:\tlearn: 0.7301504\ttest: 0.7479259\tbest: 0.7479474 (139)\ttotal: 58.5s\tremaining: 5m 56s\n",
      "141:\tlearn: 0.7306886\ttest: 0.7481913\tbest: 0.7481913 (141)\ttotal: 58.9s\tremaining: 5m 55s\n",
      "142:\tlearn: 0.7307524\ttest: 0.7483677\tbest: 0.7483677 (142)\ttotal: 59.3s\tremaining: 5m 55s\n",
      "143:\tlearn: 0.7306886\ttest: 0.7484565\tbest: 0.7484565 (143)\ttotal: 59.7s\tremaining: 5m 54s\n",
      "144:\tlearn: 0.7309574\ttest: 0.7485225\tbest: 0.7485225 (144)\ttotal: 1m\tremaining: 5m 54s\n",
      "145:\tlearn: 0.7307827\ttest: 0.7484565\tbest: 0.7485225 (144)\ttotal: 1m\tremaining: 5m 53s\n",
      "146:\tlearn: 0.7310814\ttest: 0.7480822\tbest: 0.7485225 (144)\ttotal: 1m\tremaining: 5m 52s\n",
      "147:\tlearn: 0.7313198\ttest: 0.7485452\tbest: 0.7485452 (147)\ttotal: 1m 1s\tremaining: 5m 52s\n",
      "148:\tlearn: 0.7315114\ttest: 0.7486329\tbest: 0.7486329 (148)\ttotal: 1m 1s\tremaining: 5m 51s\n",
      "149:\tlearn: 0.7311621\ttest: 0.7488754\tbest: 0.7488754 (149)\ttotal: 1m 1s\tremaining: 5m 51s\n",
      "150:\tlearn: 0.7314815\ttest: 0.7493827\tbest: 0.7493827 (150)\ttotal: 1m 2s\tremaining: 5m 50s\n",
      "151:\tlearn: 0.7322567\ttest: 0.7495372\tbest: 0.7495372 (151)\ttotal: 1m 2s\tremaining: 5m 50s\n",
      "152:\tlearn: 0.7323206\ttest: 0.7497135\tbest: 0.7497135 (152)\ttotal: 1m 3s\tremaining: 5m 49s\n",
      "153:\tlearn: 0.7323968\ttest: 0.7496032\tbest: 0.7497135 (152)\ttotal: 1m 3s\tremaining: 5m 49s\n",
      "154:\tlearn: 0.7327285\ttest: 0.7498237\tbest: 0.7498237 (154)\ttotal: 1m 3s\tremaining: 5m 48s\n",
      "155:\tlearn: 0.7329962\ttest: 0.7500220\tbest: 0.7500220 (155)\ttotal: 1m 4s\tremaining: 5m 48s\n",
      "156:\tlearn: 0.7334844\ttest: 0.7502644\tbest: 0.7502644 (156)\ttotal: 1m 4s\tremaining: 5m 47s\n",
      "157:\tlearn: 0.7337866\ttest: 0.7500220\tbest: 0.7502644 (156)\ttotal: 1m 5s\tremaining: 5m 46s\n",
      "158:\tlearn: 0.7340537\ttest: 0.7504624\tbest: 0.7504624 (158)\ttotal: 1m 5s\tremaining: 5m 46s\n",
      "159:\tlearn: 0.7334495\ttest: 0.7503742\tbest: 0.7504624 (158)\ttotal: 1m 5s\tremaining: 5m 46s\n",
      "160:\tlearn: 0.7339545\ttest: 0.7507481\tbest: 0.7507481 (160)\ttotal: 1m 6s\tremaining: 5m 45s\n",
      "161:\tlearn: 0.7341111\ttest: 0.7507042\tbest: 0.7507481 (160)\ttotal: 1m 6s\tremaining: 5m 45s\n",
      "162:\tlearn: 0.7340648\ttest: 0.7506603\tbest: 0.7507481 (160)\ttotal: 1m 7s\tremaining: 5m 44s\n",
      "163:\tlearn: 0.7343029\ttest: 0.7508364\tbest: 0.7508364 (163)\ttotal: 1m 7s\tremaining: 5m 44s\n",
      "164:\tlearn: 0.7344771\ttest: 0.7512324\tbest: 0.7512324 (164)\ttotal: 1m 7s\tremaining: 5m 43s\n",
      "165:\tlearn: 0.7347152\ttest: 0.7516944\tbest: 0.7516944 (165)\ttotal: 1m 8s\tremaining: 5m 42s\n",
      "166:\tlearn: 0.7347792\ttest: 0.7518043\tbest: 0.7518043 (166)\ttotal: 1m 8s\tremaining: 5m 42s\n",
      "167:\tlearn: 0.7348894\ttest: 0.7517606\tbest: 0.7518043 (166)\ttotal: 1m 8s\tremaining: 5m 41s\n",
      "168:\tlearn: 0.7352378\ttest: 0.7520465\tbest: 0.7520465 (168)\ttotal: 1m 9s\tremaining: 5m 41s\n",
      "169:\tlearn: 0.7350457\ttest: 0.7523759\tbest: 0.7523759 (169)\ttotal: 1m 9s\tremaining: 5m 40s\n",
      "170:\tlearn: 0.7351737\ttest: 0.7522871\tbest: 0.7523759 (169)\ttotal: 1m 10s\tremaining: 5m 39s\n",
      "171:\tlearn: 0.7351737\ttest: 0.7524631\tbest: 0.7524631 (171)\ttotal: 1m 10s\tremaining: 5m 39s\n",
      "172:\tlearn: 0.7354580\ttest: 0.7531212\tbest: 0.7531212 (172)\ttotal: 1m 10s\tremaining: 5m 38s\n",
      "173:\tlearn: 0.7356322\ttest: 0.7531646\tbest: 0.7531646 (173)\ttotal: 1m 11s\tremaining: 5m 38s\n",
      "174:\tlearn: 0.7359624\ttest: 0.7534042\tbest: 0.7534042 (174)\ttotal: 1m 11s\tremaining: 5m 37s\n",
      "175:\tlearn: 0.7361365\ttest: 0.7536232\tbest: 0.7536232 (175)\ttotal: 1m 12s\tremaining: 5m 37s\n",
      "176:\tlearn: 0.7360265\ttest: 0.7537097\tbest: 0.7537097 (176)\ttotal: 1m 12s\tremaining: 5m 36s\n",
      "177:\tlearn: 0.7366681\ttest: 0.7534475\tbest: 0.7537097 (176)\ttotal: 1m 12s\tremaining: 5m 36s\n",
      "178:\tlearn: 0.7364483\ttest: 0.7539947\tbest: 0.7539947 (178)\ttotal: 1m 13s\tremaining: 5m 35s\n",
      "179:\tlearn: 0.7369153\ttest: 0.7535341\tbest: 0.7539947 (178)\ttotal: 1m 13s\tremaining: 5m 35s\n",
      "180:\tlearn: 0.7368055\ttest: 0.7537759\tbest: 0.7539947 (178)\ttotal: 1m 14s\tremaining: 5m 35s\n",
      "181:\tlearn: 0.7371165\ttest: 0.7539285\tbest: 0.7539947 (178)\ttotal: 1m 14s\tremaining: 5m 34s\n",
      "182:\tlearn: 0.7372535\ttest: 0.7539488\tbest: 0.7539947 (178)\ttotal: 1m 14s\tremaining: 5m 34s\n",
      "183:\tlearn: 0.7372535\ttest: 0.7543860\tbest: 0.7543860 (183)\ttotal: 1m 15s\tremaining: 5m 34s\n",
      "184:\tlearn: 0.7371895\ttest: 0.7542336\tbest: 0.7543860 (183)\ttotal: 1m 15s\tremaining: 5m 33s\n",
      "185:\tlearn: 0.7371438\ttest: 0.7544753\tbest: 0.7544753 (185)\ttotal: 1m 16s\tremaining: 5m 33s\n",
      "186:\tlearn: 0.7369884\ttest: 0.7542566\tbest: 0.7544753 (185)\ttotal: 1m 16s\tremaining: 5m 32s\n",
      "187:\tlearn: 0.7379939\ttest: 0.7545183\tbest: 0.7545183 (187)\ttotal: 1m 16s\tremaining: 5m 32s\n",
      "188:\tlearn: 0.7384963\ttest: 0.7544952\tbest: 0.7545183 (187)\ttotal: 1m 17s\tremaining: 5m 31s\n",
      "189:\tlearn: 0.7388248\ttest: 0.7549553\tbest: 0.7549553 (189)\ttotal: 1m 17s\tremaining: 5m 31s\n",
      "190:\tlearn: 0.7390437\ttest: 0.7550645\tbest: 0.7550645 (190)\ttotal: 1m 18s\tremaining: 5m 31s\n",
      "191:\tlearn: 0.7392436\ttest: 0.7551503\tbest: 0.7551503 (191)\ttotal: 1m 18s\tremaining: 5m 30s\n",
      "192:\tlearn: 0.7396999\ttest: 0.7552166\tbest: 0.7552166 (192)\ttotal: 1m 19s\tremaining: 5m 30s\n",
      "193:\tlearn: 0.7399636\ttest: 0.7550842\tbest: 0.7552166 (192)\ttotal: 1m 19s\tremaining: 5m 30s\n",
      "194:\tlearn: 0.7401821\ttest: 0.7554348\tbest: 0.7554348 (194)\ttotal: 1m 19s\tremaining: 5m 29s\n",
      "195:\tlearn: 0.7403104\ttest: 0.7556763\tbest: 0.7556763 (195)\ttotal: 1m 20s\tremaining: 5m 29s\n",
      "196:\tlearn: 0.7404005\ttest: 0.7558048\tbest: 0.7558048 (196)\ttotal: 1m 20s\tremaining: 5m 28s\n",
      "197:\tlearn: 0.7409205\ttest: 0.7553024\tbest: 0.7558048 (196)\ttotal: 1m 21s\tremaining: 5m 28s\n",
      "198:\tlearn: 0.7408563\ttest: 0.7555205\tbest: 0.7558048 (196)\ttotal: 1m 21s\tremaining: 5m 27s\n",
      "199:\tlearn: 0.7409205\ttest: 0.7556958\tbest: 0.7558048 (196)\ttotal: 1m 21s\tremaining: 5m 27s\n",
      "200:\tlearn: 0.7409012\ttest: 0.7559800\tbest: 0.7559800 (200)\ttotal: 1m 22s\tremaining: 5m 26s\n",
      "201:\tlearn: 0.7407472\ttest: 0.7558476\tbest: 0.7559800 (200)\ttotal: 1m 22s\tremaining: 5m 26s\n",
      "202:\tlearn: 0.7411387\ttest: 0.7565957\tbest: 0.7565957 (202)\ttotal: 1m 23s\tremaining: 5m 25s\n",
      "203:\tlearn: 0.7414017\ttest: 0.7567046\tbest: 0.7567046 (203)\ttotal: 1m 23s\tremaining: 5m 25s\n",
      "204:\tlearn: 0.7413569\ttest: 0.7570978\tbest: 0.7570978 (204)\ttotal: 1m 23s\tremaining: 5m 25s\n",
      "205:\tlearn: 0.7414854\ttest: 0.7573156\tbest: 0.7573156 (205)\ttotal: 1m 24s\tremaining: 5m 24s\n",
      "206:\tlearn: 0.7417873\ttest: 0.7573156\tbest: 0.7573156 (205)\ttotal: 1m 24s\tremaining: 5m 24s\n",
      "207:\tlearn: 0.7418320\ttest: 0.7575758\tbest: 0.7575758 (207)\ttotal: 1m 24s\tremaining: 5m 23s\n",
      "208:\tlearn: 0.7419020\ttest: 0.7578597\tbest: 0.7578597 (208)\ttotal: 1m 25s\tremaining: 5m 23s\n",
      "209:\tlearn: 0.7420752\ttest: 0.7580109\tbest: 0.7580109 (209)\ttotal: 1m 25s\tremaining: 5m 22s\n",
      "210:\tlearn: 0.7420501\ttest: 0.7580109\tbest: 0.7580109 (209)\ttotal: 1m 26s\tremaining: 5m 22s\n",
      "211:\tlearn: 0.7422234\ttest: 0.7581196\tbest: 0.7581196 (211)\ttotal: 1m 26s\tremaining: 5m 21s\n",
      "212:\tlearn: 0.7424164\ttest: 0.7577933\tbest: 0.7581196 (211)\ttotal: 1m 26s\tremaining: 5m 21s\n",
      "213:\tlearn: 0.7426936\ttest: 0.7577509\tbest: 0.7581196 (211)\ttotal: 1m 27s\tremaining: 5m 20s\n",
      "214:\tlearn: 0.7429761\ttest: 0.7577509\tbest: 0.7581196 (211)\ttotal: 1m 27s\tremaining: 5m 20s\n",
      "215:\tlearn: 0.7428671\ttest: 0.7577509\tbest: 0.7581196 (211)\ttotal: 1m 28s\tremaining: 5m 19s\n",
      "216:\tlearn: 0.7428918\ttest: 0.7579021\tbest: 0.7581196 (211)\ttotal: 1m 28s\tremaining: 5m 19s\n",
      "217:\tlearn: 0.7430255\ttest: 0.7579445\tbest: 0.7581196 (211)\ttotal: 1m 28s\tremaining: 5m 18s\n",
      "218:\tlearn: 0.7428967\ttest: 0.7582043\tbest: 0.7582043 (218)\ttotal: 1m 29s\tremaining: 5m 18s\n",
      "219:\tlearn: 0.7429611\ttest: 0.7583370\tbest: 0.7583370 (219)\ttotal: 1m 29s\tremaining: 5m 17s\n",
      "220:\tlearn: 0.7429611\ttest: 0.7584457\tbest: 0.7584457 (220)\ttotal: 1m 30s\tremaining: 5m 17s\n",
      "221:\tlearn: 0.7434809\ttest: 0.7583370\tbest: 0.7584457 (220)\ttotal: 1m 30s\tremaining: 5m 16s\n",
      "222:\tlearn: 0.7436342\ttest: 0.7584216\tbest: 0.7584457 (220)\ttotal: 1m 30s\tremaining: 5m 16s\n",
      "223:\tlearn: 0.7436786\ttest: 0.7584638\tbest: 0.7584638 (223)\ttotal: 1m 31s\tremaining: 5m 15s\n",
      "224:\tlearn: 0.7438074\ttest: 0.7585302\tbest: 0.7585302 (224)\ttotal: 1m 31s\tremaining: 5m 15s\n",
      "225:\tlearn: 0.7438074\ttest: 0.7583129\tbest: 0.7585302 (224)\ttotal: 1m 31s\tremaining: 5m 14s\n",
      "226:\tlearn: 0.7442827\ttest: 0.7589223\tbest: 0.7589223 (226)\ttotal: 1m 32s\tremaining: 5m 14s\n",
      "227:\tlearn: 0.7444117\ttest: 0.7587715\tbest: 0.7589223 (226)\ttotal: 1m 32s\tremaining: 5m 14s\n",
      "228:\tlearn: 0.7446735\ttest: 0.7590973\tbest: 0.7590973 (228)\ttotal: 1m 33s\tremaining: 5m 13s\n",
      "229:\tlearn: 0.7445003\ttest: 0.7593985\tbest: 0.7593985 (229)\ttotal: 1m 33s\tremaining: 5m 13s\n",
      "230:\tlearn: 0.7449554\ttest: 0.7595977\tbest: 0.7595977 (230)\ttotal: 1m 34s\tremaining: 5m 13s\n",
      "231:\tlearn: 0.7448706\ttest: 0.7597062\tbest: 0.7597062 (231)\ttotal: 1m 34s\tremaining: 5m 12s\n",
      "232:\tlearn: 0.7448467\ttest: 0.7598811\tbest: 0.7598811 (232)\ttotal: 1m 34s\tremaining: 5m 12s\n",
      "233:\tlearn: 0.7449554\ttest: 0.7598811\tbest: 0.7598811 (232)\ttotal: 1m 35s\tremaining: 5m 11s\n",
      "234:\tlearn: 0.7448909\ttest: 0.7599231\tbest: 0.7599231 (234)\ttotal: 1m 35s\tremaining: 5m 11s\n",
      "235:\tlearn: 0.7448467\ttest: 0.7598146\tbest: 0.7599231 (234)\ttotal: 1m 36s\tremaining: 5m 10s\n",
      "236:\tlearn: 0.7452577\ttest: 0.7608145\tbest: 0.7608145 (236)\ttotal: 1m 36s\tremaining: 5m 10s\n",
      "237:\tlearn: 0.7451694\ttest: 0.7606397\tbest: 0.7608145 (236)\ttotal: 1m 36s\tremaining: 5m 10s\n",
      "238:\tlearn: 0.7451490\ttest: 0.7609475\tbest: 0.7609475 (238)\ttotal: 1m 37s\tremaining: 5m 9s\n",
      "239:\tlearn: 0.7453222\ttest: 0.7605560\tbest: 0.7609475 (238)\ttotal: 1m 37s\tremaining: 5m 9s\n",
      "240:\tlearn: 0.7454955\ttest: 0.7606643\tbest: 0.7609475 (238)\ttotal: 1m 38s\tremaining: 5m 9s\n",
      "241:\tlearn: 0.7452986\ttest: 0.7606643\tbest: 0.7609475 (238)\ttotal: 1m 38s\tremaining: 5m 8s\n",
      "242:\tlearn: 0.7456247\ttest: 0.7604476\tbest: 0.7609475 (238)\ttotal: 1m 38s\tremaining: 5m 8s\n",
      "243:\tlearn: 0.7460152\ttest: 0.7605141\tbest: 0.7609475 (238)\ttotal: 1m 39s\tremaining: 5m 7s\n",
      "244:\tlearn: 0.7461445\ttest: 0.7608810\tbest: 0.7609475 (238)\ttotal: 1m 39s\tremaining: 5m 7s\n",
      "245:\tlearn: 0.7463178\ttest: 0.7606643\tbest: 0.7609475 (238)\ttotal: 1m 40s\tremaining: 5m 7s\n",
      "246:\tlearn: 0.7465118\ttest: 0.7605978\tbest: 0.7609475 (238)\ttotal: 1m 40s\tremaining: 5m 7s\n",
      "247:\tlearn: 0.7465350\ttest: 0.7605978\tbest: 0.7609475 (238)\ttotal: 1m 41s\tremaining: 5m 6s\n",
      "248:\tlearn: 0.7465997\ttest: 0.7602308\tbest: 0.7609475 (238)\ttotal: 1m 41s\tremaining: 5m 6s\n",
      "249:\tlearn: 0.7465997\ttest: 0.7604895\tbest: 0.7609475 (238)\ttotal: 1m 41s\tremaining: 5m 5s\n",
      "250:\tlearn: 0.7467729\ttest: 0.7602728\tbest: 0.7609475 (238)\ttotal: 1m 42s\tremaining: 5m 5s\n",
      "251:\tlearn: 0.7467938\ttest: 0.7604476\tbest: 0.7609475 (238)\ttotal: 1m 42s\tremaining: 5m 4s\n",
      "252:\tlearn: 0.7469023\ttest: 0.7605068\tbest: 0.7609475 (238)\ttotal: 1m 43s\tremaining: 5m 4s\n",
      "253:\tlearn: 0.7473137\ttest: 0.7610975\tbest: 0.7610975 (253)\ttotal: 1m 43s\tremaining: 5m 3s\n",
      "254:\tlearn: 0.7476393\ttest: 0.7611393\tbest: 0.7611393 (254)\ttotal: 1m 43s\tremaining: 5m 3s\n",
      "255:\tlearn: 0.7477688\ttest: 0.7611393\tbest: 0.7611393 (254)\ttotal: 1m 44s\tremaining: 5m 2s\n",
      "256:\tlearn: 0.7480069\ttest: 0.7610975\tbest: 0.7611393 (254)\ttotal: 1m 44s\tremaining: 5m 2s\n",
      "257:\tlearn: 0.7480718\ttest: 0.7611640\tbest: 0.7611640 (257)\ttotal: 1m 45s\tremaining: 5m 2s\n",
      "258:\tlearn: 0.7481366\ttest: 0.7610310\tbest: 0.7611640 (257)\ttotal: 1m 45s\tremaining: 5m 1s\n",
      "259:\tlearn: 0.7479210\ttest: 0.7612644\tbest: 0.7612644 (259)\ttotal: 1m 45s\tremaining: 5m 1s\n",
      "260:\tlearn: 0.7474660\ttest: 0.7610480\tbest: 0.7612644 (259)\ttotal: 1m 46s\tremaining: 5m\n",
      "261:\tlearn: 0.7475955\ttest: 0.7610898\tbest: 0.7612644 (259)\ttotal: 1m 46s\tremaining: 5m\n",
      "262:\tlearn: 0.7476603\ttest: 0.7611979\tbest: 0.7612644 (259)\ttotal: 1m 46s\tremaining: 4m 59s\n",
      "263:\tlearn: 0.7481167\ttest: 0.7612396\tbest: 0.7612644 (259)\ttotal: 1m 47s\tremaining: 4m 59s\n",
      "264:\tlearn: 0.7481815\ttest: 0.7613894\tbest: 0.7613894 (264)\ttotal: 1m 47s\tremaining: 4m 59s\n",
      "265:\tlearn: 0.7484195\ttest: 0.7614975\tbest: 0.7614975 (265)\ttotal: 1m 48s\tremaining: 4m 58s\n",
      "266:\tlearn: 0.7484843\ttest: 0.7617136\tbest: 0.7617136 (266)\ttotal: 1m 48s\tremaining: 4m 58s\n",
      "267:\tlearn: 0.7486575\ttest: 0.7617801\tbest: 0.7617801 (267)\ttotal: 1m 49s\tremaining: 4m 57s\n",
      "268:\tlearn: 0.7486362\ttest: 0.7617801\tbest: 0.7617801 (267)\ttotal: 1m 49s\tremaining: 4m 57s\n",
      "269:\tlearn: 0.7487446\ttest: 0.7619297\tbest: 0.7619297 (269)\ttotal: 1m 49s\tremaining: 4m 56s\n",
      "270:\tlearn: 0.7489612\ttest: 0.7621457\tbest: 0.7621457 (270)\ttotal: 1m 50s\tremaining: 4m 56s\n",
      "271:\tlearn: 0.7490909\ttest: 0.7623866\tbest: 0.7623866 (271)\ttotal: 1m 50s\tremaining: 4m 55s\n",
      "272:\tlearn: 0.7491778\ttest: 0.7624945\tbest: 0.7624945 (272)\ttotal: 1m 50s\tremaining: 4m 55s\n",
      "273:\tlearn: 0.7493509\ttest: 0.7624945\tbest: 0.7624945 (272)\ttotal: 1m 51s\tremaining: 4m 54s\n",
      "274:\tlearn: 0.7494376\ttest: 0.7625196\tbest: 0.7625196 (274)\ttotal: 1m 51s\tremaining: 4m 54s\n",
      "275:\tlearn: 0.7500216\ttest: 0.7623616\tbest: 0.7625196 (274)\ttotal: 1m 52s\tremaining: 4m 54s\n",
      "276:\tlearn: 0.7503028\ttest: 0.7624280\tbest: 0.7625196 (274)\ttotal: 1m 52s\tremaining: 4m 53s\n",
      "277:\tlearn: 0.7506920\ttest: 0.7628596\tbest: 0.7628596 (277)\ttotal: 1m 53s\tremaining: 4m 53s\n",
      "278:\tlearn: 0.7504759\ttest: 0.7630753\tbest: 0.7630753 (278)\ttotal: 1m 53s\tremaining: 4m 53s\n",
      "279:\tlearn: 0.7504759\ttest: 0.7631831\tbest: 0.7631831 (279)\ttotal: 1m 53s\tremaining: 4m 52s\n",
      "280:\tlearn: 0.7505408\ttest: 0.7630753\tbest: 0.7631831 (279)\ttotal: 1m 54s\tremaining: 4m 52s\n",
      "281:\tlearn: 0.7505190\ttest: 0.7631418\tbest: 0.7631831 (279)\ttotal: 1m 54s\tremaining: 4m 51s\n",
      "282:\tlearn: 0.7506920\ttest: 0.7630088\tbest: 0.7631831 (279)\ttotal: 1m 55s\tremaining: 4m 51s\n",
      "283:\tlearn: 0.7508651\ttest: 0.7629010\tbest: 0.7631831 (279)\ttotal: 1m 55s\tremaining: 4m 50s\n",
      "284:\tlearn: 0.7509512\ttest: 0.7630340\tbest: 0.7631831 (279)\ttotal: 1m 55s\tremaining: 4m 50s\n",
      "285:\tlearn: 0.7514271\ttest: 0.7631258\tbest: 0.7631831 (279)\ttotal: 1m 56s\tremaining: 4m 50s\n",
      "286:\tlearn: 0.7514491\ttest: 0.7632336\tbest: 0.7632336 (286)\ttotal: 1m 56s\tremaining: 4m 49s\n",
      "287:\tlearn: 0.7519031\ttest: 0.7631418\tbest: 0.7632336 (286)\ttotal: 1m 56s\tremaining: 4m 49s\n",
      "288:\tlearn: 0.7521841\ttest: 0.7631418\tbest: 0.7632336 (286)\ttotal: 1m 57s\tremaining: 4m 48s\n",
      "289:\tlearn: 0.7528760\ttest: 0.7632497\tbest: 0.7632497 (289)\ttotal: 1m 57s\tremaining: 4m 48s\n",
      "290:\tlearn: 0.7528964\ttest: 0.7635730\tbest: 0.7635730 (290)\ttotal: 1m 58s\tremaining: 4m 47s\n",
      "291:\tlearn: 0.7530918\ttest: 0.7636807\tbest: 0.7636807 (291)\ttotal: 1m 58s\tremaining: 4m 47s\n",
      "292:\tlearn: 0.7535455\ttest: 0.7640038\tbest: 0.7640038 (292)\ttotal: 1m 58s\tremaining: 4m 47s\n",
      "293:\tlearn: 0.7538262\ttest: 0.7641115\tbest: 0.7641115 (293)\ttotal: 1m 59s\tremaining: 4m 46s\n",
      "294:\tlearn: 0.7541522\ttest: 0.7639373\tbest: 0.7641115 (293)\ttotal: 1m 59s\tremaining: 4m 46s\n",
      "295:\tlearn: 0.7541296\ttest: 0.7639373\tbest: 0.7641115 (293)\ttotal: 2m\tremaining: 4m 45s\n",
      "296:\tlearn: 0.7541296\ttest: 0.7641115\tbest: 0.7641115 (293)\ttotal: 2m\tremaining: 4m 45s\n",
      "297:\tlearn: 0.7546909\ttest: 0.7641781\tbest: 0.7641781 (297)\ttotal: 2m\tremaining: 4m 45s\n",
      "298:\tlearn: 0.7550138\ttest: 0.7642602\tbest: 0.7642602 (298)\ttotal: 2m 1s\tremaining: 4m 44s\n",
      "299:\tlearn: 0.7552290\ttest: 0.7643678\tbest: 0.7643678 (299)\ttotal: 2m 1s\tremaining: 4m 44s\n",
      "300:\tlearn: 0.7551214\ttest: 0.7641937\tbest: 0.7643678 (299)\ttotal: 2m 2s\tremaining: 4m 43s\n",
      "301:\tlearn: 0.7549486\ttest: 0.7642347\tbest: 0.7643678 (299)\ttotal: 2m 2s\tremaining: 4m 43s\n",
      "302:\tlearn: 0.7547333\ttest: 0.7641017\tbest: 0.7643678 (299)\ttotal: 2m 3s\tremaining: 4m 43s\n",
      "303:\tlearn: 0.7549715\ttest: 0.7646649\tbest: 0.7646649 (303)\ttotal: 2m 3s\tremaining: 4m 42s\n",
      "304:\tlearn: 0.7555095\ttest: 0.7648390\tbest: 0.7648390 (304)\ttotal: 2m 3s\tremaining: 4m 42s\n",
      "305:\tlearn: 0.7554019\ttest: 0.7647315\tbest: 0.7648390 (304)\ttotal: 2m 4s\tremaining: 4m 41s\n",
      "306:\tlearn: 0.7555940\ttest: 0.7647315\tbest: 0.7648390 (304)\ttotal: 2m 4s\tremaining: 4m 41s\n",
      "307:\tlearn: 0.7558320\ttest: 0.7648390\tbest: 0.7648390 (304)\ttotal: 2m 5s\tremaining: 4m 40s\n",
      "308:\tlearn: 0.7560048\ttest: 0.7649465\tbest: 0.7649465 (308)\ttotal: 2m 5s\tremaining: 4m 40s\n",
      "309:\tlearn: 0.7562198\ttest: 0.7650131\tbest: 0.7650131 (309)\ttotal: 2m 5s\tremaining: 4m 40s\n",
      "310:\tlearn: 0.7562430\ttest: 0.7651462\tbest: 0.7651462 (310)\ttotal: 2m 6s\tremaining: 4m 39s\n",
      "311:\tlearn: 0.7566353\ttest: 0.7648903\tbest: 0.7651462 (310)\ttotal: 2m 6s\tremaining: 4m 39s\n",
      "312:\tlearn: 0.7567427\ttest: 0.7649978\tbest: 0.7651462 (310)\ttotal: 2m 7s\tremaining: 4m 39s\n",
      "313:\tlearn: 0.7566353\ttest: 0.7652128\tbest: 0.7652128 (313)\ttotal: 2m 7s\tremaining: 4m 38s\n",
      "314:\tlearn: 0.7567007\ttest: 0.7650796\tbest: 0.7652128 (313)\ttotal: 2m 8s\tremaining: 4m 38s\n",
      "315:\tlearn: 0.7567427\ttest: 0.7653203\tbest: 0.7653203 (315)\ttotal: 2m 8s\tremaining: 4m 38s\n",
      "316:\tlearn: 0.7567427\ttest: 0.7653612\tbest: 0.7653612 (316)\ttotal: 2m 8s\tremaining: 4m 37s\n",
      "317:\tlearn: 0.7569156\ttest: 0.7651720\tbest: 0.7653612 (316)\ttotal: 2m 9s\tremaining: 4m 37s\n",
      "318:\tlearn: 0.7568688\ttest: 0.7653203\tbest: 0.7653612 (316)\ttotal: 2m 9s\tremaining: 4m 36s\n",
      "319:\tlearn: 0.7568268\ttest: 0.7654278\tbest: 0.7654278 (319)\ttotal: 2m 10s\tremaining: 4m 36s\n",
      "320:\tlearn: 0.7570836\ttest: 0.7658167\tbest: 0.7658167 (320)\ttotal: 2m 10s\tremaining: 4m 35s\n",
      "321:\tlearn: 0.7573637\ttest: 0.7659241\tbest: 0.7659241 (321)\ttotal: 2m 10s\tremaining: 4m 35s\n",
      "322:\tlearn: 0.7576857\ttest: 0.7659241\tbest: 0.7659241 (321)\ttotal: 2m 11s\tremaining: 4m 35s\n",
      "323:\tlearn: 0.7583348\ttest: 0.7658834\tbest: 0.7659241 (321)\ttotal: 2m 11s\tremaining: 4m 34s\n",
      "324:\tlearn: 0.7584241\ttest: 0.7658834\tbest: 0.7659241 (321)\ttotal: 2m 12s\tremaining: 4m 34s\n",
      "325:\tlearn: 0.7585134\ttest: 0.7659093\tbest: 0.7659241 (321)\ttotal: 2m 12s\tremaining: 4m 34s\n",
      "326:\tlearn: 0.7588591\ttest: 0.7658167\tbest: 0.7659241 (321)\ttotal: 2m 12s\tremaining: 4m 33s\n",
      "327:\tlearn: 0.7585790\ttest: 0.7659500\tbest: 0.7659500 (327)\ttotal: 2m 13s\tremaining: 4m 33s\n",
      "328:\tlearn: 0.7589664\ttest: 0.7659908\tbest: 0.7659908 (328)\ttotal: 2m 13s\tremaining: 4m 32s\n",
      "329:\tlearn: 0.7590080\ttest: 0.7662722\tbest: 0.7662722 (329)\ttotal: 2m 14s\tremaining: 4m 32s\n",
      "330:\tlearn: 0.7593777\ttest: 0.7665129\tbest: 0.7665129 (330)\ttotal: 2m 14s\tremaining: 4m 31s\n",
      "331:\tlearn: 0.7592048\ttest: 0.7664869\tbest: 0.7665129 (330)\ttotal: 2m 14s\tremaining: 4m 31s\n",
      "332:\tlearn: 0.7592705\ttest: 0.7665129\tbest: 0.7665129 (330)\ttotal: 2m 15s\tremaining: 4m 31s\n",
      "333:\tlearn: 0.7591809\ttest: 0.7664202\tbest: 0.7665129 (330)\ttotal: 2m 15s\tremaining: 4m 30s\n",
      "334:\tlearn: 0.7596819\ttest: 0.7668087\tbest: 0.7668087 (334)\ttotal: 2m 16s\tremaining: 4m 30s\n",
      "335:\tlearn: 0.7601348\ttest: 0.7667682\tbest: 0.7668087 (334)\ttotal: 2m 16s\tremaining: 4m 29s\n",
      "336:\tlearn: 0.7601106\ttest: 0.7667943\tbest: 0.7668087 (334)\ttotal: 2m 16s\tremaining: 4m 29s\n",
      "337:\tlearn: 0.7600035\ttest: 0.7667943\tbest: 0.7668087 (334)\ttotal: 2m 17s\tremaining: 4m 28s\n",
      "338:\tlearn: 0.7604149\ttest: 0.7668610\tbest: 0.7668610 (338)\ttotal: 2m 17s\tremaining: 4m 28s\n",
      "339:\tlearn: 0.7605220\ttest: 0.7667943\tbest: 0.7668610 (338)\ttotal: 2m 18s\tremaining: 4m 27s\n",
      "340:\tlearn: 0.7606705\ttest: 0.7670351\tbest: 0.7670351 (340)\ttotal: 2m 18s\tremaining: 4m 27s\n",
      "341:\tlearn: 0.7606048\ttest: 0.7672901\tbest: 0.7672901 (341)\ttotal: 2m 18s\tremaining: 4m 27s\n",
      "342:\tlearn: 0.7607775\ttest: 0.7673711\tbest: 0.7673711 (342)\ttotal: 2m 19s\tremaining: 4m 27s\n",
      "343:\tlearn: 0.7608846\ttest: 0.7674783\tbest: 0.7674783 (343)\ttotal: 2m 19s\tremaining: 4m 26s\n",
      "344:\tlearn: 0.7608846\ttest: 0.7673711\tbest: 0.7674783 (343)\ttotal: 2m 20s\tremaining: 4m 26s\n",
      "345:\tlearn: 0.7615345\ttest: 0.7673711\tbest: 0.7674783 (343)\ttotal: 2m 20s\tremaining: 4m 25s\n",
      "346:\tlearn: 0.7616661\ttest: 0.7674783\tbest: 0.7674783 (343)\ttotal: 2m 21s\tremaining: 4m 25s\n",
      "347:\tlearn: 0.7618389\ttest: 0.7675713\tbest: 0.7675713 (347)\ttotal: 2m 21s\tremaining: 4m 25s\n",
      "348:\tlearn: 0.7620365\ttest: 0.7672234\tbest: 0.7675713 (347)\ttotal: 2m 21s\tremaining: 4m 24s\n",
      "349:\tlearn: 0.7619212\ttest: 0.7673448\tbest: 0.7675713 (347)\ttotal: 2m 22s\tremaining: 4m 24s\n",
      "350:\tlearn: 0.7622505\ttest: 0.7671304\tbest: 0.7675713 (347)\ttotal: 2m 22s\tremaining: 4m 24s\n",
      "351:\tlearn: 0.7622505\ttest: 0.7674520\tbest: 0.7675713 (347)\ttotal: 2m 23s\tremaining: 4m 23s\n",
      "352:\tlearn: 0.7619212\ttest: 0.7675328\tbest: 0.7675713 (347)\ttotal: 2m 23s\tremaining: 4m 23s\n",
      "353:\tlearn: 0.7619459\ttest: 0.7677066\tbest: 0.7677066 (353)\ttotal: 2m 24s\tremaining: 4m 23s\n",
      "354:\tlearn: 0.7621598\ttest: 0.7676662\tbest: 0.7677066 (353)\ttotal: 2m 24s\tremaining: 4m 22s\n",
      "355:\tlearn: 0.7624395\ttest: 0.7681210\tbest: 0.7681210 (355)\ttotal: 2m 25s\tremaining: 4m 22s\n",
      "356:\tlearn: 0.7623326\ttest: 0.7683351\tbest: 0.7683351 (356)\ttotal: 2m 25s\tremaining: 4m 22s\n",
      "357:\tlearn: 0.7622668\ttest: 0.7682683\tbest: 0.7683351 (356)\ttotal: 2m 25s\tremaining: 4m 21s\n",
      "358:\tlearn: 0.7624644\ttest: 0.7683753\tbest: 0.7683753 (358)\ttotal: 2m 26s\tremaining: 4m 21s\n",
      "359:\tlearn: 0.7627441\ttest: 0.7684823\tbest: 0.7684823 (359)\ttotal: 2m 26s\tremaining: 4m 20s\n",
      "360:\tlearn: 0.7632216\ttest: 0.7683488\tbest: 0.7684823 (359)\ttotal: 2m 26s\tremaining: 4m 20s\n",
      "361:\tlearn: 0.7633535\ttest: 0.7684156\tbest: 0.7684823 (359)\ttotal: 2m 27s\tremaining: 4m 19s\n",
      "362:\tlearn: 0.7634855\ttest: 0.7683351\tbest: 0.7684823 (359)\ttotal: 2m 27s\tremaining: 4m 19s\n",
      "363:\tlearn: 0.7632717\ttest: 0.7682683\tbest: 0.7684823 (359)\ttotal: 2m 28s\tremaining: 4m 19s\n",
      "364:\tlearn: 0.7635515\ttest: 0.7683086\tbest: 0.7684823 (359)\ttotal: 2m 28s\tremaining: 4m 18s\n",
      "365:\tlearn: 0.7636835\ttest: 0.7684558\tbest: 0.7684823 (359)\ttotal: 2m 28s\tremaining: 4m 18s\n",
      "366:\tlearn: 0.7637496\ttest: 0.7684156\tbest: 0.7684823 (359)\ttotal: 2m 29s\tremaining: 4m 17s\n",
      "367:\tlearn: 0.7637904\ttest: 0.7684558\tbest: 0.7684823 (359)\ttotal: 2m 29s\tremaining: 4m 17s\n",
      "368:\tlearn: 0.7637748\ttest: 0.7683223\tbest: 0.7684823 (359)\ttotal: 2m 30s\tremaining: 4m 16s\n",
      "369:\tlearn: 0.7643345\ttest: 0.7684558\tbest: 0.7684823 (359)\ttotal: 2m 30s\tremaining: 4m 16s\n",
      "370:\tlearn: 0.7642023\ttest: 0.7688835\tbest: 0.7688835 (370)\ttotal: 2m 31s\tremaining: 4m 16s\n",
      "371:\tlearn: 0.7642431\ttest: 0.7688835\tbest: 0.7688835 (370)\ttotal: 2m 31s\tremaining: 4m 15s\n",
      "372:\tlearn: 0.7647110\ttest: 0.7689236\tbest: 0.7689236 (372)\ttotal: 2m 31s\tremaining: 4m 15s\n",
      "373:\tlearn: 0.7646449\ttest: 0.7688970\tbest: 0.7689236 (372)\ttotal: 2m 32s\tremaining: 4m 14s\n",
      "374:\tlearn: 0.7648838\ttest: 0.7688569\tbest: 0.7689236 (372)\ttotal: 2m 32s\tremaining: 4m 14s\n",
      "375:\tlearn: 0.7651482\ttest: 0.7689502\tbest: 0.7689502 (375)\ttotal: 2m 33s\tremaining: 4m 14s\n",
      "376:\tlearn: 0.7654278\ttest: 0.7687364\tbest: 0.7689502 (375)\ttotal: 2m 33s\tremaining: 4m 13s\n",
      "377:\tlearn: 0.7655602\ttest: 0.7687364\tbest: 0.7689502 (375)\ttotal: 2m 33s\tremaining: 4m 13s\n",
      "378:\tlearn: 0.7657074\ttest: 0.7687364\tbest: 0.7689502 (375)\ttotal: 2m 34s\tremaining: 4m 12s\n",
      "379:\tlearn: 0.7656007\ttest: 0.7687364\tbest: 0.7689502 (375)\ttotal: 2m 34s\tremaining: 4m 12s\n",
      "380:\tlearn: 0.7656669\ttest: 0.7687364\tbest: 0.7689502 (375)\ttotal: 2m 35s\tremaining: 4m 12s\n",
      "381:\tlearn: 0.7657993\ttest: 0.7687364\tbest: 0.7689502 (375)\ttotal: 2m 35s\tremaining: 4m 11s\n",
      "382:\tlearn: 0.7660384\ttest: 0.7689769\tbest: 0.7689769 (382)\ttotal: 2m 36s\tremaining: 4m 11s\n",
      "383:\tlearn: 0.7661046\ttest: 0.7691239\tbest: 0.7691239 (383)\ttotal: 2m 36s\tremaining: 4m 10s\n",
      "384:\tlearn: 0.7661046\ttest: 0.7689502\tbest: 0.7691239 (383)\ttotal: 2m 36s\tremaining: 4m 10s\n",
      "385:\tlearn: 0.7664101\ttest: 0.7691239\tbest: 0.7691239 (383)\ttotal: 2m 37s\tremaining: 4m 10s\n",
      "386:\tlearn: 0.7663697\ttest: 0.7693777\tbest: 0.7693777 (386)\ttotal: 2m 37s\tremaining: 4m 9s\n",
      "387:\tlearn: 0.7666234\ttest: 0.7696312\tbest: 0.7696312 (387)\ttotal: 2m 38s\tremaining: 4m 9s\n",
      "388:\tlearn: 0.7668770\ttest: 0.7699783\tbest: 0.7699783 (388)\ttotal: 2m 38s\tremaining: 4m 8s\n",
      "389:\tlearn: 0.7668770\ttest: 0.7699115\tbest: 0.7699783 (388)\ttotal: 2m 38s\tremaining: 4m 8s\n",
      "390:\tlearn: 0.7665312\ttest: 0.7698048\tbest: 0.7699783 (388)\ttotal: 2m 39s\tremaining: 4m 8s\n",
      "391:\tlearn: 0.7665054\ttest: 0.7699783\tbest: 0.7699783 (388)\ttotal: 2m 39s\tremaining: 4m 7s\n",
      "392:\tlearn: 0.7668107\ttest: 0.7701917\tbest: 0.7701917 (392)\ttotal: 2m 40s\tremaining: 4m 7s\n",
      "393:\tlearn: 0.7671304\ttest: 0.7702316\tbest: 0.7702316 (393)\ttotal: 2m 40s\tremaining: 4m 6s\n",
      "394:\tlearn: 0.7673434\ttest: 0.7702585\tbest: 0.7702585 (394)\ttotal: 2m 40s\tremaining: 4m 6s\n",
      "395:\tlearn: 0.7667588\ttest: 0.7703922\tbest: 0.7703922 (395)\ttotal: 2m 41s\tremaining: 4m 6s\n",
      "396:\tlearn: 0.7668251\ttest: 0.7704989\tbest: 0.7704989 (396)\ttotal: 2m 41s\tremaining: 4m 5s\n",
      "397:\tlearn: 0.7668251\ttest: 0.7706056\tbest: 0.7706056 (397)\ttotal: 2m 42s\tremaining: 4m 5s\n",
      "398:\tlearn: 0.7668251\ttest: 0.7706454\tbest: 0.7706454 (398)\ttotal: 2m 42s\tremaining: 4m 4s\n",
      "399:\tlearn: 0.7671044\ttest: 0.7707520\tbest: 0.7707520 (399)\ttotal: 2m 42s\tremaining: 4m 4s\n",
      "400:\tlearn: 0.7676227\ttest: 0.7714583\tbest: 0.7714583 (400)\ttotal: 2m 43s\tremaining: 4m 4s\n",
      "401:\tlearn: 0.7677291\ttest: 0.7715921\tbest: 0.7715921 (401)\ttotal: 2m 43s\tremaining: 4m 3s\n",
      "402:\tlearn: 0.7677152\ttest: 0.7715921\tbest: 0.7715921 (401)\ttotal: 2m 44s\tremaining: 4m 3s\n",
      "403:\tlearn: 0.7674620\ttest: 0.7714583\tbest: 0.7715921 (401)\ttotal: 2m 44s\tremaining: 4m 2s\n",
      "404:\tlearn: 0.7678479\ttest: 0.7716590\tbest: 0.7716590 (404)\ttotal: 2m 45s\tremaining: 4m 2s\n",
      "405:\tlearn: 0.7679945\ttest: 0.7715252\tbest: 0.7716590 (404)\ttotal: 2m 45s\tremaining: 4m 2s\n",
      "406:\tlearn: 0.7684465\ttest: 0.7714187\tbest: 0.7716590 (404)\ttotal: 2m 45s\tremaining: 4m 1s\n",
      "407:\tlearn: 0.7685529\ttest: 0.7713518\tbest: 0.7716590 (404)\ttotal: 2m 46s\tremaining: 4m 1s\n",
      "408:\tlearn: 0.7685529\ttest: 0.7713518\tbest: 0.7716590 (404)\ttotal: 2m 46s\tremaining: 4m\n",
      "409:\tlearn: 0.7684729\ttest: 0.7712849\tbest: 0.7716590 (404)\ttotal: 2m 47s\tremaining: 4m\n",
      "410:\tlearn: 0.7685793\ttest: 0.7713914\tbest: 0.7716590 (404)\ttotal: 2m 47s\tremaining: 3m 59s\n",
      "411:\tlearn: 0.7690048\ttest: 0.7714979\tbest: 0.7716590 (404)\ttotal: 2m 47s\tremaining: 3m 59s\n",
      "412:\tlearn: 0.7695896\ttest: 0.7718447\tbest: 0.7718447 (412)\ttotal: 2m 48s\tremaining: 3m 59s\n",
      "413:\tlearn: 0.7697624\ttest: 0.7719511\tbest: 0.7719511 (413)\ttotal: 2m 48s\tremaining: 3m 58s\n",
      "414:\tlearn: 0.7701080\ttest: 0.7721245\tbest: 0.7721245 (414)\ttotal: 2m 49s\tremaining: 3m 58s\n",
      "415:\tlearn: 0.7704267\ttest: 0.7723373\tbest: 0.7723373 (415)\ttotal: 2m 49s\tremaining: 3m 58s\n",
      "416:\tlearn: 0.7704932\ttest: 0.7725106\tbest: 0.7725106 (416)\ttotal: 2m 50s\tremaining: 3m 57s\n",
      "417:\tlearn: 0.7707056\ttest: 0.7727233\tbest: 0.7727233 (417)\ttotal: 2m 50s\tremaining: 3m 57s\n",
      "418:\tlearn: 0.7706390\ttest: 0.7726839\tbest: 0.7727233 (417)\ttotal: 2m 51s\tremaining: 3m 57s\n",
      "419:\tlearn: 0.7705725\ttest: 0.7725776\tbest: 0.7727233 (417)\ttotal: 2m 51s\tremaining: 3m 56s\n",
      "420:\tlearn: 0.7703729\ttest: 0.7727627\tbest: 0.7727627 (420)\ttotal: 2m 51s\tremaining: 3m 56s\n",
      "421:\tlearn: 0.7705456\ttest: 0.7726288\tbest: 0.7727627 (420)\ttotal: 2m 52s\tremaining: 3m 56s\n",
      "422:\tlearn: 0.7706517\ttest: 0.7725894\tbest: 0.7727627 (420)\ttotal: 2m 52s\tremaining: 3m 55s\n",
      "423:\tlearn: 0.7707182\ttest: 0.7727233\tbest: 0.7727627 (420)\ttotal: 2m 53s\tremaining: 3m 55s\n",
      "424:\tlearn: 0.7708513\ttest: 0.7728297\tbest: 0.7728297 (424)\ttotal: 2m 53s\tremaining: 3m 55s\n",
      "425:\tlearn: 0.7708117\ttest: 0.7728297\tbest: 0.7728297 (424)\ttotal: 2m 54s\tremaining: 3m 54s\n",
      "426:\tlearn: 0.7712904\ttest: 0.7727233\tbest: 0.7728297 (424)\ttotal: 2m 54s\tremaining: 3m 54s\n",
      "427:\tlearn: 0.7713299\ttest: 0.7728297\tbest: 0.7728297 (424)\ttotal: 2m 55s\tremaining: 3m 53s\n",
      "428:\tlearn: 0.7712904\ttest: 0.7727233\tbest: 0.7728297 (424)\ttotal: 2m 55s\tremaining: 3m 53s\n",
      "429:\tlearn: 0.7711176\ttest: 0.7726839\tbest: 0.7728297 (424)\ttotal: 2m 55s\tremaining: 3m 53s\n",
      "430:\tlearn: 0.7714631\ttest: 0.7728573\tbest: 0.7728573 (430)\ttotal: 2m 56s\tremaining: 3m 52s\n",
      "431:\tlearn: 0.7715692\ttest: 0.7726445\tbest: 0.7728573 (430)\ttotal: 2m 56s\tremaining: 3m 52s\n",
      "432:\tlearn: 0.7716753\ttest: 0.7725381\tbest: 0.7728573 (430)\ttotal: 2m 57s\tremaining: 3m 51s\n",
      "433:\tlearn: 0.7716753\ttest: 0.7725776\tbest: 0.7728573 (430)\ttotal: 2m 57s\tremaining: 3m 51s\n",
      "434:\tlearn: 0.7717025\ttest: 0.7728573\tbest: 0.7728573 (430)\ttotal: 2m 57s\tremaining: 3m 50s\n",
      "435:\tlearn: 0.7719025\ttest: 0.7728179\tbest: 0.7728573 (430)\ttotal: 2m 58s\tremaining: 3m 50s\n",
      "436:\tlearn: 0.7719025\ttest: 0.7728849\tbest: 0.7728849 (436)\ttotal: 2m 58s\tremaining: 3m 50s\n",
      "437:\tlearn: 0.7722481\ttest: 0.7733102\tbest: 0.7733102 (437)\ttotal: 2m 59s\tremaining: 3m 49s\n",
      "438:\tlearn: 0.7722481\ttest: 0.7728573\tbest: 0.7733102 (437)\ttotal: 2m 59s\tremaining: 3m 49s\n",
      "439:\tlearn: 0.7724877\ttest: 0.7729243\tbest: 0.7733102 (437)\ttotal: 2m 59s\tremaining: 3m 48s\n",
      "440:\tlearn: 0.7727155\ttest: 0.7728179\tbest: 0.7733102 (437)\ttotal: 3m\tremaining: 3m 48s\n",
      "441:\tlearn: 0.7727548\ttest: 0.7726445\tbest: 0.7733102 (437)\ttotal: 3m\tremaining: 3m 48s\n",
      "442:\tlearn: 0.7729118\ttest: 0.7726445\tbest: 0.7733102 (437)\ttotal: 3m 1s\tremaining: 3m 47s\n",
      "443:\tlearn: 0.7731513\ttest: 0.7727509\tbest: 0.7733102 (437)\ttotal: 3m 1s\tremaining: 3m 47s\n",
      "444:\tlearn: 0.7731513\ttest: 0.7726839\tbest: 0.7733102 (437)\ttotal: 3m 1s\tremaining: 3m 46s\n",
      "445:\tlearn: 0.7735360\ttest: 0.7730029\tbest: 0.7733102 (437)\ttotal: 3m 2s\tremaining: 3m 46s\n",
      "446:\tlearn: 0.7735360\ttest: 0.7728966\tbest: 0.7733102 (437)\ttotal: 3m 2s\tremaining: 3m 46s\n",
      "447:\tlearn: 0.7737088\ttest: 0.7730699\tbest: 0.7733102 (437)\ttotal: 3m 3s\tremaining: 3m 45s\n",
      "448:\tlearn: 0.7736419\ttest: 0.7731762\tbest: 0.7733102 (437)\ttotal: 3m 3s\tremaining: 3m 45s\n",
      "449:\tlearn: 0.7737365\ttest: 0.7731762\tbest: 0.7733102 (437)\ttotal: 3m 4s\tremaining: 3m 45s\n",
      "450:\tlearn: 0.7737365\ttest: 0.7735343\tbest: 0.7735343 (450)\ttotal: 3m 4s\tremaining: 3m 44s\n",
      "451:\tlearn: 0.7736697\ttest: 0.7736405\tbest: 0.7736405 (451)\ttotal: 3m 4s\tremaining: 3m 44s\n",
      "452:\tlearn: 0.7736697\ttest: 0.7737858\tbest: 0.7737858 (452)\ttotal: 3m 5s\tremaining: 3m 43s\n",
      "453:\tlearn: 0.7737756\ttest: 0.7738920\tbest: 0.7738920 (453)\ttotal: 3m 5s\tremaining: 3m 43s\n",
      "454:\tlearn: 0.7739093\ttest: 0.7738528\tbest: 0.7738920 (453)\ttotal: 3m 6s\tremaining: 3m 42s\n",
      "455:\tlearn: 0.7739093\ttest: 0.7739198\tbest: 0.7739198 (455)\ttotal: 3m 6s\tremaining: 3m 42s\n",
      "456:\tlearn: 0.7741099\ttest: 0.7739198\tbest: 0.7739198 (455)\ttotal: 3m 6s\tremaining: 3m 42s\n",
      "457:\tlearn: 0.7741099\ttest: 0.7737858\tbest: 0.7739198 (455)\ttotal: 3m 7s\tremaining: 3m 41s\n",
      "458:\tlearn: 0.7739762\ttest: 0.7735065\tbest: 0.7739198 (455)\ttotal: 3m 7s\tremaining: 3m 41s\n",
      "459:\tlearn: 0.7743887\ttest: 0.7734673\tbest: 0.7739198 (455)\ttotal: 3m 8s\tremaining: 3m 40s\n",
      "460:\tlearn: 0.7745335\ttest: 0.7733610\tbest: 0.7739198 (455)\ttotal: 3m 8s\tremaining: 3m 40s\n",
      "461:\tlearn: 0.7744666\ttest: 0.7734673\tbest: 0.7739198 (455)\ttotal: 3m 8s\tremaining: 3m 40s\n",
      "462:\tlearn: 0.7746114\ttest: 0.7732548\tbest: 0.7739198 (455)\ttotal: 3m 9s\tremaining: 3m 39s\n",
      "463:\tlearn: 0.7748510\ttest: 0.7732548\tbest: 0.7739198 (455)\ttotal: 3m 9s\tremaining: 3m 39s\n",
      "464:\tlearn: 0.7746783\ttest: 0.7736012\tbest: 0.7739198 (455)\ttotal: 3m 10s\tremaining: 3m 38s\n",
      "465:\tlearn: 0.7745725\ttest: 0.7738415\tbest: 0.7739198 (455)\ttotal: 3m 10s\tremaining: 3m 38s\n",
      "466:\tlearn: 0.7748510\ttest: 0.7737075\tbest: 0.7739198 (455)\ttotal: 3m 10s\tremaining: 3m 37s\n",
      "467:\tlearn: 0.7749568\ttest: 0.7736405\tbest: 0.7739198 (455)\ttotal: 3m 11s\tremaining: 3m 37s\n",
      "468:\tlearn: 0.7750237\ttest: 0.7737075\tbest: 0.7739198 (455)\ttotal: 3m 11s\tremaining: 3m 37s\n",
      "469:\tlearn: 0.7753692\ttest: 0.7738023\tbest: 0.7739198 (455)\ttotal: 3m 12s\tremaining: 3m 36s\n",
      "470:\tlearn: 0.7752634\ttest: 0.7738415\tbest: 0.7739198 (455)\ttotal: 3m 12s\tremaining: 3m 36s\n",
      "471:\tlearn: 0.7754644\ttest: 0.7740147\tbest: 0.7740147 (471)\ttotal: 3m 13s\tremaining: 3m 36s\n",
      "472:\tlearn: 0.7752527\ttest: 0.7739477\tbest: 0.7740147 (471)\ttotal: 3m 13s\tremaining: 3m 35s\n",
      "473:\tlearn: 0.7755314\ttest: 0.7740818\tbest: 0.7740818 (473)\ttotal: 3m 14s\tremaining: 3m 35s\n",
      "474:\tlearn: 0.7755984\ttest: 0.7740147\tbest: 0.7740818 (473)\ttotal: 3m 14s\tremaining: 3m 34s\n",
      "475:\tlearn: 0.7757429\ttest: 0.7740818\tbest: 0.7740818 (473)\ttotal: 3m 14s\tremaining: 3m 34s\n",
      "476:\tlearn: 0.7758099\ttest: 0.7740818\tbest: 0.7740818 (473)\ttotal: 3m 15s\tremaining: 3m 34s\n",
      "477:\tlearn: 0.7759157\ttest: 0.7742941\tbest: 0.7742941 (477)\ttotal: 3m 15s\tremaining: 3m 33s\n",
      "478:\tlearn: 0.7754256\ttest: 0.7741880\tbest: 0.7742941 (477)\ttotal: 3m 16s\tremaining: 3m 33s\n",
      "479:\tlearn: 0.7758099\ttest: 0.7742550\tbest: 0.7742941 (477)\ttotal: 3m 16s\tremaining: 3m 33s\n",
      "480:\tlearn: 0.7759544\ttest: 0.7743612\tbest: 0.7743612 (480)\ttotal: 3m 17s\tremaining: 3m 32s\n",
      "481:\tlearn: 0.7761271\ttest: 0.7744283\tbest: 0.7744283 (481)\ttotal: 3m 17s\tremaining: 3m 32s\n",
      "482:\tlearn: 0.7760601\ttest: 0.7742550\tbest: 0.7744283 (481)\ttotal: 3m 18s\tremaining: 3m 31s\n",
      "483:\tlearn: 0.7760885\ttest: 0.7744954\tbest: 0.7744954 (483)\ttotal: 3m 18s\tremaining: 3m 31s\n",
      "484:\tlearn: 0.7760498\ttest: 0.7744283\tbest: 0.7744954 (483)\ttotal: 3m 18s\tremaining: 3m 31s\n",
      "485:\tlearn: 0.7760498\ttest: 0.7742550\tbest: 0.7744954 (483)\ttotal: 3m 19s\tremaining: 3m 30s\n",
      "486:\tlearn: 0.7760498\ttest: 0.7741880\tbest: 0.7744954 (483)\ttotal: 3m 19s\tremaining: 3m 30s\n",
      "487:\tlearn: 0.7763567\ttest: 0.7743221\tbest: 0.7744954 (483)\ttotal: 3m 20s\tremaining: 3m 30s\n",
      "488:\tlearn: 0.7763181\ttest: 0.7741880\tbest: 0.7744954 (483)\ttotal: 3m 20s\tremaining: 3m 29s\n",
      "489:\tlearn: 0.7763567\ttest: 0.7743221\tbest: 0.7744954 (483)\ttotal: 3m 21s\tremaining: 3m 29s\n",
      "490:\tlearn: 0.7762510\ttest: 0.7742550\tbest: 0.7744954 (483)\ttotal: 3m 21s\tremaining: 3m 29s\n",
      "491:\tlearn: 0.7763954\ttest: 0.7740818\tbest: 0.7744954 (483)\ttotal: 3m 22s\tremaining: 3m 28s\n",
      "492:\tlearn: 0.7764625\ttest: 0.7740818\tbest: 0.7744954 (483)\ttotal: 3m 22s\tremaining: 3m 28s\n",
      "493:\tlearn: 0.7766353\ttest: 0.7739477\tbest: 0.7744954 (483)\ttotal: 3m 23s\tremaining: 3m 28s\n",
      "494:\tlearn: 0.7767795\ttest: 0.7741600\tbest: 0.7744954 (483)\ttotal: 3m 23s\tremaining: 3m 27s\n",
      "495:\tlearn: 0.7764726\ttest: 0.7743332\tbest: 0.7744954 (483)\ttotal: 3m 24s\tremaining: 3m 27s\n",
      "496:\tlearn: 0.7765112\ttest: 0.7744393\tbest: 0.7744954 (483)\ttotal: 3m 24s\tremaining: 3m 27s\n",
      "497:\tlearn: 0.7765112\ttest: 0.7746125\tbest: 0.7746125 (497)\ttotal: 3m 24s\tremaining: 3m 26s\n",
      "498:\tlearn: 0.7770480\ttest: 0.7744784\tbest: 0.7746125 (497)\ttotal: 3m 25s\tremaining: 3m 26s\n",
      "499:\tlearn: 0.7769710\ttest: 0.7747186\tbest: 0.7747186 (499)\ttotal: 3m 25s\tremaining: 3m 25s\n",
      "500:\tlearn: 0.7772110\ttest: 0.7747186\tbest: 0.7747186 (499)\ttotal: 3m 26s\tremaining: 3m 25s\n",
      "501:\tlearn: 0.7772495\ttest: 0.7746125\tbest: 0.7747186 (499)\ttotal: 3m 26s\tremaining: 3m 25s\n",
      "502:\tlearn: 0.7775471\ttest: 0.7748138\tbest: 0.7748138 (502)\ttotal: 3m 27s\tremaining: 3m 24s\n",
      "503:\tlearn: 0.7774414\ttest: 0.7748809\tbest: 0.7748809 (503)\ttotal: 3m 27s\tremaining: 3m 24s\n",
      "504:\tlearn: 0.7779220\ttest: 0.7749199\tbest: 0.7749199 (504)\ttotal: 3m 28s\tremaining: 3m 23s\n",
      "505:\tlearn: 0.7780277\ttest: 0.7749199\tbest: 0.7749199 (504)\ttotal: 3m 28s\tremaining: 3m 23s\n",
      "506:\tlearn: 0.7780950\ttest: 0.7749870\tbest: 0.7749870 (506)\ttotal: 3m 28s\tremaining: 3m 23s\n",
      "507:\tlearn: 0.7783737\ttest: 0.7746796\tbest: 0.7749870 (506)\ttotal: 3m 29s\tremaining: 3m 22s\n",
      "508:\tlearn: 0.7783737\ttest: 0.7747467\tbest: 0.7749870 (506)\ttotal: 3m 29s\tremaining: 3m 22s\n",
      "509:\tlearn: 0.7785560\ttest: 0.7746406\tbest: 0.7749870 (506)\ttotal: 3m 30s\tremaining: 3m 21s\n",
      "510:\tlearn: 0.7785560\ttest: 0.7745344\tbest: 0.7749870 (506)\ttotal: 3m 30s\tremaining: 3m 21s\n",
      "511:\tlearn: 0.7785943\ttest: 0.7746406\tbest: 0.7749870 (506)\ttotal: 3m 30s\tremaining: 3m 21s\n",
      "512:\tlearn: 0.7789783\ttest: 0.7748918\tbest: 0.7749870 (506)\ttotal: 3m 31s\tremaining: 3m 20s\n",
      "513:\tlearn: 0.7791512\ttest: 0.7749978\tbest: 0.7749978 (513)\ttotal: 3m 31s\tremaining: 3m 20s\n",
      "514:\tlearn: 0.7791512\ttest: 0.7749697\tbest: 0.7749978 (513)\ttotal: 3m 32s\tremaining: 3m 19s\n",
      "515:\tlearn: 0.7791512\ttest: 0.7750368\tbest: 0.7750368 (515)\ttotal: 3m 32s\tremaining: 3m 19s\n",
      "516:\tlearn: 0.7790074\ttest: 0.7749978\tbest: 0.7750368 (515)\ttotal: 3m 33s\tremaining: 3m 19s\n",
      "517:\tlearn: 0.7791130\ttest: 0.7751039\tbest: 0.7751039 (517)\ttotal: 3m 33s\tremaining: 3m 18s\n",
      "518:\tlearn: 0.7788345\ttest: 0.7754219\tbest: 0.7754219 (518)\ttotal: 3m 34s\tremaining: 3m 18s\n",
      "519:\tlearn: 0.7790074\ttest: 0.7753830\tbest: 0.7754219 (518)\ttotal: 3m 34s\tremaining: 3m 17s\n",
      "520:\tlearn: 0.7791422\ttest: 0.7753159\tbest: 0.7754219 (518)\ttotal: 3m 34s\tremaining: 3m 17s\n",
      "521:\tlearn: 0.7793151\ttest: 0.7753548\tbest: 0.7754219 (518)\ttotal: 3m 35s\tremaining: 3m 17s\n",
      "522:\tlearn: 0.7793151\ttest: 0.7752488\tbest: 0.7754219 (518)\ttotal: 3m 35s\tremaining: 3m 16s\n",
      "523:\tlearn: 0.7794881\ttest: 0.7752877\tbest: 0.7754219 (518)\ttotal: 3m 36s\tremaining: 3m 16s\n",
      "524:\tlearn: 0.7796991\ttest: 0.7751817\tbest: 0.7754219 (518)\ttotal: 3m 36s\tremaining: 3m 15s\n",
      "525:\tlearn: 0.7797372\ttest: 0.7753159\tbest: 0.7754219 (518)\ttotal: 3m 36s\tremaining: 3m 15s\n",
      "526:\tlearn: 0.7799481\ttest: 0.7754219\tbest: 0.7754219 (518)\ttotal: 3m 37s\tremaining: 3m 15s\n",
      "527:\tlearn: 0.7798720\ttest: 0.7755279\tbest: 0.7755279 (527)\ttotal: 3m 37s\tremaining: 3m 14s\n",
      "528:\tlearn: 0.7799395\ttest: 0.7755279\tbest: 0.7755279 (527)\ttotal: 3m 38s\tremaining: 3m 14s\n",
      "529:\tlearn: 0.7799014\ttest: 0.7754219\tbest: 0.7755279 (527)\ttotal: 3m 38s\tremaining: 3m 13s\n",
      "530:\tlearn: 0.7798720\ttest: 0.7753937\tbest: 0.7755279 (527)\ttotal: 3m 39s\tremaining: 3m 13s\n",
      "531:\tlearn: 0.7798427\ttest: 0.7753937\tbest: 0.7755279 (527)\ttotal: 3m 39s\tremaining: 3m 13s\n",
      "532:\tlearn: 0.7797372\ttest: 0.7755667\tbest: 0.7755667 (532)\ttotal: 3m 40s\tremaining: 3m 12s\n",
      "533:\tlearn: 0.7797753\ttest: 0.7754325\tbest: 0.7755667 (532)\ttotal: 3m 40s\tremaining: 3m 12s\n",
      "534:\tlearn: 0.7801590\ttest: 0.7754608\tbest: 0.7755667 (532)\ttotal: 3m 40s\tremaining: 3m 12s\n",
      "535:\tlearn: 0.7800916\ttest: 0.7753937\tbest: 0.7755667 (532)\ttotal: 3m 41s\tremaining: 3m 11s\n",
      "536:\tlearn: 0.7803613\ttest: 0.7755384\tbest: 0.7755667 (532)\ttotal: 3m 41s\tremaining: 3m 11s\n",
      "537:\tlearn: 0.7806017\ttest: 0.7752984\tbest: 0.7755667 (532)\ttotal: 3m 42s\tremaining: 3m 10s\n",
      "538:\tlearn: 0.7807071\ttest: 0.7757114\tbest: 0.7757114 (538)\ttotal: 3m 42s\tremaining: 3m 10s\n",
      "539:\tlearn: 0.7806017\ttest: 0.7757114\tbest: 0.7757114 (538)\ttotal: 3m 43s\tremaining: 3m 10s\n",
      "540:\tlearn: 0.7804962\ttest: 0.7757502\tbest: 0.7757502 (540)\ttotal: 3m 43s\tremaining: 3m 9s\n",
      "541:\tlearn: 0.7806017\ttest: 0.7757502\tbest: 0.7757502 (540)\ttotal: 3m 44s\tremaining: 3m 9s\n",
      "542:\tlearn: 0.7804962\ttest: 0.7755102\tbest: 0.7757502 (540)\ttotal: 3m 44s\tremaining: 3m 8s\n",
      "543:\tlearn: 0.7804962\ttest: 0.7754714\tbest: 0.7757502 (540)\ttotal: 3m 44s\tremaining: 3m 8s\n",
      "544:\tlearn: 0.7807071\ttest: 0.7754043\tbest: 0.7757502 (540)\ttotal: 3m 45s\tremaining: 3m 8s\n",
      "545:\tlearn: 0.7807450\ttest: 0.7755102\tbest: 0.7757502 (540)\ttotal: 3m 45s\tremaining: 3m 7s\n",
      "546:\tlearn: 0.7808503\ttest: 0.7755102\tbest: 0.7757502 (540)\ttotal: 3m 46s\tremaining: 3m 7s\n",
      "547:\tlearn: 0.7807450\ttest: 0.7755102\tbest: 0.7757502 (540)\ttotal: 3m 46s\tremaining: 3m 6s\n",
      "548:\tlearn: 0.7810232\ttest: 0.7755773\tbest: 0.7757502 (540)\ttotal: 3m 47s\tremaining: 3m 6s\n",
      "549:\tlearn: 0.7815119\ttest: 0.7756549\tbest: 0.7757502 (540)\ttotal: 3m 47s\tremaining: 3m 6s\n",
      "550:\tlearn: 0.7813688\ttest: 0.7756266\tbest: 0.7757502 (540)\ttotal: 3m 48s\tremaining: 3m 5s\n",
      "551:\tlearn: 0.7813688\ttest: 0.7756266\tbest: 0.7757502 (540)\ttotal: 3m 48s\tremaining: 3m 5s\n",
      "552:\tlearn: 0.7814066\ttest: 0.7756937\tbest: 0.7757502 (540)\ttotal: 3m 48s\tremaining: 3m 5s\n",
      "553:\tlearn: 0.7813013\ttest: 0.7756266\tbest: 0.7757502 (540)\ttotal: 3m 49s\tremaining: 3m 4s\n",
      "554:\tlearn: 0.7813013\ttest: 0.7757995\tbest: 0.7757995 (554)\ttotal: 3m 49s\tremaining: 3m 4s\n",
      "555:\tlearn: 0.7816171\ttest: 0.7757995\tbest: 0.7757995 (554)\ttotal: 3m 50s\tremaining: 3m 3s\n",
      "556:\tlearn: 0.7817224\ttest: 0.7761168\tbest: 0.7761168 (556)\ttotal: 3m 50s\tremaining: 3m 3s\n",
      "557:\tlearn: 0.7817224\ttest: 0.7762226\tbest: 0.7762226 (557)\ttotal: 3m 50s\tremaining: 3m 2s\n",
      "558:\tlearn: 0.7819250\ttest: 0.7759440\tbest: 0.7762226 (557)\ttotal: 3m 51s\tremaining: 3m 2s\n",
      "559:\tlearn: 0.7819250\ttest: 0.7759440\tbest: 0.7762226 (557)\ttotal: 3m 51s\tremaining: 3m 2s\n",
      "560:\tlearn: 0.7819250\ttest: 0.7759440\tbest: 0.7762226 (557)\ttotal: 3m 52s\tremaining: 3m 1s\n",
      "561:\tlearn: 0.7819250\ttest: 0.7760498\tbest: 0.7762226 (557)\ttotal: 3m 52s\tremaining: 3m 1s\n",
      "562:\tlearn: 0.7818951\ttest: 0.7758770\tbest: 0.7762226 (557)\ttotal: 3m 53s\tremaining: 3m\n",
      "563:\tlearn: 0.7815199\ttest: 0.7758770\tbest: 0.7762226 (557)\ttotal: 3m 53s\tremaining: 3m\n",
      "564:\tlearn: 0.7815874\ttest: 0.7759827\tbest: 0.7762226 (557)\ttotal: 3m 54s\tremaining: 3m\n",
      "565:\tlearn: 0.7815874\ttest: 0.7759827\tbest: 0.7762226 (557)\ttotal: 3m 54s\tremaining: 2m 59s\n",
      "566:\tlearn: 0.7818653\ttest: 0.7759827\tbest: 0.7762226 (557)\ttotal: 3m 54s\tremaining: 2m 59s\n",
      "567:\tlearn: 0.7818653\ttest: 0.7761168\tbest: 0.7762226 (557)\ttotal: 3m 55s\tremaining: 2m 59s\n",
      "568:\tlearn: 0.7819705\ttest: 0.7762226\tbest: 0.7762226 (557)\ttotal: 3m 55s\tremaining: 2m 58s\n",
      "569:\tlearn: 0.7822107\ttest: 0.7763954\tbest: 0.7763954 (569)\ttotal: 3m 56s\tremaining: 2m 58s\n",
      "570:\tlearn: 0.7822107\ttest: 0.7765296\tbest: 0.7765296 (570)\ttotal: 3m 56s\tremaining: 2m 57s\n",
      "571:\tlearn: 0.7823458\ttest: 0.7765967\tbest: 0.7765967 (571)\ttotal: 3m 57s\tremaining: 2m 57s\n",
      "572:\tlearn: 0.7825862\ttest: 0.7767410\tbest: 0.7767410 (572)\ttotal: 3m 57s\tremaining: 2m 57s\n",
      "573:\tlearn: 0.7825862\ttest: 0.7767410\tbest: 0.7767410 (572)\ttotal: 3m 58s\tremaining: 2m 56s\n",
      "574:\tlearn: 0.7825186\ttest: 0.7766353\tbest: 0.7767410 (572)\ttotal: 3m 58s\tremaining: 2m 56s\n",
      "575:\tlearn: 0.7824134\ttest: 0.7767024\tbest: 0.7767410 (572)\ttotal: 3m 58s\tremaining: 2m 55s\n",
      "576:\tlearn: 0.7822706\ttest: 0.7768081\tbest: 0.7768081 (576)\ttotal: 3m 59s\tremaining: 2m 55s\n",
      "577:\tlearn: 0.7823382\ttest: 0.7768081\tbest: 0.7768081 (576)\ttotal: 3m 59s\tremaining: 2m 55s\n",
      "578:\tlearn: 0.7825186\ttest: 0.7771251\tbest: 0.7771251 (578)\ttotal: 4m\tremaining: 2m 54s\n",
      "579:\tlearn: 0.7827964\ttest: 0.7772307\tbest: 0.7772307 (579)\ttotal: 4m\tremaining: 2m 54s\n",
      "580:\tlearn: 0.7831419\ttest: 0.7771636\tbest: 0.7772307 (579)\ttotal: 4m 1s\tremaining: 2m 53s\n",
      "581:\tlearn: 0.7829993\ttest: 0.7773363\tbest: 0.7773363 (581)\ttotal: 4m 1s\tremaining: 2m 53s\n",
      "582:\tlearn: 0.7829993\ttest: 0.7773363\tbest: 0.7773363 (581)\ttotal: 4m 2s\tremaining: 2m 53s\n",
      "583:\tlearn: 0.7832772\ttest: 0.7774419\tbest: 0.7774419 (583)\ttotal: 4m 2s\tremaining: 2m 52s\n",
      "584:\tlearn: 0.7834499\ttest: 0.7774706\tbest: 0.7774706 (584)\ttotal: 4m 3s\tremaining: 2m 52s\n",
      "585:\tlearn: 0.7833146\ttest: 0.7773650\tbest: 0.7774706 (584)\ttotal: 4m 3s\tremaining: 2m 52s\n",
      "586:\tlearn: 0.7834873\ttest: 0.7775475\tbest: 0.7775475 (586)\ttotal: 4m 4s\tremaining: 2m 51s\n",
      "587:\tlearn: 0.7836298\ttest: 0.7776146\tbest: 0.7776146 (587)\ttotal: 4m 4s\tremaining: 2m 51s\n",
      "588:\tlearn: 0.7838398\ttest: 0.7777490\tbest: 0.7777490 (588)\ttotal: 4m 4s\tremaining: 2m 50s\n",
      "589:\tlearn: 0.7839751\ttest: 0.7779889\tbest: 0.7779889 (589)\ttotal: 4m 5s\tremaining: 2m 50s\n",
      "590:\tlearn: 0.7840428\ttest: 0.7779217\tbest: 0.7779889 (589)\ttotal: 4m 5s\tremaining: 2m 50s\n",
      "591:\tlearn: 0.7840428\ttest: 0.7779217\tbest: 0.7779889 (589)\ttotal: 4m 6s\tremaining: 2m 49s\n",
      "592:\tlearn: 0.7840428\ttest: 0.7779217\tbest: 0.7779889 (589)\ttotal: 4m 6s\tremaining: 2m 49s\n",
      "593:\tlearn: 0.7839751\ttest: 0.7776050\tbest: 0.7779889 (589)\ttotal: 4m 7s\tremaining: 2m 48s\n",
      "594:\tlearn: 0.7840428\ttest: 0.7776050\tbest: 0.7779889 (589)\ttotal: 4m 7s\tremaining: 2m 48s\n",
      "595:\tlearn: 0.7839378\ttest: 0.7778162\tbest: 0.7779889 (589)\ttotal: 4m 7s\tremaining: 2m 48s\n",
      "596:\tlearn: 0.7839378\ttest: 0.7778162\tbest: 0.7779889 (589)\ttotal: 4m 8s\tremaining: 2m 47s\n",
      "597:\tlearn: 0.7839378\ttest: 0.7774994\tbest: 0.7779889 (589)\ttotal: 4m 8s\tremaining: 2m 47s\n",
      "598:\tlearn: 0.7838328\ttest: 0.7776722\tbest: 0.7779889 (589)\ttotal: 4m 9s\tremaining: 2m 46s\n",
      "599:\tlearn: 0.7840055\ttest: 0.7776722\tbest: 0.7779889 (589)\ttotal: 4m 9s\tremaining: 2m 46s\n",
      "600:\tlearn: 0.7840359\ttest: 0.7777490\tbest: 0.7779889 (589)\ttotal: 4m 10s\tremaining: 2m 45s\n",
      "601:\tlearn: 0.7839005\ttest: 0.7777490\tbest: 0.7779889 (589)\ttotal: 4m 10s\tremaining: 2m 45s\n",
      "602:\tlearn: 0.7840732\ttest: 0.7778162\tbest: 0.7779889 (589)\ttotal: 4m 10s\tremaining: 2m 45s\n",
      "603:\tlearn: 0.7843442\ttest: 0.7775378\tbest: 0.7779889 (589)\ttotal: 4m 11s\tremaining: 2m 44s\n",
      "604:\tlearn: 0.7844492\ttest: 0.7775378\tbest: 0.7779889 (589)\ttotal: 4m 11s\tremaining: 2m 44s\n",
      "605:\tlearn: 0.7844492\ttest: 0.7775378\tbest: 0.7779889 (589)\ttotal: 4m 12s\tremaining: 2m 43s\n",
      "606:\tlearn: 0.7844492\ttest: 0.7773650\tbest: 0.7779889 (589)\ttotal: 4m 12s\tremaining: 2m 43s\n",
      "607:\tlearn: 0.7846592\ttest: 0.7773650\tbest: 0.7779889 (589)\ttotal: 4m 13s\tremaining: 2m 43s\n",
      "608:\tlearn: 0.7846592\ttest: 0.7776146\tbest: 0.7779889 (589)\ttotal: 4m 13s\tremaining: 2m 42s\n",
      "609:\tlearn: 0.7846592\ttest: 0.7775475\tbest: 0.7779889 (589)\ttotal: 4m 13s\tremaining: 2m 42s\n",
      "610:\tlearn: 0.7846592\ttest: 0.7774035\tbest: 0.7779889 (589)\ttotal: 4m 14s\tremaining: 2m 41s\n",
      "611:\tlearn: 0.7845915\ttest: 0.7774035\tbest: 0.7779889 (589)\ttotal: 4m 14s\tremaining: 2m 41s\n",
      "612:\tlearn: 0.7845915\ttest: 0.7775091\tbest: 0.7779889 (589)\ttotal: 4m 15s\tremaining: 2m 41s\n",
      "613:\tlearn: 0.7848320\ttest: 0.7775091\tbest: 0.7779889 (589)\ttotal: 4m 15s\tremaining: 2m 40s\n",
      "614:\tlearn: 0.7852517\ttest: 0.7777874\tbest: 0.7779889 (589)\ttotal: 4m 16s\tremaining: 2m 40s\n",
      "615:\tlearn: 0.7849369\ttest: 0.7779217\tbest: 0.7779889 (589)\ttotal: 4m 16s\tremaining: 2m 39s\n",
      "616:\tlearn: 0.7851468\ttest: 0.7779217\tbest: 0.7779889 (589)\ttotal: 4m 16s\tremaining: 2m 39s\n",
      "617:\tlearn: 0.7851404\ttest: 0.7775762\tbest: 0.7779889 (589)\ttotal: 4m 17s\tremaining: 2m 39s\n",
      "618:\tlearn: 0.7854181\ttest: 0.7776818\tbest: 0.7779889 (589)\ttotal: 4m 17s\tremaining: 2m 38s\n",
      "619:\tlearn: 0.7853810\ttest: 0.7776818\tbest: 0.7779889 (589)\ttotal: 4m 18s\tremaining: 2m 38s\n",
      "620:\tlearn: 0.7855230\ttest: 0.7778546\tbest: 0.7779889 (589)\ttotal: 4m 18s\tremaining: 2m 37s\n",
      "621:\tlearn: 0.7854552\ttest: 0.7777490\tbest: 0.7779889 (589)\ttotal: 4m 19s\tremaining: 2m 37s\n",
      "622:\tlearn: 0.7855971\ttest: 0.7777874\tbest: 0.7779889 (589)\ttotal: 4m 19s\tremaining: 2m 37s\n",
      "623:\tlearn: 0.7855601\ttest: 0.7776914\tbest: 0.7779889 (589)\ttotal: 4m 20s\tremaining: 2m 36s\n",
      "624:\tlearn: 0.7854922\ttest: 0.7778641\tbest: 0.7779889 (589)\ttotal: 4m 20s\tremaining: 2m 36s\n",
      "625:\tlearn: 0.7854922\ttest: 0.7777586\tbest: 0.7779889 (589)\ttotal: 4m 21s\tremaining: 2m 36s\n",
      "626:\tlearn: 0.7853195\ttest: 0.7778257\tbest: 0.7779889 (589)\ttotal: 4m 21s\tremaining: 2m 35s\n",
      "627:\tlearn: 0.7853195\ttest: 0.7777586\tbest: 0.7779889 (589)\ttotal: 4m 21s\tremaining: 2m 35s\n",
      "628:\tlearn: 0.7853195\ttest: 0.7777586\tbest: 0.7779889 (589)\ttotal: 4m 22s\tremaining: 2m 34s\n",
      "629:\tlearn: 0.7855601\ttest: 0.7779313\tbest: 0.7779889 (589)\ttotal: 4m 22s\tremaining: 2m 34s\n",
      "630:\tlearn: 0.7854922\ttest: 0.7779313\tbest: 0.7779889 (589)\ttotal: 4m 23s\tremaining: 2m 33s\n",
      "631:\tlearn: 0.7855601\ttest: 0.7780368\tbest: 0.7780368 (631)\ttotal: 4m 23s\tremaining: 2m 33s\n",
      "632:\tlearn: 0.7856649\ttest: 0.7779696\tbest: 0.7780368 (631)\ttotal: 4m 24s\tremaining: 2m 33s\n",
      "633:\tlearn: 0.7856649\ttest: 0.7779025\tbest: 0.7780368 (631)\ttotal: 4m 24s\tremaining: 2m 32s\n",
      "634:\tlearn: 0.7856649\ttest: 0.7779025\tbest: 0.7780368 (631)\ttotal: 4m 24s\tremaining: 2m 32s\n",
      "635:\tlearn: 0.7857328\ttest: 0.7779408\tbest: 0.7780368 (631)\ttotal: 4m 25s\tremaining: 2m 31s\n",
      "636:\tlearn: 0.7858007\ttest: 0.7780751\tbest: 0.7780751 (636)\ttotal: 4m 25s\tremaining: 2m 31s\n",
      "637:\tlearn: 0.7858685\ttest: 0.7780751\tbest: 0.7780751 (636)\ttotal: 4m 26s\tremaining: 2m 31s\n",
      "638:\tlearn: 0.7859055\ttest: 0.7779696\tbest: 0.7780751 (636)\ttotal: 4m 26s\tremaining: 2m 30s\n",
      "639:\tlearn: 0.7858377\ttest: 0.7782766\tbest: 0.7782766 (639)\ttotal: 4m 27s\tremaining: 2m 30s\n",
      "640:\tlearn: 0.7859055\ttest: 0.7782766\tbest: 0.7782766 (639)\ttotal: 4m 27s\tremaining: 2m 29s\n",
      "641:\tlearn: 0.7862879\ttest: 0.7783149\tbest: 0.7783149 (641)\ttotal: 4m 27s\tremaining: 2m 29s\n",
      "642:\tlearn: 0.7865654\ttest: 0.7783821\tbest: 0.7783821 (642)\ttotal: 4m 28s\tremaining: 2m 28s\n",
      "643:\tlearn: 0.7867069\ttest: 0.7783821\tbest: 0.7783821 (642)\ttotal: 4m 28s\tremaining: 2m 28s\n",
      "644:\tlearn: 0.7867749\ttest: 0.7784493\tbest: 0.7784493 (644)\ttotal: 4m 29s\tremaining: 2m 28s\n",
      "645:\tlearn: 0.7868796\ttest: 0.7784493\tbest: 0.7784493 (644)\ttotal: 4m 29s\tremaining: 2m 27s\n",
      "646:\tlearn: 0.7872249\ttest: 0.7784493\tbest: 0.7784493 (644)\ttotal: 4m 30s\tremaining: 2m 27s\n",
      "647:\tlearn: 0.7870155\ttest: 0.7783149\tbest: 0.7784493 (644)\ttotal: 4m 30s\tremaining: 2m 26s\n",
      "648:\tlearn: 0.7869107\ttest: 0.7781806\tbest: 0.7784493 (644)\ttotal: 4m 30s\tremaining: 2m 26s\n",
      "649:\tlearn: 0.7871881\ttest: 0.7782477\tbest: 0.7784493 (644)\ttotal: 4m 31s\tremaining: 2m 26s\n",
      "650:\tlearn: 0.7871881\ttest: 0.7783821\tbest: 0.7784493 (644)\ttotal: 4m 31s\tremaining: 2m 25s\n",
      "651:\tlearn: 0.7871881\ttest: 0.7783821\tbest: 0.7784493 (644)\ttotal: 4m 32s\tremaining: 2m 25s\n",
      "652:\tlearn: 0.7870834\ttest: 0.7783821\tbest: 0.7784493 (644)\ttotal: 4m 32s\tremaining: 2m 24s\n",
      "653:\tlearn: 0.7874288\ttest: 0.7785258\tbest: 0.7785258 (653)\ttotal: 4m 33s\tremaining: 2m 24s\n",
      "654:\tlearn: 0.7873241\ttest: 0.7785930\tbest: 0.7785930 (654)\ttotal: 4m 33s\tremaining: 2m 24s\n",
      "655:\tlearn: 0.7874288\ttest: 0.7786602\tbest: 0.7786602 (655)\ttotal: 4m 33s\tremaining: 2m 23s\n",
      "656:\tlearn: 0.7875335\ttest: 0.7784876\tbest: 0.7786602 (655)\ttotal: 4m 34s\tremaining: 2m 23s\n",
      "657:\tlearn: 0.7871881\ttest: 0.7785930\tbest: 0.7786602 (655)\ttotal: 4m 34s\tremaining: 2m 22s\n",
      "658:\tlearn: 0.7872561\ttest: 0.7786694\tbest: 0.7786694 (658)\ttotal: 4m 35s\tremaining: 2m 22s\n",
      "659:\tlearn: 0.7872561\ttest: 0.7787366\tbest: 0.7787366 (659)\ttotal: 4m 35s\tremaining: 2m 21s\n",
      "660:\tlearn: 0.7873608\ttest: 0.7786694\tbest: 0.7787366 (659)\ttotal: 4m 36s\tremaining: 2m 21s\n",
      "661:\tlearn: 0.7872928\ttest: 0.7786022\tbest: 0.7787366 (659)\ttotal: 4m 36s\tremaining: 2m 21s\n",
      "662:\tlearn: 0.7873975\ttest: 0.7786694\tbest: 0.7787366 (659)\ttotal: 4m 36s\tremaining: 2m 20s\n",
      "663:\tlearn: 0.7875335\ttest: 0.7786022\tbest: 0.7787366 (659)\ttotal: 4m 37s\tremaining: 2m 20s\n",
      "664:\tlearn: 0.7875335\ttest: 0.7786022\tbest: 0.7787366 (659)\ttotal: 4m 37s\tremaining: 2m 19s\n",
      "665:\tlearn: 0.7872561\ttest: 0.7786022\tbest: 0.7787366 (659)\ttotal: 4m 38s\tremaining: 2m 19s\n",
      "666:\tlearn: 0.7876381\ttest: 0.7784008\tbest: 0.7787366 (659)\ttotal: 4m 38s\tremaining: 2m 19s\n",
      "667:\tlearn: 0.7878108\ttest: 0.7784679\tbest: 0.7787366 (659)\ttotal: 4m 39s\tremaining: 2m 18s\n",
      "668:\tlearn: 0.7877428\ttest: 0.7783625\tbest: 0.7787366 (659)\ttotal: 4m 39s\tremaining: 2m 18s\n",
      "669:\tlearn: 0.7877428\ttest: 0.7784297\tbest: 0.7787366 (659)\ttotal: 4m 39s\tremaining: 2m 17s\n",
      "670:\tlearn: 0.7878474\ttest: 0.7785640\tbest: 0.7787366 (659)\ttotal: 4m 40s\tremaining: 2m 17s\n",
      "671:\tlearn: 0.7879886\ttest: 0.7785258\tbest: 0.7787366 (659)\ttotal: 4m 40s\tremaining: 2m 17s\n",
      "672:\tlearn: 0.7880932\ttest: 0.7784586\tbest: 0.7787366 (659)\ttotal: 4m 41s\tremaining: 2m 16s\n",
      "673:\tlearn: 0.7880932\ttest: 0.7784586\tbest: 0.7787366 (659)\ttotal: 4m 41s\tremaining: 2m 16s\n",
      "674:\tlearn: 0.7882343\ttest: 0.7787366\tbest: 0.7787366 (659)\ttotal: 4m 42s\tremaining: 2m 15s\n",
      "675:\tlearn: 0.7882708\ttest: 0.7789092\tbest: 0.7789092 (675)\ttotal: 4m 42s\tremaining: 2m 15s\n",
      "676:\tlearn: 0.7882708\ttest: 0.7788420\tbest: 0.7789092 (675)\ttotal: 4m 42s\tremaining: 2m 15s\n",
      "677:\tlearn: 0.7882708\ttest: 0.7789092\tbest: 0.7789092 (675)\ttotal: 4m 43s\tremaining: 2m 14s\n",
      "678:\tlearn: 0.7882708\ttest: 0.7788420\tbest: 0.7789092 (675)\ttotal: 4m 43s\tremaining: 2m 14s\n",
      "679:\tlearn: 0.7885478\ttest: 0.7791490\tbest: 0.7791490 (679)\ttotal: 4m 44s\tremaining: 2m 13s\n",
      "680:\tlearn: 0.7885478\ttest: 0.7791490\tbest: 0.7791490 (679)\ttotal: 4m 44s\tremaining: 2m 13s\n",
      "681:\tlearn: 0.7884433\ttest: 0.7791490\tbest: 0.7791490 (679)\ttotal: 4m 45s\tremaining: 2m 12s\n",
      "682:\tlearn: 0.7886838\ttest: 0.7790437\tbest: 0.7791490 (679)\ttotal: 4m 45s\tremaining: 2m 12s\n",
      "683:\tlearn: 0.7887202\ttest: 0.7791109\tbest: 0.7791490 (679)\ttotal: 4m 46s\tremaining: 2m 12s\n",
      "684:\tlearn: 0.7888927\ttest: 0.7791109\tbest: 0.7791490 (679)\ttotal: 4m 46s\tremaining: 2m 11s\n",
      "685:\tlearn: 0.7887883\ttest: 0.7790055\tbest: 0.7791490 (679)\ttotal: 4m 47s\tremaining: 2m 11s\n",
      "686:\tlearn: 0.7893421\ttest: 0.7791782\tbest: 0.7791782 (686)\ttotal: 4m 47s\tremaining: 2m 10s\n",
      "687:\tlearn: 0.7893784\ttest: 0.7793889\tbest: 0.7793889 (687)\ttotal: 4m 47s\tremaining: 2m 10s\n",
      "688:\tlearn: 0.7890652\ttest: 0.7794562\tbest: 0.7794562 (688)\ttotal: 4m 48s\tremaining: 2m 10s\n",
      "689:\tlearn: 0.7890652\ttest: 0.7794562\tbest: 0.7794562 (688)\ttotal: 4m 48s\tremaining: 2m 9s\n",
      "690:\tlearn: 0.7891696\ttest: 0.7794562\tbest: 0.7794562 (688)\ttotal: 4m 49s\tremaining: 2m 9s\n",
      "691:\tlearn: 0.7890652\ttest: 0.7794270\tbest: 0.7794562 (688)\ttotal: 4m 49s\tremaining: 2m 8s\n",
      "692:\tlearn: 0.7891696\ttest: 0.7793597\tbest: 0.7794562 (688)\ttotal: 4m 50s\tremaining: 2m 8s\n",
      "693:\tlearn: 0.7892740\ttest: 0.7794943\tbest: 0.7794943 (693)\ttotal: 4m 50s\tremaining: 2m 8s\n",
      "694:\tlearn: 0.7892740\ttest: 0.7794270\tbest: 0.7794943 (693)\ttotal: 4m 50s\tremaining: 2m 7s\n",
      "695:\tlearn: 0.7892740\ttest: 0.7795996\tbest: 0.7795996 (695)\ttotal: 4m 51s\tremaining: 2m 7s\n",
      "696:\tlearn: 0.7892377\ttest: 0.7793889\tbest: 0.7795996 (695)\ttotal: 4m 51s\tremaining: 2m 6s\n",
      "697:\tlearn: 0.7892377\ttest: 0.7792163\tbest: 0.7795996 (695)\ttotal: 4m 52s\tremaining: 2m 6s\n",
      "698:\tlearn: 0.7892377\ttest: 0.7793217\tbest: 0.7795996 (695)\ttotal: 4m 52s\tremaining: 2m 6s\n",
      "699:\tlearn: 0.7895100\ttest: 0.7792544\tbest: 0.7795996 (695)\ttotal: 4m 53s\tremaining: 2m 5s\n",
      "700:\tlearn: 0.7894465\ttest: 0.7793217\tbest: 0.7795996 (695)\ttotal: 4m 53s\tremaining: 2m 5s\n",
      "701:\tlearn: 0.7894465\ttest: 0.7793217\tbest: 0.7795996 (695)\ttotal: 4m 54s\tremaining: 2m 4s\n",
      "702:\tlearn: 0.7897188\ttest: 0.7793597\tbest: 0.7795996 (695)\ttotal: 4m 54s\tremaining: 2m 4s\n",
      "703:\tlearn: 0.7895781\ttest: 0.7793597\tbest: 0.7795996 (695)\ttotal: 4m 54s\tremaining: 2m 3s\n",
      "704:\tlearn: 0.7895781\ttest: 0.7793597\tbest: 0.7795996 (695)\ttotal: 4m 55s\tremaining: 2m 3s\n",
      "705:\tlearn: 0.7893692\ttest: 0.7793217\tbest: 0.7795996 (695)\ttotal: 4m 55s\tremaining: 2m 3s\n",
      "706:\tlearn: 0.7894737\ttest: 0.7794270\tbest: 0.7795996 (695)\ttotal: 4m 56s\tremaining: 2m 2s\n",
      "707:\tlearn: 0.7894056\ttest: 0.7794270\tbest: 0.7795996 (695)\ttotal: 4m 56s\tremaining: 2m 2s\n",
      "708:\tlearn: 0.7895100\ttest: 0.7793597\tbest: 0.7795996 (695)\ttotal: 4m 57s\tremaining: 2m 1s\n",
      "709:\tlearn: 0.7898232\ttest: 0.7795031\tbest: 0.7795996 (695)\ttotal: 4m 57s\tremaining: 2m 1s\n",
      "710:\tlearn: 0.7898232\ttest: 0.7795411\tbest: 0.7795996 (695)\ttotal: 4m 57s\tremaining: 2m 1s\n",
      "711:\tlearn: 0.7900681\ttest: 0.7795792\tbest: 0.7795996 (695)\ttotal: 4m 58s\tremaining: 2m\n",
      "712:\tlearn: 0.7900681\ttest: 0.7795119\tbest: 0.7795996 (695)\ttotal: 4m 58s\tremaining: 2m\n",
      "713:\tlearn: 0.7900681\ttest: 0.7795119\tbest: 0.7795996 (695)\ttotal: 4m 59s\tremaining: 1m 59s\n",
      "714:\tlearn: 0.7900681\ttest: 0.7795119\tbest: 0.7795996 (695)\ttotal: 4m 59s\tremaining: 1m 59s\n",
      "715:\tlearn: 0.7901724\ttest: 0.7795119\tbest: 0.7795996 (695)\ttotal: 4m 59s\tremaining: 1m 58s\n",
      "716:\tlearn: 0.7901724\ttest: 0.7795411\tbest: 0.7795996 (695)\ttotal: 5m\tremaining: 1m 58s\n",
      "717:\tlearn: 0.7902767\ttest: 0.7795411\tbest: 0.7795996 (695)\ttotal: 5m\tremaining: 1m 58s\n",
      "718:\tlearn: 0.7902767\ttest: 0.7800672\tbest: 0.7800672 (718)\ttotal: 5m 1s\tremaining: 1m 57s\n",
      "719:\tlearn: 0.7902086\ttest: 0.7800672\tbest: 0.7800672 (718)\ttotal: 5m 1s\tremaining: 1m 57s\n",
      "720:\tlearn: 0.7903129\ttest: 0.7801724\tbest: 0.7801724 (720)\ttotal: 5m 2s\tremaining: 1m 56s\n",
      "721:\tlearn: 0.7903129\ttest: 0.7800672\tbest: 0.7801724 (720)\ttotal: 5m 2s\tremaining: 1m 56s\n",
      "722:\tlearn: 0.7904171\ttest: 0.7801724\tbest: 0.7801724 (720)\ttotal: 5m 3s\tremaining: 1m 56s\n",
      "723:\tlearn: 0.7904171\ttest: 0.7801724\tbest: 0.7801724 (720)\ttotal: 5m 3s\tremaining: 1m 55s\n",
      "724:\tlearn: 0.7904171\ttest: 0.7799621\tbest: 0.7801724 (720)\ttotal: 5m 3s\tremaining: 1m 55s\n",
      "725:\tlearn: 0.7905213\ttest: 0.7799241\tbest: 0.7801724 (720)\ttotal: 5m 4s\tremaining: 1m 54s\n",
      "726:\tlearn: 0.7903129\ttest: 0.7796844\tbest: 0.7801724 (720)\ttotal: 5m 4s\tremaining: 1m 54s\n",
      "727:\tlearn: 0.7903810\ttest: 0.7795792\tbest: 0.7801724 (720)\ttotal: 5m 5s\tremaining: 1m 54s\n",
      "728:\tlearn: 0.7905534\ttest: 0.7795792\tbest: 0.7801724 (720)\ttotal: 5m 5s\tremaining: 1m 53s\n",
      "729:\tlearn: 0.7905534\ttest: 0.7796464\tbest: 0.7801724 (720)\ttotal: 5m 6s\tremaining: 1m 53s\n",
      "730:\tlearn: 0.7906576\ttest: 0.7794739\tbest: 0.7801724 (720)\ttotal: 5m 6s\tremaining: 1m 52s\n",
      "731:\tlearn: 0.7907257\ttest: 0.7797136\tbest: 0.7801724 (720)\ttotal: 5m 6s\tremaining: 1m 52s\n",
      "732:\tlearn: 0.7912107\ttest: 0.7796844\tbest: 0.7801724 (720)\ttotal: 5m 7s\tremaining: 1m 51s\n",
      "733:\tlearn: 0.7912107\ttest: 0.7796844\tbest: 0.7801724 (720)\ttotal: 5m 7s\tremaining: 1m 51s\n",
      "734:\tlearn: 0.7913830\ttest: 0.7800000\tbest: 0.7801724 (720)\ttotal: 5m 8s\tremaining: 1m 51s\n",
      "735:\tlearn: 0.7913830\ttest: 0.7800000\tbest: 0.7801724 (720)\ttotal: 5m 8s\tremaining: 1m 50s\n",
      "736:\tlearn: 0.7914872\ttest: 0.7800000\tbest: 0.7801724 (720)\ttotal: 5m 9s\tremaining: 1m 50s\n",
      "737:\tlearn: 0.7915913\ttest: 0.7800000\tbest: 0.7801724 (720)\ttotal: 5m 9s\tremaining: 1m 49s\n",
      "738:\tlearn: 0.7914872\ttest: 0.7798655\tbest: 0.7801724 (720)\ttotal: 5m 9s\tremaining: 1m 49s\n",
      "739:\tlearn: 0.7913830\ttest: 0.7798655\tbest: 0.7801724 (720)\ttotal: 5m 10s\tremaining: 1m 49s\n",
      "740:\tlearn: 0.7913830\ttest: 0.7797604\tbest: 0.7801724 (720)\ttotal: 5m 10s\tremaining: 1m 48s\n",
      "741:\tlearn: 0.7914872\ttest: 0.7797604\tbest: 0.7801724 (720)\ttotal: 5m 11s\tremaining: 1m 48s\n",
      "742:\tlearn: 0.7914872\ttest: 0.7800758\tbest: 0.7801724 (720)\ttotal: 5m 11s\tremaining: 1m 47s\n",
      "743:\tlearn: 0.7916595\ttest: 0.7799328\tbest: 0.7801724 (720)\ttotal: 5m 12s\tremaining: 1m 47s\n",
      "744:\tlearn: 0.7916595\ttest: 0.7799707\tbest: 0.7801724 (720)\ttotal: 5m 12s\tremaining: 1m 46s\n",
      "745:\tlearn: 0.7916595\ttest: 0.7799707\tbest: 0.7801724 (720)\ttotal: 5m 12s\tremaining: 1m 46s\n",
      "746:\tlearn: 0.7916595\ttest: 0.7799707\tbest: 0.7801724 (720)\ttotal: 5m 13s\tremaining: 1m 46s\n",
      "747:\tlearn: 0.7917995\ttest: 0.7801810\tbest: 0.7801810 (747)\ttotal: 5m 13s\tremaining: 1m 45s\n",
      "748:\tlearn: 0.7918677\ttest: 0.7801810\tbest: 0.7801810 (747)\ttotal: 5m 14s\tremaining: 1m 45s\n",
      "749:\tlearn: 0.7918318\ttest: 0.7802945\tbest: 0.7802945 (749)\ttotal: 5m 14s\tremaining: 1m 44s\n",
      "750:\tlearn: 0.7918318\ttest: 0.7802945\tbest: 0.7802945 (749)\ttotal: 5m 15s\tremaining: 1m 44s\n",
      "751:\tlearn: 0.7917636\ttest: 0.7802945\tbest: 0.7802945 (749)\ttotal: 5m 15s\tremaining: 1m 44s\n",
      "752:\tlearn: 0.7919717\ttest: 0.7802274\tbest: 0.7802945 (749)\ttotal: 5m 15s\tremaining: 1m 43s\n",
      "753:\tlearn: 0.7918677\ttest: 0.7804290\tbest: 0.7804290 (753)\ttotal: 5m 16s\tremaining: 1m 43s\n",
      "754:\tlearn: 0.7924886\ttest: 0.7802567\tbest: 0.7804290 (753)\ttotal: 5m 16s\tremaining: 1m 42s\n",
      "755:\tlearn: 0.7924886\ttest: 0.7802567\tbest: 0.7804290 (753)\ttotal: 5m 17s\tremaining: 1m 42s\n",
      "756:\tlearn: 0.7923846\ttest: 0.7799793\tbest: 0.7804290 (753)\ttotal: 5m 17s\tremaining: 1m 41s\n",
      "757:\tlearn: 0.7923130\ttest: 0.7805340\tbest: 0.7805340 (757)\ttotal: 5m 18s\tremaining: 1m 41s\n",
      "758:\tlearn: 0.7923130\ttest: 0.7804290\tbest: 0.7805340 (757)\ttotal: 5m 18s\tremaining: 1m 41s\n",
      "759:\tlearn: 0.7924853\ttest: 0.7802567\tbest: 0.7805340 (757)\ttotal: 5m 18s\tremaining: 1m 40s\n",
      "760:\tlearn: 0.7924853\ttest: 0.7802567\tbest: 0.7805340 (757)\ttotal: 5m 19s\tremaining: 1m 40s\n",
      "761:\tlearn: 0.7924853\ttest: 0.7802567\tbest: 0.7805340 (757)\ttotal: 5m 19s\tremaining: 1m 39s\n",
      "762:\tlearn: 0.7926934\ttest: 0.7800465\tbest: 0.7805340 (757)\ttotal: 5m 20s\tremaining: 1m 39s\n",
      "763:\tlearn: 0.7927974\ttest: 0.7800465\tbest: 0.7805340 (757)\ttotal: 5m 20s\tremaining: 1m 39s\n",
      "764:\tlearn: 0.7928658\ttest: 0.7801516\tbest: 0.7805340 (757)\ttotal: 5m 21s\tremaining: 1m 38s\n",
      "765:\tlearn: 0.7928658\ttest: 0.7801516\tbest: 0.7805340 (757)\ttotal: 5m 21s\tremaining: 1m 38s\n",
      "766:\tlearn: 0.7931064\ttest: 0.7798363\tbest: 0.7805340 (757)\ttotal: 5m 21s\tremaining: 1m 37s\n",
      "767:\tlearn: 0.7931748\ttest: 0.7800086\tbest: 0.7805340 (757)\ttotal: 5m 22s\tremaining: 1m 37s\n",
      "768:\tlearn: 0.7931748\ttest: 0.7800086\tbest: 0.7805340 (757)\ttotal: 5m 22s\tremaining: 1m 36s\n",
      "769:\tlearn: 0.7933115\ttest: 0.7800086\tbest: 0.7805340 (757)\ttotal: 5m 23s\tremaining: 1m 36s\n",
      "770:\tlearn: 0.7932759\ttest: 0.7800086\tbest: 0.7805340 (757)\ttotal: 5m 23s\tremaining: 1m 36s\n",
      "771:\tlearn: 0.7931718\ttest: 0.7800086\tbest: 0.7805340 (757)\ttotal: 5m 24s\tremaining: 1m 35s\n",
      "772:\tlearn: 0.7931718\ttest: 0.7801137\tbest: 0.7805340 (757)\ttotal: 5m 24s\tremaining: 1m 35s\n",
      "773:\tlearn: 0.7929637\ttest: 0.7802861\tbest: 0.7805340 (757)\ttotal: 5m 24s\tremaining: 1m 34s\n",
      "774:\tlearn: 0.7930678\ttest: 0.7802861\tbest: 0.7805340 (757)\ttotal: 5m 25s\tremaining: 1m 34s\n",
      "775:\tlearn: 0.7929994\ttest: 0.7802861\tbest: 0.7805340 (757)\ttotal: 5m 25s\tremaining: 1m 34s\n",
      "776:\tlearn: 0.7929994\ttest: 0.7802861\tbest: 0.7805340 (757)\ttotal: 5m 26s\tremaining: 1m 33s\n",
      "777:\tlearn: 0.7929994\ttest: 0.7803533\tbest: 0.7805340 (757)\ttotal: 5m 26s\tremaining: 1m 33s\n",
      "778:\tlearn: 0.7929994\ttest: 0.7803154\tbest: 0.7805340 (757)\ttotal: 5m 26s\tremaining: 1m 32s\n",
      "779:\tlearn: 0.7929994\ttest: 0.7803154\tbest: 0.7805340 (757)\ttotal: 5m 27s\tremaining: 1m 32s\n",
      "780:\tlearn: 0.7929994\ttest: 0.7803827\tbest: 0.7805340 (757)\ttotal: 5m 27s\tremaining: 1m 31s\n",
      "781:\tlearn: 0.7929994\ttest: 0.7803827\tbest: 0.7805340 (757)\ttotal: 5m 28s\tremaining: 1m 31s\n",
      "782:\tlearn: 0.7931034\ttest: 0.7803827\tbest: 0.7805340 (757)\ttotal: 5m 28s\tremaining: 1m 31s\n",
      "783:\tlearn: 0.7933799\ttest: 0.7803154\tbest: 0.7805340 (757)\ttotal: 5m 29s\tremaining: 1m 30s\n",
      "784:\tlearn: 0.7933799\ttest: 0.7804205\tbest: 0.7805340 (757)\ttotal: 5m 29s\tremaining: 1m 30s\n",
      "785:\tlearn: 0.7933799\ttest: 0.7804878\tbest: 0.7805340 (757)\ttotal: 5m 29s\tremaining: 1m 29s\n",
      "786:\tlearn: 0.7933115\ttest: 0.7804878\tbest: 0.7805340 (757)\ttotal: 5m 30s\tremaining: 1m 29s\n",
      "787:\tlearn: 0.7933115\ttest: 0.7804878\tbest: 0.7805340 (757)\ttotal: 5m 30s\tremaining: 1m 28s\n",
      "788:\tlearn: 0.7934839\ttest: 0.7805929\tbest: 0.7805929 (788)\ttotal: 5m 31s\tremaining: 1m 28s\n",
      "789:\tlearn: 0.7934839\ttest: 0.7805929\tbest: 0.7805929 (788)\ttotal: 5m 31s\tremaining: 1m 28s\n",
      "790:\tlearn: 0.7934483\ttest: 0.7805551\tbest: 0.7805929 (788)\ttotal: 5m 32s\tremaining: 1m 27s\n",
      "791:\tlearn: 0.7935523\ttest: 0.7804878\tbest: 0.7805929 (788)\ttotal: 5m 32s\tremaining: 1m 27s\n",
      "792:\tlearn: 0.7935523\ttest: 0.7805551\tbest: 0.7805929 (788)\ttotal: 5m 32s\tremaining: 1m 26s\n",
      "793:\tlearn: 0.7933799\ttest: 0.7803533\tbest: 0.7805929 (788)\ttotal: 5m 33s\tremaining: 1m 26s\n",
      "794:\tlearn: 0.7933799\ttest: 0.7803533\tbest: 0.7805929 (788)\ttotal: 5m 33s\tremaining: 1m 26s\n",
      "795:\tlearn: 0.7934839\ttest: 0.7803154\tbest: 0.7805929 (788)\ttotal: 5m 34s\tremaining: 1m 25s\n",
      "796:\tlearn: 0.7937274\ttest: 0.7803827\tbest: 0.7805929 (788)\ttotal: 5m 34s\tremaining: 1m 25s\n",
      "797:\tlearn: 0.7938997\ttest: 0.7805256\tbest: 0.7805929 (788)\ttotal: 5m 35s\tremaining: 1m 24s\n",
      "798:\tlearn: 0.7937274\ttest: 0.7804205\tbest: 0.7805929 (788)\ttotal: 5m 35s\tremaining: 1m 24s\n",
      "799:\tlearn: 0.7937958\ttest: 0.7804205\tbest: 0.7805929 (788)\ttotal: 5m 35s\tremaining: 1m 23s\n",
      "800:\tlearn: 0.7938642\ttest: 0.7803154\tbest: 0.7805929 (788)\ttotal: 5m 36s\tremaining: 1m 23s\n",
      "801:\tlearn: 0.7939681\ttest: 0.7802103\tbest: 0.7805929 (788)\ttotal: 5m 36s\tremaining: 1m 23s\n",
      "802:\tlearn: 0.7940720\ttest: 0.7802103\tbest: 0.7805929 (788)\ttotal: 5m 37s\tremaining: 1m 22s\n",
      "803:\tlearn: 0.7940365\ttest: 0.7805551\tbest: 0.7805929 (788)\ttotal: 5m 37s\tremaining: 1m 22s\n",
      "804:\tlearn: 0.7939681\ttest: 0.7805551\tbest: 0.7805929 (788)\ttotal: 5m 37s\tremaining: 1m 21s\n",
      "805:\tlearn: 0.7937602\ttest: 0.7806980\tbest: 0.7806980 (805)\ttotal: 5m 38s\tremaining: 1m 21s\n",
      "806:\tlearn: 0.7937602\ttest: 0.7807358\tbest: 0.7807358 (806)\ttotal: 5m 38s\tremaining: 1m 21s\n",
      "807:\tlearn: 0.7937602\ttest: 0.7807358\tbest: 0.7807358 (806)\ttotal: 5m 39s\tremaining: 1m 20s\n",
      "808:\tlearn: 0.7936918\ttest: 0.7807358\tbest: 0.7807358 (806)\ttotal: 5m 39s\tremaining: 1m 20s\n",
      "809:\tlearn: 0.7936918\ttest: 0.7807358\tbest: 0.7807358 (806)\ttotal: 5m 40s\tremaining: 1m 19s\n",
      "810:\tlearn: 0.7937958\ttest: 0.7806307\tbest: 0.7807358 (806)\ttotal: 5m 40s\tremaining: 1m 19s\n",
      "811:\tlearn: 0.7937958\ttest: 0.7804205\tbest: 0.7807358 (806)\ttotal: 5m 40s\tremaining: 1m 18s\n",
      "812:\tlearn: 0.7937958\ttest: 0.7802103\tbest: 0.7807358 (806)\ttotal: 5m 41s\tremaining: 1m 18s\n",
      "813:\tlearn: 0.7938997\ttest: 0.7803154\tbest: 0.7807358 (806)\ttotal: 5m 41s\tremaining: 1m 18s\n",
      "814:\tlearn: 0.7940036\ttest: 0.7805635\tbest: 0.7807358 (806)\ttotal: 5m 42s\tremaining: 1m 17s\n",
      "815:\tlearn: 0.7940365\ttest: 0.7804584\tbest: 0.7807358 (806)\ttotal: 5m 42s\tremaining: 1m 17s\n",
      "816:\tlearn: 0.7939681\ttest: 0.7803533\tbest: 0.7807358 (806)\ttotal: 5m 43s\tremaining: 1m 16s\n",
      "817:\tlearn: 0.7940720\ttest: 0.7802482\tbest: 0.7807358 (806)\ttotal: 5m 43s\tremaining: 1m 16s\n",
      "818:\tlearn: 0.7940720\ttest: 0.7802482\tbest: 0.7807358 (806)\ttotal: 5m 43s\tremaining: 1m 16s\n",
      "819:\tlearn: 0.7940365\ttest: 0.7804205\tbest: 0.7807358 (806)\ttotal: 5m 44s\tremaining: 1m 15s\n",
      "820:\tlearn: 0.7941405\ttest: 0.7805256\tbest: 0.7807358 (806)\ttotal: 5m 44s\tremaining: 1m 15s\n",
      "821:\tlearn: 0.7943128\ttest: 0.7805256\tbest: 0.7807358 (806)\ttotal: 5m 45s\tremaining: 1m 14s\n",
      "822:\tlearn: 0.7943128\ttest: 0.7805256\tbest: 0.7807358 (806)\ttotal: 5m 45s\tremaining: 1m 14s\n",
      "823:\tlearn: 0.7944167\ttest: 0.7804878\tbest: 0.7807358 (806)\ttotal: 5m 46s\tremaining: 1m 13s\n",
      "824:\tlearn: 0.7942444\ttest: 0.7804205\tbest: 0.7807358 (806)\ttotal: 5m 46s\tremaining: 1m 13s\n",
      "825:\tlearn: 0.7941405\ttest: 0.7804205\tbest: 0.7807358 (806)\ttotal: 5m 47s\tremaining: 1m 13s\n",
      "826:\tlearn: 0.7941759\ttest: 0.7804878\tbest: 0.7807358 (806)\ttotal: 5m 47s\tremaining: 1m 12s\n",
      "827:\tlearn: 0.7941759\ttest: 0.7804878\tbest: 0.7807358 (806)\ttotal: 5m 47s\tremaining: 1m 12s\n",
      "828:\tlearn: 0.7941405\ttest: 0.7805929\tbest: 0.7807358 (806)\ttotal: 5m 48s\tremaining: 1m 11s\n",
      "829:\tlearn: 0.7943837\ttest: 0.7804205\tbest: 0.7807358 (806)\ttotal: 5m 48s\tremaining: 1m 11s\n",
      "830:\tlearn: 0.7946244\ttest: 0.7804205\tbest: 0.7807358 (806)\ttotal: 5m 49s\tremaining: 1m 11s\n",
      "831:\tlearn: 0.7946244\ttest: 0.7803533\tbest: 0.7807358 (806)\ttotal: 5m 49s\tremaining: 1m 10s\n",
      "832:\tlearn: 0.7945559\ttest: 0.7805256\tbest: 0.7807358 (806)\ttotal: 5m 50s\tremaining: 1m 10s\n",
      "833:\tlearn: 0.7946598\ttest: 0.7803911\tbest: 0.7807358 (806)\ttotal: 5m 50s\tremaining: 1m 9s\n",
      "834:\tlearn: 0.7946598\ttest: 0.7803911\tbest: 0.7807358 (806)\ttotal: 5m 50s\tremaining: 1m 9s\n",
      "835:\tlearn: 0.7947636\ttest: 0.7805635\tbest: 0.7807358 (806)\ttotal: 5m 51s\tremaining: 1m 8s\n",
      "836:\tlearn: 0.7947636\ttest: 0.7805635\tbest: 0.7807358 (806)\ttotal: 5m 51s\tremaining: 1m 8s\n",
      "837:\tlearn: 0.7946929\ttest: 0.7801516\tbest: 0.7807358 (806)\ttotal: 5m 52s\tremaining: 1m 8s\n",
      "838:\tlearn: 0.7946929\ttest: 0.7801516\tbest: 0.7807358 (806)\ttotal: 5m 52s\tremaining: 1m 7s\n",
      "839:\tlearn: 0.7949337\ttest: 0.7801137\tbest: 0.7807358 (806)\ttotal: 5m 53s\tremaining: 1m 7s\n",
      "840:\tlearn: 0.7948983\ttest: 0.7801810\tbest: 0.7807358 (806)\ttotal: 5m 53s\tremaining: 1m 6s\n",
      "841:\tlearn: 0.7948983\ttest: 0.7801810\tbest: 0.7807358 (806)\ttotal: 5m 53s\tremaining: 1m 6s\n",
      "842:\tlearn: 0.7947944\ttest: 0.7801810\tbest: 0.7807358 (806)\ttotal: 5m 54s\tremaining: 1m 5s\n",
      "843:\tlearn: 0.7950707\ttest: 0.7801810\tbest: 0.7807358 (806)\ttotal: 5m 54s\tremaining: 1m 5s\n",
      "844:\tlearn: 0.7951392\ttest: 0.7800758\tbest: 0.7807358 (806)\ttotal: 5m 55s\tremaining: 1m 5s\n",
      "845:\tlearn: 0.7951392\ttest: 0.7800758\tbest: 0.7807358 (806)\ttotal: 5m 55s\tremaining: 1m 4s\n",
      "846:\tlearn: 0.7950707\ttest: 0.7802861\tbest: 0.7807358 (806)\ttotal: 5m 56s\tremaining: 1m 4s\n",
      "847:\tlearn: 0.7950707\ttest: 0.7801810\tbest: 0.7807358 (806)\ttotal: 5m 56s\tremaining: 1m 3s\n",
      "848:\tlearn: 0.7950707\ttest: 0.7802861\tbest: 0.7807358 (806)\ttotal: 5m 56s\tremaining: 1m 3s\n",
      "849:\tlearn: 0.7953468\ttest: 0.7799414\tbest: 0.7807358 (806)\ttotal: 5m 57s\tremaining: 1m 3s\n",
      "850:\tlearn: 0.7952783\ttest: 0.7800465\tbest: 0.7807358 (806)\ttotal: 5m 57s\tremaining: 1m 2s\n",
      "851:\tlearn: 0.7952783\ttest: 0.7800465\tbest: 0.7807358 (806)\ttotal: 5m 58s\tremaining: 1m 2s\n",
      "852:\tlearn: 0.7954859\ttest: 0.7802567\tbest: 0.7807358 (806)\ttotal: 5m 58s\tremaining: 1m 1s\n",
      "853:\tlearn: 0.7955896\ttest: 0.7800172\tbest: 0.7807358 (806)\ttotal: 5m 59s\tremaining: 1m 1s\n",
      "854:\tlearn: 0.7957971\ttest: 0.7802652\tbest: 0.7807358 (806)\ttotal: 5m 59s\tremaining: 1m\n",
      "855:\tlearn: 0.7959693\ttest: 0.7802652\tbest: 0.7807358 (806)\ttotal: 6m\tremaining: 1m\n",
      "856:\tlearn: 0.7959693\ttest: 0.7800551\tbest: 0.7807358 (806)\ttotal: 6m\tremaining: 1m\n",
      "857:\tlearn: 0.7959693\ttest: 0.7800551\tbest: 0.7807358 (806)\ttotal: 6m\tremaining: 59.7s\n",
      "858:\tlearn: 0.7959693\ttest: 0.7800930\tbest: 0.7807358 (806)\ttotal: 6m 1s\tremaining: 59.3s\n",
      "859:\tlearn: 0.7959693\ttest: 0.7801980\tbest: 0.7807358 (806)\ttotal: 6m 1s\tremaining: 58.9s\n",
      "860:\tlearn: 0.7960730\ttest: 0.7801980\tbest: 0.7807358 (806)\ttotal: 6m 2s\tremaining: 58.5s\n",
      "861:\tlearn: 0.7965897\ttest: 0.7805424\tbest: 0.7807358 (806)\ttotal: 6m 2s\tremaining: 58.1s\n",
      "862:\tlearn: 0.7966583\ttest: 0.7805424\tbest: 0.7807358 (806)\ttotal: 6m 3s\tremaining: 57.6s\n",
      "863:\tlearn: 0.7966583\ttest: 0.7805424\tbest: 0.7807358 (806)\ttotal: 6m 3s\tremaining: 57.2s\n",
      "864:\tlearn: 0.7967956\ttest: 0.7805718\tbest: 0.7807358 (806)\ttotal: 6m 3s\tremaining: 56.8s\n",
      "865:\tlearn: 0.7967956\ttest: 0.7805340\tbest: 0.7807358 (806)\ttotal: 6m 4s\tremaining: 56.4s\n",
      "866:\tlearn: 0.7967956\ttest: 0.7806013\tbest: 0.7807358 (806)\ttotal: 6m 4s\tremaining: 56s\n",
      "867:\tlearn: 0.7967956\ttest: 0.7806013\tbest: 0.7807358 (806)\ttotal: 6m 5s\tremaining: 55.5s\n",
      "868:\tlearn: 0.7967270\ttest: 0.7807735\tbest: 0.7807735 (868)\ttotal: 6m 5s\tremaining: 55.1s\n",
      "869:\tlearn: 0.7968306\ttest: 0.7809163\tbest: 0.7809163 (869)\ttotal: 6m 6s\tremaining: 54.7s\n",
      "870:\tlearn: 0.7969679\ttest: 0.7810508\tbest: 0.7810508 (870)\ttotal: 6m 6s\tremaining: 54.3s\n",
      "871:\tlearn: 0.7970028\ttest: 0.7809163\tbest: 0.7810508 (870)\ttotal: 6m 6s\tremaining: 53.9s\n",
      "872:\tlearn: 0.7969342\ttest: 0.7810213\tbest: 0.7810508 (870)\ttotal: 6m 7s\tremaining: 53.4s\n",
      "873:\tlearn: 0.7970378\ttest: 0.7808490\tbest: 0.7810508 (870)\ttotal: 6m 7s\tremaining: 53s\n",
      "874:\tlearn: 0.7970378\ttest: 0.7806768\tbest: 0.7810508 (870)\ttotal: 6m 8s\tremaining: 52.6s\n",
      "875:\tlearn: 0.7971414\ttest: 0.7806768\tbest: 0.7810508 (870)\ttotal: 6m 8s\tremaining: 52.2s\n",
      "876:\tlearn: 0.7972100\ttest: 0.7807441\tbest: 0.7810508 (870)\ttotal: 6m 9s\tremaining: 51.8s\n",
      "877:\tlearn: 0.7973136\ttest: 0.7807441\tbest: 0.7810508 (870)\ttotal: 6m 9s\tremaining: 51.3s\n",
      "878:\tlearn: 0.7973822\ttest: 0.7806768\tbest: 0.7810508 (870)\ttotal: 6m 9s\tremaining: 50.9s\n",
      "879:\tlearn: 0.7974509\ttest: 0.7807441\tbest: 0.7810508 (870)\ttotal: 6m 10s\tremaining: 50.5s\n",
      "880:\tlearn: 0.7974509\ttest: 0.7808113\tbest: 0.7810508 (870)\ttotal: 6m 10s\tremaining: 50.1s\n",
      "881:\tlearn: 0.7975545\ttest: 0.7809163\tbest: 0.7810508 (870)\ttotal: 6m 11s\tremaining: 49.7s\n",
      "882:\tlearn: 0.7975545\ttest: 0.7808113\tbest: 0.7810508 (870)\ttotal: 6m 11s\tremaining: 49.2s\n",
      "883:\tlearn: 0.7975545\ttest: 0.7808786\tbest: 0.7810508 (870)\ttotal: 6m 12s\tremaining: 48.8s\n",
      "884:\tlearn: 0.7976580\ttest: 0.7808786\tbest: 0.7810508 (870)\ttotal: 6m 12s\tremaining: 48.4s\n",
      "885:\tlearn: 0.7976580\ttest: 0.7808786\tbest: 0.7810508 (870)\ttotal: 6m 12s\tremaining: 48s\n",
      "886:\tlearn: 0.7977615\ttest: 0.7808786\tbest: 0.7810508 (870)\ttotal: 6m 13s\tremaining: 47.6s\n",
      "887:\tlearn: 0.7975893\ttest: 0.7810885\tbest: 0.7810885 (887)\ttotal: 6m 13s\tremaining: 47.1s\n",
      "888:\tlearn: 0.7975207\ttest: 0.7810885\tbest: 0.7810885 (887)\ttotal: 6m 14s\tremaining: 46.7s\n",
      "889:\tlearn: 0.7974869\ttest: 0.7808786\tbest: 0.7810885 (887)\ttotal: 6m 14s\tremaining: 46.3s\n",
      "890:\tlearn: 0.7978311\ttest: 0.7808113\tbest: 0.7810885 (887)\ttotal: 6m 15s\tremaining: 45.9s\n",
      "891:\tlearn: 0.7978311\ttest: 0.7808786\tbest: 0.7810885 (887)\ttotal: 6m 15s\tremaining: 45.5s\n",
      "892:\tlearn: 0.7978998\ttest: 0.7808786\tbest: 0.7810885 (887)\ttotal: 6m 15s\tremaining: 45.1s\n",
      "893:\tlearn: 0.7978311\ttest: 0.7809458\tbest: 0.7810885 (887)\ttotal: 6m 16s\tremaining: 44.6s\n",
      "894:\tlearn: 0.7977625\ttest: 0.7809458\tbest: 0.7810885 (887)\ttotal: 6m 16s\tremaining: 44.2s\n",
      "895:\tlearn: 0.7978311\ttest: 0.7810508\tbest: 0.7810885 (887)\ttotal: 6m 17s\tremaining: 43.8s\n",
      "896:\tlearn: 0.7977625\ttest: 0.7809836\tbest: 0.7810885 (887)\ttotal: 6m 17s\tremaining: 43.4s\n",
      "897:\tlearn: 0.7978311\ttest: 0.7809163\tbest: 0.7810885 (887)\ttotal: 6m 18s\tremaining: 42.9s\n",
      "898:\tlearn: 0.7977625\ttest: 0.7809836\tbest: 0.7810885 (887)\ttotal: 6m 18s\tremaining: 42.5s\n",
      "899:\tlearn: 0.7977625\ttest: 0.7809836\tbest: 0.7810885 (887)\ttotal: 6m 19s\tremaining: 42.1s\n",
      "900:\tlearn: 0.7979346\ttest: 0.7811558\tbest: 0.7811558 (900)\ttotal: 6m 19s\tremaining: 41.7s\n",
      "901:\tlearn: 0.7979346\ttest: 0.7811558\tbest: 0.7811558 (900)\ttotal: 6m 19s\tremaining: 41.3s\n",
      "902:\tlearn: 0.7979346\ttest: 0.7810885\tbest: 0.7811558 (900)\ttotal: 6m 20s\tremaining: 40.9s\n",
      "903:\tlearn: 0.7981067\ttest: 0.7809836\tbest: 0.7811558 (900)\ttotal: 6m 20s\tremaining: 40.4s\n",
      "904:\tlearn: 0.7980720\ttest: 0.7808786\tbest: 0.7811558 (900)\ttotal: 6m 21s\tremaining: 40s\n",
      "905:\tlearn: 0.7980720\ttest: 0.7808786\tbest: 0.7811558 (900)\ttotal: 6m 21s\tremaining: 39.6s\n",
      "906:\tlearn: 0.7982788\ttest: 0.7809163\tbest: 0.7811558 (900)\ttotal: 6m 22s\tremaining: 39.2s\n",
      "907:\tlearn: 0.7981754\ttest: 0.7809458\tbest: 0.7811558 (900)\ttotal: 6m 22s\tremaining: 38.8s\n",
      "908:\tlearn: 0.7981754\ttest: 0.7809458\tbest: 0.7811558 (900)\ttotal: 6m 22s\tremaining: 38.3s\n",
      "909:\tlearn: 0.7981754\ttest: 0.7809458\tbest: 0.7811558 (900)\ttotal: 6m 23s\tremaining: 37.9s\n",
      "910:\tlearn: 0.7982788\ttest: 0.7809458\tbest: 0.7811558 (900)\ttotal: 6m 23s\tremaining: 37.5s\n",
      "911:\tlearn: 0.7982788\ttest: 0.7812231\tbest: 0.7812231 (911)\ttotal: 6m 24s\tremaining: 37.1s\n",
      "912:\tlearn: 0.7983135\ttest: 0.7811181\tbest: 0.7812231 (911)\ttotal: 6m 24s\tremaining: 36.7s\n",
      "913:\tlearn: 0.7983135\ttest: 0.7810131\tbest: 0.7812231 (911)\ttotal: 6m 25s\tremaining: 36.2s\n",
      "914:\tlearn: 0.7983822\ttest: 0.7811181\tbest: 0.7812231 (911)\ttotal: 6m 25s\tremaining: 35.8s\n",
      "915:\tlearn: 0.7985197\ttest: 0.7811181\tbest: 0.7812231 (911)\ttotal: 6m 25s\tremaining: 35.4s\n",
      "916:\tlearn: 0.7985197\ttest: 0.7811181\tbest: 0.7812231 (911)\ttotal: 6m 26s\tremaining: 35s\n",
      "917:\tlearn: 0.7985197\ttest: 0.7811558\tbest: 0.7812231 (911)\ttotal: 6m 26s\tremaining: 34.5s\n",
      "918:\tlearn: 0.7985537\ttest: 0.7811935\tbest: 0.7812231 (911)\ttotal: 6m 27s\tremaining: 34.1s\n",
      "919:\tlearn: 0.7985537\ttest: 0.7812608\tbest: 0.7812608 (919)\ttotal: 6m 27s\tremaining: 33.7s\n",
      "920:\tlearn: 0.7984163\ttest: 0.7813281\tbest: 0.7813281 (920)\ttotal: 6m 28s\tremaining: 33.3s\n",
      "921:\tlearn: 0.7985197\ttest: 0.7813281\tbest: 0.7813281 (920)\ttotal: 6m 28s\tremaining: 32.9s\n",
      "922:\tlearn: 0.7988293\ttest: 0.7811558\tbest: 0.7813281 (920)\ttotal: 6m 28s\tremaining: 32.4s\n",
      "923:\tlearn: 0.7989669\ttest: 0.7813657\tbest: 0.7813657 (923)\ttotal: 6m 29s\tremaining: 32s\n",
      "924:\tlearn: 0.7989669\ttest: 0.7812608\tbest: 0.7813657 (923)\ttotal: 6m 29s\tremaining: 31.6s\n",
      "925:\tlearn: 0.7990015\ttest: 0.7812608\tbest: 0.7813657 (923)\ttotal: 6m 30s\tremaining: 31.2s\n",
      "926:\tlearn: 0.7989327\ttest: 0.7811935\tbest: 0.7813657 (923)\ttotal: 6m 30s\tremaining: 30.8s\n",
      "927:\tlearn: 0.7991394\ttest: 0.7813281\tbest: 0.7813657 (923)\ttotal: 6m 31s\tremaining: 30.3s\n",
      "928:\tlearn: 0.7991740\ttest: 0.7813281\tbest: 0.7813657 (923)\ttotal: 6m 31s\tremaining: 29.9s\n",
      "929:\tlearn: 0.7993461\ttest: 0.7813281\tbest: 0.7813657 (923)\ttotal: 6m 31s\tremaining: 29.5s\n",
      "930:\tlearn: 0.7994494\ttest: 0.7814330\tbest: 0.7814330 (930)\ttotal: 6m 32s\tremaining: 29.1s\n",
      "931:\tlearn: 0.7994494\ttest: 0.7815755\tbest: 0.7815755 (931)\ttotal: 6m 32s\tremaining: 28.7s\n",
      "932:\tlearn: 0.7992085\ttest: 0.7817180\tbest: 0.7817180 (932)\ttotal: 6m 33s\tremaining: 28.2s\n",
      "933:\tlearn: 0.7992085\ttest: 0.7816507\tbest: 0.7817180 (932)\ttotal: 6m 33s\tremaining: 27.8s\n",
      "934:\tlearn: 0.7992773\ttest: 0.7817180\tbest: 0.7817180 (932)\ttotal: 6m 34s\tremaining: 27.4s\n",
      "935:\tlearn: 0.7993461\ttest: 0.7817180\tbest: 0.7817180 (932)\ttotal: 6m 34s\tremaining: 27s\n",
      "936:\tlearn: 0.7994149\ttest: 0.7817180\tbest: 0.7817180 (932)\ttotal: 6m 34s\tremaining: 26.6s\n",
      "937:\tlearn: 0.7994149\ttest: 0.7817853\tbest: 0.7817853 (937)\ttotal: 6m 35s\tremaining: 26.1s\n",
      "938:\tlearn: 0.7994149\ttest: 0.7817853\tbest: 0.7817853 (937)\ttotal: 6m 35s\tremaining: 25.7s\n",
      "939:\tlearn: 0.7994149\ttest: 0.7817853\tbest: 0.7817853 (937)\ttotal: 6m 36s\tremaining: 25.3s\n",
      "940:\tlearn: 0.7994149\ttest: 0.7817853\tbest: 0.7817853 (937)\ttotal: 6m 36s\tremaining: 24.9s\n",
      "941:\tlearn: 0.7994149\ttest: 0.7815755\tbest: 0.7817853 (937)\ttotal: 6m 36s\tremaining: 24.4s\n",
      "942:\tlearn: 0.7995182\ttest: 0.7816804\tbest: 0.7817853 (937)\ttotal: 6m 37s\tremaining: 24s\n",
      "943:\tlearn: 0.7995182\ttest: 0.7817853\tbest: 0.7817853 (937)\ttotal: 6m 37s\tremaining: 23.6s\n",
      "944:\tlearn: 0.7994836\ttest: 0.7817853\tbest: 0.7817853 (937)\ttotal: 6m 38s\tremaining: 23.2s\n",
      "945:\tlearn: 0.7998623\ttest: 0.7818902\tbest: 0.7818902 (945)\ttotal: 6m 38s\tremaining: 22.8s\n",
      "946:\tlearn: 0.7998623\ttest: 0.7819277\tbest: 0.7819277 (946)\ttotal: 6m 39s\tremaining: 22.3s\n",
      "947:\tlearn: 0.8000000\ttest: 0.7815459\tbest: 0.7819277 (946)\ttotal: 6m 39s\tremaining: 21.9s\n",
      "948:\tlearn: 0.8000000\ttest: 0.7815459\tbest: 0.7819277 (946)\ttotal: 6m 40s\tremaining: 21.5s\n",
      "949:\tlearn: 0.8000000\ttest: 0.7816132\tbest: 0.7819277 (946)\ttotal: 6m 40s\tremaining: 21.1s\n",
      "950:\tlearn: 0.8000000\ttest: 0.7816132\tbest: 0.7819277 (946)\ttotal: 6m 40s\tremaining: 20.7s\n",
      "951:\tlearn: 0.8001033\ttest: 0.7815083\tbest: 0.7819277 (946)\ttotal: 6m 41s\tremaining: 20.2s\n",
      "952:\tlearn: 0.8003789\ttest: 0.7819652\tbest: 0.7819652 (952)\ttotal: 6m 41s\tremaining: 19.8s\n",
      "953:\tlearn: 0.8003100\ttest: 0.7819652\tbest: 0.7819652 (952)\ttotal: 6m 42s\tremaining: 19.4s\n",
      "954:\tlearn: 0.8003100\ttest: 0.7817556\tbest: 0.7819652 (952)\ttotal: 6m 42s\tremaining: 19s\n",
      "955:\tlearn: 0.8003444\ttest: 0.7817180\tbest: 0.7819652 (952)\ttotal: 6m 43s\tremaining: 18.6s\n",
      "956:\tlearn: 0.8003444\ttest: 0.7817180\tbest: 0.7819652 (952)\ttotal: 6m 43s\tremaining: 18.1s\n",
      "957:\tlearn: 0.8003444\ttest: 0.7818229\tbest: 0.7819652 (952)\ttotal: 6m 43s\tremaining: 17.7s\n",
      "958:\tlearn: 0.8003444\ttest: 0.7820623\tbest: 0.7820623 (958)\ttotal: 6m 44s\tremaining: 17.3s\n",
      "959:\tlearn: 0.8003444\ttest: 0.7820998\tbest: 0.7820998 (959)\ttotal: 6m 44s\tremaining: 16.9s\n",
      "960:\tlearn: 0.8004133\ttest: 0.7820623\tbest: 0.7820998 (959)\ttotal: 6m 45s\tremaining: 16.4s\n",
      "961:\tlearn: 0.8003100\ttest: 0.7821671\tbest: 0.7821671 (961)\ttotal: 6m 45s\tremaining: 16s\n",
      "962:\tlearn: 0.8004133\ttest: 0.7822421\tbest: 0.7822421 (962)\ttotal: 6m 46s\tremaining: 15.6s\n",
      "963:\tlearn: 0.8004133\ttest: 0.7823094\tbest: 0.7823094 (963)\ttotal: 6m 46s\tremaining: 15.2s\n",
      "964:\tlearn: 0.8004133\ttest: 0.7824815\tbest: 0.7824815 (964)\ttotal: 6m 46s\tremaining: 14.8s\n",
      "965:\tlearn: 0.8005166\ttest: 0.7822719\tbest: 0.7824815 (964)\ttotal: 6m 47s\tremaining: 14.3s\n",
      "966:\tlearn: 0.8005166\ttest: 0.7822719\tbest: 0.7824815 (964)\ttotal: 6m 47s\tremaining: 13.9s\n",
      "967:\tlearn: 0.8004133\ttest: 0.7822046\tbest: 0.7824815 (964)\ttotal: 6m 48s\tremaining: 13.5s\n",
      "968:\tlearn: 0.8004477\ttest: 0.7820998\tbest: 0.7824815 (964)\ttotal: 6m 48s\tremaining: 13.1s\n",
      "969:\tlearn: 0.8006888\ttest: 0.7822046\tbest: 0.7824815 (964)\ttotal: 6m 49s\tremaining: 12.7s\n",
      "970:\tlearn: 0.8008952\ttest: 0.7822046\tbest: 0.7824815 (964)\ttotal: 6m 49s\tremaining: 12.2s\n",
      "971:\tlearn: 0.8008952\ttest: 0.7820998\tbest: 0.7824815 (964)\ttotal: 6m 49s\tremaining: 11.8s\n",
      "972:\tlearn: 0.8008952\ttest: 0.7820998\tbest: 0.7824815 (964)\ttotal: 6m 50s\tremaining: 11.4s\n",
      "973:\tlearn: 0.8009985\ttest: 0.7820998\tbest: 0.7824815 (964)\ttotal: 6m 50s\tremaining: 11s\n",
      "974:\tlearn: 0.8011016\ttest: 0.7820998\tbest: 0.7824815 (964)\ttotal: 6m 51s\tremaining: 10.5s\n",
      "975:\tlearn: 0.8012048\ttest: 0.7822719\tbest: 0.7824815 (964)\ttotal: 6m 51s\tremaining: 10.1s\n",
      "976:\tlearn: 0.8012048\ttest: 0.7822345\tbest: 0.7824815 (964)\ttotal: 6m 52s\tremaining: 9.7s\n",
      "977:\tlearn: 0.8012048\ttest: 0.7822345\tbest: 0.7824815 (964)\ttotal: 6m 52s\tremaining: 9.28s\n",
      "978:\tlearn: 0.8013422\ttest: 0.7820998\tbest: 0.7824815 (964)\ttotal: 6m 53s\tremaining: 8.86s\n",
      "979:\tlearn: 0.8014801\ttest: 0.7822719\tbest: 0.7824815 (964)\ttotal: 6m 53s\tremaining: 8.44s\n",
      "980:\tlearn: 0.8014801\ttest: 0.7822719\tbest: 0.7824815 (964)\ttotal: 6m 53s\tremaining: 8.02s\n",
      "981:\tlearn: 0.8014801\ttest: 0.7822719\tbest: 0.7824815 (964)\ttotal: 6m 54s\tremaining: 7.59s\n",
      "982:\tlearn: 0.8015832\ttest: 0.7822719\tbest: 0.7824815 (964)\ttotal: 6m 54s\tremaining: 7.17s\n",
      "983:\tlearn: 0.8017204\ttest: 0.7818902\tbest: 0.7824815 (964)\ttotal: 6m 55s\tremaining: 6.75s\n",
      "984:\tlearn: 0.8018584\ttest: 0.7820998\tbest: 0.7824815 (964)\ttotal: 6m 55s\tremaining: 6.33s\n",
      "985:\tlearn: 0.8019964\ttest: 0.7820998\tbest: 0.7824815 (964)\ttotal: 6m 56s\tremaining: 5.91s\n",
      "986:\tlearn: 0.8018933\ttest: 0.7820998\tbest: 0.7824815 (964)\ttotal: 6m 56s\tremaining: 5.49s\n",
      "987:\tlearn: 0.8019964\ttest: 0.7820998\tbest: 0.7824815 (964)\ttotal: 6m 56s\tremaining: 5.06s\n",
      "988:\tlearn: 0.8019964\ttest: 0.7820998\tbest: 0.7824815 (964)\ttotal: 6m 57s\tremaining: 4.64s\n",
      "989:\tlearn: 0.8022716\ttest: 0.7819277\tbest: 0.7824815 (964)\ttotal: 6m 57s\tremaining: 4.22s\n",
      "990:\tlearn: 0.8023746\ttest: 0.7818604\tbest: 0.7824815 (964)\ttotal: 6m 58s\tremaining: 3.8s\n",
      "991:\tlearn: 0.8023746\ttest: 0.7819652\tbest: 0.7824815 (964)\ttotal: 6m 58s\tremaining: 3.38s\n",
      "992:\tlearn: 0.8023746\ttest: 0.7819652\tbest: 0.7824815 (964)\ttotal: 6m 59s\tremaining: 2.95s\n",
      "993:\tlearn: 0.8023746\ttest: 0.7818980\tbest: 0.7824815 (964)\ttotal: 6m 59s\tremaining: 2.53s\n",
      "994:\tlearn: 0.8023746\ttest: 0.7820028\tbest: 0.7824815 (964)\ttotal: 6m 59s\tremaining: 2.11s\n",
      "995:\tlearn: 0.8025806\ttest: 0.7821075\tbest: 0.7824815 (964)\ttotal: 7m\tremaining: 1.69s\n",
      "996:\tlearn: 0.8025806\ttest: 0.7822123\tbest: 0.7824815 (964)\ttotal: 7m\tremaining: 1.26s\n",
      "997:\tlearn: 0.8028896\ttest: 0.7820777\tbest: 0.7824815 (964)\ttotal: 7m 1s\tremaining: 844ms\n",
      "998:\tlearn: 0.8028896\ttest: 0.7821825\tbest: 0.7824815 (964)\ttotal: 7m 1s\tremaining: 422ms\n",
      "999:\tlearn: 0.8028896\ttest: 0.7821825\tbest: 0.7824815 (964)\ttotal: 7m 2s\tremaining: 0us\n",
      "\n",
      "bestTest = 0.7824815006\n",
      "bestIteration = 964\n",
      "\n",
      "Training on fold [1/2]\n",
      "0:\tlearn: 0.6854597\ttest: 0.7295139\tbest: 0.7295139 (0)\ttotal: 400ms\tremaining: 6m 39s\n",
      "1:\tlearn: 0.6850184\ttest: 0.7286471\tbest: 0.7295139 (0)\ttotal: 824ms\tremaining: 6m 50s\n",
      "2:\tlearn: 0.6923711\ttest: 0.7363385\tbest: 0.7363385 (2)\ttotal: 1.27s\tremaining: 7m 2s\n",
      "3:\tlearn: 0.6876189\ttest: 0.7332716\tbest: 0.7363385 (2)\ttotal: 1.72s\tremaining: 7m 9s\n",
      "4:\tlearn: 0.6877686\ttest: 0.7334848\tbest: 0.7363385 (2)\ttotal: 2.15s\tremaining: 7m 8s\n",
      "5:\tlearn: 0.6873347\ttest: 0.7332716\tbest: 0.7363385 (2)\ttotal: 2.6s\tremaining: 7m 10s\n",
      "6:\tlearn: 0.6822599\ttest: 0.7277314\tbest: 0.7363385 (2)\ttotal: 3.05s\tremaining: 7m 12s\n",
      "7:\tlearn: 0.6819198\ttest: 0.7276207\tbest: 0.7363385 (2)\ttotal: 3.49s\tremaining: 7m 12s\n",
      "8:\tlearn: 0.6838444\ttest: 0.7286161\tbest: 0.7363385 (2)\ttotal: 3.91s\tremaining: 7m 10s\n",
      "9:\tlearn: 0.6808548\ttest: 0.7242531\tbest: 0.7363385 (2)\ttotal: 4.35s\tremaining: 7m 11s\n",
      "10:\tlearn: 0.6785185\ttest: 0.7226284\tbest: 0.7363385 (2)\ttotal: 4.79s\tremaining: 7m 10s\n",
      "11:\tlearn: 0.6770257\ttest: 0.7197943\tbest: 0.7363385 (2)\ttotal: 5.21s\tremaining: 7m 9s\n",
      "12:\tlearn: 0.6770824\ttest: 0.7197943\tbest: 0.7363385 (2)\ttotal: 5.61s\tremaining: 7m 6s\n",
      "13:\tlearn: 0.6796556\ttest: 0.7233855\tbest: 0.7363385 (2)\ttotal: 6.03s\tremaining: 7m 4s\n",
      "14:\tlearn: 0.6815458\ttest: 0.7238681\tbest: 0.7363385 (2)\ttotal: 6.46s\tremaining: 7m 4s\n",
      "15:\tlearn: 0.6808733\ttest: 0.7242016\tbest: 0.7363385 (2)\ttotal: 6.88s\tremaining: 7m 3s\n",
      "16:\tlearn: 0.6788782\ttest: 0.7212679\tbest: 0.7363385 (2)\ttotal: 7.3s\tremaining: 7m 2s\n",
      "17:\tlearn: 0.6796916\ttest: 0.7226891\tbest: 0.7363385 (2)\ttotal: 7.74s\tremaining: 7m 2s\n",
      "18:\tlearn: 0.6810782\ttest: 0.7239307\tbest: 0.7363385 (2)\ttotal: 8.16s\tremaining: 7m 1s\n",
      "19:\tlearn: 0.6816551\ttest: 0.7245916\tbest: 0.7363385 (2)\ttotal: 8.6s\tremaining: 7m 1s\n",
      "20:\tlearn: 0.6822871\ttest: 0.7244303\tbest: 0.7363385 (2)\ttotal: 9.02s\tremaining: 7m\n",
      "21:\tlearn: 0.6824620\ttest: 0.7246556\tbest: 0.7363385 (2)\ttotal: 9.45s\tremaining: 6m 59s\n",
      "22:\tlearn: 0.6846422\ttest: 0.7253310\tbest: 0.7363385 (2)\ttotal: 9.85s\tremaining: 6m 58s\n",
      "23:\tlearn: 0.6849865\ttest: 0.7260056\tbest: 0.7363385 (2)\ttotal: 10.3s\tremaining: 6m 57s\n",
      "24:\tlearn: 0.6853952\ttest: 0.7263585\tbest: 0.7363385 (2)\ttotal: 10.7s\tremaining: 6m 56s\n",
      "25:\tlearn: 0.6861976\ttest: 0.7267596\tbest: 0.7363385 (2)\ttotal: 11.1s\tremaining: 6m 55s\n",
      "26:\tlearn: 0.6861327\ttest: 0.7268237\tbest: 0.7363385 (2)\ttotal: 11.6s\tremaining: 6m 57s\n",
      "27:\tlearn: 0.6868792\ttest: 0.7270804\tbest: 0.7363385 (2)\ttotal: 12s\tremaining: 6m 58s\n",
      "28:\tlearn: 0.6876197\ttest: 0.7277053\tbest: 0.7363385 (2)\ttotal: 12.5s\tremaining: 6m 59s\n",
      "29:\tlearn: 0.6883049\ttest: 0.7279133\tbest: 0.7363385 (2)\ttotal: 13s\tremaining: 6m 59s\n",
      "30:\tlearn: 0.6888154\ttest: 0.7289210\tbest: 0.7363385 (2)\ttotal: 13.4s\tremaining: 6m 58s\n",
      "31:\tlearn: 0.6896672\ttest: 0.7296560\tbest: 0.7363385 (2)\ttotal: 13.8s\tremaining: 6m 58s\n",
      "32:\tlearn: 0.6902392\ttest: 0.7279802\tbest: 0.7363385 (2)\ttotal: 14.2s\tremaining: 6m 57s\n",
      "33:\tlearn: 0.6907504\ttest: 0.7285904\tbest: 0.7363385 (2)\ttotal: 14.7s\tremaining: 6m 57s\n",
      "34:\tlearn: 0.6915432\ttest: 0.7296031\tbest: 0.7363385 (2)\ttotal: 15.1s\tremaining: 6m 57s\n",
      "35:\tlearn: 0.6924551\ttest: 0.7306267\tbest: 0.7363385 (2)\ttotal: 15.5s\tremaining: 6m 56s\n",
      "36:\tlearn: 0.6934192\ttest: 0.7311392\tbest: 0.7363385 (2)\ttotal: 16s\tremaining: 6m 55s\n",
      "37:\tlearn: 0.6936638\ttest: 0.7313274\tbest: 0.7363385 (2)\ttotal: 16.4s\tremaining: 6m 54s\n",
      "38:\tlearn: 0.6955005\ttest: 0.7318411\tbest: 0.7363385 (2)\ttotal: 16.8s\tremaining: 6m 53s\n",
      "39:\tlearn: 0.6955305\ttest: 0.7301136\tbest: 0.7363385 (2)\ttotal: 17.2s\tremaining: 6m 53s\n",
      "40:\tlearn: 0.6967300\ttest: 0.7302068\tbest: 0.7363385 (2)\ttotal: 17.6s\tremaining: 6m 52s\n",
      "41:\tlearn: 0.6977312\ttest: 0.7320701\tbest: 0.7363385 (2)\ttotal: 18s\tremaining: 6m 51s\n",
      "42:\tlearn: 0.6978894\ttest: 0.7323894\tbest: 0.7363385 (2)\ttotal: 18.5s\tremaining: 6m 50s\n",
      "43:\tlearn: 0.6983435\ttest: 0.7331269\tbest: 0.7363385 (2)\ttotal: 18.9s\tremaining: 6m 50s\n",
      "44:\tlearn: 0.6987994\ttest: 0.7321238\tbest: 0.7363385 (2)\ttotal: 19.3s\tremaining: 6m 50s\n",
      "45:\tlearn: 0.6983653\ttest: 0.7308893\tbest: 0.7363385 (2)\ttotal: 19.8s\tremaining: 6m 50s\n",
      "46:\tlearn: 0.6980330\ttest: 0.7294773\tbest: 0.7363385 (2)\ttotal: 20.2s\tremaining: 6m 50s\n",
      "47:\tlearn: 0.6987248\ttest: 0.7295089\tbest: 0.7363385 (2)\ttotal: 20.7s\tremaining: 6m 49s\n",
      "48:\tlearn: 0.6993539\ttest: 0.7302413\tbest: 0.7363385 (2)\ttotal: 21.1s\tremaining: 6m 49s\n",
      "49:\tlearn: 0.7002563\ttest: 0.7313099\tbest: 0.7363385 (2)\ttotal: 21.6s\tremaining: 6m 50s\n",
      "50:\tlearn: 0.7006009\ttest: 0.7315370\tbest: 0.7363385 (2)\ttotal: 22s\tremaining: 6m 49s\n",
      "51:\tlearn: 0.7015189\ttest: 0.7319911\tbest: 0.7363385 (2)\ttotal: 22.4s\tremaining: 6m 49s\n",
      "52:\tlearn: 0.7017482\ttest: 0.7321524\tbest: 0.7363385 (2)\ttotal: 22.9s\tremaining: 6m 48s\n",
      "53:\tlearn: 0.7016862\ttest: 0.7323314\tbest: 0.7363385 (2)\ttotal: 23.3s\tremaining: 6m 48s\n",
      "54:\tlearn: 0.7021389\ttest: 0.7317554\tbest: 0.7363385 (2)\ttotal: 23.7s\tremaining: 6m 47s\n",
      "55:\tlearn: 0.7024830\ttest: 0.7322101\tbest: 0.7363385 (2)\ttotal: 24.1s\tremaining: 6m 46s\n",
      "56:\tlearn: 0.7027648\ttest: 0.7334407\tbest: 0.7363385 (2)\ttotal: 24.6s\tremaining: 6m 46s\n",
      "57:\tlearn: 0.7041284\ttest: 0.7343764\tbest: 0.7363385 (2)\ttotal: 25s\tremaining: 6m 46s\n",
      "58:\tlearn: 0.7036383\ttest: 0.7325508\tbest: 0.7363385 (2)\ttotal: 25.4s\tremaining: 6m 45s\n",
      "59:\tlearn: 0.7040861\ttest: 0.7336495\tbest: 0.7363385 (2)\ttotal: 25.8s\tremaining: 6m 44s\n",
      "60:\tlearn: 0.7051768\ttest: 0.7343582\tbest: 0.7363385 (2)\ttotal: 26.3s\tremaining: 6m 44s\n",
      "61:\tlearn: 0.7058927\ttest: 0.7329871\tbest: 0.7363385 (2)\ttotal: 26.7s\tremaining: 6m 43s\n",
      "62:\tlearn: 0.7058928\ttest: 0.7320578\tbest: 0.7363385 (2)\ttotal: 27.1s\tremaining: 6m 43s\n",
      "63:\tlearn: 0.7064862\ttest: 0.7320097\tbest: 0.7363385 (2)\ttotal: 27.6s\tremaining: 6m 43s\n",
      "64:\tlearn: 0.7065688\ttest: 0.7324298\tbest: 0.7363385 (2)\ttotal: 28.1s\tremaining: 6m 43s\n",
      "65:\tlearn: 0.7073063\ttest: 0.7330284\tbest: 0.7363385 (2)\ttotal: 28.5s\tremaining: 6m 43s\n",
      "66:\tlearn: 0.7071725\ttest: 0.7321364\tbest: 0.7363385 (2)\ttotal: 29s\tremaining: 6m 43s\n",
      "67:\tlearn: 0.7074987\ttest: 0.7312641\tbest: 0.7363385 (2)\ttotal: 29.4s\tremaining: 6m 42s\n",
      "68:\tlearn: 0.7078940\ttest: 0.7316371\tbest: 0.7363385 (2)\ttotal: 29.8s\tremaining: 6m 42s\n",
      "69:\tlearn: 0.7088092\ttest: 0.7322070\tbest: 0.7363385 (2)\ttotal: 30.2s\tremaining: 6m 41s\n",
      "70:\tlearn: 0.7091231\ttest: 0.7320931\tbest: 0.7363385 (2)\ttotal: 30.7s\tremaining: 6m 41s\n",
      "71:\tlearn: 0.7097973\ttest: 0.7328724\tbest: 0.7363385 (2)\ttotal: 31.2s\tremaining: 6m 41s\n",
      "72:\tlearn: 0.7097231\ttest: 0.7331299\tbest: 0.7363385 (2)\ttotal: 31.7s\tremaining: 6m 42s\n",
      "73:\tlearn: 0.7102308\ttest: 0.7334051\tbest: 0.7363385 (2)\ttotal: 32.1s\tremaining: 6m 42s\n",
      "74:\tlearn: 0.7097630\ttest: 0.7334709\tbest: 0.7363385 (2)\ttotal: 32.6s\tremaining: 6m 42s\n",
      "75:\tlearn: 0.7102820\ttest: 0.7335367\tbest: 0.7363385 (2)\ttotal: 33s\tremaining: 6m 41s\n",
      "76:\tlearn: 0.7103332\ttest: 0.7333273\tbest: 0.7363385 (2)\ttotal: 33.5s\tremaining: 6m 41s\n",
      "77:\tlearn: 0.7108519\ttest: 0.7343974\tbest: 0.7363385 (2)\ttotal: 33.9s\tremaining: 6m 40s\n",
      "78:\tlearn: 0.7111425\ttest: 0.7350596\tbest: 0.7363385 (2)\ttotal: 34.3s\tremaining: 6m 40s\n",
      "79:\tlearn: 0.7117626\ttest: 0.7350887\tbest: 0.7363385 (2)\ttotal: 34.8s\tremaining: 6m 39s\n",
      "80:\tlearn: 0.7116998\ttest: 0.7350228\tbest: 0.7363385 (2)\ttotal: 35.2s\tremaining: 6m 39s\n",
      "81:\tlearn: 0.7118764\ttest: 0.7349754\tbest: 0.7363385 (2)\ttotal: 35.6s\tremaining: 6m 38s\n",
      "82:\tlearn: 0.7120410\ttest: 0.7353626\tbest: 0.7363385 (2)\ttotal: 36s\tremaining: 6m 38s\n",
      "83:\tlearn: 0.7130005\ttest: 0.7355231\tbest: 0.7363385 (2)\ttotal: 36.4s\tremaining: 6m 37s\n",
      "84:\tlearn: 0.7137317\ttest: 0.7355047\tbest: 0.7363385 (2)\ttotal: 36.9s\tremaining: 6m 36s\n",
      "85:\tlearn: 0.7135678\ttest: 0.7357967\tbest: 0.7363385 (2)\ttotal: 37.3s\tremaining: 6m 36s\n",
      "86:\tlearn: 0.7138071\ttest: 0.7357392\tbest: 0.7363385 (2)\ttotal: 37.7s\tremaining: 6m 35s\n",
      "87:\tlearn: 0.7140464\ttest: 0.7363050\tbest: 0.7363385 (2)\ttotal: 38.1s\tremaining: 6m 35s\n",
      "88:\tlearn: 0.7146634\ttest: 0.7368704\tbest: 0.7368704 (88)\ttotal: 38.6s\tremaining: 6m 34s\n",
      "89:\tlearn: 0.7148396\ttest: 0.7366914\tbest: 0.7368704 (88)\ttotal: 39s\tremaining: 6m 34s\n",
      "90:\tlearn: 0.7149784\ttest: 0.7361260\tbest: 0.7368704 (88)\ttotal: 39.4s\tremaining: 6m 33s\n",
      "91:\tlearn: 0.7152680\ttest: 0.7363522\tbest: 0.7368704 (88)\ttotal: 39.8s\tremaining: 6m 32s\n",
      "92:\tlearn: 0.7155575\ttest: 0.7366255\tbest: 0.7368704 (88)\ttotal: 40.2s\tremaining: 6m 32s\n",
      "93:\tlearn: 0.7162496\ttest: 0.7369174\tbest: 0.7369174 (93)\ttotal: 40.7s\tremaining: 6m 32s\n",
      "94:\tlearn: 0.7165757\ttest: 0.7370774\tbest: 0.7370774 (94)\ttotal: 41.1s\tremaining: 6m 31s\n",
      "95:\tlearn: 0.7172402\ttest: 0.7369927\tbest: 0.7370774 (94)\ttotal: 41.6s\tremaining: 6m 31s\n",
      "96:\tlearn: 0.7172135\ttest: 0.7368139\tbest: 0.7370774 (94)\ttotal: 42.1s\tremaining: 6m 31s\n",
      "97:\tlearn: 0.7181650\ttest: 0.7370678\tbest: 0.7370774 (94)\ttotal: 42.6s\tremaining: 6m 32s\n",
      "98:\tlearn: 0.7184398\ttest: 0.7369550\tbest: 0.7370774 (94)\ttotal: 43.1s\tremaining: 6m 31s\n",
      "99:\tlearn: 0.7191643\ttest: 0.7378658\tbest: 0.7378658 (99)\ttotal: 43.5s\tremaining: 6m 31s\n",
      "100:\tlearn: 0.7191504\ttest: 0.7379784\tbest: 0.7379784 (100)\ttotal: 43.9s\tremaining: 6m 30s\n",
      "101:\tlearn: 0.7191011\ttest: 0.7380910\tbest: 0.7380910 (101)\ttotal: 44.3s\tremaining: 6m 30s\n",
      "102:\tlearn: 0.7192274\ttest: 0.7385603\tbest: 0.7385603 (102)\ttotal: 44.8s\tremaining: 6m 29s\n",
      "103:\tlearn: 0.7195646\ttest: 0.7389909\tbest: 0.7389909 (103)\ttotal: 45.2s\tremaining: 6m 29s\n",
      "104:\tlearn: 0.7197754\ttest: 0.7390839\tbest: 0.7390839 (104)\ttotal: 45.7s\tremaining: 6m 29s\n",
      "105:\tlearn: 0.7202245\ttest: 0.7392428\tbest: 0.7392428 (105)\ttotal: 46.2s\tremaining: 6m 29s\n",
      "106:\tlearn: 0.7195721\ttest: 0.7393280\tbest: 0.7393280 (106)\ttotal: 46.6s\tremaining: 6m 28s\n",
      "107:\tlearn: 0.7196213\ttest: 0.7392892\tbest: 0.7393280 (106)\ttotal: 47s\tremaining: 6m 28s\n",
      "108:\tlearn: 0.7200070\ttest: 0.7399626\tbest: 0.7399626 (108)\ttotal: 47.4s\tremaining: 6m 27s\n",
      "109:\tlearn: 0.7206307\ttest: 0.7401869\tbest: 0.7401869 (109)\ttotal: 47.8s\tremaining: 6m 27s\n",
      "110:\tlearn: 0.7204697\ttest: 0.7406089\tbest: 0.7406089 (110)\ttotal: 48.2s\tremaining: 6m 26s\n",
      "111:\tlearn: 0.7207917\ttest: 0.7408792\tbest: 0.7408792 (111)\ttotal: 48.7s\tremaining: 6m 26s\n",
      "112:\tlearn: 0.7211277\ttest: 0.7409515\tbest: 0.7409515 (112)\ttotal: 49.1s\tremaining: 6m 25s\n",
      "113:\tlearn: 0.7211134\ttest: 0.7413732\tbest: 0.7413732 (113)\ttotal: 49.5s\tremaining: 6m 24s\n",
      "114:\tlearn: 0.7216098\ttest: 0.7411095\tbest: 0.7413732 (113)\ttotal: 49.9s\tremaining: 6m 24s\n",
      "115:\tlearn: 0.7220084\ttest: 0.7412873\tbest: 0.7413732 (113)\ttotal: 50.4s\tremaining: 6m 23s\n",
      "116:\tlearn: 0.7232330\ttest: 0.7418667\tbest: 0.7418667 (116)\ttotal: 50.8s\tremaining: 6m 23s\n",
      "117:\tlearn: 0.7235680\ttest: 0.7421160\tbest: 0.7421160 (117)\ttotal: 51.3s\tremaining: 6m 23s\n",
      "118:\tlearn: 0.7235680\ttest: 0.7421160\tbest: 0.7421160 (117)\ttotal: 51.7s\tremaining: 6m 22s\n",
      "119:\tlearn: 0.7237429\ttest: 0.7418466\tbest: 0.7421160 (117)\ttotal: 52.1s\tremaining: 6m 22s\n",
      "120:\tlearn: 0.7240444\ttest: 0.7419986\tbest: 0.7421160 (117)\ttotal: 52.5s\tremaining: 6m 21s\n",
      "121:\tlearn: 0.7246656\ttest: 0.7422021\tbest: 0.7422021 (121)\ttotal: 53s\tremaining: 6m 21s\n",
      "122:\tlearn: 0.7246503\ttest: 0.7422479\tbest: 0.7422479 (122)\ttotal: 53.4s\tremaining: 6m 21s\n",
      "123:\tlearn: 0.7248733\ttest: 0.7424916\tbest: 0.7424916 (123)\ttotal: 53.9s\tremaining: 6m 20s\n",
      "124:\tlearn: 0.7250961\ttest: 0.7425575\tbest: 0.7425575 (124)\ttotal: 54.3s\tremaining: 6m 20s\n",
      "125:\tlearn: 0.7253035\ttest: 0.7427810\tbest: 0.7427810 (125)\ttotal: 54.7s\tremaining: 6m 19s\n",
      "126:\tlearn: 0.7257332\ttest: 0.7428927\tbest: 0.7428927 (126)\ttotal: 55.1s\tremaining: 6m 19s\n",
      "127:\tlearn: 0.7258445\ttest: 0.7430044\tbest: 0.7430044 (127)\ttotal: 55.6s\tremaining: 6m 18s\n",
      "128:\tlearn: 0.7262092\ttest: 0.7431160\tbest: 0.7431160 (128)\ttotal: 56.1s\tremaining: 6m 18s\n",
      "129:\tlearn: 0.7263204\ttest: 0.7433597\tbest: 0.7433597 (129)\ttotal: 56.5s\tremaining: 6m 18s\n",
      "130:\tlearn: 0.7262726\ttest: 0.7431820\tbest: 0.7433597 (129)\ttotal: 56.9s\tremaining: 6m 17s\n",
      "131:\tlearn: 0.7259843\ttest: 0.7430401\tbest: 0.7433597 (129)\ttotal: 57.3s\tremaining: 6m 17s\n",
      "132:\tlearn: 0.7264456\ttest: 0.7433502\tbest: 0.7433597 (129)\ttotal: 57.7s\tremaining: 6m 16s\n",
      "133:\tlearn: 0.7263342\ttest: 0.7435738\tbest: 0.7435738 (133)\ttotal: 58.2s\tremaining: 6m 15s\n",
      "134:\tlearn: 0.7259998\ttest: 0.7435738\tbest: 0.7435738 (133)\ttotal: 58.6s\tremaining: 6m 15s\n",
      "135:\tlearn: 0.7263978\ttest: 0.7432180\tbest: 0.7435738 (133)\ttotal: 59s\tremaining: 6m 14s\n",
      "136:\tlearn: 0.7269705\ttest: 0.7435738\tbest: 0.7435738 (133)\ttotal: 59.4s\tremaining: 6m 14s\n",
      "137:\tlearn: 0.7270024\ttest: 0.7432889\tbest: 0.7435738 (133)\ttotal: 59.9s\tremaining: 6m 13s\n",
      "138:\tlearn: 0.7270183\ttest: 0.7432228\tbest: 0.7435738 (133)\ttotal: 1m\tremaining: 6m 13s\n",
      "139:\tlearn: 0.7267956\ttest: 0.7431976\tbest: 0.7435738 (133)\ttotal: 1m\tremaining: 6m 12s\n",
      "140:\tlearn: 0.7269705\ttest: 0.7434872\tbest: 0.7435738 (133)\ttotal: 1m 1s\tremaining: 6m 12s\n",
      "141:\tlearn: 0.7274794\ttest: 0.7435989\tbest: 0.7435989 (141)\ttotal: 1m 1s\tremaining: 6m 11s\n",
      "142:\tlearn: 0.7275431\ttest: 0.7440661\tbest: 0.7440661 (142)\ttotal: 1m 1s\tremaining: 6m 11s\n",
      "143:\tlearn: 0.7276544\ttest: 0.7443348\tbest: 0.7443348 (143)\ttotal: 1m 2s\tremaining: 6m 10s\n",
      "144:\tlearn: 0.7277812\ttest: 0.7442687\tbest: 0.7443348 (143)\ttotal: 1m 2s\tremaining: 6m 10s\n",
      "145:\tlearn: 0.7279399\ttest: 0.7443596\tbest: 0.7443596 (145)\ttotal: 1m 3s\tremaining: 6m 10s\n",
      "146:\tlearn: 0.7280035\ttest: 0.7446941\tbest: 0.7446941 (146)\ttotal: 1m 3s\tremaining: 6m 9s\n",
      "147:\tlearn: 0.7281146\ttest: 0.7448717\tbest: 0.7448717 (147)\ttotal: 1m 4s\tremaining: 6m 9s\n",
      "148:\tlearn: 0.7280671\ttest: 0.7450493\tbest: 0.7450493 (148)\ttotal: 1m 4s\tremaining: 6m 8s\n",
      "149:\tlearn: 0.7285590\ttest: 0.7450737\tbest: 0.7450737 (149)\ttotal: 1m 5s\tremaining: 6m 8s\n",
      "150:\tlearn: 0.7281146\ttest: 0.7453626\tbest: 0.7453626 (150)\ttotal: 1m 5s\tremaining: 6m 7s\n",
      "151:\tlearn: 0.7283843\ttest: 0.7454529\tbest: 0.7454529 (151)\ttotal: 1m 5s\tremaining: 6m 7s\n",
      "152:\tlearn: 0.7288284\ttest: 0.7454981\tbest: 0.7454981 (152)\ttotal: 1m 6s\tremaining: 6m 6s\n",
      "153:\tlearn: 0.7291303\ttest: 0.7455642\tbest: 0.7455642 (153)\ttotal: 1m 6s\tremaining: 6m 6s\n",
      "154:\tlearn: 0.7295268\ttest: 0.7456755\tbest: 0.7456755 (154)\ttotal: 1m 7s\tremaining: 6m 5s\n",
      "155:\tlearn: 0.7294796\ttest: 0.7458529\tbest: 0.7458529 (155)\ttotal: 1m 7s\tremaining: 6m 5s\n",
      "156:\tlearn: 0.7296377\ttest: 0.7461204\tbest: 0.7461204 (156)\ttotal: 1m 8s\tremaining: 6m 5s\n",
      "157:\tlearn: 0.7302252\ttest: 0.7460092\tbest: 0.7461204 (156)\ttotal: 1m 8s\tremaining: 6m 5s\n",
      "158:\tlearn: 0.7300035\ttest: 0.7462528\tbest: 0.7462528 (158)\ttotal: 1m 8s\tremaining: 6m 4s\n",
      "159:\tlearn: 0.7302890\ttest: 0.7462978\tbest: 0.7462978 (159)\ttotal: 1m 9s\tremaining: 6m 4s\n",
      "160:\tlearn: 0.7305107\ttest: 0.7465650\tbest: 0.7465650 (160)\ttotal: 1m 9s\tremaining: 6m 3s\n",
      "161:\tlearn: 0.7308431\ttest: 0.7469645\tbest: 0.7469645 (161)\ttotal: 1m 10s\tremaining: 6m 3s\n",
      "162:\tlearn: 0.7312691\ttest: 0.7470755\tbest: 0.7470755 (162)\ttotal: 1m 10s\tremaining: 6m 2s\n",
      "163:\tlearn: 0.7316648\ttest: 0.7471865\tbest: 0.7471865 (163)\ttotal: 1m 11s\tremaining: 6m 2s\n",
      "164:\tlearn: 0.7318221\ttest: 0.7470328\tbest: 0.7471865 (163)\ttotal: 1m 11s\tremaining: 6m 1s\n",
      "165:\tlearn: 0.7322642\ttest: 0.7472099\tbest: 0.7472099 (165)\ttotal: 1m 11s\tremaining: 6m 1s\n",
      "166:\tlearn: 0.7323747\ttest: 0.7479416\tbest: 0.7479416 (166)\ttotal: 1m 12s\tremaining: 6m 1s\n",
      "167:\tlearn: 0.7326422\ttest: 0.7482078\tbest: 0.7482078 (167)\ttotal: 1m 12s\tremaining: 6m\n",
      "168:\tlearn: 0.7325956\ttest: 0.7484076\tbest: 0.7484076 (168)\ttotal: 1m 13s\tremaining: 6m\n",
      "169:\tlearn: 0.7330372\ttest: 0.7484521\tbest: 0.7484521 (169)\ttotal: 1m 13s\tremaining: 5m 59s\n",
      "170:\tlearn: 0.7334495\ttest: 0.7482969\tbest: 0.7484521 (169)\ttotal: 1m 14s\tremaining: 5m 59s\n",
      "171:\tlearn: 0.7340185\ttest: 0.7482307\tbest: 0.7484521 (169)\ttotal: 1m 14s\tremaining: 5m 59s\n",
      "172:\tlearn: 0.7340648\ttest: 0.7482753\tbest: 0.7484521 (169)\ttotal: 1m 14s\tremaining: 5m 58s\n",
      "173:\tlearn: 0.7338906\ttest: 0.7483198\tbest: 0.7484521 (169)\ttotal: 1m 15s\tremaining: 5m 57s\n",
      "174:\tlearn: 0.7342389\ttest: 0.7484966\tbest: 0.7484966 (174)\ttotal: 1m 15s\tremaining: 5m 57s\n",
      "175:\tlearn: 0.7343668\ttest: 0.7485628\tbest: 0.7485628 (175)\ttotal: 1m 16s\tremaining: 5m 57s\n",
      "176:\tlearn: 0.7341000\ttest: 0.7486290\tbest: 0.7486290 (176)\ttotal: 1m 16s\tremaining: 5m 56s\n",
      "177:\tlearn: 0.7346690\ttest: 0.7488504\tbest: 0.7488504 (177)\ttotal: 1m 17s\tremaining: 5m 56s\n",
      "178:\tlearn: 0.7352199\ttest: 0.7491603\tbest: 0.7491603 (178)\ttotal: 1m 17s\tremaining: 5m 56s\n",
      "179:\tlearn: 0.7356142\ttest: 0.7491822\tbest: 0.7491822 (179)\ttotal: 1m 18s\tremaining: 5m 56s\n",
      "180:\tlearn: 0.7358523\ttest: 0.7493590\tbest: 0.7493590 (180)\ttotal: 1m 18s\tremaining: 5m 55s\n",
      "181:\tlearn: 0.7357242\ttest: 0.7495139\tbest: 0.7495139 (181)\ttotal: 1m 19s\tremaining: 5m 55s\n",
      "182:\tlearn: 0.7360543\ttest: 0.7497349\tbest: 0.7497349 (182)\ttotal: 1m 19s\tremaining: 5m 54s\n",
      "183:\tlearn: 0.7361643\ttest: 0.7501104\tbest: 0.7501104 (183)\ttotal: 1m 19s\tremaining: 5m 54s\n",
      "184:\tlearn: 0.7360724\ttest: 0.7502208\tbest: 0.7502208 (184)\ttotal: 1m 20s\tremaining: 5m 54s\n",
      "185:\tlearn: 0.7364206\ttest: 0.7498675\tbest: 0.7502208 (184)\ttotal: 1m 20s\tremaining: 5m 53s\n",
      "186:\tlearn: 0.7367688\ttest: 0.7499559\tbest: 0.7502208 (184)\ttotal: 1m 21s\tremaining: 5m 53s\n",
      "187:\tlearn: 0.7369703\ttest: 0.7502428\tbest: 0.7502428 (187)\ttotal: 1m 21s\tremaining: 5m 53s\n",
      "188:\tlearn: 0.7369520\ttest: 0.7508382\tbest: 0.7508382 (188)\ttotal: 1m 22s\tremaining: 5m 52s\n",
      "189:\tlearn: 0.7374370\ttest: 0.7509484\tbest: 0.7509484 (189)\ttotal: 1m 22s\tremaining: 5m 52s\n",
      "190:\tlearn: 0.7374370\ttest: 0.7511025\tbest: 0.7511025 (190)\ttotal: 1m 23s\tremaining: 5m 51s\n",
      "191:\tlearn: 0.7374739\ttest: 0.7508159\tbest: 0.7511025 (190)\ttotal: 1m 23s\tremaining: 5m 51s\n",
      "192:\tlearn: 0.7375196\ttest: 0.7508599\tbest: 0.7511025 (190)\ttotal: 1m 23s\tremaining: 5m 50s\n",
      "193:\tlearn: 0.7375196\ttest: 0.7509038\tbest: 0.7511025 (190)\ttotal: 1m 24s\tremaining: 5m 50s\n",
      "194:\tlearn: 0.7378489\ttest: 0.7512118\tbest: 0.7512118 (194)\ttotal: 1m 24s\tremaining: 5m 49s\n",
      "195:\tlearn: 0.7383251\ttest: 0.7514981\tbest: 0.7514981 (195)\ttotal: 1m 25s\tremaining: 5m 49s\n",
      "196:\tlearn: 0.7385712\ttest: 0.7514756\tbest: 0.7514981 (195)\ttotal: 1m 25s\tremaining: 5m 48s\n",
      "197:\tlearn: 0.7386996\ttest: 0.7517618\tbest: 0.7517618 (197)\ttotal: 1m 26s\tremaining: 5m 48s\n",
      "198:\tlearn: 0.7387638\ttest: 0.7518718\tbest: 0.7518718 (198)\ttotal: 1m 26s\tremaining: 5m 47s\n",
      "199:\tlearn: 0.7391380\ttest: 0.7523776\tbest: 0.7523776 (199)\ttotal: 1m 26s\tremaining: 5m 47s\n",
      "200:\tlearn: 0.7391569\ttest: 0.7525537\tbest: 0.7525537 (200)\ttotal: 1m 27s\tremaining: 5m 46s\n",
      "201:\tlearn: 0.7393118\ttest: 0.7523776\tbest: 0.7525537 (200)\ttotal: 1m 27s\tremaining: 5m 46s\n",
      "202:\tlearn: 0.7396141\ttest: 0.7524875\tbest: 0.7525537 (200)\ttotal: 1m 28s\tremaining: 5m 46s\n",
      "203:\tlearn: 0.7393950\ttest: 0.7528169\tbest: 0.7528169 (203)\ttotal: 1m 28s\tremaining: 5m 45s\n",
      "204:\tlearn: 0.7398713\ttest: 0.7533222\tbest: 0.7533222 (204)\ttotal: 1m 29s\tremaining: 5m 45s\n",
      "205:\tlearn: 0.7400452\ttest: 0.7532788\tbest: 0.7533222 (204)\ttotal: 1m 29s\tremaining: 5m 44s\n",
      "206:\tlearn: 0.7406378\ttest: 0.7534982\tbest: 0.7534982 (206)\ttotal: 1m 29s\tremaining: 5m 44s\n",
      "207:\tlearn: 0.7409853\ttest: 0.7536283\tbest: 0.7536283 (207)\ttotal: 1m 30s\tremaining: 5m 44s\n",
      "208:\tlearn: 0.7410947\ttest: 0.7538042\tbest: 0.7538042 (208)\ttotal: 1m 30s\tremaining: 5m 43s\n",
      "209:\tlearn: 0.7411591\ttest: 0.7538245\tbest: 0.7538245 (209)\ttotal: 1m 31s\tremaining: 5m 43s\n",
      "210:\tlearn: 0.7414677\ttest: 0.7539773\tbest: 0.7539773 (210)\ttotal: 1m 31s\tremaining: 5m 42s\n",
      "211:\tlearn: 0.7418542\ttest: 0.7542194\tbest: 0.7542194 (211)\ttotal: 1m 32s\tremaining: 5m 42s\n",
      "212:\tlearn: 0.7419187\ttest: 0.7542626\tbest: 0.7542626 (212)\ttotal: 1m 32s\tremaining: 5m 42s\n",
      "213:\tlearn: 0.7416804\ttest: 0.7541963\tbest: 0.7542626 (212)\ttotal: 1m 33s\tremaining: 5m 41s\n",
      "214:\tlearn: 0.7416804\ttest: 0.7546573\tbest: 0.7546573 (214)\ttotal: 1m 33s\tremaining: 5m 41s\n",
      "215:\tlearn: 0.7418991\ttest: 0.7550949\tbest: 0.7550949 (215)\ttotal: 1m 33s\tremaining: 5m 40s\n",
      "216:\tlearn: 0.7424400\ttest: 0.7550949\tbest: 0.7550949 (215)\ttotal: 1m 34s\tremaining: 5m 40s\n",
      "217:\tlearn: 0.7424598\ttest: 0.7551612\tbest: 0.7551612 (217)\ttotal: 1m 34s\tremaining: 5m 40s\n",
      "218:\tlearn: 0.7427429\ttest: 0.7551182\tbest: 0.7551612 (217)\ttotal: 1m 35s\tremaining: 5m 39s\n",
      "219:\tlearn: 0.7428720\ttest: 0.7551182\tbest: 0.7551612 (217)\ttotal: 1m 35s\tremaining: 5m 39s\n",
      "220:\tlearn: 0.7431105\ttest: 0.7548563\tbest: 0.7551612 (217)\ttotal: 1m 36s\tremaining: 5m 38s\n",
      "221:\tlearn: 0.7438505\ttest: 0.7549657\tbest: 0.7551612 (217)\ttotal: 1m 36s\tremaining: 5m 38s\n",
      "222:\tlearn: 0.7439597\ttest: 0.7550088\tbest: 0.7551612 (217)\ttotal: 1m 36s\tremaining: 5m 37s\n",
      "223:\tlearn: 0.7445053\ttest: 0.7550088\tbest: 0.7551612 (217)\ttotal: 1m 37s\tremaining: 5m 37s\n",
      "224:\tlearn: 0.7445699\ttest: 0.7551182\tbest: 0.7551612 (217)\ttotal: 1m 37s\tremaining: 5m 36s\n",
      "225:\tlearn: 0.7450708\ttest: 0.7550949\tbest: 0.7551612 (217)\ttotal: 1m 38s\tremaining: 5m 36s\n",
      "226:\tlearn: 0.7450469\ttest: 0.7550949\tbest: 0.7551612 (217)\ttotal: 1m 38s\tremaining: 5m 36s\n",
      "227:\tlearn: 0.7450026\ttest: 0.7552472\tbest: 0.7552472 (227)\ttotal: 1m 39s\tremaining: 5m 35s\n",
      "228:\tlearn: 0.7451117\ttest: 0.7553799\tbest: 0.7553799 (228)\ttotal: 1m 39s\tremaining: 5m 35s\n",
      "229:\tlearn: 0.7452207\ttest: 0.7557078\tbest: 0.7557078 (229)\ttotal: 1m 39s\tremaining: 5m 34s\n",
      "230:\tlearn: 0.7452650\ttest: 0.7556414\tbest: 0.7557078 (229)\ttotal: 1m 40s\tremaining: 5m 34s\n",
      "231:\tlearn: 0.7452650\ttest: 0.7558170\tbest: 0.7558170 (231)\ttotal: 1m 40s\tremaining: 5m 33s\n",
      "232:\tlearn: 0.7456125\ttest: 0.7557935\tbest: 0.7558170 (231)\ttotal: 1m 41s\tremaining: 5m 33s\n",
      "233:\tlearn: 0.7459835\ttest: 0.7559691\tbest: 0.7559691 (233)\ttotal: 1m 41s\tremaining: 5m 32s\n",
      "234:\tlearn: 0.7459835\ttest: 0.7560119\tbest: 0.7560119 (234)\ttotal: 1m 42s\tremaining: 5m 32s\n",
      "235:\tlearn: 0.7461806\ttest: 0.7559884\tbest: 0.7560119 (234)\ttotal: 1m 42s\tremaining: 5m 32s\n",
      "236:\tlearn: 0.7466158\ttest: 0.7558558\tbest: 0.7560119 (234)\ttotal: 1m 43s\tremaining: 5m 31s\n",
      "237:\tlearn: 0.7469629\ttest: 0.7563821\tbest: 0.7563821 (237)\ttotal: 1m 43s\tremaining: 5m 31s\n",
      "238:\tlearn: 0.7471155\ttest: 0.7560976\tbest: 0.7563821 (237)\ttotal: 1m 43s\tremaining: 5m 31s\n",
      "239:\tlearn: 0.7471593\ttest: 0.7561404\tbest: 0.7563821 (237)\ttotal: 1m 44s\tremaining: 5m 30s\n",
      "240:\tlearn: 0.7471364\ttest: 0.7560312\tbest: 0.7563821 (237)\ttotal: 1m 44s\tremaining: 5m 30s\n",
      "241:\tlearn: 0.7477219\ttest: 0.7564249\tbest: 0.7564249 (241)\ttotal: 1m 45s\tremaining: 5m 29s\n",
      "242:\tlearn: 0.7478306\ttest: 0.7566857\tbest: 0.7566857 (242)\ttotal: 1m 45s\tremaining: 5m 29s\n",
      "243:\tlearn: 0.7478955\ttest: 0.7569938\tbest: 0.7569938 (243)\ttotal: 1m 46s\tremaining: 5m 29s\n",
      "244:\tlearn: 0.7480479\ttest: 0.7570602\tbest: 0.7570602 (244)\ttotal: 1m 46s\tremaining: 5m 28s\n",
      "245:\tlearn: 0.7480042\ttest: 0.7569274\tbest: 0.7570602 (244)\ttotal: 1m 47s\tremaining: 5m 28s\n",
      "246:\tlearn: 0.7480253\ttest: 0.7567093\tbest: 0.7570602 (244)\ttotal: 1m 47s\tremaining: 5m 27s\n",
      "247:\tlearn: 0.7483725\ttest: 0.7567093\tbest: 0.7570602 (244)\ttotal: 1m 47s\tremaining: 5m 27s\n",
      "248:\tlearn: 0.7486111\ttest: 0.7567994\tbest: 0.7570602 (244)\ttotal: 1m 48s\tremaining: 5m 26s\n",
      "249:\tlearn: 0.7487847\ttest: 0.7569085\tbest: 0.7570602 (244)\ttotal: 1m 48s\tremaining: 5m 26s\n",
      "250:\tlearn: 0.7491319\ttest: 0.7569085\tbest: 0.7570602 (244)\ttotal: 1m 49s\tremaining: 5m 26s\n",
      "251:\tlearn: 0.7489147\ttest: 0.7568848\tbest: 0.7570602 (244)\ttotal: 1m 49s\tremaining: 5m 25s\n",
      "252:\tlearn: 0.7490884\ttest: 0.7570602\tbest: 0.7570602 (244)\ttotal: 1m 50s\tremaining: 5m 25s\n",
      "253:\tlearn: 0.7493491\ttest: 0.7571266\tbest: 0.7571266 (253)\ttotal: 1m 50s\tremaining: 5m 24s\n",
      "254:\tlearn: 0.7496312\ttest: 0.7574110\tbest: 0.7574110 (254)\ttotal: 1m 50s\tremaining: 5m 24s\n",
      "255:\tlearn: 0.7498264\ttest: 0.7575200\tbest: 0.7575200 (255)\ttotal: 1m 51s\tremaining: 5m 23s\n",
      "256:\tlearn: 0.7501736\ttest: 0.7577378\tbest: 0.7577378 (256)\ttotal: 1m 51s\tremaining: 5m 23s\n",
      "257:\tlearn: 0.7505641\ttest: 0.7577803\tbest: 0.7577803 (257)\ttotal: 1m 52s\tremaining: 5m 22s\n",
      "258:\tlearn: 0.7505641\ttest: 0.7575386\tbest: 0.7577803 (257)\ttotal: 1m 52s\tremaining: 5m 22s\n",
      "259:\tlearn: 0.7503472\ttest: 0.7576475\tbest: 0.7577803 (257)\ttotal: 1m 53s\tremaining: 5m 21s\n",
      "260:\tlearn: 0.7507810\ttest: 0.7577564\tbest: 0.7577803 (257)\ttotal: 1m 53s\tremaining: 5m 21s\n",
      "261:\tlearn: 0.7510849\ttest: 0.7575386\tbest: 0.7577803 (257)\ttotal: 1m 53s\tremaining: 5m 20s\n",
      "262:\tlearn: 0.7512364\ttest: 0.7577564\tbest: 0.7577803 (257)\ttotal: 1m 54s\tremaining: 5m 20s\n",
      "263:\tlearn: 0.7511713\ttest: 0.7577324\tbest: 0.7577803 (257)\ttotal: 1m 54s\tremaining: 5m 19s\n",
      "264:\tlearn: 0.7513448\ttest: 0.7578412\tbest: 0.7578412 (264)\ttotal: 1m 55s\tremaining: 5m 19s\n",
      "265:\tlearn: 0.7515835\ttest: 0.7583669\tbest: 0.7583669 (265)\ttotal: 1m 55s\tremaining: 5m 19s\n",
      "266:\tlearn: 0.7515835\ttest: 0.7584334\tbest: 0.7584334 (266)\ttotal: 1m 56s\tremaining: 5m 18s\n",
      "267:\tlearn: 0.7516487\ttest: 0.7585180\tbest: 0.7585180 (267)\ttotal: 1m 56s\tremaining: 5m 18s\n",
      "268:\tlearn: 0.7518001\ttest: 0.7586932\tbest: 0.7586932 (268)\ttotal: 1m 56s\tremaining: 5m 17s\n",
      "269:\tlearn: 0.7521471\ttest: 0.7588019\tbest: 0.7588019 (269)\ttotal: 1m 57s\tremaining: 5m 17s\n",
      "270:\tlearn: 0.7523636\ttest: 0.7589106\tbest: 0.7589106 (270)\ttotal: 1m 57s\tremaining: 5m 16s\n",
      "271:\tlearn: 0.7523636\ttest: 0.7588864\tbest: 0.7589106 (270)\ttotal: 1m 58s\tremaining: 5m 16s\n",
      "272:\tlearn: 0.7526229\ttest: 0.7587777\tbest: 0.7589106 (270)\ttotal: 1m 58s\tremaining: 5m 15s\n",
      "273:\tlearn: 0.7524272\ttest: 0.7591701\tbest: 0.7591701 (273)\ttotal: 1m 58s\tremaining: 5m 15s\n",
      "274:\tlearn: 0.7527515\ttest: 0.7592366\tbest: 0.7592366 (274)\ttotal: 1m 59s\tremaining: 5m 14s\n",
      "275:\tlearn: 0.7527515\ttest: 0.7592366\tbest: 0.7592366 (274)\ttotal: 1m 59s\tremaining: 5m 14s\n",
      "276:\tlearn: 0.7530329\ttest: 0.7593452\tbest: 0.7593452 (276)\ttotal: 2m\tremaining: 5m 13s\n",
      "277:\tlearn: 0.7531410\ttest: 0.7594117\tbest: 0.7594117 (277)\ttotal: 2m\tremaining: 5m 13s\n",
      "278:\tlearn: 0.7534223\ttest: 0.7594538\tbest: 0.7594538 (278)\ttotal: 2m 1s\tremaining: 5m 13s\n",
      "279:\tlearn: 0.7535730\ttest: 0.7598039\tbest: 0.7598039 (279)\ttotal: 2m 1s\tremaining: 5m 12s\n",
      "280:\tlearn: 0.7539194\ttest: 0.7599545\tbest: 0.7599545 (280)\ttotal: 2m 2s\tremaining: 5m 12s\n",
      "281:\tlearn: 0.7540501\ttest: 0.7603045\tbest: 0.7603045 (281)\ttotal: 2m 2s\tremaining: 5m 12s\n",
      "282:\tlearn: 0.7542887\ttest: 0.7603884\tbest: 0.7603884 (282)\ttotal: 2m 3s\tremaining: 5m 11s\n",
      "283:\tlearn: 0.7546352\ttest: 0.7603638\tbest: 0.7603884 (282)\ttotal: 2m 3s\tremaining: 5m 11s\n",
      "284:\tlearn: 0.7545927\ttest: 0.7604057\tbest: 0.7604057 (284)\ttotal: 2m 3s\tremaining: 5m 10s\n",
      "285:\tlearn: 0.7547660\ttest: 0.7604722\tbest: 0.7604722 (285)\ttotal: 2m 4s\tremaining: 5m 10s\n",
      "286:\tlearn: 0.7547006\ttest: 0.7607727\tbest: 0.7607727 (286)\ttotal: 2m 4s\tremaining: 5m 9s\n",
      "287:\tlearn: 0.7548773\ttest: 0.7608145\tbest: 0.7608145 (287)\ttotal: 2m 5s\tremaining: 5m 9s\n",
      "288:\tlearn: 0.7550277\ttest: 0.7607727\tbest: 0.7608145 (287)\ttotal: 2m 5s\tremaining: 5m 9s\n",
      "289:\tlearn: 0.7552435\ttest: 0.7608810\tbest: 0.7608810 (289)\ttotal: 2m 6s\tremaining: 5m 8s\n",
      "290:\tlearn: 0.7555479\ttest: 0.7611640\tbest: 0.7611640 (290)\ttotal: 2m 6s\tremaining: 5m 8s\n",
      "291:\tlearn: 0.7556981\ttest: 0.7608981\tbest: 0.7611640 (290)\ttotal: 2m 6s\tremaining: 5m 7s\n",
      "292:\tlearn: 0.7563069\ttest: 0.7612058\tbest: 0.7612058 (292)\ttotal: 2m 7s\tremaining: 5m 7s\n",
      "293:\tlearn: 0.7565692\ttest: 0.7610975\tbest: 0.7612058 (292)\ttotal: 2m 7s\tremaining: 5m 6s\n",
      "294:\tlearn: 0.7568083\ttest: 0.7612306\tbest: 0.7612306 (294)\ttotal: 2m 8s\tremaining: 5m 6s\n",
      "295:\tlearn: 0.7566115\ttest: 0.7611640\tbest: 0.7612306 (294)\ttotal: 2m 8s\tremaining: 5m 6s\n",
      "296:\tlearn: 0.7565459\ttest: 0.7613140\tbest: 0.7613140 (296)\ttotal: 2m 9s\tremaining: 5m 5s\n",
      "297:\tlearn: 0.7566537\ttest: 0.7611810\tbest: 0.7613140 (296)\ttotal: 2m 9s\tremaining: 5m 5s\n",
      "298:\tlearn: 0.7569583\ttest: 0.7615304\tbest: 0.7615304 (298)\ttotal: 2m 10s\tremaining: 5m 4s\n",
      "299:\tlearn: 0.7571082\ttest: 0.7616386\tbest: 0.7616386 (299)\ttotal: 2m 10s\tremaining: 5m 4s\n",
      "300:\tlearn: 0.7570426\ttest: 0.7616802\tbest: 0.7616802 (300)\ttotal: 2m 10s\tremaining: 5m 4s\n",
      "301:\tlearn: 0.7571082\ttest: 0.7620211\tbest: 0.7620211 (301)\ttotal: 2m 11s\tremaining: 5m 3s\n",
      "302:\tlearn: 0.7571738\ttest: 0.7619131\tbest: 0.7620211 (301)\ttotal: 2m 11s\tremaining: 5m 3s\n",
      "303:\tlearn: 0.7573708\ttest: 0.7618466\tbest: 0.7620211 (301)\ttotal: 2m 12s\tremaining: 5m 3s\n",
      "304:\tlearn: 0.7575206\ttest: 0.7621291\tbest: 0.7621291 (304)\ttotal: 2m 12s\tremaining: 5m 2s\n",
      "305:\tlearn: 0.7576703\ttest: 0.7619962\tbest: 0.7621291 (304)\ttotal: 2m 13s\tremaining: 5m 2s\n",
      "306:\tlearn: 0.7581665\ttest: 0.7616304\tbest: 0.7621291 (304)\ttotal: 2m 13s\tremaining: 5m 1s\n",
      "307:\tlearn: 0.7581008\ttest: 0.7617136\tbest: 0.7621291 (304)\ttotal: 2m 14s\tremaining: 5m 1s\n",
      "308:\tlearn: 0.7580352\ttest: 0.7616969\tbest: 0.7621291 (304)\ttotal: 2m 14s\tremaining: 5m\n",
      "309:\tlearn: 0.7582503\ttest: 0.7614559\tbest: 0.7621291 (304)\ttotal: 2m 14s\tremaining: 5m\n",
      "310:\tlearn: 0.7585968\ttest: 0.7616969\tbest: 0.7621291 (304)\ttotal: 2m 15s\tremaining: 5m\n",
      "311:\tlearn: 0.7587282\ttest: 0.7616553\tbest: 0.7621291 (304)\ttotal: 2m 15s\tremaining: 4m 59s\n",
      "312:\tlearn: 0.7587461\ttest: 0.7617634\tbest: 0.7621291 (304)\ttotal: 2m 16s\tremaining: 4m 59s\n",
      "313:\tlearn: 0.7590508\ttest: 0.7616137\tbest: 0.7621291 (304)\ttotal: 2m 16s\tremaining: 4m 58s\n",
      "314:\tlearn: 0.7590925\ttest: 0.7615721\tbest: 0.7621291 (304)\ttotal: 2m 17s\tremaining: 4m 58s\n",
      "315:\tlearn: 0.7591582\ttest: 0.7613478\tbest: 0.7621291 (304)\ttotal: 2m 17s\tremaining: 4m 57s\n",
      "316:\tlearn: 0.7591582\ttest: 0.7614559\tbest: 0.7621291 (304)\ttotal: 2m 18s\tremaining: 4m 57s\n",
      "317:\tlearn: 0.7592657\ttest: 0.7613478\tbest: 0.7621291 (304)\ttotal: 2m 18s\tremaining: 4m 56s\n",
      "318:\tlearn: 0.7590508\ttest: 0.7616304\tbest: 0.7621291 (304)\ttotal: 2m 18s\tremaining: 4m 56s\n",
      "319:\tlearn: 0.7595879\ttest: 0.7619546\tbest: 0.7621291 (304)\ttotal: 2m 19s\tremaining: 4m 55s\n",
      "320:\tlearn: 0.7596362\ttest: 0.7619962\tbest: 0.7621291 (304)\ttotal: 2m 19s\tremaining: 4m 55s\n",
      "321:\tlearn: 0.7595463\ttest: 0.7624280\tbest: 0.7624280 (321)\ttotal: 2m 20s\tremaining: 4m 54s\n",
      "322:\tlearn: 0.7595879\ttest: 0.7625360\tbest: 0.7625360 (322)\ttotal: 2m 20s\tremaining: 4m 54s\n",
      "323:\tlearn: 0.7595879\ttest: 0.7627266\tbest: 0.7627266 (323)\ttotal: 2m 20s\tremaining: 4m 54s\n",
      "324:\tlearn: 0.7599169\ttest: 0.7626439\tbest: 0.7627266 (323)\ttotal: 2m 21s\tremaining: 4m 53s\n",
      "325:\tlearn: 0.7600485\ttest: 0.7628596\tbest: 0.7628596 (325)\ttotal: 2m 21s\tremaining: 4m 53s\n",
      "326:\tlearn: 0.7603535\ttest: 0.7628183\tbest: 0.7628596 (325)\ttotal: 2m 22s\tremaining: 4m 52s\n",
      "327:\tlearn: 0.7606342\ttest: 0.7631005\tbest: 0.7631005 (327)\ttotal: 2m 22s\tremaining: 4m 52s\n",
      "328:\tlearn: 0.7610221\ttest: 0.7629261\tbest: 0.7631005 (327)\ttotal: 2m 23s\tremaining: 4m 51s\n",
      "329:\tlearn: 0.7612199\ttest: 0.7629261\tbest: 0.7631005 (327)\ttotal: 2m 23s\tremaining: 4m 51s\n",
      "330:\tlearn: 0.7613272\ttest: 0.7635318\tbest: 0.7635318 (330)\ttotal: 2m 24s\tremaining: 4m 51s\n",
      "331:\tlearn: 0.7613686\ttest: 0.7635318\tbest: 0.7635318 (330)\ttotal: 2m 24s\tremaining: 4m 50s\n",
      "332:\tlearn: 0.7615665\ttest: 0.7635571\tbest: 0.7635571 (332)\ttotal: 2m 24s\tremaining: 4m 50s\n",
      "333:\tlearn: 0.7617397\ttest: 0.7634493\tbest: 0.7635571 (332)\ttotal: 2m 25s\tremaining: 4m 49s\n",
      "334:\tlearn: 0.7618718\ttest: 0.7637315\tbest: 0.7637315 (334)\ttotal: 2m 25s\tremaining: 4m 49s\n",
      "335:\tlearn: 0.7618470\ttest: 0.7637315\tbest: 0.7637315 (334)\ttotal: 2m 26s\tremaining: 4m 48s\n",
      "336:\tlearn: 0.7626972\ttest: 0.7639058\tbest: 0.7639058 (336)\ttotal: 2m 26s\tremaining: 4m 48s\n",
      "337:\tlearn: 0.7629617\ttest: 0.7637981\tbest: 0.7639058 (336)\ttotal: 2m 27s\tremaining: 4m 47s\n",
      "338:\tlearn: 0.7634725\ttest: 0.7640136\tbest: 0.7640136 (338)\ttotal: 2m 27s\tremaining: 4m 47s\n",
      "339:\tlearn: 0.7638191\ttest: 0.7637981\tbest: 0.7640136 (338)\ttotal: 2m 27s\tremaining: 4m 47s\n",
      "340:\tlearn: 0.7641501\ttest: 0.7639724\tbest: 0.7640136 (338)\ttotal: 2m 28s\tremaining: 4m 46s\n",
      "341:\tlearn: 0.7640177\ttest: 0.7639724\tbest: 0.7640136 (338)\ttotal: 2m 28s\tremaining: 4m 46s\n",
      "342:\tlearn: 0.7639515\ttest: 0.7639724\tbest: 0.7640136 (338)\ttotal: 2m 29s\tremaining: 4m 45s\n",
      "343:\tlearn: 0.7641501\ttest: 0.7642957\tbest: 0.7642957 (343)\ttotal: 2m 29s\tremaining: 4m 45s\n",
      "344:\tlearn: 0.7644868\ttest: 0.7639470\tbest: 0.7642957 (343)\ttotal: 2m 30s\tremaining: 4m 45s\n",
      "345:\tlearn: 0.7643798\ttest: 0.7639470\tbest: 0.7642957 (343)\ttotal: 2m 30s\tremaining: 4m 44s\n",
      "346:\tlearn: 0.7644868\ttest: 0.7642036\tbest: 0.7642957 (343)\ttotal: 2m 30s\tremaining: 4m 44s\n",
      "347:\tlearn: 0.7647670\ttest: 0.7643112\tbest: 0.7643112 (347)\ttotal: 2m 31s\tremaining: 4m 43s\n",
      "348:\tlearn: 0.7650879\ttest: 0.7645675\tbest: 0.7645675 (348)\ttotal: 2m 31s\tremaining: 4m 43s\n",
      "349:\tlearn: 0.7649809\ttest: 0.7643778\tbest: 0.7645675 (348)\ttotal: 2m 32s\tremaining: 4m 42s\n",
      "350:\tlearn: 0.7649961\ttest: 0.7644189\tbest: 0.7645675 (348)\ttotal: 2m 32s\tremaining: 4m 42s\n",
      "351:\tlearn: 0.7652355\ttest: 0.7639881\tbest: 0.7645675 (348)\ttotal: 2m 33s\tremaining: 4m 41s\n",
      "352:\tlearn: 0.7660606\ttest: 0.7645010\tbest: 0.7645675 (348)\ttotal: 2m 33s\tremaining: 4m 41s\n",
      "353:\tlearn: 0.7663665\ttest: 0.7645420\tbest: 0.7645675 (348)\ttotal: 2m 33s\tremaining: 4m 40s\n",
      "354:\tlearn: 0.7665397\ttest: 0.7645420\tbest: 0.7645675 (348)\ttotal: 2m 34s\tremaining: 4m 40s\n",
      "355:\tlearn: 0.7668600\ttest: 0.7642347\tbest: 0.7645675 (348)\ttotal: 2m 34s\tremaining: 4m 40s\n",
      "356:\tlearn: 0.7666869\ttest: 0.7643833\tbest: 0.7645675 (348)\ttotal: 2m 35s\tremaining: 4m 39s\n",
      "357:\tlearn: 0.7667936\ttest: 0.7644243\tbest: 0.7645675 (348)\ttotal: 2m 35s\tremaining: 4m 39s\n",
      "358:\tlearn: 0.7670735\ttest: 0.7644653\tbest: 0.7645675 (348)\ttotal: 2m 36s\tremaining: 4m 38s\n",
      "359:\tlearn: 0.7671399\ttest: 0.7645063\tbest: 0.7645675 (348)\ttotal: 2m 36s\tremaining: 4m 38s\n",
      "360:\tlearn: 0.7672466\ttest: 0.7649617\tbest: 0.7649617 (360)\ttotal: 2m 36s\tremaining: 4m 37s\n",
      "361:\tlearn: 0.7673533\ttest: 0.7648952\tbest: 0.7649617 (360)\ttotal: 2m 37s\tremaining: 4m 37s\n",
      "362:\tlearn: 0.7673392\ttest: 0.7649208\tbest: 0.7649617 (360)\ttotal: 2m 37s\tremaining: 4m 36s\n",
      "363:\tlearn: 0.7675526\ttest: 0.7648390\tbest: 0.7649617 (360)\ttotal: 2m 38s\tremaining: 4m 36s\n",
      "364:\tlearn: 0.7674861\ttest: 0.7649056\tbest: 0.7649617 (360)\ttotal: 2m 38s\tremaining: 4m 36s\n",
      "365:\tlearn: 0.7675928\ttest: 0.7649721\tbest: 0.7649721 (365)\ttotal: 2m 39s\tremaining: 4m 35s\n",
      "366:\tlearn: 0.7677257\ttest: 0.7649721\tbest: 0.7649721 (365)\ttotal: 2m 39s\tremaining: 4m 35s\n",
      "367:\tlearn: 0.7678587\ttest: 0.7649312\tbest: 0.7649721 (365)\ttotal: 2m 39s\tremaining: 4m 34s\n",
      "368:\tlearn: 0.7678587\ttest: 0.7651053\tbest: 0.7651053 (368)\ttotal: 2m 40s\tremaining: 4m 34s\n",
      "369:\tlearn: 0.7676855\ttest: 0.7651462\tbest: 0.7651462 (369)\ttotal: 2m 40s\tremaining: 4m 33s\n",
      "370:\tlearn: 0.7679252\ttest: 0.7653870\tbest: 0.7653870 (370)\ttotal: 2m 41s\tremaining: 4m 33s\n",
      "371:\tlearn: 0.7680319\ttest: 0.7654944\tbest: 0.7654944 (371)\ttotal: 2m 41s\tremaining: 4m 32s\n",
      "372:\tlearn: 0.7680984\ttest: 0.7654944\tbest: 0.7654944 (371)\ttotal: 2m 42s\tremaining: 4m 32s\n",
      "373:\tlearn: 0.7680984\ttest: 0.7654944\tbest: 0.7654944 (371)\ttotal: 2m 42s\tremaining: 4m 32s\n",
      "374:\tlearn: 0.7681787\ttest: 0.7655352\tbest: 0.7655352 (374)\ttotal: 2m 42s\tremaining: 4m 31s\n",
      "375:\tlearn: 0.7682188\ttest: 0.7655352\tbest: 0.7655352 (374)\ttotal: 2m 43s\tremaining: 4m 31s\n",
      "376:\tlearn: 0.7686580\ttest: 0.7653203\tbest: 0.7655352 (374)\ttotal: 2m 43s\tremaining: 4m 30s\n",
      "377:\tlearn: 0.7687646\ttest: 0.7654278\tbest: 0.7655352 (374)\ttotal: 2m 44s\tremaining: 4m 30s\n",
      "378:\tlearn: 0.7689378\ttest: 0.7658982\tbest: 0.7658982 (378)\ttotal: 2m 44s\tremaining: 4m 29s\n",
      "379:\tlearn: 0.7689378\ttest: 0.7658575\tbest: 0.7658982 (378)\ttotal: 2m 45s\tremaining: 4m 29s\n",
      "380:\tlearn: 0.7690443\ttest: 0.7658982\tbest: 0.7658982 (378)\ttotal: 2m 45s\tremaining: 4m 28s\n",
      "381:\tlearn: 0.7693107\ttest: 0.7657908\tbest: 0.7658982 (378)\ttotal: 2m 45s\tremaining: 4m 28s\n",
      "382:\tlearn: 0.7698035\ttest: 0.7658575\tbest: 0.7658982 (378)\ttotal: 2m 46s\tremaining: 4m 28s\n",
      "383:\tlearn: 0.7700433\ttest: 0.7659241\tbest: 0.7659241 (383)\ttotal: 2m 46s\tremaining: 4m 27s\n",
      "384:\tlearn: 0.7700831\ttest: 0.7659649\tbest: 0.7659649 (384)\ttotal: 2m 47s\tremaining: 4m 27s\n",
      "385:\tlearn: 0.7701229\ttest: 0.7658575\tbest: 0.7659649 (384)\ttotal: 2m 47s\tremaining: 4m 26s\n",
      "386:\tlearn: 0.7705088\ttest: 0.7660056\tbest: 0.7660056 (386)\ttotal: 2m 48s\tremaining: 4m 26s\n",
      "387:\tlearn: 0.7705628\ttest: 0.7658316\tbest: 0.7660056 (386)\ttotal: 2m 48s\tremaining: 4m 26s\n",
      "388:\tlearn: 0.7703896\ttest: 0.7660056\tbest: 0.7660056 (386)\ttotal: 2m 49s\tremaining: 4m 25s\n",
      "389:\tlearn: 0.7707486\ttest: 0.7657242\tbest: 0.7660056 (386)\ttotal: 2m 49s\tremaining: 4m 25s\n",
      "390:\tlearn: 0.7708550\ttest: 0.7658316\tbest: 0.7660056 (386)\ttotal: 2m 49s\tremaining: 4m 24s\n",
      "391:\tlearn: 0.7706819\ttest: 0.7658316\tbest: 0.7660056 (386)\ttotal: 2m 50s\tremaining: 4m 24s\n",
      "392:\tlearn: 0.7712011\ttest: 0.7658316\tbest: 0.7660056 (386)\ttotal: 2m 50s\tremaining: 4m 23s\n",
      "393:\tlearn: 0.7713742\ttest: 0.7659389\tbest: 0.7660056 (386)\ttotal: 2m 51s\tremaining: 4m 23s\n",
      "394:\tlearn: 0.7710677\ttest: 0.7660463\tbest: 0.7660463 (394)\ttotal: 2m 51s\tremaining: 4m 23s\n",
      "395:\tlearn: 0.7710677\ttest: 0.7658316\tbest: 0.7660463 (394)\ttotal: 2m 52s\tremaining: 4m 22s\n",
      "396:\tlearn: 0.7714928\ttest: 0.7663681\tbest: 0.7663681 (396)\ttotal: 2m 52s\tremaining: 4m 22s\n",
      "397:\tlearn: 0.7715991\ttest: 0.7663681\tbest: 0.7663681 (396)\ttotal: 2m 52s\tremaining: 4m 21s\n",
      "398:\tlearn: 0.7715323\ttest: 0.7663421\tbest: 0.7663681 (396)\ttotal: 2m 53s\tremaining: 4m 21s\n",
      "399:\tlearn: 0.7715323\ttest: 0.7658464\tbest: 0.7663681 (396)\ttotal: 2m 53s\tremaining: 4m 20s\n",
      "400:\tlearn: 0.7718782\ttest: 0.7656726\tbest: 0.7663681 (396)\ttotal: 2m 54s\tremaining: 4m 20s\n",
      "401:\tlearn: 0.7719177\ttest: 0.7659279\tbest: 0.7663681 (396)\ttotal: 2m 54s\tremaining: 4m 19s\n",
      "402:\tlearn: 0.7717448\ttest: 0.7663828\tbest: 0.7663828 (402)\ttotal: 2m 55s\tremaining: 4m 19s\n",
      "403:\tlearn: 0.7715051\ttest: 0.7665305\tbest: 0.7665305 (403)\ttotal: 2m 55s\tremaining: 4m 19s\n",
      "404:\tlearn: 0.7712927\ttest: 0.7668781\tbest: 0.7668781 (404)\ttotal: 2m 56s\tremaining: 4m 18s\n",
      "405:\tlearn: 0.7717053\ttest: 0.7661683\tbest: 0.7668781 (404)\ttotal: 2m 56s\tremaining: 4m 18s\n",
      "406:\tlearn: 0.7714928\ttest: 0.7664494\tbest: 0.7668781 (404)\ttotal: 2m 56s\tremaining: 4m 17s\n",
      "407:\tlearn: 0.7718388\ttest: 0.7662089\tbest: 0.7668781 (404)\ttotal: 2m 57s\tremaining: 4m 17s\n",
      "408:\tlearn: 0.7721059\ttest: 0.7664494\tbest: 0.7668781 (404)\ttotal: 2m 57s\tremaining: 4m 16s\n",
      "409:\tlearn: 0.7721059\ttest: 0.7668376\tbest: 0.7668781 (404)\ttotal: 2m 58s\tremaining: 4m 16s\n",
      "410:\tlearn: 0.7722121\ttest: 0.7667043\tbest: 0.7668781 (404)\ttotal: 2m 58s\tremaining: 4m 16s\n",
      "411:\tlearn: 0.7723183\ttest: 0.7665971\tbest: 0.7668781 (404)\ttotal: 2m 59s\tremaining: 4m 15s\n",
      "412:\tlearn: 0.7723852\ttest: 0.7667970\tbest: 0.7668781 (404)\ttotal: 2m 59s\tremaining: 4m 15s\n",
      "413:\tlearn: 0.7724913\ttest: 0.7669042\tbest: 0.7669042 (413)\ttotal: 3m\tremaining: 4m 14s\n",
      "414:\tlearn: 0.7724913\ttest: 0.7671185\tbest: 0.7671185 (414)\ttotal: 3m\tremaining: 4m 14s\n",
      "415:\tlearn: 0.7729828\ttest: 0.7668115\tbest: 0.7671185 (414)\ttotal: 3m\tremaining: 4m 13s\n",
      "416:\tlearn: 0.7736355\ttest: 0.7668115\tbest: 0.7671185 (414)\ttotal: 3m 1s\tremaining: 4m 13s\n",
      "417:\tlearn: 0.7737416\ttest: 0.7668115\tbest: 0.7671185 (414)\ttotal: 3m 1s\tremaining: 4m 13s\n",
      "418:\tlearn: 0.7739424\ttest: 0.7667043\tbest: 0.7671185 (414)\ttotal: 3m 2s\tremaining: 4m 12s\n",
      "419:\tlearn: 0.7739424\ttest: 0.7668115\tbest: 0.7671185 (414)\ttotal: 3m 2s\tremaining: 4m 12s\n",
      "420:\tlearn: 0.7739424\ttest: 0.7668115\tbest: 0.7671185 (414)\ttotal: 3m 3s\tremaining: 4m 11s\n",
      "421:\tlearn: 0.7739033\ttest: 0.7668115\tbest: 0.7671185 (414)\ttotal: 3m 3s\tremaining: 4m 11s\n",
      "422:\tlearn: 0.7740763\ttest: 0.7667709\tbest: 0.7671185 (414)\ttotal: 3m 4s\tremaining: 4m 11s\n",
      "423:\tlearn: 0.7742215\ttest: 0.7667449\tbest: 0.7671185 (414)\ttotal: 3m 4s\tremaining: 4m 10s\n",
      "424:\tlearn: 0.7744335\ttest: 0.7669186\tbest: 0.7671185 (414)\ttotal: 3m 4s\tremaining: 4m 10s\n",
      "425:\tlearn: 0.7742605\ttest: 0.7669186\tbest: 0.7671185 (414)\ttotal: 3m 5s\tremaining: 4m 9s\n",
      "426:\tlearn: 0.7743945\ttest: 0.7672803\tbest: 0.7672803 (426)\ttotal: 3m 5s\tremaining: 4m 9s\n",
      "427:\tlearn: 0.7748075\ttest: 0.7672803\tbest: 0.7672803 (426)\ttotal: 3m 6s\tremaining: 4m 8s\n",
      "428:\tlearn: 0.7745675\ttest: 0.7673873\tbest: 0.7673873 (428)\ttotal: 3m 6s\tremaining: 4m 8s\n",
      "429:\tlearn: 0.7748075\ttest: 0.7674540\tbest: 0.7674540 (429)\ttotal: 3m 7s\tremaining: 4m 8s\n",
      "430:\tlearn: 0.7742884\ttest: 0.7675873\tbest: 0.7675873 (430)\ttotal: 3m 7s\tremaining: 4m 7s\n",
      "431:\tlearn: 0.7746345\ttest: 0.7675610\tbest: 0.7675873 (430)\ttotal: 3m 8s\tremaining: 4m 7s\n",
      "432:\tlearn: 0.7748745\ttest: 0.7680417\tbest: 0.7680417 (432)\ttotal: 3m 8s\tremaining: 4m 6s\n",
      "433:\tlearn: 0.7747405\ttest: 0.7680417\tbest: 0.7680417 (432)\ttotal: 3m 8s\tremaining: 4m 6s\n",
      "434:\tlearn: 0.7749135\ttest: 0.7679083\tbest: 0.7680417 (432)\ttotal: 3m 9s\tremaining: 4m 5s\n",
      "435:\tlearn: 0.7749524\ttest: 0.7680153\tbest: 0.7680417 (432)\ttotal: 3m 9s\tremaining: 4m 5s\n",
      "436:\tlearn: 0.7748465\ttest: 0.7676540\tbest: 0.7680417 (432)\ttotal: 3m 10s\tremaining: 4m 5s\n",
      "437:\tlearn: 0.7749914\ttest: 0.7676943\tbest: 0.7680417 (432)\ttotal: 3m 10s\tremaining: 4m 4s\n",
      "438:\tlearn: 0.7750973\ttest: 0.7675610\tbest: 0.7680417 (432)\ttotal: 3m 11s\tremaining: 4m 4s\n",
      "439:\tlearn: 0.7751643\ttest: 0.7678416\tbest: 0.7680417 (432)\ttotal: 3m 11s\tremaining: 4m 3s\n",
      "440:\tlearn: 0.7752702\ttest: 0.7678819\tbest: 0.7680417 (432)\ttotal: 3m 11s\tremaining: 4m 3s\n",
      "441:\tlearn: 0.7757607\ttest: 0.7679889\tbest: 0.7680417 (432)\ttotal: 3m 12s\tremaining: 4m 2s\n",
      "442:\tlearn: 0.7760111\ttest: 0.7678153\tbest: 0.7680417 (432)\ttotal: 3m 12s\tremaining: 4m 2s\n",
      "443:\tlearn: 0.7760111\ttest: 0.7676820\tbest: 0.7680417 (432)\ttotal: 3m 13s\tremaining: 4m 2s\n",
      "444:\tlearn: 0.7760394\ttest: 0.7677487\tbest: 0.7680417 (432)\ttotal: 3m 13s\tremaining: 4m 1s\n",
      "445:\tlearn: 0.7764625\ttest: 0.7674277\tbest: 0.7680417 (432)\ttotal: 3m 14s\tremaining: 4m 1s\n",
      "446:\tlearn: 0.7769038\ttest: 0.7678013\tbest: 0.7680417 (432)\ttotal: 3m 14s\tremaining: 4m\n",
      "447:\tlearn: 0.7769710\ttest: 0.7678013\tbest: 0.7680417 (432)\ttotal: 3m 14s\tremaining: 4m\n",
      "448:\tlearn: 0.7769038\ttest: 0.7679347\tbest: 0.7680417 (432)\ttotal: 3m 15s\tremaining: 3m 59s\n",
      "449:\tlearn: 0.7769710\ttest: 0.7678944\tbest: 0.7680417 (432)\ttotal: 3m 15s\tremaining: 3m 59s\n",
      "450:\tlearn: 0.7769710\ttest: 0.7678944\tbest: 0.7680417 (432)\ttotal: 3m 16s\tremaining: 3m 58s\n",
      "451:\tlearn: 0.7768652\ttest: 0.7680681\tbest: 0.7680681 (451)\ttotal: 3m 16s\tremaining: 3m 58s\n",
      "452:\tlearn: 0.7773167\ttest: 0.7681348\tbest: 0.7681348 (452)\ttotal: 3m 16s\tremaining: 3m 57s\n",
      "453:\tlearn: 0.7773552\ttest: 0.7684823\tbest: 0.7684823 (453)\ttotal: 3m 17s\tremaining: 3m 57s\n",
      "454:\tlearn: 0.7773552\ttest: 0.7686159\tbest: 0.7686159 (454)\ttotal: 3m 17s\tremaining: 3m 56s\n",
      "455:\tlearn: 0.7773552\ttest: 0.7687495\tbest: 0.7687495 (455)\ttotal: 3m 18s\tremaining: 3m 56s\n",
      "456:\tlearn: 0.7773552\ttest: 0.7686424\tbest: 0.7687495 (455)\ttotal: 3m 18s\tremaining: 3m 56s\n",
      "457:\tlearn: 0.7775665\ttest: 0.7688966\tbest: 0.7688966 (457)\ttotal: 3m 19s\tremaining: 3m 55s\n",
      "458:\tlearn: 0.7776722\ttest: 0.7686159\tbest: 0.7688966 (457)\ttotal: 3m 19s\tremaining: 3m 55s\n",
      "459:\tlearn: 0.7780083\ttest: 0.7687495\tbest: 0.7688966 (457)\ttotal: 3m 19s\tremaining: 3m 54s\n",
      "460:\tlearn: 0.7779410\ttest: 0.7683616\tbest: 0.7688966 (457)\ttotal: 3m 20s\tremaining: 3m 54s\n",
      "461:\tlearn: 0.7781428\ttest: 0.7684686\tbest: 0.7688966 (457)\ttotal: 3m 20s\tremaining: 3m 53s\n",
      "462:\tlearn: 0.7782195\ttest: 0.7682948\tbest: 0.7688966 (457)\ttotal: 3m 21s\tremaining: 3m 53s\n",
      "463:\tlearn: 0.7783924\ttest: 0.7682948\tbest: 0.7688966 (457)\ttotal: 3m 21s\tremaining: 3m 52s\n",
      "464:\tlearn: 0.7786708\ttest: 0.7681877\tbest: 0.7688966 (457)\ttotal: 3m 22s\tremaining: 3m 52s\n",
      "465:\tlearn: 0.7786708\ttest: 0.7681877\tbest: 0.7688966 (457)\ttotal: 3m 22s\tremaining: 3m 52s\n",
      "466:\tlearn: 0.7790838\ttest: 0.7682545\tbest: 0.7688966 (457)\ttotal: 3m 22s\tremaining: 3m 51s\n",
      "467:\tlearn: 0.7793914\ttest: 0.7683351\tbest: 0.7688966 (457)\ttotal: 3m 23s\tremaining: 3m 51s\n",
      "468:\tlearn: 0.7796317\ttest: 0.7684421\tbest: 0.7688966 (457)\ttotal: 3m 23s\tremaining: 3m 50s\n",
      "469:\tlearn: 0.7797372\ttest: 0.7683351\tbest: 0.7688966 (457)\ttotal: 3m 24s\tremaining: 3m 50s\n",
      "470:\tlearn: 0.7796991\ttest: 0.7685491\tbest: 0.7688966 (457)\ttotal: 3m 24s\tremaining: 3m 49s\n",
      "471:\tlearn: 0.7796991\ttest: 0.7684421\tbest: 0.7688966 (457)\ttotal: 3m 25s\tremaining: 3m 49s\n",
      "472:\tlearn: 0.7798046\ttest: 0.7682683\tbest: 0.7688966 (457)\ttotal: 3m 25s\tremaining: 3m 48s\n",
      "473:\tlearn: 0.7799775\ttest: 0.7682280\tbest: 0.7688966 (457)\ttotal: 3m 25s\tremaining: 3m 48s\n",
      "474:\tlearn: 0.7800450\ttest: 0.7682280\tbest: 0.7688966 (457)\ttotal: 3m 26s\tremaining: 3m 47s\n",
      "475:\tlearn: 0.7799395\ttest: 0.7680278\tbest: 0.7688966 (457)\ttotal: 3m 26s\tremaining: 3m 47s\n",
      "476:\tlearn: 0.7798720\ttest: 0.7680945\tbest: 0.7688966 (457)\ttotal: 3m 27s\tremaining: 3m 47s\n",
      "477:\tlearn: 0.7800916\ttest: 0.7683086\tbest: 0.7688966 (457)\ttotal: 3m 27s\tremaining: 3m 46s\n",
      "478:\tlearn: 0.7802644\ttest: 0.7682016\tbest: 0.7688966 (457)\ttotal: 3m 27s\tremaining: 3m 46s\n",
      "479:\tlearn: 0.7803698\ttest: 0.7682016\tbest: 0.7688966 (457)\ttotal: 3m 28s\tremaining: 3m 45s\n",
      "480:\tlearn: 0.7800916\ttest: 0.7680278\tbest: 0.7688966 (457)\ttotal: 3m 28s\tremaining: 3m 45s\n",
      "481:\tlearn: 0.7800536\ttest: 0.7677873\tbest: 0.7688966 (457)\ttotal: 3m 29s\tremaining: 3m 44s\n",
      "482:\tlearn: 0.7803318\ttest: 0.7679611\tbest: 0.7688966 (457)\ttotal: 3m 29s\tremaining: 3m 44s\n",
      "483:\tlearn: 0.7806396\ttest: 0.7680681\tbest: 0.7688966 (457)\ttotal: 3m 29s\tremaining: 3m 43s\n",
      "484:\tlearn: 0.7805721\ttest: 0.7683891\tbest: 0.7688966 (457)\ttotal: 3m 30s\tremaining: 3m 43s\n",
      "485:\tlearn: 0.7806100\ttest: 0.7685225\tbest: 0.7688966 (457)\ttotal: 3m 30s\tremaining: 3m 42s\n",
      "486:\tlearn: 0.7803993\ttest: 0.7682683\tbest: 0.7688966 (457)\ttotal: 3m 31s\tremaining: 3m 42s\n",
      "487:\tlearn: 0.7807071\ttest: 0.7683753\tbest: 0.7688966 (457)\ttotal: 3m 31s\tremaining: 3m 42s\n",
      "488:\tlearn: 0.7809474\ttest: 0.7685893\tbest: 0.7688966 (457)\ttotal: 3m 32s\tremaining: 3m 41s\n",
      "489:\tlearn: 0.7809474\ttest: 0.7684421\tbest: 0.7688966 (457)\ttotal: 3m 32s\tremaining: 3m 41s\n",
      "490:\tlearn: 0.7810528\ttest: 0.7684421\tbest: 0.7688966 (457)\ttotal: 3m 32s\tremaining: 3m 40s\n",
      "491:\tlearn: 0.7809853\ttest: 0.7688835\tbest: 0.7688966 (457)\ttotal: 3m 33s\tremaining: 3m 40s\n",
      "492:\tlearn: 0.7810528\ttest: 0.7684558\tbest: 0.7688966 (457)\ttotal: 3m 33s\tremaining: 3m 39s\n",
      "493:\tlearn: 0.7813986\ttest: 0.7685362\tbest: 0.7688966 (457)\ttotal: 3m 34s\tremaining: 3m 39s\n",
      "494:\tlearn: 0.7815714\ttest: 0.7689236\tbest: 0.7689236 (494)\ttotal: 3m 34s\tremaining: 3m 39s\n",
      "495:\tlearn: 0.7813986\ttest: 0.7688167\tbest: 0.7689236 (494)\ttotal: 3m 35s\tremaining: 3m 38s\n",
      "496:\tlearn: 0.7816768\ttest: 0.7687098\tbest: 0.7689236 (494)\ttotal: 3m 35s\tremaining: 3m 38s\n",
      "497:\tlearn: 0.7819172\ttest: 0.7690706\tbest: 0.7690706 (497)\ttotal: 3m 36s\tremaining: 3m 37s\n",
      "498:\tlearn: 0.7819926\ttest: 0.7691373\tbest: 0.7691373 (498)\ttotal: 3m 36s\tremaining: 3m 37s\n",
      "499:\tlearn: 0.7822330\ttest: 0.7689236\tbest: 0.7691373 (498)\ttotal: 3m 36s\tremaining: 3m 36s\n",
      "500:\tlearn: 0.7825486\ttest: 0.7688569\tbest: 0.7691373 (498)\ttotal: 3m 37s\tremaining: 3m 36s\n",
      "501:\tlearn: 0.7826838\ttest: 0.7688970\tbest: 0.7691373 (498)\ttotal: 3m 37s\tremaining: 3m 35s\n",
      "502:\tlearn: 0.7830368\ttest: 0.7693509\tbest: 0.7693509 (502)\ttotal: 3m 38s\tremaining: 3m 35s\n",
      "503:\tlearn: 0.7829993\ttest: 0.7691106\tbest: 0.7693509 (502)\ttotal: 3m 38s\tremaining: 3m 35s\n",
      "504:\tlearn: 0.7831044\ttest: 0.7691106\tbest: 0.7693509 (502)\ttotal: 3m 38s\tremaining: 3m 34s\n",
      "505:\tlearn: 0.7831044\ttest: 0.7690038\tbest: 0.7693509 (502)\ttotal: 3m 39s\tremaining: 3m 34s\n",
      "506:\tlearn: 0.7832095\ttest: 0.7690439\tbest: 0.7693509 (502)\ttotal: 3m 39s\tremaining: 3m 33s\n",
      "507:\tlearn: 0.7833146\ttest: 0.7691106\tbest: 0.7693509 (502)\ttotal: 3m 40s\tremaining: 3m 33s\n",
      "508:\tlearn: 0.7833146\ttest: 0.7691106\tbest: 0.7693509 (502)\ttotal: 3m 40s\tremaining: 3m 32s\n",
      "509:\tlearn: 0.7834197\ttest: 0.7693509\tbest: 0.7693509 (502)\ttotal: 3m 41s\tremaining: 3m 32s\n",
      "510:\tlearn: 0.7834873\ttest: 0.7694977\tbest: 0.7694977 (510)\ttotal: 3m 41s\tremaining: 3m 31s\n",
      "511:\tlearn: 0.7834197\ttest: 0.7694977\tbest: 0.7694977 (510)\ttotal: 3m 41s\tremaining: 3m 31s\n",
      "512:\tlearn: 0.7833146\ttest: 0.7694977\tbest: 0.7694977 (510)\ttotal: 3m 42s\tremaining: 3m 31s\n",
      "513:\tlearn: 0.7834873\ttest: 0.7693909\tbest: 0.7694977 (510)\ttotal: 3m 42s\tremaining: 3m 30s\n",
      "514:\tlearn: 0.7834873\ttest: 0.7693242\tbest: 0.7694977 (510)\ttotal: 3m 43s\tremaining: 3m 30s\n",
      "515:\tlearn: 0.7834873\ttest: 0.7693642\tbest: 0.7694977 (510)\ttotal: 3m 43s\tremaining: 3m 29s\n",
      "516:\tlearn: 0.7835550\ttest: 0.7692575\tbest: 0.7694977 (510)\ttotal: 3m 43s\tremaining: 3m 29s\n",
      "517:\tlearn: 0.7838258\ttest: 0.7693909\tbest: 0.7694977 (510)\ttotal: 3m 44s\tremaining: 3m 28s\n",
      "518:\tlearn: 0.7836530\ttest: 0.7693909\tbest: 0.7694977 (510)\ttotal: 3m 44s\tremaining: 3m 28s\n",
      "519:\tlearn: 0.7835176\ttest: 0.7696712\tbest: 0.7696712 (519)\ttotal: 3m 45s\tremaining: 3m 27s\n",
      "520:\tlearn: 0.7835853\ttest: 0.7695645\tbest: 0.7696712 (519)\ttotal: 3m 45s\tremaining: 3m 27s\n",
      "521:\tlearn: 0.7838258\ttest: 0.7694977\tbest: 0.7696712 (519)\ttotal: 3m 46s\tremaining: 3m 27s\n",
      "522:\tlearn: 0.7837885\ttest: 0.7693909\tbest: 0.7696712 (519)\ttotal: 3m 46s\tremaining: 3m 26s\n",
      "523:\tlearn: 0.7837511\ttest: 0.7696312\tbest: 0.7696712 (519)\ttotal: 3m 46s\tremaining: 3m 26s\n",
      "524:\tlearn: 0.7837511\ttest: 0.7694845\tbest: 0.7696712 (519)\ttotal: 3m 47s\tremaining: 3m 25s\n",
      "525:\tlearn: 0.7839613\ttest: 0.7695513\tbest: 0.7696712 (519)\ttotal: 3m 47s\tremaining: 3m 25s\n",
      "526:\tlearn: 0.7837885\ttest: 0.7695245\tbest: 0.7696712 (519)\ttotal: 3m 48s\tremaining: 3m 24s\n",
      "527:\tlearn: 0.7838188\ttest: 0.7696312\tbest: 0.7696712 (519)\ttotal: 3m 48s\tremaining: 3m 24s\n",
      "528:\tlearn: 0.7838562\ttest: 0.7697648\tbest: 0.7697648 (528)\ttotal: 3m 49s\tremaining: 3m 23s\n",
      "529:\tlearn: 0.7840290\ttest: 0.7698316\tbest: 0.7698316 (529)\ttotal: 3m 49s\tremaining: 3m 23s\n",
      "530:\tlearn: 0.7840968\ttest: 0.7699783\tbest: 0.7699783 (530)\ttotal: 3m 49s\tremaining: 3m 23s\n",
      "531:\tlearn: 0.7837137\ttest: 0.7699115\tbest: 0.7699783 (530)\ttotal: 3m 50s\tremaining: 3m 22s\n",
      "532:\tlearn: 0.7838188\ttest: 0.7700451\tbest: 0.7700451 (532)\ttotal: 3m 50s\tremaining: 3m 22s\n",
      "533:\tlearn: 0.7838188\ttest: 0.7700451\tbest: 0.7700451 (532)\ttotal: 3m 51s\tremaining: 3m 21s\n",
      "534:\tlearn: 0.7836833\ttest: 0.7697249\tbest: 0.7700451 (532)\ttotal: 3m 51s\tremaining: 3m 21s\n",
      "535:\tlearn: 0.7836156\ttest: 0.7698316\tbest: 0.7700451 (532)\ttotal: 3m 52s\tremaining: 3m 20s\n",
      "536:\tlearn: 0.7838562\ttest: 0.7695513\tbest: 0.7700451 (532)\ttotal: 3m 52s\tremaining: 3m 20s\n",
      "537:\tlearn: 0.7840290\ttest: 0.7693777\tbest: 0.7700451 (532)\ttotal: 3m 52s\tremaining: 3m 19s\n",
      "538:\tlearn: 0.7841341\ttest: 0.7693777\tbest: 0.7700451 (532)\ttotal: 3m 53s\tremaining: 3m 19s\n",
      "539:\tlearn: 0.7841341\ttest: 0.7695913\tbest: 0.7700451 (532)\ttotal: 3m 53s\tremaining: 3m 19s\n",
      "540:\tlearn: 0.7838258\ttest: 0.7698716\tbest: 0.7700451 (532)\ttotal: 3m 54s\tremaining: 3m 18s\n",
      "541:\tlearn: 0.7841037\ttest: 0.7698716\tbest: 0.7700451 (532)\ttotal: 3m 54s\tremaining: 3m 18s\n",
      "542:\tlearn: 0.7841037\ttest: 0.7698716\tbest: 0.7700451 (532)\ttotal: 3m 55s\tremaining: 3m 17s\n",
      "543:\tlearn: 0.7844865\ttest: 0.7700052\tbest: 0.7700451 (532)\ttotal: 3m 55s\tremaining: 3m 17s\n",
      "544:\tlearn: 0.7845543\ttest: 0.7700052\tbest: 0.7700451 (532)\ttotal: 3m 55s\tremaining: 3m 16s\n",
      "545:\tlearn: 0.7842765\ttest: 0.7702855\tbest: 0.7702855 (545)\ttotal: 3m 56s\tremaining: 3m 16s\n",
      "546:\tlearn: 0.7843815\ttest: 0.7703125\tbest: 0.7703125 (546)\ttotal: 3m 56s\tremaining: 3m 15s\n",
      "547:\tlearn: 0.7844492\ttest: 0.7705928\tbest: 0.7705928 (547)\ttotal: 3m 57s\tremaining: 3m 15s\n",
      "548:\tlearn: 0.7845848\ttest: 0.7703125\tbest: 0.7705928 (547)\ttotal: 3m 57s\tremaining: 3m 15s\n",
      "549:\tlearn: 0.7848998\ttest: 0.7705530\tbest: 0.7705928 (547)\ttotal: 3m 57s\tremaining: 3m 14s\n",
      "550:\tlearn: 0.7850726\ttest: 0.7705928\tbest: 0.7705928 (547)\ttotal: 3m 58s\tremaining: 3m 14s\n",
      "551:\tlearn: 0.7851404\ttest: 0.7705928\tbest: 0.7705928 (547)\ttotal: 3m 58s\tremaining: 3m 13s\n",
      "552:\tlearn: 0.7850726\ttest: 0.7705260\tbest: 0.7705928 (547)\ttotal: 3m 59s\tremaining: 3m 13s\n",
      "553:\tlearn: 0.7850354\ttest: 0.7704192\tbest: 0.7705928 (547)\ttotal: 3m 59s\tremaining: 3m 12s\n",
      "554:\tlearn: 0.7852453\ttest: 0.7706597\tbest: 0.7706597 (554)\ttotal: 3m 59s\tremaining: 3m 12s\n",
      "555:\tlearn: 0.7852453\ttest: 0.7707266\tbest: 0.7707266 (555)\ttotal: 4m\tremaining: 3m 11s\n",
      "556:\tlearn: 0.7854181\ttest: 0.7704463\tbest: 0.7707266 (555)\ttotal: 4m\tremaining: 3m 11s\n",
      "557:\tlearn: 0.7855601\ttest: 0.7704861\tbest: 0.7707266 (555)\ttotal: 4m 1s\tremaining: 3m 11s\n",
      "558:\tlearn: 0.7855601\ttest: 0.7704192\tbest: 0.7707266 (555)\ttotal: 4m 1s\tremaining: 3m 10s\n",
      "559:\tlearn: 0.7858377\ttest: 0.7704192\tbest: 0.7707266 (555)\ttotal: 4m 2s\tremaining: 3m 10s\n",
      "560:\tlearn: 0.7859055\ttest: 0.7704192\tbest: 0.7707266 (555)\ttotal: 4m 2s\tremaining: 3m 9s\n",
      "561:\tlearn: 0.7860473\ttest: 0.7706995\tbest: 0.7707266 (555)\ttotal: 4m 2s\tremaining: 3m 9s\n",
      "562:\tlearn: 0.7859734\ttest: 0.7706597\tbest: 0.7707266 (555)\ttotal: 4m 3s\tremaining: 3m 8s\n",
      "563:\tlearn: 0.7858377\ttest: 0.7709129\tbest: 0.7709129 (563)\ttotal: 4m 3s\tremaining: 3m 8s\n",
      "564:\tlearn: 0.7858377\ttest: 0.7709526\tbest: 0.7709526 (564)\ttotal: 4m 4s\tremaining: 3m 7s\n",
      "565:\tlearn: 0.7858377\ttest: 0.7709526\tbest: 0.7709526 (564)\ttotal: 4m 4s\tremaining: 3m 7s\n",
      "566:\tlearn: 0.7859055\ttest: 0.7707791\tbest: 0.7709526 (564)\ttotal: 4m 4s\tremaining: 3m 7s\n",
      "567:\tlearn: 0.7860104\ttest: 0.7707918\tbest: 0.7709526 (564)\ttotal: 4m 5s\tremaining: 3m 6s\n",
      "568:\tlearn: 0.7859425\ttest: 0.7710718\tbest: 0.7710718 (568)\ttotal: 4m 5s\tremaining: 3m 6s\n",
      "569:\tlearn: 0.7859425\ttest: 0.7709381\tbest: 0.7710718 (568)\ttotal: 4m 6s\tremaining: 3m 5s\n",
      "570:\tlearn: 0.7861152\ttest: 0.7707249\tbest: 0.7710718 (568)\ttotal: 4m 6s\tremaining: 3m 5s\n",
      "571:\tlearn: 0.7863189\ttest: 0.7708315\tbest: 0.7710718 (568)\ttotal: 4m 6s\tremaining: 3m 4s\n",
      "572:\tlearn: 0.7863189\ttest: 0.7708984\tbest: 0.7710718 (568)\ttotal: 4m 7s\tremaining: 3m 4s\n",
      "573:\tlearn: 0.7860782\ttest: 0.7710049\tbest: 0.7710718 (568)\ttotal: 4m 7s\tremaining: 3m 3s\n",
      "574:\tlearn: 0.7863558\ttest: 0.7711115\tbest: 0.7711115 (574)\ttotal: 4m 8s\tremaining: 3m 3s\n",
      "575:\tlearn: 0.7862879\ttest: 0.7710446\tbest: 0.7711115 (574)\ttotal: 4m 8s\tremaining: 3m 3s\n",
      "576:\tlearn: 0.7863248\ttest: 0.7711512\tbest: 0.7711512 (576)\ttotal: 4m 9s\tremaining: 3m 2s\n",
      "577:\tlearn: 0.7863248\ttest: 0.7711908\tbest: 0.7711908 (577)\ttotal: 4m 9s\tremaining: 3m 2s\n",
      "578:\tlearn: 0.7863248\ttest: 0.7710843\tbest: 0.7711908 (577)\ttotal: 4m 9s\tremaining: 3m 1s\n",
      "579:\tlearn: 0.7861212\ttest: 0.7712849\tbest: 0.7712849 (579)\ttotal: 4m 10s\tremaining: 3m 1s\n",
      "580:\tlearn: 0.7862259\ttest: 0.7713914\tbest: 0.7713914 (580)\ttotal: 4m 10s\tremaining: 3m\n",
      "581:\tlearn: 0.7862259\ttest: 0.7713518\tbest: 0.7713914 (580)\ttotal: 4m 11s\tremaining: 3m\n",
      "582:\tlearn: 0.7862259\ttest: 0.7715252\tbest: 0.7715252 (582)\ttotal: 4m 11s\tremaining: 2m 59s\n",
      "583:\tlearn: 0.7863617\ttest: 0.7713914\tbest: 0.7715252 (582)\ttotal: 4m 11s\tremaining: 2m 59s\n",
      "584:\tlearn: 0.7865654\ttest: 0.7716044\tbest: 0.7716044 (584)\ttotal: 4m 12s\tremaining: 2m 59s\n",
      "585:\tlearn: 0.7864975\ttest: 0.7715252\tbest: 0.7716044 (584)\ttotal: 4m 12s\tremaining: 2m 58s\n",
      "586:\tlearn: 0.7866333\ttest: 0.7714187\tbest: 0.7716044 (584)\ttotal: 4m 13s\tremaining: 2m 58s\n",
      "587:\tlearn: 0.7866333\ttest: 0.7713518\tbest: 0.7716044 (584)\ttotal: 4m 13s\tremaining: 2m 57s\n",
      "588:\tlearn: 0.7864975\ttest: 0.7716713\tbest: 0.7716713 (588)\ttotal: 4m 14s\tremaining: 2m 57s\n",
      "589:\tlearn: 0.7868428\ttest: 0.7713245\tbest: 0.7716713 (588)\ttotal: 4m 14s\tremaining: 2m 56s\n",
      "590:\tlearn: 0.7869107\ttest: 0.7715375\tbest: 0.7716713 (588)\ttotal: 4m 14s\tremaining: 2m 56s\n",
      "591:\tlearn: 0.7870522\ttest: 0.7713914\tbest: 0.7716713 (588)\ttotal: 4m 15s\tremaining: 2m 55s\n",
      "592:\tlearn: 0.7870522\ttest: 0.7712180\tbest: 0.7716713 (588)\ttotal: 4m 15s\tremaining: 2m 55s\n",
      "593:\tlearn: 0.7870522\ttest: 0.7712180\tbest: 0.7716713 (588)\ttotal: 4m 16s\tremaining: 2m 55s\n",
      "594:\tlearn: 0.7869843\ttest: 0.7712180\tbest: 0.7716713 (588)\ttotal: 4m 16s\tremaining: 2m 54s\n",
      "595:\tlearn: 0.7869843\ttest: 0.7713245\tbest: 0.7716713 (588)\ttotal: 4m 16s\tremaining: 2m 54s\n",
      "596:\tlearn: 0.7869843\ttest: 0.7714310\tbest: 0.7716713 (588)\ttotal: 4m 17s\tremaining: 2m 53s\n",
      "597:\tlearn: 0.7872249\ttest: 0.7714310\tbest: 0.7716713 (588)\ttotal: 4m 17s\tremaining: 2m 53s\n",
      "598:\tlearn: 0.7870834\ttest: 0.7716440\tbest: 0.7716713 (588)\ttotal: 4m 18s\tremaining: 2m 52s\n",
      "599:\tlearn: 0.7870834\ttest: 0.7719116\tbest: 0.7719116 (599)\ttotal: 4m 18s\tremaining: 2m 52s\n",
      "600:\tlearn: 0.7870834\ttest: 0.7719116\tbest: 0.7719116 (599)\ttotal: 4m 18s\tremaining: 2m 51s\n",
      "601:\tlearn: 0.7871881\ttest: 0.7718051\tbest: 0.7719116 (599)\ttotal: 4m 19s\tremaining: 2m 51s\n",
      "602:\tlearn: 0.7872928\ttest: 0.7718447\tbest: 0.7719116 (599)\ttotal: 4m 19s\tremaining: 2m 50s\n",
      "603:\tlearn: 0.7873975\ttest: 0.7716713\tbest: 0.7719116 (599)\ttotal: 4m 20s\tremaining: 2m 50s\n",
      "604:\tlearn: 0.7871569\ttest: 0.7714583\tbest: 0.7719116 (599)\ttotal: 4m 20s\tremaining: 2m 50s\n",
      "605:\tlearn: 0.7873295\ttest: 0.7713914\tbest: 0.7719116 (599)\ttotal: 4m 20s\tremaining: 2m 49s\n",
      "606:\tlearn: 0.7873662\ttest: 0.7713914\tbest: 0.7719116 (599)\ttotal: 4m 21s\tremaining: 2m 49s\n",
      "607:\tlearn: 0.7875755\ttest: 0.7713245\tbest: 0.7719116 (599)\ttotal: 4m 21s\tremaining: 2m 48s\n",
      "608:\tlearn: 0.7874709\ttest: 0.7713245\tbest: 0.7719116 (599)\ttotal: 4m 22s\tremaining: 2m 48s\n",
      "609:\tlearn: 0.7874709\ttest: 0.7712577\tbest: 0.7719116 (599)\ttotal: 4m 22s\tremaining: 2m 47s\n",
      "610:\tlearn: 0.7876068\ttest: 0.7713245\tbest: 0.7719116 (599)\ttotal: 4m 23s\tremaining: 2m 47s\n",
      "611:\tlearn: 0.7878160\ttest: 0.7712577\tbest: 0.7719116 (599)\ttotal: 4m 23s\tremaining: 2m 47s\n",
      "612:\tlearn: 0.7877481\ttest: 0.7712577\tbest: 0.7719116 (599)\ttotal: 4m 23s\tremaining: 2m 46s\n",
      "613:\tlearn: 0.7878526\ttest: 0.7712973\tbest: 0.7719116 (599)\ttotal: 4m 24s\tremaining: 2m 46s\n",
      "614:\tlearn: 0.7879206\ttest: 0.7713370\tbest: 0.7719116 (599)\ttotal: 4m 24s\tremaining: 2m 45s\n",
      "615:\tlearn: 0.7879886\ttest: 0.7715375\tbest: 0.7719116 (599)\ttotal: 4m 25s\tremaining: 2m 45s\n",
      "616:\tlearn: 0.7878840\ttest: 0.7714038\tbest: 0.7719116 (599)\ttotal: 4m 25s\tremaining: 2m 44s\n",
      "617:\tlearn: 0.7878474\ttest: 0.7715771\tbest: 0.7719116 (599)\ttotal: 4m 25s\tremaining: 2m 44s\n",
      "618:\tlearn: 0.7879520\ttest: 0.7715103\tbest: 0.7719116 (599)\ttotal: 4m 26s\tremaining: 2m 43s\n",
      "619:\tlearn: 0.7880566\ttest: 0.7715771\tbest: 0.7719116 (599)\ttotal: 4m 26s\tremaining: 2m 43s\n",
      "620:\tlearn: 0.7879886\ttest: 0.7716167\tbest: 0.7719116 (599)\ttotal: 4m 27s\tremaining: 2m 43s\n",
      "621:\tlearn: 0.7879886\ttest: 0.7717231\tbest: 0.7719116 (599)\ttotal: 4m 27s\tremaining: 2m 42s\n",
      "622:\tlearn: 0.7881612\ttest: 0.7717900\tbest: 0.7719116 (599)\ttotal: 4m 27s\tremaining: 2m 42s\n",
      "623:\tlearn: 0.7882292\ttest: 0.7717900\tbest: 0.7719116 (599)\ttotal: 4m 28s\tremaining: 2m 41s\n",
      "624:\tlearn: 0.7883338\ttest: 0.7717504\tbest: 0.7719116 (599)\ttotal: 4m 28s\tremaining: 2m 41s\n",
      "625:\tlearn: 0.7883338\ttest: 0.7717504\tbest: 0.7719116 (599)\ttotal: 4m 29s\tremaining: 2m 40s\n",
      "626:\tlearn: 0.7883338\ttest: 0.7717109\tbest: 0.7719116 (599)\ttotal: 4m 29s\tremaining: 2m 40s\n",
      "627:\tlearn: 0.7885063\ttest: 0.7717109\tbest: 0.7719116 (599)\ttotal: 4m 30s\tremaining: 2m 39s\n",
      "628:\tlearn: 0.7885063\ttest: 0.7717109\tbest: 0.7719116 (599)\ttotal: 4m 30s\tremaining: 2m 39s\n",
      "629:\tlearn: 0.7886473\ttest: 0.7717109\tbest: 0.7719116 (599)\ttotal: 4m 30s\tremaining: 2m 39s\n",
      "630:\tlearn: 0.7888879\ttest: 0.7718173\tbest: 0.7719116 (599)\ttotal: 4m 31s\tremaining: 2m 38s\n",
      "631:\tlearn: 0.7887834\ttest: 0.7715771\tbest: 0.7719116 (599)\ttotal: 4m 31s\tremaining: 2m 38s\n",
      "632:\tlearn: 0.7887834\ttest: 0.7716836\tbest: 0.7719116 (599)\ttotal: 4m 32s\tremaining: 2m 37s\n",
      "633:\tlearn: 0.7887834\ttest: 0.7716836\tbest: 0.7719116 (599)\ttotal: 4m 32s\tremaining: 2m 37s\n",
      "634:\tlearn: 0.7887834\ttest: 0.7716836\tbest: 0.7719116 (599)\ttotal: 4m 32s\tremaining: 2m 36s\n",
      "635:\tlearn: 0.7889924\ttest: 0.7716836\tbest: 0.7719116 (599)\ttotal: 4m 33s\tremaining: 2m 36s\n",
      "636:\tlearn: 0.7889924\ttest: 0.7716167\tbest: 0.7719116 (599)\ttotal: 4m 33s\tremaining: 2m 36s\n",
      "637:\tlearn: 0.7889924\ttest: 0.7717231\tbest: 0.7719116 (599)\ttotal: 4m 34s\tremaining: 2m 35s\n",
      "638:\tlearn: 0.7890241\ttest: 0.7715103\tbest: 0.7719116 (599)\ttotal: 4m 34s\tremaining: 2m 35s\n",
      "639:\tlearn: 0.7892330\ttest: 0.7715771\tbest: 0.7719116 (599)\ttotal: 4m 35s\tremaining: 2m 34s\n",
      "640:\tlearn: 0.7892330\ttest: 0.7715771\tbest: 0.7719116 (599)\ttotal: 4m 35s\tremaining: 2m 34s\n",
      "641:\tlearn: 0.7893375\ttest: 0.7714707\tbest: 0.7719116 (599)\ttotal: 4m 35s\tremaining: 2m 33s\n",
      "642:\tlearn: 0.7893057\ttest: 0.7714038\tbest: 0.7719116 (599)\ttotal: 4m 36s\tremaining: 2m 33s\n",
      "643:\tlearn: 0.7891332\ttest: 0.7716167\tbest: 0.7719116 (599)\ttotal: 4m 36s\tremaining: 2m 32s\n",
      "644:\tlearn: 0.7891332\ttest: 0.7716167\tbest: 0.7719116 (599)\ttotal: 4m 37s\tremaining: 2m 32s\n",
      "645:\tlearn: 0.7890969\ttest: 0.7717231\tbest: 0.7719116 (599)\ttotal: 4m 37s\tremaining: 2m 32s\n",
      "646:\tlearn: 0.7889244\ttest: 0.7718569\tbest: 0.7719116 (599)\ttotal: 4m 37s\tremaining: 2m 31s\n",
      "647:\tlearn: 0.7892330\ttest: 0.7715499\tbest: 0.7719116 (599)\ttotal: 4m 38s\tremaining: 2m 31s\n",
      "648:\tlearn: 0.7891286\ttest: 0.7716563\tbest: 0.7719116 (599)\ttotal: 4m 38s\tremaining: 2m 30s\n",
      "649:\tlearn: 0.7892013\ttest: 0.7716958\tbest: 0.7719116 (599)\ttotal: 4m 39s\tremaining: 2m 30s\n",
      "650:\tlearn: 0.7894782\ttest: 0.7718812\tbest: 0.7719116 (599)\ttotal: 4m 39s\tremaining: 2m 29s\n",
      "651:\tlearn: 0.7894782\ttest: 0.7718812\tbest: 0.7719116 (599)\ttotal: 4m 39s\tremaining: 2m 29s\n",
      "652:\tlearn: 0.7894101\ttest: 0.7719875\tbest: 0.7719875 (652)\ttotal: 4m 40s\tremaining: 2m 28s\n",
      "653:\tlearn: 0.7894101\ttest: 0.7718144\tbest: 0.7719875 (652)\ttotal: 4m 40s\tremaining: 2m 28s\n",
      "654:\tlearn: 0.7895508\ttest: 0.7718539\tbest: 0.7719875 (652)\ttotal: 4m 41s\tremaining: 2m 28s\n",
      "655:\tlearn: 0.7895508\ttest: 0.7717871\tbest: 0.7719875 (652)\ttotal: 4m 41s\tremaining: 2m 27s\n",
      "656:\tlearn: 0.7896552\ttest: 0.7717871\tbest: 0.7719875 (652)\ttotal: 4m 42s\tremaining: 2m 27s\n",
      "657:\tlearn: 0.7900000\ttest: 0.7719602\tbest: 0.7719875 (652)\ttotal: 4m 42s\tremaining: 2m 26s\n",
      "658:\tlearn: 0.7900000\ttest: 0.7718934\tbest: 0.7719875 (652)\ttotal: 4m 42s\tremaining: 2m 26s\n",
      "659:\tlearn: 0.7899319\ttest: 0.7719997\tbest: 0.7719997 (659)\ttotal: 4m 43s\tremaining: 2m 25s\n",
      "660:\tlearn: 0.7900362\ttest: 0.7719997\tbest: 0.7719997 (659)\ttotal: 4m 43s\tremaining: 2m 25s\n",
      "661:\tlearn: 0.7900362\ttest: 0.7720665\tbest: 0.7720665 (661)\ttotal: 4m 44s\tremaining: 2m 25s\n",
      "662:\tlearn: 0.7900405\ttest: 0.7720665\tbest: 0.7720665 (661)\ttotal: 4m 44s\tremaining: 2m 24s\n",
      "663:\tlearn: 0.7902489\ttest: 0.7721727\tbest: 0.7721727 (663)\ttotal: 4m 44s\tremaining: 2m 24s\n",
      "664:\tlearn: 0.7902489\ttest: 0.7721727\tbest: 0.7721727 (663)\ttotal: 4m 45s\tremaining: 2m 23s\n",
      "665:\tlearn: 0.7902489\ttest: 0.7721727\tbest: 0.7721727 (663)\ttotal: 4m 45s\tremaining: 2m 23s\n",
      "666:\tlearn: 0.7903170\ttest: 0.7722789\tbest: 0.7722789 (666)\ttotal: 4m 46s\tremaining: 2m 22s\n",
      "667:\tlearn: 0.7903170\ttest: 0.7722789\tbest: 0.7722789 (666)\ttotal: 4m 46s\tremaining: 2m 22s\n",
      "668:\tlearn: 0.7906616\ttest: 0.7723458\tbest: 0.7723458 (668)\ttotal: 4m 46s\tremaining: 2m 21s\n",
      "669:\tlearn: 0.7906616\ttest: 0.7722395\tbest: 0.7723458 (668)\ttotal: 4m 47s\tremaining: 2m 21s\n",
      "670:\tlearn: 0.7904893\ttest: 0.7722789\tbest: 0.7723458 (668)\ttotal: 4m 47s\tremaining: 2m 21s\n",
      "671:\tlearn: 0.7904893\ttest: 0.7722789\tbest: 0.7723458 (668)\ttotal: 4m 48s\tremaining: 2m 20s\n",
      "672:\tlearn: 0.7906616\ttest: 0.7723458\tbest: 0.7723458 (668)\ttotal: 4m 48s\tremaining: 2m 20s\n",
      "673:\tlearn: 0.7910101\ttest: 0.7723064\tbest: 0.7723458 (668)\ttotal: 4m 49s\tremaining: 2m 19s\n",
      "674:\tlearn: 0.7911823\ttest: 0.7724794\tbest: 0.7724794 (674)\ttotal: 4m 49s\tremaining: 2m 19s\n",
      "675:\tlearn: 0.7914227\ttest: 0.7725857\tbest: 0.7725857 (675)\ttotal: 4m 49s\tremaining: 2m 18s\n",
      "676:\tlearn: 0.7915267\ttest: 0.7725188\tbest: 0.7725857 (675)\ttotal: 4m 50s\tremaining: 2m 18s\n",
      "677:\tlearn: 0.7915949\ttest: 0.7724126\tbest: 0.7725857 (675)\ttotal: 4m 50s\tremaining: 2m 18s\n",
      "678:\tlearn: 0.7916631\ttest: 0.7727587\tbest: 0.7727587 (678)\ttotal: 4m 51s\tremaining: 2m 17s\n",
      "679:\tlearn: 0.7917671\ttest: 0.7727587\tbest: 0.7727587 (678)\ttotal: 4m 51s\tremaining: 2m 17s\n",
      "680:\tlearn: 0.7919752\ttest: 0.7726919\tbest: 0.7727587 (678)\ttotal: 4m 51s\tremaining: 2m 16s\n",
      "681:\tlearn: 0.7920792\ttest: 0.7727312\tbest: 0.7727587 (678)\ttotal: 4m 52s\tremaining: 2m 16s\n",
      "682:\tlearn: 0.7919752\ttest: 0.7726250\tbest: 0.7727587 (678)\ttotal: 4m 52s\tremaining: 2m 15s\n",
      "683:\tlearn: 0.7919752\ttest: 0.7725582\tbest: 0.7727587 (678)\ttotal: 4m 53s\tremaining: 2m 15s\n",
      "684:\tlearn: 0.7919070\ttest: 0.7725582\tbest: 0.7727587 (678)\ttotal: 4m 53s\tremaining: 2m 14s\n",
      "685:\tlearn: 0.7920792\ttest: 0.7725582\tbest: 0.7727587 (678)\ttotal: 4m 53s\tremaining: 2m 14s\n",
      "686:\tlearn: 0.7919752\ttest: 0.7727981\tbest: 0.7727981 (686)\ttotal: 4m 54s\tremaining: 2m 14s\n",
      "687:\tlearn: 0.7918030\ttest: 0.7728374\tbest: 0.7728374 (687)\ttotal: 4m 54s\tremaining: 2m 13s\n",
      "688:\tlearn: 0.7918030\ttest: 0.7728649\tbest: 0.7728649 (688)\ttotal: 4m 55s\tremaining: 2m 13s\n",
      "689:\tlearn: 0.7920110\ttest: 0.7730380\tbest: 0.7730380 (689)\ttotal: 4m 55s\tremaining: 2m 12s\n",
      "690:\tlearn: 0.7920110\ttest: 0.7731049\tbest: 0.7731049 (690)\ttotal: 4m 55s\tremaining: 2m 12s\n",
      "691:\tlearn: 0.7921150\ttest: 0.7731441\tbest: 0.7731441 (691)\ttotal: 4m 56s\tremaining: 2m 11s\n",
      "692:\tlearn: 0.7920792\ttest: 0.7731441\tbest: 0.7731441 (691)\ttotal: 4m 56s\tremaining: 2m 11s\n",
      "693:\tlearn: 0.7922514\ttest: 0.7734902\tbest: 0.7734902 (693)\ttotal: 4m 57s\tremaining: 2m 11s\n",
      "694:\tlearn: 0.7922514\ttest: 0.7734510\tbest: 0.7734902 (693)\ttotal: 4m 57s\tremaining: 2m 10s\n",
      "695:\tlearn: 0.7920434\ttest: 0.7736747\tbest: 0.7736747 (695)\ttotal: 4m 57s\tremaining: 2m 10s\n",
      "696:\tlearn: 0.7920434\ttest: 0.7736747\tbest: 0.7736747 (695)\ttotal: 4m 58s\tremaining: 2m 9s\n",
      "697:\tlearn: 0.7920434\ttest: 0.7737807\tbest: 0.7737807 (697)\ttotal: 4m 58s\tremaining: 2m 9s\n",
      "698:\tlearn: 0.7921116\ttest: 0.7736747\tbest: 0.7737807 (697)\ttotal: 4m 59s\tremaining: 2m 8s\n",
      "699:\tlearn: 0.7921798\ttest: 0.7735686\tbest: 0.7737807 (697)\ttotal: 4m 59s\tremaining: 2m 8s\n",
      "700:\tlearn: 0.7921116\ttest: 0.7737416\tbest: 0.7737807 (697)\ttotal: 4m 59s\tremaining: 2m 7s\n",
      "701:\tlearn: 0.7922838\ttest: 0.7737024\tbest: 0.7737807 (697)\ttotal: 5m\tremaining: 2m 7s\n",
      "702:\tlearn: 0.7922838\ttest: 0.7737024\tbest: 0.7737807 (697)\ttotal: 5m\tremaining: 2m 7s\n",
      "703:\tlearn: 0.7921798\ttest: 0.7733956\tbest: 0.7737807 (697)\ttotal: 5m 1s\tremaining: 2m 6s\n",
      "704:\tlearn: 0.7921798\ttest: 0.7736355\tbest: 0.7737807 (697)\ttotal: 5m 1s\tremaining: 2m 6s\n",
      "705:\tlearn: 0.7922481\ttest: 0.7736355\tbest: 0.7737807 (697)\ttotal: 5m 1s\tremaining: 2m 5s\n",
      "706:\tlearn: 0.7922481\ttest: 0.7735294\tbest: 0.7737807 (697)\ttotal: 5m 2s\tremaining: 2m 5s\n",
      "707:\tlearn: 0.7924561\ttest: 0.7736633\tbest: 0.7737807 (697)\ttotal: 5m 2s\tremaining: 2m 4s\n",
      "708:\tlearn: 0.7923878\ttest: 0.7735572\tbest: 0.7737807 (697)\ttotal: 5m 2s\tremaining: 2m 4s\n",
      "709:\tlearn: 0.7924918\ttest: 0.7734510\tbest: 0.7737807 (697)\ttotal: 5m 3s\tremaining: 2m 3s\n",
      "710:\tlearn: 0.7924918\ttest: 0.7734510\tbest: 0.7737807 (697)\ttotal: 5m 3s\tremaining: 2m 3s\n",
      "711:\tlearn: 0.7924918\ttest: 0.7734510\tbest: 0.7737807 (697)\ttotal: 5m 4s\tremaining: 2m 3s\n",
      "712:\tlearn: 0.7927323\ttest: 0.7736633\tbest: 0.7737807 (697)\ttotal: 5m 4s\tremaining: 2m 2s\n",
      "713:\tlearn: 0.7930084\ttest: 0.7735180\tbest: 0.7737807 (697)\ttotal: 5m 4s\tremaining: 2m 2s\n",
      "714:\tlearn: 0.7930084\ttest: 0.7735572\tbest: 0.7737807 (697)\ttotal: 5m 5s\tremaining: 2m 1s\n",
      "715:\tlearn: 0.7930767\ttest: 0.7733449\tbest: 0.7737807 (697)\ttotal: 5m 5s\tremaining: 2m 1s\n",
      "716:\tlearn: 0.7930767\ttest: 0.7733449\tbest: 0.7737807 (697)\ttotal: 5m 6s\tremaining: 2m\n",
      "717:\tlearn: 0.7930767\ttest: 0.7733449\tbest: 0.7737807 (697)\ttotal: 5m 6s\tremaining: 2m\n",
      "718:\tlearn: 0.7930084\ttest: 0.7733449\tbest: 0.7737807 (697)\ttotal: 5m 6s\tremaining: 1m 59s\n",
      "719:\tlearn: 0.7930084\ttest: 0.7734510\tbest: 0.7737807 (697)\ttotal: 5m 7s\tremaining: 1m 59s\n",
      "720:\tlearn: 0.7930084\ttest: 0.7734510\tbest: 0.7737807 (697)\ttotal: 5m 7s\tremaining: 1m 59s\n",
      "721:\tlearn: 0.7930084\ttest: 0.7734510\tbest: 0.7737807 (697)\ttotal: 5m 8s\tremaining: 1m 58s\n",
      "722:\tlearn: 0.7929402\ttest: 0.7732110\tbest: 0.7737807 (697)\ttotal: 5m 8s\tremaining: 1m 58s\n",
      "723:\tlearn: 0.7929402\ttest: 0.7732110\tbest: 0.7737807 (697)\ttotal: 5m 9s\tremaining: 1m 57s\n",
      "724:\tlearn: 0.7929402\ttest: 0.7732110\tbest: 0.7737807 (697)\ttotal: 5m 9s\tremaining: 1m 57s\n",
      "725:\tlearn: 0.7932845\ttest: 0.7733172\tbest: 0.7737807 (697)\ttotal: 5m 9s\tremaining: 1m 56s\n",
      "726:\tlearn: 0.7932845\ttest: 0.7732503\tbest: 0.7737807 (697)\ttotal: 5m 10s\tremaining: 1m 56s\n",
      "727:\tlearn: 0.7933884\ttest: 0.7734233\tbest: 0.7737807 (697)\ttotal: 5m 10s\tremaining: 1m 56s\n",
      "728:\tlearn: 0.7935606\ttest: 0.7734233\tbest: 0.7737807 (697)\ttotal: 5m 11s\tremaining: 1m 55s\n",
      "729:\tlearn: 0.7935606\ttest: 0.7734233\tbest: 0.7737807 (697)\ttotal: 5m 11s\tremaining: 1m 55s\n",
      "730:\tlearn: 0.7935606\ttest: 0.7734233\tbest: 0.7737807 (697)\ttotal: 5m 12s\tremaining: 1m 54s\n",
      "731:\tlearn: 0.7936289\ttest: 0.7733564\tbest: 0.7737807 (697)\ttotal: 5m 12s\tremaining: 1m 54s\n",
      "732:\tlearn: 0.7936289\ttest: 0.7732503\tbest: 0.7737807 (697)\ttotal: 5m 12s\tremaining: 1m 53s\n",
      "733:\tlearn: 0.7936289\ttest: 0.7732503\tbest: 0.7737807 (697)\ttotal: 5m 13s\tremaining: 1m 53s\n",
      "734:\tlearn: 0.7934567\ttest: 0.7732503\tbest: 0.7737807 (697)\ttotal: 5m 13s\tremaining: 1m 53s\n",
      "735:\tlearn: 0.7935606\ttest: 0.7733564\tbest: 0.7737807 (697)\ttotal: 5m 14s\tremaining: 1m 52s\n",
      "736:\tlearn: 0.7933529\ttest: 0.7734625\tbest: 0.7737807 (697)\ttotal: 5m 14s\tremaining: 1m 52s\n",
      "737:\tlearn: 0.7932845\ttest: 0.7733287\tbest: 0.7737807 (697)\ttotal: 5m 14s\tremaining: 1m 51s\n",
      "738:\tlearn: 0.7936289\ttest: 0.7731558\tbest: 0.7737807 (697)\ttotal: 5m 15s\tremaining: 1m 51s\n",
      "739:\tlearn: 0.7935934\ttest: 0.7731558\tbest: 0.7737807 (697)\ttotal: 5m 15s\tremaining: 1m 50s\n",
      "740:\tlearn: 0.7938011\ttest: 0.7731558\tbest: 0.7737807 (697)\ttotal: 5m 16s\tremaining: 1m 50s\n",
      "741:\tlearn: 0.7939050\ttest: 0.7731558\tbest: 0.7737807 (697)\ttotal: 5m 16s\tremaining: 1m 50s\n",
      "742:\tlearn: 0.7941455\ttest: 0.7732895\tbest: 0.7737807 (697)\ttotal: 5m 17s\tremaining: 1m 49s\n",
      "743:\tlearn: 0.7943531\ttest: 0.7732895\tbest: 0.7737807 (697)\ttotal: 5m 17s\tremaining: 1m 49s\n",
      "744:\tlearn: 0.7943531\ttest: 0.7732895\tbest: 0.7737807 (697)\ttotal: 5m 17s\tremaining: 1m 48s\n",
      "745:\tlearn: 0.7944215\ttest: 0.7731834\tbest: 0.7737807 (697)\ttotal: 5m 18s\tremaining: 1m 48s\n",
      "746:\tlearn: 0.7943531\ttest: 0.7734625\tbest: 0.7737807 (697)\ttotal: 5m 18s\tremaining: 1m 47s\n",
      "747:\tlearn: 0.7944569\ttest: 0.7735017\tbest: 0.7737807 (697)\ttotal: 5m 19s\tremaining: 1m 47s\n",
      "748:\tlearn: 0.7943531\ttest: 0.7735017\tbest: 0.7737807 (697)\ttotal: 5m 19s\tremaining: 1m 47s\n",
      "749:\tlearn: 0.7944215\ttest: 0.7736747\tbest: 0.7737807 (697)\ttotal: 5m 20s\tremaining: 1m 46s\n",
      "750:\tlearn: 0.7942493\ttest: 0.7737138\tbest: 0.7737807 (697)\ttotal: 5m 20s\tremaining: 1m 46s\n",
      "751:\tlearn: 0.7941809\ttest: 0.7737138\tbest: 0.7737807 (697)\ttotal: 5m 20s\tremaining: 1m 45s\n",
      "752:\tlearn: 0.7947681\ttest: 0.7738198\tbest: 0.7738198 (752)\ttotal: 5m 21s\tremaining: 1m 45s\n",
      "753:\tlearn: 0.7948034\ttest: 0.7738198\tbest: 0.7738198 (752)\ttotal: 5m 21s\tremaining: 1m 44s\n",
      "754:\tlearn: 0.7948034\ttest: 0.7738867\tbest: 0.7738867 (754)\ttotal: 5m 22s\tremaining: 1m 44s\n",
      "755:\tlearn: 0.7946644\ttest: 0.7736747\tbest: 0.7738867 (754)\ttotal: 5m 22s\tremaining: 1m 44s\n",
      "756:\tlearn: 0.7948034\ttest: 0.7735017\tbest: 0.7738867 (754)\ttotal: 5m 22s\tremaining: 1m 43s\n",
      "757:\tlearn: 0.7949755\ttest: 0.7733564\tbest: 0.7738867 (754)\ttotal: 5m 23s\tremaining: 1m 43s\n",
      "758:\tlearn: 0.7949071\ttest: 0.7734625\tbest: 0.7738867 (754)\ttotal: 5m 23s\tremaining: 1m 42s\n",
      "759:\tlearn: 0.7951476\ttest: 0.7734625\tbest: 0.7738867 (754)\ttotal: 5m 24s\tremaining: 1m 42s\n",
      "760:\tlearn: 0.7952512\ttest: 0.7733564\tbest: 0.7738867 (754)\ttotal: 5m 24s\tremaining: 1m 41s\n",
      "761:\tlearn: 0.7952512\ttest: 0.7733564\tbest: 0.7738867 (754)\ttotal: 5m 24s\tremaining: 1m 41s\n",
      "762:\tlearn: 0.7952512\ttest: 0.7732895\tbest: 0.7738867 (754)\ttotal: 5m 25s\tremaining: 1m 41s\n",
      "763:\tlearn: 0.7952512\ttest: 0.7732226\tbest: 0.7738867 (754)\ttotal: 5m 25s\tremaining: 1m 40s\n",
      "764:\tlearn: 0.7954233\ttest: 0.7733287\tbest: 0.7738867 (754)\ttotal: 5m 26s\tremaining: 1m 40s\n",
      "765:\tlearn: 0.7953900\ttest: 0.7732618\tbest: 0.7738867 (754)\ttotal: 5m 26s\tremaining: 1m 39s\n",
      "766:\tlearn: 0.7957341\ttest: 0.7731558\tbest: 0.7738867 (754)\ttotal: 5m 27s\tremaining: 1m 39s\n",
      "767:\tlearn: 0.7958376\ttest: 0.7733679\tbest: 0.7738867 (754)\ttotal: 5m 27s\tremaining: 1m 38s\n",
      "768:\tlearn: 0.7960447\ttest: 0.7733679\tbest: 0.7738867 (754)\ttotal: 5m 27s\tremaining: 1m 38s\n",
      "769:\tlearn: 0.7961132\ttest: 0.7733679\tbest: 0.7738867 (754)\ttotal: 5m 28s\tremaining: 1m 38s\n",
      "770:\tlearn: 0.7959763\ttest: 0.7734348\tbest: 0.7738867 (754)\ttotal: 5m 28s\tremaining: 1m 37s\n",
      "771:\tlearn: 0.7959763\ttest: 0.7734348\tbest: 0.7738867 (754)\ttotal: 5m 29s\tremaining: 1m 37s\n",
      "772:\tlearn: 0.7959078\ttest: 0.7733679\tbest: 0.7738867 (754)\ttotal: 5m 29s\tremaining: 1m 36s\n",
      "773:\tlearn: 0.7960113\ttest: 0.7734071\tbest: 0.7738867 (754)\ttotal: 5m 29s\tremaining: 1m 36s\n",
      "774:\tlearn: 0.7960113\ttest: 0.7733011\tbest: 0.7738867 (754)\ttotal: 5m 30s\tremaining: 1m 35s\n",
      "775:\tlearn: 0.7962183\ttest: 0.7732342\tbest: 0.7738867 (754)\ttotal: 5m 30s\tremaining: 1m 35s\n",
      "776:\tlearn: 0.7963218\ttest: 0.7732342\tbest: 0.7738867 (754)\ttotal: 5m 31s\tremaining: 1m 35s\n",
      "777:\tlearn: 0.7963218\ttest: 0.7733679\tbest: 0.7738867 (754)\ttotal: 5m 31s\tremaining: 1m 34s\n",
      "778:\tlearn: 0.7963218\ttest: 0.7733011\tbest: 0.7738867 (754)\ttotal: 5m 32s\tremaining: 1m 34s\n",
      "779:\tlearn: 0.7963218\ttest: 0.7734071\tbest: 0.7738867 (754)\ttotal: 5m 32s\tremaining: 1m 33s\n",
      "780:\tlearn: 0.7962517\ttest: 0.7735800\tbest: 0.7738867 (754)\ttotal: 5m 32s\tremaining: 1m 33s\n",
      "781:\tlearn: 0.7965271\ttest: 0.7734348\tbest: 0.7738867 (754)\ttotal: 5m 33s\tremaining: 1m 32s\n",
      "782:\tlearn: 0.7964921\ttest: 0.7733679\tbest: 0.7738867 (754)\ttotal: 5m 33s\tremaining: 1m 32s\n",
      "783:\tlearn: 0.7964921\ttest: 0.7734740\tbest: 0.7738867 (754)\ttotal: 5m 34s\tremaining: 1m 32s\n",
      "784:\tlearn: 0.7965621\ttest: 0.7737138\tbest: 0.7738867 (754)\ttotal: 5m 34s\tremaining: 1m 31s\n",
      "785:\tlearn: 0.7966306\ttest: 0.7736469\tbest: 0.7738867 (754)\ttotal: 5m 35s\tremaining: 1m 31s\n",
      "786:\tlearn: 0.7965271\ttest: 0.7737529\tbest: 0.7738867 (754)\ttotal: 5m 35s\tremaining: 1m 30s\n",
      "787:\tlearn: 0.7964921\ttest: 0.7733011\tbest: 0.7738867 (754)\ttotal: 5m 35s\tremaining: 1m 30s\n",
      "788:\tlearn: 0.7965606\ttest: 0.7731950\tbest: 0.7738867 (754)\ttotal: 5m 36s\tremaining: 1m 29s\n",
      "789:\tlearn: 0.7963536\ttest: 0.7731950\tbest: 0.7738867 (754)\ttotal: 5m 36s\tremaining: 1m 29s\n",
      "790:\tlearn: 0.7965606\ttest: 0.7731281\tbest: 0.7738867 (754)\ttotal: 5m 37s\tremaining: 1m 29s\n",
      "791:\tlearn: 0.7965606\ttest: 0.7731281\tbest: 0.7738867 (754)\ttotal: 5m 37s\tremaining: 1m 28s\n",
      "792:\tlearn: 0.7965606\ttest: 0.7733402\tbest: 0.7738867 (754)\ttotal: 5m 37s\tremaining: 1m 28s\n",
      "793:\tlearn: 0.7965606\ttest: 0.7740318\tbest: 0.7740318 (793)\ttotal: 5m 38s\tremaining: 1m 27s\n",
      "794:\tlearn: 0.7965606\ttest: 0.7738589\tbest: 0.7740318 (793)\ttotal: 5m 38s\tremaining: 1m 27s\n",
      "795:\tlearn: 0.7967326\ttest: 0.7739258\tbest: 0.7740318 (793)\ttotal: 5m 39s\tremaining: 1m 26s\n",
      "796:\tlearn: 0.7967675\ttest: 0.7735131\tbest: 0.7740318 (793)\ttotal: 5m 39s\tremaining: 1m 26s\n",
      "797:\tlearn: 0.7967675\ttest: 0.7735131\tbest: 0.7740318 (793)\ttotal: 5m 40s\tremaining: 1m 26s\n",
      "798:\tlearn: 0.7966641\ttest: 0.7734071\tbest: 0.7740318 (793)\ttotal: 5m 40s\tremaining: 1m 25s\n",
      "799:\tlearn: 0.7966641\ttest: 0.7734071\tbest: 0.7740318 (793)\ttotal: 5m 41s\tremaining: 1m 25s\n",
      "800:\tlearn: 0.7969731\ttest: 0.7736469\tbest: 0.7740318 (793)\ttotal: 5m 41s\tremaining: 1m 24s\n",
      "801:\tlearn: 0.7969731\ttest: 0.7735800\tbest: 0.7740318 (793)\ttotal: 5m 41s\tremaining: 1m 24s\n",
      "802:\tlearn: 0.7968360\ttest: 0.7734740\tbest: 0.7740318 (793)\ttotal: 5m 42s\tremaining: 1m 23s\n",
      "803:\tlearn: 0.7968011\ttest: 0.7735409\tbest: 0.7740318 (793)\ttotal: 5m 42s\tremaining: 1m 23s\n",
      "804:\tlearn: 0.7968696\ttest: 0.7735409\tbest: 0.7740318 (793)\ttotal: 5m 43s\tremaining: 1m 23s\n",
      "805:\tlearn: 0.7969382\ttest: 0.7734348\tbest: 0.7740318 (793)\ttotal: 5m 43s\tremaining: 1m 22s\n",
      "806:\tlearn: 0.7969032\ttest: 0.7735017\tbest: 0.7740318 (793)\ttotal: 5m 44s\tremaining: 1m 22s\n",
      "807:\tlearn: 0.7968347\ttest: 0.7735017\tbest: 0.7740318 (793)\ttotal: 5m 44s\tremaining: 1m 21s\n",
      "808:\tlearn: 0.7970753\ttest: 0.7735686\tbest: 0.7740318 (793)\ttotal: 5m 44s\tremaining: 1m 21s\n",
      "809:\tlearn: 0.7972473\ttest: 0.7740206\tbest: 0.7740318 (793)\ttotal: 5m 45s\tremaining: 1m 20s\n",
      "810:\tlearn: 0.7971438\ttest: 0.7739536\tbest: 0.7740318 (793)\ttotal: 5m 45s\tremaining: 1m 20s\n",
      "811:\tlearn: 0.7973159\ttest: 0.7739536\tbest: 0.7740318 (793)\ttotal: 5m 46s\tremaining: 1m 20s\n",
      "812:\tlearn: 0.7972822\ttest: 0.7738867\tbest: 0.7740318 (793)\ttotal: 5m 46s\tremaining: 1m 19s\n",
      "813:\tlearn: 0.7972822\ttest: 0.7739536\tbest: 0.7740318 (793)\ttotal: 5m 46s\tremaining: 1m 19s\n",
      "814:\tlearn: 0.7972822\ttest: 0.7739536\tbest: 0.7740318 (793)\ttotal: 5m 47s\tremaining: 1m 18s\n",
      "815:\tlearn: 0.7972136\ttest: 0.7738476\tbest: 0.7740318 (793)\ttotal: 5m 47s\tremaining: 1m 18s\n",
      "816:\tlearn: 0.7972136\ttest: 0.7738476\tbest: 0.7740318 (793)\ttotal: 5m 48s\tremaining: 1m 17s\n",
      "817:\tlearn: 0.7972136\ttest: 0.7739145\tbest: 0.7740318 (793)\ttotal: 5m 48s\tremaining: 1m 17s\n",
      "818:\tlearn: 0.7973856\ttest: 0.7739815\tbest: 0.7740318 (793)\ttotal: 5m 48s\tremaining: 1m 17s\n",
      "819:\tlearn: 0.7972822\ttest: 0.7739815\tbest: 0.7740318 (793)\ttotal: 5m 49s\tremaining: 1m 16s\n",
      "820:\tlearn: 0.7977973\ttest: 0.7740597\tbest: 0.7740597 (820)\ttotal: 5m 49s\tremaining: 1m 16s\n",
      "821:\tlearn: 0.7977973\ttest: 0.7740597\tbest: 0.7740597 (820)\ttotal: 5m 50s\tremaining: 1m 15s\n",
      "822:\tlearn: 0.7981415\ttest: 0.7740206\tbest: 0.7740597 (820)\ttotal: 5m 50s\tremaining: 1m 15s\n",
      "823:\tlearn: 0.7981415\ttest: 0.7739536\tbest: 0.7740597 (820)\ttotal: 5m 51s\tremaining: 1m 14s\n",
      "824:\tlearn: 0.7981075\ttest: 0.7739536\tbest: 0.7740597 (820)\ttotal: 5m 51s\tremaining: 1m 14s\n",
      "825:\tlearn: 0.7982109\ttest: 0.7738198\tbest: 0.7740597 (820)\ttotal: 5m 51s\tremaining: 1m 14s\n",
      "826:\tlearn: 0.7983482\ttest: 0.7739927\tbest: 0.7740597 (820)\ttotal: 5m 52s\tremaining: 1m 13s\n",
      "827:\tlearn: 0.7982449\ttest: 0.7740987\tbest: 0.7740987 (827)\ttotal: 5m 52s\tremaining: 1m 13s\n",
      "828:\tlearn: 0.7983482\ttest: 0.7741657\tbest: 0.7741657 (828)\ttotal: 5m 53s\tremaining: 1m 12s\n",
      "829:\tlearn: 0.7984516\ttest: 0.7741657\tbest: 0.7741657 (828)\ttotal: 5m 53s\tremaining: 1m 12s\n",
      "830:\tlearn: 0.7985203\ttest: 0.7742716\tbest: 0.7742716 (830)\ttotal: 5m 53s\tremaining: 1m 11s\n",
      "831:\tlearn: 0.7985203\ttest: 0.7742716\tbest: 0.7742716 (830)\ttotal: 5m 54s\tremaining: 1m 11s\n",
      "832:\tlearn: 0.7985203\ttest: 0.7742716\tbest: 0.7742716 (830)\ttotal: 5m 54s\tremaining: 1m 11s\n",
      "833:\tlearn: 0.7985550\ttest: 0.7741768\tbest: 0.7742716 (830)\ttotal: 5m 55s\tremaining: 1m 10s\n",
      "834:\tlearn: 0.7986237\ttest: 0.7745225\tbest: 0.7745225 (834)\ttotal: 5m 55s\tremaining: 1m 10s\n",
      "835:\tlearn: 0.7986237\ttest: 0.7745225\tbest: 0.7745225 (834)\ttotal: 5m 55s\tremaining: 1m 9s\n",
      "836:\tlearn: 0.7986237\ttest: 0.7745895\tbest: 0.7745895 (836)\ttotal: 5m 56s\tremaining: 1m 9s\n",
      "837:\tlearn: 0.7987962\ttest: 0.7746954\tbest: 0.7746954 (837)\ttotal: 5m 56s\tremaining: 1m 8s\n",
      "838:\tlearn: 0.7987962\ttest: 0.7746954\tbest: 0.7746954 (837)\ttotal: 5m 57s\tremaining: 1m 8s\n",
      "839:\tlearn: 0.7987962\ttest: 0.7745225\tbest: 0.7746954 (837)\ttotal: 5m 57s\tremaining: 1m 8s\n",
      "840:\tlearn: 0.7987962\ttest: 0.7745225\tbest: 0.7746954 (837)\ttotal: 5m 57s\tremaining: 1m 7s\n",
      "841:\tlearn: 0.7988649\ttest: 0.7747343\tbest: 0.7747343 (841)\ttotal: 5m 58s\tremaining: 1m 7s\n",
      "842:\tlearn: 0.7988995\ttest: 0.7745225\tbest: 0.7747343 (841)\ttotal: 5m 58s\tremaining: 1m 6s\n",
      "843:\tlearn: 0.7992089\ttest: 0.7747343\tbest: 0.7747343 (841)\ttotal: 5m 59s\tremaining: 1m 6s\n",
      "844:\tlearn: 0.7992089\ttest: 0.7745615\tbest: 0.7747343 (841)\ttotal: 5m 59s\tremaining: 1m 5s\n",
      "845:\tlearn: 0.7991402\ttest: 0.7746674\tbest: 0.7747343 (841)\ttotal: 5m 59s\tremaining: 1m 5s\n",
      "846:\tlearn: 0.7993121\ttest: 0.7746674\tbest: 0.7747343 (841)\ttotal: 6m\tremaining: 1m 5s\n",
      "847:\tlearn: 0.7993463\ttest: 0.7746954\tbest: 0.7747343 (841)\ttotal: 6m\tremaining: 1m 4s\n",
      "848:\tlearn: 0.7993463\ttest: 0.7746954\tbest: 0.7747343 (841)\ttotal: 6m 1s\tremaining: 1m 4s\n",
      "849:\tlearn: 0.7996216\ttest: 0.7746564\tbest: 0.7747343 (841)\ttotal: 6m 1s\tremaining: 1m 3s\n",
      "850:\tlearn: 0.7998624\ttest: 0.7744166\tbest: 0.7747343 (841)\ttotal: 6m 2s\tremaining: 1m 3s\n",
      "851:\tlearn: 0.8000344\ttest: 0.7744556\tbest: 0.7747343 (841)\ttotal: 6m 2s\tremaining: 1m 2s\n",
      "852:\tlearn: 0.8000344\ttest: 0.7744556\tbest: 0.7747343 (841)\ttotal: 6m 2s\tremaining: 1m 2s\n",
      "853:\tlearn: 0.8000344\ttest: 0.7744946\tbest: 0.7747343 (841)\ttotal: 6m 3s\tremaining: 1m 2s\n",
      "854:\tlearn: 0.8000688\ttest: 0.7742549\tbest: 0.7747343 (841)\ttotal: 6m 3s\tremaining: 1m 1s\n",
      "855:\tlearn: 0.8000344\ttest: 0.7742549\tbest: 0.7747343 (841)\ttotal: 6m 4s\tremaining: 1m 1s\n",
      "856:\tlearn: 0.8002408\ttest: 0.7743497\tbest: 0.7747343 (841)\ttotal: 6m 4s\tremaining: 1m\n",
      "857:\tlearn: 0.8004471\ttest: 0.7742828\tbest: 0.7747343 (841)\ttotal: 6m 5s\tremaining: 1m\n",
      "858:\tlearn: 0.8004471\ttest: 0.7743218\tbest: 0.7747343 (841)\ttotal: 6m 5s\tremaining: 1m\n",
      "859:\tlearn: 0.8002752\ttest: 0.7744666\tbest: 0.7747343 (841)\ttotal: 6m 6s\tremaining: 59.6s\n",
      "860:\tlearn: 0.8002752\ttest: 0.7745335\tbest: 0.7747343 (841)\ttotal: 6m 6s\tremaining: 59.2s\n",
      "861:\tlearn: 0.8003441\ttest: 0.7745335\tbest: 0.7747343 (841)\ttotal: 6m 6s\tremaining: 58.7s\n",
      "862:\tlearn: 0.8004473\ttest: 0.7743218\tbest: 0.7747343 (841)\ttotal: 6m 7s\tremaining: 58.3s\n",
      "863:\tlearn: 0.8004473\ttest: 0.7744946\tbest: 0.7747343 (841)\ttotal: 6m 7s\tremaining: 57.9s\n",
      "864:\tlearn: 0.8004473\ttest: 0.7745335\tbest: 0.7747343 (841)\ttotal: 6m 8s\tremaining: 57.5s\n",
      "865:\tlearn: 0.8004473\ttest: 0.7743887\tbest: 0.7747343 (841)\ttotal: 6m 8s\tremaining: 57s\n",
      "866:\tlearn: 0.8005504\ttest: 0.7744946\tbest: 0.7747343 (841)\ttotal: 6m 9s\tremaining: 56.6s\n",
      "867:\tlearn: 0.8005504\ttest: 0.7744946\tbest: 0.7747343 (841)\ttotal: 6m 9s\tremaining: 56.2s\n",
      "868:\tlearn: 0.8006190\ttest: 0.7746674\tbest: 0.7747343 (841)\ttotal: 6m 9s\tremaining: 55.8s\n",
      "869:\tlearn: 0.8006190\ttest: 0.7747063\tbest: 0.7747343 (841)\ttotal: 6m 10s\tremaining: 55.3s\n",
      "870:\tlearn: 0.8008252\ttest: 0.7745615\tbest: 0.7747343 (841)\ttotal: 6m 10s\tremaining: 54.9s\n",
      "871:\tlearn: 0.8009972\ttest: 0.7744946\tbest: 0.7747343 (841)\ttotal: 6m 11s\tremaining: 54.5s\n",
      "872:\tlearn: 0.8010660\ttest: 0.7744946\tbest: 0.7747343 (841)\ttotal: 6m 11s\tremaining: 54.1s\n",
      "873:\tlearn: 0.8008941\ttest: 0.7745335\tbest: 0.7747343 (841)\ttotal: 6m 12s\tremaining: 53.7s\n",
      "874:\tlearn: 0.8008252\ttest: 0.7745725\tbest: 0.7747343 (841)\ttotal: 6m 12s\tremaining: 53.2s\n",
      "875:\tlearn: 0.8009629\ttest: 0.7745335\tbest: 0.7747343 (841)\ttotal: 6m 13s\tremaining: 52.8s\n",
      "876:\tlearn: 0.8009629\ttest: 0.7745725\tbest: 0.7747343 (841)\ttotal: 6m 13s\tremaining: 52.4s\n",
      "877:\tlearn: 0.8009629\ttest: 0.7744666\tbest: 0.7747343 (841)\ttotal: 6m 13s\tremaining: 52s\n",
      "878:\tlearn: 0.8015818\ttest: 0.7744276\tbest: 0.7747343 (841)\ttotal: 6m 14s\tremaining: 51.5s\n",
      "879:\tlearn: 0.8015818\ttest: 0.7745335\tbest: 0.7747343 (841)\ttotal: 6m 14s\tremaining: 51.1s\n",
      "880:\tlearn: 0.8016508\ttest: 0.7745335\tbest: 0.7747343 (841)\ttotal: 6m 15s\tremaining: 50.7s\n",
      "881:\tlearn: 0.8015477\ttest: 0.7746394\tbest: 0.7747343 (841)\ttotal: 6m 15s\tremaining: 50.3s\n",
      "882:\tlearn: 0.8015477\ttest: 0.7747452\tbest: 0.7747452 (882)\ttotal: 6m 16s\tremaining: 49.8s\n",
      "883:\tlearn: 0.8015818\ttest: 0.7745725\tbest: 0.7747452 (882)\ttotal: 6m 16s\tremaining: 49.4s\n",
      "884:\tlearn: 0.8014788\ttest: 0.7745725\tbest: 0.7747452 (882)\ttotal: 6m 16s\tremaining: 49s\n",
      "885:\tlearn: 0.8013758\ttest: 0.7745725\tbest: 0.7747452 (882)\ttotal: 6m 17s\tremaining: 48.5s\n",
      "886:\tlearn: 0.8014447\ttest: 0.7745056\tbest: 0.7747452 (882)\ttotal: 6m 17s\tremaining: 48.1s\n",
      "887:\tlearn: 0.8014447\ttest: 0.7744666\tbest: 0.7747452 (882)\ttotal: 6m 18s\tremaining: 47.7s\n",
      "888:\tlearn: 0.8015477\ttest: 0.7744666\tbest: 0.7747452 (882)\ttotal: 6m 18s\tremaining: 47.3s\n",
      "889:\tlearn: 0.8015477\ttest: 0.7742549\tbest: 0.7747452 (882)\ttotal: 6m 19s\tremaining: 46.8s\n",
      "890:\tlearn: 0.8014105\ttest: 0.7742549\tbest: 0.7747452 (882)\ttotal: 6m 19s\tremaining: 46.4s\n",
      "891:\tlearn: 0.8014788\ttest: 0.7745335\tbest: 0.7747452 (882)\ttotal: 6m 19s\tremaining: 46s\n",
      "892:\tlearn: 0.8016849\ttest: 0.7743607\tbest: 0.7747452 (882)\ttotal: 6m 20s\tremaining: 45.6s\n",
      "893:\tlearn: 0.8017538\ttest: 0.7745725\tbest: 0.7747452 (882)\ttotal: 6m 20s\tremaining: 45.1s\n",
      "894:\tlearn: 0.8018908\ttest: 0.7745725\tbest: 0.7747452 (882)\ttotal: 6m 21s\tremaining: 44.7s\n",
      "895:\tlearn: 0.8018908\ttest: 0.7745725\tbest: 0.7747452 (882)\ttotal: 6m 21s\tremaining: 44.3s\n",
      "896:\tlearn: 0.8018908\ttest: 0.7746783\tbest: 0.7747452 (882)\ttotal: 6m 22s\tremaining: 43.9s\n",
      "897:\tlearn: 0.8020627\ttest: 0.7745725\tbest: 0.7747452 (882)\ttotal: 6m 22s\tremaining: 43.5s\n",
      "898:\tlearn: 0.8020627\ttest: 0.7745725\tbest: 0.7747452 (882)\ttotal: 6m 22s\tremaining: 43s\n",
      "899:\tlearn: 0.8021317\ttest: 0.7745725\tbest: 0.7747452 (882)\ttotal: 6m 23s\tremaining: 42.6s\n",
      "900:\tlearn: 0.8022346\ttest: 0.7745725\tbest: 0.7747452 (882)\ttotal: 6m 23s\tremaining: 42.2s\n",
      "901:\tlearn: 0.8023036\ttest: 0.7747452\tbest: 0.7747452 (882)\ttotal: 6m 24s\tremaining: 41.7s\n",
      "902:\tlearn: 0.8022346\ttest: 0.7747452\tbest: 0.7747452 (882)\ttotal: 6m 24s\tremaining: 41.3s\n",
      "903:\tlearn: 0.8022686\ttest: 0.7749179\tbest: 0.7749179 (903)\ttotal: 6m 25s\tremaining: 40.9s\n",
      "904:\tlearn: 0.8022686\ttest: 0.7749179\tbest: 0.7749179 (903)\ttotal: 6m 25s\tremaining: 40.5s\n",
      "905:\tlearn: 0.8024755\ttest: 0.7749849\tbest: 0.7749849 (905)\ttotal: 6m 25s\tremaining: 40s\n",
      "906:\tlearn: 0.8023376\ttest: 0.7749849\tbest: 0.7749849 (905)\ttotal: 6m 26s\tremaining: 39.6s\n",
      "907:\tlearn: 0.8025095\ttest: 0.7749849\tbest: 0.7749849 (905)\ttotal: 6m 26s\tremaining: 39.2s\n",
      "908:\tlearn: 0.8027152\ttest: 0.7749849\tbest: 0.7749849 (905)\ttotal: 6m 27s\tremaining: 38.8s\n",
      "909:\tlearn: 0.8024755\ttest: 0.7748121\tbest: 0.7749849 (905)\ttotal: 6m 27s\tremaining: 38.3s\n",
      "910:\tlearn: 0.8025095\ttest: 0.7748791\tbest: 0.7749849 (905)\ttotal: 6m 28s\tremaining: 37.9s\n",
      "911:\tlearn: 0.8025095\ttest: 0.7749849\tbest: 0.7749849 (905)\ttotal: 6m 28s\tremaining: 37.5s\n",
      "912:\tlearn: 0.8027164\ttest: 0.7748510\tbest: 0.7749849 (905)\ttotal: 6m 28s\tremaining: 37.1s\n",
      "913:\tlearn: 0.8026135\ttest: 0.7750907\tbest: 0.7750907 (913)\ttotal: 6m 29s\tremaining: 36.6s\n",
      "914:\tlearn: 0.8026825\ttest: 0.7750907\tbest: 0.7750907 (913)\ttotal: 6m 29s\tremaining: 36.2s\n",
      "915:\tlearn: 0.8028544\ttest: 0.7749568\tbest: 0.7750907 (913)\ttotal: 6m 30s\tremaining: 35.8s\n",
      "916:\tlearn: 0.8028883\ttest: 0.7748899\tbest: 0.7750907 (913)\ttotal: 6m 30s\tremaining: 35.4s\n",
      "917:\tlearn: 0.8029574\ttest: 0.7748510\tbest: 0.7750907 (913)\ttotal: 6m 31s\tremaining: 34.9s\n",
      "918:\tlearn: 0.8030264\ttest: 0.7749179\tbest: 0.7750907 (913)\ttotal: 6m 31s\tremaining: 34.5s\n",
      "919:\tlearn: 0.8030264\ttest: 0.7750237\tbest: 0.7750907 (913)\ttotal: 6m 31s\tremaining: 34.1s\n",
      "920:\tlearn: 0.8031293\ttest: 0.7750237\tbest: 0.7750907 (913)\ttotal: 6m 32s\tremaining: 33.6s\n",
      "921:\tlearn: 0.8031983\ttest: 0.7750237\tbest: 0.7750907 (913)\ttotal: 6m 32s\tremaining: 33.2s\n",
      "922:\tlearn: 0.8031983\ttest: 0.7750907\tbest: 0.7750907 (913)\ttotal: 6m 33s\tremaining: 32.8s\n",
      "923:\tlearn: 0.8033012\ttest: 0.7749849\tbest: 0.7750907 (913)\ttotal: 6m 33s\tremaining: 32.4s\n",
      "924:\tlearn: 0.8033012\ttest: 0.7749849\tbest: 0.7750907 (913)\ttotal: 6m 33s\tremaining: 31.9s\n",
      "925:\tlearn: 0.8032322\ttest: 0.7750518\tbest: 0.7750907 (913)\ttotal: 6m 34s\tremaining: 31.5s\n",
      "926:\tlearn: 0.8033012\ttest: 0.7751188\tbest: 0.7751188 (926)\ttotal: 6m 34s\tremaining: 31.1s\n",
      "927:\tlearn: 0.8033351\ttest: 0.7752246\tbest: 0.7752246 (927)\ttotal: 6m 34s\tremaining: 30.6s\n",
      "928:\tlearn: 0.8033351\ttest: 0.7752246\tbest: 0.7752246 (927)\ttotal: 6m 35s\tremaining: 30.2s\n",
      "929:\tlearn: 0.8036098\ttest: 0.7752246\tbest: 0.7752246 (927)\ttotal: 6m 35s\tremaining: 29.8s\n",
      "930:\tlearn: 0.8036789\ttest: 0.7749741\tbest: 0.7752246 (927)\ttotal: 6m 36s\tremaining: 29.4s\n",
      "931:\tlearn: 0.8036789\ttest: 0.7749071\tbest: 0.7752246 (927)\ttotal: 6m 36s\tremaining: 28.9s\n",
      "932:\tlearn: 0.8036098\ttest: 0.7750130\tbest: 0.7752246 (927)\ttotal: 6m 36s\tremaining: 28.5s\n",
      "933:\tlearn: 0.8036098\ttest: 0.7750130\tbest: 0.7752246 (927)\ttotal: 6m 37s\tremaining: 28.1s\n",
      "934:\tlearn: 0.8036098\ttest: 0.7749460\tbest: 0.7752246 (927)\ttotal: 6m 37s\tremaining: 27.6s\n",
      "935:\tlearn: 0.8036098\ttest: 0.7748791\tbest: 0.7752246 (927)\ttotal: 6m 37s\tremaining: 27.2s\n",
      "936:\tlearn: 0.8038508\ttest: 0.7748791\tbest: 0.7752246 (927)\ttotal: 6m 38s\tremaining: 26.8s\n",
      "937:\tlearn: 0.8038508\ttest: 0.7748791\tbest: 0.7752246 (927)\ttotal: 6m 38s\tremaining: 26.4s\n",
      "938:\tlearn: 0.8040227\ttest: 0.7749460\tbest: 0.7752246 (927)\ttotal: 6m 39s\tremaining: 25.9s\n",
      "939:\tlearn: 0.8039199\ttest: 0.7749460\tbest: 0.7752246 (927)\ttotal: 6m 39s\tremaining: 25.5s\n",
      "940:\tlearn: 0.8040227\ttest: 0.7749460\tbest: 0.7752246 (927)\ttotal: 6m 39s\tremaining: 25.1s\n",
      "941:\tlearn: 0.8040227\ttest: 0.7749460\tbest: 0.7752246 (927)\ttotal: 6m 40s\tremaining: 24.6s\n",
      "942:\tlearn: 0.8040227\ttest: 0.7750518\tbest: 0.7752246 (927)\ttotal: 6m 40s\tremaining: 24.2s\n",
      "943:\tlearn: 0.8039199\ttest: 0.7750518\tbest: 0.7752246 (927)\ttotal: 6m 41s\tremaining: 23.8s\n",
      "944:\tlearn: 0.8038508\ttest: 0.7750518\tbest: 0.7752246 (927)\ttotal: 6m 41s\tremaining: 23.4s\n",
      "945:\tlearn: 0.8040564\ttest: 0.7750518\tbest: 0.7752246 (927)\ttotal: 6m 41s\tremaining: 22.9s\n",
      "946:\tlearn: 0.8041591\ttest: 0.7750518\tbest: 0.7752246 (927)\ttotal: 6m 42s\tremaining: 22.5s\n",
      "947:\tlearn: 0.8044674\ttest: 0.7751576\tbest: 0.7752246 (927)\ttotal: 6m 42s\tremaining: 22.1s\n",
      "948:\tlearn: 0.8044674\ttest: 0.7751576\tbest: 0.7752246 (927)\ttotal: 6m 43s\tremaining: 21.7s\n",
      "949:\tlearn: 0.8043982\ttest: 0.7750518\tbest: 0.7752246 (927)\ttotal: 6m 43s\tremaining: 21.2s\n",
      "950:\tlearn: 0.8045009\ttest: 0.7751188\tbest: 0.7752246 (927)\ttotal: 6m 43s\tremaining: 20.8s\n",
      "951:\tlearn: 0.8045009\ttest: 0.7751858\tbest: 0.7752246 (927)\ttotal: 6m 44s\tremaining: 20.4s\n",
      "952:\tlearn: 0.8045009\ttest: 0.7751188\tbest: 0.7752246 (927)\ttotal: 6m 44s\tremaining: 20s\n",
      "953:\tlearn: 0.8045009\ttest: 0.7751188\tbest: 0.7752246 (927)\ttotal: 6m 45s\tremaining: 19.5s\n",
      "954:\tlearn: 0.8046036\ttest: 0.7751858\tbest: 0.7752246 (927)\ttotal: 6m 45s\tremaining: 19.1s\n",
      "955:\tlearn: 0.8044318\ttest: 0.7751858\tbest: 0.7752246 (927)\ttotal: 6m 45s\tremaining: 18.7s\n",
      "956:\tlearn: 0.8044318\ttest: 0.7750799\tbest: 0.7752246 (927)\ttotal: 6m 46s\tremaining: 18.3s\n",
      "957:\tlearn: 0.8043292\ttest: 0.7750799\tbest: 0.7752246 (927)\ttotal: 6m 46s\tremaining: 17.8s\n",
      "958:\tlearn: 0.8044674\ttest: 0.7750799\tbest: 0.7752246 (927)\ttotal: 6m 47s\tremaining: 17.4s\n",
      "959:\tlearn: 0.8044674\ttest: 0.7750799\tbest: 0.7752246 (927)\ttotal: 6m 47s\tremaining: 17s\n",
      "960:\tlearn: 0.8044674\ttest: 0.7749741\tbest: 0.7752246 (927)\ttotal: 6m 48s\tremaining: 16.6s\n",
      "961:\tlearn: 0.8044674\ttest: 0.7749741\tbest: 0.7752246 (927)\ttotal: 6m 48s\tremaining: 16.1s\n",
      "962:\tlearn: 0.8048780\ttest: 0.7751858\tbest: 0.7752246 (927)\ttotal: 6m 48s\tremaining: 15.7s\n",
      "963:\tlearn: 0.8049472\ttest: 0.7751858\tbest: 0.7752246 (927)\ttotal: 6m 49s\tremaining: 15.3s\n",
      "964:\tlearn: 0.8050855\ttest: 0.7751858\tbest: 0.7752246 (927)\ttotal: 6m 49s\tremaining: 14.9s\n",
      "965:\tlearn: 0.8050163\ttest: 0.7752527\tbest: 0.7752527 (965)\ttotal: 6m 50s\tremaining: 14.4s\n",
      "966:\tlearn: 0.8050163\ttest: 0.7751188\tbest: 0.7752527 (965)\ttotal: 6m 50s\tremaining: 14s\n",
      "967:\tlearn: 0.8049137\ttest: 0.7752916\tbest: 0.7752916 (967)\ttotal: 6m 51s\tremaining: 13.6s\n",
      "968:\tlearn: 0.8047083\ttest: 0.7755419\tbest: 0.7755419 (968)\ttotal: 6m 51s\tremaining: 13.2s\n",
      "969:\tlearn: 0.8047083\ttest: 0.7755419\tbest: 0.7755419 (968)\ttotal: 6m 51s\tremaining: 12.7s\n",
      "970:\tlearn: 0.8047083\ttest: 0.7755419\tbest: 0.7755419 (968)\ttotal: 6m 52s\tremaining: 12.3s\n",
      "971:\tlearn: 0.8048801\ttest: 0.7757429\tbest: 0.7757429 (971)\ttotal: 6m 52s\tremaining: 11.9s\n",
      "972:\tlearn: 0.8048801\ttest: 0.7758099\tbest: 0.7758099 (972)\ttotal: 6m 53s\tremaining: 11.5s\n",
      "973:\tlearn: 0.8049137\ttest: 0.7758099\tbest: 0.7758099 (972)\ttotal: 6m 53s\tremaining: 11s\n",
      "974:\tlearn: 0.8050163\ttest: 0.7756371\tbest: 0.7758099 (972)\ttotal: 6m 53s\tremaining: 10.6s\n",
      "975:\tlearn: 0.8049472\ttest: 0.7755032\tbest: 0.7758099 (972)\ttotal: 6m 54s\tremaining: 10.2s\n",
      "976:\tlearn: 0.8049472\ttest: 0.7755032\tbest: 0.7758099 (972)\ttotal: 6m 54s\tremaining: 9.76s\n",
      "977:\tlearn: 0.8050498\ttest: 0.7753022\tbest: 0.7758099 (972)\ttotal: 6m 55s\tremaining: 9.34s\n",
      "978:\tlearn: 0.8050498\ttest: 0.7751965\tbest: 0.7758099 (972)\ttotal: 6m 55s\tremaining: 8.91s\n",
      "979:\tlearn: 0.8050498\ttest: 0.7752353\tbest: 0.7758099 (972)\ttotal: 6m 55s\tremaining: 8.49s\n",
      "980:\tlearn: 0.8051524\ttest: 0.7751295\tbest: 0.7758099 (972)\ttotal: 6m 56s\tremaining: 8.06s\n",
      "981:\tlearn: 0.8051524\ttest: 0.7752353\tbest: 0.7758099 (972)\ttotal: 6m 56s\tremaining: 7.64s\n",
      "982:\tlearn: 0.8051190\ttest: 0.7755137\tbest: 0.7758099 (972)\ttotal: 6m 57s\tremaining: 7.21s\n",
      "983:\tlearn: 0.8052216\ttest: 0.7756194\tbest: 0.7758099 (972)\ttotal: 6m 57s\tremaining: 6.79s\n",
      "984:\tlearn: 0.8052216\ttest: 0.7756194\tbest: 0.7758099 (972)\ttotal: 6m 58s\tremaining: 6.37s\n",
      "985:\tlearn: 0.8052216\ttest: 0.7757921\tbest: 0.7758099 (972)\ttotal: 6m 58s\tremaining: 5.94s\n",
      "986:\tlearn: 0.8055651\ttest: 0.7758978\tbest: 0.7758978 (986)\ttotal: 6m 58s\tremaining: 5.52s\n",
      "987:\tlearn: 0.8053599\ttest: 0.7760035\tbest: 0.7760035 (987)\ttotal: 6m 59s\tremaining: 5.09s\n",
      "988:\tlearn: 0.8054625\ttest: 0.7760035\tbest: 0.7760035 (987)\ttotal: 6m 59s\tremaining: 4.67s\n",
      "989:\tlearn: 0.8054625\ttest: 0.7758978\tbest: 0.7760035 (987)\ttotal: 7m\tremaining: 4.24s\n",
      "990:\tlearn: 0.8056343\ttest: 0.7758308\tbest: 0.7760035 (987)\ttotal: 7m\tremaining: 3.82s\n",
      "991:\tlearn: 0.8058061\ttest: 0.7758308\tbest: 0.7760035 (987)\ttotal: 7m 1s\tremaining: 3.4s\n",
      "992:\tlearn: 0.8058061\ttest: 0.7758308\tbest: 0.7760035 (987)\ttotal: 7m 1s\tremaining: 2.97s\n",
      "993:\tlearn: 0.8060137\ttest: 0.7760035\tbest: 0.7760035 (987)\ttotal: 7m 1s\tremaining: 2.55s\n",
      "994:\tlearn: 0.8060137\ttest: 0.7760035\tbest: 0.7760035 (987)\ttotal: 7m 2s\tremaining: 2.12s\n",
      "995:\tlearn: 0.8060137\ttest: 0.7760035\tbest: 0.7760035 (987)\ttotal: 7m 2s\tremaining: 1.7s\n",
      "996:\tlearn: 0.8061856\ttest: 0.7759365\tbest: 0.7760035 (987)\ttotal: 7m 3s\tremaining: 1.27s\n",
      "997:\tlearn: 0.8061163\ttest: 0.7759365\tbest: 0.7760035 (987)\ttotal: 7m 3s\tremaining: 849ms\n",
      "998:\tlearn: 0.8060830\ttest: 0.7759365\tbest: 0.7760035 (987)\ttotal: 7m 3s\tremaining: 424ms\n",
      "999:\tlearn: 0.8062548\ttest: 0.7759365\tbest: 0.7760035 (987)\ttotal: 7m 4s\tremaining: 0us\n",
      "\n",
      "bestTest = 0.7760034527\n",
      "bestIteration = 987\n",
      "\n"
     ]
    }
   ],
   "source": [
    "# Инициализируем модель CatBoostClassifier, \n",
    "# и проверим качество модели на кросс-валидации\n",
    "\n",
    "cb = CatBoostClassifier(loss_function='Logloss',\n",
    "                        eval_metric='F1',\n",
    "                        early_stopping_rounds=200,\n",
    "                        random_seed=12345)\n",
    "\n",
    "pool = Pool(data=features[['lemm_text']],\n",
    "            label=target,\n",
    "            text_features=['lemm_text'])\n",
    "\n",
    "cb_results = cv(pool,\n",
    "                cb.get_params(),\n",
    "                fold_count=2)"
   ]
  },
  {
   "cell_type": "code",
   "execution_count": 60,
   "metadata": {},
   "outputs": [
    {
     "name": "stderr",
     "output_type": "stream",
     "text": [
      "Custom logger is already specified. Specify more than one logger at same time is not thread safe."
     ]
    },
    {
     "name": "stdout",
     "output_type": "stream",
     "text": [
      "Learning rate set to 0.081637\n",
      "0:\tlearn: 0.7066726\ttotal: 515ms\tremaining: 8m 34s\n",
      "1:\tlearn: 0.7072388\ttotal: 1.04s\tremaining: 8m 39s\n",
      "2:\tlearn: 0.7081778\ttotal: 1.56s\tremaining: 8m 38s\n",
      "3:\tlearn: 0.7091675\ttotal: 2.09s\tremaining: 8m 40s\n",
      "4:\tlearn: 0.7085403\ttotal: 2.63s\tremaining: 8m 42s\n",
      "5:\tlearn: 0.7076684\ttotal: 3.19s\tremaining: 8m 49s\n",
      "6:\tlearn: 0.7082055\ttotal: 3.72s\tremaining: 8m 48s\n",
      "7:\tlearn: 0.7084023\ttotal: 4.3s\tremaining: 8m 53s\n",
      "8:\tlearn: 0.7093519\ttotal: 4.87s\tremaining: 8m 55s\n",
      "9:\tlearn: 0.7088971\ttotal: 5.4s\tremaining: 8m 54s\n",
      "10:\tlearn: 0.7113214\ttotal: 5.98s\tremaining: 8m 57s\n",
      "11:\tlearn: 0.7129236\ttotal: 6.52s\tremaining: 8m 56s\n",
      "12:\tlearn: 0.7159523\ttotal: 7.06s\tremaining: 8m 55s\n",
      "13:\tlearn: 0.7157439\ttotal: 7.63s\tremaining: 8m 57s\n",
      "14:\tlearn: 0.7174439\ttotal: 8.17s\tremaining: 8m 56s\n",
      "15:\tlearn: 0.7183645\ttotal: 8.72s\tremaining: 8m 56s\n",
      "16:\tlearn: 0.7185370\ttotal: 9.23s\tremaining: 8m 53s\n",
      "17:\tlearn: 0.7200689\ttotal: 9.78s\tremaining: 8m 53s\n",
      "18:\tlearn: 0.7218879\ttotal: 10.3s\tremaining: 8m 53s\n",
      "19:\tlearn: 0.7228233\ttotal: 10.9s\tremaining: 8m 53s\n",
      "20:\tlearn: 0.7229878\ttotal: 11.4s\tremaining: 8m 51s\n",
      "21:\tlearn: 0.7225067\ttotal: 11.9s\tremaining: 8m 49s\n",
      "22:\tlearn: 0.7233821\ttotal: 12.5s\tremaining: 8m 51s\n",
      "23:\tlearn: 0.7197703\ttotal: 13s\tremaining: 8m 50s\n",
      "24:\tlearn: 0.7209918\ttotal: 13.6s\tremaining: 8m 51s\n",
      "25:\tlearn: 0.7261605\ttotal: 14.2s\tremaining: 8m 51s\n",
      "26:\tlearn: 0.7274065\ttotal: 14.7s\tremaining: 8m 51s\n",
      "27:\tlearn: 0.7240742\ttotal: 15.2s\tremaining: 8m 49s\n",
      "28:\tlearn: 0.7249231\ttotal: 15.8s\tremaining: 8m 47s\n",
      "29:\tlearn: 0.7251395\ttotal: 16.3s\tremaining: 8m 46s\n",
      "30:\tlearn: 0.7252767\ttotal: 16.8s\tremaining: 8m 45s\n",
      "31:\tlearn: 0.7265632\ttotal: 17.4s\tremaining: 8m 45s\n",
      "32:\tlearn: 0.7271293\ttotal: 17.9s\tremaining: 8m 44s\n",
      "33:\tlearn: 0.7281332\ttotal: 18.4s\tremaining: 8m 43s\n",
      "34:\tlearn: 0.7284345\ttotal: 19s\tremaining: 8m 43s\n",
      "35:\tlearn: 0.7291020\ttotal: 19.5s\tremaining: 8m 42s\n",
      "36:\tlearn: 0.7298479\ttotal: 20.1s\tremaining: 8m 42s\n",
      "37:\tlearn: 0.7304971\ttotal: 20.6s\tremaining: 8m 42s\n",
      "38:\tlearn: 0.7312795\ttotal: 21.2s\tremaining: 8m 41s\n",
      "39:\tlearn: 0.7321031\ttotal: 21.7s\tremaining: 8m 40s\n",
      "40:\tlearn: 0.7329030\ttotal: 22.2s\tremaining: 8m 38s\n",
      "41:\tlearn: 0.7335921\ttotal: 22.7s\tremaining: 8m 38s\n",
      "42:\tlearn: 0.7344465\ttotal: 23.3s\tremaining: 8m 38s\n",
      "43:\tlearn: 0.7353210\ttotal: 23.9s\tremaining: 8m 39s\n",
      "44:\tlearn: 0.7356192\ttotal: 24.5s\tremaining: 8m 39s\n",
      "45:\tlearn: 0.7361002\ttotal: 25s\tremaining: 8m 38s\n",
      "46:\tlearn: 0.7374413\ttotal: 25.7s\tremaining: 8m 40s\n",
      "47:\tlearn: 0.7381314\ttotal: 26.3s\tremaining: 8m 41s\n",
      "48:\tlearn: 0.7383681\ttotal: 26.9s\tremaining: 8m 41s\n",
      "49:\tlearn: 0.7385629\ttotal: 27.5s\tremaining: 8m 42s\n",
      "50:\tlearn: 0.7390607\ttotal: 28s\tremaining: 8m 41s\n",
      "51:\tlearn: 0.7392227\ttotal: 28.6s\tremaining: 8m 41s\n",
      "52:\tlearn: 0.7399385\ttotal: 29.1s\tremaining: 8m 40s\n",
      "53:\tlearn: 0.7406477\ttotal: 29.7s\tremaining: 8m 39s\n",
      "54:\tlearn: 0.7407375\ttotal: 30.2s\tremaining: 8m 38s\n",
      "55:\tlearn: 0.7413301\ttotal: 30.8s\tremaining: 8m 39s\n",
      "56:\tlearn: 0.7417110\ttotal: 31.4s\tremaining: 8m 38s\n",
      "57:\tlearn: 0.7425067\ttotal: 31.9s\tremaining: 8m 38s\n",
      "58:\tlearn: 0.7429509\ttotal: 32.4s\tremaining: 8m 37s\n",
      "59:\tlearn: 0.7436340\ttotal: 33s\tremaining: 8m 37s\n",
      "60:\tlearn: 0.7444607\ttotal: 33.7s\tremaining: 8m 38s\n",
      "61:\tlearn: 0.7447753\ttotal: 34.2s\tremaining: 8m 38s\n",
      "62:\tlearn: 0.7447414\ttotal: 34.8s\tremaining: 8m 37s\n",
      "63:\tlearn: 0.7455540\ttotal: 35.4s\tremaining: 8m 37s\n",
      "64:\tlearn: 0.7455963\ttotal: 35.9s\tremaining: 8m 36s\n",
      "65:\tlearn: 0.7462982\ttotal: 36.4s\tremaining: 8m 35s\n",
      "66:\tlearn: 0.7464049\ttotal: 37s\tremaining: 8m 34s\n",
      "67:\tlearn: 0.7466322\ttotal: 37.5s\tremaining: 8m 34s\n",
      "68:\tlearn: 0.7475695\ttotal: 38.2s\tremaining: 8m 34s\n",
      "69:\tlearn: 0.7479248\ttotal: 38.8s\tremaining: 8m 34s\n",
      "70:\tlearn: 0.7485928\ttotal: 39.3s\tremaining: 8m 34s\n",
      "71:\tlearn: 0.7494306\ttotal: 39.9s\tremaining: 8m 34s\n",
      "72:\tlearn: 0.7499141\ttotal: 40.4s\tremaining: 8m 33s\n",
      "73:\tlearn: 0.7508474\ttotal: 41.1s\tremaining: 8m 33s\n",
      "74:\tlearn: 0.7511802\ttotal: 41.6s\tremaining: 8m 33s\n",
      "75:\tlearn: 0.7510831\ttotal: 42.2s\tremaining: 8m 32s\n",
      "76:\tlearn: 0.7517268\ttotal: 42.7s\tremaining: 8m 31s\n",
      "77:\tlearn: 0.7521228\ttotal: 43.2s\tremaining: 8m 30s\n",
      "78:\tlearn: 0.7524328\ttotal: 43.7s\tremaining: 8m 29s\n",
      "79:\tlearn: 0.7523573\ttotal: 44.2s\tremaining: 8m 28s\n",
      "80:\tlearn: 0.7529997\ttotal: 44.8s\tremaining: 8m 27s\n",
      "81:\tlearn: 0.7528918\ttotal: 45.3s\tremaining: 8m 26s\n",
      "82:\tlearn: 0.7531277\ttotal: 45.9s\tremaining: 8m 26s\n",
      "83:\tlearn: 0.7536754\ttotal: 46.4s\tremaining: 8m 25s\n",
      "84:\tlearn: 0.7542431\ttotal: 46.9s\tremaining: 8m 24s\n",
      "85:\tlearn: 0.7544807\ttotal: 47.5s\tremaining: 8m 24s\n",
      "86:\tlearn: 0.7550356\ttotal: 48s\tremaining: 8m 23s\n",
      "87:\tlearn: 0.7549726\ttotal: 48.5s\tremaining: 8m 22s\n",
      "88:\tlearn: 0.7551458\ttotal: 49s\tremaining: 8m 21s\n",
      "89:\tlearn: 0.7553611\ttotal: 49.6s\tremaining: 8m 21s\n",
      "90:\tlearn: 0.7556260\ttotal: 50.1s\tremaining: 8m 20s\n",
      "91:\tlearn: 0.7557213\ttotal: 50.6s\tremaining: 8m 19s\n",
      "92:\tlearn: 0.7560756\ttotal: 51.2s\tremaining: 8m 18s\n",
      "93:\tlearn: 0.7565158\ttotal: 51.7s\tremaining: 8m 18s\n",
      "94:\tlearn: 0.7566664\ttotal: 52.3s\tremaining: 8m 17s\n",
      "95:\tlearn: 0.7573290\ttotal: 52.9s\tremaining: 8m 18s\n",
      "96:\tlearn: 0.7574953\ttotal: 53.6s\tremaining: 8m 18s\n",
      "97:\tlearn: 0.7579588\ttotal: 54.2s\tremaining: 8m 18s\n",
      "98:\tlearn: 0.7580237\ttotal: 54.7s\tremaining: 8m 17s\n",
      "99:\tlearn: 0.7586355\ttotal: 55.3s\tremaining: 8m 18s\n",
      "100:\tlearn: 0.7591347\ttotal: 55.9s\tremaining: 8m 17s\n",
      "101:\tlearn: 0.7596162\ttotal: 56.5s\tremaining: 8m 17s\n",
      "102:\tlearn: 0.7597875\ttotal: 57s\tremaining: 8m 16s\n",
      "103:\tlearn: 0.7600360\ttotal: 57.6s\tremaining: 8m 16s\n",
      "104:\tlearn: 0.7602039\ttotal: 58.1s\tremaining: 8m 15s\n",
      "105:\tlearn: 0.7605948\ttotal: 58.7s\tremaining: 8m 15s\n",
      "106:\tlearn: 0.7610559\ttotal: 59.2s\tremaining: 8m 14s\n",
      "107:\tlearn: 0.7613743\ttotal: 59.7s\tremaining: 8m 13s\n",
      "108:\tlearn: 0.7614640\ttotal: 1m\tremaining: 8m 13s\n",
      "109:\tlearn: 0.7616354\ttotal: 1m\tremaining: 8m 12s\n",
      "110:\tlearn: 0.7618517\ttotal: 1m 1s\tremaining: 8m 11s\n",
      "111:\tlearn: 0.7626683\ttotal: 1m 1s\tremaining: 8m 11s\n",
      "112:\tlearn: 0.7631669\ttotal: 1m 2s\tremaining: 8m 10s\n",
      "113:\tlearn: 0.7636239\ttotal: 1m 3s\tremaining: 8m 10s\n",
      "114:\tlearn: 0.7638966\ttotal: 1m 3s\tremaining: 8m 10s\n",
      "115:\tlearn: 0.7639901\ttotal: 1m 4s\tremaining: 8m 9s\n",
      "116:\tlearn: 0.7642520\ttotal: 1m 4s\tremaining: 8m 9s\n",
      "117:\tlearn: 0.7651749\ttotal: 1m 5s\tremaining: 8m 8s\n",
      "118:\tlearn: 0.7652808\ttotal: 1m 5s\tremaining: 8m 8s\n",
      "119:\tlearn: 0.7653411\ttotal: 1m 6s\tremaining: 8m 7s\n",
      "120:\tlearn: 0.7656712\ttotal: 1m 7s\tremaining: 8m 6s\n",
      "121:\tlearn: 0.7659556\ttotal: 1m 7s\tremaining: 8m 5s\n",
      "122:\tlearn: 0.7665825\ttotal: 1m 8s\tremaining: 8m 5s\n",
      "123:\tlearn: 0.7667138\ttotal: 1m 8s\tremaining: 8m 5s\n",
      "124:\tlearn: 0.7670623\ttotal: 1m 9s\tremaining: 8m 4s\n",
      "125:\tlearn: 0.7675963\ttotal: 1m 9s\tremaining: 8m 4s\n",
      "126:\tlearn: 0.7677676\ttotal: 1m 10s\tremaining: 8m 4s\n",
      "127:\tlearn: 0.7681960\ttotal: 1m 10s\tremaining: 8m 3s\n",
      "128:\tlearn: 0.7681569\ttotal: 1m 11s\tremaining: 8m 2s\n",
      "129:\tlearn: 0.7682165\ttotal: 1m 11s\tremaining: 8m 1s\n",
      "130:\tlearn: 0.7685919\ttotal: 1m 12s\tremaining: 8m 1s\n",
      "131:\tlearn: 0.7687631\ttotal: 1m 13s\tremaining: 8m\n",
      "132:\tlearn: 0.7687037\ttotal: 1m 13s\tremaining: 7m 59s\n",
      "133:\tlearn: 0.7686113\ttotal: 1m 14s\tremaining: 7m 59s\n",
      "134:\tlearn: 0.7689146\ttotal: 1m 14s\tremaining: 7m 58s\n",
      "135:\tlearn: 0.7693493\ttotal: 1m 15s\tremaining: 7m 57s\n",
      "136:\tlearn: 0.7695799\ttotal: 1m 15s\tremaining: 7m 57s\n",
      "137:\tlearn: 0.7698171\ttotal: 1m 16s\tremaining: 7m 56s\n",
      "138:\tlearn: 0.7697645\ttotal: 1m 16s\tremaining: 7m 55s\n",
      "139:\tlearn: 0.7701395\ttotal: 1m 17s\tremaining: 7m 55s\n",
      "140:\tlearn: 0.7702778\ttotal: 1m 17s\tremaining: 7m 55s\n",
      "141:\tlearn: 0.7710947\ttotal: 1m 18s\tremaining: 7m 54s\n",
      "142:\tlearn: 0.7712989\ttotal: 1m 19s\tremaining: 7m 53s\n",
      "143:\tlearn: 0.7712071\ttotal: 1m 19s\tremaining: 7m 53s\n",
      "144:\tlearn: 0.7710823\ttotal: 1m 20s\tremaining: 7m 52s\n",
      "145:\tlearn: 0.7712267\ttotal: 1m 20s\tremaining: 7m 51s\n",
      "146:\tlearn: 0.7713845\ttotal: 1m 21s\tremaining: 7m 51s\n",
      "147:\tlearn: 0.7716340\ttotal: 1m 21s\tremaining: 7m 51s\n",
      "148:\tlearn: 0.7718187\ttotal: 1m 22s\tremaining: 7m 50s\n",
      "149:\tlearn: 0.7720079\ttotal: 1m 23s\tremaining: 7m 50s\n",
      "150:\tlearn: 0.7720934\ttotal: 1m 23s\tremaining: 7m 49s\n",
      "151:\tlearn: 0.7723111\ttotal: 1m 24s\tremaining: 7m 49s\n",
      "152:\tlearn: 0.7724043\ttotal: 1m 24s\tremaining: 7m 48s\n",
      "153:\tlearn: 0.7725561\ttotal: 1m 25s\tremaining: 7m 47s\n",
      "154:\tlearn: 0.7726806\ttotal: 1m 25s\tremaining: 7m 46s\n",
      "155:\tlearn: 0.7728381\ttotal: 1m 26s\tremaining: 7m 46s\n",
      "156:\tlearn: 0.7732329\ttotal: 1m 26s\tremaining: 7m 45s\n",
      "157:\tlearn: 0.7737820\ttotal: 1m 27s\tremaining: 7m 44s\n",
      "158:\tlearn: 0.7738620\ttotal: 1m 27s\tremaining: 7m 44s\n",
      "159:\tlearn: 0.7739365\ttotal: 1m 28s\tremaining: 7m 43s\n",
      "160:\tlearn: 0.7743759\ttotal: 1m 28s\tremaining: 7m 43s\n",
      "161:\tlearn: 0.7751049\ttotal: 1m 29s\tremaining: 7m 43s\n",
      "162:\tlearn: 0.7752568\ttotal: 1m 30s\tremaining: 7m 42s\n",
      "163:\tlearn: 0.7757477\ttotal: 1m 30s\tremaining: 7m 41s\n",
      "164:\tlearn: 0.7764233\ttotal: 1m 31s\tremaining: 7m 40s\n",
      "165:\tlearn: 0.7766085\ttotal: 1m 31s\tremaining: 7m 40s\n",
      "166:\tlearn: 0.7766982\ttotal: 1m 32s\tremaining: 7m 39s\n",
      "167:\tlearn: 0.7766791\ttotal: 1m 32s\tremaining: 7m 38s\n",
      "168:\tlearn: 0.7766026\ttotal: 1m 33s\tremaining: 7m 37s\n",
      "169:\tlearn: 0.7770160\ttotal: 1m 33s\tremaining: 7m 37s\n",
      "170:\tlearn: 0.7773113\ttotal: 1m 34s\tremaining: 7m 36s\n",
      "171:\tlearn: 0.7774636\ttotal: 1m 34s\tremaining: 7m 35s\n",
      "172:\tlearn: 0.7777159\ttotal: 1m 35s\tremaining: 7m 35s\n",
      "173:\tlearn: 0.7775206\ttotal: 1m 35s\tremaining: 7m 34s\n",
      "174:\tlearn: 0.7775300\ttotal: 1m 36s\tremaining: 7m 33s\n",
      "175:\tlearn: 0.7778588\ttotal: 1m 36s\tremaining: 7m 32s\n",
      "176:\tlearn: 0.7777492\ttotal: 1m 37s\tremaining: 7m 31s\n",
      "177:\tlearn: 0.7778683\ttotal: 1m 37s\tremaining: 7m 31s\n",
      "178:\tlearn: 0.7780683\ttotal: 1m 38s\tremaining: 7m 30s\n",
      "179:\tlearn: 0.7784113\ttotal: 1m 38s\tremaining: 7m 30s\n",
      "180:\tlearn: 0.7789014\ttotal: 1m 39s\tremaining: 7m 29s\n",
      "181:\tlearn: 0.7789014\ttotal: 1m 39s\tremaining: 7m 28s\n",
      "182:\tlearn: 0.7791963\ttotal: 1m 40s\tremaining: 7m 28s\n",
      "183:\tlearn: 0.7793721\ttotal: 1m 40s\tremaining: 7m 27s\n",
      "184:\tlearn: 0.7797002\ttotal: 1m 41s\tremaining: 7m 26s\n",
      "185:\tlearn: 0.7799426\ttotal: 1m 41s\tremaining: 7m 26s\n",
      "186:\tlearn: 0.7800514\ttotal: 1m 42s\tremaining: 7m 25s\n",
      "187:\tlearn: 0.7800514\ttotal: 1m 42s\tremaining: 7m 24s\n",
      "188:\tlearn: 0.7802936\ttotal: 1m 43s\tremaining: 7m 24s\n",
      "189:\tlearn: 0.7804795\ttotal: 1m 43s\tremaining: 7m 23s\n",
      "190:\tlearn: 0.7800240\ttotal: 1m 44s\tremaining: 7m 22s\n",
      "191:\tlearn: 0.7804189\ttotal: 1m 44s\tremaining: 7m 21s\n",
      "192:\tlearn: 0.7804711\ttotal: 1m 45s\tremaining: 7m 20s\n",
      "193:\tlearn: 0.7804377\ttotal: 1m 45s\tremaining: 7m 19s\n",
      "194:\tlearn: 0.7805087\ttotal: 1m 46s\tremaining: 7m 18s\n",
      "195:\tlearn: 0.7803374\ttotal: 1m 46s\tremaining: 7m 17s\n",
      "196:\tlearn: 0.7803374\ttotal: 1m 47s\tremaining: 7m 16s\n",
      "197:\tlearn: 0.7803374\ttotal: 1m 47s\tremaining: 7m 15s\n",
      "198:\tlearn: 0.7803896\ttotal: 1m 47s\tremaining: 7m 14s\n",
      "199:\tlearn: 0.7801327\ttotal: 1m 48s\tremaining: 7m 13s\n",
      "200:\tlearn: 0.7800993\ttotal: 1m 48s\tremaining: 7m 12s\n",
      "201:\tlearn: 0.7801995\ttotal: 1m 49s\tremaining: 7m 11s\n",
      "202:\tlearn: 0.7806987\ttotal: 1m 49s\tremaining: 7m 11s\n",
      "203:\tlearn: 0.7807844\ttotal: 1m 50s\tremaining: 7m 10s\n",
      "204:\tlearn: 0.7807217\ttotal: 1m 50s\tremaining: 7m 9s\n",
      "205:\tlearn: 0.7810078\ttotal: 1m 51s\tremaining: 7m 9s\n",
      "206:\tlearn: 0.7808618\ttotal: 1m 51s\tremaining: 7m 8s\n",
      "207:\tlearn: 0.7811857\ttotal: 1m 52s\tremaining: 7m 7s\n",
      "208:\tlearn: 0.7812861\ttotal: 1m 52s\tremaining: 7m 7s\n",
      "209:\tlearn: 0.7814388\ttotal: 1m 53s\tremaining: 7m 6s\n",
      "210:\tlearn: 0.7814388\ttotal: 1m 53s\tremaining: 7m 5s\n",
      "211:\tlearn: 0.7818229\ttotal: 1m 54s\tremaining: 7m 5s\n",
      "212:\tlearn: 0.7820463\ttotal: 1m 54s\tremaining: 7m 4s\n",
      "213:\tlearn: 0.7819272\ttotal: 1m 55s\tremaining: 7m 3s\n",
      "214:\tlearn: 0.7819645\ttotal: 1m 55s\tremaining: 7m 2s\n",
      "215:\tlearn: 0.7822363\ttotal: 1m 56s\tremaining: 7m 2s\n",
      "216:\tlearn: 0.7825268\ttotal: 1m 56s\tremaining: 7m 1s\n",
      "217:\tlearn: 0.7825938\ttotal: 1m 57s\tremaining: 7m\n",
      "218:\tlearn: 0.7825603\ttotal: 1m 57s\tremaining: 6m 59s\n",
      "219:\tlearn: 0.7826497\ttotal: 1m 58s\tremaining: 6m 59s\n",
      "220:\tlearn: 0.7826832\ttotal: 1m 58s\tremaining: 6m 58s\n",
      "221:\tlearn: 0.7827688\ttotal: 1m 59s\tremaining: 6m 57s\n",
      "222:\tlearn: 0.7830742\ttotal: 1m 59s\tremaining: 6m 57s\n",
      "223:\tlearn: 0.7831449\ttotal: 2m\tremaining: 6m 56s\n",
      "224:\tlearn: 0.7836252\ttotal: 2m\tremaining: 6m 55s\n",
      "225:\tlearn: 0.7838000\ttotal: 2m 1s\tremaining: 6m 55s\n",
      "226:\tlearn: 0.7838335\ttotal: 2m 1s\tremaining: 6m 54s\n",
      "227:\tlearn: 0.7837294\ttotal: 2m 2s\tremaining: 6m 53s\n",
      "228:\tlearn: 0.7838150\ttotal: 2m 2s\tremaining: 6m 53s\n",
      "229:\tlearn: 0.7843507\ttotal: 2m 3s\tremaining: 6m 52s\n",
      "230:\tlearn: 0.7842130\ttotal: 2m 3s\tremaining: 6m 52s\n",
      "231:\tlearn: 0.7843171\ttotal: 2m 4s\tremaining: 6m 51s\n",
      "232:\tlearn: 0.7844883\ttotal: 2m 4s\tremaining: 6m 50s\n",
      "233:\tlearn: 0.7846747\ttotal: 2m 5s\tremaining: 6m 50s\n",
      "234:\tlearn: 0.7847267\ttotal: 2m 5s\tremaining: 6m 49s\n",
      "235:\tlearn: 0.7848188\ttotal: 2m 6s\tremaining: 6m 48s\n",
      "236:\tlearn: 0.7851307\ttotal: 2m 6s\tremaining: 6m 48s\n",
      "237:\tlearn: 0.7850603\ttotal: 2m 7s\tremaining: 6m 47s\n",
      "238:\tlearn: 0.7850787\ttotal: 2m 7s\tremaining: 6m 46s\n",
      "239:\tlearn: 0.7851979\ttotal: 2m 8s\tremaining: 6m 46s\n",
      "240:\tlearn: 0.7856135\ttotal: 2m 8s\tremaining: 6m 45s\n",
      "241:\tlearn: 0.7859280\ttotal: 2m 9s\tremaining: 6m 44s\n",
      "242:\tlearn: 0.7859463\ttotal: 2m 9s\tremaining: 6m 44s\n",
      "243:\tlearn: 0.7858242\ttotal: 2m 10s\tremaining: 6m 43s\n",
      "244:\tlearn: 0.7861874\ttotal: 2m 10s\tremaining: 6m 43s\n",
      "245:\tlearn: 0.7861874\ttotal: 2m 11s\tremaining: 6m 42s\n",
      "246:\tlearn: 0.7865111\ttotal: 2m 11s\tremaining: 6m 41s\n",
      "247:\tlearn: 0.7868712\ttotal: 2m 12s\tremaining: 6m 41s\n",
      "248:\tlearn: 0.7866484\ttotal: 2m 12s\tremaining: 6m 40s\n",
      "249:\tlearn: 0.7865476\ttotal: 2m 13s\tremaining: 6m 40s\n",
      "250:\tlearn: 0.7865783\ttotal: 2m 13s\tremaining: 6m 39s\n",
      "251:\tlearn: 0.7869693\ttotal: 2m 14s\tremaining: 6m 39s\n",
      "252:\tlearn: 0.7868194\ttotal: 2m 15s\tremaining: 6m 38s\n",
      "253:\tlearn: 0.7869820\ttotal: 2m 15s\tremaining: 6m 37s\n",
      "254:\tlearn: 0.7877207\ttotal: 2m 16s\tremaining: 6m 37s\n",
      "255:\tlearn: 0.7876379\ttotal: 2m 16s\tremaining: 6m 36s\n",
      "256:\tlearn: 0.7877389\ttotal: 2m 17s\tremaining: 6m 36s\n",
      "257:\tlearn: 0.7880809\ttotal: 2m 17s\tremaining: 6m 35s\n",
      "258:\tlearn: 0.7882001\ttotal: 2m 17s\tremaining: 6m 34s\n",
      "259:\tlearn: 0.7880135\ttotal: 2m 18s\tremaining: 6m 34s\n",
      "260:\tlearn: 0.7882363\ttotal: 2m 19s\tremaining: 6m 33s\n",
      "261:\tlearn: 0.7883555\ttotal: 2m 19s\tremaining: 6m 32s\n",
      "262:\tlearn: 0.7884385\ttotal: 2m 20s\tremaining: 6m 32s\n",
      "263:\tlearn: 0.7885035\ttotal: 2m 20s\tremaining: 6m 31s\n",
      "264:\tlearn: 0.7884517\ttotal: 2m 21s\tremaining: 6m 31s\n",
      "265:\tlearn: 0.7887288\ttotal: 2m 21s\tremaining: 6m 30s\n",
      "266:\tlearn: 0.7888119\ttotal: 2m 22s\tremaining: 6m 30s\n",
      "267:\tlearn: 0.7888794\ttotal: 2m 22s\tremaining: 6m 29s\n",
      "268:\tlearn: 0.7889492\ttotal: 2m 23s\tremaining: 6m 28s\n",
      "269:\tlearn: 0.7892081\ttotal: 2m 23s\tremaining: 6m 28s\n",
      "270:\tlearn: 0.7892285\ttotal: 2m 24s\tremaining: 6m 27s\n",
      "271:\tlearn: 0.7892128\ttotal: 2m 24s\tremaining: 6m 27s\n",
      "272:\tlearn: 0.7893005\ttotal: 2m 25s\tremaining: 6m 26s\n",
      "273:\tlearn: 0.7894737\ttotal: 2m 25s\tremaining: 6m 26s\n",
      "274:\tlearn: 0.7897480\ttotal: 2m 26s\tremaining: 6m 25s\n",
      "275:\tlearn: 0.7895929\ttotal: 2m 26s\tremaining: 6m 25s\n",
      "276:\tlearn: 0.7897480\ttotal: 2m 27s\tremaining: 6m 24s\n",
      "277:\tlearn: 0.7898650\ttotal: 2m 27s\tremaining: 6m 24s\n",
      "278:\tlearn: 0.7898650\ttotal: 2m 28s\tremaining: 6m 23s\n",
      "279:\tlearn: 0.7901551\ttotal: 2m 28s\tremaining: 6m 22s\n",
      "280:\tlearn: 0.7903102\ttotal: 2m 29s\tremaining: 6m 22s\n",
      "281:\tlearn: 0.7903598\ttotal: 2m 29s\tremaining: 6m 21s\n",
      "282:\tlearn: 0.7903757\ttotal: 2m 30s\tremaining: 6m 21s\n",
      "283:\tlearn: 0.7902564\ttotal: 2m 30s\tremaining: 6m 20s\n",
      "284:\tlearn: 0.7901551\ttotal: 2m 31s\tremaining: 6m 19s\n",
      "285:\tlearn: 0.7903777\ttotal: 2m 31s\tremaining: 6m 19s\n",
      "286:\tlearn: 0.7904811\ttotal: 2m 32s\tremaining: 6m 18s\n",
      "287:\tlearn: 0.7902923\ttotal: 2m 32s\tremaining: 6m 18s\n",
      "288:\tlearn: 0.7903619\ttotal: 2m 33s\tremaining: 6m 17s\n",
      "289:\tlearn: 0.7904790\ttotal: 2m 33s\tremaining: 6m 17s\n",
      "290:\tlearn: 0.7905804\ttotal: 2m 34s\tremaining: 6m 16s\n",
      "291:\tlearn: 0.7905645\ttotal: 2m 34s\tremaining: 6m 15s\n",
      "292:\tlearn: 0.7908706\ttotal: 2m 35s\tremaining: 6m 14s\n",
      "293:\tlearn: 0.7909204\ttotal: 2m 35s\tremaining: 6m 14s\n",
      "294:\tlearn: 0.7909044\ttotal: 2m 36s\tremaining: 6m 13s\n",
      "295:\tlearn: 0.7913177\ttotal: 2m 36s\tremaining: 6m 13s\n",
      "296:\tlearn: 0.7915403\ttotal: 2m 37s\tremaining: 6m 12s\n",
      "297:\tlearn: 0.7913694\ttotal: 2m 37s\tremaining: 6m 12s\n",
      "298:\tlearn: 0.7914388\ttotal: 2m 38s\tremaining: 6m 11s\n",
      "299:\tlearn: 0.7915065\ttotal: 2m 38s\tremaining: 6m 10s\n",
      "300:\tlearn: 0.7917468\ttotal: 2m 39s\tremaining: 6m 10s\n",
      "301:\tlearn: 0.7919194\ttotal: 2m 39s\tremaining: 6m 9s\n",
      "302:\tlearn: 0.7918179\ttotal: 2m 40s\tremaining: 6m 8s\n",
      "303:\tlearn: 0.7918179\ttotal: 2m 40s\tremaining: 6m 8s\n",
      "304:\tlearn: 0.7920065\ttotal: 2m 41s\tremaining: 6m 7s\n",
      "305:\tlearn: 0.7918357\ttotal: 2m 41s\tremaining: 6m 6s\n",
      "306:\tlearn: 0.7920564\ttotal: 2m 42s\tremaining: 6m 6s\n",
      "307:\tlearn: 0.7921435\ttotal: 2m 42s\tremaining: 6m 5s\n",
      "308:\tlearn: 0.7919710\ttotal: 2m 43s\tremaining: 6m 5s\n",
      "309:\tlearn: 0.7919354\ttotal: 2m 43s\tremaining: 6m 4s\n",
      "310:\tlearn: 0.7919870\ttotal: 2m 44s\tremaining: 6m 3s\n",
      "311:\tlearn: 0.7922965\ttotal: 2m 44s\tremaining: 6m 3s\n",
      "312:\tlearn: 0.7922289\ttotal: 2m 45s\tremaining: 6m 2s\n",
      "313:\tlearn: 0.7922982\ttotal: 2m 45s\tremaining: 6m 2s\n",
      "314:\tlearn: 0.7924013\ttotal: 2m 46s\tremaining: 6m 1s\n",
      "315:\tlearn: 0.7923852\ttotal: 2m 46s\tremaining: 6m\n",
      "316:\tlearn: 0.7925221\ttotal: 2m 47s\tremaining: 6m\n",
      "317:\tlearn: 0.7926751\ttotal: 2m 47s\tremaining: 5m 59s\n",
      "318:\tlearn: 0.7928474\ttotal: 2m 48s\tremaining: 5m 59s\n",
      "319:\tlearn: 0.7929504\ttotal: 2m 48s\tremaining: 5m 58s\n",
      "320:\tlearn: 0.7931564\ttotal: 2m 49s\tremaining: 5m 57s\n",
      "321:\tlearn: 0.7932756\ttotal: 2m 49s\tremaining: 5m 57s\n",
      "322:\tlearn: 0.7934286\ttotal: 2m 50s\tremaining: 5m 56s\n",
      "323:\tlearn: 0.7935492\ttotal: 2m 50s\tremaining: 5m 56s\n",
      "324:\tlearn: 0.7938567\ttotal: 2m 51s\tremaining: 5m 55s\n",
      "325:\tlearn: 0.7941126\ttotal: 2m 51s\tremaining: 5m 54s\n",
      "326:\tlearn: 0.7944539\ttotal: 2m 52s\tremaining: 5m 54s\n",
      "327:\tlearn: 0.7943698\ttotal: 2m 52s\tremaining: 5m 53s\n",
      "328:\tlearn: 0.7945918\ttotal: 2m 53s\tremaining: 5m 53s\n",
      "329:\tlearn: 0.7946257\ttotal: 2m 53s\tremaining: 5m 52s\n",
      "330:\tlearn: 0.7949166\ttotal: 2m 54s\tremaining: 5m 52s\n",
      "331:\tlearn: 0.7949505\ttotal: 2m 54s\tremaining: 5m 51s\n",
      "332:\tlearn: 0.7951222\ttotal: 2m 55s\tremaining: 5m 50s\n",
      "333:\tlearn: 0.7951735\ttotal: 2m 55s\tremaining: 5m 50s\n",
      "334:\tlearn: 0.7951222\ttotal: 2m 56s\tremaining: 5m 49s\n",
      "335:\tlearn: 0.7952753\ttotal: 2m 56s\tremaining: 5m 49s\n",
      "336:\tlearn: 0.7950533\ttotal: 2m 57s\tremaining: 5m 48s\n",
      "337:\tlearn: 0.7949341\ttotal: 2m 57s\tremaining: 5m 47s\n",
      "338:\tlearn: 0.7951047\ttotal: 2m 58s\tremaining: 5m 47s\n",
      "339:\tlearn: 0.7953605\ttotal: 2m 58s\tremaining: 5m 46s\n",
      "340:\tlearn: 0.7953780\ttotal: 2m 59s\tremaining: 5m 45s\n",
      "341:\tlearn: 0.7953780\ttotal: 2m 59s\tremaining: 5m 45s\n",
      "342:\tlearn: 0.7953780\ttotal: 2m 59s\tremaining: 5m 44s\n",
      "343:\tlearn: 0.7952927\ttotal: 3m\tremaining: 5m 44s\n",
      "344:\tlearn: 0.7951735\ttotal: 3m\tremaining: 5m 43s\n",
      "345:\tlearn: 0.7952413\ttotal: 3m 1s\tremaining: 5m 42s\n",
      "346:\tlearn: 0.7953945\ttotal: 3m 1s\tremaining: 5m 42s\n",
      "347:\tlearn: 0.7956503\ttotal: 3m 2s\tremaining: 5m 41s\n",
      "348:\tlearn: 0.7958705\ttotal: 3m 3s\tremaining: 5m 41s\n",
      "349:\tlearn: 0.7957852\ttotal: 3m 3s\tremaining: 5m 40s\n",
      "350:\tlearn: 0.7958365\ttotal: 3m 4s\tremaining: 5m 40s\n",
      "351:\tlearn: 0.7958705\ttotal: 3m 4s\tremaining: 5m 39s\n",
      "352:\tlearn: 0.7958879\ttotal: 3m 5s\tremaining: 5m 39s\n",
      "353:\tlearn: 0.7960577\ttotal: 3m 5s\tremaining: 5m 38s\n",
      "354:\tlearn: 0.7960577\ttotal: 3m 6s\tremaining: 5m 38s\n",
      "355:\tlearn: 0.7960577\ttotal: 3m 6s\tremaining: 5m 37s\n",
      "356:\tlearn: 0.7960063\ttotal: 3m 7s\tremaining: 5m 36s\n",
      "357:\tlearn: 0.7961264\ttotal: 3m 7s\tremaining: 5m 36s\n",
      "358:\tlearn: 0.7962797\ttotal: 3m 8s\tremaining: 5m 35s\n",
      "359:\tlearn: 0.7962797\ttotal: 3m 8s\tremaining: 5m 35s\n",
      "360:\tlearn: 0.7962118\ttotal: 3m 9s\tremaining: 5m 34s\n",
      "361:\tlearn: 0.7965704\ttotal: 3m 9s\tremaining: 5m 34s\n",
      "362:\tlearn: 0.7965878\ttotal: 3m 10s\tremaining: 5m 33s\n",
      "363:\tlearn: 0.7967251\ttotal: 3m 10s\tremaining: 5m 33s\n",
      "364:\tlearn: 0.7968277\ttotal: 3m 11s\tremaining: 5m 32s\n",
      "365:\tlearn: 0.7968277\ttotal: 3m 11s\tremaining: 5m 32s\n",
      "366:\tlearn: 0.7969470\ttotal: 3m 12s\tremaining: 5m 31s\n",
      "367:\tlearn: 0.7969643\ttotal: 3m 12s\tremaining: 5m 30s\n",
      "368:\tlearn: 0.7967937\ttotal: 3m 13s\tremaining: 5m 30s\n",
      "369:\tlearn: 0.7967598\ttotal: 3m 13s\tremaining: 5m 29s\n",
      "370:\tlearn: 0.7967085\ttotal: 3m 14s\tremaining: 5m 29s\n",
      "371:\tlearn: 0.7968111\ttotal: 3m 14s\tremaining: 5m 28s\n",
      "372:\tlearn: 0.7972547\ttotal: 3m 15s\tremaining: 5m 28s\n",
      "373:\tlearn: 0.7972547\ttotal: 3m 15s\tremaining: 5m 27s\n",
      "374:\tlearn: 0.7973572\ttotal: 3m 16s\tremaining: 5m 27s\n",
      "375:\tlearn: 0.7978859\ttotal: 3m 16s\tremaining: 5m 26s\n",
      "376:\tlearn: 0.7980568\ttotal: 3m 17s\tremaining: 5m 26s\n",
      "377:\tlearn: 0.7981425\ttotal: 3m 17s\tremaining: 5m 25s\n",
      "378:\tlearn: 0.7983301\ttotal: 3m 18s\tremaining: 5m 25s\n",
      "379:\tlearn: 0.7984833\ttotal: 3m 18s\tremaining: 5m 24s\n",
      "380:\tlearn: 0.7982617\ttotal: 3m 19s\tremaining: 5m 23s\n",
      "381:\tlearn: 0.7981933\ttotal: 3m 19s\tremaining: 5m 23s\n",
      "382:\tlearn: 0.7983469\ttotal: 3m 20s\tremaining: 5m 22s\n",
      "383:\tlearn: 0.7984833\ttotal: 3m 20s\tremaining: 5m 22s\n",
      "384:\tlearn: 0.7986028\ttotal: 3m 21s\tremaining: 5m 22s\n",
      "385:\tlearn: 0.7989607\ttotal: 3m 22s\tremaining: 5m 21s\n",
      "386:\tlearn: 0.7990119\ttotal: 3m 22s\tremaining: 5m 20s\n",
      "387:\tlearn: 0.7990801\ttotal: 3m 23s\tremaining: 5m 20s\n",
      "388:\tlearn: 0.7990290\ttotal: 3m 23s\tremaining: 5m 19s\n",
      "389:\tlearn: 0.7990973\ttotal: 3m 24s\tremaining: 5m 19s\n",
      "390:\tlearn: 0.7989952\ttotal: 3m 24s\tremaining: 5m 18s\n",
      "391:\tlearn: 0.7990803\ttotal: 3m 25s\tremaining: 5m 18s\n",
      "392:\tlearn: 0.7992165\ttotal: 3m 25s\tremaining: 5m 17s\n",
      "393:\tlearn: 0.7994379\ttotal: 3m 26s\tremaining: 5m 17s\n",
      "394:\tlearn: 0.7996423\ttotal: 3m 26s\tremaining: 5m 16s\n",
      "395:\tlearn: 0.7993357\ttotal: 3m 27s\tremaining: 5m 15s\n",
      "396:\tlearn: 0.7997445\ttotal: 3m 27s\tremaining: 5m 15s\n",
      "397:\tlearn: 0.7998638\ttotal: 3m 28s\tremaining: 5m 14s\n",
      "398:\tlearn: 0.8002554\ttotal: 3m 28s\tremaining: 5m 14s\n",
      "399:\tlearn: 0.8002044\ttotal: 3m 29s\tremaining: 5m 13s\n",
      "400:\tlearn: 0.8002214\ttotal: 3m 29s\tremaining: 5m 13s\n",
      "401:\tlearn: 0.8002724\ttotal: 3m 30s\tremaining: 5m 12s\n",
      "402:\tlearn: 0.8003065\ttotal: 3m 30s\tremaining: 5m 12s\n",
      "403:\tlearn: 0.8004257\ttotal: 3m 31s\tremaining: 5m 11s\n",
      "404:\tlearn: 0.8004087\ttotal: 3m 31s\tremaining: 5m 11s\n",
      "405:\tlearn: 0.8005959\ttotal: 3m 32s\tremaining: 5m 10s\n",
      "406:\tlearn: 0.8007661\ttotal: 3m 32s\tremaining: 5m 10s\n",
      "407:\tlearn: 0.8006299\ttotal: 3m 33s\tremaining: 5m 9s\n",
      "408:\tlearn: 0.8006639\ttotal: 3m 33s\tremaining: 5m 9s\n",
      "409:\tlearn: 0.8007661\ttotal: 3m 34s\tremaining: 5m 8s\n",
      "410:\tlearn: 0.8009021\ttotal: 3m 34s\tremaining: 5m 7s\n",
      "411:\tlearn: 0.8010723\ttotal: 3m 35s\tremaining: 5m 7s\n",
      "412:\tlearn: 0.8011917\ttotal: 3m 35s\tremaining: 5m 6s\n",
      "413:\tlearn: 0.8012258\ttotal: 3m 36s\tremaining: 5m 6s\n",
      "414:\tlearn: 0.8011748\ttotal: 3m 36s\tremaining: 5m 5s\n",
      "415:\tlearn: 0.8012430\ttotal: 3m 37s\tremaining: 5m 5s\n",
      "416:\tlearn: 0.8011751\ttotal: 3m 37s\tremaining: 5m 4s\n",
      "417:\tlearn: 0.8011240\ttotal: 3m 38s\tremaining: 5m 3s\n",
      "418:\tlearn: 0.8013282\ttotal: 3m 38s\tremaining: 5m 3s\n",
      "419:\tlearn: 0.8014812\ttotal: 3m 39s\tremaining: 5m 2s\n",
      "420:\tlearn: 0.8016852\ttotal: 3m 39s\tremaining: 5m 2s\n",
      "421:\tlearn: 0.8018555\ttotal: 3m 40s\tremaining: 5m 1s\n",
      "422:\tlearn: 0.8019237\ttotal: 3m 40s\tremaining: 5m 1s\n",
      "423:\tlearn: 0.8019065\ttotal: 3m 41s\tremaining: 5m\n",
      "424:\tlearn: 0.8020594\ttotal: 3m 41s\tremaining: 4m 59s\n",
      "425:\tlearn: 0.8021613\ttotal: 3m 42s\tremaining: 4m 59s\n",
      "426:\tlearn: 0.8023993\ttotal: 3m 42s\tremaining: 4m 58s\n",
      "427:\tlearn: 0.8024676\ttotal: 3m 43s\tremaining: 4m 58s\n",
      "428:\tlearn: 0.8024508\ttotal: 3m 43s\tremaining: 4m 57s\n",
      "429:\tlearn: 0.8022637\ttotal: 3m 44s\tremaining: 4m 57s\n",
      "430:\tlearn: 0.8024339\ttotal: 3m 44s\tremaining: 4m 56s\n",
      "431:\tlearn: 0.8026540\ttotal: 3m 45s\tremaining: 4m 56s\n",
      "432:\tlearn: 0.8027726\ttotal: 3m 45s\tremaining: 4m 55s\n",
      "433:\tlearn: 0.8027726\ttotal: 3m 46s\tremaining: 4m 55s\n",
      "434:\tlearn: 0.8028067\ttotal: 3m 46s\tremaining: 4m 54s\n",
      "435:\tlearn: 0.8028409\ttotal: 3m 47s\tremaining: 4m 53s\n",
      "436:\tlearn: 0.8029265\ttotal: 3m 47s\tremaining: 4m 53s\n",
      "437:\tlearn: 0.8029272\ttotal: 3m 48s\tremaining: 4m 52s\n",
      "438:\tlearn: 0.8029098\ttotal: 3m 48s\tremaining: 4m 52s\n",
      "439:\tlearn: 0.8029607\ttotal: 3m 49s\tremaining: 4m 51s\n",
      "440:\tlearn: 0.8032836\ttotal: 3m 49s\tremaining: 4m 51s\n",
      "441:\tlearn: 0.8032494\ttotal: 3m 50s\tremaining: 4m 50s\n",
      "442:\tlearn: 0.8030116\ttotal: 3m 50s\tremaining: 4m 50s\n",
      "443:\tlearn: 0.8030116\ttotal: 3m 51s\tremaining: 4m 49s\n",
      "444:\tlearn: 0.8033512\ttotal: 3m 51s\tremaining: 4m 48s\n",
      "445:\tlearn: 0.8034355\ttotal: 3m 52s\tremaining: 4m 48s\n",
      "446:\tlearn: 0.8034355\ttotal: 3m 52s\tremaining: 4m 47s\n",
      "447:\tlearn: 0.8038098\ttotal: 3m 53s\tremaining: 4m 47s\n",
      "448:\tlearn: 0.8038098\ttotal: 3m 53s\tremaining: 4m 46s\n",
      "449:\tlearn: 0.8037765\ttotal: 3m 54s\tremaining: 4m 46s\n",
      "450:\tlearn: 0.8038273\ttotal: 3m 54s\tremaining: 4m 45s\n",
      "451:\tlearn: 0.8038265\ttotal: 3m 55s\tremaining: 4m 45s\n",
      "452:\tlearn: 0.8037415\ttotal: 3m 55s\tremaining: 4m 44s\n",
      "453:\tlearn: 0.8041158\ttotal: 3m 56s\tremaining: 4m 44s\n",
      "454:\tlearn: 0.8040992\ttotal: 3m 56s\tremaining: 4m 43s\n",
      "455:\tlearn: 0.8041500\ttotal: 3m 57s\tremaining: 4m 43s\n",
      "456:\tlearn: 0.8042693\ttotal: 3m 57s\tremaining: 4m 42s\n",
      "457:\tlearn: 0.8042693\ttotal: 3m 58s\tremaining: 4m 42s\n",
      "458:\tlearn: 0.8040308\ttotal: 3m 58s\tremaining: 4m 41s\n",
      "459:\tlearn: 0.8043885\ttotal: 3m 59s\tremaining: 4m 40s\n",
      "460:\tlearn: 0.8044726\ttotal: 3m 59s\tremaining: 4m 40s\n",
      "461:\tlearn: 0.8047785\ttotal: 4m\tremaining: 4m 39s\n",
      "462:\tlearn: 0.8047785\ttotal: 4m\tremaining: 4m 39s\n",
      "463:\tlearn: 0.8046779\ttotal: 4m 1s\tremaining: 4m 38s\n",
      "464:\tlearn: 0.8047453\ttotal: 4m 1s\tremaining: 4m 38s\n",
      "465:\tlearn: 0.8047805\ttotal: 4m 2s\tremaining: 4m 37s\n",
      "466:\tlearn: 0.8048148\ttotal: 4m 2s\tremaining: 4m 37s\n",
      "467:\tlearn: 0.8046789\ttotal: 4m 3s\tremaining: 4m 36s\n",
      "468:\tlearn: 0.8048314\ttotal: 4m 3s\tremaining: 4m 36s\n",
      "469:\tlearn: 0.8050181\ttotal: 4m 4s\tremaining: 4m 35s\n",
      "470:\tlearn: 0.8050689\ttotal: 4m 4s\tremaining: 4m 35s\n",
      "471:\tlearn: 0.8051705\ttotal: 4m 5s\tremaining: 4m 34s\n",
      "472:\tlearn: 0.8051694\ttotal: 4m 6s\tremaining: 4m 34s\n",
      "473:\tlearn: 0.8050170\ttotal: 4m 6s\tremaining: 4m 33s\n",
      "474:\tlearn: 0.8050512\ttotal: 4m 7s\tremaining: 4m 33s\n",
      "475:\tlearn: 0.8049662\ttotal: 4m 7s\tremaining: 4m 32s\n",
      "476:\tlearn: 0.8052732\ttotal: 4m 8s\tremaining: 4m 32s\n",
      "477:\tlearn: 0.8052390\ttotal: 4m 8s\tremaining: 4m 31s\n",
      "478:\tlearn: 0.8050368\ttotal: 4m 9s\tremaining: 4m 31s\n",
      "479:\tlearn: 0.8051893\ttotal: 4m 9s\tremaining: 4m 30s\n",
      "480:\tlearn: 0.8054776\ttotal: 4m 10s\tremaining: 4m 30s\n",
      "481:\tlearn: 0.8055107\ttotal: 4m 10s\tremaining: 4m 29s\n",
      "482:\tlearn: 0.8054941\ttotal: 4m 11s\tremaining: 4m 29s\n",
      "483:\tlearn: 0.8055284\ttotal: 4m 11s\tremaining: 4m 28s\n",
      "484:\tlearn: 0.8055437\ttotal: 4m 12s\tremaining: 4m 28s\n",
      "485:\tlearn: 0.8056961\ttotal: 4m 12s\tremaining: 4m 27s\n",
      "486:\tlearn: 0.8057126\ttotal: 4m 13s\tremaining: 4m 27s\n",
      "487:\tlearn: 0.8060184\ttotal: 4m 14s\tremaining: 4m 26s\n",
      "488:\tlearn: 0.8059511\ttotal: 4m 14s\tremaining: 4m 25s\n",
      "489:\tlearn: 0.8061884\ttotal: 4m 14s\tremaining: 4m 25s\n",
      "490:\tlearn: 0.8062569\ttotal: 4m 15s\tremaining: 4m 24s\n",
      "491:\tlearn: 0.8063255\ttotal: 4m 16s\tremaining: 4m 24s\n",
      "492:\tlearn: 0.8061047\ttotal: 4m 16s\tremaining: 4m 23s\n",
      "493:\tlearn: 0.8060539\ttotal: 4m 17s\tremaining: 4m 23s\n",
      "494:\tlearn: 0.8063076\ttotal: 4m 17s\tremaining: 4m 22s\n",
      "495:\tlearn: 0.8064269\ttotal: 4m 18s\tremaining: 4m 22s\n",
      "496:\tlearn: 0.8065133\ttotal: 4m 18s\tremaining: 4m 21s\n",
      "497:\tlearn: 0.8064790\ttotal: 4m 18s\tremaining: 4m 20s\n",
      "498:\tlearn: 0.8065298\ttotal: 4m 19s\tremaining: 4m 20s\n",
      "499:\tlearn: 0.8064955\ttotal: 4m 19s\tremaining: 4m 19s\n",
      "500:\tlearn: 0.8065298\ttotal: 4m 20s\tremaining: 4m 19s\n",
      "501:\tlearn: 0.8066312\ttotal: 4m 20s\tremaining: 4m 18s\n",
      "502:\tlearn: 0.8066998\ttotal: 4m 21s\tremaining: 4m 18s\n",
      "503:\tlearn: 0.8068013\ttotal: 4m 21s\tremaining: 4m 17s\n",
      "504:\tlearn: 0.8067491\ttotal: 4m 22s\tremaining: 4m 17s\n",
      "505:\tlearn: 0.8069833\ttotal: 4m 22s\tremaining: 4m 16s\n",
      "506:\tlearn: 0.8070861\ttotal: 4m 23s\tremaining: 4m 16s\n",
      "507:\tlearn: 0.8073753\ttotal: 4m 23s\tremaining: 4m 15s\n",
      "508:\tlearn: 0.8076825\ttotal: 4m 24s\tremaining: 4m 15s\n",
      "509:\tlearn: 0.8076139\ttotal: 4m 24s\tremaining: 4m 14s\n",
      "510:\tlearn: 0.8076988\ttotal: 4m 25s\tremaining: 4m 13s\n",
      "511:\tlearn: 0.8076825\ttotal: 4m 25s\tremaining: 4m 13s\n",
      "512:\tlearn: 0.8077511\ttotal: 4m 26s\tremaining: 4m 12s\n",
      "513:\tlearn: 0.8077511\ttotal: 4m 26s\tremaining: 4m 12s\n",
      "514:\tlearn: 0.8077348\ttotal: 4m 27s\tremaining: 4m 11s\n",
      "515:\tlearn: 0.8079555\ttotal: 4m 27s\tremaining: 4m 11s\n",
      "516:\tlearn: 0.8078541\ttotal: 4m 28s\tremaining: 4m 10s\n",
      "517:\tlearn: 0.8077348\ttotal: 4m 28s\tremaining: 4m 10s\n",
      "518:\tlearn: 0.8081109\ttotal: 4m 29s\tremaining: 4m 9s\n",
      "519:\tlearn: 0.8080748\ttotal: 4m 29s\tremaining: 4m 9s\n",
      "520:\tlearn: 0.8082791\ttotal: 4m 30s\tremaining: 4m 8s\n",
      "521:\tlearn: 0.8083298\ttotal: 4m 30s\tremaining: 4m 8s\n",
      "522:\tlearn: 0.8084311\ttotal: 4m 31s\tremaining: 4m 7s\n",
      "523:\tlearn: 0.8085830\ttotal: 4m 31s\tremaining: 4m 7s\n",
      "524:\tlearn: 0.8085486\ttotal: 4m 32s\tremaining: 4m 6s\n",
      "525:\tlearn: 0.8087005\ttotal: 4m 33s\tremaining: 4m 6s\n",
      "526:\tlearn: 0.8086173\ttotal: 4m 33s\tremaining: 4m 5s\n",
      "527:\tlearn: 0.8088217\ttotal: 4m 34s\tremaining: 4m 4s\n",
      "528:\tlearn: 0.8089229\ttotal: 4m 34s\tremaining: 4m 4s\n",
      "529:\tlearn: 0.8091921\ttotal: 4m 35s\tremaining: 4m 3s\n",
      "530:\tlearn: 0.8093600\ttotal: 4m 35s\tremaining: 4m 3s\n",
      "531:\tlearn: 0.8091901\ttotal: 4m 36s\tremaining: 4m 2s\n",
      "532:\tlearn: 0.8091214\ttotal: 4m 36s\tremaining: 4m 2s\n",
      "533:\tlearn: 0.8092751\ttotal: 4m 37s\tremaining: 4m 1s\n",
      "534:\tlearn: 0.8091901\ttotal: 4m 37s\tremaining: 4m 1s\n",
      "535:\tlearn: 0.8092245\ttotal: 4m 38s\tremaining: 4m\n",
      "536:\tlearn: 0.8092245\ttotal: 4m 38s\tremaining: 4m\n",
      "537:\tlearn: 0.8093600\ttotal: 4m 39s\tremaining: 3m 59s\n",
      "538:\tlearn: 0.8094268\ttotal: 4m 39s\tremaining: 3m 59s\n",
      "539:\tlearn: 0.8094268\ttotal: 4m 40s\tremaining: 3m 58s\n",
      "540:\tlearn: 0.8094773\ttotal: 4m 40s\tremaining: 3m 58s\n",
      "541:\tlearn: 0.8096310\ttotal: 4m 41s\tremaining: 3m 57s\n",
      "542:\tlearn: 0.8096471\ttotal: 4m 41s\tremaining: 3m 57s\n",
      "543:\tlearn: 0.8096977\ttotal: 4m 42s\tremaining: 3m 56s\n",
      "544:\tlearn: 0.8098837\ttotal: 4m 42s\tremaining: 3m 56s\n",
      "545:\tlearn: 0.8099342\ttotal: 4m 43s\tremaining: 3m 55s\n",
      "546:\tlearn: 0.8100352\ttotal: 4m 43s\tremaining: 3m 55s\n",
      "547:\tlearn: 0.8101201\ttotal: 4m 44s\tremaining: 3m 54s\n",
      "548:\tlearn: 0.8099665\ttotal: 4m 44s\tremaining: 3m 54s\n",
      "549:\tlearn: 0.8100352\ttotal: 4m 45s\tremaining: 3m 53s\n",
      "550:\tlearn: 0.8100352\ttotal: 4m 45s\tremaining: 3m 52s\n",
      "551:\tlearn: 0.8101384\ttotal: 4m 46s\tremaining: 3m 52s\n",
      "552:\tlearn: 0.8101728\ttotal: 4m 46s\tremaining: 3m 51s\n",
      "553:\tlearn: 0.8102577\ttotal: 4m 47s\tremaining: 3m 51s\n",
      "554:\tlearn: 0.8103082\ttotal: 4m 47s\tremaining: 3m 50s\n",
      "555:\tlearn: 0.8103587\ttotal: 4m 48s\tremaining: 3m 50s\n",
      "556:\tlearn: 0.8109026\ttotal: 4m 48s\tremaining: 3m 49s\n",
      "557:\tlearn: 0.8110036\ttotal: 4m 49s\tremaining: 3m 49s\n",
      "558:\tlearn: 0.8109347\ttotal: 4m 49s\tremaining: 3m 48s\n",
      "559:\tlearn: 0.8109187\ttotal: 4m 50s\tremaining: 3m 48s\n",
      "560:\tlearn: 0.8109187\ttotal: 4m 50s\tremaining: 3m 47s\n",
      "561:\tlearn: 0.8109347\ttotal: 4m 51s\tremaining: 3m 47s\n",
      "562:\tlearn: 0.8110357\ttotal: 4m 51s\tremaining: 3m 46s\n",
      "563:\tlearn: 0.8111366\ttotal: 4m 52s\tremaining: 3m 45s\n",
      "564:\tlearn: 0.8112719\ttotal: 4m 52s\tremaining: 3m 45s\n",
      "565:\tlearn: 0.8113224\ttotal: 4m 53s\tremaining: 3m 44s\n",
      "566:\tlearn: 0.8113224\ttotal: 4m 53s\tremaining: 3m 44s\n",
      "567:\tlearn: 0.8113224\ttotal: 4m 54s\tremaining: 3m 43s\n",
      "568:\tlearn: 0.8113544\ttotal: 4m 54s\tremaining: 3m 43s\n",
      "569:\tlearn: 0.8113888\ttotal: 4m 55s\tremaining: 3m 42s\n",
      "570:\tlearn: 0.8114552\ttotal: 4m 55s\tremaining: 3m 42s\n",
      "571:\tlearn: 0.8115057\ttotal: 4m 56s\tremaining: 3m 41s\n",
      "572:\tlearn: 0.8116225\ttotal: 4m 56s\tremaining: 3m 41s\n",
      "573:\tlearn: 0.8115905\ttotal: 4m 57s\tremaining: 3m 40s\n",
      "574:\tlearn: 0.8115905\ttotal: 4m 57s\tremaining: 3m 40s\n",
      "575:\tlearn: 0.8116090\ttotal: 4m 58s\tremaining: 3m 39s\n",
      "576:\tlearn: 0.8116434\ttotal: 4m 58s\tremaining: 3m 39s\n",
      "577:\tlearn: 0.8117098\ttotal: 4m 59s\tremaining: 3m 38s\n",
      "578:\tlearn: 0.8117947\ttotal: 5m\tremaining: 3m 38s\n",
      "579:\tlearn: 0.8117467\ttotal: 5m\tremaining: 3m 37s\n",
      "580:\tlearn: 0.8119299\ttotal: 5m 1s\tremaining: 3m 37s\n",
      "581:\tlearn: 0.8120862\ttotal: 5m 1s\tremaining: 3m 36s\n",
      "582:\tlearn: 0.8122030\ttotal: 5m 2s\tremaining: 3m 36s\n",
      "583:\tlearn: 0.8120703\ttotal: 5m 2s\tremaining: 3m 35s\n",
      "584:\tlearn: 0.8121552\ttotal: 5m 3s\tremaining: 3m 34s\n",
      "585:\tlearn: 0.8121047\ttotal: 5m 3s\tremaining: 3m 34s\n",
      "586:\tlearn: 0.8121047\ttotal: 5m 4s\tremaining: 3m 33s\n",
      "587:\tlearn: 0.8121552\ttotal: 5m 4s\tremaining: 3m 33s\n",
      "588:\tlearn: 0.8122534\ttotal: 5m 5s\tremaining: 3m 32s\n",
      "589:\tlearn: 0.8120837\ttotal: 5m 5s\tremaining: 3m 32s\n",
      "590:\tlearn: 0.8123753\ttotal: 5m 6s\tremaining: 3m 31s\n",
      "591:\tlearn: 0.8123939\ttotal: 5m 6s\tremaining: 3m 31s\n",
      "592:\tlearn: 0.8124947\ttotal: 5m 7s\tremaining: 3m 30s\n",
      "593:\tlearn: 0.8123913\ttotal: 5m 7s\tremaining: 3m 30s\n",
      "594:\tlearn: 0.8124417\ttotal: 5m 8s\tremaining: 3m 29s\n",
      "595:\tlearn: 0.8125928\ttotal: 5m 8s\tremaining: 3m 29s\n",
      "596:\tlearn: 0.8126777\ttotal: 5m 9s\tremaining: 3m 28s\n",
      "597:\tlearn: 0.8126777\ttotal: 5m 9s\tremaining: 3m 28s\n",
      "598:\tlearn: 0.8127280\ttotal: 5m 10s\tremaining: 3m 27s\n",
      "599:\tlearn: 0.8127970\ttotal: 5m 10s\tremaining: 3m 27s\n",
      "600:\tlearn: 0.8128501\ttotal: 5m 11s\tremaining: 3m 26s\n",
      "601:\tlearn: 0.8128846\ttotal: 5m 11s\tremaining: 3m 25s\n",
      "602:\tlearn: 0.8128687\ttotal: 5m 11s\tremaining: 3m 25s\n",
      "603:\tlearn: 0.8128687\ttotal: 5m 12s\tremaining: 3m 24s\n",
      "604:\tlearn: 0.8127838\ttotal: 5m 12s\tremaining: 3m 24s\n",
      "605:\tlearn: 0.8128183\ttotal: 5m 13s\tremaining: 3m 23s\n",
      "606:\tlearn: 0.8131551\ttotal: 5m 13s\tremaining: 3m 23s\n",
      "607:\tlearn: 0.8134759\ttotal: 5m 14s\tremaining: 3m 22s\n",
      "608:\tlearn: 0.8137305\ttotal: 5m 14s\tremaining: 3m 22s\n",
      "609:\tlearn: 0.8137808\ttotal: 5m 15s\tremaining: 3m 21s\n",
      "610:\tlearn: 0.8137808\ttotal: 5m 15s\tremaining: 3m 21s\n",
      "611:\tlearn: 0.8139130\ttotal: 5m 16s\tremaining: 3m 20s\n",
      "612:\tlearn: 0.8140669\ttotal: 5m 16s\tremaining: 3m 20s\n",
      "613:\tlearn: 0.8140857\ttotal: 5m 17s\tremaining: 3m 19s\n",
      "614:\tlearn: 0.8142396\ttotal: 5m 17s\tremaining: 3m 19s\n",
      "615:\tlearn: 0.8142554\ttotal: 5m 18s\tremaining: 3m 18s\n",
      "616:\tlearn: 0.8143560\ttotal: 5m 18s\tremaining: 3m 17s\n",
      "617:\tlearn: 0.8143560\ttotal: 5m 19s\tremaining: 3m 17s\n",
      "618:\tlearn: 0.8145069\ttotal: 5m 19s\tremaining: 3m 16s\n",
      "619:\tlearn: 0.8143560\ttotal: 5m 20s\tremaining: 3m 16s\n",
      "620:\tlearn: 0.8143906\ttotal: 5m 20s\tremaining: 3m 15s\n",
      "621:\tlearn: 0.8143560\ttotal: 5m 21s\tremaining: 3m 15s\n",
      "622:\tlearn: 0.8147111\ttotal: 5m 21s\tremaining: 3m 14s\n",
      "623:\tlearn: 0.8148776\ttotal: 5m 22s\tremaining: 3m 14s\n",
      "624:\tlearn: 0.8148776\ttotal: 5m 22s\tremaining: 3m 13s\n",
      "625:\tlearn: 0.8148776\ttotal: 5m 23s\tremaining: 3m 13s\n",
      "626:\tlearn: 0.8149970\ttotal: 5m 23s\tremaining: 3m 12s\n",
      "627:\tlearn: 0.8149813\ttotal: 5m 24s\tremaining: 3m 12s\n",
      "628:\tlearn: 0.8150662\ttotal: 5m 24s\tremaining: 3m 11s\n",
      "629:\tlearn: 0.8150851\ttotal: 5m 25s\tremaining: 3m 11s\n",
      "630:\tlearn: 0.8151196\ttotal: 5m 25s\tremaining: 3m 10s\n",
      "631:\tlearn: 0.8148808\ttotal: 5m 26s\tremaining: 3m 10s\n",
      "632:\tlearn: 0.8149311\ttotal: 5m 26s\tremaining: 3m 9s\n",
      "633:\tlearn: 0.8149656\ttotal: 5m 27s\tremaining: 3m 8s\n",
      "634:\tlearn: 0.8150002\ttotal: 5m 27s\tremaining: 3m 8s\n",
      "635:\tlearn: 0.8150851\ttotal: 5m 28s\tremaining: 3m 7s\n",
      "636:\tlearn: 0.8150851\ttotal: 5m 28s\tremaining: 3m 7s\n",
      "637:\tlearn: 0.8149813\ttotal: 5m 29s\tremaining: 3m 6s\n",
      "638:\tlearn: 0.8152013\ttotal: 5m 29s\tremaining: 3m 6s\n",
      "639:\tlearn: 0.8153677\ttotal: 5m 30s\tremaining: 3m 5s\n",
      "640:\tlearn: 0.8153050\ttotal: 5m 30s\tremaining: 3m 5s\n",
      "641:\tlearn: 0.8154747\ttotal: 5m 31s\tremaining: 3m 4s\n",
      "642:\tlearn: 0.8154903\ttotal: 5m 31s\tremaining: 3m 4s\n",
      "643:\tlearn: 0.8155060\ttotal: 5m 32s\tremaining: 3m 3s\n",
      "644:\tlearn: 0.8155216\ttotal: 5m 32s\tremaining: 3m 3s\n",
      "645:\tlearn: 0.8156913\ttotal: 5m 33s\tremaining: 3m 2s\n",
      "646:\tlearn: 0.8159267\ttotal: 5m 33s\tremaining: 3m 2s\n",
      "647:\tlearn: 0.8157415\ttotal: 5m 34s\tremaining: 3m 1s\n",
      "648:\tlearn: 0.8156723\ttotal: 5m 34s\tremaining: 3m 1s\n",
      "649:\tlearn: 0.8157917\ttotal: 5m 35s\tremaining: 3m\n",
      "650:\tlearn: 0.8158073\ttotal: 5m 35s\tremaining: 3m\n",
      "651:\tlearn: 0.8158419\ttotal: 5m 36s\tremaining: 2m 59s\n",
      "652:\tlearn: 0.8159111\ttotal: 5m 36s\tremaining: 2m 59s\n",
      "653:\tlearn: 0.8162348\ttotal: 5m 37s\tremaining: 2m 58s\n",
      "654:\tlearn: 0.8161656\ttotal: 5m 37s\tremaining: 2m 58s\n",
      "655:\tlearn: 0.8161846\ttotal: 5m 38s\tremaining: 2m 57s\n",
      "656:\tlearn: 0.8161846\ttotal: 5m 38s\tremaining: 2m 56s\n",
      "657:\tlearn: 0.8162884\ttotal: 5m 39s\tremaining: 2m 56s\n",
      "658:\tlearn: 0.8163386\ttotal: 5m 39s\tremaining: 2m 55s\n",
      "659:\tlearn: 0.8163386\ttotal: 5m 40s\tremaining: 2m 55s\n",
      "660:\tlearn: 0.8162919\ttotal: 5m 40s\tremaining: 2m 54s\n",
      "661:\tlearn: 0.8163923\ttotal: 5m 41s\tremaining: 2m 54s\n",
      "662:\tlearn: 0.8165083\ttotal: 5m 41s\tremaining: 2m 53s\n",
      "663:\tlearn: 0.8164235\ttotal: 5m 42s\tremaining: 2m 53s\n",
      "664:\tlearn: 0.8166780\ttotal: 5m 42s\tremaining: 2m 52s\n",
      "665:\tlearn: 0.8166935\ttotal: 5m 43s\tremaining: 2m 52s\n",
      "666:\tlearn: 0.8167437\ttotal: 5m 43s\tremaining: 2m 51s\n",
      "667:\tlearn: 0.8170173\ttotal: 5m 44s\tremaining: 2m 51s\n",
      "668:\tlearn: 0.8170328\ttotal: 5m 44s\tremaining: 2m 50s\n",
      "669:\tlearn: 0.8173028\ttotal: 5m 45s\tremaining: 2m 50s\n",
      "670:\tlearn: 0.8173028\ttotal: 5m 45s\tremaining: 2m 49s\n",
      "671:\tlearn: 0.8174031\ttotal: 5m 46s\tremaining: 2m 48s\n",
      "672:\tlearn: 0.8176074\ttotal: 5m 46s\tremaining: 2m 48s\n",
      "673:\tlearn: 0.8175226\ttotal: 5m 47s\tremaining: 2m 47s\n",
      "674:\tlearn: 0.8174879\ttotal: 5m 47s\tremaining: 2m 47s\n",
      "675:\tlearn: 0.8175034\ttotal: 5m 48s\tremaining: 2m 46s\n",
      "676:\tlearn: 0.8178272\ttotal: 5m 48s\tremaining: 2m 46s\n",
      "677:\tlearn: 0.8178272\ttotal: 5m 49s\tremaining: 2m 45s\n",
      "678:\tlearn: 0.8178117\ttotal: 5m 49s\tremaining: 2m 45s\n",
      "679:\tlearn: 0.8180160\ttotal: 5m 50s\tremaining: 2m 44s\n",
      "680:\tlearn: 0.8180160\ttotal: 5m 50s\tremaining: 2m 44s\n",
      "681:\tlearn: 0.8179659\ttotal: 5m 51s\tremaining: 2m 43s\n",
      "682:\tlearn: 0.8179158\ttotal: 5m 51s\tremaining: 2m 43s\n",
      "683:\tlearn: 0.8180662\ttotal: 5m 52s\tremaining: 2m 42s\n",
      "684:\tlearn: 0.8181163\ttotal: 5m 52s\tremaining: 2m 42s\n",
      "685:\tlearn: 0.8180122\ttotal: 5m 53s\tremaining: 2m 41s\n",
      "686:\tlearn: 0.8180469\ttotal: 5m 53s\tremaining: 2m 41s\n",
      "687:\tlearn: 0.8182473\ttotal: 5m 54s\tremaining: 2m 40s\n",
      "688:\tlearn: 0.8182127\ttotal: 5m 54s\tremaining: 2m 40s\n",
      "689:\tlearn: 0.8182627\ttotal: 5m 55s\tremaining: 2m 39s\n",
      "690:\tlearn: 0.8184863\ttotal: 5m 55s\tremaining: 2m 39s\n",
      "691:\tlearn: 0.8185210\ttotal: 5m 56s\tremaining: 2m 38s\n",
      "692:\tlearn: 0.8185711\ttotal: 5m 56s\tremaining: 2m 38s\n",
      "693:\tlearn: 0.8186405\ttotal: 5m 57s\tremaining: 2m 37s\n",
      "694:\tlearn: 0.8187020\ttotal: 5m 57s\tremaining: 2m 37s\n",
      "695:\tlearn: 0.8190912\ttotal: 5m 58s\tremaining: 2m 36s\n",
      "696:\tlearn: 0.8190718\ttotal: 5m 58s\tremaining: 2m 35s\n",
      "697:\tlearn: 0.8190565\ttotal: 5m 59s\tremaining: 2m 35s\n",
      "698:\tlearn: 0.8190912\ttotal: 5m 59s\tremaining: 2m 34s\n",
      "699:\tlearn: 0.8190912\ttotal: 6m\tremaining: 2m 34s\n",
      "700:\tlearn: 0.8190412\ttotal: 6m\tremaining: 2m 33s\n",
      "701:\tlearn: 0.8190412\ttotal: 6m 1s\tremaining: 2m 33s\n",
      "702:\tlearn: 0.8189410\ttotal: 6m 1s\tremaining: 2m 32s\n",
      "703:\tlearn: 0.8189410\ttotal: 6m 2s\tremaining: 2m 32s\n",
      "704:\tlearn: 0.8189564\ttotal: 6m 2s\tremaining: 2m 31s\n",
      "705:\tlearn: 0.8190565\ttotal: 6m 3s\tremaining: 2m 31s\n",
      "706:\tlearn: 0.8192066\ttotal: 6m 3s\tremaining: 2m 30s\n",
      "707:\tlearn: 0.8192414\ttotal: 6m 4s\tremaining: 2m 30s\n",
      "708:\tlearn: 0.8192761\ttotal: 6m 4s\tremaining: 2m 29s\n",
      "709:\tlearn: 0.8193261\ttotal: 6m 5s\tremaining: 2m 29s\n",
      "710:\tlearn: 0.8194109\ttotal: 6m 5s\tremaining: 2m 28s\n",
      "711:\tlearn: 0.8195110\ttotal: 6m 6s\tremaining: 2m 28s\n",
      "712:\tlearn: 0.8196152\ttotal: 6m 6s\tremaining: 2m 27s\n",
      "713:\tlearn: 0.8198000\ttotal: 6m 7s\tremaining: 2m 27s\n",
      "714:\tlearn: 0.8197152\ttotal: 6m 7s\tremaining: 2m 26s\n",
      "715:\tlearn: 0.8197805\ttotal: 6m 8s\tremaining: 2m 26s\n",
      "716:\tlearn: 0.8198305\ttotal: 6m 8s\tremaining: 2m 25s\n",
      "717:\tlearn: 0.8200153\ttotal: 6m 9s\tremaining: 2m 25s\n",
      "718:\tlearn: 0.8201305\ttotal: 6m 9s\tremaining: 2m 24s\n",
      "719:\tlearn: 0.8202304\ttotal: 6m 10s\tremaining: 2m 24s\n",
      "720:\tlearn: 0.8202999\ttotal: 6m 10s\tremaining: 2m 23s\n",
      "721:\tlearn: 0.8203195\ttotal: 6m 11s\tremaining: 2m 23s\n",
      "722:\tlearn: 0.8202695\ttotal: 6m 11s\tremaining: 2m 22s\n",
      "723:\tlearn: 0.8202347\ttotal: 6m 12s\tremaining: 2m 21s\n",
      "724:\tlearn: 0.8202000\ttotal: 6m 12s\tremaining: 2m 21s\n",
      "725:\tlearn: 0.8203151\ttotal: 6m 13s\tremaining: 2m 20s\n",
      "726:\tlearn: 0.8202804\ttotal: 6m 13s\tremaining: 2m 20s\n",
      "727:\tlearn: 0.8205693\ttotal: 6m 14s\tremaining: 2m 19s\n",
      "728:\tlearn: 0.8205693\ttotal: 6m 14s\tremaining: 2m 19s\n",
      "729:\tlearn: 0.8205345\ttotal: 6m 15s\tremaining: 2m 18s\n",
      "730:\tlearn: 0.8205889\ttotal: 6m 15s\tremaining: 2m 18s\n",
      "731:\tlearn: 0.8206388\ttotal: 6m 16s\tremaining: 2m 17s\n",
      "732:\tlearn: 0.8208386\ttotal: 6m 16s\tremaining: 2m 17s\n",
      "733:\tlearn: 0.8208039\ttotal: 6m 17s\tremaining: 2m 16s\n",
      "734:\tlearn: 0.8206844\ttotal: 6m 17s\tremaining: 2m 16s\n",
      "735:\tlearn: 0.8207995\ttotal: 6m 18s\tremaining: 2m 15s\n",
      "736:\tlearn: 0.8207343\ttotal: 6m 18s\tremaining: 2m 15s\n",
      "737:\tlearn: 0.8206844\ttotal: 6m 19s\tremaining: 2m 14s\n",
      "738:\tlearn: 0.8206692\ttotal: 6m 19s\tremaining: 2m 14s\n",
      "739:\tlearn: 0.8204998\ttotal: 6m 20s\tremaining: 2m 13s\n",
      "740:\tlearn: 0.8204998\ttotal: 6m 20s\tremaining: 2m 13s\n",
      "741:\tlearn: 0.8207539\ttotal: 6m 21s\tremaining: 2m 12s\n",
      "742:\tlearn: 0.8209625\ttotal: 6m 21s\tremaining: 2m 12s\n",
      "743:\tlearn: 0.8209581\ttotal: 6m 22s\tremaining: 2m 11s\n",
      "744:\tlearn: 0.8210232\ttotal: 6m 22s\tremaining: 2m 11s\n",
      "745:\tlearn: 0.8212078\ttotal: 6m 23s\tremaining: 2m 10s\n",
      "746:\tlearn: 0.8213771\ttotal: 6m 23s\tremaining: 2m 9s\n",
      "747:\tlearn: 0.8213620\ttotal: 6m 24s\tremaining: 2m 9s\n",
      "748:\tlearn: 0.8214618\ttotal: 6m 24s\tremaining: 2m 8s\n",
      "749:\tlearn: 0.8217855\ttotal: 6m 25s\tremaining: 2m 8s\n",
      "750:\tlearn: 0.8219399\ttotal: 6m 25s\tremaining: 2m 7s\n",
      "751:\tlearn: 0.8219399\ttotal: 6m 26s\tremaining: 2m 7s\n",
      "752:\tlearn: 0.8218052\ttotal: 6m 26s\tremaining: 2m 6s\n",
      "753:\tlearn: 0.8220246\ttotal: 6m 27s\tremaining: 2m 6s\n",
      "754:\tlearn: 0.8219549\ttotal: 6m 27s\tremaining: 2m 5s\n",
      "755:\tlearn: 0.8219201\ttotal: 6m 28s\tremaining: 2m 5s\n",
      "756:\tlearn: 0.8218702\ttotal: 6m 29s\tremaining: 2m 4s\n",
      "757:\tlearn: 0.8219201\ttotal: 6m 29s\tremaining: 2m 4s\n",
      "758:\tlearn: 0.8220594\ttotal: 6m 29s\tremaining: 2m 3s\n",
      "759:\tlearn: 0.8220095\ttotal: 6m 30s\tremaining: 2m 3s\n",
      "760:\tlearn: 0.8218900\ttotal: 6m 30s\tremaining: 2m 2s\n",
      "761:\tlearn: 0.8219399\ttotal: 6m 31s\tremaining: 2m 2s\n",
      "762:\tlearn: 0.8218006\ttotal: 6m 31s\tremaining: 2m 1s\n",
      "763:\tlearn: 0.8222043\ttotal: 6m 32s\tremaining: 2m 1s\n",
      "764:\tlearn: 0.8222043\ttotal: 6m 33s\tremaining: 2m\n",
      "765:\tlearn: 0.8222392\ttotal: 6m 33s\tremaining: 2m\n",
      "766:\tlearn: 0.8221347\ttotal: 6m 33s\tremaining: 1m 59s\n",
      "767:\tlearn: 0.8221695\ttotal: 6m 34s\tremaining: 1m 59s\n",
      "768:\tlearn: 0.8220350\ttotal: 6m 34s\tremaining: 1m 58s\n",
      "769:\tlearn: 0.8222345\ttotal: 6m 35s\tremaining: 1m 58s\n",
      "770:\tlearn: 0.8223840\ttotal: 6m 35s\tremaining: 1m 57s\n",
      "771:\tlearn: 0.8224339\ttotal: 6m 36s\tremaining: 1m 57s\n",
      "772:\tlearn: 0.8223642\ttotal: 6m 36s\tremaining: 1m 56s\n",
      "773:\tlearn: 0.8224141\ttotal: 6m 37s\tremaining: 1m 56s\n",
      "774:\tlearn: 0.8223793\ttotal: 6m 37s\tremaining: 1m 55s\n",
      "775:\tlearn: 0.8223793\ttotal: 6m 38s\tremaining: 1m 54s\n",
      "776:\tlearn: 0.8222646\ttotal: 6m 38s\tremaining: 1m 54s\n",
      "777:\tlearn: 0.8222994\ttotal: 6m 39s\tremaining: 1m 53s\n",
      "778:\tlearn: 0.8222994\ttotal: 6m 39s\tremaining: 1m 53s\n",
      "779:\tlearn: 0.8223991\ttotal: 6m 40s\tremaining: 1m 52s\n",
      "780:\tlearn: 0.8223492\ttotal: 6m 40s\tremaining: 1m 52s\n",
      "781:\tlearn: 0.8222646\ttotal: 6m 41s\tremaining: 1m 51s\n",
      "782:\tlearn: 0.8223342\ttotal: 6m 41s\tremaining: 1m 51s\n",
      "783:\tlearn: 0.8222646\ttotal: 6m 42s\tremaining: 1m 50s\n",
      "784:\tlearn: 0.8222345\ttotal: 6m 42s\tremaining: 1m 50s\n",
      "785:\tlearn: 0.8222345\ttotal: 6m 43s\tremaining: 1m 49s\n",
      "786:\tlearn: 0.8222796\ttotal: 6m 43s\tremaining: 1m 49s\n",
      "787:\tlearn: 0.8222946\ttotal: 6m 44s\tremaining: 1m 48s\n",
      "788:\tlearn: 0.8221451\ttotal: 6m 44s\tremaining: 1m 48s\n",
      "789:\tlearn: 0.8224188\ttotal: 6m 45s\tremaining: 1m 47s\n",
      "790:\tlearn: 0.8226878\ttotal: 6m 45s\tremaining: 1m 47s\n",
      "791:\tlearn: 0.8225533\ttotal: 6m 46s\tremaining: 1m 46s\n",
      "792:\tlearn: 0.8227377\ttotal: 6m 46s\tremaining: 1m 46s\n",
      "793:\tlearn: 0.8228373\ttotal: 6m 47s\tremaining: 1m 45s\n",
      "794:\tlearn: 0.8227875\ttotal: 6m 47s\tremaining: 1m 45s\n",
      "795:\tlearn: 0.8227178\ttotal: 6m 48s\tremaining: 1m 44s\n",
      "796:\tlearn: 0.8228523\ttotal: 6m 48s\tremaining: 1m 44s\n",
      "797:\tlearn: 0.8228523\ttotal: 6m 49s\tremaining: 1m 43s\n",
      "798:\tlearn: 0.8227329\ttotal: 6m 49s\tremaining: 1m 43s\n",
      "799:\tlearn: 0.8227479\ttotal: 6m 50s\tremaining: 1m 42s\n",
      "800:\tlearn: 0.8229471\ttotal: 6m 50s\tremaining: 1m 42s\n",
      "801:\tlearn: 0.8230467\ttotal: 6m 51s\tremaining: 1m 41s\n",
      "802:\tlearn: 0.8230467\ttotal: 6m 51s\tremaining: 1m 40s\n",
      "803:\tlearn: 0.8230964\ttotal: 6m 52s\tremaining: 1m 40s\n",
      "804:\tlearn: 0.8231960\ttotal: 6m 52s\tremaining: 1m 39s\n",
      "805:\tlearn: 0.8232110\ttotal: 6m 53s\tremaining: 1m 39s\n",
      "806:\tlearn: 0.8232110\ttotal: 6m 53s\tremaining: 1m 38s\n",
      "807:\tlearn: 0.8233204\ttotal: 6m 54s\tremaining: 1m 38s\n",
      "808:\tlearn: 0.8231710\ttotal: 6m 54s\tremaining: 1m 37s\n",
      "809:\tlearn: 0.8231062\ttotal: 6m 55s\tremaining: 1m 37s\n",
      "810:\tlearn: 0.8232257\ttotal: 6m 55s\tremaining: 1m 36s\n",
      "811:\tlearn: 0.8232257\ttotal: 6m 56s\tremaining: 1m 36s\n",
      "812:\tlearn: 0.8233103\ttotal: 6m 56s\tremaining: 1m 35s\n",
      "813:\tlearn: 0.8234099\ttotal: 6m 57s\tremaining: 1m 35s\n",
      "814:\tlearn: 0.8235493\ttotal: 6m 57s\tremaining: 1m 34s\n",
      "815:\tlearn: 0.8238730\ttotal: 6m 58s\tremaining: 1m 34s\n",
      "816:\tlearn: 0.8238879\ttotal: 6m 58s\tremaining: 1m 33s\n",
      "817:\tlearn: 0.8239726\ttotal: 6m 59s\tremaining: 1m 33s\n",
      "818:\tlearn: 0.8239428\ttotal: 6m 59s\tremaining: 1m 32s\n",
      "819:\tlearn: 0.8241270\ttotal: 7m\tremaining: 1m 32s\n",
      "820:\tlearn: 0.8242465\ttotal: 7m\tremaining: 1m 31s\n",
      "821:\tlearn: 0.8243312\ttotal: 7m 1s\tremaining: 1m 31s\n",
      "822:\tlearn: 0.8242614\ttotal: 7m 1s\tremaining: 1m 30s\n",
      "823:\tlearn: 0.8243112\ttotal: 7m 2s\tremaining: 1m 30s\n",
      "824:\tlearn: 0.8243609\ttotal: 7m 2s\tremaining: 1m 29s\n",
      "825:\tlearn: 0.8243907\ttotal: 7m 3s\tremaining: 1m 29s\n",
      "826:\tlearn: 0.8243060\ttotal: 7m 3s\tremaining: 1m 28s\n",
      "827:\tlearn: 0.8244404\ttotal: 7m 4s\tremaining: 1m 28s\n",
      "828:\tlearn: 0.8244901\ttotal: 7m 4s\tremaining: 1m 27s\n",
      "829:\tlearn: 0.8246445\ttotal: 7m 5s\tremaining: 1m 27s\n",
      "830:\tlearn: 0.8247937\ttotal: 7m 5s\tremaining: 1m 26s\n",
      "831:\tlearn: 0.8249482\ttotal: 7m 6s\tremaining: 1m 26s\n",
      "832:\tlearn: 0.8252168\ttotal: 7m 6s\tremaining: 1m 25s\n",
      "833:\tlearn: 0.8253807\ttotal: 7m 7s\tremaining: 1m 25s\n",
      "834:\tlearn: 0.8253659\ttotal: 7m 7s\tremaining: 1m 24s\n",
      "835:\tlearn: 0.8254505\ttotal: 7m 8s\tremaining: 1m 24s\n",
      "836:\tlearn: 0.8255352\ttotal: 7m 8s\tremaining: 1m 23s\n",
      "837:\tlearn: 0.8254653\ttotal: 7m 9s\tremaining: 1m 23s\n",
      "838:\tlearn: 0.8254653\ttotal: 7m 9s\tremaining: 1m 22s\n",
      "839:\tlearn: 0.8255352\ttotal: 7m 10s\tremaining: 1m 21s\n",
      "840:\tlearn: 0.8256694\ttotal: 7m 10s\tremaining: 1m 21s\n",
      "841:\tlearn: 0.8256198\ttotal: 7m 11s\tremaining: 1m 20s\n",
      "842:\tlearn: 0.8256896\ttotal: 7m 11s\tremaining: 1m 20s\n",
      "843:\tlearn: 0.8257890\ttotal: 7m 12s\tremaining: 1m 19s\n",
      "844:\tlearn: 0.8259435\ttotal: 7m 12s\tremaining: 1m 19s\n",
      "845:\tlearn: 0.8259784\ttotal: 7m 13s\tremaining: 1m 18s\n",
      "846:\tlearn: 0.8260778\ttotal: 7m 13s\tremaining: 1m 18s\n",
      "847:\tlearn: 0.8260630\ttotal: 7m 14s\tremaining: 1m 17s\n",
      "848:\tlearn: 0.8263113\ttotal: 7m 14s\tremaining: 1m 17s\n",
      "849:\tlearn: 0.8262764\ttotal: 7m 15s\tremaining: 1m 16s\n",
      "850:\tlearn: 0.8263058\ttotal: 7m 15s\tremaining: 1m 16s\n",
      "851:\tlearn: 0.8262561\ttotal: 7m 16s\tremaining: 1m 15s\n",
      "852:\tlearn: 0.8262212\ttotal: 7m 16s\tremaining: 1m 15s\n",
      "853:\tlearn: 0.8265392\ttotal: 7m 17s\tremaining: 1m 14s\n",
      "854:\tlearn: 0.8266238\ttotal: 7m 17s\tremaining: 1m 14s\n",
      "855:\tlearn: 0.8266035\ttotal: 7m 18s\tremaining: 1m 13s\n",
      "856:\tlearn: 0.8266734\ttotal: 7m 18s\tremaining: 1m 13s\n",
      "857:\tlearn: 0.8267930\ttotal: 7m 19s\tremaining: 1m 12s\n",
      "858:\tlearn: 0.8267084\ttotal: 7m 19s\tremaining: 1m 12s\n",
      "859:\tlearn: 0.8267580\ttotal: 7m 20s\tremaining: 1m 11s\n",
      "860:\tlearn: 0.8267727\ttotal: 7m 20s\tremaining: 1m 11s\n",
      "861:\tlearn: 0.8268369\ttotal: 7m 21s\tremaining: 1m 10s\n",
      "862:\tlearn: 0.8269710\ttotal: 7m 21s\tremaining: 1m 10s\n",
      "863:\tlearn: 0.8269857\ttotal: 7m 22s\tremaining: 1m 9s\n",
      "864:\tlearn: 0.8270848\ttotal: 7m 22s\tremaining: 1m 9s\n",
      "865:\tlearn: 0.8270499\ttotal: 7m 23s\tremaining: 1m 8s\n",
      "866:\tlearn: 0.8268865\ttotal: 7m 23s\tremaining: 1m 8s\n",
      "867:\tlearn: 0.8268865\ttotal: 7m 24s\tremaining: 1m 7s\n",
      "868:\tlearn: 0.8269710\ttotal: 7m 24s\tremaining: 1m 7s\n",
      "869:\tlearn: 0.8270702\ttotal: 7m 25s\tremaining: 1m 6s\n",
      "870:\tlearn: 0.8271751\ttotal: 7m 25s\tremaining: 1m 6s\n",
      "871:\tlearn: 0.8273500\ttotal: 7m 26s\tremaining: 1m 5s\n",
      "872:\tlearn: 0.8273850\ttotal: 7m 26s\tremaining: 1m 4s\n",
      "873:\tlearn: 0.8273150\ttotal: 7m 27s\tremaining: 1m 4s\n",
      "874:\tlearn: 0.8274142\ttotal: 7m 27s\tremaining: 1m 3s\n",
      "875:\tlearn: 0.8275629\ttotal: 7m 28s\tremaining: 1m 3s\n",
      "876:\tlearn: 0.8276124\ttotal: 7m 28s\tremaining: 1m 2s\n",
      "877:\tlearn: 0.8276416\ttotal: 7m 29s\tremaining: 1m 2s\n",
      "878:\tlearn: 0.8277611\ttotal: 7m 30s\tremaining: 1m 1s\n",
      "879:\tlearn: 0.8277961\ttotal: 7m 30s\tremaining: 1m 1s\n",
      "880:\tlearn: 0.8278952\ttotal: 7m 30s\tremaining: 1m\n",
      "881:\tlearn: 0.8278952\ttotal: 7m 31s\tremaining: 1m\n",
      "882:\tlearn: 0.8278747\ttotal: 7m 31s\tremaining: 59.9s\n",
      "883:\tlearn: 0.8278398\ttotal: 7m 32s\tremaining: 59.4s\n",
      "884:\tlearn: 0.8278543\ttotal: 7m 32s\tremaining: 58.9s\n",
      "885:\tlearn: 0.8278689\ttotal: 7m 33s\tremaining: 58.3s\n",
      "886:\tlearn: 0.8278339\ttotal: 7m 33s\tremaining: 57.8s\n",
      "887:\tlearn: 0.8276853\ttotal: 7m 34s\tremaining: 57.3s\n",
      "888:\tlearn: 0.8277698\ttotal: 7m 34s\tremaining: 56.8s\n",
      "889:\tlearn: 0.8277698\ttotal: 7m 35s\tremaining: 56.3s\n",
      "890:\tlearn: 0.8277348\ttotal: 7m 35s\tremaining: 55.7s\n",
      "891:\tlearn: 0.8275862\ttotal: 7m 36s\tremaining: 55.2s\n",
      "892:\tlearn: 0.8275512\ttotal: 7m 36s\tremaining: 54.7s\n",
      "893:\tlearn: 0.8277203\ttotal: 7m 37s\tremaining: 54.2s\n",
      "894:\tlearn: 0.8277144\ttotal: 7m 37s\tremaining: 53.7s\n",
      "895:\tlearn: 0.8277785\ttotal: 7m 38s\tremaining: 53.2s\n",
      "896:\tlearn: 0.8278280\ttotal: 7m 38s\tremaining: 52.7s\n",
      "897:\tlearn: 0.8279475\ttotal: 7m 39s\tremaining: 52.1s\n",
      "898:\tlearn: 0.8279970\ttotal: 7m 39s\tremaining: 51.6s\n",
      "899:\tlearn: 0.8279125\ttotal: 7m 40s\tremaining: 51.1s\n",
      "900:\tlearn: 0.8280260\ttotal: 7m 40s\tremaining: 50.6s\n",
      "901:\tlearn: 0.8279765\ttotal: 7m 41s\tremaining: 50.1s\n",
      "902:\tlearn: 0.8280260\ttotal: 7m 41s\tremaining: 49.6s\n",
      "903:\tlearn: 0.8280405\ttotal: 7m 42s\tremaining: 49.1s\n",
      "904:\tlearn: 0.8281600\ttotal: 7m 42s\tremaining: 48.6s\n",
      "905:\tlearn: 0.8282589\ttotal: 7m 43s\tremaining: 48s\n",
      "906:\tlearn: 0.8281600\ttotal: 7m 43s\tremaining: 47.5s\n",
      "907:\tlearn: 0.8280551\ttotal: 7m 44s\tremaining: 47s\n",
      "908:\tlearn: 0.8285268\ttotal: 7m 44s\tremaining: 46.5s\n",
      "909:\tlearn: 0.8286607\ttotal: 7m 45s\tremaining: 46s\n",
      "910:\tlearn: 0.8286752\ttotal: 7m 45s\tremaining: 45.5s\n",
      "911:\tlearn: 0.8288440\ttotal: 7m 46s\tremaining: 45s\n",
      "912:\tlearn: 0.8288380\ttotal: 7m 46s\tremaining: 44.5s\n",
      "913:\tlearn: 0.8293651\ttotal: 7m 47s\tremaining: 44s\n",
      "914:\tlearn: 0.8293795\ttotal: 7m 47s\tremaining: 43.4s\n",
      "915:\tlearn: 0.8293795\ttotal: 7m 48s\tremaining: 42.9s\n",
      "916:\tlearn: 0.8294001\ttotal: 7m 48s\tremaining: 42.4s\n",
      "917:\tlearn: 0.8291674\ttotal: 7m 49s\tremaining: 41.9s\n",
      "918:\tlearn: 0.8295258\ttotal: 7m 49s\tremaining: 41.4s\n",
      "919:\tlearn: 0.8294764\ttotal: 7m 50s\tremaining: 40.9s\n",
      "920:\tlearn: 0.8294970\ttotal: 7m 50s\tremaining: 40.4s\n",
      "921:\tlearn: 0.8294269\ttotal: 7m 51s\tremaining: 39.9s\n",
      "922:\tlearn: 0.8294557\ttotal: 7m 51s\tremaining: 39.3s\n",
      "923:\tlearn: 0.8295402\ttotal: 7m 52s\tremaining: 38.8s\n",
      "924:\tlearn: 0.8296040\ttotal: 7m 52s\tremaining: 38.3s\n",
      "925:\tlearn: 0.8299211\ttotal: 7m 53s\tremaining: 37.8s\n",
      "926:\tlearn: 0.8299274\ttotal: 7m 53s\tremaining: 37.3s\n",
      "927:\tlearn: 0.8298429\ttotal: 7m 54s\tremaining: 36.8s\n",
      "928:\tlearn: 0.8297091\ttotal: 7m 54s\tremaining: 36.3s\n",
      "929:\tlearn: 0.8296597\ttotal: 7m 55s\tremaining: 35.8s\n",
      "930:\tlearn: 0.8297235\ttotal: 7m 55s\tremaining: 35.3s\n",
      "931:\tlearn: 0.8297235\ttotal: 7m 56s\tremaining: 34.7s\n",
      "932:\tlearn: 0.8297235\ttotal: 7m 56s\tremaining: 34.2s\n",
      "933:\tlearn: 0.8298079\ttotal: 7m 57s\tremaining: 33.7s\n",
      "934:\tlearn: 0.8298717\ttotal: 7m 57s\tremaining: 33.2s\n",
      "935:\tlearn: 0.8298717\ttotal: 7m 58s\tremaining: 32.7s\n",
      "936:\tlearn: 0.8299067\ttotal: 7m 58s\tremaining: 32.2s\n",
      "937:\tlearn: 0.8301600\ttotal: 7m 59s\tremaining: 31.7s\n",
      "938:\tlearn: 0.8300612\ttotal: 7m 59s\tremaining: 31.2s\n",
      "939:\tlearn: 0.8300262\ttotal: 8m\tremaining: 30.6s\n",
      "940:\tlearn: 0.8303225\ttotal: 8m\tremaining: 30.1s\n",
      "941:\tlearn: 0.8303225\ttotal: 8m 1s\tremaining: 29.6s\n",
      "942:\tlearn: 0.8304913\ttotal: 8m 1s\tremaining: 29.1s\n",
      "943:\tlearn: 0.8305056\ttotal: 8m 2s\tremaining: 28.6s\n",
      "944:\tlearn: 0.8304913\ttotal: 8m 2s\tremaining: 28.1s\n",
      "945:\tlearn: 0.8305264\ttotal: 8m 3s\tremaining: 27.6s\n",
      "946:\tlearn: 0.8306251\ttotal: 8m 3s\tremaining: 27.1s\n",
      "947:\tlearn: 0.8305199\ttotal: 8m 4s\tremaining: 26.6s\n",
      "948:\tlearn: 0.8305693\ttotal: 8m 4s\tremaining: 26s\n",
      "949:\tlearn: 0.8305693\ttotal: 8m 5s\tremaining: 25.5s\n",
      "950:\tlearn: 0.8305199\ttotal: 8m 5s\tremaining: 25s\n",
      "951:\tlearn: 0.8305342\ttotal: 8m 6s\tremaining: 24.5s\n",
      "952:\tlearn: 0.8306043\ttotal: 8m 6s\tremaining: 24s\n",
      "953:\tlearn: 0.8306043\ttotal: 8m 7s\tremaining: 23.5s\n",
      "954:\tlearn: 0.8306537\ttotal: 8m 7s\tremaining: 23s\n",
      "955:\tlearn: 0.8306186\ttotal: 8m 7s\tremaining: 22.5s\n",
      "956:\tlearn: 0.8306186\ttotal: 8m 8s\tremaining: 21.9s\n",
      "957:\tlearn: 0.8306186\ttotal: 8m 8s\tremaining: 21.4s\n",
      "958:\tlearn: 0.8307030\ttotal: 8m 9s\tremaining: 20.9s\n",
      "959:\tlearn: 0.8308082\ttotal: 8m 9s\tremaining: 20.4s\n",
      "960:\tlearn: 0.8308433\ttotal: 8m 10s\tremaining: 19.9s\n",
      "961:\tlearn: 0.8308926\ttotal: 8m 10s\tremaining: 19.4s\n",
      "962:\tlearn: 0.8309770\ttotal: 8m 11s\tremaining: 18.9s\n",
      "963:\tlearn: 0.8309770\ttotal: 8m 11s\tremaining: 18.4s\n",
      "964:\tlearn: 0.8308926\ttotal: 8m 12s\tremaining: 17.9s\n",
      "965:\tlearn: 0.8310263\ttotal: 8m 12s\tremaining: 17.4s\n",
      "966:\tlearn: 0.8310263\ttotal: 8m 13s\tremaining: 16.8s\n",
      "967:\tlearn: 0.8310263\ttotal: 8m 13s\tremaining: 16.3s\n",
      "968:\tlearn: 0.8311743\ttotal: 8m 14s\tremaining: 15.8s\n",
      "969:\tlearn: 0.8312795\ttotal: 8m 14s\tremaining: 15.3s\n",
      "970:\tlearn: 0.8312795\ttotal: 8m 15s\tremaining: 14.8s\n",
      "971:\tlearn: 0.8312160\ttotal: 8m 15s\tremaining: 14.3s\n",
      "972:\tlearn: 0.8312160\ttotal: 8m 16s\tremaining: 13.8s\n",
      "973:\tlearn: 0.8312653\ttotal: 8m 16s\tremaining: 13.3s\n",
      "974:\tlearn: 0.8312653\ttotal: 8m 17s\tremaining: 12.8s\n",
      "975:\tlearn: 0.8312445\ttotal: 8m 17s\tremaining: 12.2s\n",
      "976:\tlearn: 0.8314692\ttotal: 8m 18s\tremaining: 11.7s\n",
      "977:\tlearn: 0.8315394\ttotal: 8m 18s\tremaining: 11.2s\n",
      "978:\tlearn: 0.8315887\ttotal: 8m 19s\tremaining: 10.7s\n",
      "979:\tlearn: 0.8316731\ttotal: 8m 19s\tremaining: 10.2s\n",
      "980:\tlearn: 0.8316380\ttotal: 8m 20s\tremaining: 9.69s\n",
      "981:\tlearn: 0.8317367\ttotal: 8m 20s\tremaining: 9.18s\n",
      "982:\tlearn: 0.8318562\ttotal: 8m 21s\tremaining: 8.67s\n",
      "983:\tlearn: 0.8319055\ttotal: 8m 21s\tremaining: 8.16s\n",
      "984:\tlearn: 0.8318494\ttotal: 8m 22s\tremaining: 7.65s\n",
      "985:\tlearn: 0.8319899\ttotal: 8m 22s\tremaining: 7.14s\n",
      "986:\tlearn: 0.8319264\ttotal: 8m 23s\tremaining: 6.63s\n",
      "987:\tlearn: 0.8319757\ttotal: 8m 23s\tremaining: 6.12s\n",
      "988:\tlearn: 0.8319689\ttotal: 8m 24s\tremaining: 5.61s\n",
      "989:\tlearn: 0.8319689\ttotal: 8m 24s\tremaining: 5.1s\n",
      "990:\tlearn: 0.8320182\ttotal: 8m 25s\tremaining: 4.59s\n",
      "991:\tlearn: 0.8321310\ttotal: 8m 25s\tremaining: 4.08s\n",
      "992:\tlearn: 0.8319831\ttotal: 8m 26s\tremaining: 3.57s\n",
      "993:\tlearn: 0.8319831\ttotal: 8m 27s\tremaining: 3.06s\n",
      "994:\tlearn: 0.8319480\ttotal: 8m 27s\tremaining: 2.55s\n",
      "995:\tlearn: 0.8321661\ttotal: 8m 27s\tremaining: 2.04s\n",
      "996:\tlearn: 0.8322221\ttotal: 8m 28s\tremaining: 1.53s\n",
      "997:\tlearn: 0.8323416\ttotal: 8m 28s\tremaining: 1.02s\n",
      "998:\tlearn: 0.8323626\ttotal: 8m 29s\tremaining: 510ms\n",
      "999:\tlearn: 0.8323133\ttotal: 8m 29s\tremaining: 0us\n"
     ]
    },
    {
     "data": {
      "text/plain": [
       "<catboost.core.CatBoostClassifier at 0x7f88c9bafac0>"
      ]
     },
     "execution_count": 60,
     "metadata": {},
     "output_type": "execute_result"
    }
   ],
   "source": [
    "cb.fit(pool)"
   ]
  },
  {
   "cell_type": "markdown",
   "metadata": {},
   "source": [
    "## Выводы"
   ]
  },
  {
   "cell_type": "code",
   "execution_count": 61,
   "metadata": {},
   "outputs": [],
   "source": [
    "# соберем результаты моделей в таблицу\n",
    "results = pd.DataFrame(index=[['LogReg', 'LinearSVC', 'Catboost']], \n",
    "                       columns=['f1'],\n",
    "                       data=[lr_best_score, lsvc_best_score, 0.7760034527])"
   ]
  },
  {
   "cell_type": "code",
   "execution_count": 62,
   "metadata": {},
   "outputs": [
    {
     "data": {
      "text/html": [
       "<div>\n",
       "<style scoped>\n",
       "    .dataframe tbody tr th:only-of-type {\n",
       "        vertical-align: middle;\n",
       "    }\n",
       "\n",
       "    .dataframe tbody tr th {\n",
       "        vertical-align: top;\n",
       "    }\n",
       "\n",
       "    .dataframe thead th {\n",
       "        text-align: right;\n",
       "    }\n",
       "</style>\n",
       "<table border=\"1\" class=\"dataframe\">\n",
       "  <thead>\n",
       "    <tr style=\"text-align: right;\">\n",
       "      <th></th>\n",
       "      <th>f1</th>\n",
       "    </tr>\n",
       "  </thead>\n",
       "  <tbody>\n",
       "    <tr>\n",
       "      <th>LogReg</th>\n",
       "      <td>0.751356</td>\n",
       "    </tr>\n",
       "    <tr>\n",
       "      <th>LinearSVC</th>\n",
       "      <td>0.758468</td>\n",
       "    </tr>\n",
       "    <tr>\n",
       "      <th>Catboost</th>\n",
       "      <td>0.776003</td>\n",
       "    </tr>\n",
       "  </tbody>\n",
       "</table>\n",
       "</div>"
      ],
      "text/plain": [
       "                 f1\n",
       "LogReg     0.751356\n",
       "LinearSVC  0.758468\n",
       "Catboost   0.776003"
      ]
     },
     "execution_count": 62,
     "metadata": {},
     "output_type": "execute_result"
    }
   ],
   "source": [
    "results"
   ]
  },
  {
   "cell_type": "code",
   "execution_count": 63,
   "metadata": {},
   "outputs": [
    {
     "data": {
      "text/plain": [
       "0.7855172413793104"
      ]
     },
     "execution_count": 63,
     "metadata": {},
     "output_type": "execute_result"
    }
   ],
   "source": [
    "# протестируем лучшую модель\n",
    "\n",
    "predictions = cb.predict(features_test[['lemm_text']])\n",
    "f1_score(target_test, predictions)"
   ]
  },
  {
   "cell_type": "code",
   "execution_count": 64,
   "metadata": {},
   "outputs": [
    {
     "data": {
      "text/plain": [
       "0.18296404026577695"
      ]
     },
     "execution_count": 64,
     "metadata": {},
     "output_type": "execute_result"
    }
   ],
   "source": [
    "# проверим модель на адекватнось\n",
    "dummy = DummyClassifier(strategy='constant', constant=1)\n",
    "dummy.fit(features, target)\n",
    "predictions = dummy.predict(features_test)\n",
    "f1_score(target_test, predictions)"
   ]
  },
  {
   "cell_type": "markdown",
   "metadata": {},
   "source": [
    "**Общий вывод**\n",
    "\n",
    "Мы подготовили текстовые данные с разметкой о токсичности правок для обучения моделей классификации:\n",
    "\n",
    "- Лемматизировали и очистили тексты от лишних знаков и пробелов;\n",
    "- Разделили данные на обучающую и тестовую выборки:\n",
    "- Создали матрицу cо значениями TF-IDF, указав стоп-слова.\n",
    "\n",
    "Мы обучили три модели с перебором гиперпараметров: `Логистическую ререссию`, `Случайный лес` и `CatBoostClassifier`.\n",
    "\n",
    "Лучший результат на кросс-валидации показала модель `CatBoostClassifier`.\n",
    "\n",
    "На тестовой выборке `f1` данной модели составила **0.79**."
   ]
  }
 ],
 "metadata": {
  "ExecuteTimeLog": [
   {
    "duration": 4545,
    "start_time": "2023-03-22T05:42:44.961Z"
   },
   {
    "duration": 4213,
    "start_time": "2023-03-22T05:52:13.390Z"
   },
   {
    "duration": 1310,
    "start_time": "2023-03-22T05:52:17.606Z"
   },
   {
    "duration": 33,
    "start_time": "2023-03-22T05:52:18.918Z"
   },
   {
    "duration": 15,
    "start_time": "2023-03-22T05:52:18.954Z"
   },
   {
    "duration": 33,
    "start_time": "2023-03-22T05:52:18.971Z"
   },
   {
    "duration": 252,
    "start_time": "2023-03-22T05:52:19.005Z"
   },
   {
    "duration": 6,
    "start_time": "2023-03-22T05:52:19.259Z"
   },
   {
    "duration": 25,
    "start_time": "2023-03-22T05:52:19.267Z"
   },
   {
    "duration": 8658,
    "start_time": "2023-03-22T05:52:19.294Z"
   },
   {
    "duration": 10152,
    "start_time": "2023-03-22T05:52:27.956Z"
   },
   {
    "duration": 387,
    "start_time": "2023-03-22T05:52:38.110Z"
   },
   {
    "duration": 0,
    "start_time": "2023-03-22T05:52:38.499Z"
   },
   {
    "duration": 68,
    "start_time": "2023-03-22T05:53:59.643Z"
   },
   {
    "duration": 4637,
    "start_time": "2023-03-22T05:54:18.658Z"
   },
   {
    "duration": 1407,
    "start_time": "2023-03-22T05:54:23.297Z"
   },
   {
    "duration": 45,
    "start_time": "2023-03-22T05:54:24.707Z"
   },
   {
    "duration": 24,
    "start_time": "2023-03-22T05:54:24.755Z"
   },
   {
    "duration": 43,
    "start_time": "2023-03-22T05:54:24.782Z"
   },
   {
    "duration": 293,
    "start_time": "2023-03-22T05:54:24.828Z"
   },
   {
    "duration": 7,
    "start_time": "2023-03-22T05:54:25.123Z"
   },
   {
    "duration": 11,
    "start_time": "2023-03-22T05:54:25.132Z"
   },
   {
    "duration": 5686,
    "start_time": "2023-03-22T05:54:25.145Z"
   },
   {
    "duration": 9871,
    "start_time": "2023-03-22T05:54:30.835Z"
   },
   {
    "duration": 4334,
    "start_time": "2023-03-22T06:06:19.018Z"
   },
   {
    "duration": 1248,
    "start_time": "2023-03-22T06:06:23.354Z"
   },
   {
    "duration": 34,
    "start_time": "2023-03-22T06:06:24.605Z"
   },
   {
    "duration": 16,
    "start_time": "2023-03-22T06:06:24.641Z"
   },
   {
    "duration": 42,
    "start_time": "2023-03-22T06:06:24.659Z"
   },
   {
    "duration": 254,
    "start_time": "2023-03-22T06:06:24.703Z"
   },
   {
    "duration": 8,
    "start_time": "2023-03-22T06:06:24.960Z"
   },
   {
    "duration": 11,
    "start_time": "2023-03-22T06:06:24.970Z"
   },
   {
    "duration": 5823,
    "start_time": "2023-03-22T06:06:24.998Z"
   },
   {
    "duration": 9697,
    "start_time": "2023-03-22T06:06:30.823Z"
   },
   {
    "duration": 404,
    "start_time": "2023-03-22T06:06:40.524Z"
   },
   {
    "duration": 0,
    "start_time": "2023-03-22T06:06:40.929Z"
   },
   {
    "duration": 61,
    "start_time": "2023-03-22T06:17:49.851Z"
   },
   {
    "duration": 1009,
    "start_time": "2023-03-22T06:18:26.197Z"
   },
   {
    "duration": 79483,
    "start_time": "2023-03-22T06:22:07.168Z"
   },
   {
    "duration": 21,
    "start_time": "2023-03-22T06:24:38.779Z"
   },
   {
    "duration": 82488,
    "start_time": "2023-03-22T06:29:14.034Z"
   },
   {
    "duration": 27,
    "start_time": "2023-03-22T06:31:21.070Z"
   },
   {
    "duration": 21,
    "start_time": "2023-03-22T06:32:13.764Z"
   },
   {
    "duration": 19,
    "start_time": "2023-03-22T06:32:22.660Z"
   },
   {
    "duration": 20,
    "start_time": "2023-03-22T06:35:59.305Z"
   },
   {
    "duration": 21,
    "start_time": "2023-03-22T06:43:27.834Z"
   },
   {
    "duration": 22,
    "start_time": "2023-03-22T06:49:08.812Z"
   },
   {
    "duration": 101,
    "start_time": "2023-03-22T06:57:04.941Z"
   },
   {
    "duration": 21,
    "start_time": "2023-03-22T06:57:25.222Z"
   },
   {
    "duration": 20,
    "start_time": "2023-03-22T06:58:46.077Z"
   },
   {
    "duration": 25,
    "start_time": "2023-03-22T06:59:10.624Z"
   },
   {
    "duration": 189,
    "start_time": "2023-03-22T08:49:22.620Z"
   },
   {
    "duration": 22,
    "start_time": "2023-03-22T08:51:49.070Z"
   },
   {
    "duration": 20,
    "start_time": "2023-03-22T08:52:26.500Z"
   },
   {
    "duration": 18,
    "start_time": "2023-03-22T08:52:33.005Z"
   },
   {
    "duration": 27,
    "start_time": "2023-03-22T08:52:41.797Z"
   },
   {
    "duration": 20,
    "start_time": "2023-03-22T08:53:15.665Z"
   },
   {
    "duration": 89466,
    "start_time": "2023-03-22T08:53:33.139Z"
   },
   {
    "duration": 7,
    "start_time": "2023-03-22T08:55:02.607Z"
   },
   {
    "duration": 17,
    "start_time": "2023-03-22T08:55:44.376Z"
   },
   {
    "duration": 37,
    "start_time": "2023-03-22T08:55:53.519Z"
   },
   {
    "duration": 34,
    "start_time": "2023-03-22T08:57:06.017Z"
   },
   {
    "duration": 95832,
    "start_time": "2023-03-22T08:58:05.649Z"
   },
   {
    "duration": 7,
    "start_time": "2023-03-22T08:59:47.935Z"
   },
   {
    "duration": 33,
    "start_time": "2023-03-22T08:59:49.455Z"
   },
   {
    "duration": 25,
    "start_time": "2023-03-22T09:07:25.075Z"
   },
   {
    "duration": 61,
    "start_time": "2023-03-22T09:08:01.676Z"
   },
   {
    "duration": 11148,
    "start_time": "2023-03-22T09:13:02.234Z"
   },
   {
    "duration": 4,
    "start_time": "2023-03-22T09:13:45.225Z"
   },
   {
    "duration": 5,
    "start_time": "2023-03-22T09:13:46.884Z"
   },
   {
    "duration": 4963,
    "start_time": "2023-03-22T09:15:07.724Z"
   },
   {
    "duration": 1306,
    "start_time": "2023-03-22T09:15:12.690Z"
   },
   {
    "duration": 35,
    "start_time": "2023-03-22T09:15:13.998Z"
   },
   {
    "duration": 16,
    "start_time": "2023-03-22T09:15:14.035Z"
   },
   {
    "duration": 50,
    "start_time": "2023-03-22T09:15:14.052Z"
   },
   {
    "duration": 262,
    "start_time": "2023-03-22T09:15:14.104Z"
   },
   {
    "duration": 6,
    "start_time": "2023-03-22T09:15:14.368Z"
   },
   {
    "duration": 22,
    "start_time": "2023-03-22T09:15:14.376Z"
   },
   {
    "duration": 6135,
    "start_time": "2023-03-22T09:15:14.400Z"
   },
   {
    "duration": 9571,
    "start_time": "2023-03-22T09:15:20.538Z"
   },
   {
    "duration": 200,
    "start_time": "2023-03-22T09:15:30.111Z"
   },
   {
    "duration": 0,
    "start_time": "2023-03-22T09:15:30.313Z"
   },
   {
    "duration": 0,
    "start_time": "2023-03-22T09:15:30.314Z"
   },
   {
    "duration": 0,
    "start_time": "2023-03-22T09:15:30.316Z"
   },
   {
    "duration": 0,
    "start_time": "2023-03-22T09:15:30.318Z"
   },
   {
    "duration": 0,
    "start_time": "2023-03-22T09:15:30.320Z"
   },
   {
    "duration": 0,
    "start_time": "2023-03-22T09:15:30.321Z"
   },
   {
    "duration": 0,
    "start_time": "2023-03-22T09:15:30.323Z"
   },
   {
    "duration": 69138,
    "start_time": "2023-03-22T09:15:55.412Z"
   },
   {
    "duration": 7,
    "start_time": "2023-03-22T09:17:04.552Z"
   },
   {
    "duration": 10389,
    "start_time": "2023-03-22T09:17:04.562Z"
   },
   {
    "duration": 5,
    "start_time": "2023-03-22T09:17:14.953Z"
   },
   {
    "duration": 18,
    "start_time": "2023-03-22T09:17:14.960Z"
   },
   {
    "duration": 52,
    "start_time": "2023-03-22T09:18:02.894Z"
   },
   {
    "duration": 4495,
    "start_time": "2023-03-22T09:18:18.421Z"
   },
   {
    "duration": 1341,
    "start_time": "2023-03-22T09:18:22.919Z"
   },
   {
    "duration": 39,
    "start_time": "2023-03-22T09:18:24.262Z"
   },
   {
    "duration": 22,
    "start_time": "2023-03-22T09:18:24.304Z"
   },
   {
    "duration": 29,
    "start_time": "2023-03-22T09:18:24.328Z"
   },
   {
    "duration": 257,
    "start_time": "2023-03-22T09:18:24.501Z"
   },
   {
    "duration": 6,
    "start_time": "2023-03-22T09:18:25.908Z"
   },
   {
    "duration": 9,
    "start_time": "2023-03-22T09:18:26.933Z"
   },
   {
    "duration": 6078,
    "start_time": "2023-03-22T09:18:28.572Z"
   },
   {
    "duration": 9463,
    "start_time": "2023-03-22T09:18:34.652Z"
   },
   {
    "duration": 66338,
    "start_time": "2023-03-22T09:18:44.117Z"
   },
   {
    "duration": 7,
    "start_time": "2023-03-22T09:19:50.457Z"
   },
   {
    "duration": 9484,
    "start_time": "2023-03-22T09:19:50.466Z"
   },
   {
    "duration": 5,
    "start_time": "2023-03-22T09:19:59.952Z"
   },
   {
    "duration": 8,
    "start_time": "2023-03-22T09:19:59.960Z"
   },
   {
    "duration": 294,
    "start_time": "2023-03-22T09:19:59.969Z"
   },
   {
    "duration": 0,
    "start_time": "2023-03-22T09:20:00.265Z"
   },
   {
    "duration": 24,
    "start_time": "2023-03-22T09:20:07.871Z"
   },
   {
    "duration": 4450,
    "start_time": "2023-03-22T09:21:42.318Z"
   },
   {
    "duration": 1416,
    "start_time": "2023-03-22T09:21:46.771Z"
   },
   {
    "duration": 38,
    "start_time": "2023-03-22T09:21:48.189Z"
   },
   {
    "duration": 19,
    "start_time": "2023-03-22T09:21:48.230Z"
   },
   {
    "duration": 31,
    "start_time": "2023-03-22T09:21:48.251Z"
   },
   {
    "duration": 268,
    "start_time": "2023-03-22T09:21:48.298Z"
   },
   {
    "duration": 8,
    "start_time": "2023-03-22T09:21:48.568Z"
   },
   {
    "duration": 30,
    "start_time": "2023-03-22T09:21:48.578Z"
   },
   {
    "duration": 6087,
    "start_time": "2023-03-22T09:21:48.610Z"
   },
   {
    "duration": 9422,
    "start_time": "2023-03-22T09:21:54.699Z"
   },
   {
    "duration": 69099,
    "start_time": "2023-03-22T09:22:04.199Z"
   },
   {
    "duration": 11,
    "start_time": "2023-03-22T09:23:13.301Z"
   },
   {
    "duration": 10304,
    "start_time": "2023-03-22T09:23:13.314Z"
   },
   {
    "duration": 5,
    "start_time": "2023-03-22T09:23:23.620Z"
   },
   {
    "duration": 15,
    "start_time": "2023-03-22T09:23:23.626Z"
   },
   {
    "duration": 4467,
    "start_time": "2023-03-22T09:24:15.914Z"
   },
   {
    "duration": 1421,
    "start_time": "2023-03-22T09:24:20.384Z"
   },
   {
    "duration": 37,
    "start_time": "2023-03-22T09:24:21.807Z"
   },
   {
    "duration": 16,
    "start_time": "2023-03-22T09:24:21.846Z"
   },
   {
    "duration": 45,
    "start_time": "2023-03-22T09:24:21.864Z"
   },
   {
    "duration": 283,
    "start_time": "2023-03-22T09:24:21.911Z"
   },
   {
    "duration": 14,
    "start_time": "2023-03-22T09:24:22.199Z"
   },
   {
    "duration": 20,
    "start_time": "2023-03-22T09:24:22.215Z"
   },
   {
    "duration": 5697,
    "start_time": "2023-03-22T09:24:24.735Z"
   },
   {
    "duration": 9683,
    "start_time": "2023-03-22T09:24:30.436Z"
   },
   {
    "duration": 66664,
    "start_time": "2023-03-22T09:24:40.121Z"
   },
   {
    "duration": 11,
    "start_time": "2023-03-22T09:25:46.788Z"
   },
   {
    "duration": 9678,
    "start_time": "2023-03-22T09:25:46.801Z"
   },
   {
    "duration": 4,
    "start_time": "2023-03-22T09:25:56.481Z"
   },
   {
    "duration": 51,
    "start_time": "2023-03-22T09:57:57.382Z"
   },
   {
    "duration": 4644,
    "start_time": "2023-03-22T09:58:11.776Z"
   },
   {
    "duration": 1324,
    "start_time": "2023-03-22T09:58:16.423Z"
   },
   {
    "duration": 38,
    "start_time": "2023-03-22T09:58:17.748Z"
   },
   {
    "duration": 19,
    "start_time": "2023-03-22T09:58:17.788Z"
   },
   {
    "duration": 36,
    "start_time": "2023-03-22T09:58:17.809Z"
   },
   {
    "duration": 280,
    "start_time": "2023-03-22T09:58:17.847Z"
   },
   {
    "duration": 7,
    "start_time": "2023-03-22T09:58:18.129Z"
   },
   {
    "duration": 28,
    "start_time": "2023-03-22T09:58:18.137Z"
   },
   {
    "duration": 5757,
    "start_time": "2023-03-22T09:58:22.054Z"
   },
   {
    "duration": 9492,
    "start_time": "2023-03-22T09:58:27.813Z"
   },
   {
    "duration": 4,
    "start_time": "2023-03-22T09:58:37.307Z"
   },
   {
    "duration": 209,
    "start_time": "2023-03-22T11:50:30.123Z"
   },
   {
    "duration": 882,
    "start_time": "2023-03-22T11:50:31.850Z"
   },
   {
    "duration": 35,
    "start_time": "2023-03-22T11:50:32.734Z"
   },
   {
    "duration": 8,
    "start_time": "2023-03-22T11:50:33.513Z"
   },
   {
    "duration": 30,
    "start_time": "2023-03-22T11:50:34.324Z"
   },
   {
    "duration": 232,
    "start_time": "2023-03-22T11:50:34.590Z"
   },
   {
    "duration": 6,
    "start_time": "2023-03-22T11:50:35.350Z"
   },
   {
    "duration": 7,
    "start_time": "2023-03-22T11:50:36.451Z"
   },
   {
    "duration": 52,
    "start_time": "2023-03-22T11:50:47.497Z"
   },
   {
    "duration": 4317,
    "start_time": "2023-03-22T11:50:56.863Z"
   },
   {
    "duration": 1277,
    "start_time": "2023-03-22T11:51:01.183Z"
   },
   {
    "duration": 36,
    "start_time": "2023-03-22T11:51:02.462Z"
   },
   {
    "duration": 37,
    "start_time": "2023-03-22T11:51:02.501Z"
   },
   {
    "duration": 44,
    "start_time": "2023-03-22T11:51:02.540Z"
   },
   {
    "duration": 257,
    "start_time": "2023-03-22T11:51:02.586Z"
   },
   {
    "duration": 7,
    "start_time": "2023-03-22T11:51:02.846Z"
   },
   {
    "duration": 8,
    "start_time": "2023-03-22T11:51:02.855Z"
   },
   {
    "duration": 527,
    "start_time": "2023-03-22T11:51:08.843Z"
   },
   {
    "duration": 5,
    "start_time": "2023-03-22T11:51:31.407Z"
   },
   {
    "duration": 21,
    "start_time": "2023-03-22T11:51:35.100Z"
   },
   {
    "duration": 8093,
    "start_time": "2023-03-22T11:52:03.362Z"
   },
   {
    "duration": 20,
    "start_time": "2023-03-22T11:52:43.194Z"
   },
   {
    "duration": 3,
    "start_time": "2023-03-22T11:52:52.293Z"
   },
   {
    "duration": 36,
    "start_time": "2023-03-22T11:54:01.693Z"
   },
   {
    "duration": 28,
    "start_time": "2023-03-22T11:54:19.021Z"
   },
   {
    "duration": 5,
    "start_time": "2023-03-22T11:54:24.895Z"
   },
   {
    "duration": 4967,
    "start_time": "2023-03-22T11:54:43.349Z"
   },
   {
    "duration": 18,
    "start_time": "2023-03-22T11:55:37.225Z"
   },
   {
    "duration": 542,
    "start_time": "2023-03-22T11:55:51.520Z"
   },
   {
    "duration": 5091,
    "start_time": "2023-03-22T11:57:43.809Z"
   },
   {
    "duration": 19,
    "start_time": "2023-03-22T11:57:57.218Z"
   },
   {
    "duration": 21,
    "start_time": "2023-03-22T11:58:40.130Z"
   },
   {
    "duration": 50,
    "start_time": "2023-03-22T11:58:48.304Z"
   },
   {
    "duration": 25,
    "start_time": "2023-03-22T11:58:49.189Z"
   },
   {
    "duration": 4,
    "start_time": "2023-03-22T11:58:50.095Z"
   },
   {
    "duration": 5155,
    "start_time": "2023-03-22T11:58:52.594Z"
   },
   {
    "duration": 1708,
    "start_time": "2023-03-22T11:58:59.974Z"
   },
   {
    "duration": 20,
    "start_time": "2023-03-22T11:59:06.647Z"
   },
   {
    "duration": 1569,
    "start_time": "2023-03-22T11:59:28.524Z"
   },
   {
    "duration": 46061,
    "start_time": "2023-03-22T12:07:04.146Z"
   },
   {
    "duration": 16,
    "start_time": "2023-03-22T12:09:28.889Z"
   },
   {
    "duration": 26,
    "start_time": "2023-03-22T15:16:32.288Z"
   },
   {
    "duration": 4,
    "start_time": "2023-03-22T15:18:11.617Z"
   },
   {
    "duration": 4,
    "start_time": "2023-03-22T15:18:17.381Z"
   },
   {
    "duration": 19,
    "start_time": "2023-03-22T15:18:20.848Z"
   },
   {
    "duration": 20,
    "start_time": "2023-03-22T15:19:26.510Z"
   },
   {
    "duration": 5,
    "start_time": "2023-03-22T15:19:48.241Z"
   },
   {
    "duration": 4,
    "start_time": "2023-03-22T15:20:14.058Z"
   },
   {
    "duration": 97,
    "start_time": "2023-03-22T15:20:41.193Z"
   },
   {
    "duration": 22,
    "start_time": "2023-03-22T15:20:47.837Z"
   },
   {
    "duration": 50,
    "start_time": "2023-03-22T15:21:12.265Z"
   },
   {
    "duration": 22,
    "start_time": "2023-03-22T15:21:28.367Z"
   },
   {
    "duration": 20,
    "start_time": "2023-03-22T15:24:14.380Z"
   },
   {
    "duration": 21,
    "start_time": "2023-03-22T15:49:25.905Z"
   },
   {
    "duration": 22,
    "start_time": "2023-03-22T15:49:55.206Z"
   },
   {
    "duration": 22,
    "start_time": "2023-03-22T15:50:11.332Z"
   },
   {
    "duration": 2019708,
    "start_time": "2023-03-22T15:55:56.842Z"
   },
   {
    "duration": 12400,
    "start_time": "2023-03-22T16:35:41.615Z"
   },
   {
    "duration": 878,
    "start_time": "2023-03-22T16:35:54.018Z"
   },
   {
    "duration": 36,
    "start_time": "2023-03-22T16:35:54.898Z"
   },
   {
    "duration": 9,
    "start_time": "2023-03-22T16:35:54.937Z"
   },
   {
    "duration": 50,
    "start_time": "2023-03-22T16:35:54.947Z"
   },
   {
    "duration": 250,
    "start_time": "2023-03-22T16:35:54.999Z"
   },
   {
    "duration": 9,
    "start_time": "2023-03-22T16:35:55.251Z"
   },
   {
    "duration": 33,
    "start_time": "2023-03-22T16:35:55.262Z"
   },
   {
    "duration": 101,
    "start_time": "2023-03-22T16:55:54.034Z"
   },
   {
    "duration": 10667,
    "start_time": "2023-03-22T16:56:11.764Z"
   },
   {
    "duration": 921,
    "start_time": "2023-03-22T16:56:22.433Z"
   },
   {
    "duration": 49,
    "start_time": "2023-03-22T16:56:23.355Z"
   },
   {
    "duration": 9,
    "start_time": "2023-03-22T16:56:23.407Z"
   },
   {
    "duration": 34,
    "start_time": "2023-03-22T16:56:23.417Z"
   },
   {
    "duration": 277,
    "start_time": "2023-03-22T16:56:23.453Z"
   },
   {
    "duration": 7,
    "start_time": "2023-03-22T16:56:23.733Z"
   },
   {
    "duration": 17,
    "start_time": "2023-03-22T16:56:23.742Z"
   },
   {
    "duration": 77,
    "start_time": "2023-03-22T16:56:23.761Z"
   },
   {
    "duration": 525,
    "start_time": "2023-03-22T16:57:36.064Z"
   },
   {
    "duration": 4,
    "start_time": "2023-03-22T16:57:37.811Z"
   },
   {
    "duration": 49,
    "start_time": "2023-03-22T16:57:39.584Z"
   },
   {
    "duration": 34,
    "start_time": "2023-03-22T16:57:48.888Z"
   },
   {
    "duration": 11112,
    "start_time": "2023-03-22T16:58:26.818Z"
   },
   {
    "duration": 902,
    "start_time": "2023-03-22T16:58:37.933Z"
   },
   {
    "duration": 31,
    "start_time": "2023-03-22T16:58:38.837Z"
   },
   {
    "duration": 8,
    "start_time": "2023-03-22T16:58:38.870Z"
   },
   {
    "duration": 49,
    "start_time": "2023-03-22T16:58:38.880Z"
   },
   {
    "duration": 239,
    "start_time": "2023-03-22T16:58:38.930Z"
   },
   {
    "duration": 7,
    "start_time": "2023-03-22T16:58:39.171Z"
   },
   {
    "duration": 19,
    "start_time": "2023-03-22T16:58:39.179Z"
   },
   {
    "duration": 460,
    "start_time": "2023-03-22T16:58:39.200Z"
   },
   {
    "duration": 3,
    "start_time": "2023-03-22T16:58:39.662Z"
   },
   {
    "duration": 54,
    "start_time": "2023-03-22T16:58:39.667Z"
   },
   {
    "duration": 70,
    "start_time": "2023-03-22T16:59:28.864Z"
   },
   {
    "duration": 74,
    "start_time": "2023-03-22T17:00:41.440Z"
   },
   {
    "duration": 55,
    "start_time": "2023-03-22T17:16:29.664Z"
   },
   {
    "duration": 4,
    "start_time": "2023-03-22T17:17:00.162Z"
   },
   {
    "duration": 15689,
    "start_time": "2023-03-22T17:43:10.017Z"
   },
   {
    "duration": 1499,
    "start_time": "2023-03-22T17:43:25.709Z"
   },
   {
    "duration": 38,
    "start_time": "2023-03-22T17:43:27.210Z"
   },
   {
    "duration": 18,
    "start_time": "2023-03-22T17:43:27.251Z"
   },
   {
    "duration": 38,
    "start_time": "2023-03-22T17:43:27.271Z"
   },
   {
    "duration": 317,
    "start_time": "2023-03-22T17:43:27.310Z"
   },
   {
    "duration": 8,
    "start_time": "2023-03-22T17:43:27.629Z"
   },
   {
    "duration": 15,
    "start_time": "2023-03-22T17:43:27.638Z"
   },
   {
    "duration": 10867,
    "start_time": "2023-03-22T17:44:38.975Z"
   },
   {
    "duration": 946,
    "start_time": "2023-03-22T17:44:49.844Z"
   },
   {
    "duration": 41,
    "start_time": "2023-03-22T17:44:50.792Z"
   },
   {
    "duration": 11,
    "start_time": "2023-03-22T17:44:50.836Z"
   },
   {
    "duration": 50,
    "start_time": "2023-03-22T17:44:50.849Z"
   },
   {
    "duration": 267,
    "start_time": "2023-03-22T17:44:50.901Z"
   },
   {
    "duration": 7,
    "start_time": "2023-03-22T17:44:51.170Z"
   },
   {
    "duration": 24,
    "start_time": "2023-03-22T17:44:51.178Z"
   },
   {
    "duration": 1190007,
    "start_time": "2023-03-22T17:44:56.139Z"
   },
   {
    "duration": 10748,
    "start_time": "2023-03-22T18:06:03.822Z"
   },
   {
    "duration": 372,
    "start_time": "2023-03-22T18:06:14.573Z"
   },
   {
    "duration": 4239,
    "start_time": "2023-03-22T18:06:29.330Z"
   },
   {
    "duration": 31,
    "start_time": "2023-03-22T18:06:41.276Z"
   },
   {
    "duration": 27,
    "start_time": "2023-03-22T18:06:47.642Z"
   },
   {
    "duration": 229,
    "start_time": "2023-03-22T18:06:54.881Z"
   },
   {
    "duration": 52,
    "start_time": "2023-03-22T18:07:35.088Z"
   },
   {
    "duration": 32,
    "start_time": "2023-03-22T18:07:35.838Z"
   },
   {
    "duration": 5,
    "start_time": "2023-03-22T18:07:42.622Z"
   },
   {
    "duration": 4937,
    "start_time": "2023-03-22T18:07:43.981Z"
   },
   {
    "duration": 1545,
    "start_time": "2023-03-22T18:07:55.031Z"
   },
   {
    "duration": 1553,
    "start_time": "2023-03-22T18:07:57.980Z"
   },
   {
    "duration": 33194,
    "start_time": "2023-03-22T18:08:11.117Z"
   },
   {
    "duration": 16235,
    "start_time": "2023-03-23T07:29:56.584Z"
   },
   {
    "duration": 3750,
    "start_time": "2023-03-23T07:30:12.822Z"
   },
   {
    "duration": 33,
    "start_time": "2023-03-23T07:30:16.574Z"
   },
   {
    "duration": 13,
    "start_time": "2023-03-23T07:30:16.610Z"
   },
   {
    "duration": 37,
    "start_time": "2023-03-23T07:30:16.625Z"
   },
   {
    "duration": 237,
    "start_time": "2023-03-23T07:30:16.663Z"
   },
   {
    "duration": 7,
    "start_time": "2023-03-23T07:30:16.901Z"
   },
   {
    "duration": 8,
    "start_time": "2023-03-23T07:30:16.910Z"
   },
   {
    "duration": 184672,
    "start_time": "2023-03-23T07:30:16.920Z"
   },
   {
    "duration": 0,
    "start_time": "2023-03-23T07:33:21.595Z"
   },
   {
    "duration": 0,
    "start_time": "2023-03-23T07:33:21.596Z"
   },
   {
    "duration": 0,
    "start_time": "2023-03-23T07:33:21.598Z"
   },
   {
    "duration": 0,
    "start_time": "2023-03-23T07:33:21.599Z"
   },
   {
    "duration": 0,
    "start_time": "2023-03-23T07:33:21.602Z"
   },
   {
    "duration": 0,
    "start_time": "2023-03-23T07:33:21.603Z"
   },
   {
    "duration": 0,
    "start_time": "2023-03-23T07:33:21.604Z"
   },
   {
    "duration": 0,
    "start_time": "2023-03-23T07:33:21.605Z"
   },
   {
    "duration": 11884,
    "start_time": "2023-03-23T08:35:14.338Z"
   },
   {
    "duration": 860,
    "start_time": "2023-03-23T08:35:26.225Z"
   },
   {
    "duration": 40,
    "start_time": "2023-03-23T08:35:27.087Z"
   },
   {
    "duration": 24,
    "start_time": "2023-03-23T08:35:27.129Z"
   },
   {
    "duration": 32,
    "start_time": "2023-03-23T08:35:27.157Z"
   },
   {
    "duration": 246,
    "start_time": "2023-03-23T08:35:27.190Z"
   },
   {
    "duration": 16,
    "start_time": "2023-03-23T08:35:27.438Z"
   },
   {
    "duration": 8,
    "start_time": "2023-03-23T08:35:27.456Z"
   },
   {
    "duration": 1176969,
    "start_time": "2023-03-23T08:35:27.467Z"
   },
   {
    "duration": 4710,
    "start_time": "2023-03-23T08:55:04.445Z"
   },
   {
    "duration": 34,
    "start_time": "2023-03-23T08:55:09.160Z"
   },
   {
    "duration": 29,
    "start_time": "2023-03-23T08:55:09.197Z"
   },
   {
    "duration": 199,
    "start_time": "2023-03-23T08:55:09.228Z"
   },
   {
    "duration": 6162,
    "start_time": "2023-03-23T08:55:09.429Z"
   },
   {
    "duration": 1503,
    "start_time": "2023-03-23T08:55:15.593Z"
   },
   {
    "duration": 1457,
    "start_time": "2023-03-23T08:55:17.098Z"
   },
   {
    "duration": 70,
    "start_time": "2023-03-23T08:55:18.557Z"
   },
   {
    "duration": 0,
    "start_time": "2023-03-23T08:55:18.629Z"
   },
   {
    "duration": 0,
    "start_time": "2023-03-23T08:55:18.630Z"
   },
   {
    "duration": 0,
    "start_time": "2023-03-23T08:55:18.631Z"
   },
   {
    "duration": 0,
    "start_time": "2023-03-23T08:55:18.633Z"
   },
   {
    "duration": 0,
    "start_time": "2023-03-23T08:55:18.634Z"
   },
   {
    "duration": 0,
    "start_time": "2023-03-23T08:55:18.635Z"
   },
   {
    "duration": 0,
    "start_time": "2023-03-23T08:55:18.636Z"
   },
   {
    "duration": 0,
    "start_time": "2023-03-23T08:55:18.637Z"
   },
   {
    "duration": 0,
    "start_time": "2023-03-23T08:55:18.639Z"
   },
   {
    "duration": 27,
    "start_time": "2023-03-23T08:56:29.928Z"
   },
   {
    "duration": 10990,
    "start_time": "2023-03-23T08:57:08.202Z"
   },
   {
    "duration": 14205,
    "start_time": "2023-03-23T08:57:54.550Z"
   },
   {
    "duration": 97,
    "start_time": "2023-03-23T08:58:25.970Z"
   },
   {
    "duration": 632,
    "start_time": "2023-03-23T09:00:55.229Z"
   },
   {
    "duration": 618,
    "start_time": "2023-03-23T09:06:21.470Z"
   },
   {
    "duration": 676,
    "start_time": "2023-03-23T09:09:01.226Z"
   },
   {
    "duration": 590,
    "start_time": "2023-03-23T09:09:13.302Z"
   },
   {
    "duration": 670,
    "start_time": "2023-03-23T09:26:17.077Z"
   },
   {
    "duration": 12358,
    "start_time": "2023-03-23T09:27:00.456Z"
   },
   {
    "duration": 763,
    "start_time": "2023-03-23T09:27:12.817Z"
   },
   {
    "duration": 10,
    "start_time": "2023-03-23T09:27:27.579Z"
   },
   {
    "duration": 17498,
    "start_time": "2023-03-23T09:27:55.152Z"
   },
   {
    "duration": 791,
    "start_time": "2023-03-23T09:28:12.652Z"
   },
   {
    "duration": 31,
    "start_time": "2023-03-23T09:28:13.445Z"
   },
   {
    "duration": 22,
    "start_time": "2023-03-23T09:28:13.478Z"
   },
   {
    "duration": 41,
    "start_time": "2023-03-23T09:28:13.502Z"
   },
   {
    "duration": 240,
    "start_time": "2023-03-23T09:28:13.545Z"
   },
   {
    "duration": 6,
    "start_time": "2023-03-23T09:28:13.787Z"
   },
   {
    "duration": 9,
    "start_time": "2023-03-23T09:28:13.794Z"
   },
   {
    "duration": 1146562,
    "start_time": "2023-03-23T09:28:13.804Z"
   },
   {
    "duration": 3932,
    "start_time": "2023-03-23T09:47:20.369Z"
   },
   {
    "duration": 7,
    "start_time": "2023-03-23T09:47:24.303Z"
   },
   {
    "duration": 39,
    "start_time": "2023-03-23T09:47:24.312Z"
   },
   {
    "duration": 23,
    "start_time": "2023-03-23T09:47:24.352Z"
   },
   {
    "duration": 152,
    "start_time": "2023-03-23T09:47:24.376Z"
   },
   {
    "duration": 5032,
    "start_time": "2023-03-23T09:47:24.530Z"
   },
   {
    "duration": 1545,
    "start_time": "2023-03-23T09:47:29.564Z"
   },
   {
    "duration": 1605,
    "start_time": "2023-03-23T09:47:31.110Z"
   },
   {
    "duration": 984,
    "start_time": "2023-03-23T09:47:32.717Z"
   },
   {
    "duration": 0,
    "start_time": "2023-03-23T09:47:33.704Z"
   },
   {
    "duration": 0,
    "start_time": "2023-03-23T09:47:33.705Z"
   },
   {
    "duration": 0,
    "start_time": "2023-03-23T09:47:33.707Z"
   },
   {
    "duration": 0,
    "start_time": "2023-03-23T09:47:33.709Z"
   },
   {
    "duration": 0,
    "start_time": "2023-03-23T09:47:33.710Z"
   },
   {
    "duration": 0,
    "start_time": "2023-03-23T09:47:33.711Z"
   },
   {
    "duration": 0,
    "start_time": "2023-03-23T09:47:33.712Z"
   },
   {
    "duration": 0,
    "start_time": "2023-03-23T09:47:33.713Z"
   },
   {
    "duration": 0,
    "start_time": "2023-03-23T09:47:33.714Z"
   },
   {
    "duration": 0,
    "start_time": "2023-03-23T09:47:33.715Z"
   },
   {
    "duration": 0,
    "start_time": "2023-03-23T09:47:33.717Z"
   },
   {
    "duration": 0,
    "start_time": "2023-03-23T09:47:33.717Z"
   },
   {
    "duration": 0,
    "start_time": "2023-03-23T09:47:33.718Z"
   },
   {
    "duration": 610,
    "start_time": "2023-03-23T09:49:02.486Z"
   },
   {
    "duration": 648,
    "start_time": "2023-03-23T09:49:27.420Z"
   },
   {
    "duration": 625,
    "start_time": "2023-03-23T09:57:40.930Z"
   },
   {
    "duration": 626,
    "start_time": "2023-03-23T09:58:10.865Z"
   },
   {
    "duration": 7,
    "start_time": "2023-03-23T09:59:12.523Z"
   },
   {
    "duration": 510,
    "start_time": "2023-03-23T10:09:03.534Z"
   },
   {
    "duration": 1181040,
    "start_time": "2023-03-23T10:09:19.073Z"
   },
   {
    "duration": 5,
    "start_time": "2023-03-23T10:29:00.115Z"
   },
   {
    "duration": 30,
    "start_time": "2023-03-23T10:29:54.862Z"
   },
   {
    "duration": 5,
    "start_time": "2023-03-23T10:29:58.278Z"
   },
   {
    "duration": 6011,
    "start_time": "2023-03-23T10:30:00.516Z"
   },
   {
    "duration": 25,
    "start_time": "2023-03-23T10:30:09.810Z"
   },
   {
    "duration": 3,
    "start_time": "2023-03-23T10:30:17.965Z"
   },
   {
    "duration": 1473,
    "start_time": "2023-03-23T10:30:31.194Z"
   },
   {
    "duration": 0,
    "start_time": "2023-03-23T10:35:32.006Z"
   },
   {
    "duration": 2334059,
    "start_time": "2023-03-23T10:35:33.696Z"
   },
   {
    "duration": 5,
    "start_time": "2023-03-23T11:15:20.298Z"
   },
   {
    "duration": 4,
    "start_time": "2023-03-23T11:15:21.570Z"
   },
   {
    "duration": 4,
    "start_time": "2023-03-23T11:15:22.665Z"
   },
   {
    "duration": 78,
    "start_time": "2023-03-23T11:15:30.562Z"
   },
   {
    "duration": 104,
    "start_time": "2023-03-23T11:15:40.026Z"
   },
   {
    "duration": 48854,
    "start_time": "2023-03-23T11:15:56.856Z"
   },
   {
    "duration": 12299,
    "start_time": "2023-03-23T11:16:46.779Z"
   },
   {
    "duration": 135126,
    "start_time": "2023-03-23T11:17:00.030Z"
   },
   {
    "duration": 1128039,
    "start_time": "2023-03-23T11:19:33.182Z"
   },
   {
    "duration": 4,
    "start_time": "2023-03-23T11:39:27.376Z"
   },
   {
    "duration": 5,
    "start_time": "2023-03-23T11:39:28.368Z"
   },
   {
    "duration": 4,
    "start_time": "2023-03-23T11:39:29.017Z"
   },
   {
    "duration": 5,
    "start_time": "2023-03-23T11:39:29.656Z"
   },
   {
    "duration": 22,
    "start_time": "2023-03-23T11:39:45.795Z"
   },
   {
    "duration": 23,
    "start_time": "2023-03-23T11:39:58.590Z"
   },
   {
    "duration": 25,
    "start_time": "2023-03-23T11:40:34.289Z"
   },
   {
    "duration": 1367,
    "start_time": "2023-03-23T11:41:05.067Z"
   },
   {
    "duration": 82,
    "start_time": "2023-03-23T19:03:23.383Z"
   },
   {
    "duration": 29727,
    "start_time": "2023-03-23T19:03:40.391Z"
   },
   {
    "duration": 3762,
    "start_time": "2023-03-23T19:04:10.120Z"
   },
   {
    "duration": 34,
    "start_time": "2023-03-23T19:04:13.884Z"
   },
   {
    "duration": 15,
    "start_time": "2023-03-23T19:04:13.921Z"
   },
   {
    "duration": 25,
    "start_time": "2023-03-23T19:04:13.940Z"
   },
   {
    "duration": 241,
    "start_time": "2023-03-23T19:04:13.967Z"
   },
   {
    "duration": 6,
    "start_time": "2023-03-23T19:04:14.210Z"
   },
   {
    "duration": 24,
    "start_time": "2023-03-23T19:04:14.218Z"
   },
   {
    "duration": 648,
    "start_time": "2023-03-23T19:04:14.244Z"
   },
   {
    "duration": 16974,
    "start_time": "2023-03-24T07:31:52.478Z"
   },
   {
    "duration": 3565,
    "start_time": "2023-03-24T07:32:09.454Z"
   },
   {
    "duration": 27,
    "start_time": "2023-03-24T07:32:13.020Z"
   },
   {
    "duration": 12,
    "start_time": "2023-03-24T07:32:13.049Z"
   },
   {
    "duration": 22,
    "start_time": "2023-03-24T07:32:13.063Z"
   },
   {
    "duration": 212,
    "start_time": "2023-03-24T07:32:13.087Z"
   },
   {
    "duration": 5,
    "start_time": "2023-03-24T07:32:13.300Z"
   },
   {
    "duration": 9,
    "start_time": "2023-03-24T07:32:13.307Z"
   },
   {
    "duration": 598,
    "start_time": "2023-03-24T07:32:13.317Z"
   },
   {
    "duration": 0,
    "start_time": "2023-03-24T07:38:20.777Z"
   },
   {
    "duration": 0,
    "start_time": "2023-03-24T07:38:20.780Z"
   },
   {
    "duration": 0,
    "start_time": "2023-03-24T07:38:20.782Z"
   },
   {
    "duration": 0,
    "start_time": "2023-03-24T07:38:20.783Z"
   },
   {
    "duration": 0,
    "start_time": "2023-03-24T07:38:20.785Z"
   },
   {
    "duration": 0,
    "start_time": "2023-03-24T07:38:20.787Z"
   },
   {
    "duration": 0,
    "start_time": "2023-03-24T07:38:20.789Z"
   },
   {
    "duration": 0,
    "start_time": "2023-03-24T07:38:20.790Z"
   },
   {
    "duration": 0,
    "start_time": "2023-03-24T07:38:20.791Z"
   },
   {
    "duration": 0,
    "start_time": "2023-03-24T07:38:20.792Z"
   },
   {
    "duration": 0,
    "start_time": "2023-03-24T07:38:20.792Z"
   },
   {
    "duration": 0,
    "start_time": "2023-03-24T07:38:20.793Z"
   },
   {
    "duration": 0,
    "start_time": "2023-03-24T07:38:20.794Z"
   },
   {
    "duration": 0,
    "start_time": "2023-03-24T07:38:20.795Z"
   },
   {
    "duration": 0,
    "start_time": "2023-03-24T07:38:20.796Z"
   },
   {
    "duration": 0,
    "start_time": "2023-03-24T07:38:20.798Z"
   },
   {
    "duration": 0,
    "start_time": "2023-03-24T07:38:20.801Z"
   },
   {
    "duration": 0,
    "start_time": "2023-03-24T07:38:20.802Z"
   },
   {
    "duration": 0,
    "start_time": "2023-03-24T07:38:20.803Z"
   },
   {
    "duration": 0,
    "start_time": "2023-03-24T07:38:20.804Z"
   },
   {
    "duration": 0,
    "start_time": "2023-03-24T07:38:20.805Z"
   },
   {
    "duration": 0,
    "start_time": "2023-03-24T07:38:20.806Z"
   },
   {
    "duration": 0,
    "start_time": "2023-03-24T07:38:20.807Z"
   },
   {
    "duration": 0,
    "start_time": "2023-03-24T07:38:20.808Z"
   },
   {
    "duration": 0,
    "start_time": "2023-03-24T07:38:20.809Z"
   },
   {
    "duration": 0,
    "start_time": "2023-03-24T07:38:20.810Z"
   },
   {
    "duration": 0,
    "start_time": "2023-03-24T07:38:20.870Z"
   },
   {
    "duration": 0,
    "start_time": "2023-03-24T07:38:20.875Z"
   },
   {
    "duration": 0,
    "start_time": "2023-03-24T07:38:20.877Z"
   },
   {
    "duration": 0,
    "start_time": "2023-03-24T07:38:20.878Z"
   },
   {
    "duration": 0,
    "start_time": "2023-03-24T07:38:20.880Z"
   },
   {
    "duration": 0,
    "start_time": "2023-03-24T07:38:20.881Z"
   },
   {
    "duration": 11875,
    "start_time": "2023-03-24T07:42:25.571Z"
   },
   {
    "duration": 778,
    "start_time": "2023-03-24T07:42:37.449Z"
   },
   {
    "duration": 41,
    "start_time": "2023-03-24T07:42:38.228Z"
   },
   {
    "duration": 9,
    "start_time": "2023-03-24T07:42:38.271Z"
   },
   {
    "duration": 29,
    "start_time": "2023-03-24T07:42:38.282Z"
   },
   {
    "duration": 220,
    "start_time": "2023-03-24T07:42:38.313Z"
   },
   {
    "duration": 5,
    "start_time": "2023-03-24T07:42:38.534Z"
   },
   {
    "duration": 6,
    "start_time": "2023-03-24T07:42:38.540Z"
   },
   {
    "duration": 417,
    "start_time": "2023-03-24T07:42:46.559Z"
   },
   {
    "duration": 1034301,
    "start_time": "2023-03-24T07:42:47.861Z"
   },
   {
    "duration": 7,
    "start_time": "2023-03-24T08:00:02.164Z"
   },
   {
    "duration": 54,
    "start_time": "2023-03-24T08:00:02.173Z"
   },
   {
    "duration": 215,
    "start_time": "2023-03-24T08:00:02.229Z"
   },
   {
    "duration": 5475,
    "start_time": "2023-03-24T08:00:02.447Z"
   },
   {
    "duration": 504,
    "start_time": "2023-03-24T08:00:07.923Z"
   },
   {
    "duration": 33977,
    "start_time": "2023-03-24T08:00:08.428Z"
   },
   {
    "duration": 4,
    "start_time": "2023-03-24T08:00:42.407Z"
   },
   {
    "duration": 9,
    "start_time": "2023-03-24T08:00:42.413Z"
   },
   {
    "duration": 8,
    "start_time": "2023-03-24T08:00:42.425Z"
   },
   {
    "duration": 132074,
    "start_time": "2023-03-24T08:00:42.435Z"
   },
   {
    "duration": 3,
    "start_time": "2023-03-24T08:02:54.511Z"
   },
   {
    "duration": 5,
    "start_time": "2023-03-24T08:02:54.515Z"
   },
   {
    "duration": 19,
    "start_time": "2023-03-24T08:02:54.521Z"
   },
   {
    "duration": 0,
    "start_time": "2023-03-24T08:02:54.541Z"
   },
   {
    "duration": 0,
    "start_time": "2023-03-24T08:02:54.542Z"
   },
   {
    "duration": 0,
    "start_time": "2023-03-24T08:02:54.543Z"
   },
   {
    "duration": 0,
    "start_time": "2023-03-24T08:02:54.544Z"
   },
   {
    "duration": 0,
    "start_time": "2023-03-24T08:02:54.545Z"
   },
   {
    "duration": 0,
    "start_time": "2023-03-24T08:02:54.568Z"
   },
   {
    "duration": 0,
    "start_time": "2023-03-24T08:02:54.569Z"
   },
   {
    "duration": 0,
    "start_time": "2023-03-24T08:02:54.571Z"
   },
   {
    "duration": 0,
    "start_time": "2023-03-24T08:02:54.572Z"
   },
   {
    "duration": 0,
    "start_time": "2023-03-24T08:02:54.573Z"
   },
   {
    "duration": 0,
    "start_time": "2023-03-24T08:02:54.574Z"
   },
   {
    "duration": 0,
    "start_time": "2023-03-24T08:02:54.575Z"
   },
   {
    "duration": 499,
    "start_time": "2023-03-24T08:03:54.913Z"
   },
   {
    "duration": 959415,
    "start_time": "2023-03-24T08:03:55.904Z"
   },
   {
    "duration": 4,
    "start_time": "2023-03-24T08:19:55.321Z"
   },
   {
    "duration": 29,
    "start_time": "2023-03-24T08:19:55.327Z"
   },
   {
    "duration": 12,
    "start_time": "2023-03-24T08:19:55.358Z"
   },
   {
    "duration": 4534,
    "start_time": "2023-03-24T08:19:55.371Z"
   },
   {
    "duration": 1073,
    "start_time": "2023-03-24T08:19:59.907Z"
   },
   {
    "duration": 192901,
    "start_time": "2023-03-24T08:20:00.982Z"
   },
   {
    "duration": 3,
    "start_time": "2023-03-24T08:23:13.969Z"
   },
   {
    "duration": 5,
    "start_time": "2023-03-24T08:23:13.974Z"
   },
   {
    "duration": 4,
    "start_time": "2023-03-24T08:23:13.980Z"
   },
   {
    "duration": 536552,
    "start_time": "2023-03-24T08:28:13.423Z"
   },
   {
    "duration": 4,
    "start_time": "2023-03-24T08:37:16.433Z"
   },
   {
    "duration": 4,
    "start_time": "2023-03-24T08:37:17.288Z"
   },
   {
    "duration": 4,
    "start_time": "2023-03-24T08:37:18.136Z"
   },
   {
    "duration": 103,
    "start_time": "2023-03-24T08:38:59.028Z"
   },
   {
    "duration": 3292,
    "start_time": "2023-03-24T08:39:28.646Z"
   },
   {
    "duration": 3,
    "start_time": "2023-03-24T08:39:37.505Z"
   },
   {
    "duration": 2,
    "start_time": "2023-03-24T08:39:38.369Z"
   },
   {
    "duration": 18,
    "start_time": "2023-03-24T08:39:39.376Z"
   },
   {
    "duration": 198,
    "start_time": "2023-03-24T08:39:48.136Z"
   },
   {
    "duration": 3,
    "start_time": "2023-03-24T08:40:04.289Z"
   },
   {
    "duration": 3,
    "start_time": "2023-03-24T08:40:05.119Z"
   },
   {
    "duration": 15,
    "start_time": "2023-03-24T08:40:06.392Z"
   },
   {
    "duration": 2346,
    "start_time": "2023-03-24T08:40:29.646Z"
   },
   {
    "duration": 3,
    "start_time": "2023-03-24T08:40:37.619Z"
   },
   {
    "duration": 3,
    "start_time": "2023-03-24T08:40:38.567Z"
   },
   {
    "duration": 3,
    "start_time": "2023-03-24T08:40:39.744Z"
   },
   {
    "duration": 30967,
    "start_time": "2023-03-24T08:40:52.657Z"
   },
   {
    "duration": 490,
    "start_time": "2023-03-24T08:44:14.709Z"
   },
   {
    "duration": 487,
    "start_time": "2023-03-24T08:46:46.527Z"
   },
   {
    "duration": 514,
    "start_time": "2023-03-24T08:48:04.575Z"
   },
   {
    "duration": 473,
    "start_time": "2023-03-24T08:49:10.111Z"
   },
   {
    "duration": 94917,
    "start_time": "2023-03-24T08:50:17.752Z"
   },
   {
    "duration": 3,
    "start_time": "2023-03-24T08:52:08.922Z"
   },
   {
    "duration": 2,
    "start_time": "2023-03-24T08:52:09.473Z"
   },
   {
    "duration": 3,
    "start_time": "2023-03-24T08:52:10.100Z"
   },
   {
    "duration": 71,
    "start_time": "2023-03-24T08:52:37.481Z"
   },
   {
    "duration": 0,
    "start_time": "2023-03-24T08:53:37.654Z"
   },
   {
    "duration": 39882,
    "start_time": "2023-03-24T08:53:41.173Z"
   },
   {
    "duration": 8243398,
    "start_time": "2023-03-24T08:54:44.947Z"
   },
   {
    "duration": 0,
    "start_time": "2023-03-24T11:12:08.403Z"
   },
   {
    "duration": 0,
    "start_time": "2023-03-24T11:12:08.404Z"
   },
   {
    "duration": 0,
    "start_time": "2023-03-24T11:12:08.406Z"
   },
   {
    "duration": 0,
    "start_time": "2023-03-24T11:12:08.407Z"
   },
   {
    "duration": 0,
    "start_time": "2023-03-24T11:12:08.408Z"
   },
   {
    "duration": 0,
    "start_time": "2023-03-24T11:12:08.409Z"
   },
   {
    "duration": 19553,
    "start_time": "2023-03-25T09:46:36.767Z"
   },
   {
    "duration": 3643,
    "start_time": "2023-03-25T09:46:56.323Z"
   },
   {
    "duration": 39,
    "start_time": "2023-03-25T09:46:59.968Z"
   },
   {
    "duration": 30,
    "start_time": "2023-03-25T09:47:00.009Z"
   },
   {
    "duration": 39,
    "start_time": "2023-03-25T09:47:00.041Z"
   },
   {
    "duration": 254,
    "start_time": "2023-03-25T09:47:00.081Z"
   },
   {
    "duration": 6,
    "start_time": "2023-03-25T09:47:00.336Z"
   },
   {
    "duration": 32,
    "start_time": "2023-03-25T09:47:00.344Z"
   },
   {
    "duration": 534,
    "start_time": "2023-03-25T09:47:00.377Z"
   },
   {
    "duration": 1186100,
    "start_time": "2023-03-25T09:47:00.913Z"
   },
   {
    "duration": 5,
    "start_time": "2023-03-25T10:06:47.015Z"
   },
   {
    "duration": 32,
    "start_time": "2023-03-25T10:06:47.021Z"
   },
   {
    "duration": 280,
    "start_time": "2023-03-25T10:06:47.054Z"
   },
   {
    "duration": 6092,
    "start_time": "2023-03-25T10:06:47.336Z"
   },
   {
    "duration": 1449,
    "start_time": "2023-03-25T10:06:53.430Z"
   },
   {
    "duration": 41639,
    "start_time": "2023-03-25T10:09:38.734Z"
   },
   {
    "duration": 4,
    "start_time": "2023-03-25T10:10:20.375Z"
   },
   {
    "duration": 11,
    "start_time": "2023-03-25T10:10:20.380Z"
   },
   {
    "duration": 4,
    "start_time": "2023-03-25T10:10:20.393Z"
   },
   {
    "duration": 991275,
    "start_time": "2023-03-25T10:12:48.506Z"
   },
   {
    "duration": 15,
    "start_time": "2023-03-25T10:30:10.671Z"
   },
   {
    "duration": 4,
    "start_time": "2023-03-25T10:30:11.375Z"
   },
   {
    "duration": 4,
    "start_time": "2023-03-25T10:30:12.029Z"
   },
   {
    "duration": 77983,
    "start_time": "2023-03-25T10:30:17.006Z"
   },
   {
    "duration": 4,
    "start_time": "2023-03-25T10:31:40.653Z"
   },
   {
    "duration": 3,
    "start_time": "2023-03-25T10:31:41.303Z"
   },
   {
    "duration": 337,
    "start_time": "2023-03-25T10:31:46.173Z"
   },
   {
    "duration": 8915935,
    "start_time": "2023-03-25T10:32:13.693Z"
   },
   {
    "duration": 22,
    "start_time": "2023-03-25T13:00:49.630Z"
   },
   {
    "duration": 0,
    "start_time": "2023-03-25T13:00:49.654Z"
   },
   {
    "duration": 16,
    "start_time": "2023-03-25T13:01:57.879Z"
   },
   {
    "duration": 79,
    "start_time": "2023-03-25T13:03:36.066Z"
   },
   {
    "duration": 23,
    "start_time": "2023-03-25T13:04:33.922Z"
   },
   {
    "duration": 5,
    "start_time": "2023-03-25T13:04:47.818Z"
   },
   {
    "duration": 63,
    "start_time": "2023-03-25T13:04:57.779Z"
   },
   {
    "duration": 20,
    "start_time": "2023-03-25T13:05:30.209Z"
   },
   {
    "duration": 65,
    "start_time": "2023-03-25T13:06:12.593Z"
   },
   {
    "duration": 22,
    "start_time": "2023-03-25T13:09:23.389Z"
   },
   {
    "duration": 69,
    "start_time": "2023-03-25T13:10:03.794Z"
   },
   {
    "duration": 78,
    "start_time": "2023-03-25T13:10:27.168Z"
   },
   {
    "duration": 86,
    "start_time": "2023-03-25T13:11:21.248Z"
   },
   {
    "duration": 74,
    "start_time": "2023-03-25T13:12:22.016Z"
   },
   {
    "duration": 25,
    "start_time": "2023-03-25T13:12:26.789Z"
   },
   {
    "duration": 6,
    "start_time": "2023-03-25T13:12:47.281Z"
   },
   {
    "duration": 8,
    "start_time": "2023-03-25T13:13:02.658Z"
   },
   {
    "duration": 602,
    "start_time": "2023-03-25T13:13:10.910Z"
   },
   {
    "duration": 138,
    "start_time": "2023-03-25T13:13:24.767Z"
   },
   {
    "duration": 153,
    "start_time": "2023-03-25T13:13:44.284Z"
   },
   {
    "duration": 153,
    "start_time": "2023-03-25T13:13:57.426Z"
   },
   {
    "duration": 140,
    "start_time": "2023-03-25T13:14:14.354Z"
   },
   {
    "duration": 173,
    "start_time": "2023-03-25T13:14:34.287Z"
   },
   {
    "duration": 174,
    "start_time": "2023-03-25T13:14:44.762Z"
   },
   {
    "duration": 20,
    "start_time": "2023-03-25T13:15:08.637Z"
   },
   {
    "duration": 22,
    "start_time": "2023-03-25T13:15:21.193Z"
   },
   {
    "duration": 21,
    "start_time": "2023-03-25T13:16:01.685Z"
   },
   {
    "duration": 19,
    "start_time": "2023-03-25T13:16:51.486Z"
   },
   {
    "duration": 149046,
    "start_time": "2023-03-25T13:17:01.524Z"
   },
   {
    "duration": 21,
    "start_time": "2023-03-25T13:19:42.830Z"
   },
   {
    "duration": 20,
    "start_time": "2023-03-25T13:20:48.340Z"
   },
   {
    "duration": 15,
    "start_time": "2023-03-25T13:21:16.214Z"
   },
   {
    "duration": 18,
    "start_time": "2023-03-25T13:22:37.648Z"
   },
   {
    "duration": 18,
    "start_time": "2023-03-25T13:22:50.509Z"
   },
   {
    "duration": 21,
    "start_time": "2023-03-25T13:24:16.031Z"
   },
   {
    "duration": 17,
    "start_time": "2023-03-25T13:24:50.914Z"
   },
   {
    "duration": 3484,
    "start_time": "2023-03-26T10:28:36.670Z"
   },
   {
    "duration": 11927,
    "start_time": "2023-03-26T10:28:40.156Z"
   },
   {
    "duration": 108,
    "start_time": "2023-03-26T10:29:25.926Z"
   },
   {
    "duration": 456,
    "start_time": "2023-03-26T10:32:51.032Z"
   },
   {
    "duration": 295,
    "start_time": "2023-03-26T10:37:11.501Z"
   },
   {
    "duration": 3,
    "start_time": "2023-03-26T10:37:24.532Z"
   },
   {
    "duration": 10210,
    "start_time": "2023-03-26T10:37:25.154Z"
   },
   {
    "duration": 3479,
    "start_time": "2023-03-26T10:37:35.366Z"
   },
   {
    "duration": 24,
    "start_time": "2023-03-26T10:37:38.847Z"
   },
   {
    "duration": 12,
    "start_time": "2023-03-26T10:37:38.873Z"
   },
   {
    "duration": 22,
    "start_time": "2023-03-26T10:37:38.887Z"
   },
   {
    "duration": 218,
    "start_time": "2023-03-26T10:37:38.911Z"
   },
   {
    "duration": 5,
    "start_time": "2023-03-26T10:37:39.130Z"
   },
   {
    "duration": 9,
    "start_time": "2023-03-26T10:37:39.136Z"
   },
   {
    "duration": 378,
    "start_time": "2023-03-26T10:37:54.720Z"
   },
   {
    "duration": 343,
    "start_time": "2023-03-26T10:38:01.035Z"
   },
   {
    "duration": 15,
    "start_time": "2023-03-26T10:38:01.819Z"
   },
   {
    "duration": 406,
    "start_time": "2023-03-26T10:39:33.836Z"
   },
   {
    "duration": 314,
    "start_time": "2023-03-26T10:39:36.059Z"
   },
   {
    "duration": 389,
    "start_time": "2023-03-26T10:39:48.557Z"
   },
   {
    "duration": 0,
    "start_time": "2023-03-26T10:40:17.083Z"
   },
   {
    "duration": 0,
    "start_time": "2023-03-26T10:40:17.084Z"
   },
   {
    "duration": 417,
    "start_time": "2023-03-26T10:40:20.908Z"
   },
   {
    "duration": 909623,
    "start_time": "2023-03-26T10:40:24.874Z"
   },
   {
    "duration": 4,
    "start_time": "2023-03-26T10:55:34.499Z"
   },
   {
    "duration": 26,
    "start_time": "2023-03-26T10:55:53.722Z"
   },
   {
    "duration": 31,
    "start_time": "2023-03-26T10:55:57.551Z"
   },
   {
    "duration": 367,
    "start_time": "2023-03-26T10:55:59.538Z"
   },
   {
    "duration": 6,
    "start_time": "2023-03-26T11:01:27.788Z"
   },
   {
    "duration": 76,
    "start_time": "2023-03-26T11:07:13.209Z"
   },
   {
    "duration": 383761,
    "start_time": "2023-03-26T11:07:37.534Z"
   },
   {
    "duration": 3,
    "start_time": "2023-03-26T11:14:13.827Z"
   },
   {
    "duration": 4,
    "start_time": "2023-03-26T11:14:14.549Z"
   },
   {
    "duration": 4,
    "start_time": "2023-03-26T11:14:15.281Z"
   },
   {
    "duration": 1710540,
    "start_time": "2023-03-26T11:14:34.422Z"
   },
   {
    "duration": 8,
    "start_time": "2023-03-26T11:43:04.964Z"
   },
   {
    "duration": 7,
    "start_time": "2023-03-26T11:43:04.978Z"
   },
   {
    "duration": 3,
    "start_time": "2023-03-26T11:43:04.987Z"
   },
   {
    "duration": 4,
    "start_time": "2023-03-26T11:43:44.383Z"
   },
   {
    "duration": 3,
    "start_time": "2023-03-26T11:43:44.793Z"
   },
   {
    "duration": 4,
    "start_time": "2023-03-26T11:43:45.581Z"
   },
   {
    "duration": 394,
    "start_time": "2023-03-26T11:43:51.637Z"
   },
   {
    "duration": 183110,
    "start_time": "2023-03-26T11:44:35.020Z"
   },
   {
    "duration": 2,
    "start_time": "2023-03-26T11:47:50.916Z"
   },
   {
    "duration": 158342,
    "start_time": "2023-03-26T11:48:36.684Z"
   },
   {
    "duration": 0,
    "start_time": "2023-03-26T11:51:15.028Z"
   },
   {
    "duration": 0,
    "start_time": "2023-03-26T11:51:15.029Z"
   },
   {
    "duration": 0,
    "start_time": "2023-03-26T11:51:15.030Z"
   },
   {
    "duration": 158228,
    "start_time": "2023-03-26T11:51:23.249Z"
   },
   {
    "duration": 395736,
    "start_time": "2023-03-26T11:54:03.738Z"
   },
   {
    "duration": 86,
    "start_time": "2023-03-26T12:01:26.432Z"
   },
   {
    "duration": 57,
    "start_time": "2023-03-26T12:03:18.284Z"
   },
   {
    "duration": 178996,
    "start_time": "2023-03-26T12:06:02.092Z"
   },
   {
    "duration": 4,
    "start_time": "2023-03-26T12:09:07.660Z"
   },
   {
    "duration": 4,
    "start_time": "2023-03-26T12:09:08.510Z"
   },
   {
    "duration": 104,
    "start_time": "2023-03-26T12:09:21.228Z"
   },
   {
    "duration": 85,
    "start_time": "2023-03-26T12:09:42.103Z"
   },
   {
    "duration": 81,
    "start_time": "2023-03-26T12:09:57.056Z"
   },
   {
    "duration": 17,
    "start_time": "2023-03-26T12:10:45.926Z"
   },
   {
    "duration": 15,
    "start_time": "2023-03-26T12:10:54.836Z"
   },
   {
    "duration": 3524,
    "start_time": "2023-03-26T12:11:32.183Z"
   },
   {
    "duration": 20,
    "start_time": "2023-03-26T12:11:56.962Z"
   },
   {
    "duration": 75,
    "start_time": "2023-03-26T12:12:17.153Z"
   },
   {
    "duration": 23,
    "start_time": "2023-03-26T12:13:20.121Z"
   },
   {
    "duration": 70,
    "start_time": "2023-03-26T12:13:35.189Z"
   },
   {
    "duration": 6903,
    "start_time": "2023-03-26T12:13:43.825Z"
   },
   {
    "duration": 12283,
    "start_time": "2023-03-26T12:13:50.730Z"
   },
   {
    "duration": 293,
    "start_time": "2023-03-26T12:18:17.562Z"
   },
   {
    "duration": 4,
    "start_time": "2023-03-26T12:18:33.663Z"
   },
   {
    "duration": 10478,
    "start_time": "2023-03-26T12:18:33.883Z"
   },
   {
    "duration": 3692,
    "start_time": "2023-03-26T12:18:44.363Z"
   },
   {
    "duration": 26,
    "start_time": "2023-03-26T12:18:48.057Z"
   },
   {
    "duration": 15,
    "start_time": "2023-03-26T12:18:48.085Z"
   },
   {
    "duration": 24,
    "start_time": "2023-03-26T12:18:48.101Z"
   },
   {
    "duration": 276,
    "start_time": "2023-03-26T12:18:48.127Z"
   },
   {
    "duration": 5,
    "start_time": "2023-03-26T12:18:48.405Z"
   },
   {
    "duration": 8,
    "start_time": "2023-03-26T12:18:48.411Z"
   },
   {
    "duration": 519,
    "start_time": "2023-03-26T12:18:48.421Z"
   },
   {
    "duration": 950244,
    "start_time": "2023-03-26T12:18:48.942Z"
   },
   {
    "duration": 5,
    "start_time": "2023-03-26T12:34:39.191Z"
   },
   {
    "duration": 29,
    "start_time": "2023-03-26T12:34:39.198Z"
   },
   {
    "duration": 276,
    "start_time": "2023-03-26T12:34:39.229Z"
   },
   {
    "duration": 3,
    "start_time": "2023-03-26T12:34:39.507Z"
   },
   {
    "duration": 5197,
    "start_time": "2023-03-26T13:00:31.214Z"
   },
   {
    "duration": 14678,
    "start_time": "2023-03-26T13:00:36.412Z"
   },
   {
    "duration": 4630,
    "start_time": "2023-03-26T13:00:51.092Z"
   },
   {
    "duration": 24,
    "start_time": "2023-03-26T13:00:55.725Z"
   },
   {
    "duration": 33,
    "start_time": "2023-03-26T13:00:55.751Z"
   },
   {
    "duration": 30,
    "start_time": "2023-03-26T13:00:55.798Z"
   },
   {
    "duration": 221,
    "start_time": "2023-03-26T13:00:55.830Z"
   },
   {
    "duration": 5,
    "start_time": "2023-03-26T13:00:56.052Z"
   },
   {
    "duration": 50,
    "start_time": "2023-03-26T13:00:56.059Z"
   },
   {
    "duration": 673,
    "start_time": "2023-03-26T13:00:56.112Z"
   },
   {
    "duration": 1081898,
    "start_time": "2023-03-26T13:00:56.787Z"
   },
   {
    "duration": 5,
    "start_time": "2023-03-26T13:18:58.687Z"
   },
   {
    "duration": 30,
    "start_time": "2023-03-26T13:18:58.694Z"
   },
   {
    "duration": 241,
    "start_time": "2023-03-26T13:18:58.726Z"
   },
   {
    "duration": 6,
    "start_time": "2023-03-26T13:18:58.971Z"
   },
   {
    "duration": 1004529,
    "start_time": "2023-03-26T13:18:58.979Z"
   },
   {
    "duration": 4,
    "start_time": "2023-03-26T13:35:43.509Z"
   },
   {
    "duration": 5,
    "start_time": "2023-03-26T13:35:43.514Z"
   },
   {
    "duration": 4,
    "start_time": "2023-03-26T13:35:43.520Z"
   },
   {
    "duration": 175513,
    "start_time": "2023-03-26T13:35:43.525Z"
   },
   {
    "duration": 4,
    "start_time": "2023-03-26T13:38:39.040Z"
   },
   {
    "duration": 4,
    "start_time": "2023-03-26T13:38:39.046Z"
   },
   {
    "duration": 3405,
    "start_time": "2023-03-26T13:38:39.068Z"
   },
   {
    "duration": 0,
    "start_time": "2023-03-26T13:38:42.480Z"
   },
   {
    "duration": 0,
    "start_time": "2023-03-26T13:38:42.481Z"
   },
   {
    "duration": 0,
    "start_time": "2023-03-26T13:38:42.483Z"
   },
   {
    "duration": 0,
    "start_time": "2023-03-26T13:38:42.483Z"
   },
   {
    "duration": 0,
    "start_time": "2023-03-26T13:38:42.484Z"
   },
   {
    "duration": 0,
    "start_time": "2023-03-26T13:38:42.485Z"
   },
   {
    "duration": 0,
    "start_time": "2023-03-26T13:38:42.486Z"
   },
   {
    "duration": 9054,
    "start_time": "2023-03-26T13:44:08.755Z"
   },
   {
    "duration": 13816,
    "start_time": "2023-03-26T13:44:17.810Z"
   },
   {
    "duration": 3969,
    "start_time": "2023-03-26T13:44:31.628Z"
   },
   {
    "duration": 48,
    "start_time": "2023-03-26T13:44:35.599Z"
   },
   {
    "duration": 17,
    "start_time": "2023-03-26T13:44:35.650Z"
   },
   {
    "duration": 44,
    "start_time": "2023-03-26T13:44:35.669Z"
   },
   {
    "duration": 266,
    "start_time": "2023-03-26T13:44:35.715Z"
   },
   {
    "duration": 9,
    "start_time": "2023-03-26T13:44:35.983Z"
   },
   {
    "duration": 7,
    "start_time": "2023-03-26T13:44:35.994Z"
   },
   {
    "duration": 655,
    "start_time": "2023-03-26T13:44:36.003Z"
   },
   {
    "duration": 1014211,
    "start_time": "2023-03-26T13:44:36.659Z"
   },
   {
    "duration": 5,
    "start_time": "2023-03-26T14:01:30.872Z"
   },
   {
    "duration": 34,
    "start_time": "2023-03-26T14:01:30.883Z"
   },
   {
    "duration": 5,
    "start_time": "2023-03-26T14:18:39.035Z"
   },
   {
    "duration": 14944,
    "start_time": "2023-03-26T14:18:39.866Z"
   },
   {
    "duration": 787,
    "start_time": "2023-03-26T14:18:54.813Z"
   },
   {
    "duration": 35,
    "start_time": "2023-03-26T14:18:55.603Z"
   },
   {
    "duration": 8,
    "start_time": "2023-03-26T14:18:55.639Z"
   },
   {
    "duration": 27,
    "start_time": "2023-03-26T14:19:08.799Z"
   },
   {
    "duration": 259,
    "start_time": "2023-03-26T14:19:14.532Z"
   },
   {
    "duration": 6,
    "start_time": "2023-03-26T14:19:15.224Z"
   },
   {
    "duration": 7,
    "start_time": "2023-03-26T14:19:15.913Z"
   },
   {
    "duration": 561,
    "start_time": "2023-03-26T14:19:19.832Z"
   },
   {
    "duration": 1143256,
    "start_time": "2023-03-26T14:19:23.197Z"
   },
   {
    "duration": 4,
    "start_time": "2023-03-26T14:38:26.455Z"
   },
   {
    "duration": 4,
    "start_time": "2023-03-26T14:48:10.654Z"
   },
   {
    "duration": 338,
    "start_time": "2023-03-26T14:51:08.247Z"
   },
   {
    "duration": 21,
    "start_time": "2023-03-26T14:51:31.488Z"
   },
   {
    "duration": 22,
    "start_time": "2023-03-26T14:52:04.730Z"
   },
   {
    "duration": 7,
    "start_time": "2023-03-26T14:57:11.142Z"
   },
   {
    "duration": 8,
    "start_time": "2023-03-26T14:57:25.959Z"
   },
   {
    "duration": 70,
    "start_time": "2023-03-26T14:57:59.664Z"
   },
   {
    "duration": 240,
    "start_time": "2023-03-26T14:58:07.368Z"
   },
   {
    "duration": 3,
    "start_time": "2023-03-26T14:58:08.521Z"
   },
   {
    "duration": 55,
    "start_time": "2023-03-26T14:58:17.056Z"
   },
   {
    "duration": 28,
    "start_time": "2023-03-26T14:58:46.570Z"
   },
   {
    "duration": 42744,
    "start_time": "2023-03-26T14:58:56.715Z"
   },
   {
    "duration": 10,
    "start_time": "2023-03-26T15:00:16.596Z"
   },
   {
    "duration": 34,
    "start_time": "2023-03-26T15:06:38.830Z"
   },
   {
    "duration": 6,
    "start_time": "2023-03-26T15:06:50.416Z"
   },
   {
    "duration": 22,
    "start_time": "2023-03-26T15:08:26.899Z"
   },
   {
    "duration": 43,
    "start_time": "2023-03-26T15:08:58.450Z"
   },
   {
    "duration": 6,
    "start_time": "2023-03-26T15:09:01.454Z"
   },
   {
    "duration": 4,
    "start_time": "2023-03-26T15:09:31.111Z"
   },
   {
    "duration": 6,
    "start_time": "2023-03-26T15:10:19.184Z"
   },
   {
    "duration": 3,
    "start_time": "2023-03-26T15:10:20.156Z"
   },
   {
    "duration": 605,
    "start_time": "2023-03-26T15:10:25.584Z"
   },
   {
    "duration": 555,
    "start_time": "2023-03-26T15:11:13.842Z"
   },
   {
    "duration": 7,
    "start_time": "2023-03-26T15:14:50.235Z"
   },
   {
    "duration": 1875692,
    "start_time": "2023-03-26T15:16:10.488Z"
   },
   {
    "duration": 4,
    "start_time": "2023-03-26T15:47:26.181Z"
   },
   {
    "duration": 21,
    "start_time": "2023-03-26T15:47:26.187Z"
   },
   {
    "duration": 5,
    "start_time": "2023-03-26T15:47:26.212Z"
   },
   {
    "duration": 25,
    "start_time": "2023-03-26T15:47:26.223Z"
   },
   {
    "duration": 0,
    "start_time": "2023-03-26T15:47:26.250Z"
   },
   {
    "duration": 0,
    "start_time": "2023-03-26T15:47:26.251Z"
   },
   {
    "duration": 0,
    "start_time": "2023-03-26T15:47:26.252Z"
   },
   {
    "duration": 0,
    "start_time": "2023-03-26T15:47:26.253Z"
   },
   {
    "duration": 0,
    "start_time": "2023-03-26T15:47:26.254Z"
   },
   {
    "duration": 148345,
    "start_time": "2023-03-26T16:25:53.204Z"
   },
   {
    "duration": 5,
    "start_time": "2023-03-26T16:28:21.552Z"
   },
   {
    "duration": 10,
    "start_time": "2023-03-26T16:28:21.575Z"
   },
   {
    "duration": 0,
    "start_time": "2023-03-26T16:48:33.590Z"
   },
   {
    "duration": 24057,
    "start_time": "2023-03-26T16:48:37.368Z"
   },
   {
    "duration": 26,
    "start_time": "2023-03-26T16:49:25.592Z"
   },
   {
    "duration": 130,
    "start_time": "2023-03-26T16:50:34.168Z"
   },
   {
    "duration": 21,
    "start_time": "2023-03-26T16:50:55.899Z"
   },
   {
    "duration": 3,
    "start_time": "2023-03-26T16:53:07.445Z"
   },
   {
    "duration": 22,
    "start_time": "2023-03-26T16:54:18.232Z"
   },
   {
    "duration": 0,
    "start_time": "2023-03-26T16:57:01.740Z"
   },
   {
    "duration": 1724309,
    "start_time": "2023-03-26T16:57:02.913Z"
   },
   {
    "duration": 66,
    "start_time": "2023-03-26T18:04:42.927Z"
   },
   {
    "duration": 13159,
    "start_time": "2023-03-26T18:05:40.464Z"
   },
   {
    "duration": 12730,
    "start_time": "2023-03-26T18:05:53.625Z"
   },
   {
    "duration": 4103,
    "start_time": "2023-03-26T18:06:06.357Z"
   },
   {
    "duration": 29,
    "start_time": "2023-03-26T18:06:10.462Z"
   },
   {
    "duration": 14,
    "start_time": "2023-03-26T18:06:10.493Z"
   },
   {
    "duration": 25,
    "start_time": "2023-03-26T18:06:10.508Z"
   },
   {
    "duration": 229,
    "start_time": "2023-03-26T18:06:10.534Z"
   },
   {
    "duration": 15,
    "start_time": "2023-03-26T18:06:10.764Z"
   },
   {
    "duration": 14,
    "start_time": "2023-03-26T18:06:10.781Z"
   },
   {
    "duration": 629,
    "start_time": "2023-03-26T18:06:10.798Z"
   },
   {
    "duration": 972484,
    "start_time": "2023-03-26T18:06:11.429Z"
   },
   {
    "duration": 30,
    "start_time": "2023-03-26T18:22:23.914Z"
   },
   {
    "duration": 6,
    "start_time": "2023-03-26T18:22:23.946Z"
   },
   {
    "duration": 48,
    "start_time": "2023-03-26T18:22:23.954Z"
   },
   {
    "duration": 243,
    "start_time": "2023-03-26T18:22:24.004Z"
   },
   {
    "duration": 3,
    "start_time": "2023-03-26T18:22:24.248Z"
   },
   {
    "duration": 1932423,
    "start_time": "2023-03-26T18:22:24.252Z"
   },
   {
    "duration": 4,
    "start_time": "2023-03-26T18:54:36.676Z"
   },
   {
    "duration": 6,
    "start_time": "2023-03-26T18:54:36.681Z"
   },
   {
    "duration": 3,
    "start_time": "2023-03-26T18:54:36.689Z"
   },
   {
    "duration": 112652,
    "start_time": "2023-03-26T18:54:36.694Z"
   },
   {
    "duration": 4,
    "start_time": "2023-03-26T18:56:29.347Z"
   },
   {
    "duration": 16,
    "start_time": "2023-03-26T18:56:29.352Z"
   },
   {
    "duration": 308,
    "start_time": "2023-03-26T18:56:29.370Z"
   },
   {
    "duration": 155,
    "start_time": "2023-03-26T19:04:16.656Z"
   },
   {
    "duration": 51,
    "start_time": "2023-03-27T07:50:40.069Z"
   },
   {
    "duration": 5162,
    "start_time": "2023-03-27T07:50:57.606Z"
   },
   {
    "duration": 14859,
    "start_time": "2023-03-27T07:51:02.770Z"
   },
   {
    "duration": 4254,
    "start_time": "2023-03-27T07:51:17.631Z"
   },
   {
    "duration": 32,
    "start_time": "2023-03-27T07:51:21.887Z"
   },
   {
    "duration": 15,
    "start_time": "2023-03-27T07:51:21.920Z"
   },
   {
    "duration": 28,
    "start_time": "2023-03-27T07:51:21.937Z"
   },
   {
    "duration": 244,
    "start_time": "2023-03-27T07:51:21.967Z"
   },
   {
    "duration": 6,
    "start_time": "2023-03-27T07:51:22.213Z"
   },
   {
    "duration": 9,
    "start_time": "2023-03-27T07:51:22.221Z"
   },
   {
    "duration": 633,
    "start_time": "2023-03-27T07:51:22.232Z"
   },
   {
    "duration": 1134298,
    "start_time": "2023-03-27T07:51:22.867Z"
   },
   {
    "duration": 36,
    "start_time": "2023-03-27T08:10:17.168Z"
   },
   {
    "duration": 7,
    "start_time": "2023-03-27T08:10:17.206Z"
   },
   {
    "duration": 58,
    "start_time": "2023-03-27T08:10:17.215Z"
   },
   {
    "duration": 164,
    "start_time": "2023-03-27T08:10:17.276Z"
   },
   {
    "duration": 3,
    "start_time": "2023-03-27T08:10:17.442Z"
   },
   {
    "duration": 1041605,
    "start_time": "2023-03-27T08:10:17.446Z"
   },
   {
    "duration": 3,
    "start_time": "2023-03-27T08:27:39.061Z"
   },
   {
    "duration": 5,
    "start_time": "2023-03-27T08:27:39.066Z"
   },
   {
    "duration": 5,
    "start_time": "2023-03-27T08:27:39.072Z"
   },
   {
    "duration": 240901,
    "start_time": "2023-03-27T08:27:39.078Z"
   },
   {
    "duration": 5,
    "start_time": "2023-03-27T08:31:39.981Z"
   },
   {
    "duration": 4,
    "start_time": "2023-03-27T08:31:39.988Z"
   },
   {
    "duration": 41,
    "start_time": "2023-03-27T08:34:12.025Z"
   },
   {
    "duration": 4,
    "start_time": "2023-03-27T08:34:13.923Z"
   },
   {
    "duration": 2,
    "start_time": "2023-03-27T08:34:15.088Z"
   },
   {
    "duration": 626125,
    "start_time": "2023-03-27T08:34:30.388Z"
   },
   {
    "duration": 38,
    "start_time": "2023-03-27T08:49:49.618Z"
   },
   {
    "duration": 4,
    "start_time": "2023-03-27T08:49:50.682Z"
   },
   {
    "duration": 3,
    "start_time": "2023-03-27T08:49:53.320Z"
   },
   {
    "duration": 1060386,
    "start_time": "2023-03-27T08:49:56.847Z"
   },
   {
    "duration": 134556,
    "start_time": "2023-03-27T09:10:48.037Z"
   },
   {
    "duration": 3,
    "start_time": "2023-03-27T09:13:02.594Z"
   },
   {
    "duration": 6,
    "start_time": "2023-03-27T09:13:02.599Z"
   },
   {
    "duration": 5,
    "start_time": "2023-03-27T09:13:02.606Z"
   },
   {
    "duration": 9,
    "start_time": "2023-03-27T09:13:02.612Z"
   },
   {
    "duration": 16,
    "start_time": "2023-03-27T09:13:02.622Z"
   },
   {
    "duration": 6,
    "start_time": "2023-03-27T09:13:18.860Z"
   },
   {
    "duration": 3,
    "start_time": "2023-03-27T09:13:19.156Z"
   },
   {
    "duration": 81,
    "start_time": "2023-03-27T09:13:29.306Z"
   },
   {
    "duration": 319,
    "start_time": "2023-03-27T09:14:08.122Z"
   },
   {
    "duration": 30,
    "start_time": "2023-03-27T09:14:42.730Z"
   },
   {
    "duration": 133,
    "start_time": "2023-03-27T09:14:54.750Z"
   },
   {
    "duration": 126,
    "start_time": "2023-03-27T09:15:57.024Z"
   },
   {
    "duration": 4,
    "start_time": "2023-03-27T09:16:08.848Z"
   },
   {
    "duration": 0,
    "start_time": "2023-03-27T09:22:35.497Z"
   },
   {
    "duration": 803138,
    "start_time": "2023-03-27T09:22:38.542Z"
   },
   {
    "duration": 14,
    "start_time": "2023-03-27T09:37:10.741Z"
   },
   {
    "duration": 22,
    "start_time": "2023-03-27T09:39:52.048Z"
   },
   {
    "duration": 5,
    "start_time": "2023-03-27T09:40:29.198Z"
   },
   {
    "duration": 18,
    "start_time": "2023-03-27T09:47:02.318Z"
   },
   {
    "duration": 864360,
    "start_time": "2023-03-27T09:47:34.298Z"
   },
   {
    "duration": 5,
    "start_time": "2023-03-27T10:04:06.849Z"
   },
   {
    "duration": 18,
    "start_time": "2023-03-27T10:06:05.790Z"
   },
   {
    "duration": 8,
    "start_time": "2023-03-27T10:06:07.035Z"
   },
   {
    "duration": 23,
    "start_time": "2023-03-27T10:07:51.810Z"
   },
   {
    "duration": 30,
    "start_time": "2023-03-27T10:08:25.401Z"
   },
   {
    "duration": 32854,
    "start_time": "2023-03-27T10:09:13.267Z"
   },
   {
    "duration": 520797,
    "start_time": "2023-03-27T10:10:21.892Z"
   },
   {
    "duration": 4,
    "start_time": "2023-03-27T10:19:25.931Z"
   },
   {
    "duration": 6,
    "start_time": "2023-03-27T10:19:29.086Z"
   },
   {
    "duration": 2755,
    "start_time": "2023-03-27T10:19:33.709Z"
   },
   {
    "duration": 25,
    "start_time": "2023-03-27T10:20:37.259Z"
   }
  ],
  "kernelspec": {
   "display_name": "Python 3 (ipykernel)",
   "language": "python",
   "name": "python3"
  },
  "language_info": {
   "codemirror_mode": {
    "name": "ipython",
    "version": 3
   },
   "file_extension": ".py",
   "mimetype": "text/x-python",
   "name": "python",
   "nbconvert_exporter": "python",
   "pygments_lexer": "ipython3",
   "version": "3.9.5"
  },
  "toc": {
   "base_numbering": 1,
   "nav_menu": {},
   "number_sections": true,
   "sideBar": true,
   "skip_h1_title": true,
   "title_cell": "Содержание",
   "title_sidebar": "Contents",
   "toc_cell": true,
   "toc_position": {
    "height": "calc(100% - 180px)",
    "left": "10px",
    "top": "150px",
    "width": "165px"
   },
   "toc_section_display": true,
   "toc_window_display": true
  }
 },
 "nbformat": 4,
 "nbformat_minor": 2
}
