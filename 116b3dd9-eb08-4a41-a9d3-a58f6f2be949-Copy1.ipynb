{
 "cells": [
  {
   "cell_type": "markdown",
   "id": "a63278ab",
   "metadata": {
    "toc": true
   },
   "source": [
    "<h1>Содержание<span class=\"tocSkip\"></span></h1>\n",
    "<div class=\"toc\"><ul class=\"toc-item\"><li><span><a href=\"#Откройте-таблицу-и-изучите-общую-информацию-о-данных\" data-toc-modified-id=\"Откройте-таблицу-и-изучите-общую-информацию-о-данных-1\"><span class=\"toc-item-num\">1&nbsp;&nbsp;</span>Откройте таблицу и изучите общую информацию о данных</a></span></li><li><span><a href=\"#Предобработка-данных\" data-toc-modified-id=\"Предобработка-данных-2\"><span class=\"toc-item-num\">2&nbsp;&nbsp;</span>Предобработка данных</a></span><ul class=\"toc-item\"><li><span><a href=\"#Удаление-пропусков\" data-toc-modified-id=\"Удаление-пропусков-2.1\"><span class=\"toc-item-num\">2.1&nbsp;&nbsp;</span>Удаление пропусков</a></span></li><li><span><a href=\"#Обработка-аномальных-значений\" data-toc-modified-id=\"Обработка-аномальных-значений-2.2\"><span class=\"toc-item-num\">2.2&nbsp;&nbsp;</span>Обработка аномальных значений</a></span></li><li><span><a href=\"#Удаление-пропусков-(продолжение)\" data-toc-modified-id=\"Удаление-пропусков-(продолжение)-2.3\"><span class=\"toc-item-num\">2.3&nbsp;&nbsp;</span>Удаление пропусков (продолжение)</a></span></li><li><span><a href=\"#Изменение-типов-данных\" data-toc-modified-id=\"Изменение-типов-данных-2.4\"><span class=\"toc-item-num\">2.4&nbsp;&nbsp;</span>Изменение типов данных</a></span></li><li><span><a href=\"#Обработка-дубликатов\" data-toc-modified-id=\"Обработка-дубликатов-2.5\"><span class=\"toc-item-num\">2.5&nbsp;&nbsp;</span>Обработка дубликатов</a></span></li><li><span><a href=\"#Категоризация-данных\" data-toc-modified-id=\"Категоризация-данных-2.6\"><span class=\"toc-item-num\">2.6&nbsp;&nbsp;</span>Категоризация данных</a></span></li><li><span><a href=\"#Шаг-3.-Исследуйте-данные-и-ответьте-на-вопросы\" data-toc-modified-id=\"Шаг-3.-Исследуйте-данные-и-ответьте-на-вопросы-2.7\"><span class=\"toc-item-num\">2.7&nbsp;&nbsp;</span>Шаг 3. Исследуйте данные и ответьте на вопросы</a></span><ul class=\"toc-item\"><li><span><a href=\"#3.1-Есть-ли-зависимость-между-количеством-детей-и-возвратом-кредита-в-срок?\" data-toc-modified-id=\"3.1-Есть-ли-зависимость-между-количеством-детей-и-возвратом-кредита-в-срок?-2.7.1\"><span class=\"toc-item-num\">2.7.1&nbsp;&nbsp;</span>3.1 Есть ли зависимость между количеством детей и возвратом кредита в срок?</a></span></li><li><span><a href=\"#3.2-Есть-ли-зависимость-между-семейным-положением-и-возвратом-кредита-в-срок?\" data-toc-modified-id=\"3.2-Есть-ли-зависимость-между-семейным-положением-и-возвратом-кредита-в-срок?-2.7.2\"><span class=\"toc-item-num\">2.7.2&nbsp;&nbsp;</span>3.2 Есть ли зависимость между семейным положением и возвратом кредита в срок?</a></span></li><li><span><a href=\"#3.3-Есть-ли-зависимость-между-уровнем-дохода-и-возвратом-кредита-в-срок?\" data-toc-modified-id=\"3.3-Есть-ли-зависимость-между-уровнем-дохода-и-возвратом-кредита-в-срок?-2.7.3\"><span class=\"toc-item-num\">2.7.3&nbsp;&nbsp;</span>3.3 Есть ли зависимость между уровнем дохода и возвратом кредита в срок?</a></span></li><li><span><a href=\"#3.4-Как-разные-цели-кредита-влияют-на-его-возврат-в-срок?\" data-toc-modified-id=\"3.4-Как-разные-цели-кредита-влияют-на-его-возврат-в-срок?-2.7.4\"><span class=\"toc-item-num\">2.7.4&nbsp;&nbsp;</span>3.4 Как разные цели кредита влияют на его возврат в срок?</a></span></li><li><span><a href=\"#3.5-Приведите-возможные-причины-появления-пропусков-в-исходных-данных.\" data-toc-modified-id=\"3.5-Приведите-возможные-причины-появления-пропусков-в-исходных-данных.-2.7.5\"><span class=\"toc-item-num\">2.7.5&nbsp;&nbsp;</span>3.5 Приведите возможные причины появления пропусков в исходных данных.</a></span></li><li><span><a href=\"#3.6-Объясните,-почему-заполнить-пропуски-медианным-значением-—-лучшее-решение-для-количественных-переменных.\" data-toc-modified-id=\"3.6-Объясните,-почему-заполнить-пропуски-медианным-значением-—-лучшее-решение-для-количественных-переменных.-2.7.6\"><span class=\"toc-item-num\">2.7.6&nbsp;&nbsp;</span>3.6 Объясните, почему заполнить пропуски медианным значением — лучшее решение для количественных переменных.</a></span></li></ul></li><li><span><a href=\"#Шаг-4:-общий-вывод.\" data-toc-modified-id=\"Шаг-4:-общий-вывод.-2.8\"><span class=\"toc-item-num\">2.8&nbsp;&nbsp;</span>Шаг 4: общий вывод.</a></span></li></ul></li></ul></div>"
   ]
  },
  {
   "cell_type": "markdown",
   "id": "7c2a1579",
   "metadata": {
    "deletable": false,
    "editable": false,
    "id": "c81daeeb"
   },
   "source": [
    "# Исследование надежности заемщиков\n"
   ]
  },
  {
   "cell_type": "markdown",
   "id": "865cea84",
   "metadata": {
    "deletable": false,
    "editable": false,
    "id": "827c20bf"
   },
   "source": [
    "Во второй части проекта вы выполните шаги 3 и 4. Их вручную проверит ревьюер.\n",
    "Чтобы вам не пришлось писать код заново для шагов 1 и 2, мы добавили авторские решения в ячейки с кодом. \n",
    "\n"
   ]
  },
  {
   "cell_type": "markdown",
   "id": "fb90d553",
   "metadata": {
    "deletable": false,
    "editable": false,
    "id": "744d7639"
   },
   "source": [
    "## Откройте таблицу и изучите общую информацию о данных"
   ]
  },
  {
   "cell_type": "markdown",
   "id": "927a40d9",
   "metadata": {
    "deletable": false,
    "editable": false,
    "id": "e7a14c31"
   },
   "source": [
    "**Задание 1. Импортируйте библиотеку pandas. Считайте данные из csv-файла в датафрейм и сохраните в переменную `data`. Путь к файлу:**\n",
    "\n",
    "`/datasets/data.csv`"
   ]
  },
  {
   "cell_type": "code",
   "execution_count": 1,
   "id": "a9c741e1",
   "metadata": {
    "deletable": false,
    "id": "7bcf75c9"
   },
   "outputs": [],
   "source": [
    "import pandas as pd\n",
    "import seaborn\n",
    "\n",
    "try:\n",
    "    data = pd.read_csv('/datasets/data.csv')\n",
    "except:\n",
    "    data = pd.read_csv('https://code.s3.yandex.net/datasets/data.csv')"
   ]
  },
  {
   "cell_type": "markdown",
   "id": "9762b191",
   "metadata": {
    "deletable": false,
    "editable": false,
    "id": "b8038fe3"
   },
   "source": [
    "**Задание 2. Выведите первые 20 строчек датафрейма `data` на экран.**"
   ]
  },
  {
   "cell_type": "code",
   "execution_count": 2,
   "id": "d7d29a5b",
   "metadata": {
    "deletable": false,
    "id": "2a7cab99",
    "outputId": "1a8f3ef2-d323-4ec2-ddf7-89670b5944c4"
   },
   "outputs": [
    {
     "data": {
      "text/html": [
       "<div>\n",
       "<style scoped>\n",
       "    .dataframe tbody tr th:only-of-type {\n",
       "        vertical-align: middle;\n",
       "    }\n",
       "\n",
       "    .dataframe tbody tr th {\n",
       "        vertical-align: top;\n",
       "    }\n",
       "\n",
       "    .dataframe thead th {\n",
       "        text-align: right;\n",
       "    }\n",
       "</style>\n",
       "<table border=\"1\" class=\"dataframe\">\n",
       "  <thead>\n",
       "    <tr style=\"text-align: right;\">\n",
       "      <th></th>\n",
       "      <th>children</th>\n",
       "      <th>days_employed</th>\n",
       "      <th>dob_years</th>\n",
       "      <th>education</th>\n",
       "      <th>education_id</th>\n",
       "      <th>family_status</th>\n",
       "      <th>family_status_id</th>\n",
       "      <th>gender</th>\n",
       "      <th>income_type</th>\n",
       "      <th>debt</th>\n",
       "      <th>total_income</th>\n",
       "      <th>purpose</th>\n",
       "    </tr>\n",
       "  </thead>\n",
       "  <tbody>\n",
       "    <tr>\n",
       "      <th>0</th>\n",
       "      <td>1</td>\n",
       "      <td>-8437.673028</td>\n",
       "      <td>42</td>\n",
       "      <td>высшее</td>\n",
       "      <td>0</td>\n",
       "      <td>женат / замужем</td>\n",
       "      <td>0</td>\n",
       "      <td>F</td>\n",
       "      <td>сотрудник</td>\n",
       "      <td>0</td>\n",
       "      <td>253875.639453</td>\n",
       "      <td>покупка жилья</td>\n",
       "    </tr>\n",
       "    <tr>\n",
       "      <th>1</th>\n",
       "      <td>1</td>\n",
       "      <td>-4024.803754</td>\n",
       "      <td>36</td>\n",
       "      <td>среднее</td>\n",
       "      <td>1</td>\n",
       "      <td>женат / замужем</td>\n",
       "      <td>0</td>\n",
       "      <td>F</td>\n",
       "      <td>сотрудник</td>\n",
       "      <td>0</td>\n",
       "      <td>112080.014102</td>\n",
       "      <td>приобретение автомобиля</td>\n",
       "    </tr>\n",
       "    <tr>\n",
       "      <th>2</th>\n",
       "      <td>0</td>\n",
       "      <td>-5623.422610</td>\n",
       "      <td>33</td>\n",
       "      <td>Среднее</td>\n",
       "      <td>1</td>\n",
       "      <td>женат / замужем</td>\n",
       "      <td>0</td>\n",
       "      <td>M</td>\n",
       "      <td>сотрудник</td>\n",
       "      <td>0</td>\n",
       "      <td>145885.952297</td>\n",
       "      <td>покупка жилья</td>\n",
       "    </tr>\n",
       "    <tr>\n",
       "      <th>3</th>\n",
       "      <td>3</td>\n",
       "      <td>-4124.747207</td>\n",
       "      <td>32</td>\n",
       "      <td>среднее</td>\n",
       "      <td>1</td>\n",
       "      <td>женат / замужем</td>\n",
       "      <td>0</td>\n",
       "      <td>M</td>\n",
       "      <td>сотрудник</td>\n",
       "      <td>0</td>\n",
       "      <td>267628.550329</td>\n",
       "      <td>дополнительное образование</td>\n",
       "    </tr>\n",
       "    <tr>\n",
       "      <th>4</th>\n",
       "      <td>0</td>\n",
       "      <td>340266.072047</td>\n",
       "      <td>53</td>\n",
       "      <td>среднее</td>\n",
       "      <td>1</td>\n",
       "      <td>гражданский брак</td>\n",
       "      <td>1</td>\n",
       "      <td>F</td>\n",
       "      <td>пенсионер</td>\n",
       "      <td>0</td>\n",
       "      <td>158616.077870</td>\n",
       "      <td>сыграть свадьбу</td>\n",
       "    </tr>\n",
       "    <tr>\n",
       "      <th>5</th>\n",
       "      <td>0</td>\n",
       "      <td>-926.185831</td>\n",
       "      <td>27</td>\n",
       "      <td>высшее</td>\n",
       "      <td>0</td>\n",
       "      <td>гражданский брак</td>\n",
       "      <td>1</td>\n",
       "      <td>M</td>\n",
       "      <td>компаньон</td>\n",
       "      <td>0</td>\n",
       "      <td>255763.565419</td>\n",
       "      <td>покупка жилья</td>\n",
       "    </tr>\n",
       "    <tr>\n",
       "      <th>6</th>\n",
       "      <td>0</td>\n",
       "      <td>-2879.202052</td>\n",
       "      <td>43</td>\n",
       "      <td>высшее</td>\n",
       "      <td>0</td>\n",
       "      <td>женат / замужем</td>\n",
       "      <td>0</td>\n",
       "      <td>F</td>\n",
       "      <td>компаньон</td>\n",
       "      <td>0</td>\n",
       "      <td>240525.971920</td>\n",
       "      <td>операции с жильем</td>\n",
       "    </tr>\n",
       "    <tr>\n",
       "      <th>7</th>\n",
       "      <td>0</td>\n",
       "      <td>-152.779569</td>\n",
       "      <td>50</td>\n",
       "      <td>СРЕДНЕЕ</td>\n",
       "      <td>1</td>\n",
       "      <td>женат / замужем</td>\n",
       "      <td>0</td>\n",
       "      <td>M</td>\n",
       "      <td>сотрудник</td>\n",
       "      <td>0</td>\n",
       "      <td>135823.934197</td>\n",
       "      <td>образование</td>\n",
       "    </tr>\n",
       "    <tr>\n",
       "      <th>8</th>\n",
       "      <td>2</td>\n",
       "      <td>-6929.865299</td>\n",
       "      <td>35</td>\n",
       "      <td>ВЫСШЕЕ</td>\n",
       "      <td>0</td>\n",
       "      <td>гражданский брак</td>\n",
       "      <td>1</td>\n",
       "      <td>F</td>\n",
       "      <td>сотрудник</td>\n",
       "      <td>0</td>\n",
       "      <td>95856.832424</td>\n",
       "      <td>на проведение свадьбы</td>\n",
       "    </tr>\n",
       "    <tr>\n",
       "      <th>9</th>\n",
       "      <td>0</td>\n",
       "      <td>-2188.756445</td>\n",
       "      <td>41</td>\n",
       "      <td>среднее</td>\n",
       "      <td>1</td>\n",
       "      <td>женат / замужем</td>\n",
       "      <td>0</td>\n",
       "      <td>M</td>\n",
       "      <td>сотрудник</td>\n",
       "      <td>0</td>\n",
       "      <td>144425.938277</td>\n",
       "      <td>покупка жилья для семьи</td>\n",
       "    </tr>\n",
       "    <tr>\n",
       "      <th>10</th>\n",
       "      <td>2</td>\n",
       "      <td>-4171.483647</td>\n",
       "      <td>36</td>\n",
       "      <td>высшее</td>\n",
       "      <td>0</td>\n",
       "      <td>женат / замужем</td>\n",
       "      <td>0</td>\n",
       "      <td>M</td>\n",
       "      <td>компаньон</td>\n",
       "      <td>0</td>\n",
       "      <td>113943.491460</td>\n",
       "      <td>покупка недвижимости</td>\n",
       "    </tr>\n",
       "    <tr>\n",
       "      <th>11</th>\n",
       "      <td>0</td>\n",
       "      <td>-792.701887</td>\n",
       "      <td>40</td>\n",
       "      <td>среднее</td>\n",
       "      <td>1</td>\n",
       "      <td>женат / замужем</td>\n",
       "      <td>0</td>\n",
       "      <td>F</td>\n",
       "      <td>сотрудник</td>\n",
       "      <td>0</td>\n",
       "      <td>77069.234271</td>\n",
       "      <td>покупка коммерческой недвижимости</td>\n",
       "    </tr>\n",
       "    <tr>\n",
       "      <th>12</th>\n",
       "      <td>0</td>\n",
       "      <td>NaN</td>\n",
       "      <td>65</td>\n",
       "      <td>среднее</td>\n",
       "      <td>1</td>\n",
       "      <td>гражданский брак</td>\n",
       "      <td>1</td>\n",
       "      <td>M</td>\n",
       "      <td>пенсионер</td>\n",
       "      <td>0</td>\n",
       "      <td>NaN</td>\n",
       "      <td>сыграть свадьбу</td>\n",
       "    </tr>\n",
       "    <tr>\n",
       "      <th>13</th>\n",
       "      <td>0</td>\n",
       "      <td>-1846.641941</td>\n",
       "      <td>54</td>\n",
       "      <td>неоконченное высшее</td>\n",
       "      <td>2</td>\n",
       "      <td>женат / замужем</td>\n",
       "      <td>0</td>\n",
       "      <td>F</td>\n",
       "      <td>сотрудник</td>\n",
       "      <td>0</td>\n",
       "      <td>130458.228857</td>\n",
       "      <td>приобретение автомобиля</td>\n",
       "    </tr>\n",
       "    <tr>\n",
       "      <th>14</th>\n",
       "      <td>0</td>\n",
       "      <td>-1844.956182</td>\n",
       "      <td>56</td>\n",
       "      <td>высшее</td>\n",
       "      <td>0</td>\n",
       "      <td>гражданский брак</td>\n",
       "      <td>1</td>\n",
       "      <td>F</td>\n",
       "      <td>компаньон</td>\n",
       "      <td>1</td>\n",
       "      <td>165127.911772</td>\n",
       "      <td>покупка жилой недвижимости</td>\n",
       "    </tr>\n",
       "    <tr>\n",
       "      <th>15</th>\n",
       "      <td>1</td>\n",
       "      <td>-972.364419</td>\n",
       "      <td>26</td>\n",
       "      <td>среднее</td>\n",
       "      <td>1</td>\n",
       "      <td>женат / замужем</td>\n",
       "      <td>0</td>\n",
       "      <td>F</td>\n",
       "      <td>сотрудник</td>\n",
       "      <td>0</td>\n",
       "      <td>116820.904450</td>\n",
       "      <td>строительство собственной недвижимости</td>\n",
       "    </tr>\n",
       "    <tr>\n",
       "      <th>16</th>\n",
       "      <td>0</td>\n",
       "      <td>-1719.934226</td>\n",
       "      <td>35</td>\n",
       "      <td>среднее</td>\n",
       "      <td>1</td>\n",
       "      <td>женат / замужем</td>\n",
       "      <td>0</td>\n",
       "      <td>F</td>\n",
       "      <td>сотрудник</td>\n",
       "      <td>0</td>\n",
       "      <td>289202.704229</td>\n",
       "      <td>недвижимость</td>\n",
       "    </tr>\n",
       "    <tr>\n",
       "      <th>17</th>\n",
       "      <td>0</td>\n",
       "      <td>-2369.999720</td>\n",
       "      <td>33</td>\n",
       "      <td>высшее</td>\n",
       "      <td>0</td>\n",
       "      <td>гражданский брак</td>\n",
       "      <td>1</td>\n",
       "      <td>M</td>\n",
       "      <td>сотрудник</td>\n",
       "      <td>0</td>\n",
       "      <td>90410.586745</td>\n",
       "      <td>строительство недвижимости</td>\n",
       "    </tr>\n",
       "    <tr>\n",
       "      <th>18</th>\n",
       "      <td>0</td>\n",
       "      <td>400281.136913</td>\n",
       "      <td>53</td>\n",
       "      <td>среднее</td>\n",
       "      <td>1</td>\n",
       "      <td>вдовец / вдова</td>\n",
       "      <td>2</td>\n",
       "      <td>F</td>\n",
       "      <td>пенсионер</td>\n",
       "      <td>0</td>\n",
       "      <td>56823.777243</td>\n",
       "      <td>на покупку подержанного автомобиля</td>\n",
       "    </tr>\n",
       "    <tr>\n",
       "      <th>19</th>\n",
       "      <td>0</td>\n",
       "      <td>-10038.818549</td>\n",
       "      <td>48</td>\n",
       "      <td>СРЕДНЕЕ</td>\n",
       "      <td>1</td>\n",
       "      <td>в разводе</td>\n",
       "      <td>3</td>\n",
       "      <td>F</td>\n",
       "      <td>сотрудник</td>\n",
       "      <td>0</td>\n",
       "      <td>242831.107982</td>\n",
       "      <td>на покупку своего автомобиля</td>\n",
       "    </tr>\n",
       "  </tbody>\n",
       "</table>\n",
       "</div>"
      ],
      "text/plain": [
       "    children  days_employed  dob_years            education  education_id  \\\n",
       "0          1   -8437.673028         42               высшее             0   \n",
       "1          1   -4024.803754         36              среднее             1   \n",
       "2          0   -5623.422610         33              Среднее             1   \n",
       "3          3   -4124.747207         32              среднее             1   \n",
       "4          0  340266.072047         53              среднее             1   \n",
       "5          0    -926.185831         27               высшее             0   \n",
       "6          0   -2879.202052         43               высшее             0   \n",
       "7          0    -152.779569         50              СРЕДНЕЕ             1   \n",
       "8          2   -6929.865299         35               ВЫСШЕЕ             0   \n",
       "9          0   -2188.756445         41              среднее             1   \n",
       "10         2   -4171.483647         36               высшее             0   \n",
       "11         0    -792.701887         40              среднее             1   \n",
       "12         0            NaN         65              среднее             1   \n",
       "13         0   -1846.641941         54  неоконченное высшее             2   \n",
       "14         0   -1844.956182         56               высшее             0   \n",
       "15         1    -972.364419         26              среднее             1   \n",
       "16         0   -1719.934226         35              среднее             1   \n",
       "17         0   -2369.999720         33               высшее             0   \n",
       "18         0  400281.136913         53              среднее             1   \n",
       "19         0  -10038.818549         48              СРЕДНЕЕ             1   \n",
       "\n",
       "       family_status  family_status_id gender income_type  debt  \\\n",
       "0    женат / замужем                 0      F   сотрудник     0   \n",
       "1    женат / замужем                 0      F   сотрудник     0   \n",
       "2    женат / замужем                 0      M   сотрудник     0   \n",
       "3    женат / замужем                 0      M   сотрудник     0   \n",
       "4   гражданский брак                 1      F   пенсионер     0   \n",
       "5   гражданский брак                 1      M   компаньон     0   \n",
       "6    женат / замужем                 0      F   компаньон     0   \n",
       "7    женат / замужем                 0      M   сотрудник     0   \n",
       "8   гражданский брак                 1      F   сотрудник     0   \n",
       "9    женат / замужем                 0      M   сотрудник     0   \n",
       "10   женат / замужем                 0      M   компаньон     0   \n",
       "11   женат / замужем                 0      F   сотрудник     0   \n",
       "12  гражданский брак                 1      M   пенсионер     0   \n",
       "13   женат / замужем                 0      F   сотрудник     0   \n",
       "14  гражданский брак                 1      F   компаньон     1   \n",
       "15   женат / замужем                 0      F   сотрудник     0   \n",
       "16   женат / замужем                 0      F   сотрудник     0   \n",
       "17  гражданский брак                 1      M   сотрудник     0   \n",
       "18    вдовец / вдова                 2      F   пенсионер     0   \n",
       "19         в разводе                 3      F   сотрудник     0   \n",
       "\n",
       "     total_income                                 purpose  \n",
       "0   253875.639453                           покупка жилья  \n",
       "1   112080.014102                 приобретение автомобиля  \n",
       "2   145885.952297                           покупка жилья  \n",
       "3   267628.550329              дополнительное образование  \n",
       "4   158616.077870                         сыграть свадьбу  \n",
       "5   255763.565419                           покупка жилья  \n",
       "6   240525.971920                       операции с жильем  \n",
       "7   135823.934197                             образование  \n",
       "8    95856.832424                   на проведение свадьбы  \n",
       "9   144425.938277                 покупка жилья для семьи  \n",
       "10  113943.491460                    покупка недвижимости  \n",
       "11   77069.234271       покупка коммерческой недвижимости  \n",
       "12            NaN                         сыграть свадьбу  \n",
       "13  130458.228857                 приобретение автомобиля  \n",
       "14  165127.911772              покупка жилой недвижимости  \n",
       "15  116820.904450  строительство собственной недвижимости  \n",
       "16  289202.704229                            недвижимость  \n",
       "17   90410.586745              строительство недвижимости  \n",
       "18   56823.777243      на покупку подержанного автомобиля  \n",
       "19  242831.107982            на покупку своего автомобиля  "
      ]
     },
     "execution_count": 2,
     "metadata": {},
     "output_type": "execute_result"
    }
   ],
   "source": [
    "data.head(20)"
   ]
  },
  {
   "cell_type": "markdown",
   "id": "d95a53be",
   "metadata": {
    "deletable": false,
    "editable": false,
    "id": "1c12e233"
   },
   "source": [
    "**Задание 3. Выведите основную информацию о датафрейме с помощью метода `info()`.**"
   ]
  },
  {
   "cell_type": "code",
   "execution_count": 3,
   "id": "c5c49678",
   "metadata": {
    "deletable": false,
    "id": "2b757bca",
    "outputId": "15376089-8dad-46c9-b520-c05248d43158"
   },
   "outputs": [
    {
     "name": "stdout",
     "output_type": "stream",
     "text": [
      "<class 'pandas.core.frame.DataFrame'>\n",
      "RangeIndex: 21525 entries, 0 to 21524\n",
      "Data columns (total 12 columns):\n",
      " #   Column            Non-Null Count  Dtype  \n",
      "---  ------            --------------  -----  \n",
      " 0   children          21525 non-null  int64  \n",
      " 1   days_employed     19351 non-null  float64\n",
      " 2   dob_years         21525 non-null  int64  \n",
      " 3   education         21525 non-null  object \n",
      " 4   education_id      21525 non-null  int64  \n",
      " 5   family_status     21525 non-null  object \n",
      " 6   family_status_id  21525 non-null  int64  \n",
      " 7   gender            21525 non-null  object \n",
      " 8   income_type       21525 non-null  object \n",
      " 9   debt              21525 non-null  int64  \n",
      " 10  total_income      19351 non-null  float64\n",
      " 11  purpose           21525 non-null  object \n",
      "dtypes: float64(2), int64(5), object(5)\n",
      "memory usage: 2.0+ MB\n"
     ]
    }
   ],
   "source": [
    "data.info()"
   ]
  },
  {
   "cell_type": "markdown",
   "id": "73895fc5",
   "metadata": {
    "deletable": false,
    "editable": false,
    "id": "333ec665"
   },
   "source": [
    "## Предобработка данных"
   ]
  },
  {
   "cell_type": "markdown",
   "id": "0cf36f45",
   "metadata": {
    "deletable": false,
    "editable": false,
    "id": "02d92d53"
   },
   "source": [
    "### Удаление пропусков"
   ]
  },
  {
   "cell_type": "markdown",
   "id": "699da7f4",
   "metadata": {
    "deletable": false,
    "editable": false,
    "id": "cd84967c"
   },
   "source": [
    "**Задание 4. Выведите количество пропущенных значений для каждого столбца. Используйте комбинацию двух методов.**"
   ]
  },
  {
   "cell_type": "code",
   "execution_count": 4,
   "id": "5e99f025",
   "metadata": {
    "deletable": false,
    "id": "7f9b2309",
    "outputId": "81f4d817-781c-465c-ed15-91ce4446810d"
   },
   "outputs": [
    {
     "data": {
      "text/plain": [
       "children               0\n",
       "days_employed       2174\n",
       "dob_years              0\n",
       "education              0\n",
       "education_id           0\n",
       "family_status          0\n",
       "family_status_id       0\n",
       "gender                 0\n",
       "income_type            0\n",
       "debt                   0\n",
       "total_income        2174\n",
       "purpose                0\n",
       "dtype: int64"
      ]
     },
     "execution_count": 4,
     "metadata": {},
     "output_type": "execute_result"
    }
   ],
   "source": [
    "data.isna().sum()"
   ]
  },
  {
   "cell_type": "markdown",
   "id": "8eca275c",
   "metadata": {
    "deletable": false,
    "editable": false,
    "id": "db86e27b"
   },
   "source": [
    "**Задание 5. В двух столбцах есть пропущенные значения. Один из них — `days_employed`. Пропуски в этом столбце вы обработаете на следующем этапе. Другой столбец с пропущенными значениями — `total_income` — хранит данные о доходах. На сумму дохода сильнее всего влияет тип занятости, поэтому заполнить пропуски в этом столбце нужно медианным значением по каждому типу из столбца `income_type`. Например, у человека с типом занятости `сотрудник` пропуск в столбце `total_income` должен быть заполнен медианным доходом среди всех записей с тем же типом.**"
   ]
  },
  {
   "cell_type": "code",
   "execution_count": 5,
   "id": "27f51628",
   "metadata": {
    "deletable": false,
    "id": "42006a93"
   },
   "outputs": [],
   "source": [
    "for t in data['income_type'].unique():\n",
    "    data.loc[(data['income_type'] == t) & (data['total_income'].isna()), 'total_income'] = \\\n",
    "    data.loc[(data['income_type'] == t), 'total_income'].median()"
   ]
  },
  {
   "cell_type": "markdown",
   "id": "5e7488dd",
   "metadata": {
    "deletable": false,
    "editable": false,
    "id": "89da5ece"
   },
   "source": [
    "### Обработка аномальных значений"
   ]
  },
  {
   "cell_type": "markdown",
   "id": "c4a772dd",
   "metadata": {
    "deletable": false,
    "editable": false,
    "id": "57964554"
   },
   "source": [
    "**Задание 6. В данных могут встречаться артефакты (аномалии) — значения, которые не отражают действительность и появились по какой-то ошибке. таким артефактом будет отрицательное количество дней трудового стажа в столбце `days_employed`. Для реальных данных это нормально. Обработайте значения в этом столбце: замените все отрицательные значения положительными с помощью метода `abs()`.**"
   ]
  },
  {
   "cell_type": "code",
   "execution_count": 6,
   "id": "63f6993f",
   "metadata": {
    "deletable": false,
    "id": "f6f055bf"
   },
   "outputs": [],
   "source": [
    "data['days_employed'] = data['days_employed'].abs()"
   ]
  },
  {
   "cell_type": "markdown",
   "id": "85a43582",
   "metadata": {
    "deletable": false,
    "editable": false,
    "id": "6107dd2f"
   },
   "source": [
    "**Задание 7. Для каждого типа занятости выведите медианное значение трудового стажа `days_employed` в днях.**"
   ]
  },
  {
   "cell_type": "code",
   "execution_count": 7,
   "id": "9e5d0278",
   "metadata": {
    "deletable": false,
    "id": "85a5faf6",
    "outputId": "801ef80e-522b-4668-f34e-565af7432bcf"
   },
   "outputs": [
    {
     "data": {
      "text/plain": [
       "income_type\n",
       "безработный        366413.652744\n",
       "в декрете            3296.759962\n",
       "госслужащий          2689.368353\n",
       "компаньон            1547.382223\n",
       "пенсионер          365213.306266\n",
       "предприниматель       520.848083\n",
       "сотрудник            1574.202821\n",
       "студент               578.751554\n",
       "Name: days_employed, dtype: float64"
      ]
     },
     "execution_count": 7,
     "metadata": {},
     "output_type": "execute_result"
    }
   ],
   "source": [
    "data.groupby('income_type')['days_employed'].agg('median')"
   ]
  },
  {
   "cell_type": "markdown",
   "id": "c3d167e8",
   "metadata": {
    "deletable": false,
    "editable": false,
    "id": "38d1a030"
   },
   "source": [
    "У двух типов (безработные и пенсионеры) получатся аномально большие значения. Исправить такие значения сложно, поэтому оставьте их как есть. Тем более этот столбец не понадобится вам для исследования."
   ]
  },
  {
   "cell_type": "markdown",
   "id": "3f601c01",
   "metadata": {
    "deletable": false,
    "editable": false,
    "id": "d8a9f147"
   },
   "source": [
    "**Задание 8. Выведите перечень уникальных значений столбца `children`.**"
   ]
  },
  {
   "cell_type": "code",
   "execution_count": 8,
   "id": "bcc3788d",
   "metadata": {
    "deletable": false,
    "id": "ef5056eb",
    "outputId": "6975b15c-7f95-4697-d16d-a0c79b657b03"
   },
   "outputs": [
    {
     "data": {
      "text/plain": [
       "array([ 1,  0,  3,  2, -1,  4, 20,  5])"
      ]
     },
     "execution_count": 8,
     "metadata": {},
     "output_type": "execute_result"
    }
   ],
   "source": [
    "data['children'].unique()"
   ]
  },
  {
   "cell_type": "markdown",
   "id": "2b748fb4",
   "metadata": {
    "deletable": false,
    "editable": false,
    "id": "40b9ebf2"
   },
   "source": [
    "**Задание 9. В столбце `children` есть два аномальных значения. Удалите строки, в которых встречаются такие аномальные значения из датафрейма `data`.**"
   ]
  },
  {
   "cell_type": "code",
   "execution_count": 9,
   "id": "713bbb76",
   "metadata": {
    "deletable": false,
    "id": "3ff9801d"
   },
   "outputs": [],
   "source": [
    "data = data[(data['children'] != -1) & (data['children'] != 20)]"
   ]
  },
  {
   "cell_type": "markdown",
   "id": "4032b92a",
   "metadata": {
    "deletable": false,
    "editable": false,
    "id": "bbc4d0ce"
   },
   "source": [
    "**Задание 10. Ещё раз выведите перечень уникальных значений столбца `children`, чтобы убедиться, что артефакты удалены.**"
   ]
  },
  {
   "cell_type": "code",
   "execution_count": 10,
   "id": "a74ae127",
   "metadata": {
    "deletable": false,
    "id": "ad4fa8b7",
    "outputId": "b2097101-d49d-44d9-901b-32a65c9463d1"
   },
   "outputs": [
    {
     "data": {
      "text/plain": [
       "array([1, 0, 3, 2, 4, 5])"
      ]
     },
     "execution_count": 10,
     "metadata": {},
     "output_type": "execute_result"
    }
   ],
   "source": [
    "data['children'].unique()"
   ]
  },
  {
   "cell_type": "markdown",
   "id": "b0a93d67",
   "metadata": {
    "deletable": false,
    "editable": false,
    "id": "75440b63"
   },
   "source": [
    "### Удаление пропусков (продолжение)"
   ]
  },
  {
   "cell_type": "markdown",
   "id": "6d6e7294",
   "metadata": {
    "deletable": false,
    "editable": false,
    "id": "f4ea573f"
   },
   "source": [
    "**Задание 11. Заполните пропуски в столбце `days_employed` медианными значениями по каждого типа занятости `income_type`.**"
   ]
  },
  {
   "cell_type": "code",
   "execution_count": 11,
   "id": "f7137417",
   "metadata": {
    "deletable": false,
    "id": "af6b1a7e"
   },
   "outputs": [],
   "source": [
    "for t in data['income_type'].unique():\n",
    "    data.loc[(data['income_type'] == t) & (data['days_employed'].isna()), 'days_employed'] = \\\n",
    "    data.loc[(data['income_type'] == t), 'days_employed'].median()"
   ]
  },
  {
   "cell_type": "markdown",
   "id": "73f773e0",
   "metadata": {
    "deletable": false,
    "editable": false,
    "id": "2753f40d"
   },
   "source": [
    "**Задание 12. Убедитесь, что все пропуски заполнены. Проверьте себя и ещё раз выведите количество пропущенных значений для каждого столбца с помощью двух методов.**"
   ]
  },
  {
   "cell_type": "code",
   "execution_count": 12,
   "id": "819ea206",
   "metadata": {
    "deletable": false,
    "id": "55f78bc2",
    "outputId": "8da1e4e1-358e-4e87-98c9-f261bce0a7b2"
   },
   "outputs": [
    {
     "data": {
      "text/plain": [
       "children            0\n",
       "days_employed       0\n",
       "dob_years           0\n",
       "education           0\n",
       "education_id        0\n",
       "family_status       0\n",
       "family_status_id    0\n",
       "gender              0\n",
       "income_type         0\n",
       "debt                0\n",
       "total_income        0\n",
       "purpose             0\n",
       "dtype: int64"
      ]
     },
     "execution_count": 12,
     "metadata": {},
     "output_type": "execute_result"
    }
   ],
   "source": [
    "data.isna().sum()"
   ]
  },
  {
   "cell_type": "markdown",
   "id": "491fc17e",
   "metadata": {
    "deletable": false,
    "editable": false,
    "id": "ddc81e43"
   },
   "source": [
    "### Изменение типов данных"
   ]
  },
  {
   "cell_type": "markdown",
   "id": "c29ed717",
   "metadata": {
    "deletable": false,
    "editable": false,
    "id": "42d19d24"
   },
   "source": [
    "**Задание 13. Замените вещественный тип данных в столбце `total_income` на целочисленный с помощью метода `astype()`.**"
   ]
  },
  {
   "cell_type": "code",
   "execution_count": 13,
   "id": "9650effc",
   "metadata": {
    "deletable": false,
    "id": "920b65ad"
   },
   "outputs": [],
   "source": [
    "data['total_income'] = data['total_income'].astype(int)"
   ]
  },
  {
   "cell_type": "markdown",
   "id": "36394ce9",
   "metadata": {
    "deletable": false,
    "editable": false,
    "id": "80c420ba"
   },
   "source": [
    "### Обработка дубликатов"
   ]
  },
  {
   "cell_type": "markdown",
   "id": "5ec6bdfd",
   "metadata": {
    "deletable": false,
    "editable": false
   },
   "source": [
    "**Задание 14. Обработайте неявные дубликаты в столбце `education`. В этом столбце есть одни и те же значения, но записанные по-разному: с использованием заглавных и строчных букв. Приведите их к нижнему регистру. Проверьте остальные столбцы.**"
   ]
  },
  {
   "cell_type": "code",
   "execution_count": 14,
   "id": "04a64dba",
   "metadata": {
    "deletable": false
   },
   "outputs": [],
   "source": [
    "data['education'] = data['education'].str.lower()"
   ]
  },
  {
   "cell_type": "markdown",
   "id": "9be53a0d",
   "metadata": {
    "deletable": false,
    "editable": false,
    "id": "dc587695"
   },
   "source": [
    "**Задание 15. Выведите на экран количество строк-дубликатов в данных. Если такие строки присутствуют, удалите их.**"
   ]
  },
  {
   "cell_type": "code",
   "execution_count": 15,
   "id": "c4b60db9",
   "metadata": {
    "deletable": false,
    "id": "3ee445e4",
    "outputId": "9684deba-1934-42d1-99e1-cda61740f822"
   },
   "outputs": [
    {
     "data": {
      "text/plain": [
       "71"
      ]
     },
     "execution_count": 15,
     "metadata": {},
     "output_type": "execute_result"
    }
   ],
   "source": [
    "data.duplicated().sum()"
   ]
  },
  {
   "cell_type": "code",
   "execution_count": 16,
   "id": "fc227ada",
   "metadata": {
    "deletable": false,
    "id": "8575fe05"
   },
   "outputs": [],
   "source": [
    "data = data.drop_duplicates()"
   ]
  },
  {
   "cell_type": "markdown",
   "id": "be3b34e6",
   "metadata": {
    "deletable": false,
    "editable": false,
    "id": "9904cf55"
   },
   "source": [
    "### Категоризация данных"
   ]
  },
  {
   "cell_type": "markdown",
   "id": "8ad7bb02",
   "metadata": {
    "deletable": false,
    "editable": false,
    "id": "72fcc8a2"
   },
   "source": [
    "**Задание 16. На основании диапазонов, указанных ниже, создайте в датафрейме `data` столбец `total_income_category` с категориями:**\n",
    "\n",
    "- 0–30000 — `'E'`;\n",
    "- 30001–50000 — `'D'`;\n",
    "- 50001–200000 — `'C'`;\n",
    "- 200001–1000000 — `'B'`;\n",
    "- 1000001 и выше — `'A'`.\n",
    "\n",
    "\n",
    "**Например, кредитополучателю с доходом 25000 нужно назначить категорию `'E'`, а клиенту, получающему 235000, — `'B'`. Используйте собственную функцию с именем `categorize_income()` и метод `apply()`.**"
   ]
  },
  {
   "cell_type": "code",
   "execution_count": 17,
   "id": "70c6bcfa",
   "metadata": {
    "deletable": false,
    "id": "e1771346"
   },
   "outputs": [],
   "source": [
    "def categorize_income(income):\n",
    "    try:\n",
    "        if 0 <= income <= 30000:\n",
    "            return 'E'\n",
    "        elif 30001 <= income <= 50000:\n",
    "            return 'D'\n",
    "        elif 50001 <= income <= 200000:\n",
    "            return 'C'\n",
    "        elif 200001 <= income <= 1000000:\n",
    "            return 'B'\n",
    "        elif income >= 1000001:\n",
    "            return 'A'\n",
    "    except:\n",
    "        pass"
   ]
  },
  {
   "cell_type": "code",
   "execution_count": 18,
   "id": "5406b425",
   "metadata": {
    "deletable": false,
    "id": "d5f3586d"
   },
   "outputs": [],
   "source": [
    "data['total_income_category'] = data['total_income'].apply(categorize_income)"
   ]
  },
  {
   "cell_type": "markdown",
   "id": "a512bb31",
   "metadata": {
    "deletable": false,
    "editable": false,
    "id": "dde49b5c"
   },
   "source": [
    "**Задание 17. Выведите на экран перечень уникальных целей взятия кредита из столбца `purpose`.**"
   ]
  },
  {
   "cell_type": "code",
   "execution_count": 19,
   "id": "6e888ef6",
   "metadata": {
    "deletable": false,
    "id": "f67ce9b3",
    "outputId": "673c12d9-7d7e-4ae0-9812-c622c89dd244"
   },
   "outputs": [
    {
     "data": {
      "text/plain": [
       "array(['покупка жилья', 'приобретение автомобиля',\n",
       "       'дополнительное образование', 'сыграть свадьбу',\n",
       "       'операции с жильем', 'образование', 'на проведение свадьбы',\n",
       "       'покупка жилья для семьи', 'покупка недвижимости',\n",
       "       'покупка коммерческой недвижимости', 'покупка жилой недвижимости',\n",
       "       'строительство собственной недвижимости', 'недвижимость',\n",
       "       'строительство недвижимости', 'на покупку подержанного автомобиля',\n",
       "       'на покупку своего автомобиля',\n",
       "       'операции с коммерческой недвижимостью',\n",
       "       'строительство жилой недвижимости', 'жилье',\n",
       "       'операции со своей недвижимостью', 'автомобили',\n",
       "       'заняться образованием', 'сделка с подержанным автомобилем',\n",
       "       'получение образования', 'автомобиль', 'свадьба',\n",
       "       'получение дополнительного образования', 'покупка своего жилья',\n",
       "       'операции с недвижимостью', 'получение высшего образования',\n",
       "       'свой автомобиль', 'сделка с автомобилем',\n",
       "       'профильное образование', 'высшее образование',\n",
       "       'покупка жилья для сдачи', 'на покупку автомобиля', 'ремонт жилью',\n",
       "       'заняться высшим образованием'], dtype=object)"
      ]
     },
     "execution_count": 19,
     "metadata": {},
     "output_type": "execute_result"
    }
   ],
   "source": [
    "data['purpose'].unique()"
   ]
  },
  {
   "cell_type": "markdown",
   "id": "909c14ed",
   "metadata": {
    "deletable": false,
    "editable": false,
    "id": "85d0aef0"
   },
   "source": [
    "**Задание 18. Создайте функцию, которая на основании данных из столбца `purpose` сформирует новый столбец `purpose_category`, в который войдут следующие категории:**\n",
    "\n",
    "- `'операции с автомобилем'`,\n",
    "- `'операции с недвижимостью'`,\n",
    "- `'проведение свадьбы'`,\n",
    "- `'получение образования'`.\n",
    "\n",
    "**Например, если в столбце `purpose` находится подстрока `'на покупку автомобиля'`, то в столбце `purpose_category` должна появиться строка `'операции с автомобилем'`.**\n",
    "\n",
    "**Используйте собственную функцию с именем `categorize_purpose()` и метод `apply()`. Изучите данные в столбце `purpose` и определите, какие подстроки помогут вам правильно определить категорию.**"
   ]
  },
  {
   "cell_type": "code",
   "execution_count": 20,
   "id": "8c8a0b07",
   "metadata": {
    "deletable": false,
    "id": "e149fab4"
   },
   "outputs": [],
   "source": [
    "def categorize_purpose(row):\n",
    "    try:\n",
    "        if 'автом' in row:\n",
    "            return 'операции с автомобилем'\n",
    "        elif 'жил' in row or 'недвиж' in row:\n",
    "            return 'операции с недвижимостью'\n",
    "        elif 'свад' in row:\n",
    "            return 'проведение свадьбы'\n",
    "        elif 'образов' in row:\n",
    "            return 'получение образования'\n",
    "    except:\n",
    "        return 'нет категории'"
   ]
  },
  {
   "cell_type": "code",
   "execution_count": 21,
   "id": "b665f383",
   "metadata": {
    "deletable": false,
    "id": "bf36e69b"
   },
   "outputs": [],
   "source": [
    "data['purpose_category'] = data['purpose'].apply(categorize_purpose)"
   ]
  },
  {
   "cell_type": "markdown",
   "id": "22de6045",
   "metadata": {
    "deletable": false,
    "editable": false,
    "id": "09b242bf"
   },
   "source": [
    "### Шаг 3. Исследуйте данные и ответьте на вопросы"
   ]
  },
  {
   "cell_type": "markdown",
   "id": "f86c3aff",
   "metadata": {
    "deletable": false,
    "editable": false,
    "id": "c5d66278"
   },
   "source": [
    "#### 3.1 Есть ли зависимость между количеством детей и возвратом кредита в срок?"
   ]
  },
  {
   "cell_type": "code",
   "execution_count": 22,
   "id": "f5de4331",
   "metadata": {
    "deletable": false,
    "id": "2cacfc4a",
    "scrolled": false
   },
   "outputs": [
    {
     "data": {
      "text/html": [
       "<div>\n",
       "<style scoped>\n",
       "    .dataframe tbody tr th:only-of-type {\n",
       "        vertical-align: middle;\n",
       "    }\n",
       "\n",
       "    .dataframe tbody tr th {\n",
       "        vertical-align: top;\n",
       "    }\n",
       "\n",
       "    .dataframe thead tr th {\n",
       "        text-align: left;\n",
       "    }\n",
       "\n",
       "    .dataframe thead tr:last-of-type th {\n",
       "        text-align: right;\n",
       "    }\n",
       "</style>\n",
       "<table border=\"1\" class=\"dataframe\">\n",
       "  <thead>\n",
       "    <tr>\n",
       "      <th></th>\n",
       "      <th colspan=\"2\" halign=\"left\">debt</th>\n",
       "      <th>ratio</th>\n",
       "      <th>percent</th>\n",
       "    </tr>\n",
       "    <tr>\n",
       "      <th></th>\n",
       "      <th>count</th>\n",
       "      <th>sum</th>\n",
       "      <th></th>\n",
       "      <th></th>\n",
       "    </tr>\n",
       "    <tr>\n",
       "      <th>children</th>\n",
       "      <th></th>\n",
       "      <th></th>\n",
       "      <th></th>\n",
       "      <th></th>\n",
       "    </tr>\n",
       "  </thead>\n",
       "  <tbody>\n",
       "    <tr>\n",
       "      <th>0</th>\n",
       "      <td>14091</td>\n",
       "      <td>1063</td>\n",
       "      <td>0.075438</td>\n",
       "      <td>7.543822</td>\n",
       "    </tr>\n",
       "    <tr>\n",
       "      <th>1</th>\n",
       "      <td>4808</td>\n",
       "      <td>444</td>\n",
       "      <td>0.092346</td>\n",
       "      <td>9.234609</td>\n",
       "    </tr>\n",
       "    <tr>\n",
       "      <th>2</th>\n",
       "      <td>2052</td>\n",
       "      <td>194</td>\n",
       "      <td>0.094542</td>\n",
       "      <td>9.454191</td>\n",
       "    </tr>\n",
       "    <tr>\n",
       "      <th>3</th>\n",
       "      <td>330</td>\n",
       "      <td>27</td>\n",
       "      <td>0.081818</td>\n",
       "      <td>8.181818</td>\n",
       "    </tr>\n",
       "    <tr>\n",
       "      <th>4</th>\n",
       "      <td>41</td>\n",
       "      <td>4</td>\n",
       "      <td>0.097561</td>\n",
       "      <td>9.756098</td>\n",
       "    </tr>\n",
       "    <tr>\n",
       "      <th>5</th>\n",
       "      <td>9</td>\n",
       "      <td>0</td>\n",
       "      <td>0.000000</td>\n",
       "      <td>0.000000</td>\n",
       "    </tr>\n",
       "  </tbody>\n",
       "</table>\n",
       "</div>"
      ],
      "text/plain": [
       "           debt           ratio   percent\n",
       "          count   sum                    \n",
       "children                                 \n",
       "0         14091  1063  0.075438  7.543822\n",
       "1          4808   444  0.092346  9.234609\n",
       "2          2052   194  0.094542  9.454191\n",
       "3           330    27  0.081818  8.181818\n",
       "4            41     4  0.097561  9.756098\n",
       "5             9     0  0.000000  0.000000"
      ]
     },
     "metadata": {},
     "output_type": "display_data"
    }
   ],
   "source": [
    "# Применяем комбинацию методов groupby() и agg() \n",
    "# Получаем таблицу по категориям, с общим количеством заемщиков в каждой категории (колонка 'count') и количеством должников('sum') \n",
    "data_children_grouped = data.groupby('children').agg({'debt': ['count', 'sum']})\n",
    "data_children_grouped['ratio'] = data_children_grouped['debt']['sum'] / data_children_grouped['debt']['count'] # считаем долю должников\n",
    "data_children_grouped['percent'] = data_children_grouped['ratio'] *100 # переводим в проценты для наглядности\n",
    "display(data_children_grouped)"
   ]
  },
  {
   "cell_type": "code",
   "execution_count": 23,
   "id": "06eefc2d",
   "metadata": {
    "scrolled": false
   },
   "outputs": [
    {
     "data": {
      "text/plain": [
       "<AxesSubplot:ylabel='percent'>"
      ]
     },
     "execution_count": 23,
     "metadata": {},
     "output_type": "execute_result"
    },
    {
     "data": {
      "image/png": "[encoded data removed]",
      "text/plain": [
       "<Figure size 432x288 with 1 Axes>"
      ]
     },
     "metadata": {
      "needs_background": "light"
     },
     "output_type": "display_data"
    }
   ],
   "source": [
    "seaborn.barplot(x = [0,1,2,3,4,5], y = data_children_grouped['percent']) # строим график - процент дожников в каждой категории"
   ]
  },
  {
   "cell_type": "markdown",
   "id": "046c83f4",
   "metadata": {
    "deletable": false,
    "id": "3a6b99ec"
   },
   "source": [
    "**Вывод:** \n",
    "* Доля должников по кредитам колеблется от 0 до почти 10%. \n",
    "* При этом среди заемщиков с пятью детьми должников нет. Однако таких всего 9, поэтому, возможно, данные по этой категории не являются реперзентативными. \n",
    "* Среди остальных категорий меньше всего долгов у бездетных - 7,5%\n",
    "* У заемщиков с детьми не наблюдается прямой зависимости доли невозвращенных кредитов от количества детей. Наименьший процент должников среди \"детных\" у родителей троих детей - 8%. У остальных групп различия небольшие от 9,2% до 9,8%\n",
    "\n",
    "**Таким образом, можно сказать, что между отсутствием детей и возвратом кредита в срок есть зависимость. А от количества детей своевременный возврат кредита не зависит.**"
   ]
  },
  {
   "cell_type": "markdown",
   "id": "68257875",
   "metadata": {},
   "source": [
    "<div class=\"alert alert-success\">\n",
    "<font size=\"5\"><b>Комментарий ревьюера</b></font>\n",
    "\n",
    "Успех: Вывод не противоречит полученному результату. \n",
    "\n",
    "</div>"
   ]
  },
  {
   "cell_type": "markdown",
   "id": "e7640971",
   "metadata": {
    "deletable": false,
    "editable": false,
    "id": "97be82ca"
   },
   "source": [
    "#### 3.2 Есть ли зависимость между семейным положением и возвратом кредита в срок?"
   ]
  },
  {
   "cell_type": "code",
   "execution_count": 24,
   "id": "5d601727",
   "metadata": {
    "deletable": false,
    "id": "dc3f7ee8",
    "scrolled": true
   },
   "outputs": [
    {
     "data": {
      "text/html": [
       "<div>\n",
       "<style scoped>\n",
       "    .dataframe tbody tr th:only-of-type {\n",
       "        vertical-align: middle;\n",
       "    }\n",
       "\n",
       "    .dataframe tbody tr th {\n",
       "        vertical-align: top;\n",
       "    }\n",
       "\n",
       "    .dataframe thead th {\n",
       "        text-align: right;\n",
       "    }\n",
       "</style>\n",
       "<table border=\"1\" class=\"dataframe\">\n",
       "  <thead>\n",
       "    <tr style=\"text-align: right;\">\n",
       "      <th></th>\n",
       "      <th>family_status_id</th>\n",
       "      <th>family_status</th>\n",
       "    </tr>\n",
       "  </thead>\n",
       "  <tbody>\n",
       "    <tr>\n",
       "      <th>0</th>\n",
       "      <td>0</td>\n",
       "      <td>женат / замужем</td>\n",
       "    </tr>\n",
       "    <tr>\n",
       "      <th>1</th>\n",
       "      <td>1</td>\n",
       "      <td>гражданский брак</td>\n",
       "    </tr>\n",
       "    <tr>\n",
       "      <th>2</th>\n",
       "      <td>2</td>\n",
       "      <td>вдовец / вдова</td>\n",
       "    </tr>\n",
       "    <tr>\n",
       "      <th>3</th>\n",
       "      <td>3</td>\n",
       "      <td>в разводе</td>\n",
       "    </tr>\n",
       "    <tr>\n",
       "      <th>4</th>\n",
       "      <td>4</td>\n",
       "      <td>Не женат / не замужем</td>\n",
       "    </tr>\n",
       "  </tbody>\n",
       "</table>\n",
       "</div>"
      ],
      "text/plain": [
       "   family_status_id          family_status\n",
       "0                 0        женат / замужем\n",
       "1                 1       гражданский брак\n",
       "2                 2         вдовец / вдова\n",
       "3                 3              в разводе\n",
       "4                 4  Не женат / не замужем"
      ]
     },
     "metadata": {},
     "output_type": "display_data"
    }
   ],
   "source": [
    "# создаем \"справочник\" категорий семейного положения\n",
    "data_family_dict = data[['family_status_id', 'family_status']] \n",
    "data_family_dict = data_family_dict.drop_duplicates().reset_index(drop=True)\n",
    "display(data_family_dict)"
   ]
  },
  {
   "cell_type": "code",
   "execution_count": 25,
   "id": "e9ee71af",
   "metadata": {
    "scrolled": true
   },
   "outputs": [
    {
     "data": {
      "text/html": [
       "<div>\n",
       "<style scoped>\n",
       "    .dataframe tbody tr th:only-of-type {\n",
       "        vertical-align: middle;\n",
       "    }\n",
       "\n",
       "    .dataframe tbody tr th {\n",
       "        vertical-align: top;\n",
       "    }\n",
       "\n",
       "    .dataframe thead tr th {\n",
       "        text-align: left;\n",
       "    }\n",
       "\n",
       "    .dataframe thead tr:last-of-type th {\n",
       "        text-align: right;\n",
       "    }\n",
       "</style>\n",
       "<table border=\"1\" class=\"dataframe\">\n",
       "  <thead>\n",
       "    <tr>\n",
       "      <th></th>\n",
       "      <th colspan=\"2\" halign=\"left\">debt</th>\n",
       "      <th>ratio</th>\n",
       "      <th>percent</th>\n",
       "    </tr>\n",
       "    <tr>\n",
       "      <th></th>\n",
       "      <th>count</th>\n",
       "      <th>sum</th>\n",
       "      <th></th>\n",
       "      <th></th>\n",
       "    </tr>\n",
       "    <tr>\n",
       "      <th>family_status_id</th>\n",
       "      <th></th>\n",
       "      <th></th>\n",
       "      <th></th>\n",
       "      <th></th>\n",
       "    </tr>\n",
       "  </thead>\n",
       "  <tbody>\n",
       "    <tr>\n",
       "      <th>0</th>\n",
       "      <td>12261</td>\n",
       "      <td>927</td>\n",
       "      <td>0.075606</td>\n",
       "      <td>7.560558</td>\n",
       "    </tr>\n",
       "    <tr>\n",
       "      <th>1</th>\n",
       "      <td>4134</td>\n",
       "      <td>385</td>\n",
       "      <td>0.093130</td>\n",
       "      <td>9.313014</td>\n",
       "    </tr>\n",
       "    <tr>\n",
       "      <th>2</th>\n",
       "      <td>951</td>\n",
       "      <td>63</td>\n",
       "      <td>0.066246</td>\n",
       "      <td>6.624606</td>\n",
       "    </tr>\n",
       "    <tr>\n",
       "      <th>3</th>\n",
       "      <td>1189</td>\n",
       "      <td>84</td>\n",
       "      <td>0.070648</td>\n",
       "      <td>7.064760</td>\n",
       "    </tr>\n",
       "    <tr>\n",
       "      <th>4</th>\n",
       "      <td>2796</td>\n",
       "      <td>273</td>\n",
       "      <td>0.097639</td>\n",
       "      <td>9.763948</td>\n",
       "    </tr>\n",
       "  </tbody>\n",
       "</table>\n",
       "</div>"
      ],
      "text/plain": [
       "                   debt          ratio   percent\n",
       "                  count  sum                    \n",
       "family_status_id                                \n",
       "0                 12261  927  0.075606  7.560558\n",
       "1                  4134  385  0.093130  9.313014\n",
       "2                   951   63  0.066246  6.624606\n",
       "3                  1189   84  0.070648  7.064760\n",
       "4                  2796  273  0.097639  9.763948"
      ]
     },
     "metadata": {},
     "output_type": "display_data"
    }
   ],
   "source": [
    "# Снова применяем комбинацию методов groupby() и agg() \n",
    "data_family_grouped = data.groupby('family_status_id').agg({'debt': ['count', 'sum']})\n",
    "data_family_grouped['ratio'] = data_family_grouped['debt']['sum'] / data_family_grouped['debt']['count']\n",
    "data_family_grouped['percent'] = data_family_grouped['ratio'] *100\n",
    "display(data_family_grouped)"
   ]
  },
  {
   "cell_type": "code",
   "execution_count": 26,
   "id": "cb420cfa",
   "metadata": {},
   "outputs": [
    {
     "data": {
      "text/plain": [
       "<AxesSubplot:xlabel='percent', ylabel='family_status'>"
      ]
     },
     "execution_count": 26,
     "metadata": {},
     "output_type": "execute_result"
    },
    {
     "data": {
      "image/png": "[encoded data removed]",
      "text/plain": [
       "<Figure size 432x288 with 1 Axes>"
      ]
     },
     "metadata": {
      "needs_background": "light"
     },
     "output_type": "display_data"
    }
   ],
   "source": [
    "seaborn.barplot(x = data_family_grouped['percent'], y = data_family_dict['family_status']) #используем названия категорий из \"справочника\""
   ]
  },
  {
   "cell_type": "markdown",
   "id": "3d442ec5",
   "metadata": {
    "deletable": false,
    "id": "1cef7837"
   },
   "source": [
    "**Вывод:** \n",
    "\n",
    "* Процент не вернувших кредиты наиболее высок среди заемщиков не заключавших официальный брак. К ним относятся не женатые/не замужние - 9.8% должников, и состоящие в гражданском браке - 9.3%. Возможно, люди вступающие в официальный брак более ответственны.\n",
    "* Самый низкий процент должников среди вдовцов - 6.6%, на втором месте разведенные - 7%. Возможно, у этих категорий снизились расходы из-за потери семьи. Хотя у разведенных с детьми расходы наоборот могли вырасти. Возможно нужно их выделить в отдельную категорию и сравнить с разведенными без детей.\n",
    "\n",
    "**Таким образом, на срок возврата кредита влияет факт заключения официального брака.**\n"
   ]
  },
  {
   "cell_type": "markdown",
   "id": "fb47f58b",
   "metadata": {},
   "source": [
    "<div class=\"alert alert-success\">\n",
    "<font size=\"5\"><b>Комментарий ревьюера</b></font>\n",
    "\n",
    "Успех: Подумай над причиной получения такого результата. \n",
    "\n",
    "</div>"
   ]
  },
  {
   "cell_type": "markdown",
   "id": "fcf57eff",
   "metadata": {
    "deletable": false,
    "editable": false,
    "id": "1e8b2fca"
   },
   "source": [
    "#### 3.3 Есть ли зависимость между уровнем дохода и возвратом кредита в срок?"
   ]
  },
  {
   "cell_type": "code",
   "execution_count": 27,
   "id": "ed36c556",
   "metadata": {
    "deletable": false,
    "id": "cd7e3720"
   },
   "outputs": [
    {
     "data": {
      "text/html": [
       "<div>\n",
       "<style scoped>\n",
       "    .dataframe tbody tr th:only-of-type {\n",
       "        vertical-align: middle;\n",
       "    }\n",
       "\n",
       "    .dataframe tbody tr th {\n",
       "        vertical-align: top;\n",
       "    }\n",
       "\n",
       "    .dataframe thead tr th {\n",
       "        text-align: left;\n",
       "    }\n",
       "\n",
       "    .dataframe thead tr:last-of-type th {\n",
       "        text-align: right;\n",
       "    }\n",
       "</style>\n",
       "<table border=\"1\" class=\"dataframe\">\n",
       "  <thead>\n",
       "    <tr>\n",
       "      <th></th>\n",
       "      <th colspan=\"2\" halign=\"left\">debt</th>\n",
       "      <th>ratio</th>\n",
       "      <th>percent</th>\n",
       "    </tr>\n",
       "    <tr>\n",
       "      <th></th>\n",
       "      <th>count</th>\n",
       "      <th>sum</th>\n",
       "      <th></th>\n",
       "      <th></th>\n",
       "    </tr>\n",
       "    <tr>\n",
       "      <th>total_income_category</th>\n",
       "      <th></th>\n",
       "      <th></th>\n",
       "      <th></th>\n",
       "      <th></th>\n",
       "    </tr>\n",
       "  </thead>\n",
       "  <tbody>\n",
       "    <tr>\n",
       "      <th>A</th>\n",
       "      <td>25</td>\n",
       "      <td>2</td>\n",
       "      <td>0.080000</td>\n",
       "      <td>8.000000</td>\n",
       "    </tr>\n",
       "    <tr>\n",
       "      <th>B</th>\n",
       "      <td>5014</td>\n",
       "      <td>354</td>\n",
       "      <td>0.070602</td>\n",
       "      <td>7.060231</td>\n",
       "    </tr>\n",
       "    <tr>\n",
       "      <th>C</th>\n",
       "      <td>15921</td>\n",
       "      <td>1353</td>\n",
       "      <td>0.084982</td>\n",
       "      <td>8.498210</td>\n",
       "    </tr>\n",
       "    <tr>\n",
       "      <th>D</th>\n",
       "      <td>349</td>\n",
       "      <td>21</td>\n",
       "      <td>0.060172</td>\n",
       "      <td>6.017192</td>\n",
       "    </tr>\n",
       "    <tr>\n",
       "      <th>E</th>\n",
       "      <td>22</td>\n",
       "      <td>2</td>\n",
       "      <td>0.090909</td>\n",
       "      <td>9.090909</td>\n",
       "    </tr>\n",
       "  </tbody>\n",
       "</table>\n",
       "</div>"
      ],
      "text/plain": [
       "                        debt           ratio   percent\n",
       "                       count   sum                    \n",
       "total_income_category                                 \n",
       "A                         25     2  0.080000  8.000000\n",
       "B                       5014   354  0.070602  7.060231\n",
       "C                      15921  1353  0.084982  8.498210\n",
       "D                        349    21  0.060172  6.017192\n",
       "E                         22     2  0.090909  9.090909"
      ]
     },
     "metadata": {},
     "output_type": "display_data"
    }
   ],
   "source": [
    "data_income_grouped = data.groupby('total_income_category').agg({'debt': ['count', 'sum']})\n",
    "data_income_grouped['ratio'] = data_income_grouped['debt']['sum'] / data_income_grouped['debt']['count']\n",
    "data_income_grouped['percent'] = data_income_grouped['ratio'] *100\n",
    "display(data_income_grouped)"
   ]
  },
  {
   "cell_type": "code",
   "execution_count": 28,
   "id": "c21bab75",
   "metadata": {},
   "outputs": [
    {
     "data": {
      "text/plain": [
       "<AxesSubplot:xlabel='percent'>"
      ]
     },
     "execution_count": 28,
     "metadata": {},
     "output_type": "execute_result"
    },
    {
     "data": {
      "image/png": "[encoded data removed]",
      "text/plain": [
       "<Figure size 432x288 with 1 Axes>"
      ]
     },
     "metadata": {
      "needs_background": "light"
     },
     "output_type": "display_data"
    }
   ],
   "source": [
    "seaborn.barplot(x = data_income_grouped['percent'], y = ['более 100000','200001 - 1000000', '50001 - 200000', '30001 - 50000','не более 30000'])"
   ]
  },
  {
   "cell_type": "markdown",
   "id": "8a755f11",
   "metadata": {
    "deletable": false,
    "id": "e8593def"
   },
   "source": [
    "**Вывод:** \n",
    "* Самые недисциплинированные в части возврата кредитов заемщики с минимальным доходом. Среди людей с доходом 30 тыс. и меньше должников 8%. Однако таких заемщиков в выборке всего 22. Поэтому данные по ним могут быть не репрезентативными.\n",
    "* Людей с максимальными доходами всего 25. Данные по ним тоже могут не отражать точную картину.\n",
    "* В остальных категориях четкой взаимосвязи дохдода и количества должников не прослеживается. Их процент колеблется в пределах от 6 до 8.5.\n",
    "\n",
    "**Таким образом, возможно, существует зависимость между низким доходом (не более 30000р.) и возвратом кредита в срок,  по остальным категориям зависимости нет.**"
   ]
  },
  {
   "cell_type": "markdown",
   "id": "ca6c52d6",
   "metadata": {},
   "source": [
    "<div class=\"alert alert-success\">\n",
    "<font size=\"5\"><b>Комментарий ревьюера</b></font>\n",
    "\n",
    "Успех: Здорово, что ты знаешь о методе agg и умеешь его применять в анализе. \n",
    "\n",
    "</div>"
   ]
  },
  {
   "cell_type": "markdown",
   "id": "21f86fa9",
   "metadata": {
    "deletable": false,
    "editable": false,
    "id": "99ecbd1f"
   },
   "source": [
    "#### 3.4 Как разные цели кредита влияют на его возврат в срок?"
   ]
  },
  {
   "cell_type": "code",
   "execution_count": 29,
   "id": "0b630440",
   "metadata": {
    "scrolled": false
   },
   "outputs": [
    {
     "data": {
      "text/html": [
       "<div>\n",
       "<style scoped>\n",
       "    .dataframe tbody tr th:only-of-type {\n",
       "        vertical-align: middle;\n",
       "    }\n",
       "\n",
       "    .dataframe tbody tr th {\n",
       "        vertical-align: top;\n",
       "    }\n",
       "\n",
       "    .dataframe thead th {\n",
       "        text-align: right;\n",
       "    }\n",
       "</style>\n",
       "<table border=\"1\" class=\"dataframe\">\n",
       "  <thead>\n",
       "    <tr style=\"text-align: right;\">\n",
       "      <th>debt</th>\n",
       "      <th>0</th>\n",
       "      <th>1</th>\n",
       "      <th>total</th>\n",
       "      <th>ratio</th>\n",
       "      <th>percent</th>\n",
       "    </tr>\n",
       "    <tr>\n",
       "      <th>purpose_category</th>\n",
       "      <th></th>\n",
       "      <th></th>\n",
       "      <th></th>\n",
       "      <th></th>\n",
       "      <th></th>\n",
       "    </tr>\n",
       "  </thead>\n",
       "  <tbody>\n",
       "    <tr>\n",
       "      <th>операции с автомобилем</th>\n",
       "      <td>3879</td>\n",
       "      <td>400</td>\n",
       "      <td>4279</td>\n",
       "      <td>0.093480</td>\n",
       "      <td>9.347978</td>\n",
       "    </tr>\n",
       "    <tr>\n",
       "      <th>операции с недвижимостью</th>\n",
       "      <td>9971</td>\n",
       "      <td>780</td>\n",
       "      <td>10751</td>\n",
       "      <td>0.072551</td>\n",
       "      <td>7.255139</td>\n",
       "    </tr>\n",
       "    <tr>\n",
       "      <th>получение образования</th>\n",
       "      <td>3619</td>\n",
       "      <td>369</td>\n",
       "      <td>3988</td>\n",
       "      <td>0.092528</td>\n",
       "      <td>9.252758</td>\n",
       "    </tr>\n",
       "    <tr>\n",
       "      <th>проведение свадьбы</th>\n",
       "      <td>2130</td>\n",
       "      <td>183</td>\n",
       "      <td>2313</td>\n",
       "      <td>0.079118</td>\n",
       "      <td>7.911803</td>\n",
       "    </tr>\n",
       "  </tbody>\n",
       "</table>\n",
       "</div>"
      ],
      "text/plain": [
       "debt                         0    1  total     ratio   percent\n",
       "purpose_category                                              \n",
       "операции с автомобилем    3879  400   4279  0.093480  9.347978\n",
       "операции с недвижимостью  9971  780  10751  0.072551  7.255139\n",
       "получение образования     3619  369   3988  0.092528  9.252758\n",
       "проведение свадьбы        2130  183   2313  0.079118  7.911803"
      ]
     },
     "metadata": {},
     "output_type": "display_data"
    }
   ],
   "source": [
    "# Здесь исползуем метод pivot_table() вместо groupby(), чтобы освоить потроение сводной таблицы\n",
    "data_purpose_pivot = data.pivot_table(index = 'purpose_category', columns= 'debt', values = 'purpose', aggfunc='count')\n",
    "data_purpose_pivot['total'] = data_purpose_pivot[0] + data_purpose_pivot[1] # добавляем общее количество клиентов по каждой категории\n",
    "data_purpose_pivot['ratio'] = data_purpose_pivot [1]/ data_purpose_pivot['total'] # считаем долю должников\n",
    "data_purpose_pivot['percent'] = data_purpose_pivot['ratio'] *100 # переводим в проценты\n",
    "display(data_purpose_pivot)"
   ]
  },
  {
   "cell_type": "code",
   "execution_count": 30,
   "id": "c015250d",
   "metadata": {
    "deletable": false,
    "id": "2b687290",
    "scrolled": true
   },
   "outputs": [
    {
     "data": {
      "text/plain": [
       "<AxesSubplot:xlabel='percent'>"
      ]
     },
     "execution_count": 30,
     "metadata": {},
     "output_type": "execute_result"
    },
    {
     "data": {
      "image/png": "[encoded data removed]",
      "text/plain": [
       "<Figure size 432x288 with 1 Axes>"
      ]
     },
     "metadata": {
      "needs_background": "light"
     },
     "output_type": "display_data"
    }
   ],
   "source": [
    "seaborn.barplot(x = data_purpose_pivot['percent'], y = ['операции с автомобилем', 'операции с недвижимостью', 'получение образования', 'проведение свадьбы'])"
   ]
  },
  {
   "cell_type": "markdown",
   "id": "09ab3738",
   "metadata": {
    "deletable": false,
    "id": "b4bb2ce6"
   },
   "source": [
    "**Вывод:** \n",
    "* Заемщики, которые готовятся к операциям с недвижимостью или к свадьбе, наиболее часто возвращают кредиты в срок. Среди тех, кто берет кредит на недвижимость должников всего 7.3%, на свадьбу - 7.9%. Заключение брака и здесь положительно влияет на платежеспособность.\n",
    "* Те, кто берет кредит на образование или автомобиль, с большей вероятностью могут его не вернуть. Среди будущих студентов и автолюбителей должников почти одинаковое количество -  9.3%.\n",
    "\n",
    "**Таким образом, цели \"операции с недвижимостью\" и \"проведение свадьбы\" положительно влияют на возврат кредита в срок.\n",
    "Цели \"операции с автомобилем\" и \"получение образования\" отрицательно влияют на своевременный возврат кредита.**"
   ]
  },
  {
   "cell_type": "markdown",
   "id": "c49aa3cf",
   "metadata": {},
   "source": [
    "<div class=\"alert alert-success\">\n",
    "<font size=\"5\"><b>Комментарий ревьюера</b></font>\n",
    "\n",
    "Успех: Здорово, что при анализе использован метод сводных таблиц. Он пригодится в дальнейших проектах.\n",
    "\n",
    "Выводы сделаны по всем пунктам. \n",
    "\n",
    "</div>"
   ]
  },
  {
   "cell_type": "code",
   "execution_count": 31,
   "id": "b771b0ea",
   "metadata": {
    "scrolled": false
   },
   "outputs": [
    {
     "data": {
      "text/html": [
       "<div>\n",
       "<style scoped>\n",
       "    .dataframe tbody tr th:only-of-type {\n",
       "        vertical-align: middle;\n",
       "    }\n",
       "\n",
       "    .dataframe tbody tr th {\n",
       "        vertical-align: top;\n",
       "    }\n",
       "\n",
       "    .dataframe thead th {\n",
       "        text-align: right;\n",
       "    }\n",
       "</style>\n",
       "<table border=\"1\" class=\"dataframe\">\n",
       "  <thead>\n",
       "    <tr style=\"text-align: right;\">\n",
       "      <th></th>\n",
       "      <th>children</th>\n",
       "      <th>family_status_id</th>\n",
       "      <th>total_income_category</th>\n",
       "      <th>purpose_category</th>\n",
       "      <th>debt</th>\n",
       "    </tr>\n",
       "  </thead>\n",
       "  <tbody>\n",
       "    <tr>\n",
       "      <th>2</th>\n",
       "      <td>0</td>\n",
       "      <td>0</td>\n",
       "      <td>C</td>\n",
       "      <td>операции с недвижимостью</td>\n",
       "      <td>0</td>\n",
       "    </tr>\n",
       "    <tr>\n",
       "      <th>6</th>\n",
       "      <td>0</td>\n",
       "      <td>0</td>\n",
       "      <td>B</td>\n",
       "      <td>операции с недвижимостью</td>\n",
       "      <td>0</td>\n",
       "    </tr>\n",
       "    <tr>\n",
       "      <th>9</th>\n",
       "      <td>0</td>\n",
       "      <td>0</td>\n",
       "      <td>C</td>\n",
       "      <td>операции с недвижимостью</td>\n",
       "      <td>0</td>\n",
       "    </tr>\n",
       "    <tr>\n",
       "      <th>11</th>\n",
       "      <td>0</td>\n",
       "      <td>0</td>\n",
       "      <td>C</td>\n",
       "      <td>операции с недвижимостью</td>\n",
       "      <td>0</td>\n",
       "    </tr>\n",
       "    <tr>\n",
       "      <th>16</th>\n",
       "      <td>0</td>\n",
       "      <td>0</td>\n",
       "      <td>B</td>\n",
       "      <td>операции с недвижимостью</td>\n",
       "      <td>0</td>\n",
       "    </tr>\n",
       "    <tr>\n",
       "      <th>...</th>\n",
       "      <td>...</td>\n",
       "      <td>...</td>\n",
       "      <td>...</td>\n",
       "      <td>...</td>\n",
       "      <td>...</td>\n",
       "    </tr>\n",
       "    <tr>\n",
       "      <th>21501</th>\n",
       "      <td>0</td>\n",
       "      <td>0</td>\n",
       "      <td>C</td>\n",
       "      <td>операции с недвижимостью</td>\n",
       "      <td>0</td>\n",
       "    </tr>\n",
       "    <tr>\n",
       "      <th>21508</th>\n",
       "      <td>0</td>\n",
       "      <td>0</td>\n",
       "      <td>C</td>\n",
       "      <td>операции с недвижимостью</td>\n",
       "      <td>0</td>\n",
       "    </tr>\n",
       "    <tr>\n",
       "      <th>21509</th>\n",
       "      <td>0</td>\n",
       "      <td>0</td>\n",
       "      <td>C</td>\n",
       "      <td>операции с недвижимостью</td>\n",
       "      <td>0</td>\n",
       "    </tr>\n",
       "    <tr>\n",
       "      <th>21513</th>\n",
       "      <td>0</td>\n",
       "      <td>0</td>\n",
       "      <td>B</td>\n",
       "      <td>операции с недвижимостью</td>\n",
       "      <td>0</td>\n",
       "    </tr>\n",
       "    <tr>\n",
       "      <th>21516</th>\n",
       "      <td>0</td>\n",
       "      <td>0</td>\n",
       "      <td>B</td>\n",
       "      <td>операции с недвижимостью</td>\n",
       "      <td>0</td>\n",
       "    </tr>\n",
       "  </tbody>\n",
       "</table>\n",
       "<p>5130 rows × 5 columns</p>\n",
       "</div>"
      ],
      "text/plain": [
       "       children  family_status_id total_income_category  \\\n",
       "2             0                 0                     C   \n",
       "6             0                 0                     B   \n",
       "9             0                 0                     C   \n",
       "11            0                 0                     C   \n",
       "16            0                 0                     B   \n",
       "...         ...               ...                   ...   \n",
       "21501         0                 0                     C   \n",
       "21508         0                 0                     C   \n",
       "21509         0                 0                     C   \n",
       "21513         0                 0                     B   \n",
       "21516         0                 0                     B   \n",
       "\n",
       "               purpose_category  debt  \n",
       "2      операции с недвижимостью     0  \n",
       "6      операции с недвижимостью     0  \n",
       "9      операции с недвижимостью     0  \n",
       "11     операции с недвижимостью     0  \n",
       "16     операции с недвижимостью     0  \n",
       "...                         ...   ...  \n",
       "21501  операции с недвижимостью     0  \n",
       "21508  операции с недвижимостью     0  \n",
       "21509  операции с недвижимостью     0  \n",
       "21513  операции с недвижимостью     0  \n",
       "21516  операции с недвижимостью     0  \n",
       "\n",
       "[5130 rows x 5 columns]"
      ]
     },
     "metadata": {},
     "output_type": "display_data"
    }
   ],
   "source": [
    "# По результатам выводов для всех категорий последовательно отфильтруем наиболее платежеспособных заемщиков\n",
    "data_filtered = data[['children','family_status_id','total_income_category', 'purpose_category','debt']]\n",
    "data_filtered = data_filtered.loc[data_filtered['children'] == 0]                      \n",
    "data_filtered = data_filtered.loc[(data_filtered['family_status_id'] == 2)|\\\n",
    "                                                (data_filtered['family_status_id'] == 3)|\\\n",
    "                                                (data_filtered['family_status_id'] == 0)]\n",
    "data_filtered = data_filtered.loc[data_filtered['total_income_category'] != 'E']  \n",
    "data_filtered = data_filtered.loc[(data_filtered['purpose_category'] == 'операции с недвижимостью')\\\n",
    "                                                |(data_filtered['purpose_category'] == 'проведение свадьбы')]\n",
    "display(data_filtered)"
   ]
  },
  {
   "cell_type": "code",
   "execution_count": 37,
   "id": "c099b5c1",
   "metadata": {},
   "outputs": [
    {
     "data": {
      "text/plain": [
       "array(['операции с недвижимостью'], dtype=object)"
      ]
     },
     "execution_count": 37,
     "metadata": {},
     "output_type": "execute_result"
    }
   ],
   "source": [
    "# смотрим какие цели остались в таблице\n",
    "data_filtered['purpose_category'].unique()"
   ]
  },
  {
   "cell_type": "code",
   "execution_count": 38,
   "id": "f9f90b17",
   "metadata": {},
   "outputs": [
    {
     "data": {
      "text/plain": [
       "array([0, 3, 2])"
      ]
     },
     "execution_count": 38,
     "metadata": {},
     "output_type": "execute_result"
    }
   ],
   "source": [
    "# смотрим, все ли брачные категории из отфильтрованных присутствуют \n",
    "data_filtered['family_status_id'].unique()"
   ]
  },
  {
   "cell_type": "code",
   "execution_count": 32,
   "id": "d716fcb7",
   "metadata": {
    "scrolled": true
   },
   "outputs": [
    {
     "data": {
      "text/html": [
       "<div>\n",
       "<style scoped>\n",
       "    .dataframe tbody tr th:only-of-type {\n",
       "        vertical-align: middle;\n",
       "    }\n",
       "\n",
       "    .dataframe tbody tr th {\n",
       "        vertical-align: top;\n",
       "    }\n",
       "\n",
       "    .dataframe thead th {\n",
       "        text-align: right;\n",
       "    }\n",
       "</style>\n",
       "<table border=\"1\" class=\"dataframe\">\n",
       "  <thead>\n",
       "    <tr style=\"text-align: right;\">\n",
       "      <th></th>\n",
       "      <th>children</th>\n",
       "      <th>family_status_id</th>\n",
       "      <th>total_income_category</th>\n",
       "      <th>purpose_category</th>\n",
       "      <th>debt</th>\n",
       "    </tr>\n",
       "  </thead>\n",
       "  <tbody>\n",
       "    <tr>\n",
       "      <th>100</th>\n",
       "      <td>0</td>\n",
       "      <td>2</td>\n",
       "      <td>C</td>\n",
       "      <td>операции с недвижимостью</td>\n",
       "      <td>1</td>\n",
       "    </tr>\n",
       "    <tr>\n",
       "      <th>114</th>\n",
       "      <td>0</td>\n",
       "      <td>0</td>\n",
       "      <td>C</td>\n",
       "      <td>операции с недвижимостью</td>\n",
       "      <td>1</td>\n",
       "    </tr>\n",
       "    <tr>\n",
       "      <th>124</th>\n",
       "      <td>0</td>\n",
       "      <td>0</td>\n",
       "      <td>C</td>\n",
       "      <td>операции с недвижимостью</td>\n",
       "      <td>1</td>\n",
       "    </tr>\n",
       "    <tr>\n",
       "      <th>147</th>\n",
       "      <td>0</td>\n",
       "      <td>0</td>\n",
       "      <td>C</td>\n",
       "      <td>операции с недвижимостью</td>\n",
       "      <td>1</td>\n",
       "    </tr>\n",
       "    <tr>\n",
       "      <th>287</th>\n",
       "      <td>0</td>\n",
       "      <td>0</td>\n",
       "      <td>C</td>\n",
       "      <td>операции с недвижимостью</td>\n",
       "      <td>1</td>\n",
       "    </tr>\n",
       "    <tr>\n",
       "      <th>...</th>\n",
       "      <td>...</td>\n",
       "      <td>...</td>\n",
       "      <td>...</td>\n",
       "      <td>...</td>\n",
       "      <td>...</td>\n",
       "    </tr>\n",
       "    <tr>\n",
       "      <th>21318</th>\n",
       "      <td>0</td>\n",
       "      <td>0</td>\n",
       "      <td>C</td>\n",
       "      <td>операции с недвижимостью</td>\n",
       "      <td>1</td>\n",
       "    </tr>\n",
       "    <tr>\n",
       "      <th>21381</th>\n",
       "      <td>0</td>\n",
       "      <td>0</td>\n",
       "      <td>B</td>\n",
       "      <td>операции с недвижимостью</td>\n",
       "      <td>1</td>\n",
       "    </tr>\n",
       "    <tr>\n",
       "      <th>21424</th>\n",
       "      <td>0</td>\n",
       "      <td>3</td>\n",
       "      <td>B</td>\n",
       "      <td>операции с недвижимостью</td>\n",
       "      <td>1</td>\n",
       "    </tr>\n",
       "    <tr>\n",
       "      <th>21426</th>\n",
       "      <td>0</td>\n",
       "      <td>0</td>\n",
       "      <td>C</td>\n",
       "      <td>операции с недвижимостью</td>\n",
       "      <td>1</td>\n",
       "    </tr>\n",
       "    <tr>\n",
       "      <th>21457</th>\n",
       "      <td>0</td>\n",
       "      <td>0</td>\n",
       "      <td>C</td>\n",
       "      <td>операции с недвижимостью</td>\n",
       "      <td>1</td>\n",
       "    </tr>\n",
       "  </tbody>\n",
       "</table>\n",
       "<p>328 rows × 5 columns</p>\n",
       "</div>"
      ],
      "text/plain": [
       "       children  family_status_id total_income_category  \\\n",
       "100           0                 2                     C   \n",
       "114           0                 0                     C   \n",
       "124           0                 0                     C   \n",
       "147           0                 0                     C   \n",
       "287           0                 0                     C   \n",
       "...         ...               ...                   ...   \n",
       "21318         0                 0                     C   \n",
       "21381         0                 0                     B   \n",
       "21424         0                 3                     B   \n",
       "21426         0                 0                     C   \n",
       "21457         0                 0                     C   \n",
       "\n",
       "               purpose_category  debt  \n",
       "100    операции с недвижимостью     1  \n",
       "114    операции с недвижимостью     1  \n",
       "124    операции с недвижимостью     1  \n",
       "147    операции с недвижимостью     1  \n",
       "287    операции с недвижимостью     1  \n",
       "...                         ...   ...  \n",
       "21318  операции с недвижимостью     1  \n",
       "21381  операции с недвижимостью     1  \n",
       "21424  операции с недвижимостью     1  \n",
       "21426  операции с недвижимостью     1  \n",
       "21457  операции с недвижимостью     1  \n",
       "\n",
       "[328 rows x 5 columns]"
      ]
     },
     "metadata": {},
     "output_type": "display_data"
    }
   ],
   "source": [
    "# смотрим, сколько должников \n",
    "data_debt_filtered = data_filtered.loc[data_filtered['debt'] == 1]\n",
    "display(data_debt_filtered)"
   ]
  },
  {
   "cell_type": "markdown",
   "id": "0356bdb7",
   "metadata": {},
   "source": [
    "**В отфильтрованой таблице наиболее платежеспособных заемщиков получилось 5130 человек, из них 328 должников, что составляет всего 6%.**\n"
   ]
  },
  {
   "cell_type": "markdown",
   "id": "e1650d9a",
   "metadata": {
    "deletable": false,
    "editable": false,
    "id": "09c3ac4c"
   },
   "source": [
    "#### 3.5 Приведите возможные причины появления пропусков в исходных данных."
   ]
  },
  {
   "cell_type": "markdown",
   "id": "e4615ac8",
   "metadata": {
    "deletable": false,
    "id": "9da2ceda"
   },
   "source": [
    "*Ответ:* \n",
    "Пропуски были обнаружены в двух столбцах days_employed и total_income. В обоих колонках их было одинаковое количетсво - 2174, что стоставляет 10% от общего числа значений в столбце. \n",
    "Данные в обеих колонках пропущены у одних и тех же заемщиков, среди них пенсионеры и госслужащие. \n",
    "Причины появления пропусков могут заключаться в том, что сотрудник банка, который заполнял таблицу не смог получить данные по этим двум категориям в государственных органах: Пенсионном фонде и госучреждениях, где работают госслужащие.  "
   ]
  },
  {
   "cell_type": "markdown",
   "id": "738f951d",
   "metadata": {
    "deletable": false,
    "editable": false,
    "id": "7b0487d6"
   },
   "source": [
    "#### 3.6 Объясните, почему заполнить пропуски медианным значением — лучшее решение для количественных переменных."
   ]
  },
  {
   "cell_type": "markdown",
   "id": "cffd9d35",
   "metadata": {
    "deletable": false,
    "id": "7ecf2b8e"
   },
   "source": [
    "*Ответ:* \n",
    "Пропущенные данные составляют весомую часть -  10% от всех значений столбцов. Их отсутствие может повлиять на результаты исследования. Поэтому пропуски необходимо заполнить приблизительными значениями, характерными для данной категории. Медианное значение дает более точный результат, когда в данных есть значения, которые сильно выделяются из большинства. "
   ]
  },
  {
   "cell_type": "markdown",
   "id": "8f14d844",
   "metadata": {},
   "source": [
    "<div class=\"alert alert-success\">\n",
    "<font size=\"5\"><b>Комментарий ревьюера</b></font>\n",
    "\n",
    "Успех: Да, все верно.  \n",
    "\n",
    "</div>"
   ]
  },
  {
   "cell_type": "markdown",
   "id": "505f3a40",
   "metadata": {
    "deletable": false,
    "editable": false,
    "id": "6db5255a"
   },
   "source": [
    "### Шаг 4: общий вывод."
   ]
  },
  {
   "cell_type": "markdown",
   "id": "1d7639f6",
   "metadata": {
    "deletable": false,
    "id": "bad65432"
   },
   "source": [
    "**На платежеспособность клиентов банка положительно влияют:**\n",
    "* **отсутствие детей**\n",
    "* **заключение брака (даже в случае потери супруга(и) или развода)**\n",
    "* **цели \"операции с недвижимостью\" и \"проведение свадьбы\".** \n",
    "\n",
    "**Отрицательно сказываются:** \n",
    "* **наличие детей**\n",
    "* **отсутствие официально заключенного брака**\n",
    "* **цели \"операции с автомобилем\" и \"получение образования\".** \n",
    "\n",
    "**Портрет идеального заемщика: бездетный, состоящий или сотоявший в официальном браке, желающий взять кредит на операции с недвижимостью или проведение свадьбы.**\n",
    "\n",
    "**Для более точной картины необходимо рассмотреть остальные критерии: возраст, пол, образование и комбинации категорий.**"
   ]
  },
  {
   "cell_type": "markdown",
   "id": "2cafc7f6",
   "metadata": {},
   "source": [
    "<div class=\"alert alert-success\">\n",
    "<font size=\"5\"><b>Комментарий ревьюера</b></font>\n",
    "\n",
    "Успех: Выводы сделаны. Приведены ответы на главные вопросы проекта. В выводах можно приводить полученные ранее значения. Здорово, что по каждому пункту работы приведен вывод.     \n",
    "\n",
    "</div>"
   ]
  },
  {
   "cell_type": "markdown",
   "id": "2e3fa109",
   "metadata": {},
   "source": [
    "<div class=\"alert alert-info\">\n",
    "<font size=\"5\"><b>Комментарий ревьюера</b></font>\n",
    "\n",
    "Если тебе нравится тема визуализации, то можешь изучить другие методы библиотеки seaborn. Она позволяет строить довольно презентабельные графики. Рекомендую ресурс https://www.python-graph-gallery.com/. В нем содержится большая библиотека графиков с готовым кодом, который можно использовать при работе.\n",
    "\n",
    "Ты проделала большую работу, молодец! Ты овладела важными на данном этапе обучения инструментами, а также довольно качественно их используешь. Критических замечаний нет. Это хорошо. Поэтому принимаю твой проект. Продолжай в том же духе. Успехов в дальнейшем пути :)\n",
    "</div>"
   ]
  }
 ],
 "metadata": {
  "ExecuteTimeLog": [
   {
    "duration": 53,
    "start_time": "2022-10-21T07:13:17.194Z"
   },
   {
    "duration": 7,
    "start_time": "2022-10-21T07:13:28.811Z"
   },
   {
    "duration": 1671,
    "start_time": "2022-10-21T07:13:43.201Z"
   },
   {
    "duration": 20,
    "start_time": "2022-10-21T07:13:44.874Z"
   },
   {
    "duration": 17,
    "start_time": "2022-10-21T07:13:44.896Z"
   },
   {
    "duration": 9,
    "start_time": "2022-10-21T07:13:44.915Z"
   },
   {
    "duration": 31,
    "start_time": "2022-10-21T07:13:44.925Z"
   },
   {
    "duration": 3,
    "start_time": "2022-10-21T07:13:44.957Z"
   },
   {
    "duration": 30,
    "start_time": "2022-10-21T07:13:44.962Z"
   },
   {
    "duration": 5,
    "start_time": "2022-10-21T07:13:44.993Z"
   },
   {
    "duration": 16,
    "start_time": "2022-10-21T07:13:44.999Z"
   },
   {
    "duration": 12,
    "start_time": "2022-10-21T07:13:45.018Z"
   },
   {
    "duration": 36,
    "start_time": "2022-10-21T07:13:45.032Z"
   },
   {
    "duration": 29,
    "start_time": "2022-10-21T07:13:45.070Z"
   },
   {
    "duration": 12,
    "start_time": "2022-10-21T07:13:45.101Z"
   },
   {
    "duration": 13,
    "start_time": "2022-10-21T07:13:45.114Z"
   },
   {
    "duration": 20,
    "start_time": "2022-10-21T07:13:45.129Z"
   },
   {
    "duration": 40,
    "start_time": "2022-10-21T07:13:45.151Z"
   },
   {
    "duration": 4,
    "start_time": "2022-10-21T07:13:45.193Z"
   },
   {
    "duration": 21,
    "start_time": "2022-10-21T07:13:45.198Z"
   },
   {
    "duration": 11,
    "start_time": "2022-10-21T07:13:45.221Z"
   },
   {
    "duration": 4,
    "start_time": "2022-10-21T07:13:45.234Z"
   },
   {
    "duration": 22,
    "start_time": "2022-10-21T07:13:45.239Z"
   },
   {
    "duration": 99,
    "start_time": "2022-10-21T07:13:45.262Z"
   },
   {
    "duration": 0,
    "start_time": "2022-10-21T07:13:45.363Z"
   },
   {
    "duration": 0,
    "start_time": "2022-10-21T07:13:45.364Z"
   },
   {
    "duration": 0,
    "start_time": "2022-10-21T07:13:45.365Z"
   },
   {
    "duration": 13,
    "start_time": "2022-10-21T07:14:06.459Z"
   },
   {
    "duration": 7,
    "start_time": "2022-10-21T07:14:20.366Z"
   },
   {
    "duration": 8,
    "start_time": "2022-10-21T07:44:05.477Z"
   },
   {
    "duration": 10,
    "start_time": "2022-10-21T07:48:40.061Z"
   },
   {
    "duration": 10,
    "start_time": "2022-10-21T07:50:54.204Z"
   },
   {
    "duration": 17,
    "start_time": "2022-10-21T07:56:38.444Z"
   },
   {
    "duration": 13,
    "start_time": "2022-10-21T07:58:03.855Z"
   },
   {
    "duration": 111,
    "start_time": "2022-10-21T08:00:13.801Z"
   },
   {
    "duration": 18,
    "start_time": "2022-10-21T08:00:26.356Z"
   },
   {
    "duration": 15,
    "start_time": "2022-10-21T08:01:36.197Z"
   },
   {
    "duration": 67,
    "start_time": "2022-10-21T08:18:07.557Z"
   },
   {
    "duration": 9,
    "start_time": "2022-10-21T08:18:22.177Z"
   },
   {
    "duration": 16,
    "start_time": "2022-10-21T08:19:33.252Z"
   },
   {
    "duration": 25,
    "start_time": "2022-10-21T08:19:46.173Z"
   },
   {
    "duration": 20,
    "start_time": "2022-10-21T08:42:57.176Z"
   },
   {
    "duration": 348,
    "start_time": "2022-10-21T08:46:44.291Z"
   },
   {
    "duration": 385,
    "start_time": "2022-10-21T08:48:22.149Z"
   },
   {
    "duration": 15,
    "start_time": "2022-10-21T08:54:35.569Z"
   },
   {
    "duration": 8,
    "start_time": "2022-10-21T09:04:27.605Z"
   },
   {
    "duration": 25,
    "start_time": "2022-10-21T09:04:41.285Z"
   },
   {
    "duration": 31,
    "start_time": "2022-10-21T09:04:44.501Z"
   },
   {
    "duration": 30,
    "start_time": "2022-10-21T09:04:51.119Z"
   },
   {
    "duration": 1342,
    "start_time": "2022-10-21T09:05:03.400Z"
   },
   {
    "duration": 21,
    "start_time": "2022-10-21T09:05:04.744Z"
   },
   {
    "duration": 25,
    "start_time": "2022-10-21T09:05:04.767Z"
   },
   {
    "duration": 11,
    "start_time": "2022-10-21T09:05:04.794Z"
   },
   {
    "duration": 35,
    "start_time": "2022-10-21T09:05:04.807Z"
   },
   {
    "duration": 3,
    "start_time": "2022-10-21T09:05:04.844Z"
   },
   {
    "duration": 10,
    "start_time": "2022-10-21T09:05:04.849Z"
   },
   {
    "duration": 31,
    "start_time": "2022-10-21T09:05:04.861Z"
   },
   {
    "duration": 8,
    "start_time": "2022-10-21T09:05:04.893Z"
   },
   {
    "duration": 10,
    "start_time": "2022-10-21T09:05:04.903Z"
   },
   {
    "duration": 61,
    "start_time": "2022-10-21T09:05:04.914Z"
   },
   {
    "duration": 9,
    "start_time": "2022-10-21T09:05:04.977Z"
   },
   {
    "duration": 4,
    "start_time": "2022-10-21T09:05:04.990Z"
   },
   {
    "duration": 34,
    "start_time": "2022-10-21T09:05:04.995Z"
   },
   {
    "duration": 64,
    "start_time": "2022-10-21T09:05:05.030Z"
   },
   {
    "duration": 24,
    "start_time": "2022-10-21T09:05:05.096Z"
   },
   {
    "duration": 3,
    "start_time": "2022-10-21T09:05:05.122Z"
   },
   {
    "duration": 23,
    "start_time": "2022-10-21T09:05:05.127Z"
   },
   {
    "duration": 22,
    "start_time": "2022-10-21T09:05:05.152Z"
   },
   {
    "duration": 16,
    "start_time": "2022-10-21T09:05:05.176Z"
   },
   {
    "duration": 30,
    "start_time": "2022-10-21T09:05:05.194Z"
   },
   {
    "duration": 48,
    "start_time": "2022-10-21T09:05:05.225Z"
   },
   {
    "duration": 487,
    "start_time": "2022-10-21T09:05:05.274Z"
   },
   {
    "duration": 4,
    "start_time": "2022-10-21T09:05:05.763Z"
   },
   {
    "duration": 25,
    "start_time": "2022-10-21T09:05:05.769Z"
   },
   {
    "duration": 34,
    "start_time": "2022-10-21T09:05:05.795Z"
   },
   {
    "duration": 23,
    "start_time": "2022-10-21T09:05:11.340Z"
   },
   {
    "duration": 20,
    "start_time": "2022-10-21T09:05:18.835Z"
   },
   {
    "duration": 1242,
    "start_time": "2022-10-21T09:05:37.525Z"
   },
   {
    "duration": 18,
    "start_time": "2022-10-21T09:05:38.769Z"
   },
   {
    "duration": 14,
    "start_time": "2022-10-21T09:05:38.789Z"
   },
   {
    "duration": 8,
    "start_time": "2022-10-21T09:05:38.806Z"
   },
   {
    "duration": 34,
    "start_time": "2022-10-21T09:05:38.816Z"
   },
   {
    "duration": 4,
    "start_time": "2022-10-21T09:05:38.851Z"
   },
   {
    "duration": 10,
    "start_time": "2022-10-21T09:05:38.856Z"
   },
   {
    "duration": 4,
    "start_time": "2022-10-21T09:05:38.892Z"
   },
   {
    "duration": 9,
    "start_time": "2022-10-21T09:05:38.897Z"
   },
   {
    "duration": 4,
    "start_time": "2022-10-21T09:05:38.908Z"
   },
   {
    "duration": 35,
    "start_time": "2022-10-21T09:05:38.913Z"
   },
   {
    "duration": 8,
    "start_time": "2022-10-21T09:05:38.950Z"
   },
   {
    "duration": 31,
    "start_time": "2022-10-21T09:05:38.960Z"
   },
   {
    "duration": 11,
    "start_time": "2022-10-21T09:05:38.993Z"
   },
   {
    "duration": 24,
    "start_time": "2022-10-21T09:05:39.005Z"
   },
   {
    "duration": 16,
    "start_time": "2022-10-21T09:05:39.030Z"
   },
   {
    "duration": 3,
    "start_time": "2022-10-21T09:05:39.048Z"
   },
   {
    "duration": 10,
    "start_time": "2022-10-21T09:05:39.052Z"
   },
   {
    "duration": 28,
    "start_time": "2022-10-21T09:05:39.064Z"
   },
   {
    "duration": 3,
    "start_time": "2022-10-21T09:05:39.093Z"
   },
   {
    "duration": 11,
    "start_time": "2022-10-21T09:05:39.098Z"
   },
   {
    "duration": 24,
    "start_time": "2022-10-21T09:05:39.110Z"
   },
   {
    "duration": 2,
    "start_time": "2022-10-21T09:05:39.136Z"
   },
   {
    "duration": 5,
    "start_time": "2022-10-21T09:05:39.139Z"
   },
   {
    "duration": 4,
    "start_time": "2022-10-21T09:05:39.145Z"
   },
   {
    "duration": 19,
    "start_time": "2022-10-21T09:05:43.612Z"
   },
   {
    "duration": 22,
    "start_time": "2022-10-21T09:05:46.514Z"
   },
   {
    "duration": 54,
    "start_time": "2022-10-21T09:05:56.044Z"
   },
   {
    "duration": 107,
    "start_time": "2022-10-21T09:08:11.890Z"
   },
   {
    "duration": 32,
    "start_time": "2022-10-21T09:08:21.718Z"
   },
   {
    "duration": 16,
    "start_time": "2022-10-21T09:08:52.062Z"
   },
   {
    "duration": 12,
    "start_time": "2022-10-21T09:18:04.288Z"
   },
   {
    "duration": 19,
    "start_time": "2022-10-21T09:18:17.231Z"
   },
   {
    "duration": 4,
    "start_time": "2022-10-21T09:35:59.353Z"
   },
   {
    "duration": 598,
    "start_time": "2022-10-21T09:36:12.925Z"
   },
   {
    "duration": 907,
    "start_time": "2022-10-21T09:36:46.438Z"
   },
   {
    "duration": 658,
    "start_time": "2022-10-21T09:37:05.142Z"
   },
   {
    "duration": 639,
    "start_time": "2022-10-21T09:37:58.293Z"
   },
   {
    "duration": 550,
    "start_time": "2022-10-21T09:38:11.225Z"
   },
   {
    "duration": 1272,
    "start_time": "2022-10-21T09:38:33.036Z"
   },
   {
    "duration": 3,
    "start_time": "2022-10-21T09:39:15.440Z"
   },
   {
    "duration": 4,
    "start_time": "2022-10-21T09:39:19.956Z"
   },
   {
    "duration": 6,
    "start_time": "2022-10-21T09:40:43.613Z"
   },
   {
    "duration": 5,
    "start_time": "2022-10-21T09:40:46.159Z"
   },
   {
    "duration": 1229,
    "start_time": "2022-10-21T09:41:01.808Z"
   },
   {
    "duration": 21,
    "start_time": "2022-10-21T09:41:03.039Z"
   },
   {
    "duration": 30,
    "start_time": "2022-10-21T09:41:03.062Z"
   },
   {
    "duration": 13,
    "start_time": "2022-10-21T09:41:03.094Z"
   },
   {
    "duration": 49,
    "start_time": "2022-10-21T09:41:03.110Z"
   },
   {
    "duration": 4,
    "start_time": "2022-10-21T09:41:03.162Z"
   },
   {
    "duration": 31,
    "start_time": "2022-10-21T09:41:03.167Z"
   },
   {
    "duration": 5,
    "start_time": "2022-10-21T09:41:03.200Z"
   },
   {
    "duration": 12,
    "start_time": "2022-10-21T09:41:03.207Z"
   },
   {
    "duration": 5,
    "start_time": "2022-10-21T09:41:03.223Z"
   },
   {
    "duration": 35,
    "start_time": "2022-10-21T09:41:03.229Z"
   },
   {
    "duration": 11,
    "start_time": "2022-10-21T09:41:03.291Z"
   },
   {
    "duration": 42,
    "start_time": "2022-10-21T09:41:03.304Z"
   },
   {
    "duration": 12,
    "start_time": "2022-10-21T09:41:03.348Z"
   },
   {
    "duration": 21,
    "start_time": "2022-10-21T09:41:03.361Z"
   },
   {
    "duration": 18,
    "start_time": "2022-10-21T09:41:03.383Z"
   },
   {
    "duration": 4,
    "start_time": "2022-10-21T09:41:03.403Z"
   },
   {
    "duration": 19,
    "start_time": "2022-10-21T09:41:03.409Z"
   },
   {
    "duration": 10,
    "start_time": "2022-10-21T09:41:03.430Z"
   },
   {
    "duration": 4,
    "start_time": "2022-10-21T09:41:03.442Z"
   },
   {
    "duration": 18,
    "start_time": "2022-10-21T09:41:03.448Z"
   },
   {
    "duration": 25,
    "start_time": "2022-10-21T09:41:03.468Z"
   },
   {
    "duration": 3,
    "start_time": "2022-10-21T09:41:03.495Z"
   },
   {
    "duration": 3,
    "start_time": "2022-10-21T09:41:03.502Z"
   },
   {
    "duration": 23,
    "start_time": "2022-10-21T09:41:03.507Z"
   },
   {
    "duration": 4,
    "start_time": "2022-10-21T09:41:08.655Z"
   },
   {
    "duration": 5,
    "start_time": "2022-10-21T09:41:18.327Z"
   },
   {
    "duration": 8,
    "start_time": "2022-10-21T09:44:40.098Z"
   },
   {
    "duration": 4,
    "start_time": "2022-10-21T09:45:31.043Z"
   },
   {
    "duration": 7,
    "start_time": "2022-10-21T09:45:39.616Z"
   },
   {
    "duration": 7,
    "start_time": "2022-10-21T09:46:16.604Z"
   },
   {
    "duration": 3,
    "start_time": "2022-10-21T09:47:04.460Z"
   },
   {
    "duration": 4,
    "start_time": "2022-10-21T09:47:20.313Z"
   },
   {
    "duration": 6,
    "start_time": "2022-10-21T09:47:45.378Z"
   },
   {
    "duration": 74,
    "start_time": "2022-10-21T09:48:35.534Z"
   },
   {
    "duration": 9,
    "start_time": "2022-10-21T09:48:44.530Z"
   },
   {
    "duration": 11,
    "start_time": "2022-10-21T09:51:03.960Z"
   },
   {
    "duration": 12,
    "start_time": "2022-10-21T09:51:39.752Z"
   },
   {
    "duration": 8,
    "start_time": "2022-10-21T09:53:07.444Z"
   },
   {
    "duration": 11,
    "start_time": "2022-10-21T09:53:14.903Z"
   },
   {
    "duration": 141,
    "start_time": "2022-10-21T09:55:55.068Z"
   },
   {
    "duration": 29,
    "start_time": "2022-10-21T09:56:07.554Z"
   },
   {
    "duration": 85,
    "start_time": "2022-10-21T10:02:06.477Z"
   },
   {
    "duration": 4,
    "start_time": "2022-10-21T10:02:38.934Z"
   },
   {
    "duration": 5,
    "start_time": "2022-10-21T10:03:46.009Z"
   },
   {
    "duration": 8,
    "start_time": "2022-10-21T10:03:58.216Z"
   },
   {
    "duration": 10,
    "start_time": "2022-10-21T10:11:14.624Z"
   },
   {
    "duration": 134,
    "start_time": "2022-10-21T10:26:35.879Z"
   },
   {
    "duration": 8,
    "start_time": "2022-10-21T10:27:57.514Z"
   },
   {
    "duration": 126,
    "start_time": "2022-10-21T10:28:15.285Z"
   },
   {
    "duration": 115,
    "start_time": "2022-10-21T10:31:10.357Z"
   },
   {
    "duration": 74,
    "start_time": "2022-10-21T10:32:53.808Z"
   },
   {
    "duration": 3,
    "start_time": "2022-10-21T11:18:37.239Z"
   },
   {
    "duration": 25,
    "start_time": "2022-10-21T11:32:11.642Z"
   },
   {
    "duration": 1137,
    "start_time": "2022-10-21T11:32:24.850Z"
   },
   {
    "duration": 19,
    "start_time": "2022-10-21T11:32:25.989Z"
   },
   {
    "duration": 15,
    "start_time": "2022-10-21T11:32:26.010Z"
   },
   {
    "duration": 13,
    "start_time": "2022-10-21T11:32:26.028Z"
   },
   {
    "duration": 49,
    "start_time": "2022-10-21T11:32:26.043Z"
   },
   {
    "duration": 3,
    "start_time": "2022-10-21T11:32:26.094Z"
   },
   {
    "duration": 11,
    "start_time": "2022-10-21T11:32:26.099Z"
   },
   {
    "duration": 8,
    "start_time": "2022-10-21T11:32:26.112Z"
   },
   {
    "duration": 19,
    "start_time": "2022-10-21T11:32:26.121Z"
   },
   {
    "duration": 7,
    "start_time": "2022-10-21T11:32:26.142Z"
   },
   {
    "duration": 46,
    "start_time": "2022-10-21T11:32:26.150Z"
   },
   {
    "duration": 8,
    "start_time": "2022-10-21T11:32:26.198Z"
   },
   {
    "duration": 15,
    "start_time": "2022-10-21T11:32:26.207Z"
   },
   {
    "duration": 20,
    "start_time": "2022-10-21T11:32:26.224Z"
   },
   {
    "duration": 28,
    "start_time": "2022-10-21T11:32:26.246Z"
   },
   {
    "duration": 16,
    "start_time": "2022-10-21T11:32:26.275Z"
   },
   {
    "duration": 3,
    "start_time": "2022-10-21T11:32:26.293Z"
   },
   {
    "duration": 40,
    "start_time": "2022-10-21T11:32:26.298Z"
   },
   {
    "duration": 13,
    "start_time": "2022-10-21T11:32:26.339Z"
   },
   {
    "duration": 4,
    "start_time": "2022-10-21T11:32:26.353Z"
   },
   {
    "duration": 14,
    "start_time": "2022-10-21T11:32:26.359Z"
   },
   {
    "duration": 6,
    "start_time": "2022-10-21T11:32:26.374Z"
   },
   {
    "duration": 22,
    "start_time": "2022-10-21T11:32:26.381Z"
   },
   {
    "duration": 32,
    "start_time": "2022-10-21T11:32:26.404Z"
   },
   {
    "duration": 2,
    "start_time": "2022-10-21T11:32:26.438Z"
   },
   {
    "duration": 10,
    "start_time": "2022-10-21T11:32:26.441Z"
   },
   {
    "duration": 17,
    "start_time": "2022-10-21T11:32:26.452Z"
   },
   {
    "duration": 20,
    "start_time": "2022-10-21T11:33:02.445Z"
   },
   {
    "duration": 22,
    "start_time": "2022-10-21T11:33:34.130Z"
   },
   {
    "duration": 106,
    "start_time": "2022-10-21T11:34:11.975Z"
   },
   {
    "duration": 17,
    "start_time": "2022-10-21T11:34:39.844Z"
   },
   {
    "duration": 16,
    "start_time": "2022-10-21T11:35:14.284Z"
   },
   {
    "duration": 1299,
    "start_time": "2022-10-21T11:35:23.506Z"
   },
   {
    "duration": 21,
    "start_time": "2022-10-21T11:35:24.807Z"
   },
   {
    "duration": 15,
    "start_time": "2022-10-21T11:35:24.830Z"
   },
   {
    "duration": 10,
    "start_time": "2022-10-21T11:35:24.847Z"
   },
   {
    "duration": 63,
    "start_time": "2022-10-21T11:35:24.859Z"
   },
   {
    "duration": 3,
    "start_time": "2022-10-21T11:35:24.925Z"
   },
   {
    "duration": 20,
    "start_time": "2022-10-21T11:35:24.930Z"
   },
   {
    "duration": 4,
    "start_time": "2022-10-21T11:35:24.952Z"
   },
   {
    "duration": 10,
    "start_time": "2022-10-21T11:35:24.958Z"
   },
   {
    "duration": 20,
    "start_time": "2022-10-21T11:35:24.971Z"
   },
   {
    "duration": 35,
    "start_time": "2022-10-21T11:35:24.993Z"
   },
   {
    "duration": 11,
    "start_time": "2022-10-21T11:35:25.030Z"
   },
   {
    "duration": 27,
    "start_time": "2022-10-21T11:35:25.042Z"
   },
   {
    "duration": 47,
    "start_time": "2022-10-21T11:35:25.071Z"
   },
   {
    "duration": 37,
    "start_time": "2022-10-21T11:35:25.120Z"
   },
   {
    "duration": 18,
    "start_time": "2022-10-21T11:35:25.158Z"
   },
   {
    "duration": 4,
    "start_time": "2022-10-21T11:35:25.177Z"
   },
   {
    "duration": 13,
    "start_time": "2022-10-21T11:35:25.182Z"
   },
   {
    "duration": 9,
    "start_time": "2022-10-21T11:35:25.196Z"
   },
   {
    "duration": 4,
    "start_time": "2022-10-21T11:35:25.207Z"
   },
   {
    "duration": 18,
    "start_time": "2022-10-21T11:35:25.213Z"
   },
   {
    "duration": 4,
    "start_time": "2022-10-21T11:35:25.232Z"
   },
   {
    "duration": 9,
    "start_time": "2022-10-21T11:35:25.238Z"
   },
   {
    "duration": 122,
    "start_time": "2022-10-21T11:35:25.248Z"
   },
   {
    "duration": 0,
    "start_time": "2022-10-21T11:35:25.371Z"
   },
   {
    "duration": 0,
    "start_time": "2022-10-21T11:35:25.372Z"
   },
   {
    "duration": 0,
    "start_time": "2022-10-21T11:35:25.373Z"
   },
   {
    "duration": 19,
    "start_time": "2022-10-21T11:35:56.930Z"
   },
   {
    "duration": 19,
    "start_time": "2022-10-21T11:43:22.443Z"
   },
   {
    "duration": 25,
    "start_time": "2022-10-21T11:43:49.969Z"
   },
   {
    "duration": 43,
    "start_time": "2022-10-21T13:49:12.410Z"
   },
   {
    "duration": 171,
    "start_time": "2022-10-21T13:49:25.393Z"
   },
   {
    "duration": 45,
    "start_time": "2022-10-21T13:50:02.686Z"
   },
   {
    "duration": 50,
    "start_time": "2022-10-21T13:50:34.727Z"
   },
   {
    "duration": 41,
    "start_time": "2022-10-21T13:50:43.656Z"
   },
   {
    "duration": 6,
    "start_time": "2022-10-21T13:51:14.734Z"
   },
   {
    "duration": 7,
    "start_time": "2022-10-21T13:51:41.825Z"
   },
   {
    "duration": 1386,
    "start_time": "2022-10-21T13:52:06.246Z"
   },
   {
    "duration": 19,
    "start_time": "2022-10-21T13:52:07.634Z"
   },
   {
    "duration": 14,
    "start_time": "2022-10-21T13:52:07.654Z"
   },
   {
    "duration": 7,
    "start_time": "2022-10-21T13:52:07.670Z"
   },
   {
    "duration": 44,
    "start_time": "2022-10-21T13:52:07.679Z"
   },
   {
    "duration": 3,
    "start_time": "2022-10-21T13:52:07.725Z"
   },
   {
    "duration": 11,
    "start_time": "2022-10-21T13:52:07.729Z"
   },
   {
    "duration": 4,
    "start_time": "2022-10-21T13:52:07.741Z"
   },
   {
    "duration": 9,
    "start_time": "2022-10-21T13:52:07.746Z"
   },
   {
    "duration": 3,
    "start_time": "2022-10-21T13:52:07.758Z"
   },
   {
    "duration": 57,
    "start_time": "2022-10-21T13:52:07.763Z"
   },
   {
    "duration": 8,
    "start_time": "2022-10-21T13:52:07.822Z"
   },
   {
    "duration": 10,
    "start_time": "2022-10-21T13:52:07.832Z"
   },
   {
    "duration": 14,
    "start_time": "2022-10-21T13:52:07.844Z"
   },
   {
    "duration": 19,
    "start_time": "2022-10-21T13:52:07.859Z"
   },
   {
    "duration": 30,
    "start_time": "2022-10-21T13:52:07.879Z"
   },
   {
    "duration": 3,
    "start_time": "2022-10-21T13:52:07.911Z"
   },
   {
    "duration": 19,
    "start_time": "2022-10-21T13:52:07.915Z"
   },
   {
    "duration": 5,
    "start_time": "2022-10-21T13:52:07.936Z"
   },
   {
    "duration": 3,
    "start_time": "2022-10-21T13:52:07.943Z"
   },
   {
    "duration": 10,
    "start_time": "2022-10-21T13:52:07.947Z"
   },
   {
    "duration": 122,
    "start_time": "2022-10-21T13:52:07.958Z"
   },
   {
    "duration": 0,
    "start_time": "2022-10-21T13:52:08.081Z"
   },
   {
    "duration": 0,
    "start_time": "2022-10-21T13:52:08.082Z"
   },
   {
    "duration": 0,
    "start_time": "2022-10-21T13:52:08.083Z"
   },
   {
    "duration": 8,
    "start_time": "2022-10-21T13:52:24.842Z"
   },
   {
    "duration": 9,
    "start_time": "2022-10-21T13:52:47.782Z"
   },
   {
    "duration": 13,
    "start_time": "2022-10-21T13:53:15.023Z"
   },
   {
    "duration": 14,
    "start_time": "2022-10-21T13:53:32.332Z"
   },
   {
    "duration": 53,
    "start_time": "2022-10-21T13:54:29.883Z"
   },
   {
    "duration": 50,
    "start_time": "2022-10-21T13:54:54.589Z"
   },
   {
    "duration": 13,
    "start_time": "2022-10-21T13:55:03.197Z"
   },
   {
    "duration": 51,
    "start_time": "2022-10-21T13:58:22.725Z"
   },
   {
    "duration": 12,
    "start_time": "2022-10-21T13:58:43.658Z"
   },
   {
    "duration": 45,
    "start_time": "2022-10-21T13:59:17.330Z"
   },
   {
    "duration": 14,
    "start_time": "2022-10-21T13:59:55.325Z"
   },
   {
    "duration": 141,
    "start_time": "2022-10-21T14:00:44.024Z"
   },
   {
    "duration": 12,
    "start_time": "2022-10-21T14:05:28.159Z"
   },
   {
    "duration": 1896,
    "start_time": "2022-10-21T14:07:40.704Z"
   },
   {
    "duration": 17,
    "start_time": "2022-10-21T14:08:11.259Z"
   },
   {
    "duration": 17,
    "start_time": "2022-10-21T14:09:02.369Z"
   },
   {
    "duration": 17,
    "start_time": "2022-10-21T14:09:39.289Z"
   },
   {
    "duration": 12,
    "start_time": "2022-10-21T14:11:06.921Z"
   },
   {
    "duration": 16,
    "start_time": "2022-10-21T14:11:20.325Z"
   },
   {
    "duration": 47,
    "start_time": "2022-10-21T14:12:54.604Z"
   },
   {
    "duration": 118,
    "start_time": "2022-10-21T14:13:04.225Z"
   },
   {
    "duration": 63,
    "start_time": "2022-10-21T14:15:09.097Z"
   },
   {
    "duration": 107,
    "start_time": "2022-10-21T14:15:15.662Z"
   },
   {
    "duration": 118,
    "start_time": "2022-10-21T14:16:09.659Z"
   },
   {
    "duration": 14,
    "start_time": "2022-10-21T14:27:52.423Z"
   },
   {
    "duration": 14,
    "start_time": "2022-10-21T14:42:15.049Z"
   },
   {
    "duration": 14,
    "start_time": "2022-10-21T14:47:50.775Z"
   },
   {
    "duration": 645,
    "start_time": "2022-10-21T14:48:47.315Z"
   },
   {
    "duration": 113,
    "start_time": "2022-10-21T14:48:56.414Z"
   },
   {
    "duration": 16,
    "start_time": "2022-10-21T15:20:56.810Z"
   },
   {
    "duration": 8,
    "start_time": "2022-10-21T15:25:27.683Z"
   },
   {
    "duration": 19,
    "start_time": "2022-10-21T15:25:37.229Z"
   },
   {
    "duration": 124,
    "start_time": "2022-10-21T15:25:40.685Z"
   },
   {
    "duration": 16,
    "start_time": "2022-10-21T15:31:14.285Z"
   },
   {
    "duration": 7,
    "start_time": "2022-10-21T15:33:54.001Z"
   },
   {
    "duration": 8,
    "start_time": "2022-10-21T15:34:37.139Z"
   },
   {
    "duration": 12,
    "start_time": "2022-10-21T15:35:01.315Z"
   },
   {
    "duration": 18,
    "start_time": "2022-10-21T15:36:08.547Z"
   },
   {
    "duration": 14,
    "start_time": "2022-10-21T15:40:36.130Z"
   },
   {
    "duration": 16,
    "start_time": "2022-10-21T15:48:37.220Z"
   },
   {
    "duration": 17,
    "start_time": "2022-10-21T15:49:47.746Z"
   },
   {
    "duration": 15,
    "start_time": "2022-10-21T15:50:43.693Z"
   },
   {
    "duration": 10,
    "start_time": "2022-10-21T15:55:18.346Z"
   },
   {
    "duration": 4,
    "start_time": "2022-10-21T15:56:00.987Z"
   },
   {
    "duration": 13,
    "start_time": "2022-10-21T15:56:22.075Z"
   },
   {
    "duration": 15,
    "start_time": "2022-10-21T15:57:09.248Z"
   },
   {
    "duration": 41,
    "start_time": "2022-10-21T16:39:49.019Z"
   },
   {
    "duration": 18,
    "start_time": "2022-10-21T16:41:36.097Z"
   },
   {
    "duration": 14,
    "start_time": "2022-10-21T16:41:56.531Z"
   },
   {
    "duration": 20,
    "start_time": "2022-10-21T16:43:56.768Z"
   },
   {
    "duration": 124,
    "start_time": "2022-10-21T16:44:21.217Z"
   },
   {
    "duration": 16,
    "start_time": "2022-10-21T16:46:08.481Z"
   },
   {
    "duration": 159,
    "start_time": "2022-10-21T16:47:52.125Z"
   },
   {
    "duration": 141,
    "start_time": "2022-10-21T16:48:41.183Z"
   },
   {
    "duration": 170,
    "start_time": "2022-10-21T16:49:33.897Z"
   },
   {
    "duration": 1176,
    "start_time": "2022-10-21T16:49:43.094Z"
   },
   {
    "duration": 17,
    "start_time": "2022-10-21T16:49:44.272Z"
   },
   {
    "duration": 19,
    "start_time": "2022-10-21T16:49:44.291Z"
   },
   {
    "duration": 16,
    "start_time": "2022-10-21T16:49:44.314Z"
   },
   {
    "duration": 38,
    "start_time": "2022-10-21T16:49:44.332Z"
   },
   {
    "duration": 4,
    "start_time": "2022-10-21T16:49:44.372Z"
   },
   {
    "duration": 12,
    "start_time": "2022-10-21T16:49:44.377Z"
   },
   {
    "duration": 30,
    "start_time": "2022-10-21T16:49:44.391Z"
   },
   {
    "duration": 24,
    "start_time": "2022-10-21T16:49:44.422Z"
   },
   {
    "duration": 7,
    "start_time": "2022-10-21T16:49:44.449Z"
   },
   {
    "duration": 46,
    "start_time": "2022-10-21T16:49:44.458Z"
   },
   {
    "duration": 24,
    "start_time": "2022-10-21T16:49:44.506Z"
   },
   {
    "duration": 13,
    "start_time": "2022-10-21T16:49:44.532Z"
   },
   {
    "duration": 18,
    "start_time": "2022-10-21T16:49:44.547Z"
   },
   {
    "duration": 22,
    "start_time": "2022-10-21T16:49:44.567Z"
   },
   {
    "duration": 24,
    "start_time": "2022-10-21T16:49:44.591Z"
   },
   {
    "duration": 9,
    "start_time": "2022-10-21T16:49:44.617Z"
   },
   {
    "duration": 28,
    "start_time": "2022-10-21T16:49:44.628Z"
   },
   {
    "duration": 18,
    "start_time": "2022-10-21T16:49:44.657Z"
   },
   {
    "duration": 7,
    "start_time": "2022-10-21T16:49:44.677Z"
   },
   {
    "duration": 16,
    "start_time": "2022-10-21T16:49:44.686Z"
   },
   {
    "duration": 29,
    "start_time": "2022-10-21T16:49:44.704Z"
   },
   {
    "duration": 136,
    "start_time": "2022-10-21T16:49:44.736Z"
   },
   {
    "duration": 15,
    "start_time": "2022-10-21T16:49:44.873Z"
   },
   {
    "duration": 35,
    "start_time": "2022-10-21T16:49:44.890Z"
   },
   {
    "duration": 157,
    "start_time": "2022-10-21T16:49:44.927Z"
   },
   {
    "duration": 2,
    "start_time": "2022-10-21T16:49:45.086Z"
   },
   {
    "duration": 9,
    "start_time": "2022-10-21T16:49:45.090Z"
   },
   {
    "duration": 812,
    "start_time": "2022-10-21T16:50:43.517Z"
   },
   {
    "duration": 46,
    "start_time": "2022-10-21T16:52:35.983Z"
   },
   {
    "duration": 7,
    "start_time": "2022-10-21T16:53:47.276Z"
   },
   {
    "duration": 16,
    "start_time": "2022-10-21T16:54:05.118Z"
   },
   {
    "duration": 98,
    "start_time": "2022-10-21T16:54:24.550Z"
   },
   {
    "duration": 38,
    "start_time": "2022-10-21T16:54:37.535Z"
   },
   {
    "duration": 133,
    "start_time": "2022-10-21T16:54:45.899Z"
   },
   {
    "duration": 23,
    "start_time": "2022-10-21T17:14:51.222Z"
   },
   {
    "duration": 12,
    "start_time": "2022-10-21T17:19:10.338Z"
   },
   {
    "duration": 46,
    "start_time": "2022-10-21T17:26:39.299Z"
   },
   {
    "duration": 115,
    "start_time": "2022-10-21T17:27:01.789Z"
   },
   {
    "duration": 19,
    "start_time": "2022-10-21T17:43:13.714Z"
   },
   {
    "duration": 112,
    "start_time": "2022-10-21T17:46:03.807Z"
   },
   {
    "duration": 44,
    "start_time": "2022-10-22T08:11:57.273Z"
   },
   {
    "duration": 1384,
    "start_time": "2022-10-22T08:12:13.326Z"
   },
   {
    "duration": 17,
    "start_time": "2022-10-22T08:12:14.714Z"
   },
   {
    "duration": 14,
    "start_time": "2022-10-22T08:12:14.733Z"
   },
   {
    "duration": 9,
    "start_time": "2022-10-22T08:12:14.749Z"
   },
   {
    "duration": 43,
    "start_time": "2022-10-22T08:12:14.760Z"
   },
   {
    "duration": 4,
    "start_time": "2022-10-22T08:12:14.805Z"
   },
   {
    "duration": 10,
    "start_time": "2022-10-22T08:12:14.810Z"
   },
   {
    "duration": 4,
    "start_time": "2022-10-22T08:12:14.822Z"
   },
   {
    "duration": 12,
    "start_time": "2022-10-22T08:12:14.828Z"
   },
   {
    "duration": 9,
    "start_time": "2022-10-22T08:12:14.843Z"
   },
   {
    "duration": 47,
    "start_time": "2022-10-22T08:12:14.853Z"
   },
   {
    "duration": 9,
    "start_time": "2022-10-22T08:12:14.902Z"
   },
   {
    "duration": 6,
    "start_time": "2022-10-22T08:12:14.912Z"
   },
   {
    "duration": 10,
    "start_time": "2022-10-22T08:12:14.919Z"
   },
   {
    "duration": 17,
    "start_time": "2022-10-22T08:12:14.931Z"
   },
   {
    "duration": 15,
    "start_time": "2022-10-22T08:12:14.950Z"
   },
   {
    "duration": 3,
    "start_time": "2022-10-22T08:12:14.967Z"
   },
   {
    "duration": 9,
    "start_time": "2022-10-22T08:12:15.000Z"
   },
   {
    "duration": 30,
    "start_time": "2022-10-22T08:12:15.010Z"
   },
   {
    "duration": 12,
    "start_time": "2022-10-22T08:12:15.041Z"
   },
   {
    "duration": 50,
    "start_time": "2022-10-22T08:12:15.055Z"
   },
   {
    "duration": 17,
    "start_time": "2022-10-22T08:12:15.106Z"
   },
   {
    "duration": 127,
    "start_time": "2022-10-22T08:12:15.125Z"
   },
   {
    "duration": 14,
    "start_time": "2022-10-22T08:12:15.253Z"
   },
   {
    "duration": 15,
    "start_time": "2022-10-22T08:12:15.268Z"
   },
   {
    "duration": 124,
    "start_time": "2022-10-22T08:12:15.301Z"
   },
   {
    "duration": 18,
    "start_time": "2022-10-22T08:12:15.427Z"
   },
   {
    "duration": 118,
    "start_time": "2022-10-22T08:12:15.448Z"
   },
   {
    "duration": 17,
    "start_time": "2022-10-22T08:12:15.568Z"
   },
   {
    "duration": 122,
    "start_time": "2022-10-22T08:12:15.587Z"
   },
   {
    "duration": 91,
    "start_time": "2022-10-22T08:13:15.509Z"
   },
   {
    "duration": 102,
    "start_time": "2022-10-22T08:13:41.259Z"
   },
   {
    "duration": 40,
    "start_time": "2022-10-22T08:15:21.829Z"
   },
   {
    "duration": 39,
    "start_time": "2022-10-22T08:16:14.866Z"
   },
   {
    "duration": 107,
    "start_time": "2022-10-22T08:17:00.629Z"
   },
   {
    "duration": 112,
    "start_time": "2022-10-22T08:17:56.697Z"
   },
   {
    "duration": 17,
    "start_time": "2022-10-22T08:28:14.282Z"
   },
   {
    "duration": 36,
    "start_time": "2022-10-22T08:30:47.006Z"
   },
   {
    "duration": 99,
    "start_time": "2022-10-22T08:31:02.250Z"
   },
   {
    "duration": 16,
    "start_time": "2022-10-22T08:31:40.968Z"
   },
   {
    "duration": 487,
    "start_time": "2022-10-22T08:33:55.815Z"
   },
   {
    "duration": 18,
    "start_time": "2022-10-22T08:34:39.283Z"
   },
   {
    "duration": 19,
    "start_time": "2022-10-22T08:36:01.784Z"
   },
   {
    "duration": 763,
    "start_time": "2022-10-22T08:36:23.647Z"
   },
   {
    "duration": 21,
    "start_time": "2022-10-22T08:36:35.409Z"
   },
   {
    "duration": 56,
    "start_time": "2022-10-22T08:39:50.800Z"
   },
   {
    "duration": 53,
    "start_time": "2022-10-22T08:40:03.415Z"
   },
   {
    "duration": 56,
    "start_time": "2022-10-22T08:40:32.370Z"
   },
   {
    "duration": 53,
    "start_time": "2022-10-22T08:40:46.886Z"
   },
   {
    "duration": 68,
    "start_time": "2022-10-22T08:41:36.080Z"
   },
   {
    "duration": 541,
    "start_time": "2022-10-22T08:42:25.265Z"
   },
   {
    "duration": 21,
    "start_time": "2022-10-22T08:43:39.897Z"
   },
   {
    "duration": 718,
    "start_time": "2022-10-22T08:46:52.921Z"
   },
   {
    "duration": 119,
    "start_time": "2022-10-22T08:47:47.290Z"
   },
   {
    "duration": 174,
    "start_time": "2022-10-22T08:49:23.383Z"
   },
   {
    "duration": 129,
    "start_time": "2022-10-22T08:49:34.338Z"
   },
   {
    "duration": 632,
    "start_time": "2022-10-22T08:50:15.945Z"
   },
   {
    "duration": 100,
    "start_time": "2022-10-22T08:51:48.805Z"
   },
   {
    "duration": 104,
    "start_time": "2022-10-22T08:57:07.228Z"
   },
   {
    "duration": 7,
    "start_time": "2022-10-22T09:10:59.766Z"
   },
   {
    "duration": 19,
    "start_time": "2022-10-22T09:11:07.918Z"
   },
   {
    "duration": 21,
    "start_time": "2022-10-22T09:11:54.949Z"
   },
   {
    "duration": 15,
    "start_time": "2022-10-22T10:23:33.032Z"
   },
   {
    "duration": 15,
    "start_time": "2022-10-22T10:24:15.086Z"
   },
   {
    "duration": 16,
    "start_time": "2022-10-22T10:25:49.920Z"
   },
   {
    "duration": 15,
    "start_time": "2022-10-22T10:26:34.846Z"
   },
   {
    "duration": 13,
    "start_time": "2022-10-22T10:38:38.360Z"
   },
   {
    "duration": 11,
    "start_time": "2022-10-22T10:39:02.383Z"
   },
   {
    "duration": 693,
    "start_time": "2022-10-22T10:39:12.024Z"
   },
   {
    "duration": 757,
    "start_time": "2022-10-22T10:40:07.727Z"
   },
   {
    "duration": 54,
    "start_time": "2022-10-22T10:51:43.544Z"
   },
   {
    "duration": 12,
    "start_time": "2022-10-22T10:52:55.547Z"
   },
   {
    "duration": 14,
    "start_time": "2022-10-22T10:53:43.523Z"
   },
   {
    "duration": 11,
    "start_time": "2022-10-22T10:54:32.647Z"
   },
   {
    "duration": 60,
    "start_time": "2022-10-22T10:55:19.135Z"
   },
   {
    "duration": 54,
    "start_time": "2022-10-22T10:56:12.271Z"
   },
   {
    "duration": 40,
    "start_time": "2022-10-22T10:56:32.968Z"
   },
   {
    "duration": 71,
    "start_time": "2022-10-22T10:57:10.934Z"
   },
   {
    "duration": 53,
    "start_time": "2022-10-22T10:58:37.626Z"
   },
   {
    "duration": 43,
    "start_time": "2022-10-22T11:18:25.853Z"
   },
   {
    "duration": 45,
    "start_time": "2022-10-22T11:18:42.252Z"
   },
   {
    "duration": 17,
    "start_time": "2022-10-22T11:19:08.870Z"
   },
   {
    "duration": 15,
    "start_time": "2022-10-22T11:19:58.781Z"
   },
   {
    "duration": 4,
    "start_time": "2022-10-22T11:23:13.079Z"
   },
   {
    "duration": 5,
    "start_time": "2022-10-22T11:23:16.178Z"
   },
   {
    "duration": 13,
    "start_time": "2022-10-22T11:23:27.809Z"
   },
   {
    "duration": 13,
    "start_time": "2022-10-22T11:25:02.825Z"
   },
   {
    "duration": 13,
    "start_time": "2022-10-22T11:25:41.896Z"
   },
   {
    "duration": 15,
    "start_time": "2022-10-22T11:26:08.443Z"
   },
   {
    "duration": 17,
    "start_time": "2022-10-22T11:27:34.844Z"
   },
   {
    "duration": 21,
    "start_time": "2022-10-22T11:27:40.529Z"
   },
   {
    "duration": 8,
    "start_time": "2022-10-22T11:29:45.590Z"
   },
   {
    "duration": 4,
    "start_time": "2022-10-22T11:29:58.331Z"
   },
   {
    "duration": 9,
    "start_time": "2022-10-22T11:30:34.710Z"
   },
   {
    "duration": 812,
    "start_time": "2022-10-22T11:31:55.148Z"
   },
   {
    "duration": 3,
    "start_time": "2022-10-22T11:32:02.395Z"
   },
   {
    "duration": 5,
    "start_time": "2022-10-22T11:32:10.934Z"
   },
   {
    "duration": 7,
    "start_time": "2022-10-22T11:32:39.230Z"
   },
   {
    "duration": 44,
    "start_time": "2022-10-22T11:33:15.590Z"
   },
   {
    "duration": 3,
    "start_time": "2022-10-22T11:33:23.678Z"
   },
   {
    "duration": 4,
    "start_time": "2022-10-22T11:33:36.527Z"
   },
   {
    "duration": 984,
    "start_time": "2022-10-22T11:37:04.824Z"
   },
   {
    "duration": 13,
    "start_time": "2022-10-22T11:37:32.202Z"
   },
   {
    "duration": 42,
    "start_time": "2022-10-22T11:37:46.821Z"
   },
   {
    "duration": 16,
    "start_time": "2022-10-22T11:37:53.839Z"
   },
   {
    "duration": 17,
    "start_time": "2022-10-22T11:38:08.132Z"
   },
   {
    "duration": 46,
    "start_time": "2022-10-22T11:39:00.974Z"
   },
   {
    "duration": 57,
    "start_time": "2022-10-22T11:39:37.202Z"
   },
   {
    "duration": 48,
    "start_time": "2022-10-22T11:40:09.264Z"
   },
   {
    "duration": 48,
    "start_time": "2022-10-22T11:40:27.769Z"
   },
   {
    "duration": 40,
    "start_time": "2022-10-22T11:42:33.435Z"
   },
   {
    "duration": 575,
    "start_time": "2022-10-22T11:43:11.345Z"
   },
   {
    "duration": 18,
    "start_time": "2022-10-22T11:43:27.227Z"
   },
   {
    "duration": 16,
    "start_time": "2022-10-22T11:45:12.384Z"
   },
   {
    "duration": 17,
    "start_time": "2022-10-22T11:45:21.271Z"
   },
   {
    "duration": 19,
    "start_time": "2022-10-22T11:47:09.248Z"
   },
   {
    "duration": 19,
    "start_time": "2022-10-22T11:47:23.899Z"
   },
   {
    "duration": 15,
    "start_time": "2022-10-22T11:49:08.557Z"
   },
   {
    "duration": 19,
    "start_time": "2022-10-22T11:49:31.377Z"
   },
   {
    "duration": 18,
    "start_time": "2022-10-22T11:50:16.326Z"
   },
   {
    "duration": 49,
    "start_time": "2022-10-22T11:51:00.891Z"
   },
   {
    "duration": 47,
    "start_time": "2022-10-22T11:51:15.187Z"
   },
   {
    "duration": 18,
    "start_time": "2022-10-22T11:51:31.959Z"
   },
   {
    "duration": 17,
    "start_time": "2022-10-22T11:51:51.508Z"
   },
   {
    "duration": 12,
    "start_time": "2022-10-22T11:52:19.110Z"
   },
   {
    "duration": 3,
    "start_time": "2022-10-22T11:53:35.188Z"
   },
   {
    "duration": 4,
    "start_time": "2022-10-22T11:53:37.771Z"
   },
   {
    "duration": 11,
    "start_time": "2022-10-22T11:53:52.760Z"
   },
   {
    "duration": 4,
    "start_time": "2022-10-22T11:55:15.907Z"
   },
   {
    "duration": 21,
    "start_time": "2022-10-22T11:58:01.385Z"
   },
   {
    "duration": 4,
    "start_time": "2022-10-22T12:01:35.627Z"
   },
   {
    "duration": 13,
    "start_time": "2022-10-22T12:01:52.251Z"
   },
   {
    "duration": 841,
    "start_time": "2022-10-22T12:02:08.036Z"
   },
   {
    "duration": 1178,
    "start_time": "2022-10-22T12:06:43.524Z"
   },
   {
    "duration": 17,
    "start_time": "2022-10-22T12:06:44.704Z"
   },
   {
    "duration": 22,
    "start_time": "2022-10-22T12:06:44.723Z"
   },
   {
    "duration": 8,
    "start_time": "2022-10-22T12:06:44.747Z"
   },
   {
    "duration": 30,
    "start_time": "2022-10-22T12:06:44.757Z"
   },
   {
    "duration": 13,
    "start_time": "2022-10-22T12:06:44.788Z"
   },
   {
    "duration": 11,
    "start_time": "2022-10-22T12:06:44.803Z"
   },
   {
    "duration": 7,
    "start_time": "2022-10-22T12:06:44.815Z"
   },
   {
    "duration": 11,
    "start_time": "2022-10-22T12:06:44.823Z"
   },
   {
    "duration": 9,
    "start_time": "2022-10-22T12:06:44.836Z"
   },
   {
    "duration": 32,
    "start_time": "2022-10-22T12:06:44.846Z"
   },
   {
    "duration": 7,
    "start_time": "2022-10-22T12:06:44.880Z"
   },
   {
    "duration": 13,
    "start_time": "2022-10-22T12:06:44.889Z"
   },
   {
    "duration": 19,
    "start_time": "2022-10-22T12:06:44.904Z"
   },
   {
    "duration": 20,
    "start_time": "2022-10-22T12:06:44.925Z"
   },
   {
    "duration": 16,
    "start_time": "2022-10-22T12:06:44.946Z"
   },
   {
    "duration": 4,
    "start_time": "2022-10-22T12:06:44.964Z"
   },
   {
    "duration": 14,
    "start_time": "2022-10-22T12:06:44.969Z"
   },
   {
    "duration": 17,
    "start_time": "2022-10-22T12:06:44.984Z"
   },
   {
    "duration": 3,
    "start_time": "2022-10-22T12:06:45.003Z"
   },
   {
    "duration": 45,
    "start_time": "2022-10-22T12:06:45.007Z"
   },
   {
    "duration": 23,
    "start_time": "2022-10-22T12:06:45.054Z"
   },
   {
    "duration": 125,
    "start_time": "2022-10-22T12:06:45.079Z"
   },
   {
    "duration": 15,
    "start_time": "2022-10-22T12:06:45.206Z"
   },
   {
    "duration": 17,
    "start_time": "2022-10-22T12:06:45.223Z"
   },
   {
    "duration": 163,
    "start_time": "2022-10-22T12:06:45.242Z"
   },
   {
    "duration": 18,
    "start_time": "2022-10-22T12:06:45.406Z"
   },
   {
    "duration": 137,
    "start_time": "2022-10-22T12:06:45.428Z"
   },
   {
    "duration": 34,
    "start_time": "2022-10-22T12:06:45.567Z"
   },
   {
    "duration": 784,
    "start_time": "2022-10-22T12:06:45.603Z"
   },
   {
    "duration": 0,
    "start_time": "2022-10-22T12:06:46.389Z"
   },
   {
    "duration": 0,
    "start_time": "2022-10-22T12:06:46.390Z"
   },
   {
    "duration": 0,
    "start_time": "2022-10-22T12:06:46.391Z"
   },
   {
    "duration": 17,
    "start_time": "2022-10-22T12:06:52.924Z"
   },
   {
    "duration": 8,
    "start_time": "2022-10-22T12:06:57.877Z"
   },
   {
    "duration": 63,
    "start_time": "2022-10-22T12:07:04.805Z"
   },
   {
    "duration": 42,
    "start_time": "2022-10-22T12:07:12.069Z"
   },
   {
    "duration": 8,
    "start_time": "2022-10-22T12:07:23.974Z"
   },
   {
    "duration": 11,
    "start_time": "2022-10-22T12:07:42.297Z"
   },
   {
    "duration": 5,
    "start_time": "2022-10-22T12:08:03.068Z"
   },
   {
    "duration": 5,
    "start_time": "2022-10-22T12:08:49.104Z"
   },
   {
    "duration": 41,
    "start_time": "2022-10-22T12:12:55.071Z"
   },
   {
    "duration": 680,
    "start_time": "2022-10-22T12:14:37.842Z"
   },
   {
    "duration": 1107,
    "start_time": "2022-10-22T12:14:55.947Z"
   },
   {
    "duration": 18,
    "start_time": "2022-10-22T12:14:57.056Z"
   },
   {
    "duration": 25,
    "start_time": "2022-10-22T12:14:57.075Z"
   },
   {
    "duration": 11,
    "start_time": "2022-10-22T12:14:57.102Z"
   },
   {
    "duration": 32,
    "start_time": "2022-10-22T12:14:57.114Z"
   },
   {
    "duration": 4,
    "start_time": "2022-10-22T12:14:57.147Z"
   },
   {
    "duration": 20,
    "start_time": "2022-10-22T12:14:57.152Z"
   },
   {
    "duration": 9,
    "start_time": "2022-10-22T12:14:57.174Z"
   },
   {
    "duration": 16,
    "start_time": "2022-10-22T12:14:57.184Z"
   },
   {
    "duration": 4,
    "start_time": "2022-10-22T12:14:57.202Z"
   },
   {
    "duration": 31,
    "start_time": "2022-10-22T12:14:57.208Z"
   },
   {
    "duration": 9,
    "start_time": "2022-10-22T12:14:57.241Z"
   },
   {
    "duration": 11,
    "start_time": "2022-10-22T12:14:57.252Z"
   },
   {
    "duration": 19,
    "start_time": "2022-10-22T12:14:57.265Z"
   },
   {
    "duration": 29,
    "start_time": "2022-10-22T12:14:57.286Z"
   },
   {
    "duration": 40,
    "start_time": "2022-10-22T12:14:57.316Z"
   },
   {
    "duration": 3,
    "start_time": "2022-10-22T12:14:57.358Z"
   },
   {
    "duration": 17,
    "start_time": "2022-10-22T12:14:57.363Z"
   },
   {
    "duration": 23,
    "start_time": "2022-10-22T12:14:57.382Z"
   },
   {
    "duration": 12,
    "start_time": "2022-10-22T12:14:57.407Z"
   },
   {
    "duration": 23,
    "start_time": "2022-10-22T12:14:57.421Z"
   },
   {
    "duration": 30,
    "start_time": "2022-10-22T12:14:57.446Z"
   },
   {
    "duration": 114,
    "start_time": "2022-10-22T12:14:57.478Z"
   },
   {
    "duration": 15,
    "start_time": "2022-10-22T12:14:57.599Z"
   },
   {
    "duration": 20,
    "start_time": "2022-10-22T12:14:57.616Z"
   },
   {
    "duration": 142,
    "start_time": "2022-10-22T12:14:57.638Z"
   },
   {
    "duration": 28,
    "start_time": "2022-10-22T12:14:57.782Z"
   },
   {
    "duration": 124,
    "start_time": "2022-10-22T12:14:57.814Z"
   },
   {
    "duration": 24,
    "start_time": "2022-10-22T12:14:57.940Z"
   },
   {
    "duration": 780,
    "start_time": "2022-10-22T12:14:57.966Z"
   },
   {
    "duration": 0,
    "start_time": "2022-10-22T12:14:58.747Z"
   },
   {
    "duration": 0,
    "start_time": "2022-10-22T12:14:58.748Z"
   },
   {
    "duration": 0,
    "start_time": "2022-10-22T12:14:58.749Z"
   },
   {
    "duration": 1129,
    "start_time": "2022-10-22T12:25:26.420Z"
   },
   {
    "duration": 17,
    "start_time": "2022-10-22T12:25:27.550Z"
   },
   {
    "duration": 13,
    "start_time": "2022-10-22T12:25:27.569Z"
   },
   {
    "duration": 7,
    "start_time": "2022-10-22T12:25:27.584Z"
   },
   {
    "duration": 29,
    "start_time": "2022-10-22T12:25:27.599Z"
   },
   {
    "duration": 3,
    "start_time": "2022-10-22T12:25:27.629Z"
   },
   {
    "duration": 17,
    "start_time": "2022-10-22T12:25:27.633Z"
   },
   {
    "duration": 5,
    "start_time": "2022-10-22T12:25:27.651Z"
   },
   {
    "duration": 8,
    "start_time": "2022-10-22T12:25:27.657Z"
   },
   {
    "duration": 15,
    "start_time": "2022-10-22T12:25:27.667Z"
   },
   {
    "duration": 34,
    "start_time": "2022-10-22T12:25:27.684Z"
   },
   {
    "duration": 9,
    "start_time": "2022-10-22T12:25:27.720Z"
   },
   {
    "duration": 10,
    "start_time": "2022-10-22T12:25:27.730Z"
   },
   {
    "duration": 12,
    "start_time": "2022-10-22T12:25:27.742Z"
   },
   {
    "duration": 17,
    "start_time": "2022-10-22T12:25:27.756Z"
   },
   {
    "duration": 30,
    "start_time": "2022-10-22T12:25:27.775Z"
   },
   {
    "duration": 3,
    "start_time": "2022-10-22T12:25:27.806Z"
   },
   {
    "duration": 15,
    "start_time": "2022-10-22T12:25:27.810Z"
   },
   {
    "duration": 5,
    "start_time": "2022-10-22T12:25:27.826Z"
   },
   {
    "duration": 12,
    "start_time": "2022-10-22T12:25:27.832Z"
   },
   {
    "duration": 32,
    "start_time": "2022-10-22T12:25:27.845Z"
   },
   {
    "duration": 15,
    "start_time": "2022-10-22T12:25:27.879Z"
   },
   {
    "duration": 119,
    "start_time": "2022-10-22T12:25:27.895Z"
   },
   {
    "duration": 15,
    "start_time": "2022-10-22T12:25:28.016Z"
   },
   {
    "duration": 25,
    "start_time": "2022-10-22T12:25:28.032Z"
   },
   {
    "duration": 143,
    "start_time": "2022-10-22T12:25:28.059Z"
   },
   {
    "duration": 16,
    "start_time": "2022-10-22T12:25:28.203Z"
   },
   {
    "duration": 118,
    "start_time": "2022-10-22T12:25:28.222Z"
   },
   {
    "duration": 19,
    "start_time": "2022-10-22T12:25:28.342Z"
   },
   {
    "duration": 965,
    "start_time": "2022-10-22T12:25:28.363Z"
   },
   {
    "duration": 0,
    "start_time": "2022-10-22T12:25:29.330Z"
   },
   {
    "duration": 0,
    "start_time": "2022-10-22T12:25:29.331Z"
   },
   {
    "duration": 0,
    "start_time": "2022-10-22T12:25:29.332Z"
   },
   {
    "duration": 59,
    "start_time": "2022-10-22T12:25:53.535Z"
   },
   {
    "duration": 925,
    "start_time": "2022-10-22T12:26:07.708Z"
   },
   {
    "duration": 109,
    "start_time": "2022-10-22T12:26:20.641Z"
   },
   {
    "duration": 18,
    "start_time": "2022-10-22T12:33:57.525Z"
   },
   {
    "duration": 12,
    "start_time": "2022-10-22T12:34:00.823Z"
   },
   {
    "duration": 5,
    "start_time": "2022-10-22T12:34:04.257Z"
   },
   {
    "duration": 12,
    "start_time": "2022-10-22T12:38:11.788Z"
   },
   {
    "duration": 8,
    "start_time": "2022-10-22T12:39:47.495Z"
   },
   {
    "duration": 11,
    "start_time": "2022-10-22T12:40:07.406Z"
   },
   {
    "duration": 8,
    "start_time": "2022-10-22T12:40:10.820Z"
   },
   {
    "duration": 4,
    "start_time": "2022-10-22T12:40:20.710Z"
   },
   {
    "duration": 7,
    "start_time": "2022-10-22T12:41:05.735Z"
   },
   {
    "duration": 7,
    "start_time": "2022-10-22T12:41:24.112Z"
   },
   {
    "duration": 1118,
    "start_time": "2022-10-22T12:41:32.344Z"
   },
   {
    "duration": 18,
    "start_time": "2022-10-22T12:41:33.464Z"
   },
   {
    "duration": 14,
    "start_time": "2022-10-22T12:41:33.483Z"
   },
   {
    "duration": 10,
    "start_time": "2022-10-22T12:41:33.500Z"
   },
   {
    "duration": 31,
    "start_time": "2022-10-22T12:41:33.511Z"
   },
   {
    "duration": 2,
    "start_time": "2022-10-22T12:41:33.544Z"
   },
   {
    "duration": 12,
    "start_time": "2022-10-22T12:41:33.548Z"
   },
   {
    "duration": 8,
    "start_time": "2022-10-22T12:41:33.561Z"
   },
   {
    "duration": 14,
    "start_time": "2022-10-22T12:41:33.571Z"
   },
   {
    "duration": 14,
    "start_time": "2022-10-22T12:41:33.588Z"
   },
   {
    "duration": 35,
    "start_time": "2022-10-22T12:41:33.604Z"
   },
   {
    "duration": 8,
    "start_time": "2022-10-22T12:41:33.640Z"
   },
   {
    "duration": 6,
    "start_time": "2022-10-22T12:41:33.649Z"
   },
   {
    "duration": 17,
    "start_time": "2022-10-22T12:41:33.657Z"
   },
   {
    "duration": 18,
    "start_time": "2022-10-22T12:41:33.675Z"
   },
   {
    "duration": 15,
    "start_time": "2022-10-22T12:41:33.700Z"
   },
   {
    "duration": 3,
    "start_time": "2022-10-22T12:41:33.717Z"
   },
   {
    "duration": 11,
    "start_time": "2022-10-22T12:41:33.722Z"
   },
   {
    "duration": 5,
    "start_time": "2022-10-22T12:41:33.735Z"
   },
   {
    "duration": 5,
    "start_time": "2022-10-22T12:41:33.742Z"
   },
   {
    "duration": 13,
    "start_time": "2022-10-22T12:41:33.749Z"
   },
   {
    "duration": 38,
    "start_time": "2022-10-22T12:41:33.763Z"
   },
   {
    "duration": 120,
    "start_time": "2022-10-22T12:41:33.803Z"
   },
   {
    "duration": 14,
    "start_time": "2022-10-22T12:41:33.924Z"
   },
   {
    "duration": 15,
    "start_time": "2022-10-22T12:41:33.940Z"
   },
   {
    "duration": 133,
    "start_time": "2022-10-22T12:41:33.957Z"
   },
   {
    "duration": 18,
    "start_time": "2022-10-22T12:41:34.099Z"
   },
   {
    "duration": 129,
    "start_time": "2022-10-22T12:41:34.119Z"
   },
   {
    "duration": 21,
    "start_time": "2022-10-22T12:41:34.249Z"
   },
   {
    "duration": 116,
    "start_time": "2022-10-22T12:41:34.272Z"
   },
   {
    "duration": 21,
    "start_time": "2022-10-22T12:41:34.390Z"
   },
   {
    "duration": 22,
    "start_time": "2022-10-22T12:41:34.413Z"
   },
   {
    "duration": 18,
    "start_time": "2022-10-22T12:41:34.437Z"
   },
   {
    "duration": 28,
    "start_time": "2022-10-22T12:41:34.456Z"
   },
   {
    "duration": 4,
    "start_time": "2022-10-22T12:43:19.520Z"
   },
   {
    "duration": 5,
    "start_time": "2022-10-22T12:51:45.041Z"
   },
   {
    "duration": 4,
    "start_time": "2022-10-22T12:52:35.116Z"
   },
   {
    "duration": 5,
    "start_time": "2022-10-22T12:56:34.089Z"
   }
  ],
  "colab": {
   "name": "dpp_template_part2.ipynb",
   "provenance": []
  },
  "kernelspec": {
   "display_name": "Python 3 (ipykernel)",
   "language": "python",
   "name": "python3"
  },
  "language_info": {
   "codemirror_mode": {
    "name": "ipython",
    "version": 3
   },
   "file_extension": ".py",
   "mimetype": "text/x-python",
   "name": "python",
   "nbconvert_exporter": "python",
   "pygments_lexer": "ipython3",
   "version": "3.9.5"
  },
  "toc": {
   "base_numbering": 1,
   "nav_menu": {},
   "number_sections": true,
   "sideBar": true,
   "skip_h1_title": true,
   "title_cell": "Содержание",
   "title_sidebar": "Содержание",
   "toc_cell": true,
   "toc_position": {},
   "toc_section_display": true,
   "toc_window_display": true
  }
 },
 "nbformat": 4,
 "nbformat_minor": 5
}
