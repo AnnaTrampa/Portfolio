{
 "cells": [
  {
   "cell_type": "markdown",
   "metadata": {},
   "source": [
    "# Отток клиентов"
   ]
  },
  {
   "cell_type": "markdown",
   "metadata": {},
   "source": [
    "Из «Бета-Банка» стали уходить клиенты. Каждый месяц. Немного, но заметно. Банковские маркетологи посчитали: сохранять текущих клиентов дешевле, чем привлекать новых.\n",
    "\n",
    "Нужно спрогнозировать, уйдёт клиент из банка в ближайшее время или нет. Вам предоставлены исторические данные о поведении клиентов и расторжении договоров с банком. \n",
    "\n",
    "Постройте модель с предельно большим значением *F1*-меры. Чтобы сдать проект успешно, нужно довести метрику до 0.59. Проверьте *F1*-меру на тестовой выборке самостоятельно.\n",
    "\n",
    "Дополнительно измеряйте *AUC-ROC*, сравнивайте её значение с *F1*-мерой.\n",
    "\n",
    "Источник данных: [https://www.kaggle.com/barelydedicated/bank-customer-churn-modeling](https://www.kaggle.com/barelydedicated/bank-customer-churn-modeling)"
   ]
  },
  {
   "cell_type": "markdown",
   "metadata": {},
   "source": [
    "## **Цель и этапы исследования**\n",
    "\n",
    "В данном проекте мы проанализурем исторические данные о поведении клиентов «Бета-Банка».\n",
    "\n",
    "**Цель проекта:** создать модель, прогнозирующую возможный уход клиента из банка.\n",
    "\n",
    "В качестве метрики будем использовть F1-меру со значением не менее 0.59 на тестовой выборке.\n",
    "\n",
    "Дополнительно будем измерять AUC-ROC.\n",
    "\n",
    "**Ход исследования:**\n",
    "\n",
    "Исследование пройдёт в четыре этапа:\n",
    "1. Подготовка данных\n",
    "2. Исследование задачи\n",
    "3. Борьба с дисбалансом классов\n",
    "4. Тестирование модели"
   ]
  },
  {
   "cell_type": "markdown",
   "metadata": {},
   "source": [
    "## Подготовка данных"
   ]
  },
  {
   "cell_type": "markdown",
   "metadata": {},
   "source": [
    "### Открытие и изучение файла"
   ]
  },
  {
   "cell_type": "code",
   "execution_count": 85,
   "metadata": {},
   "outputs": [],
   "source": [
    "# Импортируем библиотеки\n",
    "import pandas as pd\n",
    "import numpy as np\n",
    "import matplotlib.pyplot as plt\n",
    "from sklearn.tree import DecisionTreeClassifier\n",
    "from sklearn.ensemble import RandomForestClassifier\n",
    "from sklearn.linear_model import LogisticRegression \n",
    "from sklearn.metrics import f1_score\n",
    "from sklearn.model_selection import train_test_split\n",
    "from sklearn.model_selection import GridSearchCV\n",
    "from sklearn.preprocessing import OneHotEncoder\n",
    "from sklearn.preprocessing import LabelEncoder\n",
    "from sklearn.preprocessing import StandardScaler\n",
    "from sklearn.compose import make_column_transformer\n",
    "from sklearn.utils import shuffle\n",
    "from sklearn.metrics import roc_curve, roc_auc_score\n",
    "import warnings; warnings.filterwarnings('ignore')"
   ]
  },
  {
   "cell_type": "code",
   "execution_count": 2,
   "metadata": {},
   "outputs": [],
   "source": [
    "# Открываем файл\n",
    "df = pd.read_csv('/datasets/Churn.csv')"
   ]
  },
  {
   "cell_type": "code",
   "execution_count": 3,
   "metadata": {
    "scrolled": true
   },
   "outputs": [
    {
     "name": "stdout",
     "output_type": "stream",
     "text": [
      "<class 'pandas.core.frame.DataFrame'>\n",
      "RangeIndex: 10000 entries, 0 to 9999\n",
      "Data columns (total 14 columns):\n",
      " #   Column           Non-Null Count  Dtype  \n",
      "---  ------           --------------  -----  \n",
      " 0   RowNumber        10000 non-null  int64  \n",
      " 1   CustomerId       10000 non-null  int64  \n",
      " 2   Surname          10000 non-null  object \n",
      " 3   CreditScore      10000 non-null  int64  \n",
      " 4   Geography        10000 non-null  object \n",
      " 5   Gender           10000 non-null  object \n",
      " 6   Age              10000 non-null  int64  \n",
      " 7   Tenure           9091 non-null   float64\n",
      " 8   Balance          10000 non-null  float64\n",
      " 9   NumOfProducts    10000 non-null  int64  \n",
      " 10  HasCrCard        10000 non-null  int64  \n",
      " 11  IsActiveMember   10000 non-null  int64  \n",
      " 12  EstimatedSalary  10000 non-null  float64\n",
      " 13  Exited           10000 non-null  int64  \n",
      "dtypes: float64(3), int64(8), object(3)\n",
      "memory usage: 1.1+ MB\n"
     ]
    }
   ],
   "source": [
    "# Изучаем информацию\n",
    "df.info()"
   ]
  },
  {
   "cell_type": "code",
   "execution_count": 4,
   "metadata": {
    "scrolled": false
   },
   "outputs": [
    {
     "data": {
      "text/html": [
       "<div>\n",
       "<style scoped>\n",
       "    .dataframe tbody tr th:only-of-type {\n",
       "        vertical-align: middle;\n",
       "    }\n",
       "\n",
       "    .dataframe tbody tr th {\n",
       "        vertical-align: top;\n",
       "    }\n",
       "\n",
       "    .dataframe thead th {\n",
       "        text-align: right;\n",
       "    }\n",
       "</style>\n",
       "<table border=\"1\" class=\"dataframe\">\n",
       "  <thead>\n",
       "    <tr style=\"text-align: right;\">\n",
       "      <th></th>\n",
       "      <th>RowNumber</th>\n",
       "      <th>CustomerId</th>\n",
       "      <th>Surname</th>\n",
       "      <th>CreditScore</th>\n",
       "      <th>Geography</th>\n",
       "      <th>Gender</th>\n",
       "      <th>Age</th>\n",
       "      <th>Tenure</th>\n",
       "      <th>Balance</th>\n",
       "      <th>NumOfProducts</th>\n",
       "      <th>HasCrCard</th>\n",
       "      <th>IsActiveMember</th>\n",
       "      <th>EstimatedSalary</th>\n",
       "      <th>Exited</th>\n",
       "    </tr>\n",
       "  </thead>\n",
       "  <tbody>\n",
       "    <tr>\n",
       "      <th>0</th>\n",
       "      <td>1</td>\n",
       "      <td>15634602</td>\n",
       "      <td>Hargrave</td>\n",
       "      <td>619</td>\n",
       "      <td>France</td>\n",
       "      <td>Female</td>\n",
       "      <td>42</td>\n",
       "      <td>2.0</td>\n",
       "      <td>0.00</td>\n",
       "      <td>1</td>\n",
       "      <td>1</td>\n",
       "      <td>1</td>\n",
       "      <td>101348.88</td>\n",
       "      <td>1</td>\n",
       "    </tr>\n",
       "    <tr>\n",
       "      <th>1</th>\n",
       "      <td>2</td>\n",
       "      <td>15647311</td>\n",
       "      <td>Hill</td>\n",
       "      <td>608</td>\n",
       "      <td>Spain</td>\n",
       "      <td>Female</td>\n",
       "      <td>41</td>\n",
       "      <td>1.0</td>\n",
       "      <td>83807.86</td>\n",
       "      <td>1</td>\n",
       "      <td>0</td>\n",
       "      <td>1</td>\n",
       "      <td>112542.58</td>\n",
       "      <td>0</td>\n",
       "    </tr>\n",
       "    <tr>\n",
       "      <th>2</th>\n",
       "      <td>3</td>\n",
       "      <td>15619304</td>\n",
       "      <td>Onio</td>\n",
       "      <td>502</td>\n",
       "      <td>France</td>\n",
       "      <td>Female</td>\n",
       "      <td>42</td>\n",
       "      <td>8.0</td>\n",
       "      <td>159660.80</td>\n",
       "      <td>3</td>\n",
       "      <td>1</td>\n",
       "      <td>0</td>\n",
       "      <td>113931.57</td>\n",
       "      <td>1</td>\n",
       "    </tr>\n",
       "    <tr>\n",
       "      <th>3</th>\n",
       "      <td>4</td>\n",
       "      <td>15701354</td>\n",
       "      <td>Boni</td>\n",
       "      <td>699</td>\n",
       "      <td>France</td>\n",
       "      <td>Female</td>\n",
       "      <td>39</td>\n",
       "      <td>1.0</td>\n",
       "      <td>0.00</td>\n",
       "      <td>2</td>\n",
       "      <td>0</td>\n",
       "      <td>0</td>\n",
       "      <td>93826.63</td>\n",
       "      <td>0</td>\n",
       "    </tr>\n",
       "    <tr>\n",
       "      <th>4</th>\n",
       "      <td>5</td>\n",
       "      <td>15737888</td>\n",
       "      <td>Mitchell</td>\n",
       "      <td>850</td>\n",
       "      <td>Spain</td>\n",
       "      <td>Female</td>\n",
       "      <td>43</td>\n",
       "      <td>2.0</td>\n",
       "      <td>125510.82</td>\n",
       "      <td>1</td>\n",
       "      <td>1</td>\n",
       "      <td>1</td>\n",
       "      <td>79084.10</td>\n",
       "      <td>0</td>\n",
       "    </tr>\n",
       "    <tr>\n",
       "      <th>5</th>\n",
       "      <td>6</td>\n",
       "      <td>15574012</td>\n",
       "      <td>Chu</td>\n",
       "      <td>645</td>\n",
       "      <td>Spain</td>\n",
       "      <td>Male</td>\n",
       "      <td>44</td>\n",
       "      <td>8.0</td>\n",
       "      <td>113755.78</td>\n",
       "      <td>2</td>\n",
       "      <td>1</td>\n",
       "      <td>0</td>\n",
       "      <td>149756.71</td>\n",
       "      <td>1</td>\n",
       "    </tr>\n",
       "    <tr>\n",
       "      <th>6</th>\n",
       "      <td>7</td>\n",
       "      <td>15592531</td>\n",
       "      <td>Bartlett</td>\n",
       "      <td>822</td>\n",
       "      <td>France</td>\n",
       "      <td>Male</td>\n",
       "      <td>50</td>\n",
       "      <td>7.0</td>\n",
       "      <td>0.00</td>\n",
       "      <td>2</td>\n",
       "      <td>1</td>\n",
       "      <td>1</td>\n",
       "      <td>10062.80</td>\n",
       "      <td>0</td>\n",
       "    </tr>\n",
       "    <tr>\n",
       "      <th>7</th>\n",
       "      <td>8</td>\n",
       "      <td>15656148</td>\n",
       "      <td>Obinna</td>\n",
       "      <td>376</td>\n",
       "      <td>Germany</td>\n",
       "      <td>Female</td>\n",
       "      <td>29</td>\n",
       "      <td>4.0</td>\n",
       "      <td>115046.74</td>\n",
       "      <td>4</td>\n",
       "      <td>1</td>\n",
       "      <td>0</td>\n",
       "      <td>119346.88</td>\n",
       "      <td>1</td>\n",
       "    </tr>\n",
       "    <tr>\n",
       "      <th>8</th>\n",
       "      <td>9</td>\n",
       "      <td>15792365</td>\n",
       "      <td>He</td>\n",
       "      <td>501</td>\n",
       "      <td>France</td>\n",
       "      <td>Male</td>\n",
       "      <td>44</td>\n",
       "      <td>4.0</td>\n",
       "      <td>142051.07</td>\n",
       "      <td>2</td>\n",
       "      <td>0</td>\n",
       "      <td>1</td>\n",
       "      <td>74940.50</td>\n",
       "      <td>0</td>\n",
       "    </tr>\n",
       "    <tr>\n",
       "      <th>9</th>\n",
       "      <td>10</td>\n",
       "      <td>15592389</td>\n",
       "      <td>H?</td>\n",
       "      <td>684</td>\n",
       "      <td>France</td>\n",
       "      <td>Male</td>\n",
       "      <td>27</td>\n",
       "      <td>2.0</td>\n",
       "      <td>134603.88</td>\n",
       "      <td>1</td>\n",
       "      <td>1</td>\n",
       "      <td>1</td>\n",
       "      <td>71725.73</td>\n",
       "      <td>0</td>\n",
       "    </tr>\n",
       "    <tr>\n",
       "      <th>10</th>\n",
       "      <td>11</td>\n",
       "      <td>15767821</td>\n",
       "      <td>Bearce</td>\n",
       "      <td>528</td>\n",
       "      <td>France</td>\n",
       "      <td>Male</td>\n",
       "      <td>31</td>\n",
       "      <td>6.0</td>\n",
       "      <td>102016.72</td>\n",
       "      <td>2</td>\n",
       "      <td>0</td>\n",
       "      <td>0</td>\n",
       "      <td>80181.12</td>\n",
       "      <td>0</td>\n",
       "    </tr>\n",
       "    <tr>\n",
       "      <th>11</th>\n",
       "      <td>12</td>\n",
       "      <td>15737173</td>\n",
       "      <td>Andrews</td>\n",
       "      <td>497</td>\n",
       "      <td>Spain</td>\n",
       "      <td>Male</td>\n",
       "      <td>24</td>\n",
       "      <td>3.0</td>\n",
       "      <td>0.00</td>\n",
       "      <td>2</td>\n",
       "      <td>1</td>\n",
       "      <td>0</td>\n",
       "      <td>76390.01</td>\n",
       "      <td>0</td>\n",
       "    </tr>\n",
       "    <tr>\n",
       "      <th>12</th>\n",
       "      <td>13</td>\n",
       "      <td>15632264</td>\n",
       "      <td>Kay</td>\n",
       "      <td>476</td>\n",
       "      <td>France</td>\n",
       "      <td>Female</td>\n",
       "      <td>34</td>\n",
       "      <td>10.0</td>\n",
       "      <td>0.00</td>\n",
       "      <td>2</td>\n",
       "      <td>1</td>\n",
       "      <td>0</td>\n",
       "      <td>26260.98</td>\n",
       "      <td>0</td>\n",
       "    </tr>\n",
       "    <tr>\n",
       "      <th>13</th>\n",
       "      <td>14</td>\n",
       "      <td>15691483</td>\n",
       "      <td>Chin</td>\n",
       "      <td>549</td>\n",
       "      <td>France</td>\n",
       "      <td>Female</td>\n",
       "      <td>25</td>\n",
       "      <td>5.0</td>\n",
       "      <td>0.00</td>\n",
       "      <td>2</td>\n",
       "      <td>0</td>\n",
       "      <td>0</td>\n",
       "      <td>190857.79</td>\n",
       "      <td>0</td>\n",
       "    </tr>\n",
       "    <tr>\n",
       "      <th>14</th>\n",
       "      <td>15</td>\n",
       "      <td>15600882</td>\n",
       "      <td>Scott</td>\n",
       "      <td>635</td>\n",
       "      <td>Spain</td>\n",
       "      <td>Female</td>\n",
       "      <td>35</td>\n",
       "      <td>7.0</td>\n",
       "      <td>0.00</td>\n",
       "      <td>2</td>\n",
       "      <td>1</td>\n",
       "      <td>1</td>\n",
       "      <td>65951.65</td>\n",
       "      <td>0</td>\n",
       "    </tr>\n",
       "    <tr>\n",
       "      <th>15</th>\n",
       "      <td>16</td>\n",
       "      <td>15643966</td>\n",
       "      <td>Goforth</td>\n",
       "      <td>616</td>\n",
       "      <td>Germany</td>\n",
       "      <td>Male</td>\n",
       "      <td>45</td>\n",
       "      <td>3.0</td>\n",
       "      <td>143129.41</td>\n",
       "      <td>2</td>\n",
       "      <td>0</td>\n",
       "      <td>1</td>\n",
       "      <td>64327.26</td>\n",
       "      <td>0</td>\n",
       "    </tr>\n",
       "    <tr>\n",
       "      <th>16</th>\n",
       "      <td>17</td>\n",
       "      <td>15737452</td>\n",
       "      <td>Romeo</td>\n",
       "      <td>653</td>\n",
       "      <td>Germany</td>\n",
       "      <td>Male</td>\n",
       "      <td>58</td>\n",
       "      <td>1.0</td>\n",
       "      <td>132602.88</td>\n",
       "      <td>1</td>\n",
       "      <td>1</td>\n",
       "      <td>0</td>\n",
       "      <td>5097.67</td>\n",
       "      <td>1</td>\n",
       "    </tr>\n",
       "    <tr>\n",
       "      <th>17</th>\n",
       "      <td>18</td>\n",
       "      <td>15788218</td>\n",
       "      <td>Henderson</td>\n",
       "      <td>549</td>\n",
       "      <td>Spain</td>\n",
       "      <td>Female</td>\n",
       "      <td>24</td>\n",
       "      <td>9.0</td>\n",
       "      <td>0.00</td>\n",
       "      <td>2</td>\n",
       "      <td>1</td>\n",
       "      <td>1</td>\n",
       "      <td>14406.41</td>\n",
       "      <td>0</td>\n",
       "    </tr>\n",
       "    <tr>\n",
       "      <th>18</th>\n",
       "      <td>19</td>\n",
       "      <td>15661507</td>\n",
       "      <td>Muldrow</td>\n",
       "      <td>587</td>\n",
       "      <td>Spain</td>\n",
       "      <td>Male</td>\n",
       "      <td>45</td>\n",
       "      <td>6.0</td>\n",
       "      <td>0.00</td>\n",
       "      <td>1</td>\n",
       "      <td>0</td>\n",
       "      <td>0</td>\n",
       "      <td>158684.81</td>\n",
       "      <td>0</td>\n",
       "    </tr>\n",
       "    <tr>\n",
       "      <th>19</th>\n",
       "      <td>20</td>\n",
       "      <td>15568982</td>\n",
       "      <td>Hao</td>\n",
       "      <td>726</td>\n",
       "      <td>France</td>\n",
       "      <td>Female</td>\n",
       "      <td>24</td>\n",
       "      <td>6.0</td>\n",
       "      <td>0.00</td>\n",
       "      <td>2</td>\n",
       "      <td>1</td>\n",
       "      <td>1</td>\n",
       "      <td>54724.03</td>\n",
       "      <td>0</td>\n",
       "    </tr>\n",
       "  </tbody>\n",
       "</table>\n",
       "</div>"
      ],
      "text/plain": [
       "    RowNumber  CustomerId    Surname  CreditScore Geography  Gender  Age  \\\n",
       "0           1    15634602   Hargrave          619    France  Female   42   \n",
       "1           2    15647311       Hill          608     Spain  Female   41   \n",
       "2           3    15619304       Onio          502    France  Female   42   \n",
       "3           4    15701354       Boni          699    France  Female   39   \n",
       "4           5    15737888   Mitchell          850     Spain  Female   43   \n",
       "5           6    15574012        Chu          645     Spain    Male   44   \n",
       "6           7    15592531   Bartlett          822    France    Male   50   \n",
       "7           8    15656148     Obinna          376   Germany  Female   29   \n",
       "8           9    15792365         He          501    France    Male   44   \n",
       "9          10    15592389         H?          684    France    Male   27   \n",
       "10         11    15767821     Bearce          528    France    Male   31   \n",
       "11         12    15737173    Andrews          497     Spain    Male   24   \n",
       "12         13    15632264        Kay          476    France  Female   34   \n",
       "13         14    15691483       Chin          549    France  Female   25   \n",
       "14         15    15600882      Scott          635     Spain  Female   35   \n",
       "15         16    15643966    Goforth          616   Germany    Male   45   \n",
       "16         17    15737452      Romeo          653   Germany    Male   58   \n",
       "17         18    15788218  Henderson          549     Spain  Female   24   \n",
       "18         19    15661507    Muldrow          587     Spain    Male   45   \n",
       "19         20    15568982        Hao          726    France  Female   24   \n",
       "\n",
       "    Tenure    Balance  NumOfProducts  HasCrCard  IsActiveMember  \\\n",
       "0      2.0       0.00              1          1               1   \n",
       "1      1.0   83807.86              1          0               1   \n",
       "2      8.0  159660.80              3          1               0   \n",
       "3      1.0       0.00              2          0               0   \n",
       "4      2.0  125510.82              1          1               1   \n",
       "5      8.0  113755.78              2          1               0   \n",
       "6      7.0       0.00              2          1               1   \n",
       "7      4.0  115046.74              4          1               0   \n",
       "8      4.0  142051.07              2          0               1   \n",
       "9      2.0  134603.88              1          1               1   \n",
       "10     6.0  102016.72              2          0               0   \n",
       "11     3.0       0.00              2          1               0   \n",
       "12    10.0       0.00              2          1               0   \n",
       "13     5.0       0.00              2          0               0   \n",
       "14     7.0       0.00              2          1               1   \n",
       "15     3.0  143129.41              2          0               1   \n",
       "16     1.0  132602.88              1          1               0   \n",
       "17     9.0       0.00              2          1               1   \n",
       "18     6.0       0.00              1          0               0   \n",
       "19     6.0       0.00              2          1               1   \n",
       "\n",
       "    EstimatedSalary  Exited  \n",
       "0         101348.88       1  \n",
       "1         112542.58       0  \n",
       "2         113931.57       1  \n",
       "3          93826.63       0  \n",
       "4          79084.10       0  \n",
       "5         149756.71       1  \n",
       "6          10062.80       0  \n",
       "7         119346.88       1  \n",
       "8          74940.50       0  \n",
       "9          71725.73       0  \n",
       "10         80181.12       0  \n",
       "11         76390.01       0  \n",
       "12         26260.98       0  \n",
       "13        190857.79       0  \n",
       "14         65951.65       0  \n",
       "15         64327.26       0  \n",
       "16          5097.67       1  \n",
       "17         14406.41       0  \n",
       "18        158684.81       0  \n",
       "19         54724.03       0  "
      ]
     },
     "execution_count": 4,
     "metadata": {},
     "output_type": "execute_result"
    }
   ],
   "source": [
    "df.head(20)"
   ]
  },
  {
   "cell_type": "code",
   "execution_count": 5,
   "metadata": {
    "scrolled": true
   },
   "outputs": [
    {
     "data": {
      "text/plain": [
       "RowNumber            0\n",
       "CustomerId           0\n",
       "Surname              0\n",
       "CreditScore          0\n",
       "Geography            0\n",
       "Gender               0\n",
       "Age                  0\n",
       "Balance              0\n",
       "NumOfProducts        0\n",
       "HasCrCard            0\n",
       "IsActiveMember       0\n",
       "EstimatedSalary      0\n",
       "Exited               0\n",
       "Tenure             909\n",
       "dtype: int64"
      ]
     },
     "execution_count": 5,
     "metadata": {},
     "output_type": "execute_result"
    }
   ],
   "source": [
    "# Проверяем, есть ли в данных пропущенные значения\n",
    "df.isna().sum().sort_values()"
   ]
  },
  {
   "cell_type": "code",
   "execution_count": 6,
   "metadata": {
    "scrolled": false
   },
   "outputs": [
    {
     "data": {
      "text/plain": [
       "0"
      ]
     },
     "execution_count": 6,
     "metadata": {},
     "output_type": "execute_result"
    }
   ],
   "source": [
    "# Посмотрим, есть ли дубликаты\n",
    "df.duplicated().sum()"
   ]
  },
  {
   "cell_type": "markdown",
   "metadata": {},
   "source": [
    "**Вывод:**\n",
    "\n",
    "В датасете 10000 строк и 14 столбцов. Три столбца имеют тип данных `float64`, восемь - тип данных `int64` и три столбца - тип `object`.\n",
    "\n",
    "В столбце `Tenure` обнаружено 909 пропущенных значений, что составляет менее 10% от общего числа.\n",
    "\n",
    "В столбце `Exited` цифрой 1 обозначены ушедшие клиенты банка, цифрой 0 - оставшиеся клиенты. Этот столбец будет целевым признаком для модели.\n",
    "\n",
    "Данные этого столбца относятся к категориальным, значит будет решатся задача классификации, а именно бинарной (двоичной) классификации."
   ]
  },
  {
   "cell_type": "markdown",
   "metadata": {},
   "source": [
    "### Предобработка данных"
   ]
  },
  {
   "cell_type": "code",
   "execution_count": 7,
   "metadata": {},
   "outputs": [],
   "source": [
    "# Переименуем столбцы в соответствии со snake_case:\n",
    "df.columns = df.columns.str.lower() # приводим названия столбцов к нижнему регистру\n",
    "df = df.rename(columns={'rownumber': 'row_number',\n",
    "                                'customerid': 'customer_id',\n",
    "                                'creditscore': 'credit_score',\n",
    "                                'numofproducts': 'num_of_products',\n",
    "                                'hascrcard': 'has_cr_card',\n",
    "                                'isactivemember': 'is_active_member',\n",
    "                                'estimatedsalary': 'estimated_salary' })"
   ]
  },
  {
   "cell_type": "code",
   "execution_count": 8,
   "metadata": {},
   "outputs": [],
   "source": [
    "# Удалиляем строки с пропусками в столбце 'tenure':\n",
    "df = df[~df['tenure'].isna()]"
   ]
  },
  {
   "cell_type": "code",
   "execution_count": 9,
   "metadata": {},
   "outputs": [
    {
     "data": {
      "text/plain": [
       "row_number          0\n",
       "customer_id         0\n",
       "surname             0\n",
       "credit_score        0\n",
       "geography           0\n",
       "gender              0\n",
       "age                 0\n",
       "tenure              0\n",
       "balance             0\n",
       "num_of_products     0\n",
       "has_cr_card         0\n",
       "is_active_member    0\n",
       "estimated_salary    0\n",
       "exited              0\n",
       "dtype: int64"
      ]
     },
     "execution_count": 9,
     "metadata": {},
     "output_type": "execute_result"
    }
   ],
   "source": [
    "df.isna().sum()"
   ]
  },
  {
   "cell_type": "code",
   "execution_count": 10,
   "metadata": {
    "scrolled": true
   },
   "outputs": [
    {
     "name": "stdout",
     "output_type": "stream",
     "text": [
      "<class 'pandas.core.frame.DataFrame'>\n",
      "Int64Index: 9091 entries, 0 to 9998\n",
      "Data columns (total 14 columns):\n",
      " #   Column            Non-Null Count  Dtype  \n",
      "---  ------            --------------  -----  \n",
      " 0   row_number        9091 non-null   int64  \n",
      " 1   customer_id       9091 non-null   int64  \n",
      " 2   surname           9091 non-null   object \n",
      " 3   credit_score      9091 non-null   int64  \n",
      " 4   geography         9091 non-null   object \n",
      " 5   gender            9091 non-null   object \n",
      " 6   age               9091 non-null   int64  \n",
      " 7   tenure            9091 non-null   float64\n",
      " 8   balance           9091 non-null   float64\n",
      " 9   num_of_products   9091 non-null   int64  \n",
      " 10  has_cr_card       9091 non-null   int64  \n",
      " 11  is_active_member  9091 non-null   int64  \n",
      " 12  estimated_salary  9091 non-null   float64\n",
      " 13  exited            9091 non-null   int64  \n",
      "dtypes: float64(3), int64(8), object(3)\n",
      "memory usage: 1.0+ MB\n"
     ]
    }
   ],
   "source": [
    "df.info()"
   ]
  },
  {
   "cell_type": "code",
   "execution_count": 11,
   "metadata": {
    "scrolled": false
   },
   "outputs": [
    {
     "name": "stdout",
     "output_type": "stream",
     "text": [
      "<class 'pandas.core.frame.DataFrame'>\n",
      "Int64Index: 9091 entries, 0 to 9998\n",
      "Data columns (total 14 columns):\n",
      " #   Column            Non-Null Count  Dtype  \n",
      "---  ------            --------------  -----  \n",
      " 0   row_number        9091 non-null   int64  \n",
      " 1   customer_id       9091 non-null   int64  \n",
      " 2   surname           9091 non-null   object \n",
      " 3   credit_score      9091 non-null   int64  \n",
      " 4   geography         9091 non-null   object \n",
      " 5   gender            9091 non-null   object \n",
      " 6   age               9091 non-null   int64  \n",
      " 7   tenure            9091 non-null   float64\n",
      " 8   balance           9091 non-null   float64\n",
      " 9   num_of_products   9091 non-null   int64  \n",
      " 10  has_cr_card       9091 non-null   int64  \n",
      " 11  is_active_member  9091 non-null   int64  \n",
      " 12  estimated_salary  9091 non-null   float64\n",
      " 13  exited            9091 non-null   int64  \n",
      "dtypes: float64(3), int64(8), object(3)\n",
      "memory usage: 1.0+ MB\n"
     ]
    }
   ],
   "source": [
    "df.info()"
   ]
  },
  {
   "cell_type": "markdown",
   "metadata": {},
   "source": [
    "Мы переименовали столбцы датасета в соответствии со snake_case. \n",
    "\n",
    "Удалили строки с пропусками в столбце `tenure`."
   ]
  },
  {
   "cell_type": "markdown",
   "metadata": {},
   "source": [
    "### Подготовка  признаков"
   ]
  },
  {
   "cell_type": "code",
   "execution_count": 12,
   "metadata": {},
   "outputs": [],
   "source": [
    "# удаляем признаки с номерами строк, индентификаторами и фамилиями клиентов, \n",
    "# чтобы не допустить переобучения моделей \n",
    "df = df.drop(['row_number','customer_id','surname'], axis=1)"
   ]
  },
  {
   "cell_type": "code",
   "execution_count": 13,
   "metadata": {
    "scrolled": false
   },
   "outputs": [
    {
     "name": "stdout",
     "output_type": "stream",
     "text": [
      "<class 'pandas.core.frame.DataFrame'>\n",
      "Int64Index: 9091 entries, 0 to 9998\n",
      "Data columns (total 11 columns):\n",
      " #   Column            Non-Null Count  Dtype  \n",
      "---  ------            --------------  -----  \n",
      " 0   credit_score      9091 non-null   int64  \n",
      " 1   geography         9091 non-null   object \n",
      " 2   gender            9091 non-null   object \n",
      " 3   age               9091 non-null   int64  \n",
      " 4   tenure            9091 non-null   float64\n",
      " 5   balance           9091 non-null   float64\n",
      " 6   num_of_products   9091 non-null   int64  \n",
      " 7   has_cr_card       9091 non-null   int64  \n",
      " 8   is_active_member  9091 non-null   int64  \n",
      " 9   estimated_salary  9091 non-null   float64\n",
      " 10  exited            9091 non-null   int64  \n",
      "dtypes: float64(3), int64(6), object(2)\n",
      "memory usage: 852.3+ KB\n"
     ]
    }
   ],
   "source": [
    "df.info()"
   ]
  },
  {
   "cell_type": "markdown",
   "metadata": {},
   "source": [
    "#### Разделение данных на выборки"
   ]
  },
  {
   "cell_type": "code",
   "execution_count": 14,
   "metadata": {},
   "outputs": [],
   "source": [
    "df_target = df['exited'] # создаем переменную с признаками\n",
    "df_features = df.drop('exited', axis = 1) # и с целевым признаком"
   ]
  },
  {
   "cell_type": "code",
   "execution_count": 15,
   "metadata": {},
   "outputs": [],
   "source": [
    "# Выделем 20% данных для тестовой выборки\n",
    "features, features_test, target, target_test =\\\n",
    "train_test_split(df_features, df_target,\n",
    "                 test_size = 0.2,\n",
    "                 stratify = df_target,\n",
    "                 random_state = 12345)"
   ]
  },
  {
   "cell_type": "code",
   "execution_count": 16,
   "metadata": {},
   "outputs": [],
   "source": [
    "# Оставшиеся данные делим на тренировочную и валидационную выборки\n",
    "features_train, features_valid, target_train, target_valid =\\\n",
    "train_test_split(features, target,\n",
    "                 test_size = 0.25,\n",
    "                 stratify = target,\n",
    "                 random_state = 12345)"
   ]
  },
  {
   "cell_type": "code",
   "execution_count": 17,
   "metadata": {},
   "outputs": [
    {
     "data": {
      "text/plain": [
       "(5454, 10)"
      ]
     },
     "execution_count": 17,
     "metadata": {},
     "output_type": "execute_result"
    }
   ],
   "source": [
    "features_train.shape"
   ]
  },
  {
   "cell_type": "code",
   "execution_count": 18,
   "metadata": {
    "scrolled": true
   },
   "outputs": [
    {
     "data": {
      "text/plain": [
       "(1818, 10)"
      ]
     },
     "execution_count": 18,
     "metadata": {},
     "output_type": "execute_result"
    }
   ],
   "source": [
    "features_valid.shape"
   ]
  },
  {
   "cell_type": "code",
   "execution_count": 19,
   "metadata": {},
   "outputs": [
    {
     "data": {
      "text/plain": [
       "(1819, 10)"
      ]
     },
     "execution_count": 19,
     "metadata": {},
     "output_type": "execute_result"
    }
   ],
   "source": [
    "features_test.shape"
   ]
  },
  {
   "cell_type": "markdown",
   "metadata": {},
   "source": [
    "#### Кодирование категориальных признаков"
   ]
  },
  {
   "cell_type": "code",
   "execution_count": 20,
   "metadata": {},
   "outputs": [],
   "source": [
    "# Закодируем категориальные данные с помощью OneHotEncoder:\n",
    "cat_columns = ['geography','gender']\n",
    "transformer = make_column_transformer(\n",
    "              (OneHotEncoder(drop='first'), cat_columns),\n",
    "              remainder = 'passthrough')\n",
    "transformer.fit(features_train)\n",
    "\n",
    "features_train = pd.DataFrame(transformer.transform(features_train),\n",
    "                             columns = transformer.get_feature_names())\n",
    "features_valid = pd.DataFrame(transformer.transform(features_valid),\n",
    "                              columns = transformer.get_feature_names())\n",
    "features_test = pd.DataFrame(transformer.transform(features_test),\n",
    "                             columns = transformer.get_feature_names())"
   ]
  },
  {
   "cell_type": "code",
   "execution_count": 21,
   "metadata": {
    "scrolled": true
   },
   "outputs": [
    {
     "data": {
      "text/html": [
       "<div>\n",
       "<style scoped>\n",
       "    .dataframe tbody tr th:only-of-type {\n",
       "        vertical-align: middle;\n",
       "    }\n",
       "\n",
       "    .dataframe tbody tr th {\n",
       "        vertical-align: top;\n",
       "    }\n",
       "\n",
       "    .dataframe thead th {\n",
       "        text-align: right;\n",
       "    }\n",
       "</style>\n",
       "<table border=\"1\" class=\"dataframe\">\n",
       "  <thead>\n",
       "    <tr style=\"text-align: right;\">\n",
       "      <th></th>\n",
       "      <th>onehotencoder__x0_Germany</th>\n",
       "      <th>onehotencoder__x0_Spain</th>\n",
       "      <th>onehotencoder__x1_Male</th>\n",
       "      <th>credit_score</th>\n",
       "      <th>age</th>\n",
       "      <th>tenure</th>\n",
       "      <th>balance</th>\n",
       "      <th>num_of_products</th>\n",
       "      <th>has_cr_card</th>\n",
       "      <th>is_active_member</th>\n",
       "      <th>estimated_salary</th>\n",
       "    </tr>\n",
       "  </thead>\n",
       "  <tbody>\n",
       "    <tr>\n",
       "      <th>0</th>\n",
       "      <td>0.0</td>\n",
       "      <td>0.0</td>\n",
       "      <td>0.0</td>\n",
       "      <td>678.0</td>\n",
       "      <td>28.0</td>\n",
       "      <td>4.0</td>\n",
       "      <td>0.00</td>\n",
       "      <td>2.0</td>\n",
       "      <td>1.0</td>\n",
       "      <td>1.0</td>\n",
       "      <td>144423.17</td>\n",
       "    </tr>\n",
       "    <tr>\n",
       "      <th>1</th>\n",
       "      <td>0.0</td>\n",
       "      <td>0.0</td>\n",
       "      <td>1.0</td>\n",
       "      <td>735.0</td>\n",
       "      <td>41.0</td>\n",
       "      <td>7.0</td>\n",
       "      <td>179904.00</td>\n",
       "      <td>1.0</td>\n",
       "      <td>1.0</td>\n",
       "      <td>1.0</td>\n",
       "      <td>137180.95</td>\n",
       "    </tr>\n",
       "    <tr>\n",
       "      <th>2</th>\n",
       "      <td>0.0</td>\n",
       "      <td>0.0</td>\n",
       "      <td>0.0</td>\n",
       "      <td>639.0</td>\n",
       "      <td>31.0</td>\n",
       "      <td>3.0</td>\n",
       "      <td>98360.03</td>\n",
       "      <td>1.0</td>\n",
       "      <td>0.0</td>\n",
       "      <td>0.0</td>\n",
       "      <td>20973.80</td>\n",
       "    </tr>\n",
       "    <tr>\n",
       "      <th>3</th>\n",
       "      <td>0.0</td>\n",
       "      <td>0.0</td>\n",
       "      <td>1.0</td>\n",
       "      <td>521.0</td>\n",
       "      <td>38.0</td>\n",
       "      <td>5.0</td>\n",
       "      <td>110641.18</td>\n",
       "      <td>1.0</td>\n",
       "      <td>0.0</td>\n",
       "      <td>1.0</td>\n",
       "      <td>136507.69</td>\n",
       "    </tr>\n",
       "    <tr>\n",
       "      <th>4</th>\n",
       "      <td>0.0</td>\n",
       "      <td>0.0</td>\n",
       "      <td>1.0</td>\n",
       "      <td>735.0</td>\n",
       "      <td>50.0</td>\n",
       "      <td>2.0</td>\n",
       "      <td>0.00</td>\n",
       "      <td>2.0</td>\n",
       "      <td>0.0</td>\n",
       "      <td>1.0</td>\n",
       "      <td>147075.69</td>\n",
       "    </tr>\n",
       "  </tbody>\n",
       "</table>\n",
       "</div>"
      ],
      "text/plain": [
       "   onehotencoder__x0_Germany  onehotencoder__x0_Spain  onehotencoder__x1_Male  \\\n",
       "0                        0.0                      0.0                     0.0   \n",
       "1                        0.0                      0.0                     1.0   \n",
       "2                        0.0                      0.0                     0.0   \n",
       "3                        0.0                      0.0                     1.0   \n",
       "4                        0.0                      0.0                     1.0   \n",
       "\n",
       "   credit_score   age  tenure    balance  num_of_products  has_cr_card  \\\n",
       "0         678.0  28.0     4.0       0.00              2.0          1.0   \n",
       "1         735.0  41.0     7.0  179904.00              1.0          1.0   \n",
       "2         639.0  31.0     3.0   98360.03              1.0          0.0   \n",
       "3         521.0  38.0     5.0  110641.18              1.0          0.0   \n",
       "4         735.0  50.0     2.0       0.00              2.0          0.0   \n",
       "\n",
       "   is_active_member  estimated_salary  \n",
       "0               1.0         144423.17  \n",
       "1               1.0         137180.95  \n",
       "2               0.0          20973.80  \n",
       "3               1.0         136507.69  \n",
       "4               1.0         147075.69  "
      ]
     },
     "execution_count": 21,
     "metadata": {},
     "output_type": "execute_result"
    }
   ],
   "source": [
    "features_train.head()"
   ]
  },
  {
   "cell_type": "code",
   "execution_count": 22,
   "metadata": {},
   "outputs": [
    {
     "data": {
      "text/html": [
       "<div>\n",
       "<style scoped>\n",
       "    .dataframe tbody tr th:only-of-type {\n",
       "        vertical-align: middle;\n",
       "    }\n",
       "\n",
       "    .dataframe tbody tr th {\n",
       "        vertical-align: top;\n",
       "    }\n",
       "\n",
       "    .dataframe thead th {\n",
       "        text-align: right;\n",
       "    }\n",
       "</style>\n",
       "<table border=\"1\" class=\"dataframe\">\n",
       "  <thead>\n",
       "    <tr style=\"text-align: right;\">\n",
       "      <th></th>\n",
       "      <th>onehotencoder__x0_Germany</th>\n",
       "      <th>onehotencoder__x0_Spain</th>\n",
       "      <th>onehotencoder__x1_Male</th>\n",
       "      <th>credit_score</th>\n",
       "      <th>age</th>\n",
       "      <th>tenure</th>\n",
       "      <th>balance</th>\n",
       "      <th>num_of_products</th>\n",
       "      <th>has_cr_card</th>\n",
       "      <th>is_active_member</th>\n",
       "      <th>estimated_salary</th>\n",
       "    </tr>\n",
       "  </thead>\n",
       "  <tbody>\n",
       "    <tr>\n",
       "      <th>0</th>\n",
       "      <td>1.0</td>\n",
       "      <td>0.0</td>\n",
       "      <td>0.0</td>\n",
       "      <td>619.0</td>\n",
       "      <td>41.0</td>\n",
       "      <td>5.0</td>\n",
       "      <td>92467.58</td>\n",
       "      <td>1.0</td>\n",
       "      <td>1.0</td>\n",
       "      <td>0.0</td>\n",
       "      <td>38270.47</td>\n",
       "    </tr>\n",
       "    <tr>\n",
       "      <th>1</th>\n",
       "      <td>0.0</td>\n",
       "      <td>0.0</td>\n",
       "      <td>1.0</td>\n",
       "      <td>668.0</td>\n",
       "      <td>72.0</td>\n",
       "      <td>2.0</td>\n",
       "      <td>0.00</td>\n",
       "      <td>2.0</td>\n",
       "      <td>1.0</td>\n",
       "      <td>1.0</td>\n",
       "      <td>70783.61</td>\n",
       "    </tr>\n",
       "    <tr>\n",
       "      <th>2</th>\n",
       "      <td>0.0</td>\n",
       "      <td>0.0</td>\n",
       "      <td>1.0</td>\n",
       "      <td>532.0</td>\n",
       "      <td>60.0</td>\n",
       "      <td>5.0</td>\n",
       "      <td>76705.87</td>\n",
       "      <td>2.0</td>\n",
       "      <td>0.0</td>\n",
       "      <td>1.0</td>\n",
       "      <td>13889.73</td>\n",
       "    </tr>\n",
       "    <tr>\n",
       "      <th>3</th>\n",
       "      <td>0.0</td>\n",
       "      <td>0.0</td>\n",
       "      <td>1.0</td>\n",
       "      <td>625.0</td>\n",
       "      <td>43.0</td>\n",
       "      <td>8.0</td>\n",
       "      <td>201696.07</td>\n",
       "      <td>1.0</td>\n",
       "      <td>1.0</td>\n",
       "      <td>0.0</td>\n",
       "      <td>133020.90</td>\n",
       "    </tr>\n",
       "    <tr>\n",
       "      <th>4</th>\n",
       "      <td>0.0</td>\n",
       "      <td>0.0</td>\n",
       "      <td>0.0</td>\n",
       "      <td>516.0</td>\n",
       "      <td>47.0</td>\n",
       "      <td>6.0</td>\n",
       "      <td>109387.33</td>\n",
       "      <td>1.0</td>\n",
       "      <td>0.0</td>\n",
       "      <td>0.0</td>\n",
       "      <td>121365.45</td>\n",
       "    </tr>\n",
       "  </tbody>\n",
       "</table>\n",
       "</div>"
      ],
      "text/plain": [
       "   onehotencoder__x0_Germany  onehotencoder__x0_Spain  onehotencoder__x1_Male  \\\n",
       "0                        1.0                      0.0                     0.0   \n",
       "1                        0.0                      0.0                     1.0   \n",
       "2                        0.0                      0.0                     1.0   \n",
       "3                        0.0                      0.0                     1.0   \n",
       "4                        0.0                      0.0                     0.0   \n",
       "\n",
       "   credit_score   age  tenure    balance  num_of_products  has_cr_card  \\\n",
       "0         619.0  41.0     5.0   92467.58              1.0          1.0   \n",
       "1         668.0  72.0     2.0       0.00              2.0          1.0   \n",
       "2         532.0  60.0     5.0   76705.87              2.0          0.0   \n",
       "3         625.0  43.0     8.0  201696.07              1.0          1.0   \n",
       "4         516.0  47.0     6.0  109387.33              1.0          0.0   \n",
       "\n",
       "   is_active_member  estimated_salary  \n",
       "0               0.0          38270.47  \n",
       "1               1.0          70783.61  \n",
       "2               1.0          13889.73  \n",
       "3               0.0         133020.90  \n",
       "4               0.0         121365.45  "
      ]
     },
     "execution_count": 22,
     "metadata": {},
     "output_type": "execute_result"
    }
   ],
   "source": [
    "features_valid.head()"
   ]
  },
  {
   "cell_type": "code",
   "execution_count": 23,
   "metadata": {},
   "outputs": [
    {
     "data": {
      "text/html": [
       "<div>\n",
       "<style scoped>\n",
       "    .dataframe tbody tr th:only-of-type {\n",
       "        vertical-align: middle;\n",
       "    }\n",
       "\n",
       "    .dataframe tbody tr th {\n",
       "        vertical-align: top;\n",
       "    }\n",
       "\n",
       "    .dataframe thead th {\n",
       "        text-align: right;\n",
       "    }\n",
       "</style>\n",
       "<table border=\"1\" class=\"dataframe\">\n",
       "  <thead>\n",
       "    <tr style=\"text-align: right;\">\n",
       "      <th></th>\n",
       "      <th>onehotencoder__x0_Germany</th>\n",
       "      <th>onehotencoder__x0_Spain</th>\n",
       "      <th>onehotencoder__x1_Male</th>\n",
       "      <th>credit_score</th>\n",
       "      <th>age</th>\n",
       "      <th>tenure</th>\n",
       "      <th>balance</th>\n",
       "      <th>num_of_products</th>\n",
       "      <th>has_cr_card</th>\n",
       "      <th>is_active_member</th>\n",
       "      <th>estimated_salary</th>\n",
       "    </tr>\n",
       "  </thead>\n",
       "  <tbody>\n",
       "    <tr>\n",
       "      <th>0</th>\n",
       "      <td>1.0</td>\n",
       "      <td>0.0</td>\n",
       "      <td>1.0</td>\n",
       "      <td>480.0</td>\n",
       "      <td>44.0</td>\n",
       "      <td>10.0</td>\n",
       "      <td>129608.57</td>\n",
       "      <td>1.0</td>\n",
       "      <td>1.0</td>\n",
       "      <td>0.0</td>\n",
       "      <td>5472.70</td>\n",
       "    </tr>\n",
       "    <tr>\n",
       "      <th>1</th>\n",
       "      <td>0.0</td>\n",
       "      <td>0.0</td>\n",
       "      <td>1.0</td>\n",
       "      <td>762.0</td>\n",
       "      <td>31.0</td>\n",
       "      <td>7.0</td>\n",
       "      <td>117687.35</td>\n",
       "      <td>1.0</td>\n",
       "      <td>1.0</td>\n",
       "      <td>1.0</td>\n",
       "      <td>159344.43</td>\n",
       "    </tr>\n",
       "    <tr>\n",
       "      <th>2</th>\n",
       "      <td>1.0</td>\n",
       "      <td>0.0</td>\n",
       "      <td>0.0</td>\n",
       "      <td>466.0</td>\n",
       "      <td>56.0</td>\n",
       "      <td>2.0</td>\n",
       "      <td>111920.13</td>\n",
       "      <td>3.0</td>\n",
       "      <td>1.0</td>\n",
       "      <td>0.0</td>\n",
       "      <td>197634.11</td>\n",
       "    </tr>\n",
       "    <tr>\n",
       "      <th>3</th>\n",
       "      <td>0.0</td>\n",
       "      <td>0.0</td>\n",
       "      <td>1.0</td>\n",
       "      <td>559.0</td>\n",
       "      <td>28.0</td>\n",
       "      <td>3.0</td>\n",
       "      <td>141099.43</td>\n",
       "      <td>1.0</td>\n",
       "      <td>1.0</td>\n",
       "      <td>1.0</td>\n",
       "      <td>15607.27</td>\n",
       "    </tr>\n",
       "    <tr>\n",
       "      <th>4</th>\n",
       "      <td>1.0</td>\n",
       "      <td>0.0</td>\n",
       "      <td>1.0</td>\n",
       "      <td>728.0</td>\n",
       "      <td>39.0</td>\n",
       "      <td>6.0</td>\n",
       "      <td>152182.83</td>\n",
       "      <td>1.0</td>\n",
       "      <td>0.0</td>\n",
       "      <td>0.0</td>\n",
       "      <td>161203.60</td>\n",
       "    </tr>\n",
       "  </tbody>\n",
       "</table>\n",
       "</div>"
      ],
      "text/plain": [
       "   onehotencoder__x0_Germany  onehotencoder__x0_Spain  onehotencoder__x1_Male  \\\n",
       "0                        1.0                      0.0                     1.0   \n",
       "1                        0.0                      0.0                     1.0   \n",
       "2                        1.0                      0.0                     0.0   \n",
       "3                        0.0                      0.0                     1.0   \n",
       "4                        1.0                      0.0                     1.0   \n",
       "\n",
       "   credit_score   age  tenure    balance  num_of_products  has_cr_card  \\\n",
       "0         480.0  44.0    10.0  129608.57              1.0          1.0   \n",
       "1         762.0  31.0     7.0  117687.35              1.0          1.0   \n",
       "2         466.0  56.0     2.0  111920.13              3.0          1.0   \n",
       "3         559.0  28.0     3.0  141099.43              1.0          1.0   \n",
       "4         728.0  39.0     6.0  152182.83              1.0          0.0   \n",
       "\n",
       "   is_active_member  estimated_salary  \n",
       "0               0.0           5472.70  \n",
       "1               1.0         159344.43  \n",
       "2               0.0         197634.11  \n",
       "3               1.0          15607.27  \n",
       "4               0.0         161203.60  "
      ]
     },
     "execution_count": 23,
     "metadata": {},
     "output_type": "execute_result"
    }
   ],
   "source": [
    "features_test.head()"
   ]
  },
  {
   "cell_type": "markdown",
   "metadata": {},
   "source": [
    "#### Масштабирование численных признаков"
   ]
  },
  {
   "cell_type": "code",
   "execution_count": 24,
   "metadata": {
    "scrolled": false
   },
   "outputs": [],
   "source": [
    "# масштабируем численные признаки с помощью StandardScaler\n",
    "numeric = ['credit_score', 'age', 'tenure', 'balance', 'estimated_salary']\n",
    "\n",
    "scaler = StandardScaler()\n",
    "scaler.fit(features_train[numeric])\n",
    "features_train[numeric] = scaler.transform(features_train[numeric])\n",
    "features_valid[numeric] = scaler.transform(features_valid[numeric])\n",
    "features_test[numeric] = scaler.transform(features_test[numeric])\n",
    "\n",
    "# стандартизируем выборку не разделенную на обучающую и валидационную \n",
    "# для использования в кросс-валидации\n",
    "features[numeric] = scaler.fit_transform(features[numeric])\n",
    "\n",
    "pd.options.mode.chained_assignment = None"
   ]
  },
  {
   "cell_type": "markdown",
   "metadata": {},
   "source": [
    "Мы удалили столбцы с признаками, которые не влияют на целевой: `row_number`,`customer_id`,`surname`.\n",
    "\n",
    "Разделили данные на обучающую, валидационную и тестовую выборки в соотношении 60:20:20.\n",
    "\n",
    "Закодировали категориальные признаки с помощью `One-Hot Encoder`.\n",
    "\n",
    "Стандартизировали численные признаки с помощью `StandardScaler`."
   ]
  },
  {
   "cell_type": "markdown",
   "metadata": {},
   "source": [
    "## Исследование задачи"
   ]
  },
  {
   "cell_type": "markdown",
   "metadata": {},
   "source": [
    "Обучим модели без учёта дисбаланса классов."
   ]
  },
  {
   "cell_type": "markdown",
   "metadata": {},
   "source": [
    "### Модель решающего дерева"
   ]
  },
  {
   "cell_type": "code",
   "execution_count": 25,
   "metadata": {},
   "outputs": [
    {
     "name": "stdout",
     "output_type": "stream",
     "text": [
      "CPU times: user 2 µs, sys: 1 µs, total: 3 µs\n",
      "Wall time: 5.01 µs\n"
     ]
    }
   ],
   "source": [
    "# Инициализируем модель решающего дерева, обучаем её на тренировочной выборке, \n",
    "# перебирая разные значения гиперпараметров: максимальной глубины, \n",
    "# минимального количество примеров для разделения, критериев \n",
    "# проверяем качество на валидационной выборке, выбираем лучшую модель по метрике F1-мера\n",
    "%time\n",
    "\n",
    "tree_records = []\n",
    "best_tree_model = None\n",
    "best_tree_result = 0\n",
    "best_tree_depth = 0\n",
    "best_tree_split = 0\n",
    "best_tree_criterion = None\n",
    "\n",
    "for depth in range(1, 10):\n",
    "    for split in range(2, 10):\n",
    "        for criterion in ['gini', 'entropy']:\n",
    "            tree_model = DecisionTreeClassifier(random_state = 12345,\n",
    "                                                max_depth = depth,\n",
    "                                                min_samples_split = split,\n",
    "                                                criterion = criterion)\n",
    "            tree_model.fit(features_train, target_train)\n",
    "            tree_predictions = tree_model.predict(features_valid)\n",
    "            tree_result = f1_score(target_valid, tree_predictions)\n",
    "            record = {'max_depth':depth,\n",
    "                  'min_samples_split': split,\n",
    "                  'criterion': criterion,\n",
    "                  'f1_score': tree_result}\n",
    "            tree_records.append(record)\n",
    "            \n",
    "            if tree_result > best_tree_result:\n",
    "                best_tree_model = tree_model\n",
    "                best_tree_result = tree_result\n",
    "                best_tree_depth = depth\n",
    "                best_tree_split = split\n",
    "                best_tree_criterion = criterion\n",
    "models =[]                \n",
    "models.append({'tree_model': best_tree_result})                "
   ]
  },
  {
   "cell_type": "code",
   "execution_count": 26,
   "metadata": {
    "scrolled": false
   },
   "outputs": [
    {
     "data": {
      "text/plain": [
       "7"
      ]
     },
     "execution_count": 26,
     "metadata": {},
     "output_type": "execute_result"
    }
   ],
   "source": [
    "# Максимальная глубина дерева в лучшей модели\n",
    "best_tree_depth"
   ]
  },
  {
   "cell_type": "code",
   "execution_count": 27,
   "metadata": {
    "scrolled": true
   },
   "outputs": [
    {
     "data": {
      "text/plain": [
       "2"
      ]
     },
     "execution_count": 27,
     "metadata": {},
     "output_type": "execute_result"
    }
   ],
   "source": [
    "# Минимальное количество примеров для разделения в лучшей модели\n",
    "best_tree_split"
   ]
  },
  {
   "cell_type": "code",
   "execution_count": 28,
   "metadata": {
    "scrolled": true
   },
   "outputs": [
    {
     "data": {
      "text/plain": [
       "'gini'"
      ]
     },
     "execution_count": 28,
     "metadata": {},
     "output_type": "execute_result"
    }
   ],
   "source": [
    "# Критерий лучшей модели\n",
    "best_tree_criterion"
   ]
  },
  {
   "cell_type": "code",
   "execution_count": 29,
   "metadata": {
    "scrolled": true
   },
   "outputs": [
    {
     "data": {
      "text/plain": [
       "0.5605306799336649"
      ]
     },
     "execution_count": 29,
     "metadata": {},
     "output_type": "execute_result"
    }
   ],
   "source": [
    "# Посмотрим на результат лучшей модели\n",
    "best_tree_result"
   ]
  },
  {
   "cell_type": "code",
   "execution_count": 30,
   "metadata": {
    "scrolled": true
   },
   "outputs": [
    {
     "data": {
      "image/png": "[encoded data removed]",
      "text/plain": [
       "<Figure size 720x360 with 1 Axes>"
      ]
     },
     "metadata": {
      "needs_background": "light"
     },
     "output_type": "display_data"
    }
   ],
   "source": [
    "# Построим график зависимости F1-меры от глубины дерева и количества примеров для разделения\n",
    "tree_table = pd.DataFrame(tree_records)\n",
    "ax = tree_table.plot(x = 'max_depth',\n",
    "                     y = 'f1_score',\n",
    "                     xlim = (1, 11),\n",
    "                     style = 'o-',\n",
    "                     grid = True,\n",
    "                     figsize = (10,5),\n",
    "                     label = 'f1_score_depth',\n",
    "                     title = 'Изменение F1-меры в зависимости от глубины дерева и разделений');\n",
    "\n",
    "tree_table.plot(x = 'min_samples_split',\n",
    "                y = 'f1_score',\n",
    "                style = 'o',\n",
    "                alpha = 0.4,\n",
    "                grid = True,\n",
    "                label = 'f1_score_split',\n",
    "                ax = ax);"
   ]
  },
  {
   "cell_type": "code",
   "execution_count": 31,
   "metadata": {},
   "outputs": [],
   "source": [
    "# Измерим значение метрики `AUC_ROC`\n",
    "tree_prob = best_tree_model.predict_proba(features_valid)\n",
    "tree_prob_one = tree_prob[:,1]\n",
    "tree_auc_roc = roc_auc_score(target_valid, tree_prob_one)"
   ]
  },
  {
   "cell_type": "code",
   "execution_count": 32,
   "metadata": {},
   "outputs": [
    {
     "data": {
      "text/plain": [
       "0.8298179894455859"
      ]
     },
     "execution_count": 32,
     "metadata": {},
     "output_type": "execute_result"
    }
   ],
   "source": [
    "tree_auc_roc"
   ]
  },
  {
   "cell_type": "markdown",
   "metadata": {},
   "source": [
    "Таким образом, мы получили модель решающего дерева со значениям `max_depth` **7** и значениями `min_samples_split` и `criterion` равными значениям по умолчанию. \n",
    "\n",
    "А значение метрики `F1-мера` составляет **0.56**, что ниже установленного критерия успешной модели в 0.59. \n",
    "\n",
    "Значение метрики `AUC_ROC` - **0.829**"
   ]
  },
  {
   "cell_type": "markdown",
   "metadata": {},
   "source": [
    "### Модель случайного леса"
   ]
  },
  {
   "cell_type": "code",
   "execution_count": 33,
   "metadata": {},
   "outputs": [
    {
     "name": "stdout",
     "output_type": "stream",
     "text": [
      "CPU times: user 2 µs, sys: 0 ns, total: 2 µs\n",
      "Wall time: 5.01 µs\n"
     ]
    }
   ],
   "source": [
    "# Инициализируем модель случайного леса.  \n",
    "# Переберём гиперпараметры максимальной глубины, \n",
    "# минимального количества разделений и количества деревьев\n",
    "# обучая модель на тренировочной выборке, \n",
    "# Проверим качество на валидационной выборке, выбирем лучшую модель \n",
    "%time\n",
    "\n",
    "forest_records = []\n",
    "best_for_model = None\n",
    "best_for_result = 0\n",
    "best_for_depth = 0\n",
    "best_for_split = 0\n",
    "best_est = 0 \n",
    "\n",
    "for depth in range(1, 15):\n",
    "    for split in range(2, 15):\n",
    "        for est in range(30, 300, 10):\n",
    "            for_model = RandomForestClassifier(random_state = 12345,\n",
    "                                               max_depth = depth,\n",
    "                                               min_samples_split = split,\n",
    "                                               n_estimators = est)\n",
    "            for_model.fit(features_train, target_train)\n",
    "            for_predictions = for_model.predict(features_valid)\n",
    "            for_result = f1_score(target_valid, for_predictions)\n",
    "            record = {'max_depth': depth,\n",
    "                      'min_samples_split': split,\n",
    "                      'n_estimators': est,\n",
    "                      'f1_score': for_result}\n",
    "            forest_records.append(record)\n",
    "            \n",
    "            if for_result > best_for_result:\n",
    "                best_for_model = for_model\n",
    "                best_for_result = for_result\n",
    "                best_for_depth = depth\n",
    "                best_for_split = split\n",
    "                best_est = est \n",
    "            \n",
    "models.append({'forest_model': best_for_result})"
   ]
  },
  {
   "cell_type": "code",
   "execution_count": 34,
   "metadata": {},
   "outputs": [
    {
     "data": {
      "text/plain": [
       "12"
      ]
     },
     "execution_count": 34,
     "metadata": {},
     "output_type": "execute_result"
    }
   ],
   "source": [
    "best_for_depth"
   ]
  },
  {
   "cell_type": "code",
   "execution_count": 35,
   "metadata": {
    "scrolled": false
   },
   "outputs": [
    {
     "data": {
      "text/plain": [
       "3"
      ]
     },
     "execution_count": 35,
     "metadata": {},
     "output_type": "execute_result"
    }
   ],
   "source": [
    "best_for_split"
   ]
  },
  {
   "cell_type": "code",
   "execution_count": 36,
   "metadata": {},
   "outputs": [
    {
     "data": {
      "text/plain": [
       "40"
      ]
     },
     "execution_count": 36,
     "metadata": {},
     "output_type": "execute_result"
    }
   ],
   "source": [
    "best_est"
   ]
  },
  {
   "cell_type": "code",
   "execution_count": 37,
   "metadata": {},
   "outputs": [
    {
     "data": {
      "text/plain": [
       "0.5932203389830509"
      ]
     },
     "execution_count": 37,
     "metadata": {},
     "output_type": "execute_result"
    }
   ],
   "source": [
    "best_for_result"
   ]
  },
  {
   "cell_type": "code",
   "execution_count": 38,
   "metadata": {
    "scrolled": true
   },
   "outputs": [
    {
     "data": {
      "image/png": "[encoded data removed]",
      "text/plain": [
       "<Figure size 720x504 with 1 Axes>"
      ]
     },
     "metadata": {
      "needs_background": "light"
     },
     "output_type": "display_data"
    }
   ],
   "source": [
    "# Построим график зависимости F1-меры от глубины и разделений:\n",
    "forest_table = pd.DataFrame(forest_records)\n",
    "ax = forest_table.plot(x = 'max_depth',\n",
    "                       y = 'f1_score',\n",
    "                       style = 'o-',\n",
    "                       xlim = (1, 15),\n",
    "                       grid = True,\n",
    "                       figsize = (10,7),\n",
    "                       label = 'f1_score_max_depth',\n",
    "                       title = 'Изменение F1-меры в зависимости от глубины количества разделений и деревьев');\n",
    "\n",
    "forest_table.plot(x = 'min_samples_split',\n",
    "                  y = 'f1_score',\n",
    "                  xlim = (1, 15),\n",
    "                  style = 'o',\n",
    "                  alpha = 0.1,\n",
    "                  grid = True,\n",
    "                  label ='f1_score_split',\n",
    "                  ax = ax);"
   ]
  },
  {
   "cell_type": "code",
   "execution_count": 39,
   "metadata": {},
   "outputs": [],
   "source": [
    "# Измерим значение метрики `AUC_ROC`\n",
    "for_prob = best_for_model.predict_proba(features_valid)\n",
    "for_prob_one = for_prob[:,1]\n",
    "for_auc_roc = roc_auc_score(target_valid, for_prob_one)"
   ]
  },
  {
   "cell_type": "code",
   "execution_count": 40,
   "metadata": {},
   "outputs": [
    {
     "data": {
      "text/plain": [
       "0.8543952819943483"
      ]
     },
     "execution_count": 40,
     "metadata": {},
     "output_type": "execute_result"
    }
   ],
   "source": [
    "for_auc_roc"
   ]
  },
  {
   "cell_type": "markdown",
   "metadata": {},
   "source": [
    "Модель случайного леса со значением `max_depth` - **12**, `min_samples_split` - **8** и количеством деревьев **30** показала `F1-меру`  **0.59** , что уже соответствует установленному критерию. \n",
    "\n",
    "Значение `AUC_ROC` составило **0.855**."
   ]
  },
  {
   "cell_type": "markdown",
   "metadata": {},
   "source": [
    "### Модель логистической регрессии"
   ]
  },
  {
   "cell_type": "code",
   "execution_count": 41,
   "metadata": {},
   "outputs": [
    {
     "name": "stdout",
     "output_type": "stream",
     "text": [
      "CPU times: user 3 µs, sys: 0 ns, total: 3 µs\n",
      "Wall time: 7.15 µs\n"
     ]
    }
   ],
   "source": [
    "# Инициализируем модель логистической регрессии, \n",
    "# настроим гиперпараметры 'max_iter' и 'C',\n",
    "# обучим модель обучающей выборке\n",
    "%time\n",
    "\n",
    "best_log_model = None\n",
    "best_log_result = 0\n",
    "best_it = 0\n",
    "best_c = 0\n",
    "\n",
    "for it in range(100, 500, 10):\n",
    "    for c in np.arange(1.0, 5.0):\n",
    "        log_model = LogisticRegression(random_state = 12345,\n",
    "                                       solver='liblinear',\n",
    "                                       max_iter = it,\n",
    "                                       C = c)\n",
    "        log_model.fit(features_train, target_train)\n",
    "        log_predictions = log_model.predict(features_valid)\n",
    "        log_result = f1_score(target_valid, log_predictions)\n",
    "        \n",
    "        if log_result > best_log_result:\n",
    "            best_log_model = log_model\n",
    "            best_log_result = log_result\n",
    "            best_it = it\n",
    "            best_c = c\n",
    "                           \n",
    "models.append({'log_model': best_log_result})              "
   ]
  },
  {
   "cell_type": "code",
   "execution_count": 42,
   "metadata": {
    "scrolled": true
   },
   "outputs": [
    {
     "data": {
      "text/plain": [
       "100"
      ]
     },
     "execution_count": 42,
     "metadata": {},
     "output_type": "execute_result"
    }
   ],
   "source": [
    "best_it"
   ]
  },
  {
   "cell_type": "code",
   "execution_count": 43,
   "metadata": {},
   "outputs": [
    {
     "data": {
      "text/plain": [
       "1.0"
      ]
     },
     "execution_count": 43,
     "metadata": {},
     "output_type": "execute_result"
    }
   ],
   "source": [
    "best_c"
   ]
  },
  {
   "cell_type": "code",
   "execution_count": 44,
   "metadata": {},
   "outputs": [
    {
     "data": {
      "text/plain": [
       "0.2828282828282828"
      ]
     },
     "execution_count": 44,
     "metadata": {},
     "output_type": "execute_result"
    }
   ],
   "source": [
    "best_log_result"
   ]
  },
  {
   "cell_type": "code",
   "execution_count": 45,
   "metadata": {},
   "outputs": [],
   "source": [
    "# Измерим значение метрики `AUC_ROC`\n",
    "log_prob = best_log_model.predict_proba(features_valid)\n",
    "log_prob_one = log_prob[:,1]\n",
    "log_auc_roc = roc_auc_score(target_valid, log_prob_one)"
   ]
  },
  {
   "cell_type": "code",
   "execution_count": 46,
   "metadata": {},
   "outputs": [
    {
     "data": {
      "text/plain": [
       "0.7578240695034061"
      ]
     },
     "execution_count": 46,
     "metadata": {},
     "output_type": "execute_result"
    }
   ],
   "source": [
    "log_auc_roc"
   ]
  },
  {
   "cell_type": "markdown",
   "metadata": {},
   "source": [
    "Логистическая регрессия показала худший результат по `F1-мере` всего **0.28**, `AUC_ROC`  - **0.758**."
   ]
  },
  {
   "cell_type": "code",
   "execution_count": 47,
   "metadata": {
    "scrolled": true
   },
   "outputs": [
    {
     "data": {
      "image/png": "[encoded data removed]",
      "text/plain": [
       "<Figure size 720x432 with 1 Axes>"
      ]
     },
     "metadata": {
      "needs_background": "light"
     },
     "output_type": "display_data"
    }
   ],
   "source": [
    "# Построим график ROC-кривых трех моделей\n",
    "plt.figure(figsize=(10, 6)) \n",
    "plt.title('ROC-кривые')\n",
    "plt.plot([0, 1], [0, 1], linestyle='--')\n",
    "plt.xlim([0.0, 1.0])\n",
    "plt.ylim([0.0, 1.0])\n",
    "plt.xlabel('False Positive Rate')\n",
    "plt.ylabel('True Positive Rate')\n",
    "\n",
    "probabilities = [tree_prob_one, for_prob_one, log_prob_one]\n",
    "labels = ['tree_model', 'for_model', 'log_reg_model']\n",
    "for i in range(len(probabilities)):\n",
    "    fpr, tpr, thresholds = roc_curve(target_valid, probabilities[i])\n",
    "    plt.plot(fpr, tpr, label = labels[i])\n",
    "    plt.legend()\n",
    "\n",
    "plt.show()"
   ]
  },
  {
   "cell_type": "code",
   "execution_count": 48,
   "metadata": {
    "scrolled": true
   },
   "outputs": [
    {
     "data": {
      "image/png": "[encoded data removed]",
      "text/plain": [
       "<Figure size 720x360 with 1 Axes>"
      ]
     },
     "metadata": {
      "needs_background": "light"
     },
     "output_type": "display_data"
    }
   ],
   "source": [
    "# Построим график значений F1-меры у трех моделей\n",
    "pd.DataFrame(models).plot(kind = 'bar',\n",
    "                          grid = True,\n",
    "                          figsize = (10,5),\n",
    "                          title='F1-мера');"
   ]
  },
  {
   "cell_type": "markdown",
   "metadata": {},
   "source": [
    "**Вывод**\n",
    "\n",
    "Лучший результат по значению метрики `F1-мера` на валидационной выборке - **0.59** - показала модель случайный лес. Он уже соотвествует установленному критерию успешной модели. Но на тестовой выборке может снизиться. Возможно его можно повысить, если устранить дисбаланс классов."
   ]
  },
  {
   "cell_type": "markdown",
   "metadata": {},
   "source": [
    "## Борьба с дисбалансом"
   ]
  },
  {
   "cell_type": "markdown",
   "metadata": {},
   "source": [
    "### Исследование баланса классов"
   ]
  },
  {
   "cell_type": "code",
   "execution_count": 49,
   "metadata": {
    "scrolled": false
   },
   "outputs": [
    {
     "data": {
      "text/plain": [
       "0    0.796113\n",
       "1    0.203887\n",
       "Name: exited, dtype: float64"
      ]
     },
     "execution_count": 49,
     "metadata": {},
     "output_type": "execute_result"
    }
   ],
   "source": [
    "# Посмотрим на соотношение классов в целевом признаке \n",
    "target_train.value_counts(normalize = True)"
   ]
  },
  {
   "cell_type": "markdown",
   "metadata": {},
   "source": [
    "Отрицательных объектов почти в четыре раза больше, чем положительных."
   ]
  },
  {
   "cell_type": "markdown",
   "metadata": {},
   "source": [
    "### Взвешивание классов"
   ]
  },
  {
   "cell_type": "markdown",
   "metadata": {},
   "source": [
    "Добавим аргумент `class_weight = 'balanced'` в три получившиеся модели с лучшими гиперпараметрами."
   ]
  },
  {
   "cell_type": "markdown",
   "metadata": {},
   "source": [
    "#### Модель решающего дерева"
   ]
  },
  {
   "cell_type": "code",
   "execution_count": 50,
   "metadata": {},
   "outputs": [
    {
     "name": "stdout",
     "output_type": "stream",
     "text": [
      "CPU times: user 3 µs, sys: 0 ns, total: 3 µs\n",
      "Wall time: 5.72 µs\n"
     ]
    }
   ],
   "source": [
    "# Добавим в модель решающего дерева параметр class_weight = 'balanced' \n",
    "# и снова переберём гиперпараметры\n",
    "%time\n",
    "\n",
    "best_tree_model_balanced = None\n",
    "best_tree_result_balanced = 0\n",
    "best_tree_depth_balanced = 0\n",
    "best_tree_split_balanced = 0\n",
    "best_tree_criterion_balanced = None\n",
    "\n",
    "for depth in range(1, 10):\n",
    "    for split in range(2, 10):\n",
    "        for criterion in ['gini', 'entropy']:\n",
    "            tree_model_balanced = DecisionTreeClassifier(random_state = 12345,\n",
    "                                            max_depth = depth,\n",
    "                                            min_samples_split = split,\n",
    "                                            criterion = criterion,\n",
    "                                            class_weight = 'balanced')\n",
    "            tree_model_balanced.fit(features_train, target_train)\n",
    "            tree_predictions_balanced = tree_model_balanced.predict(features_valid)\n",
    "            tree_result_balanced = f1_score(target_valid, tree_predictions_balanced)\n",
    "            \n",
    "            if tree_result_balanced > best_tree_result_balanced:\n",
    "                best_tree_model_balanced = tree_model_balanced\n",
    "                best_tree_result_balanced = tree_result_balanced\n",
    "                best_tree_depth_balanced = depth\n",
    "                best_tree_split_balanced = split\n",
    "                best_tree_criterion_balanced = criterion"
   ]
  },
  {
   "cell_type": "code",
   "execution_count": 51,
   "metadata": {},
   "outputs": [
    {
     "data": {
      "text/plain": [
       "8"
      ]
     },
     "execution_count": 51,
     "metadata": {},
     "output_type": "execute_result"
    }
   ],
   "source": [
    "best_tree_depth_balanced"
   ]
  },
  {
   "cell_type": "code",
   "execution_count": 52,
   "metadata": {},
   "outputs": [
    {
     "data": {
      "text/plain": [
       "8"
      ]
     },
     "execution_count": 52,
     "metadata": {},
     "output_type": "execute_result"
    }
   ],
   "source": [
    "best_tree_split_balanced"
   ]
  },
  {
   "cell_type": "code",
   "execution_count": 53,
   "metadata": {},
   "outputs": [
    {
     "data": {
      "text/plain": [
       "'gini'"
      ]
     },
     "execution_count": 53,
     "metadata": {},
     "output_type": "execute_result"
    }
   ],
   "source": [
    "best_tree_criterion_balanced"
   ]
  },
  {
   "cell_type": "code",
   "execution_count": 54,
   "metadata": {},
   "outputs": [
    {
     "data": {
      "text/plain": [
       "0.5720122574055159"
      ]
     },
     "execution_count": 54,
     "metadata": {},
     "output_type": "execute_result"
    }
   ],
   "source": [
    "best_tree_result_balanced"
   ]
  },
  {
   "cell_type": "code",
   "execution_count": 55,
   "metadata": {},
   "outputs": [],
   "source": [
    "tree_prob_balanced = best_tree_model_balanced.predict_proba(features_valid)\n",
    "tree_prob_balanced_one = tree_prob_balanced[:,1]\n",
    "tree_balanced_auc_roc = roc_auc_score(target_valid, tree_prob_balanced_one)"
   ]
  },
  {
   "cell_type": "code",
   "execution_count": 56,
   "metadata": {},
   "outputs": [
    {
     "data": {
      "text/plain": [
       "0.8029327337720762"
      ]
     },
     "execution_count": 56,
     "metadata": {},
     "output_type": "execute_result"
    }
   ],
   "source": [
    "tree_balanced_auc_roc"
   ]
  },
  {
   "cell_type": "markdown",
   "metadata": {},
   "source": [
    "Взвешивание классов улучшило значение `F1-меры` решающего дерева с **0.56** до **0.57**, а значение метрики `AUC_ROC` снизилась с **0.829** до **0.8**."
   ]
  },
  {
   "cell_type": "markdown",
   "metadata": {},
   "source": [
    "#### Модель случайного леса"
   ]
  },
  {
   "cell_type": "code",
   "execution_count": 57,
   "metadata": {},
   "outputs": [
    {
     "name": "stdout",
     "output_type": "stream",
     "text": [
      "CPU times: user 3 µs, sys: 0 ns, total: 3 µs\n",
      "Wall time: 6.44 µs\n"
     ]
    }
   ],
   "source": [
    "# Добавим параметр class_weight = 'balanced' в случайный лес\n",
    "# и снова переберём гиперпараметры\n",
    "\n",
    "%time\n",
    "\n",
    "best_for_model_balanced = None\n",
    "best_for_result_balanced = 0\n",
    "best_for_depth_balanced = 0\n",
    "best_for_split_balanced = 0\n",
    "best_est_balanced = 0 \n",
    "\n",
    "for depth in range(1, 15):\n",
    "    for split in range(2, 15):\n",
    "        for est in range(30, 300, 10):\n",
    "            for_model_balanced = RandomForestClassifier(random_state = 12345,\n",
    "                                               max_depth = depth,\n",
    "                                               min_samples_split = split,\n",
    "                                               n_estimators = est,\n",
    "                                               class_weight = 'balanced')\n",
    "            for_model_balanced.fit(features_train, target_train)\n",
    "            for_predictions_balanced = for_model_balanced.predict(features_valid)\n",
    "            for_result_balanced = f1_score(target_valid, for_predictions_balanced)\n",
    "            \n",
    "            if for_result_balanced > best_for_result_balanced:\n",
    "                best_for_model_balanced = for_model_balanced\n",
    "                best_for_result_balanced = for_result_balanced\n",
    "                best_for_depth_balanced = depth\n",
    "                best_for_split_balanced = split\n",
    "                best_est_balanced = est "
   ]
  },
  {
   "cell_type": "code",
   "execution_count": 58,
   "metadata": {},
   "outputs": [
    {
     "data": {
      "text/plain": [
       "12"
      ]
     },
     "execution_count": 58,
     "metadata": {},
     "output_type": "execute_result"
    }
   ],
   "source": [
    "best_for_depth_balanced"
   ]
  },
  {
   "cell_type": "code",
   "execution_count": 59,
   "metadata": {},
   "outputs": [
    {
     "data": {
      "text/plain": [
       "7"
      ]
     },
     "execution_count": 59,
     "metadata": {},
     "output_type": "execute_result"
    }
   ],
   "source": [
    "best_for_split_balanced"
   ]
  },
  {
   "cell_type": "code",
   "execution_count": 60,
   "metadata": {},
   "outputs": [
    {
     "data": {
      "text/plain": [
       "50"
      ]
     },
     "execution_count": 60,
     "metadata": {},
     "output_type": "execute_result"
    }
   ],
   "source": [
    "best_est_balanced"
   ]
  },
  {
   "cell_type": "code",
   "execution_count": 61,
   "metadata": {
    "scrolled": false
   },
   "outputs": [
    {
     "data": {
      "text/plain": [
       "0.6210826210826211"
      ]
     },
     "execution_count": 61,
     "metadata": {},
     "output_type": "execute_result"
    }
   ],
   "source": [
    "best_for_result_balanced"
   ]
  },
  {
   "cell_type": "code",
   "execution_count": 62,
   "metadata": {},
   "outputs": [],
   "source": [
    "for_prob_balanced = best_for_model_balanced.predict_proba(features_valid)\n",
    "for_prob_balanced_one = for_prob_balanced[:,1]\n",
    "for_balanced_auc_roc = roc_auc_score(target_valid, for_prob_balanced_one)"
   ]
  },
  {
   "cell_type": "code",
   "execution_count": 63,
   "metadata": {},
   "outputs": [
    {
     "data": {
      "text/plain": [
       "0.8643834161952324"
      ]
     },
     "execution_count": 63,
     "metadata": {},
     "output_type": "execute_result"
    }
   ],
   "source": [
    "for_balanced_auc_roc"
   ]
  },
  {
   "cell_type": "markdown",
   "metadata": {},
   "source": [
    "Сбалансированный вес классов в случайном лесе с `max_depth` - 9, `min_samples_split` - 11 и количеством деревьев 40 увеличил `f1_score` на валидационной выборке до **0.628**, что выше необходимого минимума в 0.59. `AUC_ROC` выросла с **0.855** до **0.860**."
   ]
  },
  {
   "cell_type": "markdown",
   "metadata": {},
   "source": [
    "#### Модель логистической регрессии"
   ]
  },
  {
   "cell_type": "code",
   "execution_count": 64,
   "metadata": {},
   "outputs": [
    {
     "name": "stdout",
     "output_type": "stream",
     "text": [
      "CPU times: user 3 µs, sys: 0 ns, total: 3 µs\n",
      "Wall time: 5.72 µs\n"
     ]
    }
   ],
   "source": [
    "# Добавим параметр class_weight = 'balanced' в модель логистической регрессии \n",
    "# настроим гиперпараметры \n",
    "# Инициализируем модель логистической регрессии, \n",
    "# настроим гиперпараметры 'max_iter' и 'C',\n",
    "# обучим модель обучающей выборке\n",
    "%time\n",
    "\n",
    "best_log_model_balanced = None\n",
    "best_log_result_balanced = 0\n",
    "best_it_balanced = 0\n",
    "best_c_balanced = 0\n",
    "\n",
    "for it in range(100, 500, 10):\n",
    "    for c in np.arange(1.0, 5.0):\n",
    "        log_model_balanced = LogisticRegression(random_state = 12345,\n",
    "                                                solver='liblinear',\n",
    "                                                max_iter = it,\n",
    "                                                C = c,\n",
    "                                                class_weight = 'balanced')\n",
    "        log_model_balanced.fit(features_train, target_train)\n",
    "        log_predictions_balanced = log_model_balanced.predict(features_valid)\n",
    "        log_result_balanced = f1_score(target_valid, log_predictions_balanced)\n",
    "        \n",
    "        if log_result_balanced > best_log_result_balanced:\n",
    "            best_log_model_balanced = log_model_balanced\n",
    "            best_log_result_balanced = log_result_balanced\n",
    "            best_it_balanced = it\n",
    "            best_c_balanced = c   "
   ]
  },
  {
   "cell_type": "code",
   "execution_count": 65,
   "metadata": {},
   "outputs": [
    {
     "data": {
      "text/plain": [
       "0.4956937799043062"
      ]
     },
     "execution_count": 65,
     "metadata": {},
     "output_type": "execute_result"
    }
   ],
   "source": [
    "best_log_result_balanced"
   ]
  },
  {
   "cell_type": "code",
   "execution_count": 66,
   "metadata": {},
   "outputs": [],
   "source": [
    "log_prob_balanced = log_model_balanced.predict_proba(features_valid)\n",
    "log_prob_balanced_one = log_prob_balanced[:,1]\n",
    "log_balanced_auc_roc = roc_auc_score(target_valid, log_prob_balanced_one)"
   ]
  },
  {
   "cell_type": "code",
   "execution_count": 67,
   "metadata": {},
   "outputs": [
    {
     "data": {
      "text/plain": [
       "0.7613111614884965"
      ]
     },
     "execution_count": 67,
     "metadata": {},
     "output_type": "execute_result"
    }
   ],
   "source": [
    "log_balanced_auc_roc"
   ]
  },
  {
   "cell_type": "markdown",
   "metadata": {},
   "source": [
    "В логистической регрессии `F1-мера` также значительно выросла после балансировки веса классов, но она все равно осталась самой низкой - всего **0.496**. А `AUC_ROC` повысилась до **0.76**."
   ]
  },
  {
   "cell_type": "code",
   "execution_count": 68,
   "metadata": {},
   "outputs": [
    {
     "data": {
      "image/png": "[encoded data removed]",
      "text/plain": [
       "<Figure size 720x360 with 1 Axes>"
      ]
     },
     "metadata": {
      "needs_background": "light"
     },
     "output_type": "display_data"
    }
   ],
   "source": [
    "# Построим график ROC-кривых трех сбаласированных моделей\n",
    "plt.figure(figsize=(10, 5)) \n",
    "plt.title('ROC-кривые')\n",
    "plt.plot([0, 1], [0, 1], linestyle='--')\n",
    "plt.xlim([0.0, 1.0])\n",
    "plt.ylim([0.0, 1.0])\n",
    "plt.xlabel('False Positive Rate')\n",
    "plt.ylabel('True Positive Rate')\n",
    "\n",
    "probabilities = [tree_prob_balanced_one, for_prob_balanced_one, log_prob_balanced_one]\n",
    "labels = ['tree_model_balanced', 'forest_model_balanced', 'log_reg_model_balanced']\n",
    "for i in range(len(probabilities)):\n",
    "    fpr, tpr, thresholds = roc_curve(target_valid, probabilities[i])\n",
    "    plt.plot(fpr, tpr, label = labels[i])\n",
    "    plt.legend()\n",
    "\n",
    "plt.show()"
   ]
  },
  {
   "cell_type": "code",
   "execution_count": 69,
   "metadata": {
    "scrolled": true
   },
   "outputs": [],
   "source": [
    "# Построим таблицу старых и новых значений F1-меры трех сбалансированных моделей\n",
    "models_balanced =\\\n",
    "pd.DataFrame(index = ['tree_model', 'forest_model', 'log_reg_model'],\n",
    "             data = [[best_tree_result, best_tree_result_balanced],\n",
    "                    [best_for_result, best_for_result_balanced],\n",
    "                    [best_log_result, best_log_result_balanced]],\n",
    "             columns = ['unbalanced', 'balanced'])"
   ]
  },
  {
   "cell_type": "code",
   "execution_count": 70,
   "metadata": {},
   "outputs": [
    {
     "data": {
      "text/html": [
       "<div>\n",
       "<style scoped>\n",
       "    .dataframe tbody tr th:only-of-type {\n",
       "        vertical-align: middle;\n",
       "    }\n",
       "\n",
       "    .dataframe tbody tr th {\n",
       "        vertical-align: top;\n",
       "    }\n",
       "\n",
       "    .dataframe thead th {\n",
       "        text-align: right;\n",
       "    }\n",
       "</style>\n",
       "<table border=\"1\" class=\"dataframe\">\n",
       "  <thead>\n",
       "    <tr style=\"text-align: right;\">\n",
       "      <th></th>\n",
       "      <th>unbalanced</th>\n",
       "      <th>balanced</th>\n",
       "    </tr>\n",
       "  </thead>\n",
       "  <tbody>\n",
       "    <tr>\n",
       "      <th>tree_model</th>\n",
       "      <td>0.560531</td>\n",
       "      <td>0.572012</td>\n",
       "    </tr>\n",
       "    <tr>\n",
       "      <th>forest_model</th>\n",
       "      <td>0.593220</td>\n",
       "      <td>0.621083</td>\n",
       "    </tr>\n",
       "    <tr>\n",
       "      <th>log_reg_model</th>\n",
       "      <td>0.282828</td>\n",
       "      <td>0.495694</td>\n",
       "    </tr>\n",
       "  </tbody>\n",
       "</table>\n",
       "</div>"
      ],
      "text/plain": [
       "               unbalanced  balanced\n",
       "tree_model       0.560531  0.572012\n",
       "forest_model     0.593220  0.621083\n",
       "log_reg_model    0.282828  0.495694"
      ]
     },
     "execution_count": 70,
     "metadata": {},
     "output_type": "execute_result"
    }
   ],
   "source": [
    "models_balanced"
   ]
  },
  {
   "cell_type": "code",
   "execution_count": 71,
   "metadata": {
    "scrolled": true
   },
   "outputs": [
    {
     "data": {
      "image/png": "[encoded data removed]",
      "text/plain": [
       "<Figure size 720x360 with 1 Axes>"
      ]
     },
     "metadata": {
      "needs_background": "light"
     },
     "output_type": "display_data"
    }
   ],
   "source": [
    "# Построим график старых и новых значений F1-меры трех сбалансированных моделей\n",
    "pd.DataFrame(models_balanced).plot(kind = 'bar',\n",
    "                          grid = True,\n",
    "                          figsize = (10,5),\n",
    "                          title='Изменение F1-меры до и после балансировки веса классов');"
   ]
  },
  {
   "cell_type": "markdown",
   "metadata": {},
   "source": [
    "**Вывод:**\n",
    "\n",
    "Взвешивание классов с помощью аргумента `class_weight = 'balanced'` существенно повысило качество всех моделей по метрике `F1-мера`.\n",
    "По результатам взвешивания классов лидером стала модель случайного леса со значением `F1-меры` на валидационной выборке **0.628**, что выше установленного критерия успешной модели."
   ]
  },
  {
   "cell_type": "markdown",
   "metadata": {},
   "source": [
    "### Увеличение выборки"
   ]
  },
  {
   "cell_type": "code",
   "execution_count": 104,
   "metadata": {},
   "outputs": [],
   "source": [
    "# Увеличим количество объектов нулевого класса техникой upsampling\n",
    "def upsample(features, target, repeat):\n",
    "    features_zeros = features[target.values == 0]\n",
    "    features_ones = features[target.values == 1]\n",
    "    target_zeros = target[target.values == 0]\n",
    "    target_ones = target[target.values == 1]\n",
    "\n",
    "    features_upsampled = pd.concat([features_zeros] + [features_ones] * repeat)\n",
    "    target_upsampled = pd.concat([target_zeros] + [target_ones] * repeat)\n",
    "    \n",
    "    features_upsampled, target_upsampled = shuffle(features_upsampled, target_upsampled, random_state = 12345)\n",
    "    \n",
    "    return features_upsampled, target_upsampled\n",
    "\n",
    "features_upsampled, target_upsampled = upsample(features_train, target_train, 4)"
   ]
  },
  {
   "cell_type": "code",
   "execution_count": 105,
   "metadata": {},
   "outputs": [
    {
     "data": {
      "text/plain": [
       "1    0.50603\n",
       "0    0.49397\n",
       "Name: exited, dtype: float64"
      ]
     },
     "execution_count": 105,
     "metadata": {},
     "output_type": "execute_result"
    }
   ],
   "source": [
    "# Посмотрим на новое соотношение классов в целевом признаке \n",
    "target_upsampled.value_counts(normalize = True)"
   ]
  },
  {
   "cell_type": "markdown",
   "metadata": {},
   "source": [
    "Обучим модели на новых данных"
   ]
  },
  {
   "cell_type": "markdown",
   "metadata": {},
   "source": [
    "#### Модель решающего дерева"
   ]
  },
  {
   "cell_type": "code",
   "execution_count": 106,
   "metadata": {},
   "outputs": [
    {
     "name": "stdout",
     "output_type": "stream",
     "text": [
      "CPU times: user 2 µs, sys: 0 ns, total: 2 µs\n",
      "Wall time: 6.68 µs\n"
     ]
    }
   ],
   "source": [
    "%time\n",
    "\n",
    "best_tree_model_upsampled = None\n",
    "best_tree_result_upsampled = 0\n",
    "best_tree_depth_upsampled = 0\n",
    "best_tree_split_upsampled = 0\n",
    "best_tree_criterion_upsampled = None\n",
    "\n",
    "for depth in range(1, 10):\n",
    "    for split in range(2, 10):\n",
    "        for criterion in ['gini', 'entropy']:\n",
    "            tree_model_upsampled = DecisionTreeClassifier(random_state = 12345,\n",
    "                                            max_depth = depth,\n",
    "                                            min_samples_split = split,\n",
    "                                            criterion = criterion)\n",
    "            tree_model_upsampled.fit(features_upsampled, target_upsampled)\n",
    "            tree_predictions_upsampled = tree_model_upsampled.predict(features_valid)\n",
    "            tree_result_upsampled = f1_score(target_valid, tree_predictions_upsampled)\n",
    "            \n",
    "            if tree_result_upsampled > best_tree_result_upsampled:\n",
    "                best_tree_model_upsampled = tree_model_upsampled\n",
    "                best_tree_result_upsampled = tree_result_upsampled\n",
    "                best_tree_depth_upsampled = depth\n",
    "                best_tree_split_upsampled = split\n",
    "                best_tree_criterion_upsampled = criterion"
   ]
  },
  {
   "cell_type": "code",
   "execution_count": 107,
   "metadata": {
    "scrolled": true
   },
   "outputs": [
    {
     "data": {
      "text/plain": [
       "0.5705521472392638"
      ]
     },
     "execution_count": 107,
     "metadata": {},
     "output_type": "execute_result"
    }
   ],
   "source": [
    "best_tree_result_upsampled"
   ]
  },
  {
   "cell_type": "code",
   "execution_count": 108,
   "metadata": {},
   "outputs": [],
   "source": [
    "tree_prob_upsampled = best_tree_model_upsampled.predict_proba(features_valid)\n",
    "tree_prob_upsampled_one = tree_prob_upsampled[:,1]\n",
    "tree_upsampled_auc_roc = roc_auc_score(target_valid, tree_prob_upsampled_one)"
   ]
  },
  {
   "cell_type": "code",
   "execution_count": 109,
   "metadata": {},
   "outputs": [
    {
     "data": {
      "text/plain": [
       "0.7997734880419941"
      ]
     },
     "execution_count": 109,
     "metadata": {},
     "output_type": "execute_result"
    }
   ],
   "source": [
    "tree_upsampled_auc_roc"
   ]
  },
  {
   "cell_type": "markdown",
   "metadata": {},
   "source": [
    "Увеличение выборки техникой `upsampling` лишь немного улучшило качество решающего дерева по сравнению с моделью с дисбалансом классов  с **0.56** до **0.569** по метрике `F1-мера`, но  ухудшило по сравнению с взевшиванием классов, где `F1-мера` была **0.57**. `AUC_ROC` еще больше упала до **0.799**."
   ]
  },
  {
   "cell_type": "markdown",
   "metadata": {},
   "source": [
    "#### Модель случайного леса"
   ]
  },
  {
   "cell_type": "code",
   "execution_count": 110,
   "metadata": {
    "scrolled": true
   },
   "outputs": [
    {
     "name": "stdout",
     "output_type": "stream",
     "text": [
      "CPU times: user 2 µs, sys: 0 ns, total: 2 µs\n",
      "Wall time: 5.48 µs\n"
     ]
    }
   ],
   "source": [
    "%time\n",
    "\n",
    "best_for_model_upsampled = None\n",
    "best_for_result_upsampled = 0\n",
    "best_for_depth_upsampled = 0\n",
    "best_for_split_upsampled = 0\n",
    "best_est_upsampled = 0 \n",
    "\n",
    "for depth in range(1, 15):\n",
    "    for split in range(2, 15):\n",
    "        for est in range(30, 300, 10):\n",
    "            for_model_upsampled = RandomForestClassifier(random_state = 12345,\n",
    "                                                         max_depth = depth,\n",
    "                                                         min_samples_split = split,\n",
    "                                                         n_estimators = est)\n",
    "            for_model_upsampled.fit(features_upsampled, target_upsampled)\n",
    "            for_predictions_upsampled = for_model_upsampled.predict(features_valid)\n",
    "            for_result_upsampled = f1_score(target_valid, for_predictions_upsampled)\n",
    "            \n",
    "            if for_result_upsampled > best_for_result_upsampled:\n",
    "                best_for_model_upsampled = for_model_upsampled\n",
    "                best_for_result_upsampled = for_result_upsampled\n",
    "                best_for_depth_upsampled = depth\n",
    "                best_for_split_upsampled = split\n",
    "                best_est_upsampled = est "
   ]
  },
  {
   "cell_type": "code",
   "execution_count": 111,
   "metadata": {
    "scrolled": true
   },
   "outputs": [
    {
     "data": {
      "text/plain": [
       "11"
      ]
     },
     "execution_count": 111,
     "metadata": {},
     "output_type": "execute_result"
    }
   ],
   "source": [
    "best_for_depth_upsampled"
   ]
  },
  {
   "cell_type": "code",
   "execution_count": 112,
   "metadata": {},
   "outputs": [
    {
     "data": {
      "text/plain": [
       "14"
      ]
     },
     "execution_count": 112,
     "metadata": {},
     "output_type": "execute_result"
    }
   ],
   "source": [
    "best_for_split_upsampled"
   ]
  },
  {
   "cell_type": "code",
   "execution_count": 113,
   "metadata": {},
   "outputs": [
    {
     "data": {
      "text/plain": [
       "30"
      ]
     },
     "execution_count": 113,
     "metadata": {},
     "output_type": "execute_result"
    }
   ],
   "source": [
    "best_est_upsampled"
   ]
  },
  {
   "cell_type": "code",
   "execution_count": 114,
   "metadata": {
    "scrolled": true
   },
   "outputs": [
    {
     "data": {
      "text/plain": [
       "0.6286407766990291"
      ]
     },
     "execution_count": 114,
     "metadata": {},
     "output_type": "execute_result"
    }
   ],
   "source": [
    "best_for_result_upsampled"
   ]
  },
  {
   "cell_type": "code",
   "execution_count": 115,
   "metadata": {},
   "outputs": [],
   "source": [
    "for_prob_upsampled = best_for_model_upsampled.predict_proba(features_valid)\n",
    "for_prob_upsampled_one = for_prob_upsampled[:,1]\n",
    "for_upsampled_auc_roc = roc_auc_score(target_valid, for_prob_upsampled_one)"
   ]
  },
  {
   "cell_type": "code",
   "execution_count": 116,
   "metadata": {},
   "outputs": [
    {
     "data": {
      "text/plain": [
       "0.8706069067519564"
      ]
     },
     "execution_count": 116,
     "metadata": {},
     "output_type": "execute_result"
    }
   ],
   "source": [
    "for_upsampled_auc_roc"
   ]
  },
  {
   "cell_type": "markdown",
   "metadata": {},
   "source": [
    "Для случайного леса увеличение выборки техникой `upsampling` повысило результат по метрике `F1-мера` по сравнению с несбаласированной моделью, но он не превзошел результат модели с сбаласированными классами. А вот `AUC_ROC` еще больше выросла до **0.867**."
   ]
  },
  {
   "cell_type": "markdown",
   "metadata": {},
   "source": [
    "#### Модель логистической регрессии"
   ]
  },
  {
   "cell_type": "code",
   "execution_count": 117,
   "metadata": {},
   "outputs": [
    {
     "name": "stdout",
     "output_type": "stream",
     "text": [
      "CPU times: user 3 µs, sys: 0 ns, total: 3 µs\n",
      "Wall time: 7.63 µs\n"
     ]
    }
   ],
   "source": [
    "%time\n",
    "\n",
    "best_log_model_upsampled = None\n",
    "best_log_result_upsampled = 0\n",
    "best_it_upsampled = 0\n",
    "best_c_upsampled = 0\n",
    "\n",
    "for it in range(100, 500, 10):\n",
    "    for c in np.arange(1.0, 5.0):\n",
    "        log_model_upsampled = LogisticRegression(random_state = 12345,\n",
    "                                                 solver='liblinear',\n",
    "                                                 max_iter = it,\n",
    "                                                 C = c)\n",
    "        log_model_upsampled.fit(features_upsampled, target_upsampled)\n",
    "        log_predictions_upsampled = log_model_upsampled.predict(features_valid)\n",
    "        log_result_upsampled = f1_score(target_valid, log_predictions_upsampled)\n",
    "        \n",
    "        if log_result_upsampled > best_log_result_upsampled:\n",
    "            best_log_model_upsampled = log_model_upsampled\n",
    "            best_log_result_upsampled = log_result_upsampled\n",
    "            best_it_upsampled = it\n",
    "            best_c_upsampled = c"
   ]
  },
  {
   "cell_type": "code",
   "execution_count": 118,
   "metadata": {
    "scrolled": true
   },
   "outputs": [
    {
     "data": {
      "text/plain": [
       "0.4938737040527804"
      ]
     },
     "execution_count": 118,
     "metadata": {},
     "output_type": "execute_result"
    }
   ],
   "source": [
    "best_log_result_upsampled"
   ]
  },
  {
   "cell_type": "code",
   "execution_count": 119,
   "metadata": {},
   "outputs": [],
   "source": [
    "log_prob_upsampled = log_model_upsampled.predict_proba(features_valid)\n",
    "log_prob_upsampled_one = log_prob_upsampled[:,1]\n",
    "log_upsampled_auc_roc = roc_auc_score(target_valid, log_prob_upsampled_one)"
   ]
  },
  {
   "cell_type": "code",
   "execution_count": 120,
   "metadata": {},
   "outputs": [
    {
     "data": {
      "text/plain": [
       "0.7613279263538094"
      ]
     },
     "execution_count": 120,
     "metadata": {},
     "output_type": "execute_result"
    }
   ],
   "source": [
    "log_upsampled_auc_roc"
   ]
  },
  {
   "cell_type": "markdown",
   "metadata": {},
   "source": [
    "Результаты логистической регрессии также оказались чуть хуже после увеличения выборки по сравнению с балансировкой классов."
   ]
  },
  {
   "cell_type": "code",
   "execution_count": 121,
   "metadata": {},
   "outputs": [
    {
     "data": {
      "image/png": "[encoded data removed]",
      "text/plain": [
       "<Figure size 720x360 with 1 Axes>"
      ]
     },
     "metadata": {
      "needs_background": "light"
     },
     "output_type": "display_data"
    }
   ],
   "source": [
    "# Построим график ROC-кривых трех моделей\n",
    "plt.figure(figsize=(10, 5)) \n",
    "plt.title('ROC-кривые')\n",
    "plt.plot([0, 1], [0, 1], linestyle='--')\n",
    "plt.xlim([0.0, 1.0])\n",
    "plt.ylim([0.0, 1.0])\n",
    "plt.xlabel('False Positive Rate')\n",
    "plt.ylabel('True Positive Rate')\n",
    "\n",
    "probabilities = [tree_prob_upsampled_one, for_prob_upsampled_one, log_prob_upsampled_one]\n",
    "labels = ['tree_model_upsampled', 'forest_model_upsampled', 'log_reg_model_upsampled']\n",
    "\n",
    "for i in range(len(probabilities)):\n",
    "    fpr, tpr, thresholds = roc_curve(target_valid, probabilities[i])\n",
    "    plt.plot(fpr, tpr, label = labels[i])\n",
    "    plt.legend()\n",
    "\n",
    "plt.show()"
   ]
  },
  {
   "cell_type": "code",
   "execution_count": 122,
   "metadata": {},
   "outputs": [],
   "source": [
    "# Построим таблицу значений F1-меры моделей c дисбалансом,\n",
    "# сбалансированных и с увеличенными выборками \n",
    "models_upsampled = pd.DataFrame(index = ['tree_model', 'forest_model', 'log_reg_model'], \n",
    "                                data = [best_tree_result_upsampled, best_for_result_upsampled, best_log_result_upsampled],\n",
    "                                columns = ['upsampled'])\n",
    "models_balanced = models_balanced.join(models_upsampled)"
   ]
  },
  {
   "cell_type": "code",
   "execution_count": 123,
   "metadata": {},
   "outputs": [
    {
     "data": {
      "text/html": [
       "<div>\n",
       "<style scoped>\n",
       "    .dataframe tbody tr th:only-of-type {\n",
       "        vertical-align: middle;\n",
       "    }\n",
       "\n",
       "    .dataframe tbody tr th {\n",
       "        vertical-align: top;\n",
       "    }\n",
       "\n",
       "    .dataframe thead th {\n",
       "        text-align: right;\n",
       "    }\n",
       "</style>\n",
       "<table border=\"1\" class=\"dataframe\">\n",
       "  <thead>\n",
       "    <tr style=\"text-align: right;\">\n",
       "      <th></th>\n",
       "      <th>unbalanced</th>\n",
       "      <th>balanced</th>\n",
       "      <th>upsampled</th>\n",
       "    </tr>\n",
       "  </thead>\n",
       "  <tbody>\n",
       "    <tr>\n",
       "      <th>tree_model</th>\n",
       "      <td>0.560531</td>\n",
       "      <td>0.572012</td>\n",
       "      <td>0.570552</td>\n",
       "    </tr>\n",
       "    <tr>\n",
       "      <th>forest_model</th>\n",
       "      <td>0.593220</td>\n",
       "      <td>0.621083</td>\n",
       "      <td>0.628641</td>\n",
       "    </tr>\n",
       "    <tr>\n",
       "      <th>log_reg_model</th>\n",
       "      <td>0.282828</td>\n",
       "      <td>0.495694</td>\n",
       "      <td>0.493874</td>\n",
       "    </tr>\n",
       "  </tbody>\n",
       "</table>\n",
       "</div>"
      ],
      "text/plain": [
       "               unbalanced  balanced  upsampled\n",
       "tree_model       0.560531  0.572012   0.570552\n",
       "forest_model     0.593220  0.621083   0.628641\n",
       "log_reg_model    0.282828  0.495694   0.493874"
      ]
     },
     "execution_count": 123,
     "metadata": {},
     "output_type": "execute_result"
    }
   ],
   "source": [
    "models_balanced"
   ]
  },
  {
   "cell_type": "code",
   "execution_count": 124,
   "metadata": {},
   "outputs": [
    {
     "data": {
      "image/png": "[encoded data removed]",
      "text/plain": [
       "<Figure size 720x360 with 1 Axes>"
      ]
     },
     "metadata": {
      "needs_background": "light"
     },
     "output_type": "display_data"
    }
   ],
   "source": [
    "# Построим график по этой таблице \n",
    "models_balanced.plot(kind = 'bar',\n",
    "                    grid = True,\n",
    "                    figsize = (10,5),\n",
    "                    title='Изменение F1-меры c дисбалансом классов, после балансировки и после увеличения');"
   ]
  },
  {
   "cell_type": "markdown",
   "metadata": {},
   "source": [
    "Увеличение выборки техникой `upsampling` не улучшило качество моделей по сравнению со взевшиванием классов. "
   ]
  },
  {
   "cell_type": "markdown",
   "metadata": {},
   "source": [
    "### Уменьшение выборки"
   ]
  },
  {
   "cell_type": "code",
   "execution_count": 125,
   "metadata": {},
   "outputs": [],
   "source": [
    "# Уменьшим количество объектов нулевого класса техникой downsampling\n",
    "def downsample(feat, targ, fraction):\n",
    "    feat_zeros = feat[targ.values == 0]\n",
    "    feat_ones = feat[targ.values == 1]\n",
    "    targ_zeros = targ[targ.values == 0]\n",
    "    targ_ones = targ[targ.values == 1]\n",
    "    \n",
    "    features_downsampled =\\\n",
    "    pd.concat([feat_zeros.sample(frac = fraction, random_state=12345)] + [feat_ones])\n",
    "    target_downsampled =\\\n",
    "    pd.concat([targ_zeros.sample(frac = fraction, random_state = 12345)] + [targ_ones])\n",
    "    \n",
    "    features_downsampled, target_downsampled =\\\n",
    "    shuffle(features_downsampled, target_downsampled, random_state = 12345)\n",
    "    \n",
    "    return features_downsampled, target_downsampled\n",
    "\n",
    "features_downsampled, target_downsampled = downsample(features_train, target_train, 0.2)"
   ]
  },
  {
   "cell_type": "code",
   "execution_count": 126,
   "metadata": {},
   "outputs": [
    {
     "data": {
      "text/plain": [
       "1    0.561616\n",
       "0    0.438384\n",
       "Name: exited, dtype: float64"
      ]
     },
     "execution_count": 126,
     "metadata": {},
     "output_type": "execute_result"
    }
   ],
   "source": [
    "# Посмотрим на новое соотношение классов в целевом признаке \n",
    "target_downsampled.value_counts(normalize = True)"
   ]
  },
  {
   "cell_type": "markdown",
   "metadata": {},
   "source": [
    "Обучим модели на новых данных"
   ]
  },
  {
   "cell_type": "markdown",
   "metadata": {},
   "source": [
    "#### Модель решающего дерева"
   ]
  },
  {
   "cell_type": "code",
   "execution_count": 127,
   "metadata": {},
   "outputs": [
    {
     "name": "stdout",
     "output_type": "stream",
     "text": [
      "CPU times: user 3 µs, sys: 0 ns, total: 3 µs\n",
      "Wall time: 5.72 µs\n"
     ]
    }
   ],
   "source": [
    "%time\n",
    "\n",
    "best_tree_model_downsampled = None\n",
    "best_tree_result_downsampled = 0\n",
    "best_tree_depth_downsampled = 0\n",
    "best_tree_split_downsampled = 0\n",
    "best_tree_criterion_downsampled = None\n",
    "\n",
    "for depth in range(1, 10):\n",
    "    for split in range(2, 10):\n",
    "        for criterion in ['gini', 'entropy']:\n",
    "            tree_model_downsampled = DecisionTreeClassifier(random_state = 12345,\n",
    "                                            max_depth = depth,\n",
    "                                            min_samples_split = split,\n",
    "                                            criterion = criterion)\n",
    "            tree_model_downsampled.fit(features_downsampled, target_downsampled)\n",
    "            tree_predictions_downsampled = tree_model_downsampled.predict(features_valid)\n",
    "            tree_result_downsampled = f1_score(target_valid, tree_predictions_downsampled)\n",
    "            \n",
    "            if tree_result_downsampled > best_tree_result_downsampled:\n",
    "                best_tree_model_downsampled = tree_model_downsampled\n",
    "                best_tree_result_downsampled = tree_result_downsampled\n",
    "                best_tree_depth_downsampled = depth\n",
    "                best_tree_split_downsampled = split\n",
    "                best_tree_criterion_downsampled = criterion"
   ]
  },
  {
   "cell_type": "code",
   "execution_count": 128,
   "metadata": {
    "scrolled": true
   },
   "outputs": [
    {
     "data": {
      "text/plain": [
       "0.5464684014869888"
      ]
     },
     "execution_count": 128,
     "metadata": {},
     "output_type": "execute_result"
    }
   ],
   "source": [
    "best_tree_result_downsampled"
   ]
  },
  {
   "cell_type": "code",
   "execution_count": 129,
   "metadata": {},
   "outputs": [],
   "source": [
    "tree_prob_downsampled = best_tree_model_downsampled.predict_proba(features_valid)\n",
    "tree_prob_downsampled_one = tree_prob_downsampled[:,1]\n",
    "tree_downsampled_auc_roc = roc_auc_score(target_valid, tree_prob_downsampled_one)"
   ]
  },
  {
   "cell_type": "code",
   "execution_count": 130,
   "metadata": {
    "scrolled": true
   },
   "outputs": [
    {
     "data": {
      "text/plain": [
       "0.826104571778771"
      ]
     },
     "execution_count": 130,
     "metadata": {},
     "output_type": "execute_result"
    }
   ],
   "source": [
    "tree_downsampled_auc_roc"
   ]
  },
  {
   "cell_type": "markdown",
   "metadata": {},
   "source": [
    "#### Модель случайного леса"
   ]
  },
  {
   "cell_type": "code",
   "execution_count": 131,
   "metadata": {},
   "outputs": [
    {
     "name": "stdout",
     "output_type": "stream",
     "text": [
      "CPU times: user 3 µs, sys: 0 ns, total: 3 µs\n",
      "Wall time: 6.44 µs\n"
     ]
    }
   ],
   "source": [
    "%time\n",
    "\n",
    "best_for_model_downsampled = None\n",
    "best_for_result_downsampled = 0\n",
    "best_for_depth_downsampled = 0\n",
    "best_for_split_downsampled = 0\n",
    "best_est_downsampled = 0 \n",
    "\n",
    "for depth in range(1, 15):\n",
    "    for split in range(2, 15):\n",
    "        for est in range(30, 300, 10):\n",
    "            for_model_downsampled = RandomForestClassifier(random_state = 12345,\n",
    "                                                           max_depth = depth,\n",
    "                                                           min_samples_split = split,\n",
    "                                                           n_estimators = est)\n",
    "            for_model_downsampled.fit(features_downsampled, target_downsampled)\n",
    "            for_predictions_downsampled = for_model_downsampled.predict(features_valid)\n",
    "            for_result_downsampled = f1_score(target_valid, for_predictions_downsampled)\n",
    "            \n",
    "            if for_result_downsampled > best_for_result_downsampled:\n",
    "                best_for_model_downsampled = for_model_downsampled\n",
    "                best_for_result_downsampled = for_result_downsampled\n",
    "                best_for_depth_downsampled = depth\n",
    "                best_for_split_downsampled = split\n",
    "                best_est_downsampled = est "
   ]
  },
  {
   "cell_type": "code",
   "execution_count": 132,
   "metadata": {},
   "outputs": [
    {
     "data": {
      "text/plain": [
       "0.5750736015701668"
      ]
     },
     "execution_count": 132,
     "metadata": {},
     "output_type": "execute_result"
    }
   ],
   "source": [
    "best_for_result_downsampled"
   ]
  },
  {
   "cell_type": "code",
   "execution_count": 133,
   "metadata": {},
   "outputs": [],
   "source": [
    "for_prob_downsampled = best_for_model_downsampled.predict_proba(features_valid)\n",
    "for_prob_downsampled_one = for_prob_downsampled[:,1]\n",
    "for_downsampled_auc_roc = roc_auc_score(target_valid, for_prob_downsampled_one)"
   ]
  },
  {
   "cell_type": "code",
   "execution_count": 134,
   "metadata": {},
   "outputs": [
    {
     "data": {
      "text/plain": [
       "0.8562394171787713"
      ]
     },
     "execution_count": 134,
     "metadata": {},
     "output_type": "execute_result"
    }
   ],
   "source": [
    "for_downsampled_auc_roc"
   ]
  },
  {
   "cell_type": "markdown",
   "metadata": {},
   "source": [
    "#### Модель логистической регрессии"
   ]
  },
  {
   "cell_type": "code",
   "execution_count": 135,
   "metadata": {},
   "outputs": [
    {
     "name": "stdout",
     "output_type": "stream",
     "text": [
      "CPU times: user 2 µs, sys: 0 ns, total: 2 µs\n",
      "Wall time: 5.01 µs\n"
     ]
    }
   ],
   "source": [
    "%time\n",
    "\n",
    "best_log_model_downsampled = None\n",
    "best_log_result_downsampled = 0\n",
    "best_it_downsampled = 0\n",
    "best_c_downsampled = 0\n",
    "\n",
    "for it in range(100, 500, 10):\n",
    "    for c in np.arange(1.0, 5.0):\n",
    "        log_model_downsampled = LogisticRegression(random_state = 12345,\n",
    "                                                   solver='liblinear',\n",
    "                                                   max_iter = it,\n",
    "                                                   C = c)\n",
    "        log_model_downsampled.fit(features_downsampled, target_downsampled)\n",
    "        log_predictions_downsampled = log_model_downsampled.predict(features_valid)\n",
    "        log_result_downsampled = f1_score(target_valid, log_predictions_downsampled)\n",
    "        \n",
    "        if log_result_downsampled > best_log_result_downsampled:\n",
    "            best_log_model_downsampled = log_model_downsampled\n",
    "            best_log_result_downsampled = log_result_downsampled\n",
    "            best_it_downsampled = it\n",
    "            best_c_downsampled = c"
   ]
  },
  {
   "cell_type": "code",
   "execution_count": 136,
   "metadata": {},
   "outputs": [
    {
     "data": {
      "text/plain": [
       "0.4702928870292887"
      ]
     },
     "execution_count": 136,
     "metadata": {},
     "output_type": "execute_result"
    }
   ],
   "source": [
    "best_log_result_downsampled"
   ]
  },
  {
   "cell_type": "code",
   "execution_count": 137,
   "metadata": {},
   "outputs": [],
   "source": [
    "log_prob_downsampled = log_model_downsampled.predict_proba(features_valid)\n",
    "log_prob_downsampled_one = log_prob_downsampled[:,1]\n",
    "log_downsampled_auc_roc = roc_auc_score(target_valid, log_prob_downsampled_one)"
   ]
  },
  {
   "cell_type": "code",
   "execution_count": 138,
   "metadata": {},
   "outputs": [
    {
     "data": {
      "text/plain": [
       "0.7614471431738126"
      ]
     },
     "execution_count": 138,
     "metadata": {},
     "output_type": "execute_result"
    }
   ],
   "source": [
    "log_downsampled_auc_roc"
   ]
  },
  {
   "cell_type": "code",
   "execution_count": 139,
   "metadata": {},
   "outputs": [
    {
     "data": {
      "image/png": "[encoded data removed]",
      "text/plain": [
       "<Figure size 720x360 with 1 Axes>"
      ]
     },
     "metadata": {
      "needs_background": "light"
     },
     "output_type": "display_data"
    }
   ],
   "source": [
    "# Построим график ROC-кривых трех моделей\n",
    "plt.figure(figsize=(10, 5)) \n",
    "plt.title('ROC-кривые')\n",
    "plt.plot([0, 1], [0, 1], linestyle='--')\n",
    "plt.xlim([0.0, 1.0])\n",
    "plt.ylim([0.0, 1.0])\n",
    "plt.xlabel('False Positive Rate')\n",
    "plt.ylabel('True Positive Rate')\n",
    "\n",
    "probabilities = [tree_prob_downsampled_one, for_prob_downsampled_one, log_prob_downsampled_one]\n",
    "labels = ['tree_model_downsampled', 'forest_model_downsampled', 'log_reg_model_downsampled']\n",
    "\n",
    "for i in range(len(probabilities)):\n",
    "    fpr, tpr, thresholds = roc_curve(target_valid, probabilities[i])\n",
    "    plt.plot(fpr, tpr, label = labels[i])\n",
    "    plt.legend()\n",
    "\n",
    "plt.show()"
   ]
  },
  {
   "cell_type": "markdown",
   "metadata": {},
   "source": [
    "Уменьшение выборки оказалось наименее эффективным в борьбе с дисбалансом классов для всех моделей. По-видимому данных для анализа осталось слишком мало."
   ]
  },
  {
   "cell_type": "code",
   "execution_count": 140,
   "metadata": {},
   "outputs": [],
   "source": [
    "# Построим таблицу значений F1-меры моделей c дисбалансом, \n",
    "# сбалансированных, с увеличенными и с уменьшенными  выборками \n",
    "models_downsampled = pd.DataFrame(index = ['tree_model', 'forest_model', 'log_reg_model'], \n",
    "                                data = [best_tree_result_downsampled, best_for_result_downsampled, best_log_result_downsampled],\n",
    "                                columns = ['downsampled'])\n",
    "models_balanced = models_balanced.join(models_downsampled)"
   ]
  },
  {
   "cell_type": "code",
   "execution_count": 141,
   "metadata": {
    "scrolled": true
   },
   "outputs": [
    {
     "data": {
      "text/html": [
       "<div>\n",
       "<style scoped>\n",
       "    .dataframe tbody tr th:only-of-type {\n",
       "        vertical-align: middle;\n",
       "    }\n",
       "\n",
       "    .dataframe tbody tr th {\n",
       "        vertical-align: top;\n",
       "    }\n",
       "\n",
       "    .dataframe thead th {\n",
       "        text-align: right;\n",
       "    }\n",
       "</style>\n",
       "<table border=\"1\" class=\"dataframe\">\n",
       "  <thead>\n",
       "    <tr style=\"text-align: right;\">\n",
       "      <th></th>\n",
       "      <th>unbalanced</th>\n",
       "      <th>balanced</th>\n",
       "      <th>upsampled</th>\n",
       "      <th>downsampled</th>\n",
       "    </tr>\n",
       "  </thead>\n",
       "  <tbody>\n",
       "    <tr>\n",
       "      <th>tree_model</th>\n",
       "      <td>0.560531</td>\n",
       "      <td>0.572012</td>\n",
       "      <td>0.570552</td>\n",
       "      <td>0.546468</td>\n",
       "    </tr>\n",
       "    <tr>\n",
       "      <th>forest_model</th>\n",
       "      <td>0.593220</td>\n",
       "      <td>0.621083</td>\n",
       "      <td>0.628641</td>\n",
       "      <td>0.575074</td>\n",
       "    </tr>\n",
       "    <tr>\n",
       "      <th>log_reg_model</th>\n",
       "      <td>0.282828</td>\n",
       "      <td>0.495694</td>\n",
       "      <td>0.493874</td>\n",
       "      <td>0.470293</td>\n",
       "    </tr>\n",
       "  </tbody>\n",
       "</table>\n",
       "</div>"
      ],
      "text/plain": [
       "               unbalanced  balanced  upsampled  downsampled\n",
       "tree_model       0.560531  0.572012   0.570552     0.546468\n",
       "forest_model     0.593220  0.621083   0.628641     0.575074\n",
       "log_reg_model    0.282828  0.495694   0.493874     0.470293"
      ]
     },
     "execution_count": 141,
     "metadata": {},
     "output_type": "execute_result"
    }
   ],
   "source": [
    "models_balanced"
   ]
  },
  {
   "cell_type": "code",
   "execution_count": 142,
   "metadata": {},
   "outputs": [
    {
     "data": {
      "image/png": "[encoded data removed]",
      "text/plain": [
       "<Figure size 720x360 with 1 Axes>"
      ]
     },
     "metadata": {
      "needs_background": "light"
     },
     "output_type": "display_data"
    }
   ],
   "source": [
    "# Построим новый график \n",
    "models_balanced.plot(kind = 'bar',\n",
    "                    grid = True,\n",
    "                    figsize = (10,5),\n",
    "                    title='Изменение F1-меры c дисбалансом классов, после балансировки, после увеличения и после уменьшения');"
   ]
  },
  {
   "cell_type": "markdown",
   "metadata": {},
   "source": [
    "**Вывод:**\n",
    "\n",
    "В борьбе с дисбалансом классов победило взвешивание классов с помощью аргумента `class_weight = 'balanced'`. С ним модель случайного леса показала наилучший результат. \n",
    "\n",
    "Метод `upsampling` также повысил качество всех моделей. \n",
    "\n",
    "А уменьшение выборки методом `downsampling` не улучшило результат. Видимо, в уменьшенной выборке данных просто не хватает для эффективного анализа."
   ]
  },
  {
   "cell_type": "markdown",
   "metadata": {},
   "source": [
    "## Тестирование модели"
   ]
  },
  {
   "cell_type": "code",
   "execution_count": 143,
   "metadata": {},
   "outputs": [],
   "source": [
    "# Протестируем лучшую модель на тестовой выборке\n",
    "for_test = for_model_balanced.predict(features_test)\n",
    "for_result_test = f1_score(target_test, for_test)"
   ]
  },
  {
   "cell_type": "code",
   "execution_count": 144,
   "metadata": {
    "scrolled": true
   },
   "outputs": [
    {
     "data": {
      "text/plain": [
       "0.6416107382550335"
      ]
     },
     "execution_count": 144,
     "metadata": {},
     "output_type": "execute_result"
    }
   ],
   "source": [
    "for_result_test"
   ]
  },
  {
   "cell_type": "code",
   "execution_count": 145,
   "metadata": {},
   "outputs": [],
   "source": [
    "# Посчитаем метрику auc_roc на тестовой выборке\n",
    "for_prob_test = for_model_balanced.predict_proba(features_test)\n",
    "for_prob_test_one = for_prob_test[:,1]\n",
    "for_test_auc_roc = roc_auc_score(target_test, for_prob_test_one)"
   ]
  },
  {
   "cell_type": "code",
   "execution_count": 146,
   "metadata": {},
   "outputs": [
    {
     "data": {
      "text/plain": [
       "0.8569734627928103"
      ]
     },
     "execution_count": 146,
     "metadata": {},
     "output_type": "execute_result"
    }
   ],
   "source": [
    "for_test_auc_roc"
   ]
  },
  {
   "cell_type": "code",
   "execution_count": 147,
   "metadata": {},
   "outputs": [
    {
     "data": {
      "image/png": "[encoded data removed]",
      "text/plain": [
       "<Figure size 720x360 with 1 Axes>"
      ]
     },
     "metadata": {
      "needs_background": "light"
     },
     "output_type": "display_data"
    }
   ],
   "source": [
    "# Построим ROC-кривую лучшей модели \n",
    "plt.figure(figsize = (10, 5)) \n",
    "plt.title('ROC-кривая')\n",
    "plt.plot([0, 1], [0, 1], linestyle = '--')\n",
    "plt.xlim([0.0, 1.0])\n",
    "plt.ylim([0.0, 1.0])\n",
    "plt.xlabel('False Positive Rate')\n",
    "plt.ylabel('True Positive Rate')\n",
    "\n",
    "fpr, tpr, thresholds = roc_curve(target_test, for_prob_test_one)\n",
    "plt.plot(fpr, tpr)\n",
    "\n",
    "plt.show()"
   ]
  },
  {
   "cell_type": "markdown",
   "metadata": {},
   "source": [
    "На тестовой выборке модель случайного леса с гиперпараметрами:\n",
    "\n",
    "`max_depth` = **9**\n",
    "\n",
    "`min_samples_split` = **11**\n",
    "\n",
    "`n_estimators` = **40**\n",
    "\n",
    "`class_weight` = **'balanced'**\n",
    "\n",
    "показала значение метрики `F1 мера` **0.64**, что выше установленного критерия успешной модели.\n",
    "\n",
    "Значение метрики `AUC_ROC` на тестовой выборке составило **0.86**."
   ]
  },
  {
   "cell_type": "markdown",
   "metadata": {},
   "source": [
    "## Общий вывод"
   ]
  },
  {
   "cell_type": "markdown",
   "metadata": {},
   "source": [
    "В данном проекте мы строили и выбирали лучшую модель, прогнозирующую возможный уход клиентов из «Бета-Банка». \n",
    "\n",
    "В качестве критерия успешности модели использовали значение метрики `F1-мера` не менее **0.59** на тестовой выборке.\n",
    "\n",
    "Мы изучили данные, определили, какой столбец будет целевым признаком, установили, что данные в нем относятся к категориальным.\n",
    "\n",
    "Обнаружили пропуски в столбце `tenure` и удалили строки с пропущенными значениями.\n",
    "\n",
    "Мы удалили столбцы с признаками, которые не влияют на целевой: `row_number`,`customer_id`,`surname`.\n",
    "\n",
    "Разделили данные на обучающую, валидационную и тестовую выборки в соотношении 60:20:20.\n",
    "\n",
    "Закодировали категориальные признаки с помощью One-Hot Encoder.\n",
    "\n",
    "Стандартизировали численные признаки с помощью StandardScaler.\n",
    "\n",
    "Мы изучали три модели и выбирали лучшую по метрике `F1-мера`:\n",
    "\n",
    "- модель **решающего дерева** со значениями максимальной глубины от 1 до 10, минимальным количеством примеров для разделения от 2 до 10 и критериями `gini` и `entropy`.\n",
    " \n",
    "- модель **случайного леса** со значениями максимальной глубины от 1 до 15, минимальным количеством примеров для разделения от 2 до 15 и количеством деревьев от 10 до 300 с шагом 10.\n",
    "\n",
    "- модель **логистической регрессии** с количество итераций от 100 до 500 и гиперпараметром `C` от 1.0 до 5.0.\n",
    "\n",
    "Мы также измеряли значение метрики `AUC_ROC` и строили `ROC - кривые` трех моделей.\n",
    "\n",
    "Лучший результат на валидационной выборке среди моделей обученных *без учета дисбаланса классов* со значением метрики `F1-мера` **0.59** и `AUC_ROC` **0.855** показала модель **случайный лес** с `max_depth` - **12**, `min_samples_split` - **8** и количеством деревьев **30**. \n",
    "\n",
    "Модель **логистической регрессии**  по метрике `F1-мера` показала худший результат - всего **0.29**, а по метрике `AUC_ROC` -  **0.758**.\n",
    "\n",
    "Для повышения качества моделей мы исследовали баланс классов и выявили, что объектов отрицательного класса почти в четыре раза больше, чем положительного.\n",
    "\n",
    "Для устранения дисбаланса мы применили три способа, заново перебрав те же гиперпараметры трех моелей:\n",
    "\n",
    "1. Взвешивание классов\n",
    "\n",
    "   Мы добавили в модели аргумент `class_weight` = **'balanced'** .\n",
    "\n",
    "   Взвешивание классов повысило качество  всех моделей. \n",
    "\n",
    "   Значение `F1-меры` модели **случайного леса** c `max_depth` - **9**, `min_samples_split` -      **11** и количеством деревьев **40** на валидационной выборке выросло до **0.628**, что выше    установленного критерия успешной модели. `AUC_ROC` данной модели составила **0.86**.\n",
    "   \n",
    "\n",
    "2. Увеличение выборки (`upsampling`)\n",
    "\n",
    "   Увеличение выборки техникой `upsampling` улучшило качество моделей по сравнению с      дисбалансированными, но уступило взевшиванию классов.\n",
    "\n",
    "\n",
    "3. Уменьшение выборки (`downsampling`)\n",
    "\n",
    "   Уменьшение выборки техникой `downsampling` оказалось наименее эффективным в борьбе с   дисбалансом классов для всех моделей. По-видимому данных для анализа в уменьшенной выборке слишком мало.\n",
    "\n",
    "Мы протестировали лучшую модель **случайного леса** с гиперпараметрами:\n",
    "\n",
    "`max_depth` = **9**\n",
    "\n",
    "`min_samples_split` = **11**\n",
    "\n",
    "`n_estimators` = **40**\n",
    "\n",
    "`class_weight` = **'balanced'**\n",
    "\n",
    "Значение метрики `F1 мера` на тестовой выборке составило **0.64**, что выше установленного критерия успешной модели.\n",
    "\n",
    "Значение метрики `AUC_ROC` на тестовой выборке составило **0.86**."
   ]
  },
  {
   "cell_type": "code",
   "execution_count": null,
   "metadata": {},
   "outputs": [],
   "source": []
  }
 ],
 "metadata": {
  "ExecuteTimeLog": [
   {
    "duration": 1029,
    "start_time": "2023-01-09T06:20:57.429Z"
   },
   {
    "duration": 79,
    "start_time": "2023-01-09T06:20:58.460Z"
   },
   {
    "duration": 74,
    "start_time": "2023-01-09T06:20:58.541Z"
   },
   {
    "duration": 13,
    "start_time": "2023-01-09T06:21:21.731Z"
   },
   {
    "duration": 22,
    "start_time": "2023-01-09T06:22:14.415Z"
   },
   {
    "duration": 6,
    "start_time": "2023-01-09T06:26:20.746Z"
   },
   {
    "duration": 10,
    "start_time": "2023-01-09T06:27:23.864Z"
   },
   {
    "duration": 3,
    "start_time": "2023-01-09T06:36:36.335Z"
   },
   {
    "duration": 11,
    "start_time": "2023-01-09T06:37:08.249Z"
   },
   {
    "duration": 94,
    "start_time": "2023-01-09T06:58:39.092Z"
   },
   {
    "duration": 4,
    "start_time": "2023-01-09T06:59:07.875Z"
   },
   {
    "duration": 14,
    "start_time": "2023-01-09T06:59:13.166Z"
   },
   {
    "duration": 6,
    "start_time": "2023-01-09T07:10:01.943Z"
   },
   {
    "duration": 11,
    "start_time": "2023-01-09T07:10:50.449Z"
   },
   {
    "duration": 577,
    "start_time": "2023-01-09T07:11:54.355Z"
   },
   {
    "duration": 119,
    "start_time": "2023-01-09T07:12:25.049Z"
   },
   {
    "duration": 1071,
    "start_time": "2023-01-09T07:13:00.927Z"
   },
   {
    "duration": 42,
    "start_time": "2023-01-09T07:13:02.000Z"
   },
   {
    "duration": 19,
    "start_time": "2023-01-09T07:13:02.044Z"
   },
   {
    "duration": 27,
    "start_time": "2023-01-09T07:13:02.064Z"
   },
   {
    "duration": 7,
    "start_time": "2023-01-09T07:13:02.092Z"
   },
   {
    "duration": 22,
    "start_time": "2023-01-09T07:13:02.100Z"
   },
   {
    "duration": 17,
    "start_time": "2023-01-09T07:13:02.124Z"
   },
   {
    "duration": 40,
    "start_time": "2023-01-09T07:13:02.143Z"
   },
   {
    "duration": 365,
    "start_time": "2023-01-09T07:13:02.185Z"
   },
   {
    "duration": 5,
    "start_time": "2023-01-09T07:13:02.552Z"
   },
   {
    "duration": 132,
    "start_time": "2023-01-09T07:13:02.559Z"
   },
   {
    "duration": 12,
    "start_time": "2023-01-09T07:13:02.697Z"
   },
   {
    "duration": 114,
    "start_time": "2023-01-09T07:27:28.962Z"
   },
   {
    "duration": 12,
    "start_time": "2023-01-09T07:27:29.524Z"
   },
   {
    "duration": 183,
    "start_time": "2023-01-09T07:27:36.433Z"
   },
   {
    "duration": 11,
    "start_time": "2023-01-09T07:27:48.277Z"
   },
   {
    "duration": 144,
    "start_time": "2023-01-09T07:28:35.218Z"
   },
   {
    "duration": 45,
    "start_time": "2023-01-09T07:35:36.686Z"
   },
   {
    "duration": 9,
    "start_time": "2023-01-09T07:35:46.045Z"
   },
   {
    "duration": 4,
    "start_time": "2023-01-09T07:37:14.877Z"
   },
   {
    "duration": 11,
    "start_time": "2023-01-09T07:37:33.645Z"
   },
   {
    "duration": 12,
    "start_time": "2023-01-09T07:38:43.226Z"
   },
   {
    "duration": 2,
    "start_time": "2023-01-09T07:51:46.621Z"
   },
   {
    "duration": 8,
    "start_time": "2023-01-09T08:07:57.681Z"
   },
   {
    "duration": 5,
    "start_time": "2023-01-09T08:08:08.028Z"
   },
   {
    "duration": 5,
    "start_time": "2023-01-09T08:08:17.327Z"
   },
   {
    "duration": 6,
    "start_time": "2023-01-09T08:08:19.531Z"
   },
   {
    "duration": 3,
    "start_time": "2023-01-09T08:17:50.238Z"
   },
   {
    "duration": 3,
    "start_time": "2023-01-09T08:18:09.630Z"
   },
   {
    "duration": 4,
    "start_time": "2023-01-09T08:18:38.058Z"
   },
   {
    "duration": 4,
    "start_time": "2023-01-09T08:19:10.462Z"
   },
   {
    "duration": 20,
    "start_time": "2023-01-09T08:19:28.161Z"
   },
   {
    "duration": 4,
    "start_time": "2023-01-09T08:19:46.942Z"
   },
   {
    "duration": 20,
    "start_time": "2023-01-09T08:20:42.359Z"
   },
   {
    "duration": 18,
    "start_time": "2023-01-09T08:20:45.246Z"
   },
   {
    "duration": 153,
    "start_time": "2023-01-09T08:21:53.532Z"
   },
   {
    "duration": 4,
    "start_time": "2023-01-09T08:22:15.062Z"
   },
   {
    "duration": 3,
    "start_time": "2023-01-09T08:22:37.555Z"
   },
   {
    "duration": 17,
    "start_time": "2023-01-09T08:26:07.536Z"
   },
   {
    "duration": 1117,
    "start_time": "2023-01-09T08:26:18.869Z"
   },
   {
    "duration": 35,
    "start_time": "2023-01-09T08:26:19.990Z"
   },
   {
    "duration": 14,
    "start_time": "2023-01-09T08:26:20.027Z"
   },
   {
    "duration": 82,
    "start_time": "2023-01-09T08:26:20.043Z"
   },
   {
    "duration": 8,
    "start_time": "2023-01-09T08:26:20.126Z"
   },
   {
    "duration": 16,
    "start_time": "2023-01-09T08:26:20.135Z"
   },
   {
    "duration": 5,
    "start_time": "2023-01-09T08:26:20.153Z"
   },
   {
    "duration": 26,
    "start_time": "2023-01-09T08:26:20.159Z"
   },
   {
    "duration": 370,
    "start_time": "2023-01-09T08:26:20.186Z"
   },
   {
    "duration": 6,
    "start_time": "2023-01-09T08:26:20.559Z"
   },
   {
    "duration": 136,
    "start_time": "2023-01-09T08:26:20.567Z"
   },
   {
    "duration": 13,
    "start_time": "2023-01-09T08:26:20.705Z"
   },
   {
    "duration": 5,
    "start_time": "2023-01-09T08:26:20.720Z"
   },
   {
    "duration": 13,
    "start_time": "2023-01-09T08:26:20.726Z"
   },
   {
    "duration": 9,
    "start_time": "2023-01-09T08:26:20.741Z"
   },
   {
    "duration": 11,
    "start_time": "2023-01-09T08:26:20.751Z"
   },
   {
    "duration": 37,
    "start_time": "2023-01-09T08:26:20.763Z"
   },
   {
    "duration": 7,
    "start_time": "2023-01-09T08:26:20.801Z"
   },
   {
    "duration": 8,
    "start_time": "2023-01-09T08:26:20.810Z"
   },
   {
    "duration": 10,
    "start_time": "2023-01-09T08:26:20.820Z"
   },
   {
    "duration": 7,
    "start_time": "2023-01-09T08:26:20.832Z"
   },
   {
    "duration": 41,
    "start_time": "2023-01-09T08:26:20.841Z"
   },
   {
    "duration": 167,
    "start_time": "2023-01-09T08:26:20.884Z"
   },
   {
    "duration": 3,
    "start_time": "2023-01-09T08:26:21.053Z"
   },
   {
    "duration": 50,
    "start_time": "2023-01-09T08:26:21.058Z"
   },
   {
    "duration": 17,
    "start_time": "2023-01-09T08:56:50.319Z"
   },
   {
    "duration": 100,
    "start_time": "2023-01-09T09:01:46.859Z"
   },
   {
    "duration": 990,
    "start_time": "2023-01-09T09:01:56.553Z"
   },
   {
    "duration": 27,
    "start_time": "2023-01-09T09:01:57.545Z"
   },
   {
    "duration": 11,
    "start_time": "2023-01-09T09:01:57.574Z"
   },
   {
    "duration": 21,
    "start_time": "2023-01-09T09:01:57.587Z"
   },
   {
    "duration": 7,
    "start_time": "2023-01-09T09:01:57.609Z"
   },
   {
    "duration": 12,
    "start_time": "2023-01-09T09:01:57.617Z"
   },
   {
    "duration": 4,
    "start_time": "2023-01-09T09:01:57.630Z"
   },
   {
    "duration": 15,
    "start_time": "2023-01-09T09:01:57.635Z"
   },
   {
    "duration": 361,
    "start_time": "2023-01-09T09:01:57.651Z"
   },
   {
    "duration": 5,
    "start_time": "2023-01-09T09:01:58.015Z"
   },
   {
    "duration": 132,
    "start_time": "2023-01-09T09:01:58.022Z"
   },
   {
    "duration": 12,
    "start_time": "2023-01-09T09:01:58.156Z"
   },
   {
    "duration": 7,
    "start_time": "2023-01-09T09:01:58.169Z"
   },
   {
    "duration": 24,
    "start_time": "2023-01-09T09:01:58.178Z"
   },
   {
    "duration": 13,
    "start_time": "2023-01-09T09:01:58.203Z"
   },
   {
    "duration": 5,
    "start_time": "2023-01-09T09:01:58.217Z"
   },
   {
    "duration": 7,
    "start_time": "2023-01-09T09:01:58.224Z"
   },
   {
    "duration": 7,
    "start_time": "2023-01-09T09:01:58.233Z"
   },
   {
    "duration": 6,
    "start_time": "2023-01-09T09:01:58.241Z"
   },
   {
    "duration": 11,
    "start_time": "2023-01-09T09:01:58.248Z"
   },
   {
    "duration": 7,
    "start_time": "2023-01-09T09:01:58.260Z"
   },
   {
    "duration": 37,
    "start_time": "2023-01-09T09:01:58.269Z"
   },
   {
    "duration": 51,
    "start_time": "2023-01-09T09:01:58.308Z"
   },
   {
    "duration": 0,
    "start_time": "2023-01-09T09:01:58.361Z"
   },
   {
    "duration": 0,
    "start_time": "2023-01-09T09:01:58.362Z"
   },
   {
    "duration": 0,
    "start_time": "2023-01-09T09:01:58.363Z"
   },
   {
    "duration": 0,
    "start_time": "2023-01-09T09:01:58.364Z"
   },
   {
    "duration": 0,
    "start_time": "2023-01-09T09:01:58.365Z"
   },
   {
    "duration": 0,
    "start_time": "2023-01-09T09:01:58.366Z"
   },
   {
    "duration": 46,
    "start_time": "2023-01-09T09:02:12.922Z"
   },
   {
    "duration": 2508,
    "start_time": "2023-01-09T09:03:05.901Z"
   },
   {
    "duration": 4,
    "start_time": "2023-01-09T09:03:09.946Z"
   },
   {
    "duration": 4,
    "start_time": "2023-01-09T09:03:11.118Z"
   },
   {
    "duration": 3,
    "start_time": "2023-01-09T09:03:12.375Z"
   },
   {
    "duration": 4,
    "start_time": "2023-01-09T09:03:14.964Z"
   },
   {
    "duration": 4,
    "start_time": "2023-01-09T09:03:17.229Z"
   },
   {
    "duration": 118,
    "start_time": "2023-01-09T09:05:56.315Z"
   },
   {
    "duration": 108,
    "start_time": "2023-01-09T09:06:57.167Z"
   },
   {
    "duration": 11,
    "start_time": "2023-01-09T09:07:01.321Z"
   },
   {
    "duration": 121,
    "start_time": "2023-01-09T09:07:21.519Z"
   },
   {
    "duration": 128,
    "start_time": "2023-01-09T09:07:23.014Z"
   },
   {
    "duration": 193,
    "start_time": "2023-01-09T09:07:57.430Z"
   },
   {
    "duration": 17,
    "start_time": "2023-01-09T09:08:52.534Z"
   },
   {
    "duration": 3015,
    "start_time": "2023-01-09T09:14:21.710Z"
   },
   {
    "duration": 4,
    "start_time": "2023-01-09T09:14:24.727Z"
   },
   {
    "duration": 25,
    "start_time": "2023-01-09T09:14:24.733Z"
   },
   {
    "duration": 4,
    "start_time": "2023-01-09T09:14:25.410Z"
   },
   {
    "duration": 4,
    "start_time": "2023-01-09T09:14:29.532Z"
   },
   {
    "duration": 117,
    "start_time": "2023-01-09T09:14:30.342Z"
   },
   {
    "duration": 114,
    "start_time": "2023-01-09T09:15:56.110Z"
   },
   {
    "duration": 156,
    "start_time": "2023-01-09T09:16:11.537Z"
   },
   {
    "duration": 130,
    "start_time": "2023-01-09T09:16:26.243Z"
   },
   {
    "duration": 135,
    "start_time": "2023-01-09T09:16:36.710Z"
   },
   {
    "duration": 134,
    "start_time": "2023-01-09T09:16:42.720Z"
   },
   {
    "duration": 131,
    "start_time": "2023-01-09T09:16:49.810Z"
   },
   {
    "duration": 131,
    "start_time": "2023-01-09T09:17:06.739Z"
   },
   {
    "duration": 1052,
    "start_time": "2023-01-09T09:34:42.317Z"
   },
   {
    "duration": 27,
    "start_time": "2023-01-09T09:34:43.371Z"
   },
   {
    "duration": 12,
    "start_time": "2023-01-09T09:34:43.399Z"
   },
   {
    "duration": 59,
    "start_time": "2023-01-09T09:34:43.412Z"
   },
   {
    "duration": 80,
    "start_time": "2023-01-09T09:34:43.473Z"
   },
   {
    "duration": 13,
    "start_time": "2023-01-09T09:34:43.554Z"
   },
   {
    "duration": 4,
    "start_time": "2023-01-09T09:34:43.568Z"
   },
   {
    "duration": 15,
    "start_time": "2023-01-09T09:34:43.573Z"
   },
   {
    "duration": 337,
    "start_time": "2023-01-09T09:34:43.589Z"
   },
   {
    "duration": 6,
    "start_time": "2023-01-09T09:34:43.929Z"
   },
   {
    "duration": 141,
    "start_time": "2023-01-09T09:34:43.936Z"
   },
   {
    "duration": 19,
    "start_time": "2023-01-09T09:34:44.079Z"
   },
   {
    "duration": 7,
    "start_time": "2023-01-09T09:34:44.099Z"
   },
   {
    "duration": 14,
    "start_time": "2023-01-09T09:34:44.108Z"
   },
   {
    "duration": 15,
    "start_time": "2023-01-09T09:34:44.123Z"
   },
   {
    "duration": 8,
    "start_time": "2023-01-09T09:34:44.139Z"
   },
   {
    "duration": 15,
    "start_time": "2023-01-09T09:34:44.149Z"
   },
   {
    "duration": 6,
    "start_time": "2023-01-09T09:34:44.166Z"
   },
   {
    "duration": 4,
    "start_time": "2023-01-09T09:34:44.173Z"
   },
   {
    "duration": 6,
    "start_time": "2023-01-09T09:34:44.178Z"
   },
   {
    "duration": 12,
    "start_time": "2023-01-09T09:34:44.185Z"
   },
   {
    "duration": 22,
    "start_time": "2023-01-09T09:34:44.198Z"
   },
   {
    "duration": 6,
    "start_time": "2023-01-09T09:34:44.221Z"
   },
   {
    "duration": 0,
    "start_time": "2023-01-09T09:34:44.229Z"
   },
   {
    "duration": 0,
    "start_time": "2023-01-09T09:34:44.230Z"
   },
   {
    "duration": 0,
    "start_time": "2023-01-09T09:34:44.230Z"
   },
   {
    "duration": 0,
    "start_time": "2023-01-09T09:34:44.232Z"
   },
   {
    "duration": 0,
    "start_time": "2023-01-09T09:34:44.233Z"
   },
   {
    "duration": 0,
    "start_time": "2023-01-09T09:34:44.234Z"
   },
   {
    "duration": 0,
    "start_time": "2023-01-09T09:34:44.235Z"
   },
   {
    "duration": 0,
    "start_time": "2023-01-09T09:34:44.236Z"
   },
   {
    "duration": 0,
    "start_time": "2023-01-09T09:34:44.237Z"
   },
   {
    "duration": 0,
    "start_time": "2023-01-09T09:34:44.238Z"
   },
   {
    "duration": 1,
    "start_time": "2023-01-09T09:34:44.238Z"
   },
   {
    "duration": 2947,
    "start_time": "2023-01-09T09:35:25.805Z"
   },
   {
    "duration": 126,
    "start_time": "2023-01-09T09:35:49.674Z"
   },
   {
    "duration": 4,
    "start_time": "2023-01-09T09:35:54.209Z"
   },
   {
    "duration": 4,
    "start_time": "2023-01-09T09:35:55.213Z"
   },
   {
    "duration": 4,
    "start_time": "2023-01-09T09:35:56.427Z"
   },
   {
    "duration": 1038,
    "start_time": "2023-01-09T10:46:08.603Z"
   },
   {
    "duration": 28,
    "start_time": "2023-01-09T10:46:09.642Z"
   },
   {
    "duration": 12,
    "start_time": "2023-01-09T10:46:09.672Z"
   },
   {
    "duration": 22,
    "start_time": "2023-01-09T10:46:09.685Z"
   },
   {
    "duration": 6,
    "start_time": "2023-01-09T10:46:09.709Z"
   },
   {
    "duration": 15,
    "start_time": "2023-01-09T10:46:09.717Z"
   },
   {
    "duration": 5,
    "start_time": "2023-01-09T10:46:09.733Z"
   },
   {
    "duration": 15,
    "start_time": "2023-01-09T10:46:09.740Z"
   },
   {
    "duration": 373,
    "start_time": "2023-01-09T10:46:09.757Z"
   },
   {
    "duration": 5,
    "start_time": "2023-01-09T10:46:10.132Z"
   },
   {
    "duration": 121,
    "start_time": "2023-01-09T10:46:10.139Z"
   },
   {
    "duration": 12,
    "start_time": "2023-01-09T10:46:10.261Z"
   },
   {
    "duration": 11,
    "start_time": "2023-01-09T10:46:10.275Z"
   },
   {
    "duration": 16,
    "start_time": "2023-01-09T10:46:10.302Z"
   },
   {
    "duration": 22,
    "start_time": "2023-01-09T10:46:10.320Z"
   },
   {
    "duration": 5,
    "start_time": "2023-01-09T10:46:10.343Z"
   },
   {
    "duration": 9,
    "start_time": "2023-01-09T10:46:10.349Z"
   },
   {
    "duration": 7,
    "start_time": "2023-01-09T10:46:10.360Z"
   },
   {
    "duration": 5,
    "start_time": "2023-01-09T10:46:10.368Z"
   },
   {
    "duration": 7,
    "start_time": "2023-01-09T10:46:10.374Z"
   },
   {
    "duration": 6,
    "start_time": "2023-01-09T10:46:10.382Z"
   },
   {
    "duration": 21,
    "start_time": "2023-01-09T10:46:10.390Z"
   },
   {
    "duration": 2810,
    "start_time": "2023-01-09T10:46:10.412Z"
   },
   {
    "duration": 133,
    "start_time": "2023-01-09T10:46:13.223Z"
   },
   {
    "duration": 3,
    "start_time": "2023-01-09T10:46:13.358Z"
   },
   {
    "duration": 6,
    "start_time": "2023-01-09T10:46:13.362Z"
   },
   {
    "duration": 7,
    "start_time": "2023-01-09T10:46:13.369Z"
   },
   {
    "duration": 5,
    "start_time": "2023-01-09T10:46:13.378Z"
   },
   {
    "duration": 50,
    "start_time": "2023-01-09T10:46:13.397Z"
   },
   {
    "duration": 0,
    "start_time": "2023-01-09T10:46:13.448Z"
   },
   {
    "duration": 0,
    "start_time": "2023-01-09T10:46:13.450Z"
   },
   {
    "duration": 0,
    "start_time": "2023-01-09T10:46:13.451Z"
   },
   {
    "duration": 0,
    "start_time": "2023-01-09T10:46:13.452Z"
   },
   {
    "duration": 0,
    "start_time": "2023-01-09T10:46:13.453Z"
   },
   {
    "duration": 1027,
    "start_time": "2023-01-09T10:47:07.336Z"
   },
   {
    "duration": 28,
    "start_time": "2023-01-09T10:47:08.365Z"
   },
   {
    "duration": 11,
    "start_time": "2023-01-09T10:47:08.394Z"
   },
   {
    "duration": 32,
    "start_time": "2023-01-09T10:47:08.407Z"
   },
   {
    "duration": 9,
    "start_time": "2023-01-09T10:47:08.441Z"
   },
   {
    "duration": 21,
    "start_time": "2023-01-09T10:47:08.452Z"
   },
   {
    "duration": 5,
    "start_time": "2023-01-09T10:47:08.475Z"
   },
   {
    "duration": 24,
    "start_time": "2023-01-09T10:47:08.481Z"
   },
   {
    "duration": 337,
    "start_time": "2023-01-09T10:47:08.506Z"
   },
   {
    "duration": 5,
    "start_time": "2023-01-09T10:47:08.847Z"
   },
   {
    "duration": 134,
    "start_time": "2023-01-09T10:47:08.853Z"
   },
   {
    "duration": 18,
    "start_time": "2023-01-09T10:47:08.989Z"
   },
   {
    "duration": 4,
    "start_time": "2023-01-09T10:47:09.008Z"
   },
   {
    "duration": 13,
    "start_time": "2023-01-09T10:47:09.013Z"
   },
   {
    "duration": 9,
    "start_time": "2023-01-09T10:47:09.027Z"
   },
   {
    "duration": 13,
    "start_time": "2023-01-09T10:47:09.037Z"
   },
   {
    "duration": 11,
    "start_time": "2023-01-09T10:47:09.052Z"
   },
   {
    "duration": 13,
    "start_time": "2023-01-09T10:47:09.064Z"
   },
   {
    "duration": 5,
    "start_time": "2023-01-09T10:47:09.078Z"
   },
   {
    "duration": 3,
    "start_time": "2023-01-09T10:47:09.097Z"
   },
   {
    "duration": 6,
    "start_time": "2023-01-09T10:47:09.101Z"
   },
   {
    "duration": 23,
    "start_time": "2023-01-09T10:47:09.108Z"
   },
   {
    "duration": 2796,
    "start_time": "2023-01-09T10:47:09.133Z"
   },
   {
    "duration": 149,
    "start_time": "2023-01-09T10:47:11.931Z"
   },
   {
    "duration": 3,
    "start_time": "2023-01-09T10:47:12.082Z"
   },
   {
    "duration": 12,
    "start_time": "2023-01-09T10:47:12.086Z"
   },
   {
    "duration": 6,
    "start_time": "2023-01-09T10:47:12.099Z"
   },
   {
    "duration": 6,
    "start_time": "2023-01-09T10:47:12.107Z"
   },
   {
    "duration": 120,
    "start_time": "2023-01-09T10:47:12.114Z"
   },
   {
    "duration": 0,
    "start_time": "2023-01-09T10:47:12.236Z"
   },
   {
    "duration": 0,
    "start_time": "2023-01-09T10:47:12.237Z"
   },
   {
    "duration": 0,
    "start_time": "2023-01-09T10:47:12.238Z"
   },
   {
    "duration": 0,
    "start_time": "2023-01-09T10:47:12.239Z"
   },
   {
    "duration": 0,
    "start_time": "2023-01-09T10:47:12.240Z"
   },
   {
    "duration": 19376,
    "start_time": "2023-01-09T10:49:21.159Z"
   },
   {
    "duration": 20678,
    "start_time": "2023-01-09T10:49:49.921Z"
   },
   {
    "duration": 4,
    "start_time": "2023-01-09T10:50:57.315Z"
   },
   {
    "duration": 4,
    "start_time": "2023-01-09T10:50:58.312Z"
   },
   {
    "duration": 19828,
    "start_time": "2023-01-09T10:53:03.014Z"
   },
   {
    "duration": 10,
    "start_time": "2023-01-09T11:02:12.091Z"
   },
   {
    "duration": 61,
    "start_time": "2023-01-09T11:02:15.308Z"
   },
   {
    "duration": 9,
    "start_time": "2023-01-09T11:02:16.486Z"
   },
   {
    "duration": 3459,
    "start_time": "2023-01-09T11:03:15.438Z"
   },
   {
    "duration": 160,
    "start_time": "2023-01-09T11:03:18.899Z"
   },
   {
    "duration": 56994,
    "start_time": "2023-01-09T11:04:44.962Z"
   },
   {
    "duration": 132,
    "start_time": "2023-01-09T11:05:41.957Z"
   },
   {
    "duration": 60910,
    "start_time": "2023-01-09T11:06:49.199Z"
   },
   {
    "duration": 136,
    "start_time": "2023-01-09T11:07:50.110Z"
   },
   {
    "duration": 4,
    "start_time": "2023-01-09T11:09:16.927Z"
   },
   {
    "duration": 4,
    "start_time": "2023-01-09T11:09:23.401Z"
   },
   {
    "duration": 27650,
    "start_time": "2023-01-09T11:12:35.194Z"
   },
   {
    "duration": 828,
    "start_time": "2023-01-09T11:13:02.846Z"
   },
   {
    "duration": 139,
    "start_time": "2023-01-09T11:13:41.311Z"
   },
   {
    "duration": 27704,
    "start_time": "2023-01-09T11:13:53.282Z"
   },
   {
    "duration": 167,
    "start_time": "2023-01-09T11:14:20.988Z"
   },
   {
    "duration": 27854,
    "start_time": "2023-01-09T11:15:13.978Z"
   },
   {
    "duration": 212,
    "start_time": "2023-01-09T11:15:41.968Z"
   },
   {
    "duration": 9,
    "start_time": "2023-01-09T11:15:55.632Z"
   },
   {
    "duration": 3,
    "start_time": "2023-01-09T11:16:10.018Z"
   },
   {
    "duration": 19788,
    "start_time": "2023-01-09T11:19:16.510Z"
   },
   {
    "duration": 3,
    "start_time": "2023-01-09T11:19:36.300Z"
   },
   {
    "duration": 6,
    "start_time": "2023-01-09T11:19:36.305Z"
   },
   {
    "duration": 20029,
    "start_time": "2023-01-09T11:20:08.112Z"
   },
   {
    "duration": 8,
    "start_time": "2023-01-09T11:20:28.158Z"
   },
   {
    "duration": 25,
    "start_time": "2023-01-09T11:20:28.167Z"
   },
   {
    "duration": 21522,
    "start_time": "2023-01-09T11:24:35.196Z"
   },
   {
    "duration": 3,
    "start_time": "2023-01-09T11:24:56.720Z"
   },
   {
    "duration": 12,
    "start_time": "2023-01-09T11:24:56.725Z"
   },
   {
    "duration": 22668,
    "start_time": "2023-01-09T11:25:49.130Z"
   },
   {
    "duration": 5,
    "start_time": "2023-01-09T11:26:11.814Z"
   },
   {
    "duration": 6,
    "start_time": "2023-01-09T11:26:11.820Z"
   },
   {
    "duration": 97,
    "start_time": "2023-01-09T11:29:37.310Z"
   },
   {
    "duration": 1913,
    "start_time": "2023-01-09T11:29:58.163Z"
   },
   {
    "duration": 5,
    "start_time": "2023-01-09T11:30:21.003Z"
   },
   {
    "duration": 23062,
    "start_time": "2023-01-09T11:31:04.437Z"
   },
   {
    "duration": 5,
    "start_time": "2023-01-09T11:31:27.516Z"
   },
   {
    "duration": 13,
    "start_time": "2023-01-09T11:31:27.522Z"
   },
   {
    "duration": 1884,
    "start_time": "2023-01-09T11:31:27.536Z"
   },
   {
    "duration": 1851,
    "start_time": "2023-01-09T11:31:55.515Z"
   },
   {
    "duration": 4,
    "start_time": "2023-01-09T11:32:08.340Z"
   },
   {
    "duration": 1174,
    "start_time": "2023-01-09T14:22:16.886Z"
   },
   {
    "duration": 58,
    "start_time": "2023-01-09T14:22:18.062Z"
   },
   {
    "duration": 15,
    "start_time": "2023-01-09T14:22:18.121Z"
   },
   {
    "duration": 31,
    "start_time": "2023-01-09T14:22:18.138Z"
   },
   {
    "duration": 17,
    "start_time": "2023-01-09T14:22:18.171Z"
   },
   {
    "duration": 30,
    "start_time": "2023-01-09T14:22:18.189Z"
   },
   {
    "duration": 13,
    "start_time": "2023-01-09T14:22:18.221Z"
   },
   {
    "duration": 24,
    "start_time": "2023-01-09T14:22:18.236Z"
   },
   {
    "duration": 583,
    "start_time": "2023-01-09T14:22:18.262Z"
   },
   {
    "duration": 7,
    "start_time": "2023-01-09T14:22:18.849Z"
   },
   {
    "duration": 158,
    "start_time": "2023-01-09T14:22:18.858Z"
   },
   {
    "duration": 23,
    "start_time": "2023-01-09T14:22:19.018Z"
   },
   {
    "duration": 7,
    "start_time": "2023-01-09T14:22:19.043Z"
   },
   {
    "duration": 21,
    "start_time": "2023-01-09T14:22:19.064Z"
   },
   {
    "duration": 12,
    "start_time": "2023-01-09T14:22:19.087Z"
   },
   {
    "duration": 10,
    "start_time": "2023-01-09T14:22:19.101Z"
   },
   {
    "duration": 30,
    "start_time": "2023-01-09T14:22:19.112Z"
   },
   {
    "duration": 19,
    "start_time": "2023-01-09T14:22:19.144Z"
   },
   {
    "duration": 28,
    "start_time": "2023-01-09T14:22:19.165Z"
   },
   {
    "duration": 18,
    "start_time": "2023-01-09T14:22:19.195Z"
   },
   {
    "duration": 30,
    "start_time": "2023-01-09T14:22:19.215Z"
   },
   {
    "duration": 12,
    "start_time": "2023-01-09T14:22:19.247Z"
   },
   {
    "duration": 35,
    "start_time": "2023-01-09T14:22:19.262Z"
   },
   {
    "duration": 3398,
    "start_time": "2023-01-09T14:22:19.299Z"
   },
   {
    "duration": 157,
    "start_time": "2023-01-09T14:22:22.698Z"
   },
   {
    "duration": 3,
    "start_time": "2023-01-09T14:22:22.857Z"
   },
   {
    "duration": 17,
    "start_time": "2023-01-09T14:22:22.862Z"
   },
   {
    "duration": 19,
    "start_time": "2023-01-09T14:22:22.882Z"
   },
   {
    "duration": 27,
    "start_time": "2023-01-09T14:22:22.903Z"
   },
   {
    "duration": 152,
    "start_time": "2023-01-09T14:22:22.932Z"
   },
   {
    "duration": 0,
    "start_time": "2023-01-09T14:22:23.086Z"
   },
   {
    "duration": 0,
    "start_time": "2023-01-09T14:22:23.087Z"
   },
   {
    "duration": 0,
    "start_time": "2023-01-09T14:22:23.088Z"
   },
   {
    "duration": 0,
    "start_time": "2023-01-09T14:22:23.089Z"
   },
   {
    "duration": 0,
    "start_time": "2023-01-09T14:22:23.090Z"
   },
   {
    "duration": 0,
    "start_time": "2023-01-09T14:22:23.092Z"
   },
   {
    "duration": 12,
    "start_time": "2023-01-09T14:24:17.571Z"
   },
   {
    "duration": 29,
    "start_time": "2023-01-09T14:51:35.238Z"
   },
   {
    "duration": 39,
    "start_time": "2023-01-09T14:56:07.389Z"
   },
   {
    "duration": 3345,
    "start_time": "2023-01-09T14:56:14.604Z"
   },
   {
    "duration": 150,
    "start_time": "2023-01-09T14:56:18.456Z"
   },
   {
    "duration": 4,
    "start_time": "2023-01-09T14:56:21.918Z"
   },
   {
    "duration": 4,
    "start_time": "2023-01-09T14:56:22.664Z"
   },
   {
    "duration": 4,
    "start_time": "2023-01-09T14:56:25.324Z"
   },
   {
    "duration": 4,
    "start_time": "2023-01-09T14:56:26.347Z"
   },
   {
    "duration": 31743,
    "start_time": "2023-01-09T14:57:46.390Z"
   },
   {
    "duration": 7,
    "start_time": "2023-01-09T14:58:18.150Z"
   },
   {
    "duration": 16,
    "start_time": "2023-01-09T14:58:18.158Z"
   },
   {
    "duration": 26,
    "start_time": "2023-01-09T15:11:33.264Z"
   },
   {
    "duration": 11,
    "start_time": "2023-01-09T15:11:33.982Z"
   },
   {
    "duration": 25,
    "start_time": "2023-01-09T15:11:52.700Z"
   },
   {
    "duration": 3720,
    "start_time": "2023-01-09T15:23:01.427Z"
   },
   {
    "duration": 3,
    "start_time": "2023-01-09T15:23:05.149Z"
   },
   {
    "duration": 9,
    "start_time": "2023-01-09T15:23:07.352Z"
   },
   {
    "duration": 3,
    "start_time": "2023-01-09T15:23:22.824Z"
   },
   {
    "duration": 3797,
    "start_time": "2023-01-09T15:24:09.240Z"
   },
   {
    "duration": 4,
    "start_time": "2023-01-09T15:24:13.039Z"
   },
   {
    "duration": 4,
    "start_time": "2023-01-09T15:24:16.072Z"
   },
   {
    "duration": 3665,
    "start_time": "2023-01-09T15:25:05.871Z"
   },
   {
    "duration": 4,
    "start_time": "2023-01-09T15:25:09.539Z"
   },
   {
    "duration": 13,
    "start_time": "2023-01-09T15:25:09.545Z"
   },
   {
    "duration": 45,
    "start_time": "2023-01-10T06:49:37.578Z"
   },
   {
    "duration": 1126,
    "start_time": "2023-01-10T06:49:46.283Z"
   },
   {
    "duration": 92,
    "start_time": "2023-01-10T06:49:47.412Z"
   },
   {
    "duration": 15,
    "start_time": "2023-01-10T06:49:47.505Z"
   },
   {
    "duration": 26,
    "start_time": "2023-01-10T06:49:47.522Z"
   },
   {
    "duration": 22,
    "start_time": "2023-01-10T06:49:47.549Z"
   },
   {
    "duration": 13,
    "start_time": "2023-01-10T06:49:47.572Z"
   },
   {
    "duration": 7,
    "start_time": "2023-01-10T06:49:47.586Z"
   },
   {
    "duration": 22,
    "start_time": "2023-01-10T06:49:47.594Z"
   },
   {
    "duration": 531,
    "start_time": "2023-01-10T06:49:47.618Z"
   },
   {
    "duration": 7,
    "start_time": "2023-01-10T06:49:48.152Z"
   },
   {
    "duration": 160,
    "start_time": "2023-01-10T06:49:48.160Z"
   },
   {
    "duration": 14,
    "start_time": "2023-01-10T06:49:48.322Z"
   },
   {
    "duration": 28,
    "start_time": "2023-01-10T06:49:48.338Z"
   },
   {
    "duration": 35,
    "start_time": "2023-01-10T06:49:48.368Z"
   },
   {
    "duration": 24,
    "start_time": "2023-01-10T06:49:48.405Z"
   },
   {
    "duration": 26,
    "start_time": "2023-01-10T06:49:48.431Z"
   },
   {
    "duration": 18,
    "start_time": "2023-01-10T06:49:48.459Z"
   },
   {
    "duration": 14,
    "start_time": "2023-01-10T06:49:48.479Z"
   },
   {
    "duration": 27,
    "start_time": "2023-01-10T06:49:48.494Z"
   },
   {
    "duration": 42,
    "start_time": "2023-01-10T06:49:48.523Z"
   },
   {
    "duration": 35,
    "start_time": "2023-01-10T06:49:48.566Z"
   },
   {
    "duration": 55,
    "start_time": "2023-01-10T06:49:48.603Z"
   },
   {
    "duration": 68,
    "start_time": "2023-01-10T06:49:48.659Z"
   },
   {
    "duration": 3079,
    "start_time": "2023-01-10T06:49:48.729Z"
   },
   {
    "duration": 148,
    "start_time": "2023-01-10T06:49:51.810Z"
   },
   {
    "duration": 4,
    "start_time": "2023-01-10T06:49:51.959Z"
   },
   {
    "duration": 90,
    "start_time": "2023-01-10T06:49:51.964Z"
   },
   {
    "duration": 44,
    "start_time": "2023-01-10T06:49:52.057Z"
   },
   {
    "duration": 28,
    "start_time": "2023-01-10T06:49:52.102Z"
   },
   {
    "duration": 29580,
    "start_time": "2023-01-10T06:49:52.132Z"
   },
   {
    "duration": 4,
    "start_time": "2023-01-10T06:50:21.714Z"
   },
   {
    "duration": 9,
    "start_time": "2023-01-10T06:50:21.720Z"
   },
   {
    "duration": 3391,
    "start_time": "2023-01-10T06:50:21.731Z"
   },
   {
    "duration": 3,
    "start_time": "2023-01-10T06:50:25.124Z"
   },
   {
    "duration": 20,
    "start_time": "2023-01-10T06:50:25.129Z"
   },
   {
    "duration": 171,
    "start_time": "2023-01-10T06:51:19.320Z"
   },
   {
    "duration": 163,
    "start_time": "2023-01-10T06:51:30.839Z"
   },
   {
    "duration": 162,
    "start_time": "2023-01-10T06:51:38.483Z"
   },
   {
    "duration": 157,
    "start_time": "2023-01-10T06:51:47.608Z"
   },
   {
    "duration": 141,
    "start_time": "2023-01-10T06:51:57.949Z"
   },
   {
    "duration": 164,
    "start_time": "2023-01-10T06:52:09.312Z"
   },
   {
    "duration": 150,
    "start_time": "2023-01-10T06:52:19.604Z"
   },
   {
    "duration": 170,
    "start_time": "2023-01-10T06:52:26.590Z"
   },
   {
    "duration": 134,
    "start_time": "2023-01-10T06:52:33.048Z"
   },
   {
    "duration": 201,
    "start_time": "2023-01-10T06:52:47.726Z"
   },
   {
    "duration": 155,
    "start_time": "2023-01-10T06:53:02.901Z"
   },
   {
    "duration": 154,
    "start_time": "2023-01-10T06:53:12.717Z"
   },
   {
    "duration": 234,
    "start_time": "2023-01-10T06:53:18.380Z"
   },
   {
    "duration": 165,
    "start_time": "2023-01-10T06:53:24.537Z"
   },
   {
    "duration": 172,
    "start_time": "2023-01-10T06:53:30.413Z"
   },
   {
    "duration": 196,
    "start_time": "2023-01-10T06:53:36.463Z"
   },
   {
    "duration": 154,
    "start_time": "2023-01-10T06:53:44.921Z"
   },
   {
    "duration": 161,
    "start_time": "2023-01-10T06:53:53.945Z"
   },
   {
    "duration": 161,
    "start_time": "2023-01-10T06:54:05.562Z"
   },
   {
    "duration": 146,
    "start_time": "2023-01-10T06:54:12.792Z"
   },
   {
    "duration": 151,
    "start_time": "2023-01-10T06:54:19.188Z"
   },
   {
    "duration": 149,
    "start_time": "2023-01-10T06:58:29.520Z"
   },
   {
    "duration": 152,
    "start_time": "2023-01-10T06:58:48.711Z"
   },
   {
    "duration": 133,
    "start_time": "2023-01-10T07:00:29.831Z"
   },
   {
    "duration": 108,
    "start_time": "2023-01-10T07:00:51.013Z"
   },
   {
    "duration": 14,
    "start_time": "2023-01-10T07:06:58.143Z"
   },
   {
    "duration": 8,
    "start_time": "2023-01-10T07:07:00.554Z"
   },
   {
    "duration": 3827,
    "start_time": "2023-01-10T07:07:52.890Z"
   },
   {
    "duration": 4,
    "start_time": "2023-01-10T07:07:56.719Z"
   },
   {
    "duration": 5,
    "start_time": "2023-01-10T07:08:04.211Z"
   },
   {
    "duration": 13,
    "start_time": "2023-01-10T07:08:32.147Z"
   },
   {
    "duration": 3640,
    "start_time": "2023-01-10T07:09:11.075Z"
   },
   {
    "duration": 5,
    "start_time": "2023-01-10T07:09:14.717Z"
   },
   {
    "duration": 4,
    "start_time": "2023-01-10T07:09:17.170Z"
   },
   {
    "duration": 31384,
    "start_time": "2023-01-10T07:10:48.473Z"
   },
   {
    "duration": 4,
    "start_time": "2023-01-10T07:11:19.858Z"
   },
   {
    "duration": 7,
    "start_time": "2023-01-10T07:11:19.863Z"
   },
   {
    "duration": 9,
    "start_time": "2023-01-10T07:12:19.423Z"
   },
   {
    "duration": 5,
    "start_time": "2023-01-10T07:14:29.784Z"
   },
   {
    "duration": 29,
    "start_time": "2023-01-10T07:15:21.001Z"
   },
   {
    "duration": 1088,
    "start_time": "2023-01-10T07:27:00.540Z"
   },
   {
    "duration": 39,
    "start_time": "2023-01-10T07:27:01.630Z"
   },
   {
    "duration": 11,
    "start_time": "2023-01-10T07:27:01.671Z"
   },
   {
    "duration": 36,
    "start_time": "2023-01-10T07:27:01.684Z"
   },
   {
    "duration": 14,
    "start_time": "2023-01-10T07:27:01.722Z"
   },
   {
    "duration": 19,
    "start_time": "2023-01-10T07:27:01.737Z"
   },
   {
    "duration": 7,
    "start_time": "2023-01-10T07:27:01.758Z"
   },
   {
    "duration": 26,
    "start_time": "2023-01-10T07:27:01.767Z"
   },
   {
    "duration": 364,
    "start_time": "2023-01-10T07:27:01.794Z"
   },
   {
    "duration": 6,
    "start_time": "2023-01-10T07:27:02.161Z"
   },
   {
    "duration": 146,
    "start_time": "2023-01-10T07:27:02.168Z"
   },
   {
    "duration": 12,
    "start_time": "2023-01-10T07:27:02.315Z"
   },
   {
    "duration": 3,
    "start_time": "2023-01-10T07:27:02.329Z"
   },
   {
    "duration": 11,
    "start_time": "2023-01-10T07:27:02.334Z"
   },
   {
    "duration": 13,
    "start_time": "2023-01-10T07:27:02.347Z"
   },
   {
    "duration": 11,
    "start_time": "2023-01-10T07:27:02.362Z"
   },
   {
    "duration": 6,
    "start_time": "2023-01-10T07:27:02.375Z"
   },
   {
    "duration": 7,
    "start_time": "2023-01-10T07:27:02.412Z"
   },
   {
    "duration": 6,
    "start_time": "2023-01-10T07:27:02.421Z"
   },
   {
    "duration": 5,
    "start_time": "2023-01-10T07:27:02.429Z"
   },
   {
    "duration": 8,
    "start_time": "2023-01-10T07:27:02.435Z"
   },
   {
    "duration": 7,
    "start_time": "2023-01-10T07:27:02.445Z"
   },
   {
    "duration": 62,
    "start_time": "2023-01-10T07:27:02.454Z"
   },
   {
    "duration": 2889,
    "start_time": "2023-01-10T07:27:02.518Z"
   },
   {
    "duration": 145,
    "start_time": "2023-01-10T07:27:05.409Z"
   },
   {
    "duration": 4,
    "start_time": "2023-01-10T07:27:05.555Z"
   },
   {
    "duration": 11,
    "start_time": "2023-01-10T07:27:05.560Z"
   },
   {
    "duration": 5,
    "start_time": "2023-01-10T07:27:05.574Z"
   },
   {
    "duration": 8,
    "start_time": "2023-01-10T07:27:05.580Z"
   },
   {
    "duration": 1298,
    "start_time": "2023-01-10T09:08:11.456Z"
   },
   {
    "duration": 45,
    "start_time": "2023-01-10T09:08:12.756Z"
   },
   {
    "duration": 14,
    "start_time": "2023-01-10T09:08:12.803Z"
   },
   {
    "duration": 28,
    "start_time": "2023-01-10T09:08:12.819Z"
   },
   {
    "duration": 12,
    "start_time": "2023-01-10T09:08:12.849Z"
   },
   {
    "duration": 27,
    "start_time": "2023-01-10T09:08:12.864Z"
   },
   {
    "duration": 7,
    "start_time": "2023-01-10T09:08:12.913Z"
   },
   {
    "duration": 23,
    "start_time": "2023-01-10T09:08:12.922Z"
   },
   {
    "duration": 501,
    "start_time": "2023-01-10T09:08:12.947Z"
   },
   {
    "duration": 7,
    "start_time": "2023-01-10T09:08:13.451Z"
   },
   {
    "duration": 189,
    "start_time": "2023-01-10T09:08:13.460Z"
   },
   {
    "duration": 14,
    "start_time": "2023-01-10T09:08:13.650Z"
   },
   {
    "duration": 10,
    "start_time": "2023-01-10T09:08:13.667Z"
   },
   {
    "duration": 36,
    "start_time": "2023-01-10T09:08:13.679Z"
   },
   {
    "duration": 14,
    "start_time": "2023-01-10T09:08:13.717Z"
   },
   {
    "duration": 18,
    "start_time": "2023-01-10T09:08:13.733Z"
   },
   {
    "duration": 13,
    "start_time": "2023-01-10T09:08:13.753Z"
   },
   {
    "duration": 9,
    "start_time": "2023-01-10T09:08:13.768Z"
   },
   {
    "duration": 9,
    "start_time": "2023-01-10T09:08:13.779Z"
   },
   {
    "duration": 23,
    "start_time": "2023-01-10T09:08:13.790Z"
   },
   {
    "duration": 5,
    "start_time": "2023-01-10T09:08:13.816Z"
   },
   {
    "duration": 21,
    "start_time": "2023-01-10T09:08:13.823Z"
   },
   {
    "duration": 83,
    "start_time": "2023-01-10T09:08:13.847Z"
   },
   {
    "duration": 2444,
    "start_time": "2023-01-10T09:08:13.932Z"
   },
   {
    "duration": 4,
    "start_time": "2023-01-10T09:08:16.378Z"
   },
   {
    "duration": 21,
    "start_time": "2023-01-10T09:08:16.384Z"
   },
   {
    "duration": 25,
    "start_time": "2023-01-10T09:08:16.407Z"
   },
   {
    "duration": 26,
    "start_time": "2023-01-10T09:08:16.437Z"
   },
   {
    "duration": 227,
    "start_time": "2023-01-10T09:08:16.466Z"
   },
   {
    "duration": 1053,
    "start_time": "2023-01-10T09:33:18.661Z"
   },
   {
    "duration": 41,
    "start_time": "2023-01-10T09:33:19.716Z"
   },
   {
    "duration": 13,
    "start_time": "2023-01-10T09:33:19.759Z"
   },
   {
    "duration": 23,
    "start_time": "2023-01-10T09:33:19.774Z"
   },
   {
    "duration": 7,
    "start_time": "2023-01-10T09:33:19.799Z"
   },
   {
    "duration": 10,
    "start_time": "2023-01-10T09:33:19.812Z"
   },
   {
    "duration": 5,
    "start_time": "2023-01-10T09:33:19.823Z"
   },
   {
    "duration": 14,
    "start_time": "2023-01-10T09:33:19.830Z"
   },
   {
    "duration": 371,
    "start_time": "2023-01-10T09:33:19.845Z"
   },
   {
    "duration": 6,
    "start_time": "2023-01-10T09:33:20.219Z"
   },
   {
    "duration": 146,
    "start_time": "2023-01-10T09:33:20.226Z"
   },
   {
    "duration": 12,
    "start_time": "2023-01-10T09:33:20.373Z"
   },
   {
    "duration": 6,
    "start_time": "2023-01-10T09:33:20.387Z"
   },
   {
    "duration": 28,
    "start_time": "2023-01-10T09:33:20.394Z"
   },
   {
    "duration": 9,
    "start_time": "2023-01-10T09:33:20.423Z"
   },
   {
    "duration": 15,
    "start_time": "2023-01-10T09:33:20.434Z"
   },
   {
    "duration": 13,
    "start_time": "2023-01-10T09:33:20.451Z"
   },
   {
    "duration": 23,
    "start_time": "2023-01-10T09:33:20.465Z"
   },
   {
    "duration": 8,
    "start_time": "2023-01-10T09:33:20.490Z"
   },
   {
    "duration": 5,
    "start_time": "2023-01-10T09:33:20.499Z"
   },
   {
    "duration": 7,
    "start_time": "2023-01-10T09:33:20.505Z"
   },
   {
    "duration": 8,
    "start_time": "2023-01-10T09:33:20.514Z"
   },
   {
    "duration": 47,
    "start_time": "2023-01-10T09:33:20.524Z"
   },
   {
    "duration": 2250,
    "start_time": "2023-01-10T09:33:20.573Z"
   },
   {
    "duration": 4,
    "start_time": "2023-01-10T09:33:22.824Z"
   },
   {
    "duration": 7,
    "start_time": "2023-01-10T09:33:22.830Z"
   },
   {
    "duration": 4,
    "start_time": "2023-01-10T09:33:22.839Z"
   },
   {
    "duration": 8,
    "start_time": "2023-01-10T09:33:22.846Z"
   },
   {
    "duration": 161,
    "start_time": "2023-01-10T09:33:22.855Z"
   },
   {
    "duration": 1069,
    "start_time": "2023-01-10T09:46:03.743Z"
   },
   {
    "duration": 41,
    "start_time": "2023-01-10T09:46:04.813Z"
   },
   {
    "duration": 14,
    "start_time": "2023-01-10T09:46:04.856Z"
   },
   {
    "duration": 25,
    "start_time": "2023-01-10T09:46:04.872Z"
   },
   {
    "duration": 6,
    "start_time": "2023-01-10T09:46:04.899Z"
   },
   {
    "duration": 11,
    "start_time": "2023-01-10T09:46:04.906Z"
   },
   {
    "duration": 4,
    "start_time": "2023-01-10T09:46:04.919Z"
   },
   {
    "duration": 18,
    "start_time": "2023-01-10T09:46:04.924Z"
   },
   {
    "duration": 470,
    "start_time": "2023-01-10T09:46:04.944Z"
   },
   {
    "duration": 6,
    "start_time": "2023-01-10T09:46:05.416Z"
   },
   {
    "duration": 146,
    "start_time": "2023-01-10T09:46:05.423Z"
   },
   {
    "duration": 12,
    "start_time": "2023-01-10T09:46:05.570Z"
   },
   {
    "duration": 12,
    "start_time": "2023-01-10T09:46:05.583Z"
   },
   {
    "duration": 32,
    "start_time": "2023-01-10T09:46:05.597Z"
   },
   {
    "duration": 12,
    "start_time": "2023-01-10T09:46:05.631Z"
   },
   {
    "duration": 23,
    "start_time": "2023-01-10T09:46:05.645Z"
   },
   {
    "duration": 10,
    "start_time": "2023-01-10T09:46:05.670Z"
   },
   {
    "duration": 13,
    "start_time": "2023-01-10T09:46:05.682Z"
   },
   {
    "duration": 11,
    "start_time": "2023-01-10T09:46:05.696Z"
   },
   {
    "duration": 6,
    "start_time": "2023-01-10T09:46:05.709Z"
   },
   {
    "duration": 9,
    "start_time": "2023-01-10T09:46:05.716Z"
   },
   {
    "duration": 9,
    "start_time": "2023-01-10T09:46:05.727Z"
   },
   {
    "duration": 45,
    "start_time": "2023-01-10T09:46:05.738Z"
   },
   {
    "duration": 2331,
    "start_time": "2023-01-10T09:46:05.784Z"
   },
   {
    "duration": 3,
    "start_time": "2023-01-10T09:46:08.117Z"
   },
   {
    "duration": 11,
    "start_time": "2023-01-10T09:46:08.122Z"
   },
   {
    "duration": 8,
    "start_time": "2023-01-10T09:46:08.135Z"
   },
   {
    "duration": 14,
    "start_time": "2023-01-10T09:46:08.147Z"
   },
   {
    "duration": 163,
    "start_time": "2023-01-10T09:46:08.163Z"
   },
   {
    "duration": 24878,
    "start_time": "2023-01-10T09:46:08.328Z"
   },
   {
    "duration": 6,
    "start_time": "2023-01-10T09:46:33.207Z"
   },
   {
    "duration": 1041,
    "start_time": "2023-01-10T09:55:03.366Z"
   },
   {
    "duration": 42,
    "start_time": "2023-01-10T09:55:04.409Z"
   },
   {
    "duration": 14,
    "start_time": "2023-01-10T09:55:04.453Z"
   },
   {
    "duration": 28,
    "start_time": "2023-01-10T09:55:04.469Z"
   },
   {
    "duration": 8,
    "start_time": "2023-01-10T09:55:04.498Z"
   },
   {
    "duration": 13,
    "start_time": "2023-01-10T09:55:04.508Z"
   },
   {
    "duration": 4,
    "start_time": "2023-01-10T09:55:04.523Z"
   },
   {
    "duration": 16,
    "start_time": "2023-01-10T09:55:04.529Z"
   },
   {
    "duration": 402,
    "start_time": "2023-01-10T09:55:04.546Z"
   },
   {
    "duration": 6,
    "start_time": "2023-01-10T09:55:04.951Z"
   },
   {
    "duration": 154,
    "start_time": "2023-01-10T09:55:04.958Z"
   },
   {
    "duration": 12,
    "start_time": "2023-01-10T09:55:05.114Z"
   },
   {
    "duration": 8,
    "start_time": "2023-01-10T09:55:05.128Z"
   },
   {
    "duration": 17,
    "start_time": "2023-01-10T09:55:05.138Z"
   },
   {
    "duration": 11,
    "start_time": "2023-01-10T09:55:05.156Z"
   },
   {
    "duration": 11,
    "start_time": "2023-01-10T09:55:05.169Z"
   },
   {
    "duration": 33,
    "start_time": "2023-01-10T09:55:05.182Z"
   },
   {
    "duration": 7,
    "start_time": "2023-01-10T09:55:05.217Z"
   },
   {
    "duration": 8,
    "start_time": "2023-01-10T09:55:05.227Z"
   },
   {
    "duration": 5,
    "start_time": "2023-01-10T09:55:05.236Z"
   },
   {
    "duration": 19,
    "start_time": "2023-01-10T09:55:05.243Z"
   },
   {
    "duration": 15,
    "start_time": "2023-01-10T09:55:05.264Z"
   },
   {
    "duration": 54,
    "start_time": "2023-01-10T09:55:05.280Z"
   },
   {
    "duration": 2430,
    "start_time": "2023-01-10T09:55:05.336Z"
   },
   {
    "duration": 3,
    "start_time": "2023-01-10T09:55:07.768Z"
   },
   {
    "duration": 6,
    "start_time": "2023-01-10T09:55:07.773Z"
   },
   {
    "duration": 8,
    "start_time": "2023-01-10T09:55:07.781Z"
   },
   {
    "duration": 21,
    "start_time": "2023-01-10T09:55:07.792Z"
   },
   {
    "duration": 156,
    "start_time": "2023-01-10T09:55:07.814Z"
   },
   {
    "duration": 25827,
    "start_time": "2023-01-10T09:55:07.972Z"
   },
   {
    "duration": 4,
    "start_time": "2023-01-10T09:55:33.801Z"
   },
   {
    "duration": 9,
    "start_time": "2023-01-10T09:55:33.806Z"
   },
   {
    "duration": 7,
    "start_time": "2023-01-10T09:55:33.817Z"
   },
   {
    "duration": 3533,
    "start_time": "2023-01-10T09:55:33.826Z"
   },
   {
    "duration": 168,
    "start_time": "2023-01-10T09:55:37.361Z"
   },
   {
    "duration": 4,
    "start_time": "2023-01-10T09:55:37.531Z"
   },
   {
    "duration": 6,
    "start_time": "2023-01-10T09:55:37.537Z"
   },
   {
    "duration": 7,
    "start_time": "2023-01-10T09:55:37.545Z"
   },
   {
    "duration": 7,
    "start_time": "2023-01-10T09:55:37.553Z"
   },
   {
    "duration": 26203,
    "start_time": "2023-01-10T09:57:57.912Z"
   },
   {
    "duration": 4,
    "start_time": "2023-01-10T09:58:24.117Z"
   },
   {
    "duration": 22,
    "start_time": "2023-01-10T09:58:24.123Z"
   },
   {
    "duration": 15,
    "start_time": "2023-01-10T09:58:24.148Z"
   },
   {
    "duration": 4,
    "start_time": "2023-01-10T09:59:41.448Z"
   },
   {
    "duration": 4,
    "start_time": "2023-01-10T09:59:42.422Z"
   },
   {
    "duration": 5,
    "start_time": "2023-01-10T09:59:43.967Z"
   },
   {
    "duration": 26422,
    "start_time": "2023-01-10T10:00:17.247Z"
   },
   {
    "duration": 5,
    "start_time": "2023-01-10T10:00:43.670Z"
   },
   {
    "duration": 20,
    "start_time": "2023-01-10T10:00:43.677Z"
   },
   {
    "duration": 29,
    "start_time": "2023-01-10T10:00:43.698Z"
   },
   {
    "duration": 28513,
    "start_time": "2023-01-10T10:09:47.165Z"
   },
   {
    "duration": 27469,
    "start_time": "2023-01-10T10:10:49.323Z"
   },
   {
    "duration": 4,
    "start_time": "2023-01-10T10:11:16.794Z"
   },
   {
    "duration": 15,
    "start_time": "2023-01-10T10:11:16.800Z"
   },
   {
    "duration": 9,
    "start_time": "2023-01-10T10:11:16.817Z"
   },
   {
    "duration": 84597,
    "start_time": "2023-01-10T10:13:46.828Z"
   },
   {
    "duration": 4,
    "start_time": "2023-01-10T10:15:11.427Z"
   },
   {
    "duration": 15,
    "start_time": "2023-01-10T10:15:11.433Z"
   },
   {
    "duration": 8,
    "start_time": "2023-01-10T10:15:11.450Z"
   },
   {
    "duration": 52,
    "start_time": "2023-01-10T10:17:50.870Z"
   },
   {
    "duration": 27889,
    "start_time": "2023-01-10T10:18:01.976Z"
   },
   {
    "duration": 4,
    "start_time": "2023-01-10T10:18:29.867Z"
   },
   {
    "duration": 7,
    "start_time": "2023-01-10T10:18:29.872Z"
   },
   {
    "duration": 30517,
    "start_time": "2023-01-10T10:20:12.761Z"
   },
   {
    "duration": 5,
    "start_time": "2023-01-10T10:20:43.281Z"
   },
   {
    "duration": 15,
    "start_time": "2023-01-10T10:20:43.288Z"
   },
   {
    "duration": 1184,
    "start_time": "2023-01-10T10:20:54.551Z"
   },
   {
    "duration": 42,
    "start_time": "2023-01-10T10:20:55.737Z"
   },
   {
    "duration": 15,
    "start_time": "2023-01-10T10:20:55.781Z"
   },
   {
    "duration": 25,
    "start_time": "2023-01-10T10:20:55.798Z"
   },
   {
    "duration": 8,
    "start_time": "2023-01-10T10:20:55.825Z"
   },
   {
    "duration": 14,
    "start_time": "2023-01-10T10:20:55.835Z"
   },
   {
    "duration": 5,
    "start_time": "2023-01-10T10:20:55.852Z"
   },
   {
    "duration": 14,
    "start_time": "2023-01-10T10:20:55.859Z"
   },
   {
    "duration": 435,
    "start_time": "2023-01-10T10:20:55.875Z"
   },
   {
    "duration": 7,
    "start_time": "2023-01-10T10:20:56.312Z"
   },
   {
    "duration": 157,
    "start_time": "2023-01-10T10:20:56.321Z"
   },
   {
    "duration": 14,
    "start_time": "2023-01-10T10:20:56.480Z"
   },
   {
    "duration": 18,
    "start_time": "2023-01-10T10:20:56.495Z"
   },
   {
    "duration": 16,
    "start_time": "2023-01-10T10:20:56.515Z"
   },
   {
    "duration": 11,
    "start_time": "2023-01-10T10:20:56.533Z"
   },
   {
    "duration": 20,
    "start_time": "2023-01-10T10:20:56.546Z"
   },
   {
    "duration": 10,
    "start_time": "2023-01-10T10:20:56.569Z"
   },
   {
    "duration": 31,
    "start_time": "2023-01-10T10:20:56.581Z"
   },
   {
    "duration": 14,
    "start_time": "2023-01-10T10:20:56.615Z"
   },
   {
    "duration": 5,
    "start_time": "2023-01-10T10:20:56.632Z"
   },
   {
    "duration": 24,
    "start_time": "2023-01-10T10:20:56.640Z"
   },
   {
    "duration": 15,
    "start_time": "2023-01-10T10:20:56.666Z"
   },
   {
    "duration": 64,
    "start_time": "2023-01-10T10:20:56.683Z"
   },
   {
    "duration": 2392,
    "start_time": "2023-01-10T10:20:56.750Z"
   },
   {
    "duration": 4,
    "start_time": "2023-01-10T10:20:59.144Z"
   },
   {
    "duration": 15,
    "start_time": "2023-01-10T10:20:59.149Z"
   },
   {
    "duration": 21,
    "start_time": "2023-01-10T10:20:59.165Z"
   },
   {
    "duration": 29,
    "start_time": "2023-01-10T10:20:59.189Z"
   },
   {
    "duration": 178,
    "start_time": "2023-01-10T10:20:59.219Z"
   },
   {
    "duration": 82591,
    "start_time": "2023-01-10T10:20:59.399Z"
   },
   {
    "duration": 4,
    "start_time": "2023-01-10T10:22:21.992Z"
   },
   {
    "duration": 32,
    "start_time": "2023-01-10T10:22:21.998Z"
   },
   {
    "duration": 18,
    "start_time": "2023-01-10T10:22:22.032Z"
   },
   {
    "duration": 29877,
    "start_time": "2023-01-10T10:22:22.052Z"
   },
   {
    "duration": 4,
    "start_time": "2023-01-10T10:22:51.930Z"
   },
   {
    "duration": 7,
    "start_time": "2023-01-10T10:22:51.935Z"
   },
   {
    "duration": 3453,
    "start_time": "2023-01-10T10:22:51.943Z"
   },
   {
    "duration": 187,
    "start_time": "2023-01-10T10:22:55.397Z"
   },
   {
    "duration": 5,
    "start_time": "2023-01-10T10:22:55.586Z"
   },
   {
    "duration": 7,
    "start_time": "2023-01-10T10:22:55.593Z"
   },
   {
    "duration": 4,
    "start_time": "2023-01-10T10:22:55.613Z"
   },
   {
    "duration": 9,
    "start_time": "2023-01-10T10:22:55.619Z"
   },
   {
    "duration": 1120,
    "start_time": "2023-01-10T10:39:50.313Z"
   },
   {
    "duration": 40,
    "start_time": "2023-01-10T10:39:51.435Z"
   },
   {
    "duration": 12,
    "start_time": "2023-01-10T10:39:51.477Z"
   },
   {
    "duration": 25,
    "start_time": "2023-01-10T10:39:51.492Z"
   },
   {
    "duration": 8,
    "start_time": "2023-01-10T10:39:51.518Z"
   },
   {
    "duration": 12,
    "start_time": "2023-01-10T10:39:51.528Z"
   },
   {
    "duration": 5,
    "start_time": "2023-01-10T10:39:51.542Z"
   },
   {
    "duration": 18,
    "start_time": "2023-01-10T10:39:51.549Z"
   },
   {
    "duration": 394,
    "start_time": "2023-01-10T10:39:51.569Z"
   },
   {
    "duration": 7,
    "start_time": "2023-01-10T10:39:51.967Z"
   },
   {
    "duration": 152,
    "start_time": "2023-01-10T10:39:51.975Z"
   },
   {
    "duration": 12,
    "start_time": "2023-01-10T10:39:52.129Z"
   },
   {
    "duration": 4,
    "start_time": "2023-01-10T10:39:52.143Z"
   },
   {
    "duration": 18,
    "start_time": "2023-01-10T10:39:52.149Z"
   },
   {
    "duration": 11,
    "start_time": "2023-01-10T10:39:52.168Z"
   },
   {
    "duration": 38,
    "start_time": "2023-01-10T10:39:52.181Z"
   },
   {
    "duration": 11,
    "start_time": "2023-01-10T10:39:52.221Z"
   },
   {
    "duration": 10,
    "start_time": "2023-01-10T10:39:52.234Z"
   },
   {
    "duration": 15,
    "start_time": "2023-01-10T10:39:52.246Z"
   },
   {
    "duration": 10,
    "start_time": "2023-01-10T10:39:52.263Z"
   },
   {
    "duration": 6,
    "start_time": "2023-01-10T10:39:52.274Z"
   },
   {
    "duration": 16,
    "start_time": "2023-01-10T10:39:52.281Z"
   },
   {
    "duration": 72,
    "start_time": "2023-01-10T10:39:52.298Z"
   },
   {
    "duration": 2405,
    "start_time": "2023-01-10T10:39:52.372Z"
   },
   {
    "duration": 4,
    "start_time": "2023-01-10T10:39:54.779Z"
   },
   {
    "duration": 11,
    "start_time": "2023-01-10T10:39:54.785Z"
   },
   {
    "duration": 15,
    "start_time": "2023-01-10T10:39:54.798Z"
   },
   {
    "duration": 5,
    "start_time": "2023-01-10T10:39:54.819Z"
   },
   {
    "duration": 209,
    "start_time": "2023-01-10T10:39:54.825Z"
   },
   {
    "duration": 82850,
    "start_time": "2023-01-10T10:39:55.036Z"
   },
   {
    "duration": 4,
    "start_time": "2023-01-10T10:41:17.889Z"
   },
   {
    "duration": 12,
    "start_time": "2023-01-10T10:41:17.895Z"
   },
   {
    "duration": 12,
    "start_time": "2023-01-10T10:41:17.913Z"
   },
   {
    "duration": 833,
    "start_time": "2023-01-10T10:41:47.200Z"
   },
   {
    "duration": 0,
    "start_time": "2023-01-10T10:41:48.035Z"
   },
   {
    "duration": 0,
    "start_time": "2023-01-10T10:41:48.037Z"
   },
   {
    "duration": 0,
    "start_time": "2023-01-10T10:41:48.038Z"
   },
   {
    "duration": 0,
    "start_time": "2023-01-10T10:41:48.040Z"
   },
   {
    "duration": 0,
    "start_time": "2023-01-10T10:41:48.041Z"
   },
   {
    "duration": 0,
    "start_time": "2023-01-10T10:41:48.043Z"
   },
   {
    "duration": 0,
    "start_time": "2023-01-10T10:41:48.044Z"
   },
   {
    "duration": 0,
    "start_time": "2023-01-10T10:41:48.046Z"
   },
   {
    "duration": 0,
    "start_time": "2023-01-10T10:41:48.047Z"
   },
   {
    "duration": 0,
    "start_time": "2023-01-10T10:41:48.048Z"
   },
   {
    "duration": 0,
    "start_time": "2023-01-10T10:41:48.050Z"
   },
   {
    "duration": 0,
    "start_time": "2023-01-10T10:41:48.052Z"
   },
   {
    "duration": 0,
    "start_time": "2023-01-10T10:41:48.054Z"
   },
   {
    "duration": 85419,
    "start_time": "2023-01-10T10:42:31.754Z"
   },
   {
    "duration": 3,
    "start_time": "2023-01-10T10:43:57.175Z"
   },
   {
    "duration": 9,
    "start_time": "2023-01-10T10:43:57.180Z"
   },
   {
    "duration": 5,
    "start_time": "2023-01-10T10:43:57.191Z"
   },
   {
    "duration": 28364,
    "start_time": "2023-01-10T10:45:53.574Z"
   },
   {
    "duration": 4,
    "start_time": "2023-01-10T10:46:21.940Z"
   },
   {
    "duration": 28,
    "start_time": "2023-01-10T10:46:21.945Z"
   },
   {
    "duration": 88844,
    "start_time": "2023-01-10T10:50:25.316Z"
   },
   {
    "duration": 4,
    "start_time": "2023-01-10T10:51:54.163Z"
   },
   {
    "duration": 18,
    "start_time": "2023-01-10T10:51:54.170Z"
   },
   {
    "duration": 8,
    "start_time": "2023-01-10T10:51:54.191Z"
   },
   {
    "duration": 23,
    "start_time": "2023-01-10T10:51:54.201Z"
   },
   {
    "duration": 3171,
    "start_time": "2023-01-10T10:52:04.088Z"
   },
   {
    "duration": 2315,
    "start_time": "2023-01-10T10:52:40.762Z"
   },
   {
    "duration": 42,
    "start_time": "2023-01-10T10:53:42.688Z"
   },
   {
    "duration": 13,
    "start_time": "2023-01-10T10:53:55.432Z"
   },
   {
    "duration": 265,
    "start_time": "2023-01-10T11:00:10.376Z"
   },
   {
    "duration": 77,
    "start_time": "2023-01-10T11:01:16.615Z"
   },
   {
    "duration": 14,
    "start_time": "2023-01-10T11:01:30.394Z"
   },
   {
    "duration": 148,
    "start_time": "2023-01-10T11:02:48.667Z"
   },
   {
    "duration": 172,
    "start_time": "2023-01-10T11:06:03.772Z"
   },
   {
    "duration": 176,
    "start_time": "2023-01-10T11:07:42.268Z"
   },
   {
    "duration": 49,
    "start_time": "2023-01-10T11:09:09.235Z"
   },
   {
    "duration": 155,
    "start_time": "2023-01-10T11:09:24.572Z"
   },
   {
    "duration": 2742,
    "start_time": "2023-01-10T11:11:03.038Z"
   },
   {
    "duration": 2267,
    "start_time": "2023-01-10T11:11:24.946Z"
   },
   {
    "duration": 57,
    "start_time": "2023-01-10T11:11:52.812Z"
   },
   {
    "duration": 51,
    "start_time": "2023-01-10T11:12:03.335Z"
   },
   {
    "duration": 49,
    "start_time": "2023-01-10T11:12:34.557Z"
   },
   {
    "duration": 94,
    "start_time": "2023-01-10T11:13:17.862Z"
   },
   {
    "duration": 57,
    "start_time": "2023-01-10T11:14:02.787Z"
   },
   {
    "duration": 57,
    "start_time": "2023-01-10T11:14:13.754Z"
   },
   {
    "duration": 48,
    "start_time": "2023-01-10T11:14:37.255Z"
   },
   {
    "duration": 50,
    "start_time": "2023-01-10T11:14:52.621Z"
   },
   {
    "duration": 47,
    "start_time": "2023-01-10T11:15:53.259Z"
   },
   {
    "duration": 68,
    "start_time": "2023-01-10T11:16:26.647Z"
   },
   {
    "duration": 171,
    "start_time": "2023-01-10T11:16:38.077Z"
   },
   {
    "duration": 134,
    "start_time": "2023-01-10T11:17:39.661Z"
   },
   {
    "duration": 49,
    "start_time": "2023-01-10T11:19:28.736Z"
   },
   {
    "duration": 213,
    "start_time": "2023-01-10T11:19:35.808Z"
   },
   {
    "duration": 210,
    "start_time": "2023-01-10T11:20:03.273Z"
   },
   {
    "duration": 112,
    "start_time": "2023-01-10T11:21:53.156Z"
   },
   {
    "duration": 842,
    "start_time": "2023-01-10T11:22:06.837Z"
   },
   {
    "duration": 801,
    "start_time": "2023-01-10T11:22:47.689Z"
   },
   {
    "duration": 11,
    "start_time": "2023-01-10T11:23:25.033Z"
   },
   {
    "duration": 15,
    "start_time": "2023-01-10T11:25:10.780Z"
   },
   {
    "duration": 11,
    "start_time": "2023-01-10T11:25:21.649Z"
   },
   {
    "duration": 85944,
    "start_time": "2023-01-10T11:25:50.898Z"
   },
   {
    "duration": 3,
    "start_time": "2023-01-10T11:27:16.844Z"
   },
   {
    "duration": 7,
    "start_time": "2023-01-10T11:27:16.849Z"
   },
   {
    "duration": 7,
    "start_time": "2023-01-10T11:27:16.858Z"
   },
   {
    "duration": 17,
    "start_time": "2023-01-10T11:27:16.867Z"
   },
   {
    "duration": 12,
    "start_time": "2023-01-10T11:27:46.755Z"
   },
   {
    "duration": 11,
    "start_time": "2023-01-10T11:28:06.389Z"
   },
   {
    "duration": 12,
    "start_time": "2023-01-10T11:28:19.634Z"
   },
   {
    "duration": 177,
    "start_time": "2023-01-10T11:29:54.232Z"
   },
   {
    "duration": 280,
    "start_time": "2023-01-10T11:30:47.712Z"
   },
   {
    "duration": 2101,
    "start_time": "2023-01-10T11:32:00.026Z"
   },
   {
    "duration": 2156,
    "start_time": "2023-01-10T11:32:37.912Z"
   },
   {
    "duration": 2246,
    "start_time": "2023-01-10T11:34:01.721Z"
   },
   {
    "duration": 16076,
    "start_time": "2023-01-10T11:39:54.039Z"
   },
   {
    "duration": 53,
    "start_time": "2023-01-10T11:43:33.065Z"
   },
   {
    "duration": 46,
    "start_time": "2023-01-10T11:43:44.522Z"
   },
   {
    "duration": 64,
    "start_time": "2023-01-10T11:45:47.696Z"
   },
   {
    "duration": 57,
    "start_time": "2023-01-10T11:46:50.406Z"
   },
   {
    "duration": 63,
    "start_time": "2023-01-10T11:46:58.237Z"
   },
   {
    "duration": 46,
    "start_time": "2023-01-10T11:47:27.316Z"
   },
   {
    "duration": 50,
    "start_time": "2023-01-10T11:48:13.202Z"
   },
   {
    "duration": 48,
    "start_time": "2023-01-10T11:48:31.731Z"
   },
   {
    "duration": 2979,
    "start_time": "2023-01-10T11:50:02.747Z"
   },
   {
    "duration": 2286,
    "start_time": "2023-01-10T11:51:02.907Z"
   },
   {
    "duration": 2038,
    "start_time": "2023-01-10T11:51:51.503Z"
   },
   {
    "duration": 2332,
    "start_time": "2023-01-10T11:52:15.580Z"
   },
   {
    "duration": 2228,
    "start_time": "2023-01-10T11:52:49.023Z"
   },
   {
    "duration": 3264,
    "start_time": "2023-01-10T11:53:38.604Z"
   },
   {
    "duration": 107,
    "start_time": "2023-01-10T11:54:11.155Z"
   },
   {
    "duration": 89092,
    "start_time": "2023-01-10T12:00:37.935Z"
   },
   {
    "duration": 29682,
    "start_time": "2023-01-10T12:02:07.029Z"
   },
   {
    "duration": 5,
    "start_time": "2023-01-10T12:02:36.714Z"
   },
   {
    "duration": 14,
    "start_time": "2023-01-10T12:02:36.722Z"
   },
   {
    "duration": 204,
    "start_time": "2023-01-10T12:02:36.738Z"
   },
   {
    "duration": 173,
    "start_time": "2023-01-10T12:03:15.844Z"
   },
   {
    "duration": 88959,
    "start_time": "2023-01-10T12:05:44.732Z"
   },
   {
    "duration": 4,
    "start_time": "2023-01-10T12:07:13.693Z"
   },
   {
    "duration": 14,
    "start_time": "2023-01-10T12:07:13.699Z"
   },
   {
    "duration": 5,
    "start_time": "2023-01-10T12:07:13.714Z"
   },
   {
    "duration": 185,
    "start_time": "2023-01-10T12:07:13.720Z"
   },
   {
    "duration": 162,
    "start_time": "2023-01-10T12:07:29.002Z"
   },
   {
    "duration": 197,
    "start_time": "2023-01-10T12:08:59.196Z"
   },
   {
    "duration": 333,
    "start_time": "2023-01-10T12:09:42.288Z"
   },
   {
    "duration": 2521,
    "start_time": "2023-01-10T12:11:14.146Z"
   },
   {
    "duration": 2404,
    "start_time": "2023-01-10T12:12:23.046Z"
   },
   {
    "duration": 48,
    "start_time": "2023-01-10T12:15:23.450Z"
   },
   {
    "duration": 67,
    "start_time": "2023-01-10T12:16:17.940Z"
   },
   {
    "duration": 66,
    "start_time": "2023-01-10T12:16:50.897Z"
   },
   {
    "duration": 119,
    "start_time": "2023-01-10T12:17:26.885Z"
   },
   {
    "duration": 46,
    "start_time": "2023-01-10T12:17:28.976Z"
   },
   {
    "duration": 380,
    "start_time": "2023-01-10T12:17:46.105Z"
   },
   {
    "duration": 204,
    "start_time": "2023-01-10T12:18:43.965Z"
   },
   {
    "duration": 51,
    "start_time": "2023-01-10T12:19:50.951Z"
   },
   {
    "duration": 78,
    "start_time": "2023-01-10T12:19:58.165Z"
   },
   {
    "duration": 88,
    "start_time": "2023-01-10T12:20:00.778Z"
   },
   {
    "duration": 98,
    "start_time": "2023-01-10T12:20:18.440Z"
   },
   {
    "duration": 221,
    "start_time": "2023-01-10T12:20:36.237Z"
   },
   {
    "duration": 183,
    "start_time": "2023-01-10T12:20:47.960Z"
   },
   {
    "duration": 191,
    "start_time": "2023-01-10T12:21:22.490Z"
   },
   {
    "duration": 58,
    "start_time": "2023-01-10T12:21:53.339Z"
   },
   {
    "duration": 204,
    "start_time": "2023-01-10T12:22:17.266Z"
   },
   {
    "duration": 195,
    "start_time": "2023-01-10T12:22:27.896Z"
   },
   {
    "duration": 123,
    "start_time": "2023-01-10T12:30:43.951Z"
   },
   {
    "duration": 62,
    "start_time": "2023-01-10T12:30:56.923Z"
   },
   {
    "duration": 40,
    "start_time": "2023-01-10T12:31:29.140Z"
   },
   {
    "duration": 15,
    "start_time": "2023-01-10T12:31:50.169Z"
   },
   {
    "duration": 851,
    "start_time": "2023-01-10T12:32:32.461Z"
   },
   {
    "duration": 895,
    "start_time": "2023-01-10T12:32:49.374Z"
   },
   {
    "duration": 163,
    "start_time": "2023-01-10T12:33:05.575Z"
   },
   {
    "duration": 60,
    "start_time": "2023-01-10T12:35:18.192Z"
   },
   {
    "duration": 72,
    "start_time": "2023-01-10T12:37:23.604Z"
   },
   {
    "duration": 188,
    "start_time": "2023-01-10T12:37:40.121Z"
   },
   {
    "duration": 207,
    "start_time": "2023-01-10T12:37:56.139Z"
   },
   {
    "duration": 11888,
    "start_time": "2023-01-10T13:00:18.436Z"
   },
   {
    "duration": 4,
    "start_time": "2023-01-10T13:00:30.326Z"
   },
   {
    "duration": 13,
    "start_time": "2023-01-10T13:00:30.332Z"
   },
   {
    "duration": 11,
    "start_time": "2023-01-10T13:04:01.201Z"
   },
   {
    "duration": 6,
    "start_time": "2023-01-10T13:04:14.158Z"
   },
   {
    "duration": 9,
    "start_time": "2023-01-10T13:05:05.924Z"
   },
   {
    "duration": 10,
    "start_time": "2023-01-10T13:05:27.068Z"
   },
   {
    "duration": 32,
    "start_time": "2023-01-10T13:05:42.921Z"
   },
   {
    "duration": 3,
    "start_time": "2023-01-10T13:07:12.653Z"
   },
   {
    "duration": 3500,
    "start_time": "2023-01-10T13:11:23.281Z"
   },
   {
    "duration": 181,
    "start_time": "2023-01-10T13:11:26.784Z"
   },
   {
    "duration": 5,
    "start_time": "2023-01-10T13:11:27.467Z"
   },
   {
    "duration": 3526,
    "start_time": "2023-01-10T13:12:21.755Z"
   },
   {
    "duration": 72,
    "start_time": "2023-01-10T13:14:47.710Z"
   },
   {
    "duration": 26,
    "start_time": "2023-01-10T13:15:32.273Z"
   },
   {
    "duration": 4,
    "start_time": "2023-01-10T13:15:34.250Z"
   },
   {
    "duration": 26,
    "start_time": "2023-01-10T13:16:36.753Z"
   },
   {
    "duration": 5,
    "start_time": "2023-01-10T13:16:38.423Z"
   },
   {
    "duration": 35,
    "start_time": "2023-01-10T13:17:17.973Z"
   },
   {
    "duration": 35,
    "start_time": "2023-01-10T13:17:32.040Z"
   },
   {
    "duration": 5,
    "start_time": "2023-01-10T13:17:33.752Z"
   },
   {
    "duration": 477,
    "start_time": "2023-01-10T13:22:44.989Z"
   },
   {
    "duration": 4,
    "start_time": "2023-01-10T13:22:59.154Z"
   },
   {
    "duration": 10,
    "start_time": "2023-01-10T13:27:31.990Z"
   },
   {
    "duration": 38,
    "start_time": "2023-01-10T13:27:47.455Z"
   },
   {
    "duration": 4,
    "start_time": "2023-01-10T13:27:48.174Z"
   },
   {
    "duration": 49,
    "start_time": "2023-01-10T13:34:28.144Z"
   },
   {
    "duration": 58,
    "start_time": "2023-01-10T13:35:18.811Z"
   },
   {
    "duration": 50,
    "start_time": "2023-01-10T13:35:52.393Z"
   },
   {
    "duration": 45,
    "start_time": "2023-01-10T13:36:12.121Z"
   },
   {
    "duration": 1139,
    "start_time": "2023-01-10T13:36:28.067Z"
   },
   {
    "duration": 42,
    "start_time": "2023-01-10T13:36:29.208Z"
   },
   {
    "duration": 13,
    "start_time": "2023-01-10T13:36:29.252Z"
   },
   {
    "duration": 26,
    "start_time": "2023-01-10T13:36:29.268Z"
   },
   {
    "duration": 9,
    "start_time": "2023-01-10T13:36:29.296Z"
   },
   {
    "duration": 11,
    "start_time": "2023-01-10T13:36:29.312Z"
   },
   {
    "duration": 5,
    "start_time": "2023-01-10T13:36:29.324Z"
   },
   {
    "duration": 25,
    "start_time": "2023-01-10T13:36:29.331Z"
   },
   {
    "duration": 439,
    "start_time": "2023-01-10T13:36:29.358Z"
   },
   {
    "duration": 16,
    "start_time": "2023-01-10T13:36:29.800Z"
   },
   {
    "duration": 148,
    "start_time": "2023-01-10T13:36:29.818Z"
   },
   {
    "duration": 15,
    "start_time": "2023-01-10T13:36:29.968Z"
   },
   {
    "duration": 5,
    "start_time": "2023-01-10T13:36:29.985Z"
   },
   {
    "duration": 35,
    "start_time": "2023-01-10T13:36:29.992Z"
   },
   {
    "duration": 20,
    "start_time": "2023-01-10T13:36:30.029Z"
   },
   {
    "duration": 28,
    "start_time": "2023-01-10T13:36:30.050Z"
   },
   {
    "duration": 9,
    "start_time": "2023-01-10T13:36:30.080Z"
   },
   {
    "duration": 14,
    "start_time": "2023-01-10T13:36:30.091Z"
   },
   {
    "duration": 9,
    "start_time": "2023-01-10T13:36:30.107Z"
   },
   {
    "duration": 21,
    "start_time": "2023-01-10T13:36:30.118Z"
   },
   {
    "duration": 23,
    "start_time": "2023-01-10T13:36:30.141Z"
   },
   {
    "duration": 22,
    "start_time": "2023-01-10T13:36:30.166Z"
   },
   {
    "duration": 58,
    "start_time": "2023-01-10T13:36:30.190Z"
   },
   {
    "duration": 2542,
    "start_time": "2023-01-10T13:36:30.250Z"
   },
   {
    "duration": 7,
    "start_time": "2023-01-10T13:36:32.794Z"
   },
   {
    "duration": 13,
    "start_time": "2023-01-10T13:36:32.804Z"
   },
   {
    "duration": 31,
    "start_time": "2023-01-10T13:36:32.820Z"
   },
   {
    "duration": 14,
    "start_time": "2023-01-10T13:36:32.856Z"
   },
   {
    "duration": 232,
    "start_time": "2023-01-10T13:36:32.872Z"
   },
   {
    "duration": 86611,
    "start_time": "2023-01-10T13:36:33.112Z"
   },
   {
    "duration": 4,
    "start_time": "2023-01-10T13:37:59.724Z"
   },
   {
    "duration": 18,
    "start_time": "2023-01-10T13:37:59.730Z"
   },
   {
    "duration": 13,
    "start_time": "2023-01-10T13:37:59.750Z"
   },
   {
    "duration": 207,
    "start_time": "2023-01-10T13:37:59.764Z"
   },
   {
    "duration": 28921,
    "start_time": "2023-01-10T13:37:59.972Z"
   },
   {
    "duration": 3,
    "start_time": "2023-01-10T13:38:28.895Z"
   },
   {
    "duration": 13,
    "start_time": "2023-01-10T13:38:28.900Z"
   },
   {
    "duration": 184,
    "start_time": "2023-01-10T13:38:28.915Z"
   },
   {
    "duration": 11317,
    "start_time": "2023-01-10T13:38:29.101Z"
   },
   {
    "duration": 4,
    "start_time": "2023-01-10T13:38:40.420Z"
   },
   {
    "duration": 11,
    "start_time": "2023-01-10T13:38:40.425Z"
   },
   {
    "duration": 9,
    "start_time": "2023-01-10T13:38:40.438Z"
   },
   {
    "duration": 32,
    "start_time": "2023-01-10T13:38:40.449Z"
   },
   {
    "duration": 4,
    "start_time": "2023-01-10T13:38:40.483Z"
   },
   {
    "duration": 466,
    "start_time": "2023-01-10T13:38:40.513Z"
   },
   {
    "duration": 3,
    "start_time": "2023-01-10T13:38:40.981Z"
   },
   {
    "duration": 53,
    "start_time": "2023-01-10T13:38:40.986Z"
   },
   {
    "duration": 0,
    "start_time": "2023-01-10T13:38:41.041Z"
   },
   {
    "duration": 0,
    "start_time": "2023-01-10T13:38:41.043Z"
   },
   {
    "duration": 49,
    "start_time": "2023-01-10T13:39:13.285Z"
   },
   {
    "duration": 52,
    "start_time": "2023-01-10T13:39:27.043Z"
   },
   {
    "duration": 63,
    "start_time": "2023-01-10T13:40:34.736Z"
   },
   {
    "duration": 82,
    "start_time": "2023-01-10T13:40:51.533Z"
   },
   {
    "duration": 4,
    "start_time": "2023-01-10T13:41:19.439Z"
   },
   {
    "duration": 290,
    "start_time": "2023-01-10T13:41:41.028Z"
   },
   {
    "duration": 4,
    "start_time": "2023-01-10T13:41:41.865Z"
   },
   {
    "duration": 35,
    "start_time": "2023-01-10T13:42:14.126Z"
   },
   {
    "duration": 4,
    "start_time": "2023-01-10T13:42:15.635Z"
   },
   {
    "duration": 76,
    "start_time": "2023-01-10T13:47:28.776Z"
   },
   {
    "duration": 129,
    "start_time": "2023-01-10T14:42:32.135Z"
   },
   {
    "duration": 50,
    "start_time": "2023-01-10T14:42:46.423Z"
   },
   {
    "duration": 1216,
    "start_time": "2023-01-10T14:43:04.587Z"
   },
   {
    "duration": 47,
    "start_time": "2023-01-10T14:43:05.805Z"
   },
   {
    "duration": 15,
    "start_time": "2023-01-10T14:43:05.855Z"
   },
   {
    "duration": 27,
    "start_time": "2023-01-10T14:43:05.872Z"
   },
   {
    "duration": 13,
    "start_time": "2023-01-10T14:43:05.900Z"
   },
   {
    "duration": 15,
    "start_time": "2023-01-10T14:43:05.915Z"
   },
   {
    "duration": 4,
    "start_time": "2023-01-10T14:43:05.932Z"
   },
   {
    "duration": 19,
    "start_time": "2023-01-10T14:43:05.938Z"
   },
   {
    "duration": 393,
    "start_time": "2023-01-10T14:43:05.959Z"
   },
   {
    "duration": 7,
    "start_time": "2023-01-10T14:43:06.354Z"
   },
   {
    "duration": 175,
    "start_time": "2023-01-10T14:43:06.363Z"
   },
   {
    "duration": 14,
    "start_time": "2023-01-10T14:43:06.540Z"
   },
   {
    "duration": 5,
    "start_time": "2023-01-10T14:43:06.555Z"
   },
   {
    "duration": 15,
    "start_time": "2023-01-10T14:43:06.561Z"
   },
   {
    "duration": 37,
    "start_time": "2023-01-10T14:43:06.578Z"
   },
   {
    "duration": 15,
    "start_time": "2023-01-10T14:43:06.617Z"
   },
   {
    "duration": 10,
    "start_time": "2023-01-10T14:43:06.634Z"
   },
   {
    "duration": 7,
    "start_time": "2023-01-10T14:43:06.645Z"
   },
   {
    "duration": 8,
    "start_time": "2023-01-10T14:43:06.653Z"
   },
   {
    "duration": 5,
    "start_time": "2023-01-10T14:43:06.663Z"
   },
   {
    "duration": 8,
    "start_time": "2023-01-10T14:43:06.670Z"
   },
   {
    "duration": 34,
    "start_time": "2023-01-10T14:43:06.680Z"
   },
   {
    "duration": 47,
    "start_time": "2023-01-10T14:43:06.715Z"
   },
   {
    "duration": 2562,
    "start_time": "2023-01-10T14:43:06.763Z"
   },
   {
    "duration": 5,
    "start_time": "2023-01-10T14:43:09.327Z"
   },
   {
    "duration": 15,
    "start_time": "2023-01-10T14:43:09.334Z"
   },
   {
    "duration": 9,
    "start_time": "2023-01-10T14:43:09.351Z"
   },
   {
    "duration": 6,
    "start_time": "2023-01-10T14:43:09.364Z"
   },
   {
    "duration": 227,
    "start_time": "2023-01-10T14:43:09.372Z"
   },
   {
    "duration": 86350,
    "start_time": "2023-01-10T14:43:09.601Z"
   },
   {
    "duration": 4,
    "start_time": "2023-01-10T14:44:35.953Z"
   },
   {
    "duration": 16,
    "start_time": "2023-01-10T14:44:35.959Z"
   },
   {
    "duration": 10,
    "start_time": "2023-01-10T14:44:35.977Z"
   },
   {
    "duration": 253,
    "start_time": "2023-01-10T14:44:35.989Z"
   },
   {
    "duration": 28699,
    "start_time": "2023-01-10T14:44:36.244Z"
   },
   {
    "duration": 4,
    "start_time": "2023-01-10T14:45:04.944Z"
   },
   {
    "duration": 8,
    "start_time": "2023-01-10T14:45:04.949Z"
   },
   {
    "duration": 187,
    "start_time": "2023-01-10T14:45:04.959Z"
   },
   {
    "duration": 10579,
    "start_time": "2023-01-10T14:45:05.147Z"
   },
   {
    "duration": 4,
    "start_time": "2023-01-10T14:45:15.813Z"
   },
   {
    "duration": 24,
    "start_time": "2023-01-10T14:45:15.819Z"
   },
   {
    "duration": 16,
    "start_time": "2023-01-10T14:45:15.845Z"
   },
   {
    "duration": 41,
    "start_time": "2023-01-10T14:45:15.863Z"
   },
   {
    "duration": 4,
    "start_time": "2023-01-10T14:45:15.906Z"
   },
   {
    "duration": 484,
    "start_time": "2023-01-10T14:45:15.911Z"
   },
   {
    "duration": 6,
    "start_time": "2023-01-10T14:45:16.396Z"
   },
   {
    "duration": 108,
    "start_time": "2023-01-10T14:45:16.404Z"
   },
   {
    "duration": 4,
    "start_time": "2023-01-10T14:45:16.514Z"
   },
   {
    "duration": 105,
    "start_time": "2023-01-10T14:45:16.520Z"
   },
   {
    "duration": 64,
    "start_time": "2023-01-10T14:45:16.627Z"
   },
   {
    "duration": 5,
    "start_time": "2023-01-10T14:45:16.694Z"
   },
   {
    "duration": 57,
    "start_time": "2023-01-10T14:53:40.818Z"
   },
   {
    "duration": 4,
    "start_time": "2023-01-10T14:53:51.970Z"
   },
   {
    "duration": 1224,
    "start_time": "2023-01-10T14:58:19.329Z"
   },
   {
    "duration": 5,
    "start_time": "2023-01-10T14:58:32.034Z"
   },
   {
    "duration": 20,
    "start_time": "2023-01-10T15:00:50.007Z"
   },
   {
    "duration": 57,
    "start_time": "2023-01-10T15:00:51.576Z"
   },
   {
    "duration": 4,
    "start_time": "2023-01-10T15:00:52.388Z"
   },
   {
    "duration": 1172,
    "start_time": "2023-01-10T15:00:53.509Z"
   },
   {
    "duration": 1226,
    "start_time": "2023-01-10T15:04:26.387Z"
   },
   {
    "duration": 52,
    "start_time": "2023-01-10T15:04:30.839Z"
   },
   {
    "duration": 4,
    "start_time": "2023-01-10T15:04:56.741Z"
   },
   {
    "duration": 14,
    "start_time": "2023-01-10T15:09:36.219Z"
   },
   {
    "duration": 56,
    "start_time": "2023-01-10T15:09:37.668Z"
   },
   {
    "duration": 5,
    "start_time": "2023-01-10T15:09:38.443Z"
   },
   {
    "duration": 1011,
    "start_time": "2023-01-10T15:09:39.614Z"
   },
   {
    "duration": 5,
    "start_time": "2023-01-10T15:09:40.627Z"
   },
   {
    "duration": 113,
    "start_time": "2023-01-10T15:09:41.502Z"
   },
   {
    "duration": 5,
    "start_time": "2023-01-10T15:09:41.994Z"
   },
   {
    "duration": 175,
    "start_time": "2023-01-10T15:09:56.120Z"
   },
   {
    "duration": 15,
    "start_time": "2023-01-10T15:10:12.590Z"
   },
   {
    "duration": 47,
    "start_time": "2023-01-10T15:10:14.002Z"
   },
   {
    "duration": 4,
    "start_time": "2023-01-10T15:10:14.760Z"
   },
   {
    "duration": 1304,
    "start_time": "2023-01-10T15:10:15.585Z"
   },
   {
    "duration": 7,
    "start_time": "2023-01-10T15:10:16.891Z"
   },
   {
    "duration": 82,
    "start_time": "2023-01-10T15:10:17.141Z"
   },
   {
    "duration": 5,
    "start_time": "2023-01-10T15:10:18.241Z"
   },
   {
    "duration": 20,
    "start_time": "2023-01-10T15:10:27.286Z"
   },
   {
    "duration": 65,
    "start_time": "2023-01-10T15:10:28.794Z"
   },
   {
    "duration": 4,
    "start_time": "2023-01-10T15:10:29.453Z"
   },
   {
    "duration": 1356,
    "start_time": "2023-01-10T15:10:30.695Z"
   },
   {
    "duration": 4,
    "start_time": "2023-01-10T15:10:32.053Z"
   },
   {
    "duration": 73,
    "start_time": "2023-01-10T15:10:32.252Z"
   },
   {
    "duration": 3,
    "start_time": "2023-01-10T15:10:32.719Z"
   },
   {
    "duration": 13,
    "start_time": "2023-01-10T15:10:38.928Z"
   },
   {
    "duration": 48,
    "start_time": "2023-01-10T15:10:40.026Z"
   },
   {
    "duration": 4,
    "start_time": "2023-01-10T15:10:40.413Z"
   },
   {
    "duration": 1164,
    "start_time": "2023-01-10T15:10:41.183Z"
   },
   {
    "duration": 5,
    "start_time": "2023-01-10T15:10:42.349Z"
   },
   {
    "duration": 49,
    "start_time": "2023-01-10T15:10:42.384Z"
   },
   {
    "duration": 5,
    "start_time": "2023-01-10T15:10:43.463Z"
   },
   {
    "duration": 12,
    "start_time": "2023-01-10T15:17:15.679Z"
   },
   {
    "duration": 30,
    "start_time": "2023-01-10T15:18:22.009Z"
   },
   {
    "duration": 5,
    "start_time": "2023-01-10T15:18:32.319Z"
   },
   {
    "duration": 16,
    "start_time": "2023-01-10T15:20:40.072Z"
   },
   {
    "duration": 14,
    "start_time": "2023-01-10T15:21:01.814Z"
   },
   {
    "duration": 27,
    "start_time": "2023-01-10T15:21:03.526Z"
   },
   {
    "duration": 4,
    "start_time": "2023-01-10T15:21:05.735Z"
   },
   {
    "duration": 375,
    "start_time": "2023-01-10T15:24:51.132Z"
   },
   {
    "duration": 4,
    "start_time": "2023-01-10T15:25:03.418Z"
   },
   {
    "duration": 10,
    "start_time": "2023-01-10T15:26:56.101Z"
   },
   {
    "duration": 122,
    "start_time": "2023-01-10T15:26:58.900Z"
   },
   {
    "duration": 4,
    "start_time": "2023-01-10T15:26:59.439Z"
   },
   {
    "duration": 49,
    "start_time": "2023-01-10T15:28:12.335Z"
   },
   {
    "duration": 5,
    "start_time": "2023-01-10T15:28:13.962Z"
   },
   {
    "duration": 27,
    "start_time": "2023-01-10T16:22:48.415Z"
   },
   {
    "duration": 31,
    "start_time": "2023-01-10T16:23:04.676Z"
   },
   {
    "duration": 31,
    "start_time": "2023-01-10T16:23:51.139Z"
   },
   {
    "duration": 1093,
    "start_time": "2023-01-10T16:24:02.453Z"
   },
   {
    "duration": 42,
    "start_time": "2023-01-10T16:24:03.548Z"
   },
   {
    "duration": 14,
    "start_time": "2023-01-10T16:24:03.591Z"
   },
   {
    "duration": 35,
    "start_time": "2023-01-10T16:24:03.608Z"
   },
   {
    "duration": 10,
    "start_time": "2023-01-10T16:24:03.645Z"
   },
   {
    "duration": 19,
    "start_time": "2023-01-10T16:24:03.657Z"
   },
   {
    "duration": 8,
    "start_time": "2023-01-10T16:24:03.678Z"
   },
   {
    "duration": 36,
    "start_time": "2023-01-10T16:24:03.688Z"
   },
   {
    "duration": 412,
    "start_time": "2023-01-10T16:24:03.726Z"
   },
   {
    "duration": 5,
    "start_time": "2023-01-10T16:24:04.141Z"
   },
   {
    "duration": 149,
    "start_time": "2023-01-10T16:24:04.148Z"
   },
   {
    "duration": 22,
    "start_time": "2023-01-10T16:24:04.299Z"
   },
   {
    "duration": 5,
    "start_time": "2023-01-10T16:24:04.323Z"
   },
   {
    "duration": 18,
    "start_time": "2023-01-10T16:24:04.330Z"
   },
   {
    "duration": 10,
    "start_time": "2023-01-10T16:24:04.350Z"
   },
   {
    "duration": 11,
    "start_time": "2023-01-10T16:24:04.362Z"
   },
   {
    "duration": 8,
    "start_time": "2023-01-10T16:24:04.375Z"
   },
   {
    "duration": 6,
    "start_time": "2023-01-10T16:24:04.412Z"
   },
   {
    "duration": 6,
    "start_time": "2023-01-10T16:24:04.420Z"
   },
   {
    "duration": 4,
    "start_time": "2023-01-10T16:24:04.427Z"
   },
   {
    "duration": 6,
    "start_time": "2023-01-10T16:24:04.432Z"
   },
   {
    "duration": 6,
    "start_time": "2023-01-10T16:24:04.439Z"
   },
   {
    "duration": 71,
    "start_time": "2023-01-10T16:24:04.447Z"
   },
   {
    "duration": 2537,
    "start_time": "2023-01-10T16:24:04.520Z"
   },
   {
    "duration": 4,
    "start_time": "2023-01-10T16:24:07.059Z"
   },
   {
    "duration": 7,
    "start_time": "2023-01-10T16:24:07.064Z"
   },
   {
    "duration": 7,
    "start_time": "2023-01-10T16:24:07.072Z"
   },
   {
    "duration": 7,
    "start_time": "2023-01-10T16:24:07.083Z"
   },
   {
    "duration": 193,
    "start_time": "2023-01-10T16:24:07.092Z"
   },
   {
    "duration": 84005,
    "start_time": "2023-01-10T16:24:07.287Z"
   },
   {
    "duration": 4,
    "start_time": "2023-01-10T16:25:31.294Z"
   },
   {
    "duration": 20,
    "start_time": "2023-01-10T16:25:31.300Z"
   },
   {
    "duration": 9,
    "start_time": "2023-01-10T16:25:31.321Z"
   },
   {
    "duration": 201,
    "start_time": "2023-01-10T16:25:31.331Z"
   },
   {
    "duration": 29513,
    "start_time": "2023-01-10T16:25:31.534Z"
   },
   {
    "duration": 5,
    "start_time": "2023-01-10T16:26:01.049Z"
   },
   {
    "duration": 17,
    "start_time": "2023-01-10T16:26:01.055Z"
   },
   {
    "duration": 195,
    "start_time": "2023-01-10T16:26:01.074Z"
   },
   {
    "duration": 10749,
    "start_time": "2023-01-10T16:26:01.271Z"
   },
   {
    "duration": 90,
    "start_time": "2023-01-10T16:26:12.022Z"
   },
   {
    "duration": 5,
    "start_time": "2023-01-10T16:26:12.114Z"
   },
   {
    "duration": 16,
    "start_time": "2023-01-10T16:26:12.121Z"
   },
   {
    "duration": 32,
    "start_time": "2023-01-10T16:26:12.139Z"
   },
   {
    "duration": 5,
    "start_time": "2023-01-10T16:26:12.173Z"
   },
   {
    "duration": 500,
    "start_time": "2023-01-10T16:26:12.180Z"
   },
   {
    "duration": 5,
    "start_time": "2023-01-10T16:26:12.681Z"
   },
   {
    "duration": 41,
    "start_time": "2023-01-10T16:26:12.688Z"
   },
   {
    "duration": 6,
    "start_time": "2023-01-10T16:26:12.731Z"
   },
   {
    "duration": 114,
    "start_time": "2023-01-10T16:26:12.812Z"
   },
   {
    "duration": 57,
    "start_time": "2023-01-10T16:26:12.928Z"
   },
   {
    "duration": 5,
    "start_time": "2023-01-10T16:26:12.988Z"
   },
   {
    "duration": 1378,
    "start_time": "2023-01-10T16:26:12.995Z"
   },
   {
    "duration": 6,
    "start_time": "2023-01-10T16:26:14.374Z"
   },
   {
    "duration": 68,
    "start_time": "2023-01-10T16:26:14.382Z"
   },
   {
    "duration": 5,
    "start_time": "2023-01-10T16:26:14.452Z"
   },
   {
    "duration": 98,
    "start_time": "2023-01-10T16:26:14.514Z"
   },
   {
    "duration": 28,
    "start_time": "2023-01-10T16:26:14.615Z"
   },
   {
    "duration": 5,
    "start_time": "2023-01-10T16:26:14.645Z"
   },
   {
    "duration": 436,
    "start_time": "2023-01-10T16:26:14.652Z"
   },
   {
    "duration": 5,
    "start_time": "2023-01-10T16:26:15.090Z"
   },
   {
    "duration": 26,
    "start_time": "2023-01-10T16:26:15.096Z"
   },
   {
    "duration": 4,
    "start_time": "2023-01-10T16:26:15.124Z"
   },
   {
    "duration": 330,
    "start_time": "2023-01-10T16:26:15.131Z"
   },
   {
    "duration": 0,
    "start_time": "2023-01-10T16:26:15.463Z"
   },
   {
    "duration": 0,
    "start_time": "2023-01-10T16:26:15.464Z"
   },
   {
    "duration": 0,
    "start_time": "2023-01-10T16:26:15.466Z"
   },
   {
    "duration": 37,
    "start_time": "2023-01-10T16:28:50.465Z"
   },
   {
    "duration": 27,
    "start_time": "2023-01-10T16:30:35.453Z"
   },
   {
    "duration": 33,
    "start_time": "2023-01-10T16:31:20.918Z"
   },
   {
    "duration": 5,
    "start_time": "2023-01-10T16:31:23.105Z"
   },
   {
    "duration": 35,
    "start_time": "2023-01-10T16:31:33.328Z"
   },
   {
    "duration": 4,
    "start_time": "2023-01-10T16:31:33.725Z"
   },
   {
    "duration": 26,
    "start_time": "2023-01-10T16:31:37.708Z"
   },
   {
    "duration": 4,
    "start_time": "2023-01-10T16:31:38.128Z"
   },
   {
    "duration": 27,
    "start_time": "2023-01-10T16:31:42.640Z"
   },
   {
    "duration": 4,
    "start_time": "2023-01-10T16:31:43.207Z"
   },
   {
    "duration": 25,
    "start_time": "2023-01-10T16:31:48.327Z"
   },
   {
    "duration": 4,
    "start_time": "2023-01-10T16:31:48.707Z"
   },
   {
    "duration": 25,
    "start_time": "2023-01-10T16:31:52.816Z"
   },
   {
    "duration": 4,
    "start_time": "2023-01-10T16:31:53.115Z"
   },
   {
    "duration": 28,
    "start_time": "2023-01-10T16:31:57.433Z"
   },
   {
    "duration": 5,
    "start_time": "2023-01-10T16:31:58.141Z"
   },
   {
    "duration": 26,
    "start_time": "2023-01-10T16:33:30.385Z"
   },
   {
    "duration": 11,
    "start_time": "2023-01-10T16:36:32.868Z"
   },
   {
    "duration": 520,
    "start_time": "2023-01-10T16:36:35.347Z"
   },
   {
    "duration": 4,
    "start_time": "2023-01-10T16:36:35.989Z"
   },
   {
    "duration": 10,
    "start_time": "2023-01-10T16:39:54.382Z"
   },
   {
    "duration": 91,
    "start_time": "2023-01-10T16:39:56.722Z"
   },
   {
    "duration": 5,
    "start_time": "2023-01-10T16:39:57.481Z"
   },
   {
    "duration": 43,
    "start_time": "2023-01-10T16:47:29.671Z"
   },
   {
    "duration": 1224,
    "start_time": "2023-01-10T16:47:37.140Z"
   },
   {
    "duration": 43,
    "start_time": "2023-01-10T16:47:38.367Z"
   },
   {
    "duration": 19,
    "start_time": "2023-01-10T16:47:38.412Z"
   },
   {
    "duration": 31,
    "start_time": "2023-01-10T16:47:38.434Z"
   },
   {
    "duration": 9,
    "start_time": "2023-01-10T16:47:38.467Z"
   },
   {
    "duration": 47,
    "start_time": "2023-01-10T16:47:38.478Z"
   },
   {
    "duration": 5,
    "start_time": "2023-01-10T16:47:38.527Z"
   },
   {
    "duration": 30,
    "start_time": "2023-01-10T16:47:38.534Z"
   },
   {
    "duration": 416,
    "start_time": "2023-01-10T16:47:38.566Z"
   },
   {
    "duration": 7,
    "start_time": "2023-01-10T16:47:38.985Z"
   },
   {
    "duration": 178,
    "start_time": "2023-01-10T16:47:38.994Z"
   },
   {
    "duration": 15,
    "start_time": "2023-01-10T16:47:39.174Z"
   },
   {
    "duration": 5,
    "start_time": "2023-01-10T16:47:39.190Z"
   },
   {
    "duration": 13,
    "start_time": "2023-01-10T16:47:39.213Z"
   },
   {
    "duration": 11,
    "start_time": "2023-01-10T16:47:39.228Z"
   },
   {
    "duration": 14,
    "start_time": "2023-01-10T16:47:39.241Z"
   },
   {
    "duration": 7,
    "start_time": "2023-01-10T16:47:39.257Z"
   },
   {
    "duration": 50,
    "start_time": "2023-01-10T16:47:39.267Z"
   },
   {
    "duration": 9,
    "start_time": "2023-01-10T16:47:39.319Z"
   },
   {
    "duration": 16,
    "start_time": "2023-01-10T16:47:39.331Z"
   },
   {
    "duration": 15,
    "start_time": "2023-01-10T16:47:39.349Z"
   },
   {
    "duration": 9,
    "start_time": "2023-01-10T16:47:39.367Z"
   },
   {
    "duration": 61,
    "start_time": "2023-01-10T16:47:39.378Z"
   },
   {
    "duration": 2539,
    "start_time": "2023-01-10T16:47:39.441Z"
   },
   {
    "duration": 4,
    "start_time": "2023-01-10T16:47:41.982Z"
   },
   {
    "duration": 7,
    "start_time": "2023-01-10T16:47:41.988Z"
   },
   {
    "duration": 20,
    "start_time": "2023-01-10T16:47:41.997Z"
   },
   {
    "duration": 6,
    "start_time": "2023-01-10T16:47:42.022Z"
   },
   {
    "duration": 193,
    "start_time": "2023-01-10T16:47:42.030Z"
   },
   {
    "duration": 87190,
    "start_time": "2023-01-10T16:47:42.225Z"
   },
   {
    "duration": 6,
    "start_time": "2023-01-10T16:49:09.416Z"
   },
   {
    "duration": 16,
    "start_time": "2023-01-10T16:49:09.424Z"
   },
   {
    "duration": 10,
    "start_time": "2023-01-10T16:49:09.442Z"
   },
   {
    "duration": 210,
    "start_time": "2023-01-10T16:49:09.454Z"
   },
   {
    "duration": 29453,
    "start_time": "2023-01-10T16:49:09.666Z"
   },
   {
    "duration": 5,
    "start_time": "2023-01-10T16:49:39.121Z"
   },
   {
    "duration": 23,
    "start_time": "2023-01-10T16:49:39.128Z"
   },
   {
    "duration": 191,
    "start_time": "2023-01-10T16:49:39.153Z"
   },
   {
    "duration": 9469,
    "start_time": "2023-01-10T16:49:39.346Z"
   },
   {
    "duration": 4,
    "start_time": "2023-01-10T16:49:48.817Z"
   },
   {
    "duration": 13,
    "start_time": "2023-01-10T16:49:48.823Z"
   },
   {
    "duration": 80,
    "start_time": "2023-01-10T16:49:48.837Z"
   },
   {
    "duration": 27,
    "start_time": "2023-01-10T16:49:48.919Z"
   },
   {
    "duration": 5,
    "start_time": "2023-01-10T16:49:48.947Z"
   },
   {
    "duration": 529,
    "start_time": "2023-01-10T16:49:48.953Z"
   },
   {
    "duration": 4,
    "start_time": "2023-01-10T16:49:49.484Z"
   },
   {
    "duration": 33,
    "start_time": "2023-01-10T16:49:49.490Z"
   },
   {
    "duration": 4,
    "start_time": "2023-01-10T16:49:49.525Z"
   },
   {
    "duration": 197,
    "start_time": "2023-01-10T16:49:49.531Z"
   },
   {
    "duration": 62,
    "start_time": "2023-01-10T16:49:49.730Z"
   },
   {
    "duration": 20,
    "start_time": "2023-01-10T16:49:49.793Z"
   },
   {
    "duration": 1105,
    "start_time": "2023-01-10T16:49:49.815Z"
   },
   {
    "duration": 4,
    "start_time": "2023-01-10T16:49:50.922Z"
   },
   {
    "duration": 87,
    "start_time": "2023-01-10T16:49:50.928Z"
   },
   {
    "duration": 5,
    "start_time": "2023-01-10T16:49:51.017Z"
   },
   {
    "duration": 107,
    "start_time": "2023-01-10T16:49:51.024Z"
   },
   {
    "duration": 23,
    "start_time": "2023-01-10T16:49:51.133Z"
   },
   {
    "duration": 6,
    "start_time": "2023-01-10T16:49:51.158Z"
   },
   {
    "duration": 386,
    "start_time": "2023-01-10T16:49:51.166Z"
   },
   {
    "duration": 5,
    "start_time": "2023-01-10T16:49:51.554Z"
   },
   {
    "duration": 53,
    "start_time": "2023-01-10T16:49:51.560Z"
   },
   {
    "duration": 5,
    "start_time": "2023-01-10T16:49:51.615Z"
   },
   {
    "duration": 112,
    "start_time": "2023-01-10T16:49:51.621Z"
   },
   {
    "duration": 115,
    "start_time": "2023-01-10T16:49:51.735Z"
   },
   {
    "duration": 0,
    "start_time": "2023-01-10T16:49:51.852Z"
   },
   {
    "duration": 0,
    "start_time": "2023-01-10T16:49:51.853Z"
   },
   {
    "duration": 0,
    "start_time": "2023-01-10T16:49:51.854Z"
   },
   {
    "duration": 0,
    "start_time": "2023-01-10T16:49:51.855Z"
   },
   {
    "duration": 1,
    "start_time": "2023-01-10T16:49:51.855Z"
   },
   {
    "duration": 0,
    "start_time": "2023-01-10T16:49:51.856Z"
   },
   {
    "duration": 26,
    "start_time": "2023-01-10T16:50:37.932Z"
   },
   {
    "duration": 10,
    "start_time": "2023-01-10T16:50:39.143Z"
   },
   {
    "duration": 11,
    "start_time": "2023-01-10T16:51:47.912Z"
   },
   {
    "duration": 4,
    "start_time": "2023-01-10T16:52:19.775Z"
   },
   {
    "duration": 7,
    "start_time": "2023-01-10T16:55:25.477Z"
   },
   {
    "duration": 28,
    "start_time": "2023-01-10T16:56:06.791Z"
   },
   {
    "duration": 6,
    "start_time": "2023-01-10T16:56:07.663Z"
   },
   {
    "duration": 16,
    "start_time": "2023-01-10T16:56:08.709Z"
   },
   {
    "duration": 1464,
    "start_time": "2023-01-10T16:57:08.865Z"
   },
   {
    "duration": 44,
    "start_time": "2023-01-10T16:57:10.332Z"
   },
   {
    "duration": 14,
    "start_time": "2023-01-10T16:57:10.377Z"
   },
   {
    "duration": 22,
    "start_time": "2023-01-10T16:57:10.393Z"
   },
   {
    "duration": 7,
    "start_time": "2023-01-10T16:57:10.417Z"
   },
   {
    "duration": 15,
    "start_time": "2023-01-10T16:57:10.426Z"
   },
   {
    "duration": 6,
    "start_time": "2023-01-10T16:57:10.442Z"
   },
   {
    "duration": 20,
    "start_time": "2023-01-10T16:57:10.450Z"
   },
   {
    "duration": 208,
    "start_time": "2023-01-10T16:57:10.472Z"
   },
   {
    "duration": 7,
    "start_time": "2023-01-10T16:57:10.683Z"
   },
   {
    "duration": 192,
    "start_time": "2023-01-10T16:57:10.692Z"
   },
   {
    "duration": 14,
    "start_time": "2023-01-10T16:57:10.885Z"
   },
   {
    "duration": 7,
    "start_time": "2023-01-10T16:57:10.912Z"
   },
   {
    "duration": 16,
    "start_time": "2023-01-10T16:57:10.921Z"
   },
   {
    "duration": 10,
    "start_time": "2023-01-10T16:57:10.940Z"
   },
   {
    "duration": 14,
    "start_time": "2023-01-10T16:57:10.953Z"
   },
   {
    "duration": 6,
    "start_time": "2023-01-10T16:57:10.969Z"
   },
   {
    "duration": 43,
    "start_time": "2023-01-10T16:57:10.977Z"
   },
   {
    "duration": 9,
    "start_time": "2023-01-10T16:57:11.022Z"
   },
   {
    "duration": 6,
    "start_time": "2023-01-10T16:57:11.033Z"
   },
   {
    "duration": 7,
    "start_time": "2023-01-10T16:57:11.041Z"
   },
   {
    "duration": 9,
    "start_time": "2023-01-10T16:57:11.050Z"
   },
   {
    "duration": 84,
    "start_time": "2023-01-10T16:57:11.061Z"
   },
   {
    "duration": 2539,
    "start_time": "2023-01-10T16:57:11.148Z"
   },
   {
    "duration": 4,
    "start_time": "2023-01-10T16:57:13.688Z"
   },
   {
    "duration": 7,
    "start_time": "2023-01-10T16:57:13.693Z"
   },
   {
    "duration": 6,
    "start_time": "2023-01-10T16:57:13.712Z"
   },
   {
    "duration": 6,
    "start_time": "2023-01-10T16:57:13.722Z"
   },
   {
    "duration": 192,
    "start_time": "2023-01-10T16:57:13.729Z"
   },
   {
    "duration": 89772,
    "start_time": "2023-01-10T16:57:13.923Z"
   },
   {
    "duration": 4,
    "start_time": "2023-01-10T16:58:43.698Z"
   },
   {
    "duration": 8,
    "start_time": "2023-01-10T16:58:43.713Z"
   },
   {
    "duration": 9,
    "start_time": "2023-01-10T16:58:43.722Z"
   },
   {
    "duration": 229,
    "start_time": "2023-01-10T16:58:43.733Z"
   },
   {
    "duration": 29897,
    "start_time": "2023-01-10T16:58:43.964Z"
   },
   {
    "duration": 4,
    "start_time": "2023-01-10T16:59:13.863Z"
   },
   {
    "duration": 6,
    "start_time": "2023-01-10T16:59:13.869Z"
   },
   {
    "duration": 213,
    "start_time": "2023-01-10T16:59:13.877Z"
   },
   {
    "duration": 11435,
    "start_time": "2023-01-10T16:59:14.092Z"
   },
   {
    "duration": 5,
    "start_time": "2023-01-10T16:59:25.529Z"
   },
   {
    "duration": 6,
    "start_time": "2023-01-10T16:59:25.536Z"
   },
   {
    "duration": 11,
    "start_time": "2023-01-10T16:59:25.544Z"
   },
   {
    "duration": 61,
    "start_time": "2023-01-10T16:59:25.557Z"
   },
   {
    "duration": 4,
    "start_time": "2023-01-10T16:59:25.620Z"
   },
   {
    "duration": 524,
    "start_time": "2023-01-10T16:59:25.626Z"
   },
   {
    "duration": 5,
    "start_time": "2023-01-10T16:59:26.152Z"
   },
   {
    "duration": 64,
    "start_time": "2023-01-10T16:59:26.158Z"
   },
   {
    "duration": 5,
    "start_time": "2023-01-10T16:59:26.224Z"
   },
   {
    "duration": 99,
    "start_time": "2023-01-10T16:59:26.314Z"
   },
   {
    "duration": 68,
    "start_time": "2023-01-10T16:59:26.416Z"
   },
   {
    "duration": 6,
    "start_time": "2023-01-10T16:59:26.486Z"
   },
   {
    "duration": 1248,
    "start_time": "2023-01-10T16:59:26.493Z"
   },
   {
    "duration": 5,
    "start_time": "2023-01-10T16:59:27.745Z"
   },
   {
    "duration": 64,
    "start_time": "2023-01-10T16:59:27.752Z"
   },
   {
    "duration": 4,
    "start_time": "2023-01-10T16:59:27.818Z"
   },
   {
    "duration": 196,
    "start_time": "2023-01-10T16:59:27.824Z"
   },
   {
    "duration": 34,
    "start_time": "2023-01-10T16:59:28.023Z"
   },
   {
    "duration": 5,
    "start_time": "2023-01-10T16:59:28.059Z"
   },
   {
    "duration": 458,
    "start_time": "2023-01-10T16:59:28.066Z"
   },
   {
    "duration": 4,
    "start_time": "2023-01-10T16:59:28.526Z"
   },
   {
    "duration": 24,
    "start_time": "2023-01-10T16:59:28.532Z"
   },
   {
    "duration": 5,
    "start_time": "2023-01-10T16:59:28.558Z"
   },
   {
    "duration": 116,
    "start_time": "2023-01-10T16:59:28.619Z"
   },
   {
    "duration": 5,
    "start_time": "2023-01-10T16:59:28.737Z"
   },
   {
    "duration": 131,
    "start_time": "2023-01-10T16:59:28.743Z"
   },
   {
    "duration": 495,
    "start_time": "2023-01-10T16:59:28.876Z"
   },
   {
    "duration": 4,
    "start_time": "2023-01-10T16:59:29.373Z"
   },
   {
    "duration": 43,
    "start_time": "2023-01-10T16:59:29.379Z"
   },
   {
    "duration": 90,
    "start_time": "2023-01-10T16:59:29.424Z"
   },
   {
    "duration": 161,
    "start_time": "2023-01-10T16:59:29.517Z"
   },
   {
    "duration": 5,
    "start_time": "2023-01-10T16:59:29.680Z"
   },
   {
    "duration": 1696,
    "start_time": "2023-01-11T04:39:22.261Z"
   },
   {
    "duration": 194,
    "start_time": "2023-01-11T04:39:23.960Z"
   },
   {
    "duration": 14,
    "start_time": "2023-01-11T04:39:24.156Z"
   },
   {
    "duration": 27,
    "start_time": "2023-01-11T04:39:24.172Z"
   },
   {
    "duration": 17,
    "start_time": "2023-01-11T04:39:24.202Z"
   },
   {
    "duration": 19,
    "start_time": "2023-01-11T04:39:24.221Z"
   },
   {
    "duration": 45,
    "start_time": "2023-01-11T04:39:24.242Z"
   },
   {
    "duration": 24,
    "start_time": "2023-01-11T04:39:24.288Z"
   },
   {
    "duration": 159,
    "start_time": "2023-01-11T04:39:24.314Z"
   },
   {
    "duration": 7,
    "start_time": "2023-01-11T04:39:24.480Z"
   },
   {
    "duration": 159,
    "start_time": "2023-01-11T04:39:24.489Z"
   },
   {
    "duration": 14,
    "start_time": "2023-01-11T04:39:24.650Z"
   },
   {
    "duration": 5,
    "start_time": "2023-01-11T04:39:24.679Z"
   },
   {
    "duration": 19,
    "start_time": "2023-01-11T04:39:24.685Z"
   },
   {
    "duration": 11,
    "start_time": "2023-01-11T04:39:24.706Z"
   },
   {
    "duration": 16,
    "start_time": "2023-01-11T04:39:24.719Z"
   },
   {
    "duration": 10,
    "start_time": "2023-01-11T04:39:24.737Z"
   },
   {
    "duration": 29,
    "start_time": "2023-01-11T04:39:24.749Z"
   },
   {
    "duration": 10,
    "start_time": "2023-01-11T04:39:24.780Z"
   },
   {
    "duration": 4,
    "start_time": "2023-01-11T04:39:24.793Z"
   },
   {
    "duration": 13,
    "start_time": "2023-01-11T04:39:24.799Z"
   },
   {
    "duration": 8,
    "start_time": "2023-01-11T04:39:24.813Z"
   },
   {
    "duration": 78,
    "start_time": "2023-01-11T04:39:24.823Z"
   },
   {
    "duration": 2321,
    "start_time": "2023-01-11T04:39:24.903Z"
   },
   {
    "duration": 4,
    "start_time": "2023-01-11T04:39:27.225Z"
   },
   {
    "duration": 7,
    "start_time": "2023-01-11T04:39:27.232Z"
   },
   {
    "duration": 8,
    "start_time": "2023-01-11T04:39:27.240Z"
   },
   {
    "duration": 8,
    "start_time": "2023-01-11T04:39:27.253Z"
   },
   {
    "duration": 151,
    "start_time": "2023-01-11T04:39:27.262Z"
   },
   {
    "duration": 79776,
    "start_time": "2023-01-11T04:39:27.415Z"
   },
   {
    "duration": 3,
    "start_time": "2023-01-11T04:40:47.193Z"
   },
   {
    "duration": 11,
    "start_time": "2023-01-11T04:40:47.198Z"
   },
   {
    "duration": 8,
    "start_time": "2023-01-11T04:40:47.211Z"
   },
   {
    "duration": 211,
    "start_time": "2023-01-11T04:40:47.221Z"
   },
   {
    "duration": 26993,
    "start_time": "2023-01-11T04:40:47.434Z"
   },
   {
    "duration": 4,
    "start_time": "2023-01-11T04:41:14.429Z"
   },
   {
    "duration": 11,
    "start_time": "2023-01-11T04:41:14.435Z"
   },
   {
    "duration": 176,
    "start_time": "2023-01-11T04:41:14.448Z"
   },
   {
    "duration": 11053,
    "start_time": "2023-01-11T04:41:14.626Z"
   },
   {
    "duration": 4,
    "start_time": "2023-01-11T04:41:25.681Z"
   },
   {
    "duration": 13,
    "start_time": "2023-01-11T04:41:25.686Z"
   },
   {
    "duration": 15,
    "start_time": "2023-01-11T04:41:25.701Z"
   },
   {
    "duration": 38,
    "start_time": "2023-01-11T04:41:25.718Z"
   },
   {
    "duration": 20,
    "start_time": "2023-01-11T04:41:25.758Z"
   },
   {
    "duration": 441,
    "start_time": "2023-01-11T04:41:25.780Z"
   },
   {
    "duration": 4,
    "start_time": "2023-01-11T04:41:26.222Z"
   },
   {
    "duration": 24,
    "start_time": "2023-01-11T04:41:26.228Z"
   },
   {
    "duration": 4,
    "start_time": "2023-01-11T04:41:26.278Z"
   },
   {
    "duration": 103,
    "start_time": "2023-01-11T04:41:26.285Z"
   },
   {
    "duration": 45,
    "start_time": "2023-01-11T04:41:26.389Z"
   },
   {
    "duration": 3,
    "start_time": "2023-01-11T04:41:26.436Z"
   },
   {
    "duration": 1037,
    "start_time": "2023-01-11T04:41:26.441Z"
   },
   {
    "duration": 4,
    "start_time": "2023-01-11T04:41:27.479Z"
   },
   {
    "duration": 49,
    "start_time": "2023-01-11T04:41:27.484Z"
   },
   {
    "duration": 48,
    "start_time": "2023-01-11T04:41:27.535Z"
   },
   {
    "duration": 105,
    "start_time": "2023-01-11T04:41:27.585Z"
   },
   {
    "duration": 20,
    "start_time": "2023-01-11T04:41:27.692Z"
   },
   {
    "duration": 4,
    "start_time": "2023-01-11T04:41:27.713Z"
   },
   {
    "duration": 359,
    "start_time": "2023-01-11T04:41:27.719Z"
   },
   {
    "duration": 4,
    "start_time": "2023-01-11T04:41:28.079Z"
   },
   {
    "duration": 25,
    "start_time": "2023-01-11T04:41:28.084Z"
   },
   {
    "duration": 4,
    "start_time": "2023-01-11T04:41:28.177Z"
   },
   {
    "duration": 123,
    "start_time": "2023-01-11T04:41:28.183Z"
   },
   {
    "duration": 5,
    "start_time": "2023-01-11T04:41:28.308Z"
   },
   {
    "duration": 109,
    "start_time": "2023-01-11T04:41:28.315Z"
   },
   {
    "duration": 431,
    "start_time": "2023-01-11T04:41:28.426Z"
   },
   {
    "duration": 4,
    "start_time": "2023-01-11T04:41:28.858Z"
   },
   {
    "duration": 43,
    "start_time": "2023-01-11T04:41:28.864Z"
   },
   {
    "duration": 4,
    "start_time": "2023-01-11T04:41:28.909Z"
   },
   {
    "duration": 155,
    "start_time": "2023-01-11T04:41:28.978Z"
   },
   {
    "duration": 4,
    "start_time": "2023-01-11T04:41:29.136Z"
   },
   {
    "duration": 21,
    "start_time": "2023-01-11T04:42:11.528Z"
   },
   {
    "duration": 6,
    "start_time": "2023-01-11T04:42:12.734Z"
   },
   {
    "duration": 111,
    "start_time": "2023-01-11T04:42:14.250Z"
   },
   {
    "duration": 6,
    "start_time": "2023-01-11T04:42:31.300Z"
   },
   {
    "duration": 5,
    "start_time": "2023-01-11T04:43:08.381Z"
   },
   {
    "duration": 118,
    "start_time": "2023-01-11T04:43:11.649Z"
   },
   {
    "duration": 5,
    "start_time": "2023-01-11T05:00:14.073Z"
   },
   {
    "duration": 1495,
    "start_time": "2023-01-11T05:00:22.343Z"
   },
   {
    "duration": 43,
    "start_time": "2023-01-11T05:00:23.840Z"
   },
   {
    "duration": 18,
    "start_time": "2023-01-11T05:00:23.885Z"
   },
   {
    "duration": 44,
    "start_time": "2023-01-11T05:00:23.906Z"
   },
   {
    "duration": 13,
    "start_time": "2023-01-11T05:00:23.952Z"
   },
   {
    "duration": 30,
    "start_time": "2023-01-11T05:00:23.978Z"
   },
   {
    "duration": 15,
    "start_time": "2023-01-11T05:00:24.011Z"
   },
   {
    "duration": 54,
    "start_time": "2023-01-11T05:00:24.029Z"
   },
   {
    "duration": 202,
    "start_time": "2023-01-11T05:00:24.086Z"
   },
   {
    "duration": 6,
    "start_time": "2023-01-11T05:00:24.291Z"
   },
   {
    "duration": 182,
    "start_time": "2023-01-11T05:00:24.299Z"
   },
   {
    "duration": 14,
    "start_time": "2023-01-11T05:00:24.483Z"
   },
   {
    "duration": 54,
    "start_time": "2023-01-11T05:00:24.499Z"
   },
   {
    "duration": 53,
    "start_time": "2023-01-11T05:00:24.555Z"
   },
   {
    "duration": 14,
    "start_time": "2023-01-11T05:00:24.610Z"
   },
   {
    "duration": 27,
    "start_time": "2023-01-11T05:00:24.626Z"
   },
   {
    "duration": 20,
    "start_time": "2023-01-11T05:00:24.655Z"
   },
   {
    "duration": 46,
    "start_time": "2023-01-11T05:00:24.677Z"
   },
   {
    "duration": 23,
    "start_time": "2023-01-11T05:00:24.725Z"
   },
   {
    "duration": 24,
    "start_time": "2023-01-11T05:00:24.750Z"
   },
   {
    "duration": 35,
    "start_time": "2023-01-11T05:00:24.776Z"
   },
   {
    "duration": 56,
    "start_time": "2023-01-11T05:00:24.813Z"
   },
   {
    "duration": 59,
    "start_time": "2023-01-11T05:00:24.870Z"
   },
   {
    "duration": 2328,
    "start_time": "2023-01-11T05:00:24.931Z"
   },
   {
    "duration": 4,
    "start_time": "2023-01-11T05:00:27.261Z"
   },
   {
    "duration": 32,
    "start_time": "2023-01-11T05:00:27.267Z"
   },
   {
    "duration": 34,
    "start_time": "2023-01-11T05:00:27.300Z"
   },
   {
    "duration": 33,
    "start_time": "2023-01-11T05:00:27.337Z"
   },
   {
    "duration": 165,
    "start_time": "2023-01-11T05:00:27.372Z"
   },
   {
    "duration": 80403,
    "start_time": "2023-01-11T05:00:27.539Z"
   },
   {
    "duration": 4,
    "start_time": "2023-01-11T05:01:47.944Z"
   },
   {
    "duration": 13,
    "start_time": "2023-01-11T05:01:47.950Z"
   },
   {
    "duration": 13,
    "start_time": "2023-01-11T05:01:47.965Z"
   },
   {
    "duration": 228,
    "start_time": "2023-01-11T05:01:47.979Z"
   },
   {
    "duration": 27146,
    "start_time": "2023-01-11T05:01:48.209Z"
   },
   {
    "duration": 4,
    "start_time": "2023-01-11T05:02:15.356Z"
   },
   {
    "duration": 17,
    "start_time": "2023-01-11T05:02:15.362Z"
   },
   {
    "duration": 163,
    "start_time": "2023-01-11T05:02:15.380Z"
   },
   {
    "duration": 12134,
    "start_time": "2023-01-11T05:02:15.544Z"
   },
   {
    "duration": 4,
    "start_time": "2023-01-11T05:02:27.680Z"
   },
   {
    "duration": 10,
    "start_time": "2023-01-11T05:02:27.686Z"
   },
   {
    "duration": 13,
    "start_time": "2023-01-11T05:02:27.698Z"
   },
   {
    "duration": 24,
    "start_time": "2023-01-11T05:02:27.712Z"
   },
   {
    "duration": 4,
    "start_time": "2023-01-11T05:02:27.738Z"
   },
   {
    "duration": 444,
    "start_time": "2023-01-11T05:02:27.744Z"
   },
   {
    "duration": 4,
    "start_time": "2023-01-11T05:02:28.190Z"
   },
   {
    "duration": 83,
    "start_time": "2023-01-11T05:02:28.195Z"
   },
   {
    "duration": 5,
    "start_time": "2023-01-11T05:02:28.280Z"
   },
   {
    "duration": 105,
    "start_time": "2023-01-11T05:02:28.287Z"
   },
   {
    "duration": 42,
    "start_time": "2023-01-11T05:02:28.394Z"
   },
   {
    "duration": 3,
    "start_time": "2023-01-11T05:02:28.438Z"
   },
   {
    "duration": 1027,
    "start_time": "2023-01-11T05:02:28.442Z"
   },
   {
    "duration": 7,
    "start_time": "2023-01-11T05:02:29.471Z"
   },
   {
    "duration": 58,
    "start_time": "2023-01-11T05:02:29.479Z"
   },
   {
    "duration": 46,
    "start_time": "2023-01-11T05:02:29.539Z"
   },
   {
    "duration": 113,
    "start_time": "2023-01-11T05:02:29.586Z"
   },
   {
    "duration": 27,
    "start_time": "2023-01-11T05:02:29.701Z"
   },
   {
    "duration": 9,
    "start_time": "2023-01-11T05:02:29.730Z"
   },
   {
    "duration": 351,
    "start_time": "2023-01-11T05:02:29.741Z"
   },
   {
    "duration": 4,
    "start_time": "2023-01-11T05:02:30.094Z"
   },
   {
    "duration": 81,
    "start_time": "2023-01-11T05:02:30.100Z"
   },
   {
    "duration": 115,
    "start_time": "2023-01-11T05:02:30.191Z"
   },
   {
    "duration": 49,
    "start_time": "2023-01-11T05:02:30.308Z"
   },
   {
    "duration": 7,
    "start_time": "2023-01-11T05:02:30.359Z"
   },
   {
    "duration": 204,
    "start_time": "2023-01-11T05:02:30.368Z"
   },
   {
    "duration": 447,
    "start_time": "2023-01-11T05:02:30.573Z"
   },
   {
    "duration": 4,
    "start_time": "2023-01-11T05:02:31.022Z"
   },
   {
    "duration": 59,
    "start_time": "2023-01-11T05:02:31.027Z"
   },
   {
    "duration": 93,
    "start_time": "2023-01-11T05:02:31.088Z"
   },
   {
    "duration": 130,
    "start_time": "2023-01-11T05:02:31.182Z"
   },
   {
    "duration": 4,
    "start_time": "2023-01-11T05:02:31.313Z"
   },
   {
    "duration": 31,
    "start_time": "2023-01-11T05:02:33.210Z"
   },
   {
    "duration": 2574,
    "start_time": "2023-01-11T05:05:48.815Z"
   },
   {
    "duration": 5,
    "start_time": "2023-01-11T05:05:51.487Z"
   },
   {
    "duration": 4,
    "start_time": "2023-01-11T05:05:52.678Z"
   },
   {
    "duration": 81683,
    "start_time": "2023-01-11T05:09:53.860Z"
   },
   {
    "duration": 0,
    "start_time": "2023-01-11T05:11:15.545Z"
   },
   {
    "duration": 0,
    "start_time": "2023-01-11T05:11:15.546Z"
   },
   {
    "duration": 0,
    "start_time": "2023-01-11T05:11:15.547Z"
   },
   {
    "duration": 2246,
    "start_time": "2023-01-11T05:12:18.081Z"
   },
   {
    "duration": 2308,
    "start_time": "2023-01-11T05:12:37.543Z"
   },
   {
    "duration": 84913,
    "start_time": "2023-01-11T05:12:46.367Z"
   },
   {
    "duration": 4,
    "start_time": "2023-01-11T05:14:11.282Z"
   },
   {
    "duration": 23,
    "start_time": "2023-01-11T05:14:11.288Z"
   },
   {
    "duration": 27145,
    "start_time": "2023-01-11T05:22:03.440Z"
   },
   {
    "duration": 4,
    "start_time": "2023-01-11T05:22:30.587Z"
   },
   {
    "duration": 11,
    "start_time": "2023-01-11T05:22:30.593Z"
   },
   {
    "duration": 11056,
    "start_time": "2023-01-11T05:23:29.828Z"
   },
   {
    "duration": 93,
    "start_time": "2023-01-11T05:23:40.887Z"
   },
   {
    "duration": 7,
    "start_time": "2023-01-11T05:23:40.982Z"
   },
   {
    "duration": 166,
    "start_time": "2023-01-11T05:25:02.554Z"
   },
   {
    "duration": 1428,
    "start_time": "2023-01-11T05:25:33.769Z"
   },
   {
    "duration": 40,
    "start_time": "2023-01-11T05:25:35.200Z"
   },
   {
    "duration": 27,
    "start_time": "2023-01-11T05:25:35.241Z"
   },
   {
    "duration": 34,
    "start_time": "2023-01-11T05:25:35.270Z"
   },
   {
    "duration": 13,
    "start_time": "2023-01-11T05:25:35.306Z"
   },
   {
    "duration": 29,
    "start_time": "2023-01-11T05:25:35.321Z"
   },
   {
    "duration": 32,
    "start_time": "2023-01-11T05:25:35.352Z"
   },
   {
    "duration": 20,
    "start_time": "2023-01-11T05:25:35.386Z"
   },
   {
    "duration": 153,
    "start_time": "2023-01-11T05:25:35.407Z"
   },
   {
    "duration": 6,
    "start_time": "2023-01-11T05:25:35.562Z"
   },
   {
    "duration": 160,
    "start_time": "2023-01-11T05:25:35.569Z"
   },
   {
    "duration": 15,
    "start_time": "2023-01-11T05:25:35.731Z"
   },
   {
    "duration": 26,
    "start_time": "2023-01-11T05:25:35.748Z"
   },
   {
    "duration": 27,
    "start_time": "2023-01-11T05:25:35.777Z"
   },
   {
    "duration": 34,
    "start_time": "2023-01-11T05:25:35.806Z"
   },
   {
    "duration": 38,
    "start_time": "2023-01-11T05:25:35.842Z"
   },
   {
    "duration": 31,
    "start_time": "2023-01-11T05:25:35.882Z"
   },
   {
    "duration": 14,
    "start_time": "2023-01-11T05:25:35.915Z"
   },
   {
    "duration": 26,
    "start_time": "2023-01-11T05:25:35.931Z"
   },
   {
    "duration": 30,
    "start_time": "2023-01-11T05:25:35.959Z"
   },
   {
    "duration": 23,
    "start_time": "2023-01-11T05:25:35.991Z"
   },
   {
    "duration": 51,
    "start_time": "2023-01-11T05:25:36.016Z"
   },
   {
    "duration": 61,
    "start_time": "2023-01-11T05:25:36.069Z"
   },
   {
    "duration": 2240,
    "start_time": "2023-01-11T05:25:36.133Z"
   },
   {
    "duration": 4,
    "start_time": "2023-01-11T05:25:38.375Z"
   },
   {
    "duration": 32,
    "start_time": "2023-01-11T05:25:38.380Z"
   },
   {
    "duration": 33,
    "start_time": "2023-01-11T05:25:38.413Z"
   },
   {
    "duration": 55,
    "start_time": "2023-01-11T05:25:38.447Z"
   },
   {
    "duration": 171,
    "start_time": "2023-01-11T05:25:38.503Z"
   },
   {
    "duration": 81023,
    "start_time": "2023-01-11T05:25:38.676Z"
   },
   {
    "duration": 4,
    "start_time": "2023-01-11T05:26:59.701Z"
   },
   {
    "duration": 16,
    "start_time": "2023-01-11T05:26:59.706Z"
   },
   {
    "duration": 7,
    "start_time": "2023-01-11T05:26:59.724Z"
   },
   {
    "duration": 200,
    "start_time": "2023-01-11T05:26:59.733Z"
   },
   {
    "duration": 27610,
    "start_time": "2023-01-11T05:26:59.935Z"
   },
   {
    "duration": 4,
    "start_time": "2023-01-11T05:27:27.547Z"
   },
   {
    "duration": 39,
    "start_time": "2023-01-11T05:27:27.552Z"
   },
   {
    "duration": 189,
    "start_time": "2023-01-11T05:27:27.592Z"
   },
   {
    "duration": 11601,
    "start_time": "2023-01-11T05:27:27.783Z"
   },
   {
    "duration": 93,
    "start_time": "2023-01-11T05:27:39.386Z"
   },
   {
    "duration": 4,
    "start_time": "2023-01-11T05:27:39.483Z"
   },
   {
    "duration": 192,
    "start_time": "2023-01-11T05:27:39.489Z"
   },
   {
    "duration": 7,
    "start_time": "2023-01-11T05:27:39.683Z"
   },
   {
    "duration": 57,
    "start_time": "2023-01-11T05:27:39.691Z"
   },
   {
    "duration": 36,
    "start_time": "2023-01-11T05:27:39.749Z"
   },
   {
    "duration": 443,
    "start_time": "2023-01-11T05:27:39.786Z"
   },
   {
    "duration": 4,
    "start_time": "2023-01-11T05:27:40.231Z"
   },
   {
    "duration": 41,
    "start_time": "2023-01-11T05:27:40.237Z"
   },
   {
    "duration": 4,
    "start_time": "2023-01-11T05:27:40.280Z"
   },
   {
    "duration": 206,
    "start_time": "2023-01-11T05:27:40.286Z"
   },
   {
    "duration": 58,
    "start_time": "2023-01-11T05:27:40.493Z"
   },
   {
    "duration": 4,
    "start_time": "2023-01-11T05:27:40.553Z"
   },
   {
    "duration": 1037,
    "start_time": "2023-01-11T05:27:40.558Z"
   },
   {
    "duration": 4,
    "start_time": "2023-01-11T05:27:41.597Z"
   },
   {
    "duration": 81,
    "start_time": "2023-01-11T05:27:41.602Z"
   },
   {
    "duration": 4,
    "start_time": "2023-01-11T05:27:41.686Z"
   },
   {
    "duration": 107,
    "start_time": "2023-01-11T05:27:41.691Z"
   },
   {
    "duration": 93,
    "start_time": "2023-01-11T05:27:41.800Z"
   },
   {
    "duration": 24,
    "start_time": "2023-01-11T05:27:41.894Z"
   },
   {
    "duration": 369,
    "start_time": "2023-01-11T05:27:41.919Z"
   },
   {
    "duration": 4,
    "start_time": "2023-01-11T05:27:42.290Z"
   },
   {
    "duration": 29,
    "start_time": "2023-01-11T05:27:42.296Z"
   },
   {
    "duration": 10,
    "start_time": "2023-01-11T05:27:42.377Z"
   },
   {
    "duration": 48,
    "start_time": "2023-01-11T05:27:42.477Z"
   },
   {
    "duration": 4,
    "start_time": "2023-01-11T05:27:42.527Z"
   },
   {
    "duration": 133,
    "start_time": "2023-01-11T05:27:42.532Z"
   },
   {
    "duration": 452,
    "start_time": "2023-01-11T05:27:42.666Z"
   },
   {
    "duration": 3,
    "start_time": "2023-01-11T05:27:43.120Z"
   },
   {
    "duration": 59,
    "start_time": "2023-01-11T05:27:43.125Z"
   },
   {
    "duration": 4,
    "start_time": "2023-01-11T05:27:43.185Z"
   },
   {
    "duration": 191,
    "start_time": "2023-01-11T05:27:43.191Z"
   },
   {
    "duration": 3,
    "start_time": "2023-01-11T05:27:43.384Z"
   },
   {
    "duration": 81819,
    "start_time": "2023-01-11T05:36:36.624Z"
   },
   {
    "duration": 4,
    "start_time": "2023-01-11T05:37:58.445Z"
   },
   {
    "duration": 10,
    "start_time": "2023-01-11T05:37:58.450Z"
   },
   {
    "duration": 16,
    "start_time": "2023-01-11T05:37:58.463Z"
   },
   {
    "duration": 11,
    "start_time": "2023-01-11T05:40:37.619Z"
   },
   {
    "duration": 9,
    "start_time": "2023-01-11T05:41:05.625Z"
   },
   {
    "duration": 4,
    "start_time": "2023-01-11T05:41:22.596Z"
   },
   {
    "duration": 5,
    "start_time": "2023-01-11T05:41:23.651Z"
   },
   {
    "duration": 4,
    "start_time": "2023-01-11T05:41:24.650Z"
   },
   {
    "duration": 56,
    "start_time": "2023-01-11T05:41:31.886Z"
   },
   {
    "duration": 2239,
    "start_time": "2023-01-11T05:41:38.168Z"
   },
   {
    "duration": 3,
    "start_time": "2023-01-11T05:41:45.081Z"
   },
   {
    "duration": 4,
    "start_time": "2023-01-11T05:41:47.159Z"
   },
   {
    "duration": 4,
    "start_time": "2023-01-11T05:41:48.318Z"
   },
   {
    "duration": 4,
    "start_time": "2023-01-11T05:41:55.281Z"
   },
   {
    "duration": 242,
    "start_time": "2023-01-11T05:43:22.825Z"
   },
   {
    "duration": 179,
    "start_time": "2023-01-11T05:43:44.101Z"
   },
   {
    "duration": 183,
    "start_time": "2023-01-11T05:45:16.259Z"
   },
   {
    "duration": 1355,
    "start_time": "2023-01-11T05:51:41.171Z"
   },
   {
    "duration": 252,
    "start_time": "2023-01-11T05:53:53.069Z"
   },
   {
    "duration": 2438,
    "start_time": "2023-01-11T05:56:09.432Z"
   },
   {
    "duration": 6,
    "start_time": "2023-01-11T05:56:11.872Z"
   },
   {
    "duration": 4,
    "start_time": "2023-01-11T05:57:05.166Z"
   },
   {
    "duration": 3,
    "start_time": "2023-01-11T05:57:17.968Z"
   },
   {
    "duration": 39,
    "start_time": "2023-01-11T05:58:46.671Z"
   },
   {
    "duration": 4,
    "start_time": "2023-01-11T05:58:47.418Z"
   },
   {
    "duration": 81025,
    "start_time": "2023-01-11T05:59:54.205Z"
   },
   {
    "duration": 3,
    "start_time": "2023-01-11T06:01:15.232Z"
   },
   {
    "duration": 25,
    "start_time": "2023-01-11T06:01:15.237Z"
   },
   {
    "duration": 16,
    "start_time": "2023-01-11T06:01:15.264Z"
   },
   {
    "duration": 226,
    "start_time": "2023-01-11T06:02:06.052Z"
   },
   {
    "duration": 27498,
    "start_time": "2023-01-11T06:02:30.103Z"
   },
   {
    "duration": 4,
    "start_time": "2023-01-11T06:02:57.603Z"
   },
   {
    "duration": 29,
    "start_time": "2023-01-11T06:02:57.609Z"
   },
   {
    "duration": 28038,
    "start_time": "2023-01-11T06:03:21.428Z"
   },
   {
    "duration": 10,
    "start_time": "2023-01-11T06:03:49.469Z"
   },
   {
    "duration": 8,
    "start_time": "2023-01-11T06:03:49.481Z"
   },
   {
    "duration": 28092,
    "start_time": "2023-01-11T06:04:35.611Z"
   },
   {
    "duration": 4,
    "start_time": "2023-01-11T06:05:03.705Z"
   },
   {
    "duration": 22,
    "start_time": "2023-01-11T06:05:03.710Z"
   },
   {
    "duration": 166,
    "start_time": "2023-01-11T06:05:11.215Z"
   },
   {
    "duration": 179,
    "start_time": "2023-01-11T06:05:24.563Z"
   },
   {
    "duration": 25419,
    "start_time": "2023-01-11T06:06:03.497Z"
   },
   {
    "duration": 4,
    "start_time": "2023-01-11T06:06:28.918Z"
   },
   {
    "duration": 10,
    "start_time": "2023-01-11T06:06:28.924Z"
   },
   {
    "duration": 24884,
    "start_time": "2023-01-11T06:06:39.911Z"
   },
   {
    "duration": 4,
    "start_time": "2023-01-11T06:07:04.798Z"
   },
   {
    "duration": 8,
    "start_time": "2023-01-11T06:07:04.804Z"
   },
   {
    "duration": 27217,
    "start_time": "2023-01-11T06:08:25.400Z"
   },
   {
    "duration": 3,
    "start_time": "2023-01-11T06:08:52.621Z"
   },
   {
    "duration": 9,
    "start_time": "2023-01-11T06:08:52.626Z"
   },
   {
    "duration": 1177,
    "start_time": "2023-01-11T06:09:57.095Z"
   },
   {
    "duration": 1204,
    "start_time": "2023-01-11T06:11:06.277Z"
   },
   {
    "duration": 9721,
    "start_time": "2023-01-11T06:11:32.257Z"
   },
   {
    "duration": 5,
    "start_time": "2023-01-11T06:11:41.980Z"
   },
   {
    "duration": 13,
    "start_time": "2023-01-11T06:11:41.986Z"
   },
   {
    "duration": 28,
    "start_time": "2023-01-11T06:13:53.998Z"
   },
   {
    "duration": 4,
    "start_time": "2023-01-11T06:13:55.308Z"
   },
   {
    "duration": 983,
    "start_time": "2023-01-11T06:15:38.483Z"
   },
   {
    "duration": 3,
    "start_time": "2023-01-11T06:15:40.857Z"
   },
   {
    "duration": 73,
    "start_time": "2023-01-11T06:17:13.600Z"
   },
   {
    "duration": 3,
    "start_time": "2023-01-11T06:17:14.668Z"
   },
   {
    "duration": 170,
    "start_time": "2023-01-11T06:21:36.225Z"
   },
   {
    "duration": 179,
    "start_time": "2023-01-11T06:22:00.083Z"
   },
   {
    "duration": 188,
    "start_time": "2023-01-11T06:22:07.119Z"
   },
   {
    "duration": 2243,
    "start_time": "2023-01-11T06:23:35.357Z"
   },
   {
    "duration": 5,
    "start_time": "2023-01-11T06:23:37.602Z"
   },
   {
    "duration": 4,
    "start_time": "2023-01-11T06:23:39.344Z"
   },
   {
    "duration": 4,
    "start_time": "2023-01-11T06:23:55.154Z"
   },
   {
    "duration": 176,
    "start_time": "2023-01-11T06:24:33.056Z"
   },
   {
    "duration": 289,
    "start_time": "2023-01-11T06:25:13.325Z"
   },
   {
    "duration": 1688,
    "start_time": "2023-01-11T06:30:01.512Z"
   },
   {
    "duration": 1118,
    "start_time": "2023-01-11T06:30:51.134Z"
   },
   {
    "duration": 1207,
    "start_time": "2023-01-11T06:32:18.766Z"
   },
   {
    "duration": 1176,
    "start_time": "2023-01-11T06:32:49.108Z"
   },
   {
    "duration": 1117,
    "start_time": "2023-01-11T06:33:36.147Z"
   },
   {
    "duration": 1182,
    "start_time": "2023-01-11T06:36:19.574Z"
   },
   {
    "duration": 84618,
    "start_time": "2023-01-11T06:37:13.044Z"
   },
   {
    "duration": 4,
    "start_time": "2023-01-11T06:38:37.664Z"
   },
   {
    "duration": 13,
    "start_time": "2023-01-11T06:38:37.670Z"
   },
   {
    "duration": 6,
    "start_time": "2023-01-11T06:38:37.685Z"
   },
   {
    "duration": 203,
    "start_time": "2023-01-11T06:38:37.693Z"
   },
   {
    "duration": 28711,
    "start_time": "2023-01-11T06:40:05.494Z"
   },
   {
    "duration": 5,
    "start_time": "2023-01-11T06:40:34.209Z"
   },
   {
    "duration": 40,
    "start_time": "2023-01-11T06:40:34.216Z"
   },
   {
    "duration": 250,
    "start_time": "2023-01-11T06:40:34.259Z"
   },
   {
    "duration": 10822,
    "start_time": "2023-01-11T06:42:27.565Z"
   },
   {
    "duration": 5,
    "start_time": "2023-01-11T06:42:38.390Z"
   },
   {
    "duration": 13,
    "start_time": "2023-01-11T06:42:38.397Z"
   },
   {
    "duration": 8346,
    "start_time": "2023-01-11T06:45:08.831Z"
   },
   {
    "duration": 4,
    "start_time": "2023-01-11T06:45:17.180Z"
   },
   {
    "duration": 13,
    "start_time": "2023-01-11T06:45:17.185Z"
   },
   {
    "duration": 241819,
    "start_time": "2023-01-11T06:45:49.470Z"
   },
   {
    "duration": 4,
    "start_time": "2023-01-11T06:49:51.291Z"
   },
   {
    "duration": 39,
    "start_time": "2023-01-11T06:49:51.297Z"
   },
   {
    "duration": 113623,
    "start_time": "2023-01-11T06:50:11.170Z"
   },
   {
    "duration": 4,
    "start_time": "2023-01-11T06:52:04.879Z"
   },
   {
    "duration": 8,
    "start_time": "2023-01-11T06:52:04.884Z"
   },
   {
    "duration": 26,
    "start_time": "2023-01-11T06:52:15.166Z"
   },
   {
    "duration": 181,
    "start_time": "2023-01-11T06:53:20.185Z"
   },
   {
    "duration": 1430,
    "start_time": "2023-01-11T06:53:39.261Z"
   },
   {
    "duration": 41,
    "start_time": "2023-01-11T06:53:40.694Z"
   },
   {
    "duration": 13,
    "start_time": "2023-01-11T06:53:40.737Z"
   },
   {
    "duration": 41,
    "start_time": "2023-01-11T06:53:40.753Z"
   },
   {
    "duration": 32,
    "start_time": "2023-01-11T06:53:40.796Z"
   },
   {
    "duration": 34,
    "start_time": "2023-01-11T06:53:40.830Z"
   },
   {
    "duration": 8,
    "start_time": "2023-01-11T06:53:40.865Z"
   },
   {
    "duration": 37,
    "start_time": "2023-01-11T06:53:40.875Z"
   },
   {
    "duration": 184,
    "start_time": "2023-01-11T06:53:40.914Z"
   },
   {
    "duration": 10,
    "start_time": "2023-01-11T06:53:41.101Z"
   },
   {
    "duration": 176,
    "start_time": "2023-01-11T06:53:41.113Z"
   },
   {
    "duration": 14,
    "start_time": "2023-01-11T06:53:41.291Z"
   },
   {
    "duration": 15,
    "start_time": "2023-01-11T06:53:41.307Z"
   },
   {
    "duration": 29,
    "start_time": "2023-01-11T06:53:41.324Z"
   },
   {
    "duration": 20,
    "start_time": "2023-01-11T06:53:41.355Z"
   },
   {
    "duration": 28,
    "start_time": "2023-01-11T06:53:41.377Z"
   },
   {
    "duration": 24,
    "start_time": "2023-01-11T06:53:41.407Z"
   },
   {
    "duration": 22,
    "start_time": "2023-01-11T06:53:41.433Z"
   },
   {
    "duration": 26,
    "start_time": "2023-01-11T06:53:41.457Z"
   },
   {
    "duration": 17,
    "start_time": "2023-01-11T06:53:41.485Z"
   },
   {
    "duration": 17,
    "start_time": "2023-01-11T06:53:41.504Z"
   },
   {
    "duration": 13,
    "start_time": "2023-01-11T06:53:41.522Z"
   },
   {
    "duration": 59,
    "start_time": "2023-01-11T06:53:41.537Z"
   },
   {
    "duration": 2363,
    "start_time": "2023-01-11T06:53:41.598Z"
   },
   {
    "duration": 4,
    "start_time": "2023-01-11T06:53:43.963Z"
   },
   {
    "duration": 19,
    "start_time": "2023-01-11T06:53:43.969Z"
   },
   {
    "duration": 16,
    "start_time": "2023-01-11T06:53:43.990Z"
   },
   {
    "duration": 20,
    "start_time": "2023-01-11T06:53:44.011Z"
   },
   {
    "duration": 245,
    "start_time": "2023-01-11T06:53:44.033Z"
   },
   {
    "duration": 84894,
    "start_time": "2023-01-11T06:53:44.280Z"
   },
   {
    "duration": 5,
    "start_time": "2023-01-11T06:55:09.177Z"
   },
   {
    "duration": 13,
    "start_time": "2023-01-11T06:55:09.183Z"
   },
   {
    "duration": 10,
    "start_time": "2023-01-11T06:55:09.198Z"
   },
   {
    "duration": 225,
    "start_time": "2023-01-11T06:55:09.209Z"
   },
   {
    "duration": 28261,
    "start_time": "2023-01-11T06:55:09.437Z"
   },
   {
    "duration": 3,
    "start_time": "2023-01-11T06:55:37.700Z"
   },
   {
    "duration": 16,
    "start_time": "2023-01-11T06:55:37.705Z"
   },
   {
    "duration": 183,
    "start_time": "2023-01-11T06:55:37.723Z"
   },
   {
    "duration": 110369,
    "start_time": "2023-01-11T06:55:37.909Z"
   },
   {
    "duration": 4,
    "start_time": "2023-01-11T06:57:28.282Z"
   },
   {
    "duration": 19,
    "start_time": "2023-01-11T06:57:28.288Z"
   },
   {
    "duration": 191,
    "start_time": "2023-01-11T06:57:28.311Z"
   },
   {
    "duration": 8,
    "start_time": "2023-01-11T06:57:28.504Z"
   },
   {
    "duration": 48,
    "start_time": "2023-01-11T06:57:28.515Z"
   },
   {
    "duration": 4,
    "start_time": "2023-01-11T06:57:28.565Z"
   },
   {
    "duration": 1009,
    "start_time": "2023-01-11T06:57:28.577Z"
   },
   {
    "duration": 5,
    "start_time": "2023-01-11T06:57:29.588Z"
   },
   {
    "duration": 92,
    "start_time": "2023-01-11T06:57:29.595Z"
   },
   {
    "duration": 88,
    "start_time": "2023-01-11T06:57:29.691Z"
   },
   {
    "duration": 18,
    "start_time": "2023-01-11T06:57:29.781Z"
   },
   {
    "duration": 66,
    "start_time": "2023-01-11T06:57:29.801Z"
   },
   {
    "duration": 11,
    "start_time": "2023-01-11T06:57:29.869Z"
   },
   {
    "duration": 1251,
    "start_time": "2023-01-11T06:57:29.882Z"
   },
   {
    "duration": 5,
    "start_time": "2023-01-11T06:57:31.135Z"
   },
   {
    "duration": 144,
    "start_time": "2023-01-11T06:57:31.142Z"
   },
   {
    "duration": 90,
    "start_time": "2023-01-11T06:57:31.289Z"
   },
   {
    "duration": 27,
    "start_time": "2023-01-11T06:57:31.381Z"
   },
   {
    "duration": 44,
    "start_time": "2023-01-11T06:57:31.410Z"
   },
   {
    "duration": 61,
    "start_time": "2023-01-11T06:57:31.456Z"
   },
   {
    "duration": 452,
    "start_time": "2023-01-11T06:57:31.519Z"
   },
   {
    "duration": 7,
    "start_time": "2023-01-11T06:57:31.973Z"
   },
   {
    "duration": 36,
    "start_time": "2023-01-11T06:57:31.982Z"
   },
   {
    "duration": 5,
    "start_time": "2023-01-11T06:57:32.079Z"
   },
   {
    "duration": 120,
    "start_time": "2023-01-11T06:57:32.086Z"
   },
   {
    "duration": 4,
    "start_time": "2023-01-11T06:57:32.209Z"
   },
   {
    "duration": 179,
    "start_time": "2023-01-11T06:57:32.215Z"
   },
   {
    "duration": 514,
    "start_time": "2023-01-11T06:57:32.395Z"
   },
   {
    "duration": 4,
    "start_time": "2023-01-11T06:57:32.910Z"
   },
   {
    "duration": 63,
    "start_time": "2023-01-11T06:57:32.916Z"
   },
   {
    "duration": 5,
    "start_time": "2023-01-11T06:57:32.984Z"
   },
   {
    "duration": 198,
    "start_time": "2023-01-11T06:57:32.991Z"
   },
   {
    "duration": 5,
    "start_time": "2023-01-11T06:57:33.191Z"
   },
   {
    "duration": 6,
    "start_time": "2023-01-11T07:04:13.773Z"
   },
   {
    "duration": 255,
    "start_time": "2023-01-11T07:06:08.609Z"
   },
   {
    "duration": 1339,
    "start_time": "2023-01-11T07:07:29.103Z"
   },
   {
    "duration": 1523,
    "start_time": "2023-01-11T07:07:47.062Z"
   },
   {
    "duration": 48,
    "start_time": "2023-01-11T07:07:48.588Z"
   },
   {
    "duration": 21,
    "start_time": "2023-01-11T07:07:48.639Z"
   },
   {
    "duration": 41,
    "start_time": "2023-01-11T07:07:48.663Z"
   },
   {
    "duration": 13,
    "start_time": "2023-01-11T07:07:48.706Z"
   },
   {
    "duration": 27,
    "start_time": "2023-01-11T07:07:48.724Z"
   },
   {
    "duration": 13,
    "start_time": "2023-01-11T07:07:48.753Z"
   },
   {
    "duration": 31,
    "start_time": "2023-01-11T07:07:48.768Z"
   },
   {
    "duration": 222,
    "start_time": "2023-01-11T07:07:48.801Z"
   },
   {
    "duration": 14,
    "start_time": "2023-01-11T07:07:49.027Z"
   },
   {
    "duration": 205,
    "start_time": "2023-01-11T07:07:49.046Z"
   },
   {
    "duration": 30,
    "start_time": "2023-01-11T07:07:49.254Z"
   },
   {
    "duration": 7,
    "start_time": "2023-01-11T07:07:49.286Z"
   },
   {
    "duration": 38,
    "start_time": "2023-01-11T07:07:49.296Z"
   },
   {
    "duration": 17,
    "start_time": "2023-01-11T07:07:49.339Z"
   },
   {
    "duration": 33,
    "start_time": "2023-01-11T07:07:49.358Z"
   },
   {
    "duration": 9,
    "start_time": "2023-01-11T07:07:49.394Z"
   },
   {
    "duration": 15,
    "start_time": "2023-01-11T07:07:49.406Z"
   },
   {
    "duration": 11,
    "start_time": "2023-01-11T07:07:49.423Z"
   },
   {
    "duration": 5,
    "start_time": "2023-01-11T07:07:49.437Z"
   },
   {
    "duration": 35,
    "start_time": "2023-01-11T07:07:49.444Z"
   },
   {
    "duration": 11,
    "start_time": "2023-01-11T07:07:49.482Z"
   },
   {
    "duration": 59,
    "start_time": "2023-01-11T07:07:49.496Z"
   },
   {
    "duration": 2516,
    "start_time": "2023-01-11T07:07:49.557Z"
   },
   {
    "duration": 5,
    "start_time": "2023-01-11T07:07:52.075Z"
   },
   {
    "duration": 15,
    "start_time": "2023-01-11T07:07:52.082Z"
   },
   {
    "duration": 7,
    "start_time": "2023-01-11T07:07:52.099Z"
   },
   {
    "duration": 7,
    "start_time": "2023-01-11T07:07:52.111Z"
   },
   {
    "duration": 202,
    "start_time": "2023-01-11T07:07:52.120Z"
   },
   {
    "duration": 88930,
    "start_time": "2023-01-11T07:07:52.324Z"
   },
   {
    "duration": 5,
    "start_time": "2023-01-11T07:09:21.256Z"
   },
   {
    "duration": 17,
    "start_time": "2023-01-11T07:09:21.263Z"
   },
   {
    "duration": 10,
    "start_time": "2023-01-11T07:09:21.282Z"
   },
   {
    "duration": 246,
    "start_time": "2023-01-11T07:09:21.294Z"
   },
   {
    "duration": 10,
    "start_time": "2023-01-11T07:11:49.603Z"
   },
   {
    "duration": 33,
    "start_time": "2023-01-11T07:11:49.616Z"
   },
   {
    "duration": 28,
    "start_time": "2023-01-11T07:11:49.651Z"
   },
   {
    "duration": 1127,
    "start_time": "2023-01-11T07:11:49.681Z"
   },
   {
    "duration": 7,
    "start_time": "2023-01-11T07:11:50.810Z"
   },
   {
    "duration": 71,
    "start_time": "2023-01-11T07:11:50.820Z"
   },
   {
    "duration": 86,
    "start_time": "2023-01-11T07:11:50.895Z"
   },
   {
    "duration": 20,
    "start_time": "2023-01-11T07:11:50.983Z"
   },
   {
    "duration": 56,
    "start_time": "2023-01-11T07:11:51.006Z"
   },
   {
    "duration": 5,
    "start_time": "2023-01-11T07:11:51.078Z"
   },
   {
    "duration": 1113,
    "start_time": "2023-01-11T07:11:51.085Z"
   },
   {
    "duration": 5,
    "start_time": "2023-01-11T07:11:52.200Z"
   },
   {
    "duration": 93,
    "start_time": "2023-01-11T07:11:52.207Z"
   },
   {
    "duration": 78,
    "start_time": "2023-01-11T07:11:52.303Z"
   },
   {
    "duration": 114,
    "start_time": "2023-01-11T07:11:52.384Z"
   },
   {
    "duration": 35,
    "start_time": "2023-01-11T07:11:52.501Z"
   },
   {
    "duration": 5,
    "start_time": "2023-01-11T07:11:52.539Z"
   },
   {
    "duration": 402,
    "start_time": "2023-01-11T07:11:52.546Z"
   },
   {
    "duration": 4,
    "start_time": "2023-01-11T07:11:52.950Z"
   },
   {
    "duration": 123,
    "start_time": "2023-01-11T07:11:52.956Z"
   },
   {
    "duration": 6,
    "start_time": "2023-01-11T07:11:53.081Z"
   },
   {
    "duration": 126,
    "start_time": "2023-01-11T07:11:53.089Z"
   },
   {
    "duration": 5,
    "start_time": "2023-01-11T07:11:53.217Z"
   },
   {
    "duration": 133,
    "start_time": "2023-01-11T07:11:53.223Z"
   },
   {
    "duration": 481,
    "start_time": "2023-01-11T07:11:53.358Z"
   },
   {
    "duration": 5,
    "start_time": "2023-01-11T07:11:53.841Z"
   },
   {
    "duration": 37,
    "start_time": "2023-01-11T07:11:53.848Z"
   },
   {
    "duration": 5,
    "start_time": "2023-01-11T07:11:53.889Z"
   },
   {
    "duration": 269,
    "start_time": "2023-01-11T07:11:53.895Z"
   },
   {
    "duration": 11,
    "start_time": "2023-01-11T07:11:54.167Z"
   },
   {
    "duration": 29824,
    "start_time": "2023-01-11T07:11:54.184Z"
   },
   {
    "duration": 5,
    "start_time": "2023-01-11T07:12:24.010Z"
   },
   {
    "duration": 49,
    "start_time": "2023-01-11T07:12:24.018Z"
   },
   {
    "duration": 253,
    "start_time": "2023-01-11T07:12:24.070Z"
   },
   {
    "duration": 108553,
    "start_time": "2023-01-11T07:12:24.326Z"
   },
   {
    "duration": 9,
    "start_time": "2023-01-11T07:14:12.881Z"
   },
   {
    "duration": 16,
    "start_time": "2023-01-11T07:14:12.892Z"
   },
   {
    "duration": 251,
    "start_time": "2023-01-11T07:14:12.910Z"
   },
   {
    "duration": 322,
    "start_time": "2023-01-11T07:15:17.840Z"
   },
   {
    "duration": 1387,
    "start_time": "2023-01-11T07:16:34.632Z"
   },
   {
    "duration": 45,
    "start_time": "2023-01-11T07:16:36.021Z"
   },
   {
    "duration": 20,
    "start_time": "2023-01-11T07:16:36.068Z"
   },
   {
    "duration": 38,
    "start_time": "2023-01-11T07:16:36.091Z"
   },
   {
    "duration": 8,
    "start_time": "2023-01-11T07:16:36.132Z"
   },
   {
    "duration": 35,
    "start_time": "2023-01-11T07:16:36.142Z"
   },
   {
    "duration": 5,
    "start_time": "2023-01-11T07:16:36.180Z"
   },
   {
    "duration": 23,
    "start_time": "2023-01-11T07:16:36.187Z"
   },
   {
    "duration": 154,
    "start_time": "2023-01-11T07:16:36.212Z"
   },
   {
    "duration": 8,
    "start_time": "2023-01-11T07:16:36.377Z"
   },
   {
    "duration": 165,
    "start_time": "2023-01-11T07:16:36.387Z"
   },
   {
    "duration": 13,
    "start_time": "2023-01-11T07:16:36.554Z"
   },
   {
    "duration": 9,
    "start_time": "2023-01-11T07:16:36.578Z"
   },
   {
    "duration": 28,
    "start_time": "2023-01-11T07:16:36.589Z"
   },
   {
    "duration": 16,
    "start_time": "2023-01-11T07:16:36.619Z"
   },
   {
    "duration": 37,
    "start_time": "2023-01-11T07:16:36.637Z"
   },
   {
    "duration": 28,
    "start_time": "2023-01-11T07:16:36.676Z"
   },
   {
    "duration": 26,
    "start_time": "2023-01-11T07:16:36.706Z"
   },
   {
    "duration": 15,
    "start_time": "2023-01-11T07:16:36.735Z"
   },
   {
    "duration": 6,
    "start_time": "2023-01-11T07:16:36.752Z"
   },
   {
    "duration": 15,
    "start_time": "2023-01-11T07:16:36.759Z"
   },
   {
    "duration": 18,
    "start_time": "2023-01-11T07:16:36.776Z"
   },
   {
    "duration": 47,
    "start_time": "2023-01-11T07:16:36.795Z"
   },
   {
    "duration": 2374,
    "start_time": "2023-01-11T07:16:36.844Z"
   },
   {
    "duration": 4,
    "start_time": "2023-01-11T07:16:39.220Z"
   },
   {
    "duration": 25,
    "start_time": "2023-01-11T07:16:39.226Z"
   },
   {
    "duration": 11,
    "start_time": "2023-01-11T07:16:39.253Z"
   },
   {
    "duration": 23,
    "start_time": "2023-01-11T07:16:39.269Z"
   },
   {
    "duration": 221,
    "start_time": "2023-01-11T07:16:39.294Z"
   },
   {
    "duration": 86122,
    "start_time": "2023-01-11T07:16:39.518Z"
   },
   {
    "duration": 3,
    "start_time": "2023-01-11T07:18:05.642Z"
   },
   {
    "duration": 53,
    "start_time": "2023-01-11T07:18:05.648Z"
   },
   {
    "duration": 48,
    "start_time": "2023-01-11T07:18:05.703Z"
   },
   {
    "duration": 239,
    "start_time": "2023-01-11T07:18:05.753Z"
   },
   {
    "duration": 28700,
    "start_time": "2023-01-11T07:18:05.994Z"
   },
   {
    "duration": 4,
    "start_time": "2023-01-11T07:18:34.696Z"
   },
   {
    "duration": 38,
    "start_time": "2023-01-11T07:18:34.702Z"
   },
   {
    "duration": 210,
    "start_time": "2023-01-11T07:18:34.742Z"
   },
   {
    "duration": 105137,
    "start_time": "2023-01-11T07:18:34.954Z"
   },
   {
    "duration": 4,
    "start_time": "2023-01-11T07:20:20.178Z"
   },
   {
    "duration": 25,
    "start_time": "2023-01-11T07:20:20.184Z"
   },
   {
    "duration": 8,
    "start_time": "2023-01-11T07:20:20.400Z"
   },
   {
    "duration": 82,
    "start_time": "2023-01-11T07:20:20.410Z"
   },
   {
    "duration": 31,
    "start_time": "2023-01-11T07:20:20.494Z"
   },
   {
    "duration": 1102,
    "start_time": "2023-01-11T07:20:20.527Z"
   },
   {
    "duration": 4,
    "start_time": "2023-01-11T07:20:21.632Z"
   },
   {
    "duration": 59,
    "start_time": "2023-01-11T07:20:21.638Z"
   },
   {
    "duration": 82,
    "start_time": "2023-01-11T07:20:21.700Z"
   },
   {
    "duration": 124,
    "start_time": "2023-01-11T07:20:21.784Z"
   },
   {
    "duration": 76,
    "start_time": "2023-01-11T07:20:21.910Z"
   },
   {
    "duration": 4,
    "start_time": "2023-01-11T07:20:21.988Z"
   },
   {
    "duration": 1276,
    "start_time": "2023-01-11T07:20:21.994Z"
   },
   {
    "duration": 6,
    "start_time": "2023-01-11T07:20:23.272Z"
   },
   {
    "duration": 57,
    "start_time": "2023-01-11T07:20:23.280Z"
   },
   {
    "duration": 5,
    "start_time": "2023-01-11T07:20:23.477Z"
   },
   {
    "duration": 17,
    "start_time": "2023-01-11T07:20:23.485Z"
   },
   {
    "duration": 24,
    "start_time": "2023-01-11T07:20:23.505Z"
   },
   {
    "duration": 4,
    "start_time": "2023-01-11T07:20:23.532Z"
   },
   {
    "duration": 469,
    "start_time": "2023-01-11T07:20:23.538Z"
   },
   {
    "duration": 5,
    "start_time": "2023-01-11T07:20:24.009Z"
   },
   {
    "duration": 64,
    "start_time": "2023-01-11T07:20:24.016Z"
   },
   {
    "duration": 5,
    "start_time": "2023-01-11T07:20:24.083Z"
   },
   {
    "duration": 124,
    "start_time": "2023-01-11T07:20:24.089Z"
   },
   {
    "duration": 5,
    "start_time": "2023-01-11T07:20:24.215Z"
   },
   {
    "duration": 142,
    "start_time": "2023-01-11T07:20:24.222Z"
   },
   {
    "duration": 549,
    "start_time": "2023-01-11T07:20:24.366Z"
   },
   {
    "duration": 6,
    "start_time": "2023-01-11T07:20:24.917Z"
   },
   {
    "duration": 59,
    "start_time": "2023-01-11T07:20:24.925Z"
   },
   {
    "duration": 5,
    "start_time": "2023-01-11T07:20:24.987Z"
   },
   {
    "duration": 171,
    "start_time": "2023-01-11T07:20:24.994Z"
   },
   {
    "duration": 5,
    "start_time": "2023-01-11T07:20:25.167Z"
   },
   {
    "duration": 196,
    "start_time": "2023-01-11T07:20:25.179Z"
   },
   {
    "duration": 187,
    "start_time": "2023-01-11T07:20:41.122Z"
   },
   {
    "duration": 175,
    "start_time": "2023-01-11T07:20:50.358Z"
   },
   {
    "duration": 165,
    "start_time": "2023-01-11T07:21:08.120Z"
   },
   {
    "duration": 163,
    "start_time": "2023-01-11T07:21:44.217Z"
   },
   {
    "duration": 45,
    "start_time": "2023-01-11T07:24:48.202Z"
   },
   {
    "duration": 138,
    "start_time": "2023-01-11T07:32:13.566Z"
   },
   {
    "duration": 244,
    "start_time": "2023-01-11T07:32:39.539Z"
   },
   {
    "duration": 138,
    "start_time": "2023-01-11T07:33:24.941Z"
   },
   {
    "duration": 20,
    "start_time": "2023-01-11T07:36:26.348Z"
   },
   {
    "duration": 22,
    "start_time": "2023-01-11T07:37:26.403Z"
   },
   {
    "duration": 25,
    "start_time": "2023-01-11T07:37:50.325Z"
   },
   {
    "duration": 25,
    "start_time": "2023-01-11T07:38:11.194Z"
   },
   {
    "duration": 19,
    "start_time": "2023-01-11T07:38:19.351Z"
   },
   {
    "duration": 4,
    "start_time": "2023-01-11T07:41:12.282Z"
   },
   {
    "duration": 208,
    "start_time": "2023-01-11T07:43:13.001Z"
   },
   {
    "duration": 71,
    "start_time": "2023-01-11T07:47:02.633Z"
   },
   {
    "duration": 5,
    "start_time": "2023-01-11T07:47:03.709Z"
   },
   {
    "duration": 2518,
    "start_time": "2023-01-11T07:47:39.461Z"
   },
   {
    "duration": 5,
    "start_time": "2023-01-11T07:47:41.981Z"
   },
   {
    "duration": 69,
    "start_time": "2023-01-11T07:48:34.162Z"
   },
   {
    "duration": 5,
    "start_time": "2023-01-11T07:48:35.145Z"
   },
   {
    "duration": 28,
    "start_time": "2023-01-11T07:49:54.683Z"
   },
   {
    "duration": 6,
    "start_time": "2023-01-11T07:49:57.290Z"
   },
   {
    "duration": 950,
    "start_time": "2023-01-11T07:50:17.496Z"
   },
   {
    "duration": 5,
    "start_time": "2023-01-11T07:50:20.320Z"
   },
   {
    "duration": 30,
    "start_time": "2023-01-11T07:50:28.184Z"
   },
   {
    "duration": 6,
    "start_time": "2023-01-11T07:50:28.956Z"
   },
   {
    "duration": 24,
    "start_time": "2023-01-11T07:54:46.233Z"
   },
   {
    "duration": 4,
    "start_time": "2023-01-11T07:54:47.536Z"
   },
   {
    "duration": 144,
    "start_time": "2023-01-11T07:54:49.882Z"
   },
   {
    "duration": 11,
    "start_time": "2023-01-11T08:01:02.233Z"
   },
   {
    "duration": 26,
    "start_time": "2023-01-11T08:01:04.427Z"
   },
   {
    "duration": 4,
    "start_time": "2023-01-11T08:01:05.130Z"
   },
   {
    "duration": 116,
    "start_time": "2023-01-11T08:02:28.768Z"
   },
   {
    "duration": 173,
    "start_time": "2023-01-11T08:04:50.458Z"
   },
   {
    "duration": 132,
    "start_time": "2023-01-11T08:05:09.000Z"
   },
   {
    "duration": 31,
    "start_time": "2023-01-11T08:05:54.148Z"
   },
   {
    "duration": 5,
    "start_time": "2023-01-11T08:05:54.903Z"
   },
   {
    "duration": 174,
    "start_time": "2023-01-11T08:05:55.931Z"
   },
   {
    "duration": 590,
    "start_time": "2023-01-11T08:17:32.058Z"
   },
   {
    "duration": 743,
    "start_time": "2023-01-11T08:20:43.423Z"
   },
   {
    "duration": 578,
    "start_time": "2023-01-11T08:25:36.468Z"
   },
   {
    "duration": 595,
    "start_time": "2023-01-11T08:26:32.431Z"
   },
   {
    "duration": 677,
    "start_time": "2023-01-11T08:36:55.558Z"
   },
   {
    "duration": 507,
    "start_time": "2023-01-11T08:37:09.973Z"
   },
   {
    "duration": 1027,
    "start_time": "2023-01-11T08:40:14.642Z"
   },
   {
    "duration": 8,
    "start_time": "2023-01-11T08:40:15.671Z"
   },
   {
    "duration": 389,
    "start_time": "2023-01-11T08:40:39.160Z"
   },
   {
    "duration": 1122,
    "start_time": "2023-01-11T08:42:58.824Z"
   },
   {
    "duration": 6,
    "start_time": "2023-01-11T08:42:59.948Z"
   },
   {
    "duration": 385,
    "start_time": "2023-01-11T08:43:06.624Z"
   },
   {
    "duration": 70,
    "start_time": "2023-01-11T08:50:47.291Z"
   },
   {
    "duration": 484,
    "start_time": "2023-01-11T08:50:58.941Z"
   },
   {
    "duration": 361,
    "start_time": "2023-01-11T08:51:40.375Z"
   },
   {
    "duration": 462,
    "start_time": "2023-01-11T08:53:22.979Z"
   },
   {
    "duration": 524,
    "start_time": "2023-01-11T08:53:31.384Z"
   },
   {
    "duration": 465,
    "start_time": "2023-01-11T08:53:35.547Z"
   },
   {
    "duration": 452,
    "start_time": "2023-01-11T08:53:50.176Z"
   },
   {
    "duration": 383,
    "start_time": "2023-01-11T08:54:29.320Z"
   },
   {
    "duration": 432,
    "start_time": "2023-01-11T08:55:00.469Z"
   },
   {
    "duration": 626,
    "start_time": "2023-01-11T08:55:13.774Z"
   },
   {
    "duration": 379,
    "start_time": "2023-01-11T08:55:27.253Z"
   },
   {
    "duration": 418,
    "start_time": "2023-01-11T08:55:47.763Z"
   },
   {
    "duration": 390,
    "start_time": "2023-01-11T08:56:31.205Z"
   },
   {
    "duration": 79,
    "start_time": "2023-01-11T08:57:33.966Z"
   },
   {
    "duration": 399,
    "start_time": "2023-01-11T08:57:39.969Z"
   },
   {
    "duration": 448,
    "start_time": "2023-01-11T08:57:50.732Z"
   },
   {
    "duration": 526,
    "start_time": "2023-01-11T08:58:42.964Z"
   },
   {
    "duration": 439,
    "start_time": "2023-01-11T08:59:36.411Z"
   },
   {
    "duration": 544,
    "start_time": "2023-01-11T09:00:38.028Z"
   },
   {
    "duration": 86,
    "start_time": "2023-01-11T09:01:41.139Z"
   },
   {
    "duration": 531,
    "start_time": "2023-01-11T09:02:05.927Z"
   },
   {
    "duration": 487,
    "start_time": "2023-01-11T09:02:48.302Z"
   },
   {
    "duration": 517,
    "start_time": "2023-01-11T09:03:31.314Z"
   },
   {
    "duration": 542,
    "start_time": "2023-01-11T09:05:21.689Z"
   },
   {
    "duration": 513,
    "start_time": "2023-01-11T09:06:24.141Z"
   },
   {
    "duration": 89,
    "start_time": "2023-01-11T09:06:53.097Z"
   },
   {
    "duration": 435,
    "start_time": "2023-01-11T09:07:04.602Z"
   },
   {
    "duration": 129,
    "start_time": "2023-01-11T09:10:34.251Z"
   },
   {
    "duration": 168,
    "start_time": "2023-01-11T09:11:13.918Z"
   },
   {
    "duration": 194,
    "start_time": "2023-01-11T09:16:45.852Z"
   },
   {
    "duration": 180,
    "start_time": "2023-01-11T09:21:51.319Z"
   },
   {
    "duration": 1125,
    "start_time": "2023-01-11T09:25:40.292Z"
   },
   {
    "duration": 4,
    "start_time": "2023-01-11T09:25:42.099Z"
   },
   {
    "duration": 1142,
    "start_time": "2023-01-11T09:25:53.859Z"
   },
   {
    "duration": 4,
    "start_time": "2023-01-11T09:25:57.479Z"
   },
   {
    "duration": 145,
    "start_time": "2023-01-11T09:28:02.726Z"
   },
   {
    "duration": 13,
    "start_time": "2023-01-11T09:29:42.278Z"
   },
   {
    "duration": 110,
    "start_time": "2023-01-11T09:29:46.088Z"
   },
   {
    "duration": 4,
    "start_time": "2023-01-11T09:29:47.280Z"
   },
   {
    "duration": 29,
    "start_time": "2023-01-11T09:34:26.847Z"
   },
   {
    "duration": 4,
    "start_time": "2023-01-11T09:34:27.643Z"
   },
   {
    "duration": 101,
    "start_time": "2023-01-11T09:34:35.977Z"
   },
   {
    "duration": 4,
    "start_time": "2023-01-11T09:34:36.661Z"
   },
   {
    "duration": 21,
    "start_time": "2023-01-11T09:34:37.456Z"
   },
   {
    "duration": 4,
    "start_time": "2023-01-11T09:34:38.195Z"
   },
   {
    "duration": 152,
    "start_time": "2023-01-11T09:36:17.977Z"
   },
   {
    "duration": 21,
    "start_time": "2023-01-11T09:37:15.314Z"
   },
   {
    "duration": 4,
    "start_time": "2023-01-11T09:37:17.511Z"
   },
   {
    "duration": 5,
    "start_time": "2023-01-11T09:43:24.814Z"
   },
   {
    "duration": 9,
    "start_time": "2023-01-11T09:43:52.715Z"
   },
   {
    "duration": 11,
    "start_time": "2023-01-11T09:44:28.942Z"
   },
   {
    "duration": 5,
    "start_time": "2023-01-11T09:48:34.280Z"
   },
   {
    "duration": 79,
    "start_time": "2023-01-11T09:51:08.130Z"
   },
   {
    "duration": 73,
    "start_time": "2023-01-11T09:51:22.445Z"
   },
   {
    "duration": 14,
    "start_time": "2023-01-11T09:51:33.700Z"
   },
   {
    "duration": 70,
    "start_time": "2023-01-11T09:53:18.779Z"
   },
   {
    "duration": 74,
    "start_time": "2023-01-11T09:53:30.687Z"
   },
   {
    "duration": 72,
    "start_time": "2023-01-11T09:53:49.456Z"
   },
   {
    "duration": 80,
    "start_time": "2023-01-11T09:54:09.479Z"
   },
   {
    "duration": 73,
    "start_time": "2023-01-11T09:54:58.590Z"
   },
   {
    "duration": 70,
    "start_time": "2023-01-11T09:55:07.557Z"
   },
   {
    "duration": 86,
    "start_time": "2023-01-11T09:55:27.350Z"
   },
   {
    "duration": 70,
    "start_time": "2023-01-11T09:56:00.388Z"
   },
   {
    "duration": 77,
    "start_time": "2023-01-11T09:57:03.735Z"
   },
   {
    "duration": 72,
    "start_time": "2023-01-11T09:57:46.340Z"
   },
   {
    "duration": 72,
    "start_time": "2023-01-11T09:57:57.368Z"
   },
   {
    "duration": 73,
    "start_time": "2023-01-11T09:58:33.593Z"
   },
   {
    "duration": 76,
    "start_time": "2023-01-11T09:58:43.743Z"
   },
   {
    "duration": 6,
    "start_time": "2023-01-11T09:59:04.030Z"
   },
   {
    "duration": 5,
    "start_time": "2023-01-11T09:59:50.350Z"
   },
   {
    "duration": 14,
    "start_time": "2023-01-11T10:00:14.944Z"
   },
   {
    "duration": 14,
    "start_time": "2023-01-11T10:00:22.763Z"
   },
   {
    "duration": 22,
    "start_time": "2023-01-11T10:03:22.114Z"
   },
   {
    "duration": 21,
    "start_time": "2023-01-11T10:04:45.722Z"
   },
   {
    "duration": 4,
    "start_time": "2023-01-11T10:05:04.745Z"
   },
   {
    "duration": 5,
    "start_time": "2023-01-11T10:05:10.446Z"
   },
   {
    "duration": 11,
    "start_time": "2023-01-11T10:05:30.378Z"
   },
   {
    "duration": 5,
    "start_time": "2023-01-11T10:07:18.948Z"
   },
   {
    "duration": 8,
    "start_time": "2023-01-11T10:07:20.760Z"
   },
   {
    "duration": 5,
    "start_time": "2023-01-11T10:07:49.215Z"
   },
   {
    "duration": 11,
    "start_time": "2023-01-11T10:07:51.904Z"
   },
   {
    "duration": 5,
    "start_time": "2023-01-11T10:08:01.166Z"
   },
   {
    "duration": 8,
    "start_time": "2023-01-11T10:08:03.504Z"
   },
   {
    "duration": 92,
    "start_time": "2023-01-11T10:08:49.127Z"
   },
   {
    "duration": 9,
    "start_time": "2023-01-11T10:08:49.608Z"
   },
   {
    "duration": 5,
    "start_time": "2023-01-11T10:08:58.775Z"
   },
   {
    "duration": 9,
    "start_time": "2023-01-11T10:08:59.818Z"
   },
   {
    "duration": 152,
    "start_time": "2023-01-11T10:11:20.809Z"
   },
   {
    "duration": 4,
    "start_time": "2023-01-11T10:12:36.766Z"
   },
   {
    "duration": 8,
    "start_time": "2023-01-11T10:12:37.164Z"
   },
   {
    "duration": 166,
    "start_time": "2023-01-11T10:12:38.847Z"
   },
   {
    "duration": 147,
    "start_time": "2023-01-11T10:12:53.719Z"
   },
   {
    "duration": 163,
    "start_time": "2023-01-11T10:12:58.558Z"
   },
   {
    "duration": 160,
    "start_time": "2023-01-11T10:13:02.793Z"
   },
   {
    "duration": 158,
    "start_time": "2023-01-11T10:13:08.554Z"
   },
   {
    "duration": 164,
    "start_time": "2023-01-11T10:14:44.816Z"
   },
   {
    "duration": 159,
    "start_time": "2023-01-11T10:15:06.448Z"
   },
   {
    "duration": 81,
    "start_time": "2023-01-11T10:16:07.253Z"
   },
   {
    "duration": 207,
    "start_time": "2023-01-11T10:16:16.146Z"
   },
   {
    "duration": 16,
    "start_time": "2023-01-11T10:29:26.091Z"
   },
   {
    "duration": 10,
    "start_time": "2023-01-11T10:30:29.653Z"
   },
   {
    "duration": 6,
    "start_time": "2023-01-11T10:30:40.842Z"
   },
   {
    "duration": 10,
    "start_time": "2023-01-11T10:30:54.075Z"
   },
   {
    "duration": 189,
    "start_time": "2023-01-11T10:32:01.248Z"
   },
   {
    "duration": 189,
    "start_time": "2023-01-11T10:32:20.147Z"
   },
   {
    "duration": 4,
    "start_time": "2023-01-11T10:32:32.863Z"
   },
   {
    "duration": 205,
    "start_time": "2023-01-11T10:32:34.101Z"
   },
   {
    "duration": 5,
    "start_time": "2023-01-11T10:32:48.589Z"
   },
   {
    "duration": 11,
    "start_time": "2023-01-11T10:32:49.598Z"
   },
   {
    "duration": 348,
    "start_time": "2023-01-11T10:32:50.809Z"
   },
   {
    "duration": 1471,
    "start_time": "2023-01-11T10:34:19.777Z"
   },
   {
    "duration": 41,
    "start_time": "2023-01-11T10:34:21.251Z"
   },
   {
    "duration": 15,
    "start_time": "2023-01-11T10:34:21.293Z"
   },
   {
    "duration": 30,
    "start_time": "2023-01-11T10:34:21.311Z"
   },
   {
    "duration": 12,
    "start_time": "2023-01-11T10:34:21.344Z"
   },
   {
    "duration": 18,
    "start_time": "2023-01-11T10:34:21.378Z"
   },
   {
    "duration": 7,
    "start_time": "2023-01-11T10:34:21.398Z"
   },
   {
    "duration": 26,
    "start_time": "2023-01-11T10:34:21.407Z"
   },
   {
    "duration": 158,
    "start_time": "2023-01-11T10:34:21.435Z"
   },
   {
    "duration": 8,
    "start_time": "2023-01-11T10:34:21.597Z"
   },
   {
    "duration": 171,
    "start_time": "2023-01-11T10:34:21.608Z"
   },
   {
    "duration": 15,
    "start_time": "2023-01-11T10:34:21.781Z"
   },
   {
    "duration": 5,
    "start_time": "2023-01-11T10:34:21.798Z"
   },
   {
    "duration": 17,
    "start_time": "2023-01-11T10:34:21.805Z"
   },
   {
    "duration": 17,
    "start_time": "2023-01-11T10:34:21.824Z"
   },
   {
    "duration": 51,
    "start_time": "2023-01-11T10:34:21.844Z"
   },
   {
    "duration": 11,
    "start_time": "2023-01-11T10:34:21.898Z"
   },
   {
    "duration": 15,
    "start_time": "2023-01-11T10:34:21.911Z"
   },
   {
    "duration": 11,
    "start_time": "2023-01-11T10:34:21.928Z"
   },
   {
    "duration": 6,
    "start_time": "2023-01-11T10:34:21.941Z"
   },
   {
    "duration": 9,
    "start_time": "2023-01-11T10:34:21.948Z"
   },
   {
    "duration": 6,
    "start_time": "2023-01-11T10:34:21.978Z"
   },
   {
    "duration": 45,
    "start_time": "2023-01-11T10:34:21.986Z"
   },
   {
    "duration": 2677,
    "start_time": "2023-01-11T10:34:22.034Z"
   },
   {
    "duration": 3,
    "start_time": "2023-01-11T10:34:24.713Z"
   },
   {
    "duration": 10,
    "start_time": "2023-01-11T10:34:24.719Z"
   },
   {
    "duration": 8,
    "start_time": "2023-01-11T10:34:24.731Z"
   },
   {
    "duration": 9,
    "start_time": "2023-01-11T10:34:24.744Z"
   },
   {
    "duration": 207,
    "start_time": "2023-01-11T10:34:24.779Z"
   },
   {
    "duration": 84839,
    "start_time": "2023-01-11T10:34:24.988Z"
   },
   {
    "duration": 5,
    "start_time": "2023-01-11T10:35:49.829Z"
   },
   {
    "duration": 12,
    "start_time": "2023-01-11T10:35:49.836Z"
   },
   {
    "duration": 38,
    "start_time": "2023-01-11T10:35:49.851Z"
   },
   {
    "duration": 227,
    "start_time": "2023-01-11T10:35:49.891Z"
   },
   {
    "duration": 28253,
    "start_time": "2023-01-11T10:35:50.120Z"
   },
   {
    "duration": 4,
    "start_time": "2023-01-11T10:36:18.375Z"
   },
   {
    "duration": 9,
    "start_time": "2023-01-11T10:36:18.381Z"
   },
   {
    "duration": 170,
    "start_time": "2023-01-11T10:36:18.392Z"
   },
   {
    "duration": 111714,
    "start_time": "2023-01-11T10:36:18.564Z"
   },
   {
    "duration": 5,
    "start_time": "2023-01-11T10:38:10.280Z"
   },
   {
    "duration": 19,
    "start_time": "2023-01-11T10:38:10.287Z"
   },
   {
    "duration": 162,
    "start_time": "2023-01-11T10:38:10.308Z"
   },
   {
    "duration": 7,
    "start_time": "2023-01-11T10:38:10.479Z"
   },
   {
    "duration": 43,
    "start_time": "2023-01-11T10:38:10.488Z"
   },
   {
    "duration": 4,
    "start_time": "2023-01-11T10:38:10.532Z"
   },
   {
    "duration": 1034,
    "start_time": "2023-01-11T10:38:10.538Z"
   },
   {
    "duration": 9,
    "start_time": "2023-01-11T10:38:11.574Z"
   },
   {
    "duration": 94,
    "start_time": "2023-01-11T10:38:11.585Z"
   },
   {
    "duration": 5,
    "start_time": "2023-01-11T10:38:11.682Z"
   },
   {
    "duration": 98,
    "start_time": "2023-01-11T10:38:11.690Z"
   },
   {
    "duration": 19,
    "start_time": "2023-01-11T10:38:11.789Z"
   },
   {
    "duration": 164,
    "start_time": "2023-01-11T10:38:11.810Z"
   },
   {
    "duration": 14,
    "start_time": "2023-01-11T10:38:11.978Z"
   },
   {
    "duration": 49,
    "start_time": "2023-01-11T10:38:11.993Z"
   },
   {
    "duration": 3,
    "start_time": "2023-01-11T10:38:12.044Z"
   },
   {
    "duration": 2470,
    "start_time": "2023-01-11T10:38:12.049Z"
   },
   {
    "duration": 4,
    "start_time": "2023-01-11T10:38:14.522Z"
   },
   {
    "duration": 68,
    "start_time": "2023-01-11T10:38:14.528Z"
   },
   {
    "duration": 84,
    "start_time": "2023-01-11T10:38:14.598Z"
   },
   {
    "duration": 108,
    "start_time": "2023-01-11T10:38:14.683Z"
   },
   {
    "duration": 22,
    "start_time": "2023-01-11T10:38:14.793Z"
   },
   {
    "duration": 4,
    "start_time": "2023-01-11T10:38:14.817Z"
   },
   {
    "duration": 871,
    "start_time": "2023-01-11T10:38:14.823Z"
   },
   {
    "duration": 5,
    "start_time": "2023-01-11T10:38:15.696Z"
   },
   {
    "duration": 31,
    "start_time": "2023-01-11T10:38:15.703Z"
   },
   {
    "duration": 42,
    "start_time": "2023-01-11T10:38:15.736Z"
   },
   {
    "duration": 128,
    "start_time": "2023-01-11T10:38:15.780Z"
   },
   {
    "duration": 4,
    "start_time": "2023-01-11T10:38:15.910Z"
   },
   {
    "duration": 37,
    "start_time": "2023-01-11T10:38:15.916Z"
   },
   {
    "duration": 6,
    "start_time": "2023-01-11T10:38:15.955Z"
   },
   {
    "duration": 163,
    "start_time": "2023-01-11T10:38:15.963Z"
   },
   {
    "duration": 1024,
    "start_time": "2023-01-11T10:38:16.128Z"
   },
   {
    "duration": 4,
    "start_time": "2023-01-11T10:38:17.154Z"
   },
   {
    "duration": 992,
    "start_time": "2023-01-11T10:38:17.160Z"
   },
   {
    "duration": 4,
    "start_time": "2023-01-11T10:38:18.154Z"
   },
   {
    "duration": 153,
    "start_time": "2023-01-11T10:38:18.160Z"
   },
   {
    "duration": 29,
    "start_time": "2023-01-11T10:38:18.315Z"
   },
   {
    "duration": 38,
    "start_time": "2023-01-11T10:38:18.346Z"
   },
   {
    "duration": 122,
    "start_time": "2023-01-11T10:38:18.386Z"
   },
   {
    "duration": 5,
    "start_time": "2023-01-11T10:38:18.511Z"
   },
   {
    "duration": 243,
    "start_time": "2023-01-11T10:38:18.580Z"
   },
   {
    "duration": 6,
    "start_time": "2023-01-11T10:38:18.830Z"
   },
   {
    "duration": 15,
    "start_time": "2023-01-11T10:38:18.838Z"
   },
   {
    "duration": 195,
    "start_time": "2023-01-11T10:38:18.855Z"
   },
   {
    "duration": 90,
    "start_time": "2023-01-11T10:38:19.052Z"
   },
   {
    "duration": 5,
    "start_time": "2023-01-11T10:38:19.144Z"
   },
   {
    "duration": 5,
    "start_time": "2023-01-11T10:41:11.211Z"
   },
   {
    "duration": 8,
    "start_time": "2023-01-11T10:41:13.762Z"
   },
   {
    "duration": 144,
    "start_time": "2023-01-11T11:01:16.582Z"
   },
   {
    "duration": 108,
    "start_time": "2023-01-11T11:08:19.516Z"
   },
   {
    "duration": 9,
    "start_time": "2023-01-11T11:09:40.736Z"
   },
   {
    "duration": 9,
    "start_time": "2023-01-11T11:09:49.307Z"
   },
   {
    "duration": 7,
    "start_time": "2023-01-11T11:10:01.771Z"
   },
   {
    "duration": 70,
    "start_time": "2023-01-11T11:11:17.468Z"
   },
   {
    "duration": 7,
    "start_time": "2023-01-11T11:11:18.306Z"
   },
   {
    "duration": 24,
    "start_time": "2023-01-11T11:11:22.717Z"
   },
   {
    "duration": 5,
    "start_time": "2023-01-11T11:12:19.803Z"
   },
   {
    "duration": 11,
    "start_time": "2023-01-11T11:12:20.934Z"
   },
   {
    "duration": 79,
    "start_time": "2023-01-11T11:41:44.260Z"
   },
   {
    "duration": 3,
    "start_time": "2023-01-11T11:41:45.256Z"
   },
   {
    "duration": 4,
    "start_time": "2023-01-11T11:42:04.480Z"
   },
   {
    "duration": 85,
    "start_time": "2023-01-11T11:44:26.038Z"
   },
   {
    "duration": 84,
    "start_time": "2023-01-11T11:48:10.010Z"
   },
   {
    "duration": 4,
    "start_time": "2023-01-11T11:48:20.560Z"
   },
   {
    "duration": 12,
    "start_time": "2023-01-11T12:21:11.576Z"
   },
   {
    "duration": 23,
    "start_time": "2023-01-11T12:21:13.487Z"
   },
   {
    "duration": 5,
    "start_time": "2023-01-11T12:21:14.932Z"
   },
   {
    "duration": 784,
    "start_time": "2023-01-11T12:21:16.508Z"
   },
   {
    "duration": 4,
    "start_time": "2023-01-11T12:21:17.829Z"
   },
   {
    "duration": 201,
    "start_time": "2023-01-11T12:40:06.859Z"
   },
   {
    "duration": 240,
    "start_time": "2023-01-11T12:40:31.057Z"
   },
   {
    "duration": 144,
    "start_time": "2023-01-11T12:42:17.970Z"
   },
   {
    "duration": 162,
    "start_time": "2023-01-11T12:42:31.531Z"
   },
   {
    "duration": 157,
    "start_time": "2023-01-11T12:42:50.137Z"
   },
   {
    "duration": 141,
    "start_time": "2023-01-11T12:45:03.373Z"
   },
   {
    "duration": 76,
    "start_time": "2023-01-11T12:51:01.340Z"
   },
   {
    "duration": 148,
    "start_time": "2023-01-11T12:51:09.763Z"
   },
   {
    "duration": 178,
    "start_time": "2023-01-11T12:51:49.096Z"
   },
   {
    "duration": 143,
    "start_time": "2023-01-11T12:56:19.320Z"
   },
   {
    "duration": 159,
    "start_time": "2023-01-11T13:04:57.134Z"
   },
   {
    "duration": 146,
    "start_time": "2023-01-11T13:08:16.316Z"
   },
   {
    "duration": 163,
    "start_time": "2023-01-11T13:08:29.796Z"
   },
   {
    "duration": 164,
    "start_time": "2023-01-11T13:09:16.819Z"
   },
   {
    "duration": 187,
    "start_time": "2023-01-11T13:11:53.770Z"
   },
   {
    "duration": 1445,
    "start_time": "2023-01-11T13:18:06.579Z"
   },
   {
    "duration": 42,
    "start_time": "2023-01-11T13:18:08.025Z"
   },
   {
    "duration": 15,
    "start_time": "2023-01-11T13:18:08.068Z"
   },
   {
    "duration": 40,
    "start_time": "2023-01-11T13:18:08.085Z"
   },
   {
    "duration": 20,
    "start_time": "2023-01-11T13:18:08.127Z"
   },
   {
    "duration": 16,
    "start_time": "2023-01-11T13:18:08.148Z"
   },
   {
    "duration": 4,
    "start_time": "2023-01-11T13:18:08.166Z"
   },
   {
    "duration": 19,
    "start_time": "2023-01-11T13:18:08.171Z"
   },
   {
    "duration": 147,
    "start_time": "2023-01-11T13:18:08.192Z"
   },
   {
    "duration": 7,
    "start_time": "2023-01-11T13:18:08.342Z"
   },
   {
    "duration": 149,
    "start_time": "2023-01-11T13:18:08.350Z"
   },
   {
    "duration": 14,
    "start_time": "2023-01-11T13:18:08.500Z"
   },
   {
    "duration": 14,
    "start_time": "2023-01-11T13:18:08.516Z"
   },
   {
    "duration": 24,
    "start_time": "2023-01-11T13:18:08.532Z"
   },
   {
    "duration": 20,
    "start_time": "2023-01-11T13:18:08.558Z"
   },
   {
    "duration": 14,
    "start_time": "2023-01-11T13:18:08.580Z"
   },
   {
    "duration": 22,
    "start_time": "2023-01-11T13:18:08.596Z"
   },
   {
    "duration": 11,
    "start_time": "2023-01-11T13:18:08.620Z"
   },
   {
    "duration": 9,
    "start_time": "2023-01-11T13:18:08.632Z"
   },
   {
    "duration": 6,
    "start_time": "2023-01-11T13:18:08.643Z"
   },
   {
    "duration": 12,
    "start_time": "2023-01-11T13:18:08.650Z"
   },
   {
    "duration": 11,
    "start_time": "2023-01-11T13:18:08.663Z"
   },
   {
    "duration": 35,
    "start_time": "2023-01-11T13:18:08.676Z"
   },
   {
    "duration": 2216,
    "start_time": "2023-01-11T13:18:08.713Z"
   },
   {
    "duration": 3,
    "start_time": "2023-01-11T13:18:10.932Z"
   },
   {
    "duration": 13,
    "start_time": "2023-01-11T13:18:10.937Z"
   },
   {
    "duration": 14,
    "start_time": "2023-01-11T13:18:10.952Z"
   },
   {
    "duration": 17,
    "start_time": "2023-01-11T13:18:10.971Z"
   },
   {
    "duration": 200,
    "start_time": "2023-01-11T13:18:10.990Z"
   },
   {
    "duration": 83314,
    "start_time": "2023-01-11T13:18:11.192Z"
   },
   {
    "duration": 3,
    "start_time": "2023-01-11T13:19:34.508Z"
   },
   {
    "duration": 11,
    "start_time": "2023-01-11T13:19:34.513Z"
   },
   {
    "duration": 13,
    "start_time": "2023-01-11T13:19:34.526Z"
   },
   {
    "duration": 206,
    "start_time": "2023-01-11T13:19:34.541Z"
   },
   {
    "duration": 26997,
    "start_time": "2023-01-11T13:19:34.749Z"
   },
   {
    "duration": 4,
    "start_time": "2023-01-11T13:20:01.748Z"
   },
   {
    "duration": 30,
    "start_time": "2023-01-11T13:20:01.753Z"
   },
   {
    "duration": 256,
    "start_time": "2023-01-11T13:20:01.785Z"
   },
   {
    "duration": 109735,
    "start_time": "2023-01-11T13:20:02.043Z"
   },
   {
    "duration": 4,
    "start_time": "2023-01-11T13:21:51.780Z"
   },
   {
    "duration": 17,
    "start_time": "2023-01-11T13:21:51.786Z"
   },
   {
    "duration": 166,
    "start_time": "2023-01-11T13:21:51.804Z"
   },
   {
    "duration": 13,
    "start_time": "2023-01-11T13:21:51.972Z"
   },
   {
    "duration": 33,
    "start_time": "2023-01-11T13:21:51.987Z"
   },
   {
    "duration": 5,
    "start_time": "2023-01-11T13:21:52.022Z"
   },
   {
    "duration": 1083,
    "start_time": "2023-01-11T13:21:52.029Z"
   },
   {
    "duration": 4,
    "start_time": "2023-01-11T13:21:53.114Z"
   },
   {
    "duration": 59,
    "start_time": "2023-01-11T13:21:53.120Z"
   },
   {
    "duration": 5,
    "start_time": "2023-01-11T13:21:53.181Z"
   },
   {
    "duration": 100,
    "start_time": "2023-01-11T13:21:53.187Z"
   },
   {
    "duration": 25,
    "start_time": "2023-01-11T13:21:53.289Z"
   },
   {
    "duration": 173,
    "start_time": "2023-01-11T13:21:53.316Z"
   },
   {
    "duration": 15,
    "start_time": "2023-01-11T13:21:53.491Z"
   },
   {
    "duration": 54,
    "start_time": "2023-01-11T13:21:53.507Z"
   },
   {
    "duration": 17,
    "start_time": "2023-01-11T13:21:53.563Z"
   },
   {
    "duration": 2521,
    "start_time": "2023-01-11T13:21:53.581Z"
   },
   {
    "duration": 4,
    "start_time": "2023-01-11T13:21:56.103Z"
   },
   {
    "duration": 74,
    "start_time": "2023-01-11T13:21:56.108Z"
   },
   {
    "duration": 95,
    "start_time": "2023-01-11T13:21:56.183Z"
   },
   {
    "duration": 115,
    "start_time": "2023-01-11T13:21:56.280Z"
   },
   {
    "duration": 22,
    "start_time": "2023-01-11T13:21:56.396Z"
   },
   {
    "duration": 4,
    "start_time": "2023-01-11T13:21:56.419Z"
   },
   {
    "duration": 762,
    "start_time": "2023-01-11T13:21:56.425Z"
   },
   {
    "duration": 4,
    "start_time": "2023-01-11T13:21:57.189Z"
   },
   {
    "duration": 86,
    "start_time": "2023-01-11T13:21:57.195Z"
   },
   {
    "duration": 94,
    "start_time": "2023-01-11T13:21:57.284Z"
   },
   {
    "duration": 35,
    "start_time": "2023-01-11T13:21:57.380Z"
   },
   {
    "duration": 3,
    "start_time": "2023-01-11T13:21:57.417Z"
   },
   {
    "duration": 29,
    "start_time": "2023-01-11T13:21:57.422Z"
   },
   {
    "duration": 4,
    "start_time": "2023-01-11T13:21:57.453Z"
   },
   {
    "duration": 169,
    "start_time": "2023-01-11T13:21:57.477Z"
   },
   {
    "duration": 988,
    "start_time": "2023-01-11T13:21:57.647Z"
   },
   {
    "duration": 4,
    "start_time": "2023-01-11T13:21:58.637Z"
   },
   {
    "duration": 962,
    "start_time": "2023-01-11T13:21:58.643Z"
   },
   {
    "duration": 4,
    "start_time": "2023-01-11T13:21:59.607Z"
   },
   {
    "duration": 178,
    "start_time": "2023-01-11T13:21:59.612Z"
   },
   {
    "duration": 88,
    "start_time": "2023-01-11T13:21:59.792Z"
   },
   {
    "duration": 4,
    "start_time": "2023-01-11T13:21:59.882Z"
   },
   {
    "duration": 129,
    "start_time": "2023-01-11T13:21:59.888Z"
   },
   {
    "duration": 6,
    "start_time": "2023-01-11T13:22:00.019Z"
   },
   {
    "duration": 270,
    "start_time": "2023-01-11T13:22:00.080Z"
   },
   {
    "duration": 4,
    "start_time": "2023-01-11T13:22:00.355Z"
   },
   {
    "duration": 18,
    "start_time": "2023-01-11T13:22:00.361Z"
   },
   {
    "duration": 155,
    "start_time": "2023-01-11T13:22:00.381Z"
   },
   {
    "duration": 4,
    "start_time": "2023-01-11T13:22:00.538Z"
   },
   {
    "duration": 41,
    "start_time": "2023-01-11T13:22:00.544Z"
   },
   {
    "duration": 183,
    "start_time": "2023-01-11T13:22:00.586Z"
   },
   {
    "duration": 0,
    "start_time": "2023-01-11T13:22:00.771Z"
   },
   {
    "duration": 0,
    "start_time": "2023-01-11T13:22:00.772Z"
   },
   {
    "duration": 0,
    "start_time": "2023-01-11T13:22:00.778Z"
   },
   {
    "duration": 79,
    "start_time": "2023-01-11T13:23:38.517Z"
   },
   {
    "duration": 89,
    "start_time": "2023-01-11T13:23:44.043Z"
   },
   {
    "duration": 11,
    "start_time": "2023-01-11T13:23:51.554Z"
   },
   {
    "duration": 80,
    "start_time": "2023-01-11T13:24:07.909Z"
   },
   {
    "duration": 4,
    "start_time": "2023-01-11T13:24:08.478Z"
   },
   {
    "duration": 87,
    "start_time": "2023-01-11T13:26:51.734Z"
   },
   {
    "duration": 4,
    "start_time": "2023-01-11T13:26:52.677Z"
   },
   {
    "duration": 49,
    "start_time": "2023-01-12T13:11:03.094Z"
   },
   {
    "duration": 1520,
    "start_time": "2023-01-12T13:11:17.193Z"
   },
   {
    "duration": 90,
    "start_time": "2023-01-12T13:11:18.854Z"
   },
   {
    "duration": 13,
    "start_time": "2023-01-12T13:11:19.901Z"
   },
   {
    "duration": 28,
    "start_time": "2023-01-12T13:11:21.400Z"
   },
   {
    "duration": 10,
    "start_time": "2023-01-12T13:11:23.032Z"
   },
   {
    "duration": 15,
    "start_time": "2023-01-12T13:11:26.000Z"
   },
   {
    "duration": 5,
    "start_time": "2023-01-12T13:11:31.717Z"
   },
   {
    "duration": 13,
    "start_time": "2023-01-12T13:11:34.953Z"
   },
   {
    "duration": 145,
    "start_time": "2023-01-12T13:11:37.157Z"
   },
   {
    "duration": 87,
    "start_time": "2023-01-12T13:11:39.421Z"
   },
   {
    "duration": 14,
    "start_time": "2023-01-12T13:12:14.077Z"
   },
   {
    "duration": 5,
    "start_time": "2023-01-12T13:14:11.789Z"
   },
   {
    "duration": 12,
    "start_time": "2023-01-12T13:14:52.836Z"
   },
   {
    "duration": 7,
    "start_time": "2023-01-12T13:15:26.236Z"
   },
   {
    "duration": 1931,
    "start_time": "2023-01-12T15:38:48.081Z"
   },
   {
    "duration": 173,
    "start_time": "2023-01-12T15:38:51.401Z"
   },
   {
    "duration": 20,
    "start_time": "2023-01-12T15:38:51.908Z"
   },
   {
    "duration": 22,
    "start_time": "2023-01-12T15:38:53.034Z"
   },
   {
    "duration": 8,
    "start_time": "2023-01-12T15:38:54.578Z"
   },
   {
    "duration": 11,
    "start_time": "2023-01-12T15:38:56.876Z"
   },
   {
    "duration": 4,
    "start_time": "2023-01-12T15:39:03.968Z"
   },
   {
    "duration": 73,
    "start_time": "2023-01-12T15:41:25.627Z"
   },
   {
    "duration": 195,
    "start_time": "2023-01-12T15:44:41.633Z"
   },
   {
    "duration": 111,
    "start_time": "2023-01-12T15:47:40.390Z"
   },
   {
    "duration": 4,
    "start_time": "2023-01-12T15:48:31.155Z"
   },
   {
    "duration": 12,
    "start_time": "2023-01-12T15:48:37.501Z"
   },
   {
    "duration": 9,
    "start_time": "2023-01-12T15:48:39.076Z"
   },
   {
    "duration": 47,
    "start_time": "2023-01-12T15:54:24.685Z"
   },
   {
    "duration": 13,
    "start_time": "2023-01-12T15:54:25.560Z"
   },
   {
    "duration": 41,
    "start_time": "2023-01-12T15:57:08.800Z"
   },
   {
    "duration": 9,
    "start_time": "2023-01-12T15:57:09.865Z"
   },
   {
    "duration": 4,
    "start_time": "2023-01-12T15:57:19.091Z"
   },
   {
    "duration": 10,
    "start_time": "2023-01-12T16:09:37.403Z"
   },
   {
    "duration": 4,
    "start_time": "2023-01-12T16:10:00.519Z"
   },
   {
    "duration": 42,
    "start_time": "2023-01-12T16:10:01.944Z"
   },
   {
    "duration": 12,
    "start_time": "2023-01-12T16:10:02.794Z"
   },
   {
    "duration": 19,
    "start_time": "2023-01-12T16:10:03.615Z"
   },
   {
    "duration": 7,
    "start_time": "2023-01-12T16:10:05.164Z"
   },
   {
    "duration": 10,
    "start_time": "2023-01-12T16:10:06.251Z"
   },
   {
    "duration": 5,
    "start_time": "2023-01-12T16:10:14.419Z"
   },
   {
    "duration": 5,
    "start_time": "2023-01-12T16:10:15.839Z"
   },
   {
    "duration": 7,
    "start_time": "2023-01-12T16:10:16.848Z"
   },
   {
    "duration": 11,
    "start_time": "2023-01-12T16:10:18.354Z"
   },
   {
    "duration": 10,
    "start_time": "2023-01-12T16:10:23.784Z"
   },
   {
    "duration": 4,
    "start_time": "2023-01-12T16:10:28.097Z"
   },
   {
    "duration": 10,
    "start_time": "2023-01-12T16:10:30.455Z"
   },
   {
    "duration": 13,
    "start_time": "2023-01-12T16:10:38.382Z"
   },
   {
    "duration": 10,
    "start_time": "2023-01-12T16:10:39.167Z"
   },
   {
    "duration": 5,
    "start_time": "2023-01-12T16:11:03.696Z"
   },
   {
    "duration": 8,
    "start_time": "2023-01-12T16:11:05.163Z"
   },
   {
    "duration": 8,
    "start_time": "2023-01-12T16:11:07.282Z"
   },
   {
    "duration": 3,
    "start_time": "2023-01-12T16:11:08.202Z"
   },
   {
    "duration": 4,
    "start_time": "2023-01-12T16:11:09.219Z"
   },
   {
    "duration": 3,
    "start_time": "2023-01-12T16:11:10.718Z"
   },
   {
    "duration": 25,
    "start_time": "2023-01-12T16:11:29.650Z"
   },
   {
    "duration": 23,
    "start_time": "2023-01-12T16:21:19.151Z"
   },
   {
    "duration": 18,
    "start_time": "2023-01-12T16:21:37.218Z"
   },
   {
    "duration": 106,
    "start_time": "2023-01-12T16:22:07.852Z"
   },
   {
    "duration": 13,
    "start_time": "2023-01-12T16:22:52.305Z"
   },
   {
    "duration": 21,
    "start_time": "2023-01-12T16:23:11.984Z"
   },
   {
    "duration": 12,
    "start_time": "2023-01-12T16:23:33.987Z"
   },
   {
    "duration": 10,
    "start_time": "2023-01-12T16:23:43.726Z"
   },
   {
    "duration": 73,
    "start_time": "2023-01-12T16:28:43.631Z"
   },
   {
    "duration": 14,
    "start_time": "2023-01-12T16:28:55.958Z"
   },
   {
    "duration": 12,
    "start_time": "2023-01-12T16:30:49.671Z"
   },
   {
    "duration": 16,
    "start_time": "2023-01-12T16:54:17.914Z"
   },
   {
    "duration": 73,
    "start_time": "2023-01-12T16:55:24.059Z"
   },
   {
    "duration": 10,
    "start_time": "2023-01-12T16:56:08.902Z"
   },
   {
    "duration": 15,
    "start_time": "2023-01-12T16:56:25.608Z"
   },
   {
    "duration": 12,
    "start_time": "2023-01-12T17:12:58.098Z"
   },
   {
    "duration": 16,
    "start_time": "2023-01-12T17:13:19.838Z"
   },
   {
    "duration": 10,
    "start_time": "2023-01-12T17:16:26.512Z"
   },
   {
    "duration": 13,
    "start_time": "2023-01-12T17:16:36.969Z"
   },
   {
    "duration": 13,
    "start_time": "2023-01-12T17:21:02.816Z"
   },
   {
    "duration": 14,
    "start_time": "2023-01-12T17:28:25.452Z"
   },
   {
    "duration": 14,
    "start_time": "2023-01-12T17:30:19.321Z"
   },
   {
    "duration": 75,
    "start_time": "2023-01-12T17:31:11.056Z"
   },
   {
    "duration": 12,
    "start_time": "2023-01-12T17:31:31.749Z"
   },
   {
    "duration": 14,
    "start_time": "2023-01-12T17:32:01.614Z"
   },
   {
    "duration": 15,
    "start_time": "2023-01-12T17:32:40.745Z"
   },
   {
    "duration": 13,
    "start_time": "2023-01-12T17:40:56.956Z"
   },
   {
    "duration": 78,
    "start_time": "2023-01-12T17:43:32.190Z"
   },
   {
    "duration": 76,
    "start_time": "2023-01-12T17:43:50.145Z"
   },
   {
    "duration": 5,
    "start_time": "2023-01-12T17:46:51.326Z"
   },
   {
    "duration": 12,
    "start_time": "2023-01-12T18:03:47.271Z"
   },
   {
    "duration": 11,
    "start_time": "2023-01-12T18:11:55.826Z"
   },
   {
    "duration": 12,
    "start_time": "2023-01-12T18:13:23.574Z"
   },
   {
    "duration": 12,
    "start_time": "2023-01-12T18:13:52.152Z"
   },
   {
    "duration": 10,
    "start_time": "2023-01-12T18:15:17.634Z"
   },
   {
    "duration": 12,
    "start_time": "2023-01-12T18:15:27.717Z"
   },
   {
    "duration": 13,
    "start_time": "2023-01-12T18:18:25.159Z"
   },
   {
    "duration": 12,
    "start_time": "2023-01-12T19:03:22.827Z"
   },
   {
    "duration": 6,
    "start_time": "2023-01-12T19:03:30.990Z"
   },
   {
    "duration": 4,
    "start_time": "2023-01-12T19:04:54.895Z"
   },
   {
    "duration": 14,
    "start_time": "2023-01-12T19:06:26.013Z"
   },
   {
    "duration": 15,
    "start_time": "2023-01-12T19:19:44.503Z"
   },
   {
    "duration": 3,
    "start_time": "2023-01-12T19:19:56.207Z"
   },
   {
    "duration": 13,
    "start_time": "2023-01-12T19:20:09.852Z"
   },
   {
    "duration": 15,
    "start_time": "2023-01-12T19:21:00.268Z"
   },
   {
    "duration": 5,
    "start_time": "2023-01-12T19:21:39.504Z"
   },
   {
    "duration": 42,
    "start_time": "2023-01-12T19:21:41.369Z"
   },
   {
    "duration": 14,
    "start_time": "2023-01-12T19:21:42.496Z"
   },
   {
    "duration": 19,
    "start_time": "2023-01-12T19:21:44.252Z"
   },
   {
    "duration": 7,
    "start_time": "2023-01-12T19:21:45.397Z"
   },
   {
    "duration": 10,
    "start_time": "2023-01-12T19:21:46.700Z"
   },
   {
    "duration": 4,
    "start_time": "2023-01-12T19:21:50.995Z"
   },
   {
    "duration": 5,
    "start_time": "2023-01-12T19:21:52.741Z"
   },
   {
    "duration": 9,
    "start_time": "2023-01-12T19:21:53.612Z"
   },
   {
    "duration": 13,
    "start_time": "2023-01-12T19:21:54.870Z"
   },
   {
    "duration": 14,
    "start_time": "2023-01-12T19:21:58.334Z"
   },
   {
    "duration": 4,
    "start_time": "2023-01-12T19:22:01.942Z"
   },
   {
    "duration": 12,
    "start_time": "2023-01-12T19:22:04.573Z"
   },
   {
    "duration": 4,
    "start_time": "2023-01-12T19:22:07.847Z"
   },
   {
    "duration": 10,
    "start_time": "2023-01-12T19:22:08.996Z"
   },
   {
    "duration": 9,
    "start_time": "2023-01-12T19:22:09.991Z"
   },
   {
    "duration": 4,
    "start_time": "2023-01-12T19:22:10.907Z"
   },
   {
    "duration": 6,
    "start_time": "2023-01-12T19:22:11.623Z"
   },
   {
    "duration": 4,
    "start_time": "2023-01-12T19:22:11.906Z"
   },
   {
    "duration": 14,
    "start_time": "2023-01-12T19:22:16.942Z"
   },
   {
    "duration": 93,
    "start_time": "2023-01-12T19:26:41.148Z"
   },
   {
    "duration": 81,
    "start_time": "2023-01-12T19:26:47.405Z"
   },
   {
    "duration": 69,
    "start_time": "2023-01-12T19:27:28.884Z"
   },
   {
    "duration": 75,
    "start_time": "2023-01-12T19:27:36.952Z"
   },
   {
    "duration": 74,
    "start_time": "2023-01-12T19:28:54.679Z"
   },
   {
    "duration": 70,
    "start_time": "2023-01-12T19:29:23.378Z"
   },
   {
    "duration": 74,
    "start_time": "2023-01-12T19:30:10.895Z"
   },
   {
    "duration": 236,
    "start_time": "2023-01-12T19:30:27.441Z"
   },
   {
    "duration": 12,
    "start_time": "2023-01-12T19:31:48.167Z"
   },
   {
    "duration": 88,
    "start_time": "2023-01-12T19:34:03.788Z"
   },
   {
    "duration": 9,
    "start_time": "2023-01-12T19:34:10.480Z"
   },
   {
    "duration": 44,
    "start_time": "2023-01-13T04:38:01.405Z"
   },
   {
    "duration": 1350,
    "start_time": "2023-01-13T04:38:20.752Z"
   },
   {
    "duration": 81,
    "start_time": "2023-01-13T04:38:22.583Z"
   },
   {
    "duration": 13,
    "start_time": "2023-01-13T04:38:23.526Z"
   },
   {
    "duration": 20,
    "start_time": "2023-01-13T04:38:24.523Z"
   },
   {
    "duration": 7,
    "start_time": "2023-01-13T04:38:26.854Z"
   },
   {
    "duration": 10,
    "start_time": "2023-01-13T04:38:28.143Z"
   },
   {
    "duration": 5,
    "start_time": "2023-01-13T04:38:32.917Z"
   },
   {
    "duration": 5,
    "start_time": "2023-01-13T04:38:35.219Z"
   },
   {
    "duration": 8,
    "start_time": "2023-01-13T04:38:35.658Z"
   },
   {
    "duration": 13,
    "start_time": "2023-01-13T04:38:36.032Z"
   },
   {
    "duration": 11,
    "start_time": "2023-01-13T04:38:38.725Z"
   },
   {
    "duration": 4,
    "start_time": "2023-01-13T04:38:40.977Z"
   },
   {
    "duration": 10,
    "start_time": "2023-01-13T04:38:42.447Z"
   },
   {
    "duration": 4,
    "start_time": "2023-01-13T04:38:45.605Z"
   },
   {
    "duration": 8,
    "start_time": "2023-01-13T04:38:46.173Z"
   },
   {
    "duration": 9,
    "start_time": "2023-01-13T04:38:46.542Z"
   },
   {
    "duration": 3,
    "start_time": "2023-01-13T04:38:47.563Z"
   },
   {
    "duration": 4,
    "start_time": "2023-01-13T04:38:48.412Z"
   },
   {
    "duration": 4,
    "start_time": "2023-01-13T04:38:48.736Z"
   },
   {
    "duration": 82,
    "start_time": "2023-01-13T04:38:52.023Z"
   },
   {
    "duration": 14,
    "start_time": "2023-01-13T04:39:22.311Z"
   },
   {
    "duration": 12,
    "start_time": "2023-01-13T04:40:10.140Z"
   },
   {
    "duration": 8,
    "start_time": "2023-01-13T04:41:25.756Z"
   },
   {
    "duration": 9,
    "start_time": "2023-01-13T04:50:23.470Z"
   },
   {
    "duration": 20,
    "start_time": "2023-01-13T04:50:34.995Z"
   },
   {
    "duration": 12,
    "start_time": "2023-01-13T04:51:00.299Z"
   },
   {
    "duration": 15,
    "start_time": "2023-01-13T04:51:53.317Z"
   },
   {
    "duration": 14,
    "start_time": "2023-01-13T04:54:42.686Z"
   },
   {
    "duration": 20,
    "start_time": "2023-01-13T04:55:05.717Z"
   },
   {
    "duration": 17,
    "start_time": "2023-01-13T04:55:48.531Z"
   },
   {
    "duration": 129,
    "start_time": "2023-01-13T04:56:27.153Z"
   },
   {
    "duration": 5,
    "start_time": "2023-01-13T04:57:11.412Z"
   },
   {
    "duration": 4,
    "start_time": "2023-01-13T04:58:32.169Z"
   },
   {
    "duration": 5,
    "start_time": "2023-01-13T04:59:10.532Z"
   },
   {
    "duration": 117,
    "start_time": "2023-01-13T04:59:53.385Z"
   },
   {
    "duration": 132,
    "start_time": "2023-01-13T05:02:20.979Z"
   },
   {
    "duration": 4,
    "start_time": "2023-01-13T05:02:37.436Z"
   },
   {
    "duration": 118,
    "start_time": "2023-01-13T05:04:24.350Z"
   },
   {
    "duration": 36,
    "start_time": "2023-01-13T05:04:25.851Z"
   },
   {
    "duration": 4,
    "start_time": "2023-01-13T05:07:18.119Z"
   },
   {
    "duration": 6,
    "start_time": "2023-01-13T05:07:24.391Z"
   },
   {
    "duration": 9,
    "start_time": "2023-01-13T05:07:51.046Z"
   },
   {
    "duration": 9,
    "start_time": "2023-01-13T05:08:33.477Z"
   },
   {
    "duration": 8,
    "start_time": "2023-01-13T05:08:59.435Z"
   },
   {
    "duration": 19,
    "start_time": "2023-01-13T05:09:20.503Z"
   },
   {
    "duration": 7,
    "start_time": "2023-01-13T05:09:38.033Z"
   },
   {
    "duration": 11,
    "start_time": "2023-01-13T05:10:11.421Z"
   },
   {
    "duration": 3,
    "start_time": "2023-01-13T05:11:08.659Z"
   },
   {
    "duration": 19,
    "start_time": "2023-01-13T05:22:39.183Z"
   },
   {
    "duration": 12,
    "start_time": "2023-01-13T05:24:03.588Z"
   },
   {
    "duration": 12,
    "start_time": "2023-01-13T05:24:57.179Z"
   },
   {
    "duration": 4,
    "start_time": "2023-01-13T05:25:20.230Z"
   },
   {
    "duration": 4,
    "start_time": "2023-01-13T05:25:33.596Z"
   },
   {
    "duration": 4,
    "start_time": "2023-01-13T05:25:49.028Z"
   },
   {
    "duration": 15,
    "start_time": "2023-01-13T05:33:08.035Z"
   },
   {
    "duration": 16,
    "start_time": "2023-01-13T05:33:57.015Z"
   },
   {
    "duration": 11,
    "start_time": "2023-01-13T05:34:17.442Z"
   },
   {
    "duration": 4,
    "start_time": "2023-01-13T05:35:18.750Z"
   },
   {
    "duration": 47,
    "start_time": "2023-01-13T05:35:44.728Z"
   },
   {
    "duration": 11,
    "start_time": "2023-01-13T05:35:45.874Z"
   },
   {
    "duration": 17,
    "start_time": "2023-01-13T05:36:01.160Z"
   },
   {
    "duration": 11,
    "start_time": "2023-01-13T05:36:02.276Z"
   },
   {
    "duration": 7,
    "start_time": "2023-01-13T05:36:27.849Z"
   },
   {
    "duration": 9,
    "start_time": "2023-01-13T05:36:30.671Z"
   },
   {
    "duration": 4,
    "start_time": "2023-01-13T05:36:56.526Z"
   },
   {
    "duration": 9,
    "start_time": "2023-01-13T05:37:52.738Z"
   },
   {
    "duration": 10,
    "start_time": "2023-01-13T05:37:53.806Z"
   },
   {
    "duration": 4,
    "start_time": "2023-01-13T05:37:58.679Z"
   },
   {
    "duration": 9,
    "start_time": "2023-01-13T05:38:30.154Z"
   },
   {
    "duration": 4,
    "start_time": "2023-01-13T05:38:38.790Z"
   },
   {
    "duration": 9,
    "start_time": "2023-01-13T05:39:56.990Z"
   },
   {
    "duration": 3,
    "start_time": "2023-01-13T05:40:18.536Z"
   },
   {
    "duration": 8,
    "start_time": "2023-01-13T05:40:26.481Z"
   },
   {
    "duration": 9,
    "start_time": "2023-01-13T05:40:38.877Z"
   },
   {
    "duration": 9,
    "start_time": "2023-01-13T05:40:53.198Z"
   },
   {
    "duration": 9,
    "start_time": "2023-01-13T05:41:27.606Z"
   },
   {
    "duration": 9,
    "start_time": "2023-01-13T05:41:34.738Z"
   },
   {
    "duration": 9,
    "start_time": "2023-01-13T05:41:47.830Z"
   },
   {
    "duration": 10,
    "start_time": "2023-01-13T05:41:51.960Z"
   },
   {
    "duration": 8,
    "start_time": "2023-01-13T05:41:52.782Z"
   },
   {
    "duration": 8,
    "start_time": "2023-01-13T05:41:58.352Z"
   },
   {
    "duration": 7,
    "start_time": "2023-01-13T05:42:04.551Z"
   },
   {
    "duration": 12,
    "start_time": "2023-01-13T05:42:05.512Z"
   },
   {
    "duration": 4,
    "start_time": "2023-01-13T05:42:07.652Z"
   },
   {
    "duration": 5,
    "start_time": "2023-01-13T05:46:26.264Z"
   },
   {
    "duration": 4,
    "start_time": "2023-01-13T05:46:51.573Z"
   },
   {
    "duration": 4,
    "start_time": "2023-01-13T05:46:56.471Z"
   },
   {
    "duration": 4,
    "start_time": "2023-01-13T05:47:20.018Z"
   },
   {
    "duration": 5,
    "start_time": "2023-01-13T05:47:46.739Z"
   },
   {
    "duration": 4,
    "start_time": "2023-01-13T05:47:54.077Z"
   },
   {
    "duration": 3,
    "start_time": "2023-01-13T05:48:36.178Z"
   },
   {
    "duration": 2,
    "start_time": "2023-01-13T05:48:39.224Z"
   },
   {
    "duration": 3,
    "start_time": "2023-01-13T05:48:49.024Z"
   },
   {
    "duration": 4,
    "start_time": "2023-01-13T05:48:50.315Z"
   },
   {
    "duration": 4,
    "start_time": "2023-01-13T05:49:00.720Z"
   },
   {
    "duration": 3,
    "start_time": "2023-01-13T05:49:02.564Z"
   },
   {
    "duration": 42,
    "start_time": "2023-01-13T05:49:55.908Z"
   },
   {
    "duration": 61,
    "start_time": "2023-01-13T05:54:16.826Z"
   },
   {
    "duration": 9,
    "start_time": "2023-01-13T05:54:32.311Z"
   },
   {
    "duration": 49,
    "start_time": "2023-01-13T05:56:21.010Z"
   },
   {
    "duration": 47,
    "start_time": "2023-01-13T05:56:42.616Z"
   },
   {
    "duration": 4,
    "start_time": "2023-01-13T05:56:54.586Z"
   },
   {
    "duration": 17,
    "start_time": "2023-01-13T05:57:02.907Z"
   },
   {
    "duration": 3,
    "start_time": "2023-01-13T05:58:34.822Z"
   },
   {
    "duration": 8,
    "start_time": "2023-01-13T05:58:42.700Z"
   },
   {
    "duration": 11,
    "start_time": "2023-01-13T05:58:49.127Z"
   },
   {
    "duration": 737,
    "start_time": "2023-01-13T05:59:37.761Z"
   },
   {
    "duration": 19,
    "start_time": "2023-01-13T06:00:54.064Z"
   },
   {
    "duration": 13,
    "start_time": "2023-01-13T06:01:13.580Z"
   },
   {
    "duration": 16,
    "start_time": "2023-01-13T06:01:33.355Z"
   },
   {
    "duration": 12,
    "start_time": "2023-01-13T06:07:45.616Z"
   },
   {
    "duration": 17,
    "start_time": "2023-01-13T06:08:14.263Z"
   },
   {
    "duration": 17,
    "start_time": "2023-01-13T06:09:29.168Z"
   },
   {
    "duration": 15,
    "start_time": "2023-01-13T06:10:51.339Z"
   },
   {
    "duration": 15,
    "start_time": "2023-01-13T06:11:10.560Z"
   },
   {
    "duration": 3,
    "start_time": "2023-01-13T06:11:25.246Z"
   },
   {
    "duration": 40,
    "start_time": "2023-01-13T06:11:26.373Z"
   },
   {
    "duration": 11,
    "start_time": "2023-01-13T06:11:27.197Z"
   },
   {
    "duration": 17,
    "start_time": "2023-01-13T06:11:27.947Z"
   },
   {
    "duration": 7,
    "start_time": "2023-01-13T06:11:28.764Z"
   },
   {
    "duration": 11,
    "start_time": "2023-01-13T06:11:29.538Z"
   },
   {
    "duration": 5,
    "start_time": "2023-01-13T06:11:33.564Z"
   },
   {
    "duration": 5,
    "start_time": "2023-01-13T06:11:35.140Z"
   },
   {
    "duration": 7,
    "start_time": "2023-01-13T06:11:35.948Z"
   },
   {
    "duration": 13,
    "start_time": "2023-01-13T06:11:36.238Z"
   },
   {
    "duration": 11,
    "start_time": "2023-01-13T06:11:39.884Z"
   },
   {
    "duration": 4,
    "start_time": "2023-01-13T06:11:43.020Z"
   },
   {
    "duration": 11,
    "start_time": "2023-01-13T06:11:44.446Z"
   },
   {
    "duration": 3,
    "start_time": "2023-01-13T06:11:46.997Z"
   },
   {
    "duration": 8,
    "start_time": "2023-01-13T06:11:47.848Z"
   },
   {
    "duration": 7,
    "start_time": "2023-01-13T06:11:48.501Z"
   },
   {
    "duration": 4,
    "start_time": "2023-01-13T06:11:48.766Z"
   },
   {
    "duration": 4,
    "start_time": "2023-01-13T06:11:50.218Z"
   },
   {
    "duration": 4,
    "start_time": "2023-01-13T06:11:50.474Z"
   },
   {
    "duration": 18,
    "start_time": "2023-01-13T06:11:55.142Z"
   },
   {
    "duration": 97,
    "start_time": "2023-01-13T06:13:31.831Z"
   },
   {
    "duration": 10,
    "start_time": "2023-01-13T06:13:57.446Z"
   },
   {
    "duration": 21,
    "start_time": "2023-01-13T06:14:02.091Z"
   },
   {
    "duration": 49,
    "start_time": "2023-01-13T06:18:30.340Z"
   },
   {
    "duration": 46,
    "start_time": "2023-01-13T06:18:43.440Z"
   },
   {
    "duration": 12,
    "start_time": "2023-01-13T06:18:49.833Z"
   },
   {
    "duration": 11,
    "start_time": "2023-01-13T06:19:25.514Z"
   },
   {
    "duration": 4,
    "start_time": "2023-01-13T06:19:30.501Z"
   },
   {
    "duration": 8,
    "start_time": "2023-01-13T06:19:30.876Z"
   },
   {
    "duration": 8,
    "start_time": "2023-01-13T06:19:31.277Z"
   },
   {
    "duration": 3,
    "start_time": "2023-01-13T06:19:31.676Z"
   },
   {
    "duration": 4,
    "start_time": "2023-01-13T06:19:32.671Z"
   },
   {
    "duration": 4,
    "start_time": "2023-01-13T06:19:33.549Z"
   },
   {
    "duration": 9,
    "start_time": "2023-01-13T06:19:36.750Z"
   },
   {
    "duration": 22,
    "start_time": "2023-01-13T06:20:05.791Z"
   },
   {
    "duration": 15,
    "start_time": "2023-01-13T06:20:30.861Z"
   },
   {
    "duration": 19,
    "start_time": "2023-01-13T06:22:11.629Z"
   },
   {
    "duration": 9,
    "start_time": "2023-01-13T06:24:55.960Z"
   },
   {
    "duration": 8,
    "start_time": "2023-01-13T06:25:32.787Z"
   },
   {
    "duration": 14,
    "start_time": "2023-01-13T06:25:33.814Z"
   },
   {
    "duration": 4,
    "start_time": "2023-01-13T06:25:42.188Z"
   },
   {
    "duration": 10,
    "start_time": "2023-01-13T06:25:42.772Z"
   },
   {
    "duration": 6,
    "start_time": "2023-01-13T06:25:43.414Z"
   },
   {
    "duration": 4,
    "start_time": "2023-01-13T06:25:44.234Z"
   },
   {
    "duration": 4,
    "start_time": "2023-01-13T06:25:45.132Z"
   },
   {
    "duration": 4,
    "start_time": "2023-01-13T06:25:45.916Z"
   },
   {
    "duration": 8,
    "start_time": "2023-01-13T06:25:48.418Z"
   },
   {
    "duration": 12,
    "start_time": "2023-01-13T06:25:49.564Z"
   },
   {
    "duration": 11,
    "start_time": "2023-01-13T06:25:57.814Z"
   },
   {
    "duration": 11,
    "start_time": "2023-01-13T06:26:13.774Z"
   },
   {
    "duration": 46,
    "start_time": "2023-01-13T06:26:57.437Z"
   },
   {
    "duration": 47,
    "start_time": "2023-01-13T06:29:11.387Z"
   },
   {
    "duration": 10,
    "start_time": "2023-01-13T06:29:45.078Z"
   },
   {
    "duration": 13,
    "start_time": "2023-01-13T06:30:08.206Z"
   },
   {
    "duration": 14,
    "start_time": "2023-01-13T06:31:54.851Z"
   },
   {
    "duration": 17,
    "start_time": "2023-01-13T06:32:23.528Z"
   },
   {
    "duration": 19,
    "start_time": "2023-01-13T06:32:45.280Z"
   },
   {
    "duration": 5,
    "start_time": "2023-01-13T06:40:47.723Z"
   },
   {
    "duration": 8,
    "start_time": "2023-01-13T06:40:48.225Z"
   },
   {
    "duration": 8,
    "start_time": "2023-01-13T06:40:49.021Z"
   },
   {
    "duration": 4,
    "start_time": "2023-01-13T06:40:49.910Z"
   },
   {
    "duration": 4,
    "start_time": "2023-01-13T06:40:50.784Z"
   },
   {
    "duration": 3,
    "start_time": "2023-01-13T06:40:51.218Z"
   },
   {
    "duration": 11,
    "start_time": "2023-01-13T06:40:56.735Z"
   },
   {
    "duration": 84,
    "start_time": "2023-01-13T06:42:38.018Z"
   },
   {
    "duration": 19,
    "start_time": "2023-01-13T06:42:45.384Z"
   },
   {
    "duration": 19,
    "start_time": "2023-01-13T06:43:08.220Z"
   },
   {
    "duration": 66,
    "start_time": "2023-01-13T06:43:36.323Z"
   },
   {
    "duration": 57,
    "start_time": "2023-01-13T06:43:43.572Z"
   },
   {
    "duration": 18,
    "start_time": "2023-01-13T06:43:49.235Z"
   },
   {
    "duration": 18,
    "start_time": "2023-01-13T06:44:30.473Z"
   },
   {
    "duration": 19,
    "start_time": "2023-01-13T06:45:09.821Z"
   },
   {
    "duration": 17,
    "start_time": "2023-01-13T06:49:35.639Z"
   },
   {
    "duration": 95,
    "start_time": "2023-01-13T06:50:38.940Z"
   },
   {
    "duration": 89,
    "start_time": "2023-01-13T06:51:02.202Z"
   },
   {
    "duration": 18,
    "start_time": "2023-01-13T06:51:25.095Z"
   },
   {
    "duration": 19,
    "start_time": "2023-01-13T06:54:33.135Z"
   },
   {
    "duration": 8,
    "start_time": "2023-01-13T06:57:07.149Z"
   },
   {
    "duration": 4,
    "start_time": "2023-01-13T06:57:18.891Z"
   },
   {
    "duration": 8,
    "start_time": "2023-01-13T06:58:23.270Z"
   },
   {
    "duration": 11,
    "start_time": "2023-01-13T06:58:26.383Z"
   },
   {
    "duration": 8,
    "start_time": "2023-01-13T06:58:38.972Z"
   },
   {
    "duration": 11,
    "start_time": "2023-01-13T06:58:40.333Z"
   },
   {
    "duration": 10,
    "start_time": "2023-01-13T06:59:03.847Z"
   },
   {
    "duration": 9,
    "start_time": "2023-01-13T06:59:39.933Z"
   },
   {
    "duration": 11,
    "start_time": "2023-01-13T06:59:41.970Z"
   },
   {
    "duration": 9,
    "start_time": "2023-01-13T06:59:54.148Z"
   },
   {
    "duration": 19,
    "start_time": "2023-01-13T07:00:23.595Z"
   },
   {
    "duration": 7,
    "start_time": "2023-01-13T07:00:53.720Z"
   },
   {
    "duration": 10,
    "start_time": "2023-01-13T07:00:56.495Z"
   },
   {
    "duration": 7,
    "start_time": "2023-01-13T07:01:11.484Z"
   },
   {
    "duration": 4,
    "start_time": "2023-01-13T07:02:05.825Z"
   },
   {
    "duration": 49,
    "start_time": "2023-01-13T07:02:20.228Z"
   },
   {
    "duration": 57,
    "start_time": "2023-01-13T07:04:15.855Z"
   },
   {
    "duration": 49,
    "start_time": "2023-01-13T07:04:55.248Z"
   },
   {
    "duration": 92,
    "start_time": "2023-01-13T07:05:35.283Z"
   },
   {
    "duration": 51,
    "start_time": "2023-01-13T07:05:50.872Z"
   },
   {
    "duration": 4,
    "start_time": "2023-01-13T07:06:00.250Z"
   },
   {
    "duration": 4,
    "start_time": "2023-01-13T07:06:35.560Z"
   },
   {
    "duration": 18,
    "start_time": "2023-01-13T07:06:45.314Z"
   },
   {
    "duration": 4,
    "start_time": "2023-01-13T07:07:39.519Z"
   },
   {
    "duration": 4,
    "start_time": "2023-01-13T07:08:08.213Z"
   },
   {
    "duration": 72,
    "start_time": "2023-01-13T07:08:33.716Z"
   },
   {
    "duration": 7,
    "start_time": "2023-01-13T07:08:40.218Z"
   },
   {
    "duration": 2,
    "start_time": "2023-01-13T07:08:51.132Z"
   },
   {
    "duration": 4,
    "start_time": "2023-01-13T07:08:52.797Z"
   },
   {
    "duration": 2,
    "start_time": "2023-01-13T07:08:57.856Z"
   },
   {
    "duration": 13,
    "start_time": "2023-01-13T07:09:07.380Z"
   },
   {
    "duration": 3,
    "start_time": "2023-01-13T07:09:08.159Z"
   },
   {
    "duration": 4,
    "start_time": "2023-01-13T07:09:39.923Z"
   },
   {
    "duration": 4,
    "start_time": "2023-01-13T07:10:06.154Z"
   },
   {
    "duration": 3,
    "start_time": "2023-01-13T07:10:24.950Z"
   },
   {
    "duration": 5,
    "start_time": "2023-01-13T07:10:26.373Z"
   },
   {
    "duration": 3,
    "start_time": "2023-01-13T07:10:37.340Z"
   },
   {
    "duration": 4,
    "start_time": "2023-01-13T07:10:48.439Z"
   },
   {
    "duration": 44,
    "start_time": "2023-01-13T07:11:03.644Z"
   },
   {
    "duration": 8,
    "start_time": "2023-01-13T07:11:11.484Z"
   },
   {
    "duration": 4,
    "start_time": "2023-01-13T07:11:12.913Z"
   },
   {
    "duration": 3,
    "start_time": "2023-01-13T07:11:31.497Z"
   },
   {
    "duration": 2,
    "start_time": "2023-01-13T07:11:34.288Z"
   },
   {
    "duration": 8,
    "start_time": "2023-01-13T07:11:36.188Z"
   },
   {
    "duration": 4,
    "start_time": "2023-01-13T07:11:36.936Z"
   },
   {
    "duration": 13,
    "start_time": "2023-01-13T07:20:47.473Z"
   },
   {
    "duration": 15,
    "start_time": "2023-01-13T07:21:10.248Z"
   },
   {
    "duration": 4,
    "start_time": "2023-01-13T07:21:16.817Z"
   },
   {
    "duration": 14,
    "start_time": "2023-01-13T07:21:25.352Z"
   },
   {
    "duration": 8,
    "start_time": "2023-01-13T07:23:45.636Z"
   },
   {
    "duration": 15,
    "start_time": "2023-01-13T07:23:52.963Z"
   },
   {
    "duration": 8,
    "start_time": "2023-01-13T07:23:54.224Z"
   },
   {
    "duration": 8,
    "start_time": "2023-01-13T07:24:07.631Z"
   },
   {
    "duration": 9,
    "start_time": "2023-01-13T07:24:08.810Z"
   },
   {
    "duration": 9,
    "start_time": "2023-01-13T07:25:35.278Z"
   },
   {
    "duration": 7,
    "start_time": "2023-01-13T07:25:45.144Z"
   },
   {
    "duration": 11,
    "start_time": "2023-01-13T07:25:46.273Z"
   },
   {
    "duration": 15,
    "start_time": "2023-01-13T07:26:31.532Z"
   },
   {
    "duration": 13,
    "start_time": "2023-01-13T07:29:35.013Z"
   },
   {
    "duration": 22,
    "start_time": "2023-01-13T07:29:58.127Z"
   },
   {
    "duration": 17,
    "start_time": "2023-01-13T07:30:14.418Z"
   },
   {
    "duration": 22,
    "start_time": "2023-01-13T07:30:26.204Z"
   },
   {
    "duration": 8,
    "start_time": "2023-01-13T07:31:24.612Z"
   },
   {
    "duration": 9,
    "start_time": "2023-01-13T07:31:25.769Z"
   },
   {
    "duration": 4,
    "start_time": "2023-01-13T07:31:47.739Z"
   },
   {
    "duration": 43,
    "start_time": "2023-01-13T07:31:48.952Z"
   },
   {
    "duration": 11,
    "start_time": "2023-01-13T07:31:49.380Z"
   },
   {
    "duration": 17,
    "start_time": "2023-01-13T07:31:49.900Z"
   },
   {
    "duration": 8,
    "start_time": "2023-01-13T07:31:50.872Z"
   },
   {
    "duration": 10,
    "start_time": "2023-01-13T07:31:51.943Z"
   },
   {
    "duration": 6,
    "start_time": "2023-01-13T07:31:55.936Z"
   },
   {
    "duration": 5,
    "start_time": "2023-01-13T07:31:57.368Z"
   },
   {
    "duration": 8,
    "start_time": "2023-01-13T07:31:58.065Z"
   },
   {
    "duration": 13,
    "start_time": "2023-01-13T07:31:59.119Z"
   },
   {
    "duration": 12,
    "start_time": "2023-01-13T07:32:02.576Z"
   },
   {
    "duration": 5,
    "start_time": "2023-01-13T07:32:05.400Z"
   },
   {
    "duration": 10,
    "start_time": "2023-01-13T07:32:06.948Z"
   },
   {
    "duration": 4,
    "start_time": "2023-01-13T07:32:10.089Z"
   },
   {
    "duration": 7,
    "start_time": "2023-01-13T07:32:10.854Z"
   },
   {
    "duration": 9,
    "start_time": "2023-01-13T07:32:11.479Z"
   },
   {
    "duration": 4,
    "start_time": "2023-01-13T07:32:12.281Z"
   },
   {
    "duration": 3,
    "start_time": "2023-01-13T07:32:12.863Z"
   },
   {
    "duration": 4,
    "start_time": "2023-01-13T07:32:13.121Z"
   },
   {
    "duration": 8,
    "start_time": "2023-01-13T07:32:17.012Z"
   },
   {
    "duration": 9,
    "start_time": "2023-01-13T07:32:18.097Z"
   },
   {
    "duration": 8,
    "start_time": "2023-01-13T07:32:42.213Z"
   },
   {
    "duration": 9,
    "start_time": "2023-01-13T07:33:11.921Z"
   },
   {
    "duration": 15,
    "start_time": "2023-01-13T07:37:48.448Z"
   },
   {
    "duration": 14,
    "start_time": "2023-01-13T07:38:00.488Z"
   },
   {
    "duration": 57,
    "start_time": "2023-01-13T07:38:22.957Z"
   },
   {
    "duration": 15,
    "start_time": "2023-01-13T07:39:42.996Z"
   },
   {
    "duration": 10,
    "start_time": "2023-01-13T07:40:16.605Z"
   },
   {
    "duration": 9,
    "start_time": "2023-01-13T07:40:24.084Z"
   },
   {
    "duration": 9,
    "start_time": "2023-01-13T07:40:32.610Z"
   },
   {
    "duration": 21,
    "start_time": "2023-01-13T07:41:50.812Z"
   },
   {
    "duration": 21,
    "start_time": "2023-01-13T07:42:21.587Z"
   },
   {
    "duration": 9,
    "start_time": "2023-01-13T07:42:51.972Z"
   },
   {
    "duration": 9,
    "start_time": "2023-01-13T07:42:53.207Z"
   },
   {
    "duration": 9,
    "start_time": "2023-01-13T07:45:10.159Z"
   },
   {
    "duration": 9,
    "start_time": "2023-01-13T07:45:12.845Z"
   },
   {
    "duration": 8,
    "start_time": "2023-01-13T07:45:19.368Z"
   },
   {
    "duration": 9,
    "start_time": "2023-01-13T07:45:20.390Z"
   },
   {
    "duration": 59,
    "start_time": "2023-01-13T07:46:09.245Z"
   },
   {
    "duration": 18,
    "start_time": "2023-01-13T07:46:17.988Z"
   },
   {
    "duration": 8,
    "start_time": "2023-01-13T07:48:11.906Z"
   },
   {
    "duration": 4,
    "start_time": "2023-01-13T07:48:28.794Z"
   },
   {
    "duration": 14,
    "start_time": "2023-01-13T07:49:29.719Z"
   },
   {
    "duration": 3,
    "start_time": "2023-01-13T07:49:49.589Z"
   },
   {
    "duration": 11,
    "start_time": "2023-01-13T07:50:16.862Z"
   },
   {
    "duration": 17,
    "start_time": "2023-01-13T07:50:34.674Z"
   },
   {
    "duration": 47,
    "start_time": "2023-01-13T07:55:23.322Z"
   },
   {
    "duration": 48,
    "start_time": "2023-01-13T07:55:42.393Z"
   },
   {
    "duration": 12,
    "start_time": "2023-01-13T07:55:59.919Z"
   },
   {
    "duration": 11,
    "start_time": "2023-01-13T07:57:47.762Z"
   },
   {
    "duration": 9,
    "start_time": "2023-01-13T07:59:20.918Z"
   },
   {
    "duration": 15,
    "start_time": "2023-01-13T07:59:47.072Z"
   },
   {
    "duration": 14,
    "start_time": "2023-01-13T08:00:58.977Z"
   },
   {
    "duration": 15,
    "start_time": "2023-01-13T08:02:01.179Z"
   },
   {
    "duration": 19,
    "start_time": "2023-01-13T08:02:46.024Z"
   },
   {
    "duration": 13,
    "start_time": "2023-01-13T08:03:40.488Z"
   },
   {
    "duration": 52,
    "start_time": "2023-01-13T08:03:56.257Z"
   },
   {
    "duration": 17,
    "start_time": "2023-01-13T08:04:12.872Z"
   },
   {
    "duration": 18,
    "start_time": "2023-01-13T08:04:53.445Z"
   },
   {
    "duration": 4,
    "start_time": "2023-01-13T08:05:26.633Z"
   },
   {
    "duration": 5,
    "start_time": "2023-01-13T08:06:11.979Z"
   },
   {
    "duration": 16,
    "start_time": "2023-01-13T08:06:20.733Z"
   },
   {
    "duration": 15,
    "start_time": "2023-01-13T08:06:34.100Z"
   },
   {
    "duration": 17,
    "start_time": "2023-01-13T08:07:11.890Z"
   },
   {
    "duration": 4,
    "start_time": "2023-01-13T08:09:13.745Z"
   },
   {
    "duration": 4,
    "start_time": "2023-01-13T08:11:45.847Z"
   },
   {
    "duration": 4,
    "start_time": "2023-01-13T08:11:54.741Z"
   },
   {
    "duration": 16,
    "start_time": "2023-01-13T08:12:43.631Z"
   },
   {
    "duration": 15,
    "start_time": "2023-01-13T08:13:02.166Z"
   },
   {
    "duration": 11,
    "start_time": "2023-01-13T08:13:26.545Z"
   },
   {
    "duration": 16,
    "start_time": "2023-01-13T08:13:51.032Z"
   },
   {
    "duration": 16,
    "start_time": "2023-01-13T08:45:37.045Z"
   },
   {
    "duration": 10,
    "start_time": "2023-01-13T08:45:55.324Z"
   },
   {
    "duration": 18,
    "start_time": "2023-01-13T08:46:28.440Z"
   },
   {
    "duration": 10,
    "start_time": "2023-01-13T08:47:55.584Z"
   },
   {
    "duration": 4,
    "start_time": "2023-01-13T08:47:56.876Z"
   },
   {
    "duration": 4,
    "start_time": "2023-01-13T08:48:20.717Z"
   },
   {
    "duration": 10,
    "start_time": "2023-01-13T08:49:04.921Z"
   },
   {
    "duration": 4,
    "start_time": "2023-01-13T08:49:06.172Z"
   },
   {
    "duration": 4,
    "start_time": "2023-01-13T08:49:13.872Z"
   },
   {
    "duration": 4,
    "start_time": "2023-01-13T08:49:23.489Z"
   },
   {
    "duration": 3,
    "start_time": "2023-01-13T08:49:34.900Z"
   },
   {
    "duration": 9,
    "start_time": "2023-01-13T08:49:40.069Z"
   },
   {
    "duration": 4,
    "start_time": "2023-01-13T08:49:48.611Z"
   },
   {
    "duration": 9,
    "start_time": "2023-01-13T08:51:28.860Z"
   },
   {
    "duration": 11,
    "start_time": "2023-01-13T08:54:42.487Z"
   },
   {
    "duration": 10,
    "start_time": "2023-01-13T08:54:43.937Z"
   },
   {
    "duration": 136,
    "start_time": "2023-01-13T08:55:02.403Z"
   },
   {
    "duration": 5,
    "start_time": "2023-01-13T08:55:08.445Z"
   },
   {
    "duration": 8,
    "start_time": "2023-01-13T08:55:34.054Z"
   },
   {
    "duration": 4,
    "start_time": "2023-01-13T08:55:35.310Z"
   },
   {
    "duration": 6,
    "start_time": "2023-01-13T08:55:57.943Z"
   },
   {
    "duration": 4,
    "start_time": "2023-01-13T08:56:46.895Z"
   },
   {
    "duration": 4,
    "start_time": "2023-01-13T08:57:07.983Z"
   },
   {
    "duration": 3,
    "start_time": "2023-01-13T08:57:47.012Z"
   },
   {
    "duration": 9,
    "start_time": "2023-01-13T08:57:59.421Z"
   },
   {
    "duration": 45,
    "start_time": "2023-01-13T08:58:35.436Z"
   },
   {
    "duration": 17,
    "start_time": "2023-01-13T08:58:43.342Z"
   },
   {
    "duration": 10,
    "start_time": "2023-01-13T08:59:01.862Z"
   },
   {
    "duration": 3,
    "start_time": "2023-01-13T08:59:03.056Z"
   },
   {
    "duration": 3,
    "start_time": "2023-01-13T08:59:39.252Z"
   },
   {
    "duration": 4,
    "start_time": "2023-01-13T08:59:53.106Z"
   },
   {
    "duration": 6,
    "start_time": "2023-01-13T09:00:07.480Z"
   },
   {
    "duration": 4,
    "start_time": "2023-01-13T09:00:08.777Z"
   },
   {
    "duration": 7,
    "start_time": "2023-01-13T09:00:42.523Z"
   },
   {
    "duration": 4,
    "start_time": "2023-01-13T09:00:43.533Z"
   },
   {
    "duration": 4,
    "start_time": "2023-01-13T09:00:55.509Z"
   },
   {
    "duration": 8,
    "start_time": "2023-01-13T09:01:44.233Z"
   },
   {
    "duration": 6,
    "start_time": "2023-01-13T09:01:50.951Z"
   },
   {
    "duration": 9,
    "start_time": "2023-01-13T09:01:51.814Z"
   },
   {
    "duration": 6,
    "start_time": "2023-01-13T09:02:01.614Z"
   },
   {
    "duration": 4,
    "start_time": "2023-01-13T09:02:10.689Z"
   },
   {
    "duration": 4,
    "start_time": "2023-01-13T09:03:11.333Z"
   },
   {
    "duration": 6,
    "start_time": "2023-01-13T09:03:26.070Z"
   },
   {
    "duration": 3,
    "start_time": "2023-01-13T09:03:27.415Z"
   },
   {
    "duration": 12,
    "start_time": "2023-01-13T09:03:48.775Z"
   },
   {
    "duration": 6,
    "start_time": "2023-01-13T09:03:55.551Z"
   },
   {
    "duration": 7,
    "start_time": "2023-01-13T09:04:08.978Z"
   },
   {
    "duration": 10,
    "start_time": "2023-01-13T09:04:16.325Z"
   },
   {
    "duration": 4,
    "start_time": "2023-01-13T09:04:17.281Z"
   },
   {
    "duration": 8,
    "start_time": "2023-01-13T09:04:37.411Z"
   },
   {
    "duration": 4,
    "start_time": "2023-01-13T09:04:38.178Z"
   },
   {
    "duration": 13,
    "start_time": "2023-01-13T09:04:58.261Z"
   },
   {
    "duration": 7,
    "start_time": "2023-01-13T09:05:03.138Z"
   },
   {
    "duration": 4,
    "start_time": "2023-01-13T09:05:04.388Z"
   },
   {
    "duration": 7,
    "start_time": "2023-01-13T09:05:59.224Z"
   },
   {
    "duration": 4,
    "start_time": "2023-01-13T09:06:00.113Z"
   },
   {
    "duration": 20,
    "start_time": "2023-01-13T09:06:50.124Z"
   },
   {
    "duration": 8,
    "start_time": "2023-01-13T09:07:34.513Z"
   },
   {
    "duration": 7,
    "start_time": "2023-01-13T09:08:18.360Z"
   },
   {
    "duration": 4,
    "start_time": "2023-01-13T09:08:20.440Z"
   },
   {
    "duration": 7,
    "start_time": "2023-01-13T09:08:54.008Z"
   },
   {
    "duration": 4,
    "start_time": "2023-01-13T09:08:57.762Z"
   },
   {
    "duration": 19,
    "start_time": "2023-01-13T09:09:18.266Z"
   },
   {
    "duration": 9,
    "start_time": "2023-01-13T09:10:29.691Z"
   },
   {
    "duration": 10,
    "start_time": "2023-01-13T09:10:39.467Z"
   },
   {
    "duration": 17,
    "start_time": "2023-01-13T09:11:19.884Z"
   },
   {
    "duration": 42,
    "start_time": "2023-01-13T09:12:09.389Z"
   },
   {
    "duration": 7,
    "start_time": "2023-01-13T09:12:24.552Z"
   },
   {
    "duration": 10,
    "start_time": "2023-01-13T09:12:38.201Z"
   },
   {
    "duration": 18,
    "start_time": "2023-01-13T09:14:14.876Z"
   },
   {
    "duration": 9,
    "start_time": "2023-01-13T09:16:56.639Z"
   },
   {
    "duration": 9,
    "start_time": "2023-01-13T09:28:35.250Z"
   },
   {
    "duration": 11,
    "start_time": "2023-01-13T09:28:36.244Z"
   },
   {
    "duration": 11,
    "start_time": "2023-01-13T09:30:44.200Z"
   },
   {
    "duration": 10,
    "start_time": "2023-01-13T09:30:45.420Z"
   },
   {
    "duration": 768,
    "start_time": "2023-01-13T09:30:54.625Z"
   },
   {
    "duration": 18,
    "start_time": "2023-01-13T09:31:25.954Z"
   },
   {
    "duration": 18,
    "start_time": "2023-01-13T09:33:02.557Z"
   },
   {
    "duration": 16,
    "start_time": "2023-01-13T09:33:24.243Z"
   },
   {
    "duration": 19,
    "start_time": "2023-01-13T09:34:29.353Z"
   },
   {
    "duration": 7,
    "start_time": "2023-01-13T09:35:00.645Z"
   },
   {
    "duration": 3,
    "start_time": "2023-01-13T09:35:06.382Z"
   },
   {
    "duration": 4,
    "start_time": "2023-01-13T09:35:14.200Z"
   },
   {
    "duration": 5,
    "start_time": "2023-01-13T09:35:39.540Z"
   },
   {
    "duration": 4,
    "start_time": "2023-01-13T09:35:45.966Z"
   },
   {
    "duration": 4,
    "start_time": "2023-01-13T09:35:54.931Z"
   },
   {
    "duration": 3,
    "start_time": "2023-01-13T09:36:16.164Z"
   },
   {
    "duration": 4,
    "start_time": "2023-01-13T09:36:24.812Z"
   },
   {
    "duration": 4,
    "start_time": "2023-01-13T09:36:35.799Z"
   },
   {
    "duration": 4,
    "start_time": "2023-01-13T09:36:47.977Z"
   },
   {
    "duration": 872,
    "start_time": "2023-01-13T09:37:22.723Z"
   },
   {
    "duration": 9,
    "start_time": "2023-01-13T09:38:18.751Z"
   },
   {
    "duration": 10,
    "start_time": "2023-01-13T09:38:28.952Z"
   },
   {
    "duration": 10,
    "start_time": "2023-01-13T09:39:48.350Z"
   },
   {
    "duration": 15,
    "start_time": "2023-01-13T09:40:07.857Z"
   },
   {
    "duration": 4,
    "start_time": "2023-01-13T09:41:26.074Z"
   },
   {
    "duration": 41,
    "start_time": "2023-01-13T09:41:27.377Z"
   },
   {
    "duration": 15,
    "start_time": "2023-01-13T09:41:28.048Z"
   },
   {
    "duration": 17,
    "start_time": "2023-01-13T09:41:28.770Z"
   },
   {
    "duration": 7,
    "start_time": "2023-01-13T09:41:29.544Z"
   },
   {
    "duration": 10,
    "start_time": "2023-01-13T09:41:30.545Z"
   },
   {
    "duration": 5,
    "start_time": "2023-01-13T09:41:34.901Z"
   },
   {
    "duration": 6,
    "start_time": "2023-01-13T09:41:36.500Z"
   },
   {
    "duration": 7,
    "start_time": "2023-01-13T09:41:37.402Z"
   },
   {
    "duration": 12,
    "start_time": "2023-01-13T09:41:39.137Z"
   },
   {
    "duration": 11,
    "start_time": "2023-01-13T09:41:41.624Z"
   },
   {
    "duration": 4,
    "start_time": "2023-01-13T09:41:44.736Z"
   },
   {
    "duration": 11,
    "start_time": "2023-01-13T09:41:46.122Z"
   },
   {
    "duration": 4,
    "start_time": "2023-01-13T09:41:48.793Z"
   },
   {
    "duration": 7,
    "start_time": "2023-01-13T09:41:49.574Z"
   },
   {
    "duration": 10,
    "start_time": "2023-01-13T09:41:50.608Z"
   },
   {
    "duration": 3,
    "start_time": "2023-01-13T09:41:51.425Z"
   },
   {
    "duration": 4,
    "start_time": "2023-01-13T09:41:52.856Z"
   },
   {
    "duration": 4,
    "start_time": "2023-01-13T09:41:53.588Z"
   },
   {
    "duration": 10,
    "start_time": "2023-01-13T09:42:40.339Z"
   },
   {
    "duration": 13,
    "start_time": "2023-01-13T09:42:41.878Z"
   },
   {
    "duration": 13,
    "start_time": "2023-01-13T09:46:36.654Z"
   },
   {
    "duration": 4,
    "start_time": "2023-01-13T09:46:53.739Z"
   },
   {
    "duration": 39,
    "start_time": "2023-01-13T09:46:55.042Z"
   },
   {
    "duration": 17,
    "start_time": "2023-01-13T09:46:56.236Z"
   },
   {
    "duration": 16,
    "start_time": "2023-01-13T09:46:57.213Z"
   },
   {
    "duration": 8,
    "start_time": "2023-01-13T09:46:58.283Z"
   },
   {
    "duration": 10,
    "start_time": "2023-01-13T09:46:58.748Z"
   },
   {
    "duration": 5,
    "start_time": "2023-01-13T09:47:02.333Z"
   },
   {
    "duration": 5,
    "start_time": "2023-01-13T09:47:03.630Z"
   },
   {
    "duration": 9,
    "start_time": "2023-01-13T09:47:04.652Z"
   },
   {
    "duration": 13,
    "start_time": "2023-01-13T09:47:05.817Z"
   },
   {
    "duration": 12,
    "start_time": "2023-01-13T09:47:10.265Z"
   },
   {
    "duration": 4,
    "start_time": "2023-01-13T09:47:12.932Z"
   },
   {
    "duration": 11,
    "start_time": "2023-01-13T09:47:14.651Z"
   },
   {
    "duration": 4,
    "start_time": "2023-01-13T09:47:18.074Z"
   },
   {
    "duration": 7,
    "start_time": "2023-01-13T09:47:18.375Z"
   },
   {
    "duration": 7,
    "start_time": "2023-01-13T09:47:18.899Z"
   },
   {
    "duration": 3,
    "start_time": "2023-01-13T09:47:19.994Z"
   },
   {
    "duration": 4,
    "start_time": "2023-01-13T09:47:20.450Z"
   },
   {
    "duration": 4,
    "start_time": "2023-01-13T09:47:20.722Z"
   },
   {
    "duration": 14,
    "start_time": "2023-01-13T09:47:26.412Z"
   },
   {
    "duration": 9,
    "start_time": "2023-01-13T09:51:18.888Z"
   },
   {
    "duration": 12,
    "start_time": "2023-01-13T09:51:25.105Z"
   },
   {
    "duration": 19,
    "start_time": "2023-01-13T09:51:45.148Z"
   },
   {
    "duration": 15,
    "start_time": "2023-01-13T09:53:34.654Z"
   },
   {
    "duration": 8,
    "start_time": "2023-01-13T09:54:33.377Z"
   },
   {
    "duration": 17,
    "start_time": "2023-01-13T09:54:36.084Z"
   },
   {
    "duration": 8,
    "start_time": "2023-01-13T09:57:27.338Z"
   },
   {
    "duration": 17,
    "start_time": "2023-01-13T09:57:28.798Z"
   },
   {
    "duration": 9,
    "start_time": "2023-01-13T10:00:38.177Z"
   },
   {
    "duration": 12,
    "start_time": "2023-01-13T10:01:31.254Z"
   },
   {
    "duration": 18,
    "start_time": "2023-01-13T10:01:32.789Z"
   },
   {
    "duration": 12,
    "start_time": "2023-01-13T10:03:50.245Z"
   },
   {
    "duration": 19,
    "start_time": "2023-01-13T10:03:55.439Z"
   },
   {
    "duration": 4,
    "start_time": "2023-01-13T10:05:53.770Z"
   },
   {
    "duration": 7,
    "start_time": "2023-01-13T10:05:54.885Z"
   },
   {
    "duration": 10,
    "start_time": "2023-01-13T10:06:14.143Z"
   },
   {
    "duration": 10,
    "start_time": "2023-01-13T10:06:15.126Z"
   },
   {
    "duration": 10,
    "start_time": "2023-01-13T10:08:01.048Z"
   },
   {
    "duration": 6,
    "start_time": "2023-01-13T10:08:02.233Z"
   },
   {
    "duration": 10,
    "start_time": "2023-01-13T10:08:38.427Z"
   },
   {
    "duration": 5,
    "start_time": "2023-01-13T10:08:39.504Z"
   },
   {
    "duration": 55,
    "start_time": "2023-01-13T10:11:28.397Z"
   },
   {
    "duration": 60,
    "start_time": "2023-01-13T10:11:49.205Z"
   },
   {
    "duration": 8,
    "start_time": "2023-01-13T10:12:10.852Z"
   },
   {
    "duration": 6,
    "start_time": "2023-01-13T10:12:11.927Z"
   },
   {
    "duration": 7,
    "start_time": "2023-01-13T10:13:39.681Z"
   },
   {
    "duration": 8,
    "start_time": "2023-01-13T10:13:40.538Z"
   },
   {
    "duration": 5,
    "start_time": "2023-01-13T10:13:49.537Z"
   },
   {
    "duration": 8,
    "start_time": "2023-01-13T10:15:20.297Z"
   },
   {
    "duration": 4,
    "start_time": "2023-01-13T10:15:21.141Z"
   },
   {
    "duration": 9,
    "start_time": "2023-01-13T10:18:00.134Z"
   },
   {
    "duration": 5,
    "start_time": "2023-01-13T10:18:00.864Z"
   },
   {
    "duration": 4,
    "start_time": "2023-01-13T10:18:29.742Z"
   },
   {
    "duration": 10,
    "start_time": "2023-01-13T10:18:32.863Z"
   },
   {
    "duration": 5,
    "start_time": "2023-01-13T10:18:33.509Z"
   },
   {
    "duration": 4,
    "start_time": "2023-01-13T10:18:37.927Z"
   },
   {
    "duration": 4,
    "start_time": "2023-01-13T10:21:15.754Z"
   },
   {
    "duration": 6,
    "start_time": "2023-01-13T10:21:20.763Z"
   },
   {
    "duration": 3,
    "start_time": "2023-01-13T10:21:21.518Z"
   },
   {
    "duration": 23,
    "start_time": "2023-01-13T10:23:15.990Z"
   },
   {
    "duration": 13,
    "start_time": "2023-01-13T10:23:29.632Z"
   },
   {
    "duration": 22,
    "start_time": "2023-01-13T10:23:48.393Z"
   },
   {
    "duration": 12,
    "start_time": "2023-01-13T10:28:57.575Z"
   },
   {
    "duration": 48,
    "start_time": "2023-01-13T10:30:19.296Z"
   },
   {
    "duration": 18,
    "start_time": "2023-01-13T10:30:25.391Z"
   },
   {
    "duration": 14,
    "start_time": "2023-01-13T10:30:36.331Z"
   },
   {
    "duration": 19,
    "start_time": "2023-01-13T10:30:37.849Z"
   },
   {
    "duration": 10,
    "start_time": "2023-01-13T10:32:04.780Z"
   },
   {
    "duration": 18,
    "start_time": "2023-01-13T10:32:30.824Z"
   },
   {
    "duration": 14,
    "start_time": "2023-01-13T10:33:20.936Z"
   },
   {
    "duration": 15,
    "start_time": "2023-01-13T10:33:48.051Z"
   },
   {
    "duration": 20,
    "start_time": "2023-01-13T10:34:05.963Z"
   },
   {
    "duration": 13,
    "start_time": "2023-01-13T10:34:22.386Z"
   },
   {
    "duration": 4,
    "start_time": "2023-01-13T10:34:32.895Z"
   },
   {
    "duration": 38,
    "start_time": "2023-01-13T10:34:33.307Z"
   },
   {
    "duration": 11,
    "start_time": "2023-01-13T10:34:33.681Z"
   },
   {
    "duration": 18,
    "start_time": "2023-01-13T10:34:34.056Z"
   },
   {
    "duration": 9,
    "start_time": "2023-01-13T10:34:35.670Z"
   },
   {
    "duration": 11,
    "start_time": "2023-01-13T10:34:36.655Z"
   },
   {
    "duration": 5,
    "start_time": "2023-01-13T10:34:37.619Z"
   },
   {
    "duration": 5,
    "start_time": "2023-01-13T10:34:38.780Z"
   },
   {
    "duration": 7,
    "start_time": "2023-01-13T10:34:39.018Z"
   },
   {
    "duration": 12,
    "start_time": "2023-01-13T10:34:39.822Z"
   },
   {
    "duration": 11,
    "start_time": "2023-01-13T10:34:41.828Z"
   },
   {
    "duration": 4,
    "start_time": "2023-01-13T10:34:44.266Z"
   },
   {
    "duration": 11,
    "start_time": "2023-01-13T10:34:45.102Z"
   },
   {
    "duration": 4,
    "start_time": "2023-01-13T10:34:46.888Z"
   },
   {
    "duration": 8,
    "start_time": "2023-01-13T10:34:47.726Z"
   },
   {
    "duration": 8,
    "start_time": "2023-01-13T10:34:47.970Z"
   },
   {
    "duration": 4,
    "start_time": "2023-01-13T10:34:48.781Z"
   },
   {
    "duration": 4,
    "start_time": "2023-01-13T10:34:49.491Z"
   },
   {
    "duration": 4,
    "start_time": "2023-01-13T10:34:50.356Z"
   },
   {
    "duration": 11,
    "start_time": "2023-01-13T10:34:53.142Z"
   },
   {
    "duration": 16,
    "start_time": "2023-01-13T10:35:00.437Z"
   },
   {
    "duration": 12,
    "start_time": "2023-01-13T10:35:01.385Z"
   },
   {
    "duration": 11,
    "start_time": "2023-01-13T10:35:50.708Z"
   },
   {
    "duration": 11,
    "start_time": "2023-01-13T10:37:43.430Z"
   },
   {
    "duration": 11,
    "start_time": "2023-01-13T10:39:44.530Z"
   },
   {
    "duration": 13,
    "start_time": "2023-01-13T10:40:00.117Z"
   },
   {
    "duration": 33,
    "start_time": "2023-01-13T10:40:20.546Z"
   },
   {
    "duration": 30,
    "start_time": "2023-01-13T10:45:25.228Z"
   },
   {
    "duration": 5,
    "start_time": "2023-01-13T10:45:47.973Z"
   },
   {
    "duration": 40,
    "start_time": "2023-01-13T10:45:49.118Z"
   },
   {
    "duration": 11,
    "start_time": "2023-01-13T10:45:49.626Z"
   },
   {
    "duration": 16,
    "start_time": "2023-01-13T10:45:50.034Z"
   },
   {
    "duration": 7,
    "start_time": "2023-01-13T10:45:50.400Z"
   },
   {
    "duration": 11,
    "start_time": "2023-01-13T10:45:50.948Z"
   },
   {
    "duration": 5,
    "start_time": "2023-01-13T10:45:53.243Z"
   },
   {
    "duration": 5,
    "start_time": "2023-01-13T10:45:54.726Z"
   },
   {
    "duration": 8,
    "start_time": "2023-01-13T10:45:55.137Z"
   },
   {
    "duration": 12,
    "start_time": "2023-01-13T10:45:55.972Z"
   },
   {
    "duration": 11,
    "start_time": "2023-01-13T10:45:58.343Z"
   },
   {
    "duration": 4,
    "start_time": "2023-01-13T10:46:00.041Z"
   },
   {
    "duration": 13,
    "start_time": "2023-01-13T10:46:00.793Z"
   },
   {
    "duration": 4,
    "start_time": "2023-01-13T10:46:01.656Z"
   },
   {
    "duration": 7,
    "start_time": "2023-01-13T10:46:01.916Z"
   },
   {
    "duration": 7,
    "start_time": "2023-01-13T10:46:02.199Z"
   },
   {
    "duration": 4,
    "start_time": "2023-01-13T10:46:02.403Z"
   },
   {
    "duration": 3,
    "start_time": "2023-01-13T10:46:02.661Z"
   },
   {
    "duration": 3,
    "start_time": "2023-01-13T10:46:02.944Z"
   },
   {
    "duration": 11,
    "start_time": "2023-01-13T10:46:03.720Z"
   },
   {
    "duration": 13,
    "start_time": "2023-01-13T10:46:04.112Z"
   },
   {
    "duration": 12,
    "start_time": "2023-01-13T10:46:04.485Z"
   },
   {
    "duration": 11,
    "start_time": "2023-01-13T10:46:04.915Z"
   },
   {
    "duration": 11,
    "start_time": "2023-01-13T10:46:05.294Z"
   },
   {
    "duration": 12,
    "start_time": "2023-01-13T10:46:05.570Z"
   },
   {
    "duration": 11,
    "start_time": "2023-01-13T10:46:06.086Z"
   },
   {
    "duration": 12,
    "start_time": "2023-01-13T10:46:06.430Z"
   },
   {
    "duration": 11,
    "start_time": "2023-01-13T10:46:06.696Z"
   },
   {
    "duration": 32,
    "start_time": "2023-01-13T10:46:07.469Z"
   },
   {
    "duration": 2089,
    "start_time": "2023-01-13T10:46:09.874Z"
   },
   {
    "duration": 4,
    "start_time": "2023-01-13T10:46:11.965Z"
   },
   {
    "duration": 8,
    "start_time": "2023-01-13T10:46:11.970Z"
   },
   {
    "duration": 5,
    "start_time": "2023-01-13T10:46:11.980Z"
   },
   {
    "duration": 9,
    "start_time": "2023-01-13T10:46:11.986Z"
   },
   {
    "duration": 189,
    "start_time": "2023-01-13T10:46:12.460Z"
   },
   {
    "duration": 75393,
    "start_time": "2023-01-13T10:46:15.593Z"
   },
   {
    "duration": 4,
    "start_time": "2023-01-13T10:47:30.988Z"
   },
   {
    "duration": 48,
    "start_time": "2023-01-13T10:47:30.993Z"
   },
   {
    "duration": 41,
    "start_time": "2023-01-13T10:47:31.043Z"
   },
   {
    "duration": 7,
    "start_time": "2023-01-13T10:49:30.158Z"
   },
   {
    "duration": 4,
    "start_time": "2023-01-13T10:49:41.751Z"
   },
   {
    "duration": 177,
    "start_time": "2023-01-13T10:50:01.528Z"
   },
   {
    "duration": 0,
    "start_time": "2023-01-13T11:04:13.719Z"
   },
   {
    "duration": 0,
    "start_time": "2023-01-13T11:04:13.720Z"
   },
   {
    "duration": 1,
    "start_time": "2023-01-13T11:04:13.721Z"
   },
   {
    "duration": 0,
    "start_time": "2023-01-13T11:04:13.723Z"
   },
   {
    "duration": 0,
    "start_time": "2023-01-13T11:04:13.723Z"
   },
   {
    "duration": 0,
    "start_time": "2023-01-13T11:04:13.725Z"
   },
   {
    "duration": 0,
    "start_time": "2023-01-13T11:04:13.726Z"
   },
   {
    "duration": 0,
    "start_time": "2023-01-13T11:04:13.727Z"
   },
   {
    "duration": 0,
    "start_time": "2023-01-13T11:04:13.728Z"
   },
   {
    "duration": 0,
    "start_time": "2023-01-13T11:04:13.729Z"
   },
   {
    "duration": 0,
    "start_time": "2023-01-13T11:04:13.730Z"
   },
   {
    "duration": 0,
    "start_time": "2023-01-13T11:04:13.731Z"
   },
   {
    "duration": 0,
    "start_time": "2023-01-13T11:04:13.732Z"
   },
   {
    "duration": 0,
    "start_time": "2023-01-13T11:04:13.733Z"
   },
   {
    "duration": 0,
    "start_time": "2023-01-13T11:04:13.734Z"
   },
   {
    "duration": 0,
    "start_time": "2023-01-13T11:04:13.736Z"
   },
   {
    "duration": 0,
    "start_time": "2023-01-13T11:04:13.737Z"
   },
   {
    "duration": 0,
    "start_time": "2023-01-13T11:04:13.738Z"
   },
   {
    "duration": 0,
    "start_time": "2023-01-13T11:04:13.739Z"
   },
   {
    "duration": 0,
    "start_time": "2023-01-13T11:04:13.740Z"
   },
   {
    "duration": 0,
    "start_time": "2023-01-13T11:04:13.741Z"
   },
   {
    "duration": 0,
    "start_time": "2023-01-13T11:04:13.743Z"
   },
   {
    "duration": 0,
    "start_time": "2023-01-13T11:04:13.743Z"
   },
   {
    "duration": 0,
    "start_time": "2023-01-13T11:04:13.744Z"
   },
   {
    "duration": 0,
    "start_time": "2023-01-13T11:04:13.745Z"
   },
   {
    "duration": 0,
    "start_time": "2023-01-13T11:04:13.747Z"
   },
   {
    "duration": 0,
    "start_time": "2023-01-13T11:04:13.748Z"
   },
   {
    "duration": 0,
    "start_time": "2023-01-13T11:04:13.748Z"
   },
   {
    "duration": 0,
    "start_time": "2023-01-13T11:04:13.749Z"
   },
   {
    "duration": 0,
    "start_time": "2023-01-13T11:04:13.751Z"
   },
   {
    "duration": 0,
    "start_time": "2023-01-13T11:04:13.816Z"
   },
   {
    "duration": 0,
    "start_time": "2023-01-13T11:04:13.817Z"
   },
   {
    "duration": 0,
    "start_time": "2023-01-13T11:04:13.818Z"
   },
   {
    "duration": 0,
    "start_time": "2023-01-13T11:04:13.819Z"
   },
   {
    "duration": 0,
    "start_time": "2023-01-13T11:04:13.820Z"
   },
   {
    "duration": 0,
    "start_time": "2023-01-13T11:04:13.821Z"
   },
   {
    "duration": 0,
    "start_time": "2023-01-13T11:04:13.822Z"
   },
   {
    "duration": 0,
    "start_time": "2023-01-13T11:04:13.824Z"
   },
   {
    "duration": 0,
    "start_time": "2023-01-13T11:04:13.825Z"
   },
   {
    "duration": 0,
    "start_time": "2023-01-13T11:04:13.826Z"
   },
   {
    "duration": 0,
    "start_time": "2023-01-13T11:04:13.827Z"
   },
   {
    "duration": 0,
    "start_time": "2023-01-13T11:04:13.828Z"
   },
   {
    "duration": 4,
    "start_time": "2023-01-13T11:04:25.226Z"
   },
   {
    "duration": 39,
    "start_time": "2023-01-13T11:04:26.798Z"
   },
   {
    "duration": 12,
    "start_time": "2023-01-13T11:04:27.460Z"
   },
   {
    "duration": 19,
    "start_time": "2023-01-13T11:04:28.169Z"
   },
   {
    "duration": 8,
    "start_time": "2023-01-13T11:04:28.997Z"
   },
   {
    "duration": 10,
    "start_time": "2023-01-13T11:04:29.685Z"
   },
   {
    "duration": 5,
    "start_time": "2023-01-13T11:04:32.328Z"
   },
   {
    "duration": 5,
    "start_time": "2023-01-13T11:04:33.534Z"
   },
   {
    "duration": 8,
    "start_time": "2023-01-13T11:04:34.195Z"
   },
   {
    "duration": 12,
    "start_time": "2023-01-13T11:04:34.820Z"
   },
   {
    "duration": 12,
    "start_time": "2023-01-13T11:04:36.692Z"
   },
   {
    "duration": 4,
    "start_time": "2023-01-13T11:04:38.676Z"
   },
   {
    "duration": 11,
    "start_time": "2023-01-13T11:04:39.860Z"
   },
   {
    "duration": 4,
    "start_time": "2023-01-13T11:04:42.942Z"
   },
   {
    "duration": 11,
    "start_time": "2023-01-13T11:04:43.636Z"
   },
   {
    "duration": 7,
    "start_time": "2023-01-13T11:04:44.251Z"
   },
   {
    "duration": 4,
    "start_time": "2023-01-13T11:04:44.797Z"
   },
   {
    "duration": 4,
    "start_time": "2023-01-13T11:04:45.618Z"
   },
   {
    "duration": 4,
    "start_time": "2023-01-13T11:04:46.149Z"
   },
   {
    "duration": 11,
    "start_time": "2023-01-13T11:04:48.127Z"
   },
   {
    "duration": 15,
    "start_time": "2023-01-13T11:04:48.830Z"
   },
   {
    "duration": 13,
    "start_time": "2023-01-13T11:04:49.420Z"
   },
   {
    "duration": 10,
    "start_time": "2023-01-13T11:04:50.171Z"
   },
   {
    "duration": 11,
    "start_time": "2023-01-13T11:04:50.846Z"
   },
   {
    "duration": 12,
    "start_time": "2023-01-13T11:04:51.725Z"
   },
   {
    "duration": 11,
    "start_time": "2023-01-13T11:04:52.461Z"
   },
   {
    "duration": 11,
    "start_time": "2023-01-13T11:04:53.330Z"
   },
   {
    "duration": 13,
    "start_time": "2023-01-13T11:04:54.251Z"
   },
   {
    "duration": 31,
    "start_time": "2023-01-13T11:04:59.861Z"
   },
   {
    "duration": 2333,
    "start_time": "2023-01-13T11:05:06.302Z"
   },
   {
    "duration": 4,
    "start_time": "2023-01-13T11:05:08.637Z"
   },
   {
    "duration": 4,
    "start_time": "2023-01-13T11:05:09.413Z"
   },
   {
    "duration": 4,
    "start_time": "2023-01-13T11:05:10.938Z"
   },
   {
    "duration": 5,
    "start_time": "2023-01-13T11:05:12.347Z"
   },
   {
    "duration": 6,
    "start_time": "2023-01-13T11:05:14.018Z"
   },
   {
    "duration": 4,
    "start_time": "2023-01-13T11:05:15.141Z"
   },
   {
    "duration": 166,
    "start_time": "2023-01-13T11:05:21.101Z"
   },
   {
    "duration": 3346918,
    "start_time": "2023-01-13T11:05:29.191Z"
   },
   {
    "duration": 4,
    "start_time": "2023-01-13T12:01:16.111Z"
   },
   {
    "duration": 15,
    "start_time": "2023-01-13T12:01:16.117Z"
   },
   {
    "duration": 11,
    "start_time": "2023-01-13T12:01:16.134Z"
   },
   {
    "duration": 12,
    "start_time": "2023-01-13T12:01:16.147Z"
   },
   {
    "duration": 77442,
    "start_time": "2023-01-13T12:02:08.766Z"
   },
   {
    "duration": 50,
    "start_time": "2023-01-13T12:03:26.210Z"
   },
   {
    "duration": 4,
    "start_time": "2023-01-13T12:06:30.870Z"
   },
   {
    "duration": 192,
    "start_time": "2023-01-13T12:06:52.679Z"
   },
   {
    "duration": 24818,
    "start_time": "2023-01-13T12:06:59.005Z"
   },
   {
    "duration": 4,
    "start_time": "2023-01-13T12:07:23.824Z"
   },
   {
    "duration": 24548,
    "start_time": "2023-01-13T12:08:16.259Z"
   },
   {
    "duration": 5,
    "start_time": "2023-01-13T12:08:40.809Z"
   },
   {
    "duration": 40,
    "start_time": "2023-01-13T12:22:55.396Z"
   },
   {
    "duration": 733,
    "start_time": "2023-01-13T12:23:55.175Z"
   },
   {
    "duration": 24949,
    "start_time": "2023-01-13T12:23:57.138Z"
   },
   {
    "duration": 5,
    "start_time": "2023-01-13T12:24:22.089Z"
   },
   {
    "duration": 41,
    "start_time": "2023-01-13T12:26:04.182Z"
   },
   {
    "duration": 754,
    "start_time": "2023-01-13T12:28:44.701Z"
   },
   {
    "duration": 4,
    "start_time": "2023-01-13T12:30:41.408Z"
   },
   {
    "duration": 37,
    "start_time": "2023-01-13T12:30:41.903Z"
   },
   {
    "duration": 11,
    "start_time": "2023-01-13T12:30:43.416Z"
   },
   {
    "duration": 16,
    "start_time": "2023-01-13T12:30:43.814Z"
   },
   {
    "duration": 8,
    "start_time": "2023-01-13T12:30:44.133Z"
   },
   {
    "duration": 11,
    "start_time": "2023-01-13T12:30:44.919Z"
   },
   {
    "duration": 5,
    "start_time": "2023-01-13T12:30:51.856Z"
   },
   {
    "duration": 5,
    "start_time": "2023-01-13T12:30:52.997Z"
   },
   {
    "duration": 8,
    "start_time": "2023-01-13T12:30:53.981Z"
   },
   {
    "duration": 12,
    "start_time": "2023-01-13T12:30:54.354Z"
   },
   {
    "duration": 11,
    "start_time": "2023-01-13T12:30:58.636Z"
   },
   {
    "duration": 5,
    "start_time": "2023-01-13T12:31:04.578Z"
   },
   {
    "duration": 12,
    "start_time": "2023-01-13T12:31:06.944Z"
   },
   {
    "duration": 4,
    "start_time": "2023-01-13T12:31:14.692Z"
   },
   {
    "duration": 9,
    "start_time": "2023-01-13T12:31:15.507Z"
   },
   {
    "duration": 9,
    "start_time": "2023-01-13T12:31:18.442Z"
   },
   {
    "duration": 4,
    "start_time": "2023-01-13T12:31:18.766Z"
   },
   {
    "duration": 4,
    "start_time": "2023-01-13T12:31:21.833Z"
   },
   {
    "duration": 4,
    "start_time": "2023-01-13T12:31:24.387Z"
   },
   {
    "duration": 15,
    "start_time": "2023-01-13T12:32:05.663Z"
   },
   {
    "duration": 15,
    "start_time": "2023-01-13T12:35:18.856Z"
   },
   {
    "duration": 12,
    "start_time": "2023-01-13T12:35:31.133Z"
   },
   {
    "duration": 33,
    "start_time": "2023-01-13T12:35:52.996Z"
   },
   {
    "duration": 22,
    "start_time": "2023-01-13T12:35:58.035Z"
   },
   {
    "duration": 4,
    "start_time": "2023-01-13T12:46:05.430Z"
   },
   {
    "duration": 39,
    "start_time": "2023-01-13T12:46:07.543Z"
   },
   {
    "duration": 12,
    "start_time": "2023-01-13T12:46:08.012Z"
   },
   {
    "duration": 17,
    "start_time": "2023-01-13T12:46:08.505Z"
   },
   {
    "duration": 11,
    "start_time": "2023-01-13T12:46:08.930Z"
   },
   {
    "duration": 10,
    "start_time": "2023-01-13T12:46:10.194Z"
   },
   {
    "duration": 5,
    "start_time": "2023-01-13T12:46:47.006Z"
   },
   {
    "duration": 5,
    "start_time": "2023-01-13T12:46:47.761Z"
   },
   {
    "duration": 7,
    "start_time": "2023-01-13T12:46:48.488Z"
   },
   {
    "duration": 13,
    "start_time": "2023-01-13T12:46:48.808Z"
   },
   {
    "duration": 11,
    "start_time": "2023-01-13T12:46:50.606Z"
   },
   {
    "duration": 5,
    "start_time": "2023-01-13T12:46:53.122Z"
   },
   {
    "duration": 10,
    "start_time": "2023-01-13T12:46:54.360Z"
   },
   {
    "duration": 4,
    "start_time": "2023-01-13T12:47:05.287Z"
   },
   {
    "duration": 10,
    "start_time": "2023-01-13T12:47:05.581Z"
   },
   {
    "duration": 8,
    "start_time": "2023-01-13T12:47:06.628Z"
   },
   {
    "duration": 4,
    "start_time": "2023-01-13T12:47:07.214Z"
   },
   {
    "duration": 4,
    "start_time": "2023-01-13T12:47:07.571Z"
   },
   {
    "duration": 3,
    "start_time": "2023-01-13T12:47:08.211Z"
   },
   {
    "duration": 11,
    "start_time": "2023-01-13T12:47:10.602Z"
   },
   {
    "duration": 14,
    "start_time": "2023-01-13T12:47:10.933Z"
   },
   {
    "duration": 13,
    "start_time": "2023-01-13T12:47:11.976Z"
   },
   {
    "duration": 12,
    "start_time": "2023-01-13T12:47:12.717Z"
   },
   {
    "duration": 12,
    "start_time": "2023-01-13T12:47:13.274Z"
   },
   {
    "duration": 12,
    "start_time": "2023-01-13T12:47:14.414Z"
   },
   {
    "duration": 12,
    "start_time": "2023-01-13T12:47:15.367Z"
   },
   {
    "duration": 13,
    "start_time": "2023-01-13T12:47:16.452Z"
   },
   {
    "duration": 12,
    "start_time": "2023-01-13T12:47:17.764Z"
   },
   {
    "duration": 14,
    "start_time": "2023-01-13T12:47:19.655Z"
   },
   {
    "duration": 14,
    "start_time": "2023-01-13T12:47:20.871Z"
   },
   {
    "duration": 12,
    "start_time": "2023-01-13T12:47:22.622Z"
   },
   {
    "duration": 31,
    "start_time": "2023-01-13T12:47:25.184Z"
   },
   {
    "duration": 2112,
    "start_time": "2023-01-13T12:47:33.651Z"
   },
   {
    "duration": 4,
    "start_time": "2023-01-13T12:47:35.765Z"
   },
   {
    "duration": 4,
    "start_time": "2023-01-13T12:47:35.944Z"
   },
   {
    "duration": 4,
    "start_time": "2023-01-13T12:47:36.749Z"
   },
   {
    "duration": 4,
    "start_time": "2023-01-13T12:47:38.012Z"
   },
   {
    "duration": 8,
    "start_time": "2023-01-13T12:47:39.205Z"
   },
   {
    "duration": 4,
    "start_time": "2023-01-13T12:47:40.182Z"
   },
   {
    "duration": 161,
    "start_time": "2023-01-13T12:47:47.350Z"
   },
   {
    "duration": 3279307,
    "start_time": "2023-01-13T12:47:53.735Z"
   },
   {
    "duration": 3,
    "start_time": "2023-01-13T13:42:33.044Z"
   },
   {
    "duration": 8,
    "start_time": "2023-01-13T13:42:33.049Z"
   },
   {
    "duration": 12,
    "start_time": "2023-01-13T13:42:33.059Z"
   },
   {
    "duration": 6,
    "start_time": "2023-01-13T13:42:33.072Z"
   },
   {
    "duration": 189,
    "start_time": "2023-01-13T13:42:33.079Z"
   },
   {
    "duration": 49,
    "start_time": "2023-01-13T13:42:33.270Z"
   },
   {
    "duration": 0,
    "start_time": "2023-01-13T13:42:33.321Z"
   },
   {
    "duration": 193,
    "start_time": "2023-01-13T13:51:03.861Z"
   },
   {
    "duration": 9,
    "start_time": "2023-01-13T13:51:40.340Z"
   },
   {
    "duration": 143,
    "start_time": "2023-01-13T13:52:09.767Z"
   },
   {
    "duration": 147,
    "start_time": "2023-01-13T13:53:08.314Z"
   },
   {
    "duration": 237,
    "start_time": "2023-01-13T13:53:16.100Z"
   },
   {
    "duration": 45,
    "start_time": "2023-01-13T13:53:38.782Z"
   },
   {
    "duration": 148,
    "start_time": "2023-01-13T13:53:47.327Z"
   },
   {
    "duration": 148,
    "start_time": "2023-01-13T13:55:24.454Z"
   },
   {
    "duration": 153,
    "start_time": "2023-01-13T13:55:32.517Z"
   },
   {
    "duration": 146,
    "start_time": "2023-01-13T13:56:35.446Z"
   },
   {
    "duration": 11,
    "start_time": "2023-01-13T13:57:44.258Z"
   },
   {
    "duration": 21,
    "start_time": "2023-01-13T13:59:54.295Z"
   },
   {
    "duration": 125,
    "start_time": "2023-01-13T14:00:51.947Z"
   },
   {
    "duration": 192,
    "start_time": "2023-01-13T14:01:32.780Z"
   },
   {
    "duration": 153,
    "start_time": "2023-01-13T14:01:33.671Z"
   },
   {
    "duration": 122,
    "start_time": "2023-01-13T14:01:34.703Z"
   },
   {
    "duration": 116,
    "start_time": "2023-01-13T14:01:38.331Z"
   },
   {
    "duration": 120399,
    "start_time": "2023-01-13T14:01:56.526Z"
   },
   {
    "duration": 4,
    "start_time": "2023-01-13T14:03:56.927Z"
   },
   {
    "duration": 7,
    "start_time": "2023-01-13T14:03:56.932Z"
   },
   {
    "duration": 19,
    "start_time": "2023-01-13T14:03:56.941Z"
   },
   {
    "duration": 244,
    "start_time": "2023-01-13T14:03:57.016Z"
   },
   {
    "duration": 170,
    "start_time": "2023-01-13T14:03:57.261Z"
   },
   {
    "duration": 46,
    "start_time": "2023-01-13T14:03:57.432Z"
   },
   {
    "duration": 0,
    "start_time": "2023-01-13T14:03:57.480Z"
   },
   {
    "duration": 0,
    "start_time": "2023-01-13T14:03:57.481Z"
   },
   {
    "duration": 0,
    "start_time": "2023-01-13T14:03:57.482Z"
   },
   {
    "duration": 0,
    "start_time": "2023-01-13T14:03:57.483Z"
   },
   {
    "duration": 1619400,
    "start_time": "2023-01-13T14:04:27.165Z"
   },
   {
    "duration": 0,
    "start_time": "2023-01-13T14:31:26.567Z"
   },
   {
    "duration": 0,
    "start_time": "2023-01-13T14:31:26.568Z"
   },
   {
    "duration": 0,
    "start_time": "2023-01-13T14:31:26.569Z"
   },
   {
    "duration": 0,
    "start_time": "2023-01-13T14:31:26.571Z"
   },
   {
    "duration": 0,
    "start_time": "2023-01-13T14:31:26.572Z"
   },
   {
    "duration": 0,
    "start_time": "2023-01-13T14:31:26.574Z"
   },
   {
    "duration": 0,
    "start_time": "2023-01-13T14:31:26.575Z"
   },
   {
    "duration": 0,
    "start_time": "2023-01-13T14:31:26.577Z"
   },
   {
    "duration": 1,
    "start_time": "2023-01-13T14:31:26.578Z"
   },
   {
    "duration": 2075,
    "start_time": "2023-01-13T14:31:33.112Z"
   },
   {
    "duration": 4,
    "start_time": "2023-01-13T14:31:35.224Z"
   },
   {
    "duration": 4,
    "start_time": "2023-01-13T14:31:36.268Z"
   },
   {
    "duration": 4,
    "start_time": "2023-01-13T14:31:37.237Z"
   },
   {
    "duration": 4,
    "start_time": "2023-01-13T14:31:45.664Z"
   },
   {
    "duration": 42,
    "start_time": "2023-01-13T14:31:47.062Z"
   },
   {
    "duration": 12,
    "start_time": "2023-01-13T14:31:47.925Z"
   },
   {
    "duration": 17,
    "start_time": "2023-01-13T14:31:48.729Z"
   },
   {
    "duration": 8,
    "start_time": "2023-01-13T14:31:49.760Z"
   },
   {
    "duration": 10,
    "start_time": "2023-01-13T14:31:50.789Z"
   },
   {
    "duration": 6,
    "start_time": "2023-01-13T14:31:53.688Z"
   },
   {
    "duration": 5,
    "start_time": "2023-01-13T14:31:55.809Z"
   },
   {
    "duration": 9,
    "start_time": "2023-01-13T14:31:56.663Z"
   },
   {
    "duration": 12,
    "start_time": "2023-01-13T14:31:57.531Z"
   },
   {
    "duration": 11,
    "start_time": "2023-01-13T14:32:00.901Z"
   },
   {
    "duration": 5,
    "start_time": "2023-01-13T14:32:02.578Z"
   },
   {
    "duration": 11,
    "start_time": "2023-01-13T14:32:04.307Z"
   },
   {
    "duration": 4,
    "start_time": "2023-01-13T14:32:11.085Z"
   },
   {
    "duration": 8,
    "start_time": "2023-01-13T14:32:11.693Z"
   },
   {
    "duration": 8,
    "start_time": "2023-01-13T14:32:12.416Z"
   },
   {
    "duration": 4,
    "start_time": "2023-01-13T14:32:13.240Z"
   },
   {
    "duration": 4,
    "start_time": "2023-01-13T14:32:26.608Z"
   },
   {
    "duration": 4,
    "start_time": "2023-01-13T14:32:27.248Z"
   },
   {
    "duration": 11,
    "start_time": "2023-01-13T14:32:29.236Z"
   },
   {
    "duration": 14,
    "start_time": "2023-01-13T14:32:30.151Z"
   },
   {
    "duration": 12,
    "start_time": "2023-01-13T14:32:31.299Z"
   },
   {
    "duration": 11,
    "start_time": "2023-01-13T14:32:32.636Z"
   },
   {
    "duration": 11,
    "start_time": "2023-01-13T14:32:33.860Z"
   },
   {
    "duration": 12,
    "start_time": "2023-01-13T14:32:34.742Z"
   },
   {
    "duration": 10,
    "start_time": "2023-01-13T14:32:36.686Z"
   },
   {
    "duration": 14,
    "start_time": "2023-01-13T14:32:38.166Z"
   },
   {
    "duration": 19,
    "start_time": "2023-01-13T14:32:39.682Z"
   },
   {
    "duration": 12,
    "start_time": "2023-01-13T14:32:40.586Z"
   },
   {
    "duration": 15,
    "start_time": "2023-01-13T14:32:42.309Z"
   },
   {
    "duration": 12,
    "start_time": "2023-01-13T14:32:43.147Z"
   },
   {
    "duration": 33,
    "start_time": "2023-01-13T14:32:49.958Z"
   },
   {
    "duration": 38,
    "start_time": "2023-01-13T14:32:56.635Z"
   },
   {
    "duration": 2074,
    "start_time": "2023-01-13T14:33:00.499Z"
   },
   {
    "duration": 3,
    "start_time": "2023-01-13T14:33:02.576Z"
   },
   {
    "duration": 4,
    "start_time": "2023-01-13T14:33:03.061Z"
   },
   {
    "duration": 4,
    "start_time": "2023-01-13T14:33:04.221Z"
   },
   {
    "duration": 4,
    "start_time": "2023-01-13T14:33:05.399Z"
   },
   {
    "duration": 2122,
    "start_time": "2023-01-13T14:33:35.571Z"
   },
   {
    "duration": 4,
    "start_time": "2023-01-13T14:33:37.695Z"
   },
   {
    "duration": 4,
    "start_time": "2023-01-13T14:33:39.091Z"
   },
   {
    "duration": 4,
    "start_time": "2023-01-13T14:33:40.662Z"
   },
   {
    "duration": 4,
    "start_time": "2023-01-13T14:33:42.030Z"
   },
   {
    "duration": 162,
    "start_time": "2023-01-13T14:33:56.577Z"
   },
   {
    "duration": 6,
    "start_time": "2023-01-13T14:34:02.729Z"
   },
   {
    "duration": 4,
    "start_time": "2023-01-13T14:34:03.454Z"
   },
   {
    "duration": 3256957,
    "start_time": "2023-01-13T14:34:15.917Z"
   },
   {
    "duration": 4,
    "start_time": "2023-01-13T15:28:32.876Z"
   },
   {
    "duration": 5,
    "start_time": "2023-01-13T15:28:32.882Z"
   },
   {
    "duration": 6,
    "start_time": "2023-01-13T15:28:32.889Z"
   },
   {
    "duration": 18,
    "start_time": "2023-01-13T15:28:32.897Z"
   },
   {
    "duration": 219,
    "start_time": "2023-01-13T15:28:32.917Z"
   },
   {
    "duration": 158,
    "start_time": "2023-01-13T15:28:33.138Z"
   },
   {
    "duration": 23,
    "start_time": "2023-01-13T15:28:33.297Z"
   },
   {
    "duration": 19,
    "start_time": "2023-01-13T15:39:48.659Z"
   },
   {
    "duration": 1370,
    "start_time": "2023-01-13T15:41:45.376Z"
   },
   {
    "duration": 42,
    "start_time": "2023-01-13T15:41:46.748Z"
   },
   {
    "duration": 12,
    "start_time": "2023-01-13T15:41:46.792Z"
   },
   {
    "duration": 22,
    "start_time": "2023-01-13T15:41:46.806Z"
   },
   {
    "duration": 7,
    "start_time": "2023-01-13T15:41:46.829Z"
   },
   {
    "duration": 13,
    "start_time": "2023-01-13T15:41:46.837Z"
   },
   {
    "duration": 4,
    "start_time": "2023-01-13T15:41:46.852Z"
   },
   {
    "duration": 14,
    "start_time": "2023-01-13T15:41:46.858Z"
   },
   {
    "duration": 7,
    "start_time": "2023-01-13T15:41:46.874Z"
   },
   {
    "duration": 13,
    "start_time": "2023-01-13T15:41:46.917Z"
   },
   {
    "duration": 11,
    "start_time": "2023-01-13T15:41:46.931Z"
   },
   {
    "duration": 8,
    "start_time": "2023-01-13T15:41:46.943Z"
   },
   {
    "duration": 13,
    "start_time": "2023-01-13T15:41:46.953Z"
   },
   {
    "duration": 3,
    "start_time": "2023-01-13T15:41:46.968Z"
   },
   {
    "duration": 9,
    "start_time": "2023-01-13T15:41:46.972Z"
   },
   {
    "duration": 7,
    "start_time": "2023-01-13T15:41:47.016Z"
   },
   {
    "duration": 3,
    "start_time": "2023-01-13T15:41:47.024Z"
   },
   {
    "duration": 9,
    "start_time": "2023-01-13T15:41:47.029Z"
   },
   {
    "duration": 4,
    "start_time": "2023-01-13T15:41:47.040Z"
   },
   {
    "duration": 12,
    "start_time": "2023-01-13T15:41:47.046Z"
   },
   {
    "duration": 14,
    "start_time": "2023-01-13T15:41:47.059Z"
   },
   {
    "duration": 42,
    "start_time": "2023-01-13T15:41:47.075Z"
   },
   {
    "duration": 12,
    "start_time": "2023-01-13T15:41:47.119Z"
   },
   {
    "duration": 12,
    "start_time": "2023-01-13T15:41:47.133Z"
   },
   {
    "duration": 12,
    "start_time": "2023-01-13T15:41:47.146Z"
   },
   {
    "duration": 12,
    "start_time": "2023-01-13T15:41:47.159Z"
   },
   {
    "duration": 43,
    "start_time": "2023-01-13T15:41:47.172Z"
   },
   {
    "duration": 13,
    "start_time": "2023-01-13T15:41:47.219Z"
   },
   {
    "duration": 13,
    "start_time": "2023-01-13T15:41:47.233Z"
   },
   {
    "duration": 19,
    "start_time": "2023-01-13T15:41:47.248Z"
   },
   {
    "duration": 12,
    "start_time": "2023-01-13T15:41:47.268Z"
   },
   {
    "duration": 48,
    "start_time": "2023-01-13T15:41:47.282Z"
   },
   {
    "duration": 2181,
    "start_time": "2023-01-13T15:41:47.332Z"
   },
   {
    "duration": 3,
    "start_time": "2023-01-13T15:41:49.516Z"
   },
   {
    "duration": 7,
    "start_time": "2023-01-13T15:41:49.520Z"
   },
   {
    "duration": 7,
    "start_time": "2023-01-13T15:41:49.529Z"
   },
   {
    "duration": 6,
    "start_time": "2023-01-13T15:41:49.538Z"
   },
   {
    "duration": 211,
    "start_time": "2023-01-13T15:41:49.545Z"
   },
   {
    "duration": 8,
    "start_time": "2023-01-13T15:41:49.760Z"
   },
   {
    "duration": 8,
    "start_time": "2023-01-13T15:41:49.769Z"
   },
   {
    "duration": 3224457,
    "start_time": "2023-01-13T15:41:49.779Z"
   },
   {
    "duration": 3,
    "start_time": "2023-01-13T16:35:34.237Z"
   },
   {
    "duration": 7,
    "start_time": "2023-01-13T16:35:34.241Z"
   },
   {
    "duration": 5,
    "start_time": "2023-01-13T16:35:34.249Z"
   },
   {
    "duration": 5,
    "start_time": "2023-01-13T16:35:34.255Z"
   },
   {
    "duration": 226,
    "start_time": "2023-01-13T16:35:34.261Z"
   },
   {
    "duration": 27,
    "start_time": "2023-01-13T16:35:34.488Z"
   },
   {
    "duration": 119700,
    "start_time": "2023-01-13T16:35:34.517Z"
   },
   {
    "duration": 4,
    "start_time": "2023-01-13T16:37:34.219Z"
   },
   {
    "duration": 7,
    "start_time": "2023-01-13T16:37:34.224Z"
   },
   {
    "duration": 20,
    "start_time": "2023-01-13T16:37:34.232Z"
   },
   {
    "duration": 235,
    "start_time": "2023-01-13T16:37:34.317Z"
   },
   {
    "duration": 166,
    "start_time": "2023-01-13T16:37:34.554Z"
   },
   {
    "duration": 7,
    "start_time": "2023-01-13T16:37:34.721Z"
   },
   {
    "duration": 2277,
    "start_time": "2023-01-13T16:37:34.730Z"
   },
   {
    "duration": 3,
    "start_time": "2023-01-13T16:37:37.009Z"
   },
   {
    "duration": 10,
    "start_time": "2023-01-13T16:37:37.015Z"
   },
   {
    "duration": 4,
    "start_time": "2023-01-13T16:37:37.026Z"
   },
   {
    "duration": 3213485,
    "start_time": "2023-01-13T16:37:37.031Z"
   },
   {
    "duration": 3,
    "start_time": "2023-01-13T17:31:10.518Z"
   },
   {
    "duration": 22,
    "start_time": "2023-01-13T17:31:10.523Z"
   },
   {
    "duration": 3,
    "start_time": "2023-01-13T17:31:10.547Z"
   },
   {
    "duration": 126175,
    "start_time": "2023-01-13T17:31:10.552Z"
   },
   {
    "duration": 4,
    "start_time": "2023-01-13T17:33:16.728Z"
   },
   {
    "duration": 21,
    "start_time": "2023-01-13T17:33:16.733Z"
   },
   {
    "duration": 62,
    "start_time": "2023-01-13T17:33:16.756Z"
   },
   {
    "duration": 98,
    "start_time": "2023-01-13T17:33:16.820Z"
   },
   {
    "duration": 9,
    "start_time": "2023-01-13T17:33:16.919Z"
   },
   {
    "duration": 207,
    "start_time": "2023-01-13T17:33:16.930Z"
   },
   {
    "duration": 222,
    "start_time": "2023-01-13T17:33:17.139Z"
   },
   {
    "duration": 0,
    "start_time": "2023-01-13T17:33:17.364Z"
   },
   {
    "duration": 0,
    "start_time": "2023-01-13T17:33:17.365Z"
   },
   {
    "duration": 0,
    "start_time": "2023-01-13T17:33:17.366Z"
   },
   {
    "duration": 0,
    "start_time": "2023-01-13T17:33:17.367Z"
   },
   {
    "duration": 0,
    "start_time": "2023-01-13T17:33:17.368Z"
   },
   {
    "duration": 0,
    "start_time": "2023-01-13T17:33:17.370Z"
   },
   {
    "duration": 0,
    "start_time": "2023-01-13T17:33:17.371Z"
   },
   {
    "duration": 0,
    "start_time": "2023-01-13T17:33:17.372Z"
   },
   {
    "duration": 0,
    "start_time": "2023-01-13T17:33:17.373Z"
   },
   {
    "duration": 0,
    "start_time": "2023-01-13T17:33:17.374Z"
   },
   {
    "duration": 0,
    "start_time": "2023-01-13T17:33:17.375Z"
   },
   {
    "duration": 0,
    "start_time": "2023-01-13T17:33:17.376Z"
   },
   {
    "duration": 0,
    "start_time": "2023-01-13T17:33:17.377Z"
   },
   {
    "duration": 0,
    "start_time": "2023-01-13T17:33:17.377Z"
   },
   {
    "duration": 0,
    "start_time": "2023-01-13T17:33:17.379Z"
   },
   {
    "duration": 0,
    "start_time": "2023-01-13T17:33:17.380Z"
   },
   {
    "duration": 0,
    "start_time": "2023-01-13T17:33:17.381Z"
   },
   {
    "duration": 0,
    "start_time": "2023-01-13T17:33:17.382Z"
   },
   {
    "duration": 0,
    "start_time": "2023-01-13T17:33:17.382Z"
   },
   {
    "duration": 0,
    "start_time": "2023-01-13T17:33:17.416Z"
   },
   {
    "duration": 0,
    "start_time": "2023-01-13T17:33:17.417Z"
   },
   {
    "duration": 0,
    "start_time": "2023-01-13T17:33:17.418Z"
   },
   {
    "duration": 0,
    "start_time": "2023-01-13T17:33:17.418Z"
   },
   {
    "duration": 0,
    "start_time": "2023-01-13T17:33:17.419Z"
   },
   {
    "duration": 0,
    "start_time": "2023-01-13T17:33:17.420Z"
   },
   {
    "duration": 0,
    "start_time": "2023-01-13T17:33:17.421Z"
   },
   {
    "duration": 0,
    "start_time": "2023-01-13T17:33:17.422Z"
   },
   {
    "duration": 0,
    "start_time": "2023-01-13T17:33:17.424Z"
   },
   {
    "duration": 0,
    "start_time": "2023-01-13T17:33:17.425Z"
   },
   {
    "duration": 0,
    "start_time": "2023-01-13T17:33:17.426Z"
   },
   {
    "duration": 0,
    "start_time": "2023-01-13T17:33:17.428Z"
   },
   {
    "duration": 0,
    "start_time": "2023-01-13T17:33:17.429Z"
   },
   {
    "duration": 0,
    "start_time": "2023-01-13T17:33:17.430Z"
   },
   {
    "duration": 0,
    "start_time": "2023-01-13T17:33:17.431Z"
   },
   {
    "duration": 0,
    "start_time": "2023-01-13T17:33:17.433Z"
   },
   {
    "duration": 0,
    "start_time": "2023-01-13T17:33:17.434Z"
   },
   {
    "duration": 0,
    "start_time": "2023-01-13T17:33:17.435Z"
   },
   {
    "duration": 0,
    "start_time": "2023-01-13T17:33:17.437Z"
   },
   {
    "duration": 0,
    "start_time": "2023-01-13T17:33:17.438Z"
   },
   {
    "duration": 0,
    "start_time": "2023-01-13T17:33:17.439Z"
   },
   {
    "duration": 0,
    "start_time": "2023-01-13T17:33:17.441Z"
   },
   {
    "duration": 0,
    "start_time": "2023-01-13T17:33:17.442Z"
   },
   {
    "duration": 0,
    "start_time": "2023-01-13T17:33:17.443Z"
   },
   {
    "duration": 0,
    "start_time": "2023-01-13T17:33:17.445Z"
   },
   {
    "duration": 0,
    "start_time": "2023-01-13T17:33:17.446Z"
   },
   {
    "duration": 0,
    "start_time": "2023-01-13T17:33:17.447Z"
   },
   {
    "duration": 0,
    "start_time": "2023-01-13T17:33:17.449Z"
   },
   {
    "duration": 0,
    "start_time": "2023-01-13T17:33:17.450Z"
   },
   {
    "duration": 0,
    "start_time": "2023-01-13T17:33:17.451Z"
   },
   {
    "duration": 0,
    "start_time": "2023-01-13T17:33:17.453Z"
   },
   {
    "duration": 0,
    "start_time": "2023-01-13T17:33:17.453Z"
   },
   {
    "duration": 0,
    "start_time": "2023-01-13T17:33:17.454Z"
   },
   {
    "duration": 0,
    "start_time": "2023-01-13T17:33:17.516Z"
   },
   {
    "duration": 0,
    "start_time": "2023-01-13T17:33:17.516Z"
   },
   {
    "duration": 0,
    "start_time": "2023-01-13T17:33:17.517Z"
   },
   {
    "duration": 0,
    "start_time": "2023-01-13T17:33:17.518Z"
   },
   {
    "duration": 0,
    "start_time": "2023-01-13T17:33:17.519Z"
   },
   {
    "duration": 235,
    "start_time": "2023-01-13T17:40:37.334Z"
   },
   {
    "duration": 215,
    "start_time": "2023-01-13T17:40:46.927Z"
   },
   {
    "duration": 229,
    "start_time": "2023-01-13T17:40:51.839Z"
   },
   {
    "duration": 230,
    "start_time": "2023-01-13T17:40:57.114Z"
   },
   {
    "duration": 3,
    "start_time": "2023-01-13T17:41:22.953Z"
   },
   {
    "duration": 5,
    "start_time": "2023-01-13T17:41:51.132Z"
   },
   {
    "duration": 157,
    "start_time": "2023-01-13T17:41:59.032Z"
   },
   {
    "duration": 171,
    "start_time": "2023-01-13T17:42:22.133Z"
   },
   {
    "duration": 155,
    "start_time": "2023-01-13T17:42:52.497Z"
   },
   {
    "duration": 164,
    "start_time": "2023-01-13T17:43:20.652Z"
   },
   {
    "duration": 128,
    "start_time": "2023-01-13T17:44:37.527Z"
   },
   {
    "duration": 148,
    "start_time": "2023-01-13T17:44:55.323Z"
   },
   {
    "duration": 151,
    "start_time": "2023-01-13T17:45:25.670Z"
   },
   {
    "duration": 250,
    "start_time": "2023-01-13T17:45:32.605Z"
   },
   {
    "duration": 141,
    "start_time": "2023-01-13T17:46:07.459Z"
   },
   {
    "duration": 124,
    "start_time": "2023-01-13T17:47:23.907Z"
   },
   {
    "duration": 19,
    "start_time": "2023-01-13T17:47:34.580Z"
   },
   {
    "duration": 4,
    "start_time": "2023-01-13T17:47:35.469Z"
   },
   {
    "duration": 4,
    "start_time": "2023-01-13T17:47:37.318Z"
   },
   {
    "duration": 7,
    "start_time": "2023-01-13T17:48:10.862Z"
   },
   {
    "duration": 143,
    "start_time": "2023-01-13T17:48:13.677Z"
   },
   {
    "duration": 129,
    "start_time": "2023-01-13T17:48:16.400Z"
   },
   {
    "duration": 155,
    "start_time": "2023-01-13T17:48:44.342Z"
   },
   {
    "duration": 162,
    "start_time": "2023-01-13T17:51:18.574Z"
   },
   {
    "duration": 177,
    "start_time": "2023-01-13T17:51:55.707Z"
   },
   {
    "duration": 163,
    "start_time": "2023-01-13T17:52:08.859Z"
   },
   {
    "duration": 13,
    "start_time": "2023-01-13T17:53:17.449Z"
   },
   {
    "duration": 5,
    "start_time": "2023-01-13T17:53:18.264Z"
   },
   {
    "duration": 15,
    "start_time": "2023-01-13T17:54:15.299Z"
   },
   {
    "duration": 6,
    "start_time": "2023-01-13T17:54:16.506Z"
   },
   {
    "duration": 12,
    "start_time": "2023-01-13T17:54:25.310Z"
   },
   {
    "duration": 6,
    "start_time": "2023-01-13T17:54:26.491Z"
   },
   {
    "duration": 13,
    "start_time": "2023-01-13T17:54:33.316Z"
   },
   {
    "duration": 6,
    "start_time": "2023-01-13T17:54:34.726Z"
   },
   {
    "duration": 11,
    "start_time": "2023-01-13T17:54:40.387Z"
   },
   {
    "duration": 6,
    "start_time": "2023-01-13T17:54:41.430Z"
   },
   {
    "duration": 11,
    "start_time": "2023-01-13T17:54:46.641Z"
   },
   {
    "duration": 6,
    "start_time": "2023-01-13T17:54:47.568Z"
   },
   {
    "duration": 17,
    "start_time": "2023-01-13T17:54:52.741Z"
   },
   {
    "duration": 6,
    "start_time": "2023-01-13T17:54:53.669Z"
   },
   {
    "duration": 13,
    "start_time": "2023-01-13T17:54:59.716Z"
   },
   {
    "duration": 6,
    "start_time": "2023-01-13T17:55:00.601Z"
   },
   {
    "duration": 13,
    "start_time": "2023-01-13T17:55:17.040Z"
   },
   {
    "duration": 5,
    "start_time": "2023-01-13T17:55:17.928Z"
   },
   {
    "duration": 13,
    "start_time": "2023-01-13T17:55:34.999Z"
   },
   {
    "duration": 6,
    "start_time": "2023-01-13T17:55:36.856Z"
   },
   {
    "duration": 7,
    "start_time": "2023-01-13T17:56:51.376Z"
   },
   {
    "duration": 2189,
    "start_time": "2023-01-13T17:57:04.484Z"
   },
   {
    "duration": 3,
    "start_time": "2023-01-13T17:57:06.686Z"
   },
   {
    "duration": 6,
    "start_time": "2023-01-13T17:57:07.328Z"
   },
   {
    "duration": 3,
    "start_time": "2023-01-13T17:57:07.864Z"
   },
   {
    "duration": 2417915,
    "start_time": "2023-01-13T17:57:09.027Z"
   },
   {
    "duration": 0,
    "start_time": "2023-01-13T18:37:26.945Z"
   },
   {
    "duration": 0,
    "start_time": "2023-01-13T18:37:26.946Z"
   },
   {
    "duration": 0,
    "start_time": "2023-01-13T18:37:26.947Z"
   },
   {
    "duration": 0,
    "start_time": "2023-01-13T18:37:26.948Z"
   },
   {
    "duration": 0,
    "start_time": "2023-01-13T18:37:26.949Z"
   },
   {
    "duration": 0,
    "start_time": "2023-01-13T18:37:26.950Z"
   },
   {
    "duration": 0,
    "start_time": "2023-01-13T18:37:26.951Z"
   },
   {
    "duration": 0,
    "start_time": "2023-01-13T18:37:26.952Z"
   },
   {
    "duration": 0,
    "start_time": "2023-01-13T18:37:26.953Z"
   },
   {
    "duration": 0,
    "start_time": "2023-01-13T18:37:26.954Z"
   },
   {
    "duration": 0,
    "start_time": "2023-01-13T18:37:26.955Z"
   },
   {
    "duration": 0,
    "start_time": "2023-01-13T18:37:26.957Z"
   },
   {
    "duration": 0,
    "start_time": "2023-01-13T18:37:26.958Z"
   },
   {
    "duration": 0,
    "start_time": "2023-01-13T18:37:26.959Z"
   },
   {
    "duration": 0,
    "start_time": "2023-01-13T18:37:26.960Z"
   },
   {
    "duration": 0,
    "start_time": "2023-01-13T18:37:26.961Z"
   },
   {
    "duration": 0,
    "start_time": "2023-01-13T18:37:26.962Z"
   },
   {
    "duration": 0,
    "start_time": "2023-01-13T18:37:26.963Z"
   },
   {
    "duration": 0,
    "start_time": "2023-01-13T18:37:26.963Z"
   },
   {
    "duration": 0,
    "start_time": "2023-01-13T18:37:26.964Z"
   },
   {
    "duration": 0,
    "start_time": "2023-01-13T18:37:26.965Z"
   },
   {
    "duration": 0,
    "start_time": "2023-01-13T18:37:26.966Z"
   },
   {
    "duration": 0,
    "start_time": "2023-01-13T18:37:26.967Z"
   },
   {
    "duration": 0,
    "start_time": "2023-01-13T18:37:26.969Z"
   },
   {
    "duration": 0,
    "start_time": "2023-01-13T18:37:26.970Z"
   },
   {
    "duration": 0,
    "start_time": "2023-01-13T18:37:26.971Z"
   },
   {
    "duration": 0,
    "start_time": "2023-01-13T18:37:27.015Z"
   },
   {
    "duration": 1,
    "start_time": "2023-01-13T18:37:27.016Z"
   },
   {
    "duration": 0,
    "start_time": "2023-01-13T18:37:27.017Z"
   },
   {
    "duration": 0,
    "start_time": "2023-01-13T18:37:27.019Z"
   },
   {
    "duration": 0,
    "start_time": "2023-01-13T18:37:27.021Z"
   },
   {
    "duration": 0,
    "start_time": "2023-01-13T18:37:27.022Z"
   },
   {
    "duration": 0,
    "start_time": "2023-01-13T18:37:27.023Z"
   },
   {
    "duration": 0,
    "start_time": "2023-01-13T18:37:27.024Z"
   },
   {
    "duration": 0,
    "start_time": "2023-01-13T18:37:27.025Z"
   },
   {
    "duration": 0,
    "start_time": "2023-01-13T18:37:27.027Z"
   },
   {
    "duration": 0,
    "start_time": "2023-01-13T18:37:27.028Z"
   },
   {
    "duration": 0,
    "start_time": "2023-01-13T18:37:27.029Z"
   },
   {
    "duration": 0,
    "start_time": "2023-01-13T18:37:27.031Z"
   },
   {
    "duration": 0,
    "start_time": "2023-01-13T18:37:27.032Z"
   },
   {
    "duration": 0,
    "start_time": "2023-01-13T18:37:27.033Z"
   },
   {
    "duration": 0,
    "start_time": "2023-01-13T18:37:27.034Z"
   },
   {
    "duration": 0,
    "start_time": "2023-01-13T18:37:27.035Z"
   },
   {
    "duration": 0,
    "start_time": "2023-01-13T18:37:27.036Z"
   },
   {
    "duration": 0,
    "start_time": "2023-01-13T18:37:27.037Z"
   },
   {
    "duration": 0,
    "start_time": "2023-01-13T18:37:27.038Z"
   },
   {
    "duration": 0,
    "start_time": "2023-01-13T18:37:27.039Z"
   },
   {
    "duration": 0,
    "start_time": "2023-01-13T18:37:27.042Z"
   },
   {
    "duration": 0,
    "start_time": "2023-01-13T18:37:27.043Z"
   },
   {
    "duration": 0,
    "start_time": "2023-01-13T18:37:27.044Z"
   },
   {
    "duration": 0,
    "start_time": "2023-01-13T18:37:27.045Z"
   },
   {
    "duration": 0,
    "start_time": "2023-01-13T18:37:27.046Z"
   },
   {
    "duration": 0,
    "start_time": "2023-01-13T18:37:27.046Z"
   },
   {
    "duration": 0,
    "start_time": "2023-01-13T18:37:27.047Z"
   },
   {
    "duration": 0,
    "start_time": "2023-01-13T18:37:27.048Z"
   },
   {
    "duration": 0,
    "start_time": "2023-01-13T18:37:27.049Z"
   },
   {
    "duration": 17,
    "start_time": "2023-01-13T18:37:31.497Z"
   },
   {
    "duration": 4,
    "start_time": "2023-01-13T18:37:34.042Z"
   },
   {
    "duration": 117826,
    "start_time": "2023-01-13T18:37:40.600Z"
   },
   {
    "duration": 4,
    "start_time": "2023-01-13T18:39:38.428Z"
   },
   {
    "duration": 7,
    "start_time": "2023-01-13T18:39:38.433Z"
   },
   {
    "duration": 21,
    "start_time": "2023-01-13T18:39:38.441Z"
   },
   {
    "duration": 5,
    "start_time": "2023-01-13T18:39:38.517Z"
   },
   {
    "duration": 257,
    "start_time": "2023-01-13T18:39:38.524Z"
   },
   {
    "duration": 174,
    "start_time": "2023-01-13T18:39:38.783Z"
   },
   {
    "duration": 157,
    "start_time": "2023-01-13T18:43:30.571Z"
   },
   {
    "duration": 17,
    "start_time": "2023-01-13T18:43:41.441Z"
   },
   {
    "duration": 4,
    "start_time": "2023-01-13T18:43:42.262Z"
   },
   {
    "duration": 177,
    "start_time": "2023-01-13T18:43:43.940Z"
   },
   {
    "duration": 152,
    "start_time": "2023-01-13T18:47:11.322Z"
   },
   {
    "duration": 204,
    "start_time": "2023-01-13T18:47:41.413Z"
   },
   {
    "duration": 163,
    "start_time": "2023-01-13T18:47:56.360Z"
   },
   {
    "duration": 161,
    "start_time": "2023-01-13T18:48:22.175Z"
   },
   {
    "duration": 1255,
    "start_time": "2023-01-13T19:07:30.868Z"
   },
   {
    "duration": 43,
    "start_time": "2023-01-13T19:07:32.125Z"
   },
   {
    "duration": 13,
    "start_time": "2023-01-13T19:07:32.170Z"
   },
   {
    "duration": 20,
    "start_time": "2023-01-13T19:07:32.186Z"
   },
   {
    "duration": 12,
    "start_time": "2023-01-13T19:07:32.207Z"
   },
   {
    "duration": 11,
    "start_time": "2023-01-13T19:07:32.220Z"
   },
   {
    "duration": 5,
    "start_time": "2023-01-13T19:07:32.232Z"
   },
   {
    "duration": 7,
    "start_time": "2023-01-13T19:07:32.238Z"
   },
   {
    "duration": 9,
    "start_time": "2023-01-13T19:07:32.246Z"
   },
   {
    "duration": 10,
    "start_time": "2023-01-13T19:07:32.258Z"
   },
   {
    "duration": 10,
    "start_time": "2023-01-13T19:07:32.269Z"
   },
   {
    "duration": 37,
    "start_time": "2023-01-13T19:07:32.280Z"
   },
   {
    "duration": 15,
    "start_time": "2023-01-13T19:07:32.319Z"
   },
   {
    "duration": 3,
    "start_time": "2023-01-13T19:07:32.336Z"
   },
   {
    "duration": 14,
    "start_time": "2023-01-13T19:07:32.341Z"
   },
   {
    "duration": 8,
    "start_time": "2023-01-13T19:07:32.357Z"
   },
   {
    "duration": 4,
    "start_time": "2023-01-13T19:07:32.366Z"
   },
   {
    "duration": 6,
    "start_time": "2023-01-13T19:07:32.372Z"
   },
   {
    "duration": 5,
    "start_time": "2023-01-13T19:07:32.380Z"
   },
   {
    "duration": 40,
    "start_time": "2023-01-13T19:07:32.386Z"
   },
   {
    "duration": 21,
    "start_time": "2023-01-13T19:07:32.427Z"
   },
   {
    "duration": 18,
    "start_time": "2023-01-13T19:07:32.450Z"
   },
   {
    "duration": 33,
    "start_time": "2023-01-13T19:07:32.470Z"
   },
   {
    "duration": 12,
    "start_time": "2023-01-13T19:07:32.505Z"
   },
   {
    "duration": 11,
    "start_time": "2023-01-13T19:07:32.519Z"
   },
   {
    "duration": 11,
    "start_time": "2023-01-13T19:07:32.531Z"
   },
   {
    "duration": 11,
    "start_time": "2023-01-13T19:07:32.544Z"
   },
   {
    "duration": 12,
    "start_time": "2023-01-13T19:07:32.559Z"
   },
   {
    "duration": 12,
    "start_time": "2023-01-13T19:07:32.572Z"
   },
   {
    "duration": 41,
    "start_time": "2023-01-13T19:07:32.585Z"
   },
   {
    "duration": 11,
    "start_time": "2023-01-13T19:07:32.628Z"
   },
   {
    "duration": 33,
    "start_time": "2023-01-13T19:07:32.641Z"
   },
   {
    "duration": 2033,
    "start_time": "2023-01-13T19:07:32.675Z"
   },
   {
    "duration": 6,
    "start_time": "2023-01-13T19:07:34.710Z"
   },
   {
    "duration": 4,
    "start_time": "2023-01-13T19:07:34.718Z"
   },
   {
    "duration": 8,
    "start_time": "2023-01-13T19:07:34.723Z"
   },
   {
    "duration": 5,
    "start_time": "2023-01-13T19:07:34.733Z"
   },
   {
    "duration": 190,
    "start_time": "2023-01-13T19:07:34.740Z"
   },
   {
    "duration": 6,
    "start_time": "2023-01-13T19:07:34.932Z"
   },
   {
    "duration": 4,
    "start_time": "2023-01-13T19:07:34.940Z"
   },
   {
    "duration": 3209266,
    "start_time": "2023-01-13T19:07:34.945Z"
   },
   {
    "duration": 3,
    "start_time": "2023-01-13T20:01:04.213Z"
   },
   {
    "duration": 7,
    "start_time": "2023-01-13T20:01:04.217Z"
   },
   {
    "duration": 7,
    "start_time": "2023-01-13T20:01:04.225Z"
   },
   {
    "duration": 6,
    "start_time": "2023-01-13T20:01:04.233Z"
   },
   {
    "duration": 220,
    "start_time": "2023-01-13T20:01:04.240Z"
   },
   {
    "duration": 17,
    "start_time": "2023-01-13T20:01:04.462Z"
   },
   {
    "duration": 4,
    "start_time": "2023-01-13T20:01:04.480Z"
   },
   {
    "duration": 119243,
    "start_time": "2023-01-13T20:01:04.485Z"
   },
   {
    "duration": 3,
    "start_time": "2023-01-13T20:03:03.729Z"
   },
   {
    "duration": 7,
    "start_time": "2023-01-13T20:03:03.734Z"
   },
   {
    "duration": 21,
    "start_time": "2023-01-13T20:03:03.742Z"
   },
   {
    "duration": 53,
    "start_time": "2023-01-13T20:03:03.765Z"
   },
   {
    "duration": 257,
    "start_time": "2023-01-13T20:03:03.820Z"
   },
   {
    "duration": 154,
    "start_time": "2023-01-13T20:03:04.079Z"
   },
   {
    "duration": 9,
    "start_time": "2023-01-13T20:03:04.234Z"
   },
   {
    "duration": 2253,
    "start_time": "2023-01-13T20:03:04.244Z"
   },
   {
    "duration": 4,
    "start_time": "2023-01-13T20:03:06.499Z"
   },
   {
    "duration": 31,
    "start_time": "2023-01-13T20:03:06.505Z"
   },
   {
    "duration": 8,
    "start_time": "2023-01-13T20:03:06.537Z"
   },
   {
    "duration": 3208164,
    "start_time": "2023-01-13T20:03:06.547Z"
   },
   {
    "duration": 4,
    "start_time": "2023-01-13T20:56:34.712Z"
   },
   {
    "duration": 24,
    "start_time": "2023-01-13T20:56:34.717Z"
   },
   {
    "duration": 3,
    "start_time": "2023-01-13T20:56:34.742Z"
   },
   {
    "duration": 119569,
    "start_time": "2023-01-13T20:56:34.747Z"
   },
   {
    "duration": 4,
    "start_time": "2023-01-13T20:58:34.318Z"
   },
   {
    "duration": 27,
    "start_time": "2023-01-13T20:58:34.323Z"
   },
   {
    "duration": 64,
    "start_time": "2023-01-13T20:58:34.352Z"
   },
   {
    "duration": 107,
    "start_time": "2023-01-13T20:58:34.418Z"
   },
   {
    "duration": 10,
    "start_time": "2023-01-13T20:58:34.527Z"
   },
   {
    "duration": 222,
    "start_time": "2023-01-13T20:58:34.539Z"
   },
   {
    "duration": 184,
    "start_time": "2023-01-13T20:58:34.763Z"
   },
   {
    "duration": 13,
    "start_time": "2023-01-13T20:58:34.949Z"
   },
   {
    "duration": 5,
    "start_time": "2023-01-13T20:58:34.964Z"
   },
   {
    "duration": 4496,
    "start_time": "2023-01-13T20:58:34.971Z"
   },
   {
    "duration": 4,
    "start_time": "2023-01-13T20:58:39.468Z"
   },
   {
    "duration": 9,
    "start_time": "2023-01-13T20:58:39.473Z"
   },
   {
    "duration": 5,
    "start_time": "2023-01-13T20:58:39.484Z"
   },
   {
    "duration": 49,
    "start_time": "2023-01-14T07:45:59.316Z"
   },
   {
    "duration": 1537,
    "start_time": "2023-01-14T07:46:13.480Z"
   },
   {
    "duration": 79,
    "start_time": "2023-01-14T07:46:15.020Z"
   },
   {
    "duration": 13,
    "start_time": "2023-01-14T07:46:15.101Z"
   },
   {
    "duration": 32,
    "start_time": "2023-01-14T07:46:15.116Z"
   },
   {
    "duration": 10,
    "start_time": "2023-01-14T07:46:15.149Z"
   },
   {
    "duration": 35,
    "start_time": "2023-01-14T07:46:15.160Z"
   },
   {
    "duration": 7,
    "start_time": "2023-01-14T07:46:15.197Z"
   },
   {
    "duration": 26,
    "start_time": "2023-01-14T07:46:15.206Z"
   },
   {
    "duration": 35,
    "start_time": "2023-01-14T07:46:15.234Z"
   },
   {
    "duration": 16,
    "start_time": "2023-01-14T07:46:15.271Z"
   },
   {
    "duration": 24,
    "start_time": "2023-01-14T07:46:15.289Z"
   },
   {
    "duration": 11,
    "start_time": "2023-01-14T07:46:15.315Z"
   },
   {
    "duration": 42,
    "start_time": "2023-01-14T07:46:15.327Z"
   },
   {
    "duration": 10,
    "start_time": "2023-01-14T07:46:15.371Z"
   },
   {
    "duration": 23,
    "start_time": "2023-01-14T07:46:15.383Z"
   },
   {
    "duration": 27,
    "start_time": "2023-01-14T07:46:15.408Z"
   },
   {
    "duration": 16,
    "start_time": "2023-01-14T07:46:15.437Z"
   },
   {
    "duration": 20,
    "start_time": "2023-01-14T07:46:15.454Z"
   },
   {
    "duration": 22,
    "start_time": "2023-01-14T07:46:15.476Z"
   },
   {
    "duration": 31,
    "start_time": "2023-01-14T07:46:15.499Z"
   },
   {
    "duration": 25,
    "start_time": "2023-01-14T07:46:15.531Z"
   },
   {
    "duration": 34,
    "start_time": "2023-01-14T07:46:15.558Z"
   },
   {
    "duration": 32,
    "start_time": "2023-01-14T07:46:15.594Z"
   },
   {
    "duration": 24,
    "start_time": "2023-01-14T07:46:15.628Z"
   },
   {
    "duration": 31,
    "start_time": "2023-01-14T07:46:15.653Z"
   },
   {
    "duration": 28,
    "start_time": "2023-01-14T07:46:15.685Z"
   },
   {
    "duration": 13,
    "start_time": "2023-01-14T07:46:15.715Z"
   },
   {
    "duration": 12,
    "start_time": "2023-01-14T07:46:15.733Z"
   },
   {
    "duration": 12,
    "start_time": "2023-01-14T07:46:15.747Z"
   },
   {
    "duration": 22,
    "start_time": "2023-01-14T07:46:15.761Z"
   },
   {
    "duration": 11,
    "start_time": "2023-01-14T07:46:15.784Z"
   },
   {
    "duration": 36,
    "start_time": "2023-01-14T07:46:15.797Z"
   },
   {
    "duration": 2168,
    "start_time": "2023-01-14T07:46:15.835Z"
   },
   {
    "duration": 4,
    "start_time": "2023-01-14T07:46:18.004Z"
   },
   {
    "duration": 8,
    "start_time": "2023-01-14T07:46:18.010Z"
   },
   {
    "duration": 16,
    "start_time": "2023-01-14T07:46:18.019Z"
   },
   {
    "duration": 12,
    "start_time": "2023-01-14T07:46:18.036Z"
   },
   {
    "duration": 201,
    "start_time": "2023-01-14T07:46:18.049Z"
   },
   {
    "duration": 10,
    "start_time": "2023-01-14T07:46:18.252Z"
   },
   {
    "duration": 15,
    "start_time": "2023-01-14T07:46:18.264Z"
   },
   {
    "duration": 2886247,
    "start_time": "2023-01-14T07:46:18.281Z"
   },
   {
    "duration": 0,
    "start_time": "2023-01-14T08:34:24.531Z"
   },
   {
    "duration": 0,
    "start_time": "2023-01-14T08:34:24.532Z"
   },
   {
    "duration": 0,
    "start_time": "2023-01-14T08:34:24.534Z"
   },
   {
    "duration": 0,
    "start_time": "2023-01-14T08:34:24.535Z"
   },
   {
    "duration": 0,
    "start_time": "2023-01-14T08:34:24.537Z"
   },
   {
    "duration": 0,
    "start_time": "2023-01-14T08:34:24.539Z"
   },
   {
    "duration": 0,
    "start_time": "2023-01-14T08:34:24.540Z"
   },
   {
    "duration": 0,
    "start_time": "2023-01-14T08:34:24.542Z"
   },
   {
    "duration": 0,
    "start_time": "2023-01-14T08:34:24.543Z"
   },
   {
    "duration": 0,
    "start_time": "2023-01-14T08:34:24.544Z"
   },
   {
    "duration": 0,
    "start_time": "2023-01-14T08:34:24.546Z"
   },
   {
    "duration": 0,
    "start_time": "2023-01-14T08:34:24.577Z"
   },
   {
    "duration": 0,
    "start_time": "2023-01-14T08:34:24.578Z"
   },
   {
    "duration": 0,
    "start_time": "2023-01-14T08:34:24.579Z"
   },
   {
    "duration": 0,
    "start_time": "2023-01-14T08:34:24.580Z"
   },
   {
    "duration": 0,
    "start_time": "2023-01-14T08:34:24.581Z"
   },
   {
    "duration": 0,
    "start_time": "2023-01-14T08:34:24.582Z"
   },
   {
    "duration": 0,
    "start_time": "2023-01-14T08:34:24.583Z"
   },
   {
    "duration": 0,
    "start_time": "2023-01-14T08:34:24.586Z"
   },
   {
    "duration": 0,
    "start_time": "2023-01-14T08:34:24.587Z"
   },
   {
    "duration": 0,
    "start_time": "2023-01-14T08:34:24.588Z"
   },
   {
    "duration": 0,
    "start_time": "2023-01-14T08:34:24.588Z"
   },
   {
    "duration": 0,
    "start_time": "2023-01-14T08:34:24.589Z"
   },
   {
    "duration": 0,
    "start_time": "2023-01-14T08:34:24.590Z"
   },
   {
    "duration": 0,
    "start_time": "2023-01-14T08:34:24.591Z"
   },
   {
    "duration": 0,
    "start_time": "2023-01-14T08:34:24.592Z"
   },
   {
    "duration": 0,
    "start_time": "2023-01-14T08:34:24.593Z"
   },
   {
    "duration": 0,
    "start_time": "2023-01-14T08:34:24.594Z"
   },
   {
    "duration": 0,
    "start_time": "2023-01-14T08:34:24.595Z"
   },
   {
    "duration": 0,
    "start_time": "2023-01-14T08:34:24.596Z"
   },
   {
    "duration": 0,
    "start_time": "2023-01-14T08:34:24.596Z"
   },
   {
    "duration": 0,
    "start_time": "2023-01-14T08:34:24.597Z"
   },
   {
    "duration": 0,
    "start_time": "2023-01-14T08:34:24.598Z"
   },
   {
    "duration": 0,
    "start_time": "2023-01-14T08:34:24.598Z"
   },
   {
    "duration": 0,
    "start_time": "2023-01-14T08:34:24.600Z"
   },
   {
    "duration": 0,
    "start_time": "2023-01-14T08:34:24.601Z"
   },
   {
    "duration": 0,
    "start_time": "2023-01-14T08:34:24.602Z"
   },
   {
    "duration": 0,
    "start_time": "2023-01-14T08:34:24.602Z"
   },
   {
    "duration": 0,
    "start_time": "2023-01-14T08:34:24.603Z"
   },
   {
    "duration": 0,
    "start_time": "2023-01-14T08:34:24.605Z"
   },
   {
    "duration": 0,
    "start_time": "2023-01-14T08:34:24.606Z"
   },
   {
    "duration": 0,
    "start_time": "2023-01-14T08:34:24.606Z"
   },
   {
    "duration": 0,
    "start_time": "2023-01-14T08:34:24.608Z"
   },
   {
    "duration": 0,
    "start_time": "2023-01-14T08:34:24.609Z"
   },
   {
    "duration": 0,
    "start_time": "2023-01-14T08:34:24.611Z"
   },
   {
    "duration": 0,
    "start_time": "2023-01-14T08:34:24.612Z"
   },
   {
    "duration": 0,
    "start_time": "2023-01-14T08:34:24.613Z"
   },
   {
    "duration": 0,
    "start_time": "2023-01-14T08:34:24.614Z"
   },
   {
    "duration": 0,
    "start_time": "2023-01-14T08:34:24.615Z"
   },
   {
    "duration": 0,
    "start_time": "2023-01-14T08:34:24.616Z"
   },
   {
    "duration": 0,
    "start_time": "2023-01-14T08:34:24.618Z"
   },
   {
    "duration": 0,
    "start_time": "2023-01-14T08:34:24.618Z"
   },
   {
    "duration": 0,
    "start_time": "2023-01-14T08:34:24.682Z"
   },
   {
    "duration": 0,
    "start_time": "2023-01-14T08:34:24.685Z"
   },
   {
    "duration": 0,
    "start_time": "2023-01-14T08:34:24.686Z"
   },
   {
    "duration": 0,
    "start_time": "2023-01-14T08:34:24.686Z"
   },
   {
    "duration": 0,
    "start_time": "2023-01-14T08:34:24.687Z"
   },
   {
    "duration": 0,
    "start_time": "2023-01-14T08:34:24.688Z"
   },
   {
    "duration": 0,
    "start_time": "2023-01-14T08:34:24.688Z"
   },
   {
    "duration": 0,
    "start_time": "2023-01-14T08:34:24.689Z"
   },
   {
    "duration": 0,
    "start_time": "2023-01-14T08:34:24.690Z"
   },
   {
    "duration": 0,
    "start_time": "2023-01-14T08:34:24.690Z"
   },
   {
    "duration": 0,
    "start_time": "2023-01-14T08:34:24.696Z"
   },
   {
    "duration": 0,
    "start_time": "2023-01-14T08:34:24.697Z"
   },
   {
    "duration": 0,
    "start_time": "2023-01-14T08:34:24.698Z"
   },
   {
    "duration": 0,
    "start_time": "2023-01-14T08:34:24.699Z"
   },
   {
    "duration": 0,
    "start_time": "2023-01-14T08:34:24.701Z"
   },
   {
    "duration": 0,
    "start_time": "2023-01-14T08:34:24.703Z"
   },
   {
    "duration": 0,
    "start_time": "2023-01-14T08:34:24.704Z"
   },
   {
    "duration": 13,
    "start_time": "2023-01-14T08:34:42.892Z"
   },
   {
    "duration": 16,
    "start_time": "2023-01-14T08:34:43.797Z"
   },
   {
    "duration": 17,
    "start_time": "2023-01-14T08:35:03.287Z"
   },
   {
    "duration": 13,
    "start_time": "2023-01-14T08:35:04.173Z"
   },
   {
    "duration": 4,
    "start_time": "2023-01-14T08:35:07.009Z"
   },
   {
    "duration": 10,
    "start_time": "2023-01-14T08:35:07.394Z"
   },
   {
    "duration": 11,
    "start_time": "2023-01-14T08:35:07.855Z"
   },
   {
    "duration": 5,
    "start_time": "2023-01-14T08:35:08.246Z"
   },
   {
    "duration": 5,
    "start_time": "2023-01-14T08:35:08.842Z"
   },
   {
    "duration": 5,
    "start_time": "2023-01-14T08:35:09.270Z"
   },
   {
    "duration": 24,
    "start_time": "2023-01-14T08:35:10.574Z"
   },
   {
    "duration": 15,
    "start_time": "2023-01-14T08:35:11.143Z"
   },
   {
    "duration": 17,
    "start_time": "2023-01-14T08:35:12.177Z"
   },
   {
    "duration": 26,
    "start_time": "2023-01-14T08:35:13.264Z"
   },
   {
    "duration": 15,
    "start_time": "2023-01-14T08:35:14.269Z"
   },
   {
    "duration": 19,
    "start_time": "2023-01-14T08:35:15.297Z"
   },
   {
    "duration": 13,
    "start_time": "2023-01-14T08:35:16.157Z"
   },
   {
    "duration": 18,
    "start_time": "2023-01-14T08:35:17.198Z"
   },
   {
    "duration": 20,
    "start_time": "2023-01-14T08:35:18.079Z"
   },
   {
    "duration": 15,
    "start_time": "2023-01-14T08:35:19.113Z"
   },
   {
    "duration": 19,
    "start_time": "2023-01-14T08:35:20.000Z"
   },
   {
    "duration": 20,
    "start_time": "2023-01-14T08:35:20.776Z"
   },
   {
    "duration": 45,
    "start_time": "2023-01-14T08:35:25.048Z"
   },
   {
    "duration": 2431,
    "start_time": "2023-01-14T08:35:31.250Z"
   },
   {
    "duration": 5,
    "start_time": "2023-01-14T08:35:33.683Z"
   },
   {
    "duration": 30,
    "start_time": "2023-01-14T08:35:33.693Z"
   },
   {
    "duration": 4,
    "start_time": "2023-01-14T08:35:34.117Z"
   },
   {
    "duration": 4,
    "start_time": "2023-01-14T08:35:35.805Z"
   },
   {
    "duration": 238,
    "start_time": "2023-01-14T08:35:36.777Z"
   },
   {
    "duration": 203354,
    "start_time": "2023-01-14T08:36:46.657Z"
   },
   {
    "duration": 0,
    "start_time": "2023-01-14T08:40:10.013Z"
   },
   {
    "duration": 1,
    "start_time": "2023-01-14T08:40:10.014Z"
   },
   {
    "duration": 0,
    "start_time": "2023-01-14T08:40:10.016Z"
   },
   {
    "duration": 0,
    "start_time": "2023-01-14T08:40:10.017Z"
   },
   {
    "duration": 0,
    "start_time": "2023-01-14T08:40:10.018Z"
   },
   {
    "duration": 0,
    "start_time": "2023-01-14T08:40:10.019Z"
   },
   {
    "duration": 0,
    "start_time": "2023-01-14T08:40:10.020Z"
   },
   {
    "duration": 0,
    "start_time": "2023-01-14T08:40:10.022Z"
   },
   {
    "duration": 2483,
    "start_time": "2023-01-14T08:40:18.857Z"
   },
   {
    "duration": 4,
    "start_time": "2023-01-14T08:40:21.343Z"
   },
   {
    "duration": 10,
    "start_time": "2023-01-14T08:40:22.383Z"
   },
   {
    "duration": 4,
    "start_time": "2023-01-14T08:40:23.359Z"
   },
   {
    "duration": 5,
    "start_time": "2023-01-14T08:40:26.800Z"
   },
   {
    "duration": 9,
    "start_time": "2023-01-14T08:40:32.297Z"
   },
   {
    "duration": 5,
    "start_time": "2023-01-14T08:40:33.465Z"
   },
   {
    "duration": 3525312,
    "start_time": "2023-01-14T08:40:38.592Z"
   },
   {
    "duration": 4,
    "start_time": "2023-01-14T09:39:23.907Z"
   },
   {
    "duration": 26,
    "start_time": "2023-01-14T09:39:23.913Z"
   },
   {
    "duration": 15,
    "start_time": "2023-01-14T09:39:23.941Z"
   },
   {
    "duration": 28,
    "start_time": "2023-01-14T09:39:23.957Z"
   },
   {
    "duration": 35,
    "start_time": "2023-01-14T09:39:23.991Z"
   },
   {
    "duration": 4,
    "start_time": "2023-01-14T09:39:24.028Z"
   },
   {
    "duration": 102809,
    "start_time": "2023-01-14T09:41:30.581Z"
   },
   {
    "duration": 4,
    "start_time": "2023-01-14T09:43:13.393Z"
   },
   {
    "duration": 8,
    "start_time": "2023-01-14T09:43:13.399Z"
   },
   {
    "duration": 78,
    "start_time": "2023-01-14T09:43:13.409Z"
   },
   {
    "duration": 9,
    "start_time": "2023-01-14T09:43:13.493Z"
   },
   {
    "duration": 20,
    "start_time": "2023-01-14T09:48:56.590Z"
   },
   {
    "duration": 6,
    "start_time": "2023-01-14T09:48:58.372Z"
   },
   {
    "duration": 194,
    "start_time": "2023-01-14T09:52:03.995Z"
   },
   {
    "duration": 12,
    "start_time": "2023-01-14T09:52:09.571Z"
   },
   {
    "duration": 16807,
    "start_time": "2023-01-14T09:52:27.292Z"
   },
   {
    "duration": 0,
    "start_time": "2023-01-14T09:52:44.101Z"
   },
   {
    "duration": 0,
    "start_time": "2023-01-14T09:52:44.102Z"
   },
   {
    "duration": 0,
    "start_time": "2023-01-14T09:52:44.103Z"
   },
   {
    "duration": 15,
    "start_time": "2023-01-14T09:53:07.112Z"
   },
   {
    "duration": 8,
    "start_time": "2023-01-14T09:53:08.305Z"
   },
   {
    "duration": 16,
    "start_time": "2023-01-14T09:53:26.333Z"
   },
   {
    "duration": 11,
    "start_time": "2023-01-14T09:53:27.208Z"
   },
   {
    "duration": 13,
    "start_time": "2023-01-14T09:53:33.021Z"
   },
   {
    "duration": 6,
    "start_time": "2023-01-14T09:53:33.945Z"
   },
   {
    "duration": 11,
    "start_time": "2023-01-14T09:53:56.661Z"
   },
   {
    "duration": 31,
    "start_time": "2023-01-14T09:54:10.800Z"
   },
   {
    "duration": 12,
    "start_time": "2023-01-14T09:54:22.473Z"
   },
   {
    "duration": 15,
    "start_time": "2023-01-14T09:54:24.504Z"
   },
   {
    "duration": 8,
    "start_time": "2023-01-14T09:54:25.304Z"
   },
   {
    "duration": 6,
    "start_time": "2023-01-14T09:55:24.570Z"
   },
   {
    "duration": 12,
    "start_time": "2023-01-14T09:57:16.605Z"
   },
   {
    "duration": 7,
    "start_time": "2023-01-14T09:57:17.403Z"
   },
   {
    "duration": 2772,
    "start_time": "2023-01-14T10:04:42.815Z"
   },
   {
    "duration": 4,
    "start_time": "2023-01-14T10:04:45.593Z"
   },
   {
    "duration": 34,
    "start_time": "2023-01-14T10:04:45.599Z"
   },
   {
    "duration": 5,
    "start_time": "2023-01-14T10:04:45.812Z"
   },
   {
    "duration": 5009092,
    "start_time": "2023-01-14T10:05:20.316Z"
   },
   {
    "duration": 3,
    "start_time": "2023-01-14T11:28:49.410Z"
   },
   {
    "duration": 5,
    "start_time": "2023-01-14T11:30:15.753Z"
   },
   {
    "duration": 5,
    "start_time": "2023-01-14T11:30:41.153Z"
   },
   {
    "duration": 5,
    "start_time": "2023-01-14T11:30:47.193Z"
   },
   {
    "duration": 98869,
    "start_time": "2023-01-14T11:33:25.161Z"
   },
   {
    "duration": 47,
    "start_time": "2023-01-14T11:35:04.033Z"
   },
   {
    "duration": 33,
    "start_time": "2023-01-14T11:35:04.087Z"
   },
   {
    "duration": 80,
    "start_time": "2023-01-14T11:35:04.123Z"
   },
   {
    "duration": 0,
    "start_time": "2023-01-14T11:35:04.208Z"
   },
   {
    "duration": 0,
    "start_time": "2023-01-14T11:35:04.280Z"
   },
   {
    "duration": 0,
    "start_time": "2023-01-14T11:35:04.286Z"
   },
   {
    "duration": 0,
    "start_time": "2023-01-14T11:35:04.291Z"
   },
   {
    "duration": 0,
    "start_time": "2023-01-14T11:35:04.295Z"
   },
   {
    "duration": 0,
    "start_time": "2023-01-14T11:35:04.299Z"
   },
   {
    "duration": 22,
    "start_time": "2023-01-14T11:45:24.601Z"
   },
   {
    "duration": 5,
    "start_time": "2023-01-14T11:45:27.041Z"
   },
   {
    "duration": 161,
    "start_time": "2023-01-14T11:48:09.067Z"
   },
   {
    "duration": 19,
    "start_time": "2023-01-14T11:56:04.256Z"
   },
   {
    "duration": 139915,
    "start_time": "2023-01-14T11:56:31.970Z"
   },
   {
    "duration": 3,
    "start_time": "2023-01-14T11:58:51.887Z"
   },
   {
    "duration": 9,
    "start_time": "2023-01-14T11:58:51.892Z"
   },
   {
    "duration": 44,
    "start_time": "2023-01-14T11:59:03.859Z"
   },
   {
    "duration": 45,
    "start_time": "2023-01-14T11:59:17.099Z"
   },
   {
    "duration": 9,
    "start_time": "2023-01-14T11:59:22.154Z"
   },
   {
    "duration": 58,
    "start_time": "2023-01-14T11:59:30.655Z"
   },
   {
    "duration": 56,
    "start_time": "2023-01-14T11:59:58.179Z"
   },
   {
    "duration": 52,
    "start_time": "2023-01-14T12:00:36.154Z"
   },
   {
    "duration": 48,
    "start_time": "2023-01-14T12:00:43.324Z"
   },
   {
    "duration": 73,
    "start_time": "2023-01-14T12:01:15.972Z"
   },
   {
    "duration": 50,
    "start_time": "2023-01-14T12:01:25.763Z"
   },
   {
    "duration": 40,
    "start_time": "2023-01-14T12:01:31.282Z"
   },
   {
    "duration": 10,
    "start_time": "2023-01-14T12:01:40.419Z"
   },
   {
    "duration": 52,
    "start_time": "2023-01-14T12:01:52.721Z"
   },
   {
    "duration": 46,
    "start_time": "2023-01-14T12:02:31.975Z"
   },
   {
    "duration": 9,
    "start_time": "2023-01-14T12:02:41.555Z"
   },
   {
    "duration": 54,
    "start_time": "2023-01-14T12:03:04.546Z"
   },
   {
    "duration": 133830,
    "start_time": "2023-01-14T12:03:20.561Z"
   },
   {
    "duration": 4,
    "start_time": "2023-01-14T12:05:34.396Z"
   },
   {
    "duration": 6,
    "start_time": "2023-01-14T12:05:34.402Z"
   },
   {
    "duration": 49,
    "start_time": "2023-01-14T12:05:34.411Z"
   },
   {
    "duration": 37,
    "start_time": "2023-01-14T12:10:54.812Z"
   },
   {
    "duration": 5,
    "start_time": "2023-01-14T12:14:02.195Z"
   },
   {
    "duration": 53,
    "start_time": "2023-01-14T12:17:07.512Z"
   },
   {
    "duration": 27,
    "start_time": "2023-01-14T12:22:18.618Z"
   },
   {
    "duration": 4,
    "start_time": "2023-01-14T12:22:20.824Z"
   },
   {
    "duration": 65,
    "start_time": "2023-01-14T12:33:09.707Z"
   },
   {
    "duration": 50,
    "start_time": "2023-01-14T12:33:26.293Z"
   },
   {
    "duration": 17770,
    "start_time": "2023-01-14T12:34:21.124Z"
   },
   {
    "duration": 80,
    "start_time": "2023-01-14T12:34:38.897Z"
   },
   {
    "duration": 117,
    "start_time": "2023-01-14T12:34:38.980Z"
   },
   {
    "duration": 7,
    "start_time": "2023-01-14T12:34:39.099Z"
   },
   {
    "duration": 11,
    "start_time": "2023-01-14T12:34:39.107Z"
   },
   {
    "duration": 162,
    "start_time": "2023-01-14T12:34:39.120Z"
   },
   {
    "duration": 18417,
    "start_time": "2023-01-14T12:43:22.861Z"
   },
   {
    "duration": 94,
    "start_time": "2023-01-14T12:43:41.284Z"
   },
   {
    "duration": 20,
    "start_time": "2023-01-14T12:43:41.380Z"
   },
   {
    "duration": 29,
    "start_time": "2023-01-14T12:43:41.402Z"
   },
   {
    "duration": 32,
    "start_time": "2023-01-14T12:43:41.433Z"
   },
   {
    "duration": 135,
    "start_time": "2023-01-14T12:43:41.467Z"
   },
   {
    "duration": 21267,
    "start_time": "2023-01-14T12:48:40.413Z"
   },
   {
    "duration": 4,
    "start_time": "2023-01-14T12:49:03.498Z"
   },
   {
    "duration": 9,
    "start_time": "2023-01-14T12:49:56.675Z"
   },
   {
    "duration": 4,
    "start_time": "2023-01-14T12:49:57.819Z"
   },
   {
    "duration": 171,
    "start_time": "2023-01-14T12:50:48.645Z"
   },
   {
    "duration": 23721,
    "start_time": "2023-01-14T12:51:51.569Z"
   },
   {
    "duration": 5,
    "start_time": "2023-01-14T12:52:15.293Z"
   },
   {
    "duration": 189,
    "start_time": "2023-01-14T12:52:15.301Z"
   },
   {
    "duration": 202,
    "start_time": "2023-01-14T12:52:15.492Z"
   },
   {
    "duration": 135,
    "start_time": "2023-01-14T12:53:32.267Z"
   },
   {
    "duration": 219,
    "start_time": "2023-01-14T12:54:20.298Z"
   },
   {
    "duration": 173,
    "start_time": "2023-01-14T12:54:28.708Z"
   },
   {
    "duration": 12,
    "start_time": "2023-01-14T12:59:28.654Z"
   },
   {
    "duration": 7,
    "start_time": "2023-01-14T12:59:31.255Z"
   },
   {
    "duration": 87,
    "start_time": "2023-01-14T12:59:38.867Z"
   },
   {
    "duration": 1391,
    "start_time": "2023-01-14T13:00:04.347Z"
   },
   {
    "duration": 4,
    "start_time": "2023-01-14T13:00:05.766Z"
   },
   {
    "duration": 8,
    "start_time": "2023-01-14T13:00:08.036Z"
   },
   {
    "duration": 4,
    "start_time": "2023-01-14T13:00:09.313Z"
   },
   {
    "duration": 15445,
    "start_time": "2023-01-14T13:03:57.936Z"
   },
   {
    "duration": 8,
    "start_time": "2023-01-14T13:04:13.477Z"
   },
   {
    "duration": 96,
    "start_time": "2023-01-14T13:04:13.486Z"
   },
   {
    "duration": 8,
    "start_time": "2023-01-14T13:04:23.766Z"
   },
   {
    "duration": 4,
    "start_time": "2023-01-14T13:04:44.763Z"
   },
   {
    "duration": 143,
    "start_time": "2023-01-14T13:04:48.003Z"
   },
   {
    "duration": 46,
    "start_time": "2023-01-14T13:08:22.803Z"
   },
   {
    "duration": 127,
    "start_time": "2023-01-14T13:12:02.530Z"
   },
   {
    "duration": 4,
    "start_time": "2023-01-14T13:12:03.519Z"
   },
   {
    "duration": 126,
    "start_time": "2023-01-14T13:12:05.671Z"
   },
   {
    "duration": 4,
    "start_time": "2023-01-14T13:12:07.941Z"
   },
   {
    "duration": 3423051,
    "start_time": "2023-01-14T13:17:46.571Z"
   },
   {
    "duration": 4,
    "start_time": "2023-01-14T14:14:49.624Z"
   },
   {
    "duration": 8,
    "start_time": "2023-01-14T14:14:49.629Z"
   },
   {
    "duration": 5,
    "start_time": "2023-01-14T14:14:49.639Z"
   },
   {
    "duration": 8,
    "start_time": "2023-01-14T14:14:49.645Z"
   },
   {
    "duration": 20,
    "start_time": "2023-01-14T14:21:35.346Z"
   },
   {
    "duration": 3,
    "start_time": "2023-01-14T14:21:36.617Z"
   },
   {
    "duration": 168,
    "start_time": "2023-01-14T14:21:59.475Z"
   },
   {
    "duration": 174,
    "start_time": "2023-01-14T14:22:20.109Z"
   },
   {
    "duration": 206,
    "start_time": "2023-01-14T14:22:26.373Z"
   },
   {
    "duration": 19642,
    "start_time": "2023-01-14T14:22:52.941Z"
   },
   {
    "duration": 95,
    "start_time": "2023-01-14T14:23:12.586Z"
   },
   {
    "duration": 97,
    "start_time": "2023-01-14T14:23:12.683Z"
   },
   {
    "duration": 7,
    "start_time": "2023-01-14T14:23:12.782Z"
   },
   {
    "duration": 9,
    "start_time": "2023-01-14T14:23:12.790Z"
   },
   {
    "duration": 180,
    "start_time": "2023-01-14T14:23:12.800Z"
   },
   {
    "duration": 176,
    "start_time": "2023-01-14T14:23:12.981Z"
   },
   {
    "duration": 4,
    "start_time": "2023-01-14T14:24:28.578Z"
   },
   {
    "duration": 4,
    "start_time": "2023-01-14T14:24:41.351Z"
   },
   {
    "duration": 9,
    "start_time": "2023-01-14T14:24:42.523Z"
   },
   {
    "duration": 5,
    "start_time": "2023-01-14T14:29:45.645Z"
   },
   {
    "duration": 8,
    "start_time": "2023-01-14T14:29:46.844Z"
   },
   {
    "duration": 4,
    "start_time": "2023-01-14T14:30:35.737Z"
   },
   {
    "duration": 121,
    "start_time": "2023-01-14T14:33:02.537Z"
   },
   {
    "duration": 4,
    "start_time": "2023-01-14T14:33:03.388Z"
   },
   {
    "duration": 127,
    "start_time": "2023-01-14T14:33:17.332Z"
   },
   {
    "duration": 4,
    "start_time": "2023-01-14T14:33:18.207Z"
   },
   {
    "duration": 152,
    "start_time": "2023-01-14T14:37:41.476Z"
   },
   {
    "duration": 3,
    "start_time": "2023-01-14T14:38:51.384Z"
   },
   {
    "duration": 3,
    "start_time": "2023-01-14T14:39:22.156Z"
   },
   {
    "duration": 2,
    "start_time": "2023-01-14T14:44:17.074Z"
   },
   {
    "duration": 5,
    "start_time": "2023-01-14T14:45:46.109Z"
   },
   {
    "duration": 329,
    "start_time": "2023-01-14T14:45:47.167Z"
   },
   {
    "duration": 4,
    "start_time": "2023-01-14T14:46:47.594Z"
   },
   {
    "duration": 2,
    "start_time": "2023-01-14T14:47:17.216Z"
   },
   {
    "duration": 7,
    "start_time": "2023-01-14T14:47:57.711Z"
   },
   {
    "duration": 12,
    "start_time": "2023-01-14T14:51:10.545Z"
   },
   {
    "duration": 49,
    "start_time": "2023-01-14T14:51:15.891Z"
   },
   {
    "duration": 46,
    "start_time": "2023-01-14T14:51:26.602Z"
   },
   {
    "duration": 47,
    "start_time": "2023-01-14T14:51:40.219Z"
   },
   {
    "duration": 5,
    "start_time": "2023-01-14T14:51:51.045Z"
   },
   {
    "duration": 10,
    "start_time": "2023-01-14T14:51:52.382Z"
   },
   {
    "duration": 16,
    "start_time": "2023-01-14T14:53:26.844Z"
   },
   {
    "duration": 4,
    "start_time": "2023-01-14T14:53:49.525Z"
   },
   {
    "duration": 9,
    "start_time": "2023-01-14T14:53:51.079Z"
   },
   {
    "duration": 8,
    "start_time": "2023-01-14T14:54:30.306Z"
   },
   {
    "duration": 10,
    "start_time": "2023-01-14T14:54:37.615Z"
   },
   {
    "duration": 8,
    "start_time": "2023-01-14T14:54:45.049Z"
   },
   {
    "duration": 16,
    "start_time": "2023-01-14T14:54:45.853Z"
   },
   {
    "duration": 241,
    "start_time": "2023-01-14T14:55:08.078Z"
   },
   {
    "duration": 3,
    "start_time": "2023-01-14T14:56:40.054Z"
   },
   {
    "duration": 1283,
    "start_time": "2023-01-14T14:56:50.361Z"
   },
   {
    "duration": 3,
    "start_time": "2023-01-14T14:56:57.963Z"
   },
   {
    "duration": 1992704,
    "start_time": "2023-01-14T14:57:14.800Z"
   },
   {
    "duration": 4,
    "start_time": "2023-01-14T15:30:27.506Z"
   },
   {
    "duration": 158,
    "start_time": "2023-01-14T15:30:27.511Z"
   },
   {
    "duration": 81,
    "start_time": "2023-01-14T15:34:38.370Z"
   },
   {
    "duration": 4,
    "start_time": "2023-01-14T15:34:40.130Z"
   },
   {
    "duration": 2,
    "start_time": "2023-01-14T15:34:42.509Z"
   },
   {
    "duration": 14277,
    "start_time": "2023-01-14T15:34:45.801Z"
   },
   {
    "duration": 5,
    "start_time": "2023-01-14T15:35:00.080Z"
   },
   {
    "duration": 110,
    "start_time": "2023-01-14T15:35:00.088Z"
   },
   {
    "duration": 80,
    "start_time": "2023-01-14T15:35:00.201Z"
   },
   {
    "duration": 239,
    "start_time": "2023-01-14T15:35:00.283Z"
   },
   {
    "duration": 146,
    "start_time": "2023-01-14T15:35:09.522Z"
   },
   {
    "duration": 222,
    "start_time": "2023-01-14T15:35:38.141Z"
   },
   {
    "duration": 5,
    "start_time": "2023-01-14T15:35:44.364Z"
   },
   {
    "duration": 5,
    "start_time": "2023-01-14T15:35:51.870Z"
   },
   {
    "duration": 4,
    "start_time": "2023-01-14T15:35:58.576Z"
   },
   {
    "duration": 11,
    "start_time": "2023-01-14T15:38:11.412Z"
   },
   {
    "duration": 11,
    "start_time": "2023-01-14T15:38:24.403Z"
   },
   {
    "duration": 11,
    "start_time": "2023-01-14T15:38:30.741Z"
   },
   {
    "duration": 8,
    "start_time": "2023-01-14T15:38:32.467Z"
   },
   {
    "duration": 19,
    "start_time": "2023-01-14T15:38:53.972Z"
   },
   {
    "duration": 7,
    "start_time": "2023-01-14T15:39:30.057Z"
   },
   {
    "duration": 9,
    "start_time": "2023-01-14T15:39:31.012Z"
   },
   {
    "duration": 17,
    "start_time": "2023-01-14T15:39:50.922Z"
   },
   {
    "duration": 14,
    "start_time": "2023-01-14T15:40:24.204Z"
   },
   {
    "duration": 163,
    "start_time": "2023-01-14T15:42:09.287Z"
   },
   {
    "duration": 70,
    "start_time": "2023-01-14T15:42:45.341Z"
   },
   {
    "duration": 244,
    "start_time": "2023-01-14T15:43:03.621Z"
   },
   {
    "duration": 138,
    "start_time": "2023-01-14T15:43:31.997Z"
   },
   {
    "duration": 136,
    "start_time": "2023-01-14T15:43:45.184Z"
   },
   {
    "duration": 129,
    "start_time": "2023-01-14T15:44:30.366Z"
   },
   {
    "duration": 69,
    "start_time": "2023-01-14T15:44:48.268Z"
   },
   {
    "duration": 50,
    "start_time": "2023-01-14T15:47:44.483Z"
   },
   {
    "duration": 1432,
    "start_time": "2023-01-14T15:52:39.548Z"
   },
   {
    "duration": 78,
    "start_time": "2023-01-14T15:52:40.983Z"
   },
   {
    "duration": 14,
    "start_time": "2023-01-14T15:52:41.062Z"
   },
   {
    "duration": 22,
    "start_time": "2023-01-14T15:52:41.078Z"
   },
   {
    "duration": 7,
    "start_time": "2023-01-14T15:52:41.101Z"
   },
   {
    "duration": 12,
    "start_time": "2023-01-14T15:52:41.110Z"
   },
   {
    "duration": 4,
    "start_time": "2023-01-14T15:52:41.124Z"
   },
   {
    "duration": 10,
    "start_time": "2023-01-14T15:52:41.130Z"
   },
   {
    "duration": 11,
    "start_time": "2023-01-14T15:52:41.142Z"
   },
   {
    "duration": 12,
    "start_time": "2023-01-14T15:52:41.179Z"
   },
   {
    "duration": 11,
    "start_time": "2023-01-14T15:52:41.192Z"
   },
   {
    "duration": 4,
    "start_time": "2023-01-14T15:52:41.204Z"
   },
   {
    "duration": 15,
    "start_time": "2023-01-14T15:52:41.209Z"
   },
   {
    "duration": 4,
    "start_time": "2023-01-14T15:52:41.225Z"
   },
   {
    "duration": 10,
    "start_time": "2023-01-14T15:52:41.230Z"
   },
   {
    "duration": 40,
    "start_time": "2023-01-14T15:52:41.242Z"
   },
   {
    "duration": 4,
    "start_time": "2023-01-14T15:52:41.284Z"
   },
   {
    "duration": 7,
    "start_time": "2023-01-14T15:52:41.290Z"
   },
   {
    "duration": 5,
    "start_time": "2023-01-14T15:52:41.298Z"
   },
   {
    "duration": 14,
    "start_time": "2023-01-14T15:52:41.305Z"
   },
   {
    "duration": 16,
    "start_time": "2023-01-14T15:52:41.321Z"
   },
   {
    "duration": 41,
    "start_time": "2023-01-14T15:52:41.338Z"
   },
   {
    "duration": 13,
    "start_time": "2023-01-14T15:52:41.381Z"
   },
   {
    "duration": 14,
    "start_time": "2023-01-14T15:52:41.396Z"
   },
   {
    "duration": 15,
    "start_time": "2023-01-14T15:52:41.411Z"
   },
   {
    "duration": 14,
    "start_time": "2023-01-14T15:52:41.427Z"
   },
   {
    "duration": 43,
    "start_time": "2023-01-14T15:52:41.443Z"
   },
   {
    "duration": 21,
    "start_time": "2023-01-14T15:52:41.489Z"
   },
   {
    "duration": 16,
    "start_time": "2023-01-14T15:52:41.512Z"
   },
   {
    "duration": 18,
    "start_time": "2023-01-14T15:52:41.529Z"
   },
   {
    "duration": 12,
    "start_time": "2023-01-14T15:52:41.548Z"
   },
   {
    "duration": 50,
    "start_time": "2023-01-14T15:52:41.562Z"
   },
   {
    "duration": 2207,
    "start_time": "2023-01-14T15:52:41.614Z"
   },
   {
    "duration": 4,
    "start_time": "2023-01-14T15:52:43.823Z"
   },
   {
    "duration": 7,
    "start_time": "2023-01-14T15:52:43.829Z"
   },
   {
    "duration": 10,
    "start_time": "2023-01-14T15:52:43.838Z"
   },
   {
    "duration": 14,
    "start_time": "2023-01-14T15:52:43.849Z"
   },
   {
    "duration": 215,
    "start_time": "2023-01-14T15:52:43.864Z"
   },
   {
    "duration": 7,
    "start_time": "2023-01-14T15:52:44.081Z"
   },
   {
    "duration": 5,
    "start_time": "2023-01-14T15:52:44.090Z"
   },
   {
    "duration": 3298815,
    "start_time": "2023-01-14T15:52:44.096Z"
   },
   {
    "duration": 4,
    "start_time": "2023-01-14T16:47:42.913Z"
   },
   {
    "duration": 6,
    "start_time": "2023-01-14T16:47:42.918Z"
   },
   {
    "duration": 6,
    "start_time": "2023-01-14T16:47:42.926Z"
   },
   {
    "duration": 7,
    "start_time": "2023-01-14T16:47:42.933Z"
   },
   {
    "duration": 254,
    "start_time": "2023-01-14T16:47:42.941Z"
   },
   {
    "duration": 20,
    "start_time": "2023-01-14T16:47:43.197Z"
   },
   {
    "duration": 4,
    "start_time": "2023-01-14T16:47:43.219Z"
   },
   {
    "duration": 19255,
    "start_time": "2023-01-14T16:47:43.225Z"
   },
   {
    "duration": 197,
    "start_time": "2023-01-14T16:48:02.483Z"
   },
   {
    "duration": 0,
    "start_time": "2023-01-14T16:48:02.683Z"
   },
   {
    "duration": 0,
    "start_time": "2023-01-14T16:48:02.684Z"
   },
   {
    "duration": 0,
    "start_time": "2023-01-14T16:48:02.685Z"
   },
   {
    "duration": 0,
    "start_time": "2023-01-14T16:48:02.687Z"
   },
   {
    "duration": 0,
    "start_time": "2023-01-14T16:48:02.688Z"
   },
   {
    "duration": 0,
    "start_time": "2023-01-14T16:48:02.690Z"
   },
   {
    "duration": 0,
    "start_time": "2023-01-14T16:48:02.692Z"
   },
   {
    "duration": 0,
    "start_time": "2023-01-14T16:48:02.693Z"
   },
   {
    "duration": 0,
    "start_time": "2023-01-14T16:48:02.694Z"
   },
   {
    "duration": 0,
    "start_time": "2023-01-14T16:48:02.696Z"
   },
   {
    "duration": 0,
    "start_time": "2023-01-14T16:48:02.697Z"
   },
   {
    "duration": 0,
    "start_time": "2023-01-14T16:48:02.699Z"
   },
   {
    "duration": 0,
    "start_time": "2023-01-14T16:48:02.700Z"
   },
   {
    "duration": 0,
    "start_time": "2023-01-14T16:48:02.702Z"
   },
   {
    "duration": 0,
    "start_time": "2023-01-14T16:48:02.703Z"
   },
   {
    "duration": 0,
    "start_time": "2023-01-14T16:48:02.705Z"
   },
   {
    "duration": 0,
    "start_time": "2023-01-14T16:48:02.706Z"
   },
   {
    "duration": 0,
    "start_time": "2023-01-14T16:48:02.707Z"
   },
   {
    "duration": 0,
    "start_time": "2023-01-14T16:48:02.709Z"
   },
   {
    "duration": 0,
    "start_time": "2023-01-14T16:48:02.710Z"
   },
   {
    "duration": 0,
    "start_time": "2023-01-14T16:48:02.712Z"
   },
   {
    "duration": 0,
    "start_time": "2023-01-14T16:48:02.713Z"
   },
   {
    "duration": 0,
    "start_time": "2023-01-14T16:48:02.715Z"
   },
   {
    "duration": 0,
    "start_time": "2023-01-14T16:48:02.716Z"
   },
   {
    "duration": 0,
    "start_time": "2023-01-14T16:48:02.718Z"
   },
   {
    "duration": 0,
    "start_time": "2023-01-14T16:48:02.719Z"
   },
   {
    "duration": 0,
    "start_time": "2023-01-14T16:48:02.720Z"
   },
   {
    "duration": 0,
    "start_time": "2023-01-14T16:48:02.721Z"
   },
   {
    "duration": 0,
    "start_time": "2023-01-14T16:48:02.778Z"
   },
   {
    "duration": 0,
    "start_time": "2023-01-14T16:48:02.780Z"
   },
   {
    "duration": 0,
    "start_time": "2023-01-14T16:48:02.782Z"
   },
   {
    "duration": 0,
    "start_time": "2023-01-14T16:48:02.783Z"
   },
   {
    "duration": 0,
    "start_time": "2023-01-14T16:48:02.785Z"
   },
   {
    "duration": 0,
    "start_time": "2023-01-14T16:48:02.786Z"
   },
   {
    "duration": 0,
    "start_time": "2023-01-14T16:48:02.788Z"
   },
   {
    "duration": 0,
    "start_time": "2023-01-14T16:48:02.789Z"
   },
   {
    "duration": 0,
    "start_time": "2023-01-14T16:48:02.791Z"
   },
   {
    "duration": 0,
    "start_time": "2023-01-14T16:48:02.792Z"
   },
   {
    "duration": 0,
    "start_time": "2023-01-14T16:48:02.793Z"
   },
   {
    "duration": 0,
    "start_time": "2023-01-14T16:48:02.795Z"
   },
   {
    "duration": 0,
    "start_time": "2023-01-14T16:48:02.796Z"
   },
   {
    "duration": 0,
    "start_time": "2023-01-14T16:48:02.798Z"
   },
   {
    "duration": 0,
    "start_time": "2023-01-14T16:48:02.800Z"
   },
   {
    "duration": 0,
    "start_time": "2023-01-14T16:48:02.801Z"
   },
   {
    "duration": 0,
    "start_time": "2023-01-14T16:48:02.803Z"
   },
   {
    "duration": 0,
    "start_time": "2023-01-14T16:48:02.805Z"
   },
   {
    "duration": 0,
    "start_time": "2023-01-14T16:48:02.806Z"
   },
   {
    "duration": 0,
    "start_time": "2023-01-14T16:48:02.808Z"
   },
   {
    "duration": 0,
    "start_time": "2023-01-14T16:48:02.810Z"
   },
   {
    "duration": 0,
    "start_time": "2023-01-14T16:48:02.811Z"
   },
   {
    "duration": 0,
    "start_time": "2023-01-14T16:48:02.812Z"
   },
   {
    "duration": 0,
    "start_time": "2023-01-14T16:48:02.814Z"
   },
   {
    "duration": 0,
    "start_time": "2023-01-14T16:48:02.879Z"
   },
   {
    "duration": 0,
    "start_time": "2023-01-14T16:48:02.880Z"
   },
   {
    "duration": 0,
    "start_time": "2023-01-14T16:48:02.882Z"
   },
   {
    "duration": 0,
    "start_time": "2023-01-14T16:48:02.884Z"
   },
   {
    "duration": 0,
    "start_time": "2023-01-14T16:48:02.886Z"
   },
   {
    "duration": 0,
    "start_time": "2023-01-14T16:48:02.887Z"
   },
   {
    "duration": 0,
    "start_time": "2023-01-14T16:48:02.889Z"
   },
   {
    "duration": 0,
    "start_time": "2023-01-14T16:48:02.890Z"
   },
   {
    "duration": 0,
    "start_time": "2023-01-14T16:48:02.891Z"
   },
   {
    "duration": 0,
    "start_time": "2023-01-14T16:48:02.893Z"
   },
   {
    "duration": 0,
    "start_time": "2023-01-14T16:48:02.895Z"
   },
   {
    "duration": 0,
    "start_time": "2023-01-14T16:48:02.895Z"
   },
   {
    "duration": 0,
    "start_time": "2023-01-14T16:48:02.897Z"
   },
   {
    "duration": 0,
    "start_time": "2023-01-14T16:48:02.898Z"
   },
   {
    "duration": 0,
    "start_time": "2023-01-14T16:48:02.900Z"
   },
   {
    "duration": 0,
    "start_time": "2023-01-14T16:48:02.901Z"
   },
   {
    "duration": 0,
    "start_time": "2023-01-14T16:48:02.903Z"
   },
   {
    "duration": 0,
    "start_time": "2023-01-14T16:48:02.905Z"
   },
   {
    "duration": 0,
    "start_time": "2023-01-14T16:48:02.906Z"
   },
   {
    "duration": 0,
    "start_time": "2023-01-14T16:48:02.908Z"
   },
   {
    "duration": 0,
    "start_time": "2023-01-14T16:48:02.909Z"
   },
   {
    "duration": 0,
    "start_time": "2023-01-14T16:48:02.911Z"
   },
   {
    "duration": 4,
    "start_time": "2023-01-14T17:27:57.769Z"
   },
   {
    "duration": 4,
    "start_time": "2023-01-14T17:27:58.815Z"
   },
   {
    "duration": 4,
    "start_time": "2023-01-14T17:27:59.881Z"
   },
   {
    "duration": 11,
    "start_time": "2023-01-14T17:28:05.251Z"
   },
   {
    "duration": 4,
    "start_time": "2023-01-14T17:28:05.986Z"
   },
   {
    "duration": 178,
    "start_time": "2023-01-14T17:28:10.337Z"
   },
   {
    "duration": 161,
    "start_time": "2023-01-14T17:28:17.354Z"
   },
   {
    "duration": 2262,
    "start_time": "2023-01-14T17:28:33.998Z"
   },
   {
    "duration": 3,
    "start_time": "2023-01-14T17:28:36.262Z"
   },
   {
    "duration": 11,
    "start_time": "2023-01-14T17:28:36.267Z"
   },
   {
    "duration": 4,
    "start_time": "2023-01-14T17:28:36.959Z"
   },
   {
    "duration": 4,
    "start_time": "2023-01-14T17:28:44.129Z"
   },
   {
    "duration": 8,
    "start_time": "2023-01-14T17:28:46.490Z"
   },
   {
    "duration": 4,
    "start_time": "2023-01-14T17:28:47.993Z"
   },
   {
    "duration": 3365274,
    "start_time": "2023-01-14T17:28:56.671Z"
   },
   {
    "duration": 4,
    "start_time": "2023-01-14T18:25:01.948Z"
   },
   {
    "duration": 16,
    "start_time": "2023-01-14T18:25:01.953Z"
   },
   {
    "duration": 18,
    "start_time": "2023-01-14T18:25:01.971Z"
   },
   {
    "duration": 13,
    "start_time": "2023-01-14T18:25:01.990Z"
   },
   {
    "duration": 24,
    "start_time": "2023-01-14T18:25:02.004Z"
   },
   {
    "duration": 5,
    "start_time": "2023-01-14T18:25:02.029Z"
   },
   {
    "duration": 21253,
    "start_time": "2023-01-14T18:25:02.035Z"
   },
   {
    "duration": 90,
    "start_time": "2023-01-14T18:25:23.290Z"
   },
   {
    "duration": 103,
    "start_time": "2023-01-14T18:25:23.383Z"
   },
   {
    "duration": 187,
    "start_time": "2023-01-14T18:25:23.492Z"
   },
   {
    "duration": 175,
    "start_time": "2023-01-14T18:25:23.680Z"
   },
   {
    "duration": 4,
    "start_time": "2023-01-14T18:25:23.857Z"
   },
   {
    "duration": 18,
    "start_time": "2023-01-14T18:25:23.862Z"
   },
   {
    "duration": 163,
    "start_time": "2023-01-14T18:25:23.881Z"
   },
   {
    "duration": 34,
    "start_time": "2023-01-14T18:25:24.046Z"
   },
   {
    "duration": 6,
    "start_time": "2023-01-14T18:25:24.082Z"
   },
   {
    "duration": 2709,
    "start_time": "2023-01-14T18:25:24.089Z"
   },
   {
    "duration": 3,
    "start_time": "2023-01-14T18:25:26.800Z"
   },
   {
    "duration": 51,
    "start_time": "2023-01-14T18:25:26.805Z"
   },
   {
    "duration": 57,
    "start_time": "2023-01-14T18:25:26.857Z"
   },
   {
    "duration": 251799,
    "start_time": "2023-01-14T20:16:00.550Z"
   },
   {
    "duration": 0,
    "start_time": "2023-01-14T20:20:12.351Z"
   },
   {
    "duration": 0,
    "start_time": "2023-01-14T20:20:12.353Z"
   },
   {
    "duration": 0,
    "start_time": "2023-01-14T20:20:12.354Z"
   },
   {
    "duration": 0,
    "start_time": "2023-01-14T20:20:12.354Z"
   },
   {
    "duration": 0,
    "start_time": "2023-01-14T20:20:12.355Z"
   },
   {
    "duration": 0,
    "start_time": "2023-01-14T20:20:12.357Z"
   },
   {
    "duration": 0,
    "start_time": "2023-01-14T20:20:12.358Z"
   },
   {
    "duration": 0,
    "start_time": "2023-01-14T20:20:12.359Z"
   },
   {
    "duration": 0,
    "start_time": "2023-01-14T20:20:12.377Z"
   },
   {
    "duration": 0,
    "start_time": "2023-01-14T20:20:12.378Z"
   },
   {
    "duration": 0,
    "start_time": "2023-01-14T20:20:12.379Z"
   },
   {
    "duration": 1,
    "start_time": "2023-01-14T20:20:12.380Z"
   },
   {
    "duration": 0,
    "start_time": "2023-01-14T20:20:12.381Z"
   },
   {
    "duration": 0,
    "start_time": "2023-01-14T20:20:12.382Z"
   },
   {
    "duration": 0,
    "start_time": "2023-01-14T20:20:12.383Z"
   },
   {
    "duration": 0,
    "start_time": "2023-01-14T20:20:12.384Z"
   },
   {
    "duration": 0,
    "start_time": "2023-01-14T20:20:12.385Z"
   },
   {
    "duration": 0,
    "start_time": "2023-01-14T20:20:12.386Z"
   },
   {
    "duration": 0,
    "start_time": "2023-01-14T20:20:12.387Z"
   },
   {
    "duration": 0,
    "start_time": "2023-01-14T20:20:12.387Z"
   },
   {
    "duration": 0,
    "start_time": "2023-01-14T20:20:12.389Z"
   },
   {
    "duration": 0,
    "start_time": "2023-01-14T20:20:12.390Z"
   },
   {
    "duration": 0,
    "start_time": "2023-01-14T20:20:12.390Z"
   },
   {
    "duration": 0,
    "start_time": "2023-01-14T20:20:12.391Z"
   },
   {
    "duration": 0,
    "start_time": "2023-01-14T20:20:12.393Z"
   },
   {
    "duration": 0,
    "start_time": "2023-01-14T20:20:12.393Z"
   },
   {
    "duration": 0,
    "start_time": "2023-01-14T20:20:12.394Z"
   },
   {
    "duration": 0,
    "start_time": "2023-01-14T20:20:12.395Z"
   },
   {
    "duration": 0,
    "start_time": "2023-01-14T20:20:12.397Z"
   },
   {
    "duration": 0,
    "start_time": "2023-01-14T20:20:12.398Z"
   },
   {
    "duration": 0,
    "start_time": "2023-01-14T20:20:12.399Z"
   },
   {
    "duration": 0,
    "start_time": "2023-01-14T20:20:12.400Z"
   },
   {
    "duration": 0,
    "start_time": "2023-01-14T20:20:12.402Z"
   },
   {
    "duration": 0,
    "start_time": "2023-01-14T20:20:12.404Z"
   },
   {
    "duration": 0,
    "start_time": "2023-01-14T20:20:12.405Z"
   },
   {
    "duration": 0,
    "start_time": "2023-01-14T20:20:12.406Z"
   },
   {
    "duration": 0,
    "start_time": "2023-01-14T20:20:12.407Z"
   },
   {
    "duration": 4549233,
    "start_time": "2023-01-14T20:20:17.527Z"
   },
   {
    "duration": 3,
    "start_time": "2023-01-14T21:36:06.762Z"
   },
   {
    "duration": 11,
    "start_time": "2023-01-14T21:36:06.767Z"
   },
   {
    "duration": 3,
    "start_time": "2023-01-14T21:36:06.780Z"
   },
   {
    "duration": 11,
    "start_time": "2023-01-14T21:36:06.785Z"
   },
   {
    "duration": 38,
    "start_time": "2023-01-14T21:36:06.797Z"
   },
   {
    "duration": 4,
    "start_time": "2023-01-14T21:36:06.837Z"
   },
   {
    "duration": 28950,
    "start_time": "2023-01-14T21:36:06.842Z"
   },
   {
    "duration": 5,
    "start_time": "2023-01-14T21:36:35.794Z"
   },
   {
    "duration": 186,
    "start_time": "2023-01-14T21:36:35.801Z"
   },
   {
    "duration": 92,
    "start_time": "2023-01-14T21:36:35.989Z"
   },
   {
    "duration": 314,
    "start_time": "2023-01-14T21:36:36.083Z"
   },
   {
    "duration": 17,
    "start_time": "2023-01-14T21:36:36.399Z"
   },
   {
    "duration": 0,
    "start_time": "2023-01-14T21:36:36.418Z"
   },
   {
    "duration": 0,
    "start_time": "2023-01-14T21:36:36.418Z"
   },
   {
    "duration": 0,
    "start_time": "2023-01-14T21:36:36.419Z"
   },
   {
    "duration": 0,
    "start_time": "2023-01-14T21:36:36.420Z"
   },
   {
    "duration": 0,
    "start_time": "2023-01-14T21:36:36.421Z"
   },
   {
    "duration": 0,
    "start_time": "2023-01-14T21:36:36.422Z"
   },
   {
    "duration": 0,
    "start_time": "2023-01-14T21:36:36.423Z"
   },
   {
    "duration": 0,
    "start_time": "2023-01-14T21:36:36.424Z"
   },
   {
    "duration": 0,
    "start_time": "2023-01-14T21:36:36.426Z"
   },
   {
    "duration": 0,
    "start_time": "2023-01-14T21:36:36.427Z"
   },
   {
    "duration": 0,
    "start_time": "2023-01-14T21:36:36.428Z"
   },
   {
    "duration": 0,
    "start_time": "2023-01-14T21:36:36.429Z"
   },
   {
    "duration": 0,
    "start_time": "2023-01-14T21:36:36.429Z"
   },
   {
    "duration": 0,
    "start_time": "2023-01-14T21:36:36.431Z"
   },
   {
    "duration": 0,
    "start_time": "2023-01-14T21:36:36.432Z"
   },
   {
    "duration": 0,
    "start_time": "2023-01-14T21:36:36.433Z"
   },
   {
    "duration": 0,
    "start_time": "2023-01-14T21:36:36.434Z"
   },
   {
    "duration": 0,
    "start_time": "2023-01-14T21:36:36.436Z"
   },
   {
    "duration": 0,
    "start_time": "2023-01-14T21:36:36.437Z"
   },
   {
    "duration": 0,
    "start_time": "2023-01-14T21:36:36.439Z"
   },
   {
    "duration": 0,
    "start_time": "2023-01-14T21:36:36.440Z"
   },
   {
    "duration": 0,
    "start_time": "2023-01-14T21:36:36.441Z"
   },
   {
    "duration": 0,
    "start_time": "2023-01-14T21:36:36.442Z"
   },
   {
    "duration": 0,
    "start_time": "2023-01-14T21:36:36.443Z"
   },
   {
    "duration": 0,
    "start_time": "2023-01-14T21:36:36.444Z"
   },
   {
    "duration": 1504,
    "start_time": "2023-01-15T11:38:18.471Z"
   },
   {
    "duration": 39,
    "start_time": "2023-01-15T11:38:19.977Z"
   },
   {
    "duration": 15,
    "start_time": "2023-01-15T11:38:20.018Z"
   },
   {
    "duration": 31,
    "start_time": "2023-01-15T11:38:20.036Z"
   },
   {
    "duration": 8,
    "start_time": "2023-01-15T11:38:20.069Z"
   },
   {
    "duration": 15,
    "start_time": "2023-01-15T11:38:20.078Z"
   },
   {
    "duration": 4,
    "start_time": "2023-01-15T11:38:20.115Z"
   },
   {
    "duration": 9,
    "start_time": "2023-01-15T11:38:20.120Z"
   },
   {
    "duration": 8,
    "start_time": "2023-01-15T11:38:20.130Z"
   },
   {
    "duration": 13,
    "start_time": "2023-01-15T11:38:20.140Z"
   },
   {
    "duration": 11,
    "start_time": "2023-01-15T11:38:20.155Z"
   },
   {
    "duration": 4,
    "start_time": "2023-01-15T11:38:20.168Z"
   },
   {
    "duration": 14,
    "start_time": "2023-01-15T11:38:20.173Z"
   },
   {
    "duration": 4,
    "start_time": "2023-01-15T11:38:20.216Z"
   },
   {
    "duration": 15,
    "start_time": "2023-01-15T11:38:20.221Z"
   },
   {
    "duration": 6,
    "start_time": "2023-01-15T11:38:20.237Z"
   },
   {
    "duration": 7,
    "start_time": "2023-01-15T11:38:20.244Z"
   },
   {
    "duration": 10,
    "start_time": "2023-01-15T11:38:20.253Z"
   },
   {
    "duration": 7,
    "start_time": "2023-01-15T11:38:20.264Z"
   },
   {
    "duration": 116,
    "start_time": "2023-01-15T11:38:22.853Z"
   },
   {
    "duration": 10,
    "start_time": "2023-01-15T11:38:57.942Z"
   },
   {
    "duration": 221,
    "start_time": "2023-01-15T11:39:09.873Z"
   },
   {
    "duration": 9,
    "start_time": "2023-01-15T11:39:48.639Z"
   },
   {
    "duration": 875,
    "start_time": "2023-01-15T11:40:22.142Z"
   },
   {
    "duration": 5,
    "start_time": "2023-01-15T11:40:33.487Z"
   },
   {
    "duration": 48,
    "start_time": "2023-01-15T11:40:33.493Z"
   },
   {
    "duration": 11,
    "start_time": "2023-01-15T11:40:33.543Z"
   },
   {
    "duration": 36,
    "start_time": "2023-01-15T11:40:33.555Z"
   },
   {
    "duration": 10,
    "start_time": "2023-01-15T11:40:33.593Z"
   },
   {
    "duration": 10,
    "start_time": "2023-01-15T11:40:33.604Z"
   },
   {
    "duration": 10,
    "start_time": "2023-01-15T11:40:33.615Z"
   },
   {
    "duration": 13,
    "start_time": "2023-01-15T11:40:33.626Z"
   },
   {
    "duration": 8,
    "start_time": "2023-01-15T11:40:33.641Z"
   },
   {
    "duration": 27,
    "start_time": "2023-01-15T11:40:33.651Z"
   },
   {
    "duration": 10,
    "start_time": "2023-01-15T11:40:33.680Z"
   },
   {
    "duration": 6,
    "start_time": "2023-01-15T11:40:33.691Z"
   },
   {
    "duration": 15,
    "start_time": "2023-01-15T11:40:33.698Z"
   },
   {
    "duration": 6,
    "start_time": "2023-01-15T11:40:33.714Z"
   },
   {
    "duration": 9,
    "start_time": "2023-01-15T11:40:33.722Z"
   },
   {
    "duration": 5,
    "start_time": "2023-01-15T11:40:33.733Z"
   },
   {
    "duration": 8,
    "start_time": "2023-01-15T11:40:33.740Z"
   },
   {
    "duration": 10,
    "start_time": "2023-01-15T11:40:33.749Z"
   },
   {
    "duration": 5,
    "start_time": "2023-01-15T11:40:33.760Z"
   },
   {
    "duration": 919,
    "start_time": "2023-01-15T11:40:35.795Z"
   },
   {
    "duration": 13,
    "start_time": "2023-01-15T11:41:32.680Z"
   },
   {
    "duration": 206,
    "start_time": "2023-01-15T11:42:01.109Z"
   },
   {
    "duration": 20,
    "start_time": "2023-01-15T11:43:59.903Z"
   },
   {
    "duration": 4,
    "start_time": "2023-01-15T11:44:29.036Z"
   },
   {
    "duration": 49,
    "start_time": "2023-01-15T11:44:29.042Z"
   },
   {
    "duration": 12,
    "start_time": "2023-01-15T11:44:29.093Z"
   },
   {
    "duration": 16,
    "start_time": "2023-01-15T11:44:29.106Z"
   },
   {
    "duration": 11,
    "start_time": "2023-01-15T11:44:29.124Z"
   },
   {
    "duration": 10,
    "start_time": "2023-01-15T11:44:29.136Z"
   },
   {
    "duration": 4,
    "start_time": "2023-01-15T11:44:29.148Z"
   },
   {
    "duration": 6,
    "start_time": "2023-01-15T11:44:29.153Z"
   },
   {
    "duration": 8,
    "start_time": "2023-01-15T11:44:29.160Z"
   },
   {
    "duration": 10,
    "start_time": "2023-01-15T11:44:29.169Z"
   },
   {
    "duration": 39,
    "start_time": "2023-01-15T11:44:29.180Z"
   },
   {
    "duration": 4,
    "start_time": "2023-01-15T11:44:29.220Z"
   },
   {
    "duration": 16,
    "start_time": "2023-01-15T11:44:29.226Z"
   },
   {
    "duration": 3,
    "start_time": "2023-01-15T11:44:29.244Z"
   },
   {
    "duration": 10,
    "start_time": "2023-01-15T11:44:29.249Z"
   },
   {
    "duration": 5,
    "start_time": "2023-01-15T11:44:29.261Z"
   },
   {
    "duration": 3,
    "start_time": "2023-01-15T11:44:29.268Z"
   },
   {
    "duration": 8,
    "start_time": "2023-01-15T11:44:29.273Z"
   },
   {
    "duration": 4,
    "start_time": "2023-01-15T11:44:29.283Z"
   },
   {
    "duration": 21,
    "start_time": "2023-01-15T11:44:41.410Z"
   },
   {
    "duration": 22,
    "start_time": "2023-01-15T11:47:58.927Z"
   },
   {
    "duration": 16,
    "start_time": "2023-01-15T11:48:02.321Z"
   },
   {
    "duration": 782,
    "start_time": "2023-01-15T11:48:17.796Z"
   },
   {
    "duration": 4,
    "start_time": "2023-01-15T11:48:24.215Z"
   },
   {
    "duration": 43,
    "start_time": "2023-01-15T11:48:24.220Z"
   },
   {
    "duration": 11,
    "start_time": "2023-01-15T11:48:24.265Z"
   },
   {
    "duration": 16,
    "start_time": "2023-01-15T11:48:24.278Z"
   },
   {
    "duration": 8,
    "start_time": "2023-01-15T11:48:24.295Z"
   },
   {
    "duration": 21,
    "start_time": "2023-01-15T11:48:24.304Z"
   },
   {
    "duration": 4,
    "start_time": "2023-01-15T11:48:24.326Z"
   },
   {
    "duration": 15,
    "start_time": "2023-01-15T11:48:24.332Z"
   },
   {
    "duration": 7,
    "start_time": "2023-01-15T11:48:24.348Z"
   },
   {
    "duration": 15,
    "start_time": "2023-01-15T11:48:24.356Z"
   },
   {
    "duration": 10,
    "start_time": "2023-01-15T11:48:24.373Z"
   },
   {
    "duration": 6,
    "start_time": "2023-01-15T11:48:24.384Z"
   },
   {
    "duration": 12,
    "start_time": "2023-01-15T11:48:24.391Z"
   },
   {
    "duration": 4,
    "start_time": "2023-01-15T11:48:24.414Z"
   },
   {
    "duration": 9,
    "start_time": "2023-01-15T11:48:24.420Z"
   },
   {
    "duration": 6,
    "start_time": "2023-01-15T11:48:24.430Z"
   },
   {
    "duration": 16,
    "start_time": "2023-01-15T11:48:24.437Z"
   },
   {
    "duration": 7,
    "start_time": "2023-01-15T11:48:24.454Z"
   },
   {
    "duration": 13,
    "start_time": "2023-01-15T11:48:24.463Z"
   },
   {
    "duration": 28,
    "start_time": "2023-01-15T11:48:24.477Z"
   },
   {
    "duration": 15,
    "start_time": "2023-01-15T11:48:27.259Z"
   },
   {
    "duration": 1573,
    "start_time": "2023-02-19T12:52:31.842Z"
   },
   {
    "duration": 179,
    "start_time": "2023-02-19T12:52:33.417Z"
   },
   {
    "duration": 12,
    "start_time": "2023-02-19T12:52:33.598Z"
   },
   {
    "duration": 19,
    "start_time": "2023-02-19T12:52:33.612Z"
   },
   {
    "duration": 6,
    "start_time": "2023-02-19T12:52:33.632Z"
   },
   {
    "duration": 13,
    "start_time": "2023-02-19T12:52:33.640Z"
   },
   {
    "duration": 16,
    "start_time": "2023-02-19T12:52:33.654Z"
   },
   {
    "duration": 13,
    "start_time": "2023-02-19T12:52:33.672Z"
   },
   {
    "duration": 13,
    "start_time": "2023-02-19T12:52:33.687Z"
   },
   {
    "duration": 17,
    "start_time": "2023-02-19T12:52:33.702Z"
   },
   {
    "duration": 12,
    "start_time": "2023-02-19T12:52:33.720Z"
   },
   {
    "duration": 5,
    "start_time": "2023-02-19T12:52:33.734Z"
   },
   {
    "duration": 18,
    "start_time": "2023-02-19T12:52:33.740Z"
   },
   {
    "duration": 13,
    "start_time": "2023-02-19T12:52:33.759Z"
   },
   {
    "duration": 21,
    "start_time": "2023-02-19T12:52:33.773Z"
   },
   {
    "duration": 7,
    "start_time": "2023-02-19T12:52:33.797Z"
   },
   {
    "duration": 4,
    "start_time": "2023-02-19T12:52:33.806Z"
   },
   {
    "duration": 16,
    "start_time": "2023-02-19T12:52:33.811Z"
   },
   {
    "duration": 9,
    "start_time": "2023-02-19T12:52:33.828Z"
   },
   {
    "duration": 33,
    "start_time": "2023-02-19T12:52:33.838Z"
   },
   {
    "duration": 15,
    "start_time": "2023-02-19T12:52:33.872Z"
   },
   {
    "duration": 18,
    "start_time": "2023-02-19T12:52:33.888Z"
   },
   {
    "duration": 21,
    "start_time": "2023-02-19T12:52:33.908Z"
   },
   {
    "duration": 39,
    "start_time": "2023-02-19T12:52:33.930Z"
   },
   {
    "duration": 2172,
    "start_time": "2023-02-19T12:52:33.971Z"
   },
   {
    "duration": 3,
    "start_time": "2023-02-19T12:52:36.145Z"
   },
   {
    "duration": 25,
    "start_time": "2023-02-19T12:52:36.149Z"
   },
   {
    "duration": 12,
    "start_time": "2023-02-19T12:52:36.178Z"
   },
   {
    "duration": 8,
    "start_time": "2023-02-19T12:52:36.192Z"
   },
   {
    "duration": 180,
    "start_time": "2023-02-19T12:52:36.201Z"
   },
   {
    "duration": 8,
    "start_time": "2023-02-19T12:52:36.383Z"
   },
   {
    "duration": 13,
    "start_time": "2023-02-19T12:52:36.392Z"
   },
   {
    "duration": 3439879,
    "start_time": "2023-02-19T12:52:36.406Z"
   },
   {
    "duration": 3,
    "start_time": "2023-02-19T13:49:56.287Z"
   },
   {
    "duration": 11,
    "start_time": "2023-02-19T13:49:56.292Z"
   },
   {
    "duration": 7,
    "start_time": "2023-02-19T13:49:56.305Z"
   },
   {
    "duration": 7,
    "start_time": "2023-02-19T13:49:56.314Z"
   },
   {
    "duration": 266,
    "start_time": "2023-02-19T13:49:56.322Z"
   },
   {
    "duration": 28,
    "start_time": "2023-02-19T13:49:56.590Z"
   },
   {
    "duration": 4,
    "start_time": "2023-02-19T13:49:56.619Z"
   },
   {
    "duration": 16542,
    "start_time": "2023-02-19T13:49:56.625Z"
   },
   {
    "duration": 5,
    "start_time": "2023-02-19T13:50:13.169Z"
   },
   {
    "duration": 130,
    "start_time": "2023-02-19T13:50:13.176Z"
   },
   {
    "duration": 20,
    "start_time": "2023-02-19T13:50:13.307Z"
   },
   {
    "duration": 53,
    "start_time": "2023-02-19T13:50:13.328Z"
   },
   {
    "duration": 86,
    "start_time": "2023-02-19T13:50:13.383Z"
   },
   {
    "duration": 268,
    "start_time": "2023-02-19T13:50:13.471Z"
   },
   {
    "duration": 181,
    "start_time": "2023-02-19T13:50:13.740Z"
   },
   {
    "duration": 16,
    "start_time": "2023-02-19T13:50:13.922Z"
   },
   {
    "duration": 2738,
    "start_time": "2023-02-19T13:50:13.939Z"
   },
   {
    "duration": 4,
    "start_time": "2023-02-19T13:50:16.679Z"
   },
   {
    "duration": 19,
    "start_time": "2023-02-19T13:50:16.685Z"
   },
   {
    "duration": 10,
    "start_time": "2023-02-19T13:50:16.706Z"
   },
   {
    "duration": 12,
    "start_time": "2023-02-19T13:50:16.718Z"
   },
   {
    "duration": 8,
    "start_time": "2023-02-19T13:50:16.731Z"
   },
   {
    "duration": 11,
    "start_time": "2023-02-19T13:50:16.741Z"
   },
   {
    "duration": 3406119,
    "start_time": "2023-02-19T13:50:16.753Z"
   },
   {
    "duration": 6,
    "start_time": "2023-02-19T14:47:02.878Z"
   },
   {
    "duration": 27,
    "start_time": "2023-02-19T14:47:02.886Z"
   },
   {
    "duration": 17,
    "start_time": "2023-02-19T14:47:02.915Z"
   },
   {
    "duration": 19,
    "start_time": "2023-02-19T14:47:02.934Z"
   },
   {
    "duration": 68,
    "start_time": "2023-02-19T14:47:02.955Z"
   },
   {
    "duration": 4,
    "start_time": "2023-02-19T14:47:03.025Z"
   },
   {
    "duration": 17539,
    "start_time": "2023-02-19T14:47:03.030Z"
   },
   {
    "duration": 6,
    "start_time": "2023-02-19T14:47:20.572Z"
   },
   {
    "duration": 183,
    "start_time": "2023-02-19T14:47:20.580Z"
   },
   {
    "duration": 111,
    "start_time": "2023-02-19T14:47:20.777Z"
   },
   {
    "duration": 186,
    "start_time": "2023-02-19T14:47:20.890Z"
   },
   {
    "duration": 4,
    "start_time": "2023-02-19T14:47:21.080Z"
   },
   {
    "duration": 17,
    "start_time": "2023-02-19T14:47:21.085Z"
   },
   {
    "duration": 153,
    "start_time": "2023-02-19T14:47:21.103Z"
   },
   {
    "duration": 132,
    "start_time": "2023-02-19T14:47:21.264Z"
   },
   {
    "duration": 0,
    "start_time": "2023-02-19T14:47:21.400Z"
   },
   {
    "duration": 0,
    "start_time": "2023-02-19T14:47:21.401Z"
   },
   {
    "duration": 0,
    "start_time": "2023-02-19T14:47:21.402Z"
   },
   {
    "duration": 0,
    "start_time": "2023-02-19T14:47:21.403Z"
   },
   {
    "duration": 0,
    "start_time": "2023-02-19T14:47:21.405Z"
   },
   {
    "duration": 0,
    "start_time": "2023-02-19T14:47:21.407Z"
   },
   {
    "duration": 0,
    "start_time": "2023-02-19T14:47:21.408Z"
   },
   {
    "duration": 1,
    "start_time": "2023-02-19T14:47:21.409Z"
   },
   {
    "duration": 0,
    "start_time": "2023-02-19T14:47:21.411Z"
   },
   {
    "duration": 0,
    "start_time": "2023-02-19T14:47:21.412Z"
   },
   {
    "duration": 0,
    "start_time": "2023-02-19T14:47:21.413Z"
   },
   {
    "duration": 0,
    "start_time": "2023-02-19T14:47:21.414Z"
   },
   {
    "duration": 0,
    "start_time": "2023-02-19T14:47:21.415Z"
   },
   {
    "duration": 0,
    "start_time": "2023-02-19T14:47:21.416Z"
   },
   {
    "duration": 0,
    "start_time": "2023-02-19T14:47:21.417Z"
   },
   {
    "duration": 0,
    "start_time": "2023-02-19T14:47:21.418Z"
   },
   {
    "duration": 0,
    "start_time": "2023-02-19T14:47:21.419Z"
   },
   {
    "duration": 0,
    "start_time": "2023-02-19T14:47:21.421Z"
   },
   {
    "duration": 0,
    "start_time": "2023-02-19T14:47:21.422Z"
   },
   {
    "duration": 0,
    "start_time": "2023-02-19T14:47:21.463Z"
   },
   {
    "duration": 0,
    "start_time": "2023-02-19T14:47:21.464Z"
   },
   {
    "duration": 0,
    "start_time": "2023-02-19T14:47:21.465Z"
   },
   {
    "duration": 0,
    "start_time": "2023-02-19T14:47:21.466Z"
   },
   {
    "duration": 0,
    "start_time": "2023-02-19T14:47:21.467Z"
   },
   {
    "duration": 0,
    "start_time": "2023-02-19T14:47:21.468Z"
   },
   {
    "duration": 0,
    "start_time": "2023-02-19T14:47:21.469Z"
   },
   {
    "duration": 0,
    "start_time": "2023-02-19T14:47:21.470Z"
   },
   {
    "duration": 0,
    "start_time": "2023-02-19T14:47:21.471Z"
   },
   {
    "duration": 0,
    "start_time": "2023-02-19T14:47:21.472Z"
   },
   {
    "duration": 0,
    "start_time": "2023-02-19T14:47:21.473Z"
   },
   {
    "duration": 0,
    "start_time": "2023-02-19T14:47:21.474Z"
   },
   {
    "duration": 0,
    "start_time": "2023-02-19T14:47:21.475Z"
   },
   {
    "duration": 1,
    "start_time": "2023-02-19T14:47:21.475Z"
   },
   {
    "duration": 0,
    "start_time": "2023-02-19T14:47:21.476Z"
   },
   {
    "duration": 0,
    "start_time": "2023-02-19T14:47:21.477Z"
   },
   {
    "duration": 0,
    "start_time": "2023-02-19T14:47:21.478Z"
   },
   {
    "duration": 0,
    "start_time": "2023-02-19T14:47:21.479Z"
   },
   {
    "duration": 0,
    "start_time": "2023-02-19T14:47:21.480Z"
   },
   {
    "duration": 0,
    "start_time": "2023-02-19T14:47:21.481Z"
   },
   {
    "duration": 0,
    "start_time": "2023-02-19T14:47:21.482Z"
   },
   {
    "duration": 0,
    "start_time": "2023-02-19T14:47:21.483Z"
   },
   {
    "duration": 0,
    "start_time": "2023-02-19T14:47:21.484Z"
   },
   {
    "duration": 0,
    "start_time": "2023-02-19T14:47:21.485Z"
   },
   {
    "duration": 18,
    "start_time": "2023-02-19T16:28:54.285Z"
   },
   {
    "duration": 10,
    "start_time": "2023-02-19T17:14:41.535Z"
   },
   {
    "duration": 10,
    "start_time": "2023-02-19T17:14:47.644Z"
   },
   {
    "duration": 4,
    "start_time": "2023-02-19T17:14:57.344Z"
   },
   {
    "duration": 17,
    "start_time": "2023-02-19T17:16:05.477Z"
   },
   {
    "duration": 19,
    "start_time": "2023-02-19T17:22:13.524Z"
   },
   {
    "duration": 25,
    "start_time": "2023-02-19T17:23:30.146Z"
   },
   {
    "duration": 21,
    "start_time": "2023-02-19T17:23:48.759Z"
   },
   {
    "duration": 25,
    "start_time": "2023-02-19T17:24:25.344Z"
   },
   {
    "duration": 27,
    "start_time": "2023-02-19T17:25:16.183Z"
   },
   {
    "duration": 9822,
    "start_time": "2023-02-19T17:31:05.284Z"
   },
   {
    "duration": 2135,
    "start_time": "2023-02-19T17:32:21.319Z"
   },
   {
    "duration": 5,
    "start_time": "2023-02-19T17:32:52.703Z"
   },
   {
    "duration": 19,
    "start_time": "2023-02-19T17:33:08.224Z"
   },
   {
    "duration": 17,
    "start_time": "2023-02-19T17:36:44.076Z"
   },
   {
    "duration": 56,
    "start_time": "2023-02-19T17:44:00.883Z"
   },
   {
    "duration": 70,
    "start_time": "2023-02-19T17:46:15.566Z"
   },
   {
    "duration": 48,
    "start_time": "2023-02-19T17:46:24.584Z"
   },
   {
    "duration": 419,
    "start_time": "2023-02-19T17:46:29.825Z"
   },
   {
    "duration": 377,
    "start_time": "2023-02-19T17:47:11.115Z"
   },
   {
    "duration": 16,
    "start_time": "2023-02-19T17:47:22.859Z"
   },
   {
    "duration": 57,
    "start_time": "2023-02-19T17:50:47.764Z"
   },
   {
    "duration": 19,
    "start_time": "2023-02-19T17:51:05.864Z"
   },
   {
    "duration": 18,
    "start_time": "2023-02-19T17:51:52.564Z"
   },
   {
    "duration": 18,
    "start_time": "2023-02-19T18:06:58.766Z"
   },
   {
    "duration": 14,
    "start_time": "2023-02-19T18:07:49.187Z"
   },
   {
    "duration": 10,
    "start_time": "2023-02-19T18:07:58.691Z"
   },
   {
    "duration": 7,
    "start_time": "2023-02-19T18:08:00.137Z"
   },
   {
    "duration": 9,
    "start_time": "2023-02-19T18:08:07.873Z"
   },
   {
    "duration": 8,
    "start_time": "2023-02-19T18:08:29.940Z"
   },
   {
    "duration": 6,
    "start_time": "2023-02-19T18:08:31.162Z"
   },
   {
    "duration": 10,
    "start_time": "2023-02-19T18:09:22.735Z"
   },
   {
    "duration": 5,
    "start_time": "2023-02-19T18:09:23.616Z"
   },
   {
    "duration": 2582,
    "start_time": "2023-02-19T18:09:28.219Z"
   },
   {
    "duration": 4,
    "start_time": "2023-02-19T18:09:30.803Z"
   },
   {
    "duration": 29,
    "start_time": "2023-02-19T18:09:30.808Z"
   },
   {
    "duration": 41,
    "start_time": "2023-02-19T18:09:30.839Z"
   },
   {
    "duration": 4320729,
    "start_time": "2023-02-19T18:09:30.882Z"
   },
   {
    "duration": 3,
    "start_time": "2023-02-19T19:21:31.613Z"
   },
   {
    "duration": 34,
    "start_time": "2023-02-19T19:21:31.618Z"
   },
   {
    "duration": 46,
    "start_time": "2023-02-19T19:21:31.653Z"
   },
   {
    "duration": 23,
    "start_time": "2023-02-19T19:21:31.701Z"
   },
   {
    "duration": 32,
    "start_time": "2023-02-19T19:21:31.727Z"
   },
   {
    "duration": 4,
    "start_time": "2023-02-19T19:21:31.761Z"
   },
   {
    "duration": 26995,
    "start_time": "2023-02-19T19:21:31.767Z"
   },
   {
    "duration": 7,
    "start_time": "2023-02-19T19:21:58.764Z"
   },
   {
    "duration": 100,
    "start_time": "2023-02-19T19:21:58.773Z"
   },
   {
    "duration": 96,
    "start_time": "2023-02-19T19:21:58.876Z"
   },
   {
    "duration": 253,
    "start_time": "2023-02-19T19:21:58.973Z"
   },
   {
    "duration": 5,
    "start_time": "2023-02-19T19:21:59.227Z"
   },
   {
    "duration": 15,
    "start_time": "2023-02-19T19:21:59.233Z"
   },
   {
    "duration": 166,
    "start_time": "2023-02-19T19:21:59.250Z"
   },
   {
    "duration": 8,
    "start_time": "2023-02-19T19:21:59.418Z"
   },
   {
    "duration": 6,
    "start_time": "2023-02-19T19:21:59.427Z"
   },
   {
    "duration": 1103,
    "start_time": "2023-02-19T19:21:59.435Z"
   },
   {
    "duration": 3,
    "start_time": "2023-02-19T19:22:00.540Z"
   },
   {
    "duration": 26,
    "start_time": "2023-02-19T19:22:00.545Z"
   },
   {
    "duration": 33,
    "start_time": "2023-02-19T19:22:00.572Z"
   },
   {
    "duration": 1863305,
    "start_time": "2023-02-19T19:22:00.606Z"
   },
   {
    "duration": 4,
    "start_time": "2023-02-19T19:53:03.912Z"
   },
   {
    "duration": 59,
    "start_time": "2023-02-19T19:53:03.917Z"
   },
   {
    "duration": 4,
    "start_time": "2023-02-19T19:53:03.977Z"
   },
   {
    "duration": 14683,
    "start_time": "2023-02-19T19:53:03.982Z"
   },
   {
    "duration": 9,
    "start_time": "2023-02-19T19:53:18.761Z"
   },
   {
    "duration": 100,
    "start_time": "2023-02-19T19:53:18.773Z"
   },
   {
    "duration": 95,
    "start_time": "2023-02-19T19:53:18.878Z"
   },
   {
    "duration": 167,
    "start_time": "2023-02-19T19:53:19.062Z"
   },
   {
    "duration": 4,
    "start_time": "2023-02-19T19:53:19.231Z"
   },
   {
    "duration": 17,
    "start_time": "2023-02-19T19:53:19.237Z"
   },
   {
    "duration": 180,
    "start_time": "2023-02-19T19:53:19.256Z"
   },
   {
    "duration": 117,
    "start_time": "2023-02-19T19:53:19.437Z"
   },
   {
    "duration": 7,
    "start_time": "2023-02-19T19:53:19.555Z"
   },
   {
    "duration": 127,
    "start_time": "2023-02-19T19:53:19.563Z"
   },
   {
    "duration": 4,
    "start_time": "2023-02-19T19:53:19.691Z"
   },
   {
    "duration": 132,
    "start_time": "2023-02-19T19:53:19.696Z"
   }
  ],
  "kernelspec": {
   "display_name": "Python 3 (ipykernel)",
   "language": "python",
   "name": "python3"
  },
  "language_info": {
   "codemirror_mode": {
    "name": "ipython",
    "version": 3
   },
   "file_extension": ".py",
   "mimetype": "text/x-python",
   "name": "python",
   "nbconvert_exporter": "python",
   "pygments_lexer": "ipython3",
   "version": "3.9.5"
  },
  "toc": {
   "base_numbering": 1,
   "nav_menu": {},
   "number_sections": true,
   "sideBar": true,
   "skip_h1_title": true,
   "title_cell": "Содержание",
   "title_sidebar": "Содержание",
   "toc_cell": false,
   "toc_position": {
    "height": "calc(100% - 180px)",
    "left": "10px",
    "top": "150px",
    "width": "165px"
   },
   "toc_section_display": true,
   "toc_window_display": true
  }
 },
 "nbformat": 4,
 "nbformat_minor": 2
}
